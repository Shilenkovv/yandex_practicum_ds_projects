{
 "cells": [
  {
   "cell_type": "markdown",
   "metadata": {},
   "source": [
    "# Рекомендация тарифов"
   ]
  },
  {
   "cell_type": "markdown",
   "metadata": {},
   "source": [
    "В нашем распоряжении данные о поведении клиентов, которые уже перешли на эти тарифы (из проекта курса «Статистический анализ данных»). Нужно построить модель для задачи классификации, которая выберет подходящий тариф. Предобработка данных не понадобится.\n",
    "\n",
    "Построим модель с значением *accuracy* не менее 0.75."
   ]
  },
  {
   "cell_type": "markdown",
   "metadata": {},
   "source": [
    "## Откроем и изучим файл"
   ]
  },
  {
   "cell_type": "code",
   "execution_count": 1,
   "metadata": {},
   "outputs": [],
   "source": [
    "import pandas as pd\n",
    "\n",
    "import numpy as np\n",
    "\n",
    "import matplotlib\n",
    "import matplotlib.pyplot as plt\n",
    "\n",
    "import sklearn\n",
    "from sklearn.metrics import accuracy_score\n",
    "from sklearn.model_selection import train_test_split\n",
    "from sklearn.tree import DecisionTreeClassifier\n",
    "from sklearn.ensemble import RandomForestClassifier\n",
    "from sklearn.linear_model import LogisticRegression\n",
    "from sklearn.dummy import DummyClassifier\n",
    "\n",
    "from tqdm import tqdm"
   ]
  },
  {
   "cell_type": "code",
   "execution_count": 2,
   "metadata": {},
   "outputs": [],
   "source": [
    "matplotlib.rcParams.update({'font.size': 14})"
   ]
  },
  {
   "cell_type": "code",
   "execution_count": 3,
   "metadata": {},
   "outputs": [],
   "source": [
    "df = pd.read_csv('/datasets/users_behavior.csv')"
   ]
  },
  {
   "cell_type": "code",
   "execution_count": 4,
   "metadata": {},
   "outputs": [
    {
     "data": {
      "text/html": [
       "<div>\n",
       "<style scoped>\n",
       "    .dataframe tbody tr th:only-of-type {\n",
       "        vertical-align: middle;\n",
       "    }\n",
       "\n",
       "    .dataframe tbody tr th {\n",
       "        vertical-align: top;\n",
       "    }\n",
       "\n",
       "    .dataframe thead th {\n",
       "        text-align: right;\n",
       "    }\n",
       "</style>\n",
       "<table border=\"1\" class=\"dataframe\">\n",
       "  <thead>\n",
       "    <tr style=\"text-align: right;\">\n",
       "      <th></th>\n",
       "      <th>calls</th>\n",
       "      <th>minutes</th>\n",
       "      <th>messages</th>\n",
       "      <th>mb_used</th>\n",
       "      <th>is_ultra</th>\n",
       "    </tr>\n",
       "  </thead>\n",
       "  <tbody>\n",
       "    <tr>\n",
       "      <th>0</th>\n",
       "      <td>40.0</td>\n",
       "      <td>311.90</td>\n",
       "      <td>83.0</td>\n",
       "      <td>19915.42</td>\n",
       "      <td>0</td>\n",
       "    </tr>\n",
       "    <tr>\n",
       "      <th>1</th>\n",
       "      <td>85.0</td>\n",
       "      <td>516.75</td>\n",
       "      <td>56.0</td>\n",
       "      <td>22696.96</td>\n",
       "      <td>0</td>\n",
       "    </tr>\n",
       "    <tr>\n",
       "      <th>2</th>\n",
       "      <td>77.0</td>\n",
       "      <td>467.66</td>\n",
       "      <td>86.0</td>\n",
       "      <td>21060.45</td>\n",
       "      <td>0</td>\n",
       "    </tr>\n",
       "    <tr>\n",
       "      <th>3</th>\n",
       "      <td>106.0</td>\n",
       "      <td>745.53</td>\n",
       "      <td>81.0</td>\n",
       "      <td>8437.39</td>\n",
       "      <td>1</td>\n",
       "    </tr>\n",
       "    <tr>\n",
       "      <th>4</th>\n",
       "      <td>66.0</td>\n",
       "      <td>418.74</td>\n",
       "      <td>1.0</td>\n",
       "      <td>14502.75</td>\n",
       "      <td>0</td>\n",
       "    </tr>\n",
       "  </tbody>\n",
       "</table>\n",
       "</div>"
      ],
      "text/plain": [
       "   calls  minutes  messages   mb_used  is_ultra\n",
       "0   40.0   311.90      83.0  19915.42         0\n",
       "1   85.0   516.75      56.0  22696.96         0\n",
       "2   77.0   467.66      86.0  21060.45         0\n",
       "3  106.0   745.53      81.0   8437.39         1\n",
       "4   66.0   418.74       1.0  14502.75         0"
      ]
     },
     "execution_count": 4,
     "metadata": {},
     "output_type": "execute_result"
    }
   ],
   "source": [
    "df.head()"
   ]
  },
  {
   "cell_type": "code",
   "execution_count": 5,
   "metadata": {},
   "outputs": [
    {
     "name": "stdout",
     "output_type": "stream",
     "text": [
      "<class 'pandas.core.frame.DataFrame'>\n",
      "RangeIndex: 3214 entries, 0 to 3213\n",
      "Data columns (total 5 columns):\n",
      " #   Column    Non-Null Count  Dtype  \n",
      "---  ------    --------------  -----  \n",
      " 0   calls     3214 non-null   float64\n",
      " 1   minutes   3214 non-null   float64\n",
      " 2   messages  3214 non-null   float64\n",
      " 3   mb_used   3214 non-null   float64\n",
      " 4   is_ultra  3214 non-null   int64  \n",
      "dtypes: float64(4), int64(1)\n",
      "memory usage: 125.7 KB\n"
     ]
    }
   ],
   "source": [
    "df.info()"
   ]
  },
  {
   "cell_type": "markdown",
   "metadata": {},
   "source": [
    "Пропуски отсутствуют, будем решать задачу классификации с таргетом `is_ultra`, значение 1 в которм означает наличие тарифа \"Ультра\" (0 - тариф \"Смарт\")."
   ]
  },
  {
   "cell_type": "code",
   "execution_count": 6,
   "metadata": {},
   "outputs": [
    {
     "data": {
      "text/html": [
       "<div>\n",
       "<style scoped>\n",
       "    .dataframe tbody tr th:only-of-type {\n",
       "        vertical-align: middle;\n",
       "    }\n",
       "\n",
       "    .dataframe tbody tr th {\n",
       "        vertical-align: top;\n",
       "    }\n",
       "\n",
       "    .dataframe thead th {\n",
       "        text-align: right;\n",
       "    }\n",
       "</style>\n",
       "<table border=\"1\" class=\"dataframe\">\n",
       "  <thead>\n",
       "    <tr style=\"text-align: right;\">\n",
       "      <th></th>\n",
       "      <th>calls</th>\n",
       "      <th>minutes</th>\n",
       "      <th>messages</th>\n",
       "      <th>mb_used</th>\n",
       "      <th>is_ultra</th>\n",
       "    </tr>\n",
       "  </thead>\n",
       "  <tbody>\n",
       "    <tr>\n",
       "      <th>calls</th>\n",
       "      <td>1.000000</td>\n",
       "      <td>0.982083</td>\n",
       "      <td>0.177385</td>\n",
       "      <td>0.286442</td>\n",
       "      <td>0.207122</td>\n",
       "    </tr>\n",
       "    <tr>\n",
       "      <th>minutes</th>\n",
       "      <td>0.982083</td>\n",
       "      <td>1.000000</td>\n",
       "      <td>0.173110</td>\n",
       "      <td>0.280967</td>\n",
       "      <td>0.206955</td>\n",
       "    </tr>\n",
       "    <tr>\n",
       "      <th>messages</th>\n",
       "      <td>0.177385</td>\n",
       "      <td>0.173110</td>\n",
       "      <td>1.000000</td>\n",
       "      <td>0.195721</td>\n",
       "      <td>0.203830</td>\n",
       "    </tr>\n",
       "    <tr>\n",
       "      <th>mb_used</th>\n",
       "      <td>0.286442</td>\n",
       "      <td>0.280967</td>\n",
       "      <td>0.195721</td>\n",
       "      <td>1.000000</td>\n",
       "      <td>0.198568</td>\n",
       "    </tr>\n",
       "    <tr>\n",
       "      <th>is_ultra</th>\n",
       "      <td>0.207122</td>\n",
       "      <td>0.206955</td>\n",
       "      <td>0.203830</td>\n",
       "      <td>0.198568</td>\n",
       "      <td>1.000000</td>\n",
       "    </tr>\n",
       "  </tbody>\n",
       "</table>\n",
       "</div>"
      ],
      "text/plain": [
       "             calls   minutes  messages   mb_used  is_ultra\n",
       "calls     1.000000  0.982083  0.177385  0.286442  0.207122\n",
       "minutes   0.982083  1.000000  0.173110  0.280967  0.206955\n",
       "messages  0.177385  0.173110  1.000000  0.195721  0.203830\n",
       "mb_used   0.286442  0.280967  0.195721  1.000000  0.198568\n",
       "is_ultra  0.207122  0.206955  0.203830  0.198568  1.000000"
      ]
     },
     "metadata": {},
     "output_type": "display_data"
    }
   ],
   "source": [
    "display(df.corr())"
   ]
  },
  {
   "cell_type": "code",
   "execution_count": 7,
   "metadata": {},
   "outputs": [
    {
     "data": {
      "text/html": [
       "<div>\n",
       "<style scoped>\n",
       "    .dataframe tbody tr th:only-of-type {\n",
       "        vertical-align: middle;\n",
       "    }\n",
       "\n",
       "    .dataframe tbody tr th {\n",
       "        vertical-align: top;\n",
       "    }\n",
       "\n",
       "    .dataframe thead th {\n",
       "        text-align: right;\n",
       "    }\n",
       "</style>\n",
       "<table border=\"1\" class=\"dataframe\">\n",
       "  <thead>\n",
       "    <tr style=\"text-align: right;\">\n",
       "      <th></th>\n",
       "      <th>calls</th>\n",
       "      <th>minutes</th>\n",
       "      <th>messages</th>\n",
       "      <th>mb_used</th>\n",
       "      <th>is_ultra</th>\n",
       "    </tr>\n",
       "  </thead>\n",
       "  <tbody>\n",
       "    <tr>\n",
       "      <th>0</th>\n",
       "      <td>40.0</td>\n",
       "      <td>311.90</td>\n",
       "      <td>83.0</td>\n",
       "      <td>19915.42</td>\n",
       "      <td>0</td>\n",
       "    </tr>\n",
       "    <tr>\n",
       "      <th>1</th>\n",
       "      <td>85.0</td>\n",
       "      <td>516.75</td>\n",
       "      <td>56.0</td>\n",
       "      <td>22696.96</td>\n",
       "      <td>0</td>\n",
       "    </tr>\n",
       "    <tr>\n",
       "      <th>2</th>\n",
       "      <td>77.0</td>\n",
       "      <td>467.66</td>\n",
       "      <td>86.0</td>\n",
       "      <td>21060.45</td>\n",
       "      <td>0</td>\n",
       "    </tr>\n",
       "    <tr>\n",
       "      <th>3</th>\n",
       "      <td>106.0</td>\n",
       "      <td>745.53</td>\n",
       "      <td>81.0</td>\n",
       "      <td>8437.39</td>\n",
       "      <td>1</td>\n",
       "    </tr>\n",
       "    <tr>\n",
       "      <th>4</th>\n",
       "      <td>66.0</td>\n",
       "      <td>418.74</td>\n",
       "      <td>1.0</td>\n",
       "      <td>14502.75</td>\n",
       "      <td>0</td>\n",
       "    </tr>\n",
       "  </tbody>\n",
       "</table>\n",
       "</div>"
      ],
      "text/plain": [
       "   calls  minutes  messages   mb_used  is_ultra\n",
       "0   40.0   311.90      83.0  19915.42         0\n",
       "1   85.0   516.75      56.0  22696.96         0\n",
       "2   77.0   467.66      86.0  21060.45         0\n",
       "3  106.0   745.53      81.0   8437.39         1\n",
       "4   66.0   418.74       1.0  14502.75         0"
      ]
     },
     "execution_count": 7,
     "metadata": {},
     "output_type": "execute_result"
    }
   ],
   "source": [
    "df.head()"
   ]
  },
  {
   "cell_type": "markdown",
   "metadata": {},
   "source": [
    "## Разобьём данные на выборки"
   ]
  },
  {
   "cell_type": "code",
   "execution_count": 8,
   "metadata": {},
   "outputs": [],
   "source": [
    "features = df.drop('is_ultra', axis=1)\n",
    "target = df['is_ultra']"
   ]
  },
  {
   "cell_type": "code",
   "execution_count": 9,
   "metadata": {},
   "outputs": [],
   "source": [
    "# Разобьём данные на три выборки, используя стратификацию\n",
    "features_tav, features_test, target_tav, target_test = train_test_split(features, target, test_size=0.2, random_state=11363, stratify=target)\n",
    "features_train, features_valid, target_train, target_valid = train_test_split(features_tav, target_tav, test_size=0.25, random_state=11363, stratify=target_tav)"
   ]
  },
  {
   "cell_type": "code",
   "execution_count": 10,
   "metadata": {},
   "outputs": [
    {
     "name": "stdout",
     "output_type": "stream",
     "text": [
      "0.5998755444928439\n",
      "0.2000622277535781\n",
      "0.2000622277535781\n"
     ]
    }
   ],
   "source": [
    "print(len(features_train)/len(df))\n",
    "print(len(features_test)/len(df))\n",
    "print(len(features_valid)/len(df))"
   ]
  },
  {
   "cell_type": "code",
   "execution_count": 11,
   "metadata": {},
   "outputs": [
    {
     "name": "stdout",
     "output_type": "stream",
     "text": [
      "Количество строк в target_train по классам: [1337  591]\n",
      "Количество строк в target_valid по классам: [446 197]\n",
      "Количество строк в target_test по классам: [446 197]\n"
     ]
    }
   ],
   "source": [
    "print(f\"Количество строк в target_train по классам: {np.bincount(target_train)}\")\n",
    "print(f\"Количество строк в target_valid по классам: {np.bincount(target_valid)}\")\n",
    "print(f\"Количество строк в target_test по классам: {np.bincount(target_test)}\")"
   ]
  },
  {
   "cell_type": "markdown",
   "metadata": {},
   "source": [
    "## Исследуем модели"
   ]
  },
  {
   "cell_type": "code",
   "execution_count": 12,
   "metadata": {},
   "outputs": [
    {
     "name": "stderr",
     "output_type": "stream",
     "text": [
      "100%|██████████| 20/20 [00:00<00:00, 91.89it/s] "
     ]
    },
    {
     "name": "stdout",
     "output_type": "stream",
     "text": [
      "Лучшая модель c глубиной 7 имеет Accuracy: 0.792\n"
     ]
    },
    {
     "name": "stderr",
     "output_type": "stream",
     "text": [
      "\n"
     ]
    }
   ],
   "source": [
    "# В качестве первой модели используем дерево решений c глубиной 1-20\n",
    "best_model_tree = None\n",
    "best_result_tree = 0\n",
    "best_depth_tree = 0\n",
    "train_plot = []\n",
    "valid_plot = []\n",
    "ticks = []\n",
    "for depth in tqdm(range(1, 21)):\n",
    "    model = DecisionTreeClassifier(random_state=11363, max_depth=depth)\n",
    "    model.fit(features_train, target_train)\n",
    "    predictions_train = model.predict(features_train)\n",
    "    result = accuracy_score(target_train, predictions_train)\n",
    "    train_plot.append(result)\n",
    "    predictions_valid = model.predict(features_valid)\n",
    "    result = accuracy_score(target_valid, predictions_valid)\n",
    "    valid_plot.append(result)\n",
    "    ticks.append(depth)\n",
    "    if result > best_result_tree:\n",
    "        best_model_tree = model\n",
    "        best_result_tree = result\n",
    "        best_depth_tree = depth\n",
    "print(f'Лучшая модель c глубиной {best_depth_tree} имеет Accuracy: {best_result_tree:.3f}')"
   ]
  },
  {
   "cell_type": "code",
   "execution_count": 13,
   "metadata": {},
   "outputs": [
    {
     "name": "stdout",
     "output_type": "stream",
     "text": [
      "CPU times: user 44.8 ms, sys: 74 µs, total: 44.9 ms\n",
      "Wall time: 53.6 ms\n"
     ]
    },
    {
     "data": {
      "text/plain": [
       "<function matplotlib.pyplot.show(close=None, block=None)>"
      ]
     },
     "execution_count": 13,
     "metadata": {},
     "output_type": "execute_result"
    },
    {
     "data": {
      "image/png": "[encoded data removed]",
      "text/plain": [
       "<Figure size 1080x540 with 1 Axes>"
      ]
     },
     "metadata": {
      "needs_background": "light"
     },
     "output_type": "display_data"
    }
   ],
   "source": [
    "%%time\n",
    "plt.figure(figsize=(15, 7.5))\n",
    "plt.plot(ticks, train_plot)\n",
    "plt.plot(ticks, valid_plot)\n",
    "\n",
    "\n",
    "plt.title('Уровень Accuracy модели дерева решений в зависимости от максимальной глубины')\n",
    "plt.xlabel('Максимальная глубина')\n",
    "plt.ylabel('Accuracy')\n",
    "plt.legend(['Train dataset', 'Validation dataset'])\n",
    "plt.xticks(ticks)\n",
    "\n",
    "plt.show;"
   ]
  },
  {
   "cell_type": "markdown",
   "metadata": {},
   "source": [
    "График наглядно демонстрирует фактор переобучения модели с ростом максимальной глубины.  \n",
    "Иными словами: с увеличением максимальной глубины дерева решений, точность предсказания растёт на тренировочных данных, но падает на валидационных."
   ]
  },
  {
   "cell_type": "code",
   "execution_count": 14,
   "metadata": {},
   "outputs": [
    {
     "data": {
      "image/png": "[encoded data removed]",
      "text/plain": [
       "<Figure size 2160x1440 with 1 Axes>"
      ]
     },
     "metadata": {
      "needs_background": "light"
     },
     "output_type": "display_data"
    }
   ],
   "source": [
    "model = DecisionTreeClassifier(random_state=11363, max_depth=3, min_samples_split=2, criterion='entropy')\n",
    "model.fit(features_train, target_train)\n",
    "plt.figure(figsize=(30,20))\n",
    "sklearn.tree.plot_tree(model, feature_names=features_train.columns, filled=True, proportion=True, rounded=True, fontsize=17);"
   ]
  },
  {
   "cell_type": "code",
   "execution_count": 22,
   "metadata": {},
   "outputs": [
    {
     "name": "stderr",
     "output_type": "stream",
     "text": [
      "100%|██████████| 10/10 [00:15<00:00,  1.53s/it]"
     ]
    },
    {
     "name": "stdout",
     "output_type": "stream",
     "text": [
      "Лучшая модель с количеством деревьев 40 и глубиной 9 имеет Accuracy: 0.813\n"
     ]
    },
    {
     "name": "stderr",
     "output_type": "stream",
     "text": [
      "\n"
     ]
    }
   ],
   "source": [
    "# Применим случайный лес с количеством деревьев 10 - 100 с шагом в 10 и глубиной в диапазоне 1-10\n",
    "best_model_forest = None\n",
    "best_result_forest = 0\n",
    "best_depth_forest = 0\n",
    "best_est_forest = 0\n",
    "for est in tqdm(range(10, 101, 10)):\n",
    "    for depth in range(1, 11):\n",
    "        model = RandomForestClassifier(random_state=11363, n_estimators=est, max_depth=depth)\n",
    "        model.fit(features_train, target_train)\n",
    "        predictions_valid = model.predict(features_valid)\n",
    "        result = accuracy_score(target_valid, predictions_valid)\n",
    "        if result > best_result_forest:\n",
    "            best_model_forest = model\n",
    "            best_result_forest = result\n",
    "            best_est_forest = est\n",
    "            best_depth_forest = depth\n",
    "print(f'Лучшая модель с количеством деревьев {best_est_forest} и глубиной {best_depth_forest} имеет Accuracy: {best_result_forest:.3f}')\n"
   ]
  },
  {
   "cell_type": "code",
   "execution_count": 16,
   "metadata": {},
   "outputs": [
    {
     "name": "stderr",
     "output_type": "stream",
     "text": [
      "100%|██████████| 18/18 [00:07<00:00,  2.56it/s]"
     ]
    },
    {
     "name": "stdout",
     "output_type": "stream",
     "text": [
      "Лучшая модель логистической регрессии имеет количество итерраций 150, коэффициент регуляризации 1.0 Accuracy: 0.747\n"
     ]
    },
    {
     "name": "stderr",
     "output_type": "stream",
     "text": [
      "\n"
     ]
    }
   ],
   "source": [
    "# Применим модель логистической регрессии с перебором количества итерраций и коэффициента регуляризации\n",
    "best_model_log = None\n",
    "best_result_log = 0\n",
    "best_iter_log = 0\n",
    "best_ck_log = 0\n",
    "for n_iter in tqdm(range(150, 1001, 50)):\n",
    "    ck = 1.0\n",
    "    while ck > 0.1:\n",
    "        model = LogisticRegression(random_state=36311, solver='lbfgs', max_iter=n_iter, C=ck)\n",
    "        model.fit(features_train, target_train)\n",
    "        predictions_valid = model.predict(features_valid)\n",
    "        result = accuracy_score(target_valid, predictions_valid)\n",
    "        if result > best_result_log:\n",
    "            best_model_log = model\n",
    "            best_result_log = result\n",
    "            best_iter_log = n_iter\n",
    "            best_ck_log = ck\n",
    "        ck -= 0.1\n",
    "print(f'Лучшая модель логистической регрессии имеет количество итерраций {best_iter_log}, коэффициент регуляризации {best_ck_log} Accuracy: {best_result_log:.3f}')"
   ]
  },
  {
   "cell_type": "markdown",
   "metadata": {},
   "source": [
    "**Лучше всего себя показала модель RandomForest с количеством деревьев 40 и глубиной 9, Accuracy ~ 0.813**."
   ]
  },
  {
   "cell_type": "markdown",
   "metadata": {},
   "source": [
    "## Проверим модель на тестовой выборке"
   ]
  },
  {
   "cell_type": "code",
   "execution_count": 17,
   "metadata": {},
   "outputs": [
    {
     "name": "stdout",
     "output_type": "stream",
     "text": [
      "Модель RandomForestClassifier(max_depth=9, n_estimators=40, random_state=11363) \n",
      "выполняет задачу классификации на тестовой выборке с Accuracy: 0.820\n"
     ]
    }
   ],
   "source": [
    "model = best_model_forest\n",
    "#model.fit(features_train, target_train) # Здесь же было необходимо ещё раз передать тренировочные данные?\n",
    "predictions_test = model.predict(features_test)\n",
    "result_test = accuracy_score(target_test, predictions_test)\n",
    "print(f'Модель {model} \\nвыполняет задачу классификации на тестовой выборке с Accuracy: {result_test:.3f}')"
   ]
  },
  {
   "cell_type": "code",
   "execution_count": 18,
   "metadata": {},
   "outputs": [
    {
     "name": "stdout",
     "output_type": "stream",
     "text": [
      "Модель RandomForestClassifier(max_depth=9, n_estimators=40, random_state=11363), \n",
      "обученная на тренировочных + валидационных данных, \n",
      "выполняет задачу классификации на тестовой выборке с Accuracy: 0.820\n"
     ]
    }
   ],
   "source": [
    "model = best_model_forest\n",
    "model.fit(features_tav, target_tav)\n",
    "predictions_test = model.predict(features_test)\n",
    "result = accuracy_score(target_test, predictions_test)\n",
    "print(f'Модель {model}, \\nобученная на тренировочных + валидационных данных, \\nвыполняет задачу классификации на тестовой выборке с Accuracy: {result_test:.3f}')"
   ]
  },
  {
   "cell_type": "markdown",
   "metadata": {},
   "source": [
    "## Проверим модель на адекватность"
   ]
  },
  {
   "cell_type": "code",
   "execution_count": 19,
   "metadata": {},
   "outputs": [
    {
     "data": {
      "text/plain": [
       "0    2229\n",
       "1     985\n",
       "Name: is_ultra, dtype: int64"
      ]
     },
     "execution_count": 19,
     "metadata": {},
     "output_type": "execute_result"
    }
   ],
   "source": [
    "# Посмотрим на распределение значений таргета в полном датасете\n",
    "df['is_ultra'].value_counts()"
   ]
  },
  {
   "cell_type": "code",
   "execution_count": 20,
   "metadata": {},
   "outputs": [
    {
     "name": "stdout",
     "output_type": "stream",
     "text": [
      "Константная модель имеет Accuracy: 0.694\n"
     ]
    }
   ],
   "source": [
    "# Создадим константую модель по метке наибольшего класса и оценим её качество\n",
    "dummy_clsf = DummyClassifier(strategy='most_frequent')\n",
    "dummy_clsf.fit(features_test, target_test)\n",
    "dummy_clsf.predict(features_test)\n",
    "result_dummy = dummy_clsf.score(features_test, target_test)\n",
    "print(f'Константная модель имеет Accuracy: {result_dummy:.3f}')"
   ]
  },
  {
   "cell_type": "markdown",
   "metadata": {},
   "source": [
    "Константная модель уступает лучшей модели в Accuracy ~ 0.694 против 0.820 на тестовой выборке."
   ]
  },
  {
   "cell_type": "markdown",
   "metadata": {},
   "source": [
    "## Вывод:  \n",
    "В нашем распоряжении распоряжении данные о поведении клиентов, которые уже используют активные тарифы сотового оператора.\n",
    "С учётом необходимости построения модели классификации для выбора подходящих тарифов, данные были разделены на три выборки (train, validation, test) с учётом стратификации.  \n",
    "\n",
    "Было протестировано три модели с различным набором гиперпараметров (Decision Tree, Random Forest, Logostic Regression).  \n",
    "На валидационных данных наилучший уровень Accuracy 0.813 показала модель RF с количеством деревьев 40 и максимальной глубиной 9.  \n",
    "После чего мы обучили модель на выборке train+validation, показатель Accuracy для тестовой выборки составил 0.820, что превышает Accuracy DummyClassifier'а (0.694).  \n",
    "\n",
    "**Построенную модель рекомендуется использовать для повышения уровня действующих тарифов (upsale) посредством CRM кампаний.**"
   ]
  }
 ],
 "metadata": {
  "ExecuteTimeLog": [
   {
    "duration": 1025,
    "start_time": "2023-03-17T00:20:28.001Z"
   },
   {
    "duration": 162,
    "start_time": "2023-03-17T00:20:30.645Z"
   },
   {
    "duration": 16,
    "start_time": "2023-03-17T00:20:32.514Z"
   },
   {
    "duration": 9,
    "start_time": "2023-03-17T00:20:45.246Z"
   },
   {
    "duration": 92,
    "start_time": "2023-03-17T00:27:53.763Z"
   },
   {
    "duration": 3,
    "start_time": "2023-03-17T00:27:57.131Z"
   },
   {
    "duration": 9,
    "start_time": "2023-03-17T00:27:58.990Z"
   },
   {
    "duration": 4,
    "start_time": "2023-03-17T00:29:10.602Z"
   },
   {
    "duration": 6,
    "start_time": "2023-03-17T00:30:22.447Z"
   },
   {
    "duration": 8,
    "start_time": "2023-03-17T00:30:40.592Z"
   },
   {
    "duration": 9,
    "start_time": "2023-03-17T00:30:47.465Z"
   },
   {
    "duration": 8,
    "start_time": "2023-03-17T00:30:54.291Z"
   },
   {
    "duration": 7,
    "start_time": "2023-03-17T00:30:58.503Z"
   },
   {
    "duration": 7,
    "start_time": "2023-03-17T00:31:04.598Z"
   },
   {
    "duration": 9,
    "start_time": "2023-03-17T00:31:06.190Z"
   },
   {
    "duration": 20,
    "start_time": "2023-03-17T00:31:32.346Z"
   },
   {
    "duration": 8,
    "start_time": "2023-03-17T00:31:48.044Z"
   },
   {
    "duration": 4,
    "start_time": "2023-03-17T00:31:58.197Z"
   },
   {
    "duration": 4,
    "start_time": "2023-03-17T00:32:25.966Z"
   },
   {
    "duration": 3,
    "start_time": "2023-03-17T00:32:52.331Z"
   },
   {
    "duration": 4,
    "start_time": "2023-03-17T00:33:08.377Z"
   },
   {
    "duration": 4,
    "start_time": "2023-03-17T00:33:41.209Z"
   },
   {
    "duration": 8,
    "start_time": "2023-03-17T00:34:08.347Z"
   },
   {
    "duration": 4,
    "start_time": "2023-03-17T00:34:21.031Z"
   },
   {
    "duration": 5,
    "start_time": "2023-03-17T00:36:25.331Z"
   },
   {
    "duration": 3,
    "start_time": "2023-03-17T00:36:29.065Z"
   },
   {
    "duration": 60,
    "start_time": "2023-03-17T00:42:44.292Z"
   },
   {
    "duration": 65,
    "start_time": "2023-03-17T00:43:34.803Z"
   },
   {
    "duration": 65,
    "start_time": "2023-03-17T00:44:39.071Z"
   },
   {
    "duration": 61,
    "start_time": "2023-03-17T00:44:53.324Z"
   },
   {
    "duration": 69,
    "start_time": "2023-03-17T00:45:04.358Z"
   },
   {
    "duration": 12141,
    "start_time": "2023-03-17T00:56:16.870Z"
   },
   {
    "duration": 2873084,
    "start_time": "2023-03-17T00:58:23.405Z"
   },
   {
    "duration": 14094,
    "start_time": "2023-03-17T01:47:03.263Z"
   },
   {
    "duration": 12663,
    "start_time": "2023-03-17T01:49:26.329Z"
   },
   {
    "duration": 1111,
    "start_time": "2023-03-17T01:55:06.401Z"
   },
   {
    "duration": 1132,
    "start_time": "2023-03-17T01:55:14.967Z"
   },
   {
    "duration": 121,
    "start_time": "2023-03-17T01:55:31.866Z"
   },
   {
    "duration": 120,
    "start_time": "2023-03-17T01:55:38.549Z"
   },
   {
    "duration": 102,
    "start_time": "2023-03-17T01:55:51.845Z"
   },
   {
    "duration": 117,
    "start_time": "2023-03-17T01:56:38.343Z"
   },
   {
    "duration": 102,
    "start_time": "2023-03-17T01:56:57.852Z"
   },
   {
    "duration": 10,
    "start_time": "2023-03-17T02:25:57.752Z"
   },
   {
    "duration": 1009,
    "start_time": "2023-03-17T02:27:50.830Z"
   },
   {
    "duration": 1087,
    "start_time": "2023-03-17T02:34:12.954Z"
   },
   {
    "duration": 28,
    "start_time": "2023-03-17T02:34:14.042Z"
   },
   {
    "duration": 13,
    "start_time": "2023-03-17T02:34:14.071Z"
   },
   {
    "duration": 9,
    "start_time": "2023-03-17T02:34:14.085Z"
   },
   {
    "duration": 4,
    "start_time": "2023-03-17T02:34:14.095Z"
   },
   {
    "duration": 7,
    "start_time": "2023-03-17T02:34:14.100Z"
   },
   {
    "duration": 4,
    "start_time": "2023-03-17T02:34:14.108Z"
   },
   {
    "duration": 83,
    "start_time": "2023-03-17T02:34:14.113Z"
   },
   {
    "duration": 11443,
    "start_time": "2023-03-17T02:34:14.198Z"
   },
   {
    "duration": 110,
    "start_time": "2023-03-17T02:34:25.643Z"
   },
   {
    "duration": 1013,
    "start_time": "2023-03-17T02:34:44.607Z"
   },
   {
    "duration": 980,
    "start_time": "2023-03-17T02:34:54.368Z"
   },
   {
    "duration": 86,
    "start_time": "2023-03-17T02:37:17.166Z"
   },
   {
    "duration": 68,
    "start_time": "2023-03-17T02:37:23.359Z"
   },
   {
    "duration": 236,
    "start_time": "2023-03-17T02:39:43.406Z"
   },
   {
    "duration": 1215,
    "start_time": "2023-03-17T02:41:58.796Z"
   },
   {
    "duration": 1147,
    "start_time": "2023-03-17T02:43:26.556Z"
   },
   {
    "duration": 5,
    "start_time": "2023-03-17T02:45:58.787Z"
   },
   {
    "duration": 14,
    "start_time": "2023-03-17T02:46:50.108Z"
   },
   {
    "duration": 14,
    "start_time": "2023-03-17T02:47:51.238Z"
   },
   {
    "duration": 3,
    "start_time": "2023-03-17T02:48:27.341Z"
   },
   {
    "duration": 4,
    "start_time": "2023-03-17T02:48:44.429Z"
   },
   {
    "duration": 8,
    "start_time": "2023-03-17T02:48:57.689Z"
   },
   {
    "duration": 504,
    "start_time": "2023-03-17T02:49:04.543Z"
   },
   {
    "duration": 4,
    "start_time": "2023-03-17T02:49:10.169Z"
   },
   {
    "duration": 8,
    "start_time": "2023-03-17T02:50:31.174Z"
   },
   {
    "duration": 7,
    "start_time": "2023-03-17T02:50:53.493Z"
   },
   {
    "duration": 4,
    "start_time": "2023-03-17T02:51:00.009Z"
   },
   {
    "duration": 8,
    "start_time": "2023-03-17T02:51:14.886Z"
   },
   {
    "duration": 913,
    "start_time": "2023-03-17T02:52:17.411Z"
   },
   {
    "duration": 10,
    "start_time": "2023-03-17T02:52:55.567Z"
   },
   {
    "duration": 4,
    "start_time": "2023-03-17T02:53:03.645Z"
   },
   {
    "duration": 9,
    "start_time": "2023-03-17T02:53:09.972Z"
   },
   {
    "duration": 10,
    "start_time": "2023-03-17T02:53:22.248Z"
   },
   {
    "duration": 81,
    "start_time": "2023-03-17T02:54:02.835Z"
   },
   {
    "duration": 12,
    "start_time": "2023-03-17T02:54:09.281Z"
   },
   {
    "duration": 84,
    "start_time": "2023-03-17T02:54:38.005Z"
   },
   {
    "duration": 108,
    "start_time": "2023-03-17T02:54:55.921Z"
   },
   {
    "duration": 85,
    "start_time": "2023-03-17T02:54:59.777Z"
   },
   {
    "duration": 9,
    "start_time": "2023-03-17T02:57:03.456Z"
   },
   {
    "duration": 10,
    "start_time": "2023-03-17T02:59:14.271Z"
   },
   {
    "duration": 7,
    "start_time": "2023-03-17T02:59:22.225Z"
   },
   {
    "duration": 5,
    "start_time": "2023-03-17T02:59:28.172Z"
   },
   {
    "duration": 4,
    "start_time": "2023-03-17T03:00:24.963Z"
   },
   {
    "duration": 3,
    "start_time": "2023-03-17T03:01:42.983Z"
   },
   {
    "duration": 9,
    "start_time": "2023-03-17T03:01:47.336Z"
   },
   {
    "duration": 723,
    "start_time": "2023-03-17T03:02:01.315Z"
   },
   {
    "duration": 6,
    "start_time": "2023-03-17T03:02:10.299Z"
   },
   {
    "duration": 9,
    "start_time": "2023-03-17T03:02:16.964Z"
   },
   {
    "duration": 4,
    "start_time": "2023-03-17T03:02:22.002Z"
   },
   {
    "duration": 37,
    "start_time": "2023-03-17T03:02:22.008Z"
   },
   {
    "duration": 8,
    "start_time": "2023-03-17T03:02:22.047Z"
   },
   {
    "duration": 9,
    "start_time": "2023-03-17T03:02:22.056Z"
   },
   {
    "duration": 4,
    "start_time": "2023-03-17T03:02:22.067Z"
   },
   {
    "duration": 10,
    "start_time": "2023-03-17T03:02:22.072Z"
   },
   {
    "duration": 8,
    "start_time": "2023-03-17T03:02:22.083Z"
   },
   {
    "duration": 1110,
    "start_time": "2023-03-17T03:02:22.093Z"
   },
   {
    "duration": 11854,
    "start_time": "2023-03-17T03:02:23.204Z"
   },
   {
    "duration": 1089,
    "start_time": "2023-03-17T03:02:35.060Z"
   },
   {
    "duration": 97,
    "start_time": "2023-03-17T03:02:36.150Z"
   },
   {
    "duration": 5,
    "start_time": "2023-03-17T03:02:36.248Z"
   },
   {
    "duration": 33,
    "start_time": "2023-03-17T03:02:36.255Z"
   },
   {
    "duration": 4,
    "start_time": "2023-03-17T03:02:43.674Z"
   },
   {
    "duration": 3,
    "start_time": "2023-03-17T03:04:13.541Z"
   },
   {
    "duration": 8,
    "start_time": "2023-03-17T03:04:24.366Z"
   },
   {
    "duration": 5,
    "start_time": "2023-03-17T03:04:26.647Z"
   },
   {
    "duration": 5,
    "start_time": "2023-03-17T03:06:27.015Z"
   },
   {
    "duration": 3,
    "start_time": "2023-03-17T03:07:20.491Z"
   },
   {
    "duration": 13686,
    "start_time": "2023-03-17T03:09:03.779Z"
   },
   {
    "duration": 13127,
    "start_time": "2023-03-17T03:09:26.962Z"
   },
   {
    "duration": 26,
    "start_time": "2023-03-17T03:09:55.533Z"
   },
   {
    "duration": 12942,
    "start_time": "2023-03-17T03:10:09.532Z"
   },
   {
    "duration": 12448,
    "start_time": "2023-03-17T03:10:36.505Z"
   },
   {
    "duration": 92,
    "start_time": "2023-03-17T03:12:23.971Z"
   },
   {
    "duration": 1076,
    "start_time": "2023-03-17T03:13:34.245Z"
   },
   {
    "duration": 32,
    "start_time": "2023-03-17T03:13:35.324Z"
   },
   {
    "duration": 23,
    "start_time": "2023-03-17T03:13:35.357Z"
   },
   {
    "duration": 14,
    "start_time": "2023-03-17T03:13:35.383Z"
   },
   {
    "duration": 4,
    "start_time": "2023-03-17T03:13:35.399Z"
   },
   {
    "duration": 7,
    "start_time": "2023-03-17T03:13:35.405Z"
   },
   {
    "duration": 12,
    "start_time": "2023-03-17T03:13:35.414Z"
   },
   {
    "duration": 1342,
    "start_time": "2023-03-17T03:13:35.428Z"
   },
   {
    "duration": 11821,
    "start_time": "2023-03-17T03:13:36.772Z"
   },
   {
    "duration": 940,
    "start_time": "2023-03-17T03:13:48.595Z"
   },
   {
    "duration": 86,
    "start_time": "2023-03-17T03:13:49.536Z"
   },
   {
    "duration": 4,
    "start_time": "2023-03-17T03:13:49.624Z"
   },
   {
    "duration": 5,
    "start_time": "2023-03-17T03:13:49.629Z"
   },
   {
    "duration": 7,
    "start_time": "2023-03-17T03:13:49.635Z"
   },
   {
    "duration": 10,
    "start_time": "2023-03-17T03:14:29.764Z"
   },
   {
    "duration": 81,
    "start_time": "2023-03-17T03:14:52.354Z"
   },
   {
    "duration": 3,
    "start_time": "2023-03-17T03:15:32.772Z"
   },
   {
    "duration": 1391,
    "start_time": "2023-03-17T03:26:52.586Z"
   },
   {
    "duration": 28,
    "start_time": "2023-03-17T03:26:53.979Z"
   },
   {
    "duration": 15,
    "start_time": "2023-03-17T03:26:54.008Z"
   },
   {
    "duration": 10,
    "start_time": "2023-03-17T03:26:54.024Z"
   },
   {
    "duration": 4,
    "start_time": "2023-03-17T03:26:54.036Z"
   },
   {
    "duration": 8,
    "start_time": "2023-03-17T03:26:54.042Z"
   },
   {
    "duration": 5,
    "start_time": "2023-03-17T03:26:54.052Z"
   },
   {
    "duration": 1147,
    "start_time": "2023-03-17T03:26:54.058Z"
   },
   {
    "duration": 12709,
    "start_time": "2023-03-17T03:26:55.208Z"
   },
   {
    "duration": 1069,
    "start_time": "2023-03-17T03:27:07.918Z"
   },
   {
    "duration": 99,
    "start_time": "2023-03-17T03:27:08.989Z"
   },
   {
    "duration": 6,
    "start_time": "2023-03-17T03:27:09.090Z"
   },
   {
    "duration": 21,
    "start_time": "2023-03-17T03:27:09.097Z"
   },
   {
    "duration": 11,
    "start_time": "2023-03-17T03:27:09.121Z"
   },
   {
    "duration": 93,
    "start_time": "2023-03-17T03:27:39.590Z"
   },
   {
    "duration": 90,
    "start_time": "2023-03-17T03:27:52.169Z"
   },
   {
    "duration": 91,
    "start_time": "2023-03-17T03:28:01.917Z"
   },
   {
    "duration": 1961,
    "start_time": "2023-03-17T06:18:48.166Z"
   },
   {
    "duration": 129,
    "start_time": "2023-03-17T06:18:50.129Z"
   },
   {
    "duration": 19,
    "start_time": "2023-03-17T06:18:50.260Z"
   },
   {
    "duration": 13,
    "start_time": "2023-03-17T06:18:50.281Z"
   },
   {
    "duration": 17,
    "start_time": "2023-03-17T06:18:50.297Z"
   },
   {
    "duration": 22,
    "start_time": "2023-03-17T06:18:50.316Z"
   },
   {
    "duration": 20,
    "start_time": "2023-03-17T06:18:50.339Z"
   },
   {
    "duration": 1305,
    "start_time": "2023-03-17T06:18:50.361Z"
   },
   {
    "duration": 14070,
    "start_time": "2023-03-17T06:18:51.668Z"
   },
   {
    "duration": 1554,
    "start_time": "2023-03-17T06:19:05.740Z"
   },
   {
    "duration": 100,
    "start_time": "2023-03-17T06:19:07.296Z"
   },
   {
    "duration": 6,
    "start_time": "2023-03-17T06:19:07.399Z"
   },
   {
    "duration": 20,
    "start_time": "2023-03-17T06:19:07.407Z"
   },
   {
    "duration": 38,
    "start_time": "2023-03-17T06:19:07.430Z"
   },
   {
    "duration": 88,
    "start_time": "2023-03-17T06:20:48.564Z"
   },
   {
    "duration": 1297,
    "start_time": "2023-03-17T16:45:04.546Z"
   },
   {
    "duration": 4,
    "start_time": "2023-03-17T16:45:55.656Z"
   },
   {
    "duration": 4,
    "start_time": "2023-03-17T16:50:09.094Z"
   },
   {
    "duration": 87,
    "start_time": "2023-03-17T16:50:09.100Z"
   },
   {
    "duration": 18,
    "start_time": "2023-03-17T16:50:09.189Z"
   },
   {
    "duration": 12,
    "start_time": "2023-03-17T16:50:09.209Z"
   },
   {
    "duration": 13,
    "start_time": "2023-03-17T16:50:09.223Z"
   },
   {
    "duration": 10,
    "start_time": "2023-03-17T16:50:09.237Z"
   },
   {
    "duration": 5,
    "start_time": "2023-03-17T16:50:09.248Z"
   },
   {
    "duration": 1287,
    "start_time": "2023-03-17T16:50:09.254Z"
   },
   {
    "duration": 6,
    "start_time": "2023-03-17T16:50:10.542Z"
   },
   {
    "duration": 1219,
    "start_time": "2023-03-19T02:53:59.272Z"
   },
   {
    "duration": 154,
    "start_time": "2023-03-19T02:54:00.493Z"
   },
   {
    "duration": 28,
    "start_time": "2023-03-19T02:54:00.650Z"
   },
   {
    "duration": 28,
    "start_time": "2023-03-19T02:54:00.681Z"
   },
   {
    "duration": 27,
    "start_time": "2023-03-19T02:54:00.713Z"
   },
   {
    "duration": 37,
    "start_time": "2023-03-19T02:54:00.742Z"
   },
   {
    "duration": 52,
    "start_time": "2023-03-19T02:54:00.781Z"
   },
   {
    "duration": 1370,
    "start_time": "2023-03-19T02:54:00.835Z"
   },
   {
    "duration": 14442,
    "start_time": "2023-03-19T02:54:04.929Z"
   },
   {
    "duration": 302,
    "start_time": "2023-03-19T02:55:10.450Z"
   },
   {
    "duration": 263,
    "start_time": "2023-03-19T02:55:32.614Z"
   },
   {
    "duration": 785,
    "start_time": "2023-03-19T02:58:02.258Z"
   },
   {
    "duration": 753,
    "start_time": "2023-03-19T02:58:13.433Z"
   },
   {
    "duration": 15,
    "start_time": "2023-03-19T03:03:15.356Z"
   },
   {
    "duration": 144,
    "start_time": "2023-03-19T03:04:07.091Z"
   },
   {
    "duration": 142,
    "start_time": "2023-03-19T03:04:20.267Z"
   },
   {
    "duration": 55,
    "start_time": "2023-03-19T03:06:15.730Z"
   },
   {
    "duration": 110,
    "start_time": "2023-03-19T03:08:24.751Z"
   },
   {
    "duration": 112,
    "start_time": "2023-03-19T03:08:35.889Z"
   },
   {
    "duration": 114,
    "start_time": "2023-03-19T03:08:46.050Z"
   },
   {
    "duration": 127,
    "start_time": "2023-03-19T03:11:58.887Z"
   },
   {
    "duration": 249,
    "start_time": "2023-03-19T03:13:32.849Z"
   },
   {
    "duration": 101,
    "start_time": "2023-03-19T03:13:52.445Z"
   },
   {
    "duration": 10,
    "start_time": "2023-03-19T03:14:02.292Z"
   },
   {
    "duration": 812,
    "start_time": "2023-03-19T03:14:41.384Z"
   },
   {
    "duration": 2682,
    "start_time": "2023-03-19T03:15:01.277Z"
   },
   {
    "duration": 27,
    "start_time": "2023-03-19T03:16:01.597Z"
   },
   {
    "duration": 992,
    "start_time": "2023-03-19T03:16:42.807Z"
   },
   {
    "duration": 17,
    "start_time": "2023-03-19T03:17:37.145Z"
   },
   {
    "duration": 24,
    "start_time": "2023-03-19T03:17:51.190Z"
   },
   {
    "duration": 4,
    "start_time": "2023-03-19T03:17:56.906Z"
   },
   {
    "duration": 19,
    "start_time": "2023-03-19T03:18:03.641Z"
   },
   {
    "duration": 1011,
    "start_time": "2023-03-19T03:18:07.821Z"
   },
   {
    "duration": 15,
    "start_time": "2023-03-19T03:18:17.191Z"
   },
   {
    "duration": 4,
    "start_time": "2023-03-19T03:19:41.608Z"
   },
   {
    "duration": 1072,
    "start_time": "2023-03-19T03:19:48.500Z"
   },
   {
    "duration": 1207,
    "start_time": "2023-03-19T03:20:01.103Z"
   },
   {
    "duration": 1845,
    "start_time": "2023-03-19T03:20:19.988Z"
   },
   {
    "duration": 747,
    "start_time": "2023-03-19T03:20:32.191Z"
   },
   {
    "duration": 1258,
    "start_time": "2023-03-19T03:20:41.097Z"
   },
   {
    "duration": 820,
    "start_time": "2023-03-19T03:21:26.437Z"
   },
   {
    "duration": 792,
    "start_time": "2023-03-19T03:21:33.673Z"
   },
   {
    "duration": 843,
    "start_time": "2023-03-19T03:21:46.348Z"
   },
   {
    "duration": 31,
    "start_time": "2023-03-19T03:24:17.365Z"
   },
   {
    "duration": 910,
    "start_time": "2023-03-19T03:25:20.165Z"
   },
   {
    "duration": 5,
    "start_time": "2023-03-19T03:25:30.092Z"
   },
   {
    "duration": 217,
    "start_time": "2023-03-19T03:26:39.642Z"
   },
   {
    "duration": 4,
    "start_time": "2023-03-19T03:26:44.251Z"
   },
   {
    "duration": 158,
    "start_time": "2023-03-19T03:27:24.155Z"
   },
   {
    "duration": 131,
    "start_time": "2023-03-19T03:27:38.937Z"
   },
   {
    "duration": 132,
    "start_time": "2023-03-19T03:27:54.969Z"
   },
   {
    "duration": 130,
    "start_time": "2023-03-19T03:28:02.515Z"
   },
   {
    "duration": 56,
    "start_time": "2023-03-19T16:38:13.555Z"
   },
   {
    "duration": 1709,
    "start_time": "2023-03-19T16:38:22.962Z"
   },
   {
    "duration": 210,
    "start_time": "2023-03-19T16:38:24.674Z"
   },
   {
    "duration": 16,
    "start_time": "2023-03-19T16:38:24.885Z"
   },
   {
    "duration": 12,
    "start_time": "2023-03-19T16:38:24.903Z"
   },
   {
    "duration": 4,
    "start_time": "2023-03-19T16:38:24.917Z"
   },
   {
    "duration": 14,
    "start_time": "2023-03-19T16:38:24.923Z"
   },
   {
    "duration": 34,
    "start_time": "2023-03-19T16:38:24.939Z"
   },
   {
    "duration": 94,
    "start_time": "2023-03-19T16:38:24.975Z"
   },
   {
    "duration": 0,
    "start_time": "2023-03-19T16:38:25.070Z"
   },
   {
    "duration": 0,
    "start_time": "2023-03-19T16:38:25.071Z"
   },
   {
    "duration": 0,
    "start_time": "2023-03-19T16:38:25.072Z"
   },
   {
    "duration": 0,
    "start_time": "2023-03-19T16:38:25.074Z"
   },
   {
    "duration": 0,
    "start_time": "2023-03-19T16:38:25.075Z"
   },
   {
    "duration": 0,
    "start_time": "2023-03-19T16:38:25.076Z"
   },
   {
    "duration": 0,
    "start_time": "2023-03-19T16:38:25.078Z"
   },
   {
    "duration": 0,
    "start_time": "2023-03-19T16:38:25.079Z"
   },
   {
    "duration": 0,
    "start_time": "2023-03-19T16:38:25.080Z"
   },
   {
    "duration": 0,
    "start_time": "2023-03-19T16:38:25.080Z"
   },
   {
    "duration": 22,
    "start_time": "2023-03-19T16:38:39.855Z"
   },
   {
    "duration": 226,
    "start_time": "2023-03-19T16:38:48.274Z"
   },
   {
    "duration": 302,
    "start_time": "2023-03-19T16:38:51.907Z"
   },
   {
    "duration": 151,
    "start_time": "2023-03-19T16:39:54.753Z"
   },
   {
    "duration": 149,
    "start_time": "2023-03-19T16:40:09.603Z"
   },
   {
    "duration": 303,
    "start_time": "2023-03-19T16:40:17.024Z"
   },
   {
    "duration": 223,
    "start_time": "2023-03-19T16:40:37.988Z"
   },
   {
    "duration": 229,
    "start_time": "2023-03-19T16:41:07.476Z"
   },
   {
    "duration": 230,
    "start_time": "2023-03-19T16:41:33.356Z"
   },
   {
    "duration": 4,
    "start_time": "2023-03-19T16:42:48.706Z"
   },
   {
    "duration": 212,
    "start_time": "2023-03-19T16:42:55.253Z"
   },
   {
    "duration": 4,
    "start_time": "2023-03-19T16:43:31.825Z"
   },
   {
    "duration": 19,
    "start_time": "2023-03-19T16:48:41.383Z"
   },
   {
    "duration": 227,
    "start_time": "2023-03-19T16:48:50.277Z"
   },
   {
    "duration": 339,
    "start_time": "2023-03-19T16:48:57.180Z"
   },
   {
    "duration": 231,
    "start_time": "2023-03-19T16:49:35.604Z"
   },
   {
    "duration": 273,
    "start_time": "2023-03-19T16:49:40.039Z"
   },
   {
    "duration": 213,
    "start_time": "2023-03-19T16:51:32.126Z"
   },
   {
    "duration": 250,
    "start_time": "2023-03-19T16:51:43.728Z"
   },
   {
    "duration": 269,
    "start_time": "2023-03-19T16:52:23.703Z"
   },
   {
    "duration": 362,
    "start_time": "2023-03-19T16:52:32.295Z"
   },
   {
    "duration": 279,
    "start_time": "2023-03-19T16:52:37.052Z"
   },
   {
    "duration": 67,
    "start_time": "2023-03-19T16:52:41.802Z"
   },
   {
    "duration": 248,
    "start_time": "2023-03-19T16:52:47.372Z"
   },
   {
    "duration": 232,
    "start_time": "2023-03-19T16:52:54.363Z"
   },
   {
    "duration": 312,
    "start_time": "2023-03-19T16:53:43.760Z"
   },
   {
    "duration": 270,
    "start_time": "2023-03-19T16:54:07.695Z"
   },
   {
    "duration": 251,
    "start_time": "2023-03-19T16:54:30.111Z"
   },
   {
    "duration": 22,
    "start_time": "2023-03-19T16:54:35.418Z"
   },
   {
    "duration": 228,
    "start_time": "2023-03-19T16:56:15.054Z"
   },
   {
    "duration": 332,
    "start_time": "2023-03-19T16:56:17.592Z"
   },
   {
    "duration": 268,
    "start_time": "2023-03-19T16:56:29.817Z"
   },
   {
    "duration": 16,
    "start_time": "2023-03-19T16:57:40.118Z"
   },
   {
    "duration": 12,
    "start_time": "2023-03-19T16:57:46.259Z"
   },
   {
    "duration": 236,
    "start_time": "2023-03-19T16:57:51.451Z"
   },
   {
    "duration": 262,
    "start_time": "2023-03-19T16:58:11.096Z"
   },
   {
    "duration": 166,
    "start_time": "2023-03-19T16:58:21.690Z"
   },
   {
    "duration": 942,
    "start_time": "2023-03-19T16:58:26.705Z"
   },
   {
    "duration": 78,
    "start_time": "2023-03-19T17:00:29.195Z"
   },
   {
    "duration": 308,
    "start_time": "2023-03-19T17:00:51.903Z"
   },
   {
    "duration": 19,
    "start_time": "2023-03-19T17:02:14.599Z"
   },
   {
    "duration": 18,
    "start_time": "2023-03-19T17:02:22.219Z"
   },
   {
    "duration": 198,
    "start_time": "2023-03-19T17:03:12.817Z"
   },
   {
    "duration": 6,
    "start_time": "2023-03-19T17:03:26.639Z"
   },
   {
    "duration": 174,
    "start_time": "2023-03-19T17:04:10.695Z"
   },
   {
    "duration": 166,
    "start_time": "2023-03-19T17:04:13.418Z"
   },
   {
    "duration": 193,
    "start_time": "2023-03-19T17:04:55.694Z"
   },
   {
    "duration": 6,
    "start_time": "2023-03-19T17:05:37.228Z"
   },
   {
    "duration": 48,
    "start_time": "2023-03-19T17:05:37.239Z"
   },
   {
    "duration": 11,
    "start_time": "2023-03-19T17:05:37.288Z"
   },
   {
    "duration": 14,
    "start_time": "2023-03-19T17:05:37.301Z"
   },
   {
    "duration": 8,
    "start_time": "2023-03-19T17:05:37.316Z"
   },
   {
    "duration": 19,
    "start_time": "2023-03-19T17:05:37.326Z"
   },
   {
    "duration": 5,
    "start_time": "2023-03-19T17:05:37.494Z"
   },
   {
    "duration": 215,
    "start_time": "2023-03-19T17:05:37.502Z"
   },
   {
    "duration": 184,
    "start_time": "2023-03-19T17:05:37.719Z"
   },
   {
    "duration": 323,
    "start_time": "2023-03-19T17:05:51.705Z"
   },
   {
    "duration": 296,
    "start_time": "2023-03-19T17:07:30.506Z"
   },
   {
    "duration": 360,
    "start_time": "2023-03-19T17:07:48.591Z"
   },
   {
    "duration": 12,
    "start_time": "2023-03-19T17:09:09.394Z"
   },
   {
    "duration": 1209,
    "start_time": "2023-03-19T17:11:48.664Z"
   },
   {
    "duration": 803,
    "start_time": "2023-03-19T17:12:00.803Z"
   },
   {
    "duration": 2,
    "start_time": "2023-03-19T17:12:30.371Z"
   },
   {
    "duration": 843,
    "start_time": "2023-03-19T17:12:36.210Z"
   },
   {
    "duration": 299,
    "start_time": "2023-03-19T17:12:40.886Z"
   },
   {
    "duration": 271,
    "start_time": "2023-03-19T17:12:54.158Z"
   },
   {
    "duration": 5,
    "start_time": "2023-03-19T17:13:34.522Z"
   },
   {
    "duration": 20,
    "start_time": "2023-03-19T17:19:57.868Z"
   },
   {
    "duration": 18,
    "start_time": "2023-03-19T17:20:07.560Z"
   },
   {
    "duration": 829,
    "start_time": "2023-03-19T17:20:20.068Z"
   },
   {
    "duration": 833,
    "start_time": "2023-03-19T17:20:31.724Z"
   },
   {
    "duration": 816,
    "start_time": "2023-03-19T17:20:54.274Z"
   },
   {
    "duration": 787,
    "start_time": "2023-03-19T17:21:13.562Z"
   },
   {
    "duration": 813,
    "start_time": "2023-03-19T17:21:38.360Z"
   },
   {
    "duration": 945,
    "start_time": "2023-03-19T17:22:06.157Z"
   },
   {
    "duration": 907,
    "start_time": "2023-03-19T17:22:38.666Z"
   },
   {
    "duration": 861,
    "start_time": "2023-03-19T17:22:44.125Z"
   },
   {
    "duration": 795,
    "start_time": "2023-03-19T17:22:49.193Z"
   },
   {
    "duration": 891,
    "start_time": "2023-03-19T17:22:56.207Z"
   },
   {
    "duration": 932,
    "start_time": "2023-03-19T17:23:03.621Z"
   },
   {
    "duration": 723,
    "start_time": "2023-03-19T18:57:27.378Z"
   },
   {
    "duration": 687,
    "start_time": "2023-03-19T18:58:42.290Z"
   },
   {
    "duration": 257,
    "start_time": "2023-03-19T19:00:19.311Z"
   },
   {
    "duration": 261,
    "start_time": "2023-03-19T19:00:23.660Z"
   },
   {
    "duration": 3,
    "start_time": "2023-03-19T19:00:36.234Z"
   },
   {
    "duration": 278,
    "start_time": "2023-03-19T19:00:41.682Z"
   },
   {
    "duration": 7,
    "start_time": "2023-03-19T19:01:02.316Z"
   },
   {
    "duration": 7,
    "start_time": "2023-03-19T19:01:14.500Z"
   },
   {
    "duration": 13947,
    "start_time": "2023-03-19T19:01:20.210Z"
   },
   {
    "duration": 1350,
    "start_time": "2023-03-19T19:10:27.957Z"
   },
   {
    "duration": 37520,
    "start_time": "2023-03-19T19:10:49.010Z"
   },
   {
    "duration": 14114,
    "start_time": "2023-03-19T19:11:32.417Z"
   },
   {
    "duration": 15042,
    "start_time": "2023-03-19T19:13:54.455Z"
   },
   {
    "duration": 16521,
    "start_time": "2023-03-19T19:14:14.206Z"
   },
   {
    "duration": 16,
    "start_time": "2023-03-19T19:14:53.794Z"
   },
   {
    "duration": 104,
    "start_time": "2023-03-19T19:15:08.834Z"
   },
   {
    "duration": 4,
    "start_time": "2023-03-19T19:15:22.537Z"
   },
   {
    "duration": 13,
    "start_time": "2023-03-19T19:15:22.544Z"
   },
   {
    "duration": 35,
    "start_time": "2023-03-19T19:15:22.559Z"
   },
   {
    "duration": 15,
    "start_time": "2023-03-19T19:15:22.597Z"
   },
   {
    "duration": 35,
    "start_time": "2023-03-19T19:15:22.615Z"
   },
   {
    "duration": 3,
    "start_time": "2023-03-19T19:15:22.652Z"
   },
   {
    "duration": 7,
    "start_time": "2023-03-19T19:15:22.829Z"
   },
   {
    "duration": 12,
    "start_time": "2023-03-19T19:15:22.839Z"
   },
   {
    "duration": 223,
    "start_time": "2023-03-19T19:15:22.852Z"
   },
   {
    "duration": 272,
    "start_time": "2023-03-19T19:15:23.082Z"
   },
   {
    "duration": 10,
    "start_time": "2023-03-19T19:15:23.356Z"
   },
   {
    "duration": 758,
    "start_time": "2023-03-19T19:15:23.368Z"
   },
   {
    "duration": 14198,
    "start_time": "2023-03-19T19:15:26.057Z"
   },
   {
    "duration": 1340,
    "start_time": "2023-03-19T19:15:40.257Z"
   },
   {
    "duration": 14,
    "start_time": "2023-03-19T19:15:41.599Z"
   },
   {
    "duration": 128,
    "start_time": "2023-03-19T19:15:41.616Z"
   },
   {
    "duration": 6,
    "start_time": "2023-03-19T19:15:41.749Z"
   },
   {
    "duration": 10,
    "start_time": "2023-03-19T19:15:41.757Z"
   },
   {
    "duration": 13,
    "start_time": "2023-03-19T19:15:41.769Z"
   },
   {
    "duration": 14115,
    "start_time": "2023-03-19T19:15:55.152Z"
   },
   {
    "duration": 1360,
    "start_time": "2023-03-19T19:16:09.269Z"
   },
   {
    "duration": 12,
    "start_time": "2023-03-19T19:16:10.631Z"
   },
   {
    "duration": 127,
    "start_time": "2023-03-19T19:16:10.645Z"
   },
   {
    "duration": 6,
    "start_time": "2023-03-19T19:16:10.774Z"
   },
   {
    "duration": 10,
    "start_time": "2023-03-19T19:16:10.781Z"
   },
   {
    "duration": 6,
    "start_time": "2023-03-19T19:16:10.793Z"
   },
   {
    "duration": 0,
    "start_time": "2023-03-19T19:40:41.833Z"
   },
   {
    "duration": 0,
    "start_time": "2023-03-19T19:40:41.834Z"
   },
   {
    "duration": 0,
    "start_time": "2023-03-19T19:40:41.836Z"
   },
   {
    "duration": 0,
    "start_time": "2023-03-19T19:40:41.837Z"
   },
   {
    "duration": 0,
    "start_time": "2023-03-19T19:40:41.838Z"
   },
   {
    "duration": 0,
    "start_time": "2023-03-19T19:40:41.840Z"
   },
   {
    "duration": 0,
    "start_time": "2023-03-19T19:40:41.841Z"
   },
   {
    "duration": 0,
    "start_time": "2023-03-19T19:40:41.842Z"
   },
   {
    "duration": 0,
    "start_time": "2023-03-19T19:40:41.844Z"
   },
   {
    "duration": 0,
    "start_time": "2023-03-19T19:40:41.845Z"
   },
   {
    "duration": 0,
    "start_time": "2023-03-19T19:40:41.847Z"
   },
   {
    "duration": 0,
    "start_time": "2023-03-19T19:40:41.848Z"
   },
   {
    "duration": 5,
    "start_time": "2023-03-19T19:41:01.103Z"
   },
   {
    "duration": 36,
    "start_time": "2023-03-19T19:41:01.112Z"
   },
   {
    "duration": 48,
    "start_time": "2023-03-19T19:41:01.150Z"
   },
   {
    "duration": 13,
    "start_time": "2023-03-19T19:41:01.200Z"
   },
   {
    "duration": 27,
    "start_time": "2023-03-19T19:41:01.216Z"
   },
   {
    "duration": 22,
    "start_time": "2023-03-19T19:41:01.245Z"
   },
   {
    "duration": 24,
    "start_time": "2023-03-19T19:41:01.269Z"
   },
   {
    "duration": 9,
    "start_time": "2023-03-19T19:41:01.295Z"
   },
   {
    "duration": 250,
    "start_time": "2023-03-19T19:41:01.307Z"
   },
   {
    "duration": 314,
    "start_time": "2023-03-19T19:41:01.559Z"
   },
   {
    "duration": 11,
    "start_time": "2023-03-19T19:41:01.875Z"
   },
   {
    "duration": 870,
    "start_time": "2023-03-19T19:41:01.889Z"
   },
   {
    "duration": 327971,
    "start_time": "2023-03-19T19:41:10.468Z"
   },
   {
    "duration": 16934,
    "start_time": "2023-03-19T19:47:10.314Z"
   },
   {
    "duration": 14435,
    "start_time": "2023-03-19T19:47:38.140Z"
   },
   {
    "duration": 17,
    "start_time": "2023-03-20T00:24:44.703Z"
   },
   {
    "duration": 695,
    "start_time": "2023-03-20T00:25:06.503Z"
   },
   {
    "duration": 1028,
    "start_time": "2023-03-20T00:26:21.152Z"
   },
   {
    "duration": 744,
    "start_time": "2023-03-20T00:26:52.667Z"
   },
   {
    "duration": 4,
    "start_time": "2023-03-20T01:06:50.536Z"
   },
   {
    "duration": 9,
    "start_time": "2023-03-20T01:08:40.904Z"
   },
   {
    "duration": 4,
    "start_time": "2023-03-20T01:08:43.139Z"
   },
   {
    "duration": 5,
    "start_time": "2023-03-20T01:08:46.866Z"
   },
   {
    "duration": 4,
    "start_time": "2023-03-20T01:09:29.393Z"
   },
   {
    "duration": 53,
    "start_time": "2023-03-20T01:09:56.090Z"
   },
   {
    "duration": 197,
    "start_time": "2023-03-20T01:10:06.955Z"
   },
   {
    "duration": 236,
    "start_time": "2023-03-20T01:10:15.651Z"
   },
   {
    "duration": 13184,
    "start_time": "2023-03-20T01:10:57.411Z"
   },
   {
    "duration": 3221,
    "start_time": "2023-03-20T01:11:17.854Z"
   },
   {
    "duration": 2968,
    "start_time": "2023-03-20T01:11:40.826Z"
   },
   {
    "duration": 3275,
    "start_time": "2023-03-20T01:11:51.150Z"
   },
   {
    "duration": 3065,
    "start_time": "2023-03-20T01:11:57.594Z"
   },
   {
    "duration": 3084,
    "start_time": "2023-03-20T01:12:13.884Z"
   },
   {
    "duration": 3361,
    "start_time": "2023-03-20T01:12:26.330Z"
   },
   {
    "duration": 5987,
    "start_time": "2023-03-20T01:12:37.020Z"
   },
   {
    "duration": 66,
    "start_time": "2023-03-20T01:13:44.164Z"
   },
   {
    "duration": 17,
    "start_time": "2023-03-20T01:18:22.164Z"
   },
   {
    "duration": 148,
    "start_time": "2023-03-20T01:19:46.367Z"
   },
   {
    "duration": 4,
    "start_time": "2023-03-20T01:28:59.128Z"
   },
   {
    "duration": 6,
    "start_time": "2023-03-20T01:31:34.464Z"
   },
   {
    "duration": 9,
    "start_time": "2023-03-20T01:56:14.826Z"
   },
   {
    "duration": 11,
    "start_time": "2023-03-20T01:56:19.193Z"
   },
   {
    "duration": 4,
    "start_time": "2023-03-20T02:44:51.985Z"
   },
   {
    "duration": 8,
    "start_time": "2023-03-20T02:44:59.018Z"
   },
   {
    "duration": 4,
    "start_time": "2023-03-20T02:45:10.020Z"
   },
   {
    "duration": 47,
    "start_time": "2023-03-20T02:45:10.026Z"
   },
   {
    "duration": 66,
    "start_time": "2023-03-20T02:45:10.075Z"
   },
   {
    "duration": 18,
    "start_time": "2023-03-20T02:45:10.143Z"
   },
   {
    "duration": 38,
    "start_time": "2023-03-20T02:45:10.163Z"
   },
   {
    "duration": 52,
    "start_time": "2023-03-20T02:45:10.203Z"
   },
   {
    "duration": 8,
    "start_time": "2023-03-20T02:45:10.257Z"
   },
   {
    "duration": 46,
    "start_time": "2023-03-20T02:45:10.267Z"
   },
   {
    "duration": 73,
    "start_time": "2023-03-20T02:45:10.315Z"
   },
   {
    "duration": 56,
    "start_time": "2023-03-20T02:45:10.390Z"
   },
   {
    "duration": 20,
    "start_time": "2023-03-20T02:45:10.448Z"
   },
   {
    "duration": 43,
    "start_time": "2023-03-20T02:45:10.469Z"
   },
   {
    "duration": 233,
    "start_time": "2023-03-20T02:45:10.514Z"
   },
   {
    "duration": 260,
    "start_time": "2023-03-20T02:45:10.748Z"
   },
   {
    "duration": 622,
    "start_time": "2023-03-20T02:45:11.009Z"
   },
   {
    "duration": 10943,
    "start_time": "2023-03-20T02:45:11.633Z"
   },
   {
    "duration": 3722,
    "start_time": "2023-03-20T02:45:22.579Z"
   },
   {
    "duration": 36,
    "start_time": "2023-03-20T02:45:26.303Z"
   },
   {
    "duration": 145,
    "start_time": "2023-03-20T02:45:26.341Z"
   },
   {
    "duration": 6,
    "start_time": "2023-03-20T02:45:26.488Z"
   },
   {
    "duration": 19,
    "start_time": "2023-03-20T02:45:26.495Z"
   },
   {
    "duration": 3,
    "start_time": "2023-03-20T02:46:47.441Z"
   },
   {
    "duration": 4,
    "start_time": "2023-03-20T02:47:03.993Z"
   },
   {
    "duration": 10,
    "start_time": "2023-03-20T02:47:03.999Z"
   },
   {
    "duration": 38,
    "start_time": "2023-03-20T02:47:04.010Z"
   },
   {
    "duration": 10,
    "start_time": "2023-03-20T02:47:04.050Z"
   },
   {
    "duration": 20,
    "start_time": "2023-03-20T02:47:04.061Z"
   },
   {
    "duration": 9,
    "start_time": "2023-03-20T02:47:04.083Z"
   },
   {
    "duration": 3,
    "start_time": "2023-03-20T02:47:04.094Z"
   },
   {
    "duration": 32,
    "start_time": "2023-03-20T02:47:04.099Z"
   },
   {
    "duration": 5,
    "start_time": "2023-03-20T02:47:04.133Z"
   },
   {
    "duration": 15,
    "start_time": "2023-03-20T02:47:04.140Z"
   },
   {
    "duration": 4,
    "start_time": "2023-03-20T02:47:04.156Z"
   },
   {
    "duration": 10,
    "start_time": "2023-03-20T02:47:04.162Z"
   },
   {
    "duration": 198,
    "start_time": "2023-03-20T02:47:04.173Z"
   },
   {
    "duration": 258,
    "start_time": "2023-03-20T02:47:04.373Z"
   },
   {
    "duration": 638,
    "start_time": "2023-03-20T02:47:04.633Z"
   },
   {
    "duration": 10368,
    "start_time": "2023-03-20T02:47:05.273Z"
   },
   {
    "duration": 2771,
    "start_time": "2023-03-20T02:47:15.643Z"
   },
   {
    "duration": 26,
    "start_time": "2023-03-20T02:47:18.416Z"
   },
   {
    "duration": 160,
    "start_time": "2023-03-20T02:47:18.443Z"
   },
   {
    "duration": 6,
    "start_time": "2023-03-20T02:47:18.604Z"
   },
   {
    "duration": 21,
    "start_time": "2023-03-20T02:47:18.612Z"
   },
   {
    "duration": 4,
    "start_time": "2023-03-20T02:48:37.770Z"
   },
   {
    "duration": 8,
    "start_time": "2023-03-20T02:48:40.499Z"
   },
   {
    "duration": 23,
    "start_time": "2023-03-20T02:48:40.510Z"
   },
   {
    "duration": 23,
    "start_time": "2023-03-20T02:48:40.535Z"
   },
   {
    "duration": 8,
    "start_time": "2023-03-20T02:48:40.560Z"
   },
   {
    "duration": 31,
    "start_time": "2023-03-20T02:48:40.570Z"
   },
   {
    "duration": 182,
    "start_time": "2023-03-20T02:48:40.604Z"
   },
   {
    "duration": 263,
    "start_time": "2023-03-20T02:48:40.788Z"
   },
   {
    "duration": 616,
    "start_time": "2023-03-20T02:48:41.052Z"
   },
   {
    "duration": 12257,
    "start_time": "2023-03-20T02:48:41.670Z"
   },
   {
    "duration": 1923,
    "start_time": "2023-03-20T02:48:53.931Z"
   },
   {
    "duration": 16,
    "start_time": "2023-03-20T02:48:55.856Z"
   },
   {
    "duration": 132,
    "start_time": "2023-03-20T02:48:55.874Z"
   },
   {
    "duration": 7,
    "start_time": "2023-03-20T02:48:56.008Z"
   },
   {
    "duration": 7,
    "start_time": "2023-03-20T02:48:56.031Z"
   },
   {
    "duration": 3,
    "start_time": "2023-03-20T02:49:38.110Z"
   },
   {
    "duration": 8,
    "start_time": "2023-03-20T02:49:40.825Z"
   },
   {
    "duration": 14,
    "start_time": "2023-03-20T02:49:40.836Z"
   },
   {
    "duration": 14,
    "start_time": "2023-03-20T02:49:40.851Z"
   },
   {
    "duration": 4,
    "start_time": "2023-03-20T02:49:40.867Z"
   },
   {
    "duration": 8,
    "start_time": "2023-03-20T02:49:40.874Z"
   },
   {
    "duration": 191,
    "start_time": "2023-03-20T02:49:40.883Z"
   },
   {
    "duration": 275,
    "start_time": "2023-03-20T02:49:41.076Z"
   },
   {
    "duration": 654,
    "start_time": "2023-03-20T02:49:41.353Z"
   },
   {
    "duration": 11312,
    "start_time": "2023-03-20T02:49:42.009Z"
   },
   {
    "duration": 1920,
    "start_time": "2023-03-20T02:49:53.331Z"
   },
   {
    "duration": 16,
    "start_time": "2023-03-20T02:49:55.254Z"
   },
   {
    "duration": 128,
    "start_time": "2023-03-20T02:49:55.272Z"
   },
   {
    "duration": 6,
    "start_time": "2023-03-20T02:49:55.403Z"
   },
   {
    "duration": 6,
    "start_time": "2023-03-20T02:49:55.430Z"
   },
   {
    "duration": 47,
    "start_time": "2023-03-20T02:49:55.438Z"
   },
   {
    "duration": 4,
    "start_time": "2023-03-20T02:50:21.111Z"
   },
   {
    "duration": 11,
    "start_time": "2023-03-20T02:50:21.118Z"
   },
   {
    "duration": 44,
    "start_time": "2023-03-20T02:50:21.130Z"
   },
   {
    "duration": 11,
    "start_time": "2023-03-20T02:50:21.176Z"
   },
   {
    "duration": 23,
    "start_time": "2023-03-20T02:50:21.189Z"
   },
   {
    "duration": 17,
    "start_time": "2023-03-20T02:50:21.214Z"
   },
   {
    "duration": 3,
    "start_time": "2023-03-20T02:50:21.233Z"
   },
   {
    "duration": 14,
    "start_time": "2023-03-20T02:50:21.238Z"
   },
   {
    "duration": 17,
    "start_time": "2023-03-20T02:50:21.254Z"
   },
   {
    "duration": 21,
    "start_time": "2023-03-20T02:50:21.273Z"
   },
   {
    "duration": 17,
    "start_time": "2023-03-20T02:50:21.296Z"
   },
   {
    "duration": 10,
    "start_time": "2023-03-20T02:50:21.315Z"
   },
   {
    "duration": 212,
    "start_time": "2023-03-20T02:50:21.327Z"
   },
   {
    "duration": 261,
    "start_time": "2023-03-20T02:50:21.543Z"
   },
   {
    "duration": 653,
    "start_time": "2023-03-20T02:50:21.806Z"
   },
   {
    "duration": 13993,
    "start_time": "2023-03-20T02:50:22.461Z"
   },
   {
    "duration": 6129,
    "start_time": "2023-03-20T02:50:36.455Z"
   },
   {
    "duration": 14,
    "start_time": "2023-03-20T02:50:42.586Z"
   },
   {
    "duration": 173,
    "start_time": "2023-03-20T02:50:42.601Z"
   },
   {
    "duration": 5,
    "start_time": "2023-03-20T02:50:42.776Z"
   },
   {
    "duration": 10,
    "start_time": "2023-03-20T02:50:42.782Z"
   },
   {
    "duration": 62,
    "start_time": "2023-03-20T02:50:42.794Z"
   },
   {
    "duration": 1264,
    "start_time": "2023-03-20T02:57:34.166Z"
   },
   {
    "duration": 3,
    "start_time": "2023-03-20T02:57:35.431Z"
   },
   {
    "duration": 40,
    "start_time": "2023-03-20T02:57:35.436Z"
   },
   {
    "duration": 14,
    "start_time": "2023-03-20T02:57:35.478Z"
   },
   {
    "duration": 12,
    "start_time": "2023-03-20T02:57:35.495Z"
   },
   {
    "duration": 18,
    "start_time": "2023-03-20T02:57:35.509Z"
   },
   {
    "duration": 2,
    "start_time": "2023-03-20T02:57:35.531Z"
   },
   {
    "duration": 25,
    "start_time": "2023-03-20T02:57:35.535Z"
   },
   {
    "duration": 15,
    "start_time": "2023-03-20T02:57:35.562Z"
   },
   {
    "duration": 21,
    "start_time": "2023-03-20T02:57:35.579Z"
   },
   {
    "duration": 5,
    "start_time": "2023-03-20T02:57:35.602Z"
   },
   {
    "duration": 21,
    "start_time": "2023-03-20T02:57:35.609Z"
   },
   {
    "duration": 227,
    "start_time": "2023-03-20T02:57:35.632Z"
   },
   {
    "duration": 286,
    "start_time": "2023-03-20T02:57:35.861Z"
   },
   {
    "duration": 686,
    "start_time": "2023-03-20T02:57:36.148Z"
   },
   {
    "duration": 12978,
    "start_time": "2023-03-20T02:57:36.836Z"
   },
   {
    "duration": 6225,
    "start_time": "2023-03-20T02:57:49.816Z"
   },
   {
    "duration": 15,
    "start_time": "2023-03-20T02:57:56.042Z"
   },
   {
    "duration": 178,
    "start_time": "2023-03-20T02:57:56.059Z"
   },
   {
    "duration": 5,
    "start_time": "2023-03-20T02:57:56.239Z"
   },
   {
    "duration": 12,
    "start_time": "2023-03-20T02:57:56.246Z"
   },
   {
    "duration": 161,
    "start_time": "2023-03-20T18:14:23.328Z"
   },
   {
    "duration": 1655,
    "start_time": "2023-03-20T18:14:27.308Z"
   },
   {
    "duration": 3,
    "start_time": "2023-03-20T18:14:28.965Z"
   },
   {
    "duration": 81,
    "start_time": "2023-03-20T18:14:28.970Z"
   },
   {
    "duration": 14,
    "start_time": "2023-03-20T18:14:29.053Z"
   },
   {
    "duration": 12,
    "start_time": "2023-03-20T18:14:29.069Z"
   },
   {
    "duration": 16,
    "start_time": "2023-03-20T18:14:29.083Z"
   },
   {
    "duration": 15,
    "start_time": "2023-03-20T18:14:29.101Z"
   },
   {
    "duration": 18,
    "start_time": "2023-03-20T18:14:29.119Z"
   },
   {
    "duration": 5,
    "start_time": "2023-03-20T18:14:29.139Z"
   },
   {
    "duration": 13,
    "start_time": "2023-03-20T18:14:29.146Z"
   },
   {
    "duration": 9,
    "start_time": "2023-03-20T18:14:29.160Z"
   },
   {
    "duration": 8,
    "start_time": "2023-03-20T18:14:29.171Z"
   },
   {
    "duration": 250,
    "start_time": "2023-03-20T18:14:29.181Z"
   },
   {
    "duration": 297,
    "start_time": "2023-03-20T18:14:29.436Z"
   },
   {
    "duration": 748,
    "start_time": "2023-03-20T18:14:29.735Z"
   },
   {
    "duration": 14777,
    "start_time": "2023-03-20T18:14:30.485Z"
   },
   {
    "duration": 7445,
    "start_time": "2023-03-20T18:14:45.265Z"
   },
   {
    "duration": 22,
    "start_time": "2023-03-20T18:14:52.713Z"
   },
   {
    "duration": 214,
    "start_time": "2023-03-20T18:14:52.737Z"
   },
   {
    "duration": 8,
    "start_time": "2023-03-20T18:14:52.953Z"
   },
   {
    "duration": 17,
    "start_time": "2023-03-20T18:14:52.962Z"
   },
   {
    "duration": 66,
    "start_time": "2023-09-22T13:48:19.639Z"
   },
   {
    "duration": 1551,
    "start_time": "2023-09-22T13:48:23.790Z"
   },
   {
    "duration": 3,
    "start_time": "2023-09-22T13:48:25.343Z"
   },
   {
    "duration": 96,
    "start_time": "2023-09-22T13:48:25.348Z"
   },
   {
    "duration": 18,
    "start_time": "2023-09-22T13:48:25.446Z"
   },
   {
    "duration": 47,
    "start_time": "2023-09-22T13:48:25.468Z"
   },
   {
    "duration": 12,
    "start_time": "2023-09-22T13:48:25.517Z"
   },
   {
    "duration": 9,
    "start_time": "2023-09-22T13:48:25.531Z"
   },
   {
    "duration": 7,
    "start_time": "2023-09-22T13:48:25.542Z"
   },
   {
    "duration": 18,
    "start_time": "2023-09-22T13:48:25.550Z"
   },
   {
    "duration": 4,
    "start_time": "2023-09-22T13:48:25.571Z"
   },
   {
    "duration": 12,
    "start_time": "2023-09-22T13:48:25.577Z"
   },
   {
    "duration": 254,
    "start_time": "2023-09-22T13:48:25.591Z"
   },
   {
    "duration": 316,
    "start_time": "2023-09-22T13:48:25.847Z"
   },
   {
    "duration": 782,
    "start_time": "2023-09-22T13:48:26.169Z"
   },
   {
    "duration": 15643,
    "start_time": "2023-09-22T13:48:26.957Z"
   },
   {
    "duration": 6763,
    "start_time": "2023-09-22T13:48:42.602Z"
   },
   {
    "duration": 16,
    "start_time": "2023-09-22T13:48:49.367Z"
   },
   {
    "duration": 187,
    "start_time": "2023-09-22T13:48:49.385Z"
   },
   {
    "duration": 5,
    "start_time": "2023-09-22T13:48:49.574Z"
   },
   {
    "duration": 17,
    "start_time": "2023-09-22T13:48:49.581Z"
   },
   {
    "duration": 4,
    "start_time": "2023-09-22T13:49:32.335Z"
   },
   {
    "duration": 18,
    "start_time": "2023-09-22T13:49:32.342Z"
   },
   {
    "duration": 51,
    "start_time": "2023-09-22T13:49:32.361Z"
   },
   {
    "duration": 11,
    "start_time": "2023-09-22T13:49:32.414Z"
   },
   {
    "duration": 30,
    "start_time": "2023-09-22T13:49:32.426Z"
   },
   {
    "duration": 58,
    "start_time": "2023-09-22T13:49:32.458Z"
   },
   {
    "duration": 39,
    "start_time": "2023-09-22T13:49:32.518Z"
   },
   {
    "duration": 27,
    "start_time": "2023-09-22T13:49:32.559Z"
   },
   {
    "duration": 21,
    "start_time": "2023-09-22T13:49:32.588Z"
   },
   {
    "duration": 13,
    "start_time": "2023-09-22T13:49:32.613Z"
   },
   {
    "duration": 15,
    "start_time": "2023-09-22T13:49:32.629Z"
   },
   {
    "duration": 260,
    "start_time": "2023-09-22T13:49:32.646Z"
   },
   {
    "duration": 302,
    "start_time": "2023-09-22T13:49:32.908Z"
   },
   {
    "duration": 790,
    "start_time": "2023-09-22T13:49:33.212Z"
   },
   {
    "duration": 2512,
    "start_time": "2023-09-22T13:49:34.004Z"
   },
   {
    "duration": 0,
    "start_time": "2023-09-22T13:49:36.518Z"
   },
   {
    "duration": 0,
    "start_time": "2023-09-22T13:49:36.519Z"
   },
   {
    "duration": 0,
    "start_time": "2023-09-22T13:49:36.520Z"
   },
   {
    "duration": 0,
    "start_time": "2023-09-22T13:49:36.521Z"
   },
   {
    "duration": 0,
    "start_time": "2023-09-22T13:49:36.522Z"
   },
   {
    "duration": 1552,
    "start_time": "2023-09-22T13:49:41.157Z"
   },
   {
    "duration": 3,
    "start_time": "2023-09-22T13:49:42.711Z"
   },
   {
    "duration": 52,
    "start_time": "2023-09-22T13:49:42.716Z"
   },
   {
    "duration": 15,
    "start_time": "2023-09-22T13:49:42.770Z"
   },
   {
    "duration": 13,
    "start_time": "2023-09-22T13:49:42.789Z"
   },
   {
    "duration": 19,
    "start_time": "2023-09-22T13:49:42.804Z"
   },
   {
    "duration": 32,
    "start_time": "2023-09-22T13:49:42.825Z"
   },
   {
    "duration": 11,
    "start_time": "2023-09-22T13:49:42.860Z"
   },
   {
    "duration": 11,
    "start_time": "2023-09-22T13:49:42.873Z"
   },
   {
    "duration": 9,
    "start_time": "2023-09-22T13:49:42.886Z"
   },
   {
    "duration": 6,
    "start_time": "2023-09-22T13:49:42.897Z"
   },
   {
    "duration": 268,
    "start_time": "2023-09-22T13:49:42.905Z"
   },
   {
    "duration": 295,
    "start_time": "2023-09-22T13:49:43.175Z"
   },
   {
    "duration": 727,
    "start_time": "2023-09-22T13:49:43.473Z"
   },
   {
    "duration": 14981,
    "start_time": "2023-09-22T13:49:44.202Z"
   },
   {
    "duration": 6899,
    "start_time": "2023-09-22T13:49:59.184Z"
   },
   {
    "duration": 16,
    "start_time": "2023-09-22T13:50:06.085Z"
   },
   {
    "duration": 187,
    "start_time": "2023-09-22T13:50:06.102Z"
   },
   {
    "duration": 5,
    "start_time": "2023-09-22T13:50:06.291Z"
   },
   {
    "duration": 15,
    "start_time": "2023-09-22T13:50:06.298Z"
   },
   {
    "duration": 1615,
    "start_time": "2023-09-22T13:50:55.089Z"
   },
   {
    "duration": 5,
    "start_time": "2023-09-22T13:50:56.706Z"
   },
   {
    "duration": 51,
    "start_time": "2023-09-22T13:50:56.713Z"
   },
   {
    "duration": 17,
    "start_time": "2023-09-22T13:50:56.766Z"
   },
   {
    "duration": 16,
    "start_time": "2023-09-22T13:50:56.787Z"
   },
   {
    "duration": 30,
    "start_time": "2023-09-22T13:50:56.806Z"
   },
   {
    "duration": 27,
    "start_time": "2023-09-22T13:50:56.838Z"
   },
   {
    "duration": 31,
    "start_time": "2023-09-22T13:50:56.867Z"
   },
   {
    "duration": 21,
    "start_time": "2023-09-22T13:50:56.900Z"
   },
   {
    "duration": 35,
    "start_time": "2023-09-22T13:50:56.923Z"
   },
   {
    "duration": 23,
    "start_time": "2023-09-22T13:50:56.960Z"
   },
   {
    "duration": 241,
    "start_time": "2023-09-22T13:50:56.985Z"
   },
   {
    "duration": 315,
    "start_time": "2023-09-22T13:50:57.228Z"
   },
   {
    "duration": 753,
    "start_time": "2023-09-22T13:50:57.546Z"
   },
   {
    "duration": 15357,
    "start_time": "2023-09-22T13:50:58.300Z"
   },
   {
    "duration": 7039,
    "start_time": "2023-09-22T13:51:13.659Z"
   },
   {
    "duration": 16,
    "start_time": "2023-09-22T13:51:20.700Z"
   },
   {
    "duration": 224,
    "start_time": "2023-09-22T13:51:20.718Z"
   },
   {
    "duration": 6,
    "start_time": "2023-09-22T13:51:20.944Z"
   },
   {
    "duration": 39,
    "start_time": "2023-09-22T13:51:20.952Z"
   },
   {
    "duration": 56605,
    "start_time": "2023-09-22T13:51:49.370Z"
   },
   {
    "duration": 15292,
    "start_time": "2023-09-22T13:52:53.080Z"
   }
  ],
  "kernelspec": {
   "display_name": "Python 3 (ipykernel)",
   "language": "python",
   "name": "python3"
  },
  "language_info": {
   "codemirror_mode": {
    "name": "ipython",
    "version": 3
   },
   "file_extension": ".py",
   "mimetype": "text/x-python",
   "name": "python",
   "nbconvert_exporter": "python",
   "pygments_lexer": "ipython3",
   "version": "3.9.5"
  },
  "toc": {
   "base_numbering": 1,
   "nav_menu": {
    "height": "164.162px",
    "width": "308.168px"
   },
   "number_sections": true,
   "sideBar": true,
   "skip_h1_title": true,
   "title_cell": "Table of Contents",
   "title_sidebar": "Contents",
   "toc_cell": false,
   "toc_position": {
    "height": "calc(100% - 180px)",
    "left": "10px",
    "top": "150px",
    "width": "331.264px"
   },
   "toc_section_display": true,
   "toc_window_display": true
  }
 },
 "nbformat": 4,
 "nbformat_minor": 2
}
