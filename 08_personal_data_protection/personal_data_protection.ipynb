{
 "cells": [
  {
   "cell_type": "markdown",
   "metadata": {
    "toc": true
   },
   "source": [
    "<h1>Содержание<span class=\"tocSkip\"></span></h1>\n",
    "<div class=\"toc\"><ul class=\"toc-item\"><li><span><a href=\"#Загрузка-и-подготовка-данных\" data-toc-modified-id=\"Загрузка-и-подготовка-данных-1\"><span class=\"toc-item-num\">1&nbsp;&nbsp;</span>Загрузка и подготовка данных</a></span></li><li><span><a href=\"#Умножение-матриц\" data-toc-modified-id=\"Умножение-матриц-2\"><span class=\"toc-item-num\">2&nbsp;&nbsp;</span>Умножение матриц</a></span></li><li><span><a href=\"#Алгоритм-преобразования\" data-toc-modified-id=\"Алгоритм-преобразования-3\"><span class=\"toc-item-num\">3&nbsp;&nbsp;</span>Алгоритм преобразования</a></span></li><li><span><a href=\"#Проверка-алгоритма\" data-toc-modified-id=\"Проверка-алгоритма-4\"><span class=\"toc-item-num\">4&nbsp;&nbsp;</span>Проверка алгоритма</a></span></li><li><span><a href=\"#Общий-вывод\" data-toc-modified-id=\"Общий-вывод-5\"><span class=\"toc-item-num\">5&nbsp;&nbsp;</span>Общий вывод</a></span></li></ul></div>"
   ]
  },
  {
   "cell_type": "markdown",
   "metadata": {},
   "source": [
    "# Защита персональных данных клиентов"
   ]
  },
  {
   "cell_type": "markdown",
   "metadata": {},
   "source": [
    "Нам нужно защитить данные клиентов страховой компании «Хоть потоп».  \n",
    "Задача - разработать такой метод преобразования данных, чтобы по ним было сложно восстановить персональную информацию. \n",
    "\n",
    "Нужно защитить данные, чтобы при преобразовании качество моделей машинного обучения не ухудшилось.  \n",
    "Подбирать наилучшую модель не требуется."
   ]
  },
  {
   "cell_type": "markdown",
   "metadata": {},
   "source": [
    "Исследование будет содержать следующие этапы:\n",
    "- Загрузка и подготовка данных;\n",
    "- Умножение матриц;\n",
    "- Алгоритм преобразования;\n",
    "- Проверка алгоритма;\n",
    "- Общий вывод."
   ]
  },
  {
   "cell_type": "markdown",
   "metadata": {},
   "source": [
    "## Загрузка и подготовка данных"
   ]
  },
  {
   "cell_type": "code",
   "execution_count": 21,
   "metadata": {},
   "outputs": [],
   "source": [
    "import warnings\n",
    "\n",
    "import pandas as pd\n",
    "\n",
    "import numpy as np\n",
    "\n",
    "import matplotlib\n",
    "import matplotlib.pyplot as plt\n",
    "\n",
    "from sklearn.linear_model import LinearRegression\n",
    "from sklearn.metrics import r2_score"
   ]
  },
  {
   "cell_type": "markdown",
   "metadata": {},
   "source": [
    "<div class=\"alert alert-info\"> <b>Комментарии студента:</b> \n",
    "Я не смог понять что именно некорректно в импортах. прогнал блок с импортами через https://www.pythonchecker.com/ и не получил никаких замечаний.\n",
    "    \n",
    "Речь о том, что `warnings` входит в стандартную библиотеку и должне быть выше, чем все библиотеки (sklearn, matplotlib, pandas, numpy), которые считаются сторонними библиотекками?\n",
    "</div>"
   ]
  },
  {
   "cell_type": "code",
   "execution_count": 22,
   "metadata": {},
   "outputs": [],
   "source": [
    "warnings.filterwarnings(\"ignore\")"
   ]
  },
  {
   "cell_type": "code",
   "execution_count": 23,
   "metadata": {},
   "outputs": [],
   "source": [
    "try:\n",
    "    df = pd.read_csv('/datasets/insurance.csv')\n",
    "except:\n",
    "    df = pd.read_csv('datasets/insurance.csv')"
   ]
  },
  {
   "cell_type": "code",
   "execution_count": 24,
   "metadata": {},
   "outputs": [
    {
     "data": {
      "text/html": [
       "<div>\n",
       "<style scoped>\n",
       "    .dataframe tbody tr th:only-of-type {\n",
       "        vertical-align: middle;\n",
       "    }\n",
       "\n",
       "    .dataframe tbody tr th {\n",
       "        vertical-align: top;\n",
       "    }\n",
       "\n",
       "    .dataframe thead th {\n",
       "        text-align: right;\n",
       "    }\n",
       "</style>\n",
       "<table border=\"1\" class=\"dataframe\">\n",
       "  <thead>\n",
       "    <tr style=\"text-align: right;\">\n",
       "      <th></th>\n",
       "      <th>Пол</th>\n",
       "      <th>Возраст</th>\n",
       "      <th>Зарплата</th>\n",
       "      <th>Члены семьи</th>\n",
       "      <th>Страховые выплаты</th>\n",
       "    </tr>\n",
       "  </thead>\n",
       "  <tbody>\n",
       "    <tr>\n",
       "      <th>0</th>\n",
       "      <td>1</td>\n",
       "      <td>41.0</td>\n",
       "      <td>49600.0</td>\n",
       "      <td>1</td>\n",
       "      <td>0</td>\n",
       "    </tr>\n",
       "    <tr>\n",
       "      <th>1</th>\n",
       "      <td>0</td>\n",
       "      <td>46.0</td>\n",
       "      <td>38000.0</td>\n",
       "      <td>1</td>\n",
       "      <td>1</td>\n",
       "    </tr>\n",
       "    <tr>\n",
       "      <th>2</th>\n",
       "      <td>0</td>\n",
       "      <td>29.0</td>\n",
       "      <td>21000.0</td>\n",
       "      <td>0</td>\n",
       "      <td>0</td>\n",
       "    </tr>\n",
       "    <tr>\n",
       "      <th>3</th>\n",
       "      <td>0</td>\n",
       "      <td>21.0</td>\n",
       "      <td>41700.0</td>\n",
       "      <td>2</td>\n",
       "      <td>0</td>\n",
       "    </tr>\n",
       "    <tr>\n",
       "      <th>4</th>\n",
       "      <td>1</td>\n",
       "      <td>28.0</td>\n",
       "      <td>26100.0</td>\n",
       "      <td>0</td>\n",
       "      <td>0</td>\n",
       "    </tr>\n",
       "  </tbody>\n",
       "</table>\n",
       "</div>"
      ],
      "text/plain": [
       "   Пол  Возраст  Зарплата  Члены семьи  Страховые выплаты\n",
       "0    1     41.0   49600.0            1                  0\n",
       "1    0     46.0   38000.0            1                  1\n",
       "2    0     29.0   21000.0            0                  0\n",
       "3    0     21.0   41700.0            2                  0\n",
       "4    1     28.0   26100.0            0                  0"
      ]
     },
     "metadata": {},
     "output_type": "display_data"
    }
   ],
   "source": [
    "display(df.head())"
   ]
  },
  {
   "cell_type": "code",
   "execution_count": 25,
   "metadata": {},
   "outputs": [
    {
     "name": "stdout",
     "output_type": "stream",
     "text": [
      "<class 'pandas.core.frame.DataFrame'>\n",
      "RangeIndex: 5000 entries, 0 to 4999\n",
      "Data columns (total 5 columns):\n",
      " #   Column             Non-Null Count  Dtype  \n",
      "---  ------             --------------  -----  \n",
      " 0   Пол                5000 non-null   int64  \n",
      " 1   Возраст            5000 non-null   float64\n",
      " 2   Зарплата           5000 non-null   float64\n",
      " 3   Члены семьи        5000 non-null   int64  \n",
      " 4   Страховые выплаты  5000 non-null   int64  \n",
      "dtypes: float64(2), int64(3)\n",
      "memory usage: 195.4 KB\n"
     ]
    }
   ],
   "source": [
    "df.info()"
   ]
  },
  {
   "cell_type": "markdown",
   "metadata": {},
   "source": [
    "Пропуски в данных отсутствуют, формат признаков `Возраст` и `Зарплата` имеют тип `float64`"
   ]
  },
  {
   "cell_type": "code",
   "execution_count": 26,
   "metadata": {},
   "outputs": [
    {
     "data": {
      "text/html": [
       "<div>\n",
       "<style scoped>\n",
       "    .dataframe tbody tr th:only-of-type {\n",
       "        vertical-align: middle;\n",
       "    }\n",
       "\n",
       "    .dataframe tbody tr th {\n",
       "        vertical-align: top;\n",
       "    }\n",
       "\n",
       "    .dataframe thead th {\n",
       "        text-align: right;\n",
       "    }\n",
       "</style>\n",
       "<table border=\"1\" class=\"dataframe\">\n",
       "  <thead>\n",
       "    <tr style=\"text-align: right;\">\n",
       "      <th></th>\n",
       "      <th>Пол</th>\n",
       "      <th>Возраст</th>\n",
       "      <th>Зарплата</th>\n",
       "      <th>Члены семьи</th>\n",
       "      <th>Страховые выплаты</th>\n",
       "    </tr>\n",
       "  </thead>\n",
       "  <tbody>\n",
       "    <tr>\n",
       "      <th>count</th>\n",
       "      <td>5000.000000</td>\n",
       "      <td>5000.000000</td>\n",
       "      <td>5000.000000</td>\n",
       "      <td>5000.000000</td>\n",
       "      <td>5000.000000</td>\n",
       "    </tr>\n",
       "    <tr>\n",
       "      <th>mean</th>\n",
       "      <td>0.499000</td>\n",
       "      <td>30.952800</td>\n",
       "      <td>39916.360000</td>\n",
       "      <td>1.194200</td>\n",
       "      <td>0.148000</td>\n",
       "    </tr>\n",
       "    <tr>\n",
       "      <th>std</th>\n",
       "      <td>0.500049</td>\n",
       "      <td>8.440807</td>\n",
       "      <td>9900.083569</td>\n",
       "      <td>1.091387</td>\n",
       "      <td>0.463183</td>\n",
       "    </tr>\n",
       "    <tr>\n",
       "      <th>min</th>\n",
       "      <td>0.000000</td>\n",
       "      <td>18.000000</td>\n",
       "      <td>5300.000000</td>\n",
       "      <td>0.000000</td>\n",
       "      <td>0.000000</td>\n",
       "    </tr>\n",
       "    <tr>\n",
       "      <th>25%</th>\n",
       "      <td>0.000000</td>\n",
       "      <td>24.000000</td>\n",
       "      <td>33300.000000</td>\n",
       "      <td>0.000000</td>\n",
       "      <td>0.000000</td>\n",
       "    </tr>\n",
       "    <tr>\n",
       "      <th>50%</th>\n",
       "      <td>0.000000</td>\n",
       "      <td>30.000000</td>\n",
       "      <td>40200.000000</td>\n",
       "      <td>1.000000</td>\n",
       "      <td>0.000000</td>\n",
       "    </tr>\n",
       "    <tr>\n",
       "      <th>75%</th>\n",
       "      <td>1.000000</td>\n",
       "      <td>37.000000</td>\n",
       "      <td>46600.000000</td>\n",
       "      <td>2.000000</td>\n",
       "      <td>0.000000</td>\n",
       "    </tr>\n",
       "    <tr>\n",
       "      <th>max</th>\n",
       "      <td>1.000000</td>\n",
       "      <td>65.000000</td>\n",
       "      <td>79000.000000</td>\n",
       "      <td>6.000000</td>\n",
       "      <td>5.000000</td>\n",
       "    </tr>\n",
       "  </tbody>\n",
       "</table>\n",
       "</div>"
      ],
      "text/plain": [
       "               Пол      Возраст      Зарплата  Члены семьи  Страховые выплаты\n",
       "count  5000.000000  5000.000000   5000.000000  5000.000000        5000.000000\n",
       "mean      0.499000    30.952800  39916.360000     1.194200           0.148000\n",
       "std       0.500049     8.440807   9900.083569     1.091387           0.463183\n",
       "min       0.000000    18.000000   5300.000000     0.000000           0.000000\n",
       "25%       0.000000    24.000000  33300.000000     0.000000           0.000000\n",
       "50%       0.000000    30.000000  40200.000000     1.000000           0.000000\n",
       "75%       1.000000    37.000000  46600.000000     2.000000           0.000000\n",
       "max       1.000000    65.000000  79000.000000     6.000000           5.000000"
      ]
     },
     "execution_count": 26,
     "metadata": {},
     "output_type": "execute_result"
    }
   ],
   "source": [
    "# Посмотрим на описание данных\n",
    "df.describe()"
   ]
  },
  {
   "cell_type": "code",
   "execution_count": 27,
   "metadata": {},
   "outputs": [],
   "source": [
    "# Скорректируем типы данных, а также оптимизируем их\n",
    "df['Пол'] = pd.to_numeric(df['Пол'], downcast='integer')\n",
    "df['Возраст'] = pd.to_numeric(df['Возраст'], downcast='integer')\n",
    "df['Зарплата'] = df['Зарплата'].astype('int')\n",
    "df['Зарплата'] = pd.to_numeric(df['Зарплата'], downcast='integer')\n",
    "df['Члены семьи'] = pd.to_numeric(df['Члены семьи'], downcast='integer')\n",
    "df['Страховые выплаты'] = pd.to_numeric(df['Страховые выплаты'], downcast='integer')"
   ]
  },
  {
   "cell_type": "code",
   "execution_count": 28,
   "metadata": {},
   "outputs": [
    {
     "data": {
      "text/plain": [
       "Пол                   int8\n",
       "Возраст               int8\n",
       "Зарплата             int32\n",
       "Члены семьи           int8\n",
       "Страховые выплаты     int8\n",
       "dtype: object"
      ]
     },
     "metadata": {},
     "output_type": "display_data"
    }
   ],
   "source": [
    "display(df.dtypes)"
   ]
  },
  {
   "cell_type": "code",
   "execution_count": 29,
   "metadata": {},
   "outputs": [
    {
     "name": "stdout",
     "output_type": "stream",
     "text": [
      "Полных дубликатов: 153\n"
     ]
    }
   ],
   "source": [
    "# посмотрим на количество полных дубликатов\n",
    "print(\"Полных дубликатов:\", df.duplicated().sum())"
   ]
  },
  {
   "cell_type": "markdown",
   "metadata": {},
   "source": [
    "В данных отсутствует идентификатор, однозначно утверждать наличие полных дубликатов затруднительно."
   ]
  },
  {
   "cell_type": "code",
   "execution_count": 30,
   "metadata": {},
   "outputs": [
    {
     "data": {
      "image/png": "[encoded data removed]",
      "text/plain": [
       "<Figure size 1440x864 with 5 Axes>"
      ]
     },
     "metadata": {
      "needs_background": "light"
     },
     "output_type": "display_data"
    }
   ],
   "source": [
    "plt.figure(figsize=(20, 12))\n",
    "\n",
    "for i, col in enumerate(df.columns):\n",
    "    nbins = 50\n",
    "    plt.subplot(2, 3, i+1)\n",
    "    if len(df[col].unique()) < 50:\n",
    "        nbins = len(df[col].unique())\n",
    "    plt.hist(df[col], bins=nbins, color='c', edgecolor='k', alpha=0.65)\n",
    "    plt.title(f'Распределение \"{col}\"')\n",
    "    plt.ylabel('Частота')\n",
    "    \n",
    "plt.show()"
   ]
  },
  {
   "cell_type": "code",
   "execution_count": 34,
   "metadata": {},
   "outputs": [
    {
     "data": {
      "image/png": "[encoded data removed]",
      "text/plain": [
       "<Figure size 1440x864 with 3 Axes>"
      ]
     },
     "metadata": {
      "needs_background": "light"
     },
     "output_type": "display_data"
    }
   ],
   "source": [
    "plt.figure(figsize=(20, 12))\n",
    "\n",
    "for i, col in enumerate(['Пол', 'Члены семьи', 'Страховые выплаты']):\n",
    "    plt.subplot(2, 3, i+1)\n",
    "    df.groupby([col])[col].count().plot(kind='bar', color='c', edgecolor='k', alpha=0.65)\n",
    "    #plt.title(f'Распределение \"{col}\"')\n",
    "    plt.ylabel('Количество')\n",
    "    \n",
    "plt.show()"
   ]
  },
  {
   "cell_type": "code",
   "execution_count": 37,
   "metadata": {},
   "outputs": [
    {
     "data": {
      "text/html": [
       "<div>\n",
       "<style scoped>\n",
       "    .dataframe tbody tr th:only-of-type {\n",
       "        vertical-align: middle;\n",
       "    }\n",
       "\n",
       "    .dataframe tbody tr th {\n",
       "        vertical-align: top;\n",
       "    }\n",
       "\n",
       "    .dataframe thead th {\n",
       "        text-align: right;\n",
       "    }\n",
       "</style>\n",
       "<table border=\"1\" class=\"dataframe\">\n",
       "  <thead>\n",
       "    <tr style=\"text-align: right;\">\n",
       "      <th>Страховые выплаты</th>\n",
       "      <th>0</th>\n",
       "      <th>1</th>\n",
       "      <th>2</th>\n",
       "      <th>3</th>\n",
       "      <th>4</th>\n",
       "      <th>5</th>\n",
       "    </tr>\n",
       "    <tr>\n",
       "      <th>Члены семьи</th>\n",
       "      <th></th>\n",
       "      <th></th>\n",
       "      <th></th>\n",
       "      <th></th>\n",
       "      <th></th>\n",
       "      <th></th>\n",
       "    </tr>\n",
       "  </thead>\n",
       "  <tbody>\n",
       "    <tr>\n",
       "      <th>0</th>\n",
       "      <td>0.2666</td>\n",
       "      <td>0.0264</td>\n",
       "      <td>0.0076</td>\n",
       "      <td>0.0012</td>\n",
       "      <td>0.0008</td>\n",
       "      <td>0.0000</td>\n",
       "    </tr>\n",
       "    <tr>\n",
       "      <th>1</th>\n",
       "      <td>0.3188</td>\n",
       "      <td>0.0324</td>\n",
       "      <td>0.0098</td>\n",
       "      <td>0.0014</td>\n",
       "      <td>0.0002</td>\n",
       "      <td>0.0002</td>\n",
       "    </tr>\n",
       "    <tr>\n",
       "      <th>2</th>\n",
       "      <td>0.1926</td>\n",
       "      <td>0.0162</td>\n",
       "      <td>0.0040</td>\n",
       "      <td>0.0010</td>\n",
       "      <td>0.0004</td>\n",
       "      <td>0.0000</td>\n",
       "    </tr>\n",
       "    <tr>\n",
       "      <th>3</th>\n",
       "      <td>0.0792</td>\n",
       "      <td>0.0076</td>\n",
       "      <td>0.0010</td>\n",
       "      <td>0.0000</td>\n",
       "      <td>0.0000</td>\n",
       "      <td>0.0000</td>\n",
       "    </tr>\n",
       "    <tr>\n",
       "      <th>4</th>\n",
       "      <td>0.0230</td>\n",
       "      <td>0.0014</td>\n",
       "      <td>0.0004</td>\n",
       "      <td>0.0000</td>\n",
       "      <td>0.0000</td>\n",
       "      <td>0.0000</td>\n",
       "    </tr>\n",
       "    <tr>\n",
       "      <th>5</th>\n",
       "      <td>0.0058</td>\n",
       "      <td>0.0004</td>\n",
       "      <td>0.0002</td>\n",
       "      <td>0.0000</td>\n",
       "      <td>0.0000</td>\n",
       "      <td>0.0000</td>\n",
       "    </tr>\n",
       "    <tr>\n",
       "      <th>6</th>\n",
       "      <td>0.0012</td>\n",
       "      <td>0.0002</td>\n",
       "      <td>0.0000</td>\n",
       "      <td>0.0000</td>\n",
       "      <td>0.0000</td>\n",
       "      <td>0.0000</td>\n",
       "    </tr>\n",
       "  </tbody>\n",
       "</table>\n",
       "</div>"
      ],
      "text/plain": [
       "Страховые выплаты       0       1       2       3       4       5\n",
       "Члены семьи                                                      \n",
       "0                  0.2666  0.0264  0.0076  0.0012  0.0008  0.0000\n",
       "1                  0.3188  0.0324  0.0098  0.0014  0.0002  0.0002\n",
       "2                  0.1926  0.0162  0.0040  0.0010  0.0004  0.0000\n",
       "3                  0.0792  0.0076  0.0010  0.0000  0.0000  0.0000\n",
       "4                  0.0230  0.0014  0.0004  0.0000  0.0000  0.0000\n",
       "5                  0.0058  0.0004  0.0002  0.0000  0.0000  0.0000\n",
       "6                  0.0012  0.0002  0.0000  0.0000  0.0000  0.0000"
      ]
     },
     "execution_count": 37,
     "metadata": {},
     "output_type": "execute_result"
    }
   ],
   "source": [
    "pd.crosstab(df[\"Члены семьи\"], df[\"Страховые выплаты\"], normalize=True)"
   ]
  },
  {
   "cell_type": "markdown",
   "metadata": {},
   "source": [
    "Аномалии не обнаружены."
   ]
  },
  {
   "cell_type": "markdown",
   "metadata": {},
   "source": [
    "**Выводы**:\n",
    "- пропуски отсутствуют;\n",
    "- аномалии в данных не обнаружены."
   ]
  },
  {
   "cell_type": "markdown",
   "metadata": {},
   "source": [
    "## Умножение матриц"
   ]
  },
  {
   "cell_type": "markdown",
   "metadata": {},
   "source": [
    "Обозначения:\n",
    "\n",
    "- $X$ — матрица признаков (нулевой столбец состоит из единиц)\n",
    "\n",
    "- $y$ — вектор целевого признака\n",
    "\n",
    "- $P$ — матрица, на которую умножаются признаки\n",
    "\n",
    "- $w$ — вектор весов линейной регрессии (нулевой элемент равен сдвигу)"
   ]
  },
  {
   "cell_type": "markdown",
   "metadata": {},
   "source": [
    "Предсказания:\n",
    "\n",
    "$$\n",
    "a = Xw\n",
    "$$\n",
    "\n",
    "Задача обучения:\n",
    "\n",
    "$$\n",
    "w = \\arg\\min_w MSE(Xw, y)\n",
    "$$\n",
    "\n",
    "Формула обучения:\n",
    "\n",
    "$$\n",
    "w = (X^T X)^{-1} X^T y\n",
    "$$"
   ]
  },
  {
   "cell_type": "markdown",
   "metadata": {},
   "source": [
    "Обоснование строится на следующих свойствах:\n",
    "- Умножение матрицы на единичную матрицу — исходная матрица $ AE = EA = A $\n",
    "- Произведение единичных матриц — единичная матрица $ EE = E $\n",
    "- Умножение матрицы на обратную матрицу даёт единичную матрицу $ AA^{-1} = A^{-1} A = E $\n",
    "- $ (AB)^T = B^T A^T $\n",
    "- $ (AB)^{-1} = B^{-1} A^{-1} $\n",
    "\n",
    "Выразим предсказания через формулу обучения:\n",
    "$$ a = Xw = X (X^T X)^{-1} X^T y $$\n",
    "\n",
    "Докажем, что умножение на обратимую матрицу $ M $ даёт равенство:\n",
    "$$ a = (X M)w = (X M)((X M)^T X M)^{-1} (X M)^T y = (X M)(M^T X^T X M)^{-1} (XM)^T y = X M M^{-1} (X^T X)^{-1} (M^T)^{-1} M^T X^T y = X (X^T X)^{-1} X^T y $$"
   ]
  },
  {
   "cell_type": "markdown",
   "metadata": {},
   "source": [
    "**Вывод:** умножение признаков на обратимую матрицу не должно изменить качество линейной регрессии. "
   ]
  },
  {
   "cell_type": "markdown",
   "metadata": {},
   "source": [
    "<div class=\"alert alert-success\">\n",
    "<h2> Комментарий ревьюера <a class=\"tocSkip\"> </h2>\n",
    "\n",
    "<b>Все отлично!👍:</b> \n",
    "    \n",
    "Теоетическое обоснование и матричные преобразования корректны, молодец!"
   ]
  },
  {
   "cell_type": "markdown",
   "metadata": {},
   "source": [
    "## Алгоритм преобразования"
   ]
  },
  {
   "cell_type": "markdown",
   "metadata": {},
   "source": [
    "**Алгоритм**\n",
    "\n",
    "1. Делим выборку на обучающие признаки и целевой признак, т.е отделяем от данных количество страховых выплат;\n",
    "2. Создаем случайную матрицу размером 4х4 (в выборке 4 признака);\n",
    "3. Умножаем случайную матрицу на константу 11363;\n",
    "4. Матрицу признаков умножаем на созданную матрицу;\n",
    "5. Обучаем модель на новых признаках;\n",
    "6. Получаем предсказания;\n",
    "7. В качестве метрики берем коэффициент детерминации R2;\n",
    "8. Обучаем модель на исходных данных и получаем предсказания на исходных данных;\n",
    "9. Сравниваем два коэффициента детерминации и определяем работоспособность алгоритма"
   ]
  },
  {
   "cell_type": "markdown",
   "metadata": {},
   "source": [
    "**Обоснование**\n",
    "\n",
    "Согласно доказательству выше, при умножении признаков на обратимую матрицу будут получаться обратные матрицы, произведение которых с исходной матрицей будет давать единичные матрицы. Таким образом это не изменит качество линейной регрессии."
   ]
  },
  {
   "cell_type": "markdown",
   "metadata": {},
   "source": [
    "## Проверка алгоритма"
   ]
  },
  {
   "cell_type": "code",
   "execution_count": 11,
   "metadata": {},
   "outputs": [],
   "source": [
    "X = df.drop('Страховые выплаты', axis=1)\n",
    "y = df['Страховые выплаты']"
   ]
  },
  {
   "cell_type": "code",
   "execution_count": 12,
   "metadata": {},
   "outputs": [],
   "source": [
    "# создаём класс линейной регрессии\n",
    "\n",
    "class LinReg:\n",
    "    def fit(self, train_features, train_target):\n",
    "        X = np.concatenate((np.ones((train_features.shape[0], 1)), train_features), axis=1)\n",
    "        y = train_target\n",
    "        w = np.linalg.inv((X.T @ X)).dot(X.T).dot(y)\n",
    "        self.w = w[1:]\n",
    "        self.w0 = w[0]\n",
    "        print(f'Рассчитанные веса: {w}')\n",
    "        \n",
    "    def predict(self, test_features):\n",
    "        return test_features.dot(self.w) + self.w0"
   ]
  },
  {
   "cell_type": "code",
   "execution_count": 13,
   "metadata": {},
   "outputs": [
    {
     "name": "stdout",
     "output_type": "stream",
     "text": [
      "Рассчитанные веса: [-0.93823545  0.00792581  0.03570831 -0.00000017 -0.01356766]\n",
      "r2_score модели линейной регресии до преобразования признаков: 0.4249\n"
     ]
    }
   ],
   "source": [
    "# веса и R2_score созданной модели\n",
    "np.set_printoptions(suppress=True)\n",
    "\n",
    "model = LinReg()\n",
    "model.fit(X, y)\n",
    "predictions = model.predict(X)\n",
    "print(f'r2_score модели линейной регресии до преобразования признаков: {r2_score(y, predictions):.4f}')"
   ]
  },
  {
   "cell_type": "code",
   "execution_count": 14,
   "metadata": {},
   "outputs": [
    {
     "data": {
      "text/plain": [
       "array([[0.84233299, 0.64488826, 0.2686537 , 0.69250255],\n",
       "       [0.85059244, 0.97034925, 0.00820826, 0.83234683],\n",
       "       [0.9354773 , 0.78566182, 0.06051125, 0.56872645],\n",
       "       [0.82384108, 0.9078047 , 0.13240713, 0.4405684 ]])"
      ]
     },
     "execution_count": 14,
     "metadata": {},
     "output_type": "execute_result"
    }
   ],
   "source": [
    "# создадим случайную квадратную матрицу, размером по количеству признаков\n",
    "np.random.seed(11363)\n",
    "\n",
    "magic_matrix = np.random.rand(X.shape[1], X.shape[1])\n",
    "magic_matrix"
   ]
  },
  {
   "cell_type": "code",
   "execution_count": 15,
   "metadata": {},
   "outputs": [
    {
     "data": {
      "text/plain": [
       "array([[-0.21348939, -2.08863808,  4.45972958, -1.47548704],\n",
       "       [-0.89395935,  1.0987712 , -2.89779821,  3.07004524],\n",
       "       [ 3.37455027, -1.4218611 , -4.09127141,  2.663403  ],\n",
       "       [ 1.22706787,  2.06891995, -1.13889268, -2.0974909 ]])"
      ]
     },
     "execution_count": 15,
     "metadata": {},
     "output_type": "execute_result"
    }
   ],
   "source": [
    "# проверим на обратимость\n",
    "np.linalg.inv(magic_matrix)"
   ]
  },
  {
   "cell_type": "code",
   "execution_count": 16,
   "metadata": {},
   "outputs": [
    {
     "data": {
      "text/plain": [
       "array([[ 1., -0.,  0., -0.],\n",
       "       [ 0.,  1.,  0., -0.],\n",
       "       [ 0., -0.,  1.,  0.],\n",
       "       [ 0., -0.,  0.,  1.]])"
      ]
     },
     "execution_count": 16,
     "metadata": {},
     "output_type": "execute_result"
    }
   ],
   "source": [
    "# умножим случайную матрицу на обратную, должна получиться единичная матрица\n",
    "magic_matrix @ np.linalg.inv(magic_matrix)"
   ]
  },
  {
   "cell_type": "code",
   "execution_count": 17,
   "metadata": {},
   "outputs": [
    {
     "data": {
      "text/html": [
       "<div>\n",
       "<style scoped>\n",
       "    .dataframe tbody tr th:only-of-type {\n",
       "        vertical-align: middle;\n",
       "    }\n",
       "\n",
       "    .dataframe tbody tr th {\n",
       "        vertical-align: top;\n",
       "    }\n",
       "\n",
       "    .dataframe thead th {\n",
       "        text-align: right;\n",
       "    }\n",
       "</style>\n",
       "<table border=\"1\" class=\"dataframe\">\n",
       "  <thead>\n",
       "    <tr style=\"text-align: right;\">\n",
       "      <th></th>\n",
       "      <th>0</th>\n",
       "      <th>1</th>\n",
       "      <th>2</th>\n",
       "      <th>3</th>\n",
       "    </tr>\n",
       "  </thead>\n",
       "  <tbody>\n",
       "    <tr>\n",
       "      <th>0</th>\n",
       "      <td>46436.214331</td>\n",
       "      <td>39010.163434</td>\n",
       "      <td>3002.095597</td>\n",
       "      <td>28244.091365</td>\n",
       "    </tr>\n",
       "    <tr>\n",
       "      <th>1</th>\n",
       "      <td>35588.088330</td>\n",
       "      <td>29900.693145</td>\n",
       "      <td>2299.937486</td>\n",
       "      <td>21650.333740</td>\n",
       "    </tr>\n",
       "    <tr>\n",
       "      <th>2</th>\n",
       "      <td>19669.690391</td>\n",
       "      <td>16527.038412</td>\n",
       "      <td>1270.974289</td>\n",
       "      <td>11967.393573</td>\n",
       "    </tr>\n",
       "    <tr>\n",
       "      <th>3</th>\n",
       "      <td>39028.913354</td>\n",
       "      <td>32784.290963</td>\n",
       "      <td>2523.756311</td>\n",
       "      <td>23734.253515</td>\n",
       "    </tr>\n",
       "    <tr>\n",
       "      <th>4</th>\n",
       "      <td>24440.616339</td>\n",
       "      <td>20533.588248</td>\n",
       "      <td>1579.842109</td>\n",
       "      <td>14867.758640</td>\n",
       "    </tr>\n",
       "  </tbody>\n",
       "</table>\n",
       "</div>"
      ],
      "text/plain": [
       "              0             1            2             3\n",
       "0  46436.214331  39010.163434  3002.095597  28244.091365\n",
       "1  35588.088330  29900.693145  2299.937486  21650.333740\n",
       "2  19669.690391  16527.038412  1270.974289  11967.393573\n",
       "3  39028.913354  32784.290963  2523.756311  23734.253515\n",
       "4  24440.616339  20533.588248  1579.842109  14867.758640"
      ]
     },
     "execution_count": 17,
     "metadata": {},
     "output_type": "execute_result"
    }
   ],
   "source": [
    "# умножим признаки на случайную матрицу\n",
    "X_encoded = X.dot(magic_matrix)\n",
    "X_encoded.head()"
   ]
  },
  {
   "cell_type": "code",
   "execution_count": 18,
   "metadata": {},
   "outputs": [
    {
     "name": "stdout",
     "output_type": "stream",
     "text": [
      "Рассчитанные веса: [-0.93823545  0.00792581  0.03570831 -0.00000017 -0.01356766]\n",
      "r2_score модели линейной регресии до преобразования признаков: 0.4249\n",
      "\n",
      "Рассчитанные веса: [-0.93823533 -0.05625565 -0.00950279 -0.060162    0.1120612 ]\n",
      "r2_score модели линейной регресии после преобразования признаков: 0.4249\n",
      "\n",
      "r2_score модели линейной регресии (sklearn) до преобразования признаков: 0.4249\n",
      "\n",
      "r2_score модели линейной регресии (sklearn) после преобразования признаков: 0.4249\n"
     ]
    }
   ],
   "source": [
    "# обучим модель на новых признаках, найдем предсказания, веса и посчитаем R2:\n",
    "\n",
    "model = LinReg()\n",
    "model.fit(X, y)\n",
    "predictions = model.predict(X)\n",
    "print(f'r2_score модели линейной регресии до преобразования признаков: {r2_score(y, predictions):.4f}\\n')\n",
    "\n",
    "model = LinReg()\n",
    "model.fit(X_encoded, y)\n",
    "predictions_encoded = model.predict(X_encoded)\n",
    "print(f'r2_score модели линейной регресии после преобразования признаков: {r2_score(y, predictions):.4f}\\n')\n",
    "\n",
    "model = LinearRegression()\n",
    "model.fit(X, y)\n",
    "predictions = model.predict(X)\n",
    "print(f'r2_score модели линейной регресии (sklearn) до преобразования признаков: {r2_score(y, predictions):.4f}\\n')\n",
    "\n",
    "model = LinearRegression()\n",
    "model.fit(X_encoded, y)\n",
    "predictions_encoded = model.predict(X_encoded)\n",
    "print(f'r2_score модели линейной регресии (sklearn) после преобразования признаков: {r2_score(y, predictions):.4f}')"
   ]
  },
  {
   "cell_type": "markdown",
   "metadata": {},
   "source": [
    "**Вывод**: качество модели, обученной на обычных/закодированных признаках идентично."
   ]
  },
  {
   "cell_type": "code",
   "execution_count": 19,
   "metadata": {},
   "outputs": [
    {
     "data": {
      "text/html": [
       "<div>\n",
       "<style scoped>\n",
       "    .dataframe tbody tr th:only-of-type {\n",
       "        vertical-align: middle;\n",
       "    }\n",
       "\n",
       "    .dataframe tbody tr th {\n",
       "        vertical-align: top;\n",
       "    }\n",
       "\n",
       "    .dataframe thead th {\n",
       "        text-align: right;\n",
       "    }\n",
       "</style>\n",
       "<table border=\"1\" class=\"dataframe\">\n",
       "  <thead>\n",
       "    <tr style=\"text-align: right;\">\n",
       "      <th></th>\n",
       "      <th>Пол</th>\n",
       "      <th>Возраст</th>\n",
       "      <th>Зарплата</th>\n",
       "      <th>Члены семьи</th>\n",
       "    </tr>\n",
       "  </thead>\n",
       "  <tbody>\n",
       "    <tr>\n",
       "      <th>0</th>\n",
       "      <td>1</td>\n",
       "      <td>41</td>\n",
       "      <td>49600</td>\n",
       "      <td>1</td>\n",
       "    </tr>\n",
       "    <tr>\n",
       "      <th>1</th>\n",
       "      <td>0</td>\n",
       "      <td>46</td>\n",
       "      <td>38000</td>\n",
       "      <td>1</td>\n",
       "    </tr>\n",
       "    <tr>\n",
       "      <th>2</th>\n",
       "      <td>0</td>\n",
       "      <td>29</td>\n",
       "      <td>21000</td>\n",
       "      <td>0</td>\n",
       "    </tr>\n",
       "    <tr>\n",
       "      <th>3</th>\n",
       "      <td>0</td>\n",
       "      <td>21</td>\n",
       "      <td>41700</td>\n",
       "      <td>2</td>\n",
       "    </tr>\n",
       "    <tr>\n",
       "      <th>4</th>\n",
       "      <td>1</td>\n",
       "      <td>28</td>\n",
       "      <td>26100</td>\n",
       "      <td>0</td>\n",
       "    </tr>\n",
       "  </tbody>\n",
       "</table>\n",
       "</div>"
      ],
      "text/plain": [
       "   Пол  Возраст  Зарплата  Члены семьи\n",
       "0    1       41     49600            1\n",
       "1    0       46     38000            1\n",
       "2    0       29     21000            0\n",
       "3    0       21     41700            2\n",
       "4    1       28     26100            0"
      ]
     },
     "metadata": {},
     "output_type": "display_data"
    },
    {
     "data": {
      "text/html": [
       "<div>\n",
       "<style scoped>\n",
       "    .dataframe tbody tr th:only-of-type {\n",
       "        vertical-align: middle;\n",
       "    }\n",
       "\n",
       "    .dataframe tbody tr th {\n",
       "        vertical-align: top;\n",
       "    }\n",
       "\n",
       "    .dataframe thead th {\n",
       "        text-align: right;\n",
       "    }\n",
       "</style>\n",
       "<table border=\"1\" class=\"dataframe\">\n",
       "  <thead>\n",
       "    <tr style=\"text-align: right;\">\n",
       "      <th></th>\n",
       "      <th>Пол</th>\n",
       "      <th>Возраст</th>\n",
       "      <th>Зарплата</th>\n",
       "      <th>Члены семьи</th>\n",
       "    </tr>\n",
       "  </thead>\n",
       "  <tbody>\n",
       "    <tr>\n",
       "      <th>0</th>\n",
       "      <td>1</td>\n",
       "      <td>41</td>\n",
       "      <td>49600</td>\n",
       "      <td>1</td>\n",
       "    </tr>\n",
       "    <tr>\n",
       "      <th>1</th>\n",
       "      <td>0</td>\n",
       "      <td>46</td>\n",
       "      <td>38000</td>\n",
       "      <td>1</td>\n",
       "    </tr>\n",
       "    <tr>\n",
       "      <th>2</th>\n",
       "      <td>0</td>\n",
       "      <td>29</td>\n",
       "      <td>21000</td>\n",
       "      <td>0</td>\n",
       "    </tr>\n",
       "    <tr>\n",
       "      <th>3</th>\n",
       "      <td>0</td>\n",
       "      <td>21</td>\n",
       "      <td>41700</td>\n",
       "      <td>2</td>\n",
       "    </tr>\n",
       "    <tr>\n",
       "      <th>4</th>\n",
       "      <td>1</td>\n",
       "      <td>28</td>\n",
       "      <td>26100</td>\n",
       "      <td>0</td>\n",
       "    </tr>\n",
       "  </tbody>\n",
       "</table>\n",
       "</div>"
      ],
      "text/plain": [
       "   Пол  Возраст  Зарплата  Члены семьи\n",
       "0    1       41     49600            1\n",
       "1    0       46     38000            1\n",
       "2    0       29     21000            0\n",
       "3    0       21     41700            2\n",
       "4    1       28     26100            0"
      ]
     },
     "metadata": {},
     "output_type": "display_data"
    }
   ],
   "source": [
    "# не смог найти этого требования в задании (по этой причине не делал сразу)\n",
    "# тем не менее, сделал:\n",
    "\n",
    "X_decoded = round(abs(X_encoded.dot(np.linalg.inv(magic_matrix))))\n",
    "for col in X_decoded.iloc[:,:]:\n",
    "    X_decoded[col] = X_decoded[col].astype(int)\n",
    "X_decoded.columns = X.columns\n",
    "\n",
    "display(X_decoded.head())\n",
    "display(X.head())"
   ]
  },
  {
   "cell_type": "markdown",
   "metadata": {},
   "source": [
    "## Общий вывод"
   ]
  },
  {
   "cell_type": "markdown",
   "metadata": {},
   "source": [
    "В ходе работы было выполнено:\n",
    "\n",
    "- Загружены, изучены и подготовлены данные;\n",
    "- Математически проверена гипотеза о неизменности качества линейной регрессии в результате умножения признаков на обратимую матрицу;\n",
    "- Предложен и обоснован алгоритм преобразования данных для шифрования персональной информации клиентов компании;\n",
    "- В результате проверки алгоритма отличий в качестве линейной регрессии до и после преобразования не выявлено."
   ]
  }
 ],
 "metadata": {
  "ExecuteTimeLog": [
   {
    "duration": 1910,
    "start_time": "2023-05-16T18:19:31.311Z"
   },
   {
    "duration": 5,
    "start_time": "2023-05-16T18:19:33.223Z"
   },
   {
    "duration": 29,
    "start_time": "2023-05-16T18:19:33.230Z"
   },
   {
    "duration": 107,
    "start_time": "2023-05-16T18:19:33.261Z"
   },
   {
    "duration": 12,
    "start_time": "2023-05-16T18:19:33.370Z"
   },
   {
    "duration": 18,
    "start_time": "2023-05-16T18:19:33.615Z"
   },
   {
    "duration": 53,
    "start_time": "2023-05-16T18:20:57.806Z"
   },
   {
    "duration": 30,
    "start_time": "2023-05-16T18:26:49.947Z"
   },
   {
    "duration": 139,
    "start_time": "2023-05-16T18:30:35.866Z"
   },
   {
    "duration": 10,
    "start_time": "2023-05-16T18:31:09.367Z"
   },
   {
    "duration": 3,
    "start_time": "2023-05-16T18:31:30.107Z"
   },
   {
    "duration": 509,
    "start_time": "2023-05-16T18:31:33.426Z"
   },
   {
    "duration": 10,
    "start_time": "2023-05-16T18:32:19.808Z"
   },
   {
    "duration": 10,
    "start_time": "2023-05-16T18:32:47.449Z"
   },
   {
    "duration": 12,
    "start_time": "2023-05-16T18:33:00.848Z"
   },
   {
    "duration": 12,
    "start_time": "2023-05-16T18:33:03.748Z"
   },
   {
    "duration": 11,
    "start_time": "2023-05-16T18:33:14.119Z"
   },
   {
    "duration": 408,
    "start_time": "2023-05-16T18:33:18.218Z"
   },
   {
    "duration": 4,
    "start_time": "2023-05-16T18:33:30.566Z"
   },
   {
    "duration": 1287,
    "start_time": "2023-05-16T18:33:31.143Z"
   },
   {
    "duration": 5,
    "start_time": "2023-05-16T18:33:41.660Z"
   },
   {
    "duration": 1407,
    "start_time": "2023-05-16T18:33:50.328Z"
   },
   {
    "duration": 12,
    "start_time": "2023-05-16T18:34:39.015Z"
   },
   {
    "duration": 4,
    "start_time": "2023-05-16T18:35:15.828Z"
   },
   {
    "duration": 11,
    "start_time": "2023-05-16T18:35:19.562Z"
   },
   {
    "duration": 7,
    "start_time": "2023-05-16T18:37:09.446Z"
   },
   {
    "duration": 6,
    "start_time": "2023-05-16T18:37:21.300Z"
   },
   {
    "duration": 3,
    "start_time": "2023-05-16T18:38:13.514Z"
   },
   {
    "duration": 13,
    "start_time": "2023-05-16T18:38:13.519Z"
   },
   {
    "duration": 5,
    "start_time": "2023-05-16T18:38:13.534Z"
   },
   {
    "duration": 32,
    "start_time": "2023-05-16T18:38:13.540Z"
   },
   {
    "duration": 7,
    "start_time": "2023-05-16T18:38:13.574Z"
   },
   {
    "duration": 31,
    "start_time": "2023-05-16T18:38:13.583Z"
   },
   {
    "duration": 20,
    "start_time": "2023-05-16T18:38:13.616Z"
   },
   {
    "duration": 8,
    "start_time": "2023-05-16T18:38:18.414Z"
   },
   {
    "duration": 10,
    "start_time": "2023-05-16T18:38:19.095Z"
   },
   {
    "duration": 6,
    "start_time": "2023-05-16T18:38:55.245Z"
   },
   {
    "duration": 5,
    "start_time": "2023-05-16T18:38:56.921Z"
   },
   {
    "duration": 6,
    "start_time": "2023-05-16T18:39:02.118Z"
   },
   {
    "duration": 5,
    "start_time": "2023-05-16T18:39:03.421Z"
   },
   {
    "duration": 6,
    "start_time": "2023-05-16T18:40:42.505Z"
   },
   {
    "duration": 5,
    "start_time": "2023-05-16T18:40:42.846Z"
   },
   {
    "duration": 6,
    "start_time": "2023-05-16T18:41:24.817Z"
   },
   {
    "duration": 4,
    "start_time": "2023-05-16T18:41:25.443Z"
   },
   {
    "duration": 7,
    "start_time": "2023-05-16T18:41:41.306Z"
   },
   {
    "duration": 5,
    "start_time": "2023-05-16T18:41:41.900Z"
   },
   {
    "duration": 7,
    "start_time": "2023-05-16T18:42:06.009Z"
   },
   {
    "duration": 5,
    "start_time": "2023-05-16T18:42:13.327Z"
   },
   {
    "duration": 25,
    "start_time": "2023-05-16T18:43:24.406Z"
   },
   {
    "duration": 268,
    "start_time": "2023-05-16T19:11:27.154Z"
   },
   {
    "duration": 315,
    "start_time": "2023-05-16T19:11:53.942Z"
   },
   {
    "duration": 189,
    "start_time": "2023-05-16T19:12:01.350Z"
   },
   {
    "duration": 221,
    "start_time": "2023-05-16T19:12:12.405Z"
   },
   {
    "duration": 240,
    "start_time": "2023-05-16T19:12:23.606Z"
   },
   {
    "duration": 379,
    "start_time": "2023-05-16T19:12:29.543Z"
   },
   {
    "duration": 11,
    "start_time": "2023-05-16T19:12:33.668Z"
   },
   {
    "duration": 27,
    "start_time": "2023-05-16T19:12:36.711Z"
   },
   {
    "duration": 159909,
    "start_time": "2023-05-16T19:12:43.815Z"
   },
   {
    "duration": 1239,
    "start_time": "2023-05-16T19:15:24.609Z"
   },
   {
    "duration": 1114,
    "start_time": "2023-05-16T19:15:38.443Z"
   },
   {
    "duration": 262,
    "start_time": "2023-05-16T19:16:01.429Z"
   },
   {
    "duration": 1058,
    "start_time": "2023-05-16T19:16:10.842Z"
   },
   {
    "duration": 1406,
    "start_time": "2023-05-16T19:17:54.606Z"
   },
   {
    "duration": 3,
    "start_time": "2023-05-16T19:17:56.014Z"
   },
   {
    "duration": 24,
    "start_time": "2023-05-16T19:17:56.018Z"
   },
   {
    "duration": 35,
    "start_time": "2023-05-16T19:17:56.044Z"
   },
   {
    "duration": 22,
    "start_time": "2023-05-16T19:17:56.082Z"
   },
   {
    "duration": 54,
    "start_time": "2023-05-16T19:17:56.105Z"
   },
   {
    "duration": 25,
    "start_time": "2023-05-16T19:17:56.160Z"
   },
   {
    "duration": 9,
    "start_time": "2023-05-16T19:17:56.187Z"
   },
   {
    "duration": 57,
    "start_time": "2023-05-16T19:17:56.197Z"
   },
   {
    "duration": 23,
    "start_time": "2023-05-16T19:17:56.255Z"
   },
   {
    "duration": 1046,
    "start_time": "2023-05-16T19:17:56.280Z"
   },
   {
    "duration": 171,
    "start_time": "2023-05-16T19:17:57.327Z"
   },
   {
    "duration": 1070,
    "start_time": "2023-05-16T19:18:19.383Z"
   },
   {
    "duration": 1097,
    "start_time": "2023-05-16T19:18:28.440Z"
   },
   {
    "duration": 1228,
    "start_time": "2023-05-16T19:18:35.141Z"
   },
   {
    "duration": 144,
    "start_time": "2023-05-16T19:19:18.204Z"
   },
   {
    "duration": 38,
    "start_time": "2023-05-16T19:19:37.721Z"
   },
   {
    "duration": 8,
    "start_time": "2023-05-16T19:19:42.435Z"
   },
   {
    "duration": 35,
    "start_time": "2023-05-16T19:19:50.914Z"
   },
   {
    "duration": 11,
    "start_time": "2023-05-16T19:19:56.519Z"
   },
   {
    "duration": 9,
    "start_time": "2023-05-16T19:20:02.521Z"
   },
   {
    "duration": 21,
    "start_time": "2023-05-16T19:20:10.808Z"
   },
   {
    "duration": 17,
    "start_time": "2023-05-16T19:20:20.302Z"
   },
   {
    "duration": 1594,
    "start_time": "2023-05-16T19:20:25.544Z"
   },
   {
    "duration": 1574,
    "start_time": "2023-05-16T19:21:00.802Z"
   },
   {
    "duration": 1581,
    "start_time": "2023-05-16T19:21:06.724Z"
   },
   {
    "duration": 45,
    "start_time": "2023-05-16T19:21:27.136Z"
   },
   {
    "duration": 1202,
    "start_time": "2023-05-16T19:21:33.540Z"
   },
   {
    "duration": 1176,
    "start_time": "2023-05-16T19:22:24.443Z"
   },
   {
    "duration": 20,
    "start_time": "2023-05-16T19:25:25.305Z"
   },
   {
    "duration": 32,
    "start_time": "2023-05-16T19:25:56.900Z"
   },
   {
    "duration": 1349,
    "start_time": "2023-05-16T19:26:06.904Z"
   },
   {
    "duration": 7,
    "start_time": "2023-05-16T19:26:39.004Z"
   },
   {
    "duration": 10,
    "start_time": "2023-05-16T19:26:54.110Z"
   },
   {
    "duration": 988,
    "start_time": "2023-05-16T19:27:08.123Z"
   },
   {
    "duration": 847,
    "start_time": "2023-05-16T19:27:35.248Z"
   },
   {
    "duration": 1195,
    "start_time": "2023-05-16T19:27:51.439Z"
   },
   {
    "duration": 165,
    "start_time": "2023-05-16T19:28:08.347Z"
   },
   {
    "duration": 1441,
    "start_time": "2023-05-16T19:28:10.935Z"
   },
   {
    "duration": 1345,
    "start_time": "2023-05-16T19:28:41.304Z"
   },
   {
    "duration": 2424,
    "start_time": "2023-05-16T19:28:48.114Z"
   },
   {
    "duration": 1500,
    "start_time": "2023-05-16T19:28:59.548Z"
   },
   {
    "duration": 1699,
    "start_time": "2023-05-16T19:29:07.419Z"
   },
   {
    "duration": 14,
    "start_time": "2023-05-16T19:29:29.542Z"
   },
   {
    "duration": 1785,
    "start_time": "2023-05-16T19:29:30.112Z"
   },
   {
    "duration": 6,
    "start_time": "2023-05-16T19:29:41.396Z"
   },
   {
    "duration": 11,
    "start_time": "2023-05-16T19:29:44.592Z"
   },
   {
    "duration": 1699,
    "start_time": "2023-05-16T19:29:45.335Z"
   },
   {
    "duration": 4,
    "start_time": "2023-05-16T19:29:51.310Z"
   },
   {
    "duration": 2038,
    "start_time": "2023-05-16T19:29:53.112Z"
   },
   {
    "duration": 11,
    "start_time": "2023-05-16T19:30:01.128Z"
   },
   {
    "duration": 1833,
    "start_time": "2023-05-16T19:30:03.208Z"
   },
   {
    "duration": 1560,
    "start_time": "2023-05-16T19:30:17.603Z"
   },
   {
    "duration": 266,
    "start_time": "2023-05-16T19:30:52.002Z"
   },
   {
    "duration": 320,
    "start_time": "2023-05-16T19:31:01.334Z"
   },
   {
    "duration": 616,
    "start_time": "2023-05-16T19:31:17.239Z"
   },
   {
    "duration": 813,
    "start_time": "2023-05-16T19:31:20.964Z"
   },
   {
    "duration": 637,
    "start_time": "2023-05-16T19:31:24.409Z"
   },
   {
    "duration": 1517,
    "start_time": "2023-05-16T19:31:36.120Z"
   },
   {
    "duration": 3,
    "start_time": "2023-05-16T19:31:37.639Z"
   },
   {
    "duration": 5,
    "start_time": "2023-05-16T19:31:37.643Z"
   },
   {
    "duration": 34,
    "start_time": "2023-05-16T19:31:37.649Z"
   },
   {
    "duration": 13,
    "start_time": "2023-05-16T19:31:37.692Z"
   },
   {
    "duration": 41,
    "start_time": "2023-05-16T19:31:37.709Z"
   },
   {
    "duration": 21,
    "start_time": "2023-05-16T19:31:37.752Z"
   },
   {
    "duration": 7,
    "start_time": "2023-05-16T19:31:37.774Z"
   },
   {
    "duration": 8,
    "start_time": "2023-05-16T19:31:37.783Z"
   },
   {
    "duration": 56,
    "start_time": "2023-05-16T19:31:37.792Z"
   },
   {
    "duration": 10,
    "start_time": "2023-05-16T19:31:37.849Z"
   },
   {
    "duration": 6,
    "start_time": "2023-05-16T19:31:37.860Z"
   },
   {
    "duration": 5,
    "start_time": "2023-05-16T19:31:37.867Z"
   },
   {
    "duration": 443,
    "start_time": "2023-05-16T19:31:37.874Z"
   },
   {
    "duration": 562,
    "start_time": "2023-05-16T19:31:57.890Z"
   },
   {
    "duration": 3,
    "start_time": "2023-05-16T19:32:01.535Z"
   },
   {
    "duration": 5,
    "start_time": "2023-05-16T19:32:04.039Z"
   },
   {
    "duration": 623,
    "start_time": "2023-05-16T19:32:04.244Z"
   },
   {
    "duration": 4,
    "start_time": "2023-05-16T19:32:10.213Z"
   },
   {
    "duration": 598,
    "start_time": "2023-05-16T19:32:10.424Z"
   },
   {
    "duration": 1535,
    "start_time": "2023-05-16T19:32:13.311Z"
   },
   {
    "duration": 959,
    "start_time": "2023-05-16T19:32:31.720Z"
   },
   {
    "duration": 932,
    "start_time": "2023-05-16T19:32:40.828Z"
   },
   {
    "duration": 1326,
    "start_time": "2023-05-16T19:32:46.334Z"
   },
   {
    "duration": 976,
    "start_time": "2023-05-16T19:32:52.620Z"
   },
   {
    "duration": 769,
    "start_time": "2023-05-16T19:32:55.370Z"
   },
   {
    "duration": 853,
    "start_time": "2023-05-16T19:32:57.147Z"
   },
   {
    "duration": 738,
    "start_time": "2023-05-16T19:32:59.628Z"
   },
   {
    "duration": 900,
    "start_time": "2023-05-16T19:33:06.415Z"
   },
   {
    "duration": 955,
    "start_time": "2023-05-16T19:33:09.703Z"
   },
   {
    "duration": 7,
    "start_time": "2023-05-16T19:33:25.282Z"
   },
   {
    "duration": 511,
    "start_time": "2023-05-16T19:33:25.908Z"
   },
   {
    "duration": 737,
    "start_time": "2023-05-16T19:33:31.519Z"
   },
   {
    "duration": 792,
    "start_time": "2023-05-16T19:33:51.207Z"
   },
   {
    "duration": 714,
    "start_time": "2023-05-16T19:33:54.804Z"
   },
   {
    "duration": 854,
    "start_time": "2023-05-16T19:34:03.204Z"
   },
   {
    "duration": 712,
    "start_time": "2023-05-16T19:34:07.807Z"
   },
   {
    "duration": 965,
    "start_time": "2023-05-16T19:34:13.508Z"
   },
   {
    "duration": 245,
    "start_time": "2023-05-16T19:36:05.895Z"
   },
   {
    "duration": 142,
    "start_time": "2023-05-16T19:36:12.443Z"
   },
   {
    "duration": 692,
    "start_time": "2023-05-16T19:36:14.685Z"
   },
   {
    "duration": 4,
    "start_time": "2023-05-16T19:36:30.013Z"
   },
   {
    "duration": 770,
    "start_time": "2023-05-16T19:36:43.950Z"
   },
   {
    "duration": 735,
    "start_time": "2023-05-16T19:36:48.811Z"
   },
   {
    "duration": 19,
    "start_time": "2023-05-16T19:37:14.333Z"
   },
   {
    "duration": 663,
    "start_time": "2023-05-16T19:37:16.815Z"
   },
   {
    "duration": 768,
    "start_time": "2023-05-16T19:37:41.360Z"
   },
   {
    "duration": 642,
    "start_time": "2023-05-16T19:37:50.738Z"
   },
   {
    "duration": 3,
    "start_time": "2023-05-16T22:09:55.755Z"
   },
   {
    "duration": 10,
    "start_time": "2023-05-16T22:11:29.738Z"
   },
   {
    "duration": 17,
    "start_time": "2023-05-16T22:12:01.232Z"
   },
   {
    "duration": 12,
    "start_time": "2023-05-16T22:13:31.689Z"
   },
   {
    "duration": 9,
    "start_time": "2023-05-16T22:13:44.667Z"
   },
   {
    "duration": 5,
    "start_time": "2023-05-16T22:13:57.064Z"
   },
   {
    "duration": 10,
    "start_time": "2023-05-16T22:13:59.525Z"
   },
   {
    "duration": 12,
    "start_time": "2023-05-16T22:14:29.193Z"
   },
   {
    "duration": 9,
    "start_time": "2023-05-16T22:15:29.601Z"
   },
   {
    "duration": 4,
    "start_time": "2023-05-16T22:15:31.137Z"
   },
   {
    "duration": 1207,
    "start_time": "2023-05-16T22:15:31.476Z"
   },
   {
    "duration": 8,
    "start_time": "2023-05-16T22:17:25.256Z"
   },
   {
    "duration": 3,
    "start_time": "2023-05-16T22:18:06.568Z"
   },
   {
    "duration": 476,
    "start_time": "2023-05-16T22:18:26.838Z"
   },
   {
    "duration": 1687,
    "start_time": "2023-05-16T22:18:44.315Z"
   },
   {
    "duration": 2,
    "start_time": "2023-05-16T22:18:46.004Z"
   },
   {
    "duration": 4,
    "start_time": "2023-05-16T22:18:46.008Z"
   },
   {
    "duration": 31,
    "start_time": "2023-05-16T22:18:46.014Z"
   },
   {
    "duration": 11,
    "start_time": "2023-05-16T22:18:46.046Z"
   },
   {
    "duration": 9,
    "start_time": "2023-05-16T22:18:46.059Z"
   },
   {
    "duration": 26,
    "start_time": "2023-05-16T22:18:46.070Z"
   },
   {
    "duration": 7,
    "start_time": "2023-05-16T22:18:46.097Z"
   },
   {
    "duration": 4,
    "start_time": "2023-05-16T22:18:46.106Z"
   },
   {
    "duration": 11,
    "start_time": "2023-05-16T22:18:46.112Z"
   },
   {
    "duration": 746,
    "start_time": "2023-05-16T22:18:46.124Z"
   },
   {
    "duration": 5,
    "start_time": "2023-05-16T22:18:46.872Z"
   },
   {
    "duration": 189,
    "start_time": "2023-05-16T22:18:46.884Z"
   },
   {
    "duration": 0,
    "start_time": "2023-05-16T22:18:47.075Z"
   },
   {
    "duration": 0,
    "start_time": "2023-05-16T22:18:47.076Z"
   },
   {
    "duration": 4,
    "start_time": "2023-05-16T22:18:59.379Z"
   },
   {
    "duration": 79,
    "start_time": "2023-05-16T22:18:59.961Z"
   },
   {
    "duration": 3,
    "start_time": "2023-05-16T22:19:13.616Z"
   },
   {
    "duration": 10,
    "start_time": "2023-05-16T22:19:14.672Z"
   },
   {
    "duration": 3,
    "start_time": "2023-05-16T22:19:16.496Z"
   },
   {
    "duration": 10,
    "start_time": "2023-05-16T22:19:16.945Z"
   },
   {
    "duration": 4,
    "start_time": "2023-05-16T22:20:25.117Z"
   },
   {
    "duration": 8,
    "start_time": "2023-05-16T22:20:41.772Z"
   },
   {
    "duration": 4,
    "start_time": "2023-05-16T22:21:51.832Z"
   },
   {
    "duration": 11,
    "start_time": "2023-05-16T22:22:09.482Z"
   },
   {
    "duration": 10,
    "start_time": "2023-05-16T22:23:18.346Z"
   },
   {
    "duration": 10,
    "start_time": "2023-05-16T22:23:55.929Z"
   },
   {
    "duration": 4,
    "start_time": "2023-05-16T22:24:03.595Z"
   },
   {
    "duration": 9,
    "start_time": "2023-05-16T22:24:25.576Z"
   },
   {
    "duration": 4,
    "start_time": "2023-05-16T22:24:31.087Z"
   },
   {
    "duration": 5,
    "start_time": "2023-05-16T22:24:59.296Z"
   },
   {
    "duration": 1989,
    "start_time": "2023-05-17T13:05:49.847Z"
   },
   {
    "duration": 3,
    "start_time": "2023-05-17T13:05:51.839Z"
   },
   {
    "duration": 27,
    "start_time": "2023-05-17T13:05:51.844Z"
   },
   {
    "duration": 111,
    "start_time": "2023-05-17T13:05:51.873Z"
   },
   {
    "duration": 16,
    "start_time": "2023-05-17T13:05:51.987Z"
   },
   {
    "duration": 40,
    "start_time": "2023-05-17T13:05:52.005Z"
   },
   {
    "duration": 54,
    "start_time": "2023-05-17T13:05:52.047Z"
   },
   {
    "duration": 19,
    "start_time": "2023-05-17T13:05:52.104Z"
   },
   {
    "duration": 33,
    "start_time": "2023-05-17T13:05:52.125Z"
   },
   {
    "duration": 37,
    "start_time": "2023-05-17T13:05:52.161Z"
   },
   {
    "duration": 937,
    "start_time": "2023-05-17T13:05:52.201Z"
   },
   {
    "duration": 5,
    "start_time": "2023-05-17T13:05:53.140Z"
   },
   {
    "duration": 35,
    "start_time": "2023-05-17T13:05:53.147Z"
   },
   {
    "duration": 86,
    "start_time": "2023-05-17T13:05:53.187Z"
   },
   {
    "duration": 112,
    "start_time": "2023-05-17T13:05:53.275Z"
   },
   {
    "duration": 37,
    "start_time": "2023-05-17T13:05:53.389Z"
   },
   {
    "duration": 44,
    "start_time": "2023-05-17T13:05:53.428Z"
   },
   {
    "duration": 107,
    "start_time": "2023-05-17T13:05:53.474Z"
   },
   {
    "duration": 5,
    "start_time": "2023-05-17T13:05:53.583Z"
   },
   {
    "duration": 133,
    "start_time": "2023-05-17T13:05:53.590Z"
   },
   {
    "duration": 6,
    "start_time": "2023-05-17T13:06:56.532Z"
   },
   {
    "duration": 5,
    "start_time": "2023-05-17T13:08:22.416Z"
   },
   {
    "duration": 5,
    "start_time": "2023-05-17T13:08:24.057Z"
   },
   {
    "duration": 5,
    "start_time": "2023-05-17T13:08:24.824Z"
   },
   {
    "duration": 2,
    "start_time": "2023-05-17T13:08:25.712Z"
   },
   {
    "duration": 6,
    "start_time": "2023-05-17T13:08:36.854Z"
   },
   {
    "duration": 6,
    "start_time": "2023-05-17T13:08:37.518Z"
   },
   {
    "duration": 6,
    "start_time": "2023-05-17T13:08:38.803Z"
   },
   {
    "duration": 6,
    "start_time": "2023-05-17T13:08:39.499Z"
   },
   {
    "duration": 7,
    "start_time": "2023-05-17T13:08:39.911Z"
   },
   {
    "duration": 6,
    "start_time": "2023-05-17T13:08:40.308Z"
   },
   {
    "duration": 6,
    "start_time": "2023-05-17T13:08:41.442Z"
   },
   {
    "duration": 6,
    "start_time": "2023-05-17T13:08:42.318Z"
   },
   {
    "duration": 1072,
    "start_time": "2023-05-17T13:08:54.583Z"
   },
   {
    "duration": 675,
    "start_time": "2023-05-17T13:09:21.142Z"
   },
   {
    "duration": 370,
    "start_time": "2023-05-17T13:09:36.353Z"
   },
   {
    "duration": 216,
    "start_time": "2023-05-17T13:09:52.456Z"
   },
   {
    "duration": 7,
    "start_time": "2023-05-17T13:10:03.080Z"
   },
   {
    "duration": 142,
    "start_time": "2023-05-17T13:10:40.750Z"
   },
   {
    "duration": 317,
    "start_time": "2023-05-17T13:10:48.791Z"
   },
   {
    "duration": 1087,
    "start_time": "2023-05-17T13:10:55.265Z"
   },
   {
    "duration": 12,
    "start_time": "2023-05-17T13:11:01.107Z"
   },
   {
    "duration": 823,
    "start_time": "2023-05-17T13:11:14.666Z"
   },
   {
    "duration": 6,
    "start_time": "2023-05-17T13:11:22.411Z"
   },
   {
    "duration": 5,
    "start_time": "2023-05-17T13:11:22.892Z"
   },
   {
    "duration": 6,
    "start_time": "2023-05-17T13:11:23.308Z"
   },
   {
    "duration": 13,
    "start_time": "2023-05-17T13:11:37.646Z"
   },
   {
    "duration": 11,
    "start_time": "2023-05-17T13:11:43.635Z"
   },
   {
    "duration": 13,
    "start_time": "2023-05-17T13:11:56.507Z"
   },
   {
    "duration": 17,
    "start_time": "2023-05-17T13:12:32.073Z"
   },
   {
    "duration": 15,
    "start_time": "2023-05-17T13:16:56.028Z"
   },
   {
    "duration": 6,
    "start_time": "2023-05-17T13:16:57.735Z"
   },
   {
    "duration": 7,
    "start_time": "2023-05-17T13:16:58.307Z"
   },
   {
    "duration": 13,
    "start_time": "2023-05-17T13:16:58.916Z"
   },
   {
    "duration": 6,
    "start_time": "2023-05-17T13:17:01.143Z"
   },
   {
    "duration": 6,
    "start_time": "2023-05-17T13:17:01.400Z"
   },
   {
    "duration": 16,
    "start_time": "2023-05-17T13:17:01.642Z"
   },
   {
    "duration": 7,
    "start_time": "2023-05-17T13:17:04.337Z"
   },
   {
    "duration": 7,
    "start_time": "2023-05-17T13:17:04.816Z"
   },
   {
    "duration": 7,
    "start_time": "2023-05-17T13:17:05.145Z"
   },
   {
    "duration": 13,
    "start_time": "2023-05-17T13:17:05.544Z"
   },
   {
    "duration": 5,
    "start_time": "2023-05-17T13:17:30.892Z"
   },
   {
    "duration": 12,
    "start_time": "2023-05-17T13:17:31.847Z"
   },
   {
    "duration": 6,
    "start_time": "2023-05-17T13:17:36.150Z"
   },
   {
    "duration": 5,
    "start_time": "2023-05-17T13:17:36.592Z"
   },
   {
    "duration": 5,
    "start_time": "2023-05-17T13:17:36.940Z"
   },
   {
    "duration": 15,
    "start_time": "2023-05-17T13:17:37.350Z"
   },
   {
    "duration": 53,
    "start_time": "2023-05-17T13:17:37.924Z"
   },
   {
    "duration": 5,
    "start_time": "2023-05-17T13:18:56.436Z"
   },
   {
    "duration": 61,
    "start_time": "2023-05-17T13:18:56.443Z"
   },
   {
    "duration": 10,
    "start_time": "2023-05-17T13:18:56.506Z"
   },
   {
    "duration": 43,
    "start_time": "2023-05-17T13:18:56.518Z"
   },
   {
    "duration": 11,
    "start_time": "2023-05-17T13:18:56.563Z"
   },
   {
    "duration": 14,
    "start_time": "2023-05-17T13:18:56.576Z"
   },
   {
    "duration": 66,
    "start_time": "2023-05-17T13:18:56.592Z"
   },
   {
    "duration": 27,
    "start_time": "2023-05-17T13:18:56.660Z"
   },
   {
    "duration": 43,
    "start_time": "2023-05-17T13:18:56.689Z"
   },
   {
    "duration": 12,
    "start_time": "2023-05-17T13:18:56.734Z"
   },
   {
    "duration": 992,
    "start_time": "2023-05-17T13:18:56.748Z"
   },
   {
    "duration": 7,
    "start_time": "2023-05-17T13:18:57.743Z"
   },
   {
    "duration": 23,
    "start_time": "2023-05-17T13:18:57.752Z"
   },
   {
    "duration": 95,
    "start_time": "2023-05-17T13:18:57.778Z"
   },
   {
    "duration": 105,
    "start_time": "2023-05-17T13:18:57.875Z"
   },
   {
    "duration": 11,
    "start_time": "2023-05-17T13:18:57.982Z"
   },
   {
    "duration": 80,
    "start_time": "2023-05-17T13:18:57.996Z"
   },
   {
    "duration": 102,
    "start_time": "2023-05-17T13:18:58.078Z"
   },
   {
    "duration": 100,
    "start_time": "2023-05-17T13:18:58.183Z"
   },
   {
    "duration": 187,
    "start_time": "2023-05-17T13:18:58.286Z"
   },
   {
    "duration": 24,
    "start_time": "2023-05-17T13:18:58.475Z"
   },
   {
    "duration": 13,
    "start_time": "2023-05-17T13:19:39.131Z"
   },
   {
    "duration": 10,
    "start_time": "2023-05-17T13:19:43.047Z"
   },
   {
    "duration": 12,
    "start_time": "2023-05-17T13:19:45.307Z"
   },
   {
    "duration": 7,
    "start_time": "2023-05-17T13:19:54.744Z"
   },
   {
    "duration": 10,
    "start_time": "2023-05-17T13:19:57.952Z"
   },
   {
    "duration": 4,
    "start_time": "2023-05-17T13:20:00.404Z"
   },
   {
    "duration": 5,
    "start_time": "2023-05-17T13:20:36.420Z"
   },
   {
    "duration": 9,
    "start_time": "2023-05-17T13:20:46.040Z"
   },
   {
    "duration": 11,
    "start_time": "2023-05-17T13:20:57.293Z"
   },
   {
    "duration": 13,
    "start_time": "2023-05-17T13:21:28.551Z"
   },
   {
    "duration": 5,
    "start_time": "2023-05-17T13:21:41.454Z"
   },
   {
    "duration": 27,
    "start_time": "2023-05-17T13:21:45.746Z"
   },
   {
    "duration": 6,
    "start_time": "2023-05-17T13:21:56.384Z"
   },
   {
    "duration": 13,
    "start_time": "2023-05-17T13:21:58.649Z"
   },
   {
    "duration": 3,
    "start_time": "2023-05-17T13:23:03.451Z"
   },
   {
    "duration": 3,
    "start_time": "2023-05-17T13:23:05.592Z"
   },
   {
    "duration": 13,
    "start_time": "2023-05-17T13:23:07.147Z"
   },
   {
    "duration": 19,
    "start_time": "2023-05-17T13:23:11.156Z"
   },
   {
    "duration": 16,
    "start_time": "2023-05-17T13:23:13.955Z"
   },
   {
    "duration": 3,
    "start_time": "2023-05-17T13:24:03.967Z"
   },
   {
    "duration": 12,
    "start_time": "2023-05-17T13:24:05.049Z"
   },
   {
    "duration": 14,
    "start_time": "2023-05-17T13:24:16.658Z"
   },
   {
    "duration": 12,
    "start_time": "2023-05-17T13:25:51.099Z"
   },
   {
    "duration": 15,
    "start_time": "2023-05-17T13:25:54.058Z"
   },
   {
    "duration": 12,
    "start_time": "2023-05-17T13:26:40.910Z"
   },
   {
    "duration": 13,
    "start_time": "2023-05-17T13:26:43.107Z"
   },
   {
    "duration": 1764,
    "start_time": "2023-05-17T13:26:53.101Z"
   },
   {
    "duration": 3,
    "start_time": "2023-05-17T13:26:54.867Z"
   },
   {
    "duration": 14,
    "start_time": "2023-05-17T13:26:54.872Z"
   },
   {
    "duration": 36,
    "start_time": "2023-05-17T13:26:54.888Z"
   },
   {
    "duration": 18,
    "start_time": "2023-05-17T13:26:54.927Z"
   },
   {
    "duration": 19,
    "start_time": "2023-05-17T13:26:54.947Z"
   },
   {
    "duration": 35,
    "start_time": "2023-05-17T13:26:54.968Z"
   },
   {
    "duration": 11,
    "start_time": "2023-05-17T13:26:55.006Z"
   },
   {
    "duration": 14,
    "start_time": "2023-05-17T13:26:55.019Z"
   },
   {
    "duration": 10,
    "start_time": "2023-05-17T13:26:55.036Z"
   },
   {
    "duration": 929,
    "start_time": "2023-05-17T13:26:55.048Z"
   },
   {
    "duration": 7,
    "start_time": "2023-05-17T13:26:55.979Z"
   },
   {
    "duration": 8,
    "start_time": "2023-05-17T13:26:55.988Z"
   },
   {
    "duration": 75,
    "start_time": "2023-05-17T13:26:55.999Z"
   },
   {
    "duration": 100,
    "start_time": "2023-05-17T13:26:56.076Z"
   },
   {
    "duration": 19,
    "start_time": "2023-05-17T13:26:56.179Z"
   },
   {
    "duration": 75,
    "start_time": "2023-05-17T13:26:56.200Z"
   },
   {
    "duration": 97,
    "start_time": "2023-05-17T13:26:56.277Z"
   },
   {
    "duration": 103,
    "start_time": "2023-05-17T13:26:56.376Z"
   },
   {
    "duration": 10,
    "start_time": "2023-05-17T13:27:29.529Z"
   },
   {
    "duration": 11,
    "start_time": "2023-05-17T13:27:46.091Z"
   },
   {
    "duration": 16,
    "start_time": "2023-05-17T13:27:56.454Z"
   },
   {
    "duration": 6,
    "start_time": "2023-05-17T13:28:09.590Z"
   },
   {
    "duration": 5,
    "start_time": "2023-05-17T13:28:11.608Z"
   },
   {
    "duration": 5,
    "start_time": "2023-05-17T13:28:15.024Z"
   },
   {
    "duration": 13,
    "start_time": "2023-05-17T13:28:21.554Z"
   },
   {
    "duration": 54,
    "start_time": "2023-05-17T13:28:26.218Z"
   },
   {
    "duration": 54,
    "start_time": "2023-05-17T13:29:07.227Z"
   },
   {
    "duration": 120,
    "start_time": "2023-05-17T13:29:22.751Z"
   },
   {
    "duration": 66,
    "start_time": "2023-05-17T13:29:41.314Z"
   },
   {
    "duration": 111,
    "start_time": "2023-05-17T13:30:53.865Z"
   },
   {
    "duration": 135,
    "start_time": "2023-05-17T13:31:34.840Z"
   },
   {
    "duration": 1589,
    "start_time": "2023-05-17T13:32:37.638Z"
   },
   {
    "duration": 3,
    "start_time": "2023-05-17T13:32:39.230Z"
   },
   {
    "duration": 38,
    "start_time": "2023-05-17T13:32:39.235Z"
   },
   {
    "duration": 17,
    "start_time": "2023-05-17T13:32:39.275Z"
   },
   {
    "duration": 15,
    "start_time": "2023-05-17T13:32:39.295Z"
   },
   {
    "duration": 31,
    "start_time": "2023-05-17T13:32:39.312Z"
   },
   {
    "duration": 34,
    "start_time": "2023-05-17T13:32:39.345Z"
   },
   {
    "duration": 21,
    "start_time": "2023-05-17T13:32:39.382Z"
   },
   {
    "duration": 9,
    "start_time": "2023-05-17T13:32:39.405Z"
   },
   {
    "duration": 879,
    "start_time": "2023-05-17T13:32:39.416Z"
   },
   {
    "duration": 6,
    "start_time": "2023-05-17T13:32:40.297Z"
   },
   {
    "duration": 7,
    "start_time": "2023-05-17T13:32:40.304Z"
   },
   {
    "duration": 58,
    "start_time": "2023-05-17T13:32:40.313Z"
   },
   {
    "duration": 100,
    "start_time": "2023-05-17T13:32:40.375Z"
   },
   {
    "duration": 24,
    "start_time": "2023-05-17T13:32:40.477Z"
   },
   {
    "duration": 71,
    "start_time": "2023-05-17T13:32:40.503Z"
   },
   {
    "duration": 105,
    "start_time": "2023-05-17T13:32:40.577Z"
   },
   {
    "duration": 295,
    "start_time": "2023-05-17T13:32:40.684Z"
   },
   {
    "duration": 4,
    "start_time": "2023-05-17T13:33:09.823Z"
   },
   {
    "duration": 6,
    "start_time": "2023-05-17T13:33:09.829Z"
   },
   {
    "duration": 34,
    "start_time": "2023-05-17T13:33:09.837Z"
   },
   {
    "duration": 11,
    "start_time": "2023-05-17T13:33:09.872Z"
   },
   {
    "duration": 14,
    "start_time": "2023-05-17T13:33:09.885Z"
   },
   {
    "duration": 29,
    "start_time": "2023-05-17T13:33:09.902Z"
   },
   {
    "duration": 5,
    "start_time": "2023-05-17T13:33:09.933Z"
   },
   {
    "duration": 37,
    "start_time": "2023-05-17T13:33:09.940Z"
   },
   {
    "duration": 8,
    "start_time": "2023-05-17T13:33:09.979Z"
   },
   {
    "duration": 18,
    "start_time": "2023-05-17T13:33:09.990Z"
   },
   {
    "duration": 976,
    "start_time": "2023-05-17T13:33:10.010Z"
   },
   {
    "duration": 5,
    "start_time": "2023-05-17T13:33:10.988Z"
   },
   {
    "duration": 21,
    "start_time": "2023-05-17T13:33:10.995Z"
   },
   {
    "duration": 53,
    "start_time": "2023-05-17T13:33:11.020Z"
   },
   {
    "duration": 126,
    "start_time": "2023-05-17T13:33:11.075Z"
   },
   {
    "duration": 27,
    "start_time": "2023-05-17T13:33:11.203Z"
   },
   {
    "duration": 50,
    "start_time": "2023-05-17T13:33:11.232Z"
   },
   {
    "duration": 104,
    "start_time": "2023-05-17T13:33:11.284Z"
   },
   {
    "duration": 384,
    "start_time": "2023-05-17T13:33:11.390Z"
   },
   {
    "duration": 109,
    "start_time": "2023-05-17T13:36:25.504Z"
   },
   {
    "duration": 743,
    "start_time": "2023-05-17T13:36:31.515Z"
   },
   {
    "duration": 11,
    "start_time": "2023-05-17T13:37:47.098Z"
   },
   {
    "duration": 14,
    "start_time": "2023-05-17T13:37:55.064Z"
   },
   {
    "duration": 8,
    "start_time": "2023-05-17T13:37:58.282Z"
   },
   {
    "duration": 6,
    "start_time": "2023-05-17T13:37:59.084Z"
   },
   {
    "duration": 5,
    "start_time": "2023-05-17T13:37:59.636Z"
   },
   {
    "duration": 6,
    "start_time": "2023-05-17T13:38:01.650Z"
   },
   {
    "duration": 8,
    "start_time": "2023-05-17T13:38:02.090Z"
   },
   {
    "duration": 7,
    "start_time": "2023-05-17T13:38:02.495Z"
   },
   {
    "duration": 6,
    "start_time": "2023-05-17T13:38:02.798Z"
   },
   {
    "duration": 6,
    "start_time": "2023-05-17T13:38:07.053Z"
   },
   {
    "duration": 6,
    "start_time": "2023-05-17T13:38:09.695Z"
   },
   {
    "duration": 7,
    "start_time": "2023-05-17T13:38:10.815Z"
   },
   {
    "duration": 6,
    "start_time": "2023-05-17T13:38:12.599Z"
   },
   {
    "duration": 8,
    "start_time": "2023-05-17T13:38:21.187Z"
   },
   {
    "duration": 6,
    "start_time": "2023-05-17T13:38:25.052Z"
   },
   {
    "duration": 8,
    "start_time": "2023-05-17T13:38:28.290Z"
   },
   {
    "duration": 8,
    "start_time": "2023-05-17T13:38:38.316Z"
   },
   {
    "duration": 6,
    "start_time": "2023-05-17T13:38:43.836Z"
   },
   {
    "duration": 6,
    "start_time": "2023-05-17T13:38:44.929Z"
   },
   {
    "duration": 7,
    "start_time": "2023-05-17T13:38:45.460Z"
   },
   {
    "duration": 7,
    "start_time": "2023-05-17T13:38:45.943Z"
   },
   {
    "duration": 7,
    "start_time": "2023-05-17T13:38:46.408Z"
   },
   {
    "duration": 6,
    "start_time": "2023-05-17T13:38:49.641Z"
   },
   {
    "duration": 6,
    "start_time": "2023-05-17T13:38:50.095Z"
   },
   {
    "duration": 5,
    "start_time": "2023-05-17T13:38:50.536Z"
   },
   {
    "duration": 6,
    "start_time": "2023-05-17T13:38:50.999Z"
   },
   {
    "duration": 6,
    "start_time": "2023-05-17T13:38:51.491Z"
   },
   {
    "duration": 5,
    "start_time": "2023-05-17T13:38:51.936Z"
   },
   {
    "duration": 6,
    "start_time": "2023-05-17T13:38:52.433Z"
   },
   {
    "duration": 10,
    "start_time": "2023-05-17T13:38:52.921Z"
   },
   {
    "duration": 6,
    "start_time": "2023-05-17T13:38:53.371Z"
   },
   {
    "duration": 6,
    "start_time": "2023-05-17T13:39:01.656Z"
   },
   {
    "duration": 5,
    "start_time": "2023-05-17T13:39:02.168Z"
   },
   {
    "duration": 6,
    "start_time": "2023-05-17T13:39:02.725Z"
   },
   {
    "duration": 6,
    "start_time": "2023-05-17T13:39:03.240Z"
   },
   {
    "duration": 5,
    "start_time": "2023-05-17T13:39:03.713Z"
   },
   {
    "duration": 5,
    "start_time": "2023-05-17T13:39:08.637Z"
   },
   {
    "duration": 6,
    "start_time": "2023-05-17T13:39:09.993Z"
   },
   {
    "duration": 6,
    "start_time": "2023-05-17T13:39:10.427Z"
   },
   {
    "duration": 6,
    "start_time": "2023-05-17T13:39:10.819Z"
   },
   {
    "duration": 2093,
    "start_time": "2023-05-17T13:39:51.737Z"
   },
   {
    "duration": 12,
    "start_time": "2023-05-17T13:39:57.072Z"
   },
   {
    "duration": 7,
    "start_time": "2023-05-17T13:40:02.718Z"
   },
   {
    "duration": 7,
    "start_time": "2023-05-17T13:40:57.602Z"
   },
   {
    "duration": 7,
    "start_time": "2023-05-17T13:40:59.487Z"
   },
   {
    "duration": 7,
    "start_time": "2023-05-17T13:41:00.143Z"
   },
   {
    "duration": 7,
    "start_time": "2023-05-17T13:41:00.790Z"
   },
   {
    "duration": 7,
    "start_time": "2023-05-17T13:41:01.808Z"
   },
   {
    "duration": 5,
    "start_time": "2023-05-17T13:41:05.540Z"
   },
   {
    "duration": 11,
    "start_time": "2023-05-17T13:41:06.454Z"
   },
   {
    "duration": 6,
    "start_time": "2023-05-17T13:41:06.859Z"
   },
   {
    "duration": 6,
    "start_time": "2023-05-17T13:41:07.387Z"
   },
   {
    "duration": 6,
    "start_time": "2023-05-17T13:41:08.919Z"
   },
   {
    "duration": 6,
    "start_time": "2023-05-17T13:41:10.590Z"
   },
   {
    "duration": 5,
    "start_time": "2023-05-17T13:41:11.432Z"
   },
   {
    "duration": 6,
    "start_time": "2023-05-17T13:41:12.748Z"
   },
   {
    "duration": 13,
    "start_time": "2023-05-17T13:41:14.904Z"
   },
   {
    "duration": 94,
    "start_time": "2023-05-17T13:41:18.287Z"
   },
   {
    "duration": 6,
    "start_time": "2023-05-17T13:41:35.255Z"
   },
   {
    "duration": 10,
    "start_time": "2023-05-17T13:41:35.822Z"
   },
   {
    "duration": 12,
    "start_time": "2023-05-17T13:41:36.199Z"
   },
   {
    "duration": 97,
    "start_time": "2023-05-17T13:41:53.174Z"
   },
   {
    "duration": 4,
    "start_time": "2023-05-17T13:41:53.274Z"
   },
   {
    "duration": 50,
    "start_time": "2023-05-17T13:41:53.280Z"
   },
   {
    "duration": 13,
    "start_time": "2023-05-17T13:41:53.332Z"
   },
   {
    "duration": 35,
    "start_time": "2023-05-17T13:41:53.347Z"
   },
   {
    "duration": 38,
    "start_time": "2023-05-17T13:41:53.384Z"
   },
   {
    "duration": 10,
    "start_time": "2023-05-17T13:41:53.424Z"
   },
   {
    "duration": 16,
    "start_time": "2023-05-17T13:41:53.436Z"
   },
   {
    "duration": 24,
    "start_time": "2023-05-17T13:41:53.454Z"
   },
   {
    "duration": 1018,
    "start_time": "2023-05-17T13:41:53.481Z"
   },
   {
    "duration": 5,
    "start_time": "2023-05-17T13:41:54.501Z"
   },
   {
    "duration": 9,
    "start_time": "2023-05-17T13:41:54.508Z"
   },
   {
    "duration": 162,
    "start_time": "2023-05-17T13:41:54.518Z"
   },
   {
    "duration": 11,
    "start_time": "2023-05-17T13:41:54.682Z"
   },
   {
    "duration": 7,
    "start_time": "2023-05-17T13:41:54.771Z"
   },
   {
    "duration": 91,
    "start_time": "2023-05-17T13:41:54.780Z"
   },
   {
    "duration": 17,
    "start_time": "2023-05-17T13:41:54.874Z"
   },
   {
    "duration": 191,
    "start_time": "2023-05-17T13:41:54.893Z"
   },
   {
    "duration": 2563,
    "start_time": "2023-05-17T18:31:56.721Z"
   },
   {
    "duration": 14,
    "start_time": "2023-05-17T18:31:59.287Z"
   },
   {
    "duration": 38,
    "start_time": "2023-05-17T18:31:59.317Z"
   },
   {
    "duration": 25,
    "start_time": "2023-05-17T18:31:59.363Z"
   },
   {
    "duration": 25,
    "start_time": "2023-05-17T18:31:59.397Z"
   },
   {
    "duration": 67,
    "start_time": "2023-05-17T18:31:59.436Z"
   },
   {
    "duration": 34,
    "start_time": "2023-05-17T18:31:59.520Z"
   },
   {
    "duration": 12,
    "start_time": "2023-05-17T18:31:59.561Z"
   },
   {
    "duration": 17,
    "start_time": "2023-05-17T18:31:59.578Z"
   },
   {
    "duration": 1459,
    "start_time": "2023-05-17T18:31:59.597Z"
   },
   {
    "duration": 7,
    "start_time": "2023-05-17T18:32:01.061Z"
   },
   {
    "duration": 52,
    "start_time": "2023-05-17T18:32:01.071Z"
   },
   {
    "duration": 148,
    "start_time": "2023-05-17T18:32:01.125Z"
   },
   {
    "duration": 78,
    "start_time": "2023-05-17T18:32:01.313Z"
   },
   {
    "duration": 34,
    "start_time": "2023-05-17T18:32:01.404Z"
   },
   {
    "duration": 17,
    "start_time": "2023-05-17T18:32:01.446Z"
   },
   {
    "duration": 41,
    "start_time": "2023-05-17T18:32:01.494Z"
   },
   {
    "duration": 412,
    "start_time": "2023-05-17T18:32:01.542Z"
   },
   {
    "duration": 1525,
    "start_time": "2023-05-18T12:13:00.486Z"
   },
   {
    "duration": 77,
    "start_time": "2023-05-18T12:14:28.053Z"
   },
   {
    "duration": 158,
    "start_time": "2023-05-18T12:14:35.529Z"
   },
   {
    "duration": 83,
    "start_time": "2023-05-18T12:14:39.317Z"
   },
   {
    "duration": 19,
    "start_time": "2023-05-18T12:14:42.857Z"
   },
   {
    "duration": 28,
    "start_time": "2023-05-18T12:14:49.437Z"
   },
   {
    "duration": 253,
    "start_time": "2023-05-18T12:53:47.790Z"
   },
   {
    "duration": 4,
    "start_time": "2023-05-18T12:53:52.510Z"
   },
   {
    "duration": 11,
    "start_time": "2023-05-18T12:53:52.516Z"
   },
   {
    "duration": 31,
    "start_time": "2023-05-18T12:53:52.529Z"
   },
   {
    "duration": 10,
    "start_time": "2023-05-18T12:53:52.563Z"
   },
   {
    "duration": 28,
    "start_time": "2023-05-18T12:53:52.574Z"
   },
   {
    "duration": 51,
    "start_time": "2023-05-18T12:53:52.603Z"
   },
   {
    "duration": 9,
    "start_time": "2023-05-18T12:53:52.655Z"
   },
   {
    "duration": 48,
    "start_time": "2023-05-18T12:53:52.666Z"
   },
   {
    "duration": 20,
    "start_time": "2023-05-18T12:53:52.715Z"
   },
   {
    "duration": 123,
    "start_time": "2023-05-18T12:53:52.737Z"
   },
   {
    "duration": 0,
    "start_time": "2023-05-18T12:53:52.861Z"
   },
   {
    "duration": 0,
    "start_time": "2023-05-18T12:53:52.862Z"
   },
   {
    "duration": 1,
    "start_time": "2023-05-18T12:53:52.863Z"
   },
   {
    "duration": 0,
    "start_time": "2023-05-18T12:53:52.865Z"
   },
   {
    "duration": 0,
    "start_time": "2023-05-18T12:53:52.866Z"
   },
   {
    "duration": 0,
    "start_time": "2023-05-18T12:53:52.867Z"
   },
   {
    "duration": 0,
    "start_time": "2023-05-18T12:53:52.868Z"
   },
   {
    "duration": 0,
    "start_time": "2023-05-18T12:53:52.869Z"
   },
   {
    "duration": 107,
    "start_time": "2023-05-18T12:54:06.710Z"
   },
   {
    "duration": 854,
    "start_time": "2023-05-18T12:55:25.969Z"
   },
   {
    "duration": 1406,
    "start_time": "2023-05-18T12:56:41.826Z"
   },
   {
    "duration": 2,
    "start_time": "2023-05-18T12:56:43.235Z"
   },
   {
    "duration": 36,
    "start_time": "2023-05-18T12:56:43.239Z"
   },
   {
    "duration": 11,
    "start_time": "2023-05-18T12:56:43.277Z"
   },
   {
    "duration": 49,
    "start_time": "2023-05-18T12:56:43.290Z"
   },
   {
    "duration": 31,
    "start_time": "2023-05-18T12:56:43.341Z"
   },
   {
    "duration": 9,
    "start_time": "2023-05-18T12:56:43.373Z"
   },
   {
    "duration": 54,
    "start_time": "2023-05-18T12:56:43.383Z"
   },
   {
    "duration": 19,
    "start_time": "2023-05-18T12:56:43.439Z"
   },
   {
    "duration": 880,
    "start_time": "2023-05-18T12:56:43.459Z"
   },
   {
    "duration": 24171,
    "start_time": "2023-05-18T12:56:44.341Z"
   },
   {
    "duration": 5,
    "start_time": "2023-05-18T12:57:08.514Z"
   },
   {
    "duration": 11,
    "start_time": "2023-05-18T12:57:08.520Z"
   },
   {
    "duration": 64,
    "start_time": "2023-05-18T12:57:08.534Z"
   },
   {
    "duration": 106,
    "start_time": "2023-05-18T12:57:08.606Z"
   },
   {
    "duration": 25,
    "start_time": "2023-05-18T12:57:08.715Z"
   },
   {
    "duration": 11,
    "start_time": "2023-05-18T12:57:08.742Z"
   },
   {
    "duration": 111,
    "start_time": "2023-05-18T12:57:08.799Z"
   },
   {
    "duration": 197,
    "start_time": "2023-05-18T12:57:08.912Z"
   },
   {
    "duration": 132,
    "start_time": "2023-05-18T12:57:43.778Z"
   },
   {
    "duration": 13,
    "start_time": "2023-05-18T12:57:54.180Z"
   },
   {
    "duration": 17,
    "start_time": "2023-05-18T12:58:22.661Z"
   },
   {
    "duration": 30,
    "start_time": "2023-05-18T12:58:32.584Z"
   },
   {
    "duration": 9,
    "start_time": "2023-05-18T12:58:40.841Z"
   },
   {
    "duration": 20,
    "start_time": "2023-05-18T12:58:50.597Z"
   },
   {
    "duration": 69211,
    "start_time": "2023-05-18T12:59:19.956Z"
   },
   {
    "duration": 9,
    "start_time": "2023-05-18T13:00:29.169Z"
   },
   {
    "duration": 77,
    "start_time": "2023-05-18T13:01:32.547Z"
   },
   {
    "duration": 16,
    "start_time": "2023-05-18T13:01:36.315Z"
   },
   {
    "duration": 262,
    "start_time": "2023-05-18T13:01:44.063Z"
   },
   {
    "duration": 9,
    "start_time": "2023-05-18T13:01:50.480Z"
   },
   {
    "duration": 220,
    "start_time": "2023-05-18T13:01:58.916Z"
   },
   {
    "duration": 198,
    "start_time": "2023-05-18T13:02:30.694Z"
   },
   {
    "duration": 9,
    "start_time": "2023-05-18T13:02:42.474Z"
   },
   {
    "duration": 167,
    "start_time": "2023-05-18T13:02:46.657Z"
   },
   {
    "duration": 5,
    "start_time": "2023-05-18T13:02:53.002Z"
   },
   {
    "duration": 222,
    "start_time": "2023-05-18T13:02:57.776Z"
   },
   {
    "duration": 808,
    "start_time": "2023-05-18T13:04:32.004Z"
   },
   {
    "duration": 1007,
    "start_time": "2023-05-18T13:05:14.096Z"
   },
   {
    "duration": 1167,
    "start_time": "2023-05-18T13:05:41.969Z"
   },
   {
    "duration": 2024,
    "start_time": "2023-05-18T13:06:03.352Z"
   },
   {
    "duration": 1268,
    "start_time": "2023-05-18T13:06:13.492Z"
   },
   {
    "duration": 1156,
    "start_time": "2023-05-18T13:06:52.569Z"
   },
   {
    "duration": 1339,
    "start_time": "2023-05-18T13:07:27.672Z"
   },
   {
    "duration": 672,
    "start_time": "2023-05-18T13:08:03.707Z"
   },
   {
    "duration": 1446,
    "start_time": "2023-05-18T13:08:20.261Z"
   },
   {
    "duration": 1214,
    "start_time": "2023-05-18T13:08:30.881Z"
   },
   {
    "duration": 181,
    "start_time": "2023-05-18T13:08:35.504Z"
   },
   {
    "duration": 1467,
    "start_time": "2023-05-18T13:08:45.512Z"
   },
   {
    "duration": 14,
    "start_time": "2023-05-18T13:09:13.993Z"
   },
   {
    "duration": 9,
    "start_time": "2023-05-18T13:09:34.657Z"
   },
   {
    "duration": 9,
    "start_time": "2023-05-18T13:09:51.053Z"
   },
   {
    "duration": 9,
    "start_time": "2023-05-18T13:09:56.977Z"
   },
   {
    "duration": 9,
    "start_time": "2023-05-18T13:10:00.469Z"
   },
   {
    "duration": 11,
    "start_time": "2023-05-18T13:10:04.765Z"
   },
   {
    "duration": 8,
    "start_time": "2023-05-18T13:10:12.912Z"
   },
   {
    "duration": 10,
    "start_time": "2023-05-18T13:10:16.574Z"
   },
   {
    "duration": 6,
    "start_time": "2023-05-18T13:10:20.808Z"
   },
   {
    "duration": 10,
    "start_time": "2023-05-18T13:10:30.348Z"
   },
   {
    "duration": 10,
    "start_time": "2023-05-18T13:10:38.173Z"
   },
   {
    "duration": 9,
    "start_time": "2023-05-18T13:10:40.328Z"
   },
   {
    "duration": 9,
    "start_time": "2023-05-18T13:11:01.114Z"
   },
   {
    "duration": 15,
    "start_time": "2023-05-18T13:11:20.090Z"
   },
   {
    "duration": 8,
    "start_time": "2023-05-18T13:11:26.057Z"
   },
   {
    "duration": 17,
    "start_time": "2023-05-18T13:12:07.689Z"
   },
   {
    "duration": 60,
    "start_time": "2023-05-18T13:12:29.380Z"
   },
   {
    "duration": 12,
    "start_time": "2023-05-18T13:12:32.872Z"
   },
   {
    "duration": 9,
    "start_time": "2023-05-18T13:12:36.984Z"
   },
   {
    "duration": 9,
    "start_time": "2023-05-18T13:13:11.669Z"
   },
   {
    "duration": 10,
    "start_time": "2023-05-18T13:13:14.591Z"
   },
   {
    "duration": 58900,
    "start_time": "2023-05-18T13:13:21.418Z"
   },
   {
    "duration": 18,
    "start_time": "2023-05-18T13:15:43.184Z"
   },
   {
    "duration": 9,
    "start_time": "2023-05-18T13:15:59.594Z"
   },
   {
    "duration": 19,
    "start_time": "2023-05-18T13:16:06.103Z"
   },
   {
    "duration": 20,
    "start_time": "2023-05-18T13:16:08.961Z"
   },
   {
    "duration": 19,
    "start_time": "2023-05-18T13:16:11.110Z"
   },
   {
    "duration": 16,
    "start_time": "2023-05-18T13:16:23.165Z"
   },
   {
    "duration": 14,
    "start_time": "2023-05-18T13:16:31.064Z"
   },
   {
    "duration": 18,
    "start_time": "2023-05-18T13:17:06.865Z"
   },
   {
    "duration": 19,
    "start_time": "2023-05-18T13:17:11.469Z"
   },
   {
    "duration": 18,
    "start_time": "2023-05-18T13:17:13.987Z"
   },
   {
    "duration": 9,
    "start_time": "2023-05-18T13:17:20.582Z"
   },
   {
    "duration": 16,
    "start_time": "2023-05-18T13:17:29.031Z"
   },
   {
    "duration": 17,
    "start_time": "2023-05-18T13:17:45.403Z"
   },
   {
    "duration": 11,
    "start_time": "2023-05-18T13:17:56.480Z"
   },
   {
    "duration": 9,
    "start_time": "2023-05-18T13:17:58.601Z"
   },
   {
    "duration": 12,
    "start_time": "2023-05-18T13:18:07.708Z"
   },
   {
    "duration": 13,
    "start_time": "2023-05-18T13:18:13.079Z"
   },
   {
    "duration": 64,
    "start_time": "2023-05-18T13:18:30.697Z"
   },
   {
    "duration": 17,
    "start_time": "2023-05-18T13:18:33.918Z"
   },
   {
    "duration": 11,
    "start_time": "2023-05-18T13:18:41.728Z"
   },
   {
    "duration": 16,
    "start_time": "2023-05-18T13:19:06.269Z"
   },
   {
    "duration": 14,
    "start_time": "2023-05-18T13:19:23.117Z"
   },
   {
    "duration": 48,
    "start_time": "2023-05-18T13:19:27.606Z"
   },
   {
    "duration": 19,
    "start_time": "2023-05-18T13:19:30.369Z"
   },
   {
    "duration": 12,
    "start_time": "2023-05-18T13:19:38.068Z"
   },
   {
    "duration": 14,
    "start_time": "2023-05-18T13:19:41.688Z"
   },
   {
    "duration": 64,
    "start_time": "2023-05-18T13:20:22.688Z"
   },
   {
    "duration": 23,
    "start_time": "2023-05-18T13:20:47.184Z"
   },
   {
    "duration": 22,
    "start_time": "2023-05-18T13:21:32.981Z"
   },
   {
    "duration": 24,
    "start_time": "2023-05-18T13:21:53.628Z"
   },
   {
    "duration": 17,
    "start_time": "2023-05-18T13:22:16.298Z"
   },
   {
    "duration": 1216,
    "start_time": "2023-05-18T13:22:49.927Z"
   },
   {
    "duration": 2,
    "start_time": "2023-05-18T13:22:51.145Z"
   },
   {
    "duration": 52,
    "start_time": "2023-05-18T13:22:51.149Z"
   },
   {
    "duration": 11,
    "start_time": "2023-05-18T13:22:51.203Z"
   },
   {
    "duration": 29,
    "start_time": "2023-05-18T13:22:51.216Z"
   },
   {
    "duration": 36,
    "start_time": "2023-05-18T13:22:51.246Z"
   },
   {
    "duration": 14,
    "start_time": "2023-05-18T13:22:51.284Z"
   },
   {
    "duration": 37,
    "start_time": "2023-05-18T13:22:51.300Z"
   },
   {
    "duration": 33,
    "start_time": "2023-05-18T13:22:51.339Z"
   },
   {
    "duration": 1467,
    "start_time": "2023-05-18T13:22:51.375Z"
   },
   {
    "duration": 5,
    "start_time": "2023-05-18T13:22:52.894Z"
   },
   {
    "duration": 22,
    "start_time": "2023-05-18T13:22:52.901Z"
   },
   {
    "duration": 75,
    "start_time": "2023-05-18T13:22:52.925Z"
   },
   {
    "duration": 118,
    "start_time": "2023-05-18T13:22:53.003Z"
   },
   {
    "duration": 19,
    "start_time": "2023-05-18T13:22:53.123Z"
   },
   {
    "duration": 55,
    "start_time": "2023-05-18T13:22:53.144Z"
   },
   {
    "duration": 101,
    "start_time": "2023-05-18T13:22:53.201Z"
   },
   {
    "duration": 291,
    "start_time": "2023-05-18T13:22:53.304Z"
   },
   {
    "duration": 117,
    "start_time": "2023-05-18T13:22:53.597Z"
   },
   {
    "duration": 4,
    "start_time": "2023-05-19T13:35:53.510Z"
   },
   {
    "duration": 6,
    "start_time": "2023-05-19T13:35:53.516Z"
   },
   {
    "duration": 27,
    "start_time": "2023-05-19T13:35:53.523Z"
   },
   {
    "duration": 8,
    "start_time": "2023-05-19T13:35:53.552Z"
   },
   {
    "duration": 11,
    "start_time": "2023-05-19T13:35:53.561Z"
   },
   {
    "duration": 21,
    "start_time": "2023-05-19T13:35:53.574Z"
   },
   {
    "duration": 8,
    "start_time": "2023-05-19T13:35:53.597Z"
   },
   {
    "duration": 40,
    "start_time": "2023-05-19T13:35:53.607Z"
   },
   {
    "duration": 5,
    "start_time": "2023-05-19T13:35:53.650Z"
   },
   {
    "duration": 851,
    "start_time": "2023-05-19T13:35:53.657Z"
   },
   {
    "duration": 7883,
    "start_time": "2023-05-19T13:35:54.510Z"
   },
   {
    "duration": 134,
    "start_time": "2023-05-19T13:36:49.632Z"
   },
   {
    "duration": 374,
    "start_time": "2023-05-19T13:37:17.406Z"
   },
   {
    "duration": 436,
    "start_time": "2023-05-19T13:37:34.791Z"
   },
   {
    "duration": 203,
    "start_time": "2023-05-19T13:38:46.444Z"
   },
   {
    "duration": 23,
    "start_time": "2023-05-19T13:38:58.498Z"
   },
   {
    "duration": 24,
    "start_time": "2023-05-19T13:39:06.702Z"
   }
  ],
  "kernelspec": {
   "display_name": "Python 3 (ipykernel)",
   "language": "python",
   "name": "python3"
  },
  "language_info": {
   "codemirror_mode": {
    "name": "ipython",
    "version": 3
   },
   "file_extension": ".py",
   "mimetype": "text/x-python",
   "name": "python",
   "nbconvert_exporter": "python",
   "pygments_lexer": "ipython3",
   "version": "3.9.5"
  },
  "toc": {
   "base_numbering": 1,
   "nav_menu": {},
   "number_sections": true,
   "sideBar": true,
   "skip_h1_title": true,
   "title_cell": "Содержание",
   "title_sidebar": "Contents",
   "toc_cell": true,
   "toc_position": {},
   "toc_section_display": true,
   "toc_window_display": true
  }
 },
 "nbformat": 4,
 "nbformat_minor": 2
}
