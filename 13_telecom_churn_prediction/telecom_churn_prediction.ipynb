{
 "cells": [
  {
   "cell_type": "markdown",
   "metadata": {},
   "source": [
    "## Цель и описание проекта Telecom"
   ]
  },
  {
   "cell_type": "markdown",
   "metadata": {},
   "source": [
    "Оператор связи «Ниединогоразрыва.ком» хочет научиться прогнозировать отток клиентов.  \n",
    "Если выяснится, что пользователь планирует уйти, ему будут предложены промокоды и специальные условия для удержания клиента.\n",
    "Что в свою очередь будет увеличивать Lifetime value.  \n",
    "Команда оператора собрала персональные данные о некоторых клиентах, информацию об их тарифах и договорах.  \n",
    "\n",
    "В нашем распоряжении будет 4 файла с данными:\n",
    "- contract_new.csv — информация о договоре;\n",
    "- personal_new.csv — персональные данные клиентов;\n",
    "- internet_new.csv — информация об интернет-услугах;\n",
    "- phone_new.csv — информация об услугах телефонии.  \n",
    "\n",
    "Мы будем решать задачу бинарной классификации с основной метрикой ROC-AUC.\n",
    "\n",
    "Верхнеуровневый план работы:\n",
    "- Загрузка и предобработка данных\n",
    "- Исследовательский анализ данных\n",
    "- Машинное обучение\n",
    "- Проверка лучшей модели на тестовой выборке\n",
    "- Исследование важности признаков лучшей модели"
   ]
  },
  {
   "cell_type": "markdown",
   "metadata": {},
   "source": [
    "## Установка дополнительных библиотек и импорты"
   ]
  },
  {
   "cell_type": "code",
   "execution_count": 1,
   "metadata": {},
   "outputs": [
    {
     "name": "stdout",
     "output_type": "stream",
     "text": [
      "Collecting numpy==1.21.6\n",
      "  Using cached numpy-1.21.6-cp39-cp39-win_amd64.whl (14.0 MB)\n",
      "Installing collected packages: numpy\n",
      "Successfully installed numpy-1.21.6\n"
     ]
    },
    {
     "name": "stderr",
     "output_type": "stream",
     "text": [
      "  WARNING: The script f2py.exe is installed in 'C:\\Users\\Slayerepix\\AppData\\Roaming\\Python\\Python39\\Scripts' which is not on PATH.\n",
      "  Consider adding this directory to PATH or, if you prefer to suppress this warning, use --no-warn-script-location.\n",
      "ERROR: pip's dependency resolver does not currently take into account all the packages that are installed. This behaviour is the source of the following dependency conflicts.\n",
      "daal4py 2021.6.0 requires daal==2021.4.0, which is not installed.\n",
      "skimpy 0.0.11 requires numpy<2.0.0,>=1.22.2, but you have numpy 1.21.6 which is incompatible.\n",
      "pandas 2.1.1 requires numpy>=1.22.4; python_version < \"3.11\", but you have numpy 1.21.6 which is incompatible.\n",
      "ydata-profiling 4.2.0 requires pandas!=1.4.0,<2,>1.1, but you have pandas 2.1.1 which is incompatible.\n",
      "ydata-profiling 4.2.0 requires typeguard<3,>=2.13.2, but you have typeguard 4.1.4 which is incompatible.\n"
     ]
    }
   ],
   "source": [
    "! pip install numpy==1.21.6 --user"
   ]
  },
  {
   "cell_type": "code",
   "execution_count": 2,
   "metadata": {
    "scrolled": true
   },
   "outputs": [
    {
     "name": "stdout",
     "output_type": "stream",
     "text": [
      "Requirement already satisfied: catboost in d:\\soft\\anaconda\\lib\\site-packages (1.2.2)\n",
      "Requirement already satisfied: numpy>=1.16.0 in c:\\users\\slayerepix\\appdata\\roaming\\python\\python39\\site-packages (from catboost) (1.21.6)\n",
      "Requirement already satisfied: pandas>=0.24 in c:\\users\\slayerepix\\appdata\\roaming\\python\\python39\\site-packages (from catboost) (2.1.1)\n",
      "Requirement already satisfied: graphviz in d:\\soft\\anaconda\\lib\\site-packages (from catboost) (0.20.1)\n",
      "Requirement already satisfied: matplotlib in d:\\soft\\anaconda\\lib\\site-packages (from catboost) (3.5.2)\n",
      "Requirement already satisfied: plotly in d:\\soft\\anaconda\\lib\\site-packages (from catboost) (5.9.0)\n",
      "Requirement already satisfied: scipy in d:\\soft\\anaconda\\lib\\site-packages (from catboost) (1.9.1)\n",
      "Requirement already satisfied: six in d:\\soft\\anaconda\\lib\\site-packages (from catboost) (1.16.0)\n",
      "Requirement already satisfied: tzdata>=2022.1 in d:\\soft\\anaconda\\lib\\site-packages (from pandas>=0.24->catboost) (2023.3)\n",
      "Requirement already satisfied: python-dateutil>=2.8.2 in d:\\soft\\anaconda\\lib\\site-packages (from pandas>=0.24->catboost) (2.8.2)\n",
      "Requirement already satisfied: pytz>=2020.1 in d:\\soft\\anaconda\\lib\\site-packages (from pandas>=0.24->catboost) (2022.1)\n",
      "Collecting numpy>=1.16.0\n",
      "  Using cached numpy-1.26.0-cp39-cp39-win_amd64.whl (15.8 MB)\n",
      "Requirement already satisfied: pyparsing>=2.2.1 in d:\\soft\\anaconda\\lib\\site-packages (from matplotlib->catboost) (3.0.9)\n",
      "Requirement already satisfied: kiwisolver>=1.0.1 in d:\\soft\\anaconda\\lib\\site-packages (from matplotlib->catboost) (1.4.2)\n",
      "Requirement already satisfied: pillow>=6.2.0 in d:\\soft\\anaconda\\lib\\site-packages (from matplotlib->catboost) (9.2.0)\n",
      "Requirement already satisfied: cycler>=0.10 in d:\\soft\\anaconda\\lib\\site-packages (from matplotlib->catboost) (0.11.0)\n",
      "Requirement already satisfied: packaging>=20.0 in d:\\soft\\anaconda\\lib\\site-packages (from matplotlib->catboost) (21.3)\n",
      "Requirement already satisfied: fonttools>=4.22.0 in d:\\soft\\anaconda\\lib\\site-packages (from matplotlib->catboost) (4.25.0)\n",
      "Requirement already satisfied: tenacity>=6.2.0 in d:\\soft\\anaconda\\lib\\site-packages (from plotly->catboost) (8.0.1)\n",
      "  Downloading numpy-1.24.4-cp39-cp39-win_amd64.whl (14.9 MB)\n",
      "     ---------------------------------------- 14.9/14.9 MB 2.8 MB/s eta 0:00:00\n",
      "Installing collected packages: numpy\n",
      "  Attempting uninstall: numpy\n",
      "    Found existing installation: numpy 1.21.6\n",
      "    Uninstalling numpy-1.21.6:\n",
      "      Successfully uninstalled numpy-1.21.6\n",
      "Successfully installed numpy-1.24.4\n"
     ]
    },
    {
     "name": "stderr",
     "output_type": "stream",
     "text": [
      "  WARNING: The script f2py.exe is installed in 'C:\\Users\\Slayerepix\\AppData\\Roaming\\Python\\Python39\\Scripts' which is not on PATH.\n",
      "  Consider adding this directory to PATH or, if you prefer to suppress this warning, use --no-warn-script-location.\n",
      "ERROR: pip's dependency resolver does not currently take into account all the packages that are installed. This behaviour is the source of the following dependency conflicts.\n",
      "daal4py 2021.6.0 requires daal==2021.4.0, which is not installed.\n",
      "ydata-profiling 4.2.0 requires numpy<1.24,>=1.16.0, but you have numpy 1.24.4 which is incompatible.\n",
      "ydata-profiling 4.2.0 requires pandas!=1.4.0,<2,>1.1, but you have pandas 2.1.1 which is incompatible.\n",
      "ydata-profiling 4.2.0 requires typeguard<3,>=2.13.2, but you have typeguard 4.1.4 which is incompatible.\n",
      "numba 0.55.1 requires numpy<1.22,>=1.18, but you have numpy 1.24.4 which is incompatible.\n"
     ]
    }
   ],
   "source": [
    "! pip install catboost -U --user"
   ]
  },
  {
   "cell_type": "code",
   "execution_count": 3,
   "metadata": {},
   "outputs": [
    {
     "name": "stdout",
     "output_type": "stream",
     "text": [
      "Requirement already satisfied: lightgbm in d:\\soft\\anaconda\\lib\\site-packages (4.1.0)\n",
      "Requirement already satisfied: scipy in d:\\soft\\anaconda\\lib\\site-packages (from lightgbm) (1.9.1)\n",
      "Requirement already satisfied: numpy in c:\\users\\slayerepix\\appdata\\roaming\\python\\python39\\site-packages (from lightgbm) (1.24.4)\n"
     ]
    }
   ],
   "source": [
    "! pip install lightgbm -U --user"
   ]
  },
  {
   "cell_type": "code",
   "execution_count": 4,
   "metadata": {},
   "outputs": [
    {
     "name": "stdout",
     "output_type": "stream",
     "text": [
      "Requirement already satisfied: phik in d:\\soft\\anaconda\\lib\\site-packages (0.12.3)\n",
      "Requirement already satisfied: matplotlib>=2.2.3 in d:\\soft\\anaconda\\lib\\site-packages (from phik) (3.5.2)\n",
      "Requirement already satisfied: scipy>=1.5.2 in d:\\soft\\anaconda\\lib\\site-packages (from phik) (1.9.1)\n",
      "Requirement already satisfied: joblib>=0.14.1 in d:\\soft\\anaconda\\lib\\site-packages (from phik) (1.2.0)\n",
      "Requirement already satisfied: pandas>=0.25.1 in c:\\users\\slayerepix\\appdata\\roaming\\python\\python39\\site-packages (from phik) (2.1.1)\n",
      "Requirement already satisfied: numpy>=1.18.0 in c:\\users\\slayerepix\\appdata\\roaming\\python\\python39\\site-packages (from phik) (1.24.4)\n",
      "Requirement already satisfied: kiwisolver>=1.0.1 in d:\\soft\\anaconda\\lib\\site-packages (from matplotlib>=2.2.3->phik) (1.4.2)\n",
      "Requirement already satisfied: fonttools>=4.22.0 in d:\\soft\\anaconda\\lib\\site-packages (from matplotlib>=2.2.3->phik) (4.25.0)\n",
      "Requirement already satisfied: cycler>=0.10 in d:\\soft\\anaconda\\lib\\site-packages (from matplotlib>=2.2.3->phik) (0.11.0)\n",
      "Requirement already satisfied: packaging>=20.0 in d:\\soft\\anaconda\\lib\\site-packages (from matplotlib>=2.2.3->phik) (21.3)\n",
      "Requirement already satisfied: python-dateutil>=2.7 in d:\\soft\\anaconda\\lib\\site-packages (from matplotlib>=2.2.3->phik) (2.8.2)\n",
      "Requirement already satisfied: pillow>=6.2.0 in d:\\soft\\anaconda\\lib\\site-packages (from matplotlib>=2.2.3->phik) (9.2.0)\n",
      "Requirement already satisfied: pyparsing>=2.2.1 in d:\\soft\\anaconda\\lib\\site-packages (from matplotlib>=2.2.3->phik) (3.0.9)\n",
      "Requirement already satisfied: tzdata>=2022.1 in d:\\soft\\anaconda\\lib\\site-packages (from pandas>=0.25.1->phik) (2023.3)\n",
      "Requirement already satisfied: pytz>=2020.1 in d:\\soft\\anaconda\\lib\\site-packages (from pandas>=0.25.1->phik) (2022.1)\n",
      "Requirement already satisfied: six>=1.5 in d:\\soft\\anaconda\\lib\\site-packages (from python-dateutil>=2.7->matplotlib>=2.2.3->phik) (1.16.0)\n"
     ]
    }
   ],
   "source": [
    "! pip install phik -U --user"
   ]
  },
  {
   "cell_type": "code",
   "execution_count": 5,
   "metadata": {},
   "outputs": [
    {
     "name": "stdout",
     "output_type": "stream",
     "text": [
      "Requirement already satisfied: skimpy in c:\\users\\slayerepix\\appdata\\roaming\\python\\python39\\site-packages (0.0.11)\n",
      "Requirement already satisfied: ipykernel<7.0.0,>=6.7.0 in d:\\soft\\anaconda\\lib\\site-packages (from skimpy) (6.15.2)\n",
      "Requirement already satisfied: pyarrow<14.0.0,>=13.0.0 in c:\\users\\slayerepix\\appdata\\roaming\\python\\python39\\site-packages (from skimpy) (13.0.0)\n",
      "Requirement already satisfied: rich<14.0,>=10.9 in c:\\users\\slayerepix\\appdata\\roaming\\python\\python39\\site-packages (from skimpy) (13.5.3)\n",
      "Requirement already satisfied: numpy<2.0.0,>=1.22.2 in c:\\users\\slayerepix\\appdata\\roaming\\python\\python39\\site-packages (from skimpy) (1.24.4)\n",
      "Requirement already satisfied: jupyter<2.0.0,>=1.0.0 in d:\\soft\\anaconda\\lib\\site-packages (from skimpy) (1.0.0)\n",
      "Requirement already satisfied: typeguard==4.1.4 in c:\\users\\slayerepix\\appdata\\roaming\\python\\python39\\site-packages (from skimpy) (4.1.4)\n",
      "Requirement already satisfied: pandas<3.0.0,>=2.0.3 in c:\\users\\slayerepix\\appdata\\roaming\\python\\python39\\site-packages (from skimpy) (2.1.1)\n",
      "Requirement already satisfied: click<9.0.0,>=8.1.6 in c:\\users\\slayerepix\\appdata\\roaming\\python\\python39\\site-packages (from skimpy) (8.1.7)\n",
      "Requirement already satisfied: polars<0.20.0,>=0.19.0 in d:\\soft\\anaconda\\lib\\site-packages (from skimpy) (0.19.3)\n",
      "Requirement already satisfied: Pygments<3.0.0,>=2.10.0 in d:\\soft\\anaconda\\lib\\site-packages (from skimpy) (2.16.1)\n",
      "Requirement already satisfied: importlib-metadata>=3.6 in d:\\soft\\anaconda\\lib\\site-packages (from typeguard==4.1.4->skimpy) (4.11.3)\n",
      "Requirement already satisfied: typing-extensions>=4.7.0 in d:\\soft\\anaconda\\lib\\site-packages (from typeguard==4.1.4->skimpy) (4.8.0)\n",
      "Requirement already satisfied: colorama in d:\\soft\\anaconda\\lib\\site-packages (from click<9.0.0,>=8.1.6->skimpy) (0.4.5)\n",
      "Requirement already satisfied: traitlets>=5.1.0 in d:\\soft\\anaconda\\lib\\site-packages (from ipykernel<7.0.0,>=6.7.0->skimpy) (5.1.1)\n",
      "Requirement already satisfied: nest-asyncio in d:\\soft\\anaconda\\lib\\site-packages (from ipykernel<7.0.0,>=6.7.0->skimpy) (1.5.5)\n",
      "Requirement already satisfied: matplotlib-inline>=0.1 in d:\\soft\\anaconda\\lib\\site-packages (from ipykernel<7.0.0,>=6.7.0->skimpy) (0.1.6)\n",
      "Requirement already satisfied: psutil in d:\\soft\\anaconda\\lib\\site-packages (from ipykernel<7.0.0,>=6.7.0->skimpy) (5.9.0)\n",
      "Requirement already satisfied: tornado>=6.1 in d:\\soft\\anaconda\\lib\\site-packages (from ipykernel<7.0.0,>=6.7.0->skimpy) (6.1)\n",
      "Requirement already satisfied: ipython>=7.23.1 in d:\\soft\\anaconda\\lib\\site-packages (from ipykernel<7.0.0,>=6.7.0->skimpy) (7.31.1)\n",
      "Requirement already satisfied: packaging in d:\\soft\\anaconda\\lib\\site-packages (from ipykernel<7.0.0,>=6.7.0->skimpy) (21.3)\n",
      "Requirement already satisfied: pyzmq>=17 in d:\\soft\\anaconda\\lib\\site-packages (from ipykernel<7.0.0,>=6.7.0->skimpy) (23.2.0)\n",
      "Requirement already satisfied: debugpy>=1.0 in d:\\soft\\anaconda\\lib\\site-packages (from ipykernel<7.0.0,>=6.7.0->skimpy) (1.5.1)\n",
      "Requirement already satisfied: jupyter-client>=6.1.12 in d:\\soft\\anaconda\\lib\\site-packages (from ipykernel<7.0.0,>=6.7.0->skimpy) (7.3.4)\n",
      "Requirement already satisfied: qtconsole in d:\\soft\\anaconda\\lib\\site-packages (from jupyter<2.0.0,>=1.0.0->skimpy) (5.2.2)\n",
      "Requirement already satisfied: notebook in d:\\soft\\anaconda\\lib\\site-packages (from jupyter<2.0.0,>=1.0.0->skimpy) (6.4.12)\n",
      "Requirement already satisfied: jupyter-console in d:\\soft\\anaconda\\lib\\site-packages (from jupyter<2.0.0,>=1.0.0->skimpy) (6.4.3)\n",
      "Requirement already satisfied: ipywidgets in d:\\soft\\anaconda\\lib\\site-packages (from jupyter<2.0.0,>=1.0.0->skimpy) (7.6.5)\n",
      "Requirement already satisfied: nbconvert in d:\\soft\\anaconda\\lib\\site-packages (from jupyter<2.0.0,>=1.0.0->skimpy) (6.4.4)\n",
      "Requirement already satisfied: tzdata>=2022.1 in d:\\soft\\anaconda\\lib\\site-packages (from pandas<3.0.0,>=2.0.3->skimpy) (2023.3)\n",
      "Requirement already satisfied: pytz>=2020.1 in d:\\soft\\anaconda\\lib\\site-packages (from pandas<3.0.0,>=2.0.3->skimpy) (2022.1)\n",
      "Requirement already satisfied: python-dateutil>=2.8.2 in d:\\soft\\anaconda\\lib\\site-packages (from pandas<3.0.0,>=2.0.3->skimpy) (2.8.2)\n",
      "Requirement already satisfied: markdown-it-py>=2.2.0 in c:\\users\\slayerepix\\appdata\\roaming\\python\\python39\\site-packages (from rich<14.0,>=10.9->skimpy) (3.0.0)\n",
      "Requirement already satisfied: zipp>=0.5 in d:\\soft\\anaconda\\lib\\site-packages (from importlib-metadata>=3.6->typeguard==4.1.4->skimpy) (3.8.0)\n",
      "Requirement already satisfied: prompt-toolkit!=3.0.0,!=3.0.1,<3.1.0,>=2.0.0 in d:\\soft\\anaconda\\lib\\site-packages (from ipython>=7.23.1->ipykernel<7.0.0,>=6.7.0->skimpy) (3.0.20)\n",
      "Requirement already satisfied: decorator in d:\\soft\\anaconda\\lib\\site-packages (from ipython>=7.23.1->ipykernel<7.0.0,>=6.7.0->skimpy) (5.1.1)\n",
      "Requirement already satisfied: setuptools>=18.5 in d:\\soft\\anaconda\\lib\\site-packages (from ipython>=7.23.1->ipykernel<7.0.0,>=6.7.0->skimpy) (63.4.1)\n",
      "Requirement already satisfied: pickleshare in d:\\soft\\anaconda\\lib\\site-packages (from ipython>=7.23.1->ipykernel<7.0.0,>=6.7.0->skimpy) (0.7.5)\n",
      "Requirement already satisfied: jedi>=0.16 in d:\\soft\\anaconda\\lib\\site-packages (from ipython>=7.23.1->ipykernel<7.0.0,>=6.7.0->skimpy) (0.18.1)\n",
      "Requirement already satisfied: backcall in d:\\soft\\anaconda\\lib\\site-packages (from ipython>=7.23.1->ipykernel<7.0.0,>=6.7.0->skimpy) (0.2.0)\n",
      "Requirement already satisfied: jupyter-core>=4.9.2 in d:\\soft\\anaconda\\lib\\site-packages (from jupyter-client>=6.1.12->ipykernel<7.0.0,>=6.7.0->skimpy) (4.11.1)\n",
      "Requirement already satisfied: entrypoints in d:\\soft\\anaconda\\lib\\site-packages (from jupyter-client>=6.1.12->ipykernel<7.0.0,>=6.7.0->skimpy) (0.4)\n",
      "Requirement already satisfied: mdurl~=0.1 in c:\\users\\slayerepix\\appdata\\roaming\\python\\python39\\site-packages (from markdown-it-py>=2.2.0->rich<14.0,>=10.9->skimpy) (0.1.2)\n",
      "Requirement already satisfied: six>=1.5 in d:\\soft\\anaconda\\lib\\site-packages (from python-dateutil>=2.8.2->pandas<3.0.0,>=2.0.3->skimpy) (1.16.0)\n",
      "Requirement already satisfied: widgetsnbextension~=3.5.0 in d:\\soft\\anaconda\\lib\\site-packages (from ipywidgets->jupyter<2.0.0,>=1.0.0->skimpy) (3.5.2)\n",
      "Requirement already satisfied: ipython-genutils~=0.2.0 in d:\\soft\\anaconda\\lib\\site-packages (from ipywidgets->jupyter<2.0.0,>=1.0.0->skimpy) (0.2.0)\n",
      "Requirement already satisfied: jupyterlab-widgets>=1.0.0 in d:\\soft\\anaconda\\lib\\site-packages (from ipywidgets->jupyter<2.0.0,>=1.0.0->skimpy) (1.0.0)\n",
      "Requirement already satisfied: nbformat>=4.2.0 in d:\\soft\\anaconda\\lib\\site-packages (from ipywidgets->jupyter<2.0.0,>=1.0.0->skimpy) (5.5.0)\n",
      "Requirement already satisfied: pandocfilters>=1.4.1 in d:\\soft\\anaconda\\lib\\site-packages (from nbconvert->jupyter<2.0.0,>=1.0.0->skimpy) (1.5.0)\n",
      "Requirement already satisfied: defusedxml in d:\\soft\\anaconda\\lib\\site-packages (from nbconvert->jupyter<2.0.0,>=1.0.0->skimpy) (0.7.1)\n",
      "Requirement already satisfied: jupyterlab-pygments in d:\\soft\\anaconda\\lib\\site-packages (from nbconvert->jupyter<2.0.0,>=1.0.0->skimpy) (0.1.2)\n",
      "Requirement already satisfied: jinja2>=2.4 in d:\\soft\\anaconda\\lib\\site-packages (from nbconvert->jupyter<2.0.0,>=1.0.0->skimpy) (2.11.3)\n",
      "Requirement already satisfied: bleach in d:\\soft\\anaconda\\lib\\site-packages (from nbconvert->jupyter<2.0.0,>=1.0.0->skimpy) (4.1.0)\n",
      "Requirement already satisfied: testpath in d:\\soft\\anaconda\\lib\\site-packages (from nbconvert->jupyter<2.0.0,>=1.0.0->skimpy) (0.6.0)\n",
      "Requirement already satisfied: beautifulsoup4 in d:\\soft\\anaconda\\lib\\site-packages (from nbconvert->jupyter<2.0.0,>=1.0.0->skimpy) (4.11.1)\n",
      "Requirement already satisfied: mistune<2,>=0.8.1 in d:\\soft\\anaconda\\lib\\site-packages (from nbconvert->jupyter<2.0.0,>=1.0.0->skimpy) (0.8.4)\n",
      "Requirement already satisfied: nbclient<0.6.0,>=0.5.0 in d:\\soft\\anaconda\\lib\\site-packages (from nbconvert->jupyter<2.0.0,>=1.0.0->skimpy) (0.5.13)\n",
      "Requirement already satisfied: argon2-cffi in d:\\soft\\anaconda\\lib\\site-packages (from notebook->jupyter<2.0.0,>=1.0.0->skimpy) (21.3.0)\n",
      "Requirement already satisfied: prometheus-client in d:\\soft\\anaconda\\lib\\site-packages (from notebook->jupyter<2.0.0,>=1.0.0->skimpy) (0.14.1)\n",
      "Requirement already satisfied: Send2Trash>=1.8.0 in d:\\soft\\anaconda\\lib\\site-packages (from notebook->jupyter<2.0.0,>=1.0.0->skimpy) (1.8.0)\n",
      "Requirement already satisfied: terminado>=0.8.3 in d:\\soft\\anaconda\\lib\\site-packages (from notebook->jupyter<2.0.0,>=1.0.0->skimpy) (0.13.1)\n",
      "Requirement already satisfied: pyparsing!=3.0.5,>=2.0.2 in d:\\soft\\anaconda\\lib\\site-packages (from packaging->ipykernel<7.0.0,>=6.7.0->skimpy) (3.0.9)\n",
      "Requirement already satisfied: qtpy in d:\\soft\\anaconda\\lib\\site-packages (from qtconsole->jupyter<2.0.0,>=1.0.0->skimpy) (2.2.0)\n",
      "Requirement already satisfied: parso<0.9.0,>=0.8.0 in d:\\soft\\anaconda\\lib\\site-packages (from jedi>=0.16->ipython>=7.23.1->ipykernel<7.0.0,>=6.7.0->skimpy) (0.8.3)\n",
      "Requirement already satisfied: MarkupSafe>=0.23 in d:\\soft\\anaconda\\lib\\site-packages (from jinja2>=2.4->nbconvert->jupyter<2.0.0,>=1.0.0->skimpy) (2.0.1)\n",
      "Requirement already satisfied: pywin32>=1.0 in d:\\soft\\anaconda\\lib\\site-packages (from jupyter-core>=4.9.2->jupyter-client>=6.1.12->ipykernel<7.0.0,>=6.7.0->skimpy) (302)\n",
      "Requirement already satisfied: jsonschema>=2.6 in d:\\soft\\anaconda\\lib\\site-packages (from nbformat>=4.2.0->ipywidgets->jupyter<2.0.0,>=1.0.0->skimpy) (4.16.0)\n",
      "Requirement already satisfied: fastjsonschema in d:\\soft\\anaconda\\lib\\site-packages (from nbformat>=4.2.0->ipywidgets->jupyter<2.0.0,>=1.0.0->skimpy) (2.16.2)\n",
      "Requirement already satisfied: wcwidth in d:\\soft\\anaconda\\lib\\site-packages (from prompt-toolkit!=3.0.0,!=3.0.1,<3.1.0,>=2.0.0->ipython>=7.23.1->ipykernel<7.0.0,>=6.7.0->skimpy) (0.2.5)\n",
      "Requirement already satisfied: pywinpty>=1.1.0 in d:\\soft\\anaconda\\lib\\site-packages (from terminado>=0.8.3->notebook->jupyter<2.0.0,>=1.0.0->skimpy) (2.0.2)\n",
      "Requirement already satisfied: argon2-cffi-bindings in d:\\soft\\anaconda\\lib\\site-packages (from argon2-cffi->notebook->jupyter<2.0.0,>=1.0.0->skimpy) (21.2.0)\n",
      "Requirement already satisfied: soupsieve>1.2 in d:\\soft\\anaconda\\lib\\site-packages (from beautifulsoup4->nbconvert->jupyter<2.0.0,>=1.0.0->skimpy) (2.3.1)\n",
      "Requirement already satisfied: webencodings in d:\\soft\\anaconda\\lib\\site-packages (from bleach->nbconvert->jupyter<2.0.0,>=1.0.0->skimpy) (0.5.1)\n",
      "Requirement already satisfied: pyrsistent!=0.17.0,!=0.17.1,!=0.17.2,>=0.14.0 in d:\\soft\\anaconda\\lib\\site-packages (from jsonschema>=2.6->nbformat>=4.2.0->ipywidgets->jupyter<2.0.0,>=1.0.0->skimpy) (0.18.0)\n",
      "Requirement already satisfied: attrs>=17.4.0 in d:\\soft\\anaconda\\lib\\site-packages (from jsonschema>=2.6->nbformat>=4.2.0->ipywidgets->jupyter<2.0.0,>=1.0.0->skimpy) (21.4.0)\n",
      "Requirement already satisfied: cffi>=1.0.1 in d:\\soft\\anaconda\\lib\\site-packages (from argon2-cffi-bindings->argon2-cffi->notebook->jupyter<2.0.0,>=1.0.0->skimpy) (1.15.1)\n",
      "Requirement already satisfied: pycparser in d:\\soft\\anaconda\\lib\\site-packages (from cffi>=1.0.1->argon2-cffi-bindings->argon2-cffi->notebook->jupyter<2.0.0,>=1.0.0->skimpy) (2.21)\n"
     ]
    }
   ],
   "source": [
    "! pip install skimpy -U --user"
   ]
  },
  {
   "cell_type": "code",
   "execution_count": 6,
   "metadata": {},
   "outputs": [
    {
     "name": "stdout",
     "output_type": "stream",
     "text": [
      "Requirement already satisfied: shap in c:\\users\\slayerepix\\appdata\\roaming\\python\\python39\\site-packages (0.42.1)\n",
      "Requirement already satisfied: pandas in c:\\users\\slayerepix\\appdata\\roaming\\python\\python39\\site-packages (from shap) (2.1.1)\n",
      "Requirement already satisfied: slicer==0.0.7 in d:\\soft\\anaconda\\lib\\site-packages (from shap) (0.0.7)\n",
      "Requirement already satisfied: scipy in d:\\soft\\anaconda\\lib\\site-packages (from shap) (1.9.1)\n",
      "Requirement already satisfied: numpy in c:\\users\\slayerepix\\appdata\\roaming\\python\\python39\\site-packages (from shap) (1.24.4)\n",
      "Requirement already satisfied: scikit-learn in d:\\soft\\anaconda\\lib\\site-packages (from shap) (1.0.2)\n",
      "Requirement already satisfied: numba in d:\\soft\\anaconda\\lib\\site-packages (from shap) (0.55.1)\n",
      "Requirement already satisfied: packaging>20.9 in d:\\soft\\anaconda\\lib\\site-packages (from shap) (21.3)\n",
      "Requirement already satisfied: cloudpickle in d:\\soft\\anaconda\\lib\\site-packages (from shap) (2.0.0)\n",
      "Requirement already satisfied: tqdm>=4.27.0 in d:\\soft\\anaconda\\lib\\site-packages (from shap) (4.64.1)\n",
      "Requirement already satisfied: pyparsing!=3.0.5,>=2.0.2 in d:\\soft\\anaconda\\lib\\site-packages (from packaging>20.9->shap) (3.0.9)\n",
      "Requirement already satisfied: colorama in d:\\soft\\anaconda\\lib\\site-packages (from tqdm>=4.27.0->shap) (0.4.5)\n",
      "Requirement already satisfied: llvmlite<0.39,>=0.38.0rc1 in d:\\soft\\anaconda\\lib\\site-packages (from numba->shap) (0.38.0)\n",
      "Collecting numpy\n",
      "  Using cached numpy-1.21.6-cp39-cp39-win_amd64.whl (14.0 MB)\n",
      "Requirement already satisfied: setuptools in d:\\soft\\anaconda\\lib\\site-packages (from numba->shap) (63.4.1)\n",
      "Requirement already satisfied: pytz>=2020.1 in d:\\soft\\anaconda\\lib\\site-packages (from pandas->shap) (2022.1)\n",
      "Requirement already satisfied: python-dateutil>=2.8.2 in d:\\soft\\anaconda\\lib\\site-packages (from pandas->shap) (2.8.2)\n",
      "Requirement already satisfied: tzdata>=2022.1 in d:\\soft\\anaconda\\lib\\site-packages (from pandas->shap) (2023.3)\n",
      "Collecting pandas\n",
      "  Using cached pandas-2.1.0-cp39-cp39-win_amd64.whl (11.2 MB)\n",
      "  Using cached pandas-2.0.3-cp39-cp39-win_amd64.whl (10.8 MB)\n",
      "Requirement already satisfied: threadpoolctl>=2.0.0 in d:\\soft\\anaconda\\lib\\site-packages (from scikit-learn->shap) (2.2.0)\n",
      "Requirement already satisfied: joblib>=0.11 in d:\\soft\\anaconda\\lib\\site-packages (from scikit-learn->shap) (1.2.0)\n",
      "Requirement already satisfied: six>=1.5 in d:\\soft\\anaconda\\lib\\site-packages (from python-dateutil>=2.8.2->pandas->shap) (1.16.0)\n",
      "Installing collected packages: numpy, pandas\n",
      "  Attempting uninstall: numpy\n",
      "    Found existing installation: numpy 1.24.4\n",
      "    Uninstalling numpy-1.24.4:\n",
      "      Successfully uninstalled numpy-1.24.4\n",
      "  Attempting uninstall: pandas\n",
      "    Found existing installation: pandas 2.1.1\n",
      "    Uninstalling pandas-2.1.1:\n",
      "      Successfully uninstalled pandas-2.1.1\n",
      "Successfully installed numpy-1.21.6 pandas-2.0.3\n"
     ]
    },
    {
     "name": "stderr",
     "output_type": "stream",
     "text": [
      "  WARNING: The script f2py.exe is installed in 'C:\\Users\\Slayerepix\\AppData\\Roaming\\Python\\Python39\\Scripts' which is not on PATH.\n",
      "  Consider adding this directory to PATH or, if you prefer to suppress this warning, use --no-warn-script-location.\n",
      "ERROR: pip's dependency resolver does not currently take into account all the packages that are installed. This behaviour is the source of the following dependency conflicts.\n",
      "daal4py 2021.6.0 requires daal==2021.4.0, which is not installed.\n",
      "skimpy 0.0.11 requires numpy<2.0.0,>=1.22.2, but you have numpy 1.21.6 which is incompatible.\n",
      "ydata-profiling 4.2.0 requires pandas!=1.4.0,<2,>1.1, but you have pandas 2.0.3 which is incompatible.\n",
      "ydata-profiling 4.2.0 requires typeguard<3,>=2.13.2, but you have typeguard 4.1.4 which is incompatible.\n"
     ]
    }
   ],
   "source": [
    "! pip install shap -U --user"
   ]
  },
  {
   "cell_type": "code",
   "execution_count": 7,
   "metadata": {},
   "outputs": [
    {
     "name": "stdout",
     "output_type": "stream",
     "text": [
      "Requirement already satisfied: pandas in c:\\users\\slayerepix\\appdata\\roaming\\python\\python39\\site-packages (2.0.3)\n",
      "Collecting pandas\n",
      "  Using cached pandas-2.1.1-cp39-cp39-win_amd64.whl (10.8 MB)\n",
      "Requirement already satisfied: tzdata>=2022.1 in d:\\soft\\anaconda\\lib\\site-packages (from pandas) (2023.3)\n",
      "Requirement already satisfied: pytz>=2020.1 in d:\\soft\\anaconda\\lib\\site-packages (from pandas) (2022.1)\n",
      "Requirement already satisfied: python-dateutil>=2.8.2 in d:\\soft\\anaconda\\lib\\site-packages (from pandas) (2.8.2)\n",
      "Collecting numpy>=1.22.4\n",
      "  Using cached numpy-1.26.0-cp39-cp39-win_amd64.whl (15.8 MB)\n",
      "Requirement already satisfied: six>=1.5 in d:\\soft\\anaconda\\lib\\site-packages (from python-dateutil>=2.8.2->pandas) (1.16.0)\n",
      "Installing collected packages: numpy, pandas\n",
      "  Attempting uninstall: numpy\n",
      "    Found existing installation: numpy 1.21.6\n",
      "    Uninstalling numpy-1.21.6:\n",
      "      Successfully uninstalled numpy-1.21.6\n",
      "  Attempting uninstall: pandas\n",
      "    Found existing installation: pandas 2.0.3\n",
      "    Uninstalling pandas-2.0.3:\n",
      "      Successfully uninstalled pandas-2.0.3\n",
      "Successfully installed numpy-1.26.0 pandas-2.1.1\n",
      "Note: you may need to restart the kernel to use updated packages.\n"
     ]
    },
    {
     "name": "stderr",
     "output_type": "stream",
     "text": [
      "  WARNING: The script f2py.exe is installed in 'C:\\Users\\Slayerepix\\AppData\\Roaming\\Python\\Python39\\Scripts' which is not on PATH.\n",
      "  Consider adding this directory to PATH or, if you prefer to suppress this warning, use --no-warn-script-location.\n",
      "ERROR: pip's dependency resolver does not currently take into account all the packages that are installed. This behaviour is the source of the following dependency conflicts.\n",
      "daal4py 2021.6.0 requires daal==2021.4.0, which is not installed.\n",
      "ydata-profiling 4.2.0 requires numpy<1.24,>=1.16.0, but you have numpy 1.26.0 which is incompatible.\n",
      "ydata-profiling 4.2.0 requires pandas!=1.4.0,<2,>1.1, but you have pandas 2.1.1 which is incompatible.\n",
      "ydata-profiling 4.2.0 requires typeguard<3,>=2.13.2, but you have typeguard 4.1.4 which is incompatible.\n",
      "scipy 1.9.1 requires numpy<1.25.0,>=1.18.5, but you have numpy 1.26.0 which is incompatible.\n",
      "numba 0.55.1 requires numpy<1.22,>=1.18, but you have numpy 1.26.0 which is incompatible.\n"
     ]
    }
   ],
   "source": [
    "pip install pandas -U --user"
   ]
  },
  {
   "cell_type": "code",
   "execution_count": 12,
   "metadata": {},
   "outputs": [
    {
     "name": "stdout",
     "output_type": "stream",
     "text": [
      "Requirement already satisfied: lightgbm in d:\\soft\\anaconda\\lib\\site-packages (4.1.0)\n",
      "Requirement already satisfied: scipy in d:\\soft\\anaconda\\lib\\site-packages (from lightgbm) (1.9.1)\n",
      "Requirement already satisfied: numpy in c:\\users\\slayerepix\\appdata\\roaming\\python\\python39\\site-packages (from lightgbm) (1.24.4)\n"
     ]
    }
   ],
   "source": [
    "! pip install lightgbm -U --user"
   ]
  },
  {
   "cell_type": "code",
   "execution_count": 13,
   "metadata": {
    "scrolled": true
   },
   "outputs": [
    {
     "ename": "AttributeError",
     "evalue": "module 'pandas.core.strings' has no attribute 'StringMethods'",
     "output_type": "error",
     "traceback": [
      "\u001b[1;31m---------------------------------------------------------------------------\u001b[0m",
      "\u001b[1;31mAttributeError\u001b[0m                            Traceback (most recent call last)",
      "\u001b[1;32m~\\AppData\\Local\\Temp\\ipykernel_24808\\849199143.py\u001b[0m in \u001b[0;36m<module>\u001b[1;34m\u001b[0m\n\u001b[0;32m      8\u001b[0m \u001b[1;32mfrom\u001b[0m \u001b[0mcatboost\u001b[0m \u001b[1;32mimport\u001b[0m \u001b[0mCatBoostClassifier\u001b[0m\u001b[1;33m\u001b[0m\u001b[1;33m\u001b[0m\u001b[0m\n\u001b[0;32m      9\u001b[0m \u001b[1;33m\u001b[0m\u001b[0m\n\u001b[1;32m---> 10\u001b[1;33m \u001b[1;32mimport\u001b[0m \u001b[0mlightgbm\u001b[0m\u001b[1;33m\u001b[0m\u001b[1;33m\u001b[0m\u001b[0m\n\u001b[0m\u001b[0;32m     11\u001b[0m \u001b[1;32mfrom\u001b[0m \u001b[0mlightgbm\u001b[0m \u001b[1;32mimport\u001b[0m \u001b[0mLGBMClassifier\u001b[0m\u001b[1;33m\u001b[0m\u001b[1;33m\u001b[0m\u001b[0m\n\u001b[0;32m     12\u001b[0m \u001b[1;33m\u001b[0m\u001b[0m\n",
      "\u001b[1;32mD:\\Soft\\Anaconda\\lib\\site-packages\\lightgbm\\__init__.py\u001b[0m in \u001b[0;36m<module>\u001b[1;34m\u001b[0m\n\u001b[0;32m      6\u001b[0m \u001b[1;32mfrom\u001b[0m \u001b[0mpathlib\u001b[0m \u001b[1;32mimport\u001b[0m \u001b[0mPath\u001b[0m\u001b[1;33m\u001b[0m\u001b[1;33m\u001b[0m\u001b[0m\n\u001b[0;32m      7\u001b[0m \u001b[1;33m\u001b[0m\u001b[0m\n\u001b[1;32m----> 8\u001b[1;33m \u001b[1;32mfrom\u001b[0m \u001b[1;33m.\u001b[0m\u001b[0mbasic\u001b[0m \u001b[1;32mimport\u001b[0m \u001b[0mBooster\u001b[0m\u001b[1;33m,\u001b[0m \u001b[0mDataset\u001b[0m\u001b[1;33m,\u001b[0m \u001b[0mSequence\u001b[0m\u001b[1;33m,\u001b[0m \u001b[0mregister_logger\u001b[0m\u001b[1;33m\u001b[0m\u001b[1;33m\u001b[0m\u001b[0m\n\u001b[0m\u001b[0;32m      9\u001b[0m \u001b[1;32mfrom\u001b[0m \u001b[1;33m.\u001b[0m\u001b[0mcallback\u001b[0m \u001b[1;32mimport\u001b[0m \u001b[0mearly_stopping\u001b[0m\u001b[1;33m,\u001b[0m \u001b[0mlog_evaluation\u001b[0m\u001b[1;33m,\u001b[0m \u001b[0mrecord_evaluation\u001b[0m\u001b[1;33m,\u001b[0m \u001b[0mreset_parameter\u001b[0m\u001b[1;33m\u001b[0m\u001b[1;33m\u001b[0m\u001b[0m\n\u001b[0;32m     10\u001b[0m \u001b[1;32mfrom\u001b[0m \u001b[1;33m.\u001b[0m\u001b[0mengine\u001b[0m \u001b[1;32mimport\u001b[0m \u001b[0mCVBooster\u001b[0m\u001b[1;33m,\u001b[0m \u001b[0mcv\u001b[0m\u001b[1;33m,\u001b[0m \u001b[0mtrain\u001b[0m\u001b[1;33m\u001b[0m\u001b[1;33m\u001b[0m\u001b[0m\n",
      "\u001b[1;32mD:\\Soft\\Anaconda\\lib\\site-packages\\lightgbm\\basic.py\u001b[0m in \u001b[0;36m<module>\u001b[1;34m\u001b[0m\n\u001b[0;32m     19\u001b[0m \u001b[1;32mimport\u001b[0m \u001b[0mscipy\u001b[0m\u001b[1;33m.\u001b[0m\u001b[0msparse\u001b[0m\u001b[1;33m\u001b[0m\u001b[1;33m\u001b[0m\u001b[0m\n\u001b[0;32m     20\u001b[0m \u001b[1;33m\u001b[0m\u001b[0m\n\u001b[1;32m---> 21\u001b[1;33m \u001b[1;32mfrom\u001b[0m \u001b[1;33m.\u001b[0m\u001b[0mcompat\u001b[0m \u001b[1;32mimport\u001b[0m \u001b[0mPANDAS_INSTALLED\u001b[0m\u001b[1;33m,\u001b[0m \u001b[0mconcat\u001b[0m\u001b[1;33m,\u001b[0m \u001b[0mdt_DataTable\u001b[0m\u001b[1;33m,\u001b[0m \u001b[0mpd_CategoricalDtype\u001b[0m\u001b[1;33m,\u001b[0m \u001b[0mpd_DataFrame\u001b[0m\u001b[1;33m,\u001b[0m \u001b[0mpd_Series\u001b[0m\u001b[1;33m\u001b[0m\u001b[1;33m\u001b[0m\u001b[0m\n\u001b[0m\u001b[0;32m     22\u001b[0m \u001b[1;32mfrom\u001b[0m \u001b[1;33m.\u001b[0m\u001b[0mlibpath\u001b[0m \u001b[1;32mimport\u001b[0m \u001b[0mfind_lib_path\u001b[0m\u001b[1;33m\u001b[0m\u001b[1;33m\u001b[0m\u001b[0m\n\u001b[0;32m     23\u001b[0m \u001b[1;33m\u001b[0m\u001b[0m\n",
      "\u001b[1;32mD:\\Soft\\Anaconda\\lib\\site-packages\\lightgbm\\compat.py\u001b[0m in \u001b[0;36m<module>\u001b[1;34m\u001b[0m\n\u001b[0;32m    143\u001b[0m     \u001b[1;32mfrom\u001b[0m \u001b[0mdask\u001b[0m\u001b[1;33m.\u001b[0m\u001b[0marray\u001b[0m \u001b[1;32mimport\u001b[0m \u001b[0mfrom_delayed\u001b[0m \u001b[1;32mas\u001b[0m \u001b[0mdask_array_from_delayed\u001b[0m\u001b[1;33m\u001b[0m\u001b[1;33m\u001b[0m\u001b[0m\n\u001b[0;32m    144\u001b[0m     \u001b[1;32mfrom\u001b[0m \u001b[0mdask\u001b[0m\u001b[1;33m.\u001b[0m\u001b[0mbag\u001b[0m \u001b[1;32mimport\u001b[0m \u001b[0mfrom_delayed\u001b[0m \u001b[1;32mas\u001b[0m \u001b[0mdask_bag_from_delayed\u001b[0m\u001b[1;33m\u001b[0m\u001b[1;33m\u001b[0m\u001b[0m\n\u001b[1;32m--> 145\u001b[1;33m     \u001b[1;32mfrom\u001b[0m \u001b[0mdask\u001b[0m\u001b[1;33m.\u001b[0m\u001b[0mdataframe\u001b[0m \u001b[1;32mimport\u001b[0m \u001b[0mDataFrame\u001b[0m \u001b[1;32mas\u001b[0m \u001b[0mdask_DataFrame\u001b[0m\u001b[1;33m\u001b[0m\u001b[1;33m\u001b[0m\u001b[0m\n\u001b[0m\u001b[0;32m    146\u001b[0m     \u001b[1;32mfrom\u001b[0m \u001b[0mdask\u001b[0m\u001b[1;33m.\u001b[0m\u001b[0mdataframe\u001b[0m \u001b[1;32mimport\u001b[0m \u001b[0mSeries\u001b[0m \u001b[1;32mas\u001b[0m \u001b[0mdask_Series\u001b[0m\u001b[1;33m\u001b[0m\u001b[1;33m\u001b[0m\u001b[0m\n\u001b[0;32m    147\u001b[0m     \u001b[1;32mfrom\u001b[0m \u001b[0mdask\u001b[0m\u001b[1;33m.\u001b[0m\u001b[0mdistributed\u001b[0m \u001b[1;32mimport\u001b[0m \u001b[0mClient\u001b[0m\u001b[1;33m,\u001b[0m \u001b[0mFuture\u001b[0m\u001b[1;33m,\u001b[0m \u001b[0mdefault_client\u001b[0m\u001b[1;33m,\u001b[0m \u001b[0mwait\u001b[0m\u001b[1;33m\u001b[0m\u001b[1;33m\u001b[0m\u001b[0m\n",
      "\u001b[1;32mD:\\Soft\\Anaconda\\lib\\site-packages\\dask\\dataframe\\__init__.py\u001b[0m in \u001b[0;36m<module>\u001b[1;34m\u001b[0m\n\u001b[0;32m      2\u001b[0m     \u001b[1;32mimport\u001b[0m \u001b[0mdask\u001b[0m\u001b[1;33m.\u001b[0m\u001b[0mdataframe\u001b[0m\u001b[1;33m.\u001b[0m\u001b[0m_pyarrow_compat\u001b[0m\u001b[1;33m\u001b[0m\u001b[1;33m\u001b[0m\u001b[0m\n\u001b[0;32m      3\u001b[0m     \u001b[1;32mfrom\u001b[0m \u001b[0mdask\u001b[0m\u001b[1;33m.\u001b[0m\u001b[0mbase\u001b[0m \u001b[1;32mimport\u001b[0m \u001b[0mcompute\u001b[0m\u001b[1;33m\u001b[0m\u001b[1;33m\u001b[0m\u001b[0m\n\u001b[1;32m----> 4\u001b[1;33m     \u001b[1;32mfrom\u001b[0m \u001b[0mdask\u001b[0m\u001b[1;33m.\u001b[0m\u001b[0mdataframe\u001b[0m \u001b[1;32mimport\u001b[0m \u001b[0mbackends\u001b[0m\u001b[1;33m,\u001b[0m \u001b[0mdispatch\u001b[0m\u001b[1;33m,\u001b[0m \u001b[0mrolling\u001b[0m\u001b[1;33m\u001b[0m\u001b[1;33m\u001b[0m\u001b[0m\n\u001b[0m\u001b[0;32m      5\u001b[0m     from dask.dataframe.core import (\n\u001b[0;32m      6\u001b[0m         \u001b[0mDataFrame\u001b[0m\u001b[1;33m,\u001b[0m\u001b[1;33m\u001b[0m\u001b[1;33m\u001b[0m\u001b[0m\n",
      "\u001b[1;32mD:\\Soft\\Anaconda\\lib\\site-packages\\dask\\dataframe\\backends.py\u001b[0m in \u001b[0;36m<module>\u001b[1;34m\u001b[0m\n\u001b[0;32m     18\u001b[0m \u001b[1;32mfrom\u001b[0m \u001b[0mdask\u001b[0m\u001b[1;33m.\u001b[0m\u001b[0marray\u001b[0m\u001b[1;33m.\u001b[0m\u001b[0mdispatch\u001b[0m \u001b[1;32mimport\u001b[0m \u001b[0mpercentile_lookup\u001b[0m\u001b[1;33m\u001b[0m\u001b[1;33m\u001b[0m\u001b[0m\n\u001b[0;32m     19\u001b[0m \u001b[1;32mfrom\u001b[0m \u001b[0mdask\u001b[0m\u001b[1;33m.\u001b[0m\u001b[0marray\u001b[0m\u001b[1;33m.\u001b[0m\u001b[0mpercentile\u001b[0m \u001b[1;32mimport\u001b[0m \u001b[0m_percentile\u001b[0m\u001b[1;33m\u001b[0m\u001b[1;33m\u001b[0m\u001b[0m\n\u001b[1;32m---> 20\u001b[1;33m \u001b[1;32mfrom\u001b[0m \u001b[0mdask\u001b[0m\u001b[1;33m.\u001b[0m\u001b[0mdataframe\u001b[0m\u001b[1;33m.\u001b[0m\u001b[0mcore\u001b[0m \u001b[1;32mimport\u001b[0m \u001b[0mDataFrame\u001b[0m\u001b[1;33m,\u001b[0m \u001b[0mIndex\u001b[0m\u001b[1;33m,\u001b[0m \u001b[0mScalar\u001b[0m\u001b[1;33m,\u001b[0m \u001b[0mSeries\u001b[0m\u001b[1;33m,\u001b[0m \u001b[0m_Frame\u001b[0m\u001b[1;33m\u001b[0m\u001b[1;33m\u001b[0m\u001b[0m\n\u001b[0m\u001b[0;32m     21\u001b[0m from dask.dataframe.dispatch import (\n\u001b[0;32m     22\u001b[0m     \u001b[0mcategorical_dtype_dispatch\u001b[0m\u001b[1;33m,\u001b[0m\u001b[1;33m\u001b[0m\u001b[1;33m\u001b[0m\u001b[0m\n",
      "\u001b[1;32mD:\\Soft\\Anaconda\\lib\\site-packages\\dask\\dataframe\\core.py\u001b[0m in \u001b[0;36m<module>\u001b[1;34m\u001b[0m\n\u001b[0;32m     33\u001b[0m \u001b[1;32mfrom\u001b[0m \u001b[0mdask\u001b[0m\u001b[1;33m.\u001b[0m\u001b[0mblockwise\u001b[0m \u001b[1;32mimport\u001b[0m \u001b[0mBlockwise\u001b[0m\u001b[1;33m,\u001b[0m \u001b[0mBlockwiseDep\u001b[0m\u001b[1;33m,\u001b[0m \u001b[0mBlockwiseDepDict\u001b[0m\u001b[1;33m,\u001b[0m \u001b[0mblockwise\u001b[0m\u001b[1;33m\u001b[0m\u001b[1;33m\u001b[0m\u001b[0m\n\u001b[0;32m     34\u001b[0m \u001b[1;32mfrom\u001b[0m \u001b[0mdask\u001b[0m\u001b[1;33m.\u001b[0m\u001b[0mcontext\u001b[0m \u001b[1;32mimport\u001b[0m \u001b[0mglobalmethod\u001b[0m\u001b[1;33m\u001b[0m\u001b[1;33m\u001b[0m\u001b[0m\n\u001b[1;32m---> 35\u001b[1;33m \u001b[1;32mfrom\u001b[0m \u001b[0mdask\u001b[0m\u001b[1;33m.\u001b[0m\u001b[0mdataframe\u001b[0m \u001b[1;32mimport\u001b[0m \u001b[0mmethods\u001b[0m\u001b[1;33m\u001b[0m\u001b[1;33m\u001b[0m\u001b[0m\n\u001b[0m\u001b[0;32m     36\u001b[0m \u001b[1;32mfrom\u001b[0m \u001b[0mdask\u001b[0m\u001b[1;33m.\u001b[0m\u001b[0mdataframe\u001b[0m\u001b[1;33m.\u001b[0m\u001b[0m_compat\u001b[0m \u001b[1;32mimport\u001b[0m \u001b[0mPANDAS_GT_140\u001b[0m\u001b[1;33m,\u001b[0m \u001b[0mPANDAS_GT_150\u001b[0m\u001b[1;33m\u001b[0m\u001b[1;33m\u001b[0m\u001b[0m\n\u001b[0;32m     37\u001b[0m \u001b[1;32mfrom\u001b[0m \u001b[0mdask\u001b[0m\u001b[1;33m.\u001b[0m\u001b[0mdataframe\u001b[0m\u001b[1;33m.\u001b[0m\u001b[0maccessor\u001b[0m \u001b[1;32mimport\u001b[0m \u001b[0mCachedAccessor\u001b[0m\u001b[1;33m,\u001b[0m \u001b[0mDatetimeAccessor\u001b[0m\u001b[1;33m,\u001b[0m \u001b[0mStringAccessor\u001b[0m\u001b[1;33m\u001b[0m\u001b[1;33m\u001b[0m\u001b[0m\n",
      "\u001b[1;32mD:\\Soft\\Anaconda\\lib\\site-packages\\dask\\dataframe\\methods.py\u001b[0m in \u001b[0;36m<module>\u001b[1;34m\u001b[0m\n\u001b[0;32m     20\u001b[0m     \u001b[0munion_categoricals\u001b[0m\u001b[1;33m,\u001b[0m\u001b[1;33m\u001b[0m\u001b[1;33m\u001b[0m\u001b[0m\n\u001b[0;32m     21\u001b[0m )\n\u001b[1;32m---> 22\u001b[1;33m \u001b[1;32mfrom\u001b[0m \u001b[0mdask\u001b[0m\u001b[1;33m.\u001b[0m\u001b[0mdataframe\u001b[0m\u001b[1;33m.\u001b[0m\u001b[0mutils\u001b[0m \u001b[1;32mimport\u001b[0m \u001b[0mis_dataframe_like\u001b[0m\u001b[1;33m,\u001b[0m \u001b[0mis_index_like\u001b[0m\u001b[1;33m,\u001b[0m \u001b[0mis_series_like\u001b[0m\u001b[1;33m\u001b[0m\u001b[1;33m\u001b[0m\u001b[0m\n\u001b[0m\u001b[0;32m     23\u001b[0m \u001b[1;33m\u001b[0m\u001b[0m\n\u001b[0;32m     24\u001b[0m \u001b[1;31m# cuDF may try to import old dispatch functions\u001b[0m\u001b[1;33m\u001b[0m\u001b[1;33m\u001b[0m\u001b[0m\n",
      "\u001b[1;32mD:\\Soft\\Anaconda\\lib\\site-packages\\dask\\dataframe\\utils.py\u001b[0m in \u001b[0;36m<module>\u001b[1;34m\u001b[0m\n\u001b[0;32m     16\u001b[0m \u001b[1;32mfrom\u001b[0m \u001b[0mdask\u001b[0m\u001b[1;33m.\u001b[0m\u001b[0mbase\u001b[0m \u001b[1;32mimport\u001b[0m \u001b[0mget_scheduler\u001b[0m\u001b[1;33m,\u001b[0m \u001b[0mis_dask_collection\u001b[0m\u001b[1;33m\u001b[0m\u001b[1;33m\u001b[0m\u001b[0m\n\u001b[0;32m     17\u001b[0m \u001b[1;32mfrom\u001b[0m \u001b[0mdask\u001b[0m\u001b[1;33m.\u001b[0m\u001b[0mcore\u001b[0m \u001b[1;32mimport\u001b[0m \u001b[0mget_deps\u001b[0m\u001b[1;33m\u001b[0m\u001b[1;33m\u001b[0m\u001b[0m\n\u001b[1;32m---> 18\u001b[1;33m from dask.dataframe import (  # noqa: F401 register pandas extension types\n\u001b[0m\u001b[0;32m     19\u001b[0m     \u001b[0m_dtypes\u001b[0m\u001b[1;33m,\u001b[0m\u001b[1;33m\u001b[0m\u001b[1;33m\u001b[0m\u001b[0m\n\u001b[0;32m     20\u001b[0m     \u001b[0mmethods\u001b[0m\u001b[1;33m,\u001b[0m\u001b[1;33m\u001b[0m\u001b[1;33m\u001b[0m\u001b[0m\n",
      "\u001b[1;32mD:\\Soft\\Anaconda\\lib\\site-packages\\dask\\dataframe\\_dtypes.py\u001b[0m in \u001b[0;36m<module>\u001b[1;34m\u001b[0m\n\u001b[0;32m      1\u001b[0m \u001b[1;32mimport\u001b[0m \u001b[0mpandas\u001b[0m \u001b[1;32mas\u001b[0m \u001b[0mpd\u001b[0m\u001b[1;33m\u001b[0m\u001b[1;33m\u001b[0m\u001b[0m\n\u001b[0;32m      2\u001b[0m \u001b[1;33m\u001b[0m\u001b[0m\n\u001b[1;32m----> 3\u001b[1;33m \u001b[1;32mfrom\u001b[0m \u001b[0mdask\u001b[0m\u001b[1;33m.\u001b[0m\u001b[0mdataframe\u001b[0m\u001b[1;33m.\u001b[0m\u001b[0mextensions\u001b[0m \u001b[1;32mimport\u001b[0m \u001b[0mmake_array_nonempty\u001b[0m\u001b[1;33m,\u001b[0m \u001b[0mmake_scalar\u001b[0m\u001b[1;33m\u001b[0m\u001b[1;33m\u001b[0m\u001b[0m\n\u001b[0m\u001b[0;32m      4\u001b[0m \u001b[1;33m\u001b[0m\u001b[0m\n\u001b[0;32m      5\u001b[0m \u001b[1;33m\u001b[0m\u001b[0m\n",
      "\u001b[1;32mD:\\Soft\\Anaconda\\lib\\site-packages\\dask\\dataframe\\extensions.py\u001b[0m in \u001b[0;36m<module>\u001b[1;34m\u001b[0m\n\u001b[0;32m      4\u001b[0m \u001b[0mSee\u001b[0m \u001b[1;33m:\u001b[0m\u001b[0mref\u001b[0m\u001b[1;33m:\u001b[0m\u001b[0;31m`\u001b[0m\u001b[0mextensionarrays\u001b[0m\u001b[0;31m`\u001b[0m \u001b[1;32mfor\u001b[0m \u001b[0mmore\u001b[0m\u001b[1;33m.\u001b[0m\u001b[1;33m\u001b[0m\u001b[1;33m\u001b[0m\u001b[0m\n\u001b[0;32m      5\u001b[0m \"\"\"\n\u001b[1;32m----> 6\u001b[1;33m from dask.dataframe.accessor import (\n\u001b[0m\u001b[0;32m      7\u001b[0m     \u001b[0mregister_dataframe_accessor\u001b[0m\u001b[1;33m,\u001b[0m\u001b[1;33m\u001b[0m\u001b[1;33m\u001b[0m\u001b[0m\n\u001b[0;32m      8\u001b[0m     \u001b[0mregister_index_accessor\u001b[0m\u001b[1;33m,\u001b[0m\u001b[1;33m\u001b[0m\u001b[1;33m\u001b[0m\u001b[0m\n",
      "\u001b[1;32mD:\\Soft\\Anaconda\\lib\\site-packages\\dask\\dataframe\\accessor.py\u001b[0m in \u001b[0;36m<module>\u001b[1;34m\u001b[0m\n\u001b[0;32m    188\u001b[0m \u001b[1;33m\u001b[0m\u001b[0m\n\u001b[0;32m    189\u001b[0m \u001b[1;33m\u001b[0m\u001b[0m\n\u001b[1;32m--> 190\u001b[1;33m \u001b[1;32mclass\u001b[0m \u001b[0mStringAccessor\u001b[0m\u001b[1;33m(\u001b[0m\u001b[0mAccessor\u001b[0m\u001b[1;33m)\u001b[0m\u001b[1;33m:\u001b[0m\u001b[1;33m\u001b[0m\u001b[1;33m\u001b[0m\u001b[0m\n\u001b[0m\u001b[0;32m    191\u001b[0m     \"\"\"Accessor object for string properties of the Series values.\n\u001b[0;32m    192\u001b[0m \u001b[1;33m\u001b[0m\u001b[0m\n",
      "\u001b[1;32mD:\\Soft\\Anaconda\\lib\\site-packages\\dask\\dataframe\\accessor.py\u001b[0m in \u001b[0;36mStringAccessor\u001b[1;34m()\u001b[0m\n\u001b[0;32m    274\u001b[0m \u001b[1;33m\u001b[0m\u001b[0m\n\u001b[0;32m    275\u001b[0m     @derived_from(\n\u001b[1;32m--> 276\u001b[1;33m         \u001b[0mpd\u001b[0m\u001b[1;33m.\u001b[0m\u001b[0mcore\u001b[0m\u001b[1;33m.\u001b[0m\u001b[0mstrings\u001b[0m\u001b[1;33m.\u001b[0m\u001b[0mStringMethods\u001b[0m\u001b[1;33m,\u001b[0m\u001b[1;33m\u001b[0m\u001b[1;33m\u001b[0m\u001b[0m\n\u001b[0m\u001b[0;32m    277\u001b[0m         \u001b[0minconsistencies\u001b[0m\u001b[1;33m=\u001b[0m\u001b[1;34m\"``expand=True`` with unknown ``n`` will raise a ``NotImplementedError``\"\u001b[0m\u001b[1;33m,\u001b[0m\u001b[1;33m\u001b[0m\u001b[1;33m\u001b[0m\u001b[0m\n\u001b[0;32m    278\u001b[0m     )\n",
      "\u001b[1;31mAttributeError\u001b[0m: module 'pandas.core.strings' has no attribute 'StringMethods'"
     ]
    }
   ],
   "source": [
    "import copy as cp\n",
    "\n",
    "from pprint import pprint\n",
    "\n",
    "import warnings\n",
    "\n",
    "import catboost\n",
    "from catboost import CatBoostClassifier\n",
    "\n",
    "import lightgbm\n",
    "from lightgbm import LGBMClassifier\n",
    "\n",
    "import matplotlib\n",
    "import matplotlib.pyplot as plt\n",
    "\n",
    "import numpy as np\n",
    "\n",
    "import os\n",
    "\n",
    "import pandas as pd\n",
    "\n",
    "import phik\n",
    "from phik import report\n",
    "from phik.report import plot_correlation_matrix\n",
    "\n",
    "import shap\n",
    "shap.initjs()\n",
    "\n",
    "import seaborn as sns\n",
    "sns.set()\n",
    "\n",
    "import skimpy\n",
    "from skimpy import clean_columns\n",
    "\n",
    "import sklearn\n",
    "from sklearn.ensemble import RandomForestClassifier\n",
    "from sklearn.metrics import accuracy_score, confusion_matrix, ConfusionMatrixDisplay, f1_score\n",
    "from sklearn.metrics import precision_score, recall_score, roc_auc_score, roc_curve\n",
    "from sklearn.model_selection import GridSearchCV, KFold, RandomizedSearchCV, train_test_split\n",
    "from sklearn.preprocessing import OneHotEncoder, StandardScaler\n",
    "\n",
    "import time\n",
    "\n",
    "from tqdm import tqdm"
   ]
  },
  {
   "cell_type": "code",
   "execution_count": null,
   "metadata": {
    "scrolled": true
   },
   "outputs": [],
   "source": [
    "warnings.filterwarnings(\"ignore\")"
   ]
  },
  {
   "cell_type": "markdown",
   "metadata": {},
   "source": [
    "## Загрузка и предобработка данных"
   ]
  },
  {
   "cell_type": "markdown",
   "metadata": {},
   "source": [
    "В этой главе мы проведём загрузку и предобработку данных. План:\n",
    "\n",
    "\n",
    "1. Загрузка данных и ознакомление с первыми строками, ознакомление с типами данных\n",
    "2. Проверка наличия пропусков и дубликатов\n",
    "3. Приведение названия колонок к змеиному регистру\n",
    "4. Создание новых признаков\n",
    "5. Выделение целевой переменной"
   ]
  },
  {
   "cell_type": "code",
   "execution_count": null,
   "metadata": {
    "scrolled": true
   },
   "outputs": [],
   "source": [
    "dfs = {}\n",
    "names = ['contract_new.csv', 'personal_new.csv', 'internet_new.csv', 'phone_new.csv']\n",
    "for i, name in enumerate(names):\n",
    "    pth1 = '/datasets/' + name\n",
    "    pth2 = 'datasets/' + name\n",
    "    pth3 = name\n",
    "    names[i] = name.split(sep='_')[0]\n",
    "    if os.path.exists(pth1):\n",
    "        dfs[names[i]] = pd.read_csv(pth1)\n",
    "    elif os.path.exists(pth2):\n",
    "        dfs[names[i]] = pd.read_csv(pth2)\n",
    "    elif os.path.exists(pth3):\n",
    "        dfs[names[i]] = pd.read_csv(pth3)\n",
    "    else:\n",
    "        print(f'Something is wrong with dataset {names[i]}')\n",
    "    if len(dfs.get(names[i])) != 0:\n",
    "        print(f'Dataset {names[i]} is loaded.')"
   ]
  },
  {
   "cell_type": "code",
   "execution_count": null,
   "metadata": {
    "scrolled": false
   },
   "outputs": [],
   "source": [
    "for df in dfs:\n",
    "    print(f'Dataset {df}')\n",
    "    display(dfs[df].head(5))\n",
    "    dfs[df].info()\n",
    "    print('\\nКоличество пропусков')\n",
    "    display(pd.DataFrame(round(dfs[df].isna().mean()*100,)).style.background_gradient('coolwarm'))\n",
    "    print(f'\\nКоличество явных дубликатов {dfs[df].duplicated().sum()}')\n",
    "    print('-' * 60)"
   ]
  },
  {
   "cell_type": "markdown",
   "metadata": {},
   "source": [
    "Пропуски и явные дубликаты отсутствуют.  \n",
    "Вероятнее всего к положительному классу будут относиться объекты, имеющее отличное от `No` значение признака `EndDate` датасета `contract`.  "
   ]
  },
  {
   "cell_type": "code",
   "execution_count": null,
   "metadata": {},
   "outputs": [],
   "source": [
    "# приведём название колонок к змеиному регистру\n",
    "\n",
    "for df in dfs:\n",
    "    dfs[df] = clean_columns(dfs[df], case='snake')\n",
    "    print(dfs[df].columns)"
   ]
  },
  {
   "cell_type": "code",
   "execution_count": null,
   "metadata": {
    "scrolled": true
   },
   "outputs": [],
   "source": [
    "# проверим уникальность значений customerID для каждой таблицы\n",
    "for name in names:\n",
    "    print(dfs[name]['customer_id'].nunique() == len(dfs[name]['customer_id']))"
   ]
  },
  {
   "cell_type": "markdown",
   "metadata": {},
   "source": [
    "Явные дубликаты отсутствуют"
   ]
  },
  {
   "cell_type": "code",
   "execution_count": null,
   "metadata": {
    "scrolled": true
   },
   "outputs": [],
   "source": [
    "# визуально оценим зависимость customer_id от begin_date\n",
    "dfs[names[0]].sort_values(by='customer_id').head()"
   ]
  },
  {
   "cell_type": "markdown",
   "metadata": {},
   "source": [
    "Зависимости `customer_id` от даты регистрации `begin_date` не наблюдается, установим в качестве индекса таблиц значение признака `customer_id`."
   ]
  },
  {
   "cell_type": "code",
   "execution_count": null,
   "metadata": {
    "scrolled": true
   },
   "outputs": [],
   "source": [
    "for name in names:\n",
    "    dfs[name] = dfs[name].set_index('customer_id')"
   ]
  },
  {
   "cell_type": "code",
   "execution_count": null,
   "metadata": {},
   "outputs": [],
   "source": [
    "# объединим таблицы в одну\n",
    "df = dfs[names[0]]\n",
    "for i in range(1, len(names)):\n",
    "    df = df.merge(dfs[names[i]], how='outer', on='customer_id')"
   ]
  },
  {
   "cell_type": "code",
   "execution_count": null,
   "metadata": {
    "scrolled": true
   },
   "outputs": [],
   "source": [
    "df.head()"
   ]
  },
  {
   "cell_type": "code",
   "execution_count": null,
   "metadata": {
    "scrolled": false
   },
   "outputs": [],
   "source": [
    "# также посмотрим на количество строк / признаков в получившейся таблице\n",
    "df.info()"
   ]
  },
  {
   "cell_type": "code",
   "execution_count": null,
   "metadata": {
    "scrolled": true
   },
   "outputs": [],
   "source": [
    "# в признаке total_charges имеются строки ' '(новые клиенты), заменим на нулевые значения\n",
    "df.loc[df['total_charges'] == ' ', 'total_charges'] = 0"
   ]
  },
  {
   "cell_type": "code",
   "execution_count": null,
   "metadata": {},
   "outputs": [],
   "source": [
    "df.loc[df['end_date'] == 'No', 'end_date'] = '2020-02-01'"
   ]
  },
  {
   "cell_type": "code",
   "execution_count": null,
   "metadata": {
    "scrolled": true
   },
   "outputs": [],
   "source": [
    "# поработаем с форматом данных\n",
    "df['begin_date'] = pd.to_datetime(df['begin_date'], format='%Y-%m-%d')\n",
    "df['end_date'] = pd.to_datetime(df['end_date'], format='%Y-%m-%d')\n",
    "df['total_charges'] = df['total_charges'].astype(float)"
   ]
  },
  {
   "cell_type": "code",
   "execution_count": null,
   "metadata": {},
   "outputs": [],
   "source": [
    "# на освновании признака даты начала контрактных отношений создадим признак длительности жизни клиента с компанией в днях\n",
    "df['customer_for_days'] = (df['end_date'] - df['begin_date']).dt.days.astype(int)"
   ]
  },
  {
   "cell_type": "code",
   "execution_count": null,
   "metadata": {},
   "outputs": [],
   "source": [
    "df[['begin_date', 'end_date', 'customer_for_days']].head()"
   ]
  },
  {
   "cell_type": "code",
   "execution_count": null,
   "metadata": {},
   "outputs": [],
   "source": [
    "df[['begin_date', 'end_date', 'customer_for_days']].sort_values('end_date').head()"
   ]
  },
  {
   "cell_type": "code",
   "execution_count": null,
   "metadata": {},
   "outputs": [],
   "source": [
    "df['senior_citizen'] = df['senior_citizen'].map({1:'Yes', 0:'No'})"
   ]
  },
  {
   "cell_type": "code",
   "execution_count": null,
   "metadata": {},
   "outputs": [],
   "source": [
    "df.info()"
   ]
  },
  {
   "cell_type": "code",
   "execution_count": null,
   "metadata": {
    "scrolled": true
   },
   "outputs": [],
   "source": [
    "df.head()"
   ]
  },
  {
   "cell_type": "code",
   "execution_count": null,
   "metadata": {},
   "outputs": [],
   "source": [
    "df['internet_service'] = df['internet_service'].fillna('no_service')\n",
    "df['multiple_lines'] = df['multiple_lines'].fillna('no_service')\n",
    "df = df.fillna('not_applicable')"
   ]
  },
  {
   "cell_type": "code",
   "execution_count": null,
   "metadata": {},
   "outputs": [],
   "source": [
    "df.info()"
   ]
  },
  {
   "cell_type": "code",
   "execution_count": null,
   "metadata": {},
   "outputs": [],
   "source": [
    "df.isna().mean()"
   ]
  },
  {
   "cell_type": "code",
   "execution_count": null,
   "metadata": {},
   "outputs": [],
   "source": [
    "# создадим целевой признак на основании `end_date`\n",
    "df['churn'] = np.where(df['end_date'] == '2020-02-01', 0, 1)"
   ]
  },
  {
   "cell_type": "code",
   "execution_count": null,
   "metadata": {
    "scrolled": true
   },
   "outputs": [],
   "source": [
    "df = df.drop(['begin_date', 'end_date'], axis=1)"
   ]
  },
  {
   "cell_type": "markdown",
   "metadata": {},
   "source": [
    "### Вывод"
   ]
  },
  {
   "cell_type": "markdown",
   "metadata": {},
   "source": [
    "В нашем распоряжении 4 файла с данными.  \n",
    "При объединении таблиц в одну, появились пропуски, т.к. таблицы `internet` и `phone` имеют меньшее количество записей.  \n",
    "Дубликаты отсутствуют, пропуски заполнены.  \n",
    "Названия колонок приведены к змеиному регистру.  \n",
    "Добавлен новый признак - срок жизни клиента в днях.  \n",
    "Создана целевая переменная `churn` любого значения, кроме No столбца `end_date`.  "
   ]
  },
  {
   "cell_type": "markdown",
   "metadata": {},
   "source": [
    "## EDA"
   ]
  },
  {
   "cell_type": "markdown",
   "metadata": {},
   "source": [
    "На этом этапе посмотрим на распределение переменных, оценим коллинеарность."
   ]
  },
  {
   "cell_type": "code",
   "execution_count": null,
   "metadata": {},
   "outputs": [],
   "source": [
    "df['churn'].value_counts(normalize=True)"
   ]
  },
  {
   "cell_type": "markdown",
   "metadata": {},
   "source": [
    "Наблюдается дисбаланс классов."
   ]
  },
  {
   "cell_type": "code",
   "execution_count": null,
   "metadata": {},
   "outputs": [],
   "source": [
    "categorical = []\n",
    "numerical = []\n",
    "for i, tp in enumerate(df.dtypes):\n",
    "    if tp == 'O':\n",
    "        categorical.append(df.columns[i])\n",
    "        \n",
    "[numerical.append(col) for col in list(df.columns)[:-1] if col not in categorical];"
   ]
  },
  {
   "cell_type": "code",
   "execution_count": null,
   "metadata": {},
   "outputs": [],
   "source": [
    "categorical"
   ]
  },
  {
   "cell_type": "code",
   "execution_count": null,
   "metadata": {},
   "outputs": [],
   "source": [
    "numerical"
   ]
  },
  {
   "cell_type": "code",
   "execution_count": null,
   "metadata": {
    "scrolled": false
   },
   "outputs": [],
   "source": [
    "columns_to_show = ['monthly_charges', 'total_charges', 'customer_for_days']\n",
    "for col in columns_to_show:\n",
    "    print(col)\n",
    "    display(df.groupby(['churn'])[col].describe(percentiles=[]))"
   ]
  },
  {
   "cell_type": "markdown",
   "metadata": {},
   "source": [
    "Среди оттёкших клиентов выше среднее значение `monthly_charges` выше (выше проникновение сервисов или более дорогие таррифы)."
   ]
  },
  {
   "cell_type": "code",
   "execution_count": null,
   "metadata": {},
   "outputs": [],
   "source": [
    "plt.figure(figsize=(20, 12))\n",
    "\n",
    "for i, col in enumerate(numerical):\n",
    "    plt.subplot(2, 2, i+1)\n",
    "    sns.kdeplot(data=df[col], color='teal', shade=True,linewidth=0.4)\n",
    "    plt.title(f'Распределение \"{col}\"')\n",
    "    \n",
    "plt.show()"
   ]
  },
  {
   "cell_type": "code",
   "execution_count": null,
   "metadata": {},
   "outputs": [],
   "source": [
    "fig, axes = plt.subplots(2, 2, figsize=(20, 12))\n",
    "fig.suptitle('Boxplots for numerical features', fontsize=20)\n",
    "for i, n in enumerate(numerical):\n",
    "    x,y = divmod(i,2)\n",
    "    sns.boxplot(y=n, data=df, ax=axes[x,y]).set_title(f'Boxplot {n}', fontsize=18, y=1.05)"
   ]
  },
  {
   "cell_type": "markdown",
   "metadata": {},
   "source": [
    "Аномалии отсутствуют, `total_charges` содержит ряд значений за пределами 1.5 IQR,  \n",
    "вероятнее всего это \"долгожители\" среди пользователей услуг.  \n",
    "Пиковые значения распределения `monthly_charges` расположены в районе 20 и 80 у.е.  "
   ]
  },
  {
   "cell_type": "code",
   "execution_count": null,
   "metadata": {},
   "outputs": [],
   "source": [
    "fig, axes = plt.subplots(2, 2, figsize=(20, 14))\n",
    "fig.suptitle('Boxplots for loyal and churn customers', fontsize=22)\n",
    "for i, col in enumerate(numerical):\n",
    "    ax = axes[int(i / 2), i % 2]\n",
    "    sns.boxplot(x='churn', y=col, data=df, ax=ax).set_title(f'Boxplot {col}', fontsize=18, y=1.05)\n",
    "    ax.set_xlabel('', fontsize=16)\n",
    "    ax.set_ylabel(col, fontsize=16)\n",
    "fig.tight_layout()\n",
    "fig.subplots_adjust(top=0.89);"
   ]
  },
  {
   "cell_type": "code",
   "execution_count": null,
   "metadata": {},
   "outputs": [],
   "source": [
    "df[numerical].corr('pearson')"
   ]
  },
  {
   "cell_type": "code",
   "execution_count": null,
   "metadata": {},
   "outputs": [],
   "source": [
    "corr_matrix = df[numerical].corr()\n",
    "sns.heatmap(corr_matrix).set_title('Numerical features correlation heatmap');"
   ]
  },
  {
   "cell_type": "markdown",
   "metadata": {},
   "source": [
    "Присутствует логичные корреляции между:\n",
    "- заметная между `monthly_charges` и `total_charges`\n",
    "- высокая между `total_charges` и `customer_for`\n",
    "- очень высокая у признаков `customer_for` (ведь это по сути есть один и тот же признак в разных единицах измерения)\n",
    "\n",
    "Слабая корреляция между `customer_for` и `monthly_charges`."
   ]
  },
  {
   "cell_type": "code",
   "execution_count": null,
   "metadata": {},
   "outputs": [],
   "source": [
    "phik_overview = df.phik_matrix(interval_cols=numerical)\n",
    "\n",
    "plot_correlation_matrix(phik_overview.values, x_labels=phik_overview.columns, y_labels=phik_overview.index, \n",
    "                         vmin=0, vmax=1, color_map='Blues', title=r'Correlation $\\phi_K$', fontsize_factor=1.5,\n",
    "                         figsize=(22, 12))\n",
    "plt.tight_layout()"
   ]
  },
  {
   "cell_type": "code",
   "execution_count": null,
   "metadata": {},
   "outputs": [],
   "source": [
    "significance_overview = df.significance_matrix(interval_cols=numerical)"
   ]
  },
  {
   "cell_type": "code",
   "execution_count": null,
   "metadata": {},
   "outputs": [],
   "source": [
    "plot_correlation_matrix(significance_overview.values, x_labels=significance_overview.columns, \n",
    "                        y_labels=significance_overview.index, color_map='Greens',\n",
    "                        title=r'Significance $\\phi_K$', vmin=-2, vmax=140, fontsize_factor=1.5,\n",
    "                        figsize=(22, 12))"
   ]
  },
  {
   "cell_type": "markdown",
   "metadata": {},
   "source": [
    "Наибольшая корреляция наблюдается между суммарными расходами клиента и дополнительными услугами, что предсказуемо.\n",
    "На этапе обучения стоит рассмотреть не использовать признаки со слабым уровнем корреляции с целевой переменной (`dependents`,`senior_citizen`, `gender`) и возможно другие. "
   ]
  },
  {
   "cell_type": "code",
   "execution_count": null,
   "metadata": {},
   "outputs": [],
   "source": [
    "# Посмотрим на распределение переменных срока жизни и monhly_charges\n",
    "# Возможно бОльшая часть клиентов заходит на базовые услуги/тарифы и хорошо кросселится в будущем\n",
    "df.plot(x='customer_for_days',\n",
    "        y='monthly_charges',\n",
    "        kind='hexbin',\n",
    "        gridsize=15,\n",
    "        figsize=(20, 12), \n",
    "        sharex=False, \n",
    "        grid=True);\n",
    "plt.title('Customer_for_days vs monthly_charges hexbin', fontsize=20);"
   ]
  },
  {
   "cell_type": "markdown",
   "metadata": {},
   "source": [
    "Похоже, что присутствует внушительное количество клиентов \"долгожителей\" c низким показателем `monthly_charges`, стоит обратить внимание маркетологов/отдела продаж."
   ]
  },
  {
   "cell_type": "code",
   "execution_count": null,
   "metadata": {},
   "outputs": [],
   "source": [
    "# не очень понял как элегантно сделать графики с таким большим количеством категориальных признаков\n",
    "# и как лучше было постпуать: показать, что посмотрел на все признаки или оставить только интересные?\n",
    "fig, axes = plt.subplots(5, 3, sharey=True, figsize=(40, 60))\n",
    "fig.suptitle('Barplots for loyal and churn customers', fontsize=60)\n",
    "for i, col in enumerate(categorical):\n",
    "    ax = axes[int(i / 3), i % 3]\n",
    "    sns.countplot(x=col, hue='churn', data=df, ax=ax).set_title(f'{col}', fontsize=40, y=0.95)\n",
    "    ax.set_xlabel('')\n",
    "    ax.set_ylabel('')\n",
    "    ax.tick_params(labelsize=30)\n",
    "    ax.tick_params(axis='x', labelrotation=15)\n",
    "    ax.legend(fontsize=30)\n",
    "fig.tight_layout()\n",
    "fig.subplots_adjust(top=0.95);"
   ]
  },
  {
   "cell_type": "markdown",
   "metadata": {},
   "source": [
    "Наибольшие отличия в долях оттёкших клиентов наблюдаются в признаках:\n",
    "- `internet_service`\n",
    "- `online_backup`\n",
    "- `device_protection`\n",
    "- `streaming_movies`\n",
    "- `multiple_lines`\n",
    "\n",
    "Признак `monthly_charges` заметно дифференциирует клиентов."
   ]
  },
  {
   "cell_type": "markdown",
   "metadata": {},
   "source": [
    "## Обучение"
   ]
  },
  {
   "cell_type": "code",
   "execution_count": null,
   "metadata": {
    "scrolled": false
   },
   "outputs": [],
   "source": [
    "RANDOM_STATE = 140823\n",
    "RANDOM_SEED = RANDOM_STATE"
   ]
  },
  {
   "cell_type": "markdown",
   "metadata": {
    "scrolled": true
   },
   "source": [
    "В качестве срока жизни клиента оставим признак `customer_for_days`"
   ]
  },
  {
   "cell_type": "code",
   "execution_count": null,
   "metadata": {},
   "outputs": [],
   "source": [
    "X = df.drop('churn', axis=1).columns\n",
    "y = ['churn']"
   ]
  },
  {
   "cell_type": "code",
   "execution_count": null,
   "metadata": {},
   "outputs": [],
   "source": [
    "train, test = train_test_split(df, test_size=0.25, random_state=RANDOM_STATE, stratify=df[y])\n",
    "print(f'Размер обучающей выборки {train.shape}, это составляет {len(train)/len(df):.2%} данных')\n",
    "print(f'Размер тестовой выборки   {test.shape}, это составляет {len(test)/len(df):.2%} данных')"
   ]
  },
  {
   "cell_type": "code",
   "execution_count": null,
   "metadata": {},
   "outputs": [],
   "source": [
    "train['churn'].value_counts(normalize=True)\n",
    "\n",
    "test['churn'].value_counts(normalize=True)"
   ]
  },
  {
   "cell_type": "markdown",
   "metadata": {},
   "source": [
    "### Создание функций"
   ]
  },
  {
   "cell_type": "code",
   "execution_count": null,
   "metadata": {},
   "outputs": [],
   "source": [
    "kfold = KFold(n_splits=5, random_state=RANDOM_STATE, shuffle=True)"
   ]
  },
  {
   "cell_type": "code",
   "execution_count": null,
   "metadata": {},
   "outputs": [],
   "source": [
    "def go_random_grid(model, grid_params, n_iter, x_train, y_train):\n",
    "    '''Hyperparameters tuning with GridSearchCV returns roc_auc CV score'''\n",
    "    print(\"Performing grid search...\")\n",
    "    print(\"Hyperparameters to be evaluated:\")\n",
    "    pprint(grid_params)\n",
    "    print()\n",
    "    \n",
    "    clf_rnd_gs = RandomizedSearchCV(model, \n",
    "                                    grid_params, \n",
    "                                    random_state=RANDOM_STATE,\n",
    "                                    n_iter=n_iter,\n",
    "                                    cv=5,\n",
    "                                    verbose=1,\n",
    "                                    n_jobs=-2,\n",
    "                                    scoring='roc_auc')\n",
    "    \n",
    "    clf_rnd_gs.fit(x_train,y_train)\n",
    "        \n",
    "    name = 'Catboost' if 'catboost' in str(model).lower() else str(model).split(sep='(')[0].rstrip('Classifier')\n",
    "    \n",
    "    print('Best parameters:')\n",
    "    for elem in clf_rnd_gs.best_params_:\n",
    "        print(f'{elem}: {clf_rnd_gs.best_params_.get(elem)}')\n",
    "    \n",
    "    return name, clf_rnd_gs.best_params_, clf_rnd_gs.best_estimator_, clf_rnd_gs\n"
   ]
  },
  {
   "cell_type": "code",
   "execution_count": null,
   "metadata": {},
   "outputs": [],
   "source": [
    "def plot_cm_rocauc(model_name, actual_classes, predicted_classes, predicted_proba, dataset='с использованием кросс валидации на обучающей', sorted_labels = ['Loyal', 'Churn']):\n",
    "    '''Ploting ROC curve and confusion matrix using predictions based on CV'''\n",
    "    matrix = confusion_matrix(actual_classes, predicted_classes)\n",
    "    \n",
    "    plt.figure(figsize=(12.8,6))\n",
    "    sns.heatmap(matrix, annot=True, xticklabels=sorted_labels, yticklabels=sorted_labels, cmap=\"gnuplot\", fmt=\"g\")\n",
    "    plt.xlabel('Predicted'); plt.ylabel('Actual'); plt.title('Confusion Matrix');\n",
    "\n",
    "    plt.show()\n",
    "        \n",
    "    probabilities_one = predicted_proba[:, 1]\n",
    "    \n",
    "    sns.set(rc={'figure.figsize':(12, 8.6)})\n",
    "    \n",
    "    fpr, tpr, thresholds = roc_curve(actual_classes, probabilities_one) \n",
    "    plt.figure()\n",
    "\n",
    "    plt.plot(fpr, tpr)\n",
    "\n",
    "    plt.plot([0, 1], [0, 1], linestyle='--')\n",
    "\n",
    "    plt.xlim([-0.05, 1.0])\n",
    "    plt.ylim([0.0, 1.05])\n",
    "\n",
    "    plt.xlabel('False Positive Rate')\n",
    "    plt.ylabel('True Positive Rate')\n",
    "\n",
    "    plt.title('ROC-кривая модели ' + model_name)\n",
    "\n",
    "    plt.show()\n",
    "    \n",
    "    rocauc = roc_auc_score(actual_classes, probabilities_one)\n",
    "    accuracy = accuracy_score(actual_classes, predicted_classes)\n",
    "    precision = precision_score(actual_classes, predicted_classes)\n",
    "    recall = recall_score(actual_classes, predicted_classes)\n",
    "    \n",
    "    print(f'Метрики модели {model_name} {dataset} выборке')\n",
    "    print(f'ROC-AUC   {rocauc:.3f}')\n",
    "    print(f'Accuracy  {accuracy:.3f}')\n",
    "    print(f'Precision {precision:.3f}')\n",
    "    print(f'Recall    {recall:.3f}')\n",
    "\n",
    "    \n",
    "    return rocauc, accuracy, precision, recall\n"
   ]
  },
  {
   "cell_type": "code",
   "execution_count": null,
   "metadata": {},
   "outputs": [],
   "source": [
    "def cross_val_predict(model, kfold, X, y, dataset='с использованием кросс валидации на обучающей'):\n",
    "    '''Predicting classes using CV(KFold)'''\n",
    "    global name\n",
    "    model_ = cp.deepcopy(model)\n",
    "    \n",
    "    no_classes = len(np.unique(y))\n",
    "    \n",
    "    actual_classes = np.empty([0], dtype=int)\n",
    "    predicted_classes = np.empty([0], dtype=int)\n",
    "    predicted_proba = np.empty([0, no_classes]) \n",
    "\n",
    "    \n",
    "    for train_ndx, test_ndx in kfold.split(X):\n",
    "\n",
    "        train_X, train_y, test_X, test_y = (X.iloc[train_ndx],\n",
    "                                            y.iloc[train_ndx],\n",
    "                                            X.iloc[test_ndx], \n",
    "                                            y.iloc[test_ndx])\n",
    "\n",
    "        actual_classes = np.append(actual_classes, test_y)\n",
    "\n",
    "        model_.fit(train_X, train_y)\n",
    "        predicted_classes = np.append(predicted_classes, model_.predict(test_X))\n",
    "\n",
    "        try:\n",
    "            predicted_proba = np.append(predicted_proba, model_.predict_proba(test_X), axis=0)\n",
    "        except:\n",
    "            predicted_proba = np.append(predicted_proba, np.zeros((len(test_X), no_classes), dtype=float), axis=0)\n",
    "            \n",
    "    rocauc, accuracy, precision, recall = plot_cm_rocauc(name, actual_classes, predicted_classes, predicted_proba)\n",
    "    \n",
    "    return actual_classes, predicted_classes, predicted_proba, rocauc, accuracy, precision, recall\n"
   ]
  },
  {
   "cell_type": "code",
   "execution_count": null,
   "metadata": {},
   "outputs": [],
   "source": [
    "def plot_cm_rocauc(model_name, actual_classes, predicted_classes, predicted_proba, dataset='с использованием кросс валидации на обучающей', sorted_labels = ['Loyal', 'Churn']):\n",
    "    '''Ploting ROC curve and confusion matrix using predictions based on CV'''\n",
    "    matrix = confusion_matrix(actual_classes, predicted_classes)\n",
    "    \n",
    "    plt.figure(figsize=(12.8,6))\n",
    "    sns.heatmap(matrix, annot=True, xticklabels=sorted_labels, yticklabels=sorted_labels, cmap=\"gnuplot\", fmt=\"g\")\n",
    "    plt.xlabel('Predicted'); plt.ylabel('Actual'); plt.title('Confusion Matrix');\n",
    "\n",
    "    plt.show()\n",
    "        \n",
    "    probabilities_one = predicted_proba[:, 1]\n",
    "    \n",
    "    sns.set(rc={'figure.figsize':(12, 8.6)})\n",
    "    \n",
    "    fpr, tpr, thresholds = roc_curve(actual_classes, probabilities_one) \n",
    "    plt.figure()\n",
    "\n",
    "    plt.plot(fpr, tpr)\n",
    "\n",
    "    plt.plot([0, 1], [0, 1], linestyle='--')\n",
    "\n",
    "    plt.xlim([-0.05, 1.0])\n",
    "    plt.ylim([0.0, 1.05])\n",
    "\n",
    "    plt.xlabel('False Positive Rate')\n",
    "    plt.ylabel('True Positive Rate')\n",
    "\n",
    "    plt.title('ROC-кривая модели ' + model_name)\n",
    "\n",
    "    plt.show()\n",
    "    \n",
    "    rocauc = roc_auc_score(actual_classes, probabilities_one)\n",
    "    accuracy = accuracy_score(actual_classes, predicted_classes)\n",
    "    precision = precision_score(actual_classes, predicted_classes)\n",
    "    recall = recall_score(actual_classes, predicted_classes)\n",
    "    \n",
    "    print(f'Метрики модели {model_name} {dataset} выборке')\n",
    "    print(f'ROC-AUC   {rocauc:.3f}')\n",
    "    print(f'Accuracy  {accuracy:.3f}')\n",
    "    print(f'Precision {precision:.3f}')\n",
    "    print(f'Recall    {recall:.3f}')\n",
    "\n",
    "    \n",
    "    return rocauc, accuracy, precision, recall\n"
   ]
  },
  {
   "cell_type": "code",
   "execution_count": null,
   "metadata": {},
   "outputs": [],
   "source": [
    "def get_results(best_params):\n",
    "    '''Accumulating and printing ML results'''\n",
    "    global results, rocauc, accuracy, precision, recall, name\n",
    "\n",
    "    results.loc[name] = [rocauc, accuracy, precision, recall, best_params]\n",
    "    display(results.iloc[:, :4])\n",
    "    \n",
    "    return\n"
   ]
  },
  {
   "cell_type": "code",
   "execution_count": null,
   "metadata": {},
   "outputs": [],
   "source": [
    "def get_best_thr(y_true, predicted_proba):\n",
    "    '''Finding best threshold based on F1_score'''\n",
    "    thrs = np.unique(predicted_proba[:,1])\n",
    "    scores = []\n",
    "    for thr in tqdm(thrs):\n",
    "        y_pred = (predicted_proba[:,1] >= thr).astype(int)\n",
    "        score = f1_score(y_true, y_pred)\n",
    "        scores.append(score)\n",
    "    result_thr = pd.DataFrame({'thr':thrs, 'f1_score':scores})\n",
    "    \n",
    "    return result_thr\n"
   ]
  },
  {
   "cell_type": "code",
   "execution_count": null,
   "metadata": {},
   "outputs": [],
   "source": [
    "results = pd.DataFrame({'ROC-AUC': [],\n",
    "                        'Accuracy': [],\n",
    "                        'Precision': [],\n",
    "                        'Recall': [],\n",
    "                        'Best parameters' : []\n",
    "})"
   ]
  },
  {
   "cell_type": "markdown",
   "metadata": {},
   "source": [
    "### Encoding"
   ]
  },
  {
   "cell_type": "code",
   "execution_count": null,
   "metadata": {},
   "outputs": [],
   "source": [
    "encoder = OneHotEncoder(handle_unknown='ignore', drop='first') #удаляем первый столбец чтобы не попасть в дамми-ловушку\n",
    "\n",
    "train_ohe = (pd.DataFrame(\n",
    "     encoder.fit_transform(train[categorical]).toarray(),\n",
    "     columns=encoder.get_feature_names_out(),\n",
    "     index=train.index)\n",
    "     .join([train[y], train[numerical]], how='left')\n",
    ") \n",
    "\n",
    "test_ohe = (pd.DataFrame(\n",
    "    encoder.transform(test[categorical]).toarray(),\n",
    "    columns=encoder.get_feature_names_out(),\n",
    "    index=test.index)\n",
    "    .join([test[y], test[numerical]], how='left')\n",
    ")"
   ]
  },
  {
   "cell_type": "code",
   "execution_count": null,
   "metadata": {},
   "outputs": [],
   "source": [
    "X_ohe = list(train_ohe.columns)\n",
    "X_ohe.remove('churn')"
   ]
  },
  {
   "cell_type": "markdown",
   "metadata": {},
   "source": [
    "### Random Forest"
   ]
  },
  {
   "cell_type": "code",
   "execution_count": null,
   "metadata": {
    "scrolled": true
   },
   "outputs": [],
   "source": [
    "%%time\n",
    "\n",
    "model = RandomForestClassifier(random_state=RANDOM_STATE, class_weight='balanced')\n",
    "\n",
    "grid_params = {\n",
    "    'n_estimators': [300],\n",
    "    'max_depth': [10],\n",
    "    'min_samples_leaf': [10],\n",
    "    'criterion': ['entropy'],\n",
    "    'max_features': [None]\n",
    "}\n",
    "n_iter = 150\n",
    "\n",
    "name, best_params_rf, best_model_rf, grid_rf = go_random_grid(model,\n",
    "                                                              grid_params,\n",
    "                                                              n_iter,\n",
    "                                                              train_ohe[X_ohe],\n",
    "                                                              train_ohe[y])"
   ]
  },
  {
   "cell_type": "code",
   "execution_count": null,
   "metadata": {},
   "outputs": [],
   "source": [
    "actual_classes_rf, predicted_classes_rf, predicted_proba_rf, rocauc, accuracy, precision, recall = cross_val_predict(best_model_rf, kfold, train_ohe[X_ohe], train_ohe[y])"
   ]
  },
  {
   "cell_type": "markdown",
   "metadata": {},
   "source": [
    "Модель случайного леса показывает довольно низкий уровень precision(большое количество ложно положительных предсказаний).  \n",
    "Использование такой модели будет приводить к потере прибыли из-за предложения скидок тем клиентам, которые не собирались уходить."
   ]
  },
  {
   "cell_type": "code",
   "execution_count": null,
   "metadata": {},
   "outputs": [],
   "source": [
    "get_results(best_params_rf)"
   ]
  },
  {
   "cell_type": "markdown",
   "metadata": {},
   "source": [
    "### Catboost"
   ]
  },
  {
   "cell_type": "code",
   "execution_count": null,
   "metadata": {},
   "outputs": [],
   "source": [
    "cat_features = categorical\n",
    "\n",
    "cb_params = {'cat_features': cat_features,\n",
    "             'loss_function': 'Logloss',\n",
    "             'eval_metric': 'AUC',\n",
    "             'auto_class_weights': 'Balanced',\n",
    "             'random_seed': RANDOM_SEED,\n",
    "             'num_trees': 1000,\n",
    "             'verbose': 0,\n",
    "             'early_stopping_rounds': 100}"
   ]
  },
  {
   "cell_type": "code",
   "execution_count": null,
   "metadata": {
    "scrolled": false
   },
   "outputs": [],
   "source": [
    "%%time\n",
    "\n",
    "model = CatBoostClassifier(**cb_params)\n",
    "\n",
    "grid_params = { \n",
    "    'learning_rate': [0.25],\n",
    "    'depth': [4],\n",
    "    'l2_leaf_reg': [2],\n",
    "    'subsample': [1],\n",
    "    'colsample_bylevel': [1],\n",
    "}\n",
    "\n",
    "n_iter = 100\n",
    "\n",
    "name, best_params_cb, best_model_cb, grid_cb = go_random_grid(model,\n",
    "                                                              grid_params,\n",
    "                                                              n_iter,\n",
    "                                                              train[X],\n",
    "                                                              train[y])"
   ]
  },
  {
   "cell_type": "code",
   "execution_count": null,
   "metadata": {},
   "outputs": [],
   "source": [
    "actual_classes_cb, predicted_classes_cb, predicted_proba_cb, rocauc, accuracy, precision, recall = cross_val_predict(best_model_cb, kfold, train[X], train[y])"
   ]
  },
  {
   "cell_type": "markdown",
   "metadata": {},
   "source": [
    "Модель Catboost показывает практически идентичный результат среди верно положительных предскзаний, значительно сократив количество ложно положительных - метрика точности значительно выше. Уровень полноты же практически не уменьшился. Accuracy = 90% против 79% у модели случайного леса."
   ]
  },
  {
   "cell_type": "code",
   "execution_count": null,
   "metadata": {},
   "outputs": [],
   "source": [
    "get_results(best_params_cb)"
   ]
  },
  {
   "cell_type": "markdown",
   "metadata": {},
   "source": [
    "### LGBM"
   ]
  },
  {
   "cell_type": "code",
   "execution_count": null,
   "metadata": {},
   "outputs": [],
   "source": [
    "train_lgbm = train.copy()\n",
    "test_lgbm = test.copy()\n",
    "train_lgbm[categorical] = train_lgbm[categorical].astype('category')\n",
    "test_lgbm[categorical] = test_lgbm[categorical].astype('category')"
   ]
  },
  {
   "cell_type": "code",
   "execution_count": null,
   "metadata": {},
   "outputs": [],
   "source": [
    "lgbm_params = {'objective':'binary', \n",
    "               'class_weight':'balanced', \n",
    "               'metric':'auc', \n",
    "               'random_state':RANDOM_STATE, \n",
    "               'silent':True,\n",
    "               'verbose':-1}"
   ]
  },
  {
   "cell_type": "code",
   "execution_count": null,
   "metadata": {
    "scrolled": true
   },
   "outputs": [],
   "source": [
    "%%time\n",
    "\n",
    "model = LGBMClassifier(**lgbm_params)\n",
    "\n",
    "grid_params = { \n",
    "    'learning_rate': [0.2],\n",
    "    'n_estimators': [350],\n",
    "    'max_depth': [4]               \n",
    "}\n",
    "\n",
    "n_iter = 50\n",
    "\n",
    "name, best_params_lgbm, best_model_lgbm, grid_lgbm = go_random_grid(model,\n",
    "                                                                    grid_params,\n",
    "                                                                    n_iter,\n",
    "                                                                    train_lgbm[X],\n",
    "                                                                    train_lgbm[y])"
   ]
  },
  {
   "cell_type": "code",
   "execution_count": null,
   "metadata": {},
   "outputs": [],
   "source": [
    "actual_classes_lgbm, predicted_classes_lgbm, predicted_proba_lgbm, rocauc, accuracy, precision, recall = cross_val_predict(best_model_lgbm, kfold, train_lgbm[X], train_lgbm[y])"
   ]
  },
  {
   "cell_type": "code",
   "execution_count": null,
   "metadata": {},
   "outputs": [],
   "source": [
    "get_results(best_params_lgbm)"
   ]
  },
  {
   "cell_type": "markdown",
   "metadata": {},
   "source": [
    "Модель LGBM показывает похожие с Catboost результаты, но уступает в precision."
   ]
  },
  {
   "cell_type": "markdown",
   "metadata": {},
   "source": [
    "### Оценка скорости обучения и предсказания моделей"
   ]
  },
  {
   "cell_type": "code",
   "execution_count": null,
   "metadata": {},
   "outputs": [],
   "source": [
    "results_timings = pd.DataFrame({'Train time':[], 'Predict time':[]})"
   ]
  },
  {
   "cell_type": "code",
   "execution_count": null,
   "metadata": {},
   "outputs": [],
   "source": [
    "results_timings.loc['RandomForest'] = [grid_rf.cv_results_['mean_fit_time'][0],\n",
    "                                       grid_rf.cv_results_['mean_score_time'][0]]\n",
    "\n",
    "results_timings.loc['Catboost'] = [grid_cb.cv_results_['mean_fit_time'][0],\n",
    "                                   grid_cb.cv_results_['mean_score_time'][0]]\n",
    "\n",
    "results_timings.loc['LGBM'] = [grid_lgbm.cv_results_['mean_fit_time'][0],\n",
    "                               grid_lgbm.cv_results_['mean_score_time'][0]]\n"
   ]
  },
  {
   "cell_type": "code",
   "execution_count": null,
   "metadata": {},
   "outputs": [],
   "source": [
    "results_timings"
   ]
  },
  {
   "cell_type": "markdown",
   "metadata": {},
   "source": [
    "Значительной разницы в скорости предсказания не наблюдается, разница в скорости обучения модели в рамках решаемой задачи не является критичной."
   ]
  },
  {
   "cell_type": "code",
   "execution_count": null,
   "metadata": {},
   "outputs": [],
   "source": [
    "results.iloc[:,:4]"
   ]
  },
  {
   "cell_type": "markdown",
   "metadata": {},
   "source": [
    "Учитывая результаты, выберем Catboost как лучшую модель."
   ]
  },
  {
   "cell_type": "markdown",
   "metadata": {},
   "source": [
    "### Проверка важности признаков лучшей модели"
   ]
  },
  {
   "cell_type": "code",
   "execution_count": null,
   "metadata": {},
   "outputs": [],
   "source": [
    "model = best_model_cb\n",
    "model.fit(train[X], train[y]);"
   ]
  },
  {
   "cell_type": "code",
   "execution_count": null,
   "metadata": {},
   "outputs": [],
   "source": [
    "feature_importance = model.feature_importances_\n",
    "sorted_idx = np.argsort(feature_importance)\n",
    "fig = plt.figure(figsize=(22, 14))\n",
    "plt.barh(range(len(sorted_idx)), feature_importance[sorted_idx], align='center')\n",
    "plt.yticks(range(len(sorted_idx)), np.array(test[X].columns)[sorted_idx], fontsize=18)\n",
    "plt.title('Feature Importance', fontsize=20);"
   ]
  },
  {
   "cell_type": "code",
   "execution_count": null,
   "metadata": {},
   "outputs": [],
   "source": [
    "# Попробуем оставить только наиболее важные признаки\n",
    "# также удалим один из двух созависимых признаков размера оплаты (total_charges) как менее важный\n",
    "X_new = ['customer_for_days', 'device_protection', \n",
    "        'monthly_charges', 'multiple_lines','partner',\n",
    "        'payment_method', 'type']"
   ]
  },
  {
   "cell_type": "code",
   "execution_count": null,
   "metadata": {},
   "outputs": [],
   "source": [
    "cat_features = ['type',\n",
    "                'payment_method',\n",
    "                'partner',\n",
    "                'device_protection',\n",
    "                'multiple_lines']"
   ]
  },
  {
   "cell_type": "code",
   "execution_count": null,
   "metadata": {},
   "outputs": [],
   "source": [
    "cb_params['cat_features'] = cat_features"
   ]
  },
  {
   "cell_type": "code",
   "execution_count": null,
   "metadata": {},
   "outputs": [],
   "source": [
    "model = CatBoostClassifier(**cb_params, **best_params_cb)"
   ]
  },
  {
   "cell_type": "code",
   "execution_count": null,
   "metadata": {},
   "outputs": [],
   "source": [
    "name = 'Catboost'\n",
    "actual_classes_cb_lf, predicted_classes_cb_lf, predicted_proba_cb_lf, rocauc, accuracy, precision, recall = cross_val_predict(model, kfold, train[X_new], train[y], 'с использованием ограниченного количества признаков на кросс-валидации на обучающей')"
   ]
  },
  {
   "cell_type": "code",
   "execution_count": null,
   "metadata": {},
   "outputs": [],
   "source": [
    "results.iloc[1:2,:4]"
   ]
  },
  {
   "cell_type": "markdown",
   "metadata": {},
   "source": [
    "Модель, обученная на ограниченном наборе признаков, показывает результат лучше, будем проверять её на тестовой выборке."
   ]
  },
  {
   "cell_type": "markdown",
   "metadata": {},
   "source": [
    "### Вывод"
   ]
  },
  {
   "cell_type": "markdown",
   "metadata": {},
   "source": [
    "Ключевые моменты на этапе обучения:\n",
    "- разделены данные на обучающую и тестовую выборки в пропорции 3:1 с использованием стратификации;\n",
    "- категориальные переменные закодированы для модели RandomForest с использованием One Hot Encoding;\n",
    "- выполнена подбор гиперпараметров для 3-ёх моделей (RandomForest, Catboost, LGBM) с использованием кросс-валидации на обучающей выборке (5 фолдов)\n",
    "- проведено сравнение требуемого времени для обучения моделей и осуществления предсказаний, время обучения не играет критической роли в решаемой задаче, по времени предсказания на имеющемся объёме данных все модели показывают отличный результат (< 0.2 сек.) \n",
    "- наилучшие метрики продемонстрировала модель CatBoost (ROC-AUC = 0.905, Accuracy = 0.901)\n",
    "- была осуществлена проверка важности признаков для лучшей модели, на основании этого мы обучили модель заново на ограниченном объёме признаков, результат улучшился (ROC-AUC 0.919, Accuracy 0.910)."
   ]
  },
  {
   "cell_type": "markdown",
   "metadata": {},
   "source": [
    "## Проверка лучшей модели на тестовой выборке"
   ]
  },
  {
   "cell_type": "code",
   "execution_count": null,
   "metadata": {},
   "outputs": [],
   "source": [
    "# Подберём лучший порог, базируясь на CV предсказаниях обучающей выборки и используем его на тестовой выборке\n",
    "result_thr = get_best_thr(actual_classes_cb_lf, predicted_proba_cb_lf)"
   ]
  },
  {
   "cell_type": "code",
   "execution_count": null,
   "metadata": {},
   "outputs": [],
   "source": [
    "best_thr_f1 = result_thr.sort_values('f1_score', ascending=False).iloc[0,0]\n",
    "display(result_thr.sort_values('f1_score', ascending=False).head(1))"
   ]
  },
  {
   "cell_type": "code",
   "execution_count": null,
   "metadata": {},
   "outputs": [],
   "source": [
    "model = CatBoostClassifier(**cb_params, **best_params_cb)"
   ]
  },
  {
   "cell_type": "code",
   "execution_count": null,
   "metadata": {},
   "outputs": [],
   "source": [
    "model.fit(train[X_new], train[y])"
   ]
  },
  {
   "cell_type": "code",
   "execution_count": null,
   "metadata": {},
   "outputs": [],
   "source": [
    "predicted_proba_t = model.predict_proba(test[X_new])"
   ]
  },
  {
   "cell_type": "code",
   "execution_count": null,
   "metadata": {},
   "outputs": [],
   "source": [
    "predicted_classes_t = (predicted_proba_t[:,1] >= best_thr_f1).astype(int)"
   ]
  },
  {
   "cell_type": "code",
   "execution_count": null,
   "metadata": {},
   "outputs": [],
   "source": [
    "rocauc, accuracy, precision, recall = plot_cm_rocauc('Catboost', test[y], predicted_classes_t, predicted_proba_t, 'с подбором лучшего порога (по CV предсказаниям) на тестовой')"
   ]
  },
  {
   "cell_type": "code",
   "execution_count": null,
   "metadata": {},
   "outputs": [],
   "source": [
    "feature_importance = model.feature_importances_\n",
    "sorted_idx = np.argsort(feature_importance)\n",
    "fig = plt.figure(figsize=(22, 14))\n",
    "plt.barh(range(len(sorted_idx)), feature_importance[sorted_idx], align='center')\n",
    "plt.yticks(range(len(sorted_idx)), np.array(test[X_new].columns)[sorted_idx], fontsize=18)\n",
    "plt.title('Feature Importance', fontsize=20);"
   ]
  },
  {
   "cell_type": "code",
   "execution_count": null,
   "metadata": {},
   "outputs": [],
   "source": [
    "explainer = shap.TreeExplainer(model)\n",
    "shap_values = explainer.shap_values(test[X_new])"
   ]
  },
  {
   "cell_type": "code",
   "execution_count": null,
   "metadata": {},
   "outputs": [],
   "source": [
    "shap.summary_plot(shap_values, test[X_new])"
   ]
  },
  {
   "cell_type": "code",
   "execution_count": null,
   "metadata": {},
   "outputs": [],
   "source": [
    "features = model.get_feature_importance(prettified=True)['Feature Id'].values"
   ]
  },
  {
   "cell_type": "code",
   "execution_count": null,
   "metadata": {
    "scrolled": false
   },
   "outputs": [],
   "source": [
    "for f in features:\n",
    "    shap.dependence_plot(f, shap_values, test[X_new])"
   ]
  },
  {
   "cell_type": "markdown",
   "metadata": {},
   "source": [
    "- Уровень оттока выше среди клиентов с ежемесячным типом оплаты, рекомендуется переводить клиентов на годовые тарифные планы;\n",
    "- Размер ежемесячной оплаты негативно влияет на отток клиентов, уровень оттока растёт быстрее при оплате ~ более 60 у.е.;\n",
    "- Среди способов оплаты негативный эффект сильнее у клиентов, использующих `Bank transfer(auto)` и `Credit Card(auto)`, `Mailed_check` наоборот влияет положительно на срок жизни;"
   ]
  },
  {
   "cell_type": "markdown",
   "metadata": {},
   "source": [
    "### Вывод"
   ]
  },
  {
   "cell_type": "markdown",
   "metadata": {},
   "source": [
    "С использованием подбора лучшего порога на базе CV предсказаний обучающей выборки, модель Catboost демонстрирует следующие результаты на тетсовых данных:\n",
    "- ROC-AUC   0.924\n",
    "- Accuracy  0.919\n",
    "- Precision 0.749\n",
    "- Recall    0.727"
   ]
  },
  {
   "cell_type": "markdown",
   "metadata": {},
   "source": [
    "## Отчёт по проекту"
   ]
  },
  {
   "cell_type": "markdown",
   "metadata": {},
   "source": [
    "Верхнеуровневый план работы, созданный на стартовом этапе.\n",
    "- Загрузка и предобработка данных\n",
    "- Исследовательский анализ данных\n",
    "- Машинное обучение\n",
    "- Проверка лучшей модели на тестовой выборке\n",
    "- Исследование важности признаков лучшей модели\n",
    "\n",
    "Все пункты плана были реализованы.\n",
    "\n",
    "\n",
    "Наибольшую трудность вызвала моя невнимательность, а именно - попытка получить требуемый уровень ROC-AUC на тестовой выборке в 0.85, упорно передавая в roc_auc_score(y_true, **y_pred**). В момент твоего вещания на эту тему, я отметил для себя, что понимаю о чём идёт речь и меня это не коснётся, но видимо необходимо было набить эту шишку \"руками\".\n",
    "\n",
    "\n",
    "Ключевыми шагами были: \n",
    "- перебор гиперпараметров\n",
    "- оценка важности признаков (это помогло улучшить результат ~ на 2 п.п.)\n",
    "- подбор порогового значения\n",
    "\n",
    "\n",
    "Итоговая модель - Catboost со следующим набором гиперпараметров:  \n",
    "\n",
    "'subsample': 1,  \n",
    "'learning_rate': 0.25,  \n",
    "'l2_leaf_reg': 2,  \n",
    "'depth': 4,  \n",
    "'colsample_bylevel': 1,  \n",
    "'loss_function': 'Logloss',  \n",
    "'eval_metric': 'AUC',  \n",
    "'auto_class_weights': 'Balanced',  \n",
    "'random_state': 140823.\n",
    "\n",
    "\n",
    "Был использован следующий список признаков:  \n",
    "`customer_for_days` - срок жизни клиента в днях до момента разрыва взаимоотношений/до сегодняшнего дня (создан)  \n",
    "`monthly_charges` - размер оплаты в месяц  \n",
    "`type` - периодичность оплаты  \n",
    "`payment_method` - способ оплаты  \n",
    "`multiple_lines` - подключение телефона к нескольким линиям одновременно (пропуски заполнены 'no_service')  \n",
    "`device_protection` - наличие антивируса (пропуски заполнены 'not_applicable')  \n",
    "`partner` - наличие супруги(а) (пропуски заполнены 'not_applicable')  \n",
    "\n",
    "\n",
    "Метрики, полученные на тестовой выборке:  \n",
    "ROC-AUC 0.924 | Accuracy  0.919 | Precision 0.749 | Recall    0.727  \n"
   ]
  }
 ],
 "metadata": {
  "ExecuteTimeLog": [
   {
    "duration": 1239,
    "start_time": "2023-08-14T09:48:40.706Z"
   },
   {
    "duration": 3,
    "start_time": "2023-08-14T09:48:56.550Z"
   },
   {
    "duration": 195,
    "start_time": "2023-08-14T09:55:56.127Z"
   },
   {
    "duration": 536,
    "start_time": "2023-08-14T09:56:00.856Z"
   },
   {
    "duration": 7,
    "start_time": "2023-08-14T09:56:29.060Z"
   },
   {
    "duration": 5,
    "start_time": "2023-08-14T09:57:43.629Z"
   },
   {
    "duration": 90,
    "start_time": "2023-08-14T09:57:48.154Z"
   },
   {
    "duration": 315,
    "start_time": "2023-08-14T09:58:06.137Z"
   },
   {
    "duration": 18,
    "start_time": "2023-08-14T09:58:10.356Z"
   },
   {
    "duration": 8,
    "start_time": "2023-08-14T09:58:24.632Z"
   },
   {
    "duration": 4,
    "start_time": "2023-08-14T09:58:31.677Z"
   },
   {
    "duration": 115,
    "start_time": "2023-08-14T09:58:52.953Z"
   },
   {
    "duration": 4,
    "start_time": "2023-08-14T09:58:54.432Z"
   },
   {
    "duration": 24,
    "start_time": "2023-08-14T09:58:58.873Z"
   },
   {
    "duration": 3,
    "start_time": "2023-08-14T09:59:04.120Z"
   },
   {
    "duration": 8,
    "start_time": "2023-08-14T10:07:38.735Z"
   },
   {
    "duration": 20,
    "start_time": "2023-08-14T10:07:48.734Z"
   },
   {
    "duration": 38,
    "start_time": "2023-08-14T10:07:55.097Z"
   },
   {
    "duration": 56,
    "start_time": "2023-08-14T10:08:06.528Z"
   },
   {
    "duration": 33,
    "start_time": "2023-08-14T10:09:16.955Z"
   },
   {
    "duration": 68,
    "start_time": "2023-08-14T10:10:10.794Z"
   },
   {
    "duration": 62,
    "start_time": "2023-08-14T10:10:47.609Z"
   },
   {
    "duration": 52,
    "start_time": "2023-08-14T10:10:56.859Z"
   },
   {
    "duration": 122,
    "start_time": "2023-08-14T11:37:24.012Z"
   },
   {
    "duration": 92,
    "start_time": "2023-08-14T11:37:39.791Z"
   },
   {
    "duration": 61,
    "start_time": "2023-08-14T11:37:50.513Z"
   },
   {
    "duration": 89,
    "start_time": "2023-08-14T11:38:32.169Z"
   },
   {
    "duration": 114,
    "start_time": "2023-08-14T11:38:36.391Z"
   },
   {
    "duration": 51,
    "start_time": "2023-08-14T11:38:44.589Z"
   },
   {
    "duration": 102,
    "start_time": "2023-08-14T11:38:59.610Z"
   },
   {
    "duration": 50,
    "start_time": "2023-08-14T11:39:06.593Z"
   },
   {
    "duration": 3,
    "start_time": "2023-08-14T11:45:39.167Z"
   },
   {
    "duration": 3,
    "start_time": "2023-08-14T11:45:40.039Z"
   },
   {
    "duration": 101,
    "start_time": "2023-08-14T11:45:40.662Z"
   },
   {
    "duration": 62,
    "start_time": "2023-08-14T11:45:41.609Z"
   },
   {
    "duration": 84,
    "start_time": "2023-08-14T11:45:57.034Z"
   },
   {
    "duration": 100,
    "start_time": "2023-08-14T11:52:40.109Z"
   },
   {
    "duration": 89,
    "start_time": "2023-08-14T11:52:58.683Z"
   },
   {
    "duration": 99,
    "start_time": "2023-08-14T11:53:06.376Z"
   },
   {
    "duration": 86,
    "start_time": "2023-08-14T11:53:21.156Z"
   },
   {
    "duration": 86,
    "start_time": "2023-08-14T11:53:32.028Z"
   },
   {
    "duration": 38,
    "start_time": "2023-08-14T11:54:39.718Z"
   },
   {
    "duration": 121,
    "start_time": "2023-08-14T11:54:50.370Z"
   },
   {
    "duration": 28,
    "start_time": "2023-08-14T11:55:02.558Z"
   },
   {
    "duration": 26,
    "start_time": "2023-08-14T11:55:17.462Z"
   },
   {
    "duration": 46,
    "start_time": "2023-08-14T11:55:38.217Z"
   },
   {
    "duration": 36,
    "start_time": "2023-08-14T11:55:50.124Z"
   },
   {
    "duration": 265,
    "start_time": "2023-08-14T11:56:06.063Z"
   },
   {
    "duration": 99,
    "start_time": "2023-08-14T11:56:18.423Z"
   },
   {
    "duration": 96,
    "start_time": "2023-08-14T11:56:29.218Z"
   },
   {
    "duration": 108,
    "start_time": "2023-08-14T11:56:38.264Z"
   },
   {
    "duration": 141,
    "start_time": "2023-08-14T11:57:35.020Z"
   },
   {
    "duration": 116,
    "start_time": "2023-08-14T11:57:41.590Z"
   },
   {
    "duration": 119,
    "start_time": "2023-08-14T11:57:58.179Z"
   },
   {
    "duration": 155,
    "start_time": "2023-08-14T11:58:14.599Z"
   },
   {
    "duration": 97,
    "start_time": "2023-08-14T13:19:42.165Z"
   },
   {
    "duration": 7,
    "start_time": "2023-08-14T13:48:21.361Z"
   },
   {
    "duration": 8,
    "start_time": "2023-08-14T13:48:26.662Z"
   },
   {
    "duration": 2,
    "start_time": "2023-08-14T13:48:46.368Z"
   },
   {
    "duration": 14,
    "start_time": "2023-08-14T13:48:46.372Z"
   },
   {
    "duration": 118,
    "start_time": "2023-08-14T13:48:46.387Z"
   },
   {
    "duration": 118,
    "start_time": "2023-08-14T13:48:46.507Z"
   },
   {
    "duration": 21,
    "start_time": "2023-08-14T13:48:46.627Z"
   },
   {
    "duration": 7,
    "start_time": "2023-08-14T13:48:46.664Z"
   },
   {
    "duration": 3,
    "start_time": "2023-08-14T13:55:34.819Z"
   },
   {
    "duration": 2,
    "start_time": "2023-08-14T13:55:35.077Z"
   },
   {
    "duration": 101,
    "start_time": "2023-08-14T13:55:35.466Z"
   },
   {
    "duration": 110,
    "start_time": "2023-08-14T13:55:36.204Z"
   },
   {
    "duration": 8,
    "start_time": "2023-08-14T13:56:04.186Z"
   },
   {
    "duration": 8,
    "start_time": "2023-08-14T13:57:50.169Z"
   },
   {
    "duration": 7,
    "start_time": "2023-08-14T13:58:07.566Z"
   },
   {
    "duration": 8,
    "start_time": "2023-08-14T13:58:16.976Z"
   },
   {
    "duration": 14,
    "start_time": "2023-08-14T13:58:27.675Z"
   },
   {
    "duration": 2579,
    "start_time": "2023-08-14T14:00:14.401Z"
   },
   {
    "duration": 2,
    "start_time": "2023-08-14T14:00:31.716Z"
   },
   {
    "duration": 80,
    "start_time": "2023-08-14T14:00:31.720Z"
   },
   {
    "duration": 185,
    "start_time": "2023-08-14T14:00:31.802Z"
   },
   {
    "duration": 141,
    "start_time": "2023-08-14T14:00:31.988Z"
   },
   {
    "duration": 25,
    "start_time": "2023-08-14T14:00:32.146Z"
   },
   {
    "duration": 8,
    "start_time": "2023-08-14T14:00:33.866Z"
   },
   {
    "duration": 9,
    "start_time": "2023-08-14T14:01:00.404Z"
   },
   {
    "duration": 6,
    "start_time": "2023-08-14T14:01:30.256Z"
   },
   {
    "duration": 8,
    "start_time": "2023-08-14T14:01:33.075Z"
   },
   {
    "duration": 8,
    "start_time": "2023-08-14T14:02:07.487Z"
   },
   {
    "duration": 129,
    "start_time": "2023-08-14T14:02:23.361Z"
   },
   {
    "duration": 8,
    "start_time": "2023-08-14T14:02:25.499Z"
   },
   {
    "duration": 6,
    "start_time": "2023-08-14T14:03:15.800Z"
   },
   {
    "duration": 3,
    "start_time": "2023-08-14T14:03:30.473Z"
   },
   {
    "duration": 5,
    "start_time": "2023-08-14T14:03:40.670Z"
   },
   {
    "duration": 27,
    "start_time": "2023-08-14T14:04:21.834Z"
   },
   {
    "duration": 23,
    "start_time": "2023-08-14T14:04:41.535Z"
   },
   {
    "duration": 9,
    "start_time": "2023-08-14T14:04:45.564Z"
   },
   {
    "duration": 1847,
    "start_time": "2023-08-14T14:05:29.566Z"
   },
   {
    "duration": 17,
    "start_time": "2023-08-14T14:05:53.688Z"
   },
   {
    "duration": 14,
    "start_time": "2023-08-14T14:05:59.200Z"
   },
   {
    "duration": 5,
    "start_time": "2023-08-14T14:06:03.815Z"
   },
   {
    "duration": 5,
    "start_time": "2023-08-14T14:06:25.532Z"
   },
   {
    "duration": 10,
    "start_time": "2023-08-14T14:06:30.962Z"
   },
   {
    "duration": 5,
    "start_time": "2023-08-14T14:06:41.260Z"
   },
   {
    "duration": 11,
    "start_time": "2023-08-14T14:06:45.808Z"
   },
   {
    "duration": 17,
    "start_time": "2023-08-14T14:07:52.138Z"
   },
   {
    "duration": 89,
    "start_time": "2023-08-14T14:07:58.325Z"
   },
   {
    "duration": 3,
    "start_time": "2023-08-14T14:08:01.115Z"
   },
   {
    "duration": 108,
    "start_time": "2023-08-14T14:09:37.562Z"
   },
   {
    "duration": 4,
    "start_time": "2023-08-14T14:09:42.165Z"
   },
   {
    "duration": 3,
    "start_time": "2023-08-14T14:10:19.827Z"
   },
   {
    "duration": 3,
    "start_time": "2023-08-14T14:10:24.383Z"
   },
   {
    "duration": 3,
    "start_time": "2023-08-14T14:10:28.286Z"
   },
   {
    "duration": 18,
    "start_time": "2023-08-14T14:10:32.360Z"
   },
   {
    "duration": 9,
    "start_time": "2023-08-14T14:10:44.690Z"
   },
   {
    "duration": 11,
    "start_time": "2023-08-14T14:13:02.814Z"
   },
   {
    "duration": 3,
    "start_time": "2023-08-14T14:13:07.384Z"
   },
   {
    "duration": 9,
    "start_time": "2023-08-14T14:13:07.389Z"
   },
   {
    "duration": 114,
    "start_time": "2023-08-14T14:13:07.400Z"
   },
   {
    "duration": 110,
    "start_time": "2023-08-14T14:13:07.515Z"
   },
   {
    "duration": 5,
    "start_time": "2023-08-14T14:13:07.627Z"
   },
   {
    "duration": 21,
    "start_time": "2023-08-14T14:13:07.644Z"
   },
   {
    "duration": 11,
    "start_time": "2023-08-14T14:13:09.595Z"
   },
   {
    "duration": 10,
    "start_time": "2023-08-14T14:13:49.109Z"
   },
   {
    "duration": 3,
    "start_time": "2023-08-14T14:15:32.377Z"
   },
   {
    "duration": 36,
    "start_time": "2023-08-14T14:15:32.382Z"
   },
   {
    "duration": 173,
    "start_time": "2023-08-14T14:15:32.419Z"
   },
   {
    "duration": 118,
    "start_time": "2023-08-14T14:15:32.594Z"
   },
   {
    "duration": 39,
    "start_time": "2023-08-14T14:15:32.713Z"
   },
   {
    "duration": 0,
    "start_time": "2023-08-14T14:15:32.753Z"
   },
   {
    "duration": 0,
    "start_time": "2023-08-14T14:15:32.753Z"
   },
   {
    "duration": 13,
    "start_time": "2023-08-14T14:16:03.766Z"
   },
   {
    "duration": 5,
    "start_time": "2023-08-14T14:16:08.365Z"
   },
   {
    "duration": 4,
    "start_time": "2023-08-14T14:16:10.885Z"
   },
   {
    "duration": 4,
    "start_time": "2023-08-14T14:16:19.119Z"
   },
   {
    "duration": 10,
    "start_time": "2023-08-14T14:17:05.825Z"
   },
   {
    "duration": 30,
    "start_time": "2023-08-14T14:17:54.831Z"
   },
   {
    "duration": 2,
    "start_time": "2023-08-14T14:18:20.894Z"
   },
   {
    "duration": 16,
    "start_time": "2023-08-14T14:18:20.898Z"
   },
   {
    "duration": 106,
    "start_time": "2023-08-14T14:18:20.916Z"
   },
   {
    "duration": 132,
    "start_time": "2023-08-14T14:18:21.024Z"
   },
   {
    "duration": 16,
    "start_time": "2023-08-14T14:18:21.165Z"
   },
   {
    "duration": 30,
    "start_time": "2023-08-14T14:18:21.185Z"
   },
   {
    "duration": 4,
    "start_time": "2023-08-14T14:18:21.217Z"
   },
   {
    "duration": 44,
    "start_time": "2023-08-14T15:50:45.756Z"
   },
   {
    "duration": 1148,
    "start_time": "2023-08-14T15:50:49.213Z"
   },
   {
    "duration": 3,
    "start_time": "2023-08-14T15:50:50.363Z"
   },
   {
    "duration": 420,
    "start_time": "2023-08-14T15:50:50.367Z"
   },
   {
    "duration": 145,
    "start_time": "2023-08-14T15:50:50.789Z"
   },
   {
    "duration": 12,
    "start_time": "2023-08-14T15:50:50.935Z"
   },
   {
    "duration": 17,
    "start_time": "2023-08-14T15:50:50.948Z"
   },
   {
    "duration": 82,
    "start_time": "2023-08-14T15:50:50.967Z"
   },
   {
    "duration": 0,
    "start_time": "2023-08-14T15:50:51.050Z"
   },
   {
    "duration": 9,
    "start_time": "2023-08-14T15:50:56.468Z"
   },
   {
    "duration": 15,
    "start_time": "2023-08-14T15:51:30.674Z"
   },
   {
    "duration": 15,
    "start_time": "2023-08-14T15:51:57.516Z"
   },
   {
    "duration": 8,
    "start_time": "2023-08-14T15:53:32.445Z"
   },
   {
    "duration": 10,
    "start_time": "2023-08-14T15:53:39.007Z"
   },
   {
    "duration": 9,
    "start_time": "2023-08-14T15:54:09.760Z"
   },
   {
    "duration": 7,
    "start_time": "2023-08-14T15:54:14.203Z"
   },
   {
    "duration": 8,
    "start_time": "2023-08-14T15:54:14.824Z"
   },
   {
    "duration": 6,
    "start_time": "2023-08-14T15:54:19.972Z"
   },
   {
    "duration": 8,
    "start_time": "2023-08-14T15:54:23.788Z"
   },
   {
    "duration": 6,
    "start_time": "2023-08-14T15:54:25.579Z"
   },
   {
    "duration": 5,
    "start_time": "2023-08-14T15:56:51.637Z"
   },
   {
    "duration": 5,
    "start_time": "2023-08-14T15:57:02.611Z"
   },
   {
    "duration": 8,
    "start_time": "2023-08-14T15:57:07.384Z"
   },
   {
    "duration": 11,
    "start_time": "2023-08-14T15:57:13.359Z"
   },
   {
    "duration": 5,
    "start_time": "2023-08-14T15:57:27.314Z"
   },
   {
    "duration": 8,
    "start_time": "2023-08-14T15:58:23.102Z"
   },
   {
    "duration": 8,
    "start_time": "2023-08-14T15:58:34.955Z"
   },
   {
    "duration": 14,
    "start_time": "2023-08-14T15:58:49.085Z"
   },
   {
    "duration": 2,
    "start_time": "2023-08-14T15:59:04.312Z"
   },
   {
    "duration": 14,
    "start_time": "2023-08-14T15:59:04.316Z"
   },
   {
    "duration": 121,
    "start_time": "2023-08-14T15:59:04.332Z"
   },
   {
    "duration": 96,
    "start_time": "2023-08-14T15:59:04.455Z"
   },
   {
    "duration": 9,
    "start_time": "2023-08-14T15:59:04.552Z"
   },
   {
    "duration": 13,
    "start_time": "2023-08-14T15:59:04.563Z"
   },
   {
    "duration": 33,
    "start_time": "2023-08-14T15:59:04.577Z"
   },
   {
    "duration": 2,
    "start_time": "2023-08-14T15:59:04.611Z"
   },
   {
    "duration": 9,
    "start_time": "2023-08-14T15:59:04.614Z"
   },
   {
    "duration": 8,
    "start_time": "2023-08-14T15:59:04.624Z"
   },
   {
    "duration": 0,
    "start_time": "2023-08-14T15:59:04.633Z"
   },
   {
    "duration": 6,
    "start_time": "2023-08-14T15:59:34.582Z"
   },
   {
    "duration": 10,
    "start_time": "2023-08-14T15:59:43.613Z"
   },
   {
    "duration": 3,
    "start_time": "2023-08-14T16:00:40.967Z"
   },
   {
    "duration": 10,
    "start_time": "2023-08-14T16:00:49.370Z"
   },
   {
    "duration": 11,
    "start_time": "2023-08-14T16:01:39.552Z"
   },
   {
    "duration": 10,
    "start_time": "2023-08-14T16:01:39.952Z"
   },
   {
    "duration": 12,
    "start_time": "2023-08-14T16:01:56.114Z"
   },
   {
    "duration": 14,
    "start_time": "2023-08-14T16:01:57.217Z"
   },
   {
    "duration": 7,
    "start_time": "2023-08-14T16:02:46.100Z"
   },
   {
    "duration": 228,
    "start_time": "2023-08-14T16:02:56.053Z"
   },
   {
    "duration": 9,
    "start_time": "2023-08-14T16:03:08.289Z"
   },
   {
    "duration": 3,
    "start_time": "2023-08-14T16:03:41.988Z"
   },
   {
    "duration": 10,
    "start_time": "2023-08-14T16:03:43.185Z"
   },
   {
    "duration": 9,
    "start_time": "2023-08-14T16:03:49.301Z"
   },
   {
    "duration": 2,
    "start_time": "2023-08-14T16:05:28.119Z"
   },
   {
    "duration": 2,
    "start_time": "2023-08-14T16:05:36.269Z"
   },
   {
    "duration": 3,
    "start_time": "2023-08-14T16:05:57.803Z"
   },
   {
    "duration": 10,
    "start_time": "2023-08-14T16:05:58.668Z"
   },
   {
    "duration": 7,
    "start_time": "2023-08-14T16:06:02.995Z"
   },
   {
    "duration": 14,
    "start_time": "2023-08-14T16:06:05.707Z"
   },
   {
    "duration": 2,
    "start_time": "2023-08-14T16:06:35.752Z"
   },
   {
    "duration": 17,
    "start_time": "2023-08-14T16:06:35.756Z"
   },
   {
    "duration": 102,
    "start_time": "2023-08-14T16:06:35.774Z"
   },
   {
    "duration": 131,
    "start_time": "2023-08-14T16:06:35.878Z"
   },
   {
    "duration": 13,
    "start_time": "2023-08-14T16:06:36.012Z"
   },
   {
    "duration": 41,
    "start_time": "2023-08-14T16:06:36.026Z"
   },
   {
    "duration": 37,
    "start_time": "2023-08-14T16:06:36.069Z"
   },
   {
    "duration": 30,
    "start_time": "2023-08-14T16:06:36.107Z"
   },
   {
    "duration": 7,
    "start_time": "2023-08-14T16:06:36.139Z"
   },
   {
    "duration": 22,
    "start_time": "2023-08-14T16:06:36.148Z"
   },
   {
    "duration": 20,
    "start_time": "2023-08-14T16:06:36.175Z"
   },
   {
    "duration": 9,
    "start_time": "2023-08-14T16:06:36.196Z"
   },
   {
    "duration": 2,
    "start_time": "2023-08-14T16:06:42.279Z"
   },
   {
    "duration": 22,
    "start_time": "2023-08-14T16:06:42.283Z"
   },
   {
    "duration": 102,
    "start_time": "2023-08-14T16:06:42.306Z"
   },
   {
    "duration": 115,
    "start_time": "2023-08-14T16:06:42.410Z"
   },
   {
    "duration": 11,
    "start_time": "2023-08-14T16:06:42.526Z"
   },
   {
    "duration": 20,
    "start_time": "2023-08-14T16:06:42.539Z"
   },
   {
    "duration": 19,
    "start_time": "2023-08-14T16:06:42.561Z"
   },
   {
    "duration": 18,
    "start_time": "2023-08-14T16:06:42.581Z"
   },
   {
    "duration": 19,
    "start_time": "2023-08-14T16:06:42.600Z"
   },
   {
    "duration": 5,
    "start_time": "2023-08-14T16:06:42.621Z"
   },
   {
    "duration": 12,
    "start_time": "2023-08-14T16:06:42.627Z"
   },
   {
    "duration": 4,
    "start_time": "2023-08-14T16:07:16.390Z"
   },
   {
    "duration": 8,
    "start_time": "2023-08-14T16:11:00.569Z"
   },
   {
    "duration": 15,
    "start_time": "2023-08-14T16:11:16.082Z"
   },
   {
    "duration": 8,
    "start_time": "2023-08-14T16:11:29.908Z"
   },
   {
    "duration": 13,
    "start_time": "2023-08-14T16:11:34.993Z"
   },
   {
    "duration": 12,
    "start_time": "2023-08-14T16:12:01.251Z"
   },
   {
    "duration": 28,
    "start_time": "2023-08-14T16:12:34.125Z"
   },
   {
    "duration": 12,
    "start_time": "2023-08-14T16:12:40.552Z"
   },
   {
    "duration": 5,
    "start_time": "2023-08-14T16:12:47.479Z"
   },
   {
    "duration": 14,
    "start_time": "2023-08-14T16:12:56.677Z"
   },
   {
    "duration": 66,
    "start_time": "2023-08-14T16:13:42.927Z"
   },
   {
    "duration": 92,
    "start_time": "2023-08-14T16:14:00.929Z"
   },
   {
    "duration": 12,
    "start_time": "2023-08-14T16:15:32.772Z"
   },
   {
    "duration": 24,
    "start_time": "2023-08-14T16:15:35.551Z"
   },
   {
    "duration": 18,
    "start_time": "2023-08-14T16:15:40.771Z"
   },
   {
    "duration": 12,
    "start_time": "2023-08-14T16:16:23.892Z"
   },
   {
    "duration": 9,
    "start_time": "2023-08-14T16:16:33.792Z"
   },
   {
    "duration": 3,
    "start_time": "2023-08-14T16:16:47.787Z"
   },
   {
    "duration": 14,
    "start_time": "2023-08-14T16:16:53.753Z"
   },
   {
    "duration": 2,
    "start_time": "2023-08-14T17:45:51.592Z"
   },
   {
    "duration": 5,
    "start_time": "2023-08-14T17:45:51.596Z"
   },
   {
    "duration": 91,
    "start_time": "2023-08-14T17:45:51.603Z"
   },
   {
    "duration": 106,
    "start_time": "2023-08-14T17:45:51.695Z"
   },
   {
    "duration": 11,
    "start_time": "2023-08-14T17:45:51.803Z"
   },
   {
    "duration": 10,
    "start_time": "2023-08-14T17:45:51.815Z"
   },
   {
    "duration": 13,
    "start_time": "2023-08-14T17:45:51.826Z"
   },
   {
    "duration": 6,
    "start_time": "2023-08-14T17:45:51.840Z"
   },
   {
    "duration": 13,
    "start_time": "2023-08-14T17:45:51.848Z"
   },
   {
    "duration": 37,
    "start_time": "2023-08-14T17:45:51.863Z"
   },
   {
    "duration": 5,
    "start_time": "2023-08-14T17:45:51.901Z"
   },
   {
    "duration": 6,
    "start_time": "2023-08-14T17:45:51.907Z"
   },
   {
    "duration": 15,
    "start_time": "2023-08-14T17:45:51.914Z"
   },
   {
    "duration": 12,
    "start_time": "2023-08-14T17:46:28.778Z"
   },
   {
    "duration": 7,
    "start_time": "2023-08-14T17:49:12.301Z"
   },
   {
    "duration": 6,
    "start_time": "2023-08-14T17:49:35.076Z"
   },
   {
    "duration": 6,
    "start_time": "2023-08-14T17:49:38.139Z"
   },
   {
    "duration": 5,
    "start_time": "2023-08-14T17:49:39.913Z"
   },
   {
    "duration": 6,
    "start_time": "2023-08-14T17:49:45.515Z"
   },
   {
    "duration": 5,
    "start_time": "2023-08-14T17:49:47.420Z"
   },
   {
    "duration": 5,
    "start_time": "2023-08-14T17:49:53.566Z"
   },
   {
    "duration": 5,
    "start_time": "2023-08-14T17:49:55.787Z"
   },
   {
    "duration": 6,
    "start_time": "2023-08-14T17:50:02.294Z"
   },
   {
    "duration": 7,
    "start_time": "2023-08-14T17:50:07.880Z"
   },
   {
    "duration": 7,
    "start_time": "2023-08-14T17:50:11.323Z"
   },
   {
    "duration": 6,
    "start_time": "2023-08-14T17:50:15.411Z"
   },
   {
    "duration": 6,
    "start_time": "2023-08-14T17:50:17.117Z"
   },
   {
    "duration": 5,
    "start_time": "2023-08-14T17:50:19.223Z"
   },
   {
    "duration": 6,
    "start_time": "2023-08-14T17:50:20.720Z"
   },
   {
    "duration": 5,
    "start_time": "2023-08-14T17:50:23.304Z"
   },
   {
    "duration": 5,
    "start_time": "2023-08-14T17:50:26.320Z"
   },
   {
    "duration": 20,
    "start_time": "2023-08-14T17:50:56.424Z"
   },
   {
    "duration": 17,
    "start_time": "2023-08-14T17:51:29.129Z"
   },
   {
    "duration": 10,
    "start_time": "2023-08-14T17:51:50.671Z"
   },
   {
    "duration": 7,
    "start_time": "2023-08-14T17:52:33.195Z"
   },
   {
    "duration": 27,
    "start_time": "2023-08-14T17:52:54.526Z"
   },
   {
    "duration": 17,
    "start_time": "2023-08-14T17:54:06.419Z"
   },
   {
    "duration": 9,
    "start_time": "2023-08-14T17:54:15.767Z"
   },
   {
    "duration": 3,
    "start_time": "2023-08-14T17:54:18.405Z"
   },
   {
    "duration": 9,
    "start_time": "2023-08-14T17:56:41.015Z"
   },
   {
    "duration": 17,
    "start_time": "2023-08-14T17:56:42.640Z"
   },
   {
    "duration": 4,
    "start_time": "2023-08-14T17:58:16.367Z"
   },
   {
    "duration": 10,
    "start_time": "2023-08-14T17:58:20.530Z"
   },
   {
    "duration": 14,
    "start_time": "2023-08-14T17:58:32.871Z"
   },
   {
    "duration": 18,
    "start_time": "2023-08-14T17:59:50.501Z"
   },
   {
    "duration": 28,
    "start_time": "2023-08-14T18:04:10.399Z"
   },
   {
    "duration": 9,
    "start_time": "2023-08-14T18:04:17.419Z"
   },
   {
    "duration": 15,
    "start_time": "2023-08-14T18:04:22.449Z"
   },
   {
    "duration": 14,
    "start_time": "2023-08-14T18:04:36.860Z"
   },
   {
    "duration": 1521,
    "start_time": "2023-08-14T18:05:02.352Z"
   },
   {
    "duration": 0,
    "start_time": "2023-08-14T18:05:03.874Z"
   },
   {
    "duration": 16,
    "start_time": "2023-08-14T18:05:04.022Z"
   },
   {
    "duration": 983,
    "start_time": "2023-08-14T18:05:07.681Z"
   },
   {
    "duration": 2,
    "start_time": "2023-08-14T18:05:18.625Z"
   },
   {
    "duration": 16,
    "start_time": "2023-08-14T18:05:18.628Z"
   },
   {
    "duration": 105,
    "start_time": "2023-08-14T18:05:18.645Z"
   },
   {
    "duration": 88,
    "start_time": "2023-08-14T18:05:18.752Z"
   },
   {
    "duration": 9,
    "start_time": "2023-08-14T18:05:18.842Z"
   },
   {
    "duration": 8,
    "start_time": "2023-08-14T18:05:18.852Z"
   },
   {
    "duration": 12,
    "start_time": "2023-08-14T18:05:18.862Z"
   },
   {
    "duration": 6,
    "start_time": "2023-08-14T18:05:18.899Z"
   },
   {
    "duration": 15,
    "start_time": "2023-08-14T18:05:18.906Z"
   },
   {
    "duration": 16,
    "start_time": "2023-08-14T18:05:18.922Z"
   },
   {
    "duration": 23,
    "start_time": "2023-08-14T18:05:18.939Z"
   },
   {
    "duration": 6,
    "start_time": "2023-08-14T18:05:18.964Z"
   },
   {
    "duration": 25,
    "start_time": "2023-08-14T18:05:18.971Z"
   },
   {
    "duration": 992,
    "start_time": "2023-08-14T18:05:18.999Z"
   },
   {
    "duration": 0,
    "start_time": "2023-08-14T18:05:19.992Z"
   },
   {
    "duration": 0,
    "start_time": "2023-08-14T18:05:19.993Z"
   },
   {
    "duration": 4,
    "start_time": "2023-08-14T18:05:48.252Z"
   },
   {
    "duration": 15,
    "start_time": "2023-08-14T18:05:48.619Z"
   },
   {
    "duration": 2,
    "start_time": "2023-08-14T18:06:02.052Z"
   },
   {
    "duration": 32,
    "start_time": "2023-08-14T18:06:02.056Z"
   },
   {
    "duration": 126,
    "start_time": "2023-08-14T18:06:02.090Z"
   },
   {
    "duration": 112,
    "start_time": "2023-08-14T18:06:02.219Z"
   },
   {
    "duration": 11,
    "start_time": "2023-08-14T18:06:02.333Z"
   },
   {
    "duration": 19,
    "start_time": "2023-08-14T18:06:02.346Z"
   },
   {
    "duration": 18,
    "start_time": "2023-08-14T18:06:02.367Z"
   },
   {
    "duration": 24,
    "start_time": "2023-08-14T18:06:02.399Z"
   },
   {
    "duration": 38,
    "start_time": "2023-08-14T18:06:02.425Z"
   },
   {
    "duration": 60,
    "start_time": "2023-08-14T18:06:02.465Z"
   },
   {
    "duration": 48,
    "start_time": "2023-08-14T18:06:02.526Z"
   },
   {
    "duration": 12,
    "start_time": "2023-08-14T18:06:02.576Z"
   },
   {
    "duration": 998,
    "start_time": "2023-08-14T18:06:02.589Z"
   },
   {
    "duration": 0,
    "start_time": "2023-08-14T18:06:03.588Z"
   },
   {
    "duration": 0,
    "start_time": "2023-08-14T18:06:03.589Z"
   },
   {
    "duration": 0,
    "start_time": "2023-08-14T18:06:03.590Z"
   },
   {
    "duration": 928,
    "start_time": "2023-08-14T18:06:42.350Z"
   },
   {
    "duration": 1494,
    "start_time": "2023-08-14T18:09:41.798Z"
   },
   {
    "duration": 20,
    "start_time": "2023-08-14T18:10:14.900Z"
   },
   {
    "duration": 10,
    "start_time": "2023-08-14T18:10:21.665Z"
   },
   {
    "duration": 8,
    "start_time": "2023-08-14T18:10:44.949Z"
   },
   {
    "duration": 4,
    "start_time": "2023-08-14T18:10:46.330Z"
   },
   {
    "duration": 13,
    "start_time": "2023-08-14T18:10:47.226Z"
   },
   {
    "duration": 3,
    "start_time": "2023-08-14T18:12:43.449Z"
   },
   {
    "duration": 3,
    "start_time": "2023-08-14T18:13:03.158Z"
   },
   {
    "duration": 4,
    "start_time": "2023-08-14T18:13:06.781Z"
   },
   {
    "duration": 8,
    "start_time": "2023-08-14T18:14:23.328Z"
   },
   {
    "duration": 89,
    "start_time": "2023-08-14T18:15:05.065Z"
   },
   {
    "duration": 3,
    "start_time": "2023-08-14T18:15:07.101Z"
   },
   {
    "duration": 8,
    "start_time": "2023-08-14T18:15:09.135Z"
   },
   {
    "duration": 69,
    "start_time": "2023-08-14T18:15:12.065Z"
   },
   {
    "duration": 3,
    "start_time": "2023-08-14T18:15:13.580Z"
   },
   {
    "duration": 3,
    "start_time": "2023-08-14T18:15:28.285Z"
   },
   {
    "duration": 3,
    "start_time": "2023-08-14T18:15:32.135Z"
   },
   {
    "duration": 1364,
    "start_time": "2023-08-14T18:16:44.069Z"
   },
   {
    "duration": 3,
    "start_time": "2023-08-14T18:17:13.229Z"
   },
   {
    "duration": 736,
    "start_time": "2023-08-14T18:17:20.099Z"
   },
   {
    "duration": 10,
    "start_time": "2023-08-14T18:21:46.798Z"
   },
   {
    "duration": 10,
    "start_time": "2023-08-14T18:22:05.004Z"
   },
   {
    "duration": 27,
    "start_time": "2023-08-14T18:22:13.565Z"
   },
   {
    "duration": 117,
    "start_time": "2023-08-14T18:24:41.083Z"
   },
   {
    "duration": 177,
    "start_time": "2023-08-14T18:24:47.102Z"
   },
   {
    "duration": 190,
    "start_time": "2023-08-14T18:25:21.161Z"
   },
   {
    "duration": 180,
    "start_time": "2023-08-14T18:25:59.569Z"
   },
   {
    "duration": 1088,
    "start_time": "2023-08-14T19:53:37.970Z"
   },
   {
    "duration": 3,
    "start_time": "2023-08-14T19:53:39.060Z"
   },
   {
    "duration": 97,
    "start_time": "2023-08-14T19:53:39.065Z"
   },
   {
    "duration": 160,
    "start_time": "2023-08-14T19:53:39.165Z"
   },
   {
    "duration": 13,
    "start_time": "2023-08-14T19:53:39.326Z"
   },
   {
    "duration": 14,
    "start_time": "2023-08-14T19:53:39.341Z"
   },
   {
    "duration": 49,
    "start_time": "2023-08-14T19:53:39.356Z"
   },
   {
    "duration": 6,
    "start_time": "2023-08-14T19:53:39.406Z"
   },
   {
    "duration": 21,
    "start_time": "2023-08-14T19:53:39.414Z"
   },
   {
    "duration": 14,
    "start_time": "2023-08-14T19:53:39.437Z"
   },
   {
    "duration": 14,
    "start_time": "2023-08-14T19:53:39.453Z"
   },
   {
    "duration": 7,
    "start_time": "2023-08-14T19:53:39.468Z"
   },
   {
    "duration": 28,
    "start_time": "2023-08-14T19:53:39.476Z"
   },
   {
    "duration": 107,
    "start_time": "2023-08-14T19:53:39.505Z"
   },
   {
    "duration": 0,
    "start_time": "2023-08-14T19:53:39.613Z"
   },
   {
    "duration": 0,
    "start_time": "2023-08-14T19:53:39.615Z"
   },
   {
    "duration": 0,
    "start_time": "2023-08-14T19:53:39.616Z"
   },
   {
    "duration": 0,
    "start_time": "2023-08-14T19:53:39.617Z"
   },
   {
    "duration": 0,
    "start_time": "2023-08-14T19:53:39.619Z"
   },
   {
    "duration": 0,
    "start_time": "2023-08-14T19:53:39.620Z"
   },
   {
    "duration": 0,
    "start_time": "2023-08-14T19:53:39.621Z"
   },
   {
    "duration": 12,
    "start_time": "2023-08-14T19:53:55.419Z"
   },
   {
    "duration": 10,
    "start_time": "2023-08-14T19:54:35.944Z"
   },
   {
    "duration": 5,
    "start_time": "2023-08-14T19:56:19.594Z"
   },
   {
    "duration": 19,
    "start_time": "2023-08-14T19:56:26.106Z"
   },
   {
    "duration": 77,
    "start_time": "2023-08-14T20:00:37.696Z"
   },
   {
    "duration": 26,
    "start_time": "2023-08-14T20:01:26.002Z"
   },
   {
    "duration": 1243,
    "start_time": "2023-08-14T20:02:03.026Z"
   },
   {
    "duration": 1817,
    "start_time": "2023-08-14T20:02:15.450Z"
   },
   {
    "duration": 10,
    "start_time": "2023-08-14T20:03:15.537Z"
   },
   {
    "duration": 1060,
    "start_time": "2023-08-14T20:03:25.155Z"
   },
   {
    "duration": 974,
    "start_time": "2023-08-14T20:04:36.462Z"
   },
   {
    "duration": 3,
    "start_time": "2023-08-14T20:04:52.454Z"
   },
   {
    "duration": 16,
    "start_time": "2023-08-14T20:04:52.459Z"
   },
   {
    "duration": 95,
    "start_time": "2023-08-14T20:04:52.477Z"
   },
   {
    "duration": 95,
    "start_time": "2023-08-14T20:04:52.573Z"
   },
   {
    "duration": 33,
    "start_time": "2023-08-14T20:04:52.670Z"
   },
   {
    "duration": 15,
    "start_time": "2023-08-14T20:04:52.705Z"
   },
   {
    "duration": 18,
    "start_time": "2023-08-14T20:04:52.722Z"
   },
   {
    "duration": 6,
    "start_time": "2023-08-14T20:04:52.741Z"
   },
   {
    "duration": 15,
    "start_time": "2023-08-14T20:04:52.749Z"
   },
   {
    "duration": 21,
    "start_time": "2023-08-14T20:04:52.765Z"
   },
   {
    "duration": 26,
    "start_time": "2023-08-14T20:04:52.787Z"
   },
   {
    "duration": 12,
    "start_time": "2023-08-14T20:04:52.815Z"
   },
   {
    "duration": 28,
    "start_time": "2023-08-14T20:04:52.829Z"
   },
   {
    "duration": 1029,
    "start_time": "2023-08-14T20:04:52.859Z"
   },
   {
    "duration": 0,
    "start_time": "2023-08-14T20:04:53.890Z"
   },
   {
    "duration": 0,
    "start_time": "2023-08-14T20:04:53.891Z"
   },
   {
    "duration": 0,
    "start_time": "2023-08-14T20:04:53.892Z"
   },
   {
    "duration": 0,
    "start_time": "2023-08-14T20:04:53.894Z"
   },
   {
    "duration": 0,
    "start_time": "2023-08-14T20:04:53.895Z"
   },
   {
    "duration": 0,
    "start_time": "2023-08-14T20:04:53.896Z"
   },
   {
    "duration": 0,
    "start_time": "2023-08-14T20:04:53.897Z"
   },
   {
    "duration": 0,
    "start_time": "2023-08-14T20:04:53.898Z"
   },
   {
    "duration": 1213,
    "start_time": "2023-08-14T20:05:15.979Z"
   },
   {
    "duration": 6,
    "start_time": "2023-08-14T20:05:38.369Z"
   },
   {
    "duration": 24,
    "start_time": "2023-08-14T20:05:57.380Z"
   },
   {
    "duration": 7,
    "start_time": "2023-08-14T20:06:08.612Z"
   },
   {
    "duration": 25,
    "start_time": "2023-08-14T20:06:16.440Z"
   },
   {
    "duration": 12,
    "start_time": "2023-08-14T20:10:44.686Z"
   },
   {
    "duration": 16,
    "start_time": "2023-08-14T20:10:57.406Z"
   },
   {
    "duration": 24,
    "start_time": "2023-08-14T20:11:09.845Z"
   },
   {
    "duration": 10,
    "start_time": "2023-08-14T20:11:16.684Z"
   },
   {
    "duration": 35,
    "start_time": "2023-08-14T20:11:19.391Z"
   },
   {
    "duration": 4,
    "start_time": "2023-08-14T20:11:39.888Z"
   },
   {
    "duration": 10,
    "start_time": "2023-08-14T20:11:53.631Z"
   },
   {
    "duration": 25,
    "start_time": "2023-08-14T20:11:58.663Z"
   },
   {
    "duration": 15,
    "start_time": "2023-08-14T20:12:05.341Z"
   },
   {
    "duration": 13,
    "start_time": "2023-08-14T20:12:08.036Z"
   },
   {
    "duration": 17,
    "start_time": "2023-08-14T20:12:11.034Z"
   },
   {
    "duration": 2,
    "start_time": "2023-08-14T20:12:31.281Z"
   },
   {
    "duration": 25,
    "start_time": "2023-08-14T20:12:31.285Z"
   },
   {
    "duration": 123,
    "start_time": "2023-08-14T20:12:31.311Z"
   },
   {
    "duration": 107,
    "start_time": "2023-08-14T20:12:31.435Z"
   },
   {
    "duration": 13,
    "start_time": "2023-08-14T20:12:31.544Z"
   },
   {
    "duration": 33,
    "start_time": "2023-08-14T20:12:31.558Z"
   },
   {
    "duration": 32,
    "start_time": "2023-08-14T20:12:31.592Z"
   },
   {
    "duration": 8,
    "start_time": "2023-08-14T20:12:31.626Z"
   },
   {
    "duration": 35,
    "start_time": "2023-08-14T20:12:31.635Z"
   },
   {
    "duration": 27,
    "start_time": "2023-08-14T20:12:31.672Z"
   },
   {
    "duration": 53,
    "start_time": "2023-08-14T20:12:31.701Z"
   },
   {
    "duration": 23,
    "start_time": "2023-08-14T20:12:31.755Z"
   },
   {
    "duration": 17,
    "start_time": "2023-08-14T20:12:31.779Z"
   },
   {
    "duration": 28,
    "start_time": "2023-08-14T20:12:31.799Z"
   },
   {
    "duration": 37,
    "start_time": "2023-08-14T20:12:31.828Z"
   },
   {
    "duration": 11,
    "start_time": "2023-08-14T20:12:31.867Z"
   },
   {
    "duration": 13,
    "start_time": "2023-08-14T20:12:31.879Z"
   },
   {
    "duration": 27,
    "start_time": "2023-08-14T20:12:31.893Z"
   },
   {
    "duration": 123,
    "start_time": "2023-08-14T20:12:31.921Z"
   },
   {
    "duration": 15,
    "start_time": "2023-08-14T20:12:32.046Z"
   },
   {
    "duration": 11,
    "start_time": "2023-08-14T20:12:32.062Z"
   },
   {
    "duration": 40,
    "start_time": "2023-08-14T20:12:32.075Z"
   },
   {
    "duration": 207,
    "start_time": "2023-08-14T20:12:32.116Z"
   },
   {
    "duration": 4,
    "start_time": "2023-08-14T20:12:32.325Z"
   },
   {
    "duration": 16,
    "start_time": "2023-08-14T20:13:21.667Z"
   },
   {
    "duration": 8,
    "start_time": "2023-08-14T20:13:34.460Z"
   },
   {
    "duration": 15,
    "start_time": "2023-08-14T20:13:36.416Z"
   },
   {
    "duration": 1048,
    "start_time": "2023-08-14T20:14:10.799Z"
   },
   {
    "duration": 2,
    "start_time": "2023-08-14T20:14:11.849Z"
   },
   {
    "duration": 101,
    "start_time": "2023-08-14T20:14:11.852Z"
   },
   {
    "duration": 156,
    "start_time": "2023-08-14T20:14:11.954Z"
   },
   {
    "duration": 10,
    "start_time": "2023-08-14T20:14:12.112Z"
   },
   {
    "duration": 18,
    "start_time": "2023-08-14T20:14:12.123Z"
   },
   {
    "duration": 31,
    "start_time": "2023-08-14T20:14:12.142Z"
   },
   {
    "duration": 20,
    "start_time": "2023-08-14T20:14:12.174Z"
   },
   {
    "duration": 17,
    "start_time": "2023-08-14T20:14:12.195Z"
   },
   {
    "duration": 13,
    "start_time": "2023-08-14T20:14:12.214Z"
   },
   {
    "duration": 73,
    "start_time": "2023-08-14T20:14:12.228Z"
   },
   {
    "duration": 5,
    "start_time": "2023-08-14T20:14:12.302Z"
   },
   {
    "duration": 13,
    "start_time": "2023-08-14T20:14:12.308Z"
   },
   {
    "duration": 13,
    "start_time": "2023-08-14T20:14:12.323Z"
   },
   {
    "duration": 25,
    "start_time": "2023-08-14T20:14:12.338Z"
   },
   {
    "duration": 11,
    "start_time": "2023-08-14T20:14:28.058Z"
   },
   {
    "duration": 7,
    "start_time": "2023-08-14T20:14:37.032Z"
   },
   {
    "duration": 14,
    "start_time": "2023-08-14T20:14:38.546Z"
   },
   {
    "duration": 4,
    "start_time": "2023-08-14T20:15:05.019Z"
   },
   {
    "duration": 8,
    "start_time": "2023-08-14T20:15:13.187Z"
   },
   {
    "duration": 18,
    "start_time": "2023-08-14T20:15:15.165Z"
   },
   {
    "duration": 94,
    "start_time": "2023-08-14T20:15:25.204Z"
   },
   {
    "duration": 11,
    "start_time": "2023-08-14T20:16:02.097Z"
   },
   {
    "duration": 17,
    "start_time": "2023-08-14T20:16:04.152Z"
   },
   {
    "duration": 2,
    "start_time": "2023-08-14T20:19:34.962Z"
   },
   {
    "duration": 21,
    "start_time": "2023-08-14T20:19:34.966Z"
   },
   {
    "duration": 127,
    "start_time": "2023-08-14T20:19:34.988Z"
   },
   {
    "duration": 113,
    "start_time": "2023-08-14T20:19:35.117Z"
   },
   {
    "duration": 10,
    "start_time": "2023-08-14T20:19:35.232Z"
   },
   {
    "duration": 23,
    "start_time": "2023-08-14T20:19:35.243Z"
   },
   {
    "duration": 26,
    "start_time": "2023-08-14T20:19:35.267Z"
   },
   {
    "duration": 13,
    "start_time": "2023-08-14T20:19:35.299Z"
   },
   {
    "duration": 28,
    "start_time": "2023-08-14T20:19:35.314Z"
   },
   {
    "duration": 42,
    "start_time": "2023-08-14T20:19:35.344Z"
   },
   {
    "duration": 53,
    "start_time": "2023-08-14T20:19:35.388Z"
   },
   {
    "duration": 8,
    "start_time": "2023-08-14T20:19:35.442Z"
   },
   {
    "duration": 28,
    "start_time": "2023-08-14T20:19:35.451Z"
   },
   {
    "duration": 4,
    "start_time": "2023-08-14T20:19:36.614Z"
   },
   {
    "duration": 9,
    "start_time": "2023-08-14T20:19:37.906Z"
   },
   {
    "duration": 11,
    "start_time": "2023-08-14T20:19:58.902Z"
   },
   {
    "duration": 20,
    "start_time": "2023-08-14T20:19:59.950Z"
   },
   {
    "duration": 22,
    "start_time": "2023-08-14T20:20:17.874Z"
   },
   {
    "duration": 29,
    "start_time": "2023-08-14T20:20:37.491Z"
   },
   {
    "duration": 9,
    "start_time": "2023-08-14T20:21:02.345Z"
   },
   {
    "duration": 6,
    "start_time": "2023-08-14T20:22:43.962Z"
   },
   {
    "duration": 16,
    "start_time": "2023-08-14T20:22:47.476Z"
   },
   {
    "duration": 3,
    "start_time": "2023-08-14T20:23:40.294Z"
   },
   {
    "duration": 29,
    "start_time": "2023-08-14T20:23:43.634Z"
   },
   {
    "duration": 6,
    "start_time": "2023-08-14T20:24:44.604Z"
   },
   {
    "duration": 1382,
    "start_time": "2023-08-14T20:27:25.817Z"
   },
   {
    "duration": 2,
    "start_time": "2023-08-14T20:27:29.959Z"
   },
   {
    "duration": 20,
    "start_time": "2023-08-14T20:27:29.963Z"
   },
   {
    "duration": 121,
    "start_time": "2023-08-14T20:27:29.984Z"
   },
   {
    "duration": 119,
    "start_time": "2023-08-14T20:27:30.107Z"
   },
   {
    "duration": 11,
    "start_time": "2023-08-14T20:27:30.227Z"
   },
   {
    "duration": 25,
    "start_time": "2023-08-14T20:27:30.240Z"
   },
   {
    "duration": 38,
    "start_time": "2023-08-14T20:27:30.266Z"
   },
   {
    "duration": 14,
    "start_time": "2023-08-14T20:27:30.306Z"
   },
   {
    "duration": 28,
    "start_time": "2023-08-14T20:27:30.323Z"
   },
   {
    "duration": 20,
    "start_time": "2023-08-14T20:27:30.352Z"
   },
   {
    "duration": 48,
    "start_time": "2023-08-14T20:27:30.374Z"
   },
   {
    "duration": 22,
    "start_time": "2023-08-14T20:27:30.424Z"
   },
   {
    "duration": 61,
    "start_time": "2023-08-14T20:27:30.448Z"
   },
   {
    "duration": 57,
    "start_time": "2023-08-14T20:27:30.511Z"
   },
   {
    "duration": 35,
    "start_time": "2023-08-14T20:27:30.570Z"
   },
   {
    "duration": 47,
    "start_time": "2023-08-14T20:27:30.606Z"
   },
   {
    "duration": 4,
    "start_time": "2023-08-14T20:27:31.873Z"
   },
   {
    "duration": 21,
    "start_time": "2023-08-14T20:27:38.132Z"
   },
   {
    "duration": 8,
    "start_time": "2023-08-14T20:27:55.286Z"
   },
   {
    "duration": 14,
    "start_time": "2023-08-14T20:28:18.179Z"
   },
   {
    "duration": 35,
    "start_time": "2023-08-14T20:28:23.419Z"
   },
   {
    "duration": 3,
    "start_time": "2023-08-14T20:28:28.942Z"
   },
   {
    "duration": 8,
    "start_time": "2023-08-14T20:28:28.946Z"
   },
   {
    "duration": 90,
    "start_time": "2023-08-14T20:28:28.955Z"
   },
   {
    "duration": 89,
    "start_time": "2023-08-14T20:28:29.047Z"
   },
   {
    "duration": 9,
    "start_time": "2023-08-14T20:28:29.138Z"
   },
   {
    "duration": 12,
    "start_time": "2023-08-14T20:28:29.148Z"
   },
   {
    "duration": 16,
    "start_time": "2023-08-14T20:28:29.162Z"
   },
   {
    "duration": 25,
    "start_time": "2023-08-14T20:28:29.179Z"
   },
   {
    "duration": 21,
    "start_time": "2023-08-14T20:28:29.206Z"
   },
   {
    "duration": 27,
    "start_time": "2023-08-14T20:28:29.228Z"
   },
   {
    "duration": 24,
    "start_time": "2023-08-14T20:28:29.256Z"
   },
   {
    "duration": 6,
    "start_time": "2023-08-14T20:28:29.281Z"
   },
   {
    "duration": 27,
    "start_time": "2023-08-14T20:28:29.288Z"
   },
   {
    "duration": 21,
    "start_time": "2023-08-14T20:28:29.317Z"
   },
   {
    "duration": 16,
    "start_time": "2023-08-14T20:28:29.339Z"
   },
   {
    "duration": 11,
    "start_time": "2023-08-14T20:28:29.356Z"
   },
   {
    "duration": 14,
    "start_time": "2023-08-14T20:28:29.368Z"
   },
   {
    "duration": 6,
    "start_time": "2023-08-14T20:28:29.384Z"
   },
   {
    "duration": 16,
    "start_time": "2023-08-14T20:28:29.391Z"
   },
   {
    "duration": 14,
    "start_time": "2023-08-14T20:28:29.408Z"
   },
   {
    "duration": 35,
    "start_time": "2023-08-14T20:28:29.423Z"
   },
   {
    "duration": 178,
    "start_time": "2023-08-14T20:28:29.459Z"
   },
   {
    "duration": 4,
    "start_time": "2023-08-14T20:28:29.638Z"
   },
   {
    "duration": 179,
    "start_time": "2023-08-14T20:29:29.579Z"
   },
   {
    "duration": 1350,
    "start_time": "2023-08-15T16:18:47.964Z"
   },
   {
    "duration": 3,
    "start_time": "2023-08-15T16:18:49.317Z"
   },
   {
    "duration": 364,
    "start_time": "2023-08-15T16:18:49.322Z"
   },
   {
    "duration": 187,
    "start_time": "2023-08-15T16:18:49.688Z"
   },
   {
    "duration": 15,
    "start_time": "2023-08-15T16:18:50.608Z"
   },
   {
    "duration": 11,
    "start_time": "2023-08-15T16:18:51.684Z"
   },
   {
    "duration": 16,
    "start_time": "2023-08-15T16:18:52.395Z"
   },
   {
    "duration": 9,
    "start_time": "2023-08-15T16:18:54.824Z"
   },
   {
    "duration": 18,
    "start_time": "2023-08-15T16:19:22.705Z"
   },
   {
    "duration": 22,
    "start_time": "2023-08-15T16:19:23.155Z"
   },
   {
    "duration": 18,
    "start_time": "2023-08-15T16:19:27.835Z"
   },
   {
    "duration": 17,
    "start_time": "2023-08-15T16:19:28.240Z"
   },
   {
    "duration": 24,
    "start_time": "2023-08-15T16:19:35.012Z"
   },
   {
    "duration": 20,
    "start_time": "2023-08-15T16:19:35.339Z"
   },
   {
    "duration": 17,
    "start_time": "2023-08-15T16:19:36.431Z"
   },
   {
    "duration": 13,
    "start_time": "2023-08-15T16:19:40.952Z"
   },
   {
    "duration": 17,
    "start_time": "2023-08-15T16:19:41.135Z"
   },
   {
    "duration": 16,
    "start_time": "2023-08-15T16:19:41.297Z"
   },
   {
    "duration": 4,
    "start_time": "2023-08-15T16:19:49.573Z"
   },
   {
    "duration": 4,
    "start_time": "2023-08-15T16:19:49.976Z"
   },
   {
    "duration": 4,
    "start_time": "2023-08-15T16:19:50.403Z"
   },
   {
    "duration": 10,
    "start_time": "2023-08-15T16:19:50.821Z"
   },
   {
    "duration": 15,
    "start_time": "2023-08-15T16:19:51.212Z"
   },
   {
    "duration": 12,
    "start_time": "2023-08-15T16:19:51.620Z"
   },
   {
    "duration": 7,
    "start_time": "2023-08-15T16:19:52.026Z"
   },
   {
    "duration": 6,
    "start_time": "2023-08-15T16:19:52.441Z"
   },
   {
    "duration": 3,
    "start_time": "2023-08-15T16:19:58.642Z"
   },
   {
    "duration": 43,
    "start_time": "2023-08-15T16:19:58.852Z"
   },
   {
    "duration": 223,
    "start_time": "2023-08-15T16:19:59.913Z"
   },
   {
    "duration": 1546,
    "start_time": "2023-08-16T10:10:45.549Z"
   },
   {
    "duration": 2,
    "start_time": "2023-08-16T10:10:47.098Z"
   },
   {
    "duration": 202,
    "start_time": "2023-08-16T10:11:48.160Z"
   },
   {
    "duration": 380,
    "start_time": "2023-08-16T10:11:58.463Z"
   },
   {
    "duration": 196,
    "start_time": "2023-08-16T10:12:15.992Z"
   },
   {
    "duration": 2054,
    "start_time": "2023-08-16T10:13:10.981Z"
   },
   {
    "duration": 17,
    "start_time": "2023-08-16T10:13:15.405Z"
   },
   {
    "duration": 13,
    "start_time": "2023-08-16T10:13:16.049Z"
   },
   {
    "duration": 18,
    "start_time": "2023-08-16T10:13:49.130Z"
   },
   {
    "duration": 9,
    "start_time": "2023-08-16T10:13:53.947Z"
   },
   {
    "duration": 31,
    "start_time": "2023-08-16T10:14:25.468Z"
   },
   {
    "duration": 11,
    "start_time": "2023-08-16T10:14:27.339Z"
   },
   {
    "duration": 31,
    "start_time": "2023-08-16T10:14:28.139Z"
   },
   {
    "duration": 22,
    "start_time": "2023-08-16T10:14:28.842Z"
   },
   {
    "duration": 4,
    "start_time": "2023-08-16T10:14:34.059Z"
   },
   {
    "duration": 35,
    "start_time": "2023-08-16T10:14:34.065Z"
   },
   {
    "duration": 109,
    "start_time": "2023-08-16T10:14:34.102Z"
   },
   {
    "duration": 121,
    "start_time": "2023-08-16T10:14:34.214Z"
   },
   {
    "duration": 14,
    "start_time": "2023-08-16T10:14:34.359Z"
   },
   {
    "duration": 42,
    "start_time": "2023-08-16T10:14:34.374Z"
   },
   {
    "duration": 42,
    "start_time": "2023-08-16T10:14:34.418Z"
   },
   {
    "duration": 9,
    "start_time": "2023-08-16T10:14:34.462Z"
   },
   {
    "duration": 45,
    "start_time": "2023-08-16T10:14:34.472Z"
   },
   {
    "duration": 26,
    "start_time": "2023-08-16T10:14:35.956Z"
   },
   {
    "duration": 19,
    "start_time": "2023-08-16T10:14:36.317Z"
   },
   {
    "duration": 17,
    "start_time": "2023-08-16T10:14:36.985Z"
   },
   {
    "duration": 5,
    "start_time": "2023-08-16T10:14:43.817Z"
   },
   {
    "duration": 5,
    "start_time": "2023-08-16T10:14:46.588Z"
   },
   {
    "duration": 6,
    "start_time": "2023-08-16T10:14:52.523Z"
   },
   {
    "duration": 11,
    "start_time": "2023-08-16T10:14:54.619Z"
   },
   {
    "duration": 17,
    "start_time": "2023-08-16T10:15:09.639Z"
   },
   {
    "duration": 17,
    "start_time": "2023-08-16T10:16:11.237Z"
   },
   {
    "duration": 14,
    "start_time": "2023-08-16T10:16:28.534Z"
   },
   {
    "duration": 10,
    "start_time": "2023-08-16T10:16:51.544Z"
   },
   {
    "duration": 29,
    "start_time": "2023-08-16T10:16:55.110Z"
   },
   {
    "duration": 4,
    "start_time": "2023-08-16T10:17:17.673Z"
   },
   {
    "duration": 13,
    "start_time": "2023-08-16T10:17:32.111Z"
   },
   {
    "duration": 12,
    "start_time": "2023-08-16T10:18:16.996Z"
   },
   {
    "duration": 5,
    "start_time": "2023-08-16T10:18:18.303Z"
   },
   {
    "duration": 26,
    "start_time": "2023-08-16T10:18:19.823Z"
   },
   {
    "duration": 605,
    "start_time": "2023-08-16T10:18:41.739Z"
   },
   {
    "duration": 0,
    "start_time": "2023-08-16T10:18:42.346Z"
   },
   {
    "duration": 64,
    "start_time": "2023-08-16T10:18:48.393Z"
   },
   {
    "duration": 25,
    "start_time": "2023-08-16T10:18:50.849Z"
   },
   {
    "duration": 22,
    "start_time": "2023-08-16T10:19:02.663Z"
   },
   {
    "duration": 49,
    "start_time": "2023-08-16T10:19:54.873Z"
   },
   {
    "duration": 27,
    "start_time": "2023-08-16T10:19:55.602Z"
   },
   {
    "duration": 73,
    "start_time": "2023-08-16T10:20:05.333Z"
   },
   {
    "duration": 42,
    "start_time": "2023-08-16T10:20:21.030Z"
   },
   {
    "duration": 29,
    "start_time": "2023-08-16T10:20:22.423Z"
   },
   {
    "duration": 49,
    "start_time": "2023-08-16T10:22:14.207Z"
   },
   {
    "duration": 656,
    "start_time": "2023-08-16T10:22:19.772Z"
   },
   {
    "duration": 0,
    "start_time": "2023-08-16T10:22:20.430Z"
   },
   {
    "duration": 655,
    "start_time": "2023-08-16T10:22:26.610Z"
   },
   {
    "duration": 44,
    "start_time": "2023-08-16T10:22:39.437Z"
   },
   {
    "duration": 28,
    "start_time": "2023-08-16T10:22:40.776Z"
   },
   {
    "duration": 16,
    "start_time": "2023-08-16T10:22:40.904Z"
   },
   {
    "duration": 48,
    "start_time": "2023-08-16T10:23:02.296Z"
   },
   {
    "duration": 126,
    "start_time": "2023-08-16T10:23:12.714Z"
   },
   {
    "duration": 49,
    "start_time": "2023-08-16T10:23:25.427Z"
   },
   {
    "duration": 49,
    "start_time": "2023-08-16T10:23:32.369Z"
   },
   {
    "duration": 25,
    "start_time": "2023-08-16T10:23:32.720Z"
   },
   {
    "duration": 45,
    "start_time": "2023-08-16T10:26:45.707Z"
   },
   {
    "duration": 25,
    "start_time": "2023-08-16T10:26:46.278Z"
   },
   {
    "duration": 3,
    "start_time": "2023-08-16T10:28:28.625Z"
   },
   {
    "duration": 11,
    "start_time": "2023-08-16T10:28:28.630Z"
   },
   {
    "duration": 109,
    "start_time": "2023-08-16T10:28:28.643Z"
   },
   {
    "duration": 146,
    "start_time": "2023-08-16T10:28:28.754Z"
   },
   {
    "duration": 12,
    "start_time": "2023-08-16T10:28:28.902Z"
   },
   {
    "duration": 22,
    "start_time": "2023-08-16T10:28:28.915Z"
   },
   {
    "duration": 36,
    "start_time": "2023-08-16T10:28:28.939Z"
   },
   {
    "duration": 11,
    "start_time": "2023-08-16T10:28:28.976Z"
   },
   {
    "duration": 29,
    "start_time": "2023-08-16T10:28:28.989Z"
   },
   {
    "duration": 41,
    "start_time": "2023-08-16T10:28:29.020Z"
   },
   {
    "duration": 20,
    "start_time": "2023-08-16T10:28:29.064Z"
   },
   {
    "duration": 5,
    "start_time": "2023-08-16T10:28:29.085Z"
   },
   {
    "duration": 13,
    "start_time": "2023-08-16T10:28:29.092Z"
   },
   {
    "duration": 9,
    "start_time": "2023-08-16T10:28:29.108Z"
   },
   {
    "duration": 20,
    "start_time": "2023-08-16T10:28:29.118Z"
   },
   {
    "duration": 30,
    "start_time": "2023-08-16T10:28:29.140Z"
   },
   {
    "duration": 49,
    "start_time": "2023-08-16T10:28:29.173Z"
   },
   {
    "duration": 48,
    "start_time": "2023-08-16T10:28:29.225Z"
   },
   {
    "duration": 4,
    "start_time": "2023-08-16T10:30:27.496Z"
   },
   {
    "duration": 1895,
    "start_time": "2023-08-16T10:31:05.954Z"
   },
   {
    "duration": 4,
    "start_time": "2023-08-16T10:31:19.781Z"
   },
   {
    "duration": 12,
    "start_time": "2023-08-16T10:33:19.289Z"
   },
   {
    "duration": 4,
    "start_time": "2023-08-16T10:33:50.435Z"
   },
   {
    "duration": 10,
    "start_time": "2023-08-16T10:33:50.441Z"
   },
   {
    "duration": 113,
    "start_time": "2023-08-16T10:33:50.452Z"
   },
   {
    "duration": 140,
    "start_time": "2023-08-16T10:33:50.568Z"
   },
   {
    "duration": 12,
    "start_time": "2023-08-16T10:33:50.710Z"
   },
   {
    "duration": 46,
    "start_time": "2023-08-16T10:33:50.724Z"
   },
   {
    "duration": 17,
    "start_time": "2023-08-16T10:33:50.771Z"
   },
   {
    "duration": 9,
    "start_time": "2023-08-16T10:33:50.790Z"
   },
   {
    "duration": 33,
    "start_time": "2023-08-16T10:33:50.801Z"
   },
   {
    "duration": 34,
    "start_time": "2023-08-16T10:33:50.836Z"
   },
   {
    "duration": 29,
    "start_time": "2023-08-16T10:33:50.872Z"
   },
   {
    "duration": 4,
    "start_time": "2023-08-16T10:33:50.903Z"
   },
   {
    "duration": 24,
    "start_time": "2023-08-16T10:33:50.909Z"
   },
   {
    "duration": 14,
    "start_time": "2023-08-16T10:33:50.936Z"
   },
   {
    "duration": 20,
    "start_time": "2023-08-16T10:33:50.952Z"
   },
   {
    "duration": 17,
    "start_time": "2023-08-16T10:33:50.974Z"
   },
   {
    "duration": 10,
    "start_time": "2023-08-16T10:33:52.575Z"
   },
   {
    "duration": 11,
    "start_time": "2023-08-16T10:34:03.246Z"
   },
   {
    "duration": 12,
    "start_time": "2023-08-16T10:34:22.399Z"
   },
   {
    "duration": 10,
    "start_time": "2023-08-16T10:34:51.380Z"
   },
   {
    "duration": 16,
    "start_time": "2023-08-16T10:35:15.061Z"
   },
   {
    "duration": 11,
    "start_time": "2023-08-16T10:36:25.176Z"
   },
   {
    "duration": 10,
    "start_time": "2023-08-16T10:36:35.467Z"
   },
   {
    "duration": 10,
    "start_time": "2023-08-16T10:36:39.427Z"
   },
   {
    "duration": 5,
    "start_time": "2023-08-16T10:36:44.076Z"
   },
   {
    "duration": 7,
    "start_time": "2023-08-16T10:36:55.612Z"
   },
   {
    "duration": 3,
    "start_time": "2023-08-16T10:37:01.168Z"
   },
   {
    "duration": 63,
    "start_time": "2023-08-16T10:37:01.174Z"
   },
   {
    "duration": 143,
    "start_time": "2023-08-16T10:37:01.240Z"
   },
   {
    "duration": 144,
    "start_time": "2023-08-16T10:37:01.385Z"
   },
   {
    "duration": 13,
    "start_time": "2023-08-16T10:37:01.558Z"
   },
   {
    "duration": 50,
    "start_time": "2023-08-16T10:37:01.573Z"
   },
   {
    "duration": 41,
    "start_time": "2023-08-16T10:37:01.625Z"
   },
   {
    "duration": 37,
    "start_time": "2023-08-16T10:37:01.667Z"
   },
   {
    "duration": 99,
    "start_time": "2023-08-16T10:37:01.706Z"
   },
   {
    "duration": 19,
    "start_time": "2023-08-16T10:37:01.807Z"
   },
   {
    "duration": 60,
    "start_time": "2023-08-16T10:37:01.827Z"
   },
   {
    "duration": 42,
    "start_time": "2023-08-16T10:37:01.889Z"
   },
   {
    "duration": 48,
    "start_time": "2023-08-16T10:37:01.933Z"
   },
   {
    "duration": 50,
    "start_time": "2023-08-16T10:37:01.984Z"
   },
   {
    "duration": 59,
    "start_time": "2023-08-16T10:37:02.036Z"
   },
   {
    "duration": 64,
    "start_time": "2023-08-16T10:37:02.098Z"
   },
   {
    "duration": 38,
    "start_time": "2023-08-16T10:37:02.164Z"
   },
   {
    "duration": 35,
    "start_time": "2023-08-16T10:37:02.204Z"
   },
   {
    "duration": 4,
    "start_time": "2023-08-16T10:37:12.615Z"
   },
   {
    "duration": 10,
    "start_time": "2023-08-16T10:37:12.621Z"
   },
   {
    "duration": 118,
    "start_time": "2023-08-16T10:37:12.633Z"
   },
   {
    "duration": 148,
    "start_time": "2023-08-16T10:37:12.753Z"
   },
   {
    "duration": 13,
    "start_time": "2023-08-16T10:37:12.903Z"
   },
   {
    "duration": 16,
    "start_time": "2023-08-16T10:37:12.917Z"
   },
   {
    "duration": 27,
    "start_time": "2023-08-16T10:37:12.959Z"
   },
   {
    "duration": 11,
    "start_time": "2023-08-16T10:37:12.989Z"
   },
   {
    "duration": 35,
    "start_time": "2023-08-16T10:37:13.002Z"
   },
   {
    "duration": 26,
    "start_time": "2023-08-16T10:37:13.039Z"
   },
   {
    "duration": 26,
    "start_time": "2023-08-16T10:37:13.067Z"
   },
   {
    "duration": 5,
    "start_time": "2023-08-16T10:37:13.095Z"
   },
   {
    "duration": 9,
    "start_time": "2023-08-16T10:37:13.102Z"
   },
   {
    "duration": 7,
    "start_time": "2023-08-16T10:37:13.114Z"
   },
   {
    "duration": 17,
    "start_time": "2023-08-16T10:37:13.123Z"
   },
   {
    "duration": 19,
    "start_time": "2023-08-16T10:37:23.643Z"
   },
   {
    "duration": 17,
    "start_time": "2023-08-16T10:37:24.427Z"
   },
   {
    "duration": 26,
    "start_time": "2023-08-16T10:37:26.279Z"
   },
   {
    "duration": 10,
    "start_time": "2023-08-16T10:37:34.192Z"
   },
   {
    "duration": 8,
    "start_time": "2023-08-16T10:37:41.251Z"
   },
   {
    "duration": 4,
    "start_time": "2023-08-16T10:37:42.300Z"
   },
   {
    "duration": 25,
    "start_time": "2023-08-16T10:37:42.806Z"
   },
   {
    "duration": 24,
    "start_time": "2023-08-16T10:38:01.334Z"
   },
   {
    "duration": 15,
    "start_time": "2023-08-16T10:38:03.115Z"
   },
   {
    "duration": 26,
    "start_time": "2023-08-16T10:38:11.082Z"
   },
   {
    "duration": 20,
    "start_time": "2023-08-16T10:38:13.961Z"
   },
   {
    "duration": 4,
    "start_time": "2023-08-16T10:38:23.598Z"
   },
   {
    "duration": 15,
    "start_time": "2023-08-16T10:38:25.578Z"
   },
   {
    "duration": 15,
    "start_time": "2023-08-16T10:38:27.744Z"
   },
   {
    "duration": 13,
    "start_time": "2023-08-16T10:38:31.478Z"
   },
   {
    "duration": 13,
    "start_time": "2023-08-16T10:38:32.774Z"
   },
   {
    "duration": 18,
    "start_time": "2023-08-16T10:38:33.627Z"
   },
   {
    "duration": 4,
    "start_time": "2023-08-16T10:38:34.351Z"
   },
   {
    "duration": 25,
    "start_time": "2023-08-16T10:38:35.166Z"
   },
   {
    "duration": 10,
    "start_time": "2023-08-16T10:39:13.665Z"
   },
   {
    "duration": 17,
    "start_time": "2023-08-16T10:39:13.898Z"
   },
   {
    "duration": 10,
    "start_time": "2023-08-16T10:39:14.585Z"
   },
   {
    "duration": 12,
    "start_time": "2023-08-16T10:40:07.290Z"
   },
   {
    "duration": 5,
    "start_time": "2023-08-16T10:40:08.099Z"
   },
   {
    "duration": 33,
    "start_time": "2023-08-16T10:40:08.317Z"
   },
   {
    "duration": 27,
    "start_time": "2023-08-16T10:40:21.306Z"
   },
   {
    "duration": 12,
    "start_time": "2023-08-16T10:40:53.012Z"
   },
   {
    "duration": 16,
    "start_time": "2023-08-16T10:41:13.068Z"
   },
   {
    "duration": 16,
    "start_time": "2023-08-16T10:41:56.125Z"
   },
   {
    "duration": 55,
    "start_time": "2023-08-16T10:41:56.476Z"
   },
   {
    "duration": 16,
    "start_time": "2023-08-16T10:41:56.635Z"
   },
   {
    "duration": 3,
    "start_time": "2023-08-16T10:42:05.818Z"
   },
   {
    "duration": 199,
    "start_time": "2023-08-16T10:42:05.824Z"
   },
   {
    "duration": 108,
    "start_time": "2023-08-16T10:42:06.025Z"
   },
   {
    "duration": 144,
    "start_time": "2023-08-16T10:42:06.135Z"
   },
   {
    "duration": 13,
    "start_time": "2023-08-16T10:42:06.281Z"
   },
   {
    "duration": 11,
    "start_time": "2023-08-16T10:42:06.296Z"
   },
   {
    "duration": 53,
    "start_time": "2023-08-16T10:42:06.309Z"
   },
   {
    "duration": 10,
    "start_time": "2023-08-16T10:42:06.364Z"
   },
   {
    "duration": 40,
    "start_time": "2023-08-16T10:42:06.377Z"
   },
   {
    "duration": 40,
    "start_time": "2023-08-16T10:42:06.419Z"
   },
   {
    "duration": 18,
    "start_time": "2023-08-16T10:42:06.462Z"
   },
   {
    "duration": 13,
    "start_time": "2023-08-16T10:42:06.482Z"
   },
   {
    "duration": 15,
    "start_time": "2023-08-16T10:42:06.497Z"
   },
   {
    "duration": 14,
    "start_time": "2023-08-16T10:42:06.514Z"
   },
   {
    "duration": 15,
    "start_time": "2023-08-16T10:42:06.530Z"
   },
   {
    "duration": 56,
    "start_time": "2023-08-16T10:42:06.547Z"
   },
   {
    "duration": 131,
    "start_time": "2023-08-16T10:42:06.605Z"
   },
   {
    "duration": 174,
    "start_time": "2023-08-16T10:42:06.738Z"
   },
   {
    "duration": 19,
    "start_time": "2023-08-16T10:42:06.913Z"
   },
   {
    "duration": 81,
    "start_time": "2023-08-16T10:42:38.951Z"
   },
   {
    "duration": 11,
    "start_time": "2023-08-16T10:42:42.700Z"
   },
   {
    "duration": 1224,
    "start_time": "2023-08-16T11:15:24.203Z"
   },
   {
    "duration": 3,
    "start_time": "2023-08-16T11:15:25.429Z"
   },
   {
    "duration": 112,
    "start_time": "2023-08-16T11:15:25.433Z"
   },
   {
    "duration": 177,
    "start_time": "2023-08-16T11:15:25.547Z"
   },
   {
    "duration": 44,
    "start_time": "2023-08-16T11:15:25.727Z"
   },
   {
    "duration": 77,
    "start_time": "2023-08-16T11:15:25.774Z"
   },
   {
    "duration": 22,
    "start_time": "2023-08-16T11:15:25.853Z"
   },
   {
    "duration": 36,
    "start_time": "2023-08-16T11:15:25.877Z"
   },
   {
    "duration": 65,
    "start_time": "2023-08-16T11:15:25.915Z"
   },
   {
    "duration": 29,
    "start_time": "2023-08-16T11:15:25.982Z"
   },
   {
    "duration": 34,
    "start_time": "2023-08-16T11:15:26.013Z"
   },
   {
    "duration": 12,
    "start_time": "2023-08-16T11:15:26.049Z"
   },
   {
    "duration": 19,
    "start_time": "2023-08-16T11:15:26.064Z"
   },
   {
    "duration": 11,
    "start_time": "2023-08-16T11:15:26.087Z"
   },
   {
    "duration": 22,
    "start_time": "2023-08-16T11:15:26.099Z"
   },
   {
    "duration": 22,
    "start_time": "2023-08-16T11:15:26.123Z"
   },
   {
    "duration": 19,
    "start_time": "2023-08-16T11:15:26.148Z"
   },
   {
    "duration": 19,
    "start_time": "2023-08-16T11:15:26.170Z"
   },
   {
    "duration": 11,
    "start_time": "2023-08-16T11:15:26.191Z"
   },
   {
    "duration": 25,
    "start_time": "2023-08-16T11:15:26.204Z"
   },
   {
    "duration": 29,
    "start_time": "2023-08-16T11:15:26.231Z"
   },
   {
    "duration": 7,
    "start_time": "2023-08-16T11:21:15.905Z"
   },
   {
    "duration": 4,
    "start_time": "2023-08-16T11:21:25.356Z"
   },
   {
    "duration": 22,
    "start_time": "2023-08-16T11:21:29.778Z"
   },
   {
    "duration": 15,
    "start_time": "2023-08-16T11:21:43.082Z"
   },
   {
    "duration": 5,
    "start_time": "2023-08-16T11:23:05.166Z"
   },
   {
    "duration": 18,
    "start_time": "2023-08-16T11:23:06.393Z"
   },
   {
    "duration": 26,
    "start_time": "2023-08-16T11:23:13.096Z"
   },
   {
    "duration": 6,
    "start_time": "2023-08-16T11:23:46.508Z"
   },
   {
    "duration": 16,
    "start_time": "2023-08-16T11:23:46.914Z"
   },
   {
    "duration": 23,
    "start_time": "2023-08-16T11:23:48.905Z"
   },
   {
    "duration": 6,
    "start_time": "2023-08-16T11:24:07.456Z"
   },
   {
    "duration": 4,
    "start_time": "2023-08-16T11:24:19.807Z"
   },
   {
    "duration": 10,
    "start_time": "2023-08-16T11:24:19.814Z"
   },
   {
    "duration": 107,
    "start_time": "2023-08-16T11:24:19.826Z"
   },
   {
    "duration": 157,
    "start_time": "2023-08-16T11:24:19.935Z"
   },
   {
    "duration": 15,
    "start_time": "2023-08-16T11:24:20.094Z"
   },
   {
    "duration": 36,
    "start_time": "2023-08-16T11:24:20.111Z"
   },
   {
    "duration": 20,
    "start_time": "2023-08-16T11:24:20.149Z"
   },
   {
    "duration": 20,
    "start_time": "2023-08-16T11:24:20.171Z"
   },
   {
    "duration": 44,
    "start_time": "2023-08-16T11:24:20.193Z"
   },
   {
    "duration": 21,
    "start_time": "2023-08-16T11:24:20.240Z"
   },
   {
    "duration": 34,
    "start_time": "2023-08-16T11:24:20.263Z"
   },
   {
    "duration": 6,
    "start_time": "2023-08-16T11:24:20.299Z"
   },
   {
    "duration": 20,
    "start_time": "2023-08-16T11:24:20.307Z"
   },
   {
    "duration": 22,
    "start_time": "2023-08-16T11:24:20.330Z"
   },
   {
    "duration": 16,
    "start_time": "2023-08-16T11:24:20.353Z"
   },
   {
    "duration": 28,
    "start_time": "2023-08-16T11:24:20.371Z"
   },
   {
    "duration": 18,
    "start_time": "2023-08-16T11:24:20.401Z"
   },
   {
    "duration": 24,
    "start_time": "2023-08-16T11:24:20.421Z"
   },
   {
    "duration": 25,
    "start_time": "2023-08-16T11:24:20.447Z"
   },
   {
    "duration": 22,
    "start_time": "2023-08-16T11:24:20.474Z"
   },
   {
    "duration": 37,
    "start_time": "2023-08-16T11:24:20.498Z"
   },
   {
    "duration": 24,
    "start_time": "2023-08-16T11:24:20.538Z"
   },
   {
    "duration": 13,
    "start_time": "2023-08-16T11:24:20.564Z"
   },
   {
    "duration": 7,
    "start_time": "2023-08-16T11:24:35.389Z"
   },
   {
    "duration": 7,
    "start_time": "2023-08-16T11:25:22.538Z"
   },
   {
    "duration": 6,
    "start_time": "2023-08-16T11:25:35.077Z"
   },
   {
    "duration": 1753,
    "start_time": "2023-08-16T11:26:24.706Z"
   },
   {
    "duration": 8,
    "start_time": "2023-08-16T11:26:28.205Z"
   },
   {
    "duration": 8,
    "start_time": "2023-08-16T11:26:35.539Z"
   },
   {
    "duration": 6,
    "start_time": "2023-08-16T11:26:41.887Z"
   },
   {
    "duration": 7,
    "start_time": "2023-08-16T11:26:48.017Z"
   },
   {
    "duration": 7,
    "start_time": "2023-08-16T11:26:51.976Z"
   },
   {
    "duration": 7,
    "start_time": "2023-08-16T11:27:16.727Z"
   },
   {
    "duration": 14,
    "start_time": "2023-08-16T11:27:46.674Z"
   },
   {
    "duration": 25,
    "start_time": "2023-08-16T11:27:50.127Z"
   },
   {
    "duration": 16,
    "start_time": "2023-08-16T11:28:02.131Z"
   },
   {
    "duration": 9,
    "start_time": "2023-08-16T11:28:07.262Z"
   },
   {
    "duration": 8,
    "start_time": "2023-08-16T11:28:07.914Z"
   },
   {
    "duration": 7,
    "start_time": "2023-08-16T11:28:22.833Z"
   },
   {
    "duration": 16,
    "start_time": "2023-08-16T11:29:05.088Z"
   },
   {
    "duration": 5,
    "start_time": "2023-08-16T11:29:20.835Z"
   },
   {
    "duration": 11,
    "start_time": "2023-08-16T11:29:29.692Z"
   },
   {
    "duration": 10,
    "start_time": "2023-08-16T11:29:33.176Z"
   },
   {
    "duration": 10,
    "start_time": "2023-08-16T11:29:36.789Z"
   },
   {
    "duration": 9,
    "start_time": "2023-08-16T11:29:38.772Z"
   },
   {
    "duration": 6,
    "start_time": "2023-08-16T11:30:02.416Z"
   },
   {
    "duration": 5,
    "start_time": "2023-08-16T11:30:06.611Z"
   },
   {
    "duration": 11,
    "start_time": "2023-08-16T11:30:11.023Z"
   },
   {
    "duration": 6,
    "start_time": "2023-08-16T11:30:14.548Z"
   },
   {
    "duration": 6,
    "start_time": "2023-08-16T11:30:23.758Z"
   },
   {
    "duration": 100,
    "start_time": "2023-08-16T11:31:14.743Z"
   },
   {
    "duration": 475,
    "start_time": "2023-08-16T11:31:22.537Z"
   },
   {
    "duration": 6,
    "start_time": "2023-08-16T11:32:54.559Z"
   },
   {
    "duration": 5,
    "start_time": "2023-08-16T11:32:57.240Z"
   },
   {
    "duration": 6,
    "start_time": "2023-08-16T11:33:01.032Z"
   },
   {
    "duration": 5,
    "start_time": "2023-08-16T11:33:05.385Z"
   },
   {
    "duration": 10,
    "start_time": "2023-08-16T11:33:11.201Z"
   },
   {
    "duration": 4,
    "start_time": "2023-08-16T11:33:13.799Z"
   },
   {
    "duration": 5,
    "start_time": "2023-08-16T11:33:15.905Z"
   },
   {
    "duration": 6,
    "start_time": "2023-08-16T11:33:18.065Z"
   },
   {
    "duration": 5,
    "start_time": "2023-08-16T11:33:19.514Z"
   },
   {
    "duration": 5,
    "start_time": "2023-08-16T11:33:20.878Z"
   },
   {
    "duration": 5,
    "start_time": "2023-08-16T11:33:22.160Z"
   },
   {
    "duration": 5,
    "start_time": "2023-08-16T11:33:24.138Z"
   },
   {
    "duration": 6,
    "start_time": "2023-08-16T11:33:26.816Z"
   },
   {
    "duration": 4,
    "start_time": "2023-08-16T11:33:31.248Z"
   },
   {
    "duration": 5,
    "start_time": "2023-08-16T11:33:34.697Z"
   },
   {
    "duration": 95,
    "start_time": "2023-08-16T11:33:44.665Z"
   },
   {
    "duration": 98,
    "start_time": "2023-08-16T11:33:47.842Z"
   },
   {
    "duration": 5,
    "start_time": "2023-08-16T11:34:03.907Z"
   },
   {
    "duration": 5,
    "start_time": "2023-08-16T11:34:07.665Z"
   },
   {
    "duration": 11,
    "start_time": "2023-08-16T11:35:03.870Z"
   },
   {
    "duration": 5,
    "start_time": "2023-08-16T11:35:14.614Z"
   },
   {
    "duration": 4,
    "start_time": "2023-08-16T11:35:18.427Z"
   },
   {
    "duration": 5,
    "start_time": "2023-08-16T11:35:23.420Z"
   },
   {
    "duration": 3,
    "start_time": "2023-08-16T11:35:23.805Z"
   },
   {
    "duration": 4,
    "start_time": "2023-08-16T11:35:25.188Z"
   },
   {
    "duration": 4,
    "start_time": "2023-08-16T11:35:25.705Z"
   },
   {
    "duration": 3,
    "start_time": "2023-08-16T11:35:25.965Z"
   },
   {
    "duration": 4,
    "start_time": "2023-08-16T11:35:32.366Z"
   },
   {
    "duration": 5,
    "start_time": "2023-08-16T11:35:44.268Z"
   },
   {
    "duration": 4,
    "start_time": "2023-08-16T11:35:50.118Z"
   },
   {
    "duration": 11,
    "start_time": "2023-08-16T11:35:55.619Z"
   },
   {
    "duration": 16,
    "start_time": "2023-08-16T11:36:38.557Z"
   },
   {
    "duration": 6,
    "start_time": "2023-08-16T11:36:46.852Z"
   },
   {
    "duration": 6,
    "start_time": "2023-08-16T11:37:09.208Z"
   },
   {
    "duration": 5,
    "start_time": "2023-08-16T11:37:13.321Z"
   },
   {
    "duration": 4,
    "start_time": "2023-08-16T11:38:17.863Z"
   },
   {
    "duration": 28,
    "start_time": "2023-08-16T11:38:17.869Z"
   },
   {
    "duration": 118,
    "start_time": "2023-08-16T11:38:17.899Z"
   },
   {
    "duration": 156,
    "start_time": "2023-08-16T11:38:18.019Z"
   },
   {
    "duration": 16,
    "start_time": "2023-08-16T11:38:18.177Z"
   },
   {
    "duration": 39,
    "start_time": "2023-08-16T11:38:18.194Z"
   },
   {
    "duration": 34,
    "start_time": "2023-08-16T11:38:18.235Z"
   },
   {
    "duration": 18,
    "start_time": "2023-08-16T11:38:18.271Z"
   },
   {
    "duration": 39,
    "start_time": "2023-08-16T11:38:18.292Z"
   },
   {
    "duration": 29,
    "start_time": "2023-08-16T11:38:18.332Z"
   },
   {
    "duration": 30,
    "start_time": "2023-08-16T11:38:18.363Z"
   },
   {
    "duration": 10,
    "start_time": "2023-08-16T11:38:18.395Z"
   },
   {
    "duration": 26,
    "start_time": "2023-08-16T11:38:18.407Z"
   },
   {
    "duration": 21,
    "start_time": "2023-08-16T11:38:18.438Z"
   },
   {
    "duration": 21,
    "start_time": "2023-08-16T11:38:18.461Z"
   },
   {
    "duration": 13,
    "start_time": "2023-08-16T11:38:18.484Z"
   },
   {
    "duration": 23,
    "start_time": "2023-08-16T11:38:18.499Z"
   },
   {
    "duration": 14,
    "start_time": "2023-08-16T11:38:18.524Z"
   },
   {
    "duration": 6,
    "start_time": "2023-08-16T11:38:18.559Z"
   },
   {
    "duration": 27,
    "start_time": "2023-08-16T11:38:18.567Z"
   },
   {
    "duration": 47,
    "start_time": "2023-08-16T11:38:18.596Z"
   },
   {
    "duration": 34,
    "start_time": "2023-08-16T11:38:18.644Z"
   },
   {
    "duration": 34,
    "start_time": "2023-08-16T11:38:18.680Z"
   },
   {
    "duration": 17,
    "start_time": "2023-08-16T11:38:18.715Z"
   },
   {
    "duration": 13,
    "start_time": "2023-08-16T11:38:18.734Z"
   },
   {
    "duration": 22,
    "start_time": "2023-08-16T11:38:18.749Z"
   },
   {
    "duration": 30,
    "start_time": "2023-08-16T11:38:18.774Z"
   },
   {
    "duration": 42,
    "start_time": "2023-08-16T11:38:18.806Z"
   },
   {
    "duration": 76,
    "start_time": "2023-08-16T11:38:18.851Z"
   },
   {
    "duration": 42,
    "start_time": "2023-08-16T11:38:18.930Z"
   },
   {
    "duration": 26,
    "start_time": "2023-08-16T11:38:18.974Z"
   },
   {
    "duration": 5,
    "start_time": "2023-08-16T11:38:31.150Z"
   },
   {
    "duration": 5,
    "start_time": "2023-08-16T11:38:32.567Z"
   },
   {
    "duration": 4,
    "start_time": "2023-08-16T11:38:33.066Z"
   },
   {
    "duration": 44,
    "start_time": "2023-08-16T11:38:55.945Z"
   },
   {
    "duration": 45,
    "start_time": "2023-08-16T11:39:14.487Z"
   },
   {
    "duration": 1471,
    "start_time": "2023-08-16T11:39:43.038Z"
   },
   {
    "duration": 3,
    "start_time": "2023-08-16T11:39:52.509Z"
   },
   {
    "duration": 75,
    "start_time": "2023-08-16T11:39:52.514Z"
   },
   {
    "duration": 138,
    "start_time": "2023-08-16T11:39:52.591Z"
   },
   {
    "duration": 141,
    "start_time": "2023-08-16T11:39:52.731Z"
   },
   {
    "duration": 14,
    "start_time": "2023-08-16T11:39:52.875Z"
   },
   {
    "duration": 20,
    "start_time": "2023-08-16T11:39:52.891Z"
   },
   {
    "duration": 34,
    "start_time": "2023-08-16T11:39:52.913Z"
   },
   {
    "duration": 25,
    "start_time": "2023-08-16T11:39:52.949Z"
   },
   {
    "duration": 36,
    "start_time": "2023-08-16T11:39:52.976Z"
   },
   {
    "duration": 19,
    "start_time": "2023-08-16T11:39:53.015Z"
   },
   {
    "duration": 33,
    "start_time": "2023-08-16T11:39:53.035Z"
   },
   {
    "duration": 15,
    "start_time": "2023-08-16T11:39:53.070Z"
   },
   {
    "duration": 21,
    "start_time": "2023-08-16T11:39:53.087Z"
   },
   {
    "duration": 21,
    "start_time": "2023-08-16T11:39:53.111Z"
   },
   {
    "duration": 22,
    "start_time": "2023-08-16T11:39:53.133Z"
   },
   {
    "duration": 12,
    "start_time": "2023-08-16T11:39:53.157Z"
   },
   {
    "duration": 47,
    "start_time": "2023-08-16T11:39:53.171Z"
   },
   {
    "duration": 19,
    "start_time": "2023-08-16T11:39:53.220Z"
   },
   {
    "duration": 9,
    "start_time": "2023-08-16T11:39:53.241Z"
   },
   {
    "duration": 32,
    "start_time": "2023-08-16T11:39:53.252Z"
   },
   {
    "duration": 29,
    "start_time": "2023-08-16T11:39:53.286Z"
   },
   {
    "duration": 25,
    "start_time": "2023-08-16T11:39:53.317Z"
   },
   {
    "duration": 26,
    "start_time": "2023-08-16T11:39:53.344Z"
   },
   {
    "duration": 43,
    "start_time": "2023-08-16T11:39:53.372Z"
   },
   {
    "duration": 5,
    "start_time": "2023-08-16T11:39:53.417Z"
   },
   {
    "duration": 17,
    "start_time": "2023-08-16T11:39:53.423Z"
   },
   {
    "duration": 11,
    "start_time": "2023-08-16T11:39:53.442Z"
   },
   {
    "duration": 19,
    "start_time": "2023-08-16T11:39:53.455Z"
   },
   {
    "duration": 11,
    "start_time": "2023-08-16T11:39:53.476Z"
   },
   {
    "duration": 8,
    "start_time": "2023-08-16T11:39:53.489Z"
   },
   {
    "duration": 15,
    "start_time": "2023-08-16T11:39:53.499Z"
   },
   {
    "duration": 53,
    "start_time": "2023-08-16T11:39:53.516Z"
   },
   {
    "duration": 1801,
    "start_time": "2023-08-16T11:40:09.319Z"
   },
   {
    "duration": 3,
    "start_time": "2023-08-16T11:40:16.807Z"
   },
   {
    "duration": 28,
    "start_time": "2023-08-16T11:40:16.813Z"
   },
   {
    "duration": 130,
    "start_time": "2023-08-16T11:40:16.843Z"
   },
   {
    "duration": 148,
    "start_time": "2023-08-16T11:40:16.976Z"
   },
   {
    "duration": 42,
    "start_time": "2023-08-16T11:40:17.127Z"
   },
   {
    "duration": 46,
    "start_time": "2023-08-16T11:40:17.170Z"
   },
   {
    "duration": 30,
    "start_time": "2023-08-16T11:40:17.218Z"
   },
   {
    "duration": 32,
    "start_time": "2023-08-16T11:40:17.250Z"
   },
   {
    "duration": 37,
    "start_time": "2023-08-16T11:40:17.284Z"
   },
   {
    "duration": 19,
    "start_time": "2023-08-16T11:40:17.323Z"
   },
   {
    "duration": 24,
    "start_time": "2023-08-16T11:40:17.343Z"
   },
   {
    "duration": 6,
    "start_time": "2023-08-16T11:40:17.368Z"
   },
   {
    "duration": 14,
    "start_time": "2023-08-16T11:40:17.377Z"
   },
   {
    "duration": 20,
    "start_time": "2023-08-16T11:40:17.393Z"
   },
   {
    "duration": 25,
    "start_time": "2023-08-16T11:40:17.415Z"
   },
   {
    "duration": 17,
    "start_time": "2023-08-16T11:40:17.442Z"
   },
   {
    "duration": 19,
    "start_time": "2023-08-16T11:40:17.461Z"
   },
   {
    "duration": 12,
    "start_time": "2023-08-16T11:40:17.482Z"
   },
   {
    "duration": 16,
    "start_time": "2023-08-16T11:40:17.496Z"
   },
   {
    "duration": 20,
    "start_time": "2023-08-16T11:40:17.515Z"
   },
   {
    "duration": 42,
    "start_time": "2023-08-16T11:40:17.537Z"
   },
   {
    "duration": 27,
    "start_time": "2023-08-16T11:40:17.582Z"
   },
   {
    "duration": 28,
    "start_time": "2023-08-16T11:40:17.611Z"
   },
   {
    "duration": 22,
    "start_time": "2023-08-16T11:40:17.641Z"
   },
   {
    "duration": 13,
    "start_time": "2023-08-16T11:40:17.665Z"
   },
   {
    "duration": 11,
    "start_time": "2023-08-16T11:40:17.679Z"
   },
   {
    "duration": 12,
    "start_time": "2023-08-16T11:40:17.692Z"
   },
   {
    "duration": 8,
    "start_time": "2023-08-16T11:40:17.706Z"
   },
   {
    "duration": 11,
    "start_time": "2023-08-16T11:40:17.716Z"
   },
   {
    "duration": 18,
    "start_time": "2023-08-16T11:40:17.729Z"
   },
   {
    "duration": 11,
    "start_time": "2023-08-16T11:40:17.749Z"
   },
   {
    "duration": 53,
    "start_time": "2023-08-16T11:40:17.762Z"
   },
   {
    "duration": 33,
    "start_time": "2023-08-16T11:40:45.691Z"
   },
   {
    "duration": 47,
    "start_time": "2023-08-16T11:40:53.938Z"
   },
   {
    "duration": 87,
    "start_time": "2023-08-16T11:40:58.413Z"
   },
   {
    "duration": 70,
    "start_time": "2023-08-16T11:41:16.559Z"
   },
   {
    "duration": 390,
    "start_time": "2023-08-16T11:45:49.572Z"
   },
   {
    "duration": 1571,
    "start_time": "2023-08-16T11:48:34.093Z"
   },
   {
    "duration": 1816,
    "start_time": "2023-08-16T11:49:21.185Z"
   },
   {
    "duration": 1542,
    "start_time": "2023-08-16T11:49:39.859Z"
   },
   {
    "duration": 1132,
    "start_time": "2023-08-16T11:49:55.173Z"
   },
   {
    "duration": 1643,
    "start_time": "2023-08-16T11:49:59.850Z"
   },
   {
    "duration": 1552,
    "start_time": "2023-08-16T11:50:05.610Z"
   },
   {
    "duration": 106,
    "start_time": "2023-08-16T11:50:13.564Z"
   },
   {
    "duration": 1573,
    "start_time": "2023-08-16T11:50:24.202Z"
   },
   {
    "duration": 2417,
    "start_time": "2023-08-16T11:50:34.873Z"
   },
   {
    "duration": 1821,
    "start_time": "2023-08-16T11:50:45.944Z"
   },
   {
    "duration": 1719,
    "start_time": "2023-08-16T11:51:11.073Z"
   },
   {
    "duration": 1740,
    "start_time": "2023-08-16T11:52:22.258Z"
   },
   {
    "duration": 5,
    "start_time": "2023-08-16T11:53:00.917Z"
   },
   {
    "duration": 2108,
    "start_time": "2023-08-16T11:53:05.396Z"
   },
   {
    "duration": 2217,
    "start_time": "2023-08-16T11:53:14.171Z"
   },
   {
    "duration": 2073,
    "start_time": "2023-08-16T11:53:46.098Z"
   },
   {
    "duration": 12,
    "start_time": "2023-08-16T11:54:51.514Z"
   },
   {
    "duration": 5,
    "start_time": "2023-08-16T11:55:02.033Z"
   },
   {
    "duration": 5,
    "start_time": "2023-08-16T11:55:09.169Z"
   },
   {
    "duration": 2133,
    "start_time": "2023-08-16T11:55:09.746Z"
   },
   {
    "duration": 2393,
    "start_time": "2023-08-16T11:55:11.882Z"
   },
   {
    "duration": 1978,
    "start_time": "2023-08-16T11:56:30.025Z"
   },
   {
    "duration": 1125,
    "start_time": "2023-08-16T11:59:15.474Z"
   },
   {
    "duration": 5,
    "start_time": "2023-08-16T11:59:42.597Z"
   },
   {
    "duration": 54,
    "start_time": "2023-08-16T11:59:42.605Z"
   },
   {
    "duration": 198,
    "start_time": "2023-08-16T11:59:42.661Z"
   },
   {
    "duration": 410,
    "start_time": "2023-08-16T11:59:42.862Z"
   },
   {
    "duration": 19,
    "start_time": "2023-08-16T11:59:43.275Z"
   },
   {
    "duration": 38,
    "start_time": "2023-08-16T11:59:43.358Z"
   },
   {
    "duration": 62,
    "start_time": "2023-08-16T11:59:43.398Z"
   },
   {
    "duration": 9,
    "start_time": "2023-08-16T11:59:43.462Z"
   },
   {
    "duration": 87,
    "start_time": "2023-08-16T11:59:43.474Z"
   },
   {
    "duration": 20,
    "start_time": "2023-08-16T11:59:43.563Z"
   },
   {
    "duration": 79,
    "start_time": "2023-08-16T11:59:43.585Z"
   },
   {
    "duration": 13,
    "start_time": "2023-08-16T11:59:43.666Z"
   },
   {
    "duration": 16,
    "start_time": "2023-08-16T11:59:43.681Z"
   },
   {
    "duration": 64,
    "start_time": "2023-08-16T11:59:43.701Z"
   },
   {
    "duration": 17,
    "start_time": "2023-08-16T11:59:43.768Z"
   },
   {
    "duration": 13,
    "start_time": "2023-08-16T11:59:43.787Z"
   },
   {
    "duration": 12,
    "start_time": "2023-08-16T11:59:43.859Z"
   },
   {
    "duration": 35,
    "start_time": "2023-08-16T11:59:43.873Z"
   },
   {
    "duration": 6,
    "start_time": "2023-08-16T11:59:43.960Z"
   },
   {
    "duration": 92,
    "start_time": "2023-08-16T11:59:43.967Z"
   },
   {
    "duration": 25,
    "start_time": "2023-08-16T11:59:44.062Z"
   },
   {
    "duration": 73,
    "start_time": "2023-08-16T11:59:44.089Z"
   },
   {
    "duration": 47,
    "start_time": "2023-08-16T11:59:44.164Z"
   },
   {
    "duration": 60,
    "start_time": "2023-08-16T11:59:44.213Z"
   },
   {
    "duration": 22,
    "start_time": "2023-08-16T11:59:44.275Z"
   },
   {
    "duration": 63,
    "start_time": "2023-08-16T11:59:44.299Z"
   },
   {
    "duration": 17,
    "start_time": "2023-08-16T11:59:44.364Z"
   },
   {
    "duration": 8,
    "start_time": "2023-08-16T11:59:44.383Z"
   },
   {
    "duration": 67,
    "start_time": "2023-08-16T11:59:44.393Z"
   },
   {
    "duration": 11,
    "start_time": "2023-08-16T11:59:44.462Z"
   },
   {
    "duration": 11,
    "start_time": "2023-08-16T11:59:44.475Z"
   },
   {
    "duration": 184,
    "start_time": "2023-08-16T11:59:44.488Z"
   },
   {
    "duration": 3,
    "start_time": "2023-08-16T11:59:44.674Z"
   },
   {
    "duration": 2004,
    "start_time": "2023-08-16T11:59:44.679Z"
   },
   {
    "duration": 2114,
    "start_time": "2023-08-16T11:59:46.685Z"
   },
   {
    "duration": 894,
    "start_time": "2023-08-16T11:59:48.801Z"
   },
   {
    "duration": 850,
    "start_time": "2023-08-16T12:00:15.628Z"
   },
   {
    "duration": 891,
    "start_time": "2023-08-16T12:00:23.594Z"
   },
   {
    "duration": 3,
    "start_time": "2023-08-16T12:00:41.072Z"
   },
   {
    "duration": 2061,
    "start_time": "2023-08-16T12:00:41.423Z"
   },
   {
    "duration": 2460,
    "start_time": "2023-08-16T12:00:46.519Z"
   },
   {
    "duration": 809,
    "start_time": "2023-08-16T12:00:48.982Z"
   },
   {
    "duration": 17,
    "start_time": "2023-08-16T12:03:39.667Z"
   },
   {
    "duration": 40,
    "start_time": "2023-08-16T12:03:44.021Z"
   },
   {
    "duration": 23,
    "start_time": "2023-08-16T12:03:52.266Z"
   },
   {
    "duration": 107,
    "start_time": "2023-08-16T12:03:58.432Z"
   },
   {
    "duration": 43,
    "start_time": "2023-08-16T12:04:01.040Z"
   },
   {
    "duration": 35,
    "start_time": "2023-08-16T12:04:42.723Z"
   },
   {
    "duration": 12,
    "start_time": "2023-08-16T12:04:47.403Z"
   },
   {
    "duration": 5,
    "start_time": "2023-08-16T12:05:11.905Z"
   },
   {
    "duration": 7,
    "start_time": "2023-08-16T12:05:21.108Z"
   },
   {
    "duration": 21,
    "start_time": "2023-08-16T12:05:34.752Z"
   },
   {
    "duration": 16,
    "start_time": "2023-08-16T12:07:06.901Z"
   },
   {
    "duration": 400,
    "start_time": "2023-08-16T12:07:15.760Z"
   },
   {
    "duration": 398,
    "start_time": "2023-08-16T12:07:18.660Z"
   },
   {
    "duration": 1386,
    "start_time": "2023-08-16T14:46:49.826Z"
   },
   {
    "duration": 3,
    "start_time": "2023-08-16T14:46:51.214Z"
   },
   {
    "duration": 455,
    "start_time": "2023-08-16T14:46:51.219Z"
   },
   {
    "duration": 164,
    "start_time": "2023-08-16T14:46:51.676Z"
   },
   {
    "duration": 37,
    "start_time": "2023-08-16T14:46:51.843Z"
   },
   {
    "duration": 32,
    "start_time": "2023-08-16T14:46:51.882Z"
   },
   {
    "duration": 17,
    "start_time": "2023-08-16T14:46:51.916Z"
   },
   {
    "duration": 24,
    "start_time": "2023-08-16T14:46:51.935Z"
   },
   {
    "duration": 36,
    "start_time": "2023-08-16T14:46:51.961Z"
   },
   {
    "duration": 29,
    "start_time": "2023-08-16T14:46:51.998Z"
   },
   {
    "duration": 26,
    "start_time": "2023-08-16T14:46:52.029Z"
   },
   {
    "duration": 4,
    "start_time": "2023-08-16T14:46:52.057Z"
   },
   {
    "duration": 29,
    "start_time": "2023-08-16T14:46:52.063Z"
   },
   {
    "duration": 24,
    "start_time": "2023-08-16T14:46:52.095Z"
   },
   {
    "duration": 27,
    "start_time": "2023-08-16T14:46:52.121Z"
   },
   {
    "duration": 13,
    "start_time": "2023-08-16T14:46:52.150Z"
   },
   {
    "duration": 58,
    "start_time": "2023-08-16T14:46:52.165Z"
   },
   {
    "duration": 12,
    "start_time": "2023-08-16T14:46:52.225Z"
   },
   {
    "duration": 15,
    "start_time": "2023-08-16T14:46:52.238Z"
   },
   {
    "duration": 29,
    "start_time": "2023-08-16T14:46:52.255Z"
   },
   {
    "duration": 26,
    "start_time": "2023-08-16T14:46:52.286Z"
   },
   {
    "duration": 14,
    "start_time": "2023-08-16T14:46:52.314Z"
   },
   {
    "duration": 38,
    "start_time": "2023-08-16T14:46:52.331Z"
   },
   {
    "duration": 5,
    "start_time": "2023-08-16T14:46:52.371Z"
   },
   {
    "duration": 33,
    "start_time": "2023-08-16T14:46:52.377Z"
   },
   {
    "duration": 13,
    "start_time": "2023-08-16T14:46:52.412Z"
   },
   {
    "duration": 19,
    "start_time": "2023-08-16T14:46:52.426Z"
   },
   {
    "duration": 12,
    "start_time": "2023-08-16T14:46:52.446Z"
   },
   {
    "duration": 7,
    "start_time": "2023-08-16T14:46:52.460Z"
   },
   {
    "duration": 111,
    "start_time": "2023-08-16T14:46:52.469Z"
   },
   {
    "duration": 0,
    "start_time": "2023-08-16T14:46:52.582Z"
   },
   {
    "duration": 0,
    "start_time": "2023-08-16T14:46:52.583Z"
   },
   {
    "duration": 0,
    "start_time": "2023-08-16T14:46:52.584Z"
   },
   {
    "duration": 0,
    "start_time": "2023-08-16T14:46:52.585Z"
   },
   {
    "duration": 0,
    "start_time": "2023-08-16T14:46:52.587Z"
   },
   {
    "duration": 4,
    "start_time": "2023-08-16T14:48:30.962Z"
   },
   {
    "duration": 77,
    "start_time": "2023-08-16T14:48:32.571Z"
   },
   {
    "duration": 13,
    "start_time": "2023-08-16T14:48:37.859Z"
   },
   {
    "duration": 1012,
    "start_time": "2023-08-16T14:48:42.833Z"
   },
   {
    "duration": 399,
    "start_time": "2023-08-16T14:48:45.845Z"
   },
   {
    "duration": 254,
    "start_time": "2023-08-16T14:48:49.086Z"
   },
   {
    "duration": 102,
    "start_time": "2023-08-16T14:49:00.315Z"
   },
   {
    "duration": 11,
    "start_time": "2023-08-16T14:58:26.599Z"
   },
   {
    "duration": 12,
    "start_time": "2023-08-16T14:58:32.811Z"
   },
   {
    "duration": 385,
    "start_time": "2023-08-16T14:58:35.845Z"
   },
   {
    "duration": 12,
    "start_time": "2023-08-16T14:59:00.482Z"
   },
   {
    "duration": 12,
    "start_time": "2023-08-16T14:59:10.164Z"
   },
   {
    "duration": 15,
    "start_time": "2023-08-16T14:59:19.383Z"
   },
   {
    "duration": 323,
    "start_time": "2023-08-16T15:00:29.314Z"
   },
   {
    "duration": 356,
    "start_time": "2023-08-16T15:00:38.042Z"
   },
   {
    "duration": 332,
    "start_time": "2023-08-16T15:07:11.435Z"
   },
   {
    "duration": 196,
    "start_time": "2023-08-16T15:07:38.052Z"
   },
   {
    "duration": 562,
    "start_time": "2023-08-16T15:08:26.654Z"
   },
   {
    "duration": 2715,
    "start_time": "2023-08-16T15:08:55.754Z"
   },
   {
    "duration": 586,
    "start_time": "2023-08-16T15:10:40.774Z"
   },
   {
    "duration": 12,
    "start_time": "2023-08-16T15:10:58.734Z"
   },
   {
    "duration": 696,
    "start_time": "2023-08-16T15:11:03.753Z"
   },
   {
    "duration": 598,
    "start_time": "2023-08-16T15:11:13.067Z"
   },
   {
    "duration": 561,
    "start_time": "2023-08-16T15:11:21.572Z"
   },
   {
    "duration": 674,
    "start_time": "2023-08-16T15:12:04.008Z"
   },
   {
    "duration": 307,
    "start_time": "2023-08-16T15:13:13.350Z"
   },
   {
    "duration": 296,
    "start_time": "2023-08-16T15:13:49.150Z"
   },
   {
    "duration": 605,
    "start_time": "2023-08-16T15:16:45.553Z"
   },
   {
    "duration": 355,
    "start_time": "2023-08-16T15:18:31.590Z"
   },
   {
    "duration": 323,
    "start_time": "2023-08-16T15:18:34.406Z"
   },
   {
    "duration": 331,
    "start_time": "2023-08-16T15:18:40.189Z"
   },
   {
    "duration": 533,
    "start_time": "2023-08-16T15:19:11.958Z"
   },
   {
    "duration": 80,
    "start_time": "2023-08-16T15:20:00.991Z"
   },
   {
    "duration": 429,
    "start_time": "2023-08-16T15:20:05.126Z"
   },
   {
    "duration": 419,
    "start_time": "2023-08-16T15:20:13.948Z"
   },
   {
    "duration": 399,
    "start_time": "2023-08-16T15:20:20.022Z"
   },
   {
    "duration": 401,
    "start_time": "2023-08-16T15:20:22.677Z"
   },
   {
    "duration": 326,
    "start_time": "2023-08-16T15:20:51.114Z"
   },
   {
    "duration": 352,
    "start_time": "2023-08-16T15:20:54.443Z"
   },
   {
    "duration": 470,
    "start_time": "2023-08-16T15:21:37.148Z"
   },
   {
    "duration": 338,
    "start_time": "2023-08-16T15:21:39.825Z"
   },
   {
    "duration": 479,
    "start_time": "2023-08-16T15:22:02.552Z"
   },
   {
    "duration": 581,
    "start_time": "2023-08-16T15:22:10.162Z"
   },
   {
    "duration": 566,
    "start_time": "2023-08-16T15:23:37.998Z"
   },
   {
    "duration": 750,
    "start_time": "2023-08-16T15:23:43.712Z"
   },
   {
    "duration": 2,
    "start_time": "2023-08-16T15:24:05.585Z"
   },
   {
    "duration": 789,
    "start_time": "2023-08-16T15:24:06.188Z"
   },
   {
    "duration": 490,
    "start_time": "2023-08-16T15:25:13.079Z"
   },
   {
    "duration": 1073,
    "start_time": "2023-08-16T15:25:20.011Z"
   },
   {
    "duration": 3,
    "start_time": "2023-08-16T15:25:21.087Z"
   },
   {
    "duration": 108,
    "start_time": "2023-08-16T15:25:21.091Z"
   },
   {
    "duration": 203,
    "start_time": "2023-08-16T15:25:21.201Z"
   },
   {
    "duration": 14,
    "start_time": "2023-08-16T15:25:21.407Z"
   },
   {
    "duration": 44,
    "start_time": "2023-08-16T15:25:21.423Z"
   },
   {
    "duration": 38,
    "start_time": "2023-08-16T15:25:21.469Z"
   },
   {
    "duration": 10,
    "start_time": "2023-08-16T15:25:21.509Z"
   },
   {
    "duration": 33,
    "start_time": "2023-08-16T15:25:21.521Z"
   },
   {
    "duration": 17,
    "start_time": "2023-08-16T15:25:21.556Z"
   },
   {
    "duration": 30,
    "start_time": "2023-08-16T15:25:21.574Z"
   },
   {
    "duration": 8,
    "start_time": "2023-08-16T15:25:21.606Z"
   },
   {
    "duration": 20,
    "start_time": "2023-08-16T15:25:21.615Z"
   },
   {
    "duration": 12,
    "start_time": "2023-08-16T15:25:21.638Z"
   },
   {
    "duration": 29,
    "start_time": "2023-08-16T15:25:21.651Z"
   },
   {
    "duration": 12,
    "start_time": "2023-08-16T15:25:21.682Z"
   },
   {
    "duration": 34,
    "start_time": "2023-08-16T15:25:21.696Z"
   },
   {
    "duration": 18,
    "start_time": "2023-08-16T15:25:21.732Z"
   },
   {
    "duration": 17,
    "start_time": "2023-08-16T15:25:21.751Z"
   },
   {
    "duration": 32,
    "start_time": "2023-08-16T15:25:21.770Z"
   },
   {
    "duration": 23,
    "start_time": "2023-08-16T15:25:21.803Z"
   },
   {
    "duration": 20,
    "start_time": "2023-08-16T15:25:21.828Z"
   },
   {
    "duration": 19,
    "start_time": "2023-08-16T15:25:21.850Z"
   },
   {
    "duration": 6,
    "start_time": "2023-08-16T15:25:21.871Z"
   },
   {
    "duration": 10,
    "start_time": "2023-08-16T15:25:21.878Z"
   },
   {
    "duration": 11,
    "start_time": "2023-08-16T15:25:21.889Z"
   },
   {
    "duration": 12,
    "start_time": "2023-08-16T15:25:21.902Z"
   },
   {
    "duration": 39,
    "start_time": "2023-08-16T15:25:21.916Z"
   },
   {
    "duration": 5,
    "start_time": "2023-08-16T15:25:21.957Z"
   },
   {
    "duration": 26,
    "start_time": "2023-08-16T15:25:21.964Z"
   },
   {
    "duration": 6,
    "start_time": "2023-08-16T15:25:21.992Z"
   },
   {
    "duration": 68,
    "start_time": "2023-08-16T15:25:21.999Z"
   },
   {
    "duration": 992,
    "start_time": "2023-08-16T15:25:22.069Z"
   },
   {
    "duration": 414,
    "start_time": "2023-08-16T15:25:23.063Z"
   },
   {
    "duration": 4,
    "start_time": "2023-08-16T15:25:23.479Z"
   },
   {
    "duration": 508,
    "start_time": "2023-08-16T15:25:23.484Z"
   },
   {
    "duration": 14,
    "start_time": "2023-08-16T15:25:23.994Z"
   },
   {
    "duration": 397,
    "start_time": "2023-08-16T15:25:24.010Z"
   },
   {
    "duration": 465,
    "start_time": "2023-08-16T15:25:24.409Z"
   },
   {
    "duration": 543,
    "start_time": "2023-08-16T15:25:24.875Z"
   },
   {
    "duration": 257,
    "start_time": "2023-08-16T15:25:25.423Z"
   },
   {
    "duration": 5,
    "start_time": "2023-08-16T15:25:25.682Z"
   },
   {
    "duration": 532,
    "start_time": "2023-08-16T15:25:54.802Z"
   },
   {
    "duration": 580,
    "start_time": "2023-08-16T15:28:47.914Z"
   },
   {
    "duration": 624,
    "start_time": "2023-08-16T15:28:53.587Z"
   },
   {
    "duration": 521,
    "start_time": "2023-08-16T15:29:07.539Z"
   },
   {
    "duration": 695,
    "start_time": "2023-08-16T15:29:12.215Z"
   },
   {
    "duration": 510,
    "start_time": "2023-08-16T15:29:17.148Z"
   },
   {
    "duration": 711,
    "start_time": "2023-08-16T15:29:58.502Z"
   },
   {
    "duration": 754,
    "start_time": "2023-08-16T15:30:03.453Z"
   },
   {
    "duration": 709,
    "start_time": "2023-08-16T15:30:06.509Z"
   },
   {
    "duration": 888,
    "start_time": "2023-08-16T15:30:09.771Z"
   },
   {
    "duration": 725,
    "start_time": "2023-08-16T15:30:20.417Z"
   },
   {
    "duration": 699,
    "start_time": "2023-08-16T15:31:22.584Z"
   },
   {
    "duration": 708,
    "start_time": "2023-08-16T15:33:01.944Z"
   },
   {
    "duration": 87,
    "start_time": "2023-08-16T15:33:43.769Z"
   },
   {
    "duration": 674,
    "start_time": "2023-08-16T15:33:47.344Z"
   },
   {
    "duration": 687,
    "start_time": "2023-08-16T15:33:53.074Z"
   },
   {
    "duration": 762,
    "start_time": "2023-08-16T15:33:58.253Z"
   },
   {
    "duration": 675,
    "start_time": "2023-08-16T15:34:06.246Z"
   },
   {
    "duration": 639,
    "start_time": "2023-08-16T15:34:10.274Z"
   },
   {
    "duration": 373,
    "start_time": "2023-08-16T15:34:53.160Z"
   },
   {
    "duration": 651,
    "start_time": "2023-08-16T15:35:05.690Z"
   },
   {
    "duration": 873,
    "start_time": "2023-08-16T15:35:11.849Z"
   },
   {
    "duration": 49,
    "start_time": "2023-08-16T15:38:46.259Z"
   },
   {
    "duration": 7,
    "start_time": "2023-08-16T15:39:07.878Z"
   },
   {
    "duration": 29413,
    "start_time": "2023-08-16T15:42:02.320Z"
   },
   {
    "duration": 1662,
    "start_time": "2023-08-16T15:42:35.978Z"
   },
   {
    "duration": 3371,
    "start_time": "2023-08-16T15:42:50.782Z"
   },
   {
    "duration": 2367,
    "start_time": "2023-08-16T15:43:00.547Z"
   },
   {
    "duration": 2396,
    "start_time": "2023-08-16T15:44:11.101Z"
   },
   {
    "duration": 1768,
    "start_time": "2023-08-16T15:47:01.179Z"
   },
   {
    "duration": 4,
    "start_time": "2023-08-16T15:47:20.198Z"
   },
   {
    "duration": 5,
    "start_time": "2023-08-16T15:47:23.883Z"
   },
   {
    "duration": 10,
    "start_time": "2023-08-16T15:47:30.814Z"
   },
   {
    "duration": 4,
    "start_time": "2023-08-16T15:47:41.842Z"
   },
   {
    "duration": 1750,
    "start_time": "2023-08-16T15:47:50.775Z"
   },
   {
    "duration": 4,
    "start_time": "2023-08-16T15:47:57.181Z"
   },
   {
    "duration": 22,
    "start_time": "2023-08-16T15:47:57.187Z"
   },
   {
    "duration": 105,
    "start_time": "2023-08-16T15:47:57.211Z"
   },
   {
    "duration": 121,
    "start_time": "2023-08-16T15:47:57.319Z"
   },
   {
    "duration": 36,
    "start_time": "2023-08-16T15:47:57.442Z"
   },
   {
    "duration": 13,
    "start_time": "2023-08-16T15:47:57.479Z"
   },
   {
    "duration": 16,
    "start_time": "2023-08-16T15:47:57.494Z"
   },
   {
    "duration": 8,
    "start_time": "2023-08-16T15:47:57.512Z"
   },
   {
    "duration": 57,
    "start_time": "2023-08-16T15:47:57.522Z"
   },
   {
    "duration": 20,
    "start_time": "2023-08-16T15:47:57.582Z"
   },
   {
    "duration": 16,
    "start_time": "2023-08-16T15:47:57.604Z"
   },
   {
    "duration": 5,
    "start_time": "2023-08-16T15:47:57.622Z"
   },
   {
    "duration": 26,
    "start_time": "2023-08-16T15:47:57.628Z"
   },
   {
    "duration": 15,
    "start_time": "2023-08-16T15:47:57.656Z"
   },
   {
    "duration": 21,
    "start_time": "2023-08-16T15:47:57.673Z"
   },
   {
    "duration": 11,
    "start_time": "2023-08-16T15:47:57.696Z"
   },
   {
    "duration": 11,
    "start_time": "2023-08-16T15:47:57.709Z"
   },
   {
    "duration": 11,
    "start_time": "2023-08-16T15:47:57.722Z"
   },
   {
    "duration": 36,
    "start_time": "2023-08-16T15:47:57.734Z"
   },
   {
    "duration": 29,
    "start_time": "2023-08-16T15:47:57.772Z"
   },
   {
    "duration": 28,
    "start_time": "2023-08-16T15:47:57.803Z"
   },
   {
    "duration": 23,
    "start_time": "2023-08-16T15:47:57.833Z"
   },
   {
    "duration": 35,
    "start_time": "2023-08-16T15:47:57.858Z"
   },
   {
    "duration": 39,
    "start_time": "2023-08-16T15:47:57.895Z"
   },
   {
    "duration": 12,
    "start_time": "2023-08-16T15:47:57.936Z"
   },
   {
    "duration": 33,
    "start_time": "2023-08-16T15:47:57.950Z"
   },
   {
    "duration": 26,
    "start_time": "2023-08-16T15:47:57.984Z"
   },
   {
    "duration": 24,
    "start_time": "2023-08-16T15:47:58.013Z"
   },
   {
    "duration": 16,
    "start_time": "2023-08-16T15:47:58.038Z"
   },
   {
    "duration": 16,
    "start_time": "2023-08-16T15:47:58.056Z"
   },
   {
    "duration": 22,
    "start_time": "2023-08-16T15:47:58.074Z"
   },
   {
    "duration": 73,
    "start_time": "2023-08-16T15:47:58.097Z"
   },
   {
    "duration": 1014,
    "start_time": "2023-08-16T15:47:58.172Z"
   },
   {
    "duration": 437,
    "start_time": "2023-08-16T15:47:59.188Z"
   },
   {
    "duration": 3,
    "start_time": "2023-08-16T15:47:59.626Z"
   },
   {
    "duration": 725,
    "start_time": "2023-08-16T15:47:59.631Z"
   },
   {
    "duration": 17,
    "start_time": "2023-08-16T15:48:00.358Z"
   },
   {
    "duration": 338,
    "start_time": "2023-08-16T15:48:00.377Z"
   },
   {
    "duration": 374,
    "start_time": "2023-08-16T15:48:00.717Z"
   },
   {
    "duration": 5,
    "start_time": "2023-08-16T15:48:01.093Z"
   },
   {
    "duration": 1881,
    "start_time": "2023-08-16T15:48:01.100Z"
   },
   {
    "duration": 4,
    "start_time": "2023-08-16T15:48:10.568Z"
   },
   {
    "duration": 4,
    "start_time": "2023-08-16T15:48:36.815Z"
   },
   {
    "duration": 18,
    "start_time": "2023-08-16T15:48:36.821Z"
   },
   {
    "duration": 100,
    "start_time": "2023-08-16T15:48:36.841Z"
   },
   {
    "duration": 146,
    "start_time": "2023-08-16T15:48:36.943Z"
   },
   {
    "duration": 13,
    "start_time": "2023-08-16T15:48:37.091Z"
   },
   {
    "duration": 79,
    "start_time": "2023-08-16T15:48:37.105Z"
   },
   {
    "duration": 34,
    "start_time": "2023-08-16T15:48:37.186Z"
   },
   {
    "duration": 56,
    "start_time": "2023-08-16T15:48:37.221Z"
   },
   {
    "duration": 29,
    "start_time": "2023-08-16T15:48:37.279Z"
   },
   {
    "duration": 34,
    "start_time": "2023-08-16T15:48:37.310Z"
   },
   {
    "duration": 82,
    "start_time": "2023-08-16T15:48:37.345Z"
   },
   {
    "duration": 52,
    "start_time": "2023-08-16T15:48:37.429Z"
   },
   {
    "duration": 18,
    "start_time": "2023-08-16T15:48:37.482Z"
   },
   {
    "duration": 31,
    "start_time": "2023-08-16T15:48:37.503Z"
   },
   {
    "duration": 16,
    "start_time": "2023-08-16T15:48:37.536Z"
   },
   {
    "duration": 10,
    "start_time": "2023-08-16T15:48:37.554Z"
   },
   {
    "duration": 25,
    "start_time": "2023-08-16T15:48:37.565Z"
   },
   {
    "duration": 22,
    "start_time": "2023-08-16T15:48:37.591Z"
   },
   {
    "duration": 18,
    "start_time": "2023-08-16T15:48:37.615Z"
   },
   {
    "duration": 21,
    "start_time": "2023-08-16T15:48:37.635Z"
   },
   {
    "duration": 24,
    "start_time": "2023-08-16T15:48:37.658Z"
   },
   {
    "duration": 26,
    "start_time": "2023-08-16T15:48:37.684Z"
   },
   {
    "duration": 13,
    "start_time": "2023-08-16T15:48:37.713Z"
   },
   {
    "duration": 24,
    "start_time": "2023-08-16T15:48:37.728Z"
   },
   {
    "duration": 20,
    "start_time": "2023-08-16T15:48:37.754Z"
   },
   {
    "duration": 15,
    "start_time": "2023-08-16T15:48:37.776Z"
   },
   {
    "duration": 15,
    "start_time": "2023-08-16T15:48:37.792Z"
   },
   {
    "duration": 23,
    "start_time": "2023-08-16T15:48:37.809Z"
   },
   {
    "duration": 23,
    "start_time": "2023-08-16T15:48:37.834Z"
   },
   {
    "duration": 12,
    "start_time": "2023-08-16T15:48:37.858Z"
   },
   {
    "duration": 6,
    "start_time": "2023-08-16T15:48:37.872Z"
   },
   {
    "duration": 87,
    "start_time": "2023-08-16T15:48:37.880Z"
   },
   {
    "duration": 937,
    "start_time": "2023-08-16T15:48:37.969Z"
   },
   {
    "duration": 389,
    "start_time": "2023-08-16T15:48:38.907Z"
   },
   {
    "duration": 3,
    "start_time": "2023-08-16T15:48:39.298Z"
   },
   {
    "duration": 723,
    "start_time": "2023-08-16T15:48:39.302Z"
   },
   {
    "duration": 13,
    "start_time": "2023-08-16T15:48:40.026Z"
   },
   {
    "duration": 370,
    "start_time": "2023-08-16T15:48:40.040Z"
   },
   {
    "duration": 365,
    "start_time": "2023-08-16T15:48:40.412Z"
   },
   {
    "duration": 4,
    "start_time": "2023-08-16T15:48:40.778Z"
   },
   {
    "duration": 1698,
    "start_time": "2023-08-16T15:48:44.836Z"
   },
   {
    "duration": 1830,
    "start_time": "2023-08-16T15:48:58.341Z"
   },
   {
    "duration": 5,
    "start_time": "2023-08-16T15:49:18.335Z"
   },
   {
    "duration": 78,
    "start_time": "2023-08-16T15:49:18.342Z"
   },
   {
    "duration": 100,
    "start_time": "2023-08-16T15:49:18.422Z"
   },
   {
    "duration": 144,
    "start_time": "2023-08-16T15:49:18.524Z"
   },
   {
    "duration": 12,
    "start_time": "2023-08-16T15:49:18.670Z"
   },
   {
    "duration": 10,
    "start_time": "2023-08-16T15:49:18.684Z"
   },
   {
    "duration": 15,
    "start_time": "2023-08-16T15:49:18.696Z"
   },
   {
    "duration": 7,
    "start_time": "2023-08-16T15:49:18.713Z"
   },
   {
    "duration": 57,
    "start_time": "2023-08-16T15:49:18.722Z"
   },
   {
    "duration": 18,
    "start_time": "2023-08-16T15:49:18.781Z"
   },
   {
    "duration": 24,
    "start_time": "2023-08-16T15:49:18.801Z"
   },
   {
    "duration": 5,
    "start_time": "2023-08-16T15:49:18.826Z"
   },
   {
    "duration": 6,
    "start_time": "2023-08-16T15:49:18.832Z"
   },
   {
    "duration": 31,
    "start_time": "2023-08-16T15:49:18.841Z"
   },
   {
    "duration": 17,
    "start_time": "2023-08-16T15:49:18.874Z"
   },
   {
    "duration": 10,
    "start_time": "2023-08-16T15:49:18.892Z"
   },
   {
    "duration": 32,
    "start_time": "2023-08-16T15:49:18.904Z"
   },
   {
    "duration": 11,
    "start_time": "2023-08-16T15:49:18.938Z"
   },
   {
    "duration": 9,
    "start_time": "2023-08-16T15:49:18.950Z"
   },
   {
    "duration": 14,
    "start_time": "2023-08-16T15:49:18.966Z"
   },
   {
    "duration": 23,
    "start_time": "2023-08-16T15:49:18.982Z"
   },
   {
    "duration": 13,
    "start_time": "2023-08-16T15:49:19.006Z"
   },
   {
    "duration": 13,
    "start_time": "2023-08-16T15:49:19.021Z"
   },
   {
    "duration": 109,
    "start_time": "2023-08-16T15:49:19.036Z"
   },
   {
    "duration": 139,
    "start_time": "2023-08-16T15:49:19.148Z"
   },
   {
    "duration": 100,
    "start_time": "2023-08-16T15:49:19.289Z"
   },
   {
    "duration": 9,
    "start_time": "2023-08-16T15:49:19.390Z"
   },
   {
    "duration": 12,
    "start_time": "2023-08-16T15:49:19.400Z"
   },
   {
    "duration": 11,
    "start_time": "2023-08-16T15:49:19.414Z"
   },
   {
    "duration": 7,
    "start_time": "2023-08-16T15:49:19.427Z"
   },
   {
    "duration": 6,
    "start_time": "2023-08-16T15:49:19.436Z"
   },
   {
    "duration": 68,
    "start_time": "2023-08-16T15:49:19.443Z"
   },
   {
    "duration": 954,
    "start_time": "2023-08-16T15:49:19.513Z"
   },
   {
    "duration": 413,
    "start_time": "2023-08-16T15:49:20.468Z"
   },
   {
    "duration": 4,
    "start_time": "2023-08-16T15:49:20.883Z"
   },
   {
    "duration": 698,
    "start_time": "2023-08-16T15:49:20.889Z"
   },
   {
    "duration": 12,
    "start_time": "2023-08-16T15:49:21.589Z"
   },
   {
    "duration": 321,
    "start_time": "2023-08-16T15:49:21.602Z"
   },
   {
    "duration": 368,
    "start_time": "2023-08-16T15:49:21.925Z"
   },
   {
    "duration": 89,
    "start_time": "2023-08-16T15:49:22.295Z"
   },
   {
    "duration": 0,
    "start_time": "2023-08-16T15:49:22.386Z"
   },
   {
    "duration": 0,
    "start_time": "2023-08-16T15:49:22.388Z"
   },
   {
    "duration": 0,
    "start_time": "2023-08-16T15:49:22.389Z"
   },
   {
    "duration": 2562,
    "start_time": "2023-08-16T15:49:30.696Z"
   },
   {
    "duration": 1706,
    "start_time": "2023-08-16T15:50:14.615Z"
   },
   {
    "duration": 3,
    "start_time": "2023-08-16T15:50:29.685Z"
   },
   {
    "duration": 5681,
    "start_time": "2023-08-16T15:50:31.914Z"
   },
   {
    "duration": 2193,
    "start_time": "2023-08-16T15:51:09.896Z"
   },
   {
    "duration": 448,
    "start_time": "2023-08-16T16:10:23.153Z"
   },
   {
    "duration": 2457,
    "start_time": "2023-08-16T16:10:36.966Z"
   },
   {
    "duration": 718,
    "start_time": "2023-08-16T16:11:10.607Z"
   },
   {
    "duration": 2836,
    "start_time": "2023-08-16T16:11:30.586Z"
   },
   {
    "duration": 293,
    "start_time": "2023-08-16T16:12:47.090Z"
   },
   {
    "duration": 2433,
    "start_time": "2023-08-16T16:14:00.213Z"
   },
   {
    "duration": 1263,
    "start_time": "2023-08-16T18:05:25.725Z"
   },
   {
    "duration": 3,
    "start_time": "2023-08-16T18:05:26.990Z"
   },
   {
    "duration": 381,
    "start_time": "2023-08-16T18:05:26.994Z"
   },
   {
    "duration": 158,
    "start_time": "2023-08-16T18:05:27.377Z"
   },
   {
    "duration": 12,
    "start_time": "2023-08-16T18:05:27.536Z"
   },
   {
    "duration": 16,
    "start_time": "2023-08-16T18:05:27.549Z"
   },
   {
    "duration": 37,
    "start_time": "2023-08-16T18:05:27.567Z"
   },
   {
    "duration": 15,
    "start_time": "2023-08-16T18:05:27.606Z"
   },
   {
    "duration": 27,
    "start_time": "2023-08-16T18:05:27.622Z"
   },
   {
    "duration": 17,
    "start_time": "2023-08-16T18:05:27.652Z"
   },
   {
    "duration": 50,
    "start_time": "2023-08-16T18:05:27.670Z"
   },
   {
    "duration": 11,
    "start_time": "2023-08-16T18:05:27.722Z"
   },
   {
    "duration": 31,
    "start_time": "2023-08-16T18:05:27.734Z"
   },
   {
    "duration": 22,
    "start_time": "2023-08-16T18:05:27.767Z"
   },
   {
    "duration": 27,
    "start_time": "2023-08-16T18:05:27.791Z"
   },
   {
    "duration": 8,
    "start_time": "2023-08-16T18:05:27.820Z"
   },
   {
    "duration": 12,
    "start_time": "2023-08-16T18:05:27.829Z"
   },
   {
    "duration": 11,
    "start_time": "2023-08-16T18:05:27.842Z"
   },
   {
    "duration": 4,
    "start_time": "2023-08-16T18:05:27.855Z"
   },
   {
    "duration": 17,
    "start_time": "2023-08-16T18:05:27.861Z"
   },
   {
    "duration": 39,
    "start_time": "2023-08-16T18:05:27.880Z"
   },
   {
    "duration": 21,
    "start_time": "2023-08-16T18:05:27.920Z"
   },
   {
    "duration": 12,
    "start_time": "2023-08-16T18:05:27.942Z"
   },
   {
    "duration": 10,
    "start_time": "2023-08-16T18:05:27.956Z"
   },
   {
    "duration": 14,
    "start_time": "2023-08-16T18:05:27.967Z"
   },
   {
    "duration": 19,
    "start_time": "2023-08-16T18:05:27.982Z"
   },
   {
    "duration": 16,
    "start_time": "2023-08-16T18:05:28.002Z"
   },
   {
    "duration": 25,
    "start_time": "2023-08-16T18:05:28.021Z"
   },
   {
    "duration": 32,
    "start_time": "2023-08-16T18:05:28.047Z"
   },
   {
    "duration": 10,
    "start_time": "2023-08-16T18:05:28.081Z"
   },
   {
    "duration": 4,
    "start_time": "2023-08-16T18:05:28.093Z"
   },
   {
    "duration": 62,
    "start_time": "2023-08-16T18:05:28.099Z"
   },
   {
    "duration": 847,
    "start_time": "2023-08-16T18:05:28.163Z"
   },
   {
    "duration": 509,
    "start_time": "2023-08-16T18:05:29.012Z"
   },
   {
    "duration": 0,
    "start_time": "2023-08-16T18:05:29.523Z"
   },
   {
    "duration": 0,
    "start_time": "2023-08-16T18:05:29.525Z"
   },
   {
    "duration": 0,
    "start_time": "2023-08-16T18:05:29.526Z"
   },
   {
    "duration": 0,
    "start_time": "2023-08-16T18:05:29.528Z"
   },
   {
    "duration": 0,
    "start_time": "2023-08-16T18:05:29.529Z"
   },
   {
    "duration": 0,
    "start_time": "2023-08-16T18:05:29.531Z"
   },
   {
    "duration": 0,
    "start_time": "2023-08-16T18:05:29.532Z"
   },
   {
    "duration": 673,
    "start_time": "2023-08-16T18:05:50.282Z"
   },
   {
    "duration": 406,
    "start_time": "2023-08-16T18:06:05.841Z"
   },
   {
    "duration": 1131,
    "start_time": "2023-08-16T18:06:19.192Z"
   },
   {
    "duration": 3,
    "start_time": "2023-08-16T18:06:20.324Z"
   },
   {
    "duration": 111,
    "start_time": "2023-08-16T18:06:20.328Z"
   },
   {
    "duration": 146,
    "start_time": "2023-08-16T18:06:21.118Z"
   },
   {
    "duration": 11,
    "start_time": "2023-08-16T18:06:21.719Z"
   },
   {
    "duration": 11,
    "start_time": "2023-08-16T18:06:21.930Z"
   },
   {
    "duration": 15,
    "start_time": "2023-08-16T18:06:22.277Z"
   },
   {
    "duration": 8,
    "start_time": "2023-08-16T18:06:22.607Z"
   },
   {
    "duration": 24,
    "start_time": "2023-08-16T18:06:22.772Z"
   },
   {
    "duration": 17,
    "start_time": "2023-08-16T18:06:22.939Z"
   },
   {
    "duration": 16,
    "start_time": "2023-08-16T18:06:23.094Z"
   },
   {
    "duration": 4,
    "start_time": "2023-08-16T18:06:23.255Z"
   },
   {
    "duration": 4,
    "start_time": "2023-08-16T18:06:23.425Z"
   },
   {
    "duration": 10,
    "start_time": "2023-08-16T18:06:23.606Z"
   },
   {
    "duration": 13,
    "start_time": "2023-08-16T18:06:23.761Z"
   },
   {
    "duration": 10,
    "start_time": "2023-08-16T18:06:23.919Z"
   },
   {
    "duration": 11,
    "start_time": "2023-08-16T18:06:24.101Z"
   },
   {
    "duration": 10,
    "start_time": "2023-08-16T18:06:24.280Z"
   },
   {
    "duration": 5,
    "start_time": "2023-08-16T18:06:24.400Z"
   },
   {
    "duration": 15,
    "start_time": "2023-08-16T18:06:24.597Z"
   },
   {
    "duration": 19,
    "start_time": "2023-08-16T18:06:24.757Z"
   },
   {
    "duration": 13,
    "start_time": "2023-08-16T18:06:24.926Z"
   },
   {
    "duration": 11,
    "start_time": "2023-08-16T18:06:25.114Z"
   },
   {
    "duration": 4,
    "start_time": "2023-08-16T18:06:25.254Z"
   },
   {
    "duration": 7,
    "start_time": "2023-08-16T18:06:25.416Z"
   },
   {
    "duration": 6,
    "start_time": "2023-08-16T18:06:25.765Z"
   },
   {
    "duration": 5,
    "start_time": "2023-08-16T18:06:26.451Z"
   },
   {
    "duration": 5,
    "start_time": "2023-08-16T18:06:26.630Z"
   },
   {
    "duration": 4,
    "start_time": "2023-08-16T18:06:27.035Z"
   },
   {
    "duration": 4,
    "start_time": "2023-08-16T18:06:27.215Z"
   },
   {
    "duration": 3,
    "start_time": "2023-08-16T18:06:27.430Z"
   },
   {
    "duration": 57,
    "start_time": "2023-08-16T18:06:27.619Z"
   },
   {
    "duration": 850,
    "start_time": "2023-08-16T18:06:27.992Z"
   },
   {
    "duration": 518,
    "start_time": "2023-08-16T18:06:28.844Z"
   },
   {
    "duration": 0,
    "start_time": "2023-08-16T18:06:29.363Z"
   },
   {
    "duration": 0,
    "start_time": "2023-08-16T18:06:29.364Z"
   },
   {
    "duration": 453,
    "start_time": "2023-08-16T18:06:32.579Z"
   },
   {
    "duration": 509,
    "start_time": "2023-08-16T18:06:34.956Z"
   },
   {
    "duration": 351,
    "start_time": "2023-08-16T18:06:40.602Z"
   },
   {
    "duration": 630,
    "start_time": "2023-08-16T18:06:43.618Z"
   },
   {
    "duration": 10,
    "start_time": "2023-08-16T18:06:45.178Z"
   },
   {
    "duration": 307,
    "start_time": "2023-08-16T18:06:46.355Z"
   },
   {
    "duration": 316,
    "start_time": "2023-08-16T18:07:00.065Z"
   },
   {
    "duration": 2081,
    "start_time": "2023-08-16T18:07:02.311Z"
   },
   {
    "duration": 2043,
    "start_time": "2023-08-16T18:07:06.051Z"
   },
   {
    "duration": 2677,
    "start_time": "2023-08-16T18:07:19.688Z"
   },
   {
    "duration": 3558,
    "start_time": "2023-08-16T18:07:42.224Z"
   },
   {
    "duration": 2251,
    "start_time": "2023-08-16T18:07:55.759Z"
   },
   {
    "duration": 2585,
    "start_time": "2023-08-16T18:08:01.430Z"
   },
   {
    "duration": 2666,
    "start_time": "2023-08-16T18:08:13.101Z"
   },
   {
    "duration": 1092,
    "start_time": "2023-08-16T18:08:30.003Z"
   },
   {
    "duration": 3,
    "start_time": "2023-08-16T18:08:31.097Z"
   },
   {
    "duration": 175,
    "start_time": "2023-08-16T18:08:31.101Z"
   },
   {
    "duration": 160,
    "start_time": "2023-08-16T18:08:31.279Z"
   },
   {
    "duration": 11,
    "start_time": "2023-08-16T18:08:31.441Z"
   },
   {
    "duration": 45,
    "start_time": "2023-08-16T18:08:31.454Z"
   },
   {
    "duration": 44,
    "start_time": "2023-08-16T18:08:31.500Z"
   },
   {
    "duration": 59,
    "start_time": "2023-08-16T18:08:31.546Z"
   },
   {
    "duration": 53,
    "start_time": "2023-08-16T18:08:31.606Z"
   },
   {
    "duration": 48,
    "start_time": "2023-08-16T18:08:31.661Z"
   },
   {
    "duration": 38,
    "start_time": "2023-08-16T18:08:31.711Z"
   },
   {
    "duration": 19,
    "start_time": "2023-08-16T18:08:31.751Z"
   },
   {
    "duration": 47,
    "start_time": "2023-08-16T18:08:31.772Z"
   },
   {
    "duration": 39,
    "start_time": "2023-08-16T18:08:31.820Z"
   },
   {
    "duration": 29,
    "start_time": "2023-08-16T18:08:31.861Z"
   },
   {
    "duration": 25,
    "start_time": "2023-08-16T18:08:31.891Z"
   },
   {
    "duration": 19,
    "start_time": "2023-08-16T18:08:31.918Z"
   },
   {
    "duration": 15,
    "start_time": "2023-08-16T18:08:31.939Z"
   },
   {
    "duration": 37,
    "start_time": "2023-08-16T18:08:31.956Z"
   },
   {
    "duration": 33,
    "start_time": "2023-08-16T18:08:31.994Z"
   },
   {
    "duration": 24,
    "start_time": "2023-08-16T18:08:32.028Z"
   },
   {
    "duration": 25,
    "start_time": "2023-08-16T18:08:32.054Z"
   },
   {
    "duration": 13,
    "start_time": "2023-08-16T18:08:32.080Z"
   },
   {
    "duration": 30,
    "start_time": "2023-08-16T18:08:32.095Z"
   },
   {
    "duration": 12,
    "start_time": "2023-08-16T18:08:32.126Z"
   },
   {
    "duration": 13,
    "start_time": "2023-08-16T18:08:32.140Z"
   },
   {
    "duration": 30,
    "start_time": "2023-08-16T18:08:32.154Z"
   },
   {
    "duration": 109,
    "start_time": "2023-08-16T18:08:32.188Z"
   },
   {
    "duration": 13,
    "start_time": "2023-08-16T18:08:32.298Z"
   },
   {
    "duration": 27,
    "start_time": "2023-08-16T18:08:32.313Z"
   },
   {
    "duration": 14,
    "start_time": "2023-08-16T18:08:32.342Z"
   },
   {
    "duration": 79,
    "start_time": "2023-08-16T18:08:32.358Z"
   },
   {
    "duration": 864,
    "start_time": "2023-08-16T18:08:32.438Z"
   },
   {
    "duration": 359,
    "start_time": "2023-08-16T18:08:33.304Z"
   },
   {
    "duration": 648,
    "start_time": "2023-08-16T18:08:33.665Z"
   },
   {
    "duration": 9,
    "start_time": "2023-08-16T18:08:34.314Z"
   },
   {
    "duration": 280,
    "start_time": "2023-08-16T18:08:34.324Z"
   },
   {
    "duration": 373,
    "start_time": "2023-08-16T18:08:34.605Z"
   },
   {
    "duration": 2641,
    "start_time": "2023-08-16T18:08:34.980Z"
   },
   {
    "duration": 3,
    "start_time": "2023-08-16T18:08:37.622Z"
   },
   {
    "duration": 2473,
    "start_time": "2023-08-16T18:08:56.774Z"
   },
   {
    "duration": 2444,
    "start_time": "2023-08-16T18:09:06.257Z"
   },
   {
    "duration": 2625,
    "start_time": "2023-08-16T18:09:16.777Z"
   },
   {
    "duration": 2644,
    "start_time": "2023-08-16T18:09:26.060Z"
   },
   {
    "duration": 2584,
    "start_time": "2023-08-16T18:09:40.607Z"
   },
   {
    "duration": 2413,
    "start_time": "2023-08-16T18:09:56.736Z"
   },
   {
    "duration": 2582,
    "start_time": "2023-08-16T18:10:29.552Z"
   },
   {
    "duration": 2455,
    "start_time": "2023-08-16T18:11:22.002Z"
   },
   {
    "duration": 2630,
    "start_time": "2023-08-16T18:11:37.526Z"
   },
   {
    "duration": 2996,
    "start_time": "2023-08-16T18:11:46.712Z"
   },
   {
    "duration": 2320,
    "start_time": "2023-08-16T18:12:19.881Z"
   },
   {
    "duration": 3015,
    "start_time": "2023-08-16T18:12:46.167Z"
   },
   {
    "duration": 3052,
    "start_time": "2023-08-16T18:13:05.557Z"
   },
   {
    "duration": 2991,
    "start_time": "2023-08-16T18:13:23.469Z"
   },
   {
    "duration": 2939,
    "start_time": "2023-08-16T18:13:33.214Z"
   },
   {
    "duration": 3236,
    "start_time": "2023-08-16T18:13:46.229Z"
   },
   {
    "duration": 2038,
    "start_time": "2023-08-16T18:14:06.339Z"
   },
   {
    "duration": 3074,
    "start_time": "2023-08-16T18:15:05.886Z"
   },
   {
    "duration": 3127,
    "start_time": "2023-08-16T18:15:16.269Z"
   },
   {
    "duration": 3088,
    "start_time": "2023-08-16T18:17:41.636Z"
   },
   {
    "duration": 3156,
    "start_time": "2023-08-16T18:18:20.094Z"
   },
   {
    "duration": 3007,
    "start_time": "2023-08-16T18:18:29.397Z"
   },
   {
    "duration": 3166,
    "start_time": "2023-08-16T18:18:42.493Z"
   },
   {
    "duration": 2840,
    "start_time": "2023-08-16T18:18:52.855Z"
   },
   {
    "duration": 2862,
    "start_time": "2023-08-16T18:19:36.370Z"
   },
   {
    "duration": 2592,
    "start_time": "2023-08-16T18:20:04.171Z"
   },
   {
    "duration": 2799,
    "start_time": "2023-08-16T18:20:23.979Z"
   },
   {
    "duration": 2590,
    "start_time": "2023-08-16T18:22:01.661Z"
   },
   {
    "duration": 2792,
    "start_time": "2023-08-16T18:22:10.662Z"
   },
   {
    "duration": 2872,
    "start_time": "2023-08-16T18:22:18.485Z"
   },
   {
    "duration": 2855,
    "start_time": "2023-08-16T18:22:37.612Z"
   },
   {
    "duration": 2661,
    "start_time": "2023-08-16T18:23:08.959Z"
   },
   {
    "duration": 2096,
    "start_time": "2023-08-16T18:23:27.100Z"
   },
   {
    "duration": 2904,
    "start_time": "2023-08-16T18:23:43.705Z"
   },
   {
    "duration": 3049,
    "start_time": "2023-08-16T18:33:17.851Z"
   },
   {
    "duration": 39,
    "start_time": "2023-08-16T18:33:20.902Z"
   },
   {
    "duration": 4149,
    "start_time": "2023-08-16T18:35:22.500Z"
   },
   {
    "duration": 2755,
    "start_time": "2023-08-16T20:12:45.055Z"
   },
   {
    "duration": 3,
    "start_time": "2023-08-16T20:12:57.499Z"
   },
   {
    "duration": 2,
    "start_time": "2023-08-16T20:15:34.994Z"
   },
   {
    "duration": 21,
    "start_time": "2023-08-16T20:15:40.599Z"
   },
   {
    "duration": 2,
    "start_time": "2023-08-16T20:15:52.145Z"
   },
   {
    "duration": 13,
    "start_time": "2023-08-16T20:15:58.181Z"
   },
   {
    "duration": 3,
    "start_time": "2023-08-16T20:16:05.346Z"
   },
   {
    "duration": 13,
    "start_time": "2023-08-16T20:16:06.427Z"
   },
   {
    "duration": 7,
    "start_time": "2023-08-16T20:16:26.022Z"
   },
   {
    "duration": 3,
    "start_time": "2023-08-16T20:16:28.544Z"
   },
   {
    "duration": 3,
    "start_time": "2023-08-16T20:16:33.775Z"
   },
   {
    "duration": 112,
    "start_time": "2023-08-16T20:23:18.518Z"
   },
   {
    "duration": 96,
    "start_time": "2023-08-16T20:23:26.146Z"
   },
   {
    "duration": 93,
    "start_time": "2023-08-16T20:23:59.754Z"
   },
   {
    "duration": 292,
    "start_time": "2023-08-16T20:26:49.038Z"
   },
   {
    "duration": 6,
    "start_time": "2023-08-16T20:27:20.201Z"
   },
   {
    "duration": 5,
    "start_time": "2023-08-16T20:30:30.416Z"
   },
   {
    "duration": 22,
    "start_time": "2023-08-16T20:32:42.371Z"
   },
   {
    "duration": 5,
    "start_time": "2023-08-16T20:33:13.305Z"
   },
   {
    "duration": 3,
    "start_time": "2023-08-16T20:33:20.708Z"
   },
   {
    "duration": 3,
    "start_time": "2023-08-16T20:42:41.277Z"
   },
   {
    "duration": 2276,
    "start_time": "2023-08-16T21:17:13.681Z"
   },
   {
    "duration": 1647,
    "start_time": "2023-08-16T21:17:15.960Z"
   },
   {
    "duration": 3,
    "start_time": "2023-08-16T21:17:17.608Z"
   },
   {
    "duration": 119,
    "start_time": "2023-08-16T21:17:17.612Z"
   },
   {
    "duration": 176,
    "start_time": "2023-08-16T21:17:17.734Z"
   },
   {
    "duration": 10,
    "start_time": "2023-08-16T21:17:17.912Z"
   },
   {
    "duration": 66,
    "start_time": "2023-08-16T21:17:17.924Z"
   },
   {
    "duration": 55,
    "start_time": "2023-08-16T21:17:17.992Z"
   },
   {
    "duration": 32,
    "start_time": "2023-08-16T21:17:18.049Z"
   },
   {
    "duration": 40,
    "start_time": "2023-08-16T21:17:18.082Z"
   },
   {
    "duration": 16,
    "start_time": "2023-08-16T21:17:18.124Z"
   },
   {
    "duration": 43,
    "start_time": "2023-08-16T21:17:18.142Z"
   },
   {
    "duration": 4,
    "start_time": "2023-08-16T21:17:18.191Z"
   },
   {
    "duration": 4,
    "start_time": "2023-08-16T21:17:18.198Z"
   },
   {
    "duration": 24,
    "start_time": "2023-08-16T21:17:18.204Z"
   },
   {
    "duration": 17,
    "start_time": "2023-08-16T21:17:18.230Z"
   },
   {
    "duration": 24,
    "start_time": "2023-08-16T21:17:18.258Z"
   },
   {
    "duration": 15,
    "start_time": "2023-08-16T21:17:18.285Z"
   },
   {
    "duration": 10,
    "start_time": "2023-08-16T21:17:18.301Z"
   },
   {
    "duration": 4,
    "start_time": "2023-08-16T21:17:18.312Z"
   },
   {
    "duration": 35,
    "start_time": "2023-08-16T21:17:18.317Z"
   },
   {
    "duration": 40,
    "start_time": "2023-08-16T21:17:18.356Z"
   },
   {
    "duration": 14,
    "start_time": "2023-08-16T21:17:18.397Z"
   },
   {
    "duration": 14,
    "start_time": "2023-08-16T21:17:18.413Z"
   },
   {
    "duration": 5,
    "start_time": "2023-08-16T21:17:18.428Z"
   },
   {
    "duration": 8,
    "start_time": "2023-08-16T21:17:18.434Z"
   },
   {
    "duration": 23,
    "start_time": "2023-08-16T21:17:18.443Z"
   },
   {
    "duration": 6,
    "start_time": "2023-08-16T21:17:18.467Z"
   },
   {
    "duration": 7,
    "start_time": "2023-08-16T21:17:18.475Z"
   },
   {
    "duration": 8,
    "start_time": "2023-08-16T21:17:18.487Z"
   },
   {
    "duration": 7,
    "start_time": "2023-08-16T21:17:18.496Z"
   },
   {
    "duration": 88,
    "start_time": "2023-08-16T21:17:18.504Z"
   },
   {
    "duration": 1041,
    "start_time": "2023-08-16T21:17:18.595Z"
   },
   {
    "duration": 478,
    "start_time": "2023-08-16T21:17:19.638Z"
   },
   {
    "duration": 742,
    "start_time": "2023-08-16T21:17:20.118Z"
   },
   {
    "duration": 13,
    "start_time": "2023-08-16T21:17:20.864Z"
   },
   {
    "duration": 324,
    "start_time": "2023-08-16T21:17:20.879Z"
   },
   {
    "duration": 4986,
    "start_time": "2023-08-16T21:17:21.205Z"
   },
   {
    "duration": 374,
    "start_time": "2023-08-16T21:17:26.193Z"
   },
   {
    "duration": 2872,
    "start_time": "2023-08-16T21:17:26.568Z"
   },
   {
    "duration": 2,
    "start_time": "2023-08-16T21:17:29.443Z"
   },
   {
    "duration": 32,
    "start_time": "2023-08-16T21:17:29.449Z"
   },
   {
    "duration": 16,
    "start_time": "2023-08-16T21:17:29.482Z"
   },
   {
    "duration": 30,
    "start_time": "2023-08-16T21:17:29.500Z"
   },
   {
    "duration": 28,
    "start_time": "2023-08-16T21:17:29.532Z"
   },
   {
    "duration": 130,
    "start_time": "2023-08-16T21:17:29.561Z"
   },
   {
    "duration": 0,
    "start_time": "2023-08-16T21:17:29.693Z"
   },
   {
    "duration": 0,
    "start_time": "2023-08-16T21:17:29.694Z"
   },
   {
    "duration": 0,
    "start_time": "2023-08-16T21:17:29.696Z"
   },
   {
    "duration": 10,
    "start_time": "2023-08-16T21:17:50.167Z"
   },
   {
    "duration": 8,
    "start_time": "2023-08-16T21:17:52.901Z"
   },
   {
    "duration": 3,
    "start_time": "2023-08-16T21:21:07.695Z"
   },
   {
    "duration": 5,
    "start_time": "2023-08-16T21:28:14.977Z"
   },
   {
    "duration": 7,
    "start_time": "2023-08-16T21:28:16.082Z"
   },
   {
    "duration": 22,
    "start_time": "2023-08-16T21:28:17.245Z"
   },
   {
    "duration": 2,
    "start_time": "2023-08-16T21:30:09.524Z"
   },
   {
    "duration": 3,
    "start_time": "2023-08-16T21:30:09.688Z"
   },
   {
    "duration": 7,
    "start_time": "2023-08-16T21:30:09.860Z"
   },
   {
    "duration": 5,
    "start_time": "2023-08-16T21:30:10.144Z"
   },
   {
    "duration": 2,
    "start_time": "2023-08-16T21:30:10.729Z"
   },
   {
    "duration": 6,
    "start_time": "2023-08-16T21:30:11.546Z"
   },
   {
    "duration": 3,
    "start_time": "2023-08-16T21:30:12.638Z"
   },
   {
    "duration": 34,
    "start_time": "2023-08-16T21:32:11.082Z"
   },
   {
    "duration": 3,
    "start_time": "2023-08-16T21:32:18.383Z"
   },
   {
    "duration": 3,
    "start_time": "2023-08-16T21:32:19.295Z"
   },
   {
    "duration": 119,
    "start_time": "2023-08-16T21:34:28.644Z"
   },
   {
    "duration": 126,
    "start_time": "2023-08-16T21:34:42.526Z"
   },
   {
    "duration": 4,
    "start_time": "2023-08-16T21:34:58.524Z"
   },
   {
    "duration": 129,
    "start_time": "2023-08-16T21:35:03.101Z"
   },
   {
    "duration": 9,
    "start_time": "2023-08-16T21:35:53.171Z"
   },
   {
    "duration": 129,
    "start_time": "2023-08-16T21:35:56.914Z"
   },
   {
    "duration": 5,
    "start_time": "2023-08-16T21:36:07.749Z"
   },
   {
    "duration": 4,
    "start_time": "2023-08-16T21:36:51.580Z"
   },
   {
    "duration": 358,
    "start_time": "2023-08-16T21:36:57.210Z"
   },
   {
    "duration": 13,
    "start_time": "2023-08-16T21:39:39.628Z"
   },
   {
    "duration": 434,
    "start_time": "2023-08-16T21:39:49.950Z"
   },
   {
    "duration": 470,
    "start_time": "2023-08-16T21:40:01.578Z"
   },
   {
    "duration": 4,
    "start_time": "2023-08-16T21:40:43.886Z"
   },
   {
    "duration": 363,
    "start_time": "2023-08-16T21:40:47.646Z"
   },
   {
    "duration": 345,
    "start_time": "2023-08-16T21:41:13.685Z"
   },
   {
    "duration": 359,
    "start_time": "2023-08-16T21:41:35.518Z"
   },
   {
    "duration": 351,
    "start_time": "2023-08-16T21:41:42.997Z"
   },
   {
    "duration": 6,
    "start_time": "2023-08-16T21:42:04.981Z"
   },
   {
    "duration": 197,
    "start_time": "2023-08-16T21:42:09.540Z"
   },
   {
    "duration": 56,
    "start_time": "2023-08-16T21:44:25.849Z"
   },
   {
    "duration": 9,
    "start_time": "2023-08-16T21:44:41.707Z"
   },
   {
    "duration": 11,
    "start_time": "2023-08-16T21:44:51.194Z"
   },
   {
    "duration": 12,
    "start_time": "2023-08-16T21:44:55.474Z"
   },
   {
    "duration": 10,
    "start_time": "2023-08-16T21:44:59.409Z"
   },
   {
    "duration": 132,
    "start_time": "2023-08-16T21:55:13.642Z"
   },
   {
    "duration": 3,
    "start_time": "2023-08-16T21:55:21.245Z"
   },
   {
    "duration": 132,
    "start_time": "2023-08-16T21:57:06.308Z"
   },
   {
    "duration": 3926,
    "start_time": "2023-08-16T21:58:01.109Z"
   },
   {
    "duration": 5,
    "start_time": "2023-08-16T21:58:35.263Z"
   },
   {
    "duration": 4139,
    "start_time": "2023-08-16T21:58:36.182Z"
   },
   {
    "duration": 4,
    "start_time": "2023-08-16T22:00:58.575Z"
   },
   {
    "duration": 124,
    "start_time": "2023-08-16T22:01:31.718Z"
   },
   {
    "duration": 4684,
    "start_time": "2023-08-16T22:01:37.945Z"
   },
   {
    "duration": 4,
    "start_time": "2023-08-16T22:02:56.143Z"
   },
   {
    "duration": 1060,
    "start_time": "2023-08-16T22:03:05.223Z"
   },
   {
    "duration": 4,
    "start_time": "2023-08-16T22:03:56.400Z"
   },
   {
    "duration": 3,
    "start_time": "2023-08-16T22:03:59.811Z"
   },
   {
    "duration": 11422,
    "start_time": "2023-08-16T22:04:00.335Z"
   },
   {
    "duration": 22,
    "start_time": "2023-08-16T22:05:09.437Z"
   },
   {
    "duration": 24,
    "start_time": "2023-08-16T22:05:30.078Z"
   },
   {
    "duration": 34,
    "start_time": "2023-08-16T22:05:51.584Z"
   },
   {
    "duration": 21,
    "start_time": "2023-08-16T22:05:58.973Z"
   },
   {
    "duration": 24,
    "start_time": "2023-08-16T22:06:23.042Z"
   },
   {
    "duration": 30,
    "start_time": "2023-08-16T22:06:54.773Z"
   },
   {
    "duration": 31,
    "start_time": "2023-08-16T22:06:56.173Z"
   },
   {
    "duration": 13,
    "start_time": "2023-08-16T22:07:34.750Z"
   },
   {
    "duration": 26704,
    "start_time": "2023-08-16T22:07:39.924Z"
   },
   {
    "duration": 5,
    "start_time": "2023-08-16T22:08:11.992Z"
   },
   {
    "duration": 5,
    "start_time": "2023-08-16T22:08:15.011Z"
   },
   {
    "duration": 34182,
    "start_time": "2023-08-16T22:08:18.380Z"
   },
   {
    "duration": 4,
    "start_time": "2023-08-16T22:09:45.811Z"
   },
   {
    "duration": 5,
    "start_time": "2023-08-16T22:10:52.994Z"
   },
   {
    "duration": 6977,
    "start_time": "2023-08-16T22:10:58.531Z"
   },
   {
    "duration": 11,
    "start_time": "2023-08-16T22:11:12.885Z"
   },
   {
    "duration": 6,
    "start_time": "2023-08-16T22:11:21.633Z"
   },
   {
    "duration": 36555,
    "start_time": "2023-08-16T22:11:25.736Z"
   },
   {
    "duration": 4,
    "start_time": "2023-08-16T22:12:12.095Z"
   },
   {
    "duration": 3,
    "start_time": "2023-08-16T22:12:52.170Z"
   },
   {
    "duration": 35689,
    "start_time": "2023-08-16T22:12:52.827Z"
   },
   {
    "duration": 3,
    "start_time": "2023-08-16T22:13:53.768Z"
   },
   {
    "duration": 139,
    "start_time": "2023-08-16T22:13:54.028Z"
   },
   {
    "duration": 7,
    "start_time": "2023-08-16T22:14:16.082Z"
   },
   {
    "duration": 28706,
    "start_time": "2023-08-16T22:14:26.636Z"
   },
   {
    "duration": 11,
    "start_time": "2023-08-16T22:15:07.581Z"
   },
   {
    "duration": 29641,
    "start_time": "2023-08-16T22:15:07.784Z"
   },
   {
    "duration": 15,
    "start_time": "2023-08-16T22:15:39.068Z"
   },
   {
    "duration": 7,
    "start_time": "2023-08-16T22:16:31.287Z"
   },
   {
    "duration": 33753,
    "start_time": "2023-08-16T22:16:39.495Z"
   },
   {
    "duration": 12,
    "start_time": "2023-08-16T22:17:13.256Z"
   },
   {
    "duration": 27,
    "start_time": "2023-08-16T22:17:13.271Z"
   },
   {
    "duration": 6,
    "start_time": "2023-08-16T22:17:27.876Z"
   },
   {
    "duration": 3,
    "start_time": "2023-08-16T22:17:30.668Z"
   },
   {
    "duration": 99919,
    "start_time": "2023-08-16T22:17:30.922Z"
   },
   {
    "duration": 3,
    "start_time": "2023-08-16T22:19:10.843Z"
   },
   {
    "duration": 15,
    "start_time": "2023-08-16T22:19:10.848Z"
   },
   {
    "duration": 8458,
    "start_time": "2023-08-16T22:20:09.993Z"
   },
   {
    "duration": 10095,
    "start_time": "2023-08-16T22:20:18.634Z"
   },
   {
    "duration": 12,
    "start_time": "2023-08-16T22:20:47.721Z"
   },
   {
    "duration": 11945,
    "start_time": "2023-08-16T22:20:54.628Z"
   },
   {
    "duration": 15563,
    "start_time": "2023-08-16T22:22:07.382Z"
   },
   {
    "duration": 4,
    "start_time": "2023-08-16T22:22:26.000Z"
   },
   {
    "duration": 3,
    "start_time": "2023-08-16T22:22:33.770Z"
   },
   {
    "duration": 59845,
    "start_time": "2023-08-16T22:22:35.000Z"
   },
   {
    "duration": 8,
    "start_time": "2023-08-16T22:23:34.846Z"
   },
   {
    "duration": 5,
    "start_time": "2023-08-16T22:23:34.855Z"
   },
   {
    "duration": 17811,
    "start_time": "2023-08-16T22:24:22.904Z"
   },
   {
    "duration": 105338,
    "start_time": "2023-08-16T22:24:48.379Z"
   },
   {
    "duration": 4,
    "start_time": "2023-08-16T22:26:57.633Z"
   },
   {
    "duration": 4,
    "start_time": "2023-08-16T22:26:58.918Z"
   },
   {
    "duration": 10,
    "start_time": "2023-08-16T22:27:53.433Z"
   },
   {
    "duration": 23,
    "start_time": "2023-08-16T22:28:57.540Z"
   },
   {
    "duration": 4276,
    "start_time": "2023-08-16T22:29:15.551Z"
   },
   {
    "duration": 4,
    "start_time": "2023-08-16T22:30:14.623Z"
   },
   {
    "duration": 4,
    "start_time": "2023-08-16T22:30:15.341Z"
   },
   {
    "duration": 3955,
    "start_time": "2023-08-16T22:30:22.409Z"
   },
   {
    "duration": 19,
    "start_time": "2023-08-16T22:30:47.277Z"
   },
   {
    "duration": 1941,
    "start_time": "2023-08-16T22:31:06.301Z"
   },
   {
    "duration": 6,
    "start_time": "2023-08-16T22:31:13.002Z"
   },
   {
    "duration": 25,
    "start_time": "2023-08-16T22:31:19.671Z"
   },
   {
    "duration": 6,
    "start_time": "2023-08-16T22:31:22.381Z"
   },
   {
    "duration": 6,
    "start_time": "2023-08-16T22:31:36.593Z"
   },
   {
    "duration": 28,
    "start_time": "2023-08-16T22:31:48.697Z"
   },
   {
    "duration": 7,
    "start_time": "2023-08-16T22:32:03.723Z"
   },
   {
    "duration": 4807,
    "start_time": "2023-08-16T22:33:03.835Z"
   },
   {
    "duration": 29222,
    "start_time": "2023-08-16T22:33:13.333Z"
   },
   {
    "duration": 7,
    "start_time": "2023-08-16T22:33:42.559Z"
   },
   {
    "duration": 14,
    "start_time": "2023-08-16T22:33:42.568Z"
   },
   {
    "duration": 3,
    "start_time": "2023-08-16T22:33:42.589Z"
   },
   {
    "duration": 8,
    "start_time": "2023-08-16T22:33:47.971Z"
   },
   {
    "duration": 16,
    "start_time": "2023-08-16T22:33:55.877Z"
   },
   {
    "duration": 12,
    "start_time": "2023-08-16T22:33:57.863Z"
   },
   {
    "duration": 2781,
    "start_time": "2023-08-16T22:34:01.540Z"
   },
   {
    "duration": 15,
    "start_time": "2023-08-16T22:34:06.602Z"
   },
   {
    "duration": 250176,
    "start_time": "2023-08-16T22:34:17.654Z"
   },
   {
    "duration": 3,
    "start_time": "2023-08-16T22:38:27.832Z"
   },
   {
    "duration": 32,
    "start_time": "2023-08-16T22:38:27.837Z"
   },
   {
    "duration": 6,
    "start_time": "2023-08-16T22:38:27.871Z"
   },
   {
    "duration": 11,
    "start_time": "2023-08-16T22:38:27.878Z"
   },
   {
    "duration": 4,
    "start_time": "2023-08-16T22:38:32.206Z"
   },
   {
    "duration": 4,
    "start_time": "2023-08-16T22:38:32.673Z"
   },
   {
    "duration": 3,
    "start_time": "2023-08-16T22:38:34.225Z"
   },
   {
    "duration": 3,
    "start_time": "2023-08-16T22:38:34.622Z"
   },
   {
    "duration": 9,
    "start_time": "2023-08-16T22:38:48.071Z"
   },
   {
    "duration": 3,
    "start_time": "2023-08-16T22:41:08.661Z"
   },
   {
    "duration": 998,
    "start_time": "2023-08-16T22:41:09.929Z"
   },
   {
    "duration": 13,
    "start_time": "2023-08-16T22:41:13.325Z"
   },
   {
    "duration": 2,
    "start_time": "2023-08-16T22:41:27.481Z"
   },
   {
    "duration": 20031,
    "start_time": "2023-08-16T22:41:37.773Z"
   },
   {
    "duration": 3,
    "start_time": "2023-08-16T22:44:35.538Z"
   },
   {
    "duration": 112580,
    "start_time": "2023-08-16T22:44:36.170Z"
   },
   {
    "duration": 14,
    "start_time": "2023-08-16T22:46:28.758Z"
   },
   {
    "duration": 12,
    "start_time": "2023-08-16T22:46:28.774Z"
   },
   {
    "duration": 19,
    "start_time": "2023-08-16T22:46:28.788Z"
   },
   {
    "duration": 8280,
    "start_time": "2023-08-16T22:46:54.891Z"
   },
   {
    "duration": 4,
    "start_time": "2023-08-16T22:47:05.675Z"
   },
   {
    "duration": 4,
    "start_time": "2023-08-16T22:47:09.115Z"
   },
   {
    "duration": 51330,
    "start_time": "2023-08-16T22:47:09.535Z"
   },
   {
    "duration": 3,
    "start_time": "2023-08-16T22:48:00.867Z"
   },
   {
    "duration": 92,
    "start_time": "2023-08-16T22:48:00.872Z"
   },
   {
    "duration": 36,
    "start_time": "2023-08-16T22:48:00.967Z"
   },
   {
    "duration": 9,
    "start_time": "2023-08-16T22:48:13.091Z"
   },
   {
    "duration": 4,
    "start_time": "2023-08-16T22:48:14.401Z"
   },
   {
    "duration": 3,
    "start_time": "2023-08-16T22:48:23.561Z"
   },
   {
    "duration": 4,
    "start_time": "2023-08-16T22:50:05.611Z"
   },
   {
    "duration": 6,
    "start_time": "2023-08-16T22:50:05.848Z"
   },
   {
    "duration": 923,
    "start_time": "2023-08-16T22:50:14.492Z"
   },
   {
    "duration": 27,
    "start_time": "2023-08-16T22:50:41.545Z"
   },
   {
    "duration": 333742,
    "start_time": "2023-08-16T22:50:49.217Z"
   },
   {
    "duration": 4,
    "start_time": "2023-08-16T22:56:22.960Z"
   },
   {
    "duration": 5,
    "start_time": "2023-08-16T22:56:22.966Z"
   },
   {
    "duration": 757,
    "start_time": "2023-08-16T22:56:22.973Z"
   },
   {
    "duration": 16,
    "start_time": "2023-08-16T22:56:23.732Z"
   },
   {
    "duration": 3,
    "start_time": "2023-08-16T22:56:32.397Z"
   },
   {
    "duration": 7694,
    "start_time": "2023-08-16T22:56:32.967Z"
   },
   {
    "duration": 16,
    "start_time": "2023-08-16T22:56:40.663Z"
   },
   {
    "duration": 2,
    "start_time": "2023-08-16T22:56:54.678Z"
   },
   {
    "duration": 217357,
    "start_time": "2023-08-16T22:56:56.027Z"
   },
   {
    "duration": 4,
    "start_time": "2023-08-16T23:00:33.386Z"
   },
   {
    "duration": 13,
    "start_time": "2023-08-16T23:00:33.391Z"
   },
   {
    "duration": 14992,
    "start_time": "2023-08-16T23:00:33.406Z"
   },
   {
    "duration": 17,
    "start_time": "2023-08-16T23:00:48.400Z"
   },
   {
    "duration": 1382415,
    "start_time": "2023-08-16T23:01:01.097Z"
   },
   {
    "duration": 4,
    "start_time": "2023-08-16T23:24:03.514Z"
   },
   {
    "duration": 26,
    "start_time": "2023-08-16T23:24:03.519Z"
   },
   {
    "duration": 5663,
    "start_time": "2023-08-16T23:24:03.546Z"
   },
   {
    "duration": 17,
    "start_time": "2023-08-16T23:24:09.210Z"
   },
   {
    "duration": 2022,
    "start_time": "2023-08-16T23:55:47.264Z"
   },
   {
    "duration": 1326,
    "start_time": "2023-08-16T23:55:49.288Z"
   },
   {
    "duration": 2,
    "start_time": "2023-08-16T23:55:50.616Z"
   },
   {
    "duration": 99,
    "start_time": "2023-08-16T23:55:50.619Z"
   },
   {
    "duration": 159,
    "start_time": "2023-08-16T23:55:50.720Z"
   },
   {
    "duration": 13,
    "start_time": "2023-08-16T23:55:50.880Z"
   },
   {
    "duration": 14,
    "start_time": "2023-08-16T23:55:50.894Z"
   },
   {
    "duration": 40,
    "start_time": "2023-08-16T23:55:50.910Z"
   },
   {
    "duration": 9,
    "start_time": "2023-08-16T23:55:50.952Z"
   },
   {
    "duration": 38,
    "start_time": "2023-08-16T23:55:50.964Z"
   },
   {
    "duration": 16,
    "start_time": "2023-08-16T23:55:51.004Z"
   },
   {
    "duration": 29,
    "start_time": "2023-08-16T23:55:51.022Z"
   },
   {
    "duration": 23,
    "start_time": "2023-08-16T23:55:51.053Z"
   },
   {
    "duration": 13,
    "start_time": "2023-08-16T23:55:51.077Z"
   },
   {
    "duration": 18,
    "start_time": "2023-08-16T23:55:51.092Z"
   },
   {
    "duration": 15,
    "start_time": "2023-08-16T23:55:51.111Z"
   },
   {
    "duration": 10,
    "start_time": "2023-08-16T23:55:51.127Z"
   },
   {
    "duration": 16,
    "start_time": "2023-08-16T23:55:51.138Z"
   },
   {
    "duration": 10,
    "start_time": "2023-08-16T23:55:51.156Z"
   },
   {
    "duration": 9,
    "start_time": "2023-08-16T23:55:51.167Z"
   },
   {
    "duration": 18,
    "start_time": "2023-08-16T23:55:51.178Z"
   },
   {
    "duration": 30,
    "start_time": "2023-08-16T23:55:51.198Z"
   },
   {
    "duration": 23,
    "start_time": "2023-08-16T23:55:51.230Z"
   },
   {
    "duration": 11,
    "start_time": "2023-08-16T23:55:51.254Z"
   },
   {
    "duration": 3,
    "start_time": "2023-08-16T23:55:51.267Z"
   },
   {
    "duration": 7,
    "start_time": "2023-08-16T23:55:51.272Z"
   },
   {
    "duration": 5,
    "start_time": "2023-08-16T23:55:51.280Z"
   },
   {
    "duration": 6,
    "start_time": "2023-08-16T23:55:51.288Z"
   },
   {
    "duration": 7,
    "start_time": "2023-08-16T23:55:51.296Z"
   },
   {
    "duration": 22,
    "start_time": "2023-08-16T23:55:51.304Z"
   },
   {
    "duration": 14,
    "start_time": "2023-08-16T23:55:51.328Z"
   },
   {
    "duration": 53,
    "start_time": "2023-08-16T23:55:51.343Z"
   },
   {
    "duration": 790,
    "start_time": "2023-08-16T23:55:51.398Z"
   },
   {
    "duration": 404,
    "start_time": "2023-08-16T23:55:52.190Z"
   },
   {
    "duration": 570,
    "start_time": "2023-08-16T23:55:52.596Z"
   },
   {
    "duration": 9,
    "start_time": "2023-08-16T23:55:53.167Z"
   },
   {
    "duration": 281,
    "start_time": "2023-08-16T23:55:53.178Z"
   },
   {
    "duration": 4209,
    "start_time": "2023-08-16T23:55:53.461Z"
   },
   {
    "duration": 312,
    "start_time": "2023-08-16T23:55:57.671Z"
   },
   {
    "duration": 2561,
    "start_time": "2023-08-16T23:55:57.984Z"
   },
   {
    "duration": 4,
    "start_time": "2023-08-16T23:56:00.546Z"
   },
   {
    "duration": 78,
    "start_time": "2023-08-16T23:56:00.551Z"
   },
   {
    "duration": 68,
    "start_time": "2023-08-16T23:56:00.631Z"
   },
   {
    "duration": 49,
    "start_time": "2023-08-16T23:56:00.700Z"
   },
   {
    "duration": 37,
    "start_time": "2023-08-16T23:56:00.751Z"
   },
   {
    "duration": 88,
    "start_time": "2023-08-16T23:56:00.790Z"
   },
   {
    "duration": 63,
    "start_time": "2023-08-16T23:56:00.880Z"
   },
   {
    "duration": 123,
    "start_time": "2023-08-16T23:56:00.945Z"
   },
   {
    "duration": 82,
    "start_time": "2023-08-16T23:56:01.069Z"
   },
   {
    "duration": 74,
    "start_time": "2023-08-16T23:56:01.153Z"
   },
   {
    "duration": 49,
    "start_time": "2023-08-16T23:56:01.228Z"
   },
   {
    "duration": 73,
    "start_time": "2023-08-16T23:56:01.278Z"
   },
   {
    "duration": 32,
    "start_time": "2023-08-16T23:56:01.353Z"
   },
   {
    "duration": 40,
    "start_time": "2023-08-16T23:56:01.386Z"
   },
   {
    "duration": 45,
    "start_time": "2023-08-16T23:56:01.427Z"
   },
   {
    "duration": 466926,
    "start_time": "2023-08-16T23:56:01.473Z"
   },
   {
    "duration": 3,
    "start_time": "2023-08-17T00:03:48.401Z"
   },
   {
    "duration": 9,
    "start_time": "2023-08-17T00:03:48.405Z"
   },
   {
    "duration": 1070,
    "start_time": "2023-08-17T00:03:48.415Z"
   },
   {
    "duration": 13,
    "start_time": "2023-08-17T00:03:49.487Z"
   },
   {
    "duration": 4,
    "start_time": "2023-08-17T00:03:49.501Z"
   },
   {
    "duration": 9046,
    "start_time": "2023-08-17T00:03:49.507Z"
   },
   {
    "duration": 16,
    "start_time": "2023-08-17T00:03:58.555Z"
   },
   {
    "duration": 3176,
    "start_time": "2023-08-17T08:01:34.647Z"
   },
   {
    "duration": 2157,
    "start_time": "2023-08-17T08:01:37.825Z"
   },
   {
    "duration": 3,
    "start_time": "2023-08-17T08:01:39.984Z"
   },
   {
    "duration": 367,
    "start_time": "2023-08-17T08:01:39.989Z"
   },
   {
    "duration": 173,
    "start_time": "2023-08-17T08:01:40.358Z"
   },
   {
    "duration": 38,
    "start_time": "2023-08-17T08:01:40.532Z"
   },
   {
    "duration": 11,
    "start_time": "2023-08-17T08:01:40.572Z"
   },
   {
    "duration": 36,
    "start_time": "2023-08-17T08:01:40.585Z"
   },
   {
    "duration": 16,
    "start_time": "2023-08-17T08:01:40.622Z"
   },
   {
    "duration": 47,
    "start_time": "2023-08-17T08:01:40.641Z"
   },
   {
    "duration": 20,
    "start_time": "2023-08-17T08:01:40.690Z"
   },
   {
    "duration": 23,
    "start_time": "2023-08-17T08:01:40.712Z"
   },
   {
    "duration": 15,
    "start_time": "2023-08-17T08:01:40.736Z"
   },
   {
    "duration": 15,
    "start_time": "2023-08-17T08:01:40.753Z"
   },
   {
    "duration": 19,
    "start_time": "2023-08-17T08:01:40.769Z"
   },
   {
    "duration": 45,
    "start_time": "2023-08-17T08:01:40.790Z"
   },
   {
    "duration": 12,
    "start_time": "2023-08-17T08:01:40.837Z"
   },
   {
    "duration": 16,
    "start_time": "2023-08-17T08:01:40.851Z"
   },
   {
    "duration": 12,
    "start_time": "2023-08-17T08:01:40.869Z"
   },
   {
    "duration": 27,
    "start_time": "2023-08-17T08:01:40.882Z"
   },
   {
    "duration": 24,
    "start_time": "2023-08-17T08:01:40.911Z"
   },
   {
    "duration": 24,
    "start_time": "2023-08-17T08:01:40.937Z"
   },
   {
    "duration": 42,
    "start_time": "2023-08-17T08:01:40.962Z"
   },
   {
    "duration": 22,
    "start_time": "2023-08-17T08:01:41.006Z"
   },
   {
    "duration": 27,
    "start_time": "2023-08-17T08:01:41.030Z"
   },
   {
    "duration": 28,
    "start_time": "2023-08-17T08:01:41.059Z"
   },
   {
    "duration": 19,
    "start_time": "2023-08-17T08:01:41.090Z"
   },
   {
    "duration": 41,
    "start_time": "2023-08-17T08:01:41.113Z"
   },
   {
    "duration": 66,
    "start_time": "2023-08-17T08:01:41.156Z"
   },
   {
    "duration": 12,
    "start_time": "2023-08-17T08:01:41.224Z"
   },
   {
    "duration": 8,
    "start_time": "2023-08-17T08:01:41.238Z"
   },
   {
    "duration": 81,
    "start_time": "2023-08-17T08:01:41.247Z"
   },
   {
    "duration": 1080,
    "start_time": "2023-08-17T08:01:41.329Z"
   },
   {
    "duration": 410,
    "start_time": "2023-08-17T08:01:42.412Z"
   },
   {
    "duration": 795,
    "start_time": "2023-08-17T08:01:42.824Z"
   },
   {
    "duration": 15,
    "start_time": "2023-08-17T08:01:43.621Z"
   },
   {
    "duration": 416,
    "start_time": "2023-08-17T08:01:43.638Z"
   },
   {
    "duration": 5154,
    "start_time": "2023-08-17T08:01:44.056Z"
   },
   {
    "duration": 373,
    "start_time": "2023-08-17T08:01:49.212Z"
   },
   {
    "duration": 2972,
    "start_time": "2023-08-17T08:01:49.587Z"
   },
   {
    "duration": 6,
    "start_time": "2023-08-17T08:01:52.561Z"
   },
   {
    "duration": 15,
    "start_time": "2023-08-17T08:01:52.569Z"
   },
   {
    "duration": 19,
    "start_time": "2023-08-17T08:01:52.586Z"
   },
   {
    "duration": 19,
    "start_time": "2023-08-17T08:01:52.606Z"
   },
   {
    "duration": 14,
    "start_time": "2023-08-17T08:01:52.627Z"
   },
   {
    "duration": 18,
    "start_time": "2023-08-17T08:01:52.642Z"
   },
   {
    "duration": 7,
    "start_time": "2023-08-17T08:01:52.662Z"
   },
   {
    "duration": 33,
    "start_time": "2023-08-17T08:01:52.671Z"
   },
   {
    "duration": 20,
    "start_time": "2023-08-17T08:01:52.705Z"
   },
   {
    "duration": 48,
    "start_time": "2023-08-17T08:01:52.727Z"
   },
   {
    "duration": 2,
    "start_time": "2023-08-17T08:01:52.777Z"
   },
   {
    "duration": 45,
    "start_time": "2023-08-17T08:01:52.781Z"
   },
   {
    "duration": 12,
    "start_time": "2023-08-17T08:01:52.828Z"
   },
   {
    "duration": 36,
    "start_time": "2023-08-17T08:01:52.843Z"
   },
   {
    "duration": 26,
    "start_time": "2023-08-17T08:01:52.881Z"
   },
   {
    "duration": 5796243,
    "start_time": "2023-08-17T08:01:52.909Z"
   },
   {
    "duration": 5,
    "start_time": "2023-08-17T09:38:29.155Z"
   },
   {
    "duration": 9,
    "start_time": "2023-08-17T09:38:29.162Z"
   },
   {
    "duration": 7329,
    "start_time": "2023-08-17T09:38:29.173Z"
   },
   {
    "duration": 23,
    "start_time": "2023-08-17T09:38:36.504Z"
   },
   {
    "duration": 14,
    "start_time": "2023-08-17T09:38:36.529Z"
   },
   {
    "duration": 9092,
    "start_time": "2023-08-17T09:38:36.545Z"
   },
   {
    "duration": 19,
    "start_time": "2023-08-17T09:38:45.639Z"
   },
   {
    "duration": 5,
    "start_time": "2023-08-17T09:52:35.780Z"
   },
   {
    "duration": 132,
    "start_time": "2023-08-17T10:25:16.131Z"
   },
   {
    "duration": 36,
    "start_time": "2023-08-17T10:25:58.656Z"
   },
   {
    "duration": 14,
    "start_time": "2023-08-17T10:27:34.938Z"
   },
   {
    "duration": 12,
    "start_time": "2023-08-17T10:27:49.991Z"
   },
   {
    "duration": 16,
    "start_time": "2023-08-17T10:27:59.782Z"
   },
   {
    "duration": 40,
    "start_time": "2023-08-17T10:29:17.144Z"
   },
   {
    "duration": 5,
    "start_time": "2023-08-17T10:29:35.187Z"
   },
   {
    "duration": 3,
    "start_time": "2023-08-17T10:29:42.261Z"
   },
   {
    "duration": 21,
    "start_time": "2023-08-17T10:29:47.997Z"
   },
   {
    "duration": 18,
    "start_time": "2023-08-17T10:29:53.902Z"
   },
   {
    "duration": 27,
    "start_time": "2023-08-17T10:29:56.579Z"
   },
   {
    "duration": 6,
    "start_time": "2023-08-17T10:30:34.582Z"
   },
   {
    "duration": 3,
    "start_time": "2023-08-17T10:30:39.942Z"
   },
   {
    "duration": 22,
    "start_time": "2023-08-17T10:30:42.820Z"
   },
   {
    "duration": 34,
    "start_time": "2023-08-17T10:30:59.549Z"
   },
   {
    "duration": 8289,
    "start_time": "2023-08-17T10:31:01.998Z"
   },
   {
    "duration": 30,
    "start_time": "2023-08-17T10:31:10.289Z"
   },
   {
    "duration": 7435,
    "start_time": "2023-08-17T10:32:14.353Z"
   },
   {
    "duration": 31,
    "start_time": "2023-08-17T10:32:21.791Z"
   },
   {
    "duration": 20,
    "start_time": "2023-08-17T10:33:53.329Z"
   },
   {
    "duration": 3,
    "start_time": "2023-08-17T10:34:51.286Z"
   },
   {
    "duration": 15,
    "start_time": "2023-08-17T10:34:51.682Z"
   },
   {
    "duration": 7941,
    "start_time": "2023-08-17T10:34:53.243Z"
   },
   {
    "duration": 35,
    "start_time": "2023-08-17T10:35:01.963Z"
   },
   {
    "duration": 6327855,
    "start_time": "2023-08-17T10:35:09.969Z"
   },
   {
    "duration": 5,
    "start_time": "2023-08-17T12:20:37.826Z"
   },
   {
    "duration": 8,
    "start_time": "2023-08-17T12:20:37.833Z"
   },
   {
    "duration": 11,
    "start_time": "2023-08-17T12:20:37.843Z"
   },
   {
    "duration": 8130,
    "start_time": "2023-08-17T12:20:37.856Z"
   },
   {
    "duration": 30,
    "start_time": "2023-08-17T12:20:45.989Z"
   },
   {
    "duration": 6547,
    "start_time": "2023-08-18T11:10:17.616Z"
   },
   {
    "duration": 2210,
    "start_time": "2023-08-18T11:10:24.165Z"
   },
   {
    "duration": 169,
    "start_time": "2023-08-18T11:10:59.397Z"
   },
   {
    "duration": 20828,
    "start_time": "2023-08-18T11:11:12.255Z"
   },
   {
    "duration": 43,
    "start_time": "2023-08-18T11:11:33.401Z"
   },
   {
    "duration": 18,
    "start_time": "2023-08-18T11:11:52.109Z"
   },
   {
    "duration": 7866,
    "start_time": "2023-08-18T11:12:32.339Z"
   },
   {
    "duration": 32,
    "start_time": "2023-08-18T11:12:46.524Z"
   },
   {
    "duration": 6,
    "start_time": "2023-08-18T11:12:51.905Z"
   },
   {
    "duration": 3,
    "start_time": "2023-08-18T11:12:53.563Z"
   },
   {
    "duration": 443,
    "start_time": "2023-08-18T11:12:54.941Z"
   },
   {
    "duration": 232,
    "start_time": "2023-08-18T11:12:56.062Z"
   },
   {
    "duration": 19,
    "start_time": "2023-08-18T11:12:57.045Z"
   },
   {
    "duration": 11,
    "start_time": "2023-08-18T11:12:57.552Z"
   },
   {
    "duration": 31,
    "start_time": "2023-08-18T11:13:00.818Z"
   },
   {
    "duration": 12,
    "start_time": "2023-08-18T11:13:01.646Z"
   },
   {
    "duration": 29,
    "start_time": "2023-08-18T11:13:01.855Z"
   },
   {
    "duration": 17,
    "start_time": "2023-08-18T11:13:02.189Z"
   },
   {
    "duration": 36,
    "start_time": "2023-08-18T11:13:02.837Z"
   },
   {
    "duration": 10,
    "start_time": "2023-08-18T11:13:03.145Z"
   },
   {
    "duration": 8,
    "start_time": "2023-08-18T11:13:03.348Z"
   },
   {
    "duration": 12,
    "start_time": "2023-08-18T11:13:03.554Z"
   },
   {
    "duration": 20,
    "start_time": "2023-08-18T11:13:03.743Z"
   },
   {
    "duration": 14,
    "start_time": "2023-08-18T11:13:04.347Z"
   },
   {
    "duration": 14,
    "start_time": "2023-08-18T11:13:04.667Z"
   },
   {
    "duration": 27,
    "start_time": "2023-08-18T11:13:04.917Z"
   },
   {
    "duration": 10,
    "start_time": "2023-08-18T11:13:05.137Z"
   },
   {
    "duration": 17,
    "start_time": "2023-08-18T11:13:05.354Z"
   },
   {
    "duration": 21,
    "start_time": "2023-08-18T11:13:05.553Z"
   },
   {
    "duration": 22,
    "start_time": "2023-08-18T11:13:05.752Z"
   },
   {
    "duration": 23,
    "start_time": "2023-08-18T11:13:05.948Z"
   },
   {
    "duration": 4,
    "start_time": "2023-08-18T11:13:06.164Z"
   },
   {
    "duration": 7,
    "start_time": "2023-08-18T11:13:06.357Z"
   },
   {
    "duration": 15,
    "start_time": "2023-08-18T11:13:07.520Z"
   },
   {
    "duration": 7,
    "start_time": "2023-08-18T11:13:32.962Z"
   },
   {
    "duration": 4,
    "start_time": "2023-08-18T11:13:33.706Z"
   },
   {
    "duration": 5,
    "start_time": "2023-08-18T11:13:36.101Z"
   },
   {
    "duration": 3,
    "start_time": "2023-08-18T11:13:36.572Z"
   },
   {
    "duration": 75,
    "start_time": "2023-08-18T11:13:37.093Z"
   },
   {
    "duration": 1240,
    "start_time": "2023-08-18T11:13:38.142Z"
   },
   {
    "duration": 449,
    "start_time": "2023-08-18T11:13:39.384Z"
   },
   {
    "duration": 768,
    "start_time": "2023-08-18T11:13:39.838Z"
   },
   {
    "duration": 33,
    "start_time": "2023-08-18T11:13:40.608Z"
   },
   {
    "duration": 328,
    "start_time": "2023-08-18T11:13:40.744Z"
   },
   {
    "duration": 5792,
    "start_time": "2023-08-18T11:13:41.740Z"
   },
   {
    "duration": 413,
    "start_time": "2023-08-18T11:13:49.472Z"
   },
   {
    "duration": 3784,
    "start_time": "2023-08-18T11:13:50.646Z"
   },
   {
    "duration": 3,
    "start_time": "2023-08-18T11:13:58.412Z"
   },
   {
    "duration": 4,
    "start_time": "2023-08-18T11:14:08.805Z"
   },
   {
    "duration": 16,
    "start_time": "2023-08-18T11:14:09.321Z"
   },
   {
    "duration": 5,
    "start_time": "2023-08-18T11:14:17.397Z"
   },
   {
    "duration": 7,
    "start_time": "2023-08-18T11:14:17.861Z"
   },
   {
    "duration": 7,
    "start_time": "2023-08-18T11:14:24.502Z"
   },
   {
    "duration": 10,
    "start_time": "2023-08-18T11:14:25.305Z"
   },
   {
    "duration": 4,
    "start_time": "2023-08-18T11:14:26.310Z"
   },
   {
    "duration": 19,
    "start_time": "2023-08-18T11:14:26.649Z"
   },
   {
    "duration": 48,
    "start_time": "2023-08-18T11:14:32.949Z"
   },
   {
    "duration": 6,
    "start_time": "2023-08-18T11:14:59.953Z"
   },
   {
    "duration": 126,
    "start_time": "2023-08-18T11:15:58.594Z"
   },
   {
    "duration": 13,
    "start_time": "2023-08-18T11:16:08.709Z"
   },
   {
    "duration": 11847,
    "start_time": "2023-08-18T11:16:09.150Z"
   },
   {
    "duration": 47,
    "start_time": "2023-08-18T11:16:20.999Z"
   },
   {
    "duration": 7,
    "start_time": "2023-08-18T11:17:07.250Z"
   },
   {
    "duration": 6,
    "start_time": "2023-08-18T11:17:09.951Z"
   },
   {
    "duration": 11658,
    "start_time": "2023-08-18T11:17:10.210Z"
   },
   {
    "duration": 33,
    "start_time": "2023-08-18T11:17:21.870Z"
   },
   {
    "duration": 11,
    "start_time": "2023-08-18T11:17:23.353Z"
   },
   {
    "duration": 8759,
    "start_time": "2023-08-18T11:17:23.709Z"
   },
   {
    "duration": 50,
    "start_time": "2023-08-18T11:17:32.471Z"
   },
   {
    "duration": 21,
    "start_time": "2023-08-18T11:18:17.124Z"
   },
   {
    "duration": 4,
    "start_time": "2023-08-18T11:19:02.672Z"
   },
   {
    "duration": 8,
    "start_time": "2023-08-18T11:19:05.048Z"
   },
   {
    "duration": 34,
    "start_time": "2023-08-18T11:19:06.417Z"
   },
   {
    "duration": 5,
    "start_time": "2023-08-18T11:21:53.912Z"
   },
   {
    "duration": 9,
    "start_time": "2023-08-18T11:22:00.225Z"
   },
   {
    "duration": 6,
    "start_time": "2023-08-18T11:22:01.446Z"
   },
   {
    "duration": 14423,
    "start_time": "2023-08-18T11:22:02.050Z"
   },
   {
    "duration": 5255,
    "start_time": "2023-08-18T11:22:16.475Z"
   },
   {
    "duration": 64,
    "start_time": "2023-08-18T11:22:26.184Z"
   },
   {
    "duration": 5,
    "start_time": "2023-08-18T11:22:44.197Z"
   },
   {
    "duration": 17,
    "start_time": "2023-08-18T11:22:44.847Z"
   },
   {
    "duration": 6,
    "start_time": "2023-08-18T11:22:45.305Z"
   },
   {
    "duration": 16517,
    "start_time": "2023-08-18T11:22:47.444Z"
   },
   {
    "duration": 70,
    "start_time": "2023-08-18T11:23:03.968Z"
   },
   {
    "duration": 6,
    "start_time": "2023-08-18T11:23:06.706Z"
   },
   {
    "duration": 10,
    "start_time": "2023-08-18T11:23:06.967Z"
   },
   {
    "duration": 4,
    "start_time": "2023-08-18T11:23:07.448Z"
   },
   {
    "duration": 14226,
    "start_time": "2023-08-18T11:23:08.370Z"
   },
   {
    "duration": 64,
    "start_time": "2023-08-18T11:23:22.599Z"
   },
   {
    "duration": 4,
    "start_time": "2023-08-18T11:23:23.675Z"
   },
   {
    "duration": 4,
    "start_time": "2023-08-18T11:24:29.362Z"
   },
   {
    "duration": 6,
    "start_time": "2023-08-18T11:24:33.953Z"
   },
   {
    "duration": 3,
    "start_time": "2023-08-18T11:24:34.773Z"
   },
   {
    "duration": 11518,
    "start_time": "2023-08-18T11:24:35.902Z"
   },
   {
    "duration": 48,
    "start_time": "2023-08-18T11:24:47.423Z"
   },
   {
    "duration": 4,
    "start_time": "2023-08-18T11:24:49.401Z"
   },
   {
    "duration": 3,
    "start_time": "2023-08-18T11:24:50.206Z"
   },
   {
    "duration": 12051,
    "start_time": "2023-08-18T11:24:51.206Z"
   },
   {
    "duration": 42,
    "start_time": "2023-08-18T11:25:03.259Z"
   },
   {
    "duration": 8085,
    "start_time": "2023-08-18T11:26:04.425Z"
   },
   {
    "duration": 12,
    "start_time": "2023-08-18T11:26:12.514Z"
   },
   {
    "duration": 34,
    "start_time": "2023-08-18T11:26:12.531Z"
   },
   {
    "duration": 122,
    "start_time": "2023-08-18T11:26:12.567Z"
   },
   {
    "duration": 208,
    "start_time": "2023-08-18T11:26:12.690Z"
   },
   {
    "duration": 18,
    "start_time": "2023-08-18T11:26:12.901Z"
   },
   {
    "duration": 33,
    "start_time": "2023-08-18T11:26:12.930Z"
   },
   {
    "duration": 29,
    "start_time": "2023-08-18T11:26:12.966Z"
   },
   {
    "duration": 10,
    "start_time": "2023-08-18T11:26:12.997Z"
   },
   {
    "duration": 62,
    "start_time": "2023-08-18T11:26:13.010Z"
   },
   {
    "duration": 19,
    "start_time": "2023-08-18T11:26:13.075Z"
   },
   {
    "duration": 28,
    "start_time": "2023-08-18T11:26:13.096Z"
   },
   {
    "duration": 8,
    "start_time": "2023-08-18T11:26:13.126Z"
   },
   {
    "duration": 9,
    "start_time": "2023-08-18T11:26:13.136Z"
   },
   {
    "duration": 19,
    "start_time": "2023-08-18T11:26:13.147Z"
   },
   {
    "duration": 19,
    "start_time": "2023-08-18T11:26:13.168Z"
   },
   {
    "duration": 40,
    "start_time": "2023-08-18T11:26:13.189Z"
   },
   {
    "duration": 19,
    "start_time": "2023-08-18T11:26:13.231Z"
   },
   {
    "duration": 16,
    "start_time": "2023-08-18T11:26:13.252Z"
   },
   {
    "duration": 6,
    "start_time": "2023-08-18T11:26:13.271Z"
   },
   {
    "duration": 67,
    "start_time": "2023-08-18T11:26:13.279Z"
   },
   {
    "duration": 34,
    "start_time": "2023-08-18T11:26:13.348Z"
   },
   {
    "duration": 15,
    "start_time": "2023-08-18T11:26:13.385Z"
   },
   {
    "duration": 39,
    "start_time": "2023-08-18T11:26:13.402Z"
   },
   {
    "duration": 9,
    "start_time": "2023-08-18T11:26:13.443Z"
   },
   {
    "duration": 13,
    "start_time": "2023-08-18T11:26:13.453Z"
   },
   {
    "duration": 8,
    "start_time": "2023-08-18T11:26:13.469Z"
   },
   {
    "duration": 6,
    "start_time": "2023-08-18T11:26:13.483Z"
   },
   {
    "duration": 7,
    "start_time": "2023-08-18T11:26:13.492Z"
   },
   {
    "duration": 33,
    "start_time": "2023-08-18T11:26:13.501Z"
   },
   {
    "duration": 108,
    "start_time": "2023-08-18T11:26:13.541Z"
   },
   {
    "duration": 1058,
    "start_time": "2023-08-18T11:26:13.651Z"
   },
   {
    "duration": 477,
    "start_time": "2023-08-18T11:26:14.711Z"
   },
   {
    "duration": 986,
    "start_time": "2023-08-18T11:26:15.190Z"
   },
   {
    "duration": 12,
    "start_time": "2023-08-18T11:26:16.177Z"
   },
   {
    "duration": 413,
    "start_time": "2023-08-18T11:26:16.191Z"
   },
   {
    "duration": 5846,
    "start_time": "2023-08-18T11:26:16.606Z"
   },
   {
    "duration": 430,
    "start_time": "2023-08-18T11:26:22.455Z"
   },
   {
    "duration": 3779,
    "start_time": "2023-08-18T11:26:22.887Z"
   },
   {
    "duration": 4,
    "start_time": "2023-08-18T11:26:26.673Z"
   },
   {
    "duration": 64,
    "start_time": "2023-08-18T11:26:26.679Z"
   },
   {
    "duration": 87,
    "start_time": "2023-08-18T11:26:26.751Z"
   },
   {
    "duration": 20,
    "start_time": "2023-08-18T11:26:26.841Z"
   },
   {
    "duration": 5,
    "start_time": "2023-08-18T11:26:26.863Z"
   },
   {
    "duration": 8,
    "start_time": "2023-08-18T11:26:26.870Z"
   },
   {
    "duration": 8,
    "start_time": "2023-08-18T11:26:26.880Z"
   },
   {
    "duration": 14,
    "start_time": "2023-08-18T11:26:26.891Z"
   },
   {
    "duration": 19,
    "start_time": "2023-08-18T11:26:26.908Z"
   },
   {
    "duration": 47,
    "start_time": "2023-08-18T11:26:26.938Z"
   },
   {
    "duration": 4,
    "start_time": "2023-08-18T11:26:26.987Z"
   },
   {
    "duration": 7,
    "start_time": "2023-08-18T11:26:26.993Z"
   },
   {
    "duration": 4,
    "start_time": "2023-08-18T11:26:27.002Z"
   },
   {
    "duration": 24,
    "start_time": "2023-08-18T11:26:27.008Z"
   },
   {
    "duration": 16,
    "start_time": "2023-08-18T11:26:27.033Z"
   },
   {
    "duration": 4,
    "start_time": "2023-08-18T11:26:27.060Z"
   },
   {
    "duration": 11427,
    "start_time": "2023-08-18T11:26:27.066Z"
   },
   {
    "duration": 43,
    "start_time": "2023-08-18T11:26:38.495Z"
   },
   {
    "duration": 10,
    "start_time": "2023-08-18T11:26:38.544Z"
   },
   {
    "duration": 8,
    "start_time": "2023-08-18T11:26:38.562Z"
   },
   {
    "duration": 11201,
    "start_time": "2023-08-18T11:26:38.573Z"
   },
   {
    "duration": 31,
    "start_time": "2023-08-18T11:26:49.776Z"
   },
   {
    "duration": 43,
    "start_time": "2023-08-18T11:27:54.118Z"
   },
   {
    "duration": 35,
    "start_time": "2023-08-18T11:27:54.652Z"
   },
   {
    "duration": 28,
    "start_time": "2023-08-18T11:27:55.271Z"
   },
   {
    "duration": 6,
    "start_time": "2023-08-18T11:28:01.672Z"
   },
   {
    "duration": 7,
    "start_time": "2023-08-18T11:28:09.794Z"
   },
   {
    "duration": 20,
    "start_time": "2023-08-18T11:28:25.773Z"
   },
   {
    "duration": 27,
    "start_time": "2023-08-18T11:28:31.417Z"
   },
   {
    "duration": 39,
    "start_time": "2023-08-18T11:29:32.349Z"
   },
   {
    "duration": 12,
    "start_time": "2023-08-18T11:29:32.675Z"
   },
   {
    "duration": 16,
    "start_time": "2023-08-18T11:29:33.002Z"
   },
   {
    "duration": 13,
    "start_time": "2023-08-18T11:29:37.672Z"
   },
   {
    "duration": 7,
    "start_time": "2023-08-18T11:30:08.468Z"
   },
   {
    "duration": 34,
    "start_time": "2023-08-18T11:30:08.849Z"
   },
   {
    "duration": 23,
    "start_time": "2023-08-18T11:30:13.395Z"
   },
   {
    "duration": 9,
    "start_time": "2023-08-18T11:30:41.153Z"
   },
   {
    "duration": 10,
    "start_time": "2023-08-18T11:30:50.647Z"
   },
   {
    "duration": 6,
    "start_time": "2023-08-18T11:30:57.159Z"
   },
   {
    "duration": 9559,
    "start_time": "2023-08-18T11:31:14.152Z"
   },
   {
    "duration": 1726,
    "start_time": "2023-08-18T11:31:23.714Z"
   },
   {
    "duration": 4,
    "start_time": "2023-08-18T11:31:25.442Z"
   },
   {
    "duration": 143,
    "start_time": "2023-08-18T11:31:25.448Z"
   },
   {
    "duration": 289,
    "start_time": "2023-08-18T11:31:25.594Z"
   },
   {
    "duration": 19,
    "start_time": "2023-08-18T11:31:25.886Z"
   },
   {
    "duration": 33,
    "start_time": "2023-08-18T11:31:25.909Z"
   },
   {
    "duration": 40,
    "start_time": "2023-08-18T11:31:25.945Z"
   },
   {
    "duration": 13,
    "start_time": "2023-08-18T11:31:25.987Z"
   },
   {
    "duration": 44,
    "start_time": "2023-08-18T11:31:26.004Z"
   },
   {
    "duration": 30,
    "start_time": "2023-08-18T11:31:26.050Z"
   },
   {
    "duration": 32,
    "start_time": "2023-08-18T11:31:26.084Z"
   },
   {
    "duration": 8,
    "start_time": "2023-08-18T11:31:26.130Z"
   },
   {
    "duration": 8,
    "start_time": "2023-08-18T11:31:26.142Z"
   },
   {
    "duration": 21,
    "start_time": "2023-08-18T11:31:26.155Z"
   },
   {
    "duration": 26,
    "start_time": "2023-08-18T11:31:26.178Z"
   },
   {
    "duration": 30,
    "start_time": "2023-08-18T11:31:26.207Z"
   },
   {
    "duration": 26,
    "start_time": "2023-08-18T11:31:26.244Z"
   },
   {
    "duration": 17,
    "start_time": "2023-08-18T11:31:26.276Z"
   },
   {
    "duration": 10,
    "start_time": "2023-08-18T11:31:26.296Z"
   },
   {
    "duration": 60,
    "start_time": "2023-08-18T11:31:26.309Z"
   },
   {
    "duration": 30,
    "start_time": "2023-08-18T11:31:26.372Z"
   },
   {
    "duration": 7,
    "start_time": "2023-08-18T11:32:14.707Z"
   },
   {
    "duration": 9,
    "start_time": "2023-08-18T11:32:21.308Z"
   },
   {
    "duration": 7,
    "start_time": "2023-08-18T11:36:45.009Z"
   },
   {
    "duration": 8,
    "start_time": "2023-08-18T11:37:36.296Z"
   },
   {
    "duration": 29,
    "start_time": "2023-08-18T11:37:41.144Z"
   },
   {
    "duration": 21,
    "start_time": "2023-08-18T11:37:59.308Z"
   },
   {
    "duration": 24,
    "start_time": "2023-08-18T11:38:07.218Z"
   },
   {
    "duration": 39,
    "start_time": "2023-08-18T11:38:56.366Z"
   },
   {
    "duration": 41,
    "start_time": "2023-08-18T11:39:11.631Z"
   },
   {
    "duration": 17,
    "start_time": "2023-08-18T11:39:20.967Z"
   },
   {
    "duration": 64,
    "start_time": "2023-08-18T11:39:42.539Z"
   },
   {
    "duration": 14,
    "start_time": "2023-08-18T11:39:49.059Z"
   },
   {
    "duration": 27,
    "start_time": "2023-08-18T11:39:49.751Z"
   },
   {
    "duration": 23,
    "start_time": "2023-08-18T11:39:56.337Z"
   },
   {
    "duration": 8,
    "start_time": "2023-08-18T11:40:13.600Z"
   },
   {
    "duration": 6,
    "start_time": "2023-08-18T11:40:16.100Z"
   },
   {
    "duration": 6,
    "start_time": "2023-08-18T11:40:21.605Z"
   },
   {
    "duration": 6,
    "start_time": "2023-08-18T11:40:32.068Z"
   },
   {
    "duration": 9,
    "start_time": "2023-08-18T11:40:36.768Z"
   },
   {
    "duration": 6,
    "start_time": "2023-08-18T11:40:40.158Z"
   },
   {
    "duration": 6,
    "start_time": "2023-08-18T11:40:41.057Z"
   },
   {
    "duration": 8,
    "start_time": "2023-08-18T11:40:42.446Z"
   },
   {
    "duration": 4,
    "start_time": "2023-08-18T11:40:42.968Z"
   },
   {
    "duration": 90,
    "start_time": "2023-08-18T11:40:43.522Z"
   },
   {
    "duration": 1074,
    "start_time": "2023-08-18T11:40:44.668Z"
   },
   {
    "duration": 611,
    "start_time": "2023-08-18T11:40:46.560Z"
   },
   {
    "duration": 792,
    "start_time": "2023-08-18T11:40:47.174Z"
   },
   {
    "duration": 12,
    "start_time": "2023-08-18T11:40:47.967Z"
   },
   {
    "duration": 364,
    "start_time": "2023-08-18T11:40:47.981Z"
   },
   {
    "duration": 5647,
    "start_time": "2023-08-18T11:40:48.347Z"
   },
   {
    "duration": 425,
    "start_time": "2023-08-18T11:40:54.919Z"
   },
   {
    "duration": 3451,
    "start_time": "2023-08-18T11:40:55.474Z"
   },
   {
    "duration": 8,
    "start_time": "2023-08-18T11:40:59.144Z"
   },
   {
    "duration": 4,
    "start_time": "2023-08-18T11:41:07.899Z"
   },
   {
    "duration": 7,
    "start_time": "2023-08-18T11:41:09.703Z"
   },
   {
    "duration": 3,
    "start_time": "2023-08-18T11:41:11.766Z"
   },
   {
    "duration": 16,
    "start_time": "2023-08-18T11:41:11.933Z"
   },
   {
    "duration": 7,
    "start_time": "2023-08-18T11:41:12.067Z"
   },
   {
    "duration": 7,
    "start_time": "2023-08-18T11:41:12.215Z"
   },
   {
    "duration": 5,
    "start_time": "2023-08-18T11:41:12.357Z"
   },
   {
    "duration": 6,
    "start_time": "2023-08-18T11:41:12.762Z"
   },
   {
    "duration": 56,
    "start_time": "2023-08-18T11:41:13.540Z"
   },
   {
    "duration": 3,
    "start_time": "2023-08-18T11:41:23.701Z"
   },
   {
    "duration": 3,
    "start_time": "2023-08-18T11:41:24.473Z"
   },
   {
    "duration": 19204,
    "start_time": "2023-08-18T11:41:24.958Z"
   },
   {
    "duration": 53,
    "start_time": "2023-08-18T11:41:44.166Z"
   },
   {
    "duration": 65,
    "start_time": "2023-08-18T11:42:05.294Z"
   },
   {
    "duration": 3,
    "start_time": "2023-08-18T11:42:06.695Z"
   },
   {
    "duration": 114,
    "start_time": "2023-08-18T11:42:11.762Z"
   },
   {
    "duration": 3,
    "start_time": "2023-08-18T11:42:17.071Z"
   },
   {
    "duration": 13692,
    "start_time": "2023-08-18T11:42:17.707Z"
   },
   {
    "duration": 72,
    "start_time": "2023-08-18T11:42:31.402Z"
   },
   {
    "duration": 4,
    "start_time": "2023-08-18T11:42:40.712Z"
   },
   {
    "duration": 6,
    "start_time": "2023-08-18T11:42:41.155Z"
   },
   {
    "duration": 5,
    "start_time": "2023-08-18T11:42:41.652Z"
   },
   {
    "duration": 18011,
    "start_time": "2023-08-18T11:42:42.059Z"
   },
   {
    "duration": 34,
    "start_time": "2023-08-18T11:43:00.072Z"
   },
   {
    "duration": 4,
    "start_time": "2023-08-18T11:43:02.296Z"
   },
   {
    "duration": 12636,
    "start_time": "2023-08-18T11:43:02.670Z"
   },
   {
    "duration": 60,
    "start_time": "2023-08-18T11:43:15.308Z"
   },
   {
    "duration": 18,
    "start_time": "2023-08-18T12:08:04.878Z"
   },
   {
    "duration": 22,
    "start_time": "2023-08-18T12:08:35.151Z"
   },
   {
    "duration": 32,
    "start_time": "2023-08-18T12:08:35.367Z"
   },
   {
    "duration": 25,
    "start_time": "2023-08-18T12:08:35.870Z"
   },
   {
    "duration": 6,
    "start_time": "2023-08-18T12:08:36.209Z"
   },
   {
    "duration": 12,
    "start_time": "2023-08-18T12:08:36.416Z"
   },
   {
    "duration": 15,
    "start_time": "2023-08-18T12:08:36.578Z"
   },
   {
    "duration": 40,
    "start_time": "2023-08-18T12:08:36.733Z"
   },
   {
    "duration": 16,
    "start_time": "2023-08-18T12:08:36.894Z"
   },
   {
    "duration": 24,
    "start_time": "2023-08-18T12:08:37.045Z"
   },
   {
    "duration": 17,
    "start_time": "2023-08-18T12:08:37.251Z"
   },
   {
    "duration": 6,
    "start_time": "2023-08-18T12:08:37.415Z"
   },
   {
    "duration": 33,
    "start_time": "2023-08-18T12:08:37.601Z"
   },
   {
    "duration": 45,
    "start_time": "2023-08-18T12:08:37.794Z"
   },
   {
    "duration": 16,
    "start_time": "2023-08-18T12:08:37.944Z"
   },
   {
    "duration": 31,
    "start_time": "2023-08-18T12:08:38.125Z"
   },
   {
    "duration": 32,
    "start_time": "2023-08-18T12:08:38.302Z"
   },
   {
    "duration": 26,
    "start_time": "2023-08-18T12:08:38.474Z"
   },
   {
    "duration": 6,
    "start_time": "2023-08-18T12:08:38.619Z"
   },
   {
    "duration": 8,
    "start_time": "2023-08-18T12:08:38.806Z"
   },
   {
    "duration": 12,
    "start_time": "2023-08-18T12:08:39.497Z"
   },
   {
    "duration": 7,
    "start_time": "2023-08-18T12:08:39.814Z"
   },
   {
    "duration": 5,
    "start_time": "2023-08-18T12:08:39.995Z"
   },
   {
    "duration": 9,
    "start_time": "2023-08-18T12:08:40.155Z"
   },
   {
    "duration": 130,
    "start_time": "2023-08-18T12:08:40.338Z"
   },
   {
    "duration": 1130,
    "start_time": "2023-08-18T12:08:40.667Z"
   },
   {
    "duration": 532,
    "start_time": "2023-08-18T12:08:41.800Z"
   },
   {
    "duration": 808,
    "start_time": "2023-08-18T12:08:42.334Z"
   },
   {
    "duration": 15,
    "start_time": "2023-08-18T12:08:43.148Z"
   },
   {
    "duration": 556,
    "start_time": "2023-08-18T12:08:43.165Z"
   },
   {
    "duration": 6408,
    "start_time": "2023-08-18T12:08:43.726Z"
   },
   {
    "duration": 478,
    "start_time": "2023-08-18T12:08:50.136Z"
   },
   {
    "duration": 3831,
    "start_time": "2023-08-18T12:08:50.623Z"
   },
   {
    "duration": 13,
    "start_time": "2023-08-18T12:08:54.457Z"
   },
   {
    "duration": 13,
    "start_time": "2023-08-18T12:08:54.472Z"
   },
   {
    "duration": 12,
    "start_time": "2023-08-18T12:08:54.487Z"
   },
   {
    "duration": 5,
    "start_time": "2023-08-18T12:08:54.502Z"
   },
   {
    "duration": 12,
    "start_time": "2023-08-18T12:08:54.509Z"
   },
   {
    "duration": 171,
    "start_time": "2023-08-18T12:08:54.527Z"
   },
   {
    "duration": 13,
    "start_time": "2023-08-18T12:08:54.700Z"
   },
   {
    "duration": 25,
    "start_time": "2023-08-18T12:08:54.716Z"
   },
   {
    "duration": 5,
    "start_time": "2023-08-18T12:08:54.745Z"
   },
   {
    "duration": 53,
    "start_time": "2023-08-18T12:08:54.753Z"
   },
   {
    "duration": 4,
    "start_time": "2023-08-18T12:08:54.808Z"
   },
   {
    "duration": 26,
    "start_time": "2023-08-18T12:08:54.815Z"
   },
   {
    "duration": 6,
    "start_time": "2023-08-18T12:08:54.846Z"
   },
   {
    "duration": 28,
    "start_time": "2023-08-18T12:08:54.857Z"
   },
   {
    "duration": 7,
    "start_time": "2023-08-18T12:08:54.948Z"
   },
   {
    "duration": 7,
    "start_time": "2023-08-18T12:08:59.042Z"
   },
   {
    "duration": 16851,
    "start_time": "2023-08-18T12:08:59.659Z"
   },
   {
    "duration": 76,
    "start_time": "2023-08-18T12:09:23.302Z"
   },
   {
    "duration": 8,
    "start_time": "2023-08-18T12:09:27.276Z"
   },
   {
    "duration": 4,
    "start_time": "2023-08-18T12:09:27.701Z"
   },
   {
    "duration": 14909,
    "start_time": "2023-08-18T12:09:28.412Z"
   },
   {
    "duration": 56,
    "start_time": "2023-08-18T12:09:46.158Z"
   },
   {
    "duration": 3,
    "start_time": "2023-08-18T12:09:52.783Z"
   },
   {
    "duration": 20537,
    "start_time": "2023-08-18T12:09:52.789Z"
   },
   {
    "duration": 54,
    "start_time": "2023-08-18T12:10:13.330Z"
   },
   {
    "duration": 5,
    "start_time": "2023-08-18T12:10:30.298Z"
   },
   {
    "duration": 4,
    "start_time": "2023-08-18T12:10:30.764Z"
   },
   {
    "duration": 3,
    "start_time": "2023-08-18T12:10:31.471Z"
   },
   {
    "duration": 13648,
    "start_time": "2023-08-18T12:10:33.202Z"
   },
   {
    "duration": 55,
    "start_time": "2023-08-18T12:10:46.858Z"
   },
   {
    "duration": 4,
    "start_time": "2023-08-18T12:12:29.513Z"
   },
   {
    "duration": 4,
    "start_time": "2023-08-18T12:12:31.698Z"
   },
   {
    "duration": 5,
    "start_time": "2023-08-18T12:12:32.415Z"
   },
   {
    "duration": 11461,
    "start_time": "2023-08-18T12:12:33.658Z"
   },
   {
    "duration": 52,
    "start_time": "2023-08-18T12:12:45.122Z"
   },
   {
    "duration": 44,
    "start_time": "2023-08-18T12:13:16.618Z"
   },
   {
    "duration": 30,
    "start_time": "2023-08-18T12:13:18.408Z"
   },
   {
    "duration": 31,
    "start_time": "2023-08-18T12:13:21.331Z"
   },
   {
    "duration": 4,
    "start_time": "2023-08-18T12:15:16.624Z"
   },
   {
    "duration": 4,
    "start_time": "2023-08-18T12:15:18.103Z"
   },
   {
    "duration": 12463,
    "start_time": "2023-08-18T12:15:19.397Z"
   },
   {
    "duration": 71,
    "start_time": "2023-08-18T12:15:31.863Z"
   },
   {
    "duration": 5,
    "start_time": "2023-08-18T12:15:37.349Z"
   },
   {
    "duration": 6,
    "start_time": "2023-08-18T12:15:38.349Z"
   },
   {
    "duration": 11686,
    "start_time": "2023-08-18T12:15:39.109Z"
   },
   {
    "duration": 59,
    "start_time": "2023-08-18T12:15:50.797Z"
   },
   {
    "duration": 4,
    "start_time": "2023-08-18T12:18:06.212Z"
   },
   {
    "duration": 3,
    "start_time": "2023-08-18T12:18:38.488Z"
   },
   {
    "duration": 4,
    "start_time": "2023-08-18T12:18:38.883Z"
   },
   {
    "duration": 19203,
    "start_time": "2023-08-18T12:18:39.365Z"
   },
   {
    "duration": 63,
    "start_time": "2023-08-18T12:18:58.571Z"
   },
   {
    "duration": 18,
    "start_time": "2023-08-18T12:19:01.240Z"
   },
   {
    "duration": 3,
    "start_time": "2023-08-18T12:19:01.399Z"
   },
   {
    "duration": 19514,
    "start_time": "2023-08-18T12:19:01.561Z"
   },
   {
    "duration": 42,
    "start_time": "2023-08-18T12:19:21.078Z"
   },
   {
    "duration": 4,
    "start_time": "2023-08-18T12:19:24.065Z"
   },
   {
    "duration": 3,
    "start_time": "2023-08-18T12:19:24.459Z"
   },
   {
    "duration": 19977,
    "start_time": "2023-08-18T12:19:24.671Z"
   },
   {
    "duration": 45,
    "start_time": "2023-08-18T12:19:44.650Z"
   },
   {
    "duration": 5,
    "start_time": "2023-08-18T12:19:54.336Z"
   },
   {
    "duration": 51,
    "start_time": "2023-08-18T12:19:56.557Z"
   },
   {
    "duration": 62,
    "start_time": "2023-08-18T12:20:12.001Z"
   },
   {
    "duration": 4,
    "start_time": "2023-08-18T12:20:13.510Z"
   },
   {
    "duration": 3,
    "start_time": "2023-08-18T12:20:13.859Z"
   },
   {
    "duration": 18822,
    "start_time": "2023-08-18T12:20:14.047Z"
   },
   {
    "duration": 44,
    "start_time": "2023-08-18T12:20:32.871Z"
   },
   {
    "duration": 3,
    "start_time": "2023-08-18T12:21:41.552Z"
   },
   {
    "duration": 5,
    "start_time": "2023-08-18T12:21:41.722Z"
   },
   {
    "duration": 18829,
    "start_time": "2023-08-18T12:21:41.890Z"
   },
   {
    "duration": 57,
    "start_time": "2023-08-18T12:22:00.722Z"
   },
   {
    "duration": 8,
    "start_time": "2023-08-18T12:22:05.348Z"
   },
   {
    "duration": 11,
    "start_time": "2023-08-18T12:22:05.541Z"
   },
   {
    "duration": 18406,
    "start_time": "2023-08-18T12:22:05.736Z"
   },
   {
    "duration": 41,
    "start_time": "2023-08-18T12:22:24.146Z"
   },
   {
    "duration": 8,
    "start_time": "2023-08-18T12:23:39.859Z"
   },
   {
    "duration": 10,
    "start_time": "2023-08-18T12:23:48.239Z"
   },
   {
    "duration": 15,
    "start_time": "2023-08-18T12:23:51.158Z"
   },
   {
    "duration": 2745,
    "start_time": "2023-08-18T12:23:52.407Z"
   },
   {
    "duration": 10,
    "start_time": "2023-08-18T12:24:09.956Z"
   },
   {
    "duration": 1968,
    "start_time": "2023-08-18T12:24:10.821Z"
   },
   {
    "duration": 0,
    "start_time": "2023-08-18T12:24:12.790Z"
   },
   {
    "duration": 25,
    "start_time": "2023-08-18T12:24:15.174Z"
   },
   {
    "duration": 8313,
    "start_time": "2023-08-18T12:24:49.096Z"
   },
   {
    "duration": 7,
    "start_time": "2023-08-18T12:24:57.412Z"
   },
   {
    "duration": 18,
    "start_time": "2023-08-18T12:24:57.421Z"
   },
   {
    "duration": 130,
    "start_time": "2023-08-18T12:24:57.447Z"
   },
   {
    "duration": 170,
    "start_time": "2023-08-18T12:24:57.579Z"
   },
   {
    "duration": 17,
    "start_time": "2023-08-18T12:24:57.753Z"
   },
   {
    "duration": 16,
    "start_time": "2023-08-18T12:24:57.772Z"
   },
   {
    "duration": 42,
    "start_time": "2023-08-18T12:24:57.790Z"
   },
   {
    "duration": 24,
    "start_time": "2023-08-18T12:24:57.834Z"
   },
   {
    "duration": 31,
    "start_time": "2023-08-18T12:24:57.866Z"
   },
   {
    "duration": 30,
    "start_time": "2023-08-18T12:24:57.899Z"
   },
   {
    "duration": 35,
    "start_time": "2023-08-18T12:24:57.931Z"
   },
   {
    "duration": 20,
    "start_time": "2023-08-18T12:24:57.968Z"
   },
   {
    "duration": 8,
    "start_time": "2023-08-18T12:24:57.990Z"
   },
   {
    "duration": 16,
    "start_time": "2023-08-18T12:24:58.000Z"
   },
   {
    "duration": 22,
    "start_time": "2023-08-18T12:24:58.018Z"
   },
   {
    "duration": 17,
    "start_time": "2023-08-18T12:24:58.046Z"
   },
   {
    "duration": 16,
    "start_time": "2023-08-18T12:24:58.068Z"
   },
   {
    "duration": 15,
    "start_time": "2023-08-18T12:24:58.086Z"
   },
   {
    "duration": 16,
    "start_time": "2023-08-18T12:24:58.123Z"
   },
   {
    "duration": 32,
    "start_time": "2023-08-18T12:24:58.144Z"
   },
   {
    "duration": 24,
    "start_time": "2023-08-18T12:24:58.179Z"
   },
   {
    "duration": 39,
    "start_time": "2023-08-18T12:24:58.205Z"
   },
   {
    "duration": 18,
    "start_time": "2023-08-18T12:24:58.247Z"
   },
   {
    "duration": 28,
    "start_time": "2023-08-18T12:24:58.268Z"
   },
   {
    "duration": 35,
    "start_time": "2023-08-18T12:24:58.299Z"
   },
   {
    "duration": 11,
    "start_time": "2023-08-18T12:24:58.341Z"
   },
   {
    "duration": 8,
    "start_time": "2023-08-18T12:24:58.359Z"
   },
   {
    "duration": 8,
    "start_time": "2023-08-18T12:24:58.370Z"
   },
   {
    "duration": 7,
    "start_time": "2023-08-18T12:24:58.380Z"
   },
   {
    "duration": 18,
    "start_time": "2023-08-18T12:24:58.389Z"
   },
   {
    "duration": 12,
    "start_time": "2023-08-18T12:24:58.409Z"
   },
   {
    "duration": 105,
    "start_time": "2023-08-18T12:24:58.429Z"
   },
   {
    "duration": 1053,
    "start_time": "2023-08-18T12:24:58.542Z"
   },
   {
    "duration": 452,
    "start_time": "2023-08-18T12:24:59.598Z"
   },
   {
    "duration": 860,
    "start_time": "2023-08-18T12:25:00.052Z"
   },
   {
    "duration": 24,
    "start_time": "2023-08-18T12:25:00.914Z"
   },
   {
    "duration": 635,
    "start_time": "2023-08-18T12:25:00.940Z"
   },
   {
    "duration": 5665,
    "start_time": "2023-08-18T12:25:01.577Z"
   },
   {
    "duration": 552,
    "start_time": "2023-08-18T12:25:07.244Z"
   },
   {
    "duration": 3236,
    "start_time": "2023-08-18T12:25:07.798Z"
   },
   {
    "duration": 6,
    "start_time": "2023-08-18T12:25:11.041Z"
   },
   {
    "duration": 17,
    "start_time": "2023-08-18T12:25:11.050Z"
   },
   {
    "duration": 26,
    "start_time": "2023-08-18T12:25:11.069Z"
   },
   {
    "duration": 18,
    "start_time": "2023-08-18T12:25:11.097Z"
   },
   {
    "duration": 15,
    "start_time": "2023-08-18T12:25:11.117Z"
   },
   {
    "duration": 18,
    "start_time": "2023-08-18T12:25:11.142Z"
   },
   {
    "duration": 12,
    "start_time": "2023-08-18T12:25:11.163Z"
   },
   {
    "duration": 16,
    "start_time": "2023-08-18T12:25:11.178Z"
   },
   {
    "duration": 15,
    "start_time": "2023-08-18T12:25:11.197Z"
   },
   {
    "duration": 20,
    "start_time": "2023-08-18T12:25:11.214Z"
   },
   {
    "duration": 18,
    "start_time": "2023-08-18T12:25:11.238Z"
   },
   {
    "duration": 11,
    "start_time": "2023-08-18T12:25:11.258Z"
   },
   {
    "duration": 3,
    "start_time": "2023-08-18T12:25:24.569Z"
   },
   {
    "duration": 4,
    "start_time": "2023-08-18T12:25:25.358Z"
   },
   {
    "duration": 17704,
    "start_time": "2023-08-18T12:25:26.190Z"
   },
   {
    "duration": 50,
    "start_time": "2023-08-18T12:25:43.897Z"
   },
   {
    "duration": 6,
    "start_time": "2023-08-18T12:25:59.849Z"
   },
   {
    "duration": 4,
    "start_time": "2023-08-18T12:26:00.289Z"
   },
   {
    "duration": 18080,
    "start_time": "2023-08-18T12:26:00.774Z"
   },
   {
    "duration": 38,
    "start_time": "2023-08-18T12:26:18.856Z"
   },
   {
    "duration": 4,
    "start_time": "2023-08-18T12:26:29.479Z"
   },
   {
    "duration": 3,
    "start_time": "2023-08-18T12:26:29.652Z"
   },
   {
    "duration": 18776,
    "start_time": "2023-08-18T12:26:29.792Z"
   },
   {
    "duration": 37,
    "start_time": "2023-08-18T12:26:48.571Z"
   },
   {
    "duration": 7976,
    "start_time": "2023-08-18T12:29:00.502Z"
   },
   {
    "duration": 7,
    "start_time": "2023-08-18T12:29:08.481Z"
   },
   {
    "duration": 8,
    "start_time": "2023-08-18T12:29:08.490Z"
   },
   {
    "duration": 128,
    "start_time": "2023-08-18T12:29:08.500Z"
   },
   {
    "duration": 172,
    "start_time": "2023-08-18T12:29:08.630Z"
   },
   {
    "duration": 25,
    "start_time": "2023-08-18T12:29:08.804Z"
   },
   {
    "duration": 19,
    "start_time": "2023-08-18T12:29:08.831Z"
   },
   {
    "duration": 30,
    "start_time": "2023-08-18T12:29:08.851Z"
   },
   {
    "duration": 13,
    "start_time": "2023-08-18T12:29:08.884Z"
   },
   {
    "duration": 68,
    "start_time": "2023-08-18T12:29:08.901Z"
   },
   {
    "duration": 23,
    "start_time": "2023-08-18T12:29:08.972Z"
   },
   {
    "duration": 30,
    "start_time": "2023-08-18T12:29:08.997Z"
   },
   {
    "duration": 6,
    "start_time": "2023-08-18T12:29:09.029Z"
   },
   {
    "duration": 11,
    "start_time": "2023-08-18T12:29:09.039Z"
   },
   {
    "duration": 32,
    "start_time": "2023-08-18T12:29:09.052Z"
   },
   {
    "duration": 24,
    "start_time": "2023-08-18T12:29:09.086Z"
   },
   {
    "duration": 19,
    "start_time": "2023-08-18T12:29:09.112Z"
   },
   {
    "duration": 18,
    "start_time": "2023-08-18T12:29:09.133Z"
   },
   {
    "duration": 16,
    "start_time": "2023-08-18T12:29:09.154Z"
   },
   {
    "duration": 19,
    "start_time": "2023-08-18T12:29:09.172Z"
   },
   {
    "duration": 25,
    "start_time": "2023-08-18T12:29:09.193Z"
   },
   {
    "duration": 33,
    "start_time": "2023-08-18T12:29:09.220Z"
   },
   {
    "duration": 14,
    "start_time": "2023-08-18T12:29:09.256Z"
   },
   {
    "duration": 14,
    "start_time": "2023-08-18T12:29:09.272Z"
   },
   {
    "duration": 27,
    "start_time": "2023-08-18T12:29:09.289Z"
   },
   {
    "duration": 48,
    "start_time": "2023-08-18T12:29:09.324Z"
   },
   {
    "duration": 5,
    "start_time": "2023-08-18T12:29:09.375Z"
   },
   {
    "duration": 7,
    "start_time": "2023-08-18T12:29:09.387Z"
   },
   {
    "duration": 18,
    "start_time": "2023-08-18T12:29:09.396Z"
   },
   {
    "duration": 11,
    "start_time": "2023-08-18T12:29:09.416Z"
   },
   {
    "duration": 10,
    "start_time": "2023-08-18T12:29:09.429Z"
   },
   {
    "duration": 7,
    "start_time": "2023-08-18T12:29:09.441Z"
   },
   {
    "duration": 83,
    "start_time": "2023-08-18T12:29:09.454Z"
   },
   {
    "duration": 1234,
    "start_time": "2023-08-18T12:29:09.539Z"
   },
   {
    "duration": 607,
    "start_time": "2023-08-18T12:29:10.776Z"
   },
   {
    "duration": 759,
    "start_time": "2023-08-18T12:29:11.385Z"
   },
   {
    "duration": 13,
    "start_time": "2023-08-18T12:29:12.153Z"
   },
   {
    "duration": 344,
    "start_time": "2023-08-18T12:29:12.168Z"
   },
   {
    "duration": 5584,
    "start_time": "2023-08-18T12:29:12.514Z"
   },
   {
    "duration": 392,
    "start_time": "2023-08-18T12:29:18.100Z"
   },
   {
    "duration": 3483,
    "start_time": "2023-08-18T12:29:18.494Z"
   },
   {
    "duration": 4,
    "start_time": "2023-08-18T12:29:21.980Z"
   },
   {
    "duration": 24,
    "start_time": "2023-08-18T12:29:21.986Z"
   },
   {
    "duration": 12,
    "start_time": "2023-08-18T12:29:22.012Z"
   },
   {
    "duration": 18,
    "start_time": "2023-08-18T12:29:22.026Z"
   },
   {
    "duration": 8,
    "start_time": "2023-08-18T12:29:22.053Z"
   },
   {
    "duration": 8,
    "start_time": "2023-08-18T12:29:22.064Z"
   },
   {
    "duration": 7,
    "start_time": "2023-08-18T12:29:22.074Z"
   },
   {
    "duration": 9,
    "start_time": "2023-08-18T12:29:22.083Z"
   },
   {
    "duration": 9,
    "start_time": "2023-08-18T12:29:22.094Z"
   },
   {
    "duration": 65,
    "start_time": "2023-08-18T12:29:22.105Z"
   },
   {
    "duration": 7,
    "start_time": "2023-08-18T12:29:22.172Z"
   },
   {
    "duration": 15,
    "start_time": "2023-08-18T12:29:22.181Z"
   },
   {
    "duration": 8,
    "start_time": "2023-08-18T12:29:22.198Z"
   },
   {
    "duration": 35,
    "start_time": "2023-08-18T12:29:22.208Z"
   },
   {
    "duration": 10,
    "start_time": "2023-08-18T12:29:22.245Z"
   },
   {
    "duration": 11,
    "start_time": "2023-08-18T12:29:22.258Z"
   },
   {
    "duration": 18,
    "start_time": "2023-08-18T12:29:22.271Z"
   },
   {
    "duration": 12517,
    "start_time": "2023-08-18T12:29:22.291Z"
   },
   {
    "duration": 64,
    "start_time": "2023-08-18T12:29:34.809Z"
   },
   {
    "duration": 3,
    "start_time": "2023-08-18T12:30:08.206Z"
   },
   {
    "duration": 3,
    "start_time": "2023-08-18T12:30:08.591Z"
   },
   {
    "duration": 12816,
    "start_time": "2023-08-18T12:30:09.278Z"
   },
   {
    "duration": 59,
    "start_time": "2023-08-18T12:30:22.096Z"
   },
   {
    "duration": 5,
    "start_time": "2023-08-18T12:30:33.553Z"
   },
   {
    "duration": 3,
    "start_time": "2023-08-18T12:30:33.757Z"
   },
   {
    "duration": 13594,
    "start_time": "2023-08-18T12:30:34.108Z"
   },
   {
    "duration": 62,
    "start_time": "2023-08-18T12:30:47.704Z"
   },
   {
    "duration": 4,
    "start_time": "2023-08-18T12:31:56.190Z"
   },
   {
    "duration": 3,
    "start_time": "2023-08-18T12:31:57.160Z"
   },
   {
    "duration": 13216,
    "start_time": "2023-08-18T12:31:58.452Z"
   },
   {
    "duration": 96,
    "start_time": "2023-08-18T12:32:11.670Z"
   },
   {
    "duration": 5,
    "start_time": "2023-08-18T12:32:30.848Z"
   },
   {
    "duration": 28,
    "start_time": "2023-08-18T12:32:36.724Z"
   },
   {
    "duration": 4,
    "start_time": "2023-08-18T12:33:34.015Z"
   },
   {
    "duration": 5,
    "start_time": "2023-08-18T12:33:34.454Z"
   },
   {
    "duration": 13591,
    "start_time": "2023-08-18T12:33:35.770Z"
   },
   {
    "duration": 92,
    "start_time": "2023-08-18T12:33:49.363Z"
   },
   {
    "duration": 10,
    "start_time": "2023-08-18T12:34:23.041Z"
   },
   {
    "duration": 7,
    "start_time": "2023-08-18T12:34:23.246Z"
   },
   {
    "duration": 12730,
    "start_time": "2023-08-18T12:34:24.274Z"
   },
   {
    "duration": 93,
    "start_time": "2023-08-18T12:34:48.953Z"
   },
   {
    "duration": 69,
    "start_time": "2023-08-18T12:35:17.004Z"
   },
   {
    "duration": 7894,
    "start_time": "2023-08-18T12:35:38.118Z"
   },
   {
    "duration": 6,
    "start_time": "2023-08-18T12:35:46.015Z"
   },
   {
    "duration": 37,
    "start_time": "2023-08-18T12:35:46.023Z"
   },
   {
    "duration": 140,
    "start_time": "2023-08-18T12:35:46.063Z"
   },
   {
    "duration": 199,
    "start_time": "2023-08-18T12:35:46.206Z"
   },
   {
    "duration": 35,
    "start_time": "2023-08-18T12:35:46.407Z"
   },
   {
    "duration": 34,
    "start_time": "2023-08-18T12:35:46.446Z"
   },
   {
    "duration": 40,
    "start_time": "2023-08-18T12:35:46.482Z"
   },
   {
    "duration": 34,
    "start_time": "2023-08-18T12:35:46.524Z"
   },
   {
    "duration": 30,
    "start_time": "2023-08-18T12:35:46.560Z"
   },
   {
    "duration": 35,
    "start_time": "2023-08-18T12:35:46.592Z"
   },
   {
    "duration": 32,
    "start_time": "2023-08-18T12:35:46.629Z"
   },
   {
    "duration": 6,
    "start_time": "2023-08-18T12:35:46.663Z"
   },
   {
    "duration": 24,
    "start_time": "2023-08-18T12:35:46.672Z"
   },
   {
    "duration": 49,
    "start_time": "2023-08-18T12:35:46.698Z"
   },
   {
    "duration": 28,
    "start_time": "2023-08-18T12:35:46.749Z"
   },
   {
    "duration": 16,
    "start_time": "2023-08-18T12:35:46.779Z"
   },
   {
    "duration": 18,
    "start_time": "2023-08-18T12:35:46.797Z"
   },
   {
    "duration": 30,
    "start_time": "2023-08-18T12:35:46.817Z"
   },
   {
    "duration": 13,
    "start_time": "2023-08-18T12:35:46.848Z"
   },
   {
    "duration": 66,
    "start_time": "2023-08-18T12:35:46.863Z"
   },
   {
    "duration": 38,
    "start_time": "2023-08-18T12:35:46.939Z"
   },
   {
    "duration": 9,
    "start_time": "2023-08-18T12:35:46.979Z"
   },
   {
    "duration": 46,
    "start_time": "2023-08-18T12:35:46.989Z"
   },
   {
    "duration": 63,
    "start_time": "2023-08-18T12:35:47.041Z"
   },
   {
    "duration": 16,
    "start_time": "2023-08-18T12:35:47.106Z"
   },
   {
    "duration": 4,
    "start_time": "2023-08-18T12:35:47.123Z"
   },
   {
    "duration": 12,
    "start_time": "2023-08-18T12:35:47.132Z"
   },
   {
    "duration": 41,
    "start_time": "2023-08-18T12:35:47.146Z"
   },
   {
    "duration": 29,
    "start_time": "2023-08-18T12:35:47.189Z"
   },
   {
    "duration": 34,
    "start_time": "2023-08-18T12:35:47.220Z"
   },
   {
    "duration": 19,
    "start_time": "2023-08-18T12:35:47.257Z"
   },
   {
    "duration": 87,
    "start_time": "2023-08-18T12:35:47.278Z"
   },
   {
    "duration": 1032,
    "start_time": "2023-08-18T12:35:47.367Z"
   },
   {
    "duration": 415,
    "start_time": "2023-08-18T12:35:48.401Z"
   },
   {
    "duration": 752,
    "start_time": "2023-08-18T12:35:48.818Z"
   },
   {
    "duration": 12,
    "start_time": "2023-08-18T12:35:49.571Z"
   },
   {
    "duration": 531,
    "start_time": "2023-08-18T12:35:49.584Z"
   },
   {
    "duration": 5374,
    "start_time": "2023-08-18T12:35:50.117Z"
   },
   {
    "duration": 398,
    "start_time": "2023-08-18T12:35:55.492Z"
   },
   {
    "duration": 3256,
    "start_time": "2023-08-18T12:35:55.895Z"
   },
   {
    "duration": 4,
    "start_time": "2023-08-18T12:35:59.153Z"
   },
   {
    "duration": 13,
    "start_time": "2023-08-18T12:35:59.158Z"
   },
   {
    "duration": 8,
    "start_time": "2023-08-18T12:35:59.173Z"
   },
   {
    "duration": 14,
    "start_time": "2023-08-18T12:35:59.184Z"
   },
   {
    "duration": 7,
    "start_time": "2023-08-18T12:35:59.200Z"
   },
   {
    "duration": 150,
    "start_time": "2023-08-18T12:35:59.208Z"
   },
   {
    "duration": 6,
    "start_time": "2023-08-18T12:35:59.361Z"
   },
   {
    "duration": 7,
    "start_time": "2023-08-18T12:35:59.369Z"
   },
   {
    "duration": 10,
    "start_time": "2023-08-18T12:35:59.377Z"
   },
   {
    "duration": 15,
    "start_time": "2023-08-18T12:35:59.388Z"
   },
   {
    "duration": 7,
    "start_time": "2023-08-18T12:35:59.405Z"
   },
   {
    "duration": 20,
    "start_time": "2023-08-18T12:35:59.426Z"
   },
   {
    "duration": 7,
    "start_time": "2023-08-18T12:35:59.448Z"
   },
   {
    "duration": 3,
    "start_time": "2023-08-18T12:35:59.458Z"
   },
   {
    "duration": 5,
    "start_time": "2023-08-18T12:35:59.463Z"
   },
   {
    "duration": 4,
    "start_time": "2023-08-18T12:36:06.169Z"
   },
   {
    "duration": 3,
    "start_time": "2023-08-18T12:36:11.659Z"
   },
   {
    "duration": 6,
    "start_time": "2023-08-18T12:36:12.344Z"
   },
   {
    "duration": 12299,
    "start_time": "2023-08-18T12:36:12.971Z"
   },
   {
    "duration": 55,
    "start_time": "2023-08-18T12:36:30.908Z"
   },
   {
    "duration": 5,
    "start_time": "2023-08-18T12:37:50.536Z"
   },
   {
    "duration": 3,
    "start_time": "2023-08-18T12:37:50.700Z"
   },
   {
    "duration": 4767,
    "start_time": "2023-08-18T12:37:52.324Z"
   },
   {
    "duration": 10,
    "start_time": "2023-08-18T12:38:06.052Z"
   },
   {
    "duration": 7,
    "start_time": "2023-08-18T12:38:06.245Z"
   },
   {
    "duration": 13057,
    "start_time": "2023-08-18T12:38:06.407Z"
   },
   {
    "duration": 38,
    "start_time": "2023-08-18T12:38:19.466Z"
   },
   {
    "duration": 6,
    "start_time": "2023-08-18T12:38:32.048Z"
   },
   {
    "duration": 11,
    "start_time": "2023-08-18T12:38:32.335Z"
   },
   {
    "duration": 12209,
    "start_time": "2023-08-18T12:38:33.247Z"
   },
   {
    "duration": 41,
    "start_time": "2023-08-18T12:38:45.458Z"
   },
   {
    "duration": 8102,
    "start_time": "2023-08-18T12:40:14.472Z"
   },
   {
    "duration": 7,
    "start_time": "2023-08-18T12:40:22.578Z"
   },
   {
    "duration": 53,
    "start_time": "2023-08-18T12:40:22.588Z"
   },
   {
    "duration": 163,
    "start_time": "2023-08-18T12:40:22.644Z"
   },
   {
    "duration": 180,
    "start_time": "2023-08-18T12:40:22.809Z"
   },
   {
    "duration": 16,
    "start_time": "2023-08-18T12:40:22.991Z"
   },
   {
    "duration": 34,
    "start_time": "2023-08-18T12:40:23.024Z"
   },
   {
    "duration": 18,
    "start_time": "2023-08-18T12:40:23.061Z"
   },
   {
    "duration": 18,
    "start_time": "2023-08-18T12:40:23.081Z"
   },
   {
    "duration": 50,
    "start_time": "2023-08-18T12:40:23.103Z"
   },
   {
    "duration": 23,
    "start_time": "2023-08-18T12:40:23.160Z"
   },
   {
    "duration": 51,
    "start_time": "2023-08-18T12:40:23.185Z"
   },
   {
    "duration": 12,
    "start_time": "2023-08-18T12:40:23.243Z"
   },
   {
    "duration": 14,
    "start_time": "2023-08-18T12:40:23.258Z"
   },
   {
    "duration": 36,
    "start_time": "2023-08-18T12:40:23.275Z"
   },
   {
    "duration": 30,
    "start_time": "2023-08-18T12:40:23.313Z"
   },
   {
    "duration": 18,
    "start_time": "2023-08-18T12:40:23.353Z"
   },
   {
    "duration": 17,
    "start_time": "2023-08-18T12:40:23.374Z"
   },
   {
    "duration": 16,
    "start_time": "2023-08-18T12:40:23.393Z"
   },
   {
    "duration": 21,
    "start_time": "2023-08-18T12:40:23.411Z"
   },
   {
    "duration": 28,
    "start_time": "2023-08-18T12:40:23.444Z"
   },
   {
    "duration": 36,
    "start_time": "2023-08-18T12:40:23.475Z"
   },
   {
    "duration": 8,
    "start_time": "2023-08-18T12:40:23.513Z"
   },
   {
    "duration": 30,
    "start_time": "2023-08-18T12:40:23.522Z"
   },
   {
    "duration": 21,
    "start_time": "2023-08-18T12:40:23.559Z"
   },
   {
    "duration": 14,
    "start_time": "2023-08-18T12:40:23.582Z"
   },
   {
    "duration": 8,
    "start_time": "2023-08-18T12:40:23.598Z"
   },
   {
    "duration": 11,
    "start_time": "2023-08-18T12:40:23.627Z"
   },
   {
    "duration": 8,
    "start_time": "2023-08-18T12:40:23.643Z"
   },
   {
    "duration": 5,
    "start_time": "2023-08-18T12:40:23.661Z"
   },
   {
    "duration": 8,
    "start_time": "2023-08-18T12:40:23.667Z"
   },
   {
    "duration": 8,
    "start_time": "2023-08-18T12:40:23.677Z"
   },
   {
    "duration": 102,
    "start_time": "2023-08-18T12:40:23.687Z"
   },
   {
    "duration": 1084,
    "start_time": "2023-08-18T12:40:23.791Z"
   },
   {
    "duration": 433,
    "start_time": "2023-08-18T12:40:24.877Z"
   },
   {
    "duration": 831,
    "start_time": "2023-08-18T12:40:25.311Z"
   },
   {
    "duration": 27,
    "start_time": "2023-08-18T12:40:26.146Z"
   },
   {
    "duration": 392,
    "start_time": "2023-08-18T12:40:26.175Z"
   },
   {
    "duration": 5485,
    "start_time": "2023-08-18T12:40:26.570Z"
   },
   {
    "duration": 666,
    "start_time": "2023-08-18T12:40:32.057Z"
   },
   {
    "duration": 3656,
    "start_time": "2023-08-18T12:40:32.733Z"
   },
   {
    "duration": 3,
    "start_time": "2023-08-18T12:40:36.392Z"
   },
   {
    "duration": 41,
    "start_time": "2023-08-18T12:40:36.398Z"
   },
   {
    "duration": 76,
    "start_time": "2023-08-18T12:40:36.443Z"
   },
   {
    "duration": 27,
    "start_time": "2023-08-18T12:40:36.522Z"
   },
   {
    "duration": 41,
    "start_time": "2023-08-18T12:40:36.556Z"
   },
   {
    "duration": 65,
    "start_time": "2023-08-18T12:40:36.599Z"
   },
   {
    "duration": 21,
    "start_time": "2023-08-18T12:40:36.667Z"
   },
   {
    "duration": 39,
    "start_time": "2023-08-18T12:40:36.690Z"
   },
   {
    "duration": 38,
    "start_time": "2023-08-18T12:40:36.733Z"
   },
   {
    "duration": 104,
    "start_time": "2023-08-18T12:40:36.774Z"
   },
   {
    "duration": 10,
    "start_time": "2023-08-18T12:40:36.880Z"
   },
   {
    "duration": 29,
    "start_time": "2023-08-18T12:40:36.892Z"
   },
   {
    "duration": 38,
    "start_time": "2023-08-18T12:40:36.923Z"
   },
   {
    "duration": 35,
    "start_time": "2023-08-18T12:40:36.965Z"
   },
   {
    "duration": 14,
    "start_time": "2023-08-18T12:40:37.003Z"
   },
   {
    "duration": 58,
    "start_time": "2023-08-18T12:40:37.020Z"
   },
   {
    "duration": 64,
    "start_time": "2023-08-18T12:40:37.080Z"
   },
   {
    "duration": 13546,
    "start_time": "2023-08-18T12:40:37.146Z"
   },
   {
    "duration": 60,
    "start_time": "2023-08-18T12:40:52.153Z"
   },
   {
    "duration": 4,
    "start_time": "2023-08-18T12:41:01.810Z"
   },
   {
    "duration": 3,
    "start_time": "2023-08-18T12:41:02.867Z"
   },
   {
    "duration": 14433,
    "start_time": "2023-08-18T12:41:03.383Z"
   },
   {
    "duration": 60,
    "start_time": "2023-08-18T12:41:17.818Z"
   },
   {
    "duration": 4,
    "start_time": "2023-08-18T12:41:21.963Z"
   },
   {
    "duration": 6,
    "start_time": "2023-08-18T12:41:22.244Z"
   },
   {
    "duration": 13724,
    "start_time": "2023-08-18T12:41:22.983Z"
   },
   {
    "duration": 72,
    "start_time": "2023-08-18T12:41:36.709Z"
   },
   {
    "duration": 150,
    "start_time": "2023-08-18T12:44:04.157Z"
   },
   {
    "duration": 4,
    "start_time": "2023-08-18T12:44:10.302Z"
   },
   {
    "duration": 40592,
    "start_time": "2023-08-18T12:44:19.820Z"
   },
   {
    "duration": 4,
    "start_time": "2023-08-18T12:45:00.415Z"
   },
   {
    "duration": 76,
    "start_time": "2023-08-18T12:45:00.421Z"
   },
   {
    "duration": 1,
    "start_time": "2023-08-18T12:45:00.499Z"
   },
   {
    "duration": 0,
    "start_time": "2023-08-18T12:45:00.501Z"
   },
   {
    "duration": 0,
    "start_time": "2023-08-18T12:45:00.503Z"
   },
   {
    "duration": 4,
    "start_time": "2023-08-18T12:45:04.955Z"
   },
   {
    "duration": 1342084,
    "start_time": "2023-08-18T12:45:05.154Z"
   },
   {
    "duration": 16,
    "start_time": "2023-08-18T13:07:27.247Z"
   },
   {
    "duration": 11,
    "start_time": "2023-08-18T13:07:27.267Z"
   },
   {
    "duration": 6,
    "start_time": "2023-08-18T13:07:27.281Z"
   },
   {
    "duration": 10929,
    "start_time": "2023-08-18T13:07:27.289Z"
   },
   {
    "duration": 50,
    "start_time": "2023-08-18T13:07:38.220Z"
   },
   {
    "duration": 8268,
    "start_time": "2023-08-18T14:02:09.702Z"
   },
   {
    "duration": 7,
    "start_time": "2023-08-18T14:02:17.973Z"
   },
   {
    "duration": 13,
    "start_time": "2023-08-18T14:02:17.982Z"
   },
   {
    "duration": 159,
    "start_time": "2023-08-18T14:02:17.998Z"
   },
   {
    "duration": 196,
    "start_time": "2023-08-18T14:02:18.160Z"
   },
   {
    "duration": 21,
    "start_time": "2023-08-18T14:02:18.357Z"
   },
   {
    "duration": 47,
    "start_time": "2023-08-18T14:02:18.380Z"
   },
   {
    "duration": 39,
    "start_time": "2023-08-18T14:02:18.429Z"
   },
   {
    "duration": 14,
    "start_time": "2023-08-18T14:02:18.474Z"
   },
   {
    "duration": 72,
    "start_time": "2023-08-18T14:02:18.490Z"
   },
   {
    "duration": 20,
    "start_time": "2023-08-18T14:02:18.567Z"
   },
   {
    "duration": 98,
    "start_time": "2023-08-18T14:02:18.589Z"
   },
   {
    "duration": 110,
    "start_time": "2023-08-18T14:02:18.689Z"
   },
   {
    "duration": 40,
    "start_time": "2023-08-18T14:02:18.804Z"
   },
   {
    "duration": 50,
    "start_time": "2023-08-18T14:02:18.846Z"
   },
   {
    "duration": 62,
    "start_time": "2023-08-18T14:02:18.898Z"
   },
   {
    "duration": 30,
    "start_time": "2023-08-18T14:02:18.962Z"
   },
   {
    "duration": 63,
    "start_time": "2023-08-18T14:02:18.994Z"
   },
   {
    "duration": 92,
    "start_time": "2023-08-18T14:02:19.059Z"
   },
   {
    "duration": 38,
    "start_time": "2023-08-18T14:02:19.153Z"
   },
   {
    "duration": 75,
    "start_time": "2023-08-18T14:02:19.194Z"
   },
   {
    "duration": 114,
    "start_time": "2023-08-18T14:02:19.273Z"
   },
   {
    "duration": 167,
    "start_time": "2023-08-18T14:02:19.389Z"
   },
   {
    "duration": 36,
    "start_time": "2023-08-18T14:02:19.558Z"
   },
   {
    "duration": 62,
    "start_time": "2023-08-18T14:02:19.596Z"
   },
   {
    "duration": 93,
    "start_time": "2023-08-18T14:02:19.661Z"
   },
   {
    "duration": 8,
    "start_time": "2023-08-18T14:02:19.764Z"
   },
   {
    "duration": 24,
    "start_time": "2023-08-18T14:02:19.775Z"
   },
   {
    "duration": 32,
    "start_time": "2023-08-18T14:02:19.802Z"
   },
   {
    "duration": 36,
    "start_time": "2023-08-18T14:02:19.838Z"
   },
   {
    "duration": 38,
    "start_time": "2023-08-18T14:02:19.876Z"
   },
   {
    "duration": 49,
    "start_time": "2023-08-18T14:02:19.917Z"
   },
   {
    "duration": 175,
    "start_time": "2023-08-18T14:02:19.967Z"
   },
   {
    "duration": 1116,
    "start_time": "2023-08-18T14:02:20.148Z"
   },
   {
    "duration": 678,
    "start_time": "2023-08-18T14:02:21.266Z"
   },
   {
    "duration": 817,
    "start_time": "2023-08-18T14:02:21.946Z"
   },
   {
    "duration": 13,
    "start_time": "2023-08-18T14:02:22.765Z"
   },
   {
    "duration": 536,
    "start_time": "2023-08-18T14:02:22.780Z"
   },
   {
    "duration": 5842,
    "start_time": "2023-08-18T14:02:23.326Z"
   },
   {
    "duration": 439,
    "start_time": "2023-08-18T14:02:29.171Z"
   },
   {
    "duration": 3830,
    "start_time": "2023-08-18T14:02:29.616Z"
   },
   {
    "duration": 7,
    "start_time": "2023-08-18T14:02:33.448Z"
   },
   {
    "duration": 28,
    "start_time": "2023-08-18T14:02:33.466Z"
   },
   {
    "duration": 33,
    "start_time": "2023-08-18T14:02:33.496Z"
   },
   {
    "duration": 36,
    "start_time": "2023-08-18T14:02:33.532Z"
   },
   {
    "duration": 28,
    "start_time": "2023-08-18T14:02:33.571Z"
   },
   {
    "duration": 25,
    "start_time": "2023-08-18T14:02:33.617Z"
   },
   {
    "duration": 45,
    "start_time": "2023-08-18T14:02:33.645Z"
   },
   {
    "duration": 39,
    "start_time": "2023-08-18T14:02:33.692Z"
   },
   {
    "duration": 30,
    "start_time": "2023-08-18T14:02:33.738Z"
   },
   {
    "duration": 50,
    "start_time": "2023-08-18T14:02:33.774Z"
   },
   {
    "duration": 20,
    "start_time": "2023-08-18T14:02:33.830Z"
   },
   {
    "duration": 30,
    "start_time": "2023-08-18T14:02:33.852Z"
   },
   {
    "duration": 49,
    "start_time": "2023-08-18T14:02:33.885Z"
   },
   {
    "duration": 4,
    "start_time": "2023-08-18T14:02:41.765Z"
   },
   {
    "duration": 4,
    "start_time": "2023-08-18T14:02:42.197Z"
   },
   {
    "duration": 11343,
    "start_time": "2023-08-18T14:02:42.693Z"
   },
   {
    "duration": 47,
    "start_time": "2023-08-18T14:02:54.040Z"
   },
   {
    "duration": 5,
    "start_time": "2023-08-18T14:04:23.309Z"
   },
   {
    "duration": 4,
    "start_time": "2023-08-18T14:04:36.997Z"
   },
   {
    "duration": 22573,
    "start_time": "2023-08-18T14:04:42.305Z"
   },
   {
    "duration": 1062913,
    "start_time": "2023-08-18T14:05:06.903Z"
   },
   {
    "duration": 19,
    "start_time": "2023-08-18T14:22:49.819Z"
   },
   {
    "duration": 4,
    "start_time": "2023-08-18T14:22:59.964Z"
   },
   {
    "duration": 5,
    "start_time": "2023-08-18T14:23:05.276Z"
   },
   {
    "duration": 11491,
    "start_time": "2023-08-18T14:23:07.480Z"
   },
   {
    "duration": 36,
    "start_time": "2023-08-18T14:23:19.979Z"
   },
   {
    "duration": 4,
    "start_time": "2023-08-18T14:23:24.788Z"
   },
   {
    "duration": 11515,
    "start_time": "2023-08-18T14:23:25.306Z"
   },
   {
    "duration": 44,
    "start_time": "2023-08-18T14:23:36.827Z"
   },
   {
    "duration": 7,
    "start_time": "2023-08-18T14:26:26.039Z"
   },
   {
    "duration": 4,
    "start_time": "2023-08-18T14:27:07.977Z"
   },
   {
    "duration": 69,
    "start_time": "2023-08-18T14:27:18.684Z"
   },
   {
    "duration": 45,
    "start_time": "2023-08-18T14:28:02.561Z"
   },
   {
    "duration": 5,
    "start_time": "2023-08-18T14:28:22.569Z"
   },
   {
    "duration": 5,
    "start_time": "2023-08-18T14:28:28.362Z"
   },
   {
    "duration": 3,
    "start_time": "2023-08-18T14:29:07.469Z"
   },
   {
    "duration": 2004,
    "start_time": "2023-08-18T14:29:19.482Z"
   },
   {
    "duration": 2513,
    "start_time": "2023-08-18T14:30:29.288Z"
   },
   {
    "duration": 59,
    "start_time": "2023-08-18T14:30:47.559Z"
   },
   {
    "duration": 11,
    "start_time": "2023-08-18T14:30:53.169Z"
   },
   {
    "duration": 1656,
    "start_time": "2023-08-18T14:30:56.967Z"
   },
   {
    "duration": 32,
    "start_time": "2023-08-18T14:31:07.565Z"
   },
   {
    "duration": 4,
    "start_time": "2023-08-18T14:31:21.574Z"
   },
   {
    "duration": 5,
    "start_time": "2023-08-18T14:31:53.035Z"
   },
   {
    "duration": 9796,
    "start_time": "2023-08-18T14:32:11.089Z"
   },
   {
    "duration": 11,
    "start_time": "2023-08-18T14:32:20.889Z"
   },
   {
    "duration": 20,
    "start_time": "2023-08-18T14:32:20.902Z"
   },
   {
    "duration": 212,
    "start_time": "2023-08-18T14:32:20.930Z"
   },
   {
    "duration": 208,
    "start_time": "2023-08-18T14:32:21.145Z"
   },
   {
    "duration": 19,
    "start_time": "2023-08-18T14:32:21.355Z"
   },
   {
    "duration": 30,
    "start_time": "2023-08-18T14:32:21.376Z"
   },
   {
    "duration": 56,
    "start_time": "2023-08-18T14:32:21.408Z"
   },
   {
    "duration": 11,
    "start_time": "2023-08-18T14:32:21.466Z"
   },
   {
    "duration": 97,
    "start_time": "2023-08-18T14:32:21.482Z"
   },
   {
    "duration": 29,
    "start_time": "2023-08-18T14:32:21.584Z"
   },
   {
    "duration": 33,
    "start_time": "2023-08-18T14:32:21.615Z"
   },
   {
    "duration": 13,
    "start_time": "2023-08-18T14:32:21.651Z"
   },
   {
    "duration": 12,
    "start_time": "2023-08-18T14:32:21.666Z"
   },
   {
    "duration": 19,
    "start_time": "2023-08-18T14:32:21.680Z"
   },
   {
    "duration": 51,
    "start_time": "2023-08-18T14:32:21.701Z"
   },
   {
    "duration": 20,
    "start_time": "2023-08-18T14:32:21.754Z"
   },
   {
    "duration": 17,
    "start_time": "2023-08-18T14:32:21.776Z"
   },
   {
    "duration": 15,
    "start_time": "2023-08-18T14:32:21.795Z"
   },
   {
    "duration": 7,
    "start_time": "2023-08-18T14:32:21.831Z"
   },
   {
    "duration": 44,
    "start_time": "2023-08-18T14:32:21.844Z"
   },
   {
    "duration": 39,
    "start_time": "2023-08-18T14:32:21.893Z"
   },
   {
    "duration": 9,
    "start_time": "2023-08-18T14:32:21.937Z"
   },
   {
    "duration": 25,
    "start_time": "2023-08-18T14:32:21.950Z"
   },
   {
    "duration": 30,
    "start_time": "2023-08-18T14:32:21.977Z"
   },
   {
    "duration": 30,
    "start_time": "2023-08-18T14:32:22.010Z"
   },
   {
    "duration": 11,
    "start_time": "2023-08-18T14:32:22.044Z"
   },
   {
    "duration": 16,
    "start_time": "2023-08-18T14:32:22.060Z"
   },
   {
    "duration": 10,
    "start_time": "2023-08-18T14:32:22.077Z"
   },
   {
    "duration": 17,
    "start_time": "2023-08-18T14:32:22.089Z"
   },
   {
    "duration": 30,
    "start_time": "2023-08-18T14:32:22.108Z"
   },
   {
    "duration": 11,
    "start_time": "2023-08-18T14:32:22.141Z"
   },
   {
    "duration": 105,
    "start_time": "2023-08-18T14:32:22.154Z"
   },
   {
    "duration": 1185,
    "start_time": "2023-08-18T14:32:22.263Z"
   },
   {
    "duration": 506,
    "start_time": "2023-08-18T14:32:23.451Z"
   },
   {
    "duration": 929,
    "start_time": "2023-08-18T14:32:23.961Z"
   },
   {
    "duration": 16,
    "start_time": "2023-08-18T14:32:24.902Z"
   },
   {
    "duration": 592,
    "start_time": "2023-08-18T14:32:24.923Z"
   },
   {
    "duration": 6699,
    "start_time": "2023-08-18T14:32:25.517Z"
   },
   {
    "duration": 475,
    "start_time": "2023-08-18T14:32:32.218Z"
   },
   {
    "duration": 4046,
    "start_time": "2023-08-18T14:32:32.695Z"
   },
   {
    "duration": 8,
    "start_time": "2023-08-18T14:32:36.746Z"
   },
   {
    "duration": 49,
    "start_time": "2023-08-18T14:32:36.758Z"
   },
   {
    "duration": 43,
    "start_time": "2023-08-18T14:32:36.809Z"
   },
   {
    "duration": 32,
    "start_time": "2023-08-18T14:32:36.854Z"
   },
   {
    "duration": 49,
    "start_time": "2023-08-18T14:32:36.889Z"
   },
   {
    "duration": 161,
    "start_time": "2023-08-18T14:32:36.942Z"
   },
   {
    "duration": 43,
    "start_time": "2023-08-18T14:32:37.106Z"
   },
   {
    "duration": 62,
    "start_time": "2023-08-18T14:32:37.158Z"
   },
   {
    "duration": 37,
    "start_time": "2023-08-18T14:32:37.222Z"
   },
   {
    "duration": 106,
    "start_time": "2023-08-18T14:32:37.262Z"
   },
   {
    "duration": 8,
    "start_time": "2023-08-18T14:32:37.371Z"
   },
   {
    "duration": 26,
    "start_time": "2023-08-18T14:32:37.382Z"
   },
   {
    "duration": 89,
    "start_time": "2023-08-18T14:32:37.410Z"
   },
   {
    "duration": 62,
    "start_time": "2023-08-18T14:32:46.617Z"
   },
   {
    "duration": 55,
    "start_time": "2023-08-18T14:35:30.359Z"
   },
   {
    "duration": 6,
    "start_time": "2023-08-18T14:35:34.454Z"
   },
   {
    "duration": 3120,
    "start_time": "2023-08-18T14:35:42.712Z"
   },
   {
    "duration": 17,
    "start_time": "2023-08-18T14:36:02.164Z"
   },
   {
    "duration": 21,
    "start_time": "2023-08-18T14:36:11.243Z"
   },
   {
    "duration": 1556,
    "start_time": "2023-08-18T14:36:48.037Z"
   },
   {
    "duration": 8028,
    "start_time": "2023-08-18T14:36:59.184Z"
   },
   {
    "duration": 7,
    "start_time": "2023-08-18T14:37:07.215Z"
   },
   {
    "duration": 14,
    "start_time": "2023-08-18T14:37:07.227Z"
   },
   {
    "duration": 129,
    "start_time": "2023-08-18T14:37:07.244Z"
   },
   {
    "duration": 188,
    "start_time": "2023-08-18T14:37:07.376Z"
   },
   {
    "duration": 16,
    "start_time": "2023-08-18T14:37:07.566Z"
   },
   {
    "duration": 49,
    "start_time": "2023-08-18T14:37:07.585Z"
   },
   {
    "duration": 23,
    "start_time": "2023-08-18T14:37:07.637Z"
   },
   {
    "duration": 10,
    "start_time": "2023-08-18T14:37:07.662Z"
   },
   {
    "duration": 64,
    "start_time": "2023-08-18T14:37:07.674Z"
   },
   {
    "duration": 29,
    "start_time": "2023-08-18T14:37:07.740Z"
   },
   {
    "duration": 20,
    "start_time": "2023-08-18T14:37:07.771Z"
   },
   {
    "duration": 6,
    "start_time": "2023-08-18T14:37:07.793Z"
   },
   {
    "duration": 14,
    "start_time": "2023-08-18T14:37:07.823Z"
   },
   {
    "duration": 16,
    "start_time": "2023-08-18T14:37:07.840Z"
   },
   {
    "duration": 25,
    "start_time": "2023-08-18T14:37:07.859Z"
   },
   {
    "duration": 14,
    "start_time": "2023-08-18T14:37:07.886Z"
   },
   {
    "duration": 38,
    "start_time": "2023-08-18T14:37:07.902Z"
   },
   {
    "duration": 14,
    "start_time": "2023-08-18T14:37:07.943Z"
   },
   {
    "duration": 5,
    "start_time": "2023-08-18T14:37:07.959Z"
   },
   {
    "duration": 28,
    "start_time": "2023-08-18T14:37:07.966Z"
   },
   {
    "duration": 56,
    "start_time": "2023-08-18T14:37:07.997Z"
   },
   {
    "duration": 6,
    "start_time": "2023-08-18T14:37:08.055Z"
   },
   {
    "duration": 22,
    "start_time": "2023-08-18T14:37:08.063Z"
   },
   {
    "duration": 42,
    "start_time": "2023-08-18T14:37:08.087Z"
   },
   {
    "duration": 26,
    "start_time": "2023-08-18T14:37:08.131Z"
   },
   {
    "duration": 6,
    "start_time": "2023-08-18T14:37:08.159Z"
   },
   {
    "duration": 11,
    "start_time": "2023-08-18T14:37:08.167Z"
   },
   {
    "duration": 6,
    "start_time": "2023-08-18T14:37:08.180Z"
   },
   {
    "duration": 11,
    "start_time": "2023-08-18T14:37:08.188Z"
   },
   {
    "duration": 34,
    "start_time": "2023-08-18T14:37:08.201Z"
   },
   {
    "duration": 8,
    "start_time": "2023-08-18T14:37:08.240Z"
   },
   {
    "duration": 85,
    "start_time": "2023-08-18T14:37:08.250Z"
   },
   {
    "duration": 1054,
    "start_time": "2023-08-18T14:37:08.343Z"
   },
   {
    "duration": 434,
    "start_time": "2023-08-18T14:37:09.398Z"
   },
   {
    "duration": 853,
    "start_time": "2023-08-18T14:37:09.834Z"
   },
   {
    "duration": 18,
    "start_time": "2023-08-18T14:37:10.689Z"
   },
   {
    "duration": 377,
    "start_time": "2023-08-18T14:37:10.709Z"
   },
   {
    "duration": 6112,
    "start_time": "2023-08-18T14:37:11.089Z"
   },
   {
    "duration": 673,
    "start_time": "2023-08-18T14:37:17.203Z"
   },
   {
    "duration": 3343,
    "start_time": "2023-08-18T14:37:17.882Z"
   },
   {
    "duration": 3,
    "start_time": "2023-08-18T14:37:21.227Z"
   },
   {
    "duration": 54,
    "start_time": "2023-08-18T14:37:21.232Z"
   },
   {
    "duration": 108,
    "start_time": "2023-08-18T14:37:21.288Z"
   },
   {
    "duration": 65,
    "start_time": "2023-08-18T14:37:21.399Z"
   },
   {
    "duration": 142,
    "start_time": "2023-08-18T14:37:21.467Z"
   },
   {
    "duration": 11,
    "start_time": "2023-08-18T14:37:21.611Z"
   },
   {
    "duration": 12,
    "start_time": "2023-08-18T14:37:21.627Z"
   },
   {
    "duration": 11,
    "start_time": "2023-08-18T14:37:21.641Z"
   },
   {
    "duration": 38,
    "start_time": "2023-08-18T14:37:21.655Z"
   },
   {
    "duration": 57,
    "start_time": "2023-08-18T14:37:21.695Z"
   },
   {
    "duration": 8,
    "start_time": "2023-08-18T14:37:21.755Z"
   },
   {
    "duration": 10,
    "start_time": "2023-08-18T14:37:21.765Z"
   },
   {
    "duration": 1576,
    "start_time": "2023-08-18T14:37:33.053Z"
   },
   {
    "duration": 2473,
    "start_time": "2023-08-18T14:37:43.947Z"
   },
   {
    "duration": 9,
    "start_time": "2023-08-18T14:37:52.264Z"
   },
   {
    "duration": 8015,
    "start_time": "2023-08-18T14:38:19.794Z"
   },
   {
    "duration": 9,
    "start_time": "2023-08-18T14:38:27.813Z"
   },
   {
    "duration": 18,
    "start_time": "2023-08-18T14:38:27.826Z"
   },
   {
    "duration": 136,
    "start_time": "2023-08-18T14:38:27.852Z"
   },
   {
    "duration": 199,
    "start_time": "2023-08-18T14:38:27.991Z"
   },
   {
    "duration": 16,
    "start_time": "2023-08-18T14:38:28.192Z"
   },
   {
    "duration": 26,
    "start_time": "2023-08-18T14:38:28.235Z"
   },
   {
    "duration": 19,
    "start_time": "2023-08-18T14:38:28.264Z"
   },
   {
    "duration": 21,
    "start_time": "2023-08-18T14:38:28.285Z"
   },
   {
    "duration": 59,
    "start_time": "2023-08-18T14:38:28.310Z"
   },
   {
    "duration": 27,
    "start_time": "2023-08-18T14:38:28.371Z"
   },
   {
    "duration": 39,
    "start_time": "2023-08-18T14:38:28.400Z"
   },
   {
    "duration": 10,
    "start_time": "2023-08-18T14:38:28.443Z"
   },
   {
    "duration": 8,
    "start_time": "2023-08-18T14:38:28.455Z"
   },
   {
    "duration": 14,
    "start_time": "2023-08-18T14:38:28.465Z"
   },
   {
    "duration": 23,
    "start_time": "2023-08-18T14:38:28.482Z"
   },
   {
    "duration": 39,
    "start_time": "2023-08-18T14:38:28.507Z"
   },
   {
    "duration": 17,
    "start_time": "2023-08-18T14:38:28.554Z"
   },
   {
    "duration": 23,
    "start_time": "2023-08-18T14:38:28.574Z"
   },
   {
    "duration": 15,
    "start_time": "2023-08-18T14:38:28.600Z"
   },
   {
    "duration": 39,
    "start_time": "2023-08-18T14:38:28.618Z"
   },
   {
    "duration": 26,
    "start_time": "2023-08-18T14:38:28.659Z"
   },
   {
    "duration": 30,
    "start_time": "2023-08-18T14:38:28.686Z"
   },
   {
    "duration": 30,
    "start_time": "2023-08-18T14:38:28.718Z"
   },
   {
    "duration": 20,
    "start_time": "2023-08-18T14:38:28.750Z"
   },
   {
    "duration": 17,
    "start_time": "2023-08-18T14:38:28.772Z"
   },
   {
    "duration": 17,
    "start_time": "2023-08-18T14:38:28.791Z"
   },
   {
    "duration": 38,
    "start_time": "2023-08-18T14:38:28.812Z"
   },
   {
    "duration": 11,
    "start_time": "2023-08-18T14:38:28.852Z"
   },
   {
    "duration": 47,
    "start_time": "2023-08-18T14:38:28.864Z"
   },
   {
    "duration": 25,
    "start_time": "2023-08-18T14:38:28.914Z"
   },
   {
    "duration": 11,
    "start_time": "2023-08-18T14:38:28.948Z"
   },
   {
    "duration": 99,
    "start_time": "2023-08-18T14:38:28.961Z"
   },
   {
    "duration": 1054,
    "start_time": "2023-08-18T14:38:29.062Z"
   },
   {
    "duration": 664,
    "start_time": "2023-08-18T14:38:30.128Z"
   },
   {
    "duration": 940,
    "start_time": "2023-08-18T14:38:30.794Z"
   },
   {
    "duration": 24,
    "start_time": "2023-08-18T14:38:31.740Z"
   },
   {
    "duration": 481,
    "start_time": "2023-08-18T14:38:31.767Z"
   },
   {
    "duration": 6313,
    "start_time": "2023-08-18T14:38:32.250Z"
   },
   {
    "duration": 512,
    "start_time": "2023-08-18T14:38:38.566Z"
   },
   {
    "duration": 4085,
    "start_time": "2023-08-18T14:38:39.081Z"
   },
   {
    "duration": 6,
    "start_time": "2023-08-18T14:38:43.177Z"
   },
   {
    "duration": 3,
    "start_time": "2023-08-18T14:38:43.185Z"
   },
   {
    "duration": 8,
    "start_time": "2023-08-18T14:38:43.190Z"
   },
   {
    "duration": 13,
    "start_time": "2023-08-18T14:38:43.201Z"
   },
   {
    "duration": 6,
    "start_time": "2023-08-18T14:38:43.216Z"
   },
   {
    "duration": 16,
    "start_time": "2023-08-18T14:38:43.225Z"
   },
   {
    "duration": 15,
    "start_time": "2023-08-18T14:38:43.246Z"
   },
   {
    "duration": 9,
    "start_time": "2023-08-18T14:38:43.268Z"
   },
   {
    "duration": 8,
    "start_time": "2023-08-18T14:38:43.283Z"
   },
   {
    "duration": 78,
    "start_time": "2023-08-18T14:38:43.293Z"
   },
   {
    "duration": 11,
    "start_time": "2023-08-18T14:38:43.373Z"
   },
   {
    "duration": 8,
    "start_time": "2023-08-18T14:38:43.387Z"
   },
   {
    "duration": 8,
    "start_time": "2023-08-18T14:38:43.397Z"
   },
   {
    "duration": 31,
    "start_time": "2023-08-18T14:38:43.407Z"
   },
   {
    "duration": 82,
    "start_time": "2023-08-18T14:38:49.287Z"
   },
   {
    "duration": 5,
    "start_time": "2023-08-18T14:39:09.621Z"
   },
   {
    "duration": 16,
    "start_time": "2023-08-18T14:39:12.570Z"
   },
   {
    "duration": 3,
    "start_time": "2023-08-18T14:39:15.880Z"
   },
   {
    "duration": 8,
    "start_time": "2023-08-18T14:39:18.125Z"
   },
   {
    "duration": 4,
    "start_time": "2023-08-18T14:39:22.199Z"
   },
   {
    "duration": 9,
    "start_time": "2023-08-18T14:39:23.025Z"
   },
   {
    "duration": 3,
    "start_time": "2023-08-18T14:40:04.355Z"
   },
   {
    "duration": 9,
    "start_time": "2023-08-18T14:40:04.969Z"
   },
   {
    "duration": 13,
    "start_time": "2023-08-18T14:40:13.175Z"
   },
   {
    "duration": 8,
    "start_time": "2023-08-18T14:40:39.275Z"
   },
   {
    "duration": 6,
    "start_time": "2023-08-18T14:40:45.679Z"
   },
   {
    "duration": 4,
    "start_time": "2023-08-18T14:40:50.261Z"
   },
   {
    "duration": 10,
    "start_time": "2023-08-18T14:40:50.643Z"
   },
   {
    "duration": 6,
    "start_time": "2023-08-18T14:40:55.839Z"
   },
   {
    "duration": 16,
    "start_time": "2023-08-18T14:40:56.872Z"
   },
   {
    "duration": 4,
    "start_time": "2023-08-18T14:41:04.417Z"
   },
   {
    "duration": 14,
    "start_time": "2023-08-18T14:41:04.970Z"
   },
   {
    "duration": 3,
    "start_time": "2023-08-18T14:41:10.800Z"
   },
   {
    "duration": 6,
    "start_time": "2023-08-18T14:41:11.168Z"
   },
   {
    "duration": 6,
    "start_time": "2023-08-18T14:41:21.106Z"
   },
   {
    "duration": 5,
    "start_time": "2023-08-18T14:41:30.084Z"
   },
   {
    "duration": 679,
    "start_time": "2023-08-18T14:41:50.189Z"
   },
   {
    "duration": 34575,
    "start_time": "2023-08-18T14:42:16.168Z"
   },
   {
    "duration": 5903,
    "start_time": "2023-08-18T14:43:11.607Z"
   },
   {
    "duration": 5440,
    "start_time": "2023-08-18T14:43:43.175Z"
   },
   {
    "duration": 8,
    "start_time": "2023-08-18T14:44:10.364Z"
   },
   {
    "duration": 7,
    "start_time": "2023-08-18T14:44:13.147Z"
   },
   {
    "duration": 6,
    "start_time": "2023-08-18T14:44:16.478Z"
   },
   {
    "duration": 31,
    "start_time": "2023-08-18T14:44:20.901Z"
   },
   {
    "duration": 959,
    "start_time": "2023-08-18T14:44:29.464Z"
   },
   {
    "duration": 959,
    "start_time": "2023-08-18T14:44:46.769Z"
   },
   {
    "duration": 116,
    "start_time": "2023-08-18T14:44:48.373Z"
   },
   {
    "duration": 87,
    "start_time": "2023-08-18T14:44:57.610Z"
   },
   {
    "duration": 82864,
    "start_time": "2023-08-18T14:45:08.371Z"
   },
   {
    "duration": 4,
    "start_time": "2023-08-18T14:46:31.237Z"
   },
   {
    "duration": 6,
    "start_time": "2023-08-18T14:46:31.242Z"
   },
   {
    "duration": 65,
    "start_time": "2023-08-18T14:46:31.250Z"
   },
   {
    "duration": 1466,
    "start_time": "2023-08-18T14:46:31.317Z"
   },
   {
    "duration": 49,
    "start_time": "2023-08-18T14:46:32.786Z"
   },
   {
    "duration": 327011,
    "start_time": "2023-08-18T14:46:52.323Z"
   },
   {
    "duration": 14,
    "start_time": "2023-08-18T15:17:54.056Z"
   },
   {
    "duration": 6,
    "start_time": "2023-08-18T15:18:15.076Z"
   },
   {
    "duration": 12,
    "start_time": "2023-08-18T15:18:20.183Z"
   },
   {
    "duration": 6,
    "start_time": "2023-08-18T15:18:29.862Z"
   },
   {
    "duration": 18,
    "start_time": "2023-08-18T15:18:35.804Z"
   },
   {
    "duration": 11,
    "start_time": "2023-08-18T15:20:29.722Z"
   },
   {
    "duration": 53,
    "start_time": "2023-08-18T15:20:43.415Z"
   },
   {
    "duration": 9,
    "start_time": "2023-08-18T15:21:35.518Z"
   },
   {
    "duration": 5,
    "start_time": "2023-08-18T15:22:57.153Z"
   },
   {
    "duration": 28,
    "start_time": "2023-08-18T15:23:21.052Z"
   },
   {
    "duration": 5,
    "start_time": "2023-08-18T15:24:06.749Z"
   },
   {
    "duration": 4,
    "start_time": "2023-08-18T15:24:11.367Z"
   },
   {
    "duration": 4,
    "start_time": "2023-08-18T15:24:33.667Z"
   },
   {
    "duration": 5,
    "start_time": "2023-08-18T15:24:34.183Z"
   },
   {
    "duration": 114,
    "start_time": "2023-08-18T15:24:39.774Z"
   },
   {
    "duration": 3,
    "start_time": "2023-08-18T15:24:42.803Z"
   },
   {
    "duration": 3,
    "start_time": "2023-08-18T15:25:09.656Z"
   },
   {
    "duration": 24,
    "start_time": "2023-08-18T15:26:23.953Z"
   },
   {
    "duration": 5,
    "start_time": "2023-08-18T15:26:39.999Z"
   },
   {
    "duration": 9,
    "start_time": "2023-08-18T15:26:45.589Z"
   },
   {
    "duration": 7,
    "start_time": "2023-08-18T15:26:54.759Z"
   },
   {
    "duration": 110,
    "start_time": "2023-08-18T15:29:01.755Z"
   },
   {
    "duration": 33,
    "start_time": "2023-08-18T15:29:24.795Z"
   },
   {
    "duration": 17,
    "start_time": "2023-08-18T15:29:26.269Z"
   },
   {
    "duration": 7695,
    "start_time": "2023-08-18T15:29:39.494Z"
   },
   {
    "duration": 7,
    "start_time": "2023-08-18T15:29:47.192Z"
   },
   {
    "duration": 29,
    "start_time": "2023-08-18T15:29:47.200Z"
   },
   {
    "duration": 113,
    "start_time": "2023-08-18T15:29:47.233Z"
   },
   {
    "duration": 175,
    "start_time": "2023-08-18T15:29:47.349Z"
   },
   {
    "duration": 20,
    "start_time": "2023-08-18T15:29:47.527Z"
   },
   {
    "duration": 38,
    "start_time": "2023-08-18T15:29:47.549Z"
   },
   {
    "duration": 29,
    "start_time": "2023-08-18T15:29:47.589Z"
   },
   {
    "duration": 27,
    "start_time": "2023-08-18T15:29:56.792Z"
   },
   {
    "duration": 25,
    "start_time": "2023-08-18T15:29:57.309Z"
   },
   {
    "duration": 20,
    "start_time": "2023-08-18T15:30:00.550Z"
   },
   {
    "duration": 5,
    "start_time": "2023-08-18T15:30:14.319Z"
   },
   {
    "duration": 5,
    "start_time": "2023-08-18T15:30:14.480Z"
   },
   {
    "duration": 11,
    "start_time": "2023-08-18T15:30:14.649Z"
   },
   {
    "duration": 16,
    "start_time": "2023-08-18T15:30:14.839Z"
   },
   {
    "duration": 11,
    "start_time": "2023-08-18T15:30:15.343Z"
   },
   {
    "duration": 14,
    "start_time": "2023-08-18T15:30:15.648Z"
   },
   {
    "duration": 15,
    "start_time": "2023-08-18T15:30:16.322Z"
   },
   {
    "duration": 5,
    "start_time": "2023-08-18T15:30:17.742Z"
   },
   {
    "duration": 23,
    "start_time": "2023-08-18T15:30:18.210Z"
   },
   {
    "duration": 33,
    "start_time": "2023-08-18T15:30:33.809Z"
   },
   {
    "duration": 8,
    "start_time": "2023-08-18T15:30:34.908Z"
   },
   {
    "duration": 18,
    "start_time": "2023-08-18T15:30:45.642Z"
   },
   {
    "duration": 25,
    "start_time": "2023-08-18T15:30:45.829Z"
   },
   {
    "duration": 19,
    "start_time": "2023-08-18T15:30:46.883Z"
   },
   {
    "duration": 5,
    "start_time": "2023-08-18T15:30:49.262Z"
   },
   {
    "duration": 9,
    "start_time": "2023-08-18T15:30:50.067Z"
   },
   {
    "duration": 7,
    "start_time": "2023-08-18T15:30:52.410Z"
   },
   {
    "duration": 5,
    "start_time": "2023-08-18T15:30:54.855Z"
   },
   {
    "duration": 4,
    "start_time": "2023-08-18T15:30:55.215Z"
   },
   {
    "duration": 4,
    "start_time": "2023-08-18T15:30:56.612Z"
   },
   {
    "duration": 84,
    "start_time": "2023-08-18T15:30:57.077Z"
   },
   {
    "duration": 1087,
    "start_time": "2023-08-18T15:30:58.891Z"
   },
   {
    "duration": 668,
    "start_time": "2023-08-18T15:30:59.980Z"
   },
   {
    "duration": 813,
    "start_time": "2023-08-18T15:31:00.650Z"
   },
   {
    "duration": 12,
    "start_time": "2023-08-18T15:31:01.466Z"
   },
   {
    "duration": 410,
    "start_time": "2023-08-18T15:31:01.480Z"
   },
   {
    "duration": 5778,
    "start_time": "2023-08-18T15:31:01.891Z"
   },
   {
    "duration": 406,
    "start_time": "2023-08-18T15:31:07.673Z"
   },
   {
    "duration": 3518,
    "start_time": "2023-08-18T15:31:08.081Z"
   },
   {
    "duration": 2,
    "start_time": "2023-08-18T15:31:11.601Z"
   },
   {
    "duration": 19,
    "start_time": "2023-08-18T15:31:11.606Z"
   },
   {
    "duration": 30,
    "start_time": "2023-08-18T15:31:11.630Z"
   },
   {
    "duration": 4,
    "start_time": "2023-08-18T15:31:18.046Z"
   },
   {
    "duration": 6,
    "start_time": "2023-08-18T15:31:24.843Z"
   },
   {
    "duration": 44,
    "start_time": "2023-08-18T15:31:32.325Z"
   },
   {
    "duration": 5,
    "start_time": "2023-08-18T15:31:41.794Z"
   },
   {
    "duration": 5,
    "start_time": "2023-08-18T15:31:42.047Z"
   },
   {
    "duration": 4,
    "start_time": "2023-08-18T15:31:42.555Z"
   },
   {
    "duration": 10,
    "start_time": "2023-08-18T15:31:43.455Z"
   },
   {
    "duration": 27,
    "start_time": "2023-08-18T15:31:45.625Z"
   },
   {
    "duration": 3,
    "start_time": "2023-08-18T15:33:50.778Z"
   },
   {
    "duration": 7,
    "start_time": "2023-08-18T15:34:05.673Z"
   },
   {
    "duration": 12,
    "start_time": "2023-08-18T15:34:16.208Z"
   },
   {
    "duration": 3,
    "start_time": "2023-08-18T15:34:18.407Z"
   },
   {
    "duration": 23,
    "start_time": "2023-08-18T15:34:33.653Z"
   },
   {
    "duration": 6,
    "start_time": "2023-08-18T15:34:51.012Z"
   },
   {
    "duration": 7,
    "start_time": "2023-08-18T15:34:55.658Z"
   },
   {
    "duration": 20,
    "start_time": "2023-08-18T15:35:06.717Z"
   },
   {
    "duration": 12,
    "start_time": "2023-08-18T15:35:08.587Z"
   },
   {
    "duration": 6,
    "start_time": "2023-08-18T15:35:17.767Z"
   },
   {
    "duration": 7,
    "start_time": "2023-08-18T15:35:22.539Z"
   },
   {
    "duration": 6,
    "start_time": "2023-08-18T15:35:34.987Z"
   },
   {
    "duration": 91,
    "start_time": "2023-08-18T15:35:41.606Z"
   },
   {
    "duration": 7,
    "start_time": "2023-08-18T15:35:43.341Z"
   },
   {
    "duration": 3,
    "start_time": "2023-08-18T15:36:25.639Z"
   },
   {
    "duration": 5,
    "start_time": "2023-08-18T15:36:30.402Z"
   },
   {
    "duration": 9,
    "start_time": "2023-08-18T15:36:40.458Z"
   },
   {
    "duration": 29,
    "start_time": "2023-08-18T15:37:35.665Z"
   },
   {
    "duration": 81,
    "start_time": "2023-08-18T15:37:59.872Z"
   },
   {
    "duration": 13,
    "start_time": "2023-08-18T15:38:25.501Z"
   },
   {
    "duration": 9,
    "start_time": "2023-08-18T15:38:53.442Z"
   },
   {
    "duration": 17,
    "start_time": "2023-08-18T15:39:17.283Z"
   },
   {
    "duration": 457,
    "start_time": "2023-08-18T15:39:27.579Z"
   },
   {
    "duration": 398,
    "start_time": "2023-08-18T15:39:41.886Z"
   },
   {
    "duration": 24,
    "start_time": "2023-08-18T15:39:49.177Z"
   },
   {
    "duration": 44,
    "start_time": "2023-08-18T15:39:59.599Z"
   },
   {
    "duration": 44,
    "start_time": "2023-08-18T15:40:06.006Z"
   },
   {
    "duration": 47,
    "start_time": "2023-08-18T15:40:18.260Z"
   },
   {
    "duration": 4,
    "start_time": "2023-08-18T15:40:20.352Z"
   },
   {
    "duration": 38,
    "start_time": "2023-08-18T15:40:25.105Z"
   },
   {
    "duration": 25,
    "start_time": "2023-08-18T15:40:34.247Z"
   },
   {
    "duration": 37,
    "start_time": "2023-08-18T15:40:45.416Z"
   },
   {
    "duration": 6,
    "start_time": "2023-08-18T15:41:32.906Z"
   },
   {
    "duration": 30,
    "start_time": "2023-08-18T15:41:37.575Z"
   },
   {
    "duration": 23,
    "start_time": "2023-08-18T15:42:10.194Z"
   },
   {
    "duration": 1413,
    "start_time": "2023-08-18T15:42:15.762Z"
   },
   {
    "duration": 17,
    "start_time": "2023-08-18T15:42:21.497Z"
   },
   {
    "duration": 7,
    "start_time": "2023-08-18T15:42:31.245Z"
   },
   {
    "duration": 20,
    "start_time": "2023-08-18T15:42:38.722Z"
   },
   {
    "duration": 16,
    "start_time": "2023-08-18T15:42:43.995Z"
   },
   {
    "duration": 18,
    "start_time": "2023-08-18T15:42:46.092Z"
   },
   {
    "duration": 21,
    "start_time": "2023-08-18T15:42:55.856Z"
   },
   {
    "duration": 11,
    "start_time": "2023-08-18T15:43:43.891Z"
   },
   {
    "duration": 11,
    "start_time": "2023-08-18T15:43:47.774Z"
   },
   {
    "duration": 3,
    "start_time": "2023-08-18T15:44:30.803Z"
   },
   {
    "duration": 2,
    "start_time": "2023-08-18T15:44:46.497Z"
   },
   {
    "duration": 15,
    "start_time": "2023-08-18T15:45:00.404Z"
   },
   {
    "duration": 3,
    "start_time": "2023-08-18T15:45:04.687Z"
   },
   {
    "duration": 11,
    "start_time": "2023-08-18T15:45:05.702Z"
   },
   {
    "duration": 12,
    "start_time": "2023-08-18T15:45:27.982Z"
   },
   {
    "duration": 3,
    "start_time": "2023-08-18T15:45:35.412Z"
   },
   {
    "duration": 2,
    "start_time": "2023-08-18T15:45:39.701Z"
   },
   {
    "duration": 6,
    "start_time": "2023-08-18T15:45:40.154Z"
   },
   {
    "duration": 2,
    "start_time": "2023-08-18T15:45:42.097Z"
   },
   {
    "duration": 4,
    "start_time": "2023-08-18T15:45:42.388Z"
   },
   {
    "duration": 11,
    "start_time": "2023-08-18T15:45:43.272Z"
   },
   {
    "duration": 4,
    "start_time": "2023-08-18T15:45:50.754Z"
   },
   {
    "duration": 12,
    "start_time": "2023-08-18T15:46:04.672Z"
   },
   {
    "duration": 3,
    "start_time": "2023-08-18T15:46:07.030Z"
   },
   {
    "duration": 14,
    "start_time": "2023-08-18T15:46:08.053Z"
   },
   {
    "duration": 2,
    "start_time": "2023-08-18T15:46:24.275Z"
   },
   {
    "duration": 12,
    "start_time": "2023-08-18T15:46:24.917Z"
   },
   {
    "duration": 16,
    "start_time": "2023-08-18T15:46:27.153Z"
   },
   {
    "duration": 14,
    "start_time": "2023-08-18T15:46:41.656Z"
   },
   {
    "duration": 99,
    "start_time": "2023-08-18T15:46:50.872Z"
   },
   {
    "duration": 21,
    "start_time": "2023-08-18T15:47:01.047Z"
   },
   {
    "duration": 5,
    "start_time": "2023-08-18T15:47:06.667Z"
   },
   {
    "duration": 26,
    "start_time": "2023-08-18T15:47:47.826Z"
   },
   {
    "duration": 15,
    "start_time": "2023-08-18T15:47:54.003Z"
   },
   {
    "duration": 15,
    "start_time": "2023-08-18T15:47:58.359Z"
   },
   {
    "duration": 17,
    "start_time": "2023-08-18T15:48:02.667Z"
   },
   {
    "duration": 7,
    "start_time": "2023-08-18T15:49:27.755Z"
   },
   {
    "duration": 16,
    "start_time": "2023-08-18T15:49:40.305Z"
   },
   {
    "duration": 10,
    "start_time": "2023-08-18T15:49:44.469Z"
   },
   {
    "duration": 11,
    "start_time": "2023-08-18T15:49:47.404Z"
   },
   {
    "duration": 20,
    "start_time": "2023-08-18T15:49:50.508Z"
   },
   {
    "duration": 17,
    "start_time": "2023-08-18T15:50:53.887Z"
   },
   {
    "duration": 5,
    "start_time": "2023-08-18T15:52:01.867Z"
   },
   {
    "duration": 28,
    "start_time": "2023-08-18T15:52:06.767Z"
   },
   {
    "duration": 6,
    "start_time": "2023-08-18T15:52:18.289Z"
   },
   {
    "duration": 9,
    "start_time": "2023-08-18T15:52:19.421Z"
   },
   {
    "duration": 6,
    "start_time": "2023-08-18T15:52:31.468Z"
   },
   {
    "duration": 5,
    "start_time": "2023-08-18T15:52:34.104Z"
   },
   {
    "duration": 10,
    "start_time": "2023-08-18T15:52:38.856Z"
   },
   {
    "duration": 98,
    "start_time": "2023-08-18T15:53:54.589Z"
   },
   {
    "duration": 6,
    "start_time": "2023-08-18T15:54:05.056Z"
   },
   {
    "duration": 40,
    "start_time": "2023-08-18T15:54:10.251Z"
   },
   {
    "duration": 9,
    "start_time": "2023-08-18T15:54:39.056Z"
   },
   {
    "duration": 3,
    "start_time": "2023-08-18T15:54:39.863Z"
   },
   {
    "duration": 4,
    "start_time": "2023-08-18T15:54:47.056Z"
   },
   {
    "duration": 7,
    "start_time": "2023-08-18T15:55:33.456Z"
   },
   {
    "duration": 53,
    "start_time": "2023-08-18T15:55:38.604Z"
   },
   {
    "duration": 8,
    "start_time": "2023-08-18T15:56:02.485Z"
   },
   {
    "duration": 65,
    "start_time": "2023-08-18T15:56:06.603Z"
   },
   {
    "duration": 7,
    "start_time": "2023-08-18T15:56:48.507Z"
   },
   {
    "duration": 101,
    "start_time": "2023-08-18T15:56:52.989Z"
   },
   {
    "duration": 22,
    "start_time": "2023-08-18T15:57:24.669Z"
   },
   {
    "duration": 13,
    "start_time": "2023-08-18T15:57:40.121Z"
   },
   {
    "duration": 8,
    "start_time": "2023-08-18T15:57:56.458Z"
   },
   {
    "duration": 7,
    "start_time": "2023-08-18T15:58:06.893Z"
   },
   {
    "duration": 7570,
    "start_time": "2023-08-18T15:58:27.995Z"
   },
   {
    "duration": 7,
    "start_time": "2023-08-18T15:58:35.569Z"
   },
   {
    "duration": 41,
    "start_time": "2023-08-18T15:58:35.577Z"
   },
   {
    "duration": 145,
    "start_time": "2023-08-18T15:58:35.620Z"
   },
   {
    "duration": 201,
    "start_time": "2023-08-18T15:58:35.768Z"
   },
   {
    "duration": 18,
    "start_time": "2023-08-18T15:58:35.971Z"
   },
   {
    "duration": 18,
    "start_time": "2023-08-18T15:58:35.991Z"
   },
   {
    "duration": 56,
    "start_time": "2023-08-18T15:58:36.011Z"
   },
   {
    "duration": 9,
    "start_time": "2023-08-18T15:58:36.072Z"
   },
   {
    "duration": 5,
    "start_time": "2023-08-18T15:58:36.085Z"
   },
   {
    "duration": 41,
    "start_time": "2023-08-18T15:58:36.092Z"
   },
   {
    "duration": 27,
    "start_time": "2023-08-18T15:58:36.138Z"
   },
   {
    "duration": 28,
    "start_time": "2023-08-18T15:58:36.167Z"
   },
   {
    "duration": 6,
    "start_time": "2023-08-18T15:58:36.197Z"
   },
   {
    "duration": 44,
    "start_time": "2023-08-18T15:58:36.205Z"
   },
   {
    "duration": 46,
    "start_time": "2023-08-18T15:58:36.251Z"
   },
   {
    "duration": 62,
    "start_time": "2023-08-18T15:58:36.300Z"
   },
   {
    "duration": 9,
    "start_time": "2023-08-18T15:58:36.366Z"
   },
   {
    "duration": 29,
    "start_time": "2023-08-18T15:58:36.377Z"
   },
   {
    "duration": 13,
    "start_time": "2023-08-18T15:58:36.408Z"
   },
   {
    "duration": 8,
    "start_time": "2023-08-18T15:58:36.424Z"
   },
   {
    "duration": 40,
    "start_time": "2023-08-18T15:58:36.437Z"
   },
   {
    "duration": 25,
    "start_time": "2023-08-18T15:58:36.479Z"
   },
   {
    "duration": 62,
    "start_time": "2023-08-18T15:58:36.506Z"
   },
   {
    "duration": 40,
    "start_time": "2023-08-18T15:58:36.570Z"
   },
   {
    "duration": 22,
    "start_time": "2023-08-18T15:58:36.613Z"
   },
   {
    "duration": 18,
    "start_time": "2023-08-18T15:58:36.637Z"
   },
   {
    "duration": 19,
    "start_time": "2023-08-18T15:58:36.663Z"
   },
   {
    "duration": 14,
    "start_time": "2023-08-18T15:58:36.683Z"
   },
   {
    "duration": 17,
    "start_time": "2023-08-18T15:58:36.698Z"
   },
   {
    "duration": 36,
    "start_time": "2023-08-18T15:58:36.716Z"
   },
   {
    "duration": 9,
    "start_time": "2023-08-18T15:58:36.758Z"
   },
   {
    "duration": 110,
    "start_time": "2023-08-18T15:58:36.769Z"
   },
   {
    "duration": 1015,
    "start_time": "2023-08-18T15:58:36.881Z"
   },
   {
    "duration": 517,
    "start_time": "2023-08-18T15:58:37.898Z"
   },
   {
    "duration": 753,
    "start_time": "2023-08-18T15:58:38.417Z"
   },
   {
    "duration": 11,
    "start_time": "2023-08-18T15:58:39.172Z"
   },
   {
    "duration": 500,
    "start_time": "2023-08-18T15:58:39.185Z"
   },
   {
    "duration": 5500,
    "start_time": "2023-08-18T15:58:39.687Z"
   },
   {
    "duration": 387,
    "start_time": "2023-08-18T15:58:45.188Z"
   },
   {
    "duration": 3245,
    "start_time": "2023-08-18T15:58:45.577Z"
   },
   {
    "duration": 2,
    "start_time": "2023-08-18T15:58:48.825Z"
   },
   {
    "duration": 5,
    "start_time": "2023-08-18T15:58:48.829Z"
   },
   {
    "duration": 13,
    "start_time": "2023-08-18T15:58:48.835Z"
   },
   {
    "duration": 5,
    "start_time": "2023-08-18T15:58:48.850Z"
   },
   {
    "duration": 9,
    "start_time": "2023-08-18T15:58:48.857Z"
   },
   {
    "duration": 171,
    "start_time": "2023-08-18T15:58:48.868Z"
   },
   {
    "duration": 19,
    "start_time": "2023-08-18T15:58:49.041Z"
   },
   {
    "duration": 21,
    "start_time": "2023-08-18T15:58:49.062Z"
   },
   {
    "duration": 8,
    "start_time": "2023-08-18T15:58:49.084Z"
   },
   {
    "duration": 44,
    "start_time": "2023-08-18T15:58:49.093Z"
   },
   {
    "duration": 13,
    "start_time": "2023-08-18T15:58:49.139Z"
   },
   {
    "duration": 5,
    "start_time": "2023-08-18T15:58:49.154Z"
   },
   {
    "duration": 54,
    "start_time": "2023-08-18T15:58:49.161Z"
   },
   {
    "duration": 2,
    "start_time": "2023-08-18T15:58:49.217Z"
   },
   {
    "duration": 127,
    "start_time": "2023-08-18T15:58:49.226Z"
   },
   {
    "duration": 7,
    "start_time": "2023-08-18T16:00:37.855Z"
   },
   {
    "duration": 37,
    "start_time": "2023-08-18T16:00:46.611Z"
   },
   {
    "duration": 10,
    "start_time": "2023-08-18T16:01:48.005Z"
   },
   {
    "duration": 3,
    "start_time": "2023-08-18T16:01:51.761Z"
   },
   {
    "duration": 113,
    "start_time": "2023-08-18T16:02:13.510Z"
   },
   {
    "duration": 5,
    "start_time": "2023-08-18T16:02:34.211Z"
   },
   {
    "duration": 6,
    "start_time": "2023-08-18T16:02:37.407Z"
   },
   {
    "duration": 3,
    "start_time": "2023-08-18T16:02:57.758Z"
   },
   {
    "duration": 6,
    "start_time": "2023-08-18T16:02:57.995Z"
   },
   {
    "duration": 5,
    "start_time": "2023-08-18T16:03:43.266Z"
   },
   {
    "duration": 9,
    "start_time": "2023-08-18T16:03:43.707Z"
   },
   {
    "duration": 14,
    "start_time": "2023-08-18T16:04:11.655Z"
   },
   {
    "duration": 74,
    "start_time": "2023-08-18T16:04:26.570Z"
   },
   {
    "duration": 7674,
    "start_time": "2023-08-18T16:06:02.260Z"
   },
   {
    "duration": 13,
    "start_time": "2023-08-18T16:06:09.937Z"
   },
   {
    "duration": 23,
    "start_time": "2023-08-18T16:06:09.952Z"
   },
   {
    "duration": 114,
    "start_time": "2023-08-18T16:06:09.977Z"
   },
   {
    "duration": 173,
    "start_time": "2023-08-18T16:06:10.093Z"
   },
   {
    "duration": 16,
    "start_time": "2023-08-18T16:06:10.268Z"
   },
   {
    "duration": 58,
    "start_time": "2023-08-18T16:06:10.285Z"
   },
   {
    "duration": 38,
    "start_time": "2023-08-18T16:06:10.345Z"
   },
   {
    "duration": 7,
    "start_time": "2023-08-18T16:06:10.384Z"
   },
   {
    "duration": 49,
    "start_time": "2023-08-18T16:06:10.394Z"
   },
   {
    "duration": 64,
    "start_time": "2023-08-18T16:06:10.445Z"
   },
   {
    "duration": 33,
    "start_time": "2023-08-18T16:06:10.511Z"
   },
   {
    "duration": 20,
    "start_time": "2023-08-18T16:06:10.549Z"
   },
   {
    "duration": 24,
    "start_time": "2023-08-18T16:06:10.570Z"
   },
   {
    "duration": 56,
    "start_time": "2023-08-18T16:06:10.596Z"
   },
   {
    "duration": 35,
    "start_time": "2023-08-18T16:06:10.654Z"
   },
   {
    "duration": 19,
    "start_time": "2023-08-18T16:06:10.691Z"
   },
   {
    "duration": 9,
    "start_time": "2023-08-18T16:06:10.712Z"
   },
   {
    "duration": 37,
    "start_time": "2023-08-18T16:06:10.722Z"
   },
   {
    "duration": 21,
    "start_time": "2023-08-18T16:06:10.761Z"
   },
   {
    "duration": 8,
    "start_time": "2023-08-18T16:06:10.783Z"
   },
   {
    "duration": 19,
    "start_time": "2023-08-18T16:06:10.792Z"
   },
   {
    "duration": 23,
    "start_time": "2023-08-18T16:06:10.813Z"
   },
   {
    "duration": 42,
    "start_time": "2023-08-18T16:06:10.838Z"
   },
   {
    "duration": 31,
    "start_time": "2023-08-18T16:06:10.882Z"
   },
   {
    "duration": 32,
    "start_time": "2023-08-18T16:06:10.915Z"
   },
   {
    "duration": 14,
    "start_time": "2023-08-18T16:06:10.953Z"
   },
   {
    "duration": 6,
    "start_time": "2023-08-18T16:06:10.971Z"
   },
   {
    "duration": 13,
    "start_time": "2023-08-18T16:06:10.979Z"
   },
   {
    "duration": 8,
    "start_time": "2023-08-18T16:06:10.994Z"
   },
   {
    "duration": 13,
    "start_time": "2023-08-18T16:06:11.004Z"
   },
   {
    "duration": 30,
    "start_time": "2023-08-18T16:06:11.019Z"
   },
   {
    "duration": 61,
    "start_time": "2023-08-18T16:06:11.054Z"
   },
   {
    "duration": 962,
    "start_time": "2023-08-18T16:06:11.116Z"
   },
   {
    "duration": 415,
    "start_time": "2023-08-18T16:06:12.080Z"
   },
   {
    "duration": 721,
    "start_time": "2023-08-18T16:06:12.497Z"
   },
   {
    "duration": 24,
    "start_time": "2023-08-18T16:06:13.220Z"
   },
   {
    "duration": 320,
    "start_time": "2023-08-18T16:06:13.246Z"
   },
   {
    "duration": 5184,
    "start_time": "2023-08-18T16:06:13.568Z"
   },
   {
    "duration": 377,
    "start_time": "2023-08-18T16:06:18.761Z"
   },
   {
    "duration": 3400,
    "start_time": "2023-08-18T16:06:19.143Z"
   },
   {
    "duration": 13,
    "start_time": "2023-08-18T16:06:22.545Z"
   },
   {
    "duration": 3,
    "start_time": "2023-08-18T16:06:22.563Z"
   },
   {
    "duration": 10,
    "start_time": "2023-08-18T16:06:22.569Z"
   },
   {
    "duration": 5,
    "start_time": "2023-08-18T16:06:22.581Z"
   },
   {
    "duration": 5,
    "start_time": "2023-08-18T16:06:22.588Z"
   },
   {
    "duration": 32,
    "start_time": "2023-08-18T16:06:22.595Z"
   },
   {
    "duration": 12,
    "start_time": "2023-08-18T16:06:22.632Z"
   },
   {
    "duration": 6,
    "start_time": "2023-08-18T16:06:22.648Z"
   },
   {
    "duration": 10,
    "start_time": "2023-08-18T16:06:22.658Z"
   },
   {
    "duration": 64,
    "start_time": "2023-08-18T16:06:22.670Z"
   },
   {
    "duration": 15,
    "start_time": "2023-08-18T16:06:22.744Z"
   },
   {
    "duration": 7,
    "start_time": "2023-08-18T16:06:22.761Z"
   },
   {
    "duration": 61,
    "start_time": "2023-08-18T16:06:22.769Z"
   },
   {
    "duration": 4,
    "start_time": "2023-08-18T16:06:22.832Z"
   },
   {
    "duration": 31,
    "start_time": "2023-08-18T16:06:37.653Z"
   },
   {
    "duration": 9,
    "start_time": "2023-08-18T16:07:06.811Z"
   },
   {
    "duration": 20,
    "start_time": "2023-08-18T16:07:12.653Z"
   },
   {
    "duration": 9,
    "start_time": "2023-08-18T16:07:22.191Z"
   },
   {
    "duration": 9,
    "start_time": "2023-08-18T16:07:23.879Z"
   },
   {
    "duration": 3,
    "start_time": "2023-08-18T16:07:45.613Z"
   },
   {
    "duration": 4,
    "start_time": "2023-08-18T16:07:49.283Z"
   },
   {
    "duration": 4,
    "start_time": "2023-08-18T16:08:02.192Z"
   },
   {
    "duration": 5,
    "start_time": "2023-08-18T16:09:30.098Z"
   },
   {
    "duration": 3,
    "start_time": "2023-08-18T16:10:20.377Z"
   },
   {
    "duration": 3,
    "start_time": "2023-08-18T16:10:23.708Z"
   },
   {
    "duration": 5,
    "start_time": "2023-08-18T16:10:24.097Z"
   },
   {
    "duration": 20,
    "start_time": "2023-08-18T16:10:42.053Z"
   },
   {
    "duration": 5,
    "start_time": "2023-08-18T16:11:32.653Z"
   },
   {
    "duration": 20,
    "start_time": "2023-08-18T16:11:45.293Z"
   },
   {
    "duration": 25,
    "start_time": "2023-08-18T16:11:53.995Z"
   },
   {
    "duration": 16,
    "start_time": "2023-08-18T16:12:24.757Z"
   },
   {
    "duration": 3,
    "start_time": "2023-08-18T16:12:29.377Z"
   },
   {
    "duration": 4,
    "start_time": "2023-08-18T16:12:33.756Z"
   },
   {
    "duration": 4,
    "start_time": "2023-08-18T16:12:57.999Z"
   },
   {
    "duration": 32,
    "start_time": "2023-08-18T16:13:32.008Z"
   },
   {
    "duration": 4,
    "start_time": "2023-08-18T16:13:55.366Z"
   },
   {
    "duration": 9,
    "start_time": "2023-08-18T16:14:38.966Z"
   },
   {
    "duration": 7,
    "start_time": "2023-08-18T16:14:44.702Z"
   },
   {
    "duration": 10,
    "start_time": "2023-08-18T16:15:10.759Z"
   },
   {
    "duration": 13,
    "start_time": "2023-08-18T16:15:17.249Z"
   },
   {
    "duration": 12,
    "start_time": "2023-08-18T16:15:31.353Z"
   },
   {
    "duration": 5,
    "start_time": "2023-08-18T16:18:34.358Z"
   },
   {
    "duration": 9,
    "start_time": "2023-08-18T16:18:34.910Z"
   },
   {
    "duration": 110,
    "start_time": "2023-08-18T16:18:49.203Z"
   },
   {
    "duration": 95,
    "start_time": "2023-08-18T16:19:06.161Z"
   },
   {
    "duration": 17,
    "start_time": "2023-08-18T16:19:52.253Z"
   },
   {
    "duration": 4,
    "start_time": "2023-08-18T16:20:04.813Z"
   },
   {
    "duration": 3743,
    "start_time": "2023-08-18T16:20:54.296Z"
   },
   {
    "duration": 106,
    "start_time": "2023-08-18T16:21:12.186Z"
   },
   {
    "duration": 106,
    "start_time": "2023-08-18T16:21:45.056Z"
   },
   {
    "duration": 240,
    "start_time": "2023-08-18T16:22:07.915Z"
   },
   {
    "duration": 4,
    "start_time": "2023-08-18T16:22:56.102Z"
   },
   {
    "duration": 4,
    "start_time": "2023-08-18T16:23:03.066Z"
   },
   {
    "duration": 76,
    "start_time": "2023-08-18T16:23:05.950Z"
   },
   {
    "duration": 28,
    "start_time": "2023-08-18T16:23:28.716Z"
   },
   {
    "duration": 7,
    "start_time": "2023-08-18T16:24:52.896Z"
   },
   {
    "duration": 36,
    "start_time": "2023-08-18T16:25:28.716Z"
   },
   {
    "duration": 7114,
    "start_time": "2023-08-18T16:25:42.487Z"
   },
   {
    "duration": 6,
    "start_time": "2023-08-18T16:25:49.603Z"
   },
   {
    "duration": 6,
    "start_time": "2023-08-18T16:25:49.611Z"
   },
   {
    "duration": 137,
    "start_time": "2023-08-18T16:25:49.619Z"
   },
   {
    "duration": 172,
    "start_time": "2023-08-18T16:25:49.758Z"
   },
   {
    "duration": 23,
    "start_time": "2023-08-18T16:25:49.931Z"
   },
   {
    "duration": 11,
    "start_time": "2023-08-18T16:25:49.957Z"
   },
   {
    "duration": 18,
    "start_time": "2023-08-18T16:25:49.970Z"
   },
   {
    "duration": 3,
    "start_time": "2023-08-18T16:25:49.990Z"
   },
   {
    "duration": 33,
    "start_time": "2023-08-18T16:25:49.997Z"
   },
   {
    "duration": 65,
    "start_time": "2023-08-18T16:25:50.032Z"
   },
   {
    "duration": 17,
    "start_time": "2023-08-18T16:25:50.099Z"
   },
   {
    "duration": 39,
    "start_time": "2023-08-18T16:25:50.118Z"
   },
   {
    "duration": 4,
    "start_time": "2023-08-18T16:25:50.159Z"
   },
   {
    "duration": 10,
    "start_time": "2023-08-18T16:25:50.164Z"
   },
   {
    "duration": 11,
    "start_time": "2023-08-18T16:25:50.176Z"
   },
   {
    "duration": 14,
    "start_time": "2023-08-18T16:25:50.188Z"
   },
   {
    "duration": 26,
    "start_time": "2023-08-18T16:25:50.204Z"
   },
   {
    "duration": 26,
    "start_time": "2023-08-18T16:25:50.237Z"
   },
   {
    "duration": 19,
    "start_time": "2023-08-18T16:25:50.264Z"
   },
   {
    "duration": 10,
    "start_time": "2023-08-18T16:25:50.286Z"
   },
   {
    "duration": 22,
    "start_time": "2023-08-18T16:25:50.299Z"
   },
   {
    "duration": 54,
    "start_time": "2023-08-18T16:25:50.323Z"
   },
   {
    "duration": 23,
    "start_time": "2023-08-18T16:25:50.379Z"
   },
   {
    "duration": 38,
    "start_time": "2023-08-18T16:25:50.404Z"
   },
   {
    "duration": 23,
    "start_time": "2023-08-18T16:25:50.444Z"
   },
   {
    "duration": 7,
    "start_time": "2023-08-18T16:25:50.469Z"
   },
   {
    "duration": 18,
    "start_time": "2023-08-18T16:25:50.481Z"
   },
   {
    "duration": 6,
    "start_time": "2023-08-18T16:25:50.501Z"
   },
   {
    "duration": 36,
    "start_time": "2023-08-18T16:25:50.509Z"
   },
   {
    "duration": 4,
    "start_time": "2023-08-18T16:25:50.553Z"
   },
   {
    "duration": 12,
    "start_time": "2023-08-18T16:25:50.559Z"
   },
   {
    "duration": 86,
    "start_time": "2023-08-18T16:25:50.573Z"
   },
   {
    "duration": 998,
    "start_time": "2023-08-18T16:25:50.661Z"
   },
   {
    "duration": 593,
    "start_time": "2023-08-18T16:25:51.661Z"
   },
   {
    "duration": 836,
    "start_time": "2023-08-18T16:25:52.258Z"
   },
   {
    "duration": 15,
    "start_time": "2023-08-18T16:25:53.096Z"
   },
   {
    "duration": 371,
    "start_time": "2023-08-18T16:25:53.113Z"
   },
   {
    "duration": 7106,
    "start_time": "2023-08-18T16:25:53.485Z"
   },
   {
    "duration": 410,
    "start_time": "2023-08-18T16:26:00.593Z"
   },
   {
    "duration": 3766,
    "start_time": "2023-08-18T16:26:01.005Z"
   },
   {
    "duration": 2,
    "start_time": "2023-08-18T16:26:04.774Z"
   },
   {
    "duration": 31,
    "start_time": "2023-08-18T16:26:04.778Z"
   },
   {
    "duration": 26,
    "start_time": "2023-08-18T16:26:04.811Z"
   },
   {
    "duration": 11,
    "start_time": "2023-08-18T16:26:04.839Z"
   },
   {
    "duration": 7,
    "start_time": "2023-08-18T16:26:04.852Z"
   },
   {
    "duration": 49,
    "start_time": "2023-08-18T16:26:04.860Z"
   },
   {
    "duration": 52,
    "start_time": "2023-08-18T16:26:04.911Z"
   },
   {
    "duration": 35,
    "start_time": "2023-08-18T16:26:04.967Z"
   },
   {
    "duration": 36,
    "start_time": "2023-08-18T16:26:05.004Z"
   },
   {
    "duration": 59,
    "start_time": "2023-08-18T16:26:05.042Z"
   },
   {
    "duration": 14,
    "start_time": "2023-08-18T16:26:05.103Z"
   },
   {
    "duration": 28,
    "start_time": "2023-08-18T16:26:05.119Z"
   },
   {
    "duration": 63,
    "start_time": "2023-08-18T16:26:05.149Z"
   },
   {
    "duration": 3,
    "start_time": "2023-08-18T16:26:05.214Z"
   },
   {
    "duration": 53,
    "start_time": "2023-08-18T16:26:05.219Z"
   },
   {
    "duration": 179,
    "start_time": "2023-08-18T16:26:05.275Z"
   },
   {
    "duration": 4,
    "start_time": "2023-08-18T16:26:10.510Z"
   },
   {
    "duration": 88,
    "start_time": "2023-08-18T16:26:10.516Z"
   },
   {
    "duration": 1,
    "start_time": "2023-08-18T16:26:10.606Z"
   },
   {
    "duration": 0,
    "start_time": "2023-08-18T16:26:10.609Z"
   },
   {
    "duration": 0,
    "start_time": "2023-08-18T16:26:10.610Z"
   },
   {
    "duration": 0,
    "start_time": "2023-08-18T16:26:10.612Z"
   },
   {
    "duration": 0,
    "start_time": "2023-08-18T16:26:10.614Z"
   },
   {
    "duration": 0,
    "start_time": "2023-08-18T16:26:10.616Z"
   },
   {
    "duration": 0,
    "start_time": "2023-08-18T16:26:10.617Z"
   },
   {
    "duration": 0,
    "start_time": "2023-08-18T16:26:10.619Z"
   },
   {
    "duration": 0,
    "start_time": "2023-08-18T16:26:10.621Z"
   },
   {
    "duration": 0,
    "start_time": "2023-08-18T16:26:10.622Z"
   },
   {
    "duration": 0,
    "start_time": "2023-08-18T16:26:10.623Z"
   },
   {
    "duration": 0,
    "start_time": "2023-08-18T16:26:10.624Z"
   },
   {
    "duration": 0,
    "start_time": "2023-08-18T16:26:10.625Z"
   },
   {
    "duration": 8319,
    "start_time": "2023-08-18T16:26:16.923Z"
   },
   {
    "duration": 18,
    "start_time": "2023-08-18T16:26:25.251Z"
   },
   {
    "duration": 12,
    "start_time": "2023-08-18T16:26:25.275Z"
   },
   {
    "duration": 146,
    "start_time": "2023-08-18T16:26:25.290Z"
   },
   {
    "duration": 202,
    "start_time": "2023-08-18T16:26:25.445Z"
   },
   {
    "duration": 17,
    "start_time": "2023-08-18T16:26:25.649Z"
   },
   {
    "duration": 17,
    "start_time": "2023-08-18T16:26:25.668Z"
   },
   {
    "duration": 18,
    "start_time": "2023-08-18T16:26:25.686Z"
   },
   {
    "duration": 19,
    "start_time": "2023-08-18T16:26:25.706Z"
   },
   {
    "duration": 5,
    "start_time": "2023-08-18T16:26:25.739Z"
   },
   {
    "duration": 40,
    "start_time": "2023-08-18T16:26:25.748Z"
   },
   {
    "duration": 25,
    "start_time": "2023-08-18T16:26:25.790Z"
   },
   {
    "duration": 50,
    "start_time": "2023-08-18T16:26:25.823Z"
   },
   {
    "duration": 6,
    "start_time": "2023-08-18T16:26:25.875Z"
   },
   {
    "duration": 11,
    "start_time": "2023-08-18T16:26:25.883Z"
   },
   {
    "duration": 20,
    "start_time": "2023-08-18T16:26:25.897Z"
   },
   {
    "duration": 24,
    "start_time": "2023-08-18T16:26:25.920Z"
   },
   {
    "duration": 12,
    "start_time": "2023-08-18T16:26:25.948Z"
   },
   {
    "duration": 24,
    "start_time": "2023-08-18T16:26:25.962Z"
   },
   {
    "duration": 15,
    "start_time": "2023-08-18T16:26:25.988Z"
   },
   {
    "duration": 30,
    "start_time": "2023-08-18T16:26:26.005Z"
   },
   {
    "duration": 31,
    "start_time": "2023-08-18T16:26:26.039Z"
   },
   {
    "duration": 30,
    "start_time": "2023-08-18T16:26:26.073Z"
   },
   {
    "duration": 26,
    "start_time": "2023-08-18T16:26:26.106Z"
   },
   {
    "duration": 30,
    "start_time": "2023-08-18T16:26:26.140Z"
   },
   {
    "duration": 23,
    "start_time": "2023-08-18T16:26:26.173Z"
   },
   {
    "duration": 5,
    "start_time": "2023-08-18T16:26:26.199Z"
   },
   {
    "duration": 24,
    "start_time": "2023-08-18T16:26:26.209Z"
   },
   {
    "duration": 10,
    "start_time": "2023-08-18T16:26:26.235Z"
   },
   {
    "duration": 11,
    "start_time": "2023-08-18T16:26:26.247Z"
   },
   {
    "duration": 20,
    "start_time": "2023-08-18T16:26:26.260Z"
   },
   {
    "duration": 14,
    "start_time": "2023-08-18T16:26:26.283Z"
   },
   {
    "duration": 97,
    "start_time": "2023-08-18T16:26:26.299Z"
   },
   {
    "duration": 1066,
    "start_time": "2023-08-18T16:26:26.399Z"
   },
   {
    "duration": 454,
    "start_time": "2023-08-18T16:26:27.466Z"
   },
   {
    "duration": 760,
    "start_time": "2023-08-18T16:26:27.927Z"
   },
   {
    "duration": 13,
    "start_time": "2023-08-18T16:26:28.689Z"
   },
   {
    "duration": 378,
    "start_time": "2023-08-18T16:26:28.703Z"
   },
   {
    "duration": 5589,
    "start_time": "2023-08-18T16:26:29.083Z"
   },
   {
    "duration": 393,
    "start_time": "2023-08-18T16:26:34.674Z"
   },
   {
    "duration": 3366,
    "start_time": "2023-08-18T16:26:35.069Z"
   },
   {
    "duration": 3,
    "start_time": "2023-08-18T16:26:38.437Z"
   },
   {
    "duration": 14,
    "start_time": "2023-08-18T16:26:38.442Z"
   },
   {
    "duration": 12,
    "start_time": "2023-08-18T16:26:38.458Z"
   },
   {
    "duration": 6,
    "start_time": "2023-08-18T16:26:38.472Z"
   },
   {
    "duration": 6,
    "start_time": "2023-08-18T16:26:38.480Z"
   },
   {
    "duration": 7,
    "start_time": "2023-08-18T16:26:38.488Z"
   },
   {
    "duration": 34,
    "start_time": "2023-08-18T16:26:38.496Z"
   },
   {
    "duration": 23,
    "start_time": "2023-08-18T16:26:38.532Z"
   },
   {
    "duration": 11,
    "start_time": "2023-08-18T16:26:38.557Z"
   },
   {
    "duration": 37,
    "start_time": "2023-08-18T16:26:38.570Z"
   },
   {
    "duration": 7,
    "start_time": "2023-08-18T16:26:38.609Z"
   },
   {
    "duration": 29,
    "start_time": "2023-08-18T16:26:38.618Z"
   },
   {
    "duration": 3,
    "start_time": "2023-08-18T16:26:43.255Z"
   },
   {
    "duration": 4,
    "start_time": "2023-08-18T16:26:46.893Z"
   },
   {
    "duration": 5,
    "start_time": "2023-08-18T16:26:51.021Z"
   },
   {
    "duration": 5,
    "start_time": "2023-08-18T16:26:51.198Z"
   },
   {
    "duration": 11143,
    "start_time": "2023-08-18T16:26:52.645Z"
   },
   {
    "duration": 24,
    "start_time": "2023-08-18T16:27:03.790Z"
   },
   {
    "duration": 17,
    "start_time": "2023-08-18T16:27:09.259Z"
   },
   {
    "duration": 3,
    "start_time": "2023-08-18T16:27:15.312Z"
   },
   {
    "duration": 9931,
    "start_time": "2023-08-18T16:27:15.560Z"
   },
   {
    "duration": 26,
    "start_time": "2023-08-18T16:27:25.493Z"
   },
   {
    "duration": 34,
    "start_time": "2023-08-18T16:27:35.455Z"
   },
   {
    "duration": 4,
    "start_time": "2023-08-18T16:28:43.890Z"
   },
   {
    "duration": 25,
    "start_time": "2023-08-18T16:28:45.832Z"
   },
   {
    "duration": 6,
    "start_time": "2023-08-18T16:29:35.353Z"
   },
   {
    "duration": 4,
    "start_time": "2023-08-18T16:29:59.660Z"
   },
   {
    "duration": 5,
    "start_time": "2023-08-18T16:30:05.259Z"
   },
   {
    "duration": 4,
    "start_time": "2023-08-18T16:30:19.162Z"
   },
   {
    "duration": 579,
    "start_time": "2023-08-18T16:30:22.976Z"
   },
   {
    "duration": 113,
    "start_time": "2023-08-18T16:30:28.755Z"
   },
   {
    "duration": 462,
    "start_time": "2023-08-18T16:30:30.873Z"
   },
   {
    "duration": 121,
    "start_time": "2023-08-18T16:31:25.269Z"
   },
   {
    "duration": 122,
    "start_time": "2023-08-18T16:32:25.291Z"
   },
   {
    "duration": 26103,
    "start_time": "2023-08-18T16:32:31.061Z"
   },
   {
    "duration": 16446,
    "start_time": "2023-08-18T16:33:00.179Z"
   },
   {
    "duration": 0,
    "start_time": "2023-08-18T16:33:16.631Z"
   },
   {
    "duration": 14,
    "start_time": "2023-08-18T16:33:18.454Z"
   },
   {
    "duration": 6,
    "start_time": "2023-08-18T16:33:36.954Z"
   },
   {
    "duration": 13,
    "start_time": "2023-08-18T16:33:43.492Z"
   },
   {
    "duration": 13,
    "start_time": "2023-08-18T16:33:52.944Z"
   },
   {
    "duration": 9,
    "start_time": "2023-08-18T16:35:48.724Z"
   },
   {
    "duration": 23,
    "start_time": "2023-08-18T16:35:58.583Z"
   },
   {
    "duration": 4,
    "start_time": "2023-08-18T16:36:42.557Z"
   },
   {
    "duration": 4,
    "start_time": "2023-08-18T16:36:42.957Z"
   },
   {
    "duration": 10,
    "start_time": "2023-08-18T16:37:44.799Z"
   },
   {
    "duration": 4,
    "start_time": "2023-08-18T16:37:48.598Z"
   },
   {
    "duration": 139,
    "start_time": "2023-08-18T16:37:57.258Z"
   },
   {
    "duration": 13,
    "start_time": "2023-08-18T16:38:26.276Z"
   },
   {
    "duration": 5,
    "start_time": "2023-08-18T16:38:35.099Z"
   },
   {
    "duration": 11,
    "start_time": "2023-08-18T16:38:57.225Z"
   },
   {
    "duration": 8,
    "start_time": "2023-08-18T16:38:58.587Z"
   },
   {
    "duration": 18,
    "start_time": "2023-08-18T16:40:01.554Z"
   },
   {
    "duration": 4,
    "start_time": "2023-08-18T16:40:07.587Z"
   },
   {
    "duration": 6,
    "start_time": "2023-08-18T16:40:08.053Z"
   },
   {
    "duration": 4,
    "start_time": "2023-08-18T16:40:16.962Z"
   },
   {
    "duration": 6,
    "start_time": "2023-08-18T16:40:20.056Z"
   },
   {
    "duration": 3,
    "start_time": "2023-08-18T16:40:26.357Z"
   },
   {
    "duration": 3,
    "start_time": "2023-08-18T16:40:26.559Z"
   },
   {
    "duration": 4,
    "start_time": "2023-08-18T16:40:26.760Z"
   },
   {
    "duration": 5,
    "start_time": "2023-08-18T16:40:31.070Z"
   },
   {
    "duration": 11,
    "start_time": "2023-08-18T16:40:44.460Z"
   },
   {
    "duration": 24,
    "start_time": "2023-08-18T16:41:12.436Z"
   },
   {
    "duration": 191,
    "start_time": "2023-08-18T16:41:33.759Z"
   },
   {
    "duration": 5,
    "start_time": "2023-08-18T16:41:42.416Z"
   },
   {
    "duration": 13,
    "start_time": "2023-08-18T16:41:47.456Z"
   },
   {
    "duration": 15,
    "start_time": "2023-08-18T16:41:52.463Z"
   },
   {
    "duration": 10,
    "start_time": "2023-08-18T16:42:01.863Z"
   },
   {
    "duration": 5,
    "start_time": "2023-08-18T16:42:10.814Z"
   },
   {
    "duration": 9,
    "start_time": "2023-08-18T16:42:13.580Z"
   },
   {
    "duration": 4,
    "start_time": "2023-08-18T16:42:18.072Z"
   },
   {
    "duration": 8,
    "start_time": "2023-08-18T16:42:20.055Z"
   },
   {
    "duration": 17,
    "start_time": "2023-08-18T16:42:22.300Z"
   },
   {
    "duration": 1720,
    "start_time": "2023-08-18T16:46:58.569Z"
   },
   {
    "duration": 6,
    "start_time": "2023-08-18T16:47:06.177Z"
   },
   {
    "duration": 6,
    "start_time": "2023-08-18T16:47:21.496Z"
   },
   {
    "duration": 6,
    "start_time": "2023-08-18T16:47:35.595Z"
   },
   {
    "duration": 21118,
    "start_time": "2023-08-18T16:47:42.555Z"
   },
   {
    "duration": 3,
    "start_time": "2023-08-18T16:48:23.871Z"
   },
   {
    "duration": 40190,
    "start_time": "2023-08-18T16:48:40.013Z"
   },
   {
    "duration": 6,
    "start_time": "2023-08-18T16:50:05.788Z"
   },
   {
    "duration": 30,
    "start_time": "2023-08-18T16:50:19.368Z"
   },
   {
    "duration": 8,
    "start_time": "2023-08-18T16:50:38.151Z"
   },
   {
    "duration": 41008,
    "start_time": "2023-08-18T16:50:55.866Z"
   },
   {
    "duration": 447,
    "start_time": "2023-08-18T16:52:05.213Z"
   },
   {
    "duration": 4,
    "start_time": "2023-08-18T16:52:54.310Z"
   },
   {
    "duration": 9,
    "start_time": "2023-08-18T16:55:49.567Z"
   },
   {
    "duration": 9,
    "start_time": "2023-08-18T16:55:52.992Z"
   },
   {
    "duration": 49,
    "start_time": "2023-08-18T16:55:55.644Z"
   },
   {
    "duration": 7777,
    "start_time": "2023-08-18T16:56:50.499Z"
   },
   {
    "duration": 1329,
    "start_time": "2023-08-18T16:56:58.279Z"
   },
   {
    "duration": 3,
    "start_time": "2023-08-18T16:56:59.610Z"
   },
   {
    "duration": 144,
    "start_time": "2023-08-18T16:56:59.614Z"
   },
   {
    "duration": 227,
    "start_time": "2023-08-18T16:56:59.760Z"
   },
   {
    "duration": 12,
    "start_time": "2023-08-18T16:56:59.988Z"
   },
   {
    "duration": 46,
    "start_time": "2023-08-18T16:57:00.002Z"
   },
   {
    "duration": 21,
    "start_time": "2023-08-18T16:57:00.050Z"
   },
   {
    "duration": 17,
    "start_time": "2023-08-18T16:57:00.073Z"
   },
   {
    "duration": 53,
    "start_time": "2023-08-18T16:57:00.093Z"
   },
   {
    "duration": 83,
    "start_time": "2023-08-18T16:57:00.153Z"
   },
   {
    "duration": 92,
    "start_time": "2023-08-18T16:57:00.244Z"
   },
   {
    "duration": 83,
    "start_time": "2023-08-18T16:57:00.338Z"
   },
   {
    "duration": 53,
    "start_time": "2023-08-18T16:57:00.424Z"
   },
   {
    "duration": 53,
    "start_time": "2023-08-18T16:57:00.479Z"
   },
   {
    "duration": 63,
    "start_time": "2023-08-18T16:57:00.534Z"
   },
   {
    "duration": 77,
    "start_time": "2023-08-18T16:57:00.599Z"
   },
   {
    "duration": 32,
    "start_time": "2023-08-18T16:57:00.678Z"
   },
   {
    "duration": 34,
    "start_time": "2023-08-18T16:57:00.712Z"
   },
   {
    "duration": 30,
    "start_time": "2023-08-18T16:57:00.748Z"
   },
   {
    "duration": 30,
    "start_time": "2023-08-18T16:57:00.780Z"
   },
   {
    "duration": 54,
    "start_time": "2023-08-18T16:57:00.812Z"
   },
   {
    "duration": 51,
    "start_time": "2023-08-18T16:57:00.869Z"
   },
   {
    "duration": 40,
    "start_time": "2023-08-18T16:57:00.922Z"
   },
   {
    "duration": 18,
    "start_time": "2023-08-18T16:57:00.964Z"
   },
   {
    "duration": 57,
    "start_time": "2023-08-18T16:57:00.984Z"
   },
   {
    "duration": 16,
    "start_time": "2023-08-18T16:57:01.051Z"
   },
   {
    "duration": 40,
    "start_time": "2023-08-18T16:57:01.072Z"
   },
   {
    "duration": 32,
    "start_time": "2023-08-18T16:57:01.114Z"
   },
   {
    "duration": 8,
    "start_time": "2023-08-18T16:57:01.147Z"
   },
   {
    "duration": 11,
    "start_time": "2023-08-18T16:57:01.157Z"
   },
   {
    "duration": 13,
    "start_time": "2023-08-18T16:57:01.170Z"
   },
   {
    "duration": 82,
    "start_time": "2023-08-18T16:57:01.184Z"
   },
   {
    "duration": 1063,
    "start_time": "2023-08-18T16:57:01.268Z"
   },
   {
    "duration": 508,
    "start_time": "2023-08-18T16:57:02.333Z"
   },
   {
    "duration": 709,
    "start_time": "2023-08-18T16:57:02.844Z"
   },
   {
    "duration": 12,
    "start_time": "2023-08-18T16:57:03.555Z"
   },
   {
    "duration": 329,
    "start_time": "2023-08-18T16:57:03.569Z"
   },
   {
    "duration": 5254,
    "start_time": "2023-08-18T16:57:03.900Z"
   },
   {
    "duration": 396,
    "start_time": "2023-08-18T16:57:09.156Z"
   },
   {
    "duration": 3139,
    "start_time": "2023-08-18T16:57:09.555Z"
   },
   {
    "duration": 3,
    "start_time": "2023-08-18T16:57:12.696Z"
   },
   {
    "duration": 30,
    "start_time": "2023-08-18T16:57:12.701Z"
   },
   {
    "duration": 16,
    "start_time": "2023-08-18T16:57:12.733Z"
   },
   {
    "duration": 9,
    "start_time": "2023-08-18T16:57:12.752Z"
   },
   {
    "duration": 6,
    "start_time": "2023-08-18T16:57:12.763Z"
   },
   {
    "duration": 12,
    "start_time": "2023-08-18T16:57:12.771Z"
   },
   {
    "duration": 8,
    "start_time": "2023-08-18T16:57:12.785Z"
   },
   {
    "duration": 7,
    "start_time": "2023-08-18T16:57:12.795Z"
   },
   {
    "duration": 60,
    "start_time": "2023-08-18T16:57:12.804Z"
   },
   {
    "duration": 8,
    "start_time": "2023-08-18T16:57:12.867Z"
   },
   {
    "duration": 7,
    "start_time": "2023-08-18T16:57:12.877Z"
   },
   {
    "duration": 105,
    "start_time": "2023-08-18T16:57:12.886Z"
   },
   {
    "duration": 3,
    "start_time": "2023-08-18T16:57:12.993Z"
   },
   {
    "duration": 5,
    "start_time": "2023-08-18T16:57:12.998Z"
   },
   {
    "duration": 4,
    "start_time": "2023-08-18T16:57:13.004Z"
   },
   {
    "duration": 241075,
    "start_time": "2023-08-18T16:57:13.033Z"
   },
   {
    "duration": 4,
    "start_time": "2023-08-18T17:01:14.110Z"
   },
   {
    "duration": 25,
    "start_time": "2023-08-18T17:01:14.115Z"
   },
   {
    "duration": 21,
    "start_time": "2023-08-18T17:01:14.142Z"
   },
   {
    "duration": 60,
    "start_time": "2023-08-18T17:01:14.165Z"
   },
   {
    "duration": 867,
    "start_time": "2023-08-18T17:01:14.233Z"
   },
   {
    "duration": 44,
    "start_time": "2023-08-18T17:01:15.102Z"
   },
   {
    "duration": 3328,
    "start_time": "2023-08-18T17:01:15.147Z"
   },
   {
    "duration": 428,
    "start_time": "2023-08-18T17:01:18.477Z"
   },
   {
    "duration": 119,
    "start_time": "2023-08-18T17:04:18.052Z"
   },
   {
    "duration": 29,
    "start_time": "2023-08-18T17:04:48.673Z"
   },
   {
    "duration": 1705,
    "start_time": "2023-08-18T17:04:52.994Z"
   },
   {
    "duration": 33,
    "start_time": "2023-08-18T17:05:07.012Z"
   },
   {
    "duration": 47,
    "start_time": "2023-08-18T17:05:15.044Z"
   },
   {
    "duration": 12,
    "start_time": "2023-08-18T17:05:30.786Z"
   },
   {
    "duration": 14,
    "start_time": "2023-08-18T17:05:41.858Z"
   },
   {
    "duration": 13,
    "start_time": "2023-08-18T17:05:54.762Z"
   },
   {
    "duration": 33,
    "start_time": "2023-08-18T17:06:00.292Z"
   },
   {
    "duration": 37,
    "start_time": "2023-08-18T17:06:06.303Z"
   },
   {
    "duration": 37,
    "start_time": "2023-08-18T17:06:15.345Z"
   },
   {
    "duration": 30,
    "start_time": "2023-08-18T17:06:20.256Z"
   },
   {
    "duration": 35,
    "start_time": "2023-08-18T17:06:23.707Z"
   },
   {
    "duration": 46,
    "start_time": "2023-08-18T17:06:38.673Z"
   },
   {
    "duration": 108,
    "start_time": "2023-08-18T17:07:30.686Z"
   },
   {
    "duration": 4,
    "start_time": "2023-08-18T17:07:51.508Z"
   },
   {
    "duration": 21,
    "start_time": "2023-08-18T17:07:53.788Z"
   },
   {
    "duration": 8,
    "start_time": "2023-08-18T17:07:58.336Z"
   },
   {
    "duration": 4,
    "start_time": "2023-08-18T17:08:00.301Z"
   },
   {
    "duration": 5,
    "start_time": "2023-08-18T17:08:04.290Z"
   },
   {
    "duration": 27,
    "start_time": "2023-08-18T17:09:47.054Z"
   },
   {
    "duration": 32,
    "start_time": "2023-08-18T17:09:55.541Z"
   },
   {
    "duration": 3,
    "start_time": "2023-08-18T17:10:25.559Z"
   },
   {
    "duration": 10,
    "start_time": "2023-08-18T17:10:32.354Z"
   },
   {
    "duration": 3,
    "start_time": "2023-08-18T17:10:40.561Z"
   },
   {
    "duration": 3,
    "start_time": "2023-08-18T17:10:42.853Z"
   },
   {
    "duration": 4,
    "start_time": "2023-08-18T17:11:00.998Z"
   },
   {
    "duration": 6336,
    "start_time": "2023-08-18T17:11:32.771Z"
   },
   {
    "duration": 7,
    "start_time": "2023-08-18T17:11:46.349Z"
   },
   {
    "duration": 3,
    "start_time": "2023-08-18T17:11:51.297Z"
   },
   {
    "duration": 75229,
    "start_time": "2023-08-18T17:11:56.271Z"
   },
   {
    "duration": 4,
    "start_time": "2023-08-18T17:13:11.502Z"
   },
   {
    "duration": 22,
    "start_time": "2023-08-18T17:13:11.508Z"
   },
   {
    "duration": 23,
    "start_time": "2023-08-18T17:13:11.537Z"
   },
   {
    "duration": 20,
    "start_time": "2023-08-18T17:13:11.562Z"
   },
   {
    "duration": 3,
    "start_time": "2023-08-18T17:13:44.102Z"
   },
   {
    "duration": 12418,
    "start_time": "2023-08-18T17:13:45.370Z"
   },
   {
    "duration": 51,
    "start_time": "2023-08-18T17:14:03.787Z"
   },
   {
    "duration": 83,
    "start_time": "2023-08-18T17:14:47.893Z"
   },
   {
    "duration": 12978,
    "start_time": "2023-08-18T17:16:00.435Z"
   },
   {
    "duration": 52011,
    "start_time": "2023-08-18T17:16:14.556Z"
   },
   {
    "duration": 536,
    "start_time": "2023-08-18T17:17:06.570Z"
   },
   {
    "duration": 3,
    "start_time": "2023-08-18T17:18:16.102Z"
   },
   {
    "duration": 4,
    "start_time": "2023-08-18T17:18:18.551Z"
   },
   {
    "duration": 11,
    "start_time": "2023-08-18T17:18:20.547Z"
   },
   {
    "duration": 5,
    "start_time": "2023-08-18T17:18:37.320Z"
   },
   {
    "duration": 3,
    "start_time": "2023-08-18T17:18:48.559Z"
   },
   {
    "duration": 30,
    "start_time": "2023-08-18T17:18:50.349Z"
   },
   {
    "duration": 3,
    "start_time": "2023-08-18T17:19:03.355Z"
   },
   {
    "duration": 3,
    "start_time": "2023-08-18T17:19:04.450Z"
   },
   {
    "duration": 2,
    "start_time": "2023-08-18T17:19:04.816Z"
   },
   {
    "duration": 24,
    "start_time": "2023-08-18T17:19:05.448Z"
   },
   {
    "duration": 101,
    "start_time": "2023-08-18T17:19:37.466Z"
   },
   {
    "duration": 4,
    "start_time": "2023-08-18T17:19:42.191Z"
   },
   {
    "duration": 7,
    "start_time": "2023-08-18T17:19:43.045Z"
   },
   {
    "duration": 10087,
    "start_time": "2023-08-18T17:19:43.689Z"
   },
   {
    "duration": 70,
    "start_time": "2023-08-18T17:20:14.873Z"
   },
   {
    "duration": 52,
    "start_time": "2023-08-18T17:21:06.949Z"
   },
   {
    "duration": 64,
    "start_time": "2023-08-18T17:21:23.586Z"
   },
   {
    "duration": 78,
    "start_time": "2023-08-18T17:22:13.590Z"
   },
   {
    "duration": 14868,
    "start_time": "2023-08-18T20:41:34.574Z"
   },
   {
    "duration": 1667,
    "start_time": "2023-08-18T20:41:49.444Z"
   },
   {
    "duration": 10,
    "start_time": "2023-08-18T20:41:51.118Z"
   },
   {
    "duration": 3,
    "start_time": "2023-08-18T20:41:51.151Z"
   },
   {
    "duration": 5,
    "start_time": "2023-08-18T20:41:51.314Z"
   },
   {
    "duration": 5,
    "start_time": "2023-08-18T20:42:00.286Z"
   },
   {
    "duration": 3,
    "start_time": "2023-08-18T20:42:17.860Z"
   },
   {
    "duration": 4,
    "start_time": "2023-08-18T20:42:18.365Z"
   },
   {
    "duration": 4,
    "start_time": "2023-08-18T20:42:19.113Z"
   },
   {
    "duration": 3,
    "start_time": "2023-08-18T20:42:24.340Z"
   },
   {
    "duration": 3,
    "start_time": "2023-08-18T20:42:25.158Z"
   },
   {
    "duration": 4,
    "start_time": "2023-08-18T20:42:26.132Z"
   },
   {
    "duration": 85,
    "start_time": "2023-08-18T20:46:15.915Z"
   },
   {
    "duration": 108,
    "start_time": "2023-08-18T20:46:20.417Z"
   },
   {
    "duration": 7,
    "start_time": "2023-08-18T20:46:28.549Z"
   },
   {
    "duration": 8092,
    "start_time": "2023-08-18T20:49:39.367Z"
   },
   {
    "duration": 6,
    "start_time": "2023-08-18T20:49:47.461Z"
   },
   {
    "duration": 19,
    "start_time": "2023-08-18T20:49:47.468Z"
   },
   {
    "duration": 323,
    "start_time": "2023-08-18T20:49:47.489Z"
   },
   {
    "duration": 183,
    "start_time": "2023-08-18T20:49:47.814Z"
   },
   {
    "duration": 13,
    "start_time": "2023-08-18T20:49:47.999Z"
   },
   {
    "duration": 12,
    "start_time": "2023-08-18T20:49:48.014Z"
   },
   {
    "duration": 14,
    "start_time": "2023-08-18T20:49:48.028Z"
   },
   {
    "duration": 2,
    "start_time": "2023-08-18T20:49:48.044Z"
   },
   {
    "duration": 9,
    "start_time": "2023-08-18T20:49:48.047Z"
   },
   {
    "duration": 27,
    "start_time": "2023-08-18T20:49:48.081Z"
   },
   {
    "duration": 18,
    "start_time": "2023-08-18T20:49:48.110Z"
   },
   {
    "duration": 19,
    "start_time": "2023-08-18T20:49:48.129Z"
   },
   {
    "duration": 4,
    "start_time": "2023-08-18T20:49:48.151Z"
   },
   {
    "duration": 11,
    "start_time": "2023-08-18T20:49:48.181Z"
   },
   {
    "duration": 14,
    "start_time": "2023-08-18T20:49:48.194Z"
   },
   {
    "duration": 31,
    "start_time": "2023-08-18T20:49:48.210Z"
   },
   {
    "duration": 8,
    "start_time": "2023-08-18T20:49:48.243Z"
   },
   {
    "duration": 12,
    "start_time": "2023-08-18T20:49:48.252Z"
   },
   {
    "duration": 19,
    "start_time": "2023-08-18T20:49:48.265Z"
   },
   {
    "duration": 7,
    "start_time": "2023-08-18T20:49:48.286Z"
   },
   {
    "duration": 22,
    "start_time": "2023-08-18T20:49:48.295Z"
   },
   {
    "duration": 21,
    "start_time": "2023-08-18T20:49:48.319Z"
   },
   {
    "duration": 44,
    "start_time": "2023-08-18T20:49:48.341Z"
   },
   {
    "duration": 24,
    "start_time": "2023-08-18T20:49:48.387Z"
   },
   {
    "duration": 15,
    "start_time": "2023-08-18T20:49:48.414Z"
   },
   {
    "duration": 4,
    "start_time": "2023-08-18T20:49:48.430Z"
   },
   {
    "duration": 7,
    "start_time": "2023-08-18T20:49:48.436Z"
   },
   {
    "duration": 38,
    "start_time": "2023-08-18T20:49:48.444Z"
   },
   {
    "duration": 7,
    "start_time": "2023-08-18T20:49:48.484Z"
   },
   {
    "duration": 9,
    "start_time": "2023-08-18T20:49:48.493Z"
   },
   {
    "duration": 8,
    "start_time": "2023-08-18T20:49:48.505Z"
   },
   {
    "duration": 94,
    "start_time": "2023-08-18T20:49:48.515Z"
   },
   {
    "duration": 1126,
    "start_time": "2023-08-18T20:49:48.611Z"
   },
   {
    "duration": 411,
    "start_time": "2023-08-18T20:49:49.739Z"
   },
   {
    "duration": 747,
    "start_time": "2023-08-18T20:49:50.152Z"
   },
   {
    "duration": 12,
    "start_time": "2023-08-18T20:49:50.903Z"
   },
   {
    "duration": 336,
    "start_time": "2023-08-18T20:49:50.917Z"
   },
   {
    "duration": 5223,
    "start_time": "2023-08-18T20:49:51.256Z"
   },
   {
    "duration": 424,
    "start_time": "2023-08-18T20:49:56.485Z"
   },
   {
    "duration": 3086,
    "start_time": "2023-08-18T20:49:56.914Z"
   },
   {
    "duration": 3,
    "start_time": "2023-08-18T20:50:00.003Z"
   },
   {
    "duration": 6,
    "start_time": "2023-08-18T20:50:00.008Z"
   },
   {
    "duration": 30,
    "start_time": "2023-08-18T20:50:00.016Z"
   },
   {
    "duration": 25,
    "start_time": "2023-08-18T20:50:00.048Z"
   },
   {
    "duration": 43,
    "start_time": "2023-08-18T20:50:00.075Z"
   },
   {
    "duration": 50,
    "start_time": "2023-08-18T20:50:00.120Z"
   },
   {
    "duration": 42,
    "start_time": "2023-08-18T20:50:00.172Z"
   },
   {
    "duration": 38,
    "start_time": "2023-08-18T20:50:00.215Z"
   },
   {
    "duration": 35,
    "start_time": "2023-08-18T20:50:00.254Z"
   },
   {
    "duration": 51,
    "start_time": "2023-08-18T20:50:00.292Z"
   },
   {
    "duration": 46,
    "start_time": "2023-08-18T20:50:00.345Z"
   },
   {
    "duration": 52,
    "start_time": "2023-08-18T20:50:00.393Z"
   },
   {
    "duration": 80,
    "start_time": "2023-08-18T20:50:00.447Z"
   },
   {
    "duration": 59,
    "start_time": "2023-08-18T20:50:00.529Z"
   },
   {
    "duration": 40,
    "start_time": "2023-08-18T20:50:00.591Z"
   },
   {
    "duration": 116,
    "start_time": "2023-08-18T20:50:00.633Z"
   },
   {
    "duration": 8,
    "start_time": "2023-08-18T20:50:00.750Z"
   },
   {
    "duration": 7059,
    "start_time": "2023-08-18T20:51:09.114Z"
   },
   {
    "duration": 7,
    "start_time": "2023-08-18T20:51:16.176Z"
   },
   {
    "duration": 13,
    "start_time": "2023-08-18T20:51:16.185Z"
   },
   {
    "duration": 107,
    "start_time": "2023-08-18T20:51:16.200Z"
   },
   {
    "duration": 126,
    "start_time": "2023-08-18T20:51:16.309Z"
   },
   {
    "duration": 11,
    "start_time": "2023-08-18T20:51:16.437Z"
   },
   {
    "duration": 40,
    "start_time": "2023-08-18T20:51:16.450Z"
   },
   {
    "duration": 18,
    "start_time": "2023-08-18T20:51:16.492Z"
   },
   {
    "duration": 7,
    "start_time": "2023-08-18T20:51:16.512Z"
   },
   {
    "duration": 2,
    "start_time": "2023-08-18T20:51:16.521Z"
   },
   {
    "duration": 56,
    "start_time": "2023-08-18T20:51:16.525Z"
   },
   {
    "duration": 21,
    "start_time": "2023-08-18T20:51:16.583Z"
   },
   {
    "duration": 20,
    "start_time": "2023-08-18T20:51:16.606Z"
   },
   {
    "duration": 6,
    "start_time": "2023-08-18T20:51:16.630Z"
   },
   {
    "duration": 16,
    "start_time": "2023-08-18T20:51:16.638Z"
   },
   {
    "duration": 33,
    "start_time": "2023-08-18T20:51:16.656Z"
   },
   {
    "duration": 28,
    "start_time": "2023-08-18T20:51:16.693Z"
   },
   {
    "duration": 12,
    "start_time": "2023-08-18T20:51:16.722Z"
   },
   {
    "duration": 13,
    "start_time": "2023-08-18T20:51:16.739Z"
   },
   {
    "duration": 35,
    "start_time": "2023-08-18T20:51:16.754Z"
   },
   {
    "duration": 6,
    "start_time": "2023-08-18T20:51:16.791Z"
   },
   {
    "duration": 20,
    "start_time": "2023-08-18T20:51:16.798Z"
   },
   {
    "duration": 25,
    "start_time": "2023-08-18T20:51:16.820Z"
   },
   {
    "duration": 40,
    "start_time": "2023-08-18T20:51:16.846Z"
   },
   {
    "duration": 27,
    "start_time": "2023-08-18T20:51:16.888Z"
   },
   {
    "duration": 15,
    "start_time": "2023-08-18T20:51:16.917Z"
   },
   {
    "duration": 4,
    "start_time": "2023-08-18T20:51:16.934Z"
   },
   {
    "duration": 163,
    "start_time": "2023-08-18T20:51:16.940Z"
   },
   {
    "duration": 0,
    "start_time": "2023-08-18T20:51:17.106Z"
   },
   {
    "duration": 0,
    "start_time": "2023-08-18T20:51:17.108Z"
   },
   {
    "duration": 0,
    "start_time": "2023-08-18T20:51:17.109Z"
   },
   {
    "duration": 0,
    "start_time": "2023-08-18T20:51:17.110Z"
   },
   {
    "duration": 0,
    "start_time": "2023-08-18T20:51:17.112Z"
   },
   {
    "duration": 0,
    "start_time": "2023-08-18T20:51:17.113Z"
   },
   {
    "duration": 0,
    "start_time": "2023-08-18T20:51:17.115Z"
   },
   {
    "duration": 0,
    "start_time": "2023-08-18T20:51:17.116Z"
   },
   {
    "duration": 0,
    "start_time": "2023-08-18T20:51:17.117Z"
   },
   {
    "duration": 0,
    "start_time": "2023-08-18T20:51:17.119Z"
   },
   {
    "duration": 0,
    "start_time": "2023-08-18T20:51:17.120Z"
   },
   {
    "duration": 0,
    "start_time": "2023-08-18T20:51:17.122Z"
   },
   {
    "duration": 0,
    "start_time": "2023-08-18T20:51:17.123Z"
   },
   {
    "duration": 0,
    "start_time": "2023-08-18T20:51:17.125Z"
   },
   {
    "duration": 0,
    "start_time": "2023-08-18T20:51:17.127Z"
   },
   {
    "duration": 0,
    "start_time": "2023-08-18T20:51:17.128Z"
   },
   {
    "duration": 0,
    "start_time": "2023-08-18T20:51:17.129Z"
   },
   {
    "duration": 0,
    "start_time": "2023-08-18T20:51:17.131Z"
   },
   {
    "duration": 0,
    "start_time": "2023-08-18T20:51:17.132Z"
   },
   {
    "duration": 0,
    "start_time": "2023-08-18T20:51:17.134Z"
   },
   {
    "duration": 0,
    "start_time": "2023-08-18T20:51:17.135Z"
   },
   {
    "duration": 0,
    "start_time": "2023-08-18T20:51:17.183Z"
   },
   {
    "duration": 0,
    "start_time": "2023-08-18T20:51:17.186Z"
   },
   {
    "duration": 0,
    "start_time": "2023-08-18T20:51:17.187Z"
   },
   {
    "duration": 0,
    "start_time": "2023-08-18T20:51:17.188Z"
   },
   {
    "duration": 0,
    "start_time": "2023-08-18T20:51:17.189Z"
   },
   {
    "duration": 0,
    "start_time": "2023-08-18T20:51:17.190Z"
   },
   {
    "duration": 0,
    "start_time": "2023-08-18T20:51:17.191Z"
   },
   {
    "duration": 0,
    "start_time": "2023-08-18T20:51:17.192Z"
   },
   {
    "duration": 0,
    "start_time": "2023-08-18T20:51:17.194Z"
   },
   {
    "duration": 7234,
    "start_time": "2023-08-18T20:52:00.906Z"
   },
   {
    "duration": 7,
    "start_time": "2023-08-18T20:52:08.143Z"
   },
   {
    "duration": 6,
    "start_time": "2023-08-18T20:52:08.152Z"
   },
   {
    "duration": 113,
    "start_time": "2023-08-18T20:52:08.160Z"
   },
   {
    "duration": 163,
    "start_time": "2023-08-18T20:52:08.277Z"
   },
   {
    "duration": 40,
    "start_time": "2023-08-18T20:52:08.442Z"
   },
   {
    "duration": 22,
    "start_time": "2023-08-18T20:52:08.485Z"
   },
   {
    "duration": 20,
    "start_time": "2023-08-18T20:52:08.509Z"
   },
   {
    "duration": 9,
    "start_time": "2023-08-18T20:52:08.531Z"
   },
   {
    "duration": 2,
    "start_time": "2023-08-18T20:52:08.542Z"
   },
   {
    "duration": 61,
    "start_time": "2023-08-18T20:52:08.546Z"
   },
   {
    "duration": 20,
    "start_time": "2023-08-18T20:52:08.609Z"
   },
   {
    "duration": 20,
    "start_time": "2023-08-18T20:52:08.630Z"
   },
   {
    "duration": 5,
    "start_time": "2023-08-18T20:52:08.653Z"
   },
   {
    "duration": 23,
    "start_time": "2023-08-18T20:52:08.659Z"
   },
   {
    "duration": 12,
    "start_time": "2023-08-18T20:52:08.685Z"
   },
   {
    "duration": 18,
    "start_time": "2023-08-18T20:52:08.700Z"
   },
   {
    "duration": 12,
    "start_time": "2023-08-18T20:52:08.720Z"
   },
   {
    "duration": 48,
    "start_time": "2023-08-18T20:52:08.734Z"
   },
   {
    "duration": 12,
    "start_time": "2023-08-18T20:52:08.784Z"
   },
   {
    "duration": 6,
    "start_time": "2023-08-18T20:52:08.798Z"
   },
   {
    "duration": 22,
    "start_time": "2023-08-18T20:52:08.805Z"
   },
   {
    "duration": 23,
    "start_time": "2023-08-18T20:52:08.828Z"
   },
   {
    "duration": 16,
    "start_time": "2023-08-18T20:52:08.882Z"
   },
   {
    "duration": 18,
    "start_time": "2023-08-18T20:52:08.901Z"
   },
   {
    "duration": 15,
    "start_time": "2023-08-18T20:52:08.921Z"
   },
   {
    "duration": 5,
    "start_time": "2023-08-18T20:52:08.938Z"
   },
   {
    "duration": 36,
    "start_time": "2023-08-18T20:52:08.945Z"
   },
   {
    "duration": 10,
    "start_time": "2023-08-18T20:52:08.983Z"
   },
   {
    "duration": 7,
    "start_time": "2023-08-18T20:52:08.995Z"
   },
   {
    "duration": 5,
    "start_time": "2023-08-18T20:52:09.003Z"
   },
   {
    "duration": 4,
    "start_time": "2023-08-18T20:52:09.010Z"
   },
   {
    "duration": 101,
    "start_time": "2023-08-18T20:52:09.016Z"
   },
   {
    "duration": 1024,
    "start_time": "2023-08-18T20:52:09.119Z"
   },
   {
    "duration": 534,
    "start_time": "2023-08-18T20:52:10.144Z"
   },
   {
    "duration": 708,
    "start_time": "2023-08-18T20:52:10.680Z"
   },
   {
    "duration": 16,
    "start_time": "2023-08-18T20:52:11.391Z"
   },
   {
    "duration": 328,
    "start_time": "2023-08-18T20:52:11.409Z"
   },
   {
    "duration": 5074,
    "start_time": "2023-08-18T20:52:11.739Z"
   },
   {
    "duration": 413,
    "start_time": "2023-08-18T20:52:16.817Z"
   },
   {
    "duration": 3099,
    "start_time": "2023-08-18T20:52:17.234Z"
   },
   {
    "duration": 2,
    "start_time": "2023-08-18T20:52:20.335Z"
   },
   {
    "duration": 6,
    "start_time": "2023-08-18T20:52:20.338Z"
   },
   {
    "duration": 11,
    "start_time": "2023-08-18T20:52:20.346Z"
   },
   {
    "duration": 26,
    "start_time": "2023-08-18T20:52:20.358Z"
   },
   {
    "duration": 9,
    "start_time": "2023-08-18T20:52:20.387Z"
   },
   {
    "duration": 15,
    "start_time": "2023-08-18T20:52:20.398Z"
   },
   {
    "duration": 20,
    "start_time": "2023-08-18T20:52:20.415Z"
   },
   {
    "duration": 20,
    "start_time": "2023-08-18T20:52:20.437Z"
   },
   {
    "duration": 50,
    "start_time": "2023-08-18T20:52:20.458Z"
   },
   {
    "duration": 10,
    "start_time": "2023-08-18T20:52:20.510Z"
   },
   {
    "duration": 15,
    "start_time": "2023-08-18T20:52:20.521Z"
   },
   {
    "duration": 48,
    "start_time": "2023-08-18T20:52:51.145Z"
   },
   {
    "duration": 53,
    "start_time": "2023-08-18T20:53:02.618Z"
   },
   {
    "duration": 3,
    "start_time": "2023-08-18T20:53:03.880Z"
   },
   {
    "duration": 3,
    "start_time": "2023-08-18T20:53:04.866Z"
   },
   {
    "duration": 4,
    "start_time": "2023-08-18T20:53:08.306Z"
   },
   {
    "duration": 139439,
    "start_time": "2023-08-18T20:54:45.049Z"
   },
   {
    "duration": 6,
    "start_time": "2023-08-18T20:57:04.490Z"
   },
   {
    "duration": 5,
    "start_time": "2023-08-18T20:57:04.498Z"
   },
   {
    "duration": 3,
    "start_time": "2023-08-18T20:57:04.505Z"
   },
   {
    "duration": 5,
    "start_time": "2023-08-18T20:58:07.969Z"
   },
   {
    "duration": 5832,
    "start_time": "2023-08-18T20:58:15.762Z"
   },
   {
    "duration": 374,
    "start_time": "2023-08-18T20:58:30.567Z"
   },
   {
    "duration": 7,
    "start_time": "2023-08-18T20:59:43.622Z"
   },
   {
    "duration": 381,
    "start_time": "2023-08-18T21:00:02.600Z"
   },
   {
    "duration": 7,
    "start_time": "2023-08-18T21:00:32.462Z"
   },
   {
    "duration": 391,
    "start_time": "2023-08-18T21:00:43.124Z"
   },
   {
    "duration": 391,
    "start_time": "2023-08-18T21:01:39.669Z"
   },
   {
    "duration": 9,
    "start_time": "2023-08-18T21:04:10.700Z"
   },
   {
    "duration": 4,
    "start_time": "2023-08-18T21:12:31.152Z"
   },
   {
    "duration": 7,
    "start_time": "2023-08-18T21:12:32.370Z"
   },
   {
    "duration": 11,
    "start_time": "2023-08-18T21:16:10.559Z"
   },
   {
    "duration": 1561,
    "start_time": "2023-08-18T21:16:27.075Z"
   },
   {
    "duration": 5,
    "start_time": "2023-08-18T21:16:38.956Z"
   },
   {
    "duration": 4,
    "start_time": "2023-08-18T21:16:43.316Z"
   },
   {
    "duration": 17,
    "start_time": "2023-08-18T21:17:37.759Z"
   },
   {
    "duration": 19,
    "start_time": "2023-08-18T21:18:08.096Z"
   },
   {
    "duration": 13,
    "start_time": "2023-08-18T21:19:07.450Z"
   },
   {
    "duration": 4,
    "start_time": "2023-08-18T21:19:25.068Z"
   },
   {
    "duration": 12,
    "start_time": "2023-08-18T21:19:30.006Z"
   },
   {
    "duration": 6,
    "start_time": "2023-08-18T21:19:33.985Z"
   },
   {
    "duration": 16,
    "start_time": "2023-08-18T21:20:31.193Z"
   },
   {
    "duration": 13,
    "start_time": "2023-08-18T21:20:33.002Z"
   },
   {
    "duration": 23,
    "start_time": "2023-08-18T21:20:39.752Z"
   },
   {
    "duration": 11,
    "start_time": "2023-08-18T21:20:46.550Z"
   },
   {
    "duration": 18,
    "start_time": "2023-08-18T21:20:54.096Z"
   },
   {
    "duration": 23,
    "start_time": "2023-08-18T21:21:32.166Z"
   },
   {
    "duration": 801,
    "start_time": "2023-08-18T21:21:36.206Z"
   },
   {
    "duration": 13,
    "start_time": "2023-08-18T21:21:49.514Z"
   },
   {
    "duration": 8,
    "start_time": "2023-08-18T21:21:58.145Z"
   },
   {
    "duration": 14,
    "start_time": "2023-08-18T21:26:39.227Z"
   },
   {
    "duration": 16,
    "start_time": "2023-08-18T21:27:25.333Z"
   },
   {
    "duration": 13,
    "start_time": "2023-08-18T21:28:28.456Z"
   },
   {
    "duration": 19,
    "start_time": "2023-08-18T21:28:41.971Z"
   },
   {
    "duration": 19,
    "start_time": "2023-08-18T21:28:44.374Z"
   },
   {
    "duration": 18,
    "start_time": "2023-08-18T21:28:46.504Z"
   },
   {
    "duration": 5,
    "start_time": "2023-08-18T21:28:55.298Z"
   },
   {
    "duration": 4,
    "start_time": "2023-08-18T21:31:32.305Z"
   },
   {
    "duration": 12,
    "start_time": "2023-08-18T21:31:39.337Z"
   },
   {
    "duration": 13,
    "start_time": "2023-08-18T21:31:45.086Z"
   },
   {
    "duration": 76,
    "start_time": "2023-08-18T21:32:13.392Z"
   },
   {
    "duration": 3,
    "start_time": "2023-08-18T21:32:18.747Z"
   },
   {
    "duration": 10,
    "start_time": "2023-08-18T21:32:19.940Z"
   },
   {
    "duration": 3,
    "start_time": "2023-08-18T21:32:26.371Z"
   },
   {
    "duration": 15617,
    "start_time": "2023-08-18T21:32:28.693Z"
   },
   {
    "duration": 78,
    "start_time": "2023-08-18T21:32:51.398Z"
   },
   {
    "duration": 60408,
    "start_time": "2023-08-18T21:33:50.332Z"
   },
   {
    "duration": 69395,
    "start_time": "2023-08-18T21:35:30.165Z"
   },
   {
    "duration": 5,
    "start_time": "2023-08-18T21:36:39.563Z"
   },
   {
    "duration": 5,
    "start_time": "2023-08-18T21:36:39.571Z"
   },
   {
    "duration": 55748,
    "start_time": "2023-08-18T21:36:39.578Z"
   },
   {
    "duration": 387,
    "start_time": "2023-08-18T21:37:35.327Z"
   },
   {
    "duration": 12,
    "start_time": "2023-08-18T21:37:35.716Z"
   },
   {
    "duration": 9659,
    "start_time": "2023-08-18T21:43:10.614Z"
   },
   {
    "duration": 44,
    "start_time": "2023-08-18T21:43:20.276Z"
   },
   {
    "duration": 389,
    "start_time": "2023-08-18T21:47:10.254Z"
   },
   {
    "duration": 25,
    "start_time": "2023-08-18T21:47:44.467Z"
   },
   {
    "duration": 3,
    "start_time": "2023-08-18T21:48:47.854Z"
   },
   {
    "duration": 25,
    "start_time": "2023-08-18T21:48:51.297Z"
   },
   {
    "duration": 48,
    "start_time": "2023-08-18T21:49:22.966Z"
   },
   {
    "duration": 69404,
    "start_time": "2023-08-18T21:49:30.940Z"
   },
   {
    "duration": 257,
    "start_time": "2023-08-18T21:50:55.378Z"
   },
   {
    "duration": 91,
    "start_time": "2023-08-18T21:51:20.010Z"
   },
   {
    "duration": 4,
    "start_time": "2023-08-18T21:51:23.627Z"
   },
   {
    "duration": 30,
    "start_time": "2023-08-18T21:51:44.186Z"
   },
   {
    "duration": 3,
    "start_time": "2023-08-18T21:51:54.737Z"
   },
   {
    "duration": 22,
    "start_time": "2023-08-18T21:51:55.296Z"
   },
   {
    "duration": 5,
    "start_time": "2023-08-18T21:52:04.885Z"
   },
   {
    "duration": 227057,
    "start_time": "2023-08-18T21:52:05.346Z"
   },
   {
    "duration": 3,
    "start_time": "2023-08-18T21:56:05.732Z"
   },
   {
    "duration": 4,
    "start_time": "2023-08-18T21:56:27.031Z"
   },
   {
    "duration": 4769,
    "start_time": "2023-08-18T21:56:27.332Z"
   },
   {
    "duration": 60,
    "start_time": "2023-08-18T21:56:41.591Z"
   },
   {
    "duration": 13,
    "start_time": "2023-08-18T21:56:49.954Z"
   },
   {
    "duration": 3,
    "start_time": "2023-08-18T21:57:49.217Z"
   },
   {
    "duration": 20461,
    "start_time": "2023-08-18T21:57:49.828Z"
   },
   {
    "duration": 20,
    "start_time": "2023-08-18T21:59:45.696Z"
   },
   {
    "duration": 14,
    "start_time": "2023-08-18T21:59:55.615Z"
   },
   {
    "duration": 37,
    "start_time": "2023-08-18T22:00:04.232Z"
   },
   {
    "duration": 3,
    "start_time": "2023-08-18T22:00:26.935Z"
   },
   {
    "duration": 8077,
    "start_time": "2023-08-18T22:00:27.622Z"
   },
   {
    "duration": 4,
    "start_time": "2023-08-18T22:01:09.056Z"
   },
   {
    "duration": 22923,
    "start_time": "2023-08-18T22:01:09.674Z"
   },
   {
    "duration": 116,
    "start_time": "2023-08-18T22:01:32.600Z"
   },
   {
    "duration": 31,
    "start_time": "2023-08-18T22:02:05.530Z"
   },
   {
    "duration": 28,
    "start_time": "2023-08-18T22:02:24.109Z"
   },
   {
    "duration": 235463,
    "start_time": "2023-08-18T22:02:41.150Z"
   },
   {
    "duration": 165,
    "start_time": "2023-08-18T22:06:36.616Z"
   },
   {
    "duration": 86,
    "start_time": "2023-08-18T22:06:48.505Z"
   },
   {
    "duration": 3,
    "start_time": "2023-08-18T22:07:07.436Z"
   },
   {
    "duration": 669246,
    "start_time": "2023-08-18T22:07:13.558Z"
   },
   {
    "duration": 5,
    "start_time": "2023-08-18T22:18:22.882Z"
   },
   {
    "duration": 187,
    "start_time": "2023-08-18T22:18:22.889Z"
   },
   {
    "duration": 0,
    "start_time": "2023-08-18T22:18:23.077Z"
   },
   {
    "duration": 0,
    "start_time": "2023-08-18T22:18:23.079Z"
   },
   {
    "duration": 0,
    "start_time": "2023-08-18T22:18:23.080Z"
   },
   {
    "duration": 34,
    "start_time": "2023-08-18T22:19:37.815Z"
   },
   {
    "duration": 400136,
    "start_time": "2023-08-18T22:19:44.173Z"
   },
   {
    "duration": 470,
    "start_time": "2023-08-18T22:26:24.311Z"
   },
   {
    "duration": 16,
    "start_time": "2023-08-18T22:26:24.783Z"
   },
   {
    "duration": 10,
    "start_time": "2023-08-18T23:09:33.710Z"
   },
   {
    "duration": 375,
    "start_time": "2023-08-18T23:09:50.826Z"
   },
   {
    "duration": 6,
    "start_time": "2023-08-18T23:09:52.588Z"
   },
   {
    "duration": 4,
    "start_time": "2023-08-18T23:11:03.655Z"
   },
   {
    "duration": 4,
    "start_time": "2023-08-18T23:11:09.332Z"
   },
   {
    "duration": 11243,
    "start_time": "2023-08-18T23:15:25.482Z"
   },
   {
    "duration": 29,
    "start_time": "2023-08-18T23:15:36.726Z"
   },
   {
    "duration": 11,
    "start_time": "2023-08-18T23:15:46.521Z"
   },
   {
    "duration": 10,
    "start_time": "2023-08-18T23:15:55.608Z"
   },
   {
    "duration": 10,
    "start_time": "2023-08-18T23:16:15.234Z"
   },
   {
    "duration": 8,
    "start_time": "2023-08-18T23:16:20.308Z"
   },
   {
    "duration": 129,
    "start_time": "2023-08-18T23:16:30.905Z"
   },
   {
    "duration": 9,
    "start_time": "2023-08-18T23:16:51.921Z"
   },
   {
    "duration": 6,
    "start_time": "2023-08-18T23:16:58.498Z"
   },
   {
    "duration": 4,
    "start_time": "2023-08-18T23:17:03.072Z"
   },
   {
    "duration": 40,
    "start_time": "2023-08-18T23:17:18.180Z"
   },
   {
    "duration": 180,
    "start_time": "2023-08-18T23:17:19.812Z"
   },
   {
    "duration": 201,
    "start_time": "2023-08-18T23:18:03.330Z"
   },
   {
    "duration": 37,
    "start_time": "2023-08-18T23:18:21.487Z"
   },
   {
    "duration": 391,
    "start_time": "2023-08-18T23:18:22.670Z"
   },
   {
    "duration": 6,
    "start_time": "2023-08-18T23:20:31.679Z"
   },
   {
    "duration": 4,
    "start_time": "2023-08-18T23:23:56.696Z"
   },
   {
    "duration": 49407,
    "start_time": "2023-08-18T23:24:25.214Z"
   },
   {
    "duration": 424,
    "start_time": "2023-08-18T23:25:25.473Z"
   },
   {
    "duration": 2,
    "start_time": "2023-08-18T23:28:08.762Z"
   },
   {
    "duration": 11211,
    "start_time": "2023-08-18T23:28:11.968Z"
   },
   {
    "duration": 46,
    "start_time": "2023-08-18T23:28:23.182Z"
   },
   {
    "duration": 414,
    "start_time": "2023-08-18T23:28:32.369Z"
   },
   {
    "duration": 9,
    "start_time": "2023-08-18T23:29:00.463Z"
   },
   {
    "duration": 3,
    "start_time": "2023-08-18T23:29:13.070Z"
   },
   {
    "duration": 5,
    "start_time": "2023-08-18T23:29:21.679Z"
   },
   {
    "duration": 4,
    "start_time": "2023-08-18T23:29:26.154Z"
   },
   {
    "duration": 3,
    "start_time": "2023-08-18T23:29:32.713Z"
   },
   {
    "duration": 4,
    "start_time": "2023-08-18T23:29:33.545Z"
   },
   {
    "duration": 4,
    "start_time": "2023-08-18T23:29:33.707Z"
   },
   {
    "duration": 9,
    "start_time": "2023-08-18T23:30:03.735Z"
   },
   {
    "duration": 4,
    "start_time": "2023-08-18T23:30:33.302Z"
   },
   {
    "duration": 5,
    "start_time": "2023-08-18T23:30:33.804Z"
   },
   {
    "duration": 4,
    "start_time": "2023-08-18T23:30:36.077Z"
   },
   {
    "duration": 158,
    "start_time": "2023-08-18T23:30:36.808Z"
   },
   {
    "duration": 4,
    "start_time": "2023-08-18T23:30:43.231Z"
   },
   {
    "duration": 98,
    "start_time": "2023-08-18T23:38:21.375Z"
   },
   {
    "duration": 4,
    "start_time": "2023-08-18T23:38:36.865Z"
   },
   {
    "duration": 15,
    "start_time": "2023-08-18T23:39:12.188Z"
   },
   {
    "duration": 4,
    "start_time": "2023-08-18T23:39:18.606Z"
   },
   {
    "duration": 18,
    "start_time": "2023-08-18T23:39:19.103Z"
   },
   {
    "duration": 4,
    "start_time": "2023-08-18T23:39:55.614Z"
   },
   {
    "duration": 12,
    "start_time": "2023-08-18T23:39:56.666Z"
   },
   {
    "duration": 53742,
    "start_time": "2023-08-18T23:40:13.486Z"
   },
   {
    "duration": 11,
    "start_time": "2023-08-18T23:41:07.230Z"
   },
   {
    "duration": 4,
    "start_time": "2023-08-18T23:42:41.517Z"
   },
   {
    "duration": 4,
    "start_time": "2023-08-18T23:42:58.867Z"
   },
   {
    "duration": 4,
    "start_time": "2023-08-18T23:43:05.927Z"
   },
   {
    "duration": 48921,
    "start_time": "2023-08-18T23:43:32.983Z"
   },
   {
    "duration": 6,
    "start_time": "2023-08-18T23:44:43.391Z"
   },
   {
    "duration": 5,
    "start_time": "2023-08-18T23:45:31.064Z"
   },
   {
    "duration": 54155,
    "start_time": "2023-08-18T23:46:35.261Z"
   },
   {
    "duration": 10,
    "start_time": "2023-08-18T23:47:29.417Z"
   },
   {
    "duration": 50077,
    "start_time": "2023-08-18T23:48:09.089Z"
   },
   {
    "duration": 24,
    "start_time": "2023-08-18T23:48:59.168Z"
   },
   {
    "duration": 4,
    "start_time": "2023-08-18T23:49:34.473Z"
   },
   {
    "duration": 6,
    "start_time": "2023-08-18T23:49:44.728Z"
   },
   {
    "duration": 5,
    "start_time": "2023-08-18T23:50:01.401Z"
   },
   {
    "duration": 5,
    "start_time": "2023-08-18T23:50:02.866Z"
   },
   {
    "duration": 5,
    "start_time": "2023-08-18T23:50:22.222Z"
   },
   {
    "duration": 9,
    "start_time": "2023-08-18T23:50:31.577Z"
   },
   {
    "duration": 8,
    "start_time": "2023-08-18T23:50:38.778Z"
   },
   {
    "duration": 6,
    "start_time": "2023-08-18T23:50:58.342Z"
   },
   {
    "duration": 13,
    "start_time": "2023-08-18T23:51:10.081Z"
   },
   {
    "duration": 7,
    "start_time": "2023-08-18T23:51:16.629Z"
   },
   {
    "duration": 8,
    "start_time": "2023-08-18T23:51:24.152Z"
   },
   {
    "duration": 3,
    "start_time": "2023-08-18T23:51:30.846Z"
   },
   {
    "duration": 9,
    "start_time": "2023-08-18T23:51:42.050Z"
   },
   {
    "duration": 3,
    "start_time": "2023-08-18T23:52:51.835Z"
   },
   {
    "duration": 405,
    "start_time": "2023-08-18T23:52:55.701Z"
   },
   {
    "duration": 5,
    "start_time": "2023-08-18T23:53:04.686Z"
   },
   {
    "duration": 5,
    "start_time": "2023-08-18T23:53:33.882Z"
   },
   {
    "duration": 3,
    "start_time": "2023-08-18T23:54:20.781Z"
   },
   {
    "duration": 10962,
    "start_time": "2023-08-18T23:54:21.029Z"
   },
   {
    "duration": 33,
    "start_time": "2023-08-18T23:54:31.993Z"
   },
   {
    "duration": 396,
    "start_time": "2023-08-18T23:54:32.028Z"
   },
   {
    "duration": 5,
    "start_time": "2023-08-18T23:54:35.899Z"
   },
   {
    "duration": 50663,
    "start_time": "2023-08-18T23:54:39.634Z"
   },
   {
    "duration": 11,
    "start_time": "2023-08-18T23:55:30.301Z"
   },
   {
    "duration": 23,
    "start_time": "2023-08-18T23:55:30.314Z"
   },
   {
    "duration": 12,
    "start_time": "2023-08-18T23:55:30.339Z"
   },
   {
    "duration": 435,
    "start_time": "2023-08-18T23:55:30.353Z"
   },
   {
    "duration": 7,
    "start_time": "2023-08-18T23:55:30.790Z"
   },
   {
    "duration": 6,
    "start_time": "2023-08-19T00:01:31.095Z"
   },
   {
    "duration": 4,
    "start_time": "2023-08-19T00:01:39.495Z"
   },
   {
    "duration": 22176,
    "start_time": "2023-08-19T00:01:42.052Z"
   },
   {
    "duration": 10,
    "start_time": "2023-08-19T00:02:04.230Z"
   },
   {
    "duration": 14,
    "start_time": "2023-08-19T00:02:04.241Z"
   },
   {
    "duration": 4,
    "start_time": "2023-08-19T00:02:08.950Z"
   },
   {
    "duration": 4,
    "start_time": "2023-08-19T00:02:10.283Z"
   },
   {
    "duration": 391,
    "start_time": "2023-08-19T00:02:25.866Z"
   },
   {
    "duration": 3,
    "start_time": "2023-08-19T00:03:08.554Z"
   },
   {
    "duration": 367,
    "start_time": "2023-08-19T00:03:10.098Z"
   },
   {
    "duration": 4,
    "start_time": "2023-08-19T00:03:14.366Z"
   },
   {
    "duration": 22034,
    "start_time": "2023-08-19T00:03:42.863Z"
   },
   {
    "duration": 11,
    "start_time": "2023-08-19T00:04:04.899Z"
   },
   {
    "duration": 4,
    "start_time": "2023-08-19T00:04:04.911Z"
   },
   {
    "duration": 8,
    "start_time": "2023-08-19T00:04:07.798Z"
   },
   {
    "duration": 3,
    "start_time": "2023-08-19T00:04:07.947Z"
   },
   {
    "duration": 399,
    "start_time": "2023-08-19T00:04:08.869Z"
   },
   {
    "duration": 9,
    "start_time": "2023-08-19T00:05:20.039Z"
   },
   {
    "duration": 3,
    "start_time": "2023-08-19T00:05:20.816Z"
   },
   {
    "duration": 3,
    "start_time": "2023-08-19T00:05:22.614Z"
   },
   {
    "duration": 4,
    "start_time": "2023-08-19T00:06:36.549Z"
   },
   {
    "duration": 50726,
    "start_time": "2023-08-19T00:06:39.544Z"
   },
   {
    "duration": 18,
    "start_time": "2023-08-19T00:07:30.273Z"
   },
   {
    "duration": 0,
    "start_time": "2023-08-19T00:07:30.293Z"
   },
   {
    "duration": 0,
    "start_time": "2023-08-19T00:07:30.296Z"
   },
   {
    "duration": 0,
    "start_time": "2023-08-19T00:07:30.298Z"
   },
   {
    "duration": 0,
    "start_time": "2023-08-19T00:07:30.300Z"
   },
   {
    "duration": 0,
    "start_time": "2023-08-19T00:07:30.302Z"
   },
   {
    "duration": 0,
    "start_time": "2023-08-19T00:07:30.304Z"
   },
   {
    "duration": 5,
    "start_time": "2023-08-19T00:07:37.482Z"
   },
   {
    "duration": 51069,
    "start_time": "2023-08-19T00:07:38.093Z"
   },
   {
    "duration": 21,
    "start_time": "2023-08-19T00:08:29.165Z"
   },
   {
    "duration": 8,
    "start_time": "2023-08-19T00:08:29.188Z"
   },
   {
    "duration": 15,
    "start_time": "2023-08-19T00:08:29.199Z"
   },
   {
    "duration": 4,
    "start_time": "2023-08-19T00:08:29.215Z"
   },
   {
    "duration": 822,
    "start_time": "2023-08-19T00:08:29.220Z"
   },
   {
    "duration": 3,
    "start_time": "2023-08-19T00:08:30.044Z"
   },
   {
    "duration": 428,
    "start_time": "2023-08-19T00:08:30.048Z"
   },
   {
    "duration": 52,
    "start_time": "2023-08-19T00:09:59.751Z"
   },
   {
    "duration": 5,
    "start_time": "2023-08-19T00:10:01.277Z"
   },
   {
    "duration": 50010,
    "start_time": "2023-08-19T00:10:01.927Z"
   },
   {
    "duration": 20,
    "start_time": "2023-08-19T00:10:51.991Z"
   },
   {
    "duration": 4,
    "start_time": "2023-08-19T00:10:52.013Z"
   },
   {
    "duration": 704,
    "start_time": "2023-08-19T00:10:52.019Z"
   },
   {
    "duration": 22731,
    "start_time": "2023-08-19T00:12:50.435Z"
   },
   {
    "duration": 26,
    "start_time": "2023-08-19T00:13:13.168Z"
   },
   {
    "duration": 0,
    "start_time": "2023-08-19T00:13:13.201Z"
   },
   {
    "duration": 0,
    "start_time": "2023-08-19T00:13:13.202Z"
   },
   {
    "duration": 0,
    "start_time": "2023-08-19T00:13:13.203Z"
   },
   {
    "duration": 0,
    "start_time": "2023-08-19T00:13:13.204Z"
   },
   {
    "duration": 0,
    "start_time": "2023-08-19T00:13:13.206Z"
   },
   {
    "duration": 0,
    "start_time": "2023-08-19T00:13:13.207Z"
   },
   {
    "duration": 0,
    "start_time": "2023-08-19T00:13:13.208Z"
   },
   {
    "duration": 0,
    "start_time": "2023-08-19T00:13:13.210Z"
   },
   {
    "duration": 0,
    "start_time": "2023-08-19T00:13:13.210Z"
   },
   {
    "duration": 0,
    "start_time": "2023-08-19T00:13:13.211Z"
   },
   {
    "duration": 10,
    "start_time": "2023-08-19T00:13:48.269Z"
   },
   {
    "duration": 101,
    "start_time": "2023-08-19T00:14:13.454Z"
   },
   {
    "duration": 4,
    "start_time": "2023-08-19T00:14:17.132Z"
   },
   {
    "duration": 50953,
    "start_time": "2023-08-19T00:14:18.081Z"
   },
   {
    "duration": 9,
    "start_time": "2023-08-19T00:15:09.036Z"
   },
   {
    "duration": 2,
    "start_time": "2023-08-19T00:15:09.047Z"
   },
   {
    "duration": 436,
    "start_time": "2023-08-19T00:15:09.051Z"
   },
   {
    "duration": 22363,
    "start_time": "2023-08-19T00:15:09.489Z"
   },
   {
    "duration": 8,
    "start_time": "2023-08-19T00:15:31.854Z"
   },
   {
    "duration": 19,
    "start_time": "2023-08-19T00:15:31.864Z"
   },
   {
    "duration": 383,
    "start_time": "2023-08-19T00:15:31.886Z"
   },
   {
    "duration": 50024,
    "start_time": "2023-08-19T00:15:32.271Z"
   },
   {
    "duration": 10,
    "start_time": "2023-08-19T00:16:22.298Z"
   },
   {
    "duration": 8,
    "start_time": "2023-08-19T00:16:22.309Z"
   },
   {
    "duration": 427,
    "start_time": "2023-08-19T00:16:22.318Z"
   },
   {
    "duration": 50780,
    "start_time": "2023-08-19T00:16:22.746Z"
   },
   {
    "duration": 10,
    "start_time": "2023-08-19T00:17:13.528Z"
   },
   {
    "duration": 5,
    "start_time": "2023-08-19T00:17:13.539Z"
   },
   {
    "duration": 429,
    "start_time": "2023-08-19T00:17:13.546Z"
   },
   {
    "duration": 2,
    "start_time": "2023-08-19T00:19:05.644Z"
   },
   {
    "duration": 10984,
    "start_time": "2023-08-19T00:19:06.753Z"
   },
   {
    "duration": 28,
    "start_time": "2023-08-19T00:19:17.739Z"
   },
   {
    "duration": 363,
    "start_time": "2023-08-19T00:19:17.769Z"
   },
   {
    "duration": 14,
    "start_time": "2023-08-19T00:19:24.024Z"
   },
   {
    "duration": 5,
    "start_time": "2023-08-19T00:19:28.377Z"
   },
   {
    "duration": 50607,
    "start_time": "2023-08-19T00:19:29.101Z"
   },
   {
    "duration": 9,
    "start_time": "2023-08-19T00:20:19.710Z"
   },
   {
    "duration": 135,
    "start_time": "2023-08-19T00:20:19.720Z"
   },
   {
    "duration": 405,
    "start_time": "2023-08-19T00:20:19.857Z"
   },
   {
    "duration": 22,
    "start_time": "2023-08-19T00:20:20.263Z"
   },
   {
    "duration": 47475,
    "start_time": "2023-08-19T00:21:16.211Z"
   },
   {
    "duration": 4,
    "start_time": "2023-08-19T00:22:35.157Z"
   },
   {
    "duration": 15602,
    "start_time": "2023-08-19T00:22:57.222Z"
   },
   {
    "duration": 9,
    "start_time": "2023-08-19T00:23:12.826Z"
   },
   {
    "duration": 3,
    "start_time": "2023-08-19T00:23:20.541Z"
   },
   {
    "duration": 421,
    "start_time": "2023-08-19T00:23:26.407Z"
   },
   {
    "duration": 7,
    "start_time": "2023-08-19T00:24:53.922Z"
   },
   {
    "duration": 414,
    "start_time": "2023-08-19T00:25:13.091Z"
   },
   {
    "duration": 380,
    "start_time": "2023-08-19T00:25:20.446Z"
   },
   {
    "duration": 377,
    "start_time": "2023-08-19T00:25:37.423Z"
   },
   {
    "duration": 32,
    "start_time": "2023-08-19T00:25:44.706Z"
   },
   {
    "duration": 402,
    "start_time": "2023-08-19T00:25:45.112Z"
   },
   {
    "duration": 367,
    "start_time": "2023-08-19T00:26:01.574Z"
   },
   {
    "duration": 3,
    "start_time": "2023-08-19T00:26:10.209Z"
   },
   {
    "duration": 408,
    "start_time": "2023-08-19T00:26:10.528Z"
   },
   {
    "duration": 4,
    "start_time": "2023-08-19T00:30:22.847Z"
   },
   {
    "duration": 4,
    "start_time": "2023-08-19T00:31:05.407Z"
   },
   {
    "duration": 15360,
    "start_time": "2023-08-19T00:31:22.494Z"
   },
   {
    "duration": 8,
    "start_time": "2023-08-19T00:31:37.856Z"
   },
   {
    "duration": 16,
    "start_time": "2023-08-19T00:31:37.866Z"
   },
   {
    "duration": 375,
    "start_time": "2023-08-19T00:31:37.884Z"
   },
   {
    "duration": 8757,
    "start_time": "2023-08-19T00:37:49.929Z"
   },
   {
    "duration": 1377,
    "start_time": "2023-08-19T00:37:58.688Z"
   },
   {
    "duration": 3,
    "start_time": "2023-08-19T00:38:00.067Z"
   },
   {
    "duration": 122,
    "start_time": "2023-08-19T00:38:00.071Z"
   },
   {
    "duration": 155,
    "start_time": "2023-08-19T00:38:00.195Z"
   },
   {
    "duration": 39,
    "start_time": "2023-08-19T00:38:00.351Z"
   },
   {
    "duration": 11,
    "start_time": "2023-08-19T00:38:00.392Z"
   },
   {
    "duration": 24,
    "start_time": "2023-08-19T00:38:00.404Z"
   },
   {
    "duration": 8,
    "start_time": "2023-08-19T00:38:00.430Z"
   },
   {
    "duration": 21,
    "start_time": "2023-08-19T00:38:00.440Z"
   },
   {
    "duration": 48,
    "start_time": "2023-08-19T00:38:00.463Z"
   },
   {
    "duration": 17,
    "start_time": "2023-08-19T00:38:00.512Z"
   },
   {
    "duration": 46,
    "start_time": "2023-08-19T00:38:00.530Z"
   },
   {
    "duration": 15,
    "start_time": "2023-08-19T00:38:00.579Z"
   },
   {
    "duration": 21,
    "start_time": "2023-08-19T00:38:00.596Z"
   },
   {
    "duration": 26,
    "start_time": "2023-08-19T00:38:00.619Z"
   },
   {
    "duration": 34,
    "start_time": "2023-08-19T00:38:00.647Z"
   },
   {
    "duration": 19,
    "start_time": "2023-08-19T00:38:00.683Z"
   },
   {
    "duration": 36,
    "start_time": "2023-08-19T00:38:00.703Z"
   },
   {
    "duration": 30,
    "start_time": "2023-08-19T00:38:00.741Z"
   },
   {
    "duration": 20,
    "start_time": "2023-08-19T00:38:00.773Z"
   },
   {
    "duration": 33,
    "start_time": "2023-08-19T00:38:00.794Z"
   },
   {
    "duration": 40,
    "start_time": "2023-08-19T00:38:00.829Z"
   },
   {
    "duration": 39,
    "start_time": "2023-08-19T00:38:00.870Z"
   },
   {
    "duration": 46,
    "start_time": "2023-08-19T00:38:00.911Z"
   },
   {
    "duration": 20,
    "start_time": "2023-08-19T00:38:00.959Z"
   },
   {
    "duration": 10,
    "start_time": "2023-08-19T00:38:00.980Z"
   },
   {
    "duration": 22,
    "start_time": "2023-08-19T00:38:00.991Z"
   },
   {
    "duration": 16,
    "start_time": "2023-08-19T00:38:01.015Z"
   },
   {
    "duration": 17,
    "start_time": "2023-08-19T00:38:01.033Z"
   },
   {
    "duration": 27,
    "start_time": "2023-08-19T00:38:01.051Z"
   },
   {
    "duration": 23,
    "start_time": "2023-08-19T00:38:01.080Z"
   },
   {
    "duration": 75,
    "start_time": "2023-08-19T00:38:01.105Z"
   },
   {
    "duration": 907,
    "start_time": "2023-08-19T00:38:01.182Z"
   },
   {
    "duration": 454,
    "start_time": "2023-08-19T00:38:02.090Z"
   },
   {
    "duration": 686,
    "start_time": "2023-08-19T00:38:02.546Z"
   },
   {
    "duration": 11,
    "start_time": "2023-08-19T00:38:03.233Z"
   },
   {
    "duration": 376,
    "start_time": "2023-08-19T00:38:03.246Z"
   },
   {
    "duration": 4795,
    "start_time": "2023-08-19T00:38:03.624Z"
   },
   {
    "duration": 337,
    "start_time": "2023-08-19T00:38:08.421Z"
   },
   {
    "duration": 2837,
    "start_time": "2023-08-19T00:38:08.762Z"
   },
   {
    "duration": 2,
    "start_time": "2023-08-19T00:38:11.601Z"
   },
   {
    "duration": 7,
    "start_time": "2023-08-19T00:38:11.605Z"
   },
   {
    "duration": 33,
    "start_time": "2023-08-19T00:38:11.614Z"
   },
   {
    "duration": 33,
    "start_time": "2023-08-19T00:38:11.649Z"
   },
   {
    "duration": 2,
    "start_time": "2023-08-19T00:38:11.684Z"
   },
   {
    "duration": 6,
    "start_time": "2023-08-19T00:38:11.688Z"
   },
   {
    "duration": 13,
    "start_time": "2023-08-19T00:38:11.695Z"
   },
   {
    "duration": 8,
    "start_time": "2023-08-19T00:38:11.710Z"
   },
   {
    "duration": 6,
    "start_time": "2023-08-19T00:38:11.720Z"
   },
   {
    "duration": 6,
    "start_time": "2023-08-19T00:38:11.728Z"
   },
   {
    "duration": 5,
    "start_time": "2023-08-19T00:38:11.735Z"
   },
   {
    "duration": 77,
    "start_time": "2023-08-19T00:38:11.742Z"
   },
   {
    "duration": 3,
    "start_time": "2023-08-19T00:38:11.821Z"
   },
   {
    "duration": 4,
    "start_time": "2023-08-19T00:38:11.826Z"
   },
   {
    "duration": 9047,
    "start_time": "2023-08-19T01:08:10.648Z"
   },
   {
    "duration": 7,
    "start_time": "2023-08-19T01:08:19.697Z"
   },
   {
    "duration": 5,
    "start_time": "2023-08-19T01:08:19.705Z"
   },
   {
    "duration": 100,
    "start_time": "2023-08-19T01:08:19.712Z"
   },
   {
    "duration": 116,
    "start_time": "2023-08-19T01:08:19.813Z"
   },
   {
    "duration": 12,
    "start_time": "2023-08-19T01:08:19.930Z"
   },
   {
    "duration": 38,
    "start_time": "2023-08-19T01:08:19.944Z"
   },
   {
    "duration": 17,
    "start_time": "2023-08-19T01:08:19.984Z"
   },
   {
    "duration": 21,
    "start_time": "2023-08-19T01:08:20.002Z"
   },
   {
    "duration": 3,
    "start_time": "2023-08-19T01:08:20.026Z"
   },
   {
    "duration": 48,
    "start_time": "2023-08-19T01:08:20.030Z"
   },
   {
    "duration": 20,
    "start_time": "2023-08-19T01:08:20.079Z"
   },
   {
    "duration": 33,
    "start_time": "2023-08-19T01:08:20.101Z"
   },
   {
    "duration": 5,
    "start_time": "2023-08-19T01:08:20.135Z"
   },
   {
    "duration": 22,
    "start_time": "2023-08-19T01:08:20.141Z"
   },
   {
    "duration": 22,
    "start_time": "2023-08-19T01:08:20.165Z"
   },
   {
    "duration": 15,
    "start_time": "2023-08-19T01:08:20.189Z"
   },
   {
    "duration": 10,
    "start_time": "2023-08-19T01:08:20.210Z"
   },
   {
    "duration": 15,
    "start_time": "2023-08-19T01:08:20.222Z"
   },
   {
    "duration": 31,
    "start_time": "2023-08-19T01:08:20.238Z"
   },
   {
    "duration": 5,
    "start_time": "2023-08-19T01:08:20.270Z"
   },
   {
    "duration": 35,
    "start_time": "2023-08-19T01:08:20.276Z"
   },
   {
    "duration": 22,
    "start_time": "2023-08-19T01:08:20.312Z"
   },
   {
    "duration": 16,
    "start_time": "2023-08-19T01:08:20.336Z"
   },
   {
    "duration": 19,
    "start_time": "2023-08-19T01:08:20.354Z"
   },
   {
    "duration": 18,
    "start_time": "2023-08-19T01:08:20.381Z"
   },
   {
    "duration": 15,
    "start_time": "2023-08-19T01:08:20.401Z"
   },
   {
    "duration": 7,
    "start_time": "2023-08-19T01:08:20.421Z"
   },
   {
    "duration": 35,
    "start_time": "2023-08-19T01:08:20.429Z"
   },
   {
    "duration": 19,
    "start_time": "2023-08-19T01:08:20.466Z"
   },
   {
    "duration": 5,
    "start_time": "2023-08-19T01:08:20.486Z"
   },
   {
    "duration": 17,
    "start_time": "2023-08-19T01:08:20.493Z"
   },
   {
    "duration": 65,
    "start_time": "2023-08-19T01:08:20.512Z"
   },
   {
    "duration": 988,
    "start_time": "2023-08-19T01:08:20.581Z"
   },
   {
    "duration": 366,
    "start_time": "2023-08-19T01:08:21.572Z"
   },
   {
    "duration": 697,
    "start_time": "2023-08-19T01:08:21.940Z"
   },
   {
    "duration": 10,
    "start_time": "2023-08-19T01:08:22.638Z"
   },
   {
    "duration": 338,
    "start_time": "2023-08-19T01:08:22.650Z"
   },
   {
    "duration": 4638,
    "start_time": "2023-08-19T01:08:22.990Z"
   },
   {
    "duration": 335,
    "start_time": "2023-08-19T01:08:27.630Z"
   },
   {
    "duration": 8498,
    "start_time": "2023-08-19T01:11:12.828Z"
   },
   {
    "duration": 1259,
    "start_time": "2023-08-19T01:11:21.328Z"
   },
   {
    "duration": 3,
    "start_time": "2023-08-19T01:11:22.588Z"
   },
   {
    "duration": 97,
    "start_time": "2023-08-19T01:11:22.594Z"
   },
   {
    "duration": 156,
    "start_time": "2023-08-19T01:11:22.693Z"
   },
   {
    "duration": 36,
    "start_time": "2023-08-19T01:11:22.851Z"
   },
   {
    "duration": 10,
    "start_time": "2023-08-19T01:11:22.888Z"
   },
   {
    "duration": 14,
    "start_time": "2023-08-19T01:11:22.900Z"
   },
   {
    "duration": 7,
    "start_time": "2023-08-19T01:11:22.916Z"
   },
   {
    "duration": 2,
    "start_time": "2023-08-19T01:11:22.925Z"
   },
   {
    "duration": 57,
    "start_time": "2023-08-19T01:11:22.928Z"
   },
   {
    "duration": 16,
    "start_time": "2023-08-19T01:11:22.987Z"
   },
   {
    "duration": 26,
    "start_time": "2023-08-19T01:11:23.005Z"
   },
   {
    "duration": 4,
    "start_time": "2023-08-19T01:11:23.032Z"
   },
   {
    "duration": 5,
    "start_time": "2023-08-19T01:11:23.037Z"
   },
   {
    "duration": 9,
    "start_time": "2023-08-19T01:11:23.043Z"
   },
   {
    "duration": 32,
    "start_time": "2023-08-19T01:11:23.054Z"
   },
   {
    "duration": 9,
    "start_time": "2023-08-19T01:11:23.087Z"
   },
   {
    "duration": 28,
    "start_time": "2023-08-19T01:11:23.098Z"
   },
   {
    "duration": 9,
    "start_time": "2023-08-19T01:11:23.127Z"
   },
   {
    "duration": 4,
    "start_time": "2023-08-19T01:11:23.138Z"
   },
   {
    "duration": 16,
    "start_time": "2023-08-19T01:11:23.143Z"
   },
   {
    "duration": 34,
    "start_time": "2023-08-19T01:11:23.160Z"
   },
   {
    "duration": 14,
    "start_time": "2023-08-19T01:11:23.196Z"
   },
   {
    "duration": 17,
    "start_time": "2023-08-19T01:11:23.212Z"
   },
   {
    "duration": 20,
    "start_time": "2023-08-19T01:11:23.231Z"
   },
   {
    "duration": 4,
    "start_time": "2023-08-19T01:11:23.252Z"
   },
   {
    "duration": 6,
    "start_time": "2023-08-19T01:11:23.281Z"
   },
   {
    "duration": 12,
    "start_time": "2023-08-19T01:11:23.289Z"
   },
   {
    "duration": 9,
    "start_time": "2023-08-19T01:11:23.302Z"
   },
   {
    "duration": 6,
    "start_time": "2023-08-19T01:11:23.312Z"
   },
   {
    "duration": 5,
    "start_time": "2023-08-19T01:11:23.320Z"
   },
   {
    "duration": 73,
    "start_time": "2023-08-19T01:11:23.327Z"
   },
   {
    "duration": 868,
    "start_time": "2023-08-19T01:11:23.401Z"
   },
   {
    "duration": 422,
    "start_time": "2023-08-19T01:11:24.270Z"
   },
   {
    "duration": 621,
    "start_time": "2023-08-19T01:11:24.694Z"
   },
   {
    "duration": 10,
    "start_time": "2023-08-19T01:11:25.317Z"
   },
   {
    "duration": 304,
    "start_time": "2023-08-19T01:11:25.328Z"
   },
   {
    "duration": 4610,
    "start_time": "2023-08-19T01:11:25.634Z"
   },
   {
    "duration": 335,
    "start_time": "2023-08-19T01:11:30.246Z"
   },
   {
    "duration": 2837,
    "start_time": "2023-08-19T01:11:30.583Z"
   },
   {
    "duration": 3,
    "start_time": "2023-08-19T01:11:33.422Z"
   },
   {
    "duration": 11,
    "start_time": "2023-08-19T01:11:33.427Z"
   },
   {
    "duration": 55,
    "start_time": "2023-08-19T01:11:33.440Z"
   },
   {
    "duration": 16,
    "start_time": "2023-08-19T01:11:33.497Z"
   },
   {
    "duration": 12,
    "start_time": "2023-08-19T01:11:33.515Z"
   },
   {
    "duration": 6,
    "start_time": "2023-08-19T01:11:33.528Z"
   },
   {
    "duration": 11,
    "start_time": "2023-08-19T01:11:33.536Z"
   },
   {
    "duration": 18,
    "start_time": "2023-08-19T01:11:33.548Z"
   },
   {
    "duration": 7,
    "start_time": "2023-08-19T01:11:33.568Z"
   },
   {
    "duration": 14,
    "start_time": "2023-08-19T01:11:33.577Z"
   },
   {
    "duration": 6,
    "start_time": "2023-08-19T01:11:33.593Z"
   },
   {
    "duration": 49,
    "start_time": "2023-08-19T01:11:33.601Z"
   },
   {
    "duration": 3,
    "start_time": "2023-08-19T01:11:33.652Z"
   },
   {
    "duration": 7,
    "start_time": "2023-08-19T01:11:33.657Z"
   },
   {
    "duration": 143160,
    "start_time": "2023-08-19T01:11:33.665Z"
   },
   {
    "duration": 10,
    "start_time": "2023-08-19T01:13:56.827Z"
   },
   {
    "duration": 0,
    "start_time": "2023-08-19T01:13:56.839Z"
   },
   {
    "duration": 0,
    "start_time": "2023-08-19T01:13:56.840Z"
   },
   {
    "duration": 0,
    "start_time": "2023-08-19T01:13:56.841Z"
   },
   {
    "duration": 0,
    "start_time": "2023-08-19T01:13:56.843Z"
   },
   {
    "duration": 0,
    "start_time": "2023-08-19T01:13:56.844Z"
   },
   {
    "duration": 0,
    "start_time": "2023-08-19T01:13:56.845Z"
   },
   {
    "duration": 0,
    "start_time": "2023-08-19T01:13:56.846Z"
   },
   {
    "duration": 0,
    "start_time": "2023-08-19T01:13:56.847Z"
   },
   {
    "duration": 0,
    "start_time": "2023-08-19T01:13:56.848Z"
   },
   {
    "duration": 0,
    "start_time": "2023-08-19T01:13:56.850Z"
   },
   {
    "duration": 0,
    "start_time": "2023-08-19T01:13:56.851Z"
   },
   {
    "duration": 0,
    "start_time": "2023-08-19T01:13:56.852Z"
   },
   {
    "duration": 0,
    "start_time": "2023-08-19T01:13:56.854Z"
   },
   {
    "duration": 0,
    "start_time": "2023-08-19T01:13:56.855Z"
   },
   {
    "duration": 0,
    "start_time": "2023-08-19T01:13:56.856Z"
   },
   {
    "duration": 0,
    "start_time": "2023-08-19T01:13:56.857Z"
   },
   {
    "duration": 0,
    "start_time": "2023-08-19T01:13:56.858Z"
   },
   {
    "duration": 0,
    "start_time": "2023-08-19T01:13:56.859Z"
   },
   {
    "duration": 0,
    "start_time": "2023-08-19T01:13:56.860Z"
   },
   {
    "duration": 0,
    "start_time": "2023-08-19T01:13:56.861Z"
   },
   {
    "duration": 0,
    "start_time": "2023-08-19T01:13:56.880Z"
   },
   {
    "duration": 0,
    "start_time": "2023-08-19T01:13:56.881Z"
   },
   {
    "duration": 0,
    "start_time": "2023-08-19T01:13:56.883Z"
   },
   {
    "duration": 0,
    "start_time": "2023-08-19T01:13:56.884Z"
   },
   {
    "duration": 0,
    "start_time": "2023-08-19T01:13:56.886Z"
   },
   {
    "duration": 8524,
    "start_time": "2023-08-19T01:18:57.109Z"
   },
   {
    "duration": 1308,
    "start_time": "2023-08-19T01:19:05.635Z"
   },
   {
    "duration": 3,
    "start_time": "2023-08-19T01:19:06.944Z"
   },
   {
    "duration": 100,
    "start_time": "2023-08-19T01:19:06.949Z"
   },
   {
    "duration": 167,
    "start_time": "2023-08-19T01:19:07.051Z"
   },
   {
    "duration": 12,
    "start_time": "2023-08-19T01:19:07.220Z"
   },
   {
    "duration": 13,
    "start_time": "2023-08-19T01:19:07.234Z"
   },
   {
    "duration": 47,
    "start_time": "2023-08-19T01:19:07.250Z"
   },
   {
    "duration": 9,
    "start_time": "2023-08-19T01:19:07.299Z"
   },
   {
    "duration": 4,
    "start_time": "2023-08-19T01:19:07.312Z"
   },
   {
    "duration": 51,
    "start_time": "2023-08-19T01:19:07.318Z"
   },
   {
    "duration": 31,
    "start_time": "2023-08-19T01:19:07.371Z"
   },
   {
    "duration": 20,
    "start_time": "2023-08-19T01:19:07.404Z"
   },
   {
    "duration": 4,
    "start_time": "2023-08-19T01:19:07.425Z"
   },
   {
    "duration": 5,
    "start_time": "2023-08-19T01:19:07.431Z"
   },
   {
    "duration": 26,
    "start_time": "2023-08-19T01:19:07.438Z"
   },
   {
    "duration": 35,
    "start_time": "2023-08-19T01:19:07.465Z"
   },
   {
    "duration": 9,
    "start_time": "2023-08-19T01:19:07.501Z"
   },
   {
    "duration": 12,
    "start_time": "2023-08-19T01:19:07.512Z"
   },
   {
    "duration": 10,
    "start_time": "2023-08-19T01:19:07.526Z"
   },
   {
    "duration": 4,
    "start_time": "2023-08-19T01:19:07.538Z"
   },
   {
    "duration": 19,
    "start_time": "2023-08-19T01:19:07.544Z"
   },
   {
    "duration": 24,
    "start_time": "2023-08-19T01:19:07.581Z"
   },
   {
    "duration": 13,
    "start_time": "2023-08-19T01:19:07.607Z"
   },
   {
    "duration": 16,
    "start_time": "2023-08-19T01:19:07.622Z"
   },
   {
    "duration": 42,
    "start_time": "2023-08-19T01:19:07.640Z"
   },
   {
    "duration": 4,
    "start_time": "2023-08-19T01:19:07.683Z"
   },
   {
    "duration": 11,
    "start_time": "2023-08-19T01:19:07.692Z"
   },
   {
    "duration": 9,
    "start_time": "2023-08-19T01:19:07.706Z"
   },
   {
    "duration": 17,
    "start_time": "2023-08-19T01:19:07.717Z"
   },
   {
    "duration": 20,
    "start_time": "2023-08-19T01:19:07.735Z"
   },
   {
    "duration": 9,
    "start_time": "2023-08-19T01:19:07.757Z"
   },
   {
    "duration": 63,
    "start_time": "2023-08-19T01:19:07.768Z"
   },
   {
    "duration": 888,
    "start_time": "2023-08-19T01:19:07.833Z"
   },
   {
    "duration": 425,
    "start_time": "2023-08-19T01:19:08.723Z"
   },
   {
    "duration": 672,
    "start_time": "2023-08-19T01:19:09.149Z"
   },
   {
    "duration": 11,
    "start_time": "2023-08-19T01:19:09.823Z"
   },
   {
    "duration": 355,
    "start_time": "2023-08-19T01:19:09.835Z"
   },
   {
    "duration": 4575,
    "start_time": "2023-08-19T01:19:10.191Z"
   },
   {
    "duration": 352,
    "start_time": "2023-08-19T01:19:14.768Z"
   },
   {
    "duration": 2849,
    "start_time": "2023-08-19T01:19:15.122Z"
   },
   {
    "duration": 10,
    "start_time": "2023-08-19T01:19:17.972Z"
   },
   {
    "duration": 10,
    "start_time": "2023-08-19T01:19:17.984Z"
   },
   {
    "duration": 40,
    "start_time": "2023-08-19T01:19:17.996Z"
   },
   {
    "duration": 10,
    "start_time": "2023-08-19T01:19:18.038Z"
   },
   {
    "duration": 8,
    "start_time": "2023-08-19T01:19:18.049Z"
   },
   {
    "duration": 11,
    "start_time": "2023-08-19T01:19:18.058Z"
   },
   {
    "duration": 18,
    "start_time": "2023-08-19T01:19:18.071Z"
   },
   {
    "duration": 15,
    "start_time": "2023-08-19T01:19:18.090Z"
   },
   {
    "duration": 8,
    "start_time": "2023-08-19T01:19:18.106Z"
   },
   {
    "duration": 11,
    "start_time": "2023-08-19T01:19:18.116Z"
   },
   {
    "duration": 17,
    "start_time": "2023-08-19T01:19:18.128Z"
   },
   {
    "duration": 53,
    "start_time": "2023-08-19T01:19:18.146Z"
   },
   {
    "duration": 2,
    "start_time": "2023-08-19T01:19:18.201Z"
   },
   {
    "duration": 19,
    "start_time": "2023-08-19T01:19:18.205Z"
   },
   {
    "duration": 99128,
    "start_time": "2023-08-19T01:19:18.226Z"
   },
   {
    "duration": 10,
    "start_time": "2023-08-19T01:20:57.356Z"
   },
   {
    "duration": 0,
    "start_time": "2023-08-19T01:20:57.368Z"
   },
   {
    "duration": 0,
    "start_time": "2023-08-19T01:20:57.369Z"
   },
   {
    "duration": 0,
    "start_time": "2023-08-19T01:20:57.370Z"
   },
   {
    "duration": 0,
    "start_time": "2023-08-19T01:20:57.371Z"
   },
   {
    "duration": 0,
    "start_time": "2023-08-19T01:20:57.372Z"
   },
   {
    "duration": 0,
    "start_time": "2023-08-19T01:20:57.373Z"
   },
   {
    "duration": 0,
    "start_time": "2023-08-19T01:20:57.375Z"
   },
   {
    "duration": 0,
    "start_time": "2023-08-19T01:20:57.376Z"
   },
   {
    "duration": 0,
    "start_time": "2023-08-19T01:20:57.377Z"
   },
   {
    "duration": 0,
    "start_time": "2023-08-19T01:20:57.378Z"
   },
   {
    "duration": 0,
    "start_time": "2023-08-19T01:20:57.379Z"
   },
   {
    "duration": 0,
    "start_time": "2023-08-19T01:20:57.380Z"
   },
   {
    "duration": 0,
    "start_time": "2023-08-19T01:20:57.381Z"
   },
   {
    "duration": 0,
    "start_time": "2023-08-19T01:20:57.382Z"
   },
   {
    "duration": 0,
    "start_time": "2023-08-19T01:20:57.383Z"
   },
   {
    "duration": 0,
    "start_time": "2023-08-19T01:20:57.384Z"
   },
   {
    "duration": 0,
    "start_time": "2023-08-19T01:20:57.385Z"
   },
   {
    "duration": 0,
    "start_time": "2023-08-19T01:20:57.386Z"
   },
   {
    "duration": 0,
    "start_time": "2023-08-19T01:20:57.387Z"
   },
   {
    "duration": 0,
    "start_time": "2023-08-19T01:20:57.389Z"
   },
   {
    "duration": 0,
    "start_time": "2023-08-19T01:20:57.389Z"
   },
   {
    "duration": 0,
    "start_time": "2023-08-19T01:20:57.390Z"
   },
   {
    "duration": 0,
    "start_time": "2023-08-19T01:20:57.392Z"
   },
   {
    "duration": 0,
    "start_time": "2023-08-19T01:20:57.393Z"
   },
   {
    "duration": 0,
    "start_time": "2023-08-19T01:20:57.394Z"
   },
   {
    "duration": 8684,
    "start_time": "2023-08-19T01:22:15.013Z"
   },
   {
    "duration": 1291,
    "start_time": "2023-08-19T01:22:23.699Z"
   },
   {
    "duration": 3,
    "start_time": "2023-08-19T01:22:24.992Z"
   },
   {
    "duration": 111,
    "start_time": "2023-08-19T01:22:24.996Z"
   },
   {
    "duration": 174,
    "start_time": "2023-08-19T01:22:25.109Z"
   },
   {
    "duration": 12,
    "start_time": "2023-08-19T01:22:25.284Z"
   },
   {
    "duration": 27,
    "start_time": "2023-08-19T01:22:25.298Z"
   },
   {
    "duration": 44,
    "start_time": "2023-08-19T01:22:25.327Z"
   },
   {
    "duration": 12,
    "start_time": "2023-08-19T01:22:25.372Z"
   },
   {
    "duration": 21,
    "start_time": "2023-08-19T01:22:25.387Z"
   },
   {
    "duration": 40,
    "start_time": "2023-08-19T01:22:25.409Z"
   },
   {
    "duration": 17,
    "start_time": "2023-08-19T01:22:25.451Z"
   },
   {
    "duration": 39,
    "start_time": "2023-08-19T01:22:25.470Z"
   },
   {
    "duration": 19,
    "start_time": "2023-08-19T01:22:25.511Z"
   },
   {
    "duration": 12,
    "start_time": "2023-08-19T01:22:25.531Z"
   },
   {
    "duration": 32,
    "start_time": "2023-08-19T01:22:25.545Z"
   },
   {
    "duration": 31,
    "start_time": "2023-08-19T01:22:25.579Z"
   },
   {
    "duration": 31,
    "start_time": "2023-08-19T01:22:25.612Z"
   },
   {
    "duration": 29,
    "start_time": "2023-08-19T01:22:25.645Z"
   },
   {
    "duration": 13,
    "start_time": "2023-08-19T01:22:25.676Z"
   },
   {
    "duration": 4,
    "start_time": "2023-08-19T01:22:25.690Z"
   },
   {
    "duration": 26,
    "start_time": "2023-08-19T01:22:25.696Z"
   },
   {
    "duration": 20,
    "start_time": "2023-08-19T01:22:25.724Z"
   },
   {
    "duration": 15,
    "start_time": "2023-08-19T01:22:25.746Z"
   },
   {
    "duration": 27,
    "start_time": "2023-08-19T01:22:25.763Z"
   },
   {
    "duration": 12,
    "start_time": "2023-08-19T01:22:25.792Z"
   },
   {
    "duration": 11,
    "start_time": "2023-08-19T01:22:25.805Z"
   },
   {
    "duration": 10,
    "start_time": "2023-08-19T01:22:25.820Z"
   },
   {
    "duration": 5,
    "start_time": "2023-08-19T01:22:25.833Z"
   },
   {
    "duration": 12,
    "start_time": "2023-08-19T01:22:25.840Z"
   },
   {
    "duration": 6,
    "start_time": "2023-08-19T01:22:25.853Z"
   },
   {
    "duration": 7,
    "start_time": "2023-08-19T01:22:25.860Z"
   },
   {
    "duration": 65,
    "start_time": "2023-08-19T01:22:25.868Z"
   },
   {
    "duration": 951,
    "start_time": "2023-08-19T01:22:25.934Z"
   },
   {
    "duration": 470,
    "start_time": "2023-08-19T01:22:26.887Z"
   },
   {
    "duration": 643,
    "start_time": "2023-08-19T01:22:27.359Z"
   },
   {
    "duration": 11,
    "start_time": "2023-08-19T01:22:28.003Z"
   },
   {
    "duration": 298,
    "start_time": "2023-08-19T01:22:28.016Z"
   },
   {
    "duration": 4630,
    "start_time": "2023-08-19T01:22:28.315Z"
   },
   {
    "duration": 339,
    "start_time": "2023-08-19T01:22:32.947Z"
   },
   {
    "duration": 2891,
    "start_time": "2023-08-19T01:22:33.287Z"
   },
   {
    "duration": 2,
    "start_time": "2023-08-19T01:22:36.180Z"
   },
   {
    "duration": 10,
    "start_time": "2023-08-19T01:22:36.184Z"
   },
   {
    "duration": 33,
    "start_time": "2023-08-19T01:22:36.196Z"
   },
   {
    "duration": 7,
    "start_time": "2023-08-19T01:22:36.231Z"
   },
   {
    "duration": 3,
    "start_time": "2023-08-19T01:22:36.239Z"
   },
   {
    "duration": 38,
    "start_time": "2023-08-19T01:22:36.243Z"
   },
   {
    "duration": 6,
    "start_time": "2023-08-19T01:22:36.283Z"
   },
   {
    "duration": 8,
    "start_time": "2023-08-19T01:22:36.291Z"
   },
   {
    "duration": 8,
    "start_time": "2023-08-19T01:22:36.301Z"
   },
   {
    "duration": 6,
    "start_time": "2023-08-19T01:22:36.311Z"
   },
   {
    "duration": 7,
    "start_time": "2023-08-19T01:22:36.319Z"
   },
   {
    "duration": 73,
    "start_time": "2023-08-19T01:22:36.328Z"
   },
   {
    "duration": 2,
    "start_time": "2023-08-19T01:22:36.403Z"
   },
   {
    "duration": 8,
    "start_time": "2023-08-19T01:22:36.407Z"
   },
   {
    "duration": 440578,
    "start_time": "2023-08-19T01:22:36.416Z"
   },
   {
    "duration": 5,
    "start_time": "2023-08-19T01:29:56.996Z"
   },
   {
    "duration": 13370,
    "start_time": "2023-08-19T01:29:57.002Z"
   },
   {
    "duration": 111,
    "start_time": "2023-08-19T01:30:10.373Z"
   },
   {
    "duration": 0,
    "start_time": "2023-08-19T01:30:10.486Z"
   },
   {
    "duration": 0,
    "start_time": "2023-08-19T01:30:10.487Z"
   },
   {
    "duration": 0,
    "start_time": "2023-08-19T01:30:10.488Z"
   },
   {
    "duration": 0,
    "start_time": "2023-08-19T01:30:10.489Z"
   },
   {
    "duration": 0,
    "start_time": "2023-08-19T01:30:10.490Z"
   },
   {
    "duration": 0,
    "start_time": "2023-08-19T01:30:10.491Z"
   },
   {
    "duration": 0,
    "start_time": "2023-08-19T01:30:10.492Z"
   },
   {
    "duration": 0,
    "start_time": "2023-08-19T01:30:10.493Z"
   },
   {
    "duration": 0,
    "start_time": "2023-08-19T01:30:10.495Z"
   },
   {
    "duration": 0,
    "start_time": "2023-08-19T01:30:10.496Z"
   },
   {
    "duration": 0,
    "start_time": "2023-08-19T01:30:10.497Z"
   },
   {
    "duration": 0,
    "start_time": "2023-08-19T01:30:10.498Z"
   },
   {
    "duration": 0,
    "start_time": "2023-08-19T01:30:10.499Z"
   },
   {
    "duration": 0,
    "start_time": "2023-08-19T01:30:10.500Z"
   },
   {
    "duration": 0,
    "start_time": "2023-08-19T01:30:10.501Z"
   },
   {
    "duration": 0,
    "start_time": "2023-08-19T01:30:10.502Z"
   },
   {
    "duration": 0,
    "start_time": "2023-08-19T01:30:10.503Z"
   },
   {
    "duration": 0,
    "start_time": "2023-08-19T01:30:10.504Z"
   },
   {
    "duration": 0,
    "start_time": "2023-08-19T01:30:10.505Z"
   },
   {
    "duration": 0,
    "start_time": "2023-08-19T01:30:10.506Z"
   },
   {
    "duration": 0,
    "start_time": "2023-08-19T01:30:10.507Z"
   },
   {
    "duration": 0,
    "start_time": "2023-08-19T01:30:10.508Z"
   },
   {
    "duration": 0,
    "start_time": "2023-08-19T01:30:10.509Z"
   },
   {
    "duration": 387,
    "start_time": "2023-08-19T01:33:46.803Z"
   },
   {
    "duration": 463,
    "start_time": "2023-08-19T01:34:06.784Z"
   },
   {
    "duration": 20,
    "start_time": "2023-08-19T01:34:07.258Z"
   },
   {
    "duration": 0,
    "start_time": "2023-08-19T01:34:07.282Z"
   },
   {
    "duration": 0,
    "start_time": "2023-08-19T01:34:07.283Z"
   },
   {
    "duration": 0,
    "start_time": "2023-08-19T01:34:07.285Z"
   },
   {
    "duration": 0,
    "start_time": "2023-08-19T01:34:07.287Z"
   },
   {
    "duration": 0,
    "start_time": "2023-08-19T01:34:07.289Z"
   },
   {
    "duration": 0,
    "start_time": "2023-08-19T01:34:07.290Z"
   },
   {
    "duration": 0,
    "start_time": "2023-08-19T01:34:07.291Z"
   },
   {
    "duration": 0,
    "start_time": "2023-08-19T01:34:07.292Z"
   },
   {
    "duration": 0,
    "start_time": "2023-08-19T01:34:07.294Z"
   },
   {
    "duration": 0,
    "start_time": "2023-08-19T01:34:07.296Z"
   },
   {
    "duration": 0,
    "start_time": "2023-08-19T01:34:07.297Z"
   },
   {
    "duration": 0,
    "start_time": "2023-08-19T01:34:07.300Z"
   },
   {
    "duration": 0,
    "start_time": "2023-08-19T01:34:07.301Z"
   },
   {
    "duration": 0,
    "start_time": "2023-08-19T01:34:07.303Z"
   },
   {
    "duration": 0,
    "start_time": "2023-08-19T01:34:07.304Z"
   },
   {
    "duration": 0,
    "start_time": "2023-08-19T01:34:07.305Z"
   },
   {
    "duration": 0,
    "start_time": "2023-08-19T01:34:07.306Z"
   },
   {
    "duration": 0,
    "start_time": "2023-08-19T01:34:07.308Z"
   },
   {
    "duration": 0,
    "start_time": "2023-08-19T01:34:07.310Z"
   },
   {
    "duration": 0,
    "start_time": "2023-08-19T01:34:07.311Z"
   },
   {
    "duration": 0,
    "start_time": "2023-08-19T01:34:07.312Z"
   },
   {
    "duration": 0,
    "start_time": "2023-08-19T01:34:07.314Z"
   },
   {
    "duration": 371,
    "start_time": "2023-08-19T01:35:15.089Z"
   },
   {
    "duration": 19,
    "start_time": "2023-08-19T01:35:15.462Z"
   },
   {
    "duration": 0,
    "start_time": "2023-08-19T01:35:15.483Z"
   },
   {
    "duration": 0,
    "start_time": "2023-08-19T01:35:15.484Z"
   },
   {
    "duration": 0,
    "start_time": "2023-08-19T01:35:15.485Z"
   },
   {
    "duration": 0,
    "start_time": "2023-08-19T01:35:15.486Z"
   },
   {
    "duration": 0,
    "start_time": "2023-08-19T01:35:15.487Z"
   },
   {
    "duration": 0,
    "start_time": "2023-08-19T01:35:15.488Z"
   },
   {
    "duration": 0,
    "start_time": "2023-08-19T01:35:15.489Z"
   },
   {
    "duration": 0,
    "start_time": "2023-08-19T01:35:15.490Z"
   },
   {
    "duration": 0,
    "start_time": "2023-08-19T01:35:15.491Z"
   },
   {
    "duration": 0,
    "start_time": "2023-08-19T01:35:15.492Z"
   },
   {
    "duration": 0,
    "start_time": "2023-08-19T01:35:15.493Z"
   },
   {
    "duration": 0,
    "start_time": "2023-08-19T01:35:15.494Z"
   },
   {
    "duration": 0,
    "start_time": "2023-08-19T01:35:15.495Z"
   },
   {
    "duration": 0,
    "start_time": "2023-08-19T01:35:15.496Z"
   },
   {
    "duration": 0,
    "start_time": "2023-08-19T01:35:15.497Z"
   },
   {
    "duration": 0,
    "start_time": "2023-08-19T01:35:15.498Z"
   },
   {
    "duration": 0,
    "start_time": "2023-08-19T01:35:15.499Z"
   },
   {
    "duration": 0,
    "start_time": "2023-08-19T01:35:15.500Z"
   },
   {
    "duration": 0,
    "start_time": "2023-08-19T01:35:15.501Z"
   },
   {
    "duration": 0,
    "start_time": "2023-08-19T01:35:15.502Z"
   },
   {
    "duration": 0,
    "start_time": "2023-08-19T01:35:15.503Z"
   },
   {
    "duration": 0,
    "start_time": "2023-08-19T01:35:15.504Z"
   },
   {
    "duration": 4,
    "start_time": "2023-08-19T01:35:28.717Z"
   },
   {
    "duration": 353,
    "start_time": "2023-08-19T01:35:34.994Z"
   },
   {
    "duration": 11,
    "start_time": "2023-08-19T01:35:35.349Z"
   },
   {
    "duration": 29,
    "start_time": "2023-08-19T01:35:35.361Z"
   },
   {
    "duration": 6548423,
    "start_time": "2023-08-19T01:35:35.392Z"
   },
   {
    "duration": 4,
    "start_time": "2023-08-19T03:24:43.817Z"
   },
   {
    "duration": 47149,
    "start_time": "2023-08-19T03:24:43.822Z"
   },
   {
    "duration": 360,
    "start_time": "2023-08-19T03:25:30.972Z"
   },
   {
    "duration": 11,
    "start_time": "2023-08-19T03:25:31.333Z"
   },
   {
    "duration": 44,
    "start_time": "2023-08-19T03:25:31.346Z"
   },
   {
    "duration": 0,
    "start_time": "2023-08-19T03:25:31.392Z"
   },
   {
    "duration": 0,
    "start_time": "2023-08-19T03:25:31.393Z"
   },
   {
    "duration": 0,
    "start_time": "2023-08-19T03:25:31.394Z"
   },
   {
    "duration": 0,
    "start_time": "2023-08-19T03:25:31.395Z"
   },
   {
    "duration": 0,
    "start_time": "2023-08-19T03:25:31.396Z"
   },
   {
    "duration": 0,
    "start_time": "2023-08-19T03:25:31.397Z"
   },
   {
    "duration": 0,
    "start_time": "2023-08-19T03:25:31.398Z"
   },
   {
    "duration": 0,
    "start_time": "2023-08-19T03:25:31.399Z"
   },
   {
    "duration": 0,
    "start_time": "2023-08-19T03:25:31.399Z"
   },
   {
    "duration": 0,
    "start_time": "2023-08-19T03:25:31.400Z"
   },
   {
    "duration": 0,
    "start_time": "2023-08-19T03:25:31.401Z"
   },
   {
    "duration": 0,
    "start_time": "2023-08-19T03:25:31.402Z"
   },
   {
    "duration": 0,
    "start_time": "2023-08-19T03:25:31.403Z"
   },
   {
    "duration": 0,
    "start_time": "2023-08-19T03:25:31.404Z"
   },
   {
    "duration": 0,
    "start_time": "2023-08-19T03:25:31.405Z"
   },
   {
    "duration": 42,
    "start_time": "2023-08-19T09:25:21.422Z"
   },
   {
    "duration": 3,
    "start_time": "2023-08-19T09:25:21.466Z"
   },
   {
    "duration": 165,
    "start_time": "2023-08-19T09:25:21.470Z"
   },
   {
    "duration": 9,
    "start_time": "2023-08-19T09:25:21.637Z"
   },
   {
    "duration": 0,
    "start_time": "2023-08-19T09:25:21.647Z"
   },
   {
    "duration": 0,
    "start_time": "2023-08-19T09:25:21.648Z"
   },
   {
    "duration": 0,
    "start_time": "2023-08-19T09:25:21.649Z"
   },
   {
    "duration": 0,
    "start_time": "2023-08-19T09:25:21.650Z"
   },
   {
    "duration": 0,
    "start_time": "2023-08-19T09:25:21.652Z"
   },
   {
    "duration": 0,
    "start_time": "2023-08-19T09:25:21.652Z"
   },
   {
    "duration": 0,
    "start_time": "2023-08-19T09:25:21.653Z"
   },
   {
    "duration": 0,
    "start_time": "2023-08-19T09:25:21.654Z"
   },
   {
    "duration": 0,
    "start_time": "2023-08-19T09:25:21.655Z"
   },
   {
    "duration": 0,
    "start_time": "2023-08-19T09:25:21.657Z"
   },
   {
    "duration": 0,
    "start_time": "2023-08-19T09:25:21.658Z"
   },
   {
    "duration": 3,
    "start_time": "2023-08-19T09:25:46.459Z"
   },
   {
    "duration": 3,
    "start_time": "2023-08-19T09:26:57.606Z"
   },
   {
    "duration": 30973,
    "start_time": "2023-08-19T09:28:06.809Z"
   },
   {
    "duration": 8,
    "start_time": "2023-08-19T09:28:37.784Z"
   },
   {
    "duration": 0,
    "start_time": "2023-08-19T09:28:37.794Z"
   },
   {
    "duration": 0,
    "start_time": "2023-08-19T09:28:37.795Z"
   },
   {
    "duration": 0,
    "start_time": "2023-08-19T09:28:37.796Z"
   },
   {
    "duration": 1,
    "start_time": "2023-08-19T09:28:37.797Z"
   },
   {
    "duration": 0,
    "start_time": "2023-08-19T09:28:37.799Z"
   },
   {
    "duration": 0,
    "start_time": "2023-08-19T09:28:37.799Z"
   },
   {
    "duration": 0,
    "start_time": "2023-08-19T09:28:37.801Z"
   },
   {
    "duration": 0,
    "start_time": "2023-08-19T09:28:37.802Z"
   },
   {
    "duration": 0,
    "start_time": "2023-08-19T09:28:37.803Z"
   },
   {
    "duration": 0,
    "start_time": "2023-08-19T09:28:37.804Z"
   },
   {
    "duration": 0,
    "start_time": "2023-08-19T09:28:37.806Z"
   },
   {
    "duration": 3,
    "start_time": "2023-08-19T09:29:06.738Z"
   },
   {
    "duration": 27403,
    "start_time": "2023-08-19T09:29:32.372Z"
   },
   {
    "duration": 9,
    "start_time": "2023-08-19T09:29:59.777Z"
   },
   {
    "duration": 0,
    "start_time": "2023-08-19T09:29:59.788Z"
   },
   {
    "duration": 0,
    "start_time": "2023-08-19T09:29:59.789Z"
   },
   {
    "duration": 0,
    "start_time": "2023-08-19T09:29:59.791Z"
   },
   {
    "duration": 46,
    "start_time": "2023-08-19T09:43:17.902Z"
   },
   {
    "duration": 21,
    "start_time": "2023-08-19T09:43:21.796Z"
   },
   {
    "duration": 6,
    "start_time": "2023-08-19T09:45:32.641Z"
   },
   {
    "duration": 4602,
    "start_time": "2023-08-19T09:45:42.898Z"
   },
   {
    "duration": 6,
    "start_time": "2023-08-19T09:47:10.718Z"
   },
   {
    "duration": 4,
    "start_time": "2023-08-19T09:47:35.714Z"
   },
   {
    "duration": 21460,
    "start_time": "2023-08-19T09:47:37.246Z"
   },
   {
    "duration": 4,
    "start_time": "2023-08-19T09:48:05.489Z"
   },
   {
    "duration": 64385,
    "start_time": "2023-08-19T09:48:05.915Z"
   },
   {
    "duration": 3,
    "start_time": "2023-08-19T09:49:28.307Z"
   },
   {
    "duration": 3,
    "start_time": "2023-08-19T09:49:36.412Z"
   },
   {
    "duration": 20,
    "start_time": "2023-08-19T09:49:37.107Z"
   },
   {
    "duration": 1224,
    "start_time": "2023-08-19T09:49:46.177Z"
   },
   {
    "duration": 3,
    "start_time": "2023-08-19T09:50:01.946Z"
   },
   {
    "duration": 3,
    "start_time": "2023-08-19T09:50:02.262Z"
   },
   {
    "duration": 1212,
    "start_time": "2023-08-19T09:50:02.785Z"
   },
   {
    "duration": 83,
    "start_time": "2023-08-19T09:50:08.446Z"
   },
   {
    "duration": 3,
    "start_time": "2023-08-19T09:50:08.787Z"
   },
   {
    "duration": 3,
    "start_time": "2023-08-19T09:50:14.727Z"
   },
   {
    "duration": 11,
    "start_time": "2023-08-19T09:50:15.201Z"
   },
   {
    "duration": 3,
    "start_time": "2023-08-19T09:50:28.656Z"
   },
   {
    "duration": 2,
    "start_time": "2023-08-19T09:50:29.042Z"
   },
   {
    "duration": 42633,
    "start_time": "2023-08-19T09:50:29.849Z"
   },
   {
    "duration": 3,
    "start_time": "2023-08-19T09:51:21.285Z"
   },
   {
    "duration": 3,
    "start_time": "2023-08-19T09:51:21.690Z"
   },
   {
    "duration": 47480,
    "start_time": "2023-08-19T09:51:22.117Z"
   },
   {
    "duration": 3,
    "start_time": "2023-08-19T09:52:19.495Z"
   },
   {
    "duration": 3,
    "start_time": "2023-08-19T09:52:20.011Z"
   },
   {
    "duration": 211,
    "start_time": "2023-08-19T09:52:21.384Z"
   },
   {
    "duration": 23701,
    "start_time": "2023-08-19T09:52:34.098Z"
   },
   {
    "duration": 4,
    "start_time": "2023-08-19T09:53:18.310Z"
   },
   {
    "duration": 3,
    "start_time": "2023-08-19T09:53:18.806Z"
   },
   {
    "duration": 3,
    "start_time": "2023-08-19T09:53:23.021Z"
   },
   {
    "duration": 10000780,
    "start_time": "2023-08-19T09:53:28.618Z"
   },
   {
    "duration": 5,
    "start_time": "2023-08-19T12:40:09.400Z"
   },
   {
    "duration": 13113,
    "start_time": "2023-08-19T12:40:09.406Z"
   },
   {
    "duration": 383,
    "start_time": "2023-08-19T12:40:22.582Z"
   },
   {
    "duration": 23,
    "start_time": "2023-08-19T12:40:22.967Z"
   },
   {
    "duration": 2,
    "start_time": "2023-08-19T12:56:20.872Z"
   },
   {
    "duration": 10977,
    "start_time": "2023-08-19T12:56:21.405Z"
   },
   {
    "duration": 33,
    "start_time": "2023-08-19T12:56:32.385Z"
   },
   {
    "duration": 390,
    "start_time": "2023-08-19T12:56:32.420Z"
   },
   {
    "duration": 16555,
    "start_time": "2023-08-19T12:56:47.563Z"
   },
   {
    "duration": 10,
    "start_time": "2023-08-19T12:57:04.120Z"
   },
   {
    "duration": 3,
    "start_time": "2023-08-19T12:57:04.132Z"
   },
   {
    "duration": 527,
    "start_time": "2023-08-19T12:57:04.137Z"
   },
   {
    "duration": 5343946,
    "start_time": "2023-08-19T12:59:04.455Z"
   },
   {
    "duration": 4,
    "start_time": "2023-08-19T14:28:08.404Z"
   },
   {
    "duration": 1993883,
    "start_time": "2023-08-19T14:28:08.410Z"
   },
   {
    "duration": 436,
    "start_time": "2023-08-19T15:01:22.295Z"
   },
   {
    "duration": 13,
    "start_time": "2023-08-19T15:01:22.732Z"
   },
   {
    "duration": 14,
    "start_time": "2023-08-19T15:06:28.560Z"
   },
   {
    "duration": 16,
    "start_time": "2023-08-19T15:07:05.248Z"
   },
   {
    "duration": 14,
    "start_time": "2023-08-19T15:07:13.687Z"
   },
   {
    "duration": 10,
    "start_time": "2023-08-19T15:07:19.338Z"
   },
   {
    "duration": 8,
    "start_time": "2023-08-19T15:07:33.623Z"
   },
   {
    "duration": 10,
    "start_time": "2023-08-19T15:07:34.241Z"
   },
   {
    "duration": 10,
    "start_time": "2023-08-19T15:07:49.474Z"
   },
   {
    "duration": 6,
    "start_time": "2023-08-19T15:08:23.196Z"
   },
   {
    "duration": 3370,
    "start_time": "2023-08-19T15:13:26.434Z"
   },
   {
    "duration": 3392,
    "start_time": "2023-08-19T15:13:56.606Z"
   },
   {
    "duration": 14055,
    "start_time": "2023-08-19T15:14:42.755Z"
   },
   {
    "duration": 4,
    "start_time": "2023-08-19T15:17:24.395Z"
   },
   {
    "duration": 3340,
    "start_time": "2023-08-19T15:18:01.030Z"
   },
   {
    "duration": 3241,
    "start_time": "2023-08-19T15:18:52.388Z"
   },
   {
    "duration": 10,
    "start_time": "2023-08-19T15:19:10.914Z"
   },
   {
    "duration": 165,
    "start_time": "2023-08-19T15:19:16.921Z"
   },
   {
    "duration": 5,
    "start_time": "2023-08-19T15:19:47.121Z"
   },
   {
    "duration": 3379,
    "start_time": "2023-08-19T15:19:51.222Z"
   },
   {
    "duration": 10213,
    "start_time": "2023-08-19T15:20:28.645Z"
   },
   {
    "duration": 2723,
    "start_time": "2023-08-19T15:20:40.975Z"
   },
   {
    "duration": 4,
    "start_time": "2023-08-19T15:21:18.686Z"
   },
   {
    "duration": 4,
    "start_time": "2023-08-19T15:21:22.027Z"
   },
   {
    "duration": 3,
    "start_time": "2023-08-19T15:21:28.743Z"
   },
   {
    "duration": 11,
    "start_time": "2023-08-19T15:21:31.377Z"
   },
   {
    "duration": 3544,
    "start_time": "2023-08-19T15:22:53.498Z"
   },
   {
    "duration": 4,
    "start_time": "2023-08-19T15:24:21.656Z"
   },
   {
    "duration": 8,
    "start_time": "2023-08-19T15:24:25.707Z"
   },
   {
    "duration": 4,
    "start_time": "2023-08-19T15:27:24.860Z"
   },
   {
    "duration": 6,
    "start_time": "2023-08-19T15:27:35.065Z"
   },
   {
    "duration": 80,
    "start_time": "2023-08-19T15:27:37.983Z"
   },
   {
    "duration": 3343,
    "start_time": "2023-08-19T15:27:43.616Z"
   },
   {
    "duration": 3,
    "start_time": "2023-08-19T15:28:03.527Z"
   },
   {
    "duration": 4,
    "start_time": "2023-08-19T15:28:15.063Z"
   },
   {
    "duration": 3381,
    "start_time": "2023-08-19T15:28:15.823Z"
   },
   {
    "duration": 7,
    "start_time": "2023-08-19T15:28:19.206Z"
   },
   {
    "duration": 10130,
    "start_time": "2023-08-19T15:28:35.903Z"
   },
   {
    "duration": 2510,
    "start_time": "2023-08-19T15:28:54.182Z"
   },
   {
    "duration": 4,
    "start_time": "2023-08-19T15:30:24.757Z"
   },
   {
    "duration": 4,
    "start_time": "2023-08-19T15:30:24.918Z"
   },
   {
    "duration": 3555,
    "start_time": "2023-08-19T15:30:25.187Z"
   },
   {
    "duration": 11143,
    "start_time": "2023-08-19T15:30:28.744Z"
   },
   {
    "duration": 2403,
    "start_time": "2023-08-19T15:30:39.889Z"
   },
   {
    "duration": 8,
    "start_time": "2023-08-19T15:30:42.294Z"
   },
   {
    "duration": 3,
    "start_time": "2023-08-19T15:38:01.431Z"
   },
   {
    "duration": 274227,
    "start_time": "2023-08-19T15:40:58.722Z"
   },
   {
    "duration": 5,
    "start_time": "2023-08-19T15:45:32.951Z"
   },
   {
    "duration": 46372,
    "start_time": "2023-08-19T15:45:32.957Z"
   },
   {
    "duration": 377,
    "start_time": "2023-08-19T15:46:19.331Z"
   },
   {
    "duration": 3,
    "start_time": "2023-08-19T15:47:30.462Z"
   },
   {
    "duration": 11018,
    "start_time": "2023-08-19T15:47:30.963Z"
   },
   {
    "duration": 35,
    "start_time": "2023-08-19T15:47:41.984Z"
   },
   {
    "duration": 404,
    "start_time": "2023-08-19T15:47:42.020Z"
   },
   {
    "duration": 114,
    "start_time": "2023-08-19T15:49:20.795Z"
   },
   {
    "duration": 186647,
    "start_time": "2023-08-19T15:49:32.545Z"
   },
   {
    "duration": 4,
    "start_time": "2023-08-19T15:52:39.194Z"
   },
   {
    "duration": 45461,
    "start_time": "2023-08-19T15:52:39.200Z"
   },
   {
    "duration": 347,
    "start_time": "2023-08-19T15:53:24.663Z"
   },
   {
    "duration": 3,
    "start_time": "2023-08-19T15:54:17.331Z"
   },
   {
    "duration": 47,
    "start_time": "2023-08-19T15:54:53.825Z"
   },
   {
    "duration": 949295,
    "start_time": "2023-08-19T15:54:58.424Z"
   },
   {
    "duration": 4,
    "start_time": "2023-08-19T16:10:47.721Z"
   },
   {
    "duration": 47372,
    "start_time": "2023-08-19T16:10:47.726Z"
   },
   {
    "duration": 583,
    "start_time": "2023-08-19T16:11:35.100Z"
   },
   {
    "duration": 2,
    "start_time": "2023-08-19T16:11:35.685Z"
   },
   {
    "duration": 22599,
    "start_time": "2023-08-19T16:11:35.689Z"
   },
   {
    "duration": 3,
    "start_time": "2023-08-19T16:11:58.290Z"
   },
   {
    "duration": 3,
    "start_time": "2023-08-19T16:13:04.081Z"
   },
   {
    "duration": 548467,
    "start_time": "2023-08-19T16:14:19.846Z"
   },
   {
    "duration": 3,
    "start_time": "2023-08-19T16:23:28.315Z"
   },
   {
    "duration": 379,
    "start_time": "2023-08-19T16:23:28.320Z"
   },
   {
    "duration": 91688,
    "start_time": "2023-08-19T16:23:28.701Z"
   },
   {
    "duration": 3,
    "start_time": "2023-08-19T16:25:00.391Z"
   },
   {
    "duration": 13,
    "start_time": "2023-08-19T16:25:44.576Z"
   },
   {
    "duration": 14,
    "start_time": "2023-08-19T16:26:06.627Z"
   },
   {
    "duration": 15,
    "start_time": "2023-08-19T16:26:41.944Z"
   },
   {
    "duration": 5,
    "start_time": "2023-08-19T16:26:48.013Z"
   },
   {
    "duration": 4,
    "start_time": "2023-08-19T16:27:21.143Z"
   },
   {
    "duration": 9,
    "start_time": "2023-08-19T16:27:48.831Z"
   },
   {
    "duration": 2,
    "start_time": "2023-08-19T16:27:52.092Z"
   },
   {
    "duration": 14,
    "start_time": "2023-08-19T16:27:53.055Z"
   },
   {
    "duration": 5,
    "start_time": "2023-08-19T16:28:15.360Z"
   },
   {
    "duration": 11,
    "start_time": "2023-08-19T16:28:36.427Z"
   },
   {
    "duration": 20,
    "start_time": "2023-08-19T16:28:54.832Z"
   },
   {
    "duration": 8406,
    "start_time": "2023-08-19T16:29:46.010Z"
   },
   {
    "duration": 370806,
    "start_time": "2023-08-19T16:30:34.501Z"
   },
   {
    "duration": 4,
    "start_time": "2023-08-19T16:36:45.308Z"
   },
   {
    "duration": 363,
    "start_time": "2023-08-19T16:36:45.313Z"
   },
   {
    "duration": 4,
    "start_time": "2023-08-19T16:36:45.681Z"
   },
   {
    "duration": 12,
    "start_time": "2023-08-19T16:36:45.687Z"
   },
   {
    "duration": 4,
    "start_time": "2023-08-19T16:37:09.990Z"
   },
   {
    "duration": 3,
    "start_time": "2023-08-19T16:37:12.678Z"
   },
   {
    "duration": 62708,
    "start_time": "2023-08-19T16:37:20.809Z"
   },
   {
    "duration": 11928,
    "start_time": "2023-08-19T16:38:29.821Z"
   },
   {
    "duration": 1064437,
    "start_time": "2023-08-19T16:38:44.931Z"
   },
   {
    "duration": 3,
    "start_time": "2023-08-19T16:56:29.370Z"
   },
   {
    "duration": 19427,
    "start_time": "2023-08-19T16:56:29.374Z"
   },
   {
    "duration": 373,
    "start_time": "2023-08-19T16:56:48.803Z"
   },
   {
    "duration": 12,
    "start_time": "2023-08-19T16:56:49.180Z"
   },
   {
    "duration": 3,
    "start_time": "2023-08-19T16:56:49.193Z"
   },
   {
    "duration": 55214,
    "start_time": "2023-08-19T16:56:49.198Z"
   },
   {
    "duration": 4,
    "start_time": "2023-08-19T16:57:44.413Z"
   },
   {
    "duration": 351,
    "start_time": "2023-08-19T16:57:44.418Z"
   },
   {
    "duration": 18,
    "start_time": "2023-08-19T16:57:44.772Z"
   },
   {
    "duration": 43,
    "start_time": "2023-08-19T16:57:44.792Z"
   },
   {
    "duration": 3,
    "start_time": "2023-08-19T16:57:44.837Z"
   },
   {
    "duration": 7234,
    "start_time": "2023-08-19T16:57:44.841Z"
   },
   {
    "duration": 4,
    "start_time": "2023-08-19T16:57:52.076Z"
   },
   {
    "duration": 7534,
    "start_time": "2023-08-19T16:57:52.082Z"
   },
   {
    "duration": 402,
    "start_time": "2023-08-19T16:57:59.681Z"
   },
   {
    "duration": 13,
    "start_time": "2023-08-19T16:58:00.085Z"
   },
   {
    "duration": 38,
    "start_time": "2023-08-19T16:58:00.099Z"
   },
   {
    "duration": 31,
    "start_time": "2023-08-19T16:58:00.139Z"
   },
   {
    "duration": 5732,
    "start_time": "2023-08-19T16:58:00.172Z"
   },
   {
    "duration": 3521,
    "start_time": "2023-08-19T16:58:05.906Z"
   },
   {
    "duration": 0,
    "start_time": "2023-08-19T16:58:09.429Z"
   },
   {
    "duration": 0,
    "start_time": "2023-08-19T16:58:09.430Z"
   },
   {
    "duration": 0,
    "start_time": "2023-08-19T16:58:09.431Z"
   },
   {
    "duration": 0,
    "start_time": "2023-08-19T16:58:09.432Z"
   },
   {
    "duration": 0,
    "start_time": "2023-08-19T16:58:09.433Z"
   },
   {
    "duration": 0,
    "start_time": "2023-08-19T16:58:09.434Z"
   },
   {
    "duration": 0,
    "start_time": "2023-08-19T16:58:09.436Z"
   },
   {
    "duration": 0,
    "start_time": "2023-08-19T16:58:09.437Z"
   },
   {
    "duration": 0,
    "start_time": "2023-08-19T16:58:09.438Z"
   },
   {
    "duration": 0,
    "start_time": "2023-08-19T16:58:09.439Z"
   },
   {
    "duration": 123702,
    "start_time": "2023-08-19T16:58:25.676Z"
   },
   {
    "duration": 4,
    "start_time": "2023-08-19T17:00:29.381Z"
   },
   {
    "duration": 4,
    "start_time": "2023-08-19T17:02:09.792Z"
   },
   {
    "duration": 23627,
    "start_time": "2023-08-19T17:02:15.932Z"
   },
   {
    "duration": 4,
    "start_time": "2023-08-19T17:02:39.561Z"
   },
   {
    "duration": 20171,
    "start_time": "2023-08-19T17:02:39.566Z"
   },
   {
    "duration": 374,
    "start_time": "2023-08-19T17:02:59.739Z"
   },
   {
    "duration": 12,
    "start_time": "2023-08-19T17:03:00.115Z"
   },
   {
    "duration": 18,
    "start_time": "2023-08-19T17:03:00.129Z"
   },
   {
    "duration": 55490,
    "start_time": "2023-08-19T17:03:00.149Z"
   },
   {
    "duration": 5,
    "start_time": "2023-08-19T17:03:55.640Z"
   },
   {
    "duration": 385,
    "start_time": "2023-08-19T17:03:55.646Z"
   },
   {
    "duration": 13,
    "start_time": "2023-08-19T17:03:56.033Z"
   },
   {
    "duration": 53,
    "start_time": "2023-08-19T17:03:56.047Z"
   },
   {
    "duration": 3,
    "start_time": "2023-08-19T17:03:56.101Z"
   },
   {
    "duration": 9576,
    "start_time": "2023-08-19T17:03:56.105Z"
   },
   {
    "duration": 4,
    "start_time": "2023-08-19T17:04:05.683Z"
   },
   {
    "duration": 8814,
    "start_time": "2023-08-19T17:04:05.688Z"
   },
   {
    "duration": 446,
    "start_time": "2023-08-19T17:04:14.503Z"
   },
   {
    "duration": 13,
    "start_time": "2023-08-19T17:04:14.951Z"
   },
   {
    "duration": 5,
    "start_time": "2023-08-19T17:04:14.981Z"
   },
   {
    "duration": 15,
    "start_time": "2023-08-19T17:04:14.988Z"
   },
   {
    "duration": 5068,
    "start_time": "2023-08-19T17:04:15.005Z"
   },
   {
    "duration": 11065,
    "start_time": "2023-08-19T17:04:20.075Z"
   },
   {
    "duration": 1549,
    "start_time": "2023-08-19T17:04:31.142Z"
   },
   {
    "duration": 7,
    "start_time": "2023-08-19T17:04:32.693Z"
   },
   {
    "duration": 20,
    "start_time": "2023-08-19T17:04:32.702Z"
   },
   {
    "duration": 10602,
    "start_time": "2023-08-19T17:04:32.724Z"
   },
   {
    "duration": 30,
    "start_time": "2023-08-19T17:04:43.328Z"
   },
   {
    "duration": 356,
    "start_time": "2023-08-19T17:04:43.360Z"
   },
   {
    "duration": 15213,
    "start_time": "2023-08-19T17:04:43.719Z"
   },
   {
    "duration": 9,
    "start_time": "2023-08-19T17:04:58.934Z"
   },
   {
    "duration": 9,
    "start_time": "2023-08-19T17:04:58.944Z"
   },
   {
    "duration": 385,
    "start_time": "2023-08-19T17:04:58.955Z"
   },
   {
    "duration": 9067,
    "start_time": "2023-08-19T17:08:55.246Z"
   },
   {
    "duration": 1359,
    "start_time": "2023-08-19T17:09:04.315Z"
   },
   {
    "duration": 3,
    "start_time": "2023-08-19T17:09:05.676Z"
   },
   {
    "duration": 101,
    "start_time": "2023-08-19T17:09:05.682Z"
   },
   {
    "duration": 200,
    "start_time": "2023-08-19T17:09:05.785Z"
   },
   {
    "duration": 13,
    "start_time": "2023-08-19T17:09:05.986Z"
   },
   {
    "duration": 15,
    "start_time": "2023-08-19T17:09:06.001Z"
   },
   {
    "duration": 29,
    "start_time": "2023-08-19T17:09:06.018Z"
   },
   {
    "duration": 33,
    "start_time": "2023-08-19T17:09:06.049Z"
   },
   {
    "duration": 3,
    "start_time": "2023-08-19T17:09:06.085Z"
   },
   {
    "duration": 49,
    "start_time": "2023-08-19T17:09:06.090Z"
   },
   {
    "duration": 17,
    "start_time": "2023-08-19T17:09:06.143Z"
   },
   {
    "duration": 55,
    "start_time": "2023-08-19T17:09:06.162Z"
   },
   {
    "duration": 26,
    "start_time": "2023-08-19T17:09:06.218Z"
   },
   {
    "duration": 20,
    "start_time": "2023-08-19T17:09:06.246Z"
   },
   {
    "duration": 44,
    "start_time": "2023-08-19T17:09:06.268Z"
   },
   {
    "duration": 18,
    "start_time": "2023-08-19T17:09:06.314Z"
   },
   {
    "duration": 10,
    "start_time": "2023-08-19T17:09:06.334Z"
   },
   {
    "duration": 20,
    "start_time": "2023-08-19T17:09:06.346Z"
   },
   {
    "duration": 29,
    "start_time": "2023-08-19T17:09:06.369Z"
   },
   {
    "duration": 5,
    "start_time": "2023-08-19T17:09:06.400Z"
   },
   {
    "duration": 19,
    "start_time": "2023-08-19T17:09:06.407Z"
   },
   {
    "duration": 22,
    "start_time": "2023-08-19T17:09:06.427Z"
   },
   {
    "duration": 33,
    "start_time": "2023-08-19T17:09:06.450Z"
   },
   {
    "duration": 19,
    "start_time": "2023-08-19T17:09:06.485Z"
   },
   {
    "duration": 14,
    "start_time": "2023-08-19T17:09:06.505Z"
   },
   {
    "duration": 8,
    "start_time": "2023-08-19T17:09:06.521Z"
   },
   {
    "duration": 13,
    "start_time": "2023-08-19T17:09:06.533Z"
   },
   {
    "duration": 6,
    "start_time": "2023-08-19T17:09:06.548Z"
   },
   {
    "duration": 27,
    "start_time": "2023-08-19T17:09:06.556Z"
   },
   {
    "duration": 9,
    "start_time": "2023-08-19T17:09:06.585Z"
   },
   {
    "duration": 8,
    "start_time": "2023-08-19T17:09:06.596Z"
   },
   {
    "duration": 93,
    "start_time": "2023-08-19T17:09:06.606Z"
   },
   {
    "duration": 1008,
    "start_time": "2023-08-19T17:09:06.701Z"
   },
   {
    "duration": 478,
    "start_time": "2023-08-19T17:09:07.712Z"
   },
   {
    "duration": 1121,
    "start_time": "2023-08-19T17:09:08.192Z"
   },
   {
    "duration": 66,
    "start_time": "2023-08-19T17:09:09.315Z"
   },
   {
    "duration": 601,
    "start_time": "2023-08-19T17:09:09.384Z"
   },
   {
    "duration": 5122,
    "start_time": "2023-08-19T17:09:09.986Z"
   },
   {
    "duration": 356,
    "start_time": "2023-08-19T17:09:15.110Z"
   },
   {
    "duration": 3052,
    "start_time": "2023-08-19T17:09:15.468Z"
   },
   {
    "duration": 3,
    "start_time": "2023-08-19T17:09:18.522Z"
   },
   {
    "duration": 10,
    "start_time": "2023-08-19T17:09:18.526Z"
   },
   {
    "duration": 59,
    "start_time": "2023-08-19T17:09:18.538Z"
   },
   {
    "duration": 9,
    "start_time": "2023-08-19T17:09:18.598Z"
   },
   {
    "duration": 15,
    "start_time": "2023-08-19T17:09:18.609Z"
   },
   {
    "duration": 13,
    "start_time": "2023-08-19T17:09:18.626Z"
   },
   {
    "duration": 5,
    "start_time": "2023-08-19T17:09:18.641Z"
   },
   {
    "duration": 14,
    "start_time": "2023-08-19T17:09:18.648Z"
   },
   {
    "duration": 15,
    "start_time": "2023-08-19T17:09:18.663Z"
   },
   {
    "duration": 11,
    "start_time": "2023-08-19T17:09:18.679Z"
   },
   {
    "duration": 6,
    "start_time": "2023-08-19T17:09:18.691Z"
   },
   {
    "duration": 48,
    "start_time": "2023-08-19T17:09:18.698Z"
   },
   {
    "duration": 2,
    "start_time": "2023-08-19T17:09:18.748Z"
   },
   {
    "duration": 24685,
    "start_time": "2023-08-19T17:09:18.752Z"
   },
   {
    "duration": 3,
    "start_time": "2023-08-19T17:09:43.439Z"
   },
   {
    "duration": 19398,
    "start_time": "2023-08-19T17:09:43.444Z"
   },
   {
    "duration": 365,
    "start_time": "2023-08-19T17:10:02.844Z"
   },
   {
    "duration": 16,
    "start_time": "2023-08-19T17:10:03.211Z"
   },
   {
    "duration": 11,
    "start_time": "2023-08-19T17:10:03.228Z"
   },
   {
    "duration": 57354,
    "start_time": "2023-08-19T17:10:03.241Z"
   },
   {
    "duration": 4,
    "start_time": "2023-08-19T17:11:00.597Z"
   },
   {
    "duration": 151,
    "start_time": "2023-08-19T17:11:00.602Z"
   },
   {
    "duration": 0,
    "start_time": "2023-08-19T17:11:00.755Z"
   },
   {
    "duration": 0,
    "start_time": "2023-08-19T17:11:00.757Z"
   },
   {
    "duration": 0,
    "start_time": "2023-08-19T17:11:00.758Z"
   },
   {
    "duration": 0,
    "start_time": "2023-08-19T17:11:00.759Z"
   },
   {
    "duration": 0,
    "start_time": "2023-08-19T17:11:00.761Z"
   },
   {
    "duration": 0,
    "start_time": "2023-08-19T17:11:00.762Z"
   },
   {
    "duration": 0,
    "start_time": "2023-08-19T17:11:00.763Z"
   },
   {
    "duration": 0,
    "start_time": "2023-08-19T17:11:00.764Z"
   },
   {
    "duration": 0,
    "start_time": "2023-08-19T17:11:00.765Z"
   },
   {
    "duration": 0,
    "start_time": "2023-08-19T17:11:00.781Z"
   },
   {
    "duration": 0,
    "start_time": "2023-08-19T17:11:00.783Z"
   },
   {
    "duration": 0,
    "start_time": "2023-08-19T17:11:00.784Z"
   },
   {
    "duration": 0,
    "start_time": "2023-08-19T17:11:00.785Z"
   },
   {
    "duration": 0,
    "start_time": "2023-08-19T17:11:00.787Z"
   },
   {
    "duration": 0,
    "start_time": "2023-08-19T17:11:00.788Z"
   },
   {
    "duration": 0,
    "start_time": "2023-08-19T17:11:00.789Z"
   },
   {
    "duration": 0,
    "start_time": "2023-08-19T17:11:00.790Z"
   },
   {
    "duration": 0,
    "start_time": "2023-08-19T17:11:00.791Z"
   },
   {
    "duration": 0,
    "start_time": "2023-08-19T17:11:00.792Z"
   },
   {
    "duration": 0,
    "start_time": "2023-08-19T17:11:00.793Z"
   },
   {
    "duration": 0,
    "start_time": "2023-08-19T17:11:00.795Z"
   },
   {
    "duration": 0,
    "start_time": "2023-08-19T17:11:00.796Z"
   },
   {
    "duration": 55881,
    "start_time": "2023-08-19T17:12:07.143Z"
   },
   {
    "duration": 4,
    "start_time": "2023-08-19T17:13:03.027Z"
   },
   {
    "duration": 46463,
    "start_time": "2023-08-19T17:13:03.032Z"
   },
   {
    "duration": 358,
    "start_time": "2023-08-19T17:13:49.497Z"
   },
   {
    "duration": 12,
    "start_time": "2023-08-19T17:13:49.857Z"
   },
   {
    "duration": 42,
    "start_time": "2023-08-19T17:13:49.870Z"
   },
   {
    "duration": 3,
    "start_time": "2023-08-19T17:13:49.914Z"
   },
   {
    "duration": 85470,
    "start_time": "2023-08-19T17:13:49.918Z"
   },
   {
    "duration": 4,
    "start_time": "2023-08-19T17:15:15.390Z"
   },
   {
    "duration": 11008,
    "start_time": "2023-08-19T17:15:15.396Z"
   },
   {
    "duration": 601,
    "start_time": "2023-08-19T17:15:26.406Z"
   },
   {
    "duration": 12,
    "start_time": "2023-08-19T17:15:27.009Z"
   },
   {
    "duration": 4,
    "start_time": "2023-08-19T17:15:27.023Z"
   },
   {
    "duration": 6,
    "start_time": "2023-08-19T17:15:27.028Z"
   },
   {
    "duration": 4877,
    "start_time": "2023-08-19T17:15:27.036Z"
   },
   {
    "duration": 10606,
    "start_time": "2023-08-19T17:15:31.915Z"
   },
   {
    "duration": 2166,
    "start_time": "2023-08-19T17:15:42.522Z"
   },
   {
    "duration": 7,
    "start_time": "2023-08-19T17:15:44.690Z"
   },
   {
    "duration": 11,
    "start_time": "2023-08-19T17:15:44.698Z"
   },
   {
    "duration": 10949,
    "start_time": "2023-08-19T17:15:44.710Z"
   },
   {
    "duration": 14,
    "start_time": "2023-08-19T17:15:55.661Z"
   },
   {
    "duration": 15,
    "start_time": "2023-08-19T17:15:55.677Z"
   },
   {
    "duration": 15362,
    "start_time": "2023-08-19T17:15:55.693Z"
   },
   {
    "duration": 9,
    "start_time": "2023-08-19T17:16:11.057Z"
   },
   {
    "duration": 3,
    "start_time": "2023-08-19T17:16:11.080Z"
   },
   {
    "duration": 385,
    "start_time": "2023-08-19T17:16:11.084Z"
   },
   {
    "duration": 1779,
    "start_time": "2023-08-19T18:05:29.362Z"
   },
   {
    "duration": 3,
    "start_time": "2023-08-19T18:05:40.564Z"
   },
   {
    "duration": 20,
    "start_time": "2023-08-19T18:06:37.881Z"
   },
   {
    "duration": 42,
    "start_time": "2023-08-19T18:06:41.785Z"
   },
   {
    "duration": 148,
    "start_time": "2023-08-19T18:09:18.431Z"
   },
   {
    "duration": 21,
    "start_time": "2023-08-19T18:09:27.728Z"
   },
   {
    "duration": 82859,
    "start_time": "2023-08-19T18:09:34.668Z"
   },
   {
    "duration": 189,
    "start_time": "2023-08-19T18:10:57.529Z"
   },
   {
    "duration": 171,
    "start_time": "2023-08-19T18:10:57.720Z"
   },
   {
    "duration": 415,
    "start_time": "2023-08-19T18:10:57.894Z"
   },
   {
    "duration": 242,
    "start_time": "2023-08-19T18:11:32.223Z"
   },
   {
    "duration": 34,
    "start_time": "2023-08-19T18:11:42.082Z"
   },
   {
    "duration": 4,
    "start_time": "2023-08-19T18:12:05.089Z"
   },
   {
    "duration": 5,
    "start_time": "2023-08-19T18:12:14.449Z"
   },
   {
    "duration": 20,
    "start_time": "2023-08-19T18:13:06.412Z"
   },
   {
    "duration": 15,
    "start_time": "2023-08-19T18:13:27.411Z"
   },
   {
    "duration": 87,
    "start_time": "2023-08-19T18:16:20.584Z"
   },
   {
    "duration": 96,
    "start_time": "2023-08-19T18:16:25.448Z"
   },
   {
    "duration": 4,
    "start_time": "2023-08-19T18:16:27.731Z"
   },
   {
    "duration": 4,
    "start_time": "2023-08-19T18:16:32.538Z"
   },
   {
    "duration": 206,
    "start_time": "2023-08-19T18:16:39.304Z"
   },
   {
    "duration": 14,
    "start_time": "2023-08-19T18:17:15.614Z"
   },
   {
    "duration": 16,
    "start_time": "2023-08-19T18:18:50.576Z"
   },
   {
    "duration": 14300,
    "start_time": "2023-08-19T18:19:00.186Z"
   },
   {
    "duration": 14236,
    "start_time": "2023-08-19T18:19:22.836Z"
   },
   {
    "duration": 10,
    "start_time": "2023-08-19T18:19:39.943Z"
   },
   {
    "duration": 4,
    "start_time": "2023-08-19T18:19:58.924Z"
   },
   {
    "duration": 5,
    "start_time": "2023-08-19T18:20:02.175Z"
   },
   {
    "duration": 107,
    "start_time": "2023-08-19T18:20:03.119Z"
   },
   {
    "duration": 11,
    "start_time": "2023-08-19T18:20:07.011Z"
   },
   {
    "duration": 12,
    "start_time": "2023-08-19T18:20:08.056Z"
   },
   {
    "duration": 15,
    "start_time": "2023-08-19T18:24:48.416Z"
   },
   {
    "duration": 3,
    "start_time": "2023-08-19T18:24:52.364Z"
   },
   {
    "duration": 10857,
    "start_time": "2023-08-19T18:24:53.191Z"
   },
   {
    "duration": 15426,
    "start_time": "2023-08-19T18:25:04.050Z"
   },
   {
    "duration": 10,
    "start_time": "2023-08-19T18:25:19.481Z"
   },
   {
    "duration": 17,
    "start_time": "2023-08-19T18:25:19.493Z"
   },
   {
    "duration": 3,
    "start_time": "2023-08-19T18:25:23.325Z"
   },
   {
    "duration": 385,
    "start_time": "2023-08-19T18:25:24.015Z"
   },
   {
    "duration": 8995,
    "start_time": "2023-08-19T18:27:23.339Z"
   },
   {
    "duration": 0,
    "start_time": "2023-08-19T18:27:32.339Z"
   },
   {
    "duration": 0,
    "start_time": "2023-08-19T18:27:32.341Z"
   },
   {
    "duration": 0,
    "start_time": "2023-08-19T18:27:32.342Z"
   },
   {
    "duration": 0,
    "start_time": "2023-08-19T18:27:32.343Z"
   },
   {
    "duration": 0,
    "start_time": "2023-08-19T18:27:32.344Z"
   },
   {
    "duration": 0,
    "start_time": "2023-08-19T18:27:32.346Z"
   },
   {
    "duration": 0,
    "start_time": "2023-08-19T18:27:32.347Z"
   },
   {
    "duration": 0,
    "start_time": "2023-08-19T18:27:32.348Z"
   },
   {
    "duration": 0,
    "start_time": "2023-08-19T18:27:32.349Z"
   },
   {
    "duration": 0,
    "start_time": "2023-08-19T18:27:32.350Z"
   },
   {
    "duration": 0,
    "start_time": "2023-08-19T18:27:32.353Z"
   },
   {
    "duration": 0,
    "start_time": "2023-08-19T18:27:32.356Z"
   },
   {
    "duration": 0,
    "start_time": "2023-08-19T18:27:32.381Z"
   },
   {
    "duration": 0,
    "start_time": "2023-08-19T18:27:32.382Z"
   },
   {
    "duration": 0,
    "start_time": "2023-08-19T18:27:32.384Z"
   },
   {
    "duration": 0,
    "start_time": "2023-08-19T18:27:32.386Z"
   },
   {
    "duration": 0,
    "start_time": "2023-08-19T18:27:32.387Z"
   },
   {
    "duration": 0,
    "start_time": "2023-08-19T18:27:32.389Z"
   },
   {
    "duration": 0,
    "start_time": "2023-08-19T18:27:32.391Z"
   },
   {
    "duration": 0,
    "start_time": "2023-08-19T18:27:32.392Z"
   },
   {
    "duration": 0,
    "start_time": "2023-08-19T18:27:32.393Z"
   },
   {
    "duration": 0,
    "start_time": "2023-08-19T18:27:32.395Z"
   },
   {
    "duration": 0,
    "start_time": "2023-08-19T18:27:32.396Z"
   },
   {
    "duration": 0,
    "start_time": "2023-08-19T18:27:32.398Z"
   },
   {
    "duration": 0,
    "start_time": "2023-08-19T18:27:32.400Z"
   },
   {
    "duration": 0,
    "start_time": "2023-08-19T18:27:32.401Z"
   },
   {
    "duration": 0,
    "start_time": "2023-08-19T18:27:32.402Z"
   },
   {
    "duration": 0,
    "start_time": "2023-08-19T18:27:32.403Z"
   },
   {
    "duration": 0,
    "start_time": "2023-08-19T18:27:32.403Z"
   },
   {
    "duration": 0,
    "start_time": "2023-08-19T18:27:32.405Z"
   },
   {
    "duration": 0,
    "start_time": "2023-08-19T18:27:32.406Z"
   },
   {
    "duration": 0,
    "start_time": "2023-08-19T18:27:32.407Z"
   },
   {
    "duration": 0,
    "start_time": "2023-08-19T18:27:32.408Z"
   },
   {
    "duration": 0,
    "start_time": "2023-08-19T18:27:32.409Z"
   },
   {
    "duration": 0,
    "start_time": "2023-08-19T18:27:32.411Z"
   },
   {
    "duration": 0,
    "start_time": "2023-08-19T18:27:32.412Z"
   },
   {
    "duration": 0,
    "start_time": "2023-08-19T18:27:32.413Z"
   },
   {
    "duration": 0,
    "start_time": "2023-08-19T18:27:32.415Z"
   },
   {
    "duration": 0,
    "start_time": "2023-08-19T18:27:32.416Z"
   },
   {
    "duration": 0,
    "start_time": "2023-08-19T18:27:32.417Z"
   },
   {
    "duration": 0,
    "start_time": "2023-08-19T18:27:32.418Z"
   },
   {
    "duration": 1,
    "start_time": "2023-08-19T18:27:32.481Z"
   },
   {
    "duration": 0,
    "start_time": "2023-08-19T18:27:32.483Z"
   },
   {
    "duration": 0,
    "start_time": "2023-08-19T18:27:32.484Z"
   },
   {
    "duration": 0,
    "start_time": "2023-08-19T18:27:32.485Z"
   },
   {
    "duration": 0,
    "start_time": "2023-08-19T18:27:32.486Z"
   },
   {
    "duration": 0,
    "start_time": "2023-08-19T18:27:32.487Z"
   },
   {
    "duration": 0,
    "start_time": "2023-08-19T18:27:32.488Z"
   },
   {
    "duration": 0,
    "start_time": "2023-08-19T18:27:32.490Z"
   },
   {
    "duration": 0,
    "start_time": "2023-08-19T18:27:32.491Z"
   },
   {
    "duration": 0,
    "start_time": "2023-08-19T18:27:32.492Z"
   },
   {
    "duration": 0,
    "start_time": "2023-08-19T18:27:32.493Z"
   },
   {
    "duration": 0,
    "start_time": "2023-08-19T18:27:32.494Z"
   },
   {
    "duration": 0,
    "start_time": "2023-08-19T18:27:32.496Z"
   },
   {
    "duration": 0,
    "start_time": "2023-08-19T18:27:32.497Z"
   },
   {
    "duration": 0,
    "start_time": "2023-08-19T18:27:32.498Z"
   },
   {
    "duration": 0,
    "start_time": "2023-08-19T18:27:32.500Z"
   },
   {
    "duration": 1,
    "start_time": "2023-08-19T18:27:32.500Z"
   },
   {
    "duration": 0,
    "start_time": "2023-08-19T18:27:32.502Z"
   },
   {
    "duration": 0,
    "start_time": "2023-08-19T18:27:32.503Z"
   },
   {
    "duration": 0,
    "start_time": "2023-08-19T18:27:32.504Z"
   },
   {
    "duration": 0,
    "start_time": "2023-08-19T18:27:32.505Z"
   },
   {
    "duration": 0,
    "start_time": "2023-08-19T18:27:32.507Z"
   },
   {
    "duration": 0,
    "start_time": "2023-08-19T18:27:32.508Z"
   },
   {
    "duration": 0,
    "start_time": "2023-08-19T18:27:32.510Z"
   },
   {
    "duration": 0,
    "start_time": "2023-08-19T18:27:32.512Z"
   },
   {
    "duration": 0,
    "start_time": "2023-08-19T18:27:32.513Z"
   },
   {
    "duration": 0,
    "start_time": "2023-08-19T18:27:32.514Z"
   },
   {
    "duration": 0,
    "start_time": "2023-08-19T18:27:32.516Z"
   },
   {
    "duration": 0,
    "start_time": "2023-08-19T18:27:32.517Z"
   },
   {
    "duration": 0,
    "start_time": "2023-08-19T18:27:32.518Z"
   },
   {
    "duration": 0,
    "start_time": "2023-08-19T18:27:32.580Z"
   },
   {
    "duration": 0,
    "start_time": "2023-08-19T18:27:32.582Z"
   },
   {
    "duration": 0,
    "start_time": "2023-08-19T18:27:32.584Z"
   },
   {
    "duration": 0,
    "start_time": "2023-08-19T18:27:32.585Z"
   },
   {
    "duration": 0,
    "start_time": "2023-08-19T18:27:32.586Z"
   },
   {
    "duration": 0,
    "start_time": "2023-08-19T18:27:32.588Z"
   },
   {
    "duration": 0,
    "start_time": "2023-08-19T18:27:32.589Z"
   },
   {
    "duration": 0,
    "start_time": "2023-08-19T18:27:32.591Z"
   },
   {
    "duration": 0,
    "start_time": "2023-08-19T18:27:32.592Z"
   },
   {
    "duration": 0,
    "start_time": "2023-08-19T18:27:32.593Z"
   },
   {
    "duration": 0,
    "start_time": "2023-08-19T18:27:32.595Z"
   },
   {
    "duration": 0,
    "start_time": "2023-08-19T18:27:32.596Z"
   },
   {
    "duration": 0,
    "start_time": "2023-08-19T18:27:32.597Z"
   },
   {
    "duration": 0,
    "start_time": "2023-08-19T18:27:32.598Z"
   },
   {
    "duration": 0,
    "start_time": "2023-08-19T18:27:32.600Z"
   },
   {
    "duration": 8696,
    "start_time": "2023-08-19T18:27:46.726Z"
   },
   {
    "duration": 1327,
    "start_time": "2023-08-19T18:27:55.425Z"
   },
   {
    "duration": 4,
    "start_time": "2023-08-19T18:27:56.754Z"
   },
   {
    "duration": 121,
    "start_time": "2023-08-19T18:27:56.760Z"
   },
   {
    "duration": 167,
    "start_time": "2023-08-19T18:27:56.883Z"
   },
   {
    "duration": 12,
    "start_time": "2023-08-19T18:27:57.080Z"
   },
   {
    "duration": 15,
    "start_time": "2023-08-19T18:27:57.094Z"
   },
   {
    "duration": 32,
    "start_time": "2023-08-19T18:27:57.111Z"
   },
   {
    "duration": 32,
    "start_time": "2023-08-19T18:27:57.145Z"
   },
   {
    "duration": 15,
    "start_time": "2023-08-19T18:27:57.179Z"
   },
   {
    "duration": 71,
    "start_time": "2023-08-19T18:27:57.196Z"
   },
   {
    "duration": 23,
    "start_time": "2023-08-19T18:27:57.269Z"
   },
   {
    "duration": 58,
    "start_time": "2023-08-19T18:27:57.295Z"
   },
   {
    "duration": 30,
    "start_time": "2023-08-19T18:27:57.357Z"
   },
   {
    "duration": 32,
    "start_time": "2023-08-19T18:27:57.389Z"
   },
   {
    "duration": 16,
    "start_time": "2023-08-19T18:27:57.423Z"
   },
   {
    "duration": 29,
    "start_time": "2023-08-19T18:27:57.441Z"
   },
   {
    "duration": 10,
    "start_time": "2023-08-19T18:27:57.471Z"
   },
   {
    "duration": 47,
    "start_time": "2023-08-19T18:27:57.482Z"
   },
   {
    "duration": 27,
    "start_time": "2023-08-19T18:27:57.531Z"
   },
   {
    "duration": 17,
    "start_time": "2023-08-19T18:27:57.560Z"
   },
   {
    "duration": 37,
    "start_time": "2023-08-19T18:27:57.579Z"
   },
   {
    "duration": 22,
    "start_time": "2023-08-19T18:27:57.618Z"
   },
   {
    "duration": 35,
    "start_time": "2023-08-19T18:27:57.642Z"
   },
   {
    "duration": 25,
    "start_time": "2023-08-19T18:27:57.678Z"
   },
   {
    "duration": 16,
    "start_time": "2023-08-19T18:27:57.705Z"
   },
   {
    "duration": 23,
    "start_time": "2023-08-19T18:27:57.723Z"
   },
   {
    "duration": 23,
    "start_time": "2023-08-19T18:27:57.748Z"
   },
   {
    "duration": 35,
    "start_time": "2023-08-19T18:27:57.773Z"
   },
   {
    "duration": 20,
    "start_time": "2023-08-19T18:27:57.810Z"
   },
   {
    "duration": 36,
    "start_time": "2023-08-19T18:27:57.831Z"
   },
   {
    "duration": 32,
    "start_time": "2023-08-19T18:27:57.869Z"
   },
   {
    "duration": 85,
    "start_time": "2023-08-19T18:27:57.902Z"
   },
   {
    "duration": 999,
    "start_time": "2023-08-19T18:27:57.989Z"
   },
   {
    "duration": 381,
    "start_time": "2023-08-19T18:27:58.990Z"
   },
   {
    "duration": 662,
    "start_time": "2023-08-19T18:27:59.374Z"
   },
   {
    "duration": 11,
    "start_time": "2023-08-19T18:28:00.038Z"
   },
   {
    "duration": 373,
    "start_time": "2023-08-19T18:28:00.050Z"
   },
   {
    "duration": 4928,
    "start_time": "2023-08-19T18:28:00.424Z"
   },
   {
    "duration": 365,
    "start_time": "2023-08-19T18:28:05.354Z"
   },
   {
    "duration": 3111,
    "start_time": "2023-08-19T18:28:05.726Z"
   },
   {
    "duration": 4,
    "start_time": "2023-08-19T18:28:08.839Z"
   },
   {
    "duration": 9,
    "start_time": "2023-08-19T18:28:08.845Z"
   },
   {
    "duration": 52,
    "start_time": "2023-08-19T18:28:08.856Z"
   },
   {
    "duration": 13,
    "start_time": "2023-08-19T18:28:08.910Z"
   },
   {
    "duration": 7,
    "start_time": "2023-08-19T18:28:08.925Z"
   },
   {
    "duration": 20,
    "start_time": "2023-08-19T18:28:08.934Z"
   },
   {
    "duration": 40,
    "start_time": "2023-08-19T18:28:08.956Z"
   },
   {
    "duration": 32,
    "start_time": "2023-08-19T18:28:08.998Z"
   },
   {
    "duration": 23,
    "start_time": "2023-08-19T18:28:09.032Z"
   },
   {
    "duration": 21,
    "start_time": "2023-08-19T18:28:09.058Z"
   },
   {
    "duration": 9,
    "start_time": "2023-08-19T18:28:09.081Z"
   },
   {
    "duration": 71,
    "start_time": "2023-08-19T18:28:09.092Z"
   },
   {
    "duration": 3,
    "start_time": "2023-08-19T18:28:09.165Z"
   },
   {
    "duration": 23939,
    "start_time": "2023-08-19T18:28:09.171Z"
   },
   {
    "duration": 4,
    "start_time": "2023-08-19T18:28:33.112Z"
   },
   {
    "duration": 19636,
    "start_time": "2023-08-19T18:28:33.117Z"
   },
   {
    "duration": 376,
    "start_time": "2023-08-19T18:28:52.756Z"
   },
   {
    "duration": 13,
    "start_time": "2023-08-19T18:28:53.133Z"
   },
   {
    "duration": 3,
    "start_time": "2023-08-19T18:28:53.148Z"
   },
   {
    "duration": 56577,
    "start_time": "2023-08-19T18:28:53.152Z"
   },
   {
    "duration": 5,
    "start_time": "2023-08-19T18:29:49.731Z"
   },
   {
    "duration": 46492,
    "start_time": "2023-08-19T18:29:49.737Z"
   },
   {
    "duration": 546,
    "start_time": "2023-08-19T18:30:36.231Z"
   },
   {
    "duration": 16,
    "start_time": "2023-08-19T18:30:36.782Z"
   },
   {
    "duration": 48,
    "start_time": "2023-08-19T18:30:36.801Z"
   },
   {
    "duration": 4,
    "start_time": "2023-08-19T18:30:36.851Z"
   },
   {
    "duration": 138928,
    "start_time": "2023-08-19T18:30:36.858Z"
   },
   {
    "duration": 4,
    "start_time": "2023-08-19T18:32:55.788Z"
   },
   {
    "duration": 7708,
    "start_time": "2023-08-19T18:32:55.794Z"
   },
   {
    "duration": 431,
    "start_time": "2023-08-19T18:33:03.504Z"
   },
   {
    "duration": 13,
    "start_time": "2023-08-19T18:33:03.937Z"
   },
   {
    "duration": 4,
    "start_time": "2023-08-19T18:33:03.952Z"
   },
   {
    "duration": 23,
    "start_time": "2023-08-19T18:33:03.958Z"
   },
   {
    "duration": 4945,
    "start_time": "2023-08-19T18:33:03.983Z"
   },
   {
    "duration": 10558,
    "start_time": "2023-08-19T18:33:08.930Z"
   },
   {
    "duration": 1397,
    "start_time": "2023-08-19T18:33:19.490Z"
   },
   {
    "duration": 7,
    "start_time": "2023-08-19T18:33:20.888Z"
   },
   {
    "duration": 17,
    "start_time": "2023-08-19T18:33:20.897Z"
   },
   {
    "duration": 10279,
    "start_time": "2023-08-19T18:33:20.916Z"
   },
   {
    "duration": 14622,
    "start_time": "2023-08-19T18:33:31.197Z"
   },
   {
    "duration": 8,
    "start_time": "2023-08-19T18:33:45.821Z"
   },
   {
    "duration": 17,
    "start_time": "2023-08-19T18:33:45.830Z"
   },
   {
    "duration": 2,
    "start_time": "2023-08-19T18:33:45.849Z"
   },
   {
    "duration": 376,
    "start_time": "2023-08-19T18:33:45.853Z"
   },
   {
    "duration": 2,
    "start_time": "2023-08-19T18:33:46.231Z"
   },
   {
    "duration": 6,
    "start_time": "2023-08-19T18:33:46.235Z"
   },
   {
    "duration": 4,
    "start_time": "2023-08-19T19:37:05.953Z"
   },
   {
    "duration": 2,
    "start_time": "2023-08-19T19:37:14.656Z"
   },
   {
    "duration": 4,
    "start_time": "2023-08-19T19:37:16.224Z"
   },
   {
    "duration": 80,
    "start_time": "2023-08-19T19:37:22.199Z"
   },
   {
    "duration": 9,
    "start_time": "2023-08-19T19:37:25.158Z"
   },
   {
    "duration": 183,
    "start_time": "2023-08-19T19:39:02.990Z"
   },
   {
    "duration": 240,
    "start_time": "2023-08-19T19:39:18.754Z"
   },
   {
    "duration": 298,
    "start_time": "2023-08-19T19:40:24.814Z"
   },
   {
    "duration": 209,
    "start_time": "2023-08-19T19:40:39.585Z"
   },
   {
    "duration": 383,
    "start_time": "2023-08-19T19:40:46.952Z"
   },
   {
    "duration": 336,
    "start_time": "2023-08-19T19:44:02.224Z"
   },
   {
    "duration": 338,
    "start_time": "2023-08-19T19:44:59.421Z"
   },
   {
    "duration": 370,
    "start_time": "2023-08-19T19:45:11.149Z"
   },
   {
    "duration": 455,
    "start_time": "2023-08-19T19:45:33.900Z"
   },
   {
    "duration": 4,
    "start_time": "2023-08-19T19:46:29.097Z"
   },
   {
    "duration": 4,
    "start_time": "2023-08-19T19:46:58.131Z"
   },
   {
    "duration": 2,
    "start_time": "2023-08-19T19:47:49.809Z"
   },
   {
    "duration": 3,
    "start_time": "2023-08-19T19:47:51.020Z"
   },
   {
    "duration": 2,
    "start_time": "2023-08-19T19:48:02.534Z"
   },
   {
    "duration": 14,
    "start_time": "2023-08-19T19:48:02.938Z"
   },
   {
    "duration": 3,
    "start_time": "2023-08-19T19:48:14.654Z"
   },
   {
    "duration": 3,
    "start_time": "2023-08-19T19:48:15.116Z"
   },
   {
    "duration": 22,
    "start_time": "2023-08-19T19:48:15.842Z"
   },
   {
    "duration": 3,
    "start_time": "2023-08-19T19:49:00.545Z"
   },
   {
    "duration": 20,
    "start_time": "2023-08-19T19:49:01.757Z"
   },
   {
    "duration": 3,
    "start_time": "2023-08-19T19:49:22.590Z"
   },
   {
    "duration": 3,
    "start_time": "2023-08-19T19:49:27.209Z"
   },
   {
    "duration": 18,
    "start_time": "2023-08-19T19:49:27.759Z"
   },
   {
    "duration": 3,
    "start_time": "2023-08-19T19:50:03.939Z"
   },
   {
    "duration": 4,
    "start_time": "2023-08-19T19:50:09.450Z"
   },
   {
    "duration": 2,
    "start_time": "2023-08-19T19:51:52.809Z"
   },
   {
    "duration": 3,
    "start_time": "2023-08-19T19:51:54.453Z"
   },
   {
    "duration": 3,
    "start_time": "2023-08-19T19:51:55.592Z"
   },
   {
    "duration": 27,
    "start_time": "2023-08-19T19:51:56.654Z"
   },
   {
    "duration": 9,
    "start_time": "2023-08-19T19:52:38.722Z"
   },
   {
    "duration": 20,
    "start_time": "2023-08-19T19:52:39.396Z"
   },
   {
    "duration": 9,
    "start_time": "2023-08-19T19:52:52.242Z"
   },
   {
    "duration": 9,
    "start_time": "2023-08-19T19:53:00.505Z"
   },
   {
    "duration": 9,
    "start_time": "2023-08-19T19:53:05.283Z"
   },
   {
    "duration": 4,
    "start_time": "2023-08-19T19:53:11.058Z"
   },
   {
    "duration": 3,
    "start_time": "2023-08-19T19:53:28.200Z"
   },
   {
    "duration": 3,
    "start_time": "2023-08-19T19:53:31.816Z"
   },
   {
    "duration": 3,
    "start_time": "2023-08-19T19:53:39.051Z"
   },
   {
    "duration": 9114,
    "start_time": "2023-08-19T19:53:40.535Z"
   },
   {
    "duration": 13,
    "start_time": "2023-08-19T19:53:49.651Z"
   },
   {
    "duration": 2,
    "start_time": "2023-08-19T19:53:49.666Z"
   },
   {
    "duration": 373,
    "start_time": "2023-08-19T19:53:49.670Z"
   },
   {
    "duration": 2,
    "start_time": "2023-08-19T19:54:47.807Z"
   },
   {
    "duration": 2,
    "start_time": "2023-08-19T19:54:47.885Z"
   },
   {
    "duration": 3,
    "start_time": "2023-08-19T19:54:48.156Z"
   },
   {
    "duration": 5,
    "start_time": "2023-08-19T19:54:48.518Z"
   },
   {
    "duration": 7820,
    "start_time": "2023-08-19T19:54:48.787Z"
   },
   {
    "duration": 13,
    "start_time": "2023-08-19T19:54:56.609Z"
   },
   {
    "duration": 3,
    "start_time": "2023-08-19T19:54:56.624Z"
   },
   {
    "duration": 420,
    "start_time": "2023-08-19T19:54:56.629Z"
   },
   {
    "duration": 2,
    "start_time": "2023-08-19T19:55:25.502Z"
   },
   {
    "duration": 3,
    "start_time": "2023-08-19T19:55:25.845Z"
   },
   {
    "duration": 3,
    "start_time": "2023-08-19T19:55:26.138Z"
   },
   {
    "duration": 4,
    "start_time": "2023-08-19T19:55:26.401Z"
   },
   {
    "duration": 6879,
    "start_time": "2023-08-19T19:55:26.601Z"
   },
   {
    "duration": 14,
    "start_time": "2023-08-19T19:55:33.482Z"
   },
   {
    "duration": 4,
    "start_time": "2023-08-19T19:55:33.498Z"
   },
   {
    "duration": 371,
    "start_time": "2023-08-19T19:55:34.212Z"
   },
   {
    "duration": 2,
    "start_time": "2023-08-19T19:56:43.748Z"
   },
   {
    "duration": 3,
    "start_time": "2023-08-19T19:56:44.003Z"
   },
   {
    "duration": 2,
    "start_time": "2023-08-19T19:56:44.283Z"
   },
   {
    "duration": 3,
    "start_time": "2023-08-19T19:56:44.700Z"
   },
   {
    "duration": 6787,
    "start_time": "2023-08-19T19:56:45.569Z"
   },
   {
    "duration": 11,
    "start_time": "2023-08-19T19:56:52.358Z"
   },
   {
    "duration": 18,
    "start_time": "2023-08-19T19:56:52.371Z"
   },
   {
    "duration": 368,
    "start_time": "2023-08-19T19:56:57.447Z"
   },
   {
    "duration": 2,
    "start_time": "2023-08-19T19:57:09.824Z"
   },
   {
    "duration": 3,
    "start_time": "2023-08-19T19:57:09.997Z"
   },
   {
    "duration": 2,
    "start_time": "2023-08-19T19:57:10.204Z"
   },
   {
    "duration": 4,
    "start_time": "2023-08-19T19:57:10.419Z"
   },
   {
    "duration": 6573,
    "start_time": "2023-08-19T19:57:10.655Z"
   },
   {
    "duration": 16,
    "start_time": "2023-08-19T19:57:17.230Z"
   },
   {
    "duration": 3,
    "start_time": "2023-08-19T19:57:17.248Z"
   },
   {
    "duration": 361,
    "start_time": "2023-08-19T19:57:17.254Z"
   },
   {
    "duration": 272,
    "start_time": "2023-08-19T19:58:06.126Z"
   },
   {
    "duration": 254,
    "start_time": "2023-08-19T19:59:57.916Z"
   },
   {
    "duration": 3,
    "start_time": "2023-08-19T19:59:59.714Z"
   },
   {
    "duration": 4,
    "start_time": "2023-08-19T20:01:27.201Z"
   },
   {
    "duration": 4,
    "start_time": "2023-08-19T20:01:37.032Z"
   },
   {
    "duration": 3,
    "start_time": "2023-08-19T20:01:49.386Z"
   },
   {
    "duration": 44,
    "start_time": "2023-08-19T20:03:51.623Z"
   },
   {
    "duration": 4,
    "start_time": "2023-08-19T20:05:16.338Z"
   },
   {
    "duration": 17,
    "start_time": "2023-08-19T20:06:38.892Z"
   },
   {
    "duration": 34,
    "start_time": "2023-08-19T20:06:43.341Z"
   },
   {
    "duration": 12,
    "start_time": "2023-08-19T20:07:19.597Z"
   },
   {
    "duration": 308,
    "start_time": "2023-08-19T20:07:26.396Z"
   },
   {
    "duration": 72,
    "start_time": "2023-08-19T20:07:39.630Z"
   },
   {
    "duration": 4,
    "start_time": "2023-08-19T20:07:45.554Z"
   },
   {
    "duration": 5,
    "start_time": "2023-08-19T20:07:50.351Z"
   },
   {
    "duration": 4,
    "start_time": "2023-08-19T20:07:54.095Z"
   },
   {
    "duration": 4,
    "start_time": "2023-08-19T20:07:58.006Z"
   },
   {
    "duration": 28,
    "start_time": "2023-08-19T20:08:48.281Z"
   },
   {
    "duration": 5,
    "start_time": "2023-08-19T20:08:50.464Z"
   },
   {
    "duration": 20,
    "start_time": "2023-08-19T20:09:01.881Z"
   },
   {
    "duration": 4,
    "start_time": "2023-08-19T20:09:05.141Z"
   },
   {
    "duration": 22,
    "start_time": "2023-08-19T20:09:07.299Z"
   },
   {
    "duration": 10,
    "start_time": "2023-08-19T20:09:22.994Z"
   },
   {
    "duration": 63,
    "start_time": "2023-08-19T20:09:38.736Z"
   },
   {
    "duration": 11,
    "start_time": "2023-08-19T20:09:46.745Z"
   },
   {
    "duration": 5,
    "start_time": "2023-08-19T20:09:49.232Z"
   },
   {
    "duration": 5,
    "start_time": "2023-08-19T20:09:49.705Z"
   },
   {
    "duration": 5,
    "start_time": "2023-08-19T20:09:50.293Z"
   },
   {
    "duration": 75,
    "start_time": "2023-08-19T20:10:04.240Z"
   },
   {
    "duration": 12,
    "start_time": "2023-08-19T20:10:05.500Z"
   },
   {
    "duration": 3,
    "start_time": "2023-08-19T20:10:08.358Z"
   },
   {
    "duration": 4,
    "start_time": "2023-08-19T20:10:08.782Z"
   },
   {
    "duration": 5,
    "start_time": "2023-08-19T20:10:09.257Z"
   },
   {
    "duration": 8,
    "start_time": "2023-08-19T20:10:27.882Z"
   },
   {
    "duration": 9,
    "start_time": "2023-08-19T20:10:30.632Z"
   },
   {
    "duration": 10,
    "start_time": "2023-08-19T20:10:44.809Z"
   },
   {
    "duration": 29,
    "start_time": "2023-08-19T20:10:57.694Z"
   },
   {
    "duration": 9,
    "start_time": "2023-08-19T20:11:02.083Z"
   },
   {
    "duration": 4,
    "start_time": "2023-08-19T20:11:06.122Z"
   },
   {
    "duration": 8,
    "start_time": "2023-08-19T20:11:10.088Z"
   },
   {
    "duration": 9,
    "start_time": "2023-08-19T20:11:12.385Z"
   },
   {
    "duration": 9,
    "start_time": "2023-08-19T20:11:16.016Z"
   },
   {
    "duration": 11,
    "start_time": "2023-08-19T20:11:55.444Z"
   },
   {
    "duration": 28,
    "start_time": "2023-08-19T20:12:03.012Z"
   },
   {
    "duration": 264,
    "start_time": "2023-08-19T20:12:04.050Z"
   },
   {
    "duration": 38,
    "start_time": "2023-08-19T20:12:05.285Z"
   },
   {
    "duration": 3,
    "start_time": "2023-08-19T20:12:32.885Z"
   },
   {
    "duration": 3,
    "start_time": "2023-08-19T20:12:41.005Z"
   },
   {
    "duration": 5,
    "start_time": "2023-08-19T20:12:45.211Z"
   },
   {
    "duration": 8,
    "start_time": "2023-08-19T20:12:52.086Z"
   },
   {
    "duration": 3,
    "start_time": "2023-08-19T20:13:12.193Z"
   },
   {
    "duration": 6,
    "start_time": "2023-08-19T20:13:16.250Z"
   },
   {
    "duration": 4,
    "start_time": "2023-08-19T20:13:18.245Z"
   },
   {
    "duration": 3055,
    "start_time": "2023-08-19T20:13:20.494Z"
   },
   {
    "duration": 0,
    "start_time": "2023-08-19T20:13:23.551Z"
   },
   {
    "duration": 0,
    "start_time": "2023-08-19T20:13:23.552Z"
   },
   {
    "duration": 5582,
    "start_time": "2023-08-19T20:14:06.353Z"
   },
   {
    "duration": 160,
    "start_time": "2023-08-19T20:15:07.981Z"
   },
   {
    "duration": 3,
    "start_time": "2023-08-19T20:15:09.742Z"
   },
   {
    "duration": 389,
    "start_time": "2023-08-19T20:15:10.698Z"
   },
   {
    "duration": 8,
    "start_time": "2023-08-19T20:15:33.593Z"
   },
   {
    "duration": 394,
    "start_time": "2023-08-19T20:15:35.153Z"
   },
   {
    "duration": 8799,
    "start_time": "2023-08-19T20:16:22.055Z"
   },
   {
    "duration": 1433,
    "start_time": "2023-08-19T20:16:30.857Z"
   },
   {
    "duration": 3,
    "start_time": "2023-08-19T20:16:32.291Z"
   },
   {
    "duration": 109,
    "start_time": "2023-08-19T20:16:32.296Z"
   },
   {
    "duration": 194,
    "start_time": "2023-08-19T20:16:32.407Z"
   },
   {
    "duration": 13,
    "start_time": "2023-08-19T20:16:32.602Z"
   },
   {
    "duration": 15,
    "start_time": "2023-08-19T20:16:32.617Z"
   },
   {
    "duration": 21,
    "start_time": "2023-08-19T20:16:32.633Z"
   },
   {
    "duration": 8,
    "start_time": "2023-08-19T20:16:32.682Z"
   },
   {
    "duration": 12,
    "start_time": "2023-08-19T20:16:32.693Z"
   },
   {
    "duration": 34,
    "start_time": "2023-08-19T20:16:32.707Z"
   },
   {
    "duration": 18,
    "start_time": "2023-08-19T20:16:32.743Z"
   },
   {
    "duration": 34,
    "start_time": "2023-08-19T20:16:32.763Z"
   },
   {
    "duration": 5,
    "start_time": "2023-08-19T20:16:32.799Z"
   },
   {
    "duration": 15,
    "start_time": "2023-08-19T20:16:32.806Z"
   },
   {
    "duration": 21,
    "start_time": "2023-08-19T20:16:32.823Z"
   },
   {
    "duration": 17,
    "start_time": "2023-08-19T20:16:32.846Z"
   },
   {
    "duration": 24,
    "start_time": "2023-08-19T20:16:32.864Z"
   },
   {
    "duration": 12,
    "start_time": "2023-08-19T20:16:32.890Z"
   },
   {
    "duration": 10,
    "start_time": "2023-08-19T20:16:32.904Z"
   },
   {
    "duration": 5,
    "start_time": "2023-08-19T20:16:32.916Z"
   },
   {
    "duration": 31,
    "start_time": "2023-08-19T20:16:32.923Z"
   },
   {
    "duration": 41,
    "start_time": "2023-08-19T20:16:32.955Z"
   },
   {
    "duration": 17,
    "start_time": "2023-08-19T20:16:32.997Z"
   },
   {
    "duration": 25,
    "start_time": "2023-08-19T20:16:33.015Z"
   },
   {
    "duration": 13,
    "start_time": "2023-08-19T20:16:33.042Z"
   },
   {
    "duration": 25,
    "start_time": "2023-08-19T20:16:33.057Z"
   },
   {
    "duration": 8,
    "start_time": "2023-08-19T20:16:33.088Z"
   },
   {
    "duration": 9,
    "start_time": "2023-08-19T20:16:33.097Z"
   },
   {
    "duration": 9,
    "start_time": "2023-08-19T20:16:33.108Z"
   },
   {
    "duration": 8,
    "start_time": "2023-08-19T20:16:33.118Z"
   },
   {
    "duration": 5,
    "start_time": "2023-08-19T20:16:33.127Z"
   },
   {
    "duration": 99,
    "start_time": "2023-08-19T20:16:33.133Z"
   },
   {
    "duration": 1000,
    "start_time": "2023-08-19T20:16:33.233Z"
   },
   {
    "duration": 374,
    "start_time": "2023-08-19T20:16:34.234Z"
   },
   {
    "duration": 671,
    "start_time": "2023-08-19T20:16:34.610Z"
   },
   {
    "duration": 11,
    "start_time": "2023-08-19T20:16:35.282Z"
   },
   {
    "duration": 327,
    "start_time": "2023-08-19T20:16:35.295Z"
   },
   {
    "duration": 4936,
    "start_time": "2023-08-19T20:16:35.624Z"
   },
   {
    "duration": 358,
    "start_time": "2023-08-19T20:16:40.562Z"
   },
   {
    "duration": 3105,
    "start_time": "2023-08-19T20:16:40.922Z"
   },
   {
    "duration": 3,
    "start_time": "2023-08-19T20:16:44.029Z"
   },
   {
    "duration": 9,
    "start_time": "2023-08-19T20:16:44.034Z"
   },
   {
    "duration": 73,
    "start_time": "2023-08-19T20:16:44.045Z"
   },
   {
    "duration": 8,
    "start_time": "2023-08-19T20:16:44.120Z"
   },
   {
    "duration": 8,
    "start_time": "2023-08-19T20:16:44.129Z"
   },
   {
    "duration": 5,
    "start_time": "2023-08-19T20:16:44.139Z"
   },
   {
    "duration": 8,
    "start_time": "2023-08-19T20:16:44.146Z"
   },
   {
    "duration": 30,
    "start_time": "2023-08-19T20:16:44.156Z"
   },
   {
    "duration": 10,
    "start_time": "2023-08-19T20:16:44.188Z"
   },
   {
    "duration": 8,
    "start_time": "2023-08-19T20:16:44.200Z"
   },
   {
    "duration": 7,
    "start_time": "2023-08-19T20:16:44.209Z"
   },
   {
    "duration": 67,
    "start_time": "2023-08-19T20:16:44.217Z"
   },
   {
    "duration": 3,
    "start_time": "2023-08-19T20:16:44.286Z"
   },
   {
    "duration": 24307,
    "start_time": "2023-08-19T20:16:44.292Z"
   },
   {
    "duration": 4,
    "start_time": "2023-08-19T20:17:08.600Z"
   },
   {
    "duration": 19526,
    "start_time": "2023-08-19T20:17:08.605Z"
   },
   {
    "duration": 361,
    "start_time": "2023-08-19T20:17:28.133Z"
   },
   {
    "duration": 12,
    "start_time": "2023-08-19T20:17:28.495Z"
   },
   {
    "duration": 7,
    "start_time": "2023-08-19T20:17:28.508Z"
   },
   {
    "duration": 55021,
    "start_time": "2023-08-19T20:17:28.517Z"
   },
   {
    "duration": 4,
    "start_time": "2023-08-19T20:18:23.540Z"
   },
   {
    "duration": 44379,
    "start_time": "2023-08-19T20:18:23.545Z"
   },
   {
    "duration": 487,
    "start_time": "2023-08-19T20:19:07.925Z"
   },
   {
    "duration": 11,
    "start_time": "2023-08-19T20:19:08.414Z"
   },
   {
    "duration": 36,
    "start_time": "2023-08-19T20:19:08.426Z"
   },
   {
    "duration": 17,
    "start_time": "2023-08-19T20:19:08.464Z"
   },
   {
    "duration": 9300,
    "start_time": "2023-08-19T20:19:08.482Z"
   },
   {
    "duration": 4,
    "start_time": "2023-08-19T20:19:17.784Z"
   },
   {
    "duration": 7311,
    "start_time": "2023-08-19T20:19:17.790Z"
   },
   {
    "duration": 419,
    "start_time": "2023-08-19T20:19:25.102Z"
   },
   {
    "duration": 12,
    "start_time": "2023-08-19T20:19:25.523Z"
   },
   {
    "duration": 7,
    "start_time": "2023-08-19T20:19:25.537Z"
   },
   {
    "duration": 7,
    "start_time": "2023-08-19T20:19:25.545Z"
   },
   {
    "duration": 142,
    "start_time": "2023-08-19T20:19:25.553Z"
   },
   {
    "duration": 0,
    "start_time": "2023-08-19T20:19:25.698Z"
   },
   {
    "duration": 0,
    "start_time": "2023-08-19T20:19:25.699Z"
   },
   {
    "duration": 0,
    "start_time": "2023-08-19T20:19:25.700Z"
   },
   {
    "duration": 0,
    "start_time": "2023-08-19T20:19:25.701Z"
   },
   {
    "duration": 0,
    "start_time": "2023-08-19T20:19:25.702Z"
   },
   {
    "duration": 0,
    "start_time": "2023-08-19T20:19:25.703Z"
   },
   {
    "duration": 0,
    "start_time": "2023-08-19T20:19:25.704Z"
   },
   {
    "duration": 1,
    "start_time": "2023-08-19T20:19:25.705Z"
   },
   {
    "duration": 1,
    "start_time": "2023-08-19T20:19:25.706Z"
   },
   {
    "duration": 0,
    "start_time": "2023-08-19T20:19:25.707Z"
   },
   {
    "duration": 0,
    "start_time": "2023-08-19T20:19:25.708Z"
   },
   {
    "duration": 0,
    "start_time": "2023-08-19T20:19:25.709Z"
   },
   {
    "duration": 0,
    "start_time": "2023-08-19T20:19:25.710Z"
   },
   {
    "duration": 0,
    "start_time": "2023-08-19T20:19:25.711Z"
   },
   {
    "duration": 0,
    "start_time": "2023-08-19T20:19:25.712Z"
   },
   {
    "duration": 0,
    "start_time": "2023-08-19T20:19:25.714Z"
   },
   {
    "duration": 0,
    "start_time": "2023-08-19T20:19:25.715Z"
   },
   {
    "duration": 0,
    "start_time": "2023-08-19T20:19:25.716Z"
   },
   {
    "duration": 0,
    "start_time": "2023-08-19T20:19:25.717Z"
   },
   {
    "duration": 0,
    "start_time": "2023-08-19T20:19:25.718Z"
   },
   {
    "duration": 0,
    "start_time": "2023-08-19T20:19:25.719Z"
   },
   {
    "duration": 0,
    "start_time": "2023-08-19T20:19:25.720Z"
   },
   {
    "duration": 0,
    "start_time": "2023-08-19T20:19:25.721Z"
   },
   {
    "duration": 0,
    "start_time": "2023-08-19T20:19:25.722Z"
   },
   {
    "duration": 0,
    "start_time": "2023-08-19T20:19:25.723Z"
   },
   {
    "duration": 7,
    "start_time": "2023-08-19T20:19:45.026Z"
   },
   {
    "duration": 4,
    "start_time": "2023-08-19T20:19:53.394Z"
   },
   {
    "duration": 4969,
    "start_time": "2023-08-19T20:19:53.399Z"
   },
   {
    "duration": 11067,
    "start_time": "2023-08-19T20:19:58.370Z"
   },
   {
    "duration": 21757,
    "start_time": "2023-08-19T20:20:09.439Z"
   },
   {
    "duration": 8,
    "start_time": "2023-08-19T20:20:31.205Z"
   },
   {
    "duration": 25,
    "start_time": "2023-08-19T20:20:31.215Z"
   },
   {
    "duration": 11007,
    "start_time": "2023-08-19T20:20:31.241Z"
   },
   {
    "duration": 15659,
    "start_time": "2023-08-19T20:20:42.249Z"
   },
   {
    "duration": 9,
    "start_time": "2023-08-19T20:20:57.910Z"
   },
   {
    "duration": 16,
    "start_time": "2023-08-19T20:20:57.921Z"
   },
   {
    "duration": 15,
    "start_time": "2023-08-19T20:20:57.938Z"
   },
   {
    "duration": 387,
    "start_time": "2023-08-19T20:20:57.954Z"
   },
   {
    "duration": 334,
    "start_time": "2023-08-19T20:20:58.343Z"
   },
   {
    "duration": 6,
    "start_time": "2023-08-19T20:20:58.681Z"
   },
   {
    "duration": 3,
    "start_time": "2023-08-19T20:20:58.692Z"
   },
   {
    "duration": 5,
    "start_time": "2023-08-19T20:20:58.697Z"
   },
   {
    "duration": 4,
    "start_time": "2023-08-19T20:20:58.704Z"
   },
   {
    "duration": 7061,
    "start_time": "2023-08-19T20:20:58.709Z"
   },
   {
    "duration": 12,
    "start_time": "2023-08-19T20:21:05.772Z"
   },
   {
    "duration": 16,
    "start_time": "2023-08-19T20:21:05.785Z"
   },
   {
    "duration": 418,
    "start_time": "2023-08-19T20:21:05.803Z"
   },
   {
    "duration": 282,
    "start_time": "2023-08-19T20:21:06.223Z"
   },
   {
    "duration": 4,
    "start_time": "2023-08-19T20:22:11.007Z"
   },
   {
    "duration": 256,
    "start_time": "2023-08-19T20:22:33.893Z"
   },
   {
    "duration": 12,
    "start_time": "2023-08-19T20:24:47.998Z"
   },
   {
    "duration": 381,
    "start_time": "2023-08-19T20:24:48.767Z"
   },
   {
    "duration": 2,
    "start_time": "2023-08-19T20:28:36.996Z"
   },
   {
    "duration": 3,
    "start_time": "2023-08-19T20:28:37.254Z"
   },
   {
    "duration": 374,
    "start_time": "2023-08-19T20:28:37.420Z"
   },
   {
    "duration": 4,
    "start_time": "2023-08-19T20:30:32.014Z"
   },
   {
    "duration": 55581,
    "start_time": "2023-08-19T20:30:32.392Z"
   },
   {
    "duration": 4,
    "start_time": "2023-08-19T20:31:27.975Z"
   },
   {
    "duration": 44752,
    "start_time": "2023-08-19T20:31:27.980Z"
   },
   {
    "duration": 494,
    "start_time": "2023-08-19T20:32:12.734Z"
   },
   {
    "duration": 13,
    "start_time": "2023-08-19T20:32:13.230Z"
   },
   {
    "duration": 0,
    "start_time": "2023-08-19T20:32:13.245Z"
   },
   {
    "duration": 0,
    "start_time": "2023-08-19T20:32:13.246Z"
   },
   {
    "duration": 0,
    "start_time": "2023-08-19T20:32:13.247Z"
   },
   {
    "duration": 0,
    "start_time": "2023-08-19T20:32:13.248Z"
   },
   {
    "duration": 0,
    "start_time": "2023-08-19T20:32:13.249Z"
   },
   {
    "duration": 14,
    "start_time": "2023-08-19T20:32:43.193Z"
   },
   {
    "duration": 2,
    "start_time": "2023-08-19T20:33:03.706Z"
   },
   {
    "duration": 4,
    "start_time": "2023-08-19T20:33:09.593Z"
   },
   {
    "duration": 346,
    "start_time": "2023-08-19T20:33:57.997Z"
   },
   {
    "duration": 3,
    "start_time": "2023-08-19T20:34:09.461Z"
   },
   {
    "duration": 2,
    "start_time": "2023-08-19T20:34:11.973Z"
   },
   {
    "duration": 3,
    "start_time": "2023-08-19T20:34:17.802Z"
   },
   {
    "duration": 3,
    "start_time": "2023-08-19T20:34:27.349Z"
   },
   {
    "duration": 6518,
    "start_time": "2023-08-19T20:34:28.248Z"
   },
   {
    "duration": 29,
    "start_time": "2023-08-19T20:35:34.639Z"
   },
   {
    "duration": 2,
    "start_time": "2023-08-19T20:35:58.743Z"
   },
   {
    "duration": 3,
    "start_time": "2023-08-19T20:36:01.257Z"
   },
   {
    "duration": 31,
    "start_time": "2023-08-19T20:36:02.207Z"
   },
   {
    "duration": 29403,
    "start_time": "2023-08-19T20:36:23.203Z"
   },
   {
    "duration": 20,
    "start_time": "2023-08-19T20:37:59.005Z"
   },
   {
    "duration": 353,
    "start_time": "2023-08-19T20:38:36.799Z"
   },
   {
    "duration": 13,
    "start_time": "2023-08-19T20:38:58.599Z"
   },
   {
    "duration": 332,
    "start_time": "2023-08-19T20:40:25.839Z"
   },
   {
    "duration": 6550,
    "start_time": "2023-08-19T20:40:37.103Z"
   },
   {
    "duration": 253,
    "start_time": "2023-08-19T20:40:55.358Z"
   },
   {
    "duration": 10,
    "start_time": "2023-08-19T20:42:29.993Z"
   },
   {
    "duration": 6,
    "start_time": "2023-08-19T20:42:38.603Z"
   },
   {
    "duration": 9,
    "start_time": "2023-08-19T20:42:42.845Z"
   },
   {
    "duration": 3,
    "start_time": "2023-08-19T20:43:55.336Z"
   },
   {
    "duration": 10555,
    "start_time": "2023-08-19T20:44:12.794Z"
   },
   {
    "duration": 248,
    "start_time": "2023-08-19T20:44:23.350Z"
   },
   {
    "duration": 0,
    "start_time": "2023-08-19T20:44:23.600Z"
   },
   {
    "duration": 0,
    "start_time": "2023-08-19T20:44:23.601Z"
   },
   {
    "duration": 0,
    "start_time": "2023-08-19T20:44:23.602Z"
   },
   {
    "duration": 378,
    "start_time": "2023-08-19T20:44:46.507Z"
   },
   {
    "duration": 3,
    "start_time": "2023-08-19T20:44:54.725Z"
   },
   {
    "duration": 4,
    "start_time": "2023-08-19T20:44:55.134Z"
   },
   {
    "duration": 3,
    "start_time": "2023-08-19T20:44:55.818Z"
   },
   {
    "duration": 3,
    "start_time": "2023-08-19T20:44:58.217Z"
   },
   {
    "duration": 6757,
    "start_time": "2023-08-19T20:44:59.607Z"
   },
   {
    "duration": 29031,
    "start_time": "2023-08-19T20:45:06.366Z"
   },
   {
    "duration": 353,
    "start_time": "2023-08-19T20:45:35.398Z"
   },
   {
    "duration": 77,
    "start_time": "2023-08-19T20:46:32.167Z"
   },
   {
    "duration": 345,
    "start_time": "2023-08-19T20:46:57.806Z"
   },
   {
    "duration": 79,
    "start_time": "2023-08-19T20:48:15.025Z"
   },
   {
    "duration": 6609,
    "start_time": "2023-08-19T20:48:52.113Z"
   },
   {
    "duration": 14530,
    "start_time": "2023-08-19T20:49:07.625Z"
   },
   {
    "duration": 8,
    "start_time": "2023-08-19T20:49:22.157Z"
   },
   {
    "duration": 3,
    "start_time": "2023-08-19T20:49:25.293Z"
   },
   {
    "duration": 359,
    "start_time": "2023-08-19T20:49:38.602Z"
   },
   {
    "duration": 388,
    "start_time": "2023-08-19T20:50:40.454Z"
   },
   {
    "duration": 10,
    "start_time": "2023-08-19T20:52:33.952Z"
   },
   {
    "duration": 10,
    "start_time": "2023-08-19T20:52:44.176Z"
   },
   {
    "duration": 14754,
    "start_time": "2023-08-19T21:02:08.808Z"
   },
   {
    "duration": 5,
    "start_time": "2023-08-19T21:07:12.473Z"
   },
   {
    "duration": 8,
    "start_time": "2023-08-19T21:07:17.975Z"
   },
   {
    "duration": 9,
    "start_time": "2023-08-19T21:07:21.570Z"
   },
   {
    "duration": 3,
    "start_time": "2023-08-19T21:08:08.818Z"
   },
   {
    "duration": 3,
    "start_time": "2023-08-19T21:08:09.498Z"
   },
   {
    "duration": 3,
    "start_time": "2023-08-19T21:08:10.716Z"
   },
   {
    "duration": 3,
    "start_time": "2023-08-19T21:08:11.219Z"
   },
   {
    "duration": 5594,
    "start_time": "2023-08-19T21:08:12.140Z"
   },
   {
    "duration": 23486,
    "start_time": "2023-08-19T21:08:17.737Z"
   },
   {
    "duration": 344,
    "start_time": "2023-08-19T21:08:50.552Z"
   },
   {
    "duration": 2,
    "start_time": "2023-08-19T21:09:32.941Z"
   },
   {
    "duration": 5,
    "start_time": "2023-08-19T21:09:32.945Z"
   },
   {
    "duration": 5,
    "start_time": "2023-08-19T21:09:32.952Z"
   },
   {
    "duration": 6,
    "start_time": "2023-08-19T21:09:32.958Z"
   },
   {
    "duration": 6513,
    "start_time": "2023-08-19T21:09:32.966Z"
   },
   {
    "duration": 28941,
    "start_time": "2023-08-19T21:09:39.481Z"
   },
   {
    "duration": 364,
    "start_time": "2023-08-19T21:10:08.424Z"
   },
   {
    "duration": 6815,
    "start_time": "2023-08-19T21:11:21.100Z"
   },
   {
    "duration": 14954,
    "start_time": "2023-08-19T21:11:27.917Z"
   },
   {
    "duration": 10,
    "start_time": "2023-08-19T21:11:42.881Z"
   },
   {
    "duration": 12,
    "start_time": "2023-08-19T21:11:46.519Z"
   },
   {
    "duration": 3,
    "start_time": "2023-08-19T21:11:47.003Z"
   },
   {
    "duration": 396,
    "start_time": "2023-08-19T21:12:04.231Z"
   },
   {
    "duration": 9575,
    "start_time": "2023-08-19T21:12:51.050Z"
   },
   {
    "duration": 1394,
    "start_time": "2023-08-19T21:13:00.628Z"
   },
   {
    "duration": 3,
    "start_time": "2023-08-19T21:13:02.023Z"
   },
   {
    "duration": 193,
    "start_time": "2023-08-19T21:13:02.028Z"
   },
   {
    "duration": 219,
    "start_time": "2023-08-19T21:13:02.223Z"
   },
   {
    "duration": 44,
    "start_time": "2023-08-19T21:13:02.444Z"
   },
   {
    "duration": 14,
    "start_time": "2023-08-19T21:13:02.490Z"
   },
   {
    "duration": 32,
    "start_time": "2023-08-19T21:13:02.506Z"
   },
   {
    "duration": 23,
    "start_time": "2023-08-19T21:13:02.540Z"
   },
   {
    "duration": 11,
    "start_time": "2023-08-19T21:13:02.567Z"
   },
   {
    "duration": 46,
    "start_time": "2023-08-19T21:13:02.580Z"
   },
   {
    "duration": 20,
    "start_time": "2023-08-19T21:13:02.628Z"
   },
   {
    "duration": 30,
    "start_time": "2023-08-19T21:13:02.650Z"
   },
   {
    "duration": 10,
    "start_time": "2023-08-19T21:13:02.687Z"
   },
   {
    "duration": 20,
    "start_time": "2023-08-19T21:13:02.700Z"
   },
   {
    "duration": 48,
    "start_time": "2023-08-19T21:13:02.722Z"
   },
   {
    "duration": 24,
    "start_time": "2023-08-19T21:13:02.772Z"
   },
   {
    "duration": 12,
    "start_time": "2023-08-19T21:13:02.798Z"
   },
   {
    "duration": 17,
    "start_time": "2023-08-19T21:13:02.812Z"
   },
   {
    "duration": 20,
    "start_time": "2023-08-19T21:13:02.831Z"
   },
   {
    "duration": 8,
    "start_time": "2023-08-19T21:13:02.853Z"
   },
   {
    "duration": 27,
    "start_time": "2023-08-19T21:13:02.863Z"
   },
   {
    "duration": 41,
    "start_time": "2023-08-19T21:13:02.892Z"
   },
   {
    "duration": 13,
    "start_time": "2023-08-19T21:13:02.934Z"
   },
   {
    "duration": 20,
    "start_time": "2023-08-19T21:13:02.949Z"
   },
   {
    "duration": 18,
    "start_time": "2023-08-19T21:13:02.970Z"
   },
   {
    "duration": 4,
    "start_time": "2023-08-19T21:13:02.997Z"
   },
   {
    "duration": 29,
    "start_time": "2023-08-19T21:13:03.005Z"
   },
   {
    "duration": 14,
    "start_time": "2023-08-19T21:13:03.036Z"
   },
   {
    "duration": 9,
    "start_time": "2023-08-19T21:13:03.052Z"
   },
   {
    "duration": 7,
    "start_time": "2023-08-19T21:13:03.063Z"
   },
   {
    "duration": 16,
    "start_time": "2023-08-19T21:13:03.072Z"
   },
   {
    "duration": 73,
    "start_time": "2023-08-19T21:13:03.093Z"
   },
   {
    "duration": 1126,
    "start_time": "2023-08-19T21:13:03.168Z"
   },
   {
    "duration": 404,
    "start_time": "2023-08-19T21:13:04.297Z"
   },
   {
    "duration": 700,
    "start_time": "2023-08-19T21:13:04.703Z"
   },
   {
    "duration": 11,
    "start_time": "2023-08-19T21:13:05.405Z"
   },
   {
    "duration": 313,
    "start_time": "2023-08-19T21:13:05.418Z"
   },
   {
    "duration": 5401,
    "start_time": "2023-08-19T21:13:05.733Z"
   },
   {
    "duration": 388,
    "start_time": "2023-08-19T21:13:11.135Z"
   },
   {
    "duration": 3212,
    "start_time": "2023-08-19T21:13:11.526Z"
   },
   {
    "duration": 3,
    "start_time": "2023-08-19T21:13:14.740Z"
   },
   {
    "duration": 32,
    "start_time": "2023-08-19T21:13:14.745Z"
   },
   {
    "duration": 59,
    "start_time": "2023-08-19T21:13:14.779Z"
   },
   {
    "duration": 35,
    "start_time": "2023-08-19T21:13:14.839Z"
   },
   {
    "duration": 21,
    "start_time": "2023-08-19T21:13:14.876Z"
   },
   {
    "duration": 30,
    "start_time": "2023-08-19T21:13:14.898Z"
   },
   {
    "duration": 38,
    "start_time": "2023-08-19T21:13:14.929Z"
   },
   {
    "duration": 56,
    "start_time": "2023-08-19T21:13:14.969Z"
   },
   {
    "duration": 69,
    "start_time": "2023-08-19T21:13:15.027Z"
   },
   {
    "duration": 75,
    "start_time": "2023-08-19T21:13:15.099Z"
   },
   {
    "duration": 39,
    "start_time": "2023-08-19T21:13:15.176Z"
   },
   {
    "duration": 87,
    "start_time": "2023-08-19T21:13:15.220Z"
   },
   {
    "duration": 2,
    "start_time": "2023-08-19T21:13:15.309Z"
   },
   {
    "duration": 25095,
    "start_time": "2023-08-19T21:13:15.313Z"
   },
   {
    "duration": 4,
    "start_time": "2023-08-19T21:13:40.410Z"
   },
   {
    "duration": 20537,
    "start_time": "2023-08-19T21:13:40.416Z"
   },
   {
    "duration": 400,
    "start_time": "2023-08-19T21:14:00.955Z"
   },
   {
    "duration": 37,
    "start_time": "2023-08-19T21:14:01.357Z"
   },
   {
    "duration": 16,
    "start_time": "2023-08-19T21:14:01.396Z"
   },
   {
    "duration": 63565,
    "start_time": "2023-08-19T21:14:01.414Z"
   },
   {
    "duration": 15,
    "start_time": "2023-08-19T21:15:04.980Z"
   },
   {
    "duration": 50256,
    "start_time": "2023-08-19T21:15:04.997Z"
   },
   {
    "duration": 491,
    "start_time": "2023-08-19T21:15:55.255Z"
   },
   {
    "duration": 12,
    "start_time": "2023-08-19T21:15:55.747Z"
   },
   {
    "duration": 57,
    "start_time": "2023-08-19T21:15:55.761Z"
   },
   {
    "duration": 3,
    "start_time": "2023-08-19T21:15:55.820Z"
   },
   {
    "duration": 708281,
    "start_time": "2023-08-19T21:15:55.824Z"
   },
   {
    "duration": 80,
    "start_time": "2023-08-19T21:27:44.107Z"
   },
   {
    "duration": 93603,
    "start_time": "2023-08-19T21:27:44.189Z"
   },
   {
    "duration": 636,
    "start_time": "2023-08-19T21:29:17.794Z"
   },
   {
    "duration": 12,
    "start_time": "2023-08-19T21:29:18.432Z"
   },
   {
    "duration": 4,
    "start_time": "2023-08-19T21:29:18.446Z"
   },
   {
    "duration": 29,
    "start_time": "2023-08-19T21:29:18.452Z"
   },
   {
    "duration": 5010,
    "start_time": "2023-08-19T21:29:18.483Z"
   },
   {
    "duration": 0,
    "start_time": "2023-08-19T21:29:23.495Z"
   },
   {
    "duration": 0,
    "start_time": "2023-08-19T21:29:23.496Z"
   },
   {
    "duration": 0,
    "start_time": "2023-08-19T21:29:23.497Z"
   },
   {
    "duration": 0,
    "start_time": "2023-08-19T21:29:23.498Z"
   },
   {
    "duration": 0,
    "start_time": "2023-08-19T21:29:23.500Z"
   },
   {
    "duration": 0,
    "start_time": "2023-08-19T21:29:23.500Z"
   },
   {
    "duration": 0,
    "start_time": "2023-08-19T21:29:23.501Z"
   },
   {
    "duration": 0,
    "start_time": "2023-08-19T21:29:23.502Z"
   },
   {
    "duration": 0,
    "start_time": "2023-08-19T21:29:23.504Z"
   },
   {
    "duration": 0,
    "start_time": "2023-08-19T21:29:23.505Z"
   },
   {
    "duration": 0,
    "start_time": "2023-08-19T21:29:23.506Z"
   },
   {
    "duration": 0,
    "start_time": "2023-08-19T21:29:23.507Z"
   },
   {
    "duration": 0,
    "start_time": "2023-08-19T21:29:23.508Z"
   },
   {
    "duration": 0,
    "start_time": "2023-08-19T21:29:23.509Z"
   },
   {
    "duration": 1,
    "start_time": "2023-08-19T21:29:23.509Z"
   },
   {
    "duration": 1,
    "start_time": "2023-08-19T21:29:23.510Z"
   },
   {
    "duration": 0,
    "start_time": "2023-08-19T21:29:23.511Z"
   },
   {
    "duration": 0,
    "start_time": "2023-08-19T21:29:23.512Z"
   },
   {
    "duration": 0,
    "start_time": "2023-08-19T21:29:23.513Z"
   },
   {
    "duration": 0,
    "start_time": "2023-08-19T21:29:23.514Z"
   },
   {
    "duration": 0,
    "start_time": "2023-08-19T21:29:23.516Z"
   },
   {
    "duration": 4,
    "start_time": "2023-08-19T22:45:35.028Z"
   },
   {
    "duration": 5,
    "start_time": "2023-08-19T22:45:36.590Z"
   },
   {
    "duration": 4862,
    "start_time": "2023-08-19T22:45:37.007Z"
   },
   {
    "duration": 10437,
    "start_time": "2023-08-19T22:45:41.872Z"
   },
   {
    "duration": 1470,
    "start_time": "2023-08-19T22:45:52.311Z"
   },
   {
    "duration": 10,
    "start_time": "2023-08-19T22:45:53.783Z"
   },
   {
    "duration": 0,
    "start_time": "2023-08-19T22:45:53.794Z"
   },
   {
    "duration": 0,
    "start_time": "2023-08-19T22:45:53.796Z"
   },
   {
    "duration": 0,
    "start_time": "2023-08-19T22:45:53.797Z"
   },
   {
    "duration": 0,
    "start_time": "2023-08-19T22:45:53.798Z"
   },
   {
    "duration": 0,
    "start_time": "2023-08-19T22:45:53.799Z"
   },
   {
    "duration": 0,
    "start_time": "2023-08-19T22:45:53.800Z"
   },
   {
    "duration": 0,
    "start_time": "2023-08-19T22:45:53.801Z"
   },
   {
    "duration": 0,
    "start_time": "2023-08-19T22:45:53.801Z"
   },
   {
    "duration": 0,
    "start_time": "2023-08-19T22:45:53.802Z"
   },
   {
    "duration": 0,
    "start_time": "2023-08-19T22:45:53.803Z"
   },
   {
    "duration": 0,
    "start_time": "2023-08-19T22:45:53.804Z"
   },
   {
    "duration": 0,
    "start_time": "2023-08-19T22:45:53.805Z"
   },
   {
    "duration": 0,
    "start_time": "2023-08-19T22:45:53.806Z"
   },
   {
    "duration": 0,
    "start_time": "2023-08-19T22:45:53.807Z"
   },
   {
    "duration": 0,
    "start_time": "2023-08-19T22:45:53.808Z"
   },
   {
    "duration": 0,
    "start_time": "2023-08-19T22:45:53.809Z"
   },
   {
    "duration": 0,
    "start_time": "2023-08-19T22:45:53.810Z"
   },
   {
    "duration": 0,
    "start_time": "2023-08-19T22:45:53.811Z"
   },
   {
    "duration": 8,
    "start_time": "2023-08-19T22:46:01.906Z"
   },
   {
    "duration": 9,
    "start_time": "2023-08-19T22:46:02.792Z"
   },
   {
    "duration": 99,
    "start_time": "2023-08-19T22:46:02.944Z"
   },
   {
    "duration": 11301,
    "start_time": "2023-08-19T22:46:03.236Z"
   },
   {
    "duration": 533,
    "start_time": "2023-08-19T22:46:14.539Z"
   },
   {
    "duration": 7,
    "start_time": "2023-08-19T22:46:15.074Z"
   },
   {
    "duration": 12,
    "start_time": "2023-08-19T22:46:15.082Z"
   },
   {
    "duration": 27,
    "start_time": "2023-08-19T22:46:15.096Z"
   },
   {
    "duration": 9,
    "start_time": "2023-08-19T22:46:15.125Z"
   },
   {
    "duration": 28483,
    "start_time": "2023-08-19T22:46:15.136Z"
   },
   {
    "duration": 344,
    "start_time": "2023-08-19T22:46:43.621Z"
   },
   {
    "duration": 19,
    "start_time": "2023-08-19T22:46:43.967Z"
   },
   {
    "duration": 7057,
    "start_time": "2023-08-19T22:46:43.989Z"
   },
   {
    "duration": 15759,
    "start_time": "2023-08-19T22:46:51.048Z"
   },
   {
    "duration": 10,
    "start_time": "2023-08-19T22:47:06.809Z"
   },
   {
    "duration": 13,
    "start_time": "2023-08-19T22:47:06.820Z"
   },
   {
    "duration": 2,
    "start_time": "2023-08-19T22:47:06.835Z"
   },
   {
    "duration": 414,
    "start_time": "2023-08-19T22:47:06.839Z"
   },
   {
    "duration": 290,
    "start_time": "2023-08-19T22:47:07.255Z"
   },
   {
    "duration": 12522,
    "start_time": "2023-08-19T22:47:07.547Z"
   },
   {
    "duration": 1134,
    "start_time": "2023-08-19T22:47:24.514Z"
   },
   {
    "duration": 468,
    "start_time": "2023-08-19T22:48:33.832Z"
   },
   {
    "duration": 748,
    "start_time": "2023-08-19T22:49:12.151Z"
   },
   {
    "duration": 3,
    "start_time": "2023-08-19T22:50:02.605Z"
   },
   {
    "duration": 2,
    "start_time": "2023-08-19T22:50:11.464Z"
   },
   {
    "duration": 352,
    "start_time": "2023-08-19T22:50:11.876Z"
   },
   {
    "duration": 645,
    "start_time": "2023-08-19T22:50:12.249Z"
   },
   {
    "duration": 65,
    "start_time": "2023-08-19T22:50:18.640Z"
   },
   {
    "duration": 16,
    "start_time": "2023-08-19T22:50:22.783Z"
   },
   {
    "duration": 598,
    "start_time": "2023-08-19T22:50:39.216Z"
   },
   {
    "duration": 8,
    "start_time": "2023-08-19T22:52:46.805Z"
   },
   {
    "duration": 6,
    "start_time": "2023-08-19T22:53:05.589Z"
   },
   {
    "duration": 1556,
    "start_time": "2023-08-19T22:53:26.947Z"
   },
   {
    "duration": 1726,
    "start_time": "2023-08-19T23:06:20.074Z"
   },
   {
    "duration": 1490,
    "start_time": "2023-08-19T23:06:27.529Z"
   },
   {
    "duration": 11,
    "start_time": "2023-08-19T23:12:00.739Z"
   },
   {
    "duration": 17,
    "start_time": "2023-08-19T23:12:28.861Z"
   },
   {
    "duration": 17,
    "start_time": "2023-08-19T23:12:36.179Z"
   },
   {
    "duration": 11987,
    "start_time": "2023-08-19T23:12:46.174Z"
   },
   {
    "duration": 16,
    "start_time": "2023-08-19T23:12:58.164Z"
   },
   {
    "duration": 4,
    "start_time": "2023-08-19T23:12:58.182Z"
   },
   {
    "duration": 100,
    "start_time": "2023-08-19T23:12:58.188Z"
   },
   {
    "duration": 145,
    "start_time": "2023-08-19T23:12:58.291Z"
   },
   {
    "duration": 13,
    "start_time": "2023-08-19T23:12:58.437Z"
   },
   {
    "duration": 38,
    "start_time": "2023-08-19T23:12:58.451Z"
   },
   {
    "duration": 16,
    "start_time": "2023-08-19T23:12:58.490Z"
   },
   {
    "duration": 11,
    "start_time": "2023-08-19T23:13:39.707Z"
   },
   {
    "duration": 48,
    "start_time": "2023-08-19T23:13:45.969Z"
   },
   {
    "duration": 29,
    "start_time": "2023-08-19T23:13:46.569Z"
   },
   {
    "duration": 31,
    "start_time": "2023-08-19T23:13:51.208Z"
   },
   {
    "duration": 5,
    "start_time": "2023-08-19T23:13:52.517Z"
   },
   {
    "duration": 26,
    "start_time": "2023-08-19T23:14:08.534Z"
   },
   {
    "duration": 11,
    "start_time": "2023-08-19T23:14:19.943Z"
   },
   {
    "duration": 11,
    "start_time": "2023-08-19T23:14:31.316Z"
   },
   {
    "duration": 11,
    "start_time": "2023-08-19T23:14:46.191Z"
   },
   {
    "duration": 6,
    "start_time": "2023-08-19T23:15:00.229Z"
   },
   {
    "duration": 5,
    "start_time": "2023-08-19T23:15:00.431Z"
   },
   {
    "duration": 6,
    "start_time": "2023-08-19T23:15:09.474Z"
   },
   {
    "duration": 13,
    "start_time": "2023-08-19T23:15:12.738Z"
   },
   {
    "duration": 18,
    "start_time": "2023-08-19T23:15:17.251Z"
   },
   {
    "duration": 12,
    "start_time": "2023-08-19T23:15:17.894Z"
   },
   {
    "duration": 13,
    "start_time": "2023-08-19T23:15:19.011Z"
   },
   {
    "duration": 10,
    "start_time": "2023-08-19T23:15:29.025Z"
   },
   {
    "duration": 14,
    "start_time": "2023-08-19T23:15:30.032Z"
   },
   {
    "duration": 5,
    "start_time": "2023-08-19T23:15:35.860Z"
   },
   {
    "duration": 22,
    "start_time": "2023-08-19T23:15:37.496Z"
   },
   {
    "duration": 20,
    "start_time": "2023-08-19T23:16:02.174Z"
   },
   {
    "duration": 53,
    "start_time": "2023-08-19T23:16:02.197Z"
   },
   {
    "duration": 19,
    "start_time": "2023-08-19T23:16:08.575Z"
   },
   {
    "duration": 6,
    "start_time": "2023-08-19T23:16:13.132Z"
   },
   {
    "duration": 8,
    "start_time": "2023-08-19T23:16:16.874Z"
   },
   {
    "duration": 46,
    "start_time": "2023-08-19T23:23:47.292Z"
   },
   {
    "duration": 17,
    "start_time": "2023-08-19T23:23:58.657Z"
   },
   {
    "duration": 83,
    "start_time": "2023-08-19T23:24:07.365Z"
   },
   {
    "duration": 29,
    "start_time": "2023-08-19T23:24:11.457Z"
   },
   {
    "duration": 29,
    "start_time": "2023-08-19T23:24:17.474Z"
   },
   {
    "duration": 29,
    "start_time": "2023-08-19T23:24:27.198Z"
   },
   {
    "duration": 40,
    "start_time": "2023-08-19T23:24:39.755Z"
   },
   {
    "duration": 40,
    "start_time": "2023-08-19T23:24:48.105Z"
   },
   {
    "duration": 33,
    "start_time": "2023-08-19T23:24:54.116Z"
   },
   {
    "duration": 30,
    "start_time": "2023-08-19T23:24:58.486Z"
   },
   {
    "duration": 32,
    "start_time": "2023-08-19T23:25:05.769Z"
   },
   {
    "duration": 3,
    "start_time": "2023-08-19T23:26:16.442Z"
   },
   {
    "duration": 23,
    "start_time": "2023-08-19T23:26:17.068Z"
   },
   {
    "duration": 40,
    "start_time": "2023-08-19T23:26:20.917Z"
   },
   {
    "duration": 8,
    "start_time": "2023-08-19T23:26:22.280Z"
   },
   {
    "duration": 3,
    "start_time": "2023-08-19T23:26:25.243Z"
   },
   {
    "duration": 7,
    "start_time": "2023-08-19T23:26:26.251Z"
   },
   {
    "duration": 6,
    "start_time": "2023-08-19T23:26:26.628Z"
   },
   {
    "duration": 9,
    "start_time": "2023-08-19T23:26:28.467Z"
   },
   {
    "duration": 5,
    "start_time": "2023-08-19T23:26:41.620Z"
   },
   {
    "duration": 6,
    "start_time": "2023-08-19T23:26:48.219Z"
   },
   {
    "duration": 4,
    "start_time": "2023-08-19T23:26:48.888Z"
   },
   {
    "duration": 11557,
    "start_time": "2023-08-19T23:27:41.143Z"
   },
   {
    "duration": 11452,
    "start_time": "2023-08-19T23:36:14.964Z"
   },
   {
    "duration": 2581,
    "start_time": "2023-08-19T23:36:26.418Z"
   },
   {
    "duration": 2,
    "start_time": "2023-08-19T23:36:29.001Z"
   },
   {
    "duration": 268,
    "start_time": "2023-08-19T23:36:29.005Z"
   },
   {
    "duration": 179,
    "start_time": "2023-08-19T23:36:29.275Z"
   },
   {
    "duration": 40,
    "start_time": "2023-08-19T23:36:29.456Z"
   },
   {
    "duration": 12,
    "start_time": "2023-08-19T23:36:29.498Z"
   },
   {
    "duration": 17,
    "start_time": "2023-08-19T23:36:29.512Z"
   },
   {
    "duration": 7,
    "start_time": "2023-08-19T23:36:29.531Z"
   },
   {
    "duration": 40,
    "start_time": "2023-08-19T23:36:29.541Z"
   },
   {
    "duration": 27,
    "start_time": "2023-08-19T23:36:29.583Z"
   },
   {
    "duration": 17,
    "start_time": "2023-08-19T23:36:29.611Z"
   },
   {
    "duration": 17,
    "start_time": "2023-08-19T23:36:29.630Z"
   },
   {
    "duration": 10,
    "start_time": "2023-08-19T23:36:29.681Z"
   },
   {
    "duration": 4,
    "start_time": "2023-08-19T23:36:29.692Z"
   },
   {
    "duration": 9,
    "start_time": "2023-08-19T23:36:29.698Z"
   },
   {
    "duration": 13,
    "start_time": "2023-08-19T23:36:29.709Z"
   },
   {
    "duration": 16,
    "start_time": "2023-08-19T23:36:29.724Z"
   },
   {
    "duration": 43,
    "start_time": "2023-08-19T23:36:29.742Z"
   },
   {
    "duration": 11,
    "start_time": "2023-08-19T23:36:29.787Z"
   },
   {
    "duration": 10,
    "start_time": "2023-08-19T23:36:29.799Z"
   },
   {
    "duration": 4,
    "start_time": "2023-08-19T23:36:29.811Z"
   },
   {
    "duration": 19,
    "start_time": "2023-08-19T23:36:29.817Z"
   },
   {
    "duration": 53,
    "start_time": "2023-08-19T23:36:29.837Z"
   },
   {
    "duration": 13,
    "start_time": "2023-08-19T23:36:29.892Z"
   },
   {
    "duration": 18,
    "start_time": "2023-08-19T23:36:29.907Z"
   },
   {
    "duration": 15,
    "start_time": "2023-08-19T23:36:29.926Z"
   },
   {
    "duration": 4,
    "start_time": "2023-08-19T23:36:29.945Z"
   },
   {
    "duration": 7,
    "start_time": "2023-08-19T23:36:29.981Z"
   },
   {
    "duration": 5,
    "start_time": "2023-08-19T23:36:29.989Z"
   },
   {
    "duration": 59,
    "start_time": "2023-08-19T23:36:29.996Z"
   },
   {
    "duration": 53,
    "start_time": "2023-08-19T23:36:30.057Z"
   },
   {
    "duration": 35,
    "start_time": "2023-08-19T23:36:30.112Z"
   },
   {
    "duration": 105,
    "start_time": "2023-08-19T23:36:30.149Z"
   },
   {
    "duration": 945,
    "start_time": "2023-08-19T23:36:30.256Z"
   },
   {
    "duration": 387,
    "start_time": "2023-08-19T23:36:31.203Z"
   },
   {
    "duration": 680,
    "start_time": "2023-08-19T23:36:31.593Z"
   },
   {
    "duration": 14,
    "start_time": "2023-08-19T23:36:32.274Z"
   },
   {
    "duration": 433,
    "start_time": "2023-08-19T23:36:32.290Z"
   },
   {
    "duration": 5137,
    "start_time": "2023-08-19T23:36:32.726Z"
   },
   {
    "duration": 368,
    "start_time": "2023-08-19T23:36:37.865Z"
   },
   {
    "duration": 2868,
    "start_time": "2023-08-19T23:36:38.235Z"
   },
   {
    "duration": 3,
    "start_time": "2023-08-19T23:36:41.105Z"
   },
   {
    "duration": 10,
    "start_time": "2023-08-19T23:36:41.110Z"
   },
   {
    "duration": 64,
    "start_time": "2023-08-19T23:36:41.122Z"
   },
   {
    "duration": 10,
    "start_time": "2023-08-19T23:36:41.188Z"
   },
   {
    "duration": 7,
    "start_time": "2023-08-19T23:36:41.200Z"
   },
   {
    "duration": 161,
    "start_time": "2023-08-19T23:36:41.209Z"
   },
   {
    "duration": 20,
    "start_time": "2023-08-19T23:36:41.372Z"
   },
   {
    "duration": 9,
    "start_time": "2023-08-19T23:36:41.394Z"
   },
   {
    "duration": 7,
    "start_time": "2023-08-19T23:36:41.405Z"
   },
   {
    "duration": 11,
    "start_time": "2023-08-19T23:36:41.413Z"
   },
   {
    "duration": 9,
    "start_time": "2023-08-19T23:36:41.425Z"
   },
   {
    "duration": 48,
    "start_time": "2023-08-19T23:36:41.435Z"
   },
   {
    "duration": 3,
    "start_time": "2023-08-19T23:36:41.485Z"
   },
   {
    "duration": 24427,
    "start_time": "2023-08-19T23:36:41.489Z"
   },
   {
    "duration": 5,
    "start_time": "2023-08-19T23:37:05.918Z"
   },
   {
    "duration": 19567,
    "start_time": "2023-08-19T23:37:05.924Z"
   },
   {
    "duration": 397,
    "start_time": "2023-08-19T23:37:25.493Z"
   },
   {
    "duration": 13,
    "start_time": "2023-08-19T23:37:25.891Z"
   },
   {
    "duration": 10,
    "start_time": "2023-08-19T23:37:25.905Z"
   },
   {
    "duration": 65381,
    "start_time": "2023-08-19T23:37:25.916Z"
   },
   {
    "duration": 4,
    "start_time": "2023-08-19T23:38:31.298Z"
   },
   {
    "duration": 49665,
    "start_time": "2023-08-19T23:38:31.304Z"
   },
   {
    "duration": 369,
    "start_time": "2023-08-19T23:39:20.971Z"
   },
   {
    "duration": 12,
    "start_time": "2023-08-19T23:39:21.342Z"
   },
   {
    "duration": 54,
    "start_time": "2023-08-19T23:39:21.355Z"
   },
   {
    "duration": 3,
    "start_time": "2023-08-19T23:39:21.411Z"
   },
   {
    "duration": 39775,
    "start_time": "2023-08-19T23:39:21.415Z"
   },
   {
    "duration": 5,
    "start_time": "2023-08-19T23:40:01.192Z"
   },
   {
    "duration": 8393,
    "start_time": "2023-08-19T23:40:01.199Z"
   },
   {
    "duration": 457,
    "start_time": "2023-08-19T23:40:09.594Z"
   },
   {
    "duration": 13,
    "start_time": "2023-08-19T23:40:10.053Z"
   },
   {
    "duration": 15,
    "start_time": "2023-08-19T23:40:10.067Z"
   },
   {
    "duration": 7,
    "start_time": "2023-08-19T23:40:10.084Z"
   },
   {
    "duration": 4936,
    "start_time": "2023-08-19T23:40:10.092Z"
   },
   {
    "duration": 12462,
    "start_time": "2023-08-19T23:40:15.030Z"
   },
   {
    "duration": 15907,
    "start_time": "2023-08-19T23:40:27.494Z"
   },
   {
    "duration": 10,
    "start_time": "2023-08-19T23:40:43.405Z"
   },
   {
    "duration": 76,
    "start_time": "2023-08-19T23:40:43.417Z"
   },
   {
    "duration": 11784,
    "start_time": "2023-08-19T23:40:43.495Z"
   },
   {
    "duration": 326,
    "start_time": "2023-08-19T23:40:55.285Z"
   },
   {
    "duration": 3,
    "start_time": "2023-08-19T23:40:55.613Z"
   },
   {
    "duration": 10,
    "start_time": "2023-08-19T23:40:55.617Z"
   },
   {
    "duration": 4,
    "start_time": "2023-08-19T23:40:55.629Z"
   },
   {
    "duration": 11,
    "start_time": "2023-08-19T23:40:55.635Z"
   },
   {
    "duration": 30081,
    "start_time": "2023-08-19T23:40:55.647Z"
   },
   {
    "duration": 358,
    "start_time": "2023-08-19T23:41:25.730Z"
   },
   {
    "duration": 9,
    "start_time": "2023-08-19T23:41:26.090Z"
   },
   {
    "duration": 7512,
    "start_time": "2023-08-19T23:41:26.101Z"
   },
   {
    "duration": 6980,
    "start_time": "2023-08-19T23:41:33.615Z"
   },
   {
    "duration": 14983,
    "start_time": "2023-08-19T23:41:40.597Z"
   },
   {
    "duration": 10,
    "start_time": "2023-08-19T23:41:55.583Z"
   },
   {
    "duration": 13,
    "start_time": "2023-08-19T23:41:55.594Z"
   },
   {
    "duration": 3,
    "start_time": "2023-08-19T23:41:55.609Z"
   },
   {
    "duration": 396,
    "start_time": "2023-08-19T23:41:55.614Z"
   },
   {
    "duration": 373,
    "start_time": "2023-08-19T23:41:56.012Z"
   },
   {
    "duration": 307,
    "start_time": "2023-08-19T23:41:56.386Z"
   },
   {
    "duration": 362,
    "start_time": "2023-08-19T23:41:56.695Z"
   },
   {
    "duration": 657,
    "start_time": "2023-08-19T23:41:57.059Z"
   },
   {
    "duration": 6,
    "start_time": "2023-08-19T23:41:57.717Z"
   },
   {
    "duration": 1720,
    "start_time": "2023-08-19T23:41:57.725Z"
   },
   {
    "duration": 3,
    "start_time": "2023-08-19T23:41:59.447Z"
   },
   {
    "duration": 294,
    "start_time": "2023-08-19T23:41:59.452Z"
   },
   {
    "duration": 6,
    "start_time": "2023-08-19T23:46:15.554Z"
   },
   {
    "duration": 9,
    "start_time": "2023-08-19T23:46:18.693Z"
   },
   {
    "duration": 9,
    "start_time": "2023-08-19T23:46:22.371Z"
   },
   {
    "duration": 4,
    "start_time": "2023-08-19T23:56:40.313Z"
   },
   {
    "duration": 5,
    "start_time": "2023-08-19T23:57:07.744Z"
   },
   {
    "duration": 4,
    "start_time": "2023-08-20T00:00:11.566Z"
   },
   {
    "duration": 6,
    "start_time": "2023-08-20T00:00:59.577Z"
   },
   {
    "duration": 4,
    "start_time": "2023-08-20T00:01:33.692Z"
   },
   {
    "duration": 3,
    "start_time": "2023-08-20T00:01:34.077Z"
   },
   {
    "duration": 3,
    "start_time": "2023-08-20T00:01:36.183Z"
   },
   {
    "duration": 3,
    "start_time": "2023-08-20T00:01:36.320Z"
   },
   {
    "duration": 33525,
    "start_time": "2023-08-20T00:01:37.277Z"
   },
   {
    "duration": 350,
    "start_time": "2023-08-20T00:02:10.804Z"
   },
   {
    "duration": 178,
    "start_time": "2023-08-20T00:02:52.436Z"
   },
   {
    "duration": 14906,
    "start_time": "2023-08-20T00:02:58.088Z"
   },
   {
    "duration": 9,
    "start_time": "2023-08-20T00:03:12.996Z"
   },
   {
    "duration": 17,
    "start_time": "2023-08-20T00:03:13.006Z"
   },
   {
    "duration": 0,
    "start_time": "2023-08-20T00:03:13.025Z"
   },
   {
    "duration": 0,
    "start_time": "2023-08-20T00:03:13.026Z"
   },
   {
    "duration": 3914,
    "start_time": "2023-08-20T00:03:37.828Z"
   },
   {
    "duration": 11,
    "start_time": "2023-08-20T00:03:41.744Z"
   },
   {
    "duration": 3,
    "start_time": "2023-08-20T00:03:41.757Z"
   },
   {
    "duration": 372,
    "start_time": "2023-08-20T00:03:41.761Z"
   },
   {
    "duration": 3,
    "start_time": "2023-08-20T00:04:41.971Z"
   },
   {
    "duration": 4826,
    "start_time": "2023-08-20T00:04:45.593Z"
   },
   {
    "duration": 7939,
    "start_time": "2023-08-20T00:05:01.874Z"
   },
   {
    "duration": 15,
    "start_time": "2023-08-20T00:05:09.815Z"
   },
   {
    "duration": 12,
    "start_time": "2023-08-20T00:05:09.831Z"
   },
   {
    "duration": 370,
    "start_time": "2023-08-20T00:05:09.845Z"
   },
   {
    "duration": 4,
    "start_time": "2023-08-20T00:05:29.791Z"
   },
   {
    "duration": 3,
    "start_time": "2023-08-20T00:05:29.960Z"
   },
   {
    "duration": 3,
    "start_time": "2023-08-20T00:05:30.150Z"
   },
   {
    "duration": 3,
    "start_time": "2023-08-20T00:05:30.310Z"
   },
   {
    "duration": 32188,
    "start_time": "2023-08-20T00:05:30.505Z"
   },
   {
    "duration": 352,
    "start_time": "2023-08-20T00:06:02.695Z"
   },
   {
    "duration": 9,
    "start_time": "2023-08-20T00:06:03.049Z"
   },
   {
    "duration": 15039,
    "start_time": "2023-08-20T00:06:03.080Z"
   },
   {
    "duration": 9,
    "start_time": "2023-08-20T00:06:18.120Z"
   },
   {
    "duration": 2,
    "start_time": "2023-08-20T00:06:18.130Z"
   },
   {
    "duration": 7006,
    "start_time": "2023-08-20T00:06:18.134Z"
   },
   {
    "duration": 13,
    "start_time": "2023-08-20T00:06:25.142Z"
   },
   {
    "duration": 4,
    "start_time": "2023-08-20T00:06:25.156Z"
   },
   {
    "duration": 381,
    "start_time": "2023-08-20T00:06:25.162Z"
   },
   {
    "duration": 263,
    "start_time": "2023-08-20T00:07:23.860Z"
   },
   {
    "duration": 545,
    "start_time": "2023-08-20T00:07:29.031Z"
   },
   {
    "duration": 625,
    "start_time": "2023-08-20T00:07:29.579Z"
   },
   {
    "duration": 3,
    "start_time": "2023-08-20T00:12:25.694Z"
   },
   {
    "duration": 3,
    "start_time": "2023-08-20T00:12:26.312Z"
   },
   {
    "duration": 3,
    "start_time": "2023-08-20T00:12:28.150Z"
   },
   {
    "duration": 3,
    "start_time": "2023-08-20T00:12:28.619Z"
   },
   {
    "duration": 25599,
    "start_time": "2023-08-20T00:12:28.978Z"
   },
   {
    "duration": 370,
    "start_time": "2023-08-20T00:12:54.578Z"
   },
   {
    "duration": 14874,
    "start_time": "2023-08-20T00:13:05.025Z"
   },
   {
    "duration": 9,
    "start_time": "2023-08-20T00:13:19.901Z"
   },
   {
    "duration": 12,
    "start_time": "2023-08-20T00:13:19.911Z"
   },
   {
    "duration": 6474,
    "start_time": "2023-08-20T00:13:19.925Z"
   },
   {
    "duration": 10,
    "start_time": "2023-08-20T00:13:26.401Z"
   },
   {
    "duration": 18,
    "start_time": "2023-08-20T00:13:26.412Z"
   },
   {
    "duration": 423,
    "start_time": "2023-08-20T00:13:26.432Z"
   },
   {
    "duration": 3,
    "start_time": "2023-08-20T00:13:58.771Z"
   },
   {
    "duration": 3,
    "start_time": "2023-08-20T00:13:58.943Z"
   },
   {
    "duration": 3,
    "start_time": "2023-08-20T00:13:59.147Z"
   },
   {
    "duration": 3,
    "start_time": "2023-08-20T00:13:59.315Z"
   },
   {
    "duration": 31302,
    "start_time": "2023-08-20T00:13:59.458Z"
   },
   {
    "duration": 355,
    "start_time": "2023-08-20T00:14:30.762Z"
   },
   {
    "duration": 9,
    "start_time": "2023-08-20T00:14:31.118Z"
   },
   {
    "duration": 14917,
    "start_time": "2023-08-20T00:14:31.129Z"
   },
   {
    "duration": 9,
    "start_time": "2023-08-20T00:14:46.048Z"
   },
   {
    "duration": 3,
    "start_time": "2023-08-20T00:14:46.059Z"
   },
   {
    "duration": 7492,
    "start_time": "2023-08-20T00:14:46.063Z"
   },
   {
    "duration": 12,
    "start_time": "2023-08-20T00:14:53.557Z"
   },
   {
    "duration": 4,
    "start_time": "2023-08-20T00:14:53.570Z"
   },
   {
    "duration": 410,
    "start_time": "2023-08-20T00:14:53.576Z"
   },
   {
    "duration": 12270,
    "start_time": "2023-08-20T00:24:23.078Z"
   },
   {
    "duration": 2702,
    "start_time": "2023-08-20T00:24:35.350Z"
   },
   {
    "duration": 3,
    "start_time": "2023-08-20T00:24:38.054Z"
   },
   {
    "duration": 101,
    "start_time": "2023-08-20T00:24:38.059Z"
   },
   {
    "duration": 181,
    "start_time": "2023-08-20T00:24:38.161Z"
   },
   {
    "duration": 37,
    "start_time": "2023-08-20T00:24:38.344Z"
   },
   {
    "duration": 12,
    "start_time": "2023-08-20T00:24:38.384Z"
   },
   {
    "duration": 16,
    "start_time": "2023-08-20T00:24:38.397Z"
   },
   {
    "duration": 8,
    "start_time": "2023-08-20T00:24:38.414Z"
   },
   {
    "duration": 2,
    "start_time": "2023-08-20T00:24:38.425Z"
   },
   {
    "duration": 59,
    "start_time": "2023-08-20T00:24:38.429Z"
   },
   {
    "duration": 17,
    "start_time": "2023-08-20T00:24:38.489Z"
   },
   {
    "duration": 18,
    "start_time": "2023-08-20T00:24:38.508Z"
   },
   {
    "duration": 4,
    "start_time": "2023-08-20T00:24:38.527Z"
   },
   {
    "duration": 5,
    "start_time": "2023-08-20T00:24:38.533Z"
   },
   {
    "duration": 10,
    "start_time": "2023-08-20T00:24:38.540Z"
   },
   {
    "duration": 41,
    "start_time": "2023-08-20T00:24:38.552Z"
   },
   {
    "duration": 9,
    "start_time": "2023-08-20T00:24:38.595Z"
   },
   {
    "duration": 11,
    "start_time": "2023-08-20T00:24:38.606Z"
   },
   {
    "duration": 9,
    "start_time": "2023-08-20T00:24:38.619Z"
   },
   {
    "duration": 5,
    "start_time": "2023-08-20T00:24:38.629Z"
   },
   {
    "duration": 47,
    "start_time": "2023-08-20T00:24:38.635Z"
   },
   {
    "duration": 23,
    "start_time": "2023-08-20T00:24:38.684Z"
   },
   {
    "duration": 14,
    "start_time": "2023-08-20T00:24:38.709Z"
   },
   {
    "duration": 17,
    "start_time": "2023-08-20T00:24:38.724Z"
   },
   {
    "duration": 39,
    "start_time": "2023-08-20T00:24:38.743Z"
   },
   {
    "duration": 4,
    "start_time": "2023-08-20T00:24:38.784Z"
   },
   {
    "duration": 6,
    "start_time": "2023-08-20T00:24:38.792Z"
   },
   {
    "duration": 5,
    "start_time": "2023-08-20T00:24:38.800Z"
   },
   {
    "duration": 5,
    "start_time": "2023-08-20T00:24:38.807Z"
   },
   {
    "duration": 22,
    "start_time": "2023-08-20T00:24:38.813Z"
   },
   {
    "duration": 4,
    "start_time": "2023-08-20T00:24:38.837Z"
   },
   {
    "duration": 81,
    "start_time": "2023-08-20T00:24:38.843Z"
   },
   {
    "duration": 936,
    "start_time": "2023-08-20T00:24:38.927Z"
   },
   {
    "duration": 380,
    "start_time": "2023-08-20T00:24:39.865Z"
   },
   {
    "duration": 680,
    "start_time": "2023-08-20T00:24:40.247Z"
   },
   {
    "duration": 12,
    "start_time": "2023-08-20T00:24:40.929Z"
   },
   {
    "duration": 343,
    "start_time": "2023-08-20T00:24:40.943Z"
   },
   {
    "duration": 4903,
    "start_time": "2023-08-20T00:24:41.288Z"
   },
   {
    "duration": 349,
    "start_time": "2023-08-20T00:24:46.192Z"
   },
   {
    "duration": 3216,
    "start_time": "2023-08-20T00:24:46.542Z"
   },
   {
    "duration": 2,
    "start_time": "2023-08-20T00:24:49.760Z"
   },
   {
    "duration": 6,
    "start_time": "2023-08-20T00:24:49.780Z"
   },
   {
    "duration": 33,
    "start_time": "2023-08-20T00:24:49.788Z"
   },
   {
    "duration": 8,
    "start_time": "2023-08-20T00:24:49.822Z"
   },
   {
    "duration": 50,
    "start_time": "2023-08-20T00:24:49.832Z"
   },
   {
    "duration": 171,
    "start_time": "2023-08-20T00:24:49.884Z"
   },
   {
    "duration": 37,
    "start_time": "2023-08-20T00:24:50.057Z"
   },
   {
    "duration": 29,
    "start_time": "2023-08-20T00:24:50.097Z"
   },
   {
    "duration": 18,
    "start_time": "2023-08-20T00:24:50.127Z"
   },
   {
    "duration": 25,
    "start_time": "2023-08-20T00:24:50.146Z"
   },
   {
    "duration": 7,
    "start_time": "2023-08-20T00:24:50.173Z"
   },
   {
    "duration": 65,
    "start_time": "2023-08-20T00:24:50.182Z"
   },
   {
    "duration": 3,
    "start_time": "2023-08-20T00:24:50.249Z"
   },
   {
    "duration": 23744,
    "start_time": "2023-08-20T00:24:50.253Z"
   },
   {
    "duration": 3,
    "start_time": "2023-08-20T00:25:13.999Z"
   },
   {
    "duration": 19477,
    "start_time": "2023-08-20T00:25:14.004Z"
   },
   {
    "duration": 358,
    "start_time": "2023-08-20T00:25:33.483Z"
   },
   {
    "duration": 14,
    "start_time": "2023-08-20T00:25:33.843Z"
   },
   {
    "duration": 3,
    "start_time": "2023-08-20T00:25:33.859Z"
   },
   {
    "duration": 60016,
    "start_time": "2023-08-20T00:25:33.880Z"
   },
   {
    "duration": 3,
    "start_time": "2023-08-20T00:26:33.898Z"
   },
   {
    "duration": 47780,
    "start_time": "2023-08-20T00:26:33.903Z"
   },
   {
    "duration": 395,
    "start_time": "2023-08-20T00:27:21.686Z"
   },
   {
    "duration": 12,
    "start_time": "2023-08-20T00:27:22.082Z"
   },
   {
    "duration": 52,
    "start_time": "2023-08-20T00:27:22.096Z"
   },
   {
    "duration": 3,
    "start_time": "2023-08-20T00:27:22.150Z"
   },
   {
    "duration": 239636,
    "start_time": "2023-08-20T00:27:22.155Z"
   },
   {
    "duration": 3,
    "start_time": "2023-08-20T00:31:21.793Z"
   },
   {
    "duration": 10112,
    "start_time": "2023-08-20T00:31:21.798Z"
   },
   {
    "duration": 460,
    "start_time": "2023-08-20T00:31:31.911Z"
   },
   {
    "duration": 13,
    "start_time": "2023-08-20T00:31:32.380Z"
   },
   {
    "duration": 9,
    "start_time": "2023-08-20T00:31:32.395Z"
   },
   {
    "duration": 17,
    "start_time": "2023-08-20T00:31:32.405Z"
   },
   {
    "duration": 4919,
    "start_time": "2023-08-20T00:31:32.424Z"
   },
   {
    "duration": 10919,
    "start_time": "2023-08-20T00:31:37.345Z"
   },
   {
    "duration": 18621,
    "start_time": "2023-08-20T00:31:48.266Z"
   },
   {
    "duration": 8,
    "start_time": "2023-08-20T00:32:06.889Z"
   },
   {
    "duration": 50,
    "start_time": "2023-08-20T00:32:06.899Z"
   },
   {
    "duration": 11863,
    "start_time": "2023-08-20T00:32:06.951Z"
   },
   {
    "duration": 377,
    "start_time": "2023-08-20T00:32:18.816Z"
   },
   {
    "duration": 4,
    "start_time": "2023-08-20T00:32:19.200Z"
   },
   {
    "duration": 6,
    "start_time": "2023-08-20T00:32:19.207Z"
   },
   {
    "duration": 6,
    "start_time": "2023-08-20T00:32:19.216Z"
   },
   {
    "duration": 8,
    "start_time": "2023-08-20T00:32:19.223Z"
   },
   {
    "duration": 35005,
    "start_time": "2023-08-20T00:32:19.233Z"
   },
   {
    "duration": 379,
    "start_time": "2023-08-20T00:32:54.240Z"
   },
   {
    "duration": 10,
    "start_time": "2023-08-20T00:32:54.621Z"
   },
   {
    "duration": 16538,
    "start_time": "2023-08-20T00:32:54.633Z"
   },
   {
    "duration": 17,
    "start_time": "2023-08-20T00:33:11.172Z"
   },
   {
    "duration": 6,
    "start_time": "2023-08-20T00:33:11.190Z"
   },
   {
    "duration": 7699,
    "start_time": "2023-08-20T00:33:11.198Z"
   },
   {
    "duration": 17,
    "start_time": "2023-08-20T00:33:18.899Z"
   },
   {
    "duration": 5,
    "start_time": "2023-08-20T00:33:18.918Z"
   },
   {
    "duration": 409,
    "start_time": "2023-08-20T00:33:18.925Z"
   },
   {
    "duration": 8,
    "start_time": "2023-08-20T00:33:19.336Z"
   },
   {
    "duration": 287,
    "start_time": "2023-08-20T00:33:19.346Z"
   },
   {
    "duration": 400,
    "start_time": "2023-08-20T00:33:19.636Z"
   },
   {
    "duration": 668,
    "start_time": "2023-08-20T00:33:20.037Z"
   },
   {
    "duration": 6,
    "start_time": "2023-08-20T00:33:20.707Z"
   },
   {
    "duration": 1806,
    "start_time": "2023-08-20T00:33:20.714Z"
   },
   {
    "duration": 466,
    "start_time": "2023-08-20T00:33:22.522Z"
   },
   {
    "duration": 124,
    "start_time": "2023-08-20T00:33:59.687Z"
   },
   {
    "duration": 385,
    "start_time": "2023-08-20T00:45:14.505Z"
   },
   {
    "duration": 14,
    "start_time": "2023-08-20T00:48:19.686Z"
   },
   {
    "duration": 12260,
    "start_time": "2023-08-20T00:48:55.821Z"
   },
   {
    "duration": 3119,
    "start_time": "2023-08-20T00:49:08.084Z"
   },
   {
    "duration": 3,
    "start_time": "2023-08-20T00:49:11.210Z"
   },
   {
    "duration": 109,
    "start_time": "2023-08-20T00:49:11.215Z"
   },
   {
    "duration": 267,
    "start_time": "2023-08-20T00:49:11.326Z"
   },
   {
    "duration": 14,
    "start_time": "2023-08-20T00:49:11.595Z"
   },
   {
    "duration": 16,
    "start_time": "2023-08-20T00:49:11.611Z"
   },
   {
    "duration": 59,
    "start_time": "2023-08-20T00:49:11.629Z"
   },
   {
    "duration": 11,
    "start_time": "2023-08-20T00:49:11.692Z"
   },
   {
    "duration": 52,
    "start_time": "2023-08-20T00:49:11.706Z"
   },
   {
    "duration": 34,
    "start_time": "2023-08-20T00:49:11.760Z"
   },
   {
    "duration": 34,
    "start_time": "2023-08-20T00:49:11.796Z"
   },
   {
    "duration": 9,
    "start_time": "2023-08-20T00:49:11.831Z"
   },
   {
    "duration": 6,
    "start_time": "2023-08-20T00:49:11.842Z"
   },
   {
    "duration": 13,
    "start_time": "2023-08-20T00:49:11.850Z"
   },
   {
    "duration": 36,
    "start_time": "2023-08-20T00:49:11.865Z"
   },
   {
    "duration": 11,
    "start_time": "2023-08-20T00:49:11.903Z"
   },
   {
    "duration": 13,
    "start_time": "2023-08-20T00:49:11.917Z"
   },
   {
    "duration": 13,
    "start_time": "2023-08-20T00:49:11.932Z"
   },
   {
    "duration": 39,
    "start_time": "2023-08-20T00:49:11.947Z"
   },
   {
    "duration": 27,
    "start_time": "2023-08-20T00:49:11.988Z"
   },
   {
    "duration": 25,
    "start_time": "2023-08-20T00:49:12.017Z"
   },
   {
    "duration": 47,
    "start_time": "2023-08-20T00:49:12.044Z"
   },
   {
    "duration": 29,
    "start_time": "2023-08-20T00:49:12.094Z"
   },
   {
    "duration": 21,
    "start_time": "2023-08-20T00:49:12.125Z"
   },
   {
    "duration": 4,
    "start_time": "2023-08-20T00:49:12.148Z"
   },
   {
    "duration": 9,
    "start_time": "2023-08-20T00:49:12.189Z"
   },
   {
    "duration": 7,
    "start_time": "2023-08-20T00:49:12.200Z"
   },
   {
    "duration": 5,
    "start_time": "2023-08-20T00:49:12.208Z"
   },
   {
    "duration": 5,
    "start_time": "2023-08-20T00:49:12.214Z"
   },
   {
    "duration": 6,
    "start_time": "2023-08-20T00:49:12.221Z"
   },
   {
    "duration": 99,
    "start_time": "2023-08-20T00:49:12.228Z"
   },
   {
    "duration": 1031,
    "start_time": "2023-08-20T00:49:12.329Z"
   },
   {
    "duration": 481,
    "start_time": "2023-08-20T00:49:13.363Z"
   },
   {
    "duration": 802,
    "start_time": "2023-08-20T00:49:13.846Z"
   },
   {
    "duration": 13,
    "start_time": "2023-08-20T00:49:14.650Z"
   },
   {
    "duration": 417,
    "start_time": "2023-08-20T00:49:14.664Z"
   },
   {
    "duration": 5350,
    "start_time": "2023-08-20T00:49:15.082Z"
   },
   {
    "duration": 405,
    "start_time": "2023-08-20T00:49:20.434Z"
   },
   {
    "duration": 3084,
    "start_time": "2023-08-20T00:49:20.841Z"
   },
   {
    "duration": 3,
    "start_time": "2023-08-20T00:49:23.926Z"
   },
   {
    "duration": 8,
    "start_time": "2023-08-20T00:49:23.931Z"
   },
   {
    "duration": 78,
    "start_time": "2023-08-20T00:49:23.941Z"
   },
   {
    "duration": 12,
    "start_time": "2023-08-20T00:49:24.022Z"
   },
   {
    "duration": 4,
    "start_time": "2023-08-20T00:49:24.035Z"
   },
   {
    "duration": 192,
    "start_time": "2023-08-20T00:49:24.041Z"
   },
   {
    "duration": 16,
    "start_time": "2023-08-20T00:49:24.235Z"
   },
   {
    "duration": 16,
    "start_time": "2023-08-20T00:49:24.253Z"
   },
   {
    "duration": 11,
    "start_time": "2023-08-20T00:49:24.271Z"
   },
   {
    "duration": 10,
    "start_time": "2023-08-20T00:49:24.284Z"
   },
   {
    "duration": 9,
    "start_time": "2023-08-20T00:49:24.296Z"
   },
   {
    "duration": 88,
    "start_time": "2023-08-20T00:49:24.307Z"
   },
   {
    "duration": 5,
    "start_time": "2023-08-20T00:49:24.397Z"
   },
   {
    "duration": 25964,
    "start_time": "2023-08-20T00:49:24.404Z"
   },
   {
    "duration": 4,
    "start_time": "2023-08-20T00:49:50.369Z"
   },
   {
    "duration": 20937,
    "start_time": "2023-08-20T00:49:50.380Z"
   },
   {
    "duration": 416,
    "start_time": "2023-08-20T00:50:11.319Z"
   },
   {
    "duration": 12,
    "start_time": "2023-08-20T00:50:11.737Z"
   },
   {
    "duration": 8,
    "start_time": "2023-08-20T00:50:11.751Z"
   },
   {
    "duration": 66852,
    "start_time": "2023-08-20T00:50:11.761Z"
   },
   {
    "duration": 4,
    "start_time": "2023-08-20T00:51:18.615Z"
   },
   {
    "duration": 51118,
    "start_time": "2023-08-20T00:51:18.621Z"
   },
   {
    "duration": 401,
    "start_time": "2023-08-20T00:52:09.741Z"
   },
   {
    "duration": 18,
    "start_time": "2023-08-20T00:52:10.144Z"
   },
   {
    "duration": 70,
    "start_time": "2023-08-20T00:52:10.164Z"
   },
   {
    "duration": 2,
    "start_time": "2023-08-20T00:52:10.237Z"
   },
   {
    "duration": 169748,
    "start_time": "2023-08-20T00:52:10.241Z"
   },
   {
    "duration": 4,
    "start_time": "2023-08-20T00:54:59.991Z"
   },
   {
    "duration": 29703,
    "start_time": "2023-08-20T00:54:59.996Z"
   },
   {
    "duration": 471,
    "start_time": "2023-08-20T00:55:29.700Z"
   },
   {
    "duration": 13,
    "start_time": "2023-08-20T00:55:30.182Z"
   },
   {
    "duration": 33,
    "start_time": "2023-08-20T00:55:30.197Z"
   },
   {
    "duration": 35,
    "start_time": "2023-08-20T00:55:30.232Z"
   },
   {
    "duration": 5094,
    "start_time": "2023-08-20T00:55:30.268Z"
   },
   {
    "duration": 11598,
    "start_time": "2023-08-20T00:55:35.364Z"
   },
   {
    "duration": 22717,
    "start_time": "2023-08-20T00:55:46.964Z"
   },
   {
    "duration": 8,
    "start_time": "2023-08-20T00:56:09.683Z"
   },
   {
    "duration": 16,
    "start_time": "2023-08-20T00:56:09.693Z"
   },
   {
    "duration": 11408,
    "start_time": "2023-08-20T00:56:09.711Z"
   },
   {
    "duration": 340,
    "start_time": "2023-08-20T00:56:21.121Z"
   },
   {
    "duration": 3,
    "start_time": "2023-08-20T00:56:21.466Z"
   },
   {
    "duration": 21,
    "start_time": "2023-08-20T00:56:21.471Z"
   },
   {
    "duration": 7,
    "start_time": "2023-08-20T00:56:21.494Z"
   },
   {
    "duration": 6,
    "start_time": "2023-08-20T00:56:21.503Z"
   },
   {
    "duration": 32060,
    "start_time": "2023-08-20T00:56:21.511Z"
   },
   {
    "duration": 396,
    "start_time": "2023-08-20T00:56:53.573Z"
   },
   {
    "duration": 20,
    "start_time": "2023-08-20T00:56:53.971Z"
   },
   {
    "duration": 15735,
    "start_time": "2023-08-20T00:56:53.996Z"
   },
   {
    "duration": 9,
    "start_time": "2023-08-20T00:57:09.733Z"
   },
   {
    "duration": 3,
    "start_time": "2023-08-20T00:57:09.744Z"
   },
   {
    "duration": 7503,
    "start_time": "2023-08-20T00:57:09.749Z"
   },
   {
    "duration": 12,
    "start_time": "2023-08-20T00:57:17.254Z"
   },
   {
    "duration": 4,
    "start_time": "2023-08-20T00:57:17.267Z"
   },
   {
    "duration": 428,
    "start_time": "2023-08-20T00:57:17.273Z"
   },
   {
    "duration": 8,
    "start_time": "2023-08-20T00:57:17.702Z"
   },
   {
    "duration": 283,
    "start_time": "2023-08-20T00:57:17.712Z"
   },
   {
    "duration": 370,
    "start_time": "2023-08-20T00:57:17.998Z"
   },
   {
    "duration": 644,
    "start_time": "2023-08-20T00:57:18.370Z"
   },
   {
    "duration": 7,
    "start_time": "2023-08-20T00:57:19.016Z"
   },
   {
    "duration": 1826,
    "start_time": "2023-08-20T00:57:19.024Z"
   },
   {
    "duration": 27314,
    "start_time": "2023-08-20T00:57:20.852Z"
   },
   {
    "duration": 11888,
    "start_time": "2023-08-20T00:58:25.226Z"
   },
   {
    "duration": 2591,
    "start_time": "2023-08-20T00:58:37.117Z"
   },
   {
    "duration": 3,
    "start_time": "2023-08-20T00:58:39.709Z"
   },
   {
    "duration": 110,
    "start_time": "2023-08-20T00:58:39.714Z"
   },
   {
    "duration": 199,
    "start_time": "2023-08-20T00:58:39.826Z"
   },
   {
    "duration": 14,
    "start_time": "2023-08-20T00:58:40.027Z"
   },
   {
    "duration": 17,
    "start_time": "2023-08-20T00:58:40.043Z"
   },
   {
    "duration": 25,
    "start_time": "2023-08-20T00:58:40.081Z"
   },
   {
    "duration": 12,
    "start_time": "2023-08-20T00:58:40.111Z"
   },
   {
    "duration": 27,
    "start_time": "2023-08-20T00:58:40.126Z"
   },
   {
    "duration": 42,
    "start_time": "2023-08-20T00:58:40.154Z"
   },
   {
    "duration": 16,
    "start_time": "2023-08-20T00:58:40.200Z"
   },
   {
    "duration": 16,
    "start_time": "2023-08-20T00:58:40.217Z"
   },
   {
    "duration": 5,
    "start_time": "2023-08-20T00:58:40.234Z"
   },
   {
    "duration": 12,
    "start_time": "2023-08-20T00:58:40.241Z"
   },
   {
    "duration": 18,
    "start_time": "2023-08-20T00:58:40.254Z"
   },
   {
    "duration": 21,
    "start_time": "2023-08-20T00:58:40.274Z"
   },
   {
    "duration": 17,
    "start_time": "2023-08-20T00:58:40.297Z"
   },
   {
    "duration": 9,
    "start_time": "2023-08-20T00:58:40.316Z"
   },
   {
    "duration": 26,
    "start_time": "2023-08-20T00:58:40.326Z"
   },
   {
    "duration": 14,
    "start_time": "2023-08-20T00:58:40.354Z"
   },
   {
    "duration": 25,
    "start_time": "2023-08-20T00:58:40.370Z"
   },
   {
    "duration": 12,
    "start_time": "2023-08-20T00:58:40.397Z"
   },
   {
    "duration": 49,
    "start_time": "2023-08-20T00:58:40.411Z"
   },
   {
    "duration": 14,
    "start_time": "2023-08-20T00:58:40.461Z"
   },
   {
    "duration": 20,
    "start_time": "2023-08-20T00:58:40.476Z"
   },
   {
    "duration": 7,
    "start_time": "2023-08-20T00:58:40.498Z"
   },
   {
    "duration": 6,
    "start_time": "2023-08-20T00:58:40.510Z"
   },
   {
    "duration": 6,
    "start_time": "2023-08-20T00:58:40.517Z"
   },
   {
    "duration": 11,
    "start_time": "2023-08-20T00:58:40.524Z"
   },
   {
    "duration": 7,
    "start_time": "2023-08-20T00:58:40.537Z"
   },
   {
    "duration": 79,
    "start_time": "2023-08-20T00:58:40.545Z"
   },
   {
    "duration": 930,
    "start_time": "2023-08-20T00:58:40.626Z"
   },
   {
    "duration": 407,
    "start_time": "2023-08-20T00:58:41.558Z"
   },
   {
    "duration": 700,
    "start_time": "2023-08-20T00:58:41.967Z"
   },
   {
    "duration": 27,
    "start_time": "2023-08-20T00:58:42.668Z"
   },
   {
    "duration": 343,
    "start_time": "2023-08-20T00:58:42.698Z"
   },
   {
    "duration": 5114,
    "start_time": "2023-08-20T00:58:43.043Z"
   },
   {
    "duration": 357,
    "start_time": "2023-08-20T00:58:48.159Z"
   },
   {
    "duration": 3003,
    "start_time": "2023-08-20T00:58:48.517Z"
   },
   {
    "duration": 3,
    "start_time": "2023-08-20T00:58:51.521Z"
   },
   {
    "duration": 14,
    "start_time": "2023-08-20T00:58:51.525Z"
   },
   {
    "duration": 60,
    "start_time": "2023-08-20T00:58:51.541Z"
   },
   {
    "duration": 15,
    "start_time": "2023-08-20T00:58:51.602Z"
   },
   {
    "duration": 10,
    "start_time": "2023-08-20T00:58:51.619Z"
   },
   {
    "duration": 166,
    "start_time": "2023-08-20T00:58:51.631Z"
   },
   {
    "duration": 18,
    "start_time": "2023-08-20T00:58:51.799Z"
   },
   {
    "duration": 15,
    "start_time": "2023-08-20T00:58:51.819Z"
   },
   {
    "duration": 15,
    "start_time": "2023-08-20T00:58:51.836Z"
   },
   {
    "duration": 23,
    "start_time": "2023-08-20T00:58:51.853Z"
   },
   {
    "duration": 14,
    "start_time": "2023-08-20T00:58:51.878Z"
   },
   {
    "duration": 59,
    "start_time": "2023-08-20T00:58:51.894Z"
   },
   {
    "duration": 3,
    "start_time": "2023-08-20T00:58:51.955Z"
   },
   {
    "duration": 25407,
    "start_time": "2023-08-20T00:58:51.959Z"
   },
   {
    "duration": 5,
    "start_time": "2023-08-20T00:59:17.368Z"
   },
   {
    "duration": 20952,
    "start_time": "2023-08-20T00:59:17.374Z"
   },
   {
    "duration": 405,
    "start_time": "2023-08-20T00:59:38.328Z"
   },
   {
    "duration": 13,
    "start_time": "2023-08-20T00:59:38.734Z"
   },
   {
    "duration": 6,
    "start_time": "2023-08-20T00:59:38.748Z"
   },
   {
    "duration": 64947,
    "start_time": "2023-08-20T00:59:38.756Z"
   },
   {
    "duration": 7,
    "start_time": "2023-08-20T01:00:43.704Z"
   },
   {
    "duration": 53130,
    "start_time": "2023-08-20T01:00:43.712Z"
   },
   {
    "duration": 420,
    "start_time": "2023-08-20T01:01:36.845Z"
   },
   {
    "duration": 28,
    "start_time": "2023-08-20T01:01:37.268Z"
   },
   {
    "duration": 45,
    "start_time": "2023-08-20T01:01:37.299Z"
   },
   {
    "duration": 3,
    "start_time": "2023-08-20T01:01:37.346Z"
   },
   {
    "duration": 670352,
    "start_time": "2023-08-20T01:01:37.350Z"
   },
   {
    "duration": 16,
    "start_time": "2023-08-20T01:12:47.703Z"
   },
   {
    "duration": 0,
    "start_time": "2023-08-20T01:12:47.721Z"
   },
   {
    "duration": 0,
    "start_time": "2023-08-20T01:12:47.723Z"
   },
   {
    "duration": 0,
    "start_time": "2023-08-20T01:12:47.725Z"
   },
   {
    "duration": 0,
    "start_time": "2023-08-20T01:12:47.726Z"
   },
   {
    "duration": 0,
    "start_time": "2023-08-20T01:12:47.728Z"
   },
   {
    "duration": 0,
    "start_time": "2023-08-20T01:12:47.729Z"
   },
   {
    "duration": 0,
    "start_time": "2023-08-20T01:12:47.730Z"
   },
   {
    "duration": 0,
    "start_time": "2023-08-20T01:12:47.731Z"
   },
   {
    "duration": 0,
    "start_time": "2023-08-20T01:12:47.733Z"
   },
   {
    "duration": 0,
    "start_time": "2023-08-20T01:12:47.734Z"
   },
   {
    "duration": 0,
    "start_time": "2023-08-20T01:12:47.735Z"
   },
   {
    "duration": 0,
    "start_time": "2023-08-20T01:12:47.736Z"
   },
   {
    "duration": 0,
    "start_time": "2023-08-20T01:12:47.737Z"
   },
   {
    "duration": 0,
    "start_time": "2023-08-20T01:12:47.738Z"
   },
   {
    "duration": 0,
    "start_time": "2023-08-20T01:12:47.739Z"
   },
   {
    "duration": 0,
    "start_time": "2023-08-20T01:12:47.740Z"
   },
   {
    "duration": 0,
    "start_time": "2023-08-20T01:12:47.741Z"
   },
   {
    "duration": 0,
    "start_time": "2023-08-20T01:12:47.742Z"
   },
   {
    "duration": 0,
    "start_time": "2023-08-20T01:12:47.783Z"
   },
   {
    "duration": 0,
    "start_time": "2023-08-20T01:12:47.792Z"
   },
   {
    "duration": 0,
    "start_time": "2023-08-20T01:12:47.793Z"
   },
   {
    "duration": 0,
    "start_time": "2023-08-20T01:12:47.794Z"
   },
   {
    "duration": 0,
    "start_time": "2023-08-20T01:12:47.795Z"
   },
   {
    "duration": 0,
    "start_time": "2023-08-20T01:12:47.796Z"
   },
   {
    "duration": 0,
    "start_time": "2023-08-20T01:12:47.798Z"
   },
   {
    "duration": 0,
    "start_time": "2023-08-20T01:12:47.799Z"
   },
   {
    "duration": 0,
    "start_time": "2023-08-20T01:12:47.800Z"
   },
   {
    "duration": 0,
    "start_time": "2023-08-20T01:12:47.801Z"
   },
   {
    "duration": 0,
    "start_time": "2023-08-20T01:12:47.803Z"
   },
   {
    "duration": 0,
    "start_time": "2023-08-20T01:12:47.804Z"
   },
   {
    "duration": 1,
    "start_time": "2023-08-20T01:12:47.804Z"
   },
   {
    "duration": 0,
    "start_time": "2023-08-20T01:12:47.806Z"
   },
   {
    "duration": 12377,
    "start_time": "2023-08-20T01:14:01.011Z"
   },
   {
    "duration": 2766,
    "start_time": "2023-08-20T01:14:13.395Z"
   },
   {
    "duration": 4,
    "start_time": "2023-08-20T01:14:16.163Z"
   },
   {
    "duration": 139,
    "start_time": "2023-08-20T01:14:16.170Z"
   },
   {
    "duration": 186,
    "start_time": "2023-08-20T01:14:16.311Z"
   },
   {
    "duration": 14,
    "start_time": "2023-08-20T01:14:16.500Z"
   },
   {
    "duration": 10,
    "start_time": "2023-08-20T01:14:16.515Z"
   },
   {
    "duration": 20,
    "start_time": "2023-08-20T01:14:16.526Z"
   },
   {
    "duration": 7,
    "start_time": "2023-08-20T01:14:16.547Z"
   },
   {
    "duration": 51,
    "start_time": "2023-08-20T01:14:16.557Z"
   },
   {
    "duration": 16,
    "start_time": "2023-08-20T01:14:16.610Z"
   },
   {
    "duration": 22,
    "start_time": "2023-08-20T01:14:16.627Z"
   },
   {
    "duration": 4,
    "start_time": "2023-08-20T01:14:16.650Z"
   },
   {
    "duration": 13,
    "start_time": "2023-08-20T01:14:16.656Z"
   },
   {
    "duration": 21,
    "start_time": "2023-08-20T01:14:16.671Z"
   },
   {
    "duration": 24,
    "start_time": "2023-08-20T01:14:16.702Z"
   },
   {
    "duration": 11,
    "start_time": "2023-08-20T01:14:16.728Z"
   },
   {
    "duration": 15,
    "start_time": "2023-08-20T01:14:16.741Z"
   },
   {
    "duration": 26,
    "start_time": "2023-08-20T01:14:16.758Z"
   },
   {
    "duration": 9,
    "start_time": "2023-08-20T01:14:16.786Z"
   },
   {
    "duration": 34,
    "start_time": "2023-08-20T01:14:16.799Z"
   },
   {
    "duration": 29,
    "start_time": "2023-08-20T01:14:16.835Z"
   },
   {
    "duration": 33,
    "start_time": "2023-08-20T01:14:16.866Z"
   },
   {
    "duration": 27,
    "start_time": "2023-08-20T01:14:16.901Z"
   },
   {
    "duration": 24,
    "start_time": "2023-08-20T01:14:16.930Z"
   },
   {
    "duration": 5,
    "start_time": "2023-08-20T01:14:16.956Z"
   },
   {
    "duration": 22,
    "start_time": "2023-08-20T01:14:16.963Z"
   },
   {
    "duration": 11,
    "start_time": "2023-08-20T01:14:16.990Z"
   },
   {
    "duration": 10,
    "start_time": "2023-08-20T01:14:17.003Z"
   },
   {
    "duration": 8,
    "start_time": "2023-08-20T01:14:17.014Z"
   },
   {
    "duration": 22,
    "start_time": "2023-08-20T01:14:17.024Z"
   },
   {
    "duration": 86,
    "start_time": "2023-08-20T01:14:17.048Z"
   },
   {
    "duration": 1039,
    "start_time": "2023-08-20T01:14:17.137Z"
   },
   {
    "duration": 437,
    "start_time": "2023-08-20T01:14:18.177Z"
   },
   {
    "duration": 725,
    "start_time": "2023-08-20T01:14:18.617Z"
   },
   {
    "duration": 10,
    "start_time": "2023-08-20T01:14:19.344Z"
   },
   {
    "duration": 363,
    "start_time": "2023-08-20T01:14:19.356Z"
   },
   {
    "duration": 5355,
    "start_time": "2023-08-20T01:14:19.720Z"
   },
   {
    "duration": 390,
    "start_time": "2023-08-20T01:14:25.077Z"
   },
   {
    "duration": 3210,
    "start_time": "2023-08-20T01:14:25.469Z"
   },
   {
    "duration": 5,
    "start_time": "2023-08-20T01:14:28.681Z"
   },
   {
    "duration": 15,
    "start_time": "2023-08-20T01:14:28.690Z"
   },
   {
    "duration": 33,
    "start_time": "2023-08-20T01:14:28.710Z"
   },
   {
    "duration": 7,
    "start_time": "2023-08-20T01:14:28.745Z"
   },
   {
    "duration": 7,
    "start_time": "2023-08-20T01:14:28.754Z"
   },
   {
    "duration": 149,
    "start_time": "2023-08-20T01:14:28.783Z"
   },
   {
    "duration": 6,
    "start_time": "2023-08-20T01:14:28.933Z"
   },
   {
    "duration": 17,
    "start_time": "2023-08-20T01:14:28.941Z"
   },
   {
    "duration": 7,
    "start_time": "2023-08-20T01:14:28.960Z"
   },
   {
    "duration": 8,
    "start_time": "2023-08-20T01:14:28.969Z"
   },
   {
    "duration": 9,
    "start_time": "2023-08-20T01:14:28.981Z"
   },
   {
    "duration": 56,
    "start_time": "2023-08-20T01:14:28.998Z"
   },
   {
    "duration": 3,
    "start_time": "2023-08-20T01:14:29.056Z"
   },
   {
    "duration": 25253,
    "start_time": "2023-08-20T01:14:29.060Z"
   },
   {
    "duration": 4,
    "start_time": "2023-08-20T01:14:54.315Z"
   },
   {
    "duration": 22320,
    "start_time": "2023-08-20T01:14:54.320Z"
   },
   {
    "duration": 474,
    "start_time": "2023-08-20T01:15:16.642Z"
   },
   {
    "duration": 19,
    "start_time": "2023-08-20T01:15:17.118Z"
   },
   {
    "duration": 11,
    "start_time": "2023-08-20T01:15:17.140Z"
   },
   {
    "duration": 63286,
    "start_time": "2023-08-20T01:15:17.154Z"
   },
   {
    "duration": 5,
    "start_time": "2023-08-20T01:16:20.441Z"
   },
   {
    "duration": 51474,
    "start_time": "2023-08-20T01:16:20.447Z"
   },
   {
    "duration": 410,
    "start_time": "2023-08-20T01:17:11.923Z"
   },
   {
    "duration": 12,
    "start_time": "2023-08-20T01:17:12.335Z"
   },
   {
    "duration": 60,
    "start_time": "2023-08-20T01:17:12.349Z"
   },
   {
    "duration": 3,
    "start_time": "2023-08-20T01:17:12.412Z"
   },
   {
    "duration": 225,
    "start_time": "2023-08-20T01:48:41.708Z"
   },
   {
    "duration": 13379,
    "start_time": "2023-08-20T01:48:52.333Z"
   },
   {
    "duration": 2754,
    "start_time": "2023-08-20T01:49:05.715Z"
   },
   {
    "duration": 3,
    "start_time": "2023-08-20T01:49:08.471Z"
   },
   {
    "duration": 138,
    "start_time": "2023-08-20T01:49:08.475Z"
   },
   {
    "duration": 189,
    "start_time": "2023-08-20T01:49:08.616Z"
   },
   {
    "duration": 12,
    "start_time": "2023-08-20T01:49:08.812Z"
   },
   {
    "duration": 15,
    "start_time": "2023-08-20T01:49:08.826Z"
   },
   {
    "duration": 16,
    "start_time": "2023-08-20T01:49:08.843Z"
   },
   {
    "duration": 24,
    "start_time": "2023-08-20T01:49:08.861Z"
   },
   {
    "duration": 39,
    "start_time": "2023-08-20T01:49:08.887Z"
   },
   {
    "duration": 18,
    "start_time": "2023-08-20T01:49:08.927Z"
   },
   {
    "duration": 17,
    "start_time": "2023-08-20T01:49:08.947Z"
   },
   {
    "duration": 29,
    "start_time": "2023-08-20T01:49:08.966Z"
   },
   {
    "duration": 8,
    "start_time": "2023-08-20T01:49:08.998Z"
   },
   {
    "duration": 13,
    "start_time": "2023-08-20T01:49:09.007Z"
   },
   {
    "duration": 16,
    "start_time": "2023-08-20T01:49:09.022Z"
   },
   {
    "duration": 10,
    "start_time": "2023-08-20T01:49:09.040Z"
   },
   {
    "duration": 12,
    "start_time": "2023-08-20T01:49:09.052Z"
   },
   {
    "duration": 29,
    "start_time": "2023-08-20T01:49:09.083Z"
   },
   {
    "duration": 8,
    "start_time": "2023-08-20T01:49:09.113Z"
   },
   {
    "duration": 17,
    "start_time": "2023-08-20T01:49:09.122Z"
   },
   {
    "duration": 22,
    "start_time": "2023-08-20T01:49:09.141Z"
   },
   {
    "duration": 38,
    "start_time": "2023-08-20T01:49:09.165Z"
   },
   {
    "duration": 26,
    "start_time": "2023-08-20T01:49:09.207Z"
   },
   {
    "duration": 20,
    "start_time": "2023-08-20T01:49:09.235Z"
   },
   {
    "duration": 4,
    "start_time": "2023-08-20T01:49:09.257Z"
   },
   {
    "duration": 26,
    "start_time": "2023-08-20T01:49:09.263Z"
   },
   {
    "duration": 13,
    "start_time": "2023-08-20T01:49:09.294Z"
   },
   {
    "duration": 6,
    "start_time": "2023-08-20T01:49:09.311Z"
   },
   {
    "duration": 5,
    "start_time": "2023-08-20T01:49:09.319Z"
   },
   {
    "duration": 9,
    "start_time": "2023-08-20T01:49:09.326Z"
   },
   {
    "duration": 73,
    "start_time": "2023-08-20T01:49:09.337Z"
   },
   {
    "duration": 1047,
    "start_time": "2023-08-20T01:49:09.412Z"
   },
   {
    "duration": 450,
    "start_time": "2023-08-20T01:49:10.461Z"
   },
   {
    "duration": 670,
    "start_time": "2023-08-20T01:49:10.915Z"
   },
   {
    "duration": 13,
    "start_time": "2023-08-20T01:49:11.588Z"
   },
   {
    "duration": 328,
    "start_time": "2023-08-20T01:49:11.603Z"
   },
   {
    "duration": 5522,
    "start_time": "2023-08-20T01:49:11.932Z"
   },
   {
    "duration": 379,
    "start_time": "2023-08-20T01:49:17.455Z"
   },
   {
    "duration": 3149,
    "start_time": "2023-08-20T01:49:17.836Z"
   },
   {
    "duration": 5,
    "start_time": "2023-08-20T01:49:20.994Z"
   },
   {
    "duration": 167,
    "start_time": "2023-08-20T01:49:21.000Z"
   },
   {
    "duration": 60,
    "start_time": "2023-08-20T01:49:21.169Z"
   },
   {
    "duration": 7,
    "start_time": "2023-08-20T01:49:21.231Z"
   },
   {
    "duration": 3,
    "start_time": "2023-08-20T01:49:21.240Z"
   },
   {
    "duration": 7,
    "start_time": "2023-08-20T01:49:21.245Z"
   },
   {
    "duration": 9,
    "start_time": "2023-08-20T01:49:21.253Z"
   },
   {
    "duration": 26,
    "start_time": "2023-08-20T01:49:21.263Z"
   },
   {
    "duration": 10,
    "start_time": "2023-08-20T01:49:21.292Z"
   },
   {
    "duration": 11,
    "start_time": "2023-08-20T01:49:21.309Z"
   },
   {
    "duration": 6,
    "start_time": "2023-08-20T01:49:21.322Z"
   },
   {
    "duration": 82,
    "start_time": "2023-08-20T01:49:21.330Z"
   },
   {
    "duration": 3,
    "start_time": "2023-08-20T01:49:21.414Z"
   },
   {
    "duration": 25615,
    "start_time": "2023-08-20T01:49:21.419Z"
   },
   {
    "duration": 4,
    "start_time": "2023-08-20T01:49:47.036Z"
   },
   {
    "duration": 21921,
    "start_time": "2023-08-20T01:49:47.041Z"
   },
   {
    "duration": 446,
    "start_time": "2023-08-20T01:50:08.963Z"
   },
   {
    "duration": 19,
    "start_time": "2023-08-20T01:50:09.412Z"
   },
   {
    "duration": 4,
    "start_time": "2023-08-20T01:50:09.432Z"
   },
   {
    "duration": 62837,
    "start_time": "2023-08-20T01:50:09.437Z"
   },
   {
    "duration": 4,
    "start_time": "2023-08-20T01:51:12.275Z"
   },
   {
    "duration": 50122,
    "start_time": "2023-08-20T01:51:12.283Z"
   },
   {
    "duration": 413,
    "start_time": "2023-08-20T01:52:02.408Z"
   },
   {
    "duration": 11,
    "start_time": "2023-08-20T01:52:02.823Z"
   },
   {
    "duration": 58,
    "start_time": "2023-08-20T01:52:02.835Z"
   },
   {
    "duration": 3,
    "start_time": "2023-08-20T01:52:02.903Z"
   },
   {
    "duration": 398800,
    "start_time": "2023-08-20T01:52:02.907Z"
   },
   {
    "duration": 4,
    "start_time": "2023-08-20T01:58:41.710Z"
   },
   {
    "duration": 341199,
    "start_time": "2023-08-20T01:58:41.716Z"
   },
   {
    "duration": 453,
    "start_time": "2023-08-20T02:04:22.917Z"
   },
   {
    "duration": 29,
    "start_time": "2023-08-20T02:04:23.371Z"
   },
   {
    "duration": 6,
    "start_time": "2023-08-20T02:04:23.401Z"
   },
   {
    "duration": 9,
    "start_time": "2023-08-20T02:04:23.409Z"
   },
   {
    "duration": 5139,
    "start_time": "2023-08-20T02:04:23.419Z"
   },
   {
    "duration": 11664,
    "start_time": "2023-08-20T02:04:28.560Z"
   },
   {
    "duration": 53084,
    "start_time": "2023-08-20T02:04:40.225Z"
   },
   {
    "duration": 8,
    "start_time": "2023-08-20T02:05:33.311Z"
   },
   {
    "duration": 80,
    "start_time": "2023-08-20T02:05:33.321Z"
   },
   {
    "duration": 13625,
    "start_time": "2023-08-20T02:05:33.406Z"
   },
   {
    "duration": 377,
    "start_time": "2023-08-20T02:05:47.033Z"
   },
   {
    "duration": 3,
    "start_time": "2023-08-20T02:05:47.412Z"
   },
   {
    "duration": 7,
    "start_time": "2023-08-20T02:05:47.416Z"
   },
   {
    "duration": 3,
    "start_time": "2023-08-20T02:05:47.425Z"
   },
   {
    "duration": 4,
    "start_time": "2023-08-20T02:05:47.430Z"
   },
   {
    "duration": 18926,
    "start_time": "2023-08-20T19:11:55.489Z"
   },
   {
    "duration": 4022,
    "start_time": "2023-08-20T19:12:20.421Z"
   },
   {
    "duration": 3,
    "start_time": "2023-08-20T19:12:26.858Z"
   },
   {
    "duration": 450,
    "start_time": "2023-08-20T19:12:30.450Z"
   },
   {
    "duration": 274,
    "start_time": "2023-08-20T19:12:35.165Z"
   },
   {
    "duration": 46,
    "start_time": "2023-08-20T19:53:44.251Z"
   },
   {
    "duration": 18736,
    "start_time": "2023-08-20T19:53:48.285Z"
   },
   {
    "duration": 2615,
    "start_time": "2023-08-20T19:54:07.024Z"
   },
   {
    "duration": 2,
    "start_time": "2023-08-20T19:54:09.641Z"
   },
   {
    "duration": 317,
    "start_time": "2023-08-20T19:54:09.645Z"
   },
   {
    "duration": 147,
    "start_time": "2023-08-20T19:54:09.963Z"
   },
   {
    "duration": 29,
    "start_time": "2023-08-20T19:54:10.111Z"
   },
   {
    "duration": 10,
    "start_time": "2023-08-20T19:54:10.142Z"
   },
   {
    "duration": 15,
    "start_time": "2023-08-20T19:54:10.154Z"
   },
   {
    "duration": 8,
    "start_time": "2023-08-20T19:54:10.170Z"
   },
   {
    "duration": 55,
    "start_time": "2023-08-20T19:54:10.179Z"
   },
   {
    "duration": 17,
    "start_time": "2023-08-20T19:54:10.235Z"
   },
   {
    "duration": 21,
    "start_time": "2023-08-20T19:54:10.253Z"
   },
   {
    "duration": 11,
    "start_time": "2023-08-20T19:54:10.275Z"
   },
   {
    "duration": 8,
    "start_time": "2023-08-20T19:54:10.288Z"
   },
   {
    "duration": 10,
    "start_time": "2023-08-20T19:54:12.917Z"
   },
   {
    "duration": 6,
    "start_time": "2023-08-20T19:54:15.727Z"
   },
   {
    "duration": 16,
    "start_time": "2023-08-20T19:54:16.313Z"
   },
   {
    "duration": 15,
    "start_time": "2023-08-20T19:54:27.280Z"
   },
   {
    "duration": 17,
    "start_time": "2023-08-20T19:54:29.665Z"
   },
   {
    "duration": 44,
    "start_time": "2023-08-20T19:54:37.354Z"
   },
   {
    "duration": 17,
    "start_time": "2023-08-20T19:54:37.879Z"
   },
   {
    "duration": 9,
    "start_time": "2023-08-20T19:54:46.047Z"
   },
   {
    "duration": 16,
    "start_time": "2023-08-20T19:54:46.959Z"
   },
   {
    "duration": 6,
    "start_time": "2023-08-20T19:55:01.492Z"
   },
   {
    "duration": 19,
    "start_time": "2023-08-20T19:55:02.698Z"
   },
   {
    "duration": 5,
    "start_time": "2023-08-20T19:55:21.238Z"
   },
   {
    "duration": 16,
    "start_time": "2023-08-20T19:55:22.206Z"
   },
   {
    "duration": 6,
    "start_time": "2023-08-20T19:55:48.218Z"
   },
   {
    "duration": 17,
    "start_time": "2023-08-20T19:55:49.456Z"
   },
   {
    "duration": 5,
    "start_time": "2023-08-20T19:56:07.730Z"
   },
   {
    "duration": 79,
    "start_time": "2023-08-20T19:56:18.965Z"
   },
   {
    "duration": 5,
    "start_time": "2023-08-20T19:56:54.968Z"
   },
   {
    "duration": 10,
    "start_time": "2023-08-20T19:56:56.147Z"
   },
   {
    "duration": 10,
    "start_time": "2023-08-20T19:56:57.182Z"
   },
   {
    "duration": 10303,
    "start_time": "2023-08-20T19:57:58.520Z"
   },
   {
    "duration": 2436,
    "start_time": "2023-08-20T19:58:08.825Z"
   },
   {
    "duration": 3,
    "start_time": "2023-08-20T19:58:11.262Z"
   },
   {
    "duration": 100,
    "start_time": "2023-08-20T19:58:11.267Z"
   },
   {
    "duration": 171,
    "start_time": "2023-08-20T19:58:11.368Z"
   },
   {
    "duration": 10,
    "start_time": "2023-08-20T19:58:11.541Z"
   },
   {
    "duration": 10,
    "start_time": "2023-08-20T19:58:11.553Z"
   },
   {
    "duration": 14,
    "start_time": "2023-08-20T19:58:11.565Z"
   },
   {
    "duration": 6,
    "start_time": "2023-08-20T19:58:11.581Z"
   },
   {
    "duration": 55,
    "start_time": "2023-08-20T19:58:11.589Z"
   },
   {
    "duration": 16,
    "start_time": "2023-08-20T19:58:11.646Z"
   },
   {
    "duration": 54,
    "start_time": "2023-08-20T19:58:11.663Z"
   },
   {
    "duration": 5,
    "start_time": "2023-08-20T19:58:11.719Z"
   },
   {
    "duration": 7,
    "start_time": "2023-08-20T19:58:11.725Z"
   },
   {
    "duration": 10,
    "start_time": "2023-08-20T19:58:11.734Z"
   },
   {
    "duration": 11,
    "start_time": "2023-08-20T19:58:11.745Z"
   },
   {
    "duration": 11,
    "start_time": "2023-08-20T19:58:11.757Z"
   },
   {
    "duration": 9,
    "start_time": "2023-08-20T19:58:11.770Z"
   },
   {
    "duration": 4,
    "start_time": "2023-08-20T19:58:11.781Z"
   },
   {
    "duration": 16,
    "start_time": "2023-08-20T19:58:11.787Z"
   },
   {
    "duration": 44,
    "start_time": "2023-08-20T19:58:11.805Z"
   },
   {
    "duration": 27,
    "start_time": "2023-08-20T19:58:11.851Z"
   },
   {
    "duration": 16,
    "start_time": "2023-08-20T19:58:11.880Z"
   },
   {
    "duration": 13,
    "start_time": "2023-08-20T19:58:11.898Z"
   },
   {
    "duration": 21,
    "start_time": "2023-08-20T19:58:11.913Z"
   },
   {
    "duration": 43,
    "start_time": "2023-08-20T19:58:11.935Z"
   },
   {
    "duration": 26,
    "start_time": "2023-08-20T19:58:11.979Z"
   },
   {
    "duration": 16,
    "start_time": "2023-08-20T19:58:12.009Z"
   },
   {
    "duration": 13,
    "start_time": "2023-08-20T19:58:12.026Z"
   },
   {
    "duration": 28,
    "start_time": "2023-08-20T19:58:12.040Z"
   },
   {
    "duration": 40,
    "start_time": "2023-08-20T19:58:12.070Z"
   },
   {
    "duration": 646,
    "start_time": "2023-08-20T19:58:12.112Z"
   },
   {
    "duration": 412,
    "start_time": "2023-08-20T19:58:12.761Z"
   },
   {
    "duration": 602,
    "start_time": "2023-08-20T19:58:13.174Z"
   },
   {
    "duration": 10,
    "start_time": "2023-08-20T19:58:13.778Z"
   },
   {
    "duration": 337,
    "start_time": "2023-08-20T19:58:13.789Z"
   },
   {
    "duration": 3806,
    "start_time": "2023-08-20T19:58:14.128Z"
   },
   {
    "duration": 303,
    "start_time": "2023-08-20T19:58:17.936Z"
   },
   {
    "duration": 2493,
    "start_time": "2023-08-20T19:58:18.241Z"
   },
   {
    "duration": 3,
    "start_time": "2023-08-20T19:58:20.735Z"
   },
   {
    "duration": 171,
    "start_time": "2023-08-20T19:58:20.739Z"
   },
   {
    "duration": 0,
    "start_time": "2023-08-20T19:58:20.912Z"
   },
   {
    "duration": 0,
    "start_time": "2023-08-20T19:58:20.914Z"
   },
   {
    "duration": 0,
    "start_time": "2023-08-20T19:58:20.915Z"
   },
   {
    "duration": 0,
    "start_time": "2023-08-20T19:58:20.916Z"
   },
   {
    "duration": 0,
    "start_time": "2023-08-20T19:58:20.917Z"
   },
   {
    "duration": 0,
    "start_time": "2023-08-20T19:58:20.933Z"
   },
   {
    "duration": 0,
    "start_time": "2023-08-20T19:58:20.935Z"
   },
   {
    "duration": 0,
    "start_time": "2023-08-20T19:58:20.936Z"
   },
   {
    "duration": 0,
    "start_time": "2023-08-20T19:58:20.937Z"
   },
   {
    "duration": 0,
    "start_time": "2023-08-20T19:58:20.938Z"
   },
   {
    "duration": 0,
    "start_time": "2023-08-20T19:58:20.940Z"
   },
   {
    "duration": 0,
    "start_time": "2023-08-20T19:58:20.941Z"
   },
   {
    "duration": 0,
    "start_time": "2023-08-20T19:58:20.942Z"
   },
   {
    "duration": 0,
    "start_time": "2023-08-20T19:58:20.943Z"
   },
   {
    "duration": 0,
    "start_time": "2023-08-20T19:58:20.944Z"
   },
   {
    "duration": 0,
    "start_time": "2023-08-20T19:58:20.945Z"
   },
   {
    "duration": 0,
    "start_time": "2023-08-20T19:58:20.946Z"
   },
   {
    "duration": 0,
    "start_time": "2023-08-20T19:58:20.947Z"
   },
   {
    "duration": 0,
    "start_time": "2023-08-20T19:58:20.948Z"
   },
   {
    "duration": 0,
    "start_time": "2023-08-20T19:58:20.949Z"
   },
   {
    "duration": 0,
    "start_time": "2023-08-20T19:58:20.950Z"
   },
   {
    "duration": 0,
    "start_time": "2023-08-20T19:58:20.951Z"
   },
   {
    "duration": 0,
    "start_time": "2023-08-20T19:58:20.952Z"
   },
   {
    "duration": 0,
    "start_time": "2023-08-20T19:58:20.953Z"
   },
   {
    "duration": 0,
    "start_time": "2023-08-20T19:58:20.955Z"
   },
   {
    "duration": 0,
    "start_time": "2023-08-20T19:58:20.955Z"
   },
   {
    "duration": 0,
    "start_time": "2023-08-20T19:58:20.956Z"
   },
   {
    "duration": 0,
    "start_time": "2023-08-20T19:58:20.957Z"
   },
   {
    "duration": 0,
    "start_time": "2023-08-20T19:58:20.959Z"
   },
   {
    "duration": 0,
    "start_time": "2023-08-20T19:58:20.959Z"
   },
   {
    "duration": 0,
    "start_time": "2023-08-20T19:58:20.960Z"
   },
   {
    "duration": 0,
    "start_time": "2023-08-20T19:58:20.961Z"
   },
   {
    "duration": 0,
    "start_time": "2023-08-20T19:58:20.962Z"
   },
   {
    "duration": 0,
    "start_time": "2023-08-20T19:58:20.963Z"
   },
   {
    "duration": 0,
    "start_time": "2023-08-20T19:58:20.964Z"
   },
   {
    "duration": 0,
    "start_time": "2023-08-20T19:58:20.966Z"
   },
   {
    "duration": 0,
    "start_time": "2023-08-20T19:58:20.967Z"
   },
   {
    "duration": 0,
    "start_time": "2023-08-20T19:58:20.968Z"
   },
   {
    "duration": 0,
    "start_time": "2023-08-20T19:58:20.969Z"
   },
   {
    "duration": 0,
    "start_time": "2023-08-20T19:58:20.970Z"
   },
   {
    "duration": 0,
    "start_time": "2023-08-20T19:58:21.034Z"
   },
   {
    "duration": 0,
    "start_time": "2023-08-20T19:58:21.035Z"
   },
   {
    "duration": 0,
    "start_time": "2023-08-20T19:58:21.036Z"
   },
   {
    "duration": 0,
    "start_time": "2023-08-20T19:58:21.037Z"
   },
   {
    "duration": 0,
    "start_time": "2023-08-20T19:58:21.038Z"
   },
   {
    "duration": 0,
    "start_time": "2023-08-20T19:58:21.040Z"
   },
   {
    "duration": 0,
    "start_time": "2023-08-20T19:58:21.041Z"
   },
   {
    "duration": 0,
    "start_time": "2023-08-20T19:58:21.042Z"
   },
   {
    "duration": 0,
    "start_time": "2023-08-20T19:58:21.043Z"
   },
   {
    "duration": 0,
    "start_time": "2023-08-20T19:58:21.044Z"
   },
   {
    "duration": 0,
    "start_time": "2023-08-20T19:58:21.045Z"
   },
   {
    "duration": 0,
    "start_time": "2023-08-20T19:58:21.046Z"
   },
   {
    "duration": 0,
    "start_time": "2023-08-20T19:58:21.047Z"
   },
   {
    "duration": 0,
    "start_time": "2023-08-20T19:58:21.048Z"
   },
   {
    "duration": 0,
    "start_time": "2023-08-20T19:58:21.049Z"
   },
   {
    "duration": 0,
    "start_time": "2023-08-20T19:58:21.050Z"
   },
   {
    "duration": 0,
    "start_time": "2023-08-20T19:58:21.051Z"
   },
   {
    "duration": 0,
    "start_time": "2023-08-20T19:58:21.052Z"
   },
   {
    "duration": 1343,
    "start_time": "2023-08-20T19:59:39.350Z"
   },
   {
    "duration": 10908,
    "start_time": "2023-08-20T19:59:51.878Z"
   },
   {
    "duration": 2513,
    "start_time": "2023-08-20T20:00:02.791Z"
   },
   {
    "duration": 2,
    "start_time": "2023-08-20T20:00:05.306Z"
   },
   {
    "duration": 119,
    "start_time": "2023-08-20T20:00:05.309Z"
   },
   {
    "duration": 154,
    "start_time": "2023-08-20T20:00:05.430Z"
   },
   {
    "duration": 10,
    "start_time": "2023-08-20T20:00:05.585Z"
   },
   {
    "duration": 40,
    "start_time": "2023-08-20T20:00:05.597Z"
   },
   {
    "duration": 22,
    "start_time": "2023-08-20T20:00:05.638Z"
   },
   {
    "duration": 16,
    "start_time": "2023-08-20T20:00:05.662Z"
   },
   {
    "duration": 26,
    "start_time": "2023-08-20T20:00:05.681Z"
   },
   {
    "duration": 16,
    "start_time": "2023-08-20T20:00:05.708Z"
   },
   {
    "duration": 41,
    "start_time": "2023-08-20T20:00:05.726Z"
   },
   {
    "duration": 4,
    "start_time": "2023-08-20T20:00:05.769Z"
   },
   {
    "duration": 42,
    "start_time": "2023-08-20T20:00:05.775Z"
   },
   {
    "duration": 26,
    "start_time": "2023-08-20T20:00:05.819Z"
   },
   {
    "duration": 16,
    "start_time": "2023-08-20T20:00:05.846Z"
   },
   {
    "duration": 21,
    "start_time": "2023-08-20T20:00:05.864Z"
   },
   {
    "duration": 12,
    "start_time": "2023-08-20T20:00:05.887Z"
   },
   {
    "duration": 15,
    "start_time": "2023-08-20T20:00:05.900Z"
   },
   {
    "duration": 20,
    "start_time": "2023-08-20T20:00:05.917Z"
   },
   {
    "duration": 30,
    "start_time": "2023-08-20T20:00:05.939Z"
   },
   {
    "duration": 31,
    "start_time": "2023-08-20T20:00:05.971Z"
   },
   {
    "duration": 25,
    "start_time": "2023-08-20T20:00:06.004Z"
   },
   {
    "duration": 14,
    "start_time": "2023-08-20T20:00:06.031Z"
   },
   {
    "duration": 30,
    "start_time": "2023-08-20T20:00:06.047Z"
   },
   {
    "duration": 31,
    "start_time": "2023-08-20T20:00:06.079Z"
   },
   {
    "duration": 11,
    "start_time": "2023-08-20T20:00:06.111Z"
   },
   {
    "duration": 3,
    "start_time": "2023-08-20T20:00:06.127Z"
   },
   {
    "duration": 8,
    "start_time": "2023-08-20T20:00:06.132Z"
   },
   {
    "duration": 19,
    "start_time": "2023-08-20T20:00:06.141Z"
   },
   {
    "duration": 51,
    "start_time": "2023-08-20T20:00:06.161Z"
   },
   {
    "duration": 645,
    "start_time": "2023-08-20T20:00:06.213Z"
   },
   {
    "duration": 424,
    "start_time": "2023-08-20T20:00:06.860Z"
   },
   {
    "duration": 632,
    "start_time": "2023-08-20T20:00:07.286Z"
   },
   {
    "duration": 15,
    "start_time": "2023-08-20T20:00:07.921Z"
   },
   {
    "duration": 290,
    "start_time": "2023-08-20T20:00:07.938Z"
   },
   {
    "duration": 4051,
    "start_time": "2023-08-20T20:00:08.234Z"
   },
   {
    "duration": 299,
    "start_time": "2023-08-20T20:00:12.287Z"
   },
   {
    "duration": 2648,
    "start_time": "2023-08-20T20:00:12.588Z"
   },
   {
    "duration": 2,
    "start_time": "2023-08-20T20:00:15.238Z"
   },
   {
    "duration": 83,
    "start_time": "2023-08-20T20:00:15.242Z"
   },
   {
    "duration": 38,
    "start_time": "2023-08-20T20:00:15.326Z"
   },
   {
    "duration": 59,
    "start_time": "2023-08-20T20:00:15.366Z"
   },
   {
    "duration": 39,
    "start_time": "2023-08-20T20:00:15.427Z"
   },
   {
    "duration": 10,
    "start_time": "2023-08-20T20:00:15.468Z"
   },
   {
    "duration": 11,
    "start_time": "2023-08-20T20:00:15.480Z"
   },
   {
    "duration": 23,
    "start_time": "2023-08-20T20:00:15.492Z"
   },
   {
    "duration": 25,
    "start_time": "2023-08-20T20:00:15.516Z"
   },
   {
    "duration": 9,
    "start_time": "2023-08-20T20:00:15.542Z"
   },
   {
    "duration": 29,
    "start_time": "2023-08-20T20:00:15.553Z"
   },
   {
    "duration": 47,
    "start_time": "2023-08-20T20:00:15.583Z"
   },
   {
    "duration": 2,
    "start_time": "2023-08-20T20:00:15.632Z"
   },
   {
    "duration": 22029,
    "start_time": "2023-08-20T20:00:15.636Z"
   },
   {
    "duration": 4,
    "start_time": "2023-08-20T20:00:37.667Z"
   },
   {
    "duration": 19472,
    "start_time": "2023-08-20T20:00:37.672Z"
   },
   {
    "duration": 469,
    "start_time": "2023-08-20T20:00:57.145Z"
   },
   {
    "duration": 19,
    "start_time": "2023-08-20T20:00:57.616Z"
   },
   {
    "duration": 4,
    "start_time": "2023-08-20T20:00:57.636Z"
   },
   {
    "duration": 52276,
    "start_time": "2023-08-20T20:00:57.641Z"
   },
   {
    "duration": 4,
    "start_time": "2023-08-20T20:01:49.918Z"
   },
   {
    "duration": 41663,
    "start_time": "2023-08-20T20:01:49.924Z"
   },
   {
    "duration": 356,
    "start_time": "2023-08-20T20:02:31.589Z"
   },
   {
    "duration": 11,
    "start_time": "2023-08-20T20:02:31.946Z"
   },
   {
    "duration": 69,
    "start_time": "2023-08-20T20:02:31.958Z"
   },
   {
    "duration": 10,
    "start_time": "2023-08-20T20:02:32.029Z"
   },
   {
    "duration": 8694,
    "start_time": "2023-08-20T20:02:32.041Z"
   },
   {
    "duration": 4,
    "start_time": "2023-08-20T20:02:40.737Z"
   },
   {
    "duration": 7795,
    "start_time": "2023-08-20T20:02:40.743Z"
   },
   {
    "duration": 394,
    "start_time": "2023-08-20T20:02:48.540Z"
   },
   {
    "duration": 11,
    "start_time": "2023-08-20T20:02:48.936Z"
   },
   {
    "duration": 20,
    "start_time": "2023-08-20T20:02:48.949Z"
   },
   {
    "duration": 4,
    "start_time": "2023-08-20T20:02:48.971Z"
   },
   {
    "duration": 4462,
    "start_time": "2023-08-20T20:02:48.976Z"
   },
   {
    "duration": 9780,
    "start_time": "2023-08-20T20:02:53.440Z"
   },
   {
    "duration": 1819,
    "start_time": "2023-08-20T20:03:03.221Z"
   },
   {
    "duration": 8,
    "start_time": "2023-08-20T20:03:05.041Z"
   },
   {
    "duration": 23,
    "start_time": "2023-08-20T20:03:05.050Z"
   },
   {
    "duration": 10427,
    "start_time": "2023-08-20T20:03:05.075Z"
   },
   {
    "duration": 293,
    "start_time": "2023-08-20T20:03:15.504Z"
   },
   {
    "duration": 2,
    "start_time": "2023-08-20T20:03:15.799Z"
   },
   {
    "duration": 13,
    "start_time": "2023-08-20T20:03:15.803Z"
   },
   {
    "duration": 4,
    "start_time": "2023-08-20T20:03:15.821Z"
   },
   {
    "duration": 10,
    "start_time": "2023-08-20T20:03:15.826Z"
   },
   {
    "duration": 26762,
    "start_time": "2023-08-20T20:03:15.837Z"
   },
   {
    "duration": 364,
    "start_time": "2023-08-20T20:03:42.601Z"
   },
   {
    "duration": 8,
    "start_time": "2023-08-20T20:03:42.967Z"
   },
   {
    "duration": 13039,
    "start_time": "2023-08-20T20:03:42.977Z"
   },
   {
    "duration": 17,
    "start_time": "2023-08-20T20:03:56.018Z"
   },
   {
    "duration": 21,
    "start_time": "2023-08-20T20:03:56.037Z"
   },
   {
    "duration": 6122,
    "start_time": "2023-08-20T20:03:56.059Z"
   },
   {
    "duration": 10,
    "start_time": "2023-08-20T20:04:02.183Z"
   },
   {
    "duration": 75,
    "start_time": "2023-08-20T20:04:02.194Z"
   },
   {
    "duration": 398,
    "start_time": "2023-08-20T20:04:02.271Z"
   },
   {
    "duration": 8,
    "start_time": "2023-08-20T20:04:02.671Z"
   },
   {
    "duration": 290,
    "start_time": "2023-08-20T20:04:02.681Z"
   },
   {
    "duration": 462,
    "start_time": "2023-08-20T20:04:02.973Z"
   },
   {
    "duration": 696,
    "start_time": "2023-08-20T20:04:03.438Z"
   },
   {
    "duration": 8,
    "start_time": "2023-08-20T20:04:04.136Z"
   },
   {
    "duration": 1800,
    "start_time": "2023-08-20T20:04:04.146Z"
   },
   {
    "duration": 10424,
    "start_time": "2023-08-20T20:06:04.493Z"
   },
   {
    "duration": 16,
    "start_time": "2023-08-20T20:06:14.919Z"
   },
   {
    "duration": 4,
    "start_time": "2023-08-20T20:06:14.936Z"
   },
   {
    "duration": 105,
    "start_time": "2023-08-20T20:06:14.941Z"
   },
   {
    "duration": 116,
    "start_time": "2023-08-20T20:06:15.048Z"
   },
   {
    "duration": 10,
    "start_time": "2023-08-20T20:06:15.166Z"
   },
   {
    "duration": 19,
    "start_time": "2023-08-20T20:06:15.177Z"
   },
   {
    "duration": 40,
    "start_time": "2023-08-20T20:06:15.198Z"
   },
   {
    "duration": 8,
    "start_time": "2023-08-20T20:06:15.239Z"
   },
   {
    "duration": 34,
    "start_time": "2023-08-20T20:06:15.248Z"
   },
   {
    "duration": 16,
    "start_time": "2023-08-20T20:06:15.283Z"
   },
   {
    "duration": 17,
    "start_time": "2023-08-20T20:06:15.300Z"
   },
   {
    "duration": 4,
    "start_time": "2023-08-20T20:06:15.333Z"
   },
   {
    "duration": 11,
    "start_time": "2023-08-20T20:06:25.965Z"
   },
   {
    "duration": 5,
    "start_time": "2023-08-20T20:07:30.241Z"
   },
   {
    "duration": 6,
    "start_time": "2023-08-20T20:07:43.910Z"
   },
   {
    "duration": 7,
    "start_time": "2023-08-20T20:08:00.509Z"
   },
   {
    "duration": 5,
    "start_time": "2023-08-20T20:08:44.302Z"
   },
   {
    "duration": 10,
    "start_time": "2023-08-20T20:08:49.373Z"
   },
   {
    "duration": 4,
    "start_time": "2023-08-20T20:09:04.409Z"
   },
   {
    "duration": 6,
    "start_time": "2023-08-20T20:09:04.903Z"
   },
   {
    "duration": 7,
    "start_time": "2023-08-20T20:09:16.074Z"
   },
   {
    "duration": 10160,
    "start_time": "2023-08-20T20:09:32.296Z"
   },
   {
    "duration": 2347,
    "start_time": "2023-08-20T20:09:42.458Z"
   },
   {
    "duration": 3,
    "start_time": "2023-08-20T20:09:44.806Z"
   },
   {
    "duration": 150,
    "start_time": "2023-08-20T20:09:44.812Z"
   },
   {
    "duration": 142,
    "start_time": "2023-08-20T20:09:44.964Z"
   },
   {
    "duration": 36,
    "start_time": "2023-08-20T20:09:45.107Z"
   },
   {
    "duration": 54,
    "start_time": "2023-08-20T20:09:45.144Z"
   },
   {
    "duration": 52,
    "start_time": "2023-08-20T20:09:45.200Z"
   },
   {
    "duration": 31,
    "start_time": "2023-08-20T20:09:45.253Z"
   },
   {
    "duration": 54,
    "start_time": "2023-08-20T20:09:45.286Z"
   },
   {
    "duration": 16,
    "start_time": "2023-08-20T20:09:45.342Z"
   },
   {
    "duration": 51,
    "start_time": "2023-08-20T20:09:45.360Z"
   },
   {
    "duration": 38,
    "start_time": "2023-08-20T20:09:45.413Z"
   },
   {
    "duration": 23,
    "start_time": "2023-08-20T20:09:45.452Z"
   },
   {
    "duration": 46,
    "start_time": "2023-08-20T20:09:45.477Z"
   },
   {
    "duration": 53,
    "start_time": "2023-08-20T20:09:45.525Z"
   },
   {
    "duration": 35,
    "start_time": "2023-08-20T20:09:45.580Z"
   },
   {
    "duration": 48,
    "start_time": "2023-08-20T20:09:45.617Z"
   },
   {
    "duration": 45,
    "start_time": "2023-08-20T20:09:45.666Z"
   },
   {
    "duration": 63,
    "start_time": "2023-08-20T20:09:45.712Z"
   },
   {
    "duration": 26,
    "start_time": "2023-08-20T20:09:45.777Z"
   },
   {
    "duration": 39,
    "start_time": "2023-08-20T20:09:45.804Z"
   },
   {
    "duration": 44,
    "start_time": "2023-08-20T20:09:45.845Z"
   },
   {
    "duration": 67,
    "start_time": "2023-08-20T20:09:45.891Z"
   },
   {
    "duration": 30,
    "start_time": "2023-08-20T20:09:45.960Z"
   },
   {
    "duration": 40,
    "start_time": "2023-08-20T20:09:45.991Z"
   },
   {
    "duration": 29,
    "start_time": "2023-08-20T20:09:46.035Z"
   },
   {
    "duration": 28,
    "start_time": "2023-08-20T20:09:46.068Z"
   },
   {
    "duration": 41,
    "start_time": "2023-08-20T20:09:46.097Z"
   },
   {
    "duration": 35,
    "start_time": "2023-08-20T20:09:46.139Z"
   },
   {
    "duration": 91,
    "start_time": "2023-08-20T20:09:46.175Z"
   },
   {
    "duration": 625,
    "start_time": "2023-08-20T20:09:46.268Z"
   },
   {
    "duration": 388,
    "start_time": "2023-08-20T20:09:46.894Z"
   },
   {
    "duration": 609,
    "start_time": "2023-08-20T20:09:47.284Z"
   },
   {
    "duration": 9,
    "start_time": "2023-08-20T20:09:47.895Z"
   },
   {
    "duration": 328,
    "start_time": "2023-08-20T20:09:47.906Z"
   },
   {
    "duration": 4047,
    "start_time": "2023-08-20T20:09:48.235Z"
   },
   {
    "duration": 300,
    "start_time": "2023-08-20T20:09:52.283Z"
   },
   {
    "duration": 2653,
    "start_time": "2023-08-20T20:09:52.584Z"
   },
   {
    "duration": 3,
    "start_time": "2023-08-20T20:09:55.239Z"
   },
   {
    "duration": 11,
    "start_time": "2023-08-20T20:09:55.243Z"
   },
   {
    "duration": 40,
    "start_time": "2023-08-20T20:09:55.255Z"
   },
   {
    "duration": 19,
    "start_time": "2023-08-20T20:09:55.297Z"
   },
   {
    "duration": 3,
    "start_time": "2023-08-20T20:09:55.318Z"
   },
   {
    "duration": 14,
    "start_time": "2023-08-20T20:09:55.323Z"
   },
   {
    "duration": 21,
    "start_time": "2023-08-20T20:09:55.338Z"
   },
   {
    "duration": 21,
    "start_time": "2023-08-20T20:09:55.360Z"
   },
   {
    "duration": 35,
    "start_time": "2023-08-20T20:09:55.383Z"
   },
   {
    "duration": 12,
    "start_time": "2023-08-20T20:09:55.420Z"
   },
   {
    "duration": 13,
    "start_time": "2023-08-20T20:09:55.433Z"
   },
   {
    "duration": 53,
    "start_time": "2023-08-20T20:09:55.448Z"
   },
   {
    "duration": 3,
    "start_time": "2023-08-20T20:09:55.502Z"
   },
   {
    "duration": 22657,
    "start_time": "2023-08-20T20:09:55.506Z"
   },
   {
    "duration": 4,
    "start_time": "2023-08-20T20:10:18.165Z"
   },
   {
    "duration": 17948,
    "start_time": "2023-08-20T20:10:18.170Z"
   },
   {
    "duration": 475,
    "start_time": "2023-08-20T20:10:36.119Z"
   },
   {
    "duration": 11,
    "start_time": "2023-08-20T20:10:36.595Z"
   },
   {
    "duration": 5,
    "start_time": "2023-08-20T20:10:36.607Z"
   },
   {
    "duration": 51896,
    "start_time": "2023-08-20T20:10:36.613Z"
   },
   {
    "duration": 4,
    "start_time": "2023-08-20T20:11:28.510Z"
   },
   {
    "duration": 41225,
    "start_time": "2023-08-20T20:11:28.515Z"
   },
   {
    "duration": 331,
    "start_time": "2023-08-20T20:12:09.742Z"
   },
   {
    "duration": 11,
    "start_time": "2023-08-20T20:12:10.074Z"
   },
   {
    "duration": 38,
    "start_time": "2023-08-20T20:12:10.086Z"
   },
   {
    "duration": 9,
    "start_time": "2023-08-20T20:12:10.125Z"
   },
   {
    "duration": 8308,
    "start_time": "2023-08-20T20:12:10.136Z"
   },
   {
    "duration": 4,
    "start_time": "2023-08-20T20:12:18.445Z"
   },
   {
    "duration": 7589,
    "start_time": "2023-08-20T20:12:18.450Z"
   },
   {
    "duration": 382,
    "start_time": "2023-08-20T20:12:26.041Z"
   },
   {
    "duration": 18,
    "start_time": "2023-08-20T20:12:26.425Z"
   },
   {
    "duration": 10,
    "start_time": "2023-08-20T20:12:26.445Z"
   },
   {
    "duration": 15,
    "start_time": "2023-08-20T20:12:26.457Z"
   },
   {
    "duration": 4566,
    "start_time": "2023-08-20T20:12:26.474Z"
   },
   {
    "duration": 9681,
    "start_time": "2023-08-20T20:12:31.042Z"
   },
   {
    "duration": 1414,
    "start_time": "2023-08-20T20:12:40.725Z"
   },
   {
    "duration": 7,
    "start_time": "2023-08-20T20:12:42.141Z"
   },
   {
    "duration": 10,
    "start_time": "2023-08-20T20:12:42.149Z"
   },
   {
    "duration": 9656,
    "start_time": "2023-08-20T20:12:42.160Z"
   },
   {
    "duration": 297,
    "start_time": "2023-08-20T20:12:51.818Z"
   },
   {
    "duration": 3,
    "start_time": "2023-08-20T20:12:52.116Z"
   },
   {
    "duration": 9,
    "start_time": "2023-08-20T20:12:52.120Z"
   },
   {
    "duration": 13,
    "start_time": "2023-08-20T20:12:52.137Z"
   },
   {
    "duration": 9,
    "start_time": "2023-08-20T20:12:52.151Z"
   },
   {
    "duration": 26873,
    "start_time": "2023-08-20T20:12:52.162Z"
   },
   {
    "duration": 337,
    "start_time": "2023-08-20T20:13:19.037Z"
   },
   {
    "duration": 8,
    "start_time": "2023-08-20T20:13:19.375Z"
   },
   {
    "duration": 14266,
    "start_time": "2023-08-20T20:13:19.384Z"
   },
   {
    "duration": 9,
    "start_time": "2023-08-20T20:13:33.652Z"
   },
   {
    "duration": 10,
    "start_time": "2023-08-20T20:13:33.662Z"
   },
   {
    "duration": 6517,
    "start_time": "2023-08-20T20:13:33.674Z"
   },
   {
    "duration": 12,
    "start_time": "2023-08-20T20:13:40.193Z"
   },
   {
    "duration": 5,
    "start_time": "2023-08-20T20:13:40.207Z"
   },
   {
    "duration": 371,
    "start_time": "2023-08-20T20:13:40.214Z"
   },
   {
    "duration": 8,
    "start_time": "2023-08-20T20:13:40.587Z"
   },
   {
    "duration": 242,
    "start_time": "2023-08-20T20:13:40.596Z"
   },
   {
    "duration": 317,
    "start_time": "2023-08-20T20:13:40.839Z"
   },
   {
    "duration": 567,
    "start_time": "2023-08-20T20:13:41.158Z"
   },
   {
    "duration": 11,
    "start_time": "2023-08-20T20:13:41.726Z"
   },
   {
    "duration": 1589,
    "start_time": "2023-08-20T20:13:41.738Z"
   },
   {
    "duration": 37075,
    "start_time": "2023-08-20T20:16:20.502Z"
   },
   {
    "duration": 2521,
    "start_time": "2023-08-20T20:17:20.498Z"
   },
   {
    "duration": 67,
    "start_time": "2023-08-20T20:18:01.176Z"
   },
   {
    "duration": 3,
    "start_time": "2023-08-20T20:18:09.188Z"
   },
   {
    "duration": 96,
    "start_time": "2023-08-20T20:18:10.041Z"
   },
   {
    "duration": 107,
    "start_time": "2023-08-20T20:18:10.679Z"
   },
   {
    "duration": 14,
    "start_time": "2023-08-20T20:19:13.226Z"
   },
   {
    "duration": 14,
    "start_time": "2023-08-20T20:19:28.477Z"
   },
   {
    "duration": 11,
    "start_time": "2023-08-20T20:20:26.404Z"
   },
   {
    "duration": 16,
    "start_time": "2023-08-20T20:20:27.518Z"
   },
   {
    "duration": 161,
    "start_time": "2023-08-20T20:24:39.497Z"
   },
   {
    "duration": 12,
    "start_time": "2023-08-20T20:24:44.746Z"
   },
   {
    "duration": 3,
    "start_time": "2023-08-20T20:25:07.734Z"
   },
   {
    "duration": 20938,
    "start_time": "2023-08-20T20:25:30.999Z"
   },
   {
    "duration": 15,
    "start_time": "2023-08-20T20:25:51.939Z"
   },
   {
    "duration": 8,
    "start_time": "2023-08-20T20:25:51.956Z"
   },
   {
    "duration": 119,
    "start_time": "2023-08-20T20:25:51.965Z"
   },
   {
    "duration": 107,
    "start_time": "2023-08-20T20:25:52.085Z"
   },
   {
    "duration": 12,
    "start_time": "2023-08-20T20:25:52.194Z"
   },
   {
    "duration": 35,
    "start_time": "2023-08-20T20:25:52.207Z"
   },
   {
    "duration": 22,
    "start_time": "2023-08-20T20:25:52.244Z"
   },
   {
    "duration": 21,
    "start_time": "2023-08-20T20:25:52.267Z"
   },
   {
    "duration": 31,
    "start_time": "2023-08-20T20:25:52.291Z"
   },
   {
    "duration": 25,
    "start_time": "2023-08-20T20:25:52.323Z"
   },
   {
    "duration": 21,
    "start_time": "2023-08-20T20:25:52.350Z"
   },
   {
    "duration": 9,
    "start_time": "2023-08-20T20:25:52.373Z"
   },
   {
    "duration": 9,
    "start_time": "2023-08-20T20:25:52.384Z"
   },
   {
    "duration": 32,
    "start_time": "2023-08-20T20:25:52.395Z"
   },
   {
    "duration": 14,
    "start_time": "2023-08-20T20:25:52.428Z"
   },
   {
    "duration": 19,
    "start_time": "2023-08-20T20:25:52.443Z"
   },
   {
    "duration": 9,
    "start_time": "2023-08-20T20:25:52.463Z"
   },
   {
    "duration": 13,
    "start_time": "2023-08-20T20:25:52.474Z"
   },
   {
    "duration": 30,
    "start_time": "2023-08-20T20:25:52.489Z"
   },
   {
    "duration": 17,
    "start_time": "2023-08-20T20:25:52.521Z"
   },
   {
    "duration": 19,
    "start_time": "2023-08-20T20:25:52.540Z"
   },
   {
    "duration": 17,
    "start_time": "2023-08-20T20:25:52.560Z"
   },
   {
    "duration": 12,
    "start_time": "2023-08-20T20:25:52.579Z"
   },
   {
    "duration": 6,
    "start_time": "2023-08-20T20:25:52.593Z"
   },
   {
    "duration": 19,
    "start_time": "2023-08-20T20:25:52.600Z"
   },
   {
    "duration": 11,
    "start_time": "2023-08-20T20:25:52.621Z"
   },
   {
    "duration": 9,
    "start_time": "2023-08-20T20:25:52.635Z"
   },
   {
    "duration": 7,
    "start_time": "2023-08-20T20:25:52.646Z"
   },
   {
    "duration": 39,
    "start_time": "2023-08-20T20:25:52.655Z"
   },
   {
    "duration": 63,
    "start_time": "2023-08-20T20:25:52.696Z"
   },
   {
    "duration": 690,
    "start_time": "2023-08-20T20:25:52.761Z"
   },
   {
    "duration": 398,
    "start_time": "2023-08-20T20:25:53.452Z"
   },
   {
    "duration": 694,
    "start_time": "2023-08-20T20:25:53.852Z"
   },
   {
    "duration": 12,
    "start_time": "2023-08-20T20:25:54.548Z"
   },
   {
    "duration": 282,
    "start_time": "2023-08-20T20:25:54.561Z"
   },
   {
    "duration": 3933,
    "start_time": "2023-08-20T20:25:54.845Z"
   },
   {
    "duration": 17,
    "start_time": "2023-08-20T20:25:58.779Z"
   },
   {
    "duration": 61958,
    "start_time": "2023-08-20T20:26:22.096Z"
   },
   {
    "duration": 3364,
    "start_time": "2023-08-20T20:27:42.791Z"
   },
   {
    "duration": 3106,
    "start_time": "2023-08-20T20:28:06.314Z"
   },
   {
    "duration": 3176,
    "start_time": "2023-08-20T20:30:18.410Z"
   },
   {
    "duration": 3186,
    "start_time": "2023-08-20T20:30:45.995Z"
   },
   {
    "duration": 3289,
    "start_time": "2023-08-20T20:31:30.177Z"
   },
   {
    "duration": 11,
    "start_time": "2023-08-20T20:38:04.708Z"
   },
   {
    "duration": 2,
    "start_time": "2023-08-20T20:38:05.483Z"
   },
   {
    "duration": 3,
    "start_time": "2023-08-20T20:38:05.884Z"
   },
   {
    "duration": 4,
    "start_time": "2023-08-20T20:38:15.201Z"
   },
   {
    "duration": 3,
    "start_time": "2023-08-20T20:38:48.254Z"
   },
   {
    "duration": 4,
    "start_time": "2023-08-20T20:38:54.385Z"
   },
   {
    "duration": 4,
    "start_time": "2023-08-20T20:38:57.390Z"
   },
   {
    "duration": 4,
    "start_time": "2023-08-20T20:39:02.042Z"
   },
   {
    "duration": 4,
    "start_time": "2023-08-20T20:39:11.374Z"
   },
   {
    "duration": 5,
    "start_time": "2023-08-20T20:39:14.234Z"
   },
   {
    "duration": 12,
    "start_time": "2023-08-20T20:39:18.747Z"
   },
   {
    "duration": 5,
    "start_time": "2023-08-20T20:39:22.541Z"
   },
   {
    "duration": 1069,
    "start_time": "2023-08-20T20:39:53.203Z"
   },
   {
    "duration": 1170,
    "start_time": "2023-08-20T20:40:11.359Z"
   },
   {
    "duration": 3,
    "start_time": "2023-08-20T20:40:25.899Z"
   },
   {
    "duration": 1276,
    "start_time": "2023-08-20T20:40:30.330Z"
   },
   {
    "duration": 24,
    "start_time": "2023-08-20T20:40:47.779Z"
   },
   {
    "duration": 4,
    "start_time": "2023-08-20T20:40:51.290Z"
   },
   {
    "duration": 4,
    "start_time": "2023-08-20T20:40:53.775Z"
   },
   {
    "duration": 3,
    "start_time": "2023-08-20T20:41:07.548Z"
   },
   {
    "duration": 8,
    "start_time": "2023-08-20T20:41:17.166Z"
   },
   {
    "duration": 8,
    "start_time": "2023-08-20T20:41:34.187Z"
   },
   {
    "duration": 8,
    "start_time": "2023-08-20T20:41:47.990Z"
   },
   {
    "duration": 8,
    "start_time": "2023-08-20T20:41:58.047Z"
   },
   {
    "duration": 7,
    "start_time": "2023-08-20T20:42:01.877Z"
   },
   {
    "duration": 2,
    "start_time": "2023-08-20T20:42:15.606Z"
   },
   {
    "duration": 2,
    "start_time": "2023-08-20T20:42:16.477Z"
   },
   {
    "duration": 9,
    "start_time": "2023-08-20T20:42:19.142Z"
   },
   {
    "duration": 19,
    "start_time": "2023-08-20T20:45:40.350Z"
   },
   {
    "duration": 17,
    "start_time": "2023-08-20T20:46:00.817Z"
   },
   {
    "duration": 4,
    "start_time": "2023-08-20T20:46:26.284Z"
   },
   {
    "duration": 13,
    "start_time": "2023-08-20T20:46:45.560Z"
   },
   {
    "duration": 4,
    "start_time": "2023-08-20T20:47:08.185Z"
   },
   {
    "duration": 3,
    "start_time": "2023-08-20T20:47:33.562Z"
   },
   {
    "duration": 2,
    "start_time": "2023-08-20T20:47:41.144Z"
   },
   {
    "duration": 6372,
    "start_time": "2023-08-20T20:48:32.828Z"
   },
   {
    "duration": 339,
    "start_time": "2023-08-20T20:49:16.453Z"
   },
   {
    "duration": 8,
    "start_time": "2023-08-20T20:49:45.254Z"
   },
   {
    "duration": 4,
    "start_time": "2023-08-20T20:50:07.210Z"
   },
   {
    "duration": 9,
    "start_time": "2023-08-20T20:50:08.155Z"
   },
   {
    "duration": 3,
    "start_time": "2023-08-20T20:50:15.962Z"
   },
   {
    "duration": 2,
    "start_time": "2023-08-20T20:50:17.385Z"
   },
   {
    "duration": 7273,
    "start_time": "2023-08-20T20:50:19.608Z"
   },
   {
    "duration": 357,
    "start_time": "2023-08-20T20:50:26.883Z"
   },
   {
    "duration": 1575,
    "start_time": "2023-08-20T20:50:58.147Z"
   },
   {
    "duration": 19,
    "start_time": "2023-08-20T20:51:46.948Z"
   },
   {
    "duration": 6958,
    "start_time": "2023-08-20T20:52:00.549Z"
   },
   {
    "duration": 338,
    "start_time": "2023-08-20T20:52:09.300Z"
   },
   {
    "duration": 76,
    "start_time": "2023-08-20T20:52:55.316Z"
   },
   {
    "duration": 7876,
    "start_time": "2023-08-20T20:53:03.099Z"
   },
   {
    "duration": 360,
    "start_time": "2023-08-20T20:53:10.977Z"
   },
   {
    "duration": 7272,
    "start_time": "2023-08-20T20:53:30.477Z"
   },
   {
    "duration": 333,
    "start_time": "2023-08-20T20:53:37.751Z"
   },
   {
    "duration": 13306,
    "start_time": "2023-08-20T20:54:09.397Z"
   },
   {
    "duration": 2355,
    "start_time": "2023-08-20T20:54:22.706Z"
   },
   {
    "duration": 3,
    "start_time": "2023-08-20T20:54:25.062Z"
   },
   {
    "duration": 186,
    "start_time": "2023-08-20T20:54:25.068Z"
   },
   {
    "duration": 197,
    "start_time": "2023-08-20T20:54:25.256Z"
   },
   {
    "duration": 15,
    "start_time": "2023-08-20T20:54:25.455Z"
   },
   {
    "duration": 7,
    "start_time": "2023-08-20T20:54:25.472Z"
   },
   {
    "duration": 15,
    "start_time": "2023-08-20T20:54:25.480Z"
   },
   {
    "duration": 40,
    "start_time": "2023-08-20T20:54:25.496Z"
   },
   {
    "duration": 23,
    "start_time": "2023-08-20T20:54:25.538Z"
   },
   {
    "duration": 14,
    "start_time": "2023-08-20T20:54:25.563Z"
   },
   {
    "duration": 17,
    "start_time": "2023-08-20T20:54:25.578Z"
   },
   {
    "duration": 7,
    "start_time": "2023-08-20T20:54:25.596Z"
   },
   {
    "duration": 29,
    "start_time": "2023-08-20T20:54:25.605Z"
   },
   {
    "duration": 14,
    "start_time": "2023-08-20T20:54:25.636Z"
   },
   {
    "duration": 17,
    "start_time": "2023-08-20T20:54:25.653Z"
   },
   {
    "duration": 9,
    "start_time": "2023-08-20T20:54:25.672Z"
   },
   {
    "duration": 10,
    "start_time": "2023-08-20T20:54:25.682Z"
   },
   {
    "duration": 3,
    "start_time": "2023-08-20T20:54:25.694Z"
   },
   {
    "duration": 35,
    "start_time": "2023-08-20T20:54:25.699Z"
   },
   {
    "duration": 14,
    "start_time": "2023-08-20T20:54:25.735Z"
   },
   {
    "duration": 21,
    "start_time": "2023-08-20T20:54:25.751Z"
   },
   {
    "duration": 13,
    "start_time": "2023-08-20T20:54:25.774Z"
   },
   {
    "duration": 12,
    "start_time": "2023-08-20T20:54:25.789Z"
   },
   {
    "duration": 4,
    "start_time": "2023-08-20T20:54:25.802Z"
   },
   {
    "duration": 26,
    "start_time": "2023-08-20T20:54:25.808Z"
   },
   {
    "duration": 6,
    "start_time": "2023-08-20T20:54:25.835Z"
   },
   {
    "duration": 4,
    "start_time": "2023-08-20T20:54:25.845Z"
   },
   {
    "duration": 5,
    "start_time": "2023-08-20T20:54:25.851Z"
   },
   {
    "duration": 5,
    "start_time": "2023-08-20T20:54:25.858Z"
   },
   {
    "duration": 70,
    "start_time": "2023-08-20T20:54:25.864Z"
   },
   {
    "duration": 625,
    "start_time": "2023-08-20T20:54:25.935Z"
   },
   {
    "duration": 527,
    "start_time": "2023-08-20T20:54:26.562Z"
   },
   {
    "duration": 695,
    "start_time": "2023-08-20T20:54:27.091Z"
   },
   {
    "duration": 9,
    "start_time": "2023-08-20T20:54:27.787Z"
   },
   {
    "duration": 320,
    "start_time": "2023-08-20T20:54:27.797Z"
   },
   {
    "duration": 3875,
    "start_time": "2023-08-20T20:54:28.119Z"
   },
   {
    "duration": 59628,
    "start_time": "2023-08-20T20:54:31.996Z"
   },
   {
    "duration": 2,
    "start_time": "2023-08-20T20:55:31.626Z"
   },
   {
    "duration": 3193,
    "start_time": "2023-08-20T20:55:31.629Z"
   },
   {
    "duration": 373,
    "start_time": "2023-08-20T20:55:34.824Z"
   },
   {
    "duration": 0,
    "start_time": "2023-08-20T20:55:35.199Z"
   },
   {
    "duration": 0,
    "start_time": "2023-08-20T20:55:35.200Z"
   },
   {
    "duration": 0,
    "start_time": "2023-08-20T20:55:35.201Z"
   },
   {
    "duration": 0,
    "start_time": "2023-08-20T20:55:35.203Z"
   },
   {
    "duration": 0,
    "start_time": "2023-08-20T20:55:35.204Z"
   },
   {
    "duration": 0,
    "start_time": "2023-08-20T20:55:35.205Z"
   },
   {
    "duration": 0,
    "start_time": "2023-08-20T20:55:35.206Z"
   },
   {
    "duration": 0,
    "start_time": "2023-08-20T20:55:35.207Z"
   },
   {
    "duration": 0,
    "start_time": "2023-08-20T20:55:35.208Z"
   },
   {
    "duration": 0,
    "start_time": "2023-08-20T20:55:35.209Z"
   },
   {
    "duration": 0,
    "start_time": "2023-08-20T20:55:35.210Z"
   },
   {
    "duration": 0,
    "start_time": "2023-08-20T20:55:35.211Z"
   },
   {
    "duration": 0,
    "start_time": "2023-08-20T20:55:35.234Z"
   },
   {
    "duration": 0,
    "start_time": "2023-08-20T20:55:35.235Z"
   },
   {
    "duration": 0,
    "start_time": "2023-08-20T20:55:35.236Z"
   },
   {
    "duration": 0,
    "start_time": "2023-08-20T20:55:35.237Z"
   },
   {
    "duration": 0,
    "start_time": "2023-08-20T20:55:35.238Z"
   },
   {
    "duration": 0,
    "start_time": "2023-08-20T20:55:35.239Z"
   },
   {
    "duration": 0,
    "start_time": "2023-08-20T20:55:35.240Z"
   },
   {
    "duration": 0,
    "start_time": "2023-08-20T20:55:35.241Z"
   },
   {
    "duration": 0,
    "start_time": "2023-08-20T20:55:35.242Z"
   },
   {
    "duration": 0,
    "start_time": "2023-08-20T20:55:35.243Z"
   },
   {
    "duration": 0,
    "start_time": "2023-08-20T20:55:35.244Z"
   },
   {
    "duration": 0,
    "start_time": "2023-08-20T20:55:35.245Z"
   },
   {
    "duration": 0,
    "start_time": "2023-08-20T20:55:35.246Z"
   },
   {
    "duration": 0,
    "start_time": "2023-08-20T20:55:35.246Z"
   },
   {
    "duration": 0,
    "start_time": "2023-08-20T20:55:35.247Z"
   },
   {
    "duration": 0,
    "start_time": "2023-08-20T20:55:35.249Z"
   },
   {
    "duration": 0,
    "start_time": "2023-08-20T20:55:35.249Z"
   },
   {
    "duration": 0,
    "start_time": "2023-08-20T20:55:35.250Z"
   },
   {
    "duration": 0,
    "start_time": "2023-08-20T20:55:35.251Z"
   },
   {
    "duration": 0,
    "start_time": "2023-08-20T20:55:35.252Z"
   },
   {
    "duration": 0,
    "start_time": "2023-08-20T20:55:35.253Z"
   },
   {
    "duration": 0,
    "start_time": "2023-08-20T20:55:35.254Z"
   },
   {
    "duration": 0,
    "start_time": "2023-08-20T20:55:35.255Z"
   },
   {
    "duration": 0,
    "start_time": "2023-08-20T20:55:35.257Z"
   },
   {
    "duration": 0,
    "start_time": "2023-08-20T20:55:35.258Z"
   },
   {
    "duration": 0,
    "start_time": "2023-08-20T20:55:35.259Z"
   },
   {
    "duration": 0,
    "start_time": "2023-08-20T20:55:35.260Z"
   },
   {
    "duration": 0,
    "start_time": "2023-08-20T20:55:35.261Z"
   },
   {
    "duration": 0,
    "start_time": "2023-08-20T20:55:35.262Z"
   },
   {
    "duration": 0,
    "start_time": "2023-08-20T20:55:35.263Z"
   },
   {
    "duration": 0,
    "start_time": "2023-08-20T20:55:35.264Z"
   },
   {
    "duration": 0,
    "start_time": "2023-08-20T20:55:35.265Z"
   },
   {
    "duration": 0,
    "start_time": "2023-08-20T20:55:35.267Z"
   },
   {
    "duration": 0,
    "start_time": "2023-08-20T20:55:35.268Z"
   },
   {
    "duration": 0,
    "start_time": "2023-08-20T20:55:35.269Z"
   },
   {
    "duration": 0,
    "start_time": "2023-08-20T20:55:35.270Z"
   },
   {
    "duration": 0,
    "start_time": "2023-08-20T20:55:35.334Z"
   },
   {
    "duration": 0,
    "start_time": "2023-08-20T20:55:35.335Z"
   },
   {
    "duration": 0,
    "start_time": "2023-08-20T20:55:35.336Z"
   },
   {
    "duration": 0,
    "start_time": "2023-08-20T20:55:35.337Z"
   },
   {
    "duration": 0,
    "start_time": "2023-08-20T20:55:35.338Z"
   },
   {
    "duration": 0,
    "start_time": "2023-08-20T20:55:35.339Z"
   },
   {
    "duration": 1,
    "start_time": "2023-08-20T20:55:35.340Z"
   },
   {
    "duration": 0,
    "start_time": "2023-08-20T20:55:35.342Z"
   },
   {
    "duration": 0,
    "start_time": "2023-08-20T20:55:35.343Z"
   },
   {
    "duration": 0,
    "start_time": "2023-08-20T20:55:35.343Z"
   },
   {
    "duration": 0,
    "start_time": "2023-08-20T20:55:35.345Z"
   },
   {
    "duration": 0,
    "start_time": "2023-08-20T20:55:35.346Z"
   },
   {
    "duration": 0,
    "start_time": "2023-08-20T20:55:35.347Z"
   },
   {
    "duration": 220,
    "start_time": "2023-08-20T20:56:32.121Z"
   },
   {
    "duration": 16697,
    "start_time": "2023-08-20T20:56:45.500Z"
   },
   {
    "duration": 217,
    "start_time": "2023-08-20T20:57:02.200Z"
   },
   {
    "duration": 2968,
    "start_time": "2023-08-20T20:57:40.390Z"
   },
   {
    "duration": 227,
    "start_time": "2023-08-20T20:57:43.361Z"
   },
   {
    "duration": 17237,
    "start_time": "2023-08-20T20:57:53.841Z"
   },
   {
    "duration": 2398,
    "start_time": "2023-08-20T20:58:11.081Z"
   },
   {
    "duration": 3,
    "start_time": "2023-08-20T20:58:13.481Z"
   },
   {
    "duration": 95,
    "start_time": "2023-08-20T20:58:13.486Z"
   },
   {
    "duration": 217,
    "start_time": "2023-08-20T20:58:13.583Z"
   },
   {
    "duration": 41,
    "start_time": "2023-08-20T20:58:13.802Z"
   },
   {
    "duration": 8,
    "start_time": "2023-08-20T20:58:13.845Z"
   },
   {
    "duration": 16,
    "start_time": "2023-08-20T20:58:13.855Z"
   },
   {
    "duration": 6,
    "start_time": "2023-08-20T20:58:13.874Z"
   },
   {
    "duration": 55,
    "start_time": "2023-08-20T20:58:13.883Z"
   },
   {
    "duration": 17,
    "start_time": "2023-08-20T20:58:13.940Z"
   },
   {
    "duration": 23,
    "start_time": "2023-08-20T20:58:13.959Z"
   },
   {
    "duration": 4,
    "start_time": "2023-08-20T20:58:13.985Z"
   },
   {
    "duration": 9,
    "start_time": "2023-08-20T20:58:13.991Z"
   },
   {
    "duration": 33,
    "start_time": "2023-08-20T20:58:14.002Z"
   },
   {
    "duration": 6,
    "start_time": "2023-08-20T20:58:14.037Z"
   },
   {
    "duration": 9,
    "start_time": "2023-08-20T20:58:14.045Z"
   },
   {
    "duration": 17,
    "start_time": "2023-08-20T20:58:14.056Z"
   },
   {
    "duration": 5,
    "start_time": "2023-08-20T20:58:14.075Z"
   },
   {
    "duration": 21,
    "start_time": "2023-08-20T20:58:14.081Z"
   },
   {
    "duration": 41,
    "start_time": "2023-08-20T20:58:14.103Z"
   },
   {
    "duration": 14,
    "start_time": "2023-08-20T20:58:14.146Z"
   },
   {
    "duration": 17,
    "start_time": "2023-08-20T20:58:14.161Z"
   },
   {
    "duration": 15,
    "start_time": "2023-08-20T20:58:14.180Z"
   },
   {
    "duration": 5,
    "start_time": "2023-08-20T20:58:14.196Z"
   },
   {
    "duration": 36,
    "start_time": "2023-08-20T20:58:14.202Z"
   },
   {
    "duration": 11,
    "start_time": "2023-08-20T20:58:14.241Z"
   },
   {
    "duration": 7,
    "start_time": "2023-08-20T20:58:14.256Z"
   },
   {
    "duration": 10,
    "start_time": "2023-08-20T20:58:14.264Z"
   },
   {
    "duration": 5,
    "start_time": "2023-08-20T20:58:14.275Z"
   },
   {
    "duration": 69,
    "start_time": "2023-08-20T20:58:14.282Z"
   },
   {
    "duration": 731,
    "start_time": "2023-08-20T20:58:14.353Z"
   },
   {
    "duration": 543,
    "start_time": "2023-08-20T20:58:15.086Z"
   },
   {
    "duration": 661,
    "start_time": "2023-08-20T20:58:15.631Z"
   },
   {
    "duration": 10,
    "start_time": "2023-08-20T20:58:16.295Z"
   },
   {
    "duration": 307,
    "start_time": "2023-08-20T20:58:16.309Z"
   },
   {
    "duration": 4019,
    "start_time": "2023-08-20T20:58:16.617Z"
   },
   {
    "duration": 59068,
    "start_time": "2023-08-20T20:58:20.639Z"
   },
   {
    "duration": 0,
    "start_time": "2023-08-20T20:59:19.710Z"
   },
   {
    "duration": 0,
    "start_time": "2023-08-20T20:59:19.711Z"
   },
   {
    "duration": 0,
    "start_time": "2023-08-20T20:59:19.712Z"
   },
   {
    "duration": 0,
    "start_time": "2023-08-20T20:59:19.714Z"
   },
   {
    "duration": 0,
    "start_time": "2023-08-20T20:59:19.715Z"
   },
   {
    "duration": 0,
    "start_time": "2023-08-20T20:59:19.715Z"
   },
   {
    "duration": 0,
    "start_time": "2023-08-20T20:59:19.717Z"
   },
   {
    "duration": 0,
    "start_time": "2023-08-20T20:59:19.718Z"
   },
   {
    "duration": 0,
    "start_time": "2023-08-20T20:59:19.719Z"
   },
   {
    "duration": 0,
    "start_time": "2023-08-20T20:59:19.720Z"
   },
   {
    "duration": 0,
    "start_time": "2023-08-20T20:59:19.721Z"
   },
   {
    "duration": 0,
    "start_time": "2023-08-20T20:59:19.722Z"
   },
   {
    "duration": 0,
    "start_time": "2023-08-20T20:59:19.724Z"
   },
   {
    "duration": 0,
    "start_time": "2023-08-20T20:59:19.724Z"
   },
   {
    "duration": 0,
    "start_time": "2023-08-20T20:59:19.725Z"
   },
   {
    "duration": 0,
    "start_time": "2023-08-20T20:59:19.726Z"
   },
   {
    "duration": 0,
    "start_time": "2023-08-20T20:59:19.727Z"
   },
   {
    "duration": 0,
    "start_time": "2023-08-20T20:59:19.728Z"
   },
   {
    "duration": 0,
    "start_time": "2023-08-20T20:59:19.729Z"
   },
   {
    "duration": 0,
    "start_time": "2023-08-20T20:59:19.730Z"
   },
   {
    "duration": 0,
    "start_time": "2023-08-20T20:59:19.731Z"
   },
   {
    "duration": 0,
    "start_time": "2023-08-20T20:59:19.732Z"
   },
   {
    "duration": 0,
    "start_time": "2023-08-20T20:59:19.732Z"
   },
   {
    "duration": 0,
    "start_time": "2023-08-20T20:59:19.733Z"
   },
   {
    "duration": 0,
    "start_time": "2023-08-20T20:59:19.734Z"
   },
   {
    "duration": 0,
    "start_time": "2023-08-20T20:59:19.735Z"
   },
   {
    "duration": 0,
    "start_time": "2023-08-20T20:59:19.736Z"
   },
   {
    "duration": 0,
    "start_time": "2023-08-20T20:59:19.737Z"
   },
   {
    "duration": 0,
    "start_time": "2023-08-20T20:59:19.738Z"
   },
   {
    "duration": 0,
    "start_time": "2023-08-20T20:59:19.739Z"
   },
   {
    "duration": 0,
    "start_time": "2023-08-20T20:59:19.740Z"
   },
   {
    "duration": 0,
    "start_time": "2023-08-20T20:59:19.740Z"
   },
   {
    "duration": 0,
    "start_time": "2023-08-20T20:59:19.741Z"
   },
   {
    "duration": 0,
    "start_time": "2023-08-20T20:59:19.742Z"
   },
   {
    "duration": 0,
    "start_time": "2023-08-20T20:59:19.743Z"
   },
   {
    "duration": 0,
    "start_time": "2023-08-20T20:59:19.744Z"
   },
   {
    "duration": 0,
    "start_time": "2023-08-20T20:59:19.745Z"
   },
   {
    "duration": 0,
    "start_time": "2023-08-20T20:59:19.746Z"
   },
   {
    "duration": 0,
    "start_time": "2023-08-20T20:59:19.747Z"
   },
   {
    "duration": 0,
    "start_time": "2023-08-20T20:59:19.748Z"
   },
   {
    "duration": 0,
    "start_time": "2023-08-20T20:59:19.749Z"
   },
   {
    "duration": 0,
    "start_time": "2023-08-20T20:59:19.750Z"
   },
   {
    "duration": 0,
    "start_time": "2023-08-20T20:59:19.751Z"
   },
   {
    "duration": 0,
    "start_time": "2023-08-20T20:59:19.752Z"
   },
   {
    "duration": 0,
    "start_time": "2023-08-20T20:59:19.753Z"
   },
   {
    "duration": 0,
    "start_time": "2023-08-20T20:59:19.754Z"
   },
   {
    "duration": 0,
    "start_time": "2023-08-20T20:59:19.754Z"
   },
   {
    "duration": 0,
    "start_time": "2023-08-20T20:59:19.755Z"
   },
   {
    "duration": 0,
    "start_time": "2023-08-20T20:59:19.756Z"
   },
   {
    "duration": 0,
    "start_time": "2023-08-20T20:59:19.757Z"
   },
   {
    "duration": 0,
    "start_time": "2023-08-20T20:59:19.758Z"
   },
   {
    "duration": 0,
    "start_time": "2023-08-20T20:59:19.759Z"
   },
   {
    "duration": 0,
    "start_time": "2023-08-20T20:59:19.760Z"
   },
   {
    "duration": 0,
    "start_time": "2023-08-20T20:59:19.761Z"
   },
   {
    "duration": 0,
    "start_time": "2023-08-20T20:59:19.762Z"
   },
   {
    "duration": 0,
    "start_time": "2023-08-20T20:59:19.763Z"
   },
   {
    "duration": 0,
    "start_time": "2023-08-20T20:59:19.764Z"
   },
   {
    "duration": 0,
    "start_time": "2023-08-20T20:59:19.765Z"
   },
   {
    "duration": 0,
    "start_time": "2023-08-20T20:59:19.766Z"
   },
   {
    "duration": 0,
    "start_time": "2023-08-20T20:59:19.767Z"
   },
   {
    "duration": 0,
    "start_time": "2023-08-20T20:59:19.768Z"
   },
   {
    "duration": 0,
    "start_time": "2023-08-20T20:59:19.769Z"
   },
   {
    "duration": 0,
    "start_time": "2023-08-20T20:59:19.770Z"
   },
   {
    "duration": 0,
    "start_time": "2023-08-20T20:59:19.771Z"
   },
   {
    "duration": 1,
    "start_time": "2023-08-20T20:59:19.771Z"
   },
   {
    "duration": 868,
    "start_time": "2023-08-20T20:59:28.103Z"
   },
   {
    "duration": 103,
    "start_time": "2023-08-20T20:59:57.667Z"
   },
   {
    "duration": 1153,
    "start_time": "2023-08-20T20:59:59.537Z"
   },
   {
    "duration": 7057,
    "start_time": "2023-08-20T21:00:14.657Z"
   },
   {
    "duration": 14675,
    "start_time": "2023-08-20T21:00:42.538Z"
   },
   {
    "duration": 2229,
    "start_time": "2023-08-20T21:00:57.216Z"
   },
   {
    "duration": 2740,
    "start_time": "2023-08-20T21:00:59.446Z"
   },
   {
    "duration": 3,
    "start_time": "2023-08-20T21:01:02.189Z"
   },
   {
    "duration": 154,
    "start_time": "2023-08-20T21:01:02.193Z"
   },
   {
    "duration": 158,
    "start_time": "2023-08-20T21:01:02.349Z"
   },
   {
    "duration": 17,
    "start_time": "2023-08-20T21:01:02.535Z"
   },
   {
    "duration": 43,
    "start_time": "2023-08-20T21:01:02.554Z"
   },
   {
    "duration": 37,
    "start_time": "2023-08-20T21:01:02.599Z"
   },
   {
    "duration": 16,
    "start_time": "2023-08-20T21:01:02.639Z"
   },
   {
    "duration": 66,
    "start_time": "2023-08-20T21:01:02.658Z"
   },
   {
    "duration": 51,
    "start_time": "2023-08-20T21:01:02.727Z"
   },
   {
    "duration": 40,
    "start_time": "2023-08-20T21:01:02.780Z"
   },
   {
    "duration": 57,
    "start_time": "2023-08-20T21:01:02.823Z"
   },
   {
    "duration": 34,
    "start_time": "2023-08-20T21:01:02.882Z"
   },
   {
    "duration": 53,
    "start_time": "2023-08-20T21:01:02.917Z"
   },
   {
    "duration": 27,
    "start_time": "2023-08-20T21:01:02.971Z"
   },
   {
    "duration": 28,
    "start_time": "2023-08-20T21:01:03.000Z"
   },
   {
    "duration": 22,
    "start_time": "2023-08-20T21:01:03.030Z"
   },
   {
    "duration": 7,
    "start_time": "2023-08-20T21:01:03.054Z"
   },
   {
    "duration": 35,
    "start_time": "2023-08-20T21:01:03.063Z"
   },
   {
    "duration": 24,
    "start_time": "2023-08-20T21:01:03.101Z"
   },
   {
    "duration": 35,
    "start_time": "2023-08-20T21:01:03.127Z"
   },
   {
    "duration": 34,
    "start_time": "2023-08-20T21:01:03.164Z"
   },
   {
    "duration": 21,
    "start_time": "2023-08-20T21:01:03.199Z"
   },
   {
    "duration": 10,
    "start_time": "2023-08-20T21:01:03.221Z"
   },
   {
    "duration": 145,
    "start_time": "2023-08-20T21:01:03.232Z"
   },
   {
    "duration": 5,
    "start_time": "2023-08-20T21:01:03.381Z"
   },
   {
    "duration": 24,
    "start_time": "2023-08-20T21:01:03.388Z"
   },
   {
    "duration": 23,
    "start_time": "2023-08-20T21:01:03.413Z"
   },
   {
    "duration": 10,
    "start_time": "2023-08-20T21:01:03.437Z"
   },
   {
    "duration": 48,
    "start_time": "2023-08-20T21:01:03.448Z"
   },
   {
    "duration": 999,
    "start_time": "2023-08-20T21:01:03.498Z"
   },
   {
    "duration": 738,
    "start_time": "2023-08-20T21:01:04.499Z"
   },
   {
    "duration": 846,
    "start_time": "2023-08-20T21:01:05.238Z"
   },
   {
    "duration": 9,
    "start_time": "2023-08-20T21:01:06.086Z"
   },
   {
    "duration": 387,
    "start_time": "2023-08-20T21:01:06.097Z"
   },
   {
    "duration": 3344,
    "start_time": "2023-08-20T21:01:06.487Z"
   },
   {
    "duration": 61087,
    "start_time": "2023-08-20T21:01:09.834Z"
   },
   {
    "duration": 2,
    "start_time": "2023-08-20T21:02:10.923Z"
   },
   {
    "duration": 2434,
    "start_time": "2023-08-20T21:02:10.927Z"
   },
   {
    "duration": 784,
    "start_time": "2023-08-20T21:02:13.362Z"
   },
   {
    "duration": 3712,
    "start_time": "2023-08-20T21:02:14.149Z"
   },
   {
    "duration": 3,
    "start_time": "2023-08-20T21:02:17.863Z"
   },
   {
    "duration": 14,
    "start_time": "2023-08-20T21:02:17.868Z"
   },
   {
    "duration": 54,
    "start_time": "2023-08-20T21:02:17.884Z"
   },
   {
    "duration": 9,
    "start_time": "2023-08-20T21:02:17.941Z"
   },
   {
    "duration": 4,
    "start_time": "2023-08-20T21:02:17.953Z"
   },
   {
    "duration": 16,
    "start_time": "2023-08-20T21:02:17.959Z"
   },
   {
    "duration": 7,
    "start_time": "2023-08-20T21:02:17.976Z"
   },
   {
    "duration": 21,
    "start_time": "2023-08-20T21:02:17.986Z"
   },
   {
    "duration": 6,
    "start_time": "2023-08-20T21:02:18.009Z"
   },
   {
    "duration": 26,
    "start_time": "2023-08-20T21:02:18.017Z"
   },
   {
    "duration": 16,
    "start_time": "2023-08-20T21:02:18.045Z"
   },
   {
    "duration": 46,
    "start_time": "2023-08-20T21:02:18.063Z"
   },
   {
    "duration": 3,
    "start_time": "2023-08-20T21:02:18.111Z"
   },
   {
    "duration": 22294,
    "start_time": "2023-08-20T21:02:18.115Z"
   },
   {
    "duration": 4,
    "start_time": "2023-08-20T21:02:40.411Z"
   },
   {
    "duration": 18128,
    "start_time": "2023-08-20T21:02:40.417Z"
   },
   {
    "duration": 678,
    "start_time": "2023-08-20T21:02:58.547Z"
   },
   {
    "duration": 185,
    "start_time": "2023-08-20T21:02:59.234Z"
   },
   {
    "duration": 0,
    "start_time": "2023-08-20T21:02:59.421Z"
   },
   {
    "duration": 0,
    "start_time": "2023-08-20T21:02:59.423Z"
   },
   {
    "duration": 0,
    "start_time": "2023-08-20T21:02:59.423Z"
   },
   {
    "duration": 0,
    "start_time": "2023-08-20T21:02:59.424Z"
   },
   {
    "duration": 0,
    "start_time": "2023-08-20T21:02:59.425Z"
   },
   {
    "duration": 0,
    "start_time": "2023-08-20T21:02:59.426Z"
   },
   {
    "duration": 0,
    "start_time": "2023-08-20T21:02:59.427Z"
   },
   {
    "duration": 0,
    "start_time": "2023-08-20T21:02:59.434Z"
   },
   {
    "duration": 0,
    "start_time": "2023-08-20T21:02:59.434Z"
   },
   {
    "duration": 0,
    "start_time": "2023-08-20T21:02:59.435Z"
   },
   {
    "duration": 0,
    "start_time": "2023-08-20T21:02:59.436Z"
   },
   {
    "duration": 0,
    "start_time": "2023-08-20T21:02:59.437Z"
   },
   {
    "duration": 0,
    "start_time": "2023-08-20T21:02:59.438Z"
   },
   {
    "duration": 0,
    "start_time": "2023-08-20T21:02:59.439Z"
   },
   {
    "duration": 0,
    "start_time": "2023-08-20T21:02:59.440Z"
   },
   {
    "duration": 0,
    "start_time": "2023-08-20T21:02:59.441Z"
   },
   {
    "duration": 0,
    "start_time": "2023-08-20T21:02:59.442Z"
   },
   {
    "duration": 0,
    "start_time": "2023-08-20T21:02:59.443Z"
   },
   {
    "duration": 0,
    "start_time": "2023-08-20T21:02:59.444Z"
   },
   {
    "duration": 0,
    "start_time": "2023-08-20T21:02:59.445Z"
   },
   {
    "duration": 0,
    "start_time": "2023-08-20T21:02:59.446Z"
   },
   {
    "duration": 0,
    "start_time": "2023-08-20T21:02:59.447Z"
   },
   {
    "duration": 0,
    "start_time": "2023-08-20T21:02:59.448Z"
   },
   {
    "duration": 0,
    "start_time": "2023-08-20T21:02:59.449Z"
   },
   {
    "duration": 0,
    "start_time": "2023-08-20T21:02:59.450Z"
   },
   {
    "duration": 0,
    "start_time": "2023-08-20T21:02:59.451Z"
   },
   {
    "duration": 0,
    "start_time": "2023-08-20T21:02:59.452Z"
   },
   {
    "duration": 0,
    "start_time": "2023-08-20T21:02:59.453Z"
   },
   {
    "duration": 0,
    "start_time": "2023-08-20T21:02:59.454Z"
   },
   {
    "duration": 0,
    "start_time": "2023-08-20T21:02:59.455Z"
   },
   {
    "duration": 0,
    "start_time": "2023-08-20T21:02:59.456Z"
   },
   {
    "duration": 0,
    "start_time": "2023-08-20T21:02:59.457Z"
   },
   {
    "duration": 0,
    "start_time": "2023-08-20T21:02:59.458Z"
   },
   {
    "duration": 0,
    "start_time": "2023-08-20T21:02:59.459Z"
   },
   {
    "duration": 0,
    "start_time": "2023-08-20T21:02:59.460Z"
   },
   {
    "duration": 0,
    "start_time": "2023-08-20T21:02:59.461Z"
   },
   {
    "duration": 0,
    "start_time": "2023-08-20T21:02:59.462Z"
   },
   {
    "duration": 0,
    "start_time": "2023-08-20T21:02:59.463Z"
   },
   {
    "duration": 0,
    "start_time": "2023-08-20T21:02:59.464Z"
   },
   {
    "duration": 0,
    "start_time": "2023-08-20T21:02:59.465Z"
   },
   {
    "duration": 0,
    "start_time": "2023-08-20T21:02:59.466Z"
   },
   {
    "duration": 0,
    "start_time": "2023-08-20T21:02:59.467Z"
   },
   {
    "duration": 2313,
    "start_time": "2023-08-20T21:03:55.549Z"
   },
   {
    "duration": 866,
    "start_time": "2023-08-20T21:04:02.150Z"
   },
   {
    "duration": 24189,
    "start_time": "2023-08-20T21:04:09.858Z"
   },
   {
    "duration": 2422,
    "start_time": "2023-08-20T21:04:34.051Z"
   },
   {
    "duration": 1880,
    "start_time": "2023-08-20T21:04:36.475Z"
   },
   {
    "duration": 2329,
    "start_time": "2023-08-20T21:04:40.629Z"
   },
   {
    "duration": 2229,
    "start_time": "2023-08-20T21:04:48.848Z"
   },
   {
    "duration": 33,
    "start_time": "2023-08-20T21:05:02.401Z"
   },
   {
    "duration": 2237,
    "start_time": "2023-08-20T21:05:56.784Z"
   },
   {
    "duration": 857,
    "start_time": "2023-08-20T21:06:10.115Z"
   },
   {
    "duration": 862,
    "start_time": "2023-08-20T21:06:14.694Z"
   },
   {
    "duration": 1933,
    "start_time": "2023-08-20T21:06:39.681Z"
   },
   {
    "duration": 1253,
    "start_time": "2023-08-20T21:06:50.786Z"
   },
   {
    "duration": 107078,
    "start_time": "2023-08-20T21:07:45.715Z"
   },
   {
    "duration": 5,
    "start_time": "2023-08-20T21:09:32.796Z"
   },
   {
    "duration": 20568,
    "start_time": "2023-08-20T21:09:46.058Z"
   },
   {
    "duration": 19,
    "start_time": "2023-08-20T21:10:11.247Z"
   },
   {
    "duration": 3,
    "start_time": "2023-08-20T21:10:12.329Z"
   },
   {
    "duration": 91,
    "start_time": "2023-08-20T21:10:12.910Z"
   },
   {
    "duration": 93,
    "start_time": "2023-08-20T21:10:13.074Z"
   },
   {
    "duration": 13,
    "start_time": "2023-08-20T21:10:13.569Z"
   },
   {
    "duration": 8,
    "start_time": "2023-08-20T21:10:14.149Z"
   },
   {
    "duration": 17,
    "start_time": "2023-08-20T21:10:14.474Z"
   },
   {
    "duration": 7,
    "start_time": "2023-08-20T21:10:14.795Z"
   },
   {
    "duration": 21,
    "start_time": "2023-08-20T21:10:14.954Z"
   },
   {
    "duration": 14,
    "start_time": "2023-08-20T21:10:15.113Z"
   },
   {
    "duration": 14,
    "start_time": "2023-08-20T21:10:15.267Z"
   },
   {
    "duration": 5,
    "start_time": "2023-08-20T21:10:15.582Z"
   },
   {
    "duration": 4,
    "start_time": "2023-08-20T21:10:15.910Z"
   },
   {
    "duration": 9,
    "start_time": "2023-08-20T21:10:16.370Z"
   },
   {
    "duration": 5,
    "start_time": "2023-08-20T21:10:16.528Z"
   },
   {
    "duration": 8,
    "start_time": "2023-08-20T21:10:16.978Z"
   },
   {
    "duration": 10,
    "start_time": "2023-08-20T21:10:17.149Z"
   },
   {
    "duration": 5,
    "start_time": "2023-08-20T21:10:17.292Z"
   },
   {
    "duration": 13,
    "start_time": "2023-08-20T21:10:17.461Z"
   },
   {
    "duration": 15,
    "start_time": "2023-08-20T21:10:17.644Z"
   },
   {
    "duration": 10,
    "start_time": "2023-08-20T21:10:17.821Z"
   },
   {
    "duration": 15,
    "start_time": "2023-08-20T21:10:18.186Z"
   },
   {
    "duration": 12,
    "start_time": "2023-08-20T21:10:18.362Z"
   },
   {
    "duration": 4,
    "start_time": "2023-08-20T21:10:18.531Z"
   },
   {
    "duration": 6,
    "start_time": "2023-08-20T21:10:18.703Z"
   },
   {
    "duration": 6,
    "start_time": "2023-08-20T21:10:19.727Z"
   },
   {
    "duration": 4,
    "start_time": "2023-08-20T21:10:20.072Z"
   },
   {
    "duration": 4,
    "start_time": "2023-08-20T21:10:20.245Z"
   },
   {
    "duration": 5,
    "start_time": "2023-08-20T21:10:20.421Z"
   },
   {
    "duration": 41,
    "start_time": "2023-08-20T21:10:20.590Z"
   },
   {
    "duration": 989,
    "start_time": "2023-08-20T21:10:20.977Z"
   },
   {
    "duration": 881,
    "start_time": "2023-08-20T21:10:21.968Z"
   },
   {
    "duration": 837,
    "start_time": "2023-08-20T21:10:22.851Z"
   },
   {
    "duration": 9,
    "start_time": "2023-08-20T21:10:23.691Z"
   },
   {
    "duration": 458,
    "start_time": "2023-08-20T21:10:23.702Z"
   },
   {
    "duration": 3420,
    "start_time": "2023-08-20T21:10:24.162Z"
   },
   {
    "duration": 61137,
    "start_time": "2023-08-20T21:10:27.584Z"
   },
   {
    "duration": 4,
    "start_time": "2023-08-20T21:11:28.722Z"
   },
   {
    "duration": 2376,
    "start_time": "2023-08-20T21:11:28.727Z"
   },
   {
    "duration": 621,
    "start_time": "2023-08-20T21:11:31.107Z"
   },
   {
    "duration": 3695,
    "start_time": "2023-08-20T21:11:31.730Z"
   },
   {
    "duration": 2,
    "start_time": "2023-08-20T21:11:35.427Z"
   },
   {
    "duration": 28,
    "start_time": "2023-08-20T21:11:35.433Z"
   },
   {
    "duration": 45,
    "start_time": "2023-08-20T21:11:35.463Z"
   },
   {
    "duration": 11,
    "start_time": "2023-08-20T21:11:35.510Z"
   },
   {
    "duration": 11,
    "start_time": "2023-08-20T21:11:35.523Z"
   },
   {
    "duration": 29,
    "start_time": "2023-08-20T21:11:35.536Z"
   },
   {
    "duration": 50,
    "start_time": "2023-08-20T21:11:35.567Z"
   },
   {
    "duration": 24,
    "start_time": "2023-08-20T21:11:35.619Z"
   },
   {
    "duration": 39,
    "start_time": "2023-08-20T21:11:35.645Z"
   },
   {
    "duration": 27,
    "start_time": "2023-08-20T21:11:35.686Z"
   },
   {
    "duration": 15,
    "start_time": "2023-08-20T21:11:35.715Z"
   },
   {
    "duration": 53,
    "start_time": "2023-08-20T21:11:35.732Z"
   },
   {
    "duration": 3,
    "start_time": "2023-08-20T21:11:35.787Z"
   },
   {
    "duration": 22028,
    "start_time": "2023-08-20T21:11:35.792Z"
   },
   {
    "duration": 4,
    "start_time": "2023-08-20T21:11:57.822Z"
   },
   {
    "duration": 18132,
    "start_time": "2023-08-20T21:11:57.833Z"
   },
   {
    "duration": 713,
    "start_time": "2023-08-20T21:12:15.969Z"
   },
   {
    "duration": 21,
    "start_time": "2023-08-20T21:12:16.684Z"
   },
   {
    "duration": 105,
    "start_time": "2023-08-20T21:14:39.804Z"
   },
   {
    "duration": 3,
    "start_time": "2023-08-20T21:14:48.797Z"
   },
   {
    "duration": 9,
    "start_time": "2023-08-20T21:14:56.324Z"
   },
   {
    "duration": 4,
    "start_time": "2023-08-20T21:14:59.052Z"
   },
   {
    "duration": 998,
    "start_time": "2023-08-20T21:14:59.221Z"
   },
   {
    "duration": 13,
    "start_time": "2023-08-20T21:15:00.222Z"
   },
   {
    "duration": 0,
    "start_time": "2023-08-20T21:15:00.237Z"
   },
   {
    "duration": 0,
    "start_time": "2023-08-20T21:15:00.240Z"
   },
   {
    "duration": 0,
    "start_time": "2023-08-20T21:15:00.241Z"
   },
   {
    "duration": 11226,
    "start_time": "2023-08-20T21:16:07.259Z"
   },
   {
    "duration": 2467,
    "start_time": "2023-08-20T21:16:18.488Z"
   },
   {
    "duration": 4,
    "start_time": "2023-08-20T21:16:20.958Z"
   },
   {
    "duration": 101,
    "start_time": "2023-08-20T21:16:25.310Z"
   },
   {
    "duration": 157,
    "start_time": "2023-08-20T21:16:25.477Z"
   },
   {
    "duration": 13,
    "start_time": "2023-08-20T21:16:26.006Z"
   },
   {
    "duration": 9,
    "start_time": "2023-08-20T21:16:26.551Z"
   },
   {
    "duration": 21,
    "start_time": "2023-08-20T21:16:27.260Z"
   },
   {
    "duration": 7,
    "start_time": "2023-08-20T21:16:27.604Z"
   },
   {
    "duration": 20,
    "start_time": "2023-08-20T21:16:27.773Z"
   },
   {
    "duration": 14,
    "start_time": "2023-08-20T21:16:27.968Z"
   },
   {
    "duration": 13,
    "start_time": "2023-08-20T21:16:28.471Z"
   },
   {
    "duration": 4,
    "start_time": "2023-08-20T21:16:28.631Z"
   },
   {
    "duration": 4,
    "start_time": "2023-08-20T21:16:28.798Z"
   },
   {
    "duration": 10,
    "start_time": "2023-08-20T21:16:29.050Z"
   },
   {
    "duration": 5,
    "start_time": "2023-08-20T21:16:29.134Z"
   },
   {
    "duration": 11,
    "start_time": "2023-08-20T21:16:29.384Z"
   },
   {
    "duration": 10,
    "start_time": "2023-08-20T21:16:29.468Z"
   },
   {
    "duration": 4,
    "start_time": "2023-08-20T21:16:29.551Z"
   },
   {
    "duration": 12,
    "start_time": "2023-08-20T21:16:29.637Z"
   },
   {
    "duration": 15,
    "start_time": "2023-08-20T21:16:29.720Z"
   },
   {
    "duration": 10,
    "start_time": "2023-08-20T21:16:29.806Z"
   },
   {
    "duration": 15,
    "start_time": "2023-08-20T21:16:29.967Z"
   },
   {
    "duration": 11,
    "start_time": "2023-08-20T21:16:30.053Z"
   },
   {
    "duration": 4,
    "start_time": "2023-08-20T21:16:30.138Z"
   },
   {
    "duration": 7,
    "start_time": "2023-08-20T21:16:30.218Z"
   },
   {
    "duration": 6,
    "start_time": "2023-08-20T21:16:30.719Z"
   },
   {
    "duration": 4,
    "start_time": "2023-08-20T21:16:30.887Z"
   },
   {
    "duration": 4,
    "start_time": "2023-08-20T21:16:30.968Z"
   },
   {
    "duration": 4,
    "start_time": "2023-08-20T21:16:31.051Z"
   },
   {
    "duration": 180,
    "start_time": "2023-08-20T21:16:31.134Z"
   },
   {
    "duration": 990,
    "start_time": "2023-08-20T21:16:31.317Z"
   },
   {
    "duration": 684,
    "start_time": "2023-08-20T21:16:32.309Z"
   },
   {
    "duration": 896,
    "start_time": "2023-08-20T21:16:32.995Z"
   },
   {
    "duration": 9,
    "start_time": "2023-08-20T21:16:33.894Z"
   },
   {
    "duration": 402,
    "start_time": "2023-08-20T21:16:33.904Z"
   },
   {
    "duration": 3301,
    "start_time": "2023-08-20T21:16:34.308Z"
   },
   {
    "duration": 562,
    "start_time": "2023-08-20T21:16:37.611Z"
   },
   {
    "duration": 3452,
    "start_time": "2023-08-20T21:16:38.175Z"
   },
   {
    "duration": 3,
    "start_time": "2023-08-20T21:16:41.634Z"
   },
   {
    "duration": 17,
    "start_time": "2023-08-20T21:16:41.640Z"
   },
   {
    "duration": 34,
    "start_time": "2023-08-20T21:16:41.659Z"
   },
   {
    "duration": 12,
    "start_time": "2023-08-20T21:16:41.695Z"
   },
   {
    "duration": 12,
    "start_time": "2023-08-20T21:16:41.709Z"
   },
   {
    "duration": 18,
    "start_time": "2023-08-20T21:16:41.723Z"
   },
   {
    "duration": 7,
    "start_time": "2023-08-20T21:16:41.743Z"
   },
   {
    "duration": 9,
    "start_time": "2023-08-20T21:16:41.752Z"
   },
   {
    "duration": 9,
    "start_time": "2023-08-20T21:16:41.763Z"
   },
   {
    "duration": 20,
    "start_time": "2023-08-20T21:16:41.773Z"
   },
   {
    "duration": 9,
    "start_time": "2023-08-20T21:16:41.794Z"
   },
   {
    "duration": 64,
    "start_time": "2023-08-20T21:16:41.806Z"
   },
   {
    "duration": 3,
    "start_time": "2023-08-20T21:16:41.872Z"
   },
   {
    "duration": 21991,
    "start_time": "2023-08-20T21:16:41.881Z"
   },
   {
    "duration": 8,
    "start_time": "2023-08-20T21:17:03.875Z"
   },
   {
    "duration": 18858,
    "start_time": "2023-08-20T21:17:03.884Z"
   },
   {
    "duration": 669,
    "start_time": "2023-08-20T21:17:22.744Z"
   },
   {
    "duration": 20,
    "start_time": "2023-08-20T21:17:23.418Z"
   },
   {
    "duration": 3,
    "start_time": "2023-08-20T21:17:23.440Z"
   },
   {
    "duration": 1080,
    "start_time": "2023-08-20T21:17:23.445Z"
   },
   {
    "duration": 13,
    "start_time": "2023-08-20T21:17:24.527Z"
   },
   {
    "duration": 0,
    "start_time": "2023-08-20T21:17:24.541Z"
   },
   {
    "duration": 0,
    "start_time": "2023-08-20T21:17:24.543Z"
   },
   {
    "duration": 5,
    "start_time": "2023-08-20T21:18:26.651Z"
   },
   {
    "duration": 5,
    "start_time": "2023-08-20T21:18:29.789Z"
   },
   {
    "duration": 1368,
    "start_time": "2023-08-20T21:20:13.532Z"
   },
   {
    "duration": 2172,
    "start_time": "2023-08-20T21:20:35.389Z"
   },
   {
    "duration": 14683,
    "start_time": "2023-08-20T21:20:41.662Z"
   },
   {
    "duration": 1176,
    "start_time": "2023-08-20T21:20:59.252Z"
   },
   {
    "duration": 1205,
    "start_time": "2023-08-20T21:21:02.527Z"
   },
   {
    "duration": 8809,
    "start_time": "2023-08-20T21:22:10.726Z"
   },
   {
    "duration": 2303,
    "start_time": "2023-08-20T21:22:19.537Z"
   },
   {
    "duration": 2354,
    "start_time": "2023-08-20T21:22:24.003Z"
   },
   {
    "duration": 11387,
    "start_time": "2023-08-20T21:23:07.057Z"
   },
   {
    "duration": 15,
    "start_time": "2023-08-20T21:23:18.447Z"
   },
   {
    "duration": 2,
    "start_time": "2023-08-20T21:23:18.464Z"
   },
   {
    "duration": 95,
    "start_time": "2023-08-20T21:23:18.468Z"
   },
   {
    "duration": 88,
    "start_time": "2023-08-20T21:23:18.564Z"
   },
   {
    "duration": 12,
    "start_time": "2023-08-20T21:23:18.654Z"
   },
   {
    "duration": 9,
    "start_time": "2023-08-20T21:23:18.667Z"
   },
   {
    "duration": 14,
    "start_time": "2023-08-20T21:23:18.677Z"
   },
   {
    "duration": 6,
    "start_time": "2023-08-20T21:23:18.692Z"
   },
   {
    "duration": 20,
    "start_time": "2023-08-20T21:23:18.735Z"
   },
   {
    "duration": 14,
    "start_time": "2023-08-20T21:23:18.756Z"
   },
   {
    "duration": 19,
    "start_time": "2023-08-20T21:23:18.772Z"
   },
   {
    "duration": 3,
    "start_time": "2023-08-20T21:23:18.802Z"
   },
   {
    "duration": 4,
    "start_time": "2023-08-20T21:23:18.966Z"
   },
   {
    "duration": 9,
    "start_time": "2023-08-20T21:23:19.359Z"
   },
   {
    "duration": 5,
    "start_time": "2023-08-20T21:23:19.370Z"
   },
   {
    "duration": 8,
    "start_time": "2023-08-20T21:23:20.334Z"
   },
   {
    "duration": 34,
    "start_time": "2023-08-20T21:23:20.344Z"
   },
   {
    "duration": 16,
    "start_time": "2023-08-20T21:23:20.381Z"
   },
   {
    "duration": 50,
    "start_time": "2023-08-20T21:23:20.399Z"
   },
   {
    "duration": 43,
    "start_time": "2023-08-20T21:23:20.451Z"
   },
   {
    "duration": 41,
    "start_time": "2023-08-20T21:23:20.496Z"
   },
   {
    "duration": 55,
    "start_time": "2023-08-20T21:23:20.539Z"
   },
   {
    "duration": 29,
    "start_time": "2023-08-20T21:23:20.596Z"
   },
   {
    "duration": 42,
    "start_time": "2023-08-20T21:23:20.627Z"
   },
   {
    "duration": 39,
    "start_time": "2023-08-20T21:23:20.670Z"
   },
   {
    "duration": 7,
    "start_time": "2023-08-20T21:23:20.884Z"
   },
   {
    "duration": 5,
    "start_time": "2023-08-20T21:23:21.051Z"
   },
   {
    "duration": 4,
    "start_time": "2023-08-20T21:23:21.135Z"
   },
   {
    "duration": 4,
    "start_time": "2023-08-20T21:23:21.460Z"
   },
   {
    "duration": 39,
    "start_time": "2023-08-20T21:23:21.681Z"
   },
   {
    "duration": 980,
    "start_time": "2023-08-20T21:23:22.012Z"
   },
   {
    "duration": 653,
    "start_time": "2023-08-20T21:23:22.994Z"
   },
   {
    "duration": 940,
    "start_time": "2023-08-20T21:23:23.650Z"
   },
   {
    "duration": 10,
    "start_time": "2023-08-20T21:23:24.591Z"
   },
   {
    "duration": 655,
    "start_time": "2023-08-20T21:23:24.602Z"
   },
   {
    "duration": 3528,
    "start_time": "2023-08-20T21:23:25.259Z"
   },
   {
    "duration": 576,
    "start_time": "2023-08-20T21:23:28.789Z"
   },
   {
    "duration": 3307,
    "start_time": "2023-08-20T21:23:29.367Z"
   },
   {
    "duration": 3,
    "start_time": "2023-08-20T21:23:32.677Z"
   },
   {
    "duration": 18,
    "start_time": "2023-08-20T21:23:32.682Z"
   },
   {
    "duration": 53,
    "start_time": "2023-08-20T21:23:32.702Z"
   },
   {
    "duration": 8,
    "start_time": "2023-08-20T21:23:32.757Z"
   },
   {
    "duration": 19,
    "start_time": "2023-08-20T21:23:32.767Z"
   },
   {
    "duration": 8,
    "start_time": "2023-08-20T21:23:32.788Z"
   },
   {
    "duration": 6,
    "start_time": "2023-08-20T21:23:32.798Z"
   },
   {
    "duration": 9,
    "start_time": "2023-08-20T21:23:32.806Z"
   },
   {
    "duration": 24,
    "start_time": "2023-08-20T21:23:32.817Z"
   },
   {
    "duration": 5,
    "start_time": "2023-08-20T21:23:32.843Z"
   },
   {
    "duration": 9,
    "start_time": "2023-08-20T21:23:32.849Z"
   },
   {
    "duration": 45,
    "start_time": "2023-08-20T21:23:32.859Z"
   },
   {
    "duration": 3,
    "start_time": "2023-08-20T21:23:32.907Z"
   },
   {
    "duration": 21456,
    "start_time": "2023-08-20T21:23:32.911Z"
   },
   {
    "duration": 5,
    "start_time": "2023-08-20T21:23:54.369Z"
   },
   {
    "duration": 17768,
    "start_time": "2023-08-20T21:23:54.375Z"
   },
   {
    "duration": 858,
    "start_time": "2023-08-20T21:24:12.145Z"
   },
   {
    "duration": 9,
    "start_time": "2023-08-20T21:24:13.006Z"
   },
   {
    "duration": 2755,
    "start_time": "2023-08-20T21:26:38.902Z"
   },
   {
    "duration": 9185,
    "start_time": "2023-08-20T21:26:47.374Z"
   },
   {
    "duration": 16,
    "start_time": "2023-08-20T21:27:00.991Z"
   },
   {
    "duration": 914,
    "start_time": "2023-08-20T21:27:05.713Z"
   },
   {
    "duration": 3092,
    "start_time": "2023-08-20T21:27:46.983Z"
   },
   {
    "duration": 15,
    "start_time": "2023-08-20T21:27:57.442Z"
   },
   {
    "duration": 889,
    "start_time": "2023-08-20T21:28:01.604Z"
   },
   {
    "duration": 1274,
    "start_time": "2023-08-20T21:29:35.456Z"
   },
   {
    "duration": 31,
    "start_time": "2023-08-20T21:29:54.823Z"
   },
   {
    "duration": 3,
    "start_time": "2023-08-20T21:29:55.559Z"
   },
   {
    "duration": 8707,
    "start_time": "2023-08-20T21:29:56.438Z"
   },
   {
    "duration": 3,
    "start_time": "2023-08-20T21:30:05.147Z"
   },
   {
    "duration": 6883,
    "start_time": "2023-08-20T21:30:05.152Z"
   },
   {
    "duration": 812,
    "start_time": "2023-08-20T21:30:12.038Z"
   },
   {
    "duration": 10,
    "start_time": "2023-08-20T21:30:12.852Z"
   },
   {
    "duration": 929,
    "start_time": "2023-08-20T21:31:03.031Z"
   },
   {
    "duration": 2828,
    "start_time": "2023-08-20T21:31:46.671Z"
   },
   {
    "duration": 549312,
    "start_time": "2023-08-20T21:33:50.727Z"
   },
   {
    "duration": 28,
    "start_time": "2023-08-20T21:43:00.042Z"
   },
   {
    "duration": 3969,
    "start_time": "2023-08-20T21:43:00.072Z"
   },
   {
    "duration": 18327,
    "start_time": "2023-08-20T21:43:52.982Z"
   },
   {
    "duration": 1003,
    "start_time": "2023-08-20T21:44:14.256Z"
   },
   {
    "duration": 14879,
    "start_time": "2023-08-20T21:45:30.553Z"
   },
   {
    "duration": 10760,
    "start_time": "2023-08-20T21:45:45.434Z"
   },
   {
    "duration": 3,
    "start_time": "2023-08-20T21:45:56.195Z"
   },
   {
    "duration": 268,
    "start_time": "2023-08-20T21:45:56.200Z"
   },
   {
    "duration": 166,
    "start_time": "2023-08-20T21:45:56.470Z"
   },
   {
    "duration": 12,
    "start_time": "2023-08-20T21:45:56.638Z"
   },
   {
    "duration": 7,
    "start_time": "2023-08-20T21:45:56.651Z"
   },
   {
    "duration": 14,
    "start_time": "2023-08-20T21:45:56.659Z"
   },
   {
    "duration": 6,
    "start_time": "2023-08-20T21:45:56.675Z"
   },
   {
    "duration": 55,
    "start_time": "2023-08-20T21:45:56.684Z"
   },
   {
    "duration": 14,
    "start_time": "2023-08-20T21:45:56.740Z"
   },
   {
    "duration": 26,
    "start_time": "2023-08-20T21:45:56.756Z"
   },
   {
    "duration": 4,
    "start_time": "2023-08-20T21:45:56.783Z"
   },
   {
    "duration": 9,
    "start_time": "2023-08-20T21:45:56.788Z"
   },
   {
    "duration": 21,
    "start_time": "2023-08-20T21:45:56.798Z"
   },
   {
    "duration": 6,
    "start_time": "2023-08-20T21:45:56.821Z"
   },
   {
    "duration": 15,
    "start_time": "2023-08-20T21:45:56.828Z"
   },
   {
    "duration": 23,
    "start_time": "2023-08-20T21:45:56.844Z"
   },
   {
    "duration": 4,
    "start_time": "2023-08-20T21:45:56.868Z"
   },
   {
    "duration": 13,
    "start_time": "2023-08-20T21:45:56.873Z"
   },
   {
    "duration": 14,
    "start_time": "2023-08-20T21:45:56.888Z"
   },
   {
    "duration": 10,
    "start_time": "2023-08-20T21:45:56.904Z"
   },
   {
    "duration": 22,
    "start_time": "2023-08-20T21:45:56.916Z"
   },
   {
    "duration": 10,
    "start_time": "2023-08-20T21:45:56.941Z"
   },
   {
    "duration": 8,
    "start_time": "2023-08-20T21:45:56.953Z"
   },
   {
    "duration": 17,
    "start_time": "2023-08-20T21:45:56.962Z"
   },
   {
    "duration": 6,
    "start_time": "2023-08-20T21:45:56.981Z"
   },
   {
    "duration": 13,
    "start_time": "2023-08-20T21:45:56.991Z"
   },
   {
    "duration": 19,
    "start_time": "2023-08-20T21:45:57.006Z"
   },
   {
    "duration": 7,
    "start_time": "2023-08-20T21:45:57.027Z"
   },
   {
    "duration": 49,
    "start_time": "2023-08-20T21:45:57.035Z"
   },
   {
    "duration": 1479,
    "start_time": "2023-08-20T21:45:57.086Z"
   },
   {
    "duration": 618,
    "start_time": "2023-08-20T21:45:58.567Z"
   },
   {
    "duration": 799,
    "start_time": "2023-08-20T21:45:59.188Z"
   },
   {
    "duration": 10,
    "start_time": "2023-08-20T21:45:59.989Z"
   },
   {
    "duration": 386,
    "start_time": "2023-08-20T21:46:00.001Z"
   },
   {
    "duration": 3228,
    "start_time": "2023-08-20T21:46:00.389Z"
   },
   {
    "duration": 718,
    "start_time": "2023-08-20T21:46:03.619Z"
   },
   {
    "duration": 2823,
    "start_time": "2023-08-20T21:46:04.339Z"
   },
   {
    "duration": 2,
    "start_time": "2023-08-20T21:46:07.164Z"
   },
   {
    "duration": 18,
    "start_time": "2023-08-20T21:46:07.168Z"
   },
   {
    "duration": 50,
    "start_time": "2023-08-20T21:46:07.188Z"
   },
   {
    "duration": 7,
    "start_time": "2023-08-20T21:46:07.239Z"
   },
   {
    "duration": 17,
    "start_time": "2023-08-20T21:46:07.247Z"
   },
   {
    "duration": 12,
    "start_time": "2023-08-20T21:46:07.265Z"
   },
   {
    "duration": 6,
    "start_time": "2023-08-20T21:46:07.279Z"
   },
   {
    "duration": 22,
    "start_time": "2023-08-20T21:46:07.287Z"
   },
   {
    "duration": 8,
    "start_time": "2023-08-20T21:46:07.310Z"
   },
   {
    "duration": 18,
    "start_time": "2023-08-20T21:46:07.320Z"
   },
   {
    "duration": 16,
    "start_time": "2023-08-20T21:46:07.339Z"
   },
   {
    "duration": 53,
    "start_time": "2023-08-20T21:46:07.356Z"
   },
   {
    "duration": 2,
    "start_time": "2023-08-20T21:46:07.411Z"
   },
   {
    "duration": 21907,
    "start_time": "2023-08-20T21:46:07.415Z"
   },
   {
    "duration": 4,
    "start_time": "2023-08-20T21:46:29.324Z"
   },
   {
    "duration": 18017,
    "start_time": "2023-08-20T21:46:29.334Z"
   },
   {
    "duration": 636,
    "start_time": "2023-08-20T21:46:47.353Z"
   },
   {
    "duration": 9,
    "start_time": "2023-08-20T21:46:47.991Z"
   },
   {
    "duration": 5,
    "start_time": "2023-08-20T21:46:48.002Z"
   },
   {
    "duration": 53546,
    "start_time": "2023-08-20T21:46:48.009Z"
   },
   {
    "duration": 4,
    "start_time": "2023-08-20T21:47:41.557Z"
   },
   {
    "duration": 42713,
    "start_time": "2023-08-20T21:47:41.563Z"
   },
   {
    "duration": 694,
    "start_time": "2023-08-20T21:48:24.278Z"
   },
   {
    "duration": 9,
    "start_time": "2023-08-20T21:48:24.974Z"
   },
   {
    "duration": 51,
    "start_time": "2023-08-20T21:48:24.985Z"
   },
   {
    "duration": 4,
    "start_time": "2023-08-20T21:48:25.038Z"
   },
   {
    "duration": 1355,
    "start_time": "2023-08-20T21:48:25.044Z"
   },
   {
    "duration": 4,
    "start_time": "2023-08-20T21:48:26.401Z"
   },
   {
    "duration": 1196,
    "start_time": "2023-08-20T21:48:26.406Z"
   },
   {
    "duration": 682,
    "start_time": "2023-08-20T21:48:27.603Z"
   },
   {
    "duration": 10,
    "start_time": "2023-08-20T21:48:28.287Z"
   },
   {
    "duration": 6,
    "start_time": "2023-08-20T21:48:28.299Z"
   },
   {
    "duration": 10,
    "start_time": "2023-08-20T21:48:28.307Z"
   },
   {
    "duration": 4764,
    "start_time": "2023-08-20T21:48:28.319Z"
   },
   {
    "duration": 0,
    "start_time": "2023-08-20T21:48:33.085Z"
   },
   {
    "duration": 0,
    "start_time": "2023-08-20T21:48:33.086Z"
   },
   {
    "duration": 0,
    "start_time": "2023-08-20T21:48:33.087Z"
   },
   {
    "duration": 0,
    "start_time": "2023-08-20T21:48:33.088Z"
   },
   {
    "duration": 0,
    "start_time": "2023-08-20T21:48:33.090Z"
   },
   {
    "duration": 0,
    "start_time": "2023-08-20T21:48:33.091Z"
   },
   {
    "duration": 0,
    "start_time": "2023-08-20T21:48:33.092Z"
   },
   {
    "duration": 0,
    "start_time": "2023-08-20T21:48:33.093Z"
   },
   {
    "duration": 0,
    "start_time": "2023-08-20T21:48:33.094Z"
   },
   {
    "duration": 0,
    "start_time": "2023-08-20T21:48:33.095Z"
   },
   {
    "duration": 0,
    "start_time": "2023-08-20T21:48:33.096Z"
   },
   {
    "duration": 0,
    "start_time": "2023-08-20T21:48:33.097Z"
   },
   {
    "duration": 0,
    "start_time": "2023-08-20T21:48:33.098Z"
   },
   {
    "duration": 0,
    "start_time": "2023-08-20T21:48:33.099Z"
   },
   {
    "duration": 0,
    "start_time": "2023-08-20T21:48:33.100Z"
   },
   {
    "duration": 0,
    "start_time": "2023-08-20T21:48:33.101Z"
   },
   {
    "duration": 0,
    "start_time": "2023-08-20T21:48:33.102Z"
   },
   {
    "duration": 0,
    "start_time": "2023-08-20T21:48:33.103Z"
   },
   {
    "duration": 0,
    "start_time": "2023-08-20T21:48:33.104Z"
   },
   {
    "duration": 0,
    "start_time": "2023-08-20T21:48:33.134Z"
   },
   {
    "duration": 0,
    "start_time": "2023-08-20T21:48:33.135Z"
   },
   {
    "duration": 0,
    "start_time": "2023-08-20T21:48:33.136Z"
   },
   {
    "duration": 0,
    "start_time": "2023-08-20T21:48:33.137Z"
   },
   {
    "duration": 0,
    "start_time": "2023-08-20T21:48:33.138Z"
   },
   {
    "duration": 0,
    "start_time": "2023-08-20T21:48:33.140Z"
   },
   {
    "duration": 0,
    "start_time": "2023-08-20T21:48:33.141Z"
   },
   {
    "duration": 4,
    "start_time": "2023-08-20T21:51:18.479Z"
   },
   {
    "duration": 4,
    "start_time": "2023-08-20T21:51:20.278Z"
   },
   {
    "duration": 4428,
    "start_time": "2023-08-20T21:51:20.522Z"
   },
   {
    "duration": 10445,
    "start_time": "2023-08-20T21:51:24.952Z"
   },
   {
    "duration": 291,
    "start_time": "2023-08-20T21:51:35.398Z"
   },
   {
    "duration": 7,
    "start_time": "2023-08-20T21:51:35.691Z"
   },
   {
    "duration": 31,
    "start_time": "2023-08-20T21:51:35.700Z"
   },
   {
    "duration": 9937,
    "start_time": "2023-08-20T21:51:35.733Z"
   },
   {
    "duration": 535,
    "start_time": "2023-08-20T21:51:45.672Z"
   },
   {
    "duration": 3,
    "start_time": "2023-08-20T21:51:46.208Z"
   },
   {
    "duration": 21,
    "start_time": "2023-08-20T21:51:46.212Z"
   },
   {
    "duration": 15,
    "start_time": "2023-08-20T21:51:46.235Z"
   },
   {
    "duration": 15,
    "start_time": "2023-08-20T21:51:46.252Z"
   },
   {
    "duration": 27847,
    "start_time": "2023-08-20T21:51:46.269Z"
   },
   {
    "duration": 671,
    "start_time": "2023-08-20T21:52:14.118Z"
   },
   {
    "duration": 8,
    "start_time": "2023-08-20T21:52:14.791Z"
   },
   {
    "duration": 13729,
    "start_time": "2023-08-20T21:52:14.800Z"
   },
   {
    "duration": 10,
    "start_time": "2023-08-20T21:52:28.530Z"
   },
   {
    "duration": 17,
    "start_time": "2023-08-20T21:52:28.541Z"
   },
   {
    "duration": 6402,
    "start_time": "2023-08-20T21:52:28.560Z"
   },
   {
    "duration": 12,
    "start_time": "2023-08-20T21:52:34.963Z"
   },
   {
    "duration": 3,
    "start_time": "2023-08-20T21:52:34.977Z"
   },
   {
    "duration": 701,
    "start_time": "2023-08-20T21:52:34.982Z"
   },
   {
    "duration": 8,
    "start_time": "2023-08-20T21:52:35.685Z"
   },
   {
    "duration": 430,
    "start_time": "2023-08-20T21:52:35.695Z"
   },
   {
    "duration": 322,
    "start_time": "2023-08-20T21:52:36.126Z"
   },
   {
    "duration": 885,
    "start_time": "2023-08-20T21:52:36.449Z"
   },
   {
    "duration": 5,
    "start_time": "2023-08-20T21:52:37.336Z"
   },
   {
    "duration": 2262,
    "start_time": "2023-08-20T21:52:37.343Z"
   },
   {
    "duration": 82,
    "start_time": "2023-08-20T21:54:28.487Z"
   },
   {
    "duration": 3,
    "start_time": "2023-08-20T21:54:32.196Z"
   },
   {
    "duration": 1250,
    "start_time": "2023-08-20T21:54:32.818Z"
   },
   {
    "duration": 4,
    "start_time": "2023-08-20T21:54:36.324Z"
   },
   {
    "duration": 1213,
    "start_time": "2023-08-20T21:54:38.742Z"
   },
   {
    "duration": 4,
    "start_time": "2023-08-20T21:54:43.281Z"
   },
   {
    "duration": 1138,
    "start_time": "2023-08-20T21:54:43.706Z"
   },
   {
    "duration": 8,
    "start_time": "2023-08-20T21:57:41.684Z"
   },
   {
    "duration": 634,
    "start_time": "2023-08-20T21:57:45.043Z"
   },
   {
    "duration": 644,
    "start_time": "2023-08-20T21:57:55.724Z"
   },
   {
    "duration": 7,
    "start_time": "2023-08-20T21:59:18.097Z"
   },
   {
    "duration": 15063,
    "start_time": "2023-08-20T21:59:51.996Z"
   },
   {
    "duration": 3719,
    "start_time": "2023-08-20T22:00:07.061Z"
   },
   {
    "duration": 3,
    "start_time": "2023-08-20T22:00:10.782Z"
   },
   {
    "duration": 96,
    "start_time": "2023-08-20T22:00:10.787Z"
   },
   {
    "duration": 150,
    "start_time": "2023-08-20T22:00:10.885Z"
   },
   {
    "duration": 12,
    "start_time": "2023-08-20T22:00:11.037Z"
   },
   {
    "duration": 7,
    "start_time": "2023-08-20T22:00:11.051Z"
   },
   {
    "duration": 31,
    "start_time": "2023-08-20T22:00:11.059Z"
   },
   {
    "duration": 10,
    "start_time": "2023-08-20T22:00:11.092Z"
   },
   {
    "duration": 30,
    "start_time": "2023-08-20T22:00:11.104Z"
   },
   {
    "duration": 14,
    "start_time": "2023-08-20T22:00:11.136Z"
   },
   {
    "duration": 43,
    "start_time": "2023-08-20T22:00:11.152Z"
   },
   {
    "duration": 31,
    "start_time": "2023-08-20T22:00:11.196Z"
   },
   {
    "duration": 11,
    "start_time": "2023-08-20T22:00:11.228Z"
   },
   {
    "duration": 26,
    "start_time": "2023-08-20T22:00:11.241Z"
   },
   {
    "duration": 29,
    "start_time": "2023-08-20T22:00:11.269Z"
   },
   {
    "duration": 32,
    "start_time": "2023-08-20T22:00:11.299Z"
   },
   {
    "duration": 28,
    "start_time": "2023-08-20T22:00:11.333Z"
   },
   {
    "duration": 10,
    "start_time": "2023-08-20T22:00:11.363Z"
   },
   {
    "duration": 20,
    "start_time": "2023-08-20T22:00:11.375Z"
   },
   {
    "duration": 42,
    "start_time": "2023-08-20T22:00:11.396Z"
   },
   {
    "duration": 24,
    "start_time": "2023-08-20T22:00:11.440Z"
   },
   {
    "duration": 19,
    "start_time": "2023-08-20T22:00:11.466Z"
   },
   {
    "duration": 26,
    "start_time": "2023-08-20T22:00:11.487Z"
   },
   {
    "duration": 13,
    "start_time": "2023-08-20T22:00:11.515Z"
   },
   {
    "duration": 25,
    "start_time": "2023-08-20T22:00:11.530Z"
   },
   {
    "duration": 26,
    "start_time": "2023-08-20T22:00:11.556Z"
   },
   {
    "duration": 25,
    "start_time": "2023-08-20T22:00:11.586Z"
   },
   {
    "duration": 5,
    "start_time": "2023-08-20T22:00:11.613Z"
   },
   {
    "duration": 19,
    "start_time": "2023-08-20T22:00:11.619Z"
   },
   {
    "duration": 63,
    "start_time": "2023-08-20T22:00:11.640Z"
   },
   {
    "duration": 1475,
    "start_time": "2023-08-20T22:00:11.705Z"
   },
   {
    "duration": 622,
    "start_time": "2023-08-20T22:00:13.182Z"
   },
   {
    "duration": 815,
    "start_time": "2023-08-20T22:00:13.806Z"
   },
   {
    "duration": 15,
    "start_time": "2023-08-20T22:00:14.623Z"
   },
   {
    "duration": 373,
    "start_time": "2023-08-20T22:00:14.640Z"
   },
   {
    "duration": 3098,
    "start_time": "2023-08-20T22:00:15.015Z"
   },
   {
    "duration": 57481,
    "start_time": "2023-08-20T22:00:18.114Z"
   },
   {
    "duration": 2302,
    "start_time": "2023-08-20T22:01:15.596Z"
   },
   {
    "duration": 527,
    "start_time": "2023-08-20T22:01:17.899Z"
   },
   {
    "duration": 3115,
    "start_time": "2023-08-20T22:01:18.428Z"
   },
   {
    "duration": 3,
    "start_time": "2023-08-20T22:01:21.544Z"
   },
   {
    "duration": 14,
    "start_time": "2023-08-20T22:01:21.549Z"
   },
   {
    "duration": 53,
    "start_time": "2023-08-20T22:01:21.564Z"
   },
   {
    "duration": 7,
    "start_time": "2023-08-20T22:01:21.619Z"
   },
   {
    "duration": 14,
    "start_time": "2023-08-20T22:01:21.627Z"
   },
   {
    "duration": 17,
    "start_time": "2023-08-20T22:01:21.643Z"
   },
   {
    "duration": 27,
    "start_time": "2023-08-20T22:01:21.662Z"
   },
   {
    "duration": 27,
    "start_time": "2023-08-20T22:01:21.691Z"
   },
   {
    "duration": 37,
    "start_time": "2023-08-20T22:01:21.720Z"
   },
   {
    "duration": 19,
    "start_time": "2023-08-20T22:01:21.759Z"
   },
   {
    "duration": 22,
    "start_time": "2023-08-20T22:01:21.780Z"
   },
   {
    "duration": 51,
    "start_time": "2023-08-20T22:01:21.803Z"
   },
   {
    "duration": 3,
    "start_time": "2023-08-20T22:01:21.856Z"
   },
   {
    "duration": 21945,
    "start_time": "2023-08-20T22:01:21.860Z"
   },
   {
    "duration": 4,
    "start_time": "2023-08-20T22:01:43.807Z"
   },
   {
    "duration": 17653,
    "start_time": "2023-08-20T22:01:43.812Z"
   },
   {
    "duration": 631,
    "start_time": "2023-08-20T22:02:01.467Z"
   },
   {
    "duration": 9,
    "start_time": "2023-08-20T22:02:02.099Z"
   },
   {
    "duration": 89,
    "start_time": "2023-08-20T22:02:02.109Z"
   },
   {
    "duration": 54376,
    "start_time": "2023-08-20T22:02:02.200Z"
   },
   {
    "duration": 4,
    "start_time": "2023-08-20T22:02:56.578Z"
   },
   {
    "duration": 44005,
    "start_time": "2023-08-20T22:02:56.584Z"
   },
   {
    "duration": 682,
    "start_time": "2023-08-20T22:03:40.591Z"
   },
   {
    "duration": 10,
    "start_time": "2023-08-20T22:03:41.275Z"
   },
   {
    "duration": 33,
    "start_time": "2023-08-20T22:03:41.286Z"
   },
   {
    "duration": 3,
    "start_time": "2023-08-20T22:03:41.333Z"
   },
   {
    "duration": 1220,
    "start_time": "2023-08-20T22:03:41.337Z"
   },
   {
    "duration": 4,
    "start_time": "2023-08-20T22:03:42.558Z"
   },
   {
    "duration": 1104,
    "start_time": "2023-08-20T22:03:42.563Z"
   },
   {
    "duration": 683,
    "start_time": "2023-08-20T22:03:43.669Z"
   },
   {
    "duration": 10,
    "start_time": "2023-08-20T22:03:44.354Z"
   },
   {
    "duration": 5,
    "start_time": "2023-08-20T22:03:44.365Z"
   },
   {
    "duration": 8,
    "start_time": "2023-08-20T22:03:44.371Z"
   },
   {
    "duration": 4485,
    "start_time": "2023-08-20T22:03:44.381Z"
   },
   {
    "duration": 10039,
    "start_time": "2023-08-20T22:03:48.868Z"
   },
   {
    "duration": 270,
    "start_time": "2023-08-20T22:03:58.909Z"
   },
   {
    "duration": 7,
    "start_time": "2023-08-20T22:03:59.180Z"
   },
   {
    "duration": 18,
    "start_time": "2023-08-20T22:03:59.188Z"
   },
   {
    "duration": 9998,
    "start_time": "2023-08-20T22:03:59.208Z"
   },
   {
    "duration": 496,
    "start_time": "2023-08-20T22:04:09.207Z"
   },
   {
    "duration": 2,
    "start_time": "2023-08-20T22:04:09.708Z"
   },
   {
    "duration": 13,
    "start_time": "2023-08-20T22:04:09.712Z"
   },
   {
    "duration": 19,
    "start_time": "2023-08-20T22:04:09.727Z"
   },
   {
    "duration": 40,
    "start_time": "2023-08-20T22:04:09.747Z"
   },
   {
    "duration": 27827,
    "start_time": "2023-08-20T22:04:09.788Z"
   },
   {
    "duration": 679,
    "start_time": "2023-08-20T22:04:37.617Z"
   },
   {
    "duration": 8,
    "start_time": "2023-08-20T22:04:38.298Z"
   },
   {
    "duration": 13560,
    "start_time": "2023-08-20T22:04:38.308Z"
   },
   {
    "duration": 9,
    "start_time": "2023-08-20T22:04:51.869Z"
   },
   {
    "duration": 22,
    "start_time": "2023-08-20T22:04:51.880Z"
   },
   {
    "duration": 6365,
    "start_time": "2023-08-20T22:04:51.903Z"
   },
   {
    "duration": 10,
    "start_time": "2023-08-20T22:04:58.270Z"
   },
   {
    "duration": 26,
    "start_time": "2023-08-20T22:04:58.282Z"
   },
   {
    "duration": 883,
    "start_time": "2023-08-20T22:04:58.310Z"
   },
   {
    "duration": 7,
    "start_time": "2023-08-20T22:04:59.195Z"
   },
   {
    "duration": 423,
    "start_time": "2023-08-20T22:04:59.204Z"
   },
   {
    "duration": 330,
    "start_time": "2023-08-20T22:04:59.634Z"
   },
   {
    "duration": 636,
    "start_time": "2023-08-20T22:04:59.965Z"
   },
   {
    "duration": 6,
    "start_time": "2023-08-20T22:05:00.602Z"
   },
   {
    "duration": 2480,
    "start_time": "2023-08-20T22:05:00.610Z"
   },
   {
    "duration": 254,
    "start_time": "2023-08-20T22:06:48.143Z"
   },
   {
    "duration": 23,
    "start_time": "2023-08-20T22:07:01.645Z"
   },
   {
    "duration": 3,
    "start_time": "2023-08-20T22:20:32.258Z"
   },
   {
    "duration": 3,
    "start_time": "2023-08-20T22:20:35.498Z"
   },
   {
    "duration": 3,
    "start_time": "2023-08-20T22:20:35.662Z"
   },
   {
    "duration": 33,
    "start_time": "2023-08-20T22:20:36.083Z"
   },
   {
    "duration": 4,
    "start_time": "2023-08-20T22:20:41.438Z"
   },
   {
    "duration": 3,
    "start_time": "2023-08-20T22:20:41.685Z"
   },
   {
    "duration": 2,
    "start_time": "2023-08-20T22:20:41.862Z"
   },
   {
    "duration": 3,
    "start_time": "2023-08-20T22:20:42.018Z"
   },
   {
    "duration": 28627,
    "start_time": "2023-08-20T22:20:42.151Z"
   },
   {
    "duration": 701,
    "start_time": "2023-08-20T22:21:10.780Z"
   },
   {
    "duration": 8,
    "start_time": "2023-08-20T22:21:11.483Z"
   },
   {
    "duration": 14046,
    "start_time": "2023-08-20T22:21:16.713Z"
   },
   {
    "duration": 8,
    "start_time": "2023-08-20T22:21:30.761Z"
   },
   {
    "duration": 32,
    "start_time": "2023-08-20T22:21:30.771Z"
   },
   {
    "duration": 6634,
    "start_time": "2023-08-20T22:21:30.806Z"
   },
   {
    "duration": 10,
    "start_time": "2023-08-20T22:21:37.441Z"
   },
   {
    "duration": 12,
    "start_time": "2023-08-20T22:21:37.453Z"
   },
   {
    "duration": 700,
    "start_time": "2023-08-20T22:21:37.466Z"
   },
   {
    "duration": 3,
    "start_time": "2023-08-20T22:22:08.379Z"
   },
   {
    "duration": 3,
    "start_time": "2023-08-20T22:22:08.558Z"
   },
   {
    "duration": 3,
    "start_time": "2023-08-20T22:22:08.843Z"
   },
   {
    "duration": 3,
    "start_time": "2023-08-20T22:22:09.010Z"
   },
   {
    "duration": 28284,
    "start_time": "2023-08-20T22:22:09.177Z"
   },
   {
    "duration": 613,
    "start_time": "2023-08-20T22:22:37.463Z"
   },
   {
    "duration": 8,
    "start_time": "2023-08-20T22:22:38.078Z"
   },
   {
    "duration": 13521,
    "start_time": "2023-08-20T22:22:38.088Z"
   },
   {
    "duration": 8,
    "start_time": "2023-08-20T22:22:51.611Z"
   },
   {
    "duration": 14,
    "start_time": "2023-08-20T22:22:51.620Z"
   },
   {
    "duration": 6332,
    "start_time": "2023-08-20T22:22:51.635Z"
   },
   {
    "duration": 11,
    "start_time": "2023-08-20T22:22:57.968Z"
   },
   {
    "duration": 3,
    "start_time": "2023-08-20T22:22:57.980Z"
   },
   {
    "duration": 699,
    "start_time": "2023-08-20T22:22:57.985Z"
   },
   {
    "duration": 3,
    "start_time": "2023-08-20T22:23:56.218Z"
   },
   {
    "duration": 10,
    "start_time": "2023-08-20T22:24:21.633Z"
   },
   {
    "duration": 34,
    "start_time": "2023-08-20T22:24:52.286Z"
   },
   {
    "duration": 7,
    "start_time": "2023-08-20T22:24:55.990Z"
   },
   {
    "duration": 3,
    "start_time": "2023-08-20T22:24:57.747Z"
   },
   {
    "duration": 6,
    "start_time": "2023-08-20T22:24:58.337Z"
   },
   {
    "duration": 5,
    "start_time": "2023-08-20T22:24:58.484Z"
   },
   {
    "duration": 7,
    "start_time": "2023-08-20T22:24:58.652Z"
   },
   {
    "duration": 3,
    "start_time": "2023-08-20T22:24:58.820Z"
   },
   {
    "duration": 4,
    "start_time": "2023-08-20T22:24:58.990Z"
   },
   {
    "duration": 4,
    "start_time": "2023-08-20T22:24:59.160Z"
   },
   {
    "duration": 42,
    "start_time": "2023-08-20T22:24:59.473Z"
   },
   {
    "duration": 2,
    "start_time": "2023-08-20T22:24:59.654Z"
   },
   {
    "duration": 23211,
    "start_time": "2023-08-20T22:25:00.138Z"
   },
   {
    "duration": 3,
    "start_time": "2023-08-20T22:25:23.351Z"
   },
   {
    "duration": 17925,
    "start_time": "2023-08-20T22:25:23.356Z"
   },
   {
    "duration": 691,
    "start_time": "2023-08-20T22:25:41.284Z"
   },
   {
    "duration": 9,
    "start_time": "2023-08-20T22:25:41.976Z"
   },
   {
    "duration": 10,
    "start_time": "2023-08-20T22:25:41.987Z"
   },
   {
    "duration": 54561,
    "start_time": "2023-08-20T22:25:41.999Z"
   },
   {
    "duration": 5,
    "start_time": "2023-08-20T22:26:36.562Z"
   },
   {
    "duration": 43889,
    "start_time": "2023-08-20T22:26:36.568Z"
   },
   {
    "duration": 748,
    "start_time": "2023-08-20T22:27:20.460Z"
   },
   {
    "duration": 8,
    "start_time": "2023-08-20T22:27:21.210Z"
   },
   {
    "duration": 47,
    "start_time": "2023-08-20T22:27:21.220Z"
   },
   {
    "duration": 3,
    "start_time": "2023-08-20T22:27:21.269Z"
   },
   {
    "duration": 1220,
    "start_time": "2023-08-20T22:27:21.273Z"
   },
   {
    "duration": 4,
    "start_time": "2023-08-20T22:27:22.495Z"
   },
   {
    "duration": 1092,
    "start_time": "2023-08-20T22:27:22.500Z"
   },
   {
    "duration": 672,
    "start_time": "2023-08-20T22:27:23.594Z"
   },
   {
    "duration": 9,
    "start_time": "2023-08-20T22:27:24.268Z"
   },
   {
    "duration": 4,
    "start_time": "2023-08-20T22:27:24.279Z"
   },
   {
    "duration": 11,
    "start_time": "2023-08-20T22:27:24.285Z"
   },
   {
    "duration": 4631,
    "start_time": "2023-08-20T22:27:24.297Z"
   },
   {
    "duration": 10200,
    "start_time": "2023-08-20T22:27:28.931Z"
   },
   {
    "duration": 279,
    "start_time": "2023-08-20T22:27:39.133Z"
   },
   {
    "duration": 7,
    "start_time": "2023-08-20T22:27:39.413Z"
   },
   {
    "duration": 8,
    "start_time": "2023-08-20T22:27:39.434Z"
   },
   {
    "duration": 10045,
    "start_time": "2023-08-20T22:27:39.443Z"
   },
   {
    "duration": 496,
    "start_time": "2023-08-20T22:27:49.489Z"
   },
   {
    "duration": 3,
    "start_time": "2023-08-20T22:27:49.989Z"
   },
   {
    "duration": 6,
    "start_time": "2023-08-20T22:27:49.994Z"
   },
   {
    "duration": 11,
    "start_time": "2023-08-20T22:27:50.002Z"
   },
   {
    "duration": 16,
    "start_time": "2023-08-20T22:27:50.015Z"
   },
   {
    "duration": 28371,
    "start_time": "2023-08-20T22:27:50.033Z"
   },
   {
    "duration": 869,
    "start_time": "2023-08-20T22:28:18.405Z"
   },
   {
    "duration": 8,
    "start_time": "2023-08-20T22:28:19.276Z"
   },
   {
    "duration": 13555,
    "start_time": "2023-08-20T22:28:19.285Z"
   },
   {
    "duration": 9,
    "start_time": "2023-08-20T22:28:32.842Z"
   },
   {
    "duration": 3,
    "start_time": "2023-08-20T22:28:32.853Z"
   },
   {
    "duration": 6694,
    "start_time": "2023-08-20T22:28:32.858Z"
   },
   {
    "duration": 12,
    "start_time": "2023-08-20T22:28:39.554Z"
   },
   {
    "duration": 3,
    "start_time": "2023-08-20T22:28:39.568Z"
   },
   {
    "duration": 685,
    "start_time": "2023-08-20T22:28:39.572Z"
   },
   {
    "duration": 9,
    "start_time": "2023-08-20T22:28:40.259Z"
   },
   {
    "duration": 16105,
    "start_time": "2023-08-20T22:30:23.236Z"
   },
   {
    "duration": 3676,
    "start_time": "2023-08-20T22:30:39.343Z"
   },
   {
    "duration": 13,
    "start_time": "2023-08-20T22:30:43.021Z"
   },
   {
    "duration": 107,
    "start_time": "2023-08-20T22:30:43.036Z"
   },
   {
    "duration": 142,
    "start_time": "2023-08-20T22:30:43.145Z"
   },
   {
    "duration": 12,
    "start_time": "2023-08-20T22:30:43.289Z"
   },
   {
    "duration": 35,
    "start_time": "2023-08-20T22:30:43.303Z"
   },
   {
    "duration": 24,
    "start_time": "2023-08-20T22:30:43.340Z"
   },
   {
    "duration": 6,
    "start_time": "2023-08-20T22:30:43.366Z"
   },
   {
    "duration": 43,
    "start_time": "2023-08-20T22:30:43.375Z"
   },
   {
    "duration": 27,
    "start_time": "2023-08-20T22:30:43.420Z"
   },
   {
    "duration": 42,
    "start_time": "2023-08-20T22:30:43.449Z"
   },
   {
    "duration": 30,
    "start_time": "2023-08-20T22:30:43.493Z"
   },
   {
    "duration": 27,
    "start_time": "2023-08-20T22:30:43.524Z"
   },
   {
    "duration": 16,
    "start_time": "2023-08-20T22:30:43.552Z"
   },
   {
    "duration": 10,
    "start_time": "2023-08-20T22:30:43.570Z"
   },
   {
    "duration": 25,
    "start_time": "2023-08-20T22:30:43.581Z"
   },
   {
    "duration": 29,
    "start_time": "2023-08-20T22:30:43.608Z"
   },
   {
    "duration": 15,
    "start_time": "2023-08-20T22:30:43.639Z"
   },
   {
    "duration": 29,
    "start_time": "2023-08-20T22:30:43.656Z"
   },
   {
    "duration": 15,
    "start_time": "2023-08-20T22:30:43.688Z"
   },
   {
    "duration": 24,
    "start_time": "2023-08-20T22:30:43.705Z"
   },
   {
    "duration": 16,
    "start_time": "2023-08-20T22:30:43.730Z"
   },
   {
    "duration": 11,
    "start_time": "2023-08-20T22:30:43.747Z"
   },
   {
    "duration": 11,
    "start_time": "2023-08-20T22:30:43.760Z"
   },
   {
    "duration": 21,
    "start_time": "2023-08-20T22:30:43.773Z"
   },
   {
    "duration": 8,
    "start_time": "2023-08-20T22:30:43.797Z"
   },
   {
    "duration": 6,
    "start_time": "2023-08-20T22:30:43.809Z"
   },
   {
    "duration": 5,
    "start_time": "2023-08-20T22:30:43.817Z"
   },
   {
    "duration": 23,
    "start_time": "2023-08-20T22:30:43.824Z"
   },
   {
    "duration": 42,
    "start_time": "2023-08-20T22:30:43.849Z"
   },
   {
    "duration": 1424,
    "start_time": "2023-08-20T22:30:43.893Z"
   },
   {
    "duration": 951,
    "start_time": "2023-08-20T22:30:45.318Z"
   },
   {
    "duration": 0,
    "start_time": "2023-08-20T22:30:46.271Z"
   },
   {
    "duration": 0,
    "start_time": "2023-08-20T22:30:46.273Z"
   },
   {
    "duration": 0,
    "start_time": "2023-08-20T22:30:46.273Z"
   },
   {
    "duration": 0,
    "start_time": "2023-08-20T22:30:46.275Z"
   },
   {
    "duration": 0,
    "start_time": "2023-08-20T22:30:46.276Z"
   },
   {
    "duration": 0,
    "start_time": "2023-08-20T22:30:46.277Z"
   },
   {
    "duration": 0,
    "start_time": "2023-08-20T22:30:46.278Z"
   },
   {
    "duration": 0,
    "start_time": "2023-08-20T22:30:46.279Z"
   },
   {
    "duration": 0,
    "start_time": "2023-08-20T22:30:46.280Z"
   },
   {
    "duration": 0,
    "start_time": "2023-08-20T22:30:46.281Z"
   },
   {
    "duration": 0,
    "start_time": "2023-08-20T22:30:46.282Z"
   },
   {
    "duration": 0,
    "start_time": "2023-08-20T22:30:46.283Z"
   },
   {
    "duration": 0,
    "start_time": "2023-08-20T22:30:46.284Z"
   },
   {
    "duration": 0,
    "start_time": "2023-08-20T22:30:46.285Z"
   },
   {
    "duration": 0,
    "start_time": "2023-08-20T22:30:46.286Z"
   },
   {
    "duration": 0,
    "start_time": "2023-08-20T22:30:46.287Z"
   },
   {
    "duration": 0,
    "start_time": "2023-08-20T22:30:46.288Z"
   },
   {
    "duration": 0,
    "start_time": "2023-08-20T22:30:46.289Z"
   },
   {
    "duration": 0,
    "start_time": "2023-08-20T22:30:46.290Z"
   },
   {
    "duration": 0,
    "start_time": "2023-08-20T22:30:46.291Z"
   },
   {
    "duration": 0,
    "start_time": "2023-08-20T22:30:46.292Z"
   },
   {
    "duration": 0,
    "start_time": "2023-08-20T22:30:46.333Z"
   },
   {
    "duration": 0,
    "start_time": "2023-08-20T22:30:46.335Z"
   },
   {
    "duration": 0,
    "start_time": "2023-08-20T22:30:46.336Z"
   },
   {
    "duration": 0,
    "start_time": "2023-08-20T22:30:46.337Z"
   },
   {
    "duration": 0,
    "start_time": "2023-08-20T22:30:46.338Z"
   },
   {
    "duration": 0,
    "start_time": "2023-08-20T22:30:46.339Z"
   },
   {
    "duration": 0,
    "start_time": "2023-08-20T22:30:46.340Z"
   },
   {
    "duration": 0,
    "start_time": "2023-08-20T22:30:46.341Z"
   },
   {
    "duration": 0,
    "start_time": "2023-08-20T22:30:46.343Z"
   },
   {
    "duration": 0,
    "start_time": "2023-08-20T22:30:46.344Z"
   },
   {
    "duration": 0,
    "start_time": "2023-08-20T22:30:46.345Z"
   },
   {
    "duration": 0,
    "start_time": "2023-08-20T22:30:46.346Z"
   },
   {
    "duration": 0,
    "start_time": "2023-08-20T22:30:46.347Z"
   },
   {
    "duration": 0,
    "start_time": "2023-08-20T22:30:46.348Z"
   },
   {
    "duration": 0,
    "start_time": "2023-08-20T22:30:46.349Z"
   },
   {
    "duration": 0,
    "start_time": "2023-08-20T22:30:46.350Z"
   },
   {
    "duration": 0,
    "start_time": "2023-08-20T22:30:46.351Z"
   },
   {
    "duration": 0,
    "start_time": "2023-08-20T22:30:46.352Z"
   },
   {
    "duration": 0,
    "start_time": "2023-08-20T22:30:46.353Z"
   },
   {
    "duration": 0,
    "start_time": "2023-08-20T22:30:46.354Z"
   },
   {
    "duration": 0,
    "start_time": "2023-08-20T22:30:46.355Z"
   },
   {
    "duration": 0,
    "start_time": "2023-08-20T22:30:46.356Z"
   },
   {
    "duration": 0,
    "start_time": "2023-08-20T22:30:46.357Z"
   },
   {
    "duration": 0,
    "start_time": "2023-08-20T22:30:46.358Z"
   },
   {
    "duration": 1,
    "start_time": "2023-08-20T22:30:46.358Z"
   },
   {
    "duration": 0,
    "start_time": "2023-08-20T22:30:46.360Z"
   },
   {
    "duration": 0,
    "start_time": "2023-08-20T22:30:46.361Z"
   },
   {
    "duration": 0,
    "start_time": "2023-08-20T22:30:46.362Z"
   },
   {
    "duration": 0,
    "start_time": "2023-08-20T22:30:46.363Z"
   },
   {
    "duration": 0,
    "start_time": "2023-08-20T22:30:46.364Z"
   },
   {
    "duration": 0,
    "start_time": "2023-08-20T22:30:46.365Z"
   },
   {
    "duration": 0,
    "start_time": "2023-08-20T22:30:46.367Z"
   },
   {
    "duration": 0,
    "start_time": "2023-08-20T22:30:46.367Z"
   },
   {
    "duration": 0,
    "start_time": "2023-08-20T22:30:46.369Z"
   },
   {
    "duration": 0,
    "start_time": "2023-08-20T22:30:46.369Z"
   },
   {
    "duration": 0,
    "start_time": "2023-08-20T22:30:46.370Z"
   },
   {
    "duration": 0,
    "start_time": "2023-08-20T22:30:46.371Z"
   },
   {
    "duration": 0,
    "start_time": "2023-08-20T22:30:46.434Z"
   },
   {
    "duration": 0,
    "start_time": "2023-08-20T22:30:46.435Z"
   },
   {
    "duration": 0,
    "start_time": "2023-08-20T22:30:46.436Z"
   },
   {
    "duration": 0,
    "start_time": "2023-08-20T22:30:46.437Z"
   },
   {
    "duration": 0,
    "start_time": "2023-08-20T22:30:46.439Z"
   },
   {
    "duration": 0,
    "start_time": "2023-08-20T22:30:46.440Z"
   },
   {
    "duration": 0,
    "start_time": "2023-08-20T22:30:46.441Z"
   },
   {
    "duration": 0,
    "start_time": "2023-08-20T22:30:46.442Z"
   },
   {
    "duration": 0,
    "start_time": "2023-08-20T22:30:46.443Z"
   },
   {
    "duration": 1385,
    "start_time": "2023-08-20T22:31:33.980Z"
   },
   {
    "duration": 635,
    "start_time": "2023-08-20T22:31:35.367Z"
   },
   {
    "duration": 777,
    "start_time": "2023-08-20T22:31:43.776Z"
   },
   {
    "duration": 931,
    "start_time": "2023-08-20T22:31:49.674Z"
   },
   {
    "duration": 15735,
    "start_time": "2023-08-20T22:32:00.462Z"
   },
   {
    "duration": 3609,
    "start_time": "2023-08-20T22:32:16.200Z"
   },
   {
    "duration": 23,
    "start_time": "2023-08-20T22:32:19.811Z"
   },
   {
    "duration": 110,
    "start_time": "2023-08-20T22:32:19.836Z"
   },
   {
    "duration": 153,
    "start_time": "2023-08-20T22:32:19.949Z"
   },
   {
    "duration": 39,
    "start_time": "2023-08-20T22:32:20.104Z"
   },
   {
    "duration": 7,
    "start_time": "2023-08-20T22:32:20.145Z"
   },
   {
    "duration": 34,
    "start_time": "2023-08-20T22:32:20.153Z"
   },
   {
    "duration": 22,
    "start_time": "2023-08-20T22:32:20.189Z"
   },
   {
    "duration": 22,
    "start_time": "2023-08-20T22:32:20.213Z"
   },
   {
    "duration": 27,
    "start_time": "2023-08-20T22:32:20.237Z"
   },
   {
    "duration": 25,
    "start_time": "2023-08-20T22:32:20.266Z"
   },
   {
    "duration": 7,
    "start_time": "2023-08-20T22:32:20.293Z"
   },
   {
    "duration": 9,
    "start_time": "2023-08-20T22:32:20.302Z"
   },
   {
    "duration": 14,
    "start_time": "2023-08-20T22:32:20.312Z"
   },
   {
    "duration": 4,
    "start_time": "2023-08-20T22:32:20.328Z"
   },
   {
    "duration": 17,
    "start_time": "2023-08-20T22:32:20.334Z"
   },
   {
    "duration": 16,
    "start_time": "2023-08-20T22:32:20.353Z"
   },
   {
    "duration": 6,
    "start_time": "2023-08-20T22:32:20.371Z"
   },
   {
    "duration": 16,
    "start_time": "2023-08-20T22:32:20.378Z"
   },
   {
    "duration": 22,
    "start_time": "2023-08-20T22:32:20.395Z"
   },
   {
    "duration": 24,
    "start_time": "2023-08-20T22:32:20.419Z"
   },
   {
    "duration": 13,
    "start_time": "2023-08-20T22:32:20.444Z"
   },
   {
    "duration": 12,
    "start_time": "2023-08-20T22:32:20.460Z"
   },
   {
    "duration": 4,
    "start_time": "2023-08-20T22:32:20.474Z"
   },
   {
    "duration": 12,
    "start_time": "2023-08-20T22:32:20.479Z"
   },
   {
    "duration": 7,
    "start_time": "2023-08-20T22:32:20.493Z"
   },
   {
    "duration": 8,
    "start_time": "2023-08-20T22:32:20.502Z"
   },
   {
    "duration": 25,
    "start_time": "2023-08-20T22:32:20.512Z"
   },
   {
    "duration": 27,
    "start_time": "2023-08-20T22:32:20.539Z"
   },
   {
    "duration": 54,
    "start_time": "2023-08-20T22:32:20.568Z"
   },
   {
    "duration": 1643,
    "start_time": "2023-08-20T22:32:20.624Z"
   },
   {
    "duration": 698,
    "start_time": "2023-08-20T22:32:22.269Z"
   },
   {
    "duration": 847,
    "start_time": "2023-08-20T22:32:22.969Z"
   },
   {
    "duration": 16,
    "start_time": "2023-08-20T22:32:23.818Z"
   },
   {
    "duration": 368,
    "start_time": "2023-08-20T22:32:23.836Z"
   },
   {
    "duration": 3282,
    "start_time": "2023-08-20T22:32:24.206Z"
   },
   {
    "duration": 59469,
    "start_time": "2023-08-20T22:32:27.490Z"
   },
   {
    "duration": 2371,
    "start_time": "2023-08-20T22:33:26.960Z"
   },
   {
    "duration": 502,
    "start_time": "2023-08-20T22:33:29.334Z"
   },
   {
    "duration": 2809,
    "start_time": "2023-08-20T22:33:29.841Z"
   },
   {
    "duration": 3,
    "start_time": "2023-08-20T22:33:32.652Z"
   },
   {
    "duration": 9,
    "start_time": "2023-08-20T22:33:32.656Z"
   },
   {
    "duration": 45,
    "start_time": "2023-08-20T22:33:32.666Z"
   },
   {
    "duration": 23,
    "start_time": "2023-08-20T22:33:32.713Z"
   },
   {
    "duration": 4,
    "start_time": "2023-08-20T22:33:32.738Z"
   },
   {
    "duration": 8,
    "start_time": "2023-08-20T22:33:32.744Z"
   },
   {
    "duration": 16,
    "start_time": "2023-08-20T22:33:32.754Z"
   },
   {
    "duration": 22,
    "start_time": "2023-08-20T22:33:32.772Z"
   },
   {
    "duration": 9,
    "start_time": "2023-08-20T22:33:32.797Z"
   },
   {
    "duration": 6,
    "start_time": "2023-08-20T22:33:32.808Z"
   },
   {
    "duration": 25,
    "start_time": "2023-08-20T22:33:32.815Z"
   },
   {
    "duration": 45,
    "start_time": "2023-08-20T22:33:32.841Z"
   },
   {
    "duration": 3,
    "start_time": "2023-08-20T22:33:32.888Z"
   },
   {
    "duration": 21562,
    "start_time": "2023-08-20T22:33:32.892Z"
   },
   {
    "duration": 5,
    "start_time": "2023-08-20T22:33:54.456Z"
   },
   {
    "duration": 17931,
    "start_time": "2023-08-20T22:33:54.463Z"
   },
   {
    "duration": 697,
    "start_time": "2023-08-20T22:34:12.396Z"
   },
   {
    "duration": 9,
    "start_time": "2023-08-20T22:34:13.094Z"
   },
   {
    "duration": 5,
    "start_time": "2023-08-20T22:34:13.104Z"
   },
   {
    "duration": 53508,
    "start_time": "2023-08-20T22:34:13.111Z"
   },
   {
    "duration": 4,
    "start_time": "2023-08-20T22:35:06.621Z"
   },
   {
    "duration": 43761,
    "start_time": "2023-08-20T22:35:06.627Z"
   },
   {
    "duration": 697,
    "start_time": "2023-08-20T22:35:50.389Z"
   },
   {
    "duration": 8,
    "start_time": "2023-08-20T22:35:51.088Z"
   },
   {
    "duration": 55,
    "start_time": "2023-08-20T22:35:51.098Z"
   },
   {
    "duration": 3,
    "start_time": "2023-08-20T22:35:51.154Z"
   },
   {
    "duration": 1213,
    "start_time": "2023-08-20T22:35:51.158Z"
   },
   {
    "duration": 4,
    "start_time": "2023-08-20T22:35:52.373Z"
   },
   {
    "duration": 1111,
    "start_time": "2023-08-20T22:35:52.378Z"
   },
   {
    "duration": 673,
    "start_time": "2023-08-20T22:35:53.490Z"
   },
   {
    "duration": 8,
    "start_time": "2023-08-20T22:35:54.165Z"
   },
   {
    "duration": 31,
    "start_time": "2023-08-20T22:35:54.175Z"
   },
   {
    "duration": 54,
    "start_time": "2023-08-20T22:35:54.207Z"
   },
   {
    "duration": 4448,
    "start_time": "2023-08-20T22:35:54.263Z"
   },
   {
    "duration": 10025,
    "start_time": "2023-08-20T22:35:58.713Z"
   },
   {
    "duration": 275,
    "start_time": "2023-08-20T22:36:08.740Z"
   },
   {
    "duration": 6,
    "start_time": "2023-08-20T22:36:09.017Z"
   },
   {
    "duration": 7,
    "start_time": "2023-08-20T22:36:09.034Z"
   },
   {
    "duration": 10090,
    "start_time": "2023-08-20T22:36:09.043Z"
   },
   {
    "duration": 485,
    "start_time": "2023-08-20T22:36:19.135Z"
   },
   {
    "duration": 3,
    "start_time": "2023-08-20T22:36:19.622Z"
   },
   {
    "duration": 3,
    "start_time": "2023-08-20T22:36:19.634Z"
   },
   {
    "duration": 19,
    "start_time": "2023-08-20T22:36:19.638Z"
   },
   {
    "duration": 15,
    "start_time": "2023-08-20T22:36:19.658Z"
   },
   {
    "duration": 28904,
    "start_time": "2023-08-20T22:36:19.675Z"
   },
   {
    "duration": 713,
    "start_time": "2023-08-20T22:36:48.581Z"
   },
   {
    "duration": 9,
    "start_time": "2023-08-20T22:36:49.296Z"
   },
   {
    "duration": 13520,
    "start_time": "2023-08-20T22:36:49.306Z"
   },
   {
    "duration": 12,
    "start_time": "2023-08-20T22:37:02.828Z"
   },
   {
    "duration": 18,
    "start_time": "2023-08-20T22:37:02.841Z"
   },
   {
    "duration": 6994,
    "start_time": "2023-08-20T22:37:02.860Z"
   },
   {
    "duration": 11,
    "start_time": "2023-08-20T22:37:09.855Z"
   },
   {
    "duration": 8,
    "start_time": "2023-08-20T22:37:09.868Z"
   },
   {
    "duration": 717,
    "start_time": "2023-08-20T22:37:09.877Z"
   },
   {
    "duration": 634,
    "start_time": "2023-08-20T22:37:10.595Z"
   },
   {
    "duration": 319,
    "start_time": "2023-08-20T22:37:11.234Z"
   },
   {
    "duration": 598,
    "start_time": "2023-08-20T22:37:11.555Z"
   },
   {
    "duration": 5,
    "start_time": "2023-08-20T22:37:12.155Z"
   },
   {
    "duration": 2302,
    "start_time": "2023-08-20T22:37:12.162Z"
   },
   {
    "duration": 1655936,
    "start_time": "2023-08-20T22:37:49.663Z"
   },
   {
    "duration": 5,
    "start_time": "2023-08-20T23:05:25.602Z"
   },
   {
    "duration": 4727,
    "start_time": "2023-08-20T23:05:25.609Z"
   },
   {
    "duration": 0,
    "start_time": "2023-08-20T23:05:30.338Z"
   },
   {
    "duration": 28370,
    "start_time": "2023-08-20T23:10:47.031Z"
   },
   {
    "duration": 682,
    "start_time": "2023-08-20T23:11:15.403Z"
   },
   {
    "duration": 13581,
    "start_time": "2023-08-20T23:12:05.998Z"
   },
   {
    "duration": 9,
    "start_time": "2023-08-20T23:12:19.581Z"
   },
   {
    "duration": 5,
    "start_time": "2023-08-20T23:12:19.593Z"
   },
   {
    "duration": 6993,
    "start_time": "2023-08-20T23:12:19.600Z"
   },
   {
    "duration": 11,
    "start_time": "2023-08-20T23:12:26.594Z"
   },
   {
    "duration": 6,
    "start_time": "2023-08-20T23:12:26.606Z"
   },
   {
    "duration": 703,
    "start_time": "2023-08-20T23:12:26.614Z"
   },
   {
    "duration": 15199,
    "start_time": "2023-08-20T23:13:05.752Z"
   },
   {
    "duration": 3703,
    "start_time": "2023-08-20T23:13:20.953Z"
   },
   {
    "duration": 2,
    "start_time": "2023-08-20T23:13:24.658Z"
   },
   {
    "duration": 96,
    "start_time": "2023-08-20T23:13:24.662Z"
   },
   {
    "duration": 138,
    "start_time": "2023-08-20T23:13:24.760Z"
   },
   {
    "duration": 43,
    "start_time": "2023-08-20T23:13:24.900Z"
   },
   {
    "duration": 9,
    "start_time": "2023-08-20T23:13:24.945Z"
   },
   {
    "duration": 14,
    "start_time": "2023-08-20T23:13:24.957Z"
   },
   {
    "duration": 6,
    "start_time": "2023-08-20T23:13:24.973Z"
   },
   {
    "duration": 23,
    "start_time": "2023-08-20T23:13:24.982Z"
   },
   {
    "duration": 36,
    "start_time": "2023-08-20T23:13:25.007Z"
   },
   {
    "duration": 20,
    "start_time": "2023-08-20T23:13:25.044Z"
   },
   {
    "duration": 14,
    "start_time": "2023-08-20T23:13:25.065Z"
   },
   {
    "duration": 25,
    "start_time": "2023-08-20T23:13:25.081Z"
   },
   {
    "duration": 18,
    "start_time": "2023-08-20T23:13:25.108Z"
   },
   {
    "duration": 5,
    "start_time": "2023-08-20T23:13:25.129Z"
   },
   {
    "duration": 25,
    "start_time": "2023-08-20T23:13:25.136Z"
   },
   {
    "duration": 15,
    "start_time": "2023-08-20T23:13:25.163Z"
   },
   {
    "duration": 15,
    "start_time": "2023-08-20T23:13:25.179Z"
   },
   {
    "duration": 14,
    "start_time": "2023-08-20T23:13:25.196Z"
   },
   {
    "duration": 15,
    "start_time": "2023-08-20T23:13:25.212Z"
   },
   {
    "duration": 21,
    "start_time": "2023-08-20T23:13:25.228Z"
   },
   {
    "duration": 14,
    "start_time": "2023-08-20T23:13:25.251Z"
   },
   {
    "duration": 16,
    "start_time": "2023-08-20T23:13:25.267Z"
   },
   {
    "duration": 14,
    "start_time": "2023-08-20T23:13:25.285Z"
   },
   {
    "duration": 28,
    "start_time": "2023-08-20T23:13:25.301Z"
   },
   {
    "duration": 13,
    "start_time": "2023-08-20T23:13:25.331Z"
   },
   {
    "duration": 5,
    "start_time": "2023-08-20T23:13:25.348Z"
   },
   {
    "duration": 21,
    "start_time": "2023-08-20T23:13:25.355Z"
   },
   {
    "duration": 15,
    "start_time": "2023-08-20T23:13:25.379Z"
   },
   {
    "duration": 58,
    "start_time": "2023-08-20T23:13:25.397Z"
   },
   {
    "duration": 1386,
    "start_time": "2023-08-20T23:13:25.457Z"
   },
   {
    "duration": 711,
    "start_time": "2023-08-20T23:13:26.845Z"
   },
   {
    "duration": 848,
    "start_time": "2023-08-20T23:13:27.558Z"
   },
   {
    "duration": 11,
    "start_time": "2023-08-20T23:13:28.407Z"
   },
   {
    "duration": 359,
    "start_time": "2023-08-20T23:13:28.420Z"
   },
   {
    "duration": 3141,
    "start_time": "2023-08-20T23:13:28.781Z"
   },
   {
    "duration": 58462,
    "start_time": "2023-08-20T23:13:31.923Z"
   },
   {
    "duration": 2326,
    "start_time": "2023-08-20T23:14:30.387Z"
   },
   {
    "duration": 521,
    "start_time": "2023-08-20T23:14:32.715Z"
   },
   {
    "duration": 2751,
    "start_time": "2023-08-20T23:14:33.238Z"
   },
   {
    "duration": 3,
    "start_time": "2023-08-20T23:14:35.990Z"
   },
   {
    "duration": 20,
    "start_time": "2023-08-20T23:14:35.995Z"
   },
   {
    "duration": 40,
    "start_time": "2023-08-20T23:14:36.017Z"
   },
   {
    "duration": 6,
    "start_time": "2023-08-20T23:14:36.059Z"
   },
   {
    "duration": 12,
    "start_time": "2023-08-20T23:14:36.067Z"
   },
   {
    "duration": 20,
    "start_time": "2023-08-20T23:14:36.081Z"
   },
   {
    "duration": 13,
    "start_time": "2023-08-20T23:14:36.103Z"
   },
   {
    "duration": 15,
    "start_time": "2023-08-20T23:14:36.117Z"
   },
   {
    "duration": 9,
    "start_time": "2023-08-20T23:14:36.133Z"
   },
   {
    "duration": 6,
    "start_time": "2023-08-20T23:14:36.143Z"
   },
   {
    "duration": 28,
    "start_time": "2023-08-20T23:14:36.150Z"
   },
   {
    "duration": 44,
    "start_time": "2023-08-20T23:14:36.180Z"
   },
   {
    "duration": 3,
    "start_time": "2023-08-20T23:14:36.225Z"
   },
   {
    "duration": 21779,
    "start_time": "2023-08-20T23:14:36.229Z"
   },
   {
    "duration": 5,
    "start_time": "2023-08-20T23:14:58.010Z"
   },
   {
    "duration": 18597,
    "start_time": "2023-08-20T23:14:58.017Z"
   },
   {
    "duration": 690,
    "start_time": "2023-08-20T23:15:16.616Z"
   },
   {
    "duration": 9,
    "start_time": "2023-08-20T23:15:17.308Z"
   },
   {
    "duration": 16,
    "start_time": "2023-08-20T23:15:17.319Z"
   },
   {
    "duration": 54102,
    "start_time": "2023-08-20T23:15:17.336Z"
   },
   {
    "duration": 5,
    "start_time": "2023-08-20T23:16:11.439Z"
   },
   {
    "duration": 44979,
    "start_time": "2023-08-20T23:16:11.446Z"
   },
   {
    "duration": 641,
    "start_time": "2023-08-20T23:16:56.426Z"
   },
   {
    "duration": 9,
    "start_time": "2023-08-20T23:16:57.069Z"
   },
   {
    "duration": 38,
    "start_time": "2023-08-20T23:16:57.080Z"
   },
   {
    "duration": 15,
    "start_time": "2023-08-20T23:16:57.120Z"
   },
   {
    "duration": 1269,
    "start_time": "2023-08-20T23:16:57.136Z"
   },
   {
    "duration": 4,
    "start_time": "2023-08-20T23:16:58.406Z"
   },
   {
    "duration": 1076,
    "start_time": "2023-08-20T23:16:58.411Z"
   },
   {
    "duration": 695,
    "start_time": "2023-08-20T23:16:59.488Z"
   },
   {
    "duration": 10,
    "start_time": "2023-08-20T23:17:00.185Z"
   },
   {
    "duration": 69,
    "start_time": "2023-08-20T23:17:00.197Z"
   },
   {
    "duration": 73,
    "start_time": "2023-08-20T23:17:00.267Z"
   },
   {
    "duration": 4615,
    "start_time": "2023-08-20T23:17:00.342Z"
   },
   {
    "duration": 10089,
    "start_time": "2023-08-20T23:17:04.959Z"
   },
   {
    "duration": 278,
    "start_time": "2023-08-20T23:17:15.050Z"
   },
   {
    "duration": 9,
    "start_time": "2023-08-20T23:17:15.329Z"
   },
   {
    "duration": 24,
    "start_time": "2023-08-20T23:17:15.339Z"
   },
   {
    "duration": 10039,
    "start_time": "2023-08-20T23:17:15.365Z"
   },
   {
    "duration": 485,
    "start_time": "2023-08-20T23:17:25.406Z"
   },
   {
    "duration": 3,
    "start_time": "2023-08-20T23:17:25.896Z"
   },
   {
    "duration": 18,
    "start_time": "2023-08-20T23:17:25.900Z"
   },
   {
    "duration": 15,
    "start_time": "2023-08-20T23:17:25.919Z"
   },
   {
    "duration": 13,
    "start_time": "2023-08-20T23:17:25.936Z"
   },
   {
    "duration": 27862,
    "start_time": "2023-08-20T23:17:25.951Z"
   },
   {
    "duration": 664,
    "start_time": "2023-08-20T23:17:53.815Z"
   },
   {
    "duration": 8,
    "start_time": "2023-08-20T23:17:54.480Z"
   },
   {
    "duration": 13784,
    "start_time": "2023-08-20T23:17:54.490Z"
   },
   {
    "duration": 9,
    "start_time": "2023-08-20T23:18:08.275Z"
   },
   {
    "duration": 3,
    "start_time": "2023-08-20T23:18:08.285Z"
   },
   {
    "duration": 7234,
    "start_time": "2023-08-20T23:18:08.290Z"
   },
   {
    "duration": 12,
    "start_time": "2023-08-20T23:18:15.526Z"
   },
   {
    "duration": 41,
    "start_time": "2023-08-20T23:18:15.539Z"
   },
   {
    "duration": 924,
    "start_time": "2023-08-20T23:18:15.582Z"
   },
   {
    "duration": 451,
    "start_time": "2023-08-20T23:18:16.508Z"
   },
   {
    "duration": 379,
    "start_time": "2023-08-20T23:18:16.961Z"
   },
   {
    "duration": 639,
    "start_time": "2023-08-20T23:18:17.343Z"
   },
   {
    "duration": 6,
    "start_time": "2023-08-20T23:18:17.984Z"
   },
   {
    "duration": 2384,
    "start_time": "2023-08-20T23:18:17.991Z"
   },
   {
    "duration": 83754,
    "start_time": "2023-08-23T15:43:56.130Z"
   },
   {
    "duration": 2540,
    "start_time": "2023-08-23T15:45:19.886Z"
   },
   {
    "duration": 0,
    "start_time": "2023-08-23T15:45:22.429Z"
   },
   {
    "duration": 0,
    "start_time": "2023-08-23T15:45:22.431Z"
   },
   {
    "duration": 0,
    "start_time": "2023-08-23T15:45:22.432Z"
   },
   {
    "duration": 0,
    "start_time": "2023-08-23T15:45:22.433Z"
   },
   {
    "duration": 0,
    "start_time": "2023-08-23T15:45:22.434Z"
   },
   {
    "duration": 0,
    "start_time": "2023-08-23T15:45:22.435Z"
   },
   {
    "duration": 0,
    "start_time": "2023-08-23T15:45:22.437Z"
   },
   {
    "duration": 0,
    "start_time": "2023-08-23T15:45:22.438Z"
   },
   {
    "duration": 0,
    "start_time": "2023-08-23T15:45:22.439Z"
   },
   {
    "duration": 0,
    "start_time": "2023-08-23T15:45:22.440Z"
   },
   {
    "duration": 0,
    "start_time": "2023-08-23T15:45:22.452Z"
   },
   {
    "duration": 0,
    "start_time": "2023-08-23T15:45:22.453Z"
   },
   {
    "duration": 0,
    "start_time": "2023-08-23T15:45:22.454Z"
   },
   {
    "duration": 0,
    "start_time": "2023-08-23T15:45:22.456Z"
   },
   {
    "duration": 0,
    "start_time": "2023-08-23T15:45:22.457Z"
   },
   {
    "duration": 0,
    "start_time": "2023-08-23T15:45:22.458Z"
   },
   {
    "duration": 0,
    "start_time": "2023-08-23T15:45:22.460Z"
   },
   {
    "duration": 0,
    "start_time": "2023-08-23T15:45:22.461Z"
   },
   {
    "duration": 0,
    "start_time": "2023-08-23T15:45:22.462Z"
   },
   {
    "duration": 0,
    "start_time": "2023-08-23T15:45:22.463Z"
   },
   {
    "duration": 0,
    "start_time": "2023-08-23T15:45:22.464Z"
   },
   {
    "duration": 0,
    "start_time": "2023-08-23T15:45:22.466Z"
   },
   {
    "duration": 0,
    "start_time": "2023-08-23T15:45:22.466Z"
   },
   {
    "duration": 0,
    "start_time": "2023-08-23T15:45:22.468Z"
   },
   {
    "duration": 0,
    "start_time": "2023-08-23T15:45:22.469Z"
   },
   {
    "duration": 0,
    "start_time": "2023-08-23T15:45:22.470Z"
   },
   {
    "duration": 0,
    "start_time": "2023-08-23T15:45:22.471Z"
   },
   {
    "duration": 0,
    "start_time": "2023-08-23T15:45:22.473Z"
   },
   {
    "duration": 0,
    "start_time": "2023-08-23T15:45:22.474Z"
   },
   {
    "duration": 0,
    "start_time": "2023-08-23T15:45:22.475Z"
   },
   {
    "duration": 0,
    "start_time": "2023-08-23T15:45:22.476Z"
   },
   {
    "duration": 0,
    "start_time": "2023-08-23T15:45:22.477Z"
   },
   {
    "duration": 0,
    "start_time": "2023-08-23T15:45:22.478Z"
   },
   {
    "duration": 0,
    "start_time": "2023-08-23T15:45:22.480Z"
   },
   {
    "duration": 0,
    "start_time": "2023-08-23T15:45:22.481Z"
   },
   {
    "duration": 0,
    "start_time": "2023-08-23T15:45:22.482Z"
   },
   {
    "duration": 0,
    "start_time": "2023-08-23T15:45:22.484Z"
   },
   {
    "duration": 0,
    "start_time": "2023-08-23T15:45:22.485Z"
   },
   {
    "duration": 0,
    "start_time": "2023-08-23T15:45:22.486Z"
   },
   {
    "duration": 0,
    "start_time": "2023-08-23T15:45:22.553Z"
   },
   {
    "duration": 0,
    "start_time": "2023-08-23T15:45:22.554Z"
   },
   {
    "duration": 0,
    "start_time": "2023-08-23T15:45:22.556Z"
   },
   {
    "duration": 0,
    "start_time": "2023-08-23T15:45:22.557Z"
   },
   {
    "duration": 0,
    "start_time": "2023-08-23T15:45:22.559Z"
   },
   {
    "duration": 0,
    "start_time": "2023-08-23T15:45:22.560Z"
   },
   {
    "duration": 0,
    "start_time": "2023-08-23T15:45:22.561Z"
   },
   {
    "duration": 0,
    "start_time": "2023-08-23T15:45:22.562Z"
   },
   {
    "duration": 0,
    "start_time": "2023-08-23T15:45:22.563Z"
   },
   {
    "duration": 0,
    "start_time": "2023-08-23T15:45:22.564Z"
   },
   {
    "duration": 0,
    "start_time": "2023-08-23T15:45:22.566Z"
   },
   {
    "duration": 0,
    "start_time": "2023-08-23T15:45:22.568Z"
   },
   {
    "duration": 0,
    "start_time": "2023-08-23T15:45:22.569Z"
   },
   {
    "duration": 0,
    "start_time": "2023-08-23T15:45:22.570Z"
   },
   {
    "duration": 0,
    "start_time": "2023-08-23T15:45:22.572Z"
   },
   {
    "duration": 0,
    "start_time": "2023-08-23T15:45:22.574Z"
   },
   {
    "duration": 0,
    "start_time": "2023-08-23T15:45:22.575Z"
   },
   {
    "duration": 0,
    "start_time": "2023-08-23T15:45:22.577Z"
   },
   {
    "duration": 0,
    "start_time": "2023-08-23T15:45:22.578Z"
   },
   {
    "duration": 0,
    "start_time": "2023-08-23T15:45:22.579Z"
   },
   {
    "duration": 0,
    "start_time": "2023-08-23T15:45:22.580Z"
   },
   {
    "duration": 0,
    "start_time": "2023-08-23T15:45:22.581Z"
   },
   {
    "duration": 0,
    "start_time": "2023-08-23T15:45:22.583Z"
   },
   {
    "duration": 0,
    "start_time": "2023-08-23T15:45:22.584Z"
   },
   {
    "duration": 0,
    "start_time": "2023-08-23T15:45:22.586Z"
   },
   {
    "duration": 0,
    "start_time": "2023-08-23T15:45:22.587Z"
   },
   {
    "duration": 0,
    "start_time": "2023-08-23T15:45:22.588Z"
   },
   {
    "duration": 0,
    "start_time": "2023-08-23T15:45:22.590Z"
   },
   {
    "duration": 0,
    "start_time": "2023-08-23T15:45:22.591Z"
   },
   {
    "duration": 0,
    "start_time": "2023-08-23T15:45:22.592Z"
   },
   {
    "duration": 0,
    "start_time": "2023-08-23T15:45:22.593Z"
   },
   {
    "duration": 0,
    "start_time": "2023-08-23T15:45:22.594Z"
   },
   {
    "duration": 0,
    "start_time": "2023-08-23T15:45:22.595Z"
   },
   {
    "duration": 0,
    "start_time": "2023-08-23T15:45:22.597Z"
   },
   {
    "duration": 0,
    "start_time": "2023-08-23T15:45:22.652Z"
   },
   {
    "duration": 0,
    "start_time": "2023-08-23T15:45:22.654Z"
   },
   {
    "duration": 0,
    "start_time": "2023-08-23T15:45:22.655Z"
   },
   {
    "duration": 0,
    "start_time": "2023-08-23T15:45:22.657Z"
   },
   {
    "duration": 0,
    "start_time": "2023-08-23T15:45:22.658Z"
   },
   {
    "duration": 0,
    "start_time": "2023-08-23T15:45:22.660Z"
   },
   {
    "duration": 0,
    "start_time": "2023-08-23T15:45:22.661Z"
   },
   {
    "duration": 0,
    "start_time": "2023-08-23T15:45:22.662Z"
   },
   {
    "duration": 0,
    "start_time": "2023-08-23T15:45:22.664Z"
   },
   {
    "duration": 0,
    "start_time": "2023-08-23T15:45:22.665Z"
   },
   {
    "duration": 0,
    "start_time": "2023-08-23T15:45:22.666Z"
   },
   {
    "duration": 0,
    "start_time": "2023-08-23T15:45:22.668Z"
   },
   {
    "duration": 0,
    "start_time": "2023-08-23T15:45:22.669Z"
   },
   {
    "duration": 0,
    "start_time": "2023-08-23T15:45:22.671Z"
   },
   {
    "duration": 0,
    "start_time": "2023-08-23T15:45:22.672Z"
   },
   {
    "duration": 0,
    "start_time": "2023-08-23T15:45:22.674Z"
   },
   {
    "duration": 0,
    "start_time": "2023-08-23T15:45:22.675Z"
   },
   {
    "duration": 0,
    "start_time": "2023-08-23T15:45:22.676Z"
   },
   {
    "duration": 0,
    "start_time": "2023-08-23T15:45:22.678Z"
   },
   {
    "duration": 0,
    "start_time": "2023-08-23T15:45:22.679Z"
   },
   {
    "duration": 0,
    "start_time": "2023-08-23T15:45:22.680Z"
   },
   {
    "duration": 0,
    "start_time": "2023-08-23T15:45:22.682Z"
   },
   {
    "duration": 0,
    "start_time": "2023-08-23T15:45:22.683Z"
   },
   {
    "duration": 0,
    "start_time": "2023-08-23T15:45:22.684Z"
   },
   {
    "duration": 0,
    "start_time": "2023-08-23T15:45:22.686Z"
   },
   {
    "duration": 20,
    "start_time": "2023-08-23T15:45:33.612Z"
   },
   {
    "duration": 80037,
    "start_time": "2023-08-23T15:48:03.270Z"
   },
   {
    "duration": 24,
    "start_time": "2023-08-23T15:49:23.309Z"
   },
   {
    "duration": 6368,
    "start_time": "2023-08-23T15:49:44.723Z"
   },
   {
    "duration": 30,
    "start_time": "2023-08-23T15:49:56.402Z"
   },
   {
    "duration": 2372,
    "start_time": "2023-08-23T15:50:33.392Z"
   },
   {
    "duration": 3,
    "start_time": "2023-08-23T15:50:37.122Z"
   },
   {
    "duration": 24,
    "start_time": "2023-08-23T15:50:37.371Z"
   },
   {
    "duration": 3007,
    "start_time": "2023-08-23T15:50:49.998Z"
   },
   {
    "duration": 16,
    "start_time": "2023-08-23T15:51:17.198Z"
   },
   {
    "duration": 3,
    "start_time": "2023-08-23T15:51:17.762Z"
   },
   {
    "duration": 354,
    "start_time": "2023-08-23T15:51:18.498Z"
   },
   {
    "duration": 172,
    "start_time": "2023-08-23T15:51:18.855Z"
   },
   {
    "duration": 14,
    "start_time": "2023-08-23T15:51:19.261Z"
   },
   {
    "duration": 8,
    "start_time": "2023-08-23T15:51:19.803Z"
   },
   {
    "duration": 17,
    "start_time": "2023-08-23T15:51:20.139Z"
   },
   {
    "duration": 7,
    "start_time": "2023-08-23T15:51:20.459Z"
   },
   {
    "duration": 24,
    "start_time": "2023-08-23T15:51:20.612Z"
   },
   {
    "duration": 17,
    "start_time": "2023-08-23T15:51:20.769Z"
   },
   {
    "duration": 17,
    "start_time": "2023-08-23T15:51:20.904Z"
   },
   {
    "duration": 4,
    "start_time": "2023-08-23T15:51:21.488Z"
   },
   {
    "duration": 5,
    "start_time": "2023-08-23T15:51:21.658Z"
   },
   {
    "duration": 15,
    "start_time": "2023-08-23T15:51:21.993Z"
   },
   {
    "duration": 7,
    "start_time": "2023-08-23T15:51:22.078Z"
   },
   {
    "duration": 10,
    "start_time": "2023-08-23T15:51:22.410Z"
   },
   {
    "duration": 10,
    "start_time": "2023-08-23T15:51:22.493Z"
   },
   {
    "duration": 4,
    "start_time": "2023-08-23T15:51:22.594Z"
   },
   {
    "duration": 16,
    "start_time": "2023-08-23T15:51:22.661Z"
   },
   {
    "duration": 16,
    "start_time": "2023-08-23T15:51:22.744Z"
   },
   {
    "duration": 12,
    "start_time": "2023-08-23T15:51:22.829Z"
   },
   {
    "duration": 16,
    "start_time": "2023-08-23T15:51:23.449Z"
   },
   {
    "duration": 12,
    "start_time": "2023-08-23T15:51:23.605Z"
   },
   {
    "duration": 5,
    "start_time": "2023-08-23T15:51:23.762Z"
   },
   {
    "duration": 8,
    "start_time": "2023-08-23T15:51:23.944Z"
   },
   {
    "duration": 6,
    "start_time": "2023-08-23T15:51:25.632Z"
   },
   {
    "duration": 5,
    "start_time": "2023-08-23T15:51:25.945Z"
   },
   {
    "duration": 5,
    "start_time": "2023-08-23T15:51:26.101Z"
   },
   {
    "duration": 5,
    "start_time": "2023-08-23T15:51:26.284Z"
   },
   {
    "duration": 44,
    "start_time": "2023-08-23T15:51:26.439Z"
   },
   {
    "duration": 1432,
    "start_time": "2023-08-23T15:51:26.781Z"
   },
   {
    "duration": 793,
    "start_time": "2023-08-23T15:51:28.215Z"
   },
   {
    "duration": 952,
    "start_time": "2023-08-23T15:51:29.010Z"
   },
   {
    "duration": 10,
    "start_time": "2023-08-23T15:51:29.965Z"
   },
   {
    "duration": 376,
    "start_time": "2023-08-23T15:51:29.977Z"
   },
   {
    "duration": 3937,
    "start_time": "2023-08-23T15:51:30.355Z"
   },
   {
    "duration": 67895,
    "start_time": "2023-08-23T15:51:34.294Z"
   },
   {
    "duration": 2531,
    "start_time": "2023-08-23T15:52:42.191Z"
   },
   {
    "duration": 625,
    "start_time": "2023-08-23T15:52:44.724Z"
   },
   {
    "duration": 3713,
    "start_time": "2023-08-23T15:52:45.353Z"
   },
   {
    "duration": 3,
    "start_time": "2023-08-23T15:52:49.067Z"
   },
   {
    "duration": 11,
    "start_time": "2023-08-23T15:52:49.073Z"
   },
   {
    "duration": 72,
    "start_time": "2023-08-23T15:52:49.086Z"
   },
   {
    "duration": 7,
    "start_time": "2023-08-23T15:52:49.160Z"
   },
   {
    "duration": 43,
    "start_time": "2023-08-23T15:52:49.169Z"
   },
   {
    "duration": 12,
    "start_time": "2023-08-23T15:52:49.213Z"
   },
   {
    "duration": 19,
    "start_time": "2023-08-23T15:52:49.227Z"
   },
   {
    "duration": 40,
    "start_time": "2023-08-23T15:52:49.248Z"
   },
   {
    "duration": 23,
    "start_time": "2023-08-23T15:52:49.290Z"
   },
   {
    "duration": 6,
    "start_time": "2023-08-23T15:52:49.315Z"
   },
   {
    "duration": 9,
    "start_time": "2023-08-23T15:52:49.323Z"
   },
   {
    "duration": 54,
    "start_time": "2023-08-23T15:52:49.333Z"
   },
   {
    "duration": 3,
    "start_time": "2023-08-23T15:52:49.389Z"
   },
   {
    "duration": 26706,
    "start_time": "2023-08-23T15:52:49.395Z"
   },
   {
    "duration": 5,
    "start_time": "2023-08-23T15:53:55.622Z"
   },
   {
    "duration": 20901,
    "start_time": "2023-08-23T15:54:17.381Z"
   },
   {
    "duration": 776,
    "start_time": "2023-08-23T15:54:38.284Z"
   },
   {
    "duration": 10,
    "start_time": "2023-08-23T15:54:39.062Z"
   },
   {
    "duration": 14,
    "start_time": "2023-08-23T15:54:39.075Z"
   },
   {
    "duration": 58138,
    "start_time": "2023-08-23T15:54:39.091Z"
   },
   {
    "duration": 4,
    "start_time": "2023-08-23T15:55:37.231Z"
   },
   {
    "duration": 47892,
    "start_time": "2023-08-23T15:55:37.237Z"
   },
   {
    "duration": 725,
    "start_time": "2023-08-23T15:56:25.131Z"
   },
   {
    "duration": 9,
    "start_time": "2023-08-23T15:56:25.858Z"
   },
   {
    "duration": 89,
    "start_time": "2023-08-23T15:56:25.869Z"
   },
   {
    "duration": 3,
    "start_time": "2023-08-23T15:56:25.961Z"
   },
   {
    "duration": 1376,
    "start_time": "2023-08-23T15:56:25.965Z"
   },
   {
    "duration": 11,
    "start_time": "2023-08-23T15:56:27.342Z"
   },
   {
    "duration": 1298,
    "start_time": "2023-08-23T15:56:27.355Z"
   },
   {
    "duration": 698,
    "start_time": "2023-08-23T15:56:28.655Z"
   },
   {
    "duration": 10,
    "start_time": "2023-08-23T15:56:29.355Z"
   },
   {
    "duration": 6,
    "start_time": "2023-08-23T15:56:29.367Z"
   },
   {
    "duration": 6,
    "start_time": "2023-08-23T15:56:29.375Z"
   },
   {
    "duration": 4860,
    "start_time": "2023-08-23T15:56:29.383Z"
   },
   {
    "duration": 10947,
    "start_time": "2023-08-23T15:56:34.245Z"
   },
   {
    "duration": 311,
    "start_time": "2023-08-23T15:56:45.194Z"
   },
   {
    "duration": 9,
    "start_time": "2023-08-23T15:56:45.507Z"
   },
   {
    "duration": 40,
    "start_time": "2023-08-23T15:56:45.517Z"
   },
   {
    "duration": 10908,
    "start_time": "2023-08-23T15:56:45.559Z"
   },
   {
    "duration": 585,
    "start_time": "2023-08-23T15:56:56.469Z"
   },
   {
    "duration": 3,
    "start_time": "2023-08-23T15:56:57.056Z"
   },
   {
    "duration": 17,
    "start_time": "2023-08-23T15:56:57.060Z"
   },
   {
    "duration": 20,
    "start_time": "2023-08-23T15:56:57.081Z"
   },
   {
    "duration": 20,
    "start_time": "2023-08-23T15:56:57.103Z"
   },
   {
    "duration": 30760,
    "start_time": "2023-08-23T15:56:57.124Z"
   },
   {
    "duration": 790,
    "start_time": "2023-08-23T15:57:27.887Z"
   },
   {
    "duration": 8,
    "start_time": "2023-08-23T15:57:28.679Z"
   },
   {
    "duration": 14965,
    "start_time": "2023-08-23T15:57:28.689Z"
   },
   {
    "duration": 9,
    "start_time": "2023-08-23T15:57:43.656Z"
   },
   {
    "duration": 3,
    "start_time": "2023-08-23T15:57:43.667Z"
   },
   {
    "duration": 7048,
    "start_time": "2023-08-23T15:57:43.672Z"
   },
   {
    "duration": 13,
    "start_time": "2023-08-23T15:57:50.722Z"
   },
   {
    "duration": 10,
    "start_time": "2023-08-23T15:57:50.737Z"
   },
   {
    "duration": 722,
    "start_time": "2023-08-23T15:57:50.749Z"
   },
   {
    "duration": 488,
    "start_time": "2023-08-23T15:57:51.473Z"
   },
   {
    "duration": 369,
    "start_time": "2023-08-23T15:57:51.963Z"
   },
   {
    "duration": 679,
    "start_time": "2023-08-23T15:57:52.334Z"
   },
   {
    "duration": 7,
    "start_time": "2023-08-23T15:57:53.016Z"
   },
   {
    "duration": 2574,
    "start_time": "2023-08-23T15:57:53.025Z"
   },
   {
    "duration": 5,
    "start_time": "2023-08-23T16:03:56.989Z"
   },
   {
    "duration": 3289,
    "start_time": "2023-08-23T16:04:18.944Z"
   },
   {
    "duration": 2113,
    "start_time": "2023-08-23T16:04:57.774Z"
   },
   {
    "duration": 5,
    "start_time": "2023-08-23T16:05:13.147Z"
   },
   {
    "duration": 25354,
    "start_time": "2023-08-23T16:05:18.911Z"
   },
   {
    "duration": 25515,
    "start_time": "2023-08-23T16:06:06.392Z"
   },
   {
    "duration": 3,
    "start_time": "2023-08-23T16:06:31.910Z"
   },
   {
    "duration": 64985,
    "start_time": "2023-08-23T16:06:31.915Z"
   },
   {
    "duration": 8,
    "start_time": "2023-08-23T16:08:34.968Z"
   },
   {
    "duration": 10,
    "start_time": "2023-08-23T16:09:09.513Z"
   },
   {
    "duration": 5,
    "start_time": "2023-08-23T16:10:40.161Z"
   },
   {
    "duration": 4,
    "start_time": "2023-08-23T16:10:56.328Z"
   },
   {
    "duration": 24,
    "start_time": "2023-08-23T16:13:54.191Z"
   },
   {
    "duration": 20,
    "start_time": "2023-08-23T16:13:56.778Z"
   },
   {
    "duration": 15,
    "start_time": "2023-08-23T16:14:29.334Z"
   },
   {
    "duration": 15,
    "start_time": "2023-08-23T16:14:47.028Z"
   },
   {
    "duration": 19,
    "start_time": "2023-08-23T16:14:50.385Z"
   },
   {
    "duration": 17,
    "start_time": "2023-08-23T16:14:55.773Z"
   },
   {
    "duration": 28,
    "start_time": "2023-08-23T16:15:01.949Z"
   },
   {
    "duration": 104,
    "start_time": "2023-08-23T16:15:11.024Z"
   },
   {
    "duration": 16,
    "start_time": "2023-08-23T16:15:15.114Z"
   },
   {
    "duration": 8,
    "start_time": "2023-08-23T16:17:18.773Z"
   },
   {
    "duration": 110,
    "start_time": "2023-08-23T16:17:23.325Z"
   },
   {
    "duration": 6,
    "start_time": "2023-08-23T16:17:42.884Z"
   },
   {
    "duration": 135,
    "start_time": "2023-08-23T16:17:46.393Z"
   },
   {
    "duration": 71,
    "start_time": "2023-08-23T16:18:38.037Z"
   },
   {
    "duration": 5,
    "start_time": "2023-08-23T16:18:41.880Z"
   },
   {
    "duration": 63462,
    "start_time": "2023-08-23T16:18:44.673Z"
   },
   {
    "duration": 4,
    "start_time": "2023-08-23T16:19:48.138Z"
   },
   {
    "duration": 61537,
    "start_time": "2023-08-23T16:19:48.144Z"
   },
   {
    "duration": 7,
    "start_time": "2023-08-23T16:21:01.444Z"
   },
   {
    "duration": 9,
    "start_time": "2023-08-23T16:21:10.331Z"
   },
   {
    "duration": 94,
    "start_time": "2023-08-23T16:22:44.069Z"
   },
   {
    "duration": 90,
    "start_time": "2023-08-23T16:22:47.027Z"
   },
   {
    "duration": 4,
    "start_time": "2023-08-23T16:22:49.435Z"
   },
   {
    "duration": 9,
    "start_time": "2023-08-23T16:23:06.128Z"
   },
   {
    "duration": 5,
    "start_time": "2023-08-23T16:23:25.323Z"
   },
   {
    "duration": 9,
    "start_time": "2023-08-23T16:23:27.423Z"
   },
   {
    "duration": 5,
    "start_time": "2023-08-23T16:24:10.381Z"
   },
   {
    "duration": 55902,
    "start_time": "2023-08-23T16:26:36.222Z"
   },
   {
    "duration": 2686,
    "start_time": "2023-08-23T16:27:32.128Z"
   },
   {
    "duration": 0,
    "start_time": "2023-08-23T16:27:34.820Z"
   },
   {
    "duration": 0,
    "start_time": "2023-08-23T16:27:34.822Z"
   },
   {
    "duration": 0,
    "start_time": "2023-08-23T16:27:34.824Z"
   },
   {
    "duration": 0,
    "start_time": "2023-08-23T16:27:34.825Z"
   },
   {
    "duration": 0,
    "start_time": "2023-08-23T16:27:34.827Z"
   },
   {
    "duration": 0,
    "start_time": "2023-08-23T16:27:34.829Z"
   },
   {
    "duration": 0,
    "start_time": "2023-08-23T16:27:34.830Z"
   },
   {
    "duration": 0,
    "start_time": "2023-08-23T16:27:34.853Z"
   },
   {
    "duration": 0,
    "start_time": "2023-08-23T16:27:34.854Z"
   },
   {
    "duration": 0,
    "start_time": "2023-08-23T16:27:34.856Z"
   },
   {
    "duration": 0,
    "start_time": "2023-08-23T16:27:34.857Z"
   },
   {
    "duration": 0,
    "start_time": "2023-08-23T16:27:34.859Z"
   },
   {
    "duration": 0,
    "start_time": "2023-08-23T16:27:34.860Z"
   },
   {
    "duration": 0,
    "start_time": "2023-08-23T16:27:34.862Z"
   },
   {
    "duration": 0,
    "start_time": "2023-08-23T16:27:34.863Z"
   },
   {
    "duration": 0,
    "start_time": "2023-08-23T16:27:34.865Z"
   },
   {
    "duration": 0,
    "start_time": "2023-08-23T16:27:34.866Z"
   },
   {
    "duration": 0,
    "start_time": "2023-08-23T16:27:34.867Z"
   },
   {
    "duration": 0,
    "start_time": "2023-08-23T16:27:34.868Z"
   },
   {
    "duration": 0,
    "start_time": "2023-08-23T16:27:34.869Z"
   },
   {
    "duration": 0,
    "start_time": "2023-08-23T16:27:34.870Z"
   },
   {
    "duration": 0,
    "start_time": "2023-08-23T16:27:34.872Z"
   },
   {
    "duration": 0,
    "start_time": "2023-08-23T16:27:34.873Z"
   },
   {
    "duration": 0,
    "start_time": "2023-08-23T16:27:34.874Z"
   },
   {
    "duration": 0,
    "start_time": "2023-08-23T16:27:34.875Z"
   },
   {
    "duration": 0,
    "start_time": "2023-08-23T16:27:34.876Z"
   },
   {
    "duration": 0,
    "start_time": "2023-08-23T16:27:34.877Z"
   },
   {
    "duration": 0,
    "start_time": "2023-08-23T16:27:34.878Z"
   },
   {
    "duration": 0,
    "start_time": "2023-08-23T16:27:34.880Z"
   },
   {
    "duration": 0,
    "start_time": "2023-08-23T16:27:34.881Z"
   },
   {
    "duration": 0,
    "start_time": "2023-08-23T16:27:34.883Z"
   },
   {
    "duration": 0,
    "start_time": "2023-08-23T16:27:34.884Z"
   },
   {
    "duration": 0,
    "start_time": "2023-08-23T16:27:34.886Z"
   },
   {
    "duration": 0,
    "start_time": "2023-08-23T16:27:34.887Z"
   },
   {
    "duration": 0,
    "start_time": "2023-08-23T16:27:34.889Z"
   },
   {
    "duration": 0,
    "start_time": "2023-08-23T16:27:34.891Z"
   },
   {
    "duration": 0,
    "start_time": "2023-08-23T16:27:34.893Z"
   },
   {
    "duration": 0,
    "start_time": "2023-08-23T16:27:34.953Z"
   },
   {
    "duration": 0,
    "start_time": "2023-08-23T16:27:34.955Z"
   },
   {
    "duration": 0,
    "start_time": "2023-08-23T16:27:34.956Z"
   },
   {
    "duration": 0,
    "start_time": "2023-08-23T16:27:34.958Z"
   },
   {
    "duration": 0,
    "start_time": "2023-08-23T16:27:34.959Z"
   },
   {
    "duration": 0,
    "start_time": "2023-08-23T16:27:34.961Z"
   },
   {
    "duration": 0,
    "start_time": "2023-08-23T16:27:34.962Z"
   },
   {
    "duration": 0,
    "start_time": "2023-08-23T16:27:34.963Z"
   },
   {
    "duration": 0,
    "start_time": "2023-08-23T16:27:34.964Z"
   },
   {
    "duration": 0,
    "start_time": "2023-08-23T16:27:34.966Z"
   },
   {
    "duration": 0,
    "start_time": "2023-08-23T16:27:34.967Z"
   },
   {
    "duration": 0,
    "start_time": "2023-08-23T16:27:34.968Z"
   },
   {
    "duration": 0,
    "start_time": "2023-08-23T16:27:34.969Z"
   },
   {
    "duration": 0,
    "start_time": "2023-08-23T16:27:34.971Z"
   },
   {
    "duration": 1,
    "start_time": "2023-08-23T16:27:34.972Z"
   },
   {
    "duration": 0,
    "start_time": "2023-08-23T16:27:34.973Z"
   },
   {
    "duration": 0,
    "start_time": "2023-08-23T16:27:34.975Z"
   },
   {
    "duration": 0,
    "start_time": "2023-08-23T16:27:34.976Z"
   },
   {
    "duration": 0,
    "start_time": "2023-08-23T16:27:34.977Z"
   },
   {
    "duration": 0,
    "start_time": "2023-08-23T16:27:34.978Z"
   },
   {
    "duration": 0,
    "start_time": "2023-08-23T16:27:34.979Z"
   },
   {
    "duration": 1,
    "start_time": "2023-08-23T16:27:34.980Z"
   },
   {
    "duration": 0,
    "start_time": "2023-08-23T16:27:34.982Z"
   },
   {
    "duration": 0,
    "start_time": "2023-08-23T16:27:34.983Z"
   },
   {
    "duration": 0,
    "start_time": "2023-08-23T16:27:34.984Z"
   },
   {
    "duration": 0,
    "start_time": "2023-08-23T16:27:34.985Z"
   },
   {
    "duration": 0,
    "start_time": "2023-08-23T16:27:34.987Z"
   },
   {
    "duration": 0,
    "start_time": "2023-08-23T16:27:34.987Z"
   },
   {
    "duration": 0,
    "start_time": "2023-08-23T16:27:34.988Z"
   },
   {
    "duration": 0,
    "start_time": "2023-08-23T16:27:34.989Z"
   },
   {
    "duration": 0,
    "start_time": "2023-08-23T16:27:35.052Z"
   },
   {
    "duration": 0,
    "start_time": "2023-08-23T16:27:35.054Z"
   },
   {
    "duration": 0,
    "start_time": "2023-08-23T16:27:35.055Z"
   },
   {
    "duration": 0,
    "start_time": "2023-08-23T16:27:35.056Z"
   },
   {
    "duration": 0,
    "start_time": "2023-08-23T16:27:35.058Z"
   },
   {
    "duration": 0,
    "start_time": "2023-08-23T16:27:35.060Z"
   },
   {
    "duration": 0,
    "start_time": "2023-08-23T16:27:35.061Z"
   },
   {
    "duration": 0,
    "start_time": "2023-08-23T16:27:35.062Z"
   },
   {
    "duration": 0,
    "start_time": "2023-08-23T16:27:35.063Z"
   },
   {
    "duration": 0,
    "start_time": "2023-08-23T16:27:35.064Z"
   },
   {
    "duration": 0,
    "start_time": "2023-08-23T16:27:35.066Z"
   },
   {
    "duration": 0,
    "start_time": "2023-08-23T16:27:35.070Z"
   },
   {
    "duration": 0,
    "start_time": "2023-08-23T16:27:35.071Z"
   },
   {
    "duration": 0,
    "start_time": "2023-08-23T16:27:35.073Z"
   },
   {
    "duration": 0,
    "start_time": "2023-08-23T16:27:35.075Z"
   },
   {
    "duration": 0,
    "start_time": "2023-08-23T16:27:35.076Z"
   },
   {
    "duration": 0,
    "start_time": "2023-08-23T16:27:35.077Z"
   },
   {
    "duration": 0,
    "start_time": "2023-08-23T16:27:35.079Z"
   },
   {
    "duration": 0,
    "start_time": "2023-08-23T16:27:35.080Z"
   },
   {
    "duration": 0,
    "start_time": "2023-08-23T16:27:35.082Z"
   },
   {
    "duration": 0,
    "start_time": "2023-08-23T16:27:35.083Z"
   },
   {
    "duration": 0,
    "start_time": "2023-08-23T16:27:35.084Z"
   },
   {
    "duration": 0,
    "start_time": "2023-08-23T16:27:35.086Z"
   },
   {
    "duration": 0,
    "start_time": "2023-08-23T16:27:35.087Z"
   },
   {
    "duration": 0,
    "start_time": "2023-08-23T16:27:35.089Z"
   },
   {
    "duration": 0,
    "start_time": "2023-08-23T16:27:35.090Z"
   },
   {
    "duration": 0,
    "start_time": "2023-08-23T16:27:35.152Z"
   },
   {
    "duration": 1,
    "start_time": "2023-08-23T16:27:35.153Z"
   },
   {
    "duration": 0,
    "start_time": "2023-08-23T16:27:35.154Z"
   },
   {
    "duration": 0,
    "start_time": "2023-08-23T16:27:35.156Z"
   },
   {
    "duration": 0,
    "start_time": "2023-08-23T16:27:35.157Z"
   },
   {
    "duration": 54465,
    "start_time": "2023-08-23T16:28:08.833Z"
   },
   {
    "duration": 30,
    "start_time": "2023-08-23T16:29:03.301Z"
   },
   {
    "duration": 2908,
    "start_time": "2023-08-23T16:29:32.461Z"
   },
   {
    "duration": 38,
    "start_time": "2023-08-23T16:29:36.429Z"
   },
   {
    "duration": 3191,
    "start_time": "2023-08-23T16:29:50.616Z"
   },
   {
    "duration": 110,
    "start_time": "2023-08-23T16:30:12.833Z"
   },
   {
    "duration": 163,
    "start_time": "2023-08-23T16:30:12.946Z"
   },
   {
    "duration": 44,
    "start_time": "2023-08-23T16:30:13.111Z"
   },
   {
    "duration": 9,
    "start_time": "2023-08-23T16:30:13.158Z"
   },
   {
    "duration": 15,
    "start_time": "2023-08-23T16:30:13.170Z"
   },
   {
    "duration": 6,
    "start_time": "2023-08-23T16:30:13.187Z"
   },
   {
    "duration": 21,
    "start_time": "2023-08-23T16:30:13.194Z"
   },
   {
    "duration": 19,
    "start_time": "2023-08-23T16:30:13.253Z"
   },
   {
    "duration": 21,
    "start_time": "2023-08-23T16:30:13.274Z"
   },
   {
    "duration": 5,
    "start_time": "2023-08-23T16:30:13.297Z"
   },
   {
    "duration": 8,
    "start_time": "2023-08-23T16:30:13.304Z"
   },
   {
    "duration": 45,
    "start_time": "2023-08-23T16:30:13.314Z"
   },
   {
    "duration": 7,
    "start_time": "2023-08-23T16:30:13.361Z"
   },
   {
    "duration": 12,
    "start_time": "2023-08-23T16:30:13.372Z"
   },
   {
    "duration": 13,
    "start_time": "2023-08-23T16:30:13.387Z"
   },
   {
    "duration": 4,
    "start_time": "2023-08-23T16:30:13.403Z"
   },
   {
    "duration": 47,
    "start_time": "2023-08-23T16:30:13.409Z"
   },
   {
    "duration": 19,
    "start_time": "2023-08-23T16:30:13.458Z"
   },
   {
    "duration": 21,
    "start_time": "2023-08-23T16:30:13.479Z"
   },
   {
    "duration": 21,
    "start_time": "2023-08-23T16:30:13.502Z"
   },
   {
    "duration": 19,
    "start_time": "2023-08-23T16:30:13.552Z"
   },
   {
    "duration": 5,
    "start_time": "2023-08-23T16:30:13.574Z"
   },
   {
    "duration": 8,
    "start_time": "2023-08-23T16:30:13.581Z"
   },
   {
    "duration": 8,
    "start_time": "2023-08-23T16:30:13.591Z"
   },
   {
    "duration": 6,
    "start_time": "2023-08-23T16:30:13.601Z"
   },
   {
    "duration": 44,
    "start_time": "2023-08-23T16:30:13.609Z"
   },
   {
    "duration": 6,
    "start_time": "2023-08-23T16:30:13.656Z"
   },
   {
    "duration": 56,
    "start_time": "2023-08-23T16:30:13.664Z"
   },
   {
    "duration": 1847,
    "start_time": "2023-08-23T16:30:13.723Z"
   },
   {
    "duration": 1716,
    "start_time": "2023-08-23T16:30:15.573Z"
   },
   {
    "duration": 1653,
    "start_time": "2023-08-23T16:30:17.292Z"
   },
   {
    "duration": 12,
    "start_time": "2023-08-23T16:30:18.953Z"
   },
   {
    "duration": 545,
    "start_time": "2023-08-23T16:30:18.968Z"
   },
   {
    "duration": 4341,
    "start_time": "2023-08-23T16:30:19.517Z"
   },
   {
    "duration": 69616,
    "start_time": "2023-08-23T16:30:23.860Z"
   },
   {
    "duration": 2515,
    "start_time": "2023-08-23T16:31:33.478Z"
   },
   {
    "duration": 668,
    "start_time": "2023-08-23T16:31:35.995Z"
   },
   {
    "duration": 3941,
    "start_time": "2023-08-23T16:31:36.665Z"
   },
   {
    "duration": 5,
    "start_time": "2023-08-23T16:31:40.609Z"
   },
   {
    "duration": 21,
    "start_time": "2023-08-23T16:31:40.616Z"
   },
   {
    "duration": 43,
    "start_time": "2023-08-23T16:31:40.643Z"
   },
   {
    "duration": 9,
    "start_time": "2023-08-23T16:31:40.688Z"
   },
   {
    "duration": 9,
    "start_time": "2023-08-23T16:31:40.698Z"
   },
   {
    "duration": 13,
    "start_time": "2023-08-23T16:31:40.709Z"
   },
   {
    "duration": 29,
    "start_time": "2023-08-23T16:31:40.724Z"
   },
   {
    "duration": 22,
    "start_time": "2023-08-23T16:31:40.755Z"
   },
   {
    "duration": 8,
    "start_time": "2023-08-23T16:31:40.779Z"
   },
   {
    "duration": 8,
    "start_time": "2023-08-23T16:31:40.788Z"
   },
   {
    "duration": 8,
    "start_time": "2023-08-23T16:31:40.798Z"
   },
   {
    "duration": 67,
    "start_time": "2023-08-23T16:31:40.808Z"
   },
   {
    "duration": 3,
    "start_time": "2023-08-23T16:31:40.877Z"
   },
   {
    "duration": 26213,
    "start_time": "2023-08-23T16:31:40.882Z"
   },
   {
    "duration": 5,
    "start_time": "2023-08-23T16:32:07.097Z"
   },
   {
    "duration": 20310,
    "start_time": "2023-08-23T16:32:07.103Z"
   },
   {
    "duration": 779,
    "start_time": "2023-08-23T16:32:27.415Z"
   },
   {
    "duration": 10,
    "start_time": "2023-08-23T16:32:28.196Z"
   },
   {
    "duration": 8,
    "start_time": "2023-08-23T16:32:28.207Z"
   },
   {
    "duration": 63699,
    "start_time": "2023-08-23T16:32:28.217Z"
   },
   {
    "duration": 4,
    "start_time": "2023-08-23T16:33:31.918Z"
   },
   {
    "duration": 3238,
    "start_time": "2023-08-23T16:33:31.924Z"
   },
   {
    "duration": 0,
    "start_time": "2023-08-23T16:33:35.165Z"
   },
   {
    "duration": 0,
    "start_time": "2023-08-23T16:33:35.166Z"
   },
   {
    "duration": 0,
    "start_time": "2023-08-23T16:33:35.168Z"
   },
   {
    "duration": 0,
    "start_time": "2023-08-23T16:33:35.170Z"
   },
   {
    "duration": 0,
    "start_time": "2023-08-23T16:33:35.171Z"
   },
   {
    "duration": 0,
    "start_time": "2023-08-23T16:33:35.173Z"
   },
   {
    "duration": 0,
    "start_time": "2023-08-23T16:33:35.175Z"
   },
   {
    "duration": 0,
    "start_time": "2023-08-23T16:33:35.176Z"
   },
   {
    "duration": 0,
    "start_time": "2023-08-23T16:33:35.177Z"
   },
   {
    "duration": 0,
    "start_time": "2023-08-23T16:33:35.179Z"
   },
   {
    "duration": 0,
    "start_time": "2023-08-23T16:33:35.180Z"
   },
   {
    "duration": 0,
    "start_time": "2023-08-23T16:33:35.182Z"
   },
   {
    "duration": 0,
    "start_time": "2023-08-23T16:33:35.184Z"
   },
   {
    "duration": 0,
    "start_time": "2023-08-23T16:33:35.185Z"
   },
   {
    "duration": 0,
    "start_time": "2023-08-23T16:33:35.187Z"
   },
   {
    "duration": 0,
    "start_time": "2023-08-23T16:33:35.188Z"
   },
   {
    "duration": 0,
    "start_time": "2023-08-23T16:33:35.190Z"
   },
   {
    "duration": 0,
    "start_time": "2023-08-23T16:33:35.191Z"
   },
   {
    "duration": 0,
    "start_time": "2023-08-23T16:33:35.193Z"
   },
   {
    "duration": 0,
    "start_time": "2023-08-23T16:33:35.194Z"
   },
   {
    "duration": 0,
    "start_time": "2023-08-23T16:33:35.196Z"
   },
   {
    "duration": 0,
    "start_time": "2023-08-23T16:33:35.197Z"
   },
   {
    "duration": 0,
    "start_time": "2023-08-23T16:33:35.198Z"
   },
   {
    "duration": 0,
    "start_time": "2023-08-23T16:33:35.200Z"
   },
   {
    "duration": 0,
    "start_time": "2023-08-23T16:33:35.255Z"
   },
   {
    "duration": 0,
    "start_time": "2023-08-23T16:33:35.256Z"
   },
   {
    "duration": 0,
    "start_time": "2023-08-23T16:33:35.257Z"
   },
   {
    "duration": 0,
    "start_time": "2023-08-23T16:33:35.259Z"
   },
   {
    "duration": 0,
    "start_time": "2023-08-23T16:33:35.262Z"
   },
   {
    "duration": 0,
    "start_time": "2023-08-23T16:33:35.263Z"
   },
   {
    "duration": 1,
    "start_time": "2023-08-23T16:33:35.264Z"
   },
   {
    "duration": 0,
    "start_time": "2023-08-23T16:33:35.266Z"
   },
   {
    "duration": 1,
    "start_time": "2023-08-23T16:33:35.269Z"
   },
   {
    "duration": 0,
    "start_time": "2023-08-23T16:33:35.271Z"
   },
   {
    "duration": 0,
    "start_time": "2023-08-23T16:33:35.273Z"
   },
   {
    "duration": 0,
    "start_time": "2023-08-23T16:33:35.274Z"
   },
   {
    "duration": 0,
    "start_time": "2023-08-23T16:33:35.276Z"
   },
   {
    "duration": 107,
    "start_time": "2023-08-23T16:34:25.781Z"
   },
   {
    "duration": 3098,
    "start_time": "2023-08-23T16:34:36.883Z"
   },
   {
    "duration": 3,
    "start_time": "2023-08-23T16:34:44.877Z"
   },
   {
    "duration": 55118,
    "start_time": "2023-08-23T16:35:31.878Z"
   },
   {
    "duration": 2971,
    "start_time": "2023-08-23T16:36:26.999Z"
   },
   {
    "duration": 3,
    "start_time": "2023-08-23T16:36:29.972Z"
   },
   {
    "duration": 102,
    "start_time": "2023-08-23T16:36:29.976Z"
   },
   {
    "duration": 176,
    "start_time": "2023-08-23T16:36:30.081Z"
   },
   {
    "duration": 14,
    "start_time": "2023-08-23T16:36:30.260Z"
   },
   {
    "duration": 19,
    "start_time": "2023-08-23T16:36:30.276Z"
   },
   {
    "duration": 37,
    "start_time": "2023-08-23T16:36:30.298Z"
   },
   {
    "duration": 31,
    "start_time": "2023-08-23T16:36:30.337Z"
   },
   {
    "duration": 65,
    "start_time": "2023-08-23T16:36:30.371Z"
   },
   {
    "duration": 31,
    "start_time": "2023-08-23T16:36:30.439Z"
   },
   {
    "duration": 70,
    "start_time": "2023-08-23T16:36:30.472Z"
   },
   {
    "duration": 34,
    "start_time": "2023-08-23T16:36:30.545Z"
   },
   {
    "duration": 36,
    "start_time": "2023-08-23T16:36:30.584Z"
   },
   {
    "duration": 49,
    "start_time": "2023-08-23T16:36:30.622Z"
   },
   {
    "duration": 42,
    "start_time": "2023-08-23T16:36:30.674Z"
   },
   {
    "duration": 57,
    "start_time": "2023-08-23T16:36:30.719Z"
   },
   {
    "duration": 48,
    "start_time": "2023-08-23T16:36:30.778Z"
   },
   {
    "duration": 25,
    "start_time": "2023-08-23T16:36:30.828Z"
   },
   {
    "duration": 44,
    "start_time": "2023-08-23T16:36:30.855Z"
   },
   {
    "duration": 43,
    "start_time": "2023-08-23T16:36:30.900Z"
   },
   {
    "duration": 45,
    "start_time": "2023-08-23T16:36:30.945Z"
   },
   {
    "duration": 26,
    "start_time": "2023-08-23T16:36:30.992Z"
   },
   {
    "duration": 24,
    "start_time": "2023-08-23T16:36:31.020Z"
   },
   {
    "duration": 34,
    "start_time": "2023-08-23T16:36:31.046Z"
   },
   {
    "duration": 33,
    "start_time": "2023-08-23T16:36:31.082Z"
   },
   {
    "duration": 22,
    "start_time": "2023-08-23T16:36:31.117Z"
   },
   {
    "duration": 22,
    "start_time": "2023-08-23T16:36:31.142Z"
   },
   {
    "duration": 34,
    "start_time": "2023-08-23T16:36:31.166Z"
   },
   {
    "duration": 26,
    "start_time": "2023-08-23T16:36:31.202Z"
   },
   {
    "duration": 72,
    "start_time": "2023-08-23T16:36:31.230Z"
   },
   {
    "duration": 1621,
    "start_time": "2023-08-23T16:36:31.304Z"
   },
   {
    "duration": 735,
    "start_time": "2023-08-23T16:36:32.927Z"
   },
   {
    "duration": 991,
    "start_time": "2023-08-23T16:36:33.665Z"
   },
   {
    "duration": 9,
    "start_time": "2023-08-23T16:36:34.659Z"
   },
   {
    "duration": 406,
    "start_time": "2023-08-23T16:36:34.670Z"
   },
   {
    "duration": 4072,
    "start_time": "2023-08-23T16:36:35.078Z"
   },
   {
    "duration": 67941,
    "start_time": "2023-08-23T16:36:39.153Z"
   },
   {
    "duration": 2736,
    "start_time": "2023-08-23T16:37:47.096Z"
   },
   {
    "duration": 636,
    "start_time": "2023-08-23T16:37:49.834Z"
   },
   {
    "duration": 3772,
    "start_time": "2023-08-23T16:37:50.476Z"
   },
   {
    "duration": 3,
    "start_time": "2023-08-23T16:37:54.252Z"
   },
   {
    "duration": 37,
    "start_time": "2023-08-23T16:37:54.258Z"
   },
   {
    "duration": 48,
    "start_time": "2023-08-23T16:37:54.297Z"
   },
   {
    "duration": 14,
    "start_time": "2023-08-23T16:37:54.347Z"
   },
   {
    "duration": 4,
    "start_time": "2023-08-23T16:37:54.363Z"
   },
   {
    "duration": 7,
    "start_time": "2023-08-23T16:37:54.369Z"
   },
   {
    "duration": 12,
    "start_time": "2023-08-23T16:37:54.377Z"
   },
   {
    "duration": 17,
    "start_time": "2023-08-23T16:37:54.391Z"
   },
   {
    "duration": 10,
    "start_time": "2023-08-23T16:37:54.410Z"
   },
   {
    "duration": 5,
    "start_time": "2023-08-23T16:37:54.422Z"
   },
   {
    "duration": 7,
    "start_time": "2023-08-23T16:37:54.429Z"
   },
   {
    "duration": 55,
    "start_time": "2023-08-23T16:37:54.438Z"
   },
   {
    "duration": 3,
    "start_time": "2023-08-23T16:37:54.495Z"
   },
   {
    "duration": 25268,
    "start_time": "2023-08-23T16:37:54.500Z"
   },
   {
    "duration": 4,
    "start_time": "2023-08-23T16:38:19.770Z"
   },
   {
    "duration": 19824,
    "start_time": "2023-08-23T16:38:19.776Z"
   },
   {
    "duration": 770,
    "start_time": "2023-08-23T16:38:39.603Z"
   },
   {
    "duration": 9,
    "start_time": "2023-08-23T16:38:40.374Z"
   },
   {
    "duration": 5,
    "start_time": "2023-08-23T16:38:40.385Z"
   },
   {
    "duration": 60269,
    "start_time": "2023-08-23T16:38:40.391Z"
   },
   {
    "duration": 4,
    "start_time": "2023-08-23T16:39:40.662Z"
   },
   {
    "duration": 49791,
    "start_time": "2023-08-23T16:39:40.668Z"
   },
   {
    "duration": 956,
    "start_time": "2023-08-23T16:40:30.461Z"
   },
   {
    "duration": 10,
    "start_time": "2023-08-23T16:40:31.420Z"
   },
   {
    "duration": 56,
    "start_time": "2023-08-23T16:40:31.432Z"
   },
   {
    "duration": 3,
    "start_time": "2023-08-23T16:40:31.490Z"
   },
   {
    "duration": 1711,
    "start_time": "2023-08-23T16:40:31.495Z"
   },
   {
    "duration": 4,
    "start_time": "2023-08-23T16:40:33.207Z"
   },
   {
    "duration": 1269,
    "start_time": "2023-08-23T16:40:33.212Z"
   },
   {
    "duration": 791,
    "start_time": "2023-08-23T16:40:34.483Z"
   },
   {
    "duration": 14,
    "start_time": "2023-08-23T16:40:35.277Z"
   },
   {
    "duration": 5,
    "start_time": "2023-08-23T16:40:35.294Z"
   },
   {
    "duration": 9,
    "start_time": "2023-08-23T16:40:35.301Z"
   },
   {
    "duration": 5148,
    "start_time": "2023-08-23T16:40:35.312Z"
   },
   {
    "duration": 11196,
    "start_time": "2023-08-23T16:40:40.463Z"
   },
   {
    "duration": 327,
    "start_time": "2023-08-23T16:40:51.661Z"
   },
   {
    "duration": 7,
    "start_time": "2023-08-23T16:40:51.990Z"
   },
   {
    "duration": 21,
    "start_time": "2023-08-23T16:40:51.999Z"
   },
   {
    "duration": 11220,
    "start_time": "2023-08-23T16:40:52.022Z"
   },
   {
    "duration": 575,
    "start_time": "2023-08-23T16:41:03.244Z"
   },
   {
    "duration": 3,
    "start_time": "2023-08-23T16:41:03.822Z"
   },
   {
    "duration": 6,
    "start_time": "2023-08-23T16:41:03.827Z"
   },
   {
    "duration": 18,
    "start_time": "2023-08-23T16:41:03.835Z"
   },
   {
    "duration": 5,
    "start_time": "2023-08-23T16:41:03.855Z"
   },
   {
    "duration": 31035,
    "start_time": "2023-08-23T16:41:03.861Z"
   },
   {
    "duration": 742,
    "start_time": "2023-08-23T16:41:34.897Z"
   },
   {
    "duration": 16,
    "start_time": "2023-08-23T16:41:35.641Z"
   },
   {
    "duration": 15559,
    "start_time": "2023-08-23T16:41:35.658Z"
   },
   {
    "duration": 9,
    "start_time": "2023-08-23T16:41:51.219Z"
   },
   {
    "duration": 5,
    "start_time": "2023-08-23T16:41:51.230Z"
   },
   {
    "duration": 7287,
    "start_time": "2023-08-23T16:41:51.253Z"
   },
   {
    "duration": 18,
    "start_time": "2023-08-23T16:41:58.542Z"
   },
   {
    "duration": 4,
    "start_time": "2023-08-23T16:41:58.562Z"
   },
   {
    "duration": 760,
    "start_time": "2023-08-23T16:41:58.568Z"
   },
   {
    "duration": 516,
    "start_time": "2023-08-23T16:41:59.330Z"
   },
   {
    "duration": 365,
    "start_time": "2023-08-23T16:41:59.848Z"
   },
   {
    "duration": 774,
    "start_time": "2023-08-23T16:42:00.215Z"
   },
   {
    "duration": 6,
    "start_time": "2023-08-23T16:42:00.991Z"
   },
   {
    "duration": 2739,
    "start_time": "2023-08-23T16:42:00.998Z"
   },
   {
    "duration": 51,
    "start_time": "2023-08-23T21:30:13.244Z"
   },
   {
    "duration": 233822,
    "start_time": "2023-08-23T21:30:20.031Z"
   },
   {
    "duration": 5001,
    "start_time": "2023-08-23T21:34:13.858Z"
   },
   {
    "duration": 6,
    "start_time": "2023-08-23T21:34:18.862Z"
   },
   {
    "duration": 684,
    "start_time": "2023-08-23T21:34:18.870Z"
   },
   {
    "duration": 240,
    "start_time": "2023-08-23T21:34:19.556Z"
   },
   {
    "duration": 34,
    "start_time": "2023-08-23T21:34:19.798Z"
   },
   {
    "duration": 18,
    "start_time": "2023-08-23T21:34:19.840Z"
   },
   {
    "duration": 25,
    "start_time": "2023-08-23T21:34:19.861Z"
   },
   {
    "duration": 22,
    "start_time": "2023-08-23T21:34:19.889Z"
   },
   {
    "duration": 43,
    "start_time": "2023-08-23T21:34:19.914Z"
   },
   {
    "duration": 17,
    "start_time": "2023-08-23T21:34:19.959Z"
   },
   {
    "duration": 38,
    "start_time": "2023-08-23T21:34:19.979Z"
   },
   {
    "duration": 8,
    "start_time": "2023-08-23T21:34:20.029Z"
   },
   {
    "duration": 90,
    "start_time": "2023-08-23T21:34:20.043Z"
   },
   {
    "duration": 86,
    "start_time": "2023-08-23T21:34:20.135Z"
   },
   {
    "duration": 15,
    "start_time": "2023-08-23T21:34:20.226Z"
   },
   {
    "duration": 22,
    "start_time": "2023-08-23T21:34:20.246Z"
   },
   {
    "duration": 19,
    "start_time": "2023-08-23T21:34:20.271Z"
   },
   {
    "duration": 48,
    "start_time": "2023-08-23T21:34:20.293Z"
   },
   {
    "duration": 44,
    "start_time": "2023-08-23T21:34:20.343Z"
   },
   {
    "duration": 44,
    "start_time": "2023-08-23T21:34:20.389Z"
   },
   {
    "duration": 30,
    "start_time": "2023-08-23T21:34:20.436Z"
   },
   {
    "duration": 24,
    "start_time": "2023-08-23T21:34:20.471Z"
   },
   {
    "duration": 32,
    "start_time": "2023-08-23T21:34:20.498Z"
   },
   {
    "duration": 5,
    "start_time": "2023-08-23T21:34:20.534Z"
   },
   {
    "duration": 34,
    "start_time": "2023-08-23T21:34:20.541Z"
   },
   {
    "duration": 8,
    "start_time": "2023-08-23T21:34:20.578Z"
   },
   {
    "duration": 13,
    "start_time": "2023-08-23T21:34:20.591Z"
   },
   {
    "duration": 12,
    "start_time": "2023-08-23T21:34:20.611Z"
   },
   {
    "duration": 8,
    "start_time": "2023-08-23T21:34:20.643Z"
   },
   {
    "duration": 93,
    "start_time": "2023-08-23T21:34:20.654Z"
   },
   {
    "duration": 2149,
    "start_time": "2023-08-23T21:34:20.750Z"
   },
   {
    "duration": 864,
    "start_time": "2023-08-23T21:34:22.916Z"
   },
   {
    "duration": 1198,
    "start_time": "2023-08-23T21:34:23.782Z"
   },
   {
    "duration": 14,
    "start_time": "2023-08-23T21:34:24.982Z"
   },
   {
    "duration": 558,
    "start_time": "2023-08-23T21:34:25.019Z"
   },
   {
    "duration": 4660,
    "start_time": "2023-08-23T21:34:25.579Z"
   },
   {
    "duration": 86024,
    "start_time": "2023-08-23T21:34:30.246Z"
   },
   {
    "duration": 3070,
    "start_time": "2023-08-23T21:35:56.273Z"
   },
   {
    "duration": 860,
    "start_time": "2023-08-23T21:35:59.354Z"
   },
   {
    "duration": 5909,
    "start_time": "2023-08-23T21:36:00.223Z"
   },
   {
    "duration": 7,
    "start_time": "2023-08-23T21:36:06.141Z"
   },
   {
    "duration": 34,
    "start_time": "2023-08-23T21:36:06.150Z"
   },
   {
    "duration": 100,
    "start_time": "2023-08-23T21:36:06.186Z"
   },
   {
    "duration": 9,
    "start_time": "2023-08-23T21:36:06.288Z"
   },
   {
    "duration": 24,
    "start_time": "2023-08-23T21:36:06.298Z"
   },
   {
    "duration": 32,
    "start_time": "2023-08-23T21:36:06.325Z"
   },
   {
    "duration": 20,
    "start_time": "2023-08-23T21:36:06.360Z"
   },
   {
    "duration": 38,
    "start_time": "2023-08-23T21:36:06.382Z"
   },
   {
    "duration": 10,
    "start_time": "2023-08-23T21:36:06.426Z"
   },
   {
    "duration": 5,
    "start_time": "2023-08-23T21:36:06.440Z"
   },
   {
    "duration": 7,
    "start_time": "2023-08-23T21:36:06.447Z"
   },
   {
    "duration": 74,
    "start_time": "2023-08-23T21:36:06.456Z"
   },
   {
    "duration": 8,
    "start_time": "2023-08-23T21:36:06.536Z"
   },
   {
    "duration": 29383,
    "start_time": "2023-08-23T21:36:06.552Z"
   },
   {
    "duration": 16,
    "start_time": "2023-08-23T21:36:35.937Z"
   },
   {
    "duration": 22951,
    "start_time": "2023-08-23T21:36:35.968Z"
   },
   {
    "duration": 869,
    "start_time": "2023-08-23T21:36:58.920Z"
   },
   {
    "duration": 22,
    "start_time": "2023-08-23T21:36:59.791Z"
   },
   {
    "duration": 9,
    "start_time": "2023-08-23T21:36:59.815Z"
   },
   {
    "duration": 85240,
    "start_time": "2023-08-23T21:36:59.826Z"
   },
   {
    "duration": 6,
    "start_time": "2023-08-23T21:38:25.068Z"
   },
   {
    "duration": 69669,
    "start_time": "2023-08-23T21:38:25.076Z"
   },
   {
    "duration": 843,
    "start_time": "2023-08-23T21:39:34.750Z"
   },
   {
    "duration": 25,
    "start_time": "2023-08-23T21:39:35.595Z"
   },
   {
    "duration": 61,
    "start_time": "2023-08-23T21:39:35.622Z"
   },
   {
    "duration": 4,
    "start_time": "2023-08-23T21:39:35.684Z"
   },
   {
    "duration": 1959,
    "start_time": "2023-08-23T21:39:35.690Z"
   },
   {
    "duration": 6,
    "start_time": "2023-08-23T21:39:37.653Z"
   },
   {
    "duration": 1445,
    "start_time": "2023-08-23T21:39:37.662Z"
   },
   {
    "duration": 838,
    "start_time": "2023-08-23T21:39:39.112Z"
   },
   {
    "duration": 14,
    "start_time": "2023-08-23T21:39:39.954Z"
   },
   {
    "duration": 8,
    "start_time": "2023-08-23T21:39:39.970Z"
   },
   {
    "duration": 6,
    "start_time": "2023-08-23T21:39:39.980Z"
   },
   {
    "duration": 5624,
    "start_time": "2023-08-23T21:39:39.988Z"
   },
   {
    "duration": 15441,
    "start_time": "2023-08-23T21:39:45.617Z"
   },
   {
    "duration": 336,
    "start_time": "2023-08-23T21:40:01.061Z"
   },
   {
    "duration": 14,
    "start_time": "2023-08-23T21:40:01.399Z"
   },
   {
    "duration": 45,
    "start_time": "2023-08-23T21:40:01.414Z"
   },
   {
    "duration": 16401,
    "start_time": "2023-08-23T21:40:01.461Z"
   },
   {
    "duration": 795,
    "start_time": "2023-08-23T21:40:17.864Z"
   },
   {
    "duration": 4,
    "start_time": "2023-08-23T21:40:18.670Z"
   },
   {
    "duration": 8,
    "start_time": "2023-08-23T21:40:18.677Z"
   },
   {
    "duration": 14,
    "start_time": "2023-08-23T21:40:18.689Z"
   },
   {
    "duration": 27,
    "start_time": "2023-08-23T21:40:18.706Z"
   },
   {
    "duration": 51997,
    "start_time": "2023-08-23T21:40:18.741Z"
   },
   {
    "duration": 992,
    "start_time": "2023-08-23T21:41:10.740Z"
   },
   {
    "duration": 31,
    "start_time": "2023-08-23T21:41:11.735Z"
   },
   {
    "duration": 21234,
    "start_time": "2023-08-23T21:41:11.775Z"
   },
   {
    "duration": 10,
    "start_time": "2023-08-23T21:41:33.016Z"
   },
   {
    "duration": 3,
    "start_time": "2023-08-23T21:41:33.028Z"
   },
   {
    "duration": 10667,
    "start_time": "2023-08-23T21:41:33.034Z"
   },
   {
    "duration": 36,
    "start_time": "2023-08-23T21:41:43.702Z"
   },
   {
    "duration": 10,
    "start_time": "2023-08-23T21:41:43.748Z"
   },
   {
    "duration": 1065,
    "start_time": "2023-08-23T21:41:43.760Z"
   },
   {
    "duration": 540,
    "start_time": "2023-08-23T21:41:44.827Z"
   },
   {
    "duration": 519,
    "start_time": "2023-08-23T21:41:45.369Z"
   },
   {
    "duration": 938,
    "start_time": "2023-08-23T21:41:45.890Z"
   },
   {
    "duration": 12,
    "start_time": "2023-08-23T21:41:46.830Z"
   },
   {
    "duration": 3008,
    "start_time": "2023-08-23T21:41:46.844Z"
   },
   {
    "duration": 30,
    "start_time": "2023-08-23T21:42:40.424Z"
   },
   {
    "duration": 5,
    "start_time": "2023-08-23T21:42:48.055Z"
   },
   {
    "duration": 279,
    "start_time": "2023-08-23T21:44:19.349Z"
   },
   {
    "duration": 4,
    "start_time": "2023-08-23T21:44:21.696Z"
   },
   {
    "duration": 7,
    "start_time": "2023-08-23T21:44:22.194Z"
   },
   {
    "duration": 16,
    "start_time": "2023-08-23T21:44:27.211Z"
   },
   {
    "duration": 5,
    "start_time": "2023-08-23T21:44:42.309Z"
   },
   {
    "duration": 8,
    "start_time": "2023-08-23T21:44:44.155Z"
   },
   {
    "duration": 4,
    "start_time": "2023-08-23T21:46:26.440Z"
   },
   {
    "duration": 11,
    "start_time": "2023-08-23T21:46:27.935Z"
   },
   {
    "duration": 7,
    "start_time": "2023-08-23T21:46:30.045Z"
   },
   {
    "duration": 77,
    "start_time": "2023-08-23T21:47:52.237Z"
   },
   {
    "duration": 7,
    "start_time": "2023-08-23T21:51:12.755Z"
   },
   {
    "duration": 9,
    "start_time": "2023-08-23T21:51:46.191Z"
   },
   {
    "duration": 19,
    "start_time": "2023-08-23T21:54:10.232Z"
   },
   {
    "duration": 10,
    "start_time": "2023-08-23T21:55:09.314Z"
   },
   {
    "duration": 91,
    "start_time": "2023-08-23T21:55:23.948Z"
   },
   {
    "duration": 8,
    "start_time": "2023-08-23T21:55:29.933Z"
   },
   {
    "duration": 13,
    "start_time": "2023-08-23T21:55:35.353Z"
   },
   {
    "duration": 7,
    "start_time": "2023-08-23T21:57:03.777Z"
   },
   {
    "duration": 11,
    "start_time": "2023-08-23T21:57:04.456Z"
   },
   {
    "duration": 99,
    "start_time": "2023-08-23T21:58:03.091Z"
   },
   {
    "duration": 21622,
    "start_time": "2023-08-23T21:58:09.845Z"
   },
   {
    "duration": 26015,
    "start_time": "2023-08-23T22:00:14.583Z"
   },
   {
    "duration": 22589,
    "start_time": "2023-08-23T22:00:40.600Z"
   },
   {
    "duration": 28,
    "start_time": "2023-08-23T22:01:03.191Z"
   },
   {
    "duration": 7,
    "start_time": "2023-08-23T22:01:03.226Z"
   },
   {
    "duration": 25448,
    "start_time": "2023-08-23T22:01:03.236Z"
   },
   {
    "duration": 18960,
    "start_time": "2023-08-23T22:01:28.686Z"
   },
   {
    "duration": 0,
    "start_time": "2023-08-23T22:01:47.648Z"
   },
   {
    "duration": 0,
    "start_time": "2023-08-23T22:01:47.650Z"
   },
   {
    "duration": 0,
    "start_time": "2023-08-23T22:01:47.650Z"
   },
   {
    "duration": 0,
    "start_time": "2023-08-23T22:01:47.652Z"
   },
   {
    "duration": 0,
    "start_time": "2023-08-23T22:01:47.653Z"
   },
   {
    "duration": 0,
    "start_time": "2023-08-23T22:01:47.657Z"
   },
   {
    "duration": 0,
    "start_time": "2023-08-23T22:01:47.658Z"
   },
   {
    "duration": 0,
    "start_time": "2023-08-23T22:01:47.659Z"
   },
   {
    "duration": 0,
    "start_time": "2023-08-23T22:01:47.660Z"
   },
   {
    "duration": 0,
    "start_time": "2023-08-23T22:01:47.661Z"
   },
   {
    "duration": 3,
    "start_time": "2023-08-23T22:01:51.649Z"
   },
   {
    "duration": 5,
    "start_time": "2023-08-23T22:01:51.983Z"
   },
   {
    "duration": 10,
    "start_time": "2023-08-23T22:01:52.232Z"
   },
   {
    "duration": 9,
    "start_time": "2023-08-23T22:01:52.451Z"
   },
   {
    "duration": 11,
    "start_time": "2023-08-23T22:01:52.657Z"
   },
   {
    "duration": 4,
    "start_time": "2023-08-23T22:01:52.856Z"
   },
   {
    "duration": 6,
    "start_time": "2023-08-23T22:01:53.084Z"
   },
   {
    "duration": 4,
    "start_time": "2023-08-23T22:01:53.331Z"
   },
   {
    "duration": 51,
    "start_time": "2023-08-23T22:01:54.023Z"
   },
   {
    "duration": 3,
    "start_time": "2023-08-23T22:01:54.539Z"
   },
   {
    "duration": 25911,
    "start_time": "2023-08-23T22:01:55.357Z"
   },
   {
    "duration": 20884,
    "start_time": "2023-08-23T22:02:21.270Z"
   },
   {
    "duration": 12,
    "start_time": "2023-08-23T22:02:42.157Z"
   },
   {
    "duration": 24,
    "start_time": "2023-08-23T22:02:42.171Z"
   },
   {
    "duration": 74242,
    "start_time": "2023-08-23T22:02:42.197Z"
   },
   {
    "duration": 61908,
    "start_time": "2023-08-23T22:03:56.441Z"
   },
   {
    "duration": 15,
    "start_time": "2023-08-23T22:04:58.352Z"
   },
   {
    "duration": 64,
    "start_time": "2023-08-23T22:04:58.369Z"
   },
   {
    "duration": 4,
    "start_time": "2023-08-23T22:04:58.436Z"
   },
   {
    "duration": 1742,
    "start_time": "2023-08-23T22:04:58.443Z"
   },
   {
    "duration": 2365,
    "start_time": "2023-08-23T22:05:00.187Z"
   },
   {
    "duration": 15,
    "start_time": "2023-08-23T22:05:02.556Z"
   },
   {
    "duration": 45,
    "start_time": "2023-08-23T22:05:02.575Z"
   },
   {
    "duration": 33,
    "start_time": "2023-08-23T22:05:02.625Z"
   },
   {
    "duration": 26,
    "start_time": "2023-08-23T22:05:02.661Z"
   },
   {
    "duration": 64,
    "start_time": "2023-08-23T22:05:02.690Z"
   },
   {
    "duration": 2,
    "start_time": "2023-08-23T22:05:16.175Z"
   },
   {
    "duration": 8,
    "start_time": "2023-08-23T22:05:16.652Z"
   },
   {
    "duration": 56,
    "start_time": "2023-08-23T22:05:17.751Z"
   },
   {
    "duration": 7,
    "start_time": "2023-08-23T22:05:18.836Z"
   },
   {
    "duration": 3,
    "start_time": "2023-08-23T22:05:19.864Z"
   },
   {
    "duration": 5,
    "start_time": "2023-08-23T22:05:20.065Z"
   },
   {
    "duration": 10,
    "start_time": "2023-08-23T22:05:21.923Z"
   },
   {
    "duration": 8,
    "start_time": "2023-08-23T22:05:22.931Z"
   },
   {
    "duration": 21,
    "start_time": "2023-08-23T22:05:24.413Z"
   },
   {
    "duration": 5,
    "start_time": "2023-08-23T22:05:35.255Z"
   },
   {
    "duration": 6,
    "start_time": "2023-08-23T22:05:36.231Z"
   },
   {
    "duration": 4,
    "start_time": "2023-08-23T22:05:36.700Z"
   },
   {
    "duration": 63,
    "start_time": "2023-08-23T22:05:37.886Z"
   },
   {
    "duration": 3,
    "start_time": "2023-08-23T22:05:38.341Z"
   },
   {
    "duration": 25997,
    "start_time": "2023-08-23T22:05:39.258Z"
   },
   {
    "duration": 22267,
    "start_time": "2023-08-23T22:06:05.258Z"
   },
   {
    "duration": 9,
    "start_time": "2023-08-23T22:06:27.527Z"
   },
   {
    "duration": 6,
    "start_time": "2023-08-23T22:06:27.538Z"
   },
   {
    "duration": 66122,
    "start_time": "2023-08-23T22:06:27.546Z"
   },
   {
    "duration": 64150,
    "start_time": "2023-08-23T22:07:33.670Z"
   },
   {
    "duration": 12,
    "start_time": "2023-08-23T22:08:37.823Z"
   },
   {
    "duration": 51,
    "start_time": "2023-08-23T22:08:37.836Z"
   },
   {
    "duration": 4,
    "start_time": "2023-08-23T22:08:37.889Z"
   },
   {
    "duration": 1492,
    "start_time": "2023-08-23T22:08:37.912Z"
   },
   {
    "duration": 2206,
    "start_time": "2023-08-23T22:08:39.408Z"
   },
   {
    "duration": 12,
    "start_time": "2023-08-23T22:08:41.617Z"
   },
   {
    "duration": 14,
    "start_time": "2023-08-23T22:08:41.631Z"
   },
   {
    "duration": 11,
    "start_time": "2023-08-23T22:08:41.648Z"
   },
   {
    "duration": 21,
    "start_time": "2023-08-23T22:08:41.661Z"
   },
   {
    "duration": 27,
    "start_time": "2023-08-23T22:08:41.684Z"
   },
   {
    "duration": 13141,
    "start_time": "2023-08-23T22:08:52.492Z"
   },
   {
    "duration": 688,
    "start_time": "2023-08-23T22:09:05.636Z"
   },
   {
    "duration": 3,
    "start_time": "2023-08-23T22:09:06.326Z"
   },
   {
    "duration": 14,
    "start_time": "2023-08-23T22:09:06.331Z"
   },
   {
    "duration": 14,
    "start_time": "2023-08-23T22:09:06.346Z"
   },
   {
    "duration": 7,
    "start_time": "2023-08-23T22:09:06.362Z"
   },
   {
    "duration": 39947,
    "start_time": "2023-08-23T22:09:09.953Z"
   },
   {
    "duration": 15,
    "start_time": "2023-08-23T22:09:49.903Z"
   },
   {
    "duration": 21312,
    "start_time": "2023-08-23T22:09:59.364Z"
   },
   {
    "duration": 12,
    "start_time": "2023-08-23T22:10:20.679Z"
   },
   {
    "duration": 3,
    "start_time": "2023-08-23T22:10:20.710Z"
   },
   {
    "duration": 9412,
    "start_time": "2023-08-23T22:10:20.715Z"
   },
   {
    "duration": 18,
    "start_time": "2023-08-23T22:10:30.129Z"
   },
   {
    "duration": 8,
    "start_time": "2023-08-23T22:10:30.149Z"
   },
   {
    "duration": 931,
    "start_time": "2023-08-23T22:10:50.235Z"
   },
   {
    "duration": 636,
    "start_time": "2023-08-23T22:10:57.557Z"
   },
   {
    "duration": 443,
    "start_time": "2023-08-23T22:10:58.195Z"
   },
   {
    "duration": 956,
    "start_time": "2023-08-23T22:10:58.639Z"
   },
   {
    "duration": 14,
    "start_time": "2023-08-23T22:10:59.597Z"
   },
   {
    "duration": 3178,
    "start_time": "2023-08-23T22:10:59.613Z"
   },
   {
    "duration": 59544,
    "start_time": "2023-08-23T22:17:23.960Z"
   },
   {
    "duration": 3092,
    "start_time": "2023-08-23T22:18:23.507Z"
   },
   {
    "duration": 4,
    "start_time": "2023-08-23T22:18:26.601Z"
   },
   {
    "duration": 123,
    "start_time": "2023-08-23T22:18:26.608Z"
   },
   {
    "duration": 198,
    "start_time": "2023-08-23T22:18:26.734Z"
   },
   {
    "duration": 19,
    "start_time": "2023-08-23T22:18:26.935Z"
   },
   {
    "duration": 11,
    "start_time": "2023-08-23T22:18:26.956Z"
   },
   {
    "duration": 56,
    "start_time": "2023-08-23T22:18:26.969Z"
   },
   {
    "duration": 9,
    "start_time": "2023-08-23T22:18:27.027Z"
   },
   {
    "duration": 33,
    "start_time": "2023-08-23T22:18:27.038Z"
   },
   {
    "duration": 50,
    "start_time": "2023-08-23T22:18:27.073Z"
   },
   {
    "duration": 23,
    "start_time": "2023-08-23T22:18:27.126Z"
   },
   {
    "duration": 6,
    "start_time": "2023-08-23T22:18:27.151Z"
   },
   {
    "duration": 9,
    "start_time": "2023-08-23T22:18:27.162Z"
   },
   {
    "duration": 43,
    "start_time": "2023-08-23T22:18:27.173Z"
   },
   {
    "duration": 6,
    "start_time": "2023-08-23T22:18:27.219Z"
   },
   {
    "duration": 10,
    "start_time": "2023-08-23T22:18:27.227Z"
   },
   {
    "duration": 9,
    "start_time": "2023-08-23T22:18:27.240Z"
   },
   {
    "duration": 5,
    "start_time": "2023-08-23T22:18:27.250Z"
   },
   {
    "duration": 18,
    "start_time": "2023-08-23T22:18:27.256Z"
   },
   {
    "duration": 24,
    "start_time": "2023-08-23T22:18:27.310Z"
   },
   {
    "duration": 20,
    "start_time": "2023-08-23T22:18:27.336Z"
   },
   {
    "duration": 50,
    "start_time": "2023-08-23T22:18:27.359Z"
   },
   {
    "duration": 20,
    "start_time": "2023-08-23T22:18:27.412Z"
   },
   {
    "duration": 5,
    "start_time": "2023-08-23T22:18:27.434Z"
   },
   {
    "duration": 10,
    "start_time": "2023-08-23T22:18:27.442Z"
   },
   {
    "duration": 8,
    "start_time": "2023-08-23T22:18:27.455Z"
   },
   {
    "duration": 46,
    "start_time": "2023-08-23T22:18:27.465Z"
   },
   {
    "duration": 6,
    "start_time": "2023-08-23T22:18:27.514Z"
   },
   {
    "duration": 6,
    "start_time": "2023-08-23T22:18:27.522Z"
   },
   {
    "duration": 94,
    "start_time": "2023-08-23T22:18:27.530Z"
   },
   {
    "duration": 1667,
    "start_time": "2023-08-23T22:18:27.627Z"
   },
   {
    "duration": 860,
    "start_time": "2023-08-23T22:18:29.297Z"
   },
   {
    "duration": 1078,
    "start_time": "2023-08-23T22:18:30.159Z"
   },
   {
    "duration": 13,
    "start_time": "2023-08-23T22:18:31.239Z"
   },
   {
    "duration": 502,
    "start_time": "2023-08-23T22:18:31.255Z"
   },
   {
    "duration": 4292,
    "start_time": "2023-08-23T22:18:31.759Z"
   },
   {
    "duration": 74190,
    "start_time": "2023-08-23T22:18:36.054Z"
   },
   {
    "duration": 2768,
    "start_time": "2023-08-23T22:19:50.246Z"
   },
   {
    "duration": 738,
    "start_time": "2023-08-23T22:19:53.016Z"
   },
   {
    "duration": 4069,
    "start_time": "2023-08-23T22:19:53.761Z"
   },
   {
    "duration": 4,
    "start_time": "2023-08-23T22:19:57.833Z"
   },
   {
    "duration": 12,
    "start_time": "2023-08-23T22:19:57.840Z"
   },
   {
    "duration": 79,
    "start_time": "2023-08-23T22:19:57.856Z"
   },
   {
    "duration": 7,
    "start_time": "2023-08-23T22:19:57.938Z"
   },
   {
    "duration": 9,
    "start_time": "2023-08-23T22:19:57.947Z"
   },
   {
    "duration": 6,
    "start_time": "2023-08-23T22:19:57.958Z"
   },
   {
    "duration": 11,
    "start_time": "2023-08-23T22:19:57.967Z"
   },
   {
    "duration": 31,
    "start_time": "2023-08-23T22:19:57.981Z"
   },
   {
    "duration": 12,
    "start_time": "2023-08-23T22:19:58.014Z"
   },
   {
    "duration": 16,
    "start_time": "2023-08-23T22:19:58.027Z"
   },
   {
    "duration": 11,
    "start_time": "2023-08-23T22:19:58.045Z"
   },
   {
    "duration": 16,
    "start_time": "2023-08-23T22:19:58.058Z"
   },
   {
    "duration": 61,
    "start_time": "2023-08-23T22:19:58.076Z"
   },
   {
    "duration": 4,
    "start_time": "2023-08-23T22:19:58.140Z"
   },
   {
    "duration": 27306,
    "start_time": "2023-08-23T22:19:58.146Z"
   },
   {
    "duration": 22546,
    "start_time": "2023-08-23T22:20:25.454Z"
   },
   {
    "duration": 14,
    "start_time": "2023-08-23T22:20:48.002Z"
   },
   {
    "duration": 6,
    "start_time": "2023-08-23T22:20:48.019Z"
   },
   {
    "duration": 68349,
    "start_time": "2023-08-23T22:20:48.028Z"
   },
   {
    "duration": 56665,
    "start_time": "2023-08-23T22:21:56.379Z"
   },
   {
    "duration": 11,
    "start_time": "2023-08-23T22:22:53.046Z"
   },
   {
    "duration": 63,
    "start_time": "2023-08-23T22:22:53.060Z"
   },
   {
    "duration": 4,
    "start_time": "2023-08-23T22:22:53.125Z"
   },
   {
    "duration": 1510,
    "start_time": "2023-08-23T22:22:53.131Z"
   },
   {
    "duration": 2117,
    "start_time": "2023-08-23T22:22:54.643Z"
   },
   {
    "duration": 12,
    "start_time": "2023-08-23T22:22:56.762Z"
   },
   {
    "duration": 5,
    "start_time": "2023-08-23T22:22:56.776Z"
   },
   {
    "duration": 28,
    "start_time": "2023-08-23T22:22:56.783Z"
   },
   {
    "duration": 33,
    "start_time": "2023-08-23T22:22:56.813Z"
   },
   {
    "duration": 13,
    "start_time": "2023-08-23T22:22:56.848Z"
   },
   {
    "duration": 12946,
    "start_time": "2023-08-23T22:22:56.863Z"
   },
   {
    "duration": 631,
    "start_time": "2023-08-23T22:23:09.812Z"
   },
   {
    "duration": 3,
    "start_time": "2023-08-23T22:23:10.445Z"
   },
   {
    "duration": 22,
    "start_time": "2023-08-23T22:23:10.450Z"
   },
   {
    "duration": 27,
    "start_time": "2023-08-23T22:23:10.475Z"
   },
   {
    "duration": 11,
    "start_time": "2023-08-23T22:23:10.503Z"
   },
   {
    "duration": 36416,
    "start_time": "2023-08-23T22:23:10.516Z"
   },
   {
    "duration": 10,
    "start_time": "2023-08-23T22:23:46.934Z"
   },
   {
    "duration": 16968,
    "start_time": "2023-08-23T22:23:46.946Z"
   },
   {
    "duration": 10,
    "start_time": "2023-08-23T22:24:03.916Z"
   },
   {
    "duration": 7,
    "start_time": "2023-08-23T22:24:03.928Z"
   },
   {
    "duration": 7581,
    "start_time": "2023-08-23T22:24:03.937Z"
   },
   {
    "duration": 12,
    "start_time": "2023-08-23T22:24:11.520Z"
   },
   {
    "duration": 3,
    "start_time": "2023-08-23T22:24:11.534Z"
   },
   {
    "duration": 887,
    "start_time": "2023-08-23T22:24:11.539Z"
   },
   {
    "duration": 605,
    "start_time": "2023-08-23T22:24:12.427Z"
   },
   {
    "duration": 374,
    "start_time": "2023-08-23T22:24:13.034Z"
   },
   {
    "duration": 676,
    "start_time": "2023-08-23T22:24:13.410Z"
   },
   {
    "duration": 7,
    "start_time": "2023-08-23T22:24:14.088Z"
   },
   {
    "duration": 2792,
    "start_time": "2023-08-23T22:24:14.109Z"
   },
   {
    "duration": 141191,
    "start_time": "2023-08-30T09:01:25.635Z"
   },
   {
    "duration": 3825,
    "start_time": "2023-08-30T09:03:46.829Z"
   },
   {
    "duration": 3,
    "start_time": "2023-08-30T09:03:50.655Z"
   },
   {
    "duration": 333,
    "start_time": "2023-08-30T09:03:50.659Z"
   },
   {
    "duration": 143,
    "start_time": "2023-08-30T09:03:50.994Z"
   },
   {
    "duration": 13,
    "start_time": "2023-08-30T09:03:51.138Z"
   },
   {
    "duration": 29,
    "start_time": "2023-08-30T09:03:51.153Z"
   },
   {
    "duration": 27,
    "start_time": "2023-08-30T09:03:51.183Z"
   },
   {
    "duration": 34,
    "start_time": "2023-08-30T09:03:51.212Z"
   },
   {
    "duration": 25,
    "start_time": "2023-08-30T09:03:51.247Z"
   },
   {
    "duration": 16,
    "start_time": "2023-08-30T09:03:51.274Z"
   },
   {
    "duration": 30,
    "start_time": "2023-08-30T09:03:51.292Z"
   },
   {
    "duration": 20,
    "start_time": "2023-08-30T09:03:51.324Z"
   },
   {
    "duration": 41,
    "start_time": "2023-08-30T09:03:51.347Z"
   },
   {
    "duration": 28,
    "start_time": "2023-08-30T09:03:51.389Z"
   },
   {
    "duration": 6,
    "start_time": "2023-08-30T09:03:51.419Z"
   },
   {
    "duration": 9,
    "start_time": "2023-08-30T09:03:51.426Z"
   },
   {
    "duration": 11,
    "start_time": "2023-08-30T09:03:51.436Z"
   },
   {
    "duration": 3,
    "start_time": "2023-08-30T09:03:51.448Z"
   },
   {
    "duration": 15,
    "start_time": "2023-08-30T09:03:51.453Z"
   },
   {
    "duration": 15,
    "start_time": "2023-08-30T09:03:51.469Z"
   },
   {
    "duration": 39,
    "start_time": "2023-08-30T09:03:51.485Z"
   },
   {
    "duration": 15,
    "start_time": "2023-08-30T09:03:51.526Z"
   },
   {
    "duration": 13,
    "start_time": "2023-08-30T09:03:51.543Z"
   },
   {
    "duration": 4,
    "start_time": "2023-08-30T09:03:51.558Z"
   },
   {
    "duration": 7,
    "start_time": "2023-08-30T09:03:51.564Z"
   },
   {
    "duration": 7,
    "start_time": "2023-08-30T09:03:51.573Z"
   },
   {
    "duration": 5,
    "start_time": "2023-08-30T09:03:51.581Z"
   },
   {
    "duration": 37,
    "start_time": "2023-08-30T09:03:51.588Z"
   },
   {
    "duration": 4,
    "start_time": "2023-08-30T09:03:51.627Z"
   },
   {
    "duration": 48,
    "start_time": "2023-08-30T09:03:51.632Z"
   },
   {
    "duration": 1638,
    "start_time": "2023-08-30T09:03:51.681Z"
   },
   {
    "duration": 715,
    "start_time": "2023-08-30T09:03:53.324Z"
   },
   {
    "duration": 860,
    "start_time": "2023-08-30T09:03:54.040Z"
   },
   {
    "duration": 10,
    "start_time": "2023-08-30T09:03:54.902Z"
   },
   {
    "duration": 385,
    "start_time": "2023-08-30T09:03:54.923Z"
   },
   {
    "duration": 3459,
    "start_time": "2023-08-30T09:03:55.310Z"
   },
   {
    "duration": 62573,
    "start_time": "2023-08-30T09:03:58.771Z"
   },
   {
    "duration": 2426,
    "start_time": "2023-08-30T09:05:01.346Z"
   },
   {
    "duration": 1050,
    "start_time": "2023-08-30T09:05:03.774Z"
   },
   {
    "duration": 4034,
    "start_time": "2023-08-30T09:05:04.829Z"
   },
   {
    "duration": 2,
    "start_time": "2023-08-30T09:05:08.865Z"
   },
   {
    "duration": 19,
    "start_time": "2023-08-30T09:05:08.869Z"
   },
   {
    "duration": 66,
    "start_time": "2023-08-30T09:05:08.890Z"
   },
   {
    "duration": 8,
    "start_time": "2023-08-30T09:05:08.959Z"
   },
   {
    "duration": 14,
    "start_time": "2023-08-30T09:05:08.969Z"
   },
   {
    "duration": 38,
    "start_time": "2023-08-30T09:05:08.985Z"
   },
   {
    "duration": 21,
    "start_time": "2023-08-30T09:05:09.024Z"
   },
   {
    "duration": 28,
    "start_time": "2023-08-30T09:05:09.047Z"
   },
   {
    "duration": 22,
    "start_time": "2023-08-30T09:05:09.077Z"
   },
   {
    "duration": 23,
    "start_time": "2023-08-30T09:05:09.100Z"
   },
   {
    "duration": 13,
    "start_time": "2023-08-30T09:05:09.125Z"
   },
   {
    "duration": 23,
    "start_time": "2023-08-30T09:05:09.140Z"
   },
   {
    "duration": 51,
    "start_time": "2023-08-30T09:05:09.164Z"
   },
   {
    "duration": 3,
    "start_time": "2023-08-30T09:05:09.217Z"
   },
   {
    "duration": 22850,
    "start_time": "2023-08-30T09:05:09.221Z"
   },
   {
    "duration": 19140,
    "start_time": "2023-08-30T09:05:32.073Z"
   },
   {
    "duration": 12,
    "start_time": "2023-08-30T09:05:51.215Z"
   },
   {
    "duration": 28,
    "start_time": "2023-08-30T09:05:51.229Z"
   },
   {
    "duration": 63208,
    "start_time": "2023-08-30T09:05:51.259Z"
   },
   {
    "duration": 52168,
    "start_time": "2023-08-30T09:06:54.469Z"
   },
   {
    "duration": 9,
    "start_time": "2023-08-30T09:07:46.639Z"
   },
   {
    "duration": 88,
    "start_time": "2023-08-30T09:07:46.649Z"
   },
   {
    "duration": 11,
    "start_time": "2023-08-30T09:07:46.738Z"
   },
   {
    "duration": 1298,
    "start_time": "2023-08-30T09:07:46.750Z"
   },
   {
    "duration": 1850,
    "start_time": "2023-08-30T09:07:48.050Z"
   },
   {
    "duration": 22,
    "start_time": "2023-08-30T09:07:49.902Z"
   },
   {
    "duration": 15,
    "start_time": "2023-08-30T09:07:49.926Z"
   },
   {
    "duration": 31,
    "start_time": "2023-08-30T09:07:49.943Z"
   },
   {
    "duration": 29,
    "start_time": "2023-08-30T09:07:49.975Z"
   },
   {
    "duration": 45,
    "start_time": "2023-08-30T09:07:50.006Z"
   },
   {
    "duration": 11465,
    "start_time": "2023-08-30T09:07:50.053Z"
   },
   {
    "duration": 538,
    "start_time": "2023-08-30T09:08:01.520Z"
   },
   {
    "duration": 3,
    "start_time": "2023-08-30T09:08:02.060Z"
   },
   {
    "duration": 61,
    "start_time": "2023-08-30T09:08:02.064Z"
   },
   {
    "duration": 26,
    "start_time": "2023-08-30T09:08:02.126Z"
   },
   {
    "duration": 20,
    "start_time": "2023-08-30T09:08:02.154Z"
   },
   {
    "duration": 35465,
    "start_time": "2023-08-30T09:08:02.175Z"
   },
   {
    "duration": 8,
    "start_time": "2023-08-30T09:08:37.642Z"
   },
   {
    "duration": 16029,
    "start_time": "2023-08-30T09:08:37.651Z"
   },
   {
    "duration": 9,
    "start_time": "2023-08-30T09:08:53.682Z"
   },
   {
    "duration": 22,
    "start_time": "2023-08-30T09:08:53.693Z"
   },
   {
    "duration": 8241,
    "start_time": "2023-08-30T09:08:53.717Z"
   },
   {
    "duration": 11,
    "start_time": "2023-08-30T09:09:01.960Z"
   },
   {
    "duration": 23,
    "start_time": "2023-08-30T09:09:01.972Z"
   },
   {
    "duration": 760,
    "start_time": "2023-08-30T09:09:01.997Z"
   },
   {
    "duration": 456,
    "start_time": "2023-08-30T09:09:02.758Z"
   },
   {
    "duration": 393,
    "start_time": "2023-08-30T09:09:03.216Z"
   },
   {
    "duration": 871,
    "start_time": "2023-08-30T09:09:03.611Z"
   },
   {
    "duration": 7,
    "start_time": "2023-08-30T09:09:04.484Z"
   },
   {
    "duration": 2522,
    "start_time": "2023-08-30T09:09:04.493Z"
   },
   {
    "duration": 194,
    "start_time": "2023-08-30T09:10:56.605Z"
   },
   {
    "duration": 13687,
    "start_time": "2023-08-30T09:11:23.044Z"
   },
   {
    "duration": 376,
    "start_time": "2023-08-30T09:11:36.735Z"
   },
   {
    "duration": 8,
    "start_time": "2023-08-30T09:12:29.014Z"
   },
   {
    "duration": 4,
    "start_time": "2023-08-30T09:12:32.593Z"
   },
   {
    "duration": 2072,
    "start_time": "2023-08-30T09:12:58.560Z"
   },
   {
    "duration": 4,
    "start_time": "2023-08-30T09:13:02.787Z"
   },
   {
    "duration": 2008,
    "start_time": "2023-08-30T09:13:50.221Z"
   },
   {
    "duration": 18,
    "start_time": "2023-08-30T09:13:53.908Z"
   },
   {
    "duration": 6,
    "start_time": "2023-08-30T09:14:12.628Z"
   },
   {
    "duration": 28,
    "start_time": "2023-08-30T09:15:02.338Z"
   },
   {
    "duration": 5,
    "start_time": "2023-08-30T09:15:06.896Z"
   },
   {
    "duration": 4,
    "start_time": "2023-08-30T09:15:21.528Z"
   },
   {
    "duration": 6,
    "start_time": "2023-08-30T09:15:57.868Z"
   },
   {
    "duration": 3,
    "start_time": "2023-08-30T09:16:03.519Z"
   },
   {
    "duration": 64214,
    "start_time": "2023-08-30T09:16:06.578Z"
   },
   {
    "duration": 53422,
    "start_time": "2023-08-30T09:17:10.794Z"
   },
   {
    "duration": 12,
    "start_time": "2023-08-30T09:18:04.217Z"
   },
   {
    "duration": 10935,
    "start_time": "2023-08-30T09:18:36.858Z"
   },
   {
    "duration": 617,
    "start_time": "2023-08-30T09:18:47.795Z"
   },
   {
    "duration": 9673546,
    "start_time": "2023-08-30T09:19:40.989Z"
   },
   {
    "duration": 51847,
    "start_time": "2023-08-30T12:00:54.540Z"
   },
   {
    "duration": 8,
    "start_time": "2023-08-30T12:01:46.389Z"
   },
   {
    "duration": 10333,
    "start_time": "2023-08-30T12:04:02.068Z"
   },
   {
    "duration": 583,
    "start_time": "2023-08-30T12:04:12.403Z"
   },
   {
    "duration": 3,
    "start_time": "2023-08-30T12:04:21.123Z"
   },
   {
    "duration": 3,
    "start_time": "2023-08-30T12:04:23.252Z"
   },
   {
    "duration": 3,
    "start_time": "2023-08-30T12:04:27.604Z"
   },
   {
    "duration": 3,
    "start_time": "2023-08-30T12:04:28.114Z"
   },
   {
    "duration": 32481,
    "start_time": "2023-08-30T12:04:34.828Z"
   },
   {
    "duration": 15,
    "start_time": "2023-08-30T12:05:07.312Z"
   },
   {
    "duration": 15426,
    "start_time": "2023-08-30T12:05:25.775Z"
   },
   {
    "duration": 22,
    "start_time": "2023-08-30T12:05:41.203Z"
   },
   {
    "duration": 2,
    "start_time": "2023-08-30T12:05:41.227Z"
   },
   {
    "duration": 6912,
    "start_time": "2023-08-30T12:05:41.231Z"
   },
   {
    "duration": 12,
    "start_time": "2023-08-30T12:05:48.145Z"
   },
   {
    "duration": 3,
    "start_time": "2023-08-30T12:05:48.158Z"
   },
   {
    "duration": 766,
    "start_time": "2023-08-30T12:05:48.163Z"
   },
   {
    "duration": 19423,
    "start_time": "2023-08-30T12:08:34.338Z"
   },
   {
    "duration": 4,
    "start_time": "2023-08-30T12:08:53.766Z"
   },
   {
    "duration": 4716684,
    "start_time": "2023-08-30T12:08:55.635Z"
   },
   {
    "duration": 46081,
    "start_time": "2023-08-30T13:27:32.322Z"
   },
   {
    "duration": 8,
    "start_time": "2023-08-30T13:28:18.405Z"
   },
   {
    "duration": 75,
    "start_time": "2023-08-30T14:27:24.681Z"
   },
   {
    "duration": 140406,
    "start_time": "2023-08-30T17:59:02.456Z"
   },
   {
    "duration": 3416,
    "start_time": "2023-08-30T18:01:22.865Z"
   },
   {
    "duration": 3,
    "start_time": "2023-08-30T18:01:26.301Z"
   },
   {
    "duration": 339,
    "start_time": "2023-08-30T18:01:26.306Z"
   },
   {
    "duration": 242,
    "start_time": "2023-08-30T18:01:26.648Z"
   },
   {
    "duration": 0,
    "start_time": "2023-08-30T18:01:26.902Z"
   },
   {
    "duration": 0,
    "start_time": "2023-08-30T18:01:26.904Z"
   },
   {
    "duration": 0,
    "start_time": "2023-08-30T18:01:26.905Z"
   },
   {
    "duration": 0,
    "start_time": "2023-08-30T18:01:26.906Z"
   },
   {
    "duration": 0,
    "start_time": "2023-08-30T18:01:26.907Z"
   },
   {
    "duration": 0,
    "start_time": "2023-08-30T18:01:26.909Z"
   },
   {
    "duration": 0,
    "start_time": "2023-08-30T18:01:26.910Z"
   },
   {
    "duration": 0,
    "start_time": "2023-08-30T18:01:26.911Z"
   },
   {
    "duration": 0,
    "start_time": "2023-08-30T18:01:26.912Z"
   },
   {
    "duration": 0,
    "start_time": "2023-08-30T18:01:26.913Z"
   },
   {
    "duration": 0,
    "start_time": "2023-08-30T18:01:26.915Z"
   },
   {
    "duration": 0,
    "start_time": "2023-08-30T18:01:26.916Z"
   },
   {
    "duration": 0,
    "start_time": "2023-08-30T18:01:26.917Z"
   },
   {
    "duration": 0,
    "start_time": "2023-08-30T18:01:26.918Z"
   },
   {
    "duration": 0,
    "start_time": "2023-08-30T18:01:26.919Z"
   },
   {
    "duration": 0,
    "start_time": "2023-08-30T18:01:26.920Z"
   },
   {
    "duration": 0,
    "start_time": "2023-08-30T18:01:26.921Z"
   },
   {
    "duration": 0,
    "start_time": "2023-08-30T18:01:26.922Z"
   },
   {
    "duration": 0,
    "start_time": "2023-08-30T18:01:26.923Z"
   },
   {
    "duration": 0,
    "start_time": "2023-08-30T18:01:26.924Z"
   },
   {
    "duration": 0,
    "start_time": "2023-08-30T18:01:26.925Z"
   },
   {
    "duration": 0,
    "start_time": "2023-08-30T18:01:26.926Z"
   },
   {
    "duration": 0,
    "start_time": "2023-08-30T18:01:26.927Z"
   },
   {
    "duration": 0,
    "start_time": "2023-08-30T18:01:26.928Z"
   },
   {
    "duration": 0,
    "start_time": "2023-08-30T18:01:26.930Z"
   },
   {
    "duration": 0,
    "start_time": "2023-08-30T18:01:26.932Z"
   },
   {
    "duration": 0,
    "start_time": "2023-08-30T18:01:26.933Z"
   },
   {
    "duration": 0,
    "start_time": "2023-08-30T18:01:26.934Z"
   },
   {
    "duration": 0,
    "start_time": "2023-08-30T18:01:26.936Z"
   },
   {
    "duration": 0,
    "start_time": "2023-08-30T18:01:26.937Z"
   },
   {
    "duration": 0,
    "start_time": "2023-08-30T18:01:26.938Z"
   },
   {
    "duration": 0,
    "start_time": "2023-08-30T18:01:26.939Z"
   },
   {
    "duration": 0,
    "start_time": "2023-08-30T18:01:27.001Z"
   },
   {
    "duration": 0,
    "start_time": "2023-08-30T18:01:27.003Z"
   },
   {
    "duration": 0,
    "start_time": "2023-08-30T18:01:27.004Z"
   },
   {
    "duration": 0,
    "start_time": "2023-08-30T18:01:27.005Z"
   },
   {
    "duration": 0,
    "start_time": "2023-08-30T18:01:27.006Z"
   },
   {
    "duration": 0,
    "start_time": "2023-08-30T18:01:27.007Z"
   },
   {
    "duration": 0,
    "start_time": "2023-08-30T18:01:27.008Z"
   },
   {
    "duration": 0,
    "start_time": "2023-08-30T18:01:27.009Z"
   },
   {
    "duration": 0,
    "start_time": "2023-08-30T18:01:27.011Z"
   },
   {
    "duration": 0,
    "start_time": "2023-08-30T18:01:27.012Z"
   },
   {
    "duration": 0,
    "start_time": "2023-08-30T18:01:27.013Z"
   },
   {
    "duration": 0,
    "start_time": "2023-08-30T18:01:27.014Z"
   },
   {
    "duration": 0,
    "start_time": "2023-08-30T18:01:27.015Z"
   },
   {
    "duration": 0,
    "start_time": "2023-08-30T18:01:27.017Z"
   },
   {
    "duration": 0,
    "start_time": "2023-08-30T18:01:27.018Z"
   },
   {
    "duration": 0,
    "start_time": "2023-08-30T18:01:27.019Z"
   },
   {
    "duration": 0,
    "start_time": "2023-08-30T18:01:27.020Z"
   },
   {
    "duration": 0,
    "start_time": "2023-08-30T18:01:27.022Z"
   },
   {
    "duration": 1,
    "start_time": "2023-08-30T18:01:27.023Z"
   },
   {
    "duration": 0,
    "start_time": "2023-08-30T18:01:27.025Z"
   },
   {
    "duration": 0,
    "start_time": "2023-08-30T18:01:27.026Z"
   },
   {
    "duration": 0,
    "start_time": "2023-08-30T18:01:27.026Z"
   },
   {
    "duration": 0,
    "start_time": "2023-08-30T18:01:27.028Z"
   },
   {
    "duration": 0,
    "start_time": "2023-08-30T18:01:27.029Z"
   },
   {
    "duration": 0,
    "start_time": "2023-08-30T18:01:27.030Z"
   },
   {
    "duration": 0,
    "start_time": "2023-08-30T18:01:27.031Z"
   },
   {
    "duration": 0,
    "start_time": "2023-08-30T18:01:27.032Z"
   },
   {
    "duration": 0,
    "start_time": "2023-08-30T18:01:27.033Z"
   },
   {
    "duration": 0,
    "start_time": "2023-08-30T18:01:27.034Z"
   },
   {
    "duration": 0,
    "start_time": "2023-08-30T18:01:27.035Z"
   },
   {
    "duration": 0,
    "start_time": "2023-08-30T18:01:27.036Z"
   },
   {
    "duration": 0,
    "start_time": "2023-08-30T18:01:27.102Z"
   },
   {
    "duration": 0,
    "start_time": "2023-08-30T18:01:27.103Z"
   },
   {
    "duration": 0,
    "start_time": "2023-08-30T18:01:27.104Z"
   },
   {
    "duration": 0,
    "start_time": "2023-08-30T18:01:27.105Z"
   },
   {
    "duration": 0,
    "start_time": "2023-08-30T18:01:27.106Z"
   },
   {
    "duration": 0,
    "start_time": "2023-08-30T18:01:27.107Z"
   },
   {
    "duration": 0,
    "start_time": "2023-08-30T18:01:27.108Z"
   },
   {
    "duration": 0,
    "start_time": "2023-08-30T18:01:27.110Z"
   },
   {
    "duration": 1,
    "start_time": "2023-08-30T18:01:27.110Z"
   },
   {
    "duration": 0,
    "start_time": "2023-08-30T18:01:27.112Z"
   },
   {
    "duration": 0,
    "start_time": "2023-08-30T18:01:27.113Z"
   },
   {
    "duration": 0,
    "start_time": "2023-08-30T18:01:27.114Z"
   },
   {
    "duration": 0,
    "start_time": "2023-08-30T18:01:27.116Z"
   },
   {
    "duration": 0,
    "start_time": "2023-08-30T18:01:27.117Z"
   },
   {
    "duration": 0,
    "start_time": "2023-08-30T18:01:27.118Z"
   },
   {
    "duration": 0,
    "start_time": "2023-08-30T18:01:27.119Z"
   },
   {
    "duration": 0,
    "start_time": "2023-08-30T18:01:27.120Z"
   },
   {
    "duration": 0,
    "start_time": "2023-08-30T18:01:27.122Z"
   },
   {
    "duration": 0,
    "start_time": "2023-08-30T18:01:27.122Z"
   },
   {
    "duration": 0,
    "start_time": "2023-08-30T18:01:27.124Z"
   },
   {
    "duration": 0,
    "start_time": "2023-08-30T18:01:27.125Z"
   },
   {
    "duration": 0,
    "start_time": "2023-08-30T18:01:27.126Z"
   },
   {
    "duration": 0,
    "start_time": "2023-08-30T18:01:27.127Z"
   },
   {
    "duration": 0,
    "start_time": "2023-08-30T18:01:27.128Z"
   },
   {
    "duration": 0,
    "start_time": "2023-08-30T18:01:27.129Z"
   },
   {
    "duration": 0,
    "start_time": "2023-08-30T18:01:27.130Z"
   },
   {
    "duration": 0,
    "start_time": "2023-08-30T18:01:27.131Z"
   },
   {
    "duration": 56457,
    "start_time": "2023-08-30T20:42:47.418Z"
   },
   {
    "duration": 3664,
    "start_time": "2023-08-30T20:43:43.878Z"
   },
   {
    "duration": 3,
    "start_time": "2023-08-30T20:43:47.543Z"
   },
   {
    "duration": 98,
    "start_time": "2023-08-30T20:43:47.548Z"
   },
   {
    "duration": 233,
    "start_time": "2023-08-30T20:43:47.648Z"
   },
   {
    "duration": 0,
    "start_time": "2023-08-30T20:43:47.886Z"
   },
   {
    "duration": 0,
    "start_time": "2023-08-30T20:43:47.887Z"
   },
   {
    "duration": 0,
    "start_time": "2023-08-30T20:43:47.888Z"
   },
   {
    "duration": 1,
    "start_time": "2023-08-30T20:43:47.900Z"
   },
   {
    "duration": 0,
    "start_time": "2023-08-30T20:43:47.902Z"
   },
   {
    "duration": 0,
    "start_time": "2023-08-30T20:43:47.903Z"
   },
   {
    "duration": 0,
    "start_time": "2023-08-30T20:43:47.904Z"
   },
   {
    "duration": 0,
    "start_time": "2023-08-30T20:43:47.905Z"
   },
   {
    "duration": 0,
    "start_time": "2023-08-30T20:43:47.906Z"
   },
   {
    "duration": 0,
    "start_time": "2023-08-30T20:43:47.907Z"
   },
   {
    "duration": 0,
    "start_time": "2023-08-30T20:43:47.908Z"
   },
   {
    "duration": 0,
    "start_time": "2023-08-30T20:43:47.909Z"
   },
   {
    "duration": 0,
    "start_time": "2023-08-30T20:43:47.911Z"
   },
   {
    "duration": 0,
    "start_time": "2023-08-30T20:43:47.912Z"
   },
   {
    "duration": 0,
    "start_time": "2023-08-30T20:43:47.913Z"
   },
   {
    "duration": 0,
    "start_time": "2023-08-30T20:43:47.914Z"
   },
   {
    "duration": 0,
    "start_time": "2023-08-30T20:43:47.915Z"
   },
   {
    "duration": 0,
    "start_time": "2023-08-30T20:43:47.916Z"
   },
   {
    "duration": 0,
    "start_time": "2023-08-30T20:43:47.917Z"
   },
   {
    "duration": 0,
    "start_time": "2023-08-30T20:43:47.918Z"
   },
   {
    "duration": 0,
    "start_time": "2023-08-30T20:43:47.919Z"
   },
   {
    "duration": 0,
    "start_time": "2023-08-30T20:43:47.921Z"
   },
   {
    "duration": 0,
    "start_time": "2023-08-30T20:43:47.922Z"
   },
   {
    "duration": 0,
    "start_time": "2023-08-30T20:43:47.923Z"
   },
   {
    "duration": 0,
    "start_time": "2023-08-30T20:43:47.924Z"
   },
   {
    "duration": 0,
    "start_time": "2023-08-30T20:43:47.925Z"
   },
   {
    "duration": 1,
    "start_time": "2023-08-30T20:43:47.926Z"
   },
   {
    "duration": 0,
    "start_time": "2023-08-30T20:43:47.928Z"
   },
   {
    "duration": 0,
    "start_time": "2023-08-30T20:43:47.929Z"
   },
   {
    "duration": 0,
    "start_time": "2023-08-30T20:43:47.930Z"
   },
   {
    "duration": 0,
    "start_time": "2023-08-30T20:43:47.931Z"
   },
   {
    "duration": 0,
    "start_time": "2023-08-30T20:43:47.932Z"
   },
   {
    "duration": 0,
    "start_time": "2023-08-30T20:43:47.933Z"
   },
   {
    "duration": 0,
    "start_time": "2023-08-30T20:43:47.934Z"
   },
   {
    "duration": 0,
    "start_time": "2023-08-30T20:43:47.935Z"
   },
   {
    "duration": 0,
    "start_time": "2023-08-30T20:43:47.936Z"
   },
   {
    "duration": 0,
    "start_time": "2023-08-30T20:43:47.937Z"
   },
   {
    "duration": 0,
    "start_time": "2023-08-30T20:43:47.938Z"
   },
   {
    "duration": 0,
    "start_time": "2023-08-30T20:43:47.939Z"
   },
   {
    "duration": 0,
    "start_time": "2023-08-30T20:43:48.002Z"
   },
   {
    "duration": 0,
    "start_time": "2023-08-30T20:43:48.003Z"
   },
   {
    "duration": 0,
    "start_time": "2023-08-30T20:43:48.004Z"
   },
   {
    "duration": 0,
    "start_time": "2023-08-30T20:43:48.005Z"
   },
   {
    "duration": 0,
    "start_time": "2023-08-30T20:43:48.006Z"
   },
   {
    "duration": 0,
    "start_time": "2023-08-30T20:43:48.007Z"
   },
   {
    "duration": 0,
    "start_time": "2023-08-30T20:43:48.008Z"
   },
   {
    "duration": 0,
    "start_time": "2023-08-30T20:43:48.010Z"
   },
   {
    "duration": 0,
    "start_time": "2023-08-30T20:43:48.012Z"
   },
   {
    "duration": 0,
    "start_time": "2023-08-30T20:43:48.013Z"
   },
   {
    "duration": 0,
    "start_time": "2023-08-30T20:43:48.014Z"
   },
   {
    "duration": 0,
    "start_time": "2023-08-30T20:43:48.016Z"
   },
   {
    "duration": 0,
    "start_time": "2023-08-30T20:43:48.018Z"
   },
   {
    "duration": 0,
    "start_time": "2023-08-30T20:43:48.019Z"
   },
   {
    "duration": 0,
    "start_time": "2023-08-30T20:43:48.021Z"
   },
   {
    "duration": 0,
    "start_time": "2023-08-30T20:43:48.022Z"
   },
   {
    "duration": 0,
    "start_time": "2023-08-30T20:43:48.024Z"
   },
   {
    "duration": 0,
    "start_time": "2023-08-30T20:43:48.025Z"
   },
   {
    "duration": 0,
    "start_time": "2023-08-30T20:43:48.026Z"
   },
   {
    "duration": 0,
    "start_time": "2023-08-30T20:43:48.028Z"
   },
   {
    "duration": 0,
    "start_time": "2023-08-30T20:43:48.030Z"
   },
   {
    "duration": 0,
    "start_time": "2023-08-30T20:43:48.031Z"
   },
   {
    "duration": 0,
    "start_time": "2023-08-30T20:43:48.032Z"
   },
   {
    "duration": 0,
    "start_time": "2023-08-30T20:43:48.034Z"
   },
   {
    "duration": 0,
    "start_time": "2023-08-30T20:43:48.035Z"
   },
   {
    "duration": 0,
    "start_time": "2023-08-30T20:43:48.037Z"
   },
   {
    "duration": 0,
    "start_time": "2023-08-30T20:43:48.038Z"
   },
   {
    "duration": 0,
    "start_time": "2023-08-30T20:43:48.101Z"
   },
   {
    "duration": 1,
    "start_time": "2023-08-30T20:43:48.102Z"
   },
   {
    "duration": 0,
    "start_time": "2023-08-30T20:43:48.104Z"
   },
   {
    "duration": 0,
    "start_time": "2023-08-30T20:43:48.105Z"
   },
   {
    "duration": 0,
    "start_time": "2023-08-30T20:43:48.107Z"
   },
   {
    "duration": 0,
    "start_time": "2023-08-30T20:43:48.108Z"
   },
   {
    "duration": 0,
    "start_time": "2023-08-30T20:43:48.109Z"
   },
   {
    "duration": 0,
    "start_time": "2023-08-30T20:43:48.110Z"
   },
   {
    "duration": 0,
    "start_time": "2023-08-30T20:43:48.112Z"
   },
   {
    "duration": 0,
    "start_time": "2023-08-30T20:43:48.113Z"
   },
   {
    "duration": 0,
    "start_time": "2023-08-30T20:43:48.114Z"
   },
   {
    "duration": 0,
    "start_time": "2023-08-30T20:43:48.115Z"
   },
   {
    "duration": 0,
    "start_time": "2023-08-30T20:43:48.117Z"
   },
   {
    "duration": 0,
    "start_time": "2023-08-30T20:43:48.118Z"
   },
   {
    "duration": 0,
    "start_time": "2023-08-30T20:43:48.119Z"
   },
   {
    "duration": 0,
    "start_time": "2023-08-30T20:43:48.121Z"
   },
   {
    "duration": 0,
    "start_time": "2023-08-30T20:43:48.121Z"
   },
   {
    "duration": 0,
    "start_time": "2023-08-30T20:43:48.122Z"
   },
   {
    "duration": 0,
    "start_time": "2023-08-30T20:43:48.124Z"
   },
   {
    "duration": 0,
    "start_time": "2023-08-30T20:43:48.125Z"
   },
   {
    "duration": 0,
    "start_time": "2023-08-30T20:43:48.126Z"
   },
   {
    "duration": 0,
    "start_time": "2023-08-30T20:43:48.128Z"
   },
   {
    "duration": 0,
    "start_time": "2023-08-30T20:43:48.129Z"
   },
   {
    "duration": 0,
    "start_time": "2023-08-30T20:43:48.130Z"
   },
   {
    "duration": 53769,
    "start_time": "2023-08-30T20:44:19.483Z"
   },
   {
    "duration": 3304,
    "start_time": "2023-08-30T20:48:14.819Z"
   },
   {
    "duration": 3,
    "start_time": "2023-08-30T20:48:18.127Z"
   },
   {
    "duration": 116,
    "start_time": "2023-08-30T20:48:18.146Z"
   },
   {
    "duration": 211,
    "start_time": "2023-08-30T20:48:18.296Z"
   },
   {
    "duration": 15,
    "start_time": "2023-08-30T20:48:19.472Z"
   },
   {
    "duration": 15,
    "start_time": "2023-08-30T20:48:24.799Z"
   },
   {
    "duration": 22,
    "start_time": "2023-08-30T20:48:24.817Z"
   },
   {
    "duration": 7,
    "start_time": "2023-08-30T20:48:24.842Z"
   },
   {
    "duration": 81,
    "start_time": "2023-08-30T20:48:24.852Z"
   },
   {
    "duration": 15,
    "start_time": "2023-08-30T20:48:24.935Z"
   },
   {
    "duration": 14,
    "start_time": "2023-08-30T20:48:24.953Z"
   },
   {
    "duration": 6,
    "start_time": "2023-08-30T20:48:25.003Z"
   },
   {
    "duration": 12,
    "start_time": "2023-08-30T20:48:25.011Z"
   },
   {
    "duration": 11,
    "start_time": "2023-08-30T20:48:25.026Z"
   },
   {
    "duration": 14,
    "start_time": "2023-08-30T20:48:25.039Z"
   },
   {
    "duration": 14,
    "start_time": "2023-08-30T20:48:25.055Z"
   },
   {
    "duration": 37,
    "start_time": "2023-08-30T20:48:25.072Z"
   },
   {
    "duration": 6,
    "start_time": "2023-08-30T20:48:25.112Z"
   },
   {
    "duration": 17,
    "start_time": "2023-08-30T20:48:25.120Z"
   },
   {
    "duration": 16,
    "start_time": "2023-08-30T20:48:25.139Z"
   },
   {
    "duration": 21,
    "start_time": "2023-08-30T20:48:25.157Z"
   },
   {
    "duration": 44,
    "start_time": "2023-08-30T20:48:25.180Z"
   },
   {
    "duration": 21,
    "start_time": "2023-08-30T20:48:25.226Z"
   },
   {
    "duration": 6,
    "start_time": "2023-08-30T20:48:25.249Z"
   },
   {
    "duration": 11,
    "start_time": "2023-08-30T20:48:25.256Z"
   },
   {
    "duration": 43,
    "start_time": "2023-08-30T20:48:25.269Z"
   },
   {
    "duration": 16,
    "start_time": "2023-08-30T20:48:25.314Z"
   },
   {
    "duration": 9,
    "start_time": "2023-08-30T20:48:25.333Z"
   },
   {
    "duration": 15,
    "start_time": "2023-08-30T20:48:25.345Z"
   },
   {
    "duration": 68,
    "start_time": "2023-08-30T20:48:25.363Z"
   },
   {
    "duration": 2370,
    "start_time": "2023-08-30T20:48:25.433Z"
   },
   {
    "duration": 1209,
    "start_time": "2023-08-30T20:48:27.805Z"
   },
   {
    "duration": 990,
    "start_time": "2023-08-30T20:48:29.019Z"
   },
   {
    "duration": 10,
    "start_time": "2023-08-30T20:48:30.011Z"
   },
   {
    "duration": 441,
    "start_time": "2023-08-30T20:48:30.023Z"
   },
   {
    "duration": 3978,
    "start_time": "2023-08-30T20:48:30.466Z"
   },
   {
    "duration": 68502,
    "start_time": "2023-08-30T20:48:34.446Z"
   },
   {
    "duration": 2621,
    "start_time": "2023-08-30T20:49:42.950Z"
   },
   {
    "duration": 623,
    "start_time": "2023-08-30T20:49:45.573Z"
   },
   {
    "duration": 3709,
    "start_time": "2023-08-30T20:49:46.198Z"
   },
   {
    "duration": 3,
    "start_time": "2023-08-30T20:49:49.909Z"
   },
   {
    "duration": 8,
    "start_time": "2023-08-30T20:49:49.915Z"
   },
   {
    "duration": 42,
    "start_time": "2023-08-30T20:49:49.925Z"
   },
   {
    "duration": 15,
    "start_time": "2023-08-30T20:49:49.969Z"
   },
   {
    "duration": 17,
    "start_time": "2023-08-30T20:49:49.986Z"
   },
   {
    "duration": 13,
    "start_time": "2023-08-30T20:49:50.006Z"
   },
   {
    "duration": 39,
    "start_time": "2023-08-30T20:49:50.022Z"
   },
   {
    "duration": 30,
    "start_time": "2023-08-30T20:49:50.063Z"
   },
   {
    "duration": 30,
    "start_time": "2023-08-30T20:49:50.095Z"
   },
   {
    "duration": 27,
    "start_time": "2023-08-30T20:49:50.127Z"
   },
   {
    "duration": 14,
    "start_time": "2023-08-30T20:49:50.156Z"
   },
   {
    "duration": 22,
    "start_time": "2023-08-30T20:49:50.172Z"
   },
   {
    "duration": 54,
    "start_time": "2023-08-30T20:49:50.197Z"
   },
   {
    "duration": 3,
    "start_time": "2023-08-30T20:49:50.253Z"
   },
   {
    "duration": 14051,
    "start_time": "2023-08-30T20:49:50.257Z"
   },
   {
    "duration": 484,
    "start_time": "2023-08-30T20:50:04.310Z"
   },
   {
    "duration": 2112,
    "start_time": "2023-08-30T20:50:04.802Z"
   },
   {
    "duration": 5,
    "start_time": "2023-08-30T20:50:06.916Z"
   },
   {
    "duration": 25119,
    "start_time": "2023-08-30T20:50:06.924Z"
   },
   {
    "duration": 21064,
    "start_time": "2023-08-30T20:50:32.046Z"
   },
   {
    "duration": 10,
    "start_time": "2023-08-30T20:50:53.112Z"
   },
   {
    "duration": 25,
    "start_time": "2023-08-30T20:50:53.123Z"
   },
   {
    "duration": 3954,
    "start_time": "2023-08-30T22:21:21.469Z"
   },
   {
    "duration": 3,
    "start_time": "2023-08-30T22:21:25.425Z"
   },
   {
    "duration": 96,
    "start_time": "2023-08-30T22:21:25.429Z"
   },
   {
    "duration": 139,
    "start_time": "2023-08-30T22:21:25.527Z"
   },
   {
    "duration": 42,
    "start_time": "2023-08-30T22:21:25.668Z"
   },
   {
    "duration": 7,
    "start_time": "2023-08-30T22:21:25.712Z"
   },
   {
    "duration": 15,
    "start_time": "2023-08-30T22:21:25.721Z"
   },
   {
    "duration": 6,
    "start_time": "2023-08-30T22:21:25.738Z"
   },
   {
    "duration": 59,
    "start_time": "2023-08-30T22:21:25.746Z"
   },
   {
    "duration": 14,
    "start_time": "2023-08-30T22:21:25.807Z"
   },
   {
    "duration": 26,
    "start_time": "2023-08-30T22:21:25.823Z"
   },
   {
    "duration": 6,
    "start_time": "2023-08-30T22:21:25.850Z"
   },
   {
    "duration": 12,
    "start_time": "2023-08-30T22:21:25.857Z"
   },
   {
    "duration": 14,
    "start_time": "2023-08-30T22:21:25.872Z"
   },
   {
    "duration": 15,
    "start_time": "2023-08-30T22:21:25.888Z"
   },
   {
    "duration": 8,
    "start_time": "2023-08-30T22:21:25.905Z"
   },
   {
    "duration": 11,
    "start_time": "2023-08-30T22:21:25.915Z"
   },
   {
    "duration": 7,
    "start_time": "2023-08-30T22:21:25.928Z"
   },
   {
    "duration": 14,
    "start_time": "2023-08-30T22:21:25.937Z"
   },
   {
    "duration": 21,
    "start_time": "2023-08-30T22:21:25.953Z"
   },
   {
    "duration": 12,
    "start_time": "2023-08-30T22:21:26.001Z"
   },
   {
    "duration": 14,
    "start_time": "2023-08-30T22:21:26.015Z"
   },
   {
    "duration": 17,
    "start_time": "2023-08-30T22:21:26.031Z"
   },
   {
    "duration": 6,
    "start_time": "2023-08-30T22:21:26.050Z"
   },
   {
    "duration": 11,
    "start_time": "2023-08-30T22:21:26.057Z"
   },
   {
    "duration": 6,
    "start_time": "2023-08-30T22:21:26.102Z"
   },
   {
    "duration": 5,
    "start_time": "2023-08-30T22:21:26.110Z"
   },
   {
    "duration": 11,
    "start_time": "2023-08-30T22:21:26.117Z"
   },
   {
    "duration": 5,
    "start_time": "2023-08-30T22:21:26.129Z"
   },
   {
    "duration": 67,
    "start_time": "2023-08-30T22:21:26.136Z"
   },
   {
    "duration": 1520,
    "start_time": "2023-08-30T22:21:26.204Z"
   },
   {
    "duration": 720,
    "start_time": "2023-08-30T22:21:27.726Z"
   },
   {
    "duration": 961,
    "start_time": "2023-08-30T22:21:28.448Z"
   },
   {
    "duration": 9,
    "start_time": "2023-08-30T22:21:29.410Z"
   },
   {
    "duration": 390,
    "start_time": "2023-08-30T22:21:29.421Z"
   },
   {
    "duration": 3725,
    "start_time": "2023-08-30T22:21:29.813Z"
   },
   {
    "duration": 65133,
    "start_time": "2023-08-30T22:21:33.540Z"
   },
   {
    "duration": 2547,
    "start_time": "2023-08-30T22:22:38.675Z"
   },
   {
    "duration": 611,
    "start_time": "2023-08-30T22:22:41.224Z"
   },
   {
    "duration": 3721,
    "start_time": "2023-08-30T22:22:41.836Z"
   },
   {
    "duration": 3,
    "start_time": "2023-08-30T22:22:45.562Z"
   },
   {
    "duration": 22,
    "start_time": "2023-08-30T22:22:45.567Z"
   },
   {
    "duration": 47,
    "start_time": "2023-08-30T22:22:45.591Z"
   },
   {
    "duration": 7,
    "start_time": "2023-08-30T22:22:45.640Z"
   },
   {
    "duration": 6,
    "start_time": "2023-08-30T22:22:45.649Z"
   },
   {
    "duration": 15,
    "start_time": "2023-08-30T22:22:45.656Z"
   },
   {
    "duration": 8,
    "start_time": "2023-08-30T22:22:45.673Z"
   },
   {
    "duration": 19,
    "start_time": "2023-08-30T22:22:45.682Z"
   },
   {
    "duration": 15,
    "start_time": "2023-08-30T22:22:45.703Z"
   },
   {
    "duration": 8,
    "start_time": "2023-08-30T22:22:45.720Z"
   },
   {
    "duration": 6,
    "start_time": "2023-08-30T22:22:45.730Z"
   },
   {
    "duration": 18,
    "start_time": "2023-08-30T22:22:45.737Z"
   },
   {
    "duration": 49,
    "start_time": "2023-08-30T22:22:45.756Z"
   },
   {
    "duration": 2,
    "start_time": "2023-08-30T22:22:45.807Z"
   },
   {
    "duration": 12796,
    "start_time": "2023-08-30T22:22:45.811Z"
   },
   {
    "duration": 391,
    "start_time": "2023-08-30T22:22:58.610Z"
   },
   {
    "duration": 1712,
    "start_time": "2023-08-30T22:22:59.003Z"
   },
   {
    "duration": 6,
    "start_time": "2023-08-30T22:23:00.717Z"
   },
   {
    "duration": 24312,
    "start_time": "2023-08-30T22:23:00.725Z"
   },
   {
    "duration": 20770,
    "start_time": "2023-08-30T22:23:25.039Z"
   },
   {
    "duration": 9,
    "start_time": "2023-08-30T22:23:45.811Z"
   },
   {
    "duration": 13,
    "start_time": "2023-08-30T22:23:45.822Z"
   },
   {
    "duration": 5116554,
    "start_time": "2023-08-30T22:23:45.837Z"
   },
   {
    "duration": 52560,
    "start_time": "2023-08-30T23:49:02.393Z"
   },
   {
    "duration": 12,
    "start_time": "2023-08-30T23:49:54.955Z"
   },
   {
    "duration": 56,
    "start_time": "2023-08-30T23:49:54.969Z"
   },
   {
    "duration": 4,
    "start_time": "2023-08-30T23:49:55.027Z"
   },
   {
    "duration": 1530,
    "start_time": "2023-08-30T23:49:55.033Z"
   },
   {
    "duration": 2086,
    "start_time": "2023-08-30T23:49:56.565Z"
   },
   {
    "duration": 14,
    "start_time": "2023-08-30T23:49:58.654Z"
   },
   {
    "duration": 28,
    "start_time": "2023-08-30T23:49:58.669Z"
   },
   {
    "duration": 32,
    "start_time": "2023-08-30T23:49:58.698Z"
   },
   {
    "duration": 41,
    "start_time": "2023-08-30T23:49:58.732Z"
   },
   {
    "duration": 47,
    "start_time": "2023-08-30T23:49:58.775Z"
   },
   {
    "duration": 12085,
    "start_time": "2023-08-30T23:49:58.824Z"
   },
   {
    "duration": 637,
    "start_time": "2023-08-30T23:50:10.911Z"
   },
   {
    "duration": 3,
    "start_time": "2023-08-30T23:50:11.550Z"
   },
   {
    "duration": 20,
    "start_time": "2023-08-30T23:50:11.555Z"
   },
   {
    "duration": 16,
    "start_time": "2023-08-30T23:50:11.577Z"
   },
   {
    "duration": 10,
    "start_time": "2023-08-30T23:50:11.595Z"
   },
   {
    "duration": 36406,
    "start_time": "2023-08-30T23:50:11.607Z"
   },
   {
    "duration": 8,
    "start_time": "2023-08-30T23:50:48.016Z"
   },
   {
    "duration": 17187,
    "start_time": "2023-08-30T23:50:48.026Z"
   },
   {
    "duration": 9,
    "start_time": "2023-08-30T23:51:05.215Z"
   },
   {
    "duration": 5,
    "start_time": "2023-08-30T23:51:05.226Z"
   },
   {
    "duration": 8056,
    "start_time": "2023-08-30T23:51:05.233Z"
   },
   {
    "duration": 18,
    "start_time": "2023-08-30T23:51:13.291Z"
   },
   {
    "duration": 5,
    "start_time": "2023-08-30T23:51:13.311Z"
   },
   {
    "duration": 796,
    "start_time": "2023-08-30T23:51:13.318Z"
   },
   {
    "duration": 541,
    "start_time": "2023-08-30T23:51:14.116Z"
   },
   {
    "duration": 409,
    "start_time": "2023-08-30T23:51:14.659Z"
   },
   {
    "duration": 846,
    "start_time": "2023-08-30T23:51:15.070Z"
   },
   {
    "duration": 7,
    "start_time": "2023-08-30T23:51:15.918Z"
   },
   {
    "duration": 3446,
    "start_time": "2023-08-30T23:51:15.926Z"
   },
   {
    "duration": 15,
    "start_time": "2023-08-31T08:16:49.056Z"
   },
   {
    "duration": 3,
    "start_time": "2023-08-31T08:16:50.519Z"
   },
   {
    "duration": 105,
    "start_time": "2023-08-31T08:16:51.095Z"
   },
   {
    "duration": 140,
    "start_time": "2023-08-31T08:16:51.272Z"
   },
   {
    "duration": 16,
    "start_time": "2023-08-31T08:16:51.815Z"
   },
   {
    "duration": 10,
    "start_time": "2023-08-31T08:16:52.319Z"
   },
   {
    "duration": 19,
    "start_time": "2023-08-31T08:16:52.668Z"
   },
   {
    "duration": 14054,
    "start_time": "2023-08-31T08:17:18.521Z"
   },
   {
    "duration": 7,
    "start_time": "2023-08-31T08:17:36.812Z"
   },
   {
    "duration": 38,
    "start_time": "2023-08-31T08:17:37.220Z"
   },
   {
    "duration": 17,
    "start_time": "2023-08-31T08:17:37.418Z"
   },
   {
    "duration": 16,
    "start_time": "2023-08-31T08:17:37.619Z"
   },
   {
    "duration": 5,
    "start_time": "2023-08-31T08:17:37.954Z"
   },
   {
    "duration": 5,
    "start_time": "2023-08-31T08:17:38.280Z"
   },
   {
    "duration": 11,
    "start_time": "2023-08-31T08:17:38.955Z"
   },
   {
    "duration": 7,
    "start_time": "2023-08-31T08:17:39.117Z"
   },
   {
    "duration": 8,
    "start_time": "2023-08-31T08:17:41.143Z"
   },
   {
    "duration": 11,
    "start_time": "2023-08-31T08:17:41.319Z"
   },
   {
    "duration": 4,
    "start_time": "2023-08-31T08:17:41.489Z"
   },
   {
    "duration": 15,
    "start_time": "2023-08-31T08:17:41.671Z"
   },
   {
    "duration": 17,
    "start_time": "2023-08-31T08:17:41.847Z"
   },
   {
    "duration": 18,
    "start_time": "2023-08-31T08:17:42.019Z"
   },
   {
    "duration": 15,
    "start_time": "2023-08-31T08:17:42.379Z"
   },
   {
    "duration": 15,
    "start_time": "2023-08-31T08:17:42.557Z"
   },
   {
    "duration": 5,
    "start_time": "2023-08-31T08:17:42.736Z"
   },
   {
    "duration": 6,
    "start_time": "2023-08-31T08:17:42.921Z"
   },
   {
    "duration": 8,
    "start_time": "2023-08-31T08:17:44.372Z"
   },
   {
    "duration": 5,
    "start_time": "2023-08-31T08:17:44.728Z"
   },
   {
    "duration": 6,
    "start_time": "2023-08-31T08:17:44.935Z"
   },
   {
    "duration": 4,
    "start_time": "2023-08-31T08:17:45.124Z"
   },
   {
    "duration": 48,
    "start_time": "2023-08-31T08:17:45.291Z"
   },
   {
    "duration": 1666,
    "start_time": "2023-08-31T08:17:45.676Z"
   },
   {
    "duration": 803,
    "start_time": "2023-08-31T08:17:47.344Z"
   },
   {
    "duration": 1041,
    "start_time": "2023-08-31T08:17:48.149Z"
   },
   {
    "duration": 26,
    "start_time": "2023-08-31T08:17:49.193Z"
   },
   {
    "duration": 456,
    "start_time": "2023-08-31T08:17:49.222Z"
   },
   {
    "duration": 4054,
    "start_time": "2023-08-31T08:17:49.680Z"
   },
   {
    "duration": 75736,
    "start_time": "2023-08-31T08:17:53.736Z"
   },
   {
    "duration": 3027,
    "start_time": "2023-08-31T08:19:09.474Z"
   },
   {
    "duration": 672,
    "start_time": "2023-08-31T08:19:12.503Z"
   },
   {
    "duration": 4260,
    "start_time": "2023-08-31T08:19:13.178Z"
   },
   {
    "duration": 4,
    "start_time": "2023-08-31T08:19:17.440Z"
   },
   {
    "duration": 12,
    "start_time": "2023-08-31T08:19:17.446Z"
   },
   {
    "duration": 71,
    "start_time": "2023-08-31T08:19:17.460Z"
   },
   {
    "duration": 8,
    "start_time": "2023-08-31T08:19:17.533Z"
   },
   {
    "duration": 7,
    "start_time": "2023-08-31T08:19:17.543Z"
   },
   {
    "duration": 6,
    "start_time": "2023-08-31T08:19:17.552Z"
   },
   {
    "duration": 9,
    "start_time": "2023-08-31T08:19:17.560Z"
   },
   {
    "duration": 31,
    "start_time": "2023-08-31T08:19:17.571Z"
   },
   {
    "duration": 27,
    "start_time": "2023-08-31T08:19:17.603Z"
   },
   {
    "duration": 16,
    "start_time": "2023-08-31T08:19:17.632Z"
   },
   {
    "duration": 9,
    "start_time": "2023-08-31T08:19:17.650Z"
   },
   {
    "duration": 22,
    "start_time": "2023-08-31T08:19:17.662Z"
   },
   {
    "duration": 72,
    "start_time": "2023-08-31T08:19:17.686Z"
   },
   {
    "duration": 4,
    "start_time": "2023-08-31T08:19:17.760Z"
   },
   {
    "duration": 15137,
    "start_time": "2023-08-31T08:19:17.766Z"
   },
   {
    "duration": 431,
    "start_time": "2023-08-31T08:19:32.906Z"
   },
   {
    "duration": 1872,
    "start_time": "2023-08-31T08:19:33.339Z"
   },
   {
    "duration": 6,
    "start_time": "2023-08-31T08:19:35.217Z"
   },
   {
    "duration": 28796,
    "start_time": "2023-08-31T08:19:35.225Z"
   },
   {
    "duration": 23531,
    "start_time": "2023-08-31T08:20:04.023Z"
   },
   {
    "duration": 11,
    "start_time": "2023-08-31T08:20:27.556Z"
   },
   {
    "duration": 23,
    "start_time": "2023-08-31T08:20:27.570Z"
   },
   {
    "duration": 555660,
    "start_time": "2023-08-31T08:20:27.595Z"
   },
   {
    "duration": 59332,
    "start_time": "2023-08-31T08:29:43.257Z"
   },
   {
    "duration": 32,
    "start_time": "2023-08-31T08:33:21.965Z"
   },
   {
    "duration": 7,
    "start_time": "2023-08-31T08:33:22.212Z"
   },
   {
    "duration": 1746,
    "start_time": "2023-08-31T08:33:22.435Z"
   },
   {
    "duration": 2275,
    "start_time": "2023-08-31T08:33:24.183Z"
   },
   {
    "duration": 4,
    "start_time": "2023-08-31T08:33:32.318Z"
   },
   {
    "duration": 8,
    "start_time": "2023-08-31T08:33:32.751Z"
   },
   {
    "duration": 8,
    "start_time": "2023-08-31T08:33:33.325Z"
   },
   {
    "duration": 10,
    "start_time": "2023-08-31T08:33:35.177Z"
   },
   {
    "duration": 9,
    "start_time": "2023-08-31T08:33:50.881Z"
   },
   {
    "duration": 11,
    "start_time": "2023-08-31T08:33:57.382Z"
   },
   {
    "duration": 11,
    "start_time": "2023-08-31T08:34:02.230Z"
   },
   {
    "duration": 73934,
    "start_time": "2023-08-31T08:34:13.989Z"
   },
   {
    "duration": 58742,
    "start_time": "2023-08-31T08:35:27.925Z"
   },
   {
    "duration": 12,
    "start_time": "2023-08-31T08:36:26.670Z"
   },
   {
    "duration": 56,
    "start_time": "2023-08-31T08:36:26.686Z"
   },
   {
    "duration": 4,
    "start_time": "2023-08-31T08:36:26.745Z"
   },
   {
    "duration": 1607,
    "start_time": "2023-08-31T08:36:26.752Z"
   },
   {
    "duration": 2181,
    "start_time": "2023-08-31T08:36:28.362Z"
   },
   {
    "duration": 13,
    "start_time": "2023-08-31T08:36:30.546Z"
   },
   {
    "duration": 38,
    "start_time": "2023-08-31T08:36:30.562Z"
   },
   {
    "duration": 26,
    "start_time": "2023-08-31T08:36:30.615Z"
   },
   {
    "duration": 75,
    "start_time": "2023-08-31T08:36:30.643Z"
   },
   {
    "duration": 64,
    "start_time": "2023-08-31T08:36:30.721Z"
   },
   {
    "duration": 13894,
    "start_time": "2023-08-31T08:36:30.787Z"
   },
   {
    "duration": 670,
    "start_time": "2023-08-31T08:36:44.684Z"
   },
   {
    "duration": 3,
    "start_time": "2023-08-31T08:36:45.356Z"
   },
   {
    "duration": 89,
    "start_time": "2023-08-31T08:36:45.361Z"
   },
   {
    "duration": 66,
    "start_time": "2023-08-31T08:36:45.452Z"
   },
   {
    "duration": 4,
    "start_time": "2023-08-31T08:37:38.623Z"
   },
   {
    "duration": 40060,
    "start_time": "2023-08-31T08:37:41.395Z"
   },
   {
    "duration": 9,
    "start_time": "2023-08-31T08:38:21.457Z"
   },
   {
    "duration": 18806,
    "start_time": "2023-08-31T08:38:36.249Z"
   },
   {
    "duration": 10,
    "start_time": "2023-08-31T08:38:55.057Z"
   },
   {
    "duration": 11,
    "start_time": "2023-08-31T08:38:55.069Z"
   },
   {
    "duration": 9041,
    "start_time": "2023-08-31T08:38:55.083Z"
   },
   {
    "duration": 13,
    "start_time": "2023-08-31T08:39:04.126Z"
   },
   {
    "duration": 4,
    "start_time": "2023-08-31T08:39:04.141Z"
   },
   {
    "duration": 876,
    "start_time": "2023-08-31T08:39:04.147Z"
   },
   {
    "duration": 533,
    "start_time": "2023-08-31T08:39:05.026Z"
   },
   {
    "duration": 6,
    "start_time": "2023-08-31T08:39:50.493Z"
   },
   {
    "duration": 52,
    "start_time": "2023-08-31T08:39:51.290Z"
   },
   {
    "duration": 17,
    "start_time": "2023-08-31T08:40:36.454Z"
   },
   {
    "duration": 6,
    "start_time": "2023-08-31T08:40:38.590Z"
   },
   {
    "duration": 16,
    "start_time": "2023-08-31T08:40:43.866Z"
   },
   {
    "duration": 7,
    "start_time": "2023-08-31T08:40:54.218Z"
   },
   {
    "duration": 480162,
    "start_time": "2023-08-31T08:40:59.592Z"
   },
   {
    "duration": 57995,
    "start_time": "2023-08-31T08:48:59.756Z"
   },
   {
    "duration": 10,
    "start_time": "2023-08-31T08:49:57.753Z"
   },
   {
    "duration": 56,
    "start_time": "2023-08-31T08:49:57.766Z"
   },
   {
    "duration": 4,
    "start_time": "2023-08-31T08:49:57.824Z"
   },
   {
    "duration": 1457,
    "start_time": "2023-08-31T08:49:57.829Z"
   },
   {
    "duration": 2104,
    "start_time": "2023-08-31T08:49:59.288Z"
   },
   {
    "duration": 16,
    "start_time": "2023-08-31T08:50:01.401Z"
   },
   {
    "duration": 48,
    "start_time": "2023-08-31T08:50:01.419Z"
   },
   {
    "duration": 44,
    "start_time": "2023-08-31T08:50:01.470Z"
   },
   {
    "duration": 48,
    "start_time": "2023-08-31T08:50:01.516Z"
   },
   {
    "duration": 84,
    "start_time": "2023-08-31T08:50:01.566Z"
   },
   {
    "duration": 14132,
    "start_time": "2023-08-31T08:50:01.651Z"
   },
   {
    "duration": 663,
    "start_time": "2023-08-31T08:50:15.785Z"
   },
   {
    "duration": 3,
    "start_time": "2023-08-31T08:50:16.450Z"
   },
   {
    "duration": 29,
    "start_time": "2023-08-31T08:50:16.455Z"
   },
   {
    "duration": 4,
    "start_time": "2023-08-31T08:50:16.486Z"
   },
   {
    "duration": 4,
    "start_time": "2023-08-31T08:50:16.492Z"
   },
   {
    "duration": 31,
    "start_time": "2023-08-31T08:50:16.498Z"
   },
   {
    "duration": 0,
    "start_time": "2023-08-31T08:50:16.531Z"
   },
   {
    "duration": 0,
    "start_time": "2023-08-31T08:50:16.532Z"
   },
   {
    "duration": 3,
    "start_time": "2023-08-31T08:50:42.021Z"
   },
   {
    "duration": 3,
    "start_time": "2023-08-31T08:50:42.915Z"
   },
   {
    "duration": 3,
    "start_time": "2023-08-31T08:50:43.119Z"
   },
   {
    "duration": 4,
    "start_time": "2023-08-31T08:50:43.345Z"
   },
   {
    "duration": 39359,
    "start_time": "2023-08-31T08:50:43.534Z"
   },
   {
    "duration": 12,
    "start_time": "2023-08-31T08:51:22.902Z"
   },
   {
    "duration": 17618,
    "start_time": "2023-08-31T08:51:22.920Z"
   },
   {
    "duration": 10,
    "start_time": "2023-08-31T08:51:51.355Z"
   },
   {
    "duration": 3,
    "start_time": "2023-08-31T08:51:53.699Z"
   },
   {
    "duration": 9064,
    "start_time": "2023-08-31T08:51:53.999Z"
   },
   {
    "duration": 11,
    "start_time": "2023-08-31T08:52:03.065Z"
   },
   {
    "duration": 4,
    "start_time": "2023-08-31T08:52:03.078Z"
   },
   {
    "duration": 839,
    "start_time": "2023-08-31T08:52:03.615Z"
   },
   {
    "duration": 520,
    "start_time": "2023-08-31T08:52:24.937Z"
   },
   {
    "duration": 404,
    "start_time": "2023-08-31T08:52:25.459Z"
   },
   {
    "duration": 1128,
    "start_time": "2023-08-31T08:52:25.865Z"
   },
   {
    "duration": 17,
    "start_time": "2023-08-31T08:52:26.996Z"
   },
   {
    "duration": 3405,
    "start_time": "2023-08-31T08:52:27.018Z"
   },
   {
    "duration": 81,
    "start_time": "2023-08-31T08:52:44.549Z"
   },
   {
    "duration": 5,
    "start_time": "2023-08-31T08:52:44.749Z"
   },
   {
    "duration": 3925,
    "start_time": "2023-09-02T22:17:24.050Z"
   },
   {
    "duration": 3977,
    "start_time": "2023-09-02T22:17:28.062Z"
   },
   {
    "duration": 11,
    "start_time": "2023-09-02T22:17:36.644Z"
   },
   {
    "duration": 492,
    "start_time": "2023-09-02T22:17:37.307Z"
   },
   {
    "duration": 258,
    "start_time": "2023-09-02T22:17:37.804Z"
   },
   {
    "duration": 21,
    "start_time": "2023-09-02T22:17:38.065Z"
   },
   {
    "duration": 11,
    "start_time": "2023-09-02T22:17:38.570Z"
   },
   {
    "duration": 22,
    "start_time": "2023-09-02T22:17:38.882Z"
   },
   {
    "duration": 18,
    "start_time": "2023-09-02T22:17:39.232Z"
   },
   {
    "duration": 40,
    "start_time": "2023-09-02T22:17:39.400Z"
   },
   {
    "duration": 23,
    "start_time": "2023-09-02T22:17:39.677Z"
   },
   {
    "duration": 23,
    "start_time": "2023-09-02T22:17:39.840Z"
   },
   {
    "duration": 6,
    "start_time": "2023-09-02T22:17:40.164Z"
   },
   {
    "duration": 4,
    "start_time": "2023-09-02T22:17:40.503Z"
   },
   {
    "duration": 18,
    "start_time": "2023-09-02T22:17:41.460Z"
   },
   {
    "duration": 6,
    "start_time": "2023-09-02T22:17:41.551Z"
   },
   {
    "duration": 10,
    "start_time": "2023-09-02T22:17:41.872Z"
   },
   {
    "duration": 15,
    "start_time": "2023-09-02T22:17:41.956Z"
   },
   {
    "duration": 7,
    "start_time": "2023-09-02T22:17:42.053Z"
   },
   {
    "duration": 24,
    "start_time": "2023-09-02T22:17:42.135Z"
   },
   {
    "duration": 54,
    "start_time": "2023-09-02T22:17:42.205Z"
   },
   {
    "duration": 14,
    "start_time": "2023-09-02T22:17:42.287Z"
   },
   {
    "duration": 23,
    "start_time": "2023-09-02T22:17:42.456Z"
   },
   {
    "duration": 34,
    "start_time": "2023-09-02T22:17:42.543Z"
   },
   {
    "duration": 11,
    "start_time": "2023-09-02T22:17:42.635Z"
   },
   {
    "duration": 24,
    "start_time": "2023-09-02T22:17:42.704Z"
   },
   {
    "duration": 8,
    "start_time": "2023-09-02T22:17:43.372Z"
   },
   {
    "duration": 6,
    "start_time": "2023-09-02T22:17:43.543Z"
   },
   {
    "duration": 6,
    "start_time": "2023-09-02T22:17:44.266Z"
   },
   {
    "duration": 5,
    "start_time": "2023-09-02T22:17:44.770Z"
   },
   {
    "duration": 75,
    "start_time": "2023-09-02T22:17:44.852Z"
   },
   {
    "duration": 1952,
    "start_time": "2023-09-02T22:17:45.009Z"
   },
   {
    "duration": 933,
    "start_time": "2023-09-02T22:17:46.966Z"
   },
   {
    "duration": 1246,
    "start_time": "2023-09-02T22:17:47.902Z"
   },
   {
    "duration": 14,
    "start_time": "2023-09-02T22:17:49.150Z"
   },
   {
    "duration": 487,
    "start_time": "2023-09-02T22:17:49.169Z"
   },
   {
    "duration": 4846,
    "start_time": "2023-09-02T22:17:49.658Z"
   },
   {
    "duration": 83189,
    "start_time": "2023-09-02T22:17:54.511Z"
   },
   {
    "duration": 3173,
    "start_time": "2023-09-02T22:19:17.702Z"
   },
   {
    "duration": 899,
    "start_time": "2023-09-02T22:19:20.877Z"
   },
   {
    "duration": 5673,
    "start_time": "2023-09-02T22:19:21.779Z"
   },
   {
    "duration": 3,
    "start_time": "2023-09-02T22:19:27.455Z"
   },
   {
    "duration": 18,
    "start_time": "2023-09-02T22:19:27.511Z"
   },
   {
    "duration": 102,
    "start_time": "2023-09-02T22:19:27.544Z"
   },
   {
    "duration": 74,
    "start_time": "2023-09-02T22:19:27.649Z"
   },
   {
    "duration": 7,
    "start_time": "2023-09-02T22:19:27.726Z"
   },
   {
    "duration": 16,
    "start_time": "2023-09-02T22:19:27.742Z"
   },
   {
    "duration": 53,
    "start_time": "2023-09-02T22:19:27.760Z"
   },
   {
    "duration": 13,
    "start_time": "2023-09-02T22:19:27.824Z"
   },
   {
    "duration": 12,
    "start_time": "2023-09-02T22:19:27.840Z"
   },
   {
    "duration": 8,
    "start_time": "2023-09-02T22:19:27.855Z"
   },
   {
    "duration": 51,
    "start_time": "2023-09-02T22:19:27.866Z"
   },
   {
    "duration": 12,
    "start_time": "2023-09-02T22:19:27.919Z"
   },
   {
    "duration": 110,
    "start_time": "2023-09-02T22:19:27.939Z"
   },
   {
    "duration": 3,
    "start_time": "2023-09-02T22:19:28.051Z"
   },
   {
    "duration": 32987,
    "start_time": "2023-09-02T22:19:28.056Z"
   },
   {
    "duration": 25339,
    "start_time": "2023-09-02T22:20:01.045Z"
   },
   {
    "duration": 40,
    "start_time": "2023-09-02T22:20:26.387Z"
   },
   {
    "duration": 7,
    "start_time": "2023-09-02T22:20:26.436Z"
   },
   {
    "duration": 548833,
    "start_time": "2023-09-02T22:20:26.452Z"
   },
   {
    "duration": 71308,
    "start_time": "2023-09-02T22:29:35.288Z"
   },
   {
    "duration": 28,
    "start_time": "2023-09-02T22:30:46.598Z"
   },
   {
    "duration": 52,
    "start_time": "2023-09-02T22:30:46.629Z"
   },
   {
    "duration": 4,
    "start_time": "2023-09-02T22:30:46.683Z"
   },
   {
    "duration": 1699,
    "start_time": "2023-09-02T22:30:46.689Z"
   },
   {
    "duration": 2291,
    "start_time": "2023-09-02T22:30:48.390Z"
   },
   {
    "duration": 34,
    "start_time": "2023-09-02T22:30:50.683Z"
   },
   {
    "duration": 71,
    "start_time": "2023-09-02T22:30:50.727Z"
   },
   {
    "duration": 87,
    "start_time": "2023-09-02T22:30:50.800Z"
   },
   {
    "duration": 54,
    "start_time": "2023-09-02T22:30:50.889Z"
   },
   {
    "duration": 15,
    "start_time": "2023-09-02T22:30:50.945Z"
   },
   {
    "duration": 15657,
    "start_time": "2023-09-02T22:30:50.962Z"
   },
   {
    "duration": 664,
    "start_time": "2023-09-02T22:31:06.622Z"
   },
   {
    "duration": 3,
    "start_time": "2023-09-02T22:31:07.288Z"
   },
   {
    "duration": 24,
    "start_time": "2023-09-02T22:31:07.293Z"
   },
   {
    "duration": 17,
    "start_time": "2023-09-02T22:31:07.320Z"
   },
   {
    "duration": 9,
    "start_time": "2023-09-02T22:31:07.339Z"
   },
   {
    "duration": 44425,
    "start_time": "2023-09-02T22:31:07.350Z"
   },
   {
    "duration": 10,
    "start_time": "2023-09-02T22:31:51.777Z"
   },
   {
    "duration": 18762,
    "start_time": "2023-09-02T22:31:51.791Z"
   },
   {
    "duration": 16,
    "start_time": "2023-09-02T22:32:10.555Z"
   },
   {
    "duration": 4,
    "start_time": "2023-09-02T22:32:10.573Z"
   },
   {
    "duration": 10069,
    "start_time": "2023-09-02T22:32:10.579Z"
   },
   {
    "duration": 13,
    "start_time": "2023-09-02T22:32:20.650Z"
   },
   {
    "duration": 4,
    "start_time": "2023-09-02T22:32:20.664Z"
   },
   {
    "duration": 810,
    "start_time": "2023-09-02T22:32:20.670Z"
   },
   {
    "duration": 567,
    "start_time": "2023-09-02T22:32:21.482Z"
   },
   {
    "duration": 521,
    "start_time": "2023-09-02T22:32:22.051Z"
   },
   {
    "duration": 801,
    "start_time": "2023-09-02T22:32:22.575Z"
   },
   {
    "duration": 6,
    "start_time": "2023-09-02T22:32:23.378Z"
   },
   {
    "duration": 3157,
    "start_time": "2023-09-02T22:32:23.386Z"
   },
   {
    "duration": 288,
    "start_time": "2023-09-02T22:32:58.380Z"
   },
   {
    "duration": 2052,
    "start_time": "2023-09-02T22:33:11.095Z"
   },
   {
    "duration": 39478,
    "start_time": "2023-09-02T22:34:19.760Z"
   },
   {
    "duration": 324,
    "start_time": "2023-09-02T22:34:59.245Z"
   },
   {
    "duration": 119,
    "start_time": "2023-09-02T22:35:15.142Z"
   },
   {
    "duration": 5674,
    "start_time": "2023-09-02T22:35:45.583Z"
   },
   {
    "duration": 284,
    "start_time": "2023-09-02T22:36:55.290Z"
   },
   {
    "duration": 5,
    "start_time": "2023-09-02T22:36:56.487Z"
   },
   {
    "duration": 62,
    "start_time": "2023-09-02T22:37:16.742Z"
   },
   {
    "duration": 24,
    "start_time": "2023-09-02T22:37:34.892Z"
   },
   {
    "duration": 3,
    "start_time": "2023-09-02T22:37:51.653Z"
   },
   {
    "duration": 5,
    "start_time": "2023-09-02T22:37:53.186Z"
   },
   {
    "duration": 305132,
    "start_time": "2023-09-02T22:37:53.907Z"
   },
   {
    "duration": 6,
    "start_time": "2023-09-02T22:42:59.042Z"
   },
   {
    "duration": 4,
    "start_time": "2023-09-02T22:43:46.671Z"
   },
   {
    "duration": 6,
    "start_time": "2023-09-02T22:51:13.127Z"
   },
   {
    "duration": 50,
    "start_time": "2023-09-02T22:51:21.346Z"
   },
   {
    "duration": 4,
    "start_time": "2023-09-02T22:51:38.991Z"
   },
   {
    "duration": 3215,
    "start_time": "2023-09-02T22:51:40.038Z"
   },
   {
    "duration": 4,
    "start_time": "2023-09-02T22:52:07.789Z"
   },
   {
    "duration": 4,
    "start_time": "2023-09-02T22:52:15.278Z"
   },
   {
    "duration": 5,
    "start_time": "2023-09-02T22:52:20.371Z"
   },
   {
    "duration": 97134,
    "start_time": "2023-09-02T22:52:22.105Z"
   },
   {
    "duration": 10,
    "start_time": "2023-09-02T22:54:24.218Z"
   },
   {
    "duration": 8,
    "start_time": "2023-09-02T22:54:32.923Z"
   },
   {
    "duration": 134872,
    "start_time": "2023-09-02T22:54:33.573Z"
   },
   {
    "duration": 0,
    "start_time": "2023-09-02T22:56:48.447Z"
   },
   {
    "duration": 0,
    "start_time": "2023-09-02T22:56:48.448Z"
   },
   {
    "duration": 3,
    "start_time": "2023-09-02T22:56:55.759Z"
   },
   {
    "duration": 3,
    "start_time": "2023-09-02T22:56:57.043Z"
   },
   {
    "duration": 5,
    "start_time": "2023-09-02T22:57:16.157Z"
   },
   {
    "duration": 41,
    "start_time": "2023-09-02T22:57:17.045Z"
   },
   {
    "duration": 5,
    "start_time": "2023-09-02T22:57:29.286Z"
   },
   {
    "duration": 49,
    "start_time": "2023-09-02T22:57:29.865Z"
   },
   {
    "duration": 3,
    "start_time": "2023-09-02T22:58:19.569Z"
   },
   {
    "duration": 4,
    "start_time": "2023-09-02T22:58:20.405Z"
   },
   {
    "duration": 3,
    "start_time": "2023-09-02T22:58:26.477Z"
   },
   {
    "duration": 5,
    "start_time": "2023-09-02T22:58:32.369Z"
   },
   {
    "duration": 25800,
    "start_time": "2023-09-02T22:58:32.956Z"
   },
   {
    "duration": 17680928,
    "start_time": "2023-09-02T22:59:01.527Z"
   },
   {
    "duration": 2161,
    "start_time": "2023-09-03T08:42:29.312Z"
   },
   {
    "duration": 3250,
    "start_time": "2023-09-03T08:42:41.287Z"
   },
   {
    "duration": 29,
    "start_time": "2023-09-03T08:42:45.351Z"
   },
   {
    "duration": 5458,
    "start_time": "2023-09-03T08:42:52.788Z"
   },
   {
    "duration": 4092,
    "start_time": "2023-09-03T08:43:00.123Z"
   },
   {
    "duration": 40475,
    "start_time": "2023-09-03T08:43:12.836Z"
   },
   {
    "duration": 59,
    "start_time": "2023-09-03T08:43:53.313Z"
   },
   {
    "duration": 3,
    "start_time": "2023-09-03T08:44:00.039Z"
   },
   {
    "duration": 391,
    "start_time": "2023-09-03T08:44:00.779Z"
   },
   {
    "duration": 53,
    "start_time": "2023-09-03T08:44:01.363Z"
   },
   {
    "duration": 1762,
    "start_time": "2023-09-03T08:45:09.301Z"
   },
   {
    "duration": 2114,
    "start_time": "2023-09-03T08:45:18.156Z"
   },
   {
    "duration": 11711,
    "start_time": "2023-09-03T08:45:21.341Z"
   },
   {
    "duration": 24,
    "start_time": "2023-09-03T08:45:33.055Z"
   },
   {
    "duration": 4396,
    "start_time": "2023-09-03T08:45:45.022Z"
   },
   {
    "duration": 2145,
    "start_time": "2023-09-03T08:45:58.287Z"
   },
   {
    "duration": 3,
    "start_time": "2023-09-03T08:46:02.426Z"
   },
   {
    "duration": 93,
    "start_time": "2023-09-03T08:46:04.533Z"
   },
   {
    "duration": 210,
    "start_time": "2023-09-03T08:46:04.696Z"
   },
   {
    "duration": 2777,
    "start_time": "2023-09-03T08:46:23.139Z"
   },
   {
    "duration": 15,
    "start_time": "2023-09-03T08:46:25.918Z"
   },
   {
    "duration": 3,
    "start_time": "2023-09-03T08:46:26.896Z"
   },
   {
    "duration": 94,
    "start_time": "2023-09-03T08:46:27.502Z"
   },
   {
    "duration": 40,
    "start_time": "2023-09-03T08:46:28.045Z"
   },
   {
    "duration": 14,
    "start_time": "2023-09-03T08:46:43.705Z"
   },
   {
    "duration": 3,
    "start_time": "2023-09-03T08:46:45.133Z"
   },
   {
    "duration": 97,
    "start_time": "2023-09-03T08:46:45.869Z"
   },
   {
    "duration": 30,
    "start_time": "2023-09-03T08:46:46.094Z"
   },
   {
    "duration": 2226,
    "start_time": "2023-09-03T08:46:54.664Z"
   },
   {
    "duration": 3,
    "start_time": "2023-09-03T08:46:56.893Z"
   },
   {
    "duration": 95,
    "start_time": "2023-09-03T08:46:56.897Z"
   },
   {
    "duration": 174,
    "start_time": "2023-09-03T08:46:56.994Z"
   },
   {
    "duration": 13,
    "start_time": "2023-09-03T08:47:09.806Z"
   },
   {
    "duration": 7,
    "start_time": "2023-09-03T08:47:10.835Z"
   },
   {
    "duration": 14,
    "start_time": "2023-09-03T08:47:11.171Z"
   },
   {
    "duration": 6,
    "start_time": "2023-09-03T08:47:11.521Z"
   },
   {
    "duration": 22,
    "start_time": "2023-09-03T08:47:11.682Z"
   },
   {
    "duration": 13,
    "start_time": "2023-09-03T08:47:11.855Z"
   },
   {
    "duration": 12,
    "start_time": "2023-09-03T08:47:12.014Z"
   },
   {
    "duration": 4,
    "start_time": "2023-09-03T08:47:12.353Z"
   },
   {
    "duration": 5,
    "start_time": "2023-09-03T08:47:12.658Z"
   },
   {
    "duration": 9,
    "start_time": "2023-09-03T08:47:13.320Z"
   },
   {
    "duration": 5,
    "start_time": "2023-09-03T08:47:13.490Z"
   },
   {
    "duration": 9,
    "start_time": "2023-09-03T08:47:14.165Z"
   },
   {
    "duration": 9,
    "start_time": "2023-09-03T08:47:14.333Z"
   },
   {
    "duration": 4,
    "start_time": "2023-09-03T08:47:14.501Z"
   },
   {
    "duration": 11,
    "start_time": "2023-09-03T08:47:14.673Z"
   },
   {
    "duration": 14,
    "start_time": "2023-09-03T08:47:14.839Z"
   },
   {
    "duration": 15,
    "start_time": "2023-09-03T08:47:15.021Z"
   },
   {
    "duration": 13,
    "start_time": "2023-09-03T08:47:15.368Z"
   },
   {
    "duration": 11,
    "start_time": "2023-09-03T08:47:15.503Z"
   },
   {
    "duration": 4,
    "start_time": "2023-09-03T08:47:15.683Z"
   },
   {
    "duration": 5,
    "start_time": "2023-09-03T08:47:15.830Z"
   },
   {
    "duration": 6,
    "start_time": "2023-09-03T08:47:17.530Z"
   },
   {
    "duration": 4,
    "start_time": "2023-09-03T08:47:17.901Z"
   },
   {
    "duration": 4,
    "start_time": "2023-09-03T08:47:18.099Z"
   },
   {
    "duration": 4,
    "start_time": "2023-09-03T08:47:18.261Z"
   },
   {
    "duration": 35,
    "start_time": "2023-09-03T08:47:18.453Z"
   },
   {
    "duration": 630,
    "start_time": "2023-09-03T08:47:18.801Z"
   },
   {
    "duration": 476,
    "start_time": "2023-09-03T08:47:19.444Z"
   },
   {
    "duration": 650,
    "start_time": "2023-09-03T08:47:19.922Z"
   },
   {
    "duration": 10,
    "start_time": "2023-09-03T08:47:20.574Z"
   },
   {
    "duration": 301,
    "start_time": "2023-09-03T08:47:20.586Z"
   },
   {
    "duration": 3856,
    "start_time": "2023-09-03T08:47:20.889Z"
   },
   {
    "duration": 2409,
    "start_time": "2023-09-03T08:52:20.896Z"
   },
   {
    "duration": 3,
    "start_time": "2023-09-03T08:52:25.776Z"
   },
   {
    "duration": 94,
    "start_time": "2023-09-03T08:52:26.354Z"
   },
   {
    "duration": 165,
    "start_time": "2023-09-03T08:52:26.513Z"
   },
   {
    "duration": 131411,
    "start_time": "2023-09-03T08:52:34.559Z"
   },
   {
    "duration": 2284,
    "start_time": "2023-09-03T08:54:45.973Z"
   },
   {
    "duration": 4754,
    "start_time": "2023-09-03T08:54:48.259Z"
   },
   {
    "duration": 2614,
    "start_time": "2023-09-03T08:54:53.016Z"
   },
   {
    "duration": 2270,
    "start_time": "2023-09-03T08:54:55.632Z"
   },
   {
    "duration": 107,
    "start_time": "2023-09-03T08:54:57.905Z"
   },
   {
    "duration": 0,
    "start_time": "2023-09-03T08:54:58.013Z"
   },
   {
    "duration": 0,
    "start_time": "2023-09-03T08:54:58.015Z"
   },
   {
    "duration": 0,
    "start_time": "2023-09-03T08:54:58.017Z"
   },
   {
    "duration": 0,
    "start_time": "2023-09-03T08:54:58.017Z"
   },
   {
    "duration": 16,
    "start_time": "2023-09-03T08:55:05.511Z"
   },
   {
    "duration": 4,
    "start_time": "2023-09-03T08:55:06.956Z"
   },
   {
    "duration": 102,
    "start_time": "2023-09-03T08:55:07.528Z"
   },
   {
    "duration": 111,
    "start_time": "2023-09-03T08:55:07.685Z"
   },
   {
    "duration": 47259,
    "start_time": "2023-09-03T08:56:15.231Z"
   },
   {
    "duration": 3673,
    "start_time": "2023-09-03T08:57:02.493Z"
   },
   {
    "duration": 3,
    "start_time": "2023-09-03T08:57:06.168Z"
   },
   {
    "duration": 110,
    "start_time": "2023-09-03T08:57:06.172Z"
   },
   {
    "duration": 262,
    "start_time": "2023-09-03T08:57:06.284Z"
   },
   {
    "duration": 12,
    "start_time": "2023-09-03T08:57:06.548Z"
   },
   {
    "duration": 9,
    "start_time": "2023-09-03T08:57:06.561Z"
   },
   {
    "duration": 13,
    "start_time": "2023-09-03T08:57:06.571Z"
   },
   {
    "duration": 5,
    "start_time": "2023-09-03T08:57:06.586Z"
   },
   {
    "duration": 51,
    "start_time": "2023-09-03T08:57:06.593Z"
   },
   {
    "duration": 14,
    "start_time": "2023-09-03T08:57:06.646Z"
   },
   {
    "duration": 14,
    "start_time": "2023-09-03T08:57:06.661Z"
   },
   {
    "duration": 4,
    "start_time": "2023-09-03T08:57:06.677Z"
   },
   {
    "duration": 13,
    "start_time": "2023-09-03T08:57:06.683Z"
   },
   {
    "duration": 16,
    "start_time": "2023-09-03T08:57:06.698Z"
   },
   {
    "duration": 13,
    "start_time": "2023-09-03T08:57:06.716Z"
   },
   {
    "duration": 20,
    "start_time": "2023-09-03T08:57:06.730Z"
   },
   {
    "duration": 14,
    "start_time": "2023-09-03T08:57:06.752Z"
   },
   {
    "duration": 7,
    "start_time": "2023-09-03T08:57:06.767Z"
   },
   {
    "duration": 20,
    "start_time": "2023-09-03T08:57:06.776Z"
   },
   {
    "duration": 15,
    "start_time": "2023-09-03T08:57:06.798Z"
   },
   {
    "duration": 13,
    "start_time": "2023-09-03T08:57:06.814Z"
   },
   {
    "duration": 19,
    "start_time": "2023-09-03T08:57:06.829Z"
   },
   {
    "duration": 9,
    "start_time": "2023-09-03T08:57:06.850Z"
   },
   {
    "duration": 17,
    "start_time": "2023-09-03T08:57:06.861Z"
   },
   {
    "duration": 15,
    "start_time": "2023-09-03T08:57:06.880Z"
   },
   {
    "duration": 7,
    "start_time": "2023-09-03T08:57:31.044Z"
   },
   {
    "duration": 4,
    "start_time": "2023-09-03T08:57:31.750Z"
   },
   {
    "duration": 4,
    "start_time": "2023-09-03T08:57:31.921Z"
   },
   {
    "duration": 4,
    "start_time": "2023-09-03T08:57:32.078Z"
   },
   {
    "duration": 43,
    "start_time": "2023-09-03T08:57:32.272Z"
   },
   {
    "duration": 924,
    "start_time": "2023-09-03T08:57:32.617Z"
   },
   {
    "duration": 708,
    "start_time": "2023-09-03T08:57:33.542Z"
   },
   {
    "duration": 855,
    "start_time": "2023-09-03T08:57:34.252Z"
   },
   {
    "duration": 10,
    "start_time": "2023-09-03T08:57:35.110Z"
   },
   {
    "duration": 381,
    "start_time": "2023-09-03T08:57:35.121Z"
   },
   {
    "duration": 3226,
    "start_time": "2023-09-03T08:57:35.504Z"
   },
   {
    "duration": 59691,
    "start_time": "2023-09-03T08:57:38.732Z"
   },
   {
    "duration": 2371,
    "start_time": "2023-09-03T08:58:38.425Z"
   },
   {
    "duration": 612,
    "start_time": "2023-09-03T08:58:40.797Z"
   },
   {
    "duration": 3755,
    "start_time": "2023-09-03T08:58:41.413Z"
   },
   {
    "duration": 3,
    "start_time": "2023-09-03T08:58:45.170Z"
   },
   {
    "duration": 9,
    "start_time": "2023-09-03T08:58:45.175Z"
   },
   {
    "duration": 38,
    "start_time": "2023-09-03T08:58:45.186Z"
   },
   {
    "duration": 7,
    "start_time": "2023-09-03T08:58:45.244Z"
   },
   {
    "duration": 11,
    "start_time": "2023-09-03T08:58:45.253Z"
   },
   {
    "duration": 9,
    "start_time": "2023-09-03T08:58:45.266Z"
   },
   {
    "duration": 7,
    "start_time": "2023-09-03T08:58:45.276Z"
   },
   {
    "duration": 16,
    "start_time": "2023-09-03T08:58:45.285Z"
   },
   {
    "duration": 13,
    "start_time": "2023-09-03T08:58:45.303Z"
   },
   {
    "duration": 30,
    "start_time": "2023-09-03T08:58:45.317Z"
   },
   {
    "duration": 7,
    "start_time": "2023-09-03T08:58:45.349Z"
   },
   {
    "duration": 11,
    "start_time": "2023-09-03T08:58:45.358Z"
   },
   {
    "duration": 44,
    "start_time": "2023-09-03T08:58:45.371Z"
   },
   {
    "duration": 2,
    "start_time": "2023-09-03T08:58:45.417Z"
   },
   {
    "duration": 23697,
    "start_time": "2023-09-03T08:58:45.420Z"
   },
   {
    "duration": 19213,
    "start_time": "2023-09-03T08:59:09.119Z"
   },
   {
    "duration": 12,
    "start_time": "2023-09-03T08:59:28.333Z"
   },
   {
    "duration": 5,
    "start_time": "2023-09-03T08:59:28.350Z"
   },
   {
    "duration": 57509,
    "start_time": "2023-09-03T08:59:28.356Z"
   },
   {
    "duration": 45519,
    "start_time": "2023-09-03T09:00:25.867Z"
   },
   {
    "duration": 9,
    "start_time": "2023-09-03T09:01:11.388Z"
   },
   {
    "duration": 29,
    "start_time": "2023-09-03T09:01:11.398Z"
   },
   {
    "duration": 15,
    "start_time": "2023-09-03T09:01:11.429Z"
   },
   {
    "duration": 1287,
    "start_time": "2023-09-03T09:01:11.446Z"
   },
   {
    "duration": 1797,
    "start_time": "2023-09-03T09:01:12.735Z"
   },
   {
    "duration": 16,
    "start_time": "2023-09-03T09:01:14.534Z"
   },
   {
    "duration": 7,
    "start_time": "2023-09-03T09:01:14.552Z"
   },
   {
    "duration": 7,
    "start_time": "2023-09-03T09:01:14.560Z"
   },
   {
    "duration": 11,
    "start_time": "2023-09-03T09:01:14.568Z"
   },
   {
    "duration": 17,
    "start_time": "2023-09-03T09:01:14.580Z"
   },
   {
    "duration": 10117,
    "start_time": "2023-09-03T09:01:14.598Z"
   },
   {
    "duration": 547,
    "start_time": "2023-09-03T09:01:24.716Z"
   },
   {
    "duration": 4,
    "start_time": "2023-09-03T09:01:25.264Z"
   },
   {
    "duration": 7,
    "start_time": "2023-09-03T09:01:25.269Z"
   },
   {
    "duration": 6,
    "start_time": "2023-09-03T09:01:25.278Z"
   },
   {
    "duration": 20,
    "start_time": "2023-09-03T09:01:25.285Z"
   },
   {
    "duration": 29150,
    "start_time": "2023-09-03T09:01:25.307Z"
   },
   {
    "duration": 7,
    "start_time": "2023-09-03T09:01:54.459Z"
   },
   {
    "duration": 8,
    "start_time": "2023-09-03T09:01:54.468Z"
   },
   {
    "duration": 8,
    "start_time": "2023-09-03T09:01:54.478Z"
   },
   {
    "duration": 7,
    "start_time": "2023-09-03T09:01:54.488Z"
   },
   {
    "duration": 12,
    "start_time": "2023-09-03T09:01:54.496Z"
   },
   {
    "duration": 29294,
    "start_time": "2023-09-03T09:01:54.509Z"
   },
   {
    "duration": 7,
    "start_time": "2023-09-03T09:02:23.805Z"
   },
   {
    "duration": 14217,
    "start_time": "2023-09-03T09:04:17.105Z"
   },
   {
    "duration": 7,
    "start_time": "2023-09-03T09:04:31.324Z"
   },
   {
    "duration": 9,
    "start_time": "2023-09-03T09:04:31.345Z"
   },
   {
    "duration": 6858,
    "start_time": "2023-09-03T09:04:31.356Z"
   },
   {
    "duration": 11,
    "start_time": "2023-09-03T09:04:38.216Z"
   },
   {
    "duration": 2,
    "start_time": "2023-09-03T09:04:38.229Z"
   },
   {
    "duration": 696,
    "start_time": "2023-09-03T09:04:38.233Z"
   },
   {
    "duration": 173,
    "start_time": "2023-09-03T09:05:03.773Z"
   },
   {
    "duration": 13786,
    "start_time": "2023-09-03T09:05:13.638Z"
   },
   {
    "duration": 19,
    "start_time": "2023-09-03T09:05:27.426Z"
   },
   {
    "duration": 3,
    "start_time": "2023-09-03T09:05:27.446Z"
   },
   {
    "duration": 7931,
    "start_time": "2023-09-03T09:05:27.451Z"
   },
   {
    "duration": 11,
    "start_time": "2023-09-03T09:05:35.385Z"
   },
   {
    "duration": 9,
    "start_time": "2023-09-03T09:05:35.398Z"
   },
   {
    "duration": 719,
    "start_time": "2023-09-03T09:05:36.590Z"
   },
   {
    "duration": 4,
    "start_time": "2023-09-03T09:06:49.975Z"
   },
   {
    "duration": 3,
    "start_time": "2023-09-03T09:07:00.810Z"
   },
   {
    "duration": 3,
    "start_time": "2023-09-03T09:07:05.603Z"
   },
   {
    "duration": 36,
    "start_time": "2023-09-03T09:07:10.792Z"
   },
   {
    "duration": 3,
    "start_time": "2023-09-03T09:07:27.502Z"
   },
   {
    "duration": 46956,
    "start_time": "2023-09-03T09:07:59.083Z"
   },
   {
    "duration": 9,
    "start_time": "2023-09-03T09:08:46.053Z"
   },
   {
    "duration": 14345,
    "start_time": "2023-09-03T09:09:27.507Z"
   },
   {
    "duration": 9,
    "start_time": "2023-09-03T09:09:41.854Z"
   },
   {
    "duration": 3,
    "start_time": "2023-09-03T09:09:41.864Z"
   },
   {
    "duration": 30,
    "start_time": "2023-09-03T09:09:41.869Z"
   },
   {
    "duration": 0,
    "start_time": "2023-09-03T09:09:41.901Z"
   },
   {
    "duration": 0,
    "start_time": "2023-09-03T09:09:41.902Z"
   },
   {
    "duration": 0,
    "start_time": "2023-09-03T09:09:41.903Z"
   },
   {
    "duration": 0,
    "start_time": "2023-09-03T09:09:41.904Z"
   },
   {
    "duration": 0,
    "start_time": "2023-09-03T09:09:41.905Z"
   },
   {
    "duration": 0,
    "start_time": "2023-09-03T09:09:41.906Z"
   },
   {
    "duration": 0,
    "start_time": "2023-09-03T09:09:41.906Z"
   },
   {
    "duration": 0,
    "start_time": "2023-09-03T09:09:41.907Z"
   },
   {
    "duration": 3,
    "start_time": "2023-09-03T09:09:50.412Z"
   },
   {
    "duration": 2,
    "start_time": "2023-09-03T09:09:50.563Z"
   },
   {
    "duration": 3,
    "start_time": "2023-09-03T09:09:56.112Z"
   },
   {
    "duration": 6936,
    "start_time": "2023-09-03T09:09:56.373Z"
   },
   {
    "duration": 10,
    "start_time": "2023-09-03T09:10:03.311Z"
   },
   {
    "duration": 17,
    "start_time": "2023-09-03T09:10:03.323Z"
   },
   {
    "duration": 718,
    "start_time": "2023-09-03T09:10:03.343Z"
   },
   {
    "duration": 495,
    "start_time": "2023-09-03T09:10:04.064Z"
   },
   {
    "duration": 333,
    "start_time": "2023-09-03T09:10:04.561Z"
   },
   {
    "duration": 694,
    "start_time": "2023-09-03T09:10:04.896Z"
   },
   {
    "duration": 5,
    "start_time": "2023-09-03T09:10:05.592Z"
   },
   {
    "duration": 2781,
    "start_time": "2023-09-03T09:10:05.599Z"
   },
   {
    "duration": 4,
    "start_time": "2023-09-03T09:12:01.130Z"
   },
   {
    "duration": 3,
    "start_time": "2023-09-03T09:12:13.890Z"
   },
   {
    "duration": 45124,
    "start_time": "2023-09-03T09:12:21.078Z"
   },
   {
    "duration": 3948,
    "start_time": "2023-09-03T09:13:27.017Z"
   },
   {
    "duration": 237,
    "start_time": "2023-09-03T09:14:09.915Z"
   },
   {
    "duration": 5,
    "start_time": "2023-09-03T09:14:15.418Z"
   },
   {
    "duration": 4980363,
    "start_time": "2023-09-03T09:14:23.453Z"
   },
   {
    "duration": 3,
    "start_time": "2023-09-03T10:37:23.818Z"
   },
   {
    "duration": 39,
    "start_time": "2023-09-03T10:37:23.822Z"
   },
   {
    "duration": 6,
    "start_time": "2023-09-03T10:37:23.866Z"
   },
   {
    "duration": 48504,
    "start_time": "2023-09-03T10:37:23.874Z"
   },
   {
    "duration": 10,
    "start_time": "2023-09-03T11:14:57.641Z"
   },
   {
    "duration": 3,
    "start_time": "2023-09-03T11:14:57.931Z"
   },
   {
    "duration": 3,
    "start_time": "2023-09-03T11:14:58.235Z"
   },
   {
    "duration": 3,
    "start_time": "2023-09-03T11:14:58.616Z"
   },
   {
    "duration": 36945,
    "start_time": "2023-09-03T11:15:05.121Z"
   },
   {
    "duration": 3,
    "start_time": "2023-09-03T11:16:09.126Z"
   },
   {
    "duration": 36213,
    "start_time": "2023-09-03T11:16:09.720Z"
   },
   {
    "duration": 7,
    "start_time": "2023-09-03T11:19:03.880Z"
   },
   {
    "duration": 86,
    "start_time": "2023-09-03T11:19:06.253Z"
   },
   {
    "duration": 5,
    "start_time": "2023-09-03T11:19:32.368Z"
   },
   {
    "duration": 1907,
    "start_time": "2023-09-03T11:19:34.210Z"
   },
   {
    "duration": 18,
    "start_time": "2023-09-03T11:19:39.496Z"
   },
   {
    "duration": 3,
    "start_time": "2023-09-03T11:20:41.205Z"
   },
   {
    "duration": 4,
    "start_time": "2023-09-03T11:20:48.026Z"
   },
   {
    "duration": 8,
    "start_time": "2023-09-03T12:40:32.598Z"
   },
   {
    "duration": 83,
    "start_time": "2023-09-03T12:40:34.253Z"
   },
   {
    "duration": 52648,
    "start_time": "2023-09-03T12:40:46.768Z"
   },
   {
    "duration": 11900,
    "start_time": "2023-09-03T12:41:39.418Z"
   },
   {
    "duration": 3,
    "start_time": "2023-09-03T12:41:51.320Z"
   },
   {
    "duration": 481,
    "start_time": "2023-09-03T12:41:51.326Z"
   },
   {
    "duration": 366,
    "start_time": "2023-09-03T12:41:51.809Z"
   },
   {
    "duration": 18,
    "start_time": "2023-09-03T12:41:52.181Z"
   },
   {
    "duration": 6,
    "start_time": "2023-09-03T12:41:52.201Z"
   },
   {
    "duration": 15,
    "start_time": "2023-09-03T12:41:52.209Z"
   },
   {
    "duration": 10,
    "start_time": "2023-09-03T12:41:52.226Z"
   },
   {
    "duration": 55,
    "start_time": "2023-09-03T12:41:52.238Z"
   },
   {
    "duration": 12,
    "start_time": "2023-09-03T12:41:52.295Z"
   },
   {
    "duration": 25,
    "start_time": "2023-09-03T12:41:52.308Z"
   },
   {
    "duration": 4,
    "start_time": "2023-09-03T12:41:52.335Z"
   },
   {
    "duration": 14,
    "start_time": "2023-09-03T12:41:52.341Z"
   },
   {
    "duration": 36,
    "start_time": "2023-09-03T12:41:52.357Z"
   },
   {
    "duration": 7,
    "start_time": "2023-09-03T12:41:52.395Z"
   },
   {
    "duration": 10,
    "start_time": "2023-09-03T12:41:52.403Z"
   },
   {
    "duration": 19,
    "start_time": "2023-09-03T12:41:52.414Z"
   },
   {
    "duration": 5,
    "start_time": "2023-09-03T12:41:52.434Z"
   },
   {
    "duration": 23,
    "start_time": "2023-09-03T12:41:52.441Z"
   },
   {
    "duration": 20,
    "start_time": "2023-09-03T12:41:52.466Z"
   },
   {
    "duration": 15,
    "start_time": "2023-09-03T12:41:52.488Z"
   },
   {
    "duration": 12,
    "start_time": "2023-09-03T12:41:52.505Z"
   },
   {
    "duration": 9,
    "start_time": "2023-09-03T12:41:52.519Z"
   },
   {
    "duration": 16,
    "start_time": "2023-09-03T12:41:52.529Z"
   },
   {
    "duration": 9,
    "start_time": "2023-09-03T12:41:52.547Z"
   },
   {
    "duration": 7,
    "start_time": "2023-09-03T12:41:52.562Z"
   },
   {
    "duration": 8,
    "start_time": "2023-09-03T12:41:52.576Z"
   },
   {
    "duration": 34,
    "start_time": "2023-09-03T12:41:52.587Z"
   },
   {
    "duration": 19,
    "start_time": "2023-09-03T12:41:52.623Z"
   },
   {
    "duration": 65,
    "start_time": "2023-09-03T12:41:52.644Z"
   },
   {
    "duration": 1081,
    "start_time": "2023-09-03T12:41:52.711Z"
   },
   {
    "duration": 815,
    "start_time": "2023-09-03T12:41:53.794Z"
   },
   {
    "duration": 926,
    "start_time": "2023-09-03T12:41:54.611Z"
   },
   {
    "duration": 31,
    "start_time": "2023-09-03T12:41:55.539Z"
   },
   {
    "duration": 372,
    "start_time": "2023-09-03T12:41:55.575Z"
   },
   {
    "duration": 4043,
    "start_time": "2023-09-03T12:41:55.949Z"
   },
   {
    "duration": 71114,
    "start_time": "2023-09-03T12:41:59.996Z"
   },
   {
    "duration": 2626,
    "start_time": "2023-09-03T12:43:11.112Z"
   },
   {
    "duration": 757,
    "start_time": "2023-09-03T12:43:13.739Z"
   },
   {
    "duration": 3837,
    "start_time": "2023-09-03T12:43:14.498Z"
   },
   {
    "duration": 21,
    "start_time": "2023-09-03T12:43:18.336Z"
   },
   {
    "duration": 9,
    "start_time": "2023-09-03T12:43:18.359Z"
   },
   {
    "duration": 49,
    "start_time": "2023-09-03T12:43:18.370Z"
   },
   {
    "duration": 6,
    "start_time": "2023-09-03T12:43:18.421Z"
   },
   {
    "duration": 5,
    "start_time": "2023-09-03T12:43:18.429Z"
   },
   {
    "duration": 6,
    "start_time": "2023-09-03T12:43:18.436Z"
   },
   {
    "duration": 21,
    "start_time": "2023-09-03T12:43:18.443Z"
   },
   {
    "duration": 10,
    "start_time": "2023-09-03T12:43:18.466Z"
   },
   {
    "duration": 10,
    "start_time": "2023-09-03T12:43:18.478Z"
   },
   {
    "duration": 9,
    "start_time": "2023-09-03T12:43:18.489Z"
   },
   {
    "duration": 11,
    "start_time": "2023-09-03T12:43:18.499Z"
   },
   {
    "duration": 8,
    "start_time": "2023-09-03T12:43:18.512Z"
   },
   {
    "duration": 69,
    "start_time": "2023-09-03T12:43:18.521Z"
   },
   {
    "duration": 3,
    "start_time": "2023-09-03T12:43:18.593Z"
   },
   {
    "duration": 27494,
    "start_time": "2023-09-03T12:43:18.598Z"
   },
   {
    "duration": 21996,
    "start_time": "2023-09-03T12:43:46.096Z"
   },
   {
    "duration": 9,
    "start_time": "2023-09-03T12:44:08.094Z"
   },
   {
    "duration": 7,
    "start_time": "2023-09-03T12:44:08.105Z"
   },
   {
    "duration": 78086,
    "start_time": "2023-09-03T12:44:08.114Z"
   },
   {
    "duration": 64135,
    "start_time": "2023-09-03T12:45:26.203Z"
   },
   {
    "duration": 18,
    "start_time": "2023-09-03T12:46:30.354Z"
   },
   {
    "duration": 217,
    "start_time": "2023-09-03T12:46:30.381Z"
   },
   {
    "duration": 0,
    "start_time": "2023-09-03T12:46:30.601Z"
   },
   {
    "duration": 0,
    "start_time": "2023-09-03T12:46:30.603Z"
   },
   {
    "duration": 0,
    "start_time": "2023-09-03T12:46:30.604Z"
   },
   {
    "duration": 0,
    "start_time": "2023-09-03T12:46:30.605Z"
   },
   {
    "duration": 327,
    "start_time": "2023-09-03T13:38:58.782Z"
   },
   {
    "duration": 5,
    "start_time": "2023-09-03T13:39:00.323Z"
   },
   {
    "duration": 39,
    "start_time": "2023-09-03T13:39:00.652Z"
   },
   {
    "duration": 3,
    "start_time": "2023-09-03T13:39:22.473Z"
   },
   {
    "duration": 4,
    "start_time": "2023-09-03T13:39:23.739Z"
   },
   {
    "duration": 4585377,
    "start_time": "2023-09-03T13:39:24.011Z"
   },
   {
    "duration": 3,
    "start_time": "2023-09-03T14:55:49.390Z"
   },
   {
    "duration": 11,
    "start_time": "2023-09-03T14:55:49.395Z"
   },
   {
    "duration": 14,
    "start_time": "2023-09-03T14:55:49.409Z"
   },
   {
    "duration": 0,
    "start_time": "2023-09-03T14:55:49.424Z"
   },
   {
    "duration": 2,
    "start_time": "2023-09-03T15:10:59.377Z"
   },
   {
    "duration": 45383,
    "start_time": "2023-09-03T15:11:00.142Z"
   },
   {
    "duration": 10526,
    "start_time": "2023-09-03T15:20:30.095Z"
   },
   {
    "duration": 564,
    "start_time": "2023-09-03T15:20:40.623Z"
   },
   {
    "duration": 3,
    "start_time": "2023-09-03T15:20:41.188Z"
   },
   {
    "duration": 5,
    "start_time": "2023-09-03T15:20:41.193Z"
   },
   {
    "duration": 4,
    "start_time": "2023-09-03T15:20:41.200Z"
   },
   {
    "duration": 10,
    "start_time": "2023-09-03T15:20:41.206Z"
   },
   {
    "duration": 29202,
    "start_time": "2023-09-03T15:20:41.217Z"
   },
   {
    "duration": 6,
    "start_time": "2023-09-03T15:21:10.421Z"
   },
   {
    "duration": 3,
    "start_time": "2023-09-03T15:22:34.155Z"
   },
   {
    "duration": 29125,
    "start_time": "2023-09-03T15:22:34.413Z"
   },
   {
    "duration": 13997,
    "start_time": "2023-09-03T15:23:14.587Z"
   },
   {
    "duration": 8,
    "start_time": "2023-09-03T15:23:28.586Z"
   },
   {
    "duration": 3,
    "start_time": "2023-09-03T15:23:28.595Z"
   },
   {
    "duration": 6527,
    "start_time": "2023-09-03T15:23:28.599Z"
   },
   {
    "duration": 13,
    "start_time": "2023-09-03T15:23:35.128Z"
   },
   {
    "duration": 28,
    "start_time": "2023-09-03T15:23:35.143Z"
   },
   {
    "duration": 738,
    "start_time": "2023-09-03T15:23:35.173Z"
   },
   {
    "duration": 29475,
    "start_time": "2023-09-03T15:24:35.548Z"
   },
   {
    "duration": 20,
    "start_time": "2023-09-03T15:25:05.025Z"
   },
   {
    "duration": 0,
    "start_time": "2023-09-03T15:25:05.047Z"
   },
   {
    "duration": 0,
    "start_time": "2023-09-03T15:25:05.048Z"
   },
   {
    "duration": 0,
    "start_time": "2023-09-03T15:25:05.049Z"
   },
   {
    "duration": 0,
    "start_time": "2023-09-03T15:25:05.050Z"
   },
   {
    "duration": 0,
    "start_time": "2023-09-03T15:25:05.052Z"
   },
   {
    "duration": 0,
    "start_time": "2023-09-03T15:25:05.053Z"
   },
   {
    "duration": 29605,
    "start_time": "2023-09-03T15:25:19.919Z"
   },
   {
    "duration": 14365,
    "start_time": "2023-09-03T15:25:49.526Z"
   },
   {
    "duration": 8,
    "start_time": "2023-09-03T15:26:03.893Z"
   },
   {
    "duration": 3,
    "start_time": "2023-09-03T15:26:03.903Z"
   },
   {
    "duration": 6902,
    "start_time": "2023-09-03T15:26:03.907Z"
   },
   {
    "duration": 12,
    "start_time": "2023-09-03T15:26:10.811Z"
   },
   {
    "duration": 3,
    "start_time": "2023-09-03T15:26:10.825Z"
   },
   {
    "duration": 694,
    "start_time": "2023-09-03T15:26:10.829Z"
   },
   {
    "duration": 4,
    "start_time": "2023-09-03T15:26:34.153Z"
   },
   {
    "duration": 30445,
    "start_time": "2023-09-03T15:26:37.888Z"
   },
   {
    "duration": 14338,
    "start_time": "2023-09-03T15:27:22.789Z"
   },
   {
    "duration": 20,
    "start_time": "2023-09-03T15:27:37.129Z"
   },
   {
    "duration": 3,
    "start_time": "2023-09-03T15:27:37.151Z"
   },
   {
    "duration": 7441,
    "start_time": "2023-09-03T15:27:37.157Z"
   },
   {
    "duration": 12,
    "start_time": "2023-09-03T15:27:44.599Z"
   },
   {
    "duration": 3,
    "start_time": "2023-09-03T15:27:44.612Z"
   },
   {
    "duration": 718,
    "start_time": "2023-09-03T15:27:44.617Z"
   },
   {
    "duration": 462,
    "start_time": "2023-09-03T15:28:03.345Z"
   },
   {
    "duration": 476,
    "start_time": "2023-09-03T15:28:03.809Z"
   },
   {
    "duration": 679,
    "start_time": "2023-09-03T15:28:04.288Z"
   },
   {
    "duration": 7,
    "start_time": "2023-09-03T15:28:04.969Z"
   },
   {
    "duration": 2845,
    "start_time": "2023-09-03T15:28:04.978Z"
   }
  ],
  "kernelspec": {
   "display_name": "Python 3 (ipykernel)",
   "language": "python",
   "name": "python3"
  },
  "language_info": {
   "codemirror_mode": {
    "name": "ipython",
    "version": 3
   },
   "file_extension": ".py",
   "mimetype": "text/x-python",
   "name": "python",
   "nbconvert_exporter": "python",
   "pygments_lexer": "ipython3",
   "version": "3.9.13"
  },
  "toc": {
   "base_numbering": 1,
   "nav_menu": {},
   "number_sections": true,
   "sideBar": true,
   "skip_h1_title": true,
   "title_cell": "Table of Contents",
   "title_sidebar": "Contents",
   "toc_cell": false,
   "toc_position": {
    "height": "1000.8px",
    "left": "25px",
    "top": "139.137px",
    "width": "465.89px"
   },
   "toc_section_display": true,
   "toc_window_display": true
  }
 },
 "nbformat": 4,
 "nbformat_minor": 2
}
