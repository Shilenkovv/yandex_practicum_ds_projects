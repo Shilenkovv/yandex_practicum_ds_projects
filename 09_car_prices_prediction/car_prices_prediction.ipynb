{
 "cells": [
  {
   "cell_type": "markdown",
   "metadata": {},
   "source": [
    "# Определение стоимости автомобилей"
   ]
  },
  {
   "cell_type": "markdown",
   "metadata": {},
   "source": [
    "Сервис по продаже автомобилей с пробегом «Не бит, не крашен» разрабатывает приложение для привлечения новых клиентов. В нём можно быстро узнать рыночную стоимость своего автомобиля. В нашем распоряжении исторические данные: технические характеристики, комплектации и цены автомобилей. Нам нужно построить модель для определения стоимости. \n",
    "\n",
    "Заказчику важны:\n",
    "- качество предсказания;\n",
    "- скорость предсказания;\n",
    "- время обучения.\n",
    "\n",
    "\n",
    "Исследование будет содержать следующие этапы:\n",
    "- Загрузка и подготовка данных;\n",
    "- Подготовка данных для обучения моделей;\n",
    "- Обучения моделей;\n",
    "- Анализ моделей;\n",
    "- Проверка лучшей модели не тестовой выборке;\n",
    "- Проверка лучшей модели на адекватность;\n",
    "- Финальный вывод."
   ]
  },
  {
   "cell_type": "code",
   "execution_count": 1,
   "metadata": {},
   "outputs": [],
   "source": [
    "#! pip install lightgbm"
   ]
  },
  {
   "cell_type": "code",
   "execution_count": 2,
   "metadata": {},
   "outputs": [],
   "source": [
    "#! pip install category_encoders"
   ]
  },
  {
   "cell_type": "code",
   "execution_count": 3,
   "metadata": {},
   "outputs": [],
   "source": [
    "import warnings\n",
    "import time\n",
    "\n",
    "import pandas as pd\n",
    "import numpy as np\n",
    "import matplotlib\n",
    "import matplotlib.pyplot as plt\n",
    "import seaborn as sns\n",
    "sns.set()\n",
    "import sklearn\n",
    "from sklearn.model_selection import train_test_split\n",
    "from sklearn.preprocessing import StandardScaler, OneHotEncoder, OrdinalEncoder\n",
    "from sklearn.linear_model import LinearRegression\n",
    "from sklearn.tree import DecisionTreeRegressor\n",
    "from sklearn.ensemble import RandomForestRegressor\n",
    "from sklearn.metrics import make_scorer, mean_squared_error\n",
    "from sklearn.model_selection import GridSearchCV\n",
    "from catboost import CatBoostRegressor\n",
    "import lightgbm as lgbm\n",
    "from lightgbm import LGBMRegressor\n",
    "import category_encoders as ce"
   ]
  },
  {
   "cell_type": "code",
   "execution_count": 4,
   "metadata": {},
   "outputs": [],
   "source": [
    "warnings.filterwarnings(\"ignore\")"
   ]
  },
  {
   "cell_type": "markdown",
   "metadata": {},
   "source": [
    "## Загрузка и подготовка данных"
   ]
  },
  {
   "cell_type": "code",
   "execution_count": 5,
   "metadata": {},
   "outputs": [],
   "source": [
    "try:\n",
    "    df = pd.read_csv('/datasets/autos.csv')\n",
    "except:\n",
    "    df = pd.read_csv('datasets/autos.csv')"
   ]
  },
  {
   "cell_type": "code",
   "execution_count": 6,
   "metadata": {},
   "outputs": [
    {
     "data": {
      "text/html": [
       "<div>\n",
       "<style scoped>\n",
       "    .dataframe tbody tr th:only-of-type {\n",
       "        vertical-align: middle;\n",
       "    }\n",
       "\n",
       "    .dataframe tbody tr th {\n",
       "        vertical-align: top;\n",
       "    }\n",
       "\n",
       "    .dataframe thead th {\n",
       "        text-align: right;\n",
       "    }\n",
       "</style>\n",
       "<table border=\"1\" class=\"dataframe\">\n",
       "  <thead>\n",
       "    <tr style=\"text-align: right;\">\n",
       "      <th></th>\n",
       "      <th>DateCrawled</th>\n",
       "      <th>Price</th>\n",
       "      <th>VehicleType</th>\n",
       "      <th>RegistrationYear</th>\n",
       "      <th>Gearbox</th>\n",
       "      <th>Power</th>\n",
       "      <th>Model</th>\n",
       "      <th>Kilometer</th>\n",
       "      <th>RegistrationMonth</th>\n",
       "      <th>FuelType</th>\n",
       "      <th>Brand</th>\n",
       "      <th>Repaired</th>\n",
       "      <th>DateCreated</th>\n",
       "      <th>NumberOfPictures</th>\n",
       "      <th>PostalCode</th>\n",
       "      <th>LastSeen</th>\n",
       "    </tr>\n",
       "  </thead>\n",
       "  <tbody>\n",
       "    <tr>\n",
       "      <th>0</th>\n",
       "      <td>2016-03-24 11:52:17</td>\n",
       "      <td>480</td>\n",
       "      <td>NaN</td>\n",
       "      <td>1993</td>\n",
       "      <td>manual</td>\n",
       "      <td>0</td>\n",
       "      <td>golf</td>\n",
       "      <td>150000</td>\n",
       "      <td>0</td>\n",
       "      <td>petrol</td>\n",
       "      <td>volkswagen</td>\n",
       "      <td>NaN</td>\n",
       "      <td>2016-03-24 00:00:00</td>\n",
       "      <td>0</td>\n",
       "      <td>70435</td>\n",
       "      <td>2016-04-07 03:16:57</td>\n",
       "    </tr>\n",
       "    <tr>\n",
       "      <th>1</th>\n",
       "      <td>2016-03-24 10:58:45</td>\n",
       "      <td>18300</td>\n",
       "      <td>coupe</td>\n",
       "      <td>2011</td>\n",
       "      <td>manual</td>\n",
       "      <td>190</td>\n",
       "      <td>NaN</td>\n",
       "      <td>125000</td>\n",
       "      <td>5</td>\n",
       "      <td>gasoline</td>\n",
       "      <td>audi</td>\n",
       "      <td>yes</td>\n",
       "      <td>2016-03-24 00:00:00</td>\n",
       "      <td>0</td>\n",
       "      <td>66954</td>\n",
       "      <td>2016-04-07 01:46:50</td>\n",
       "    </tr>\n",
       "    <tr>\n",
       "      <th>2</th>\n",
       "      <td>2016-03-14 12:52:21</td>\n",
       "      <td>9800</td>\n",
       "      <td>suv</td>\n",
       "      <td>2004</td>\n",
       "      <td>auto</td>\n",
       "      <td>163</td>\n",
       "      <td>grand</td>\n",
       "      <td>125000</td>\n",
       "      <td>8</td>\n",
       "      <td>gasoline</td>\n",
       "      <td>jeep</td>\n",
       "      <td>NaN</td>\n",
       "      <td>2016-03-14 00:00:00</td>\n",
       "      <td>0</td>\n",
       "      <td>90480</td>\n",
       "      <td>2016-04-05 12:47:46</td>\n",
       "    </tr>\n",
       "    <tr>\n",
       "      <th>3</th>\n",
       "      <td>2016-03-17 16:54:04</td>\n",
       "      <td>1500</td>\n",
       "      <td>small</td>\n",
       "      <td>2001</td>\n",
       "      <td>manual</td>\n",
       "      <td>75</td>\n",
       "      <td>golf</td>\n",
       "      <td>150000</td>\n",
       "      <td>6</td>\n",
       "      <td>petrol</td>\n",
       "      <td>volkswagen</td>\n",
       "      <td>no</td>\n",
       "      <td>2016-03-17 00:00:00</td>\n",
       "      <td>0</td>\n",
       "      <td>91074</td>\n",
       "      <td>2016-03-17 17:40:17</td>\n",
       "    </tr>\n",
       "    <tr>\n",
       "      <th>4</th>\n",
       "      <td>2016-03-31 17:25:20</td>\n",
       "      <td>3600</td>\n",
       "      <td>small</td>\n",
       "      <td>2008</td>\n",
       "      <td>manual</td>\n",
       "      <td>69</td>\n",
       "      <td>fabia</td>\n",
       "      <td>90000</td>\n",
       "      <td>7</td>\n",
       "      <td>gasoline</td>\n",
       "      <td>skoda</td>\n",
       "      <td>no</td>\n",
       "      <td>2016-03-31 00:00:00</td>\n",
       "      <td>0</td>\n",
       "      <td>60437</td>\n",
       "      <td>2016-04-06 10:17:21</td>\n",
       "    </tr>\n",
       "  </tbody>\n",
       "</table>\n",
       "</div>"
      ],
      "text/plain": [
       "           DateCrawled  Price VehicleType  RegistrationYear Gearbox  Power  \\\n",
       "0  2016-03-24 11:52:17    480         NaN              1993  manual      0   \n",
       "1  2016-03-24 10:58:45  18300       coupe              2011  manual    190   \n",
       "2  2016-03-14 12:52:21   9800         suv              2004    auto    163   \n",
       "3  2016-03-17 16:54:04   1500       small              2001  manual     75   \n",
       "4  2016-03-31 17:25:20   3600       small              2008  manual     69   \n",
       "\n",
       "   Model  Kilometer  RegistrationMonth  FuelType       Brand Repaired  \\\n",
       "0   golf     150000                  0    petrol  volkswagen      NaN   \n",
       "1    NaN     125000                  5  gasoline        audi      yes   \n",
       "2  grand     125000                  8  gasoline        jeep      NaN   \n",
       "3   golf     150000                  6    petrol  volkswagen       no   \n",
       "4  fabia      90000                  7  gasoline       skoda       no   \n",
       "\n",
       "           DateCreated  NumberOfPictures  PostalCode             LastSeen  \n",
       "0  2016-03-24 00:00:00                 0       70435  2016-04-07 03:16:57  \n",
       "1  2016-03-24 00:00:00                 0       66954  2016-04-07 01:46:50  \n",
       "2  2016-03-14 00:00:00                 0       90480  2016-04-05 12:47:46  \n",
       "3  2016-03-17 00:00:00                 0       91074  2016-03-17 17:40:17  \n",
       "4  2016-03-31 00:00:00                 0       60437  2016-04-06 10:17:21  "
      ]
     },
     "execution_count": 6,
     "metadata": {},
     "output_type": "execute_result"
    }
   ],
   "source": [
    "df.head()"
   ]
  },
  {
   "cell_type": "code",
   "execution_count": 7,
   "metadata": {},
   "outputs": [
    {
     "name": "stdout",
     "output_type": "stream",
     "text": [
      "<class 'pandas.core.frame.DataFrame'>\n",
      "RangeIndex: 354369 entries, 0 to 354368\n",
      "Data columns (total 16 columns):\n",
      " #   Column             Non-Null Count   Dtype \n",
      "---  ------             --------------   ----- \n",
      " 0   DateCrawled        354369 non-null  object\n",
      " 1   Price              354369 non-null  int64 \n",
      " 2   VehicleType        316879 non-null  object\n",
      " 3   RegistrationYear   354369 non-null  int64 \n",
      " 4   Gearbox            334536 non-null  object\n",
      " 5   Power              354369 non-null  int64 \n",
      " 6   Model              334664 non-null  object\n",
      " 7   Kilometer          354369 non-null  int64 \n",
      " 8   RegistrationMonth  354369 non-null  int64 \n",
      " 9   FuelType           321474 non-null  object\n",
      " 10  Brand              354369 non-null  object\n",
      " 11  Repaired           283215 non-null  object\n",
      " 12  DateCreated        354369 non-null  object\n",
      " 13  NumberOfPictures   354369 non-null  int64 \n",
      " 14  PostalCode         354369 non-null  int64 \n",
      " 15  LastSeen           354369 non-null  object\n",
      "dtypes: int64(7), object(9)\n",
      "memory usage: 43.3+ MB\n"
     ]
    }
   ],
   "source": [
    "df.info()"
   ]
  },
  {
   "cell_type": "code",
   "execution_count": 8,
   "metadata": {},
   "outputs": [
    {
     "data": {
      "text/plain": [
       "Index(['DateCrawled', 'Price', 'VehicleType', 'RegistrationYear', 'Gearbox',\n",
       "       'Power', 'Model', 'Kilometer', 'RegistrationMonth', 'FuelType', 'Brand',\n",
       "       'Repaired', 'DateCreated', 'NumberOfPictures', 'PostalCode',\n",
       "       'LastSeen'],\n",
       "      dtype='object')"
      ]
     },
     "execution_count": 8,
     "metadata": {},
     "output_type": "execute_result"
    }
   ],
   "source": [
    "df.columns"
   ]
  },
  {
   "cell_type": "code",
   "execution_count": 9,
   "metadata": {},
   "outputs": [
    {
     "data": {
      "text/plain": [
       "Index([' date crawled', ' price', ' vehicle type', ' registration year',\n",
       "       ' gearbox', ' power', ' model', ' kilometer', ' registration month',\n",
       "       ' fuel type', ' brand', ' repaired', ' date created',\n",
       "       ' number of pictures', ' postal code', ' last seen'],\n",
       "      dtype='object')"
      ]
     },
     "execution_count": 9,
     "metadata": {},
     "output_type": "execute_result"
    }
   ],
   "source": [
    "df.columns.str.replace(r\"([A-Z])\", r\" \\1\").str.lower()"
   ]
  },
  {
   "cell_type": "code",
   "execution_count": 10,
   "metadata": {},
   "outputs": [
    {
     "data": {
      "text/plain": [
       "Index(['_date_crawled', '_price', '_vehicle_type', '_registration_year',\n",
       "       '_gearbox', '_power', '_model', '_kilometer', '_registration_month',\n",
       "       '_fuel_type', '_brand', '_repaired', '_date_created',\n",
       "       '_number_of_pictures', '_postal_code', '_last_seen'],\n",
       "      dtype='object')"
      ]
     },
     "execution_count": 10,
     "metadata": {},
     "output_type": "execute_result"
    }
   ],
   "source": [
    "df.columns.str.replace(r\"([A-Z])\", r\" \\1\").str.lower().str.replace(' ', '_')"
   ]
  },
  {
   "cell_type": "code",
   "execution_count": 11,
   "metadata": {},
   "outputs": [
    {
     "data": {
      "text/plain": [
       "Index(['date_crawled', 'price', 'vehicle_type', 'registration_year', 'gearbox',\n",
       "       'power', 'model', 'kilometer', 'registration_month', 'fuel_type',\n",
       "       'brand', 'repaired', 'date_created', 'number_of_pictures',\n",
       "       'postal_code', 'last_seen'],\n",
       "      dtype='object')"
      ]
     },
     "execution_count": 11,
     "metadata": {},
     "output_type": "execute_result"
    }
   ],
   "source": [
    "df.columns = df.columns.str.replace(r\"([A-Z])\", r\" \\1\").str.lower().str.replace(' ', '_').str[1:]\n",
    "df.columns"
   ]
  },
  {
   "cell_type": "code",
   "execution_count": 12,
   "metadata": {},
   "outputs": [
    {
     "data": {
      "text/html": [
       "<div>\n",
       "<style scoped>\n",
       "    .dataframe tbody tr th:only-of-type {\n",
       "        vertical-align: middle;\n",
       "    }\n",
       "\n",
       "    .dataframe tbody tr th {\n",
       "        vertical-align: top;\n",
       "    }\n",
       "\n",
       "    .dataframe thead th {\n",
       "        text-align: right;\n",
       "    }\n",
       "</style>\n",
       "<table border=\"1\" class=\"dataframe\">\n",
       "  <thead>\n",
       "    <tr style=\"text-align: right;\">\n",
       "      <th></th>\n",
       "      <th>price</th>\n",
       "      <th>registration_year</th>\n",
       "      <th>power</th>\n",
       "      <th>kilometer</th>\n",
       "      <th>registration_month</th>\n",
       "      <th>number_of_pictures</th>\n",
       "      <th>postal_code</th>\n",
       "    </tr>\n",
       "  </thead>\n",
       "  <tbody>\n",
       "    <tr>\n",
       "      <th>count</th>\n",
       "      <td>354369.000000</td>\n",
       "      <td>354369.000000</td>\n",
       "      <td>354369.000000</td>\n",
       "      <td>354369.000000</td>\n",
       "      <td>354369.000000</td>\n",
       "      <td>354369.0</td>\n",
       "      <td>354369.000000</td>\n",
       "    </tr>\n",
       "    <tr>\n",
       "      <th>mean</th>\n",
       "      <td>4416.656776</td>\n",
       "      <td>2004.234448</td>\n",
       "      <td>110.094337</td>\n",
       "      <td>128211.172535</td>\n",
       "      <td>5.714645</td>\n",
       "      <td>0.0</td>\n",
       "      <td>50508.689087</td>\n",
       "    </tr>\n",
       "    <tr>\n",
       "      <th>std</th>\n",
       "      <td>4514.158514</td>\n",
       "      <td>90.227958</td>\n",
       "      <td>189.850405</td>\n",
       "      <td>37905.341530</td>\n",
       "      <td>3.726421</td>\n",
       "      <td>0.0</td>\n",
       "      <td>25783.096248</td>\n",
       "    </tr>\n",
       "    <tr>\n",
       "      <th>min</th>\n",
       "      <td>0.000000</td>\n",
       "      <td>1000.000000</td>\n",
       "      <td>0.000000</td>\n",
       "      <td>5000.000000</td>\n",
       "      <td>0.000000</td>\n",
       "      <td>0.0</td>\n",
       "      <td>1067.000000</td>\n",
       "    </tr>\n",
       "    <tr>\n",
       "      <th>25%</th>\n",
       "      <td>1050.000000</td>\n",
       "      <td>1999.000000</td>\n",
       "      <td>69.000000</td>\n",
       "      <td>125000.000000</td>\n",
       "      <td>3.000000</td>\n",
       "      <td>0.0</td>\n",
       "      <td>30165.000000</td>\n",
       "    </tr>\n",
       "    <tr>\n",
       "      <th>50%</th>\n",
       "      <td>2700.000000</td>\n",
       "      <td>2003.000000</td>\n",
       "      <td>105.000000</td>\n",
       "      <td>150000.000000</td>\n",
       "      <td>6.000000</td>\n",
       "      <td>0.0</td>\n",
       "      <td>49413.000000</td>\n",
       "    </tr>\n",
       "    <tr>\n",
       "      <th>75%</th>\n",
       "      <td>6400.000000</td>\n",
       "      <td>2008.000000</td>\n",
       "      <td>143.000000</td>\n",
       "      <td>150000.000000</td>\n",
       "      <td>9.000000</td>\n",
       "      <td>0.0</td>\n",
       "      <td>71083.000000</td>\n",
       "    </tr>\n",
       "    <tr>\n",
       "      <th>max</th>\n",
       "      <td>20000.000000</td>\n",
       "      <td>9999.000000</td>\n",
       "      <td>20000.000000</td>\n",
       "      <td>150000.000000</td>\n",
       "      <td>12.000000</td>\n",
       "      <td>0.0</td>\n",
       "      <td>99998.000000</td>\n",
       "    </tr>\n",
       "  </tbody>\n",
       "</table>\n",
       "</div>"
      ],
      "text/plain": [
       "               price  registration_year          power      kilometer  \\\n",
       "count  354369.000000      354369.000000  354369.000000  354369.000000   \n",
       "mean     4416.656776        2004.234448     110.094337  128211.172535   \n",
       "std      4514.158514          90.227958     189.850405   37905.341530   \n",
       "min         0.000000        1000.000000       0.000000    5000.000000   \n",
       "25%      1050.000000        1999.000000      69.000000  125000.000000   \n",
       "50%      2700.000000        2003.000000     105.000000  150000.000000   \n",
       "75%      6400.000000        2008.000000     143.000000  150000.000000   \n",
       "max     20000.000000        9999.000000   20000.000000  150000.000000   \n",
       "\n",
       "       registration_month  number_of_pictures    postal_code  \n",
       "count       354369.000000            354369.0  354369.000000  \n",
       "mean             5.714645                 0.0   50508.689087  \n",
       "std              3.726421                 0.0   25783.096248  \n",
       "min              0.000000                 0.0    1067.000000  \n",
       "25%              3.000000                 0.0   30165.000000  \n",
       "50%              6.000000                 0.0   49413.000000  \n",
       "75%              9.000000                 0.0   71083.000000  \n",
       "max             12.000000                 0.0   99998.000000  "
      ]
     },
     "execution_count": 12,
     "metadata": {},
     "output_type": "execute_result"
    }
   ],
   "source": [
    "df.describe()"
   ]
  },
  {
   "cell_type": "code",
   "execution_count": 13,
   "metadata": {},
   "outputs": [],
   "source": [
    "len_original = len(df)"
   ]
  },
  {
   "cell_type": "code",
   "execution_count": 14,
   "metadata": {},
   "outputs": [],
   "source": [
    "def get_missing_values(df): #Возвращает таблицу с количеством и долей пропусков в датафрейме\n",
    "    data = (\n",
    "        df.isna()\n",
    "        .sum()\n",
    "        .rename(\"missing_count\")\n",
    "        .to_frame()\n",
    "        .join(df.isna().mean().rename(\"missing_ratio\").to_frame())\n",
    "        .sort_values(by=\"missing_count\", ascending=False)\n",
    "        # Удаляем данные о столбцах, где количество пропусков равняется 0\n",
    "        .loc[lambda x: x[\"missing_count\"] > 0]\n",
    "    )\n",
    "    return data"
   ]
  },
  {
   "cell_type": "code",
   "execution_count": 15,
   "metadata": {},
   "outputs": [
    {
     "data": {
      "text/html": [
       "<div>\n",
       "<style scoped>\n",
       "    .dataframe tbody tr th:only-of-type {\n",
       "        vertical-align: middle;\n",
       "    }\n",
       "\n",
       "    .dataframe tbody tr th {\n",
       "        vertical-align: top;\n",
       "    }\n",
       "\n",
       "    .dataframe thead th {\n",
       "        text-align: right;\n",
       "    }\n",
       "</style>\n",
       "<table border=\"1\" class=\"dataframe\">\n",
       "  <thead>\n",
       "    <tr style=\"text-align: right;\">\n",
       "      <th></th>\n",
       "      <th>missing_count</th>\n",
       "      <th>missing_ratio</th>\n",
       "    </tr>\n",
       "  </thead>\n",
       "  <tbody>\n",
       "    <tr>\n",
       "      <th>repaired</th>\n",
       "      <td>71154</td>\n",
       "      <td>0.200791</td>\n",
       "    </tr>\n",
       "    <tr>\n",
       "      <th>vehicle_type</th>\n",
       "      <td>37490</td>\n",
       "      <td>0.105794</td>\n",
       "    </tr>\n",
       "    <tr>\n",
       "      <th>fuel_type</th>\n",
       "      <td>32895</td>\n",
       "      <td>0.092827</td>\n",
       "    </tr>\n",
       "    <tr>\n",
       "      <th>gearbox</th>\n",
       "      <td>19833</td>\n",
       "      <td>0.055967</td>\n",
       "    </tr>\n",
       "    <tr>\n",
       "      <th>model</th>\n",
       "      <td>19705</td>\n",
       "      <td>0.055606</td>\n",
       "    </tr>\n",
       "  </tbody>\n",
       "</table>\n",
       "</div>"
      ],
      "text/plain": [
       "              missing_count  missing_ratio\n",
       "repaired              71154       0.200791\n",
       "vehicle_type          37490       0.105794\n",
       "fuel_type             32895       0.092827\n",
       "gearbox               19833       0.055967\n",
       "model                 19705       0.055606"
      ]
     },
     "execution_count": 15,
     "metadata": {},
     "output_type": "execute_result"
    }
   ],
   "source": [
    "get_missing_values(df)"
   ]
  },
  {
   "cell_type": "markdown",
   "metadata": {},
   "source": [
    "Пропуски по ремонту автомобилей заполним значениями `no info`.\n",
    "По остальным признакам попробуем восстановить данные, где это возможно."
   ]
  },
  {
   "cell_type": "code",
   "execution_count": 16,
   "metadata": {},
   "outputs": [],
   "source": [
    "df['repaired'] = df['repaired'].fillna('no info')"
   ]
  },
  {
   "cell_type": "code",
   "execution_count": 17,
   "metadata": {},
   "outputs": [
    {
     "data": {
      "text/html": [
       "<div>\n",
       "<style scoped>\n",
       "    .dataframe tbody tr th:only-of-type {\n",
       "        vertical-align: middle;\n",
       "    }\n",
       "\n",
       "    .dataframe tbody tr th {\n",
       "        vertical-align: top;\n",
       "    }\n",
       "\n",
       "    .dataframe thead th {\n",
       "        text-align: right;\n",
       "    }\n",
       "</style>\n",
       "<table border=\"1\" class=\"dataframe\">\n",
       "  <thead>\n",
       "    <tr style=\"text-align: right;\">\n",
       "      <th></th>\n",
       "      <th>date_crawled</th>\n",
       "      <th>price</th>\n",
       "      <th>vehicle_type</th>\n",
       "      <th>registration_year</th>\n",
       "      <th>gearbox</th>\n",
       "      <th>power</th>\n",
       "      <th>model</th>\n",
       "      <th>kilometer</th>\n",
       "      <th>registration_month</th>\n",
       "      <th>fuel_type</th>\n",
       "      <th>brand</th>\n",
       "      <th>repaired</th>\n",
       "      <th>date_created</th>\n",
       "      <th>number_of_pictures</th>\n",
       "      <th>postal_code</th>\n",
       "      <th>last_seen</th>\n",
       "    </tr>\n",
       "  </thead>\n",
       "  <tbody>\n",
       "    <tr>\n",
       "      <th>0</th>\n",
       "      <td>2016-03-24 11:52:17</td>\n",
       "      <td>480</td>\n",
       "      <td>NaN</td>\n",
       "      <td>1993</td>\n",
       "      <td>manual</td>\n",
       "      <td>0</td>\n",
       "      <td>golf</td>\n",
       "      <td>150000</td>\n",
       "      <td>0</td>\n",
       "      <td>petrol</td>\n",
       "      <td>volkswagen</td>\n",
       "      <td>no info</td>\n",
       "      <td>2016-03-24 00:00:00</td>\n",
       "      <td>0</td>\n",
       "      <td>70435</td>\n",
       "      <td>2016-04-07 03:16:57</td>\n",
       "    </tr>\n",
       "    <tr>\n",
       "      <th>1</th>\n",
       "      <td>2016-03-24 10:58:45</td>\n",
       "      <td>18300</td>\n",
       "      <td>coupe</td>\n",
       "      <td>2011</td>\n",
       "      <td>manual</td>\n",
       "      <td>190</td>\n",
       "      <td>NaN</td>\n",
       "      <td>125000</td>\n",
       "      <td>5</td>\n",
       "      <td>gasoline</td>\n",
       "      <td>audi</td>\n",
       "      <td>yes</td>\n",
       "      <td>2016-03-24 00:00:00</td>\n",
       "      <td>0</td>\n",
       "      <td>66954</td>\n",
       "      <td>2016-04-07 01:46:50</td>\n",
       "    </tr>\n",
       "    <tr>\n",
       "      <th>2</th>\n",
       "      <td>2016-03-14 12:52:21</td>\n",
       "      <td>9800</td>\n",
       "      <td>suv</td>\n",
       "      <td>2004</td>\n",
       "      <td>auto</td>\n",
       "      <td>163</td>\n",
       "      <td>grand</td>\n",
       "      <td>125000</td>\n",
       "      <td>8</td>\n",
       "      <td>gasoline</td>\n",
       "      <td>jeep</td>\n",
       "      <td>no info</td>\n",
       "      <td>2016-03-14 00:00:00</td>\n",
       "      <td>0</td>\n",
       "      <td>90480</td>\n",
       "      <td>2016-04-05 12:47:46</td>\n",
       "    </tr>\n",
       "    <tr>\n",
       "      <th>3</th>\n",
       "      <td>2016-03-17 16:54:04</td>\n",
       "      <td>1500</td>\n",
       "      <td>small</td>\n",
       "      <td>2001</td>\n",
       "      <td>manual</td>\n",
       "      <td>75</td>\n",
       "      <td>golf</td>\n",
       "      <td>150000</td>\n",
       "      <td>6</td>\n",
       "      <td>petrol</td>\n",
       "      <td>volkswagen</td>\n",
       "      <td>no</td>\n",
       "      <td>2016-03-17 00:00:00</td>\n",
       "      <td>0</td>\n",
       "      <td>91074</td>\n",
       "      <td>2016-03-17 17:40:17</td>\n",
       "    </tr>\n",
       "    <tr>\n",
       "      <th>4</th>\n",
       "      <td>2016-03-31 17:25:20</td>\n",
       "      <td>3600</td>\n",
       "      <td>small</td>\n",
       "      <td>2008</td>\n",
       "      <td>manual</td>\n",
       "      <td>69</td>\n",
       "      <td>fabia</td>\n",
       "      <td>90000</td>\n",
       "      <td>7</td>\n",
       "      <td>gasoline</td>\n",
       "      <td>skoda</td>\n",
       "      <td>no</td>\n",
       "      <td>2016-03-31 00:00:00</td>\n",
       "      <td>0</td>\n",
       "      <td>60437</td>\n",
       "      <td>2016-04-06 10:17:21</td>\n",
       "    </tr>\n",
       "  </tbody>\n",
       "</table>\n",
       "</div>"
      ],
      "text/plain": [
       "          date_crawled  price vehicle_type  registration_year gearbox  power  \\\n",
       "0  2016-03-24 11:52:17    480          NaN               1993  manual      0   \n",
       "1  2016-03-24 10:58:45  18300        coupe               2011  manual    190   \n",
       "2  2016-03-14 12:52:21   9800          suv               2004    auto    163   \n",
       "3  2016-03-17 16:54:04   1500        small               2001  manual     75   \n",
       "4  2016-03-31 17:25:20   3600        small               2008  manual     69   \n",
       "\n",
       "   model  kilometer  registration_month fuel_type       brand repaired  \\\n",
       "0   golf     150000                   0    petrol  volkswagen  no info   \n",
       "1    NaN     125000                   5  gasoline        audi      yes   \n",
       "2  grand     125000                   8  gasoline        jeep  no info   \n",
       "3   golf     150000                   6    petrol  volkswagen       no   \n",
       "4  fabia      90000                   7  gasoline       skoda       no   \n",
       "\n",
       "          date_created  number_of_pictures  postal_code            last_seen  \n",
       "0  2016-03-24 00:00:00                   0        70435  2016-04-07 03:16:57  \n",
       "1  2016-03-24 00:00:00                   0        66954  2016-04-07 01:46:50  \n",
       "2  2016-03-14 00:00:00                   0        90480  2016-04-05 12:47:46  \n",
       "3  2016-03-17 00:00:00                   0        91074  2016-03-17 17:40:17  \n",
       "4  2016-03-31 00:00:00                   0        60437  2016-04-06 10:17:21  "
      ]
     },
     "execution_count": 17,
     "metadata": {},
     "output_type": "execute_result"
    }
   ],
   "source": [
    "df.head()"
   ]
  },
  {
   "cell_type": "code",
   "execution_count": 18,
   "metadata": {},
   "outputs": [],
   "source": [
    "# Заполним пропуске в признаке `model` значениями `no info`.\n",
    "df['model'] = df['model'].fillna('no info')"
   ]
  },
  {
   "cell_type": "code",
   "execution_count": 19,
   "metadata": {},
   "outputs": [
    {
     "data": {
      "text/plain": [
       "petrol      216352\n",
       "gasoline     98720\n",
       "lpg           5310\n",
       "cng            565\n",
       "hybrid         233\n",
       "other          204\n",
       "electric        90\n",
       "Name: fuel_type, dtype: int64"
      ]
     },
     "execution_count": 19,
     "metadata": {},
     "output_type": "execute_result"
    }
   ],
   "source": [
    "df['fuel_type'].value_counts()"
   ]
  },
  {
   "cell_type": "code",
   "execution_count": 20,
   "metadata": {},
   "outputs": [],
   "source": [
    "df['fuel_type'] = df['fuel_type'].replace('gasoline', 'petrol')"
   ]
  },
  {
   "cell_type": "code",
   "execution_count": 21,
   "metadata": {},
   "outputs": [
    {
     "data": {
      "text/plain": [
       "petrol      315072\n",
       "lpg           5310\n",
       "cng            565\n",
       "hybrid         233\n",
       "other          204\n",
       "electric        90\n",
       "Name: fuel_type, dtype: int64"
      ]
     },
     "execution_count": 21,
     "metadata": {},
     "output_type": "execute_result"
    }
   ],
   "source": [
    "df['fuel_type'].value_counts()"
   ]
  },
  {
   "cell_type": "code",
   "execution_count": 22,
   "metadata": {},
   "outputs": [
    {
     "name": "stdout",
     "output_type": "stream",
     "text": [
      "CPU times: user 1min 42s, sys: 66.9 ms, total: 1min 42s\n",
      "Wall time: 1min 42s\n"
     ]
    }
   ],
   "source": [
    "%%time\n",
    "# Данные по типу автомобиля, типу топлива, коробке передач заменим на наиболее частые в связке Brand-Model\n",
    "for b in df['brand'].dropna().unique():\n",
    "    for m in df[df['brand']==b]['model'].dropna().unique():\n",
    "        df.loc[(df['brand'] == b) & (df['model'] == m) & (df['vehicle_type'].isna()), 'vehicle_type'] = \\\n",
    "        df.loc[(df['brand'] == b) & (df['model'] == m), 'vehicle_type'].mode()[0]\n",
    "        \n",
    "        df.loc[(df['brand'] == b) & (df['model'] == m) & (df['fuel_type'].isna()), 'fuel_type'] = \\\n",
    "        df.loc[(df['brand'] == b) & (df['model'] == m), 'fuel_type'].mode()[0]\n",
    "        \n",
    "        df.loc[(df['brand'] == b) & (df['model'] == m) & (df['gearbox'].isna()), 'gearbox'] = \\\n",
    "        df.loc[(df['brand'] == b) & (df['model'] == m), 'gearbox'].mode()[0]"
   ]
  },
  {
   "cell_type": "code",
   "execution_count": 23,
   "metadata": {},
   "outputs": [
    {
     "data": {
      "text/html": [
       "<div>\n",
       "<style scoped>\n",
       "    .dataframe tbody tr th:only-of-type {\n",
       "        vertical-align: middle;\n",
       "    }\n",
       "\n",
       "    .dataframe tbody tr th {\n",
       "        vertical-align: top;\n",
       "    }\n",
       "\n",
       "    .dataframe thead th {\n",
       "        text-align: right;\n",
       "    }\n",
       "</style>\n",
       "<table border=\"1\" class=\"dataframe\">\n",
       "  <thead>\n",
       "    <tr style=\"text-align: right;\">\n",
       "      <th></th>\n",
       "      <th>missing_count</th>\n",
       "      <th>missing_ratio</th>\n",
       "    </tr>\n",
       "  </thead>\n",
       "  <tbody>\n",
       "  </tbody>\n",
       "</table>\n",
       "</div>"
      ],
      "text/plain": [
       "Empty DataFrame\n",
       "Columns: [missing_count, missing_ratio]\n",
       "Index: []"
      ]
     },
     "execution_count": 23,
     "metadata": {},
     "output_type": "execute_result"
    }
   ],
   "source": [
    "get_missing_values(df)"
   ]
  },
  {
   "cell_type": "markdown",
   "metadata": {},
   "source": [
    "Есть вероятность того, что объявления извлекались в разные года, то возраст автомобиля правильно оценивать на момент извлечения объявления. Проверим это."
   ]
  },
  {
   "cell_type": "code",
   "execution_count": 24,
   "metadata": {
    "scrolled": true
   },
   "outputs": [
    {
     "data": {
      "text/html": [
       "<div>\n",
       "<style scoped>\n",
       "    .dataframe tbody tr th:only-of-type {\n",
       "        vertical-align: middle;\n",
       "    }\n",
       "\n",
       "    .dataframe tbody tr th {\n",
       "        vertical-align: top;\n",
       "    }\n",
       "\n",
       "    .dataframe thead th {\n",
       "        text-align: right;\n",
       "    }\n",
       "</style>\n",
       "<table border=\"1\" class=\"dataframe\">\n",
       "  <thead>\n",
       "    <tr style=\"text-align: right;\">\n",
       "      <th></th>\n",
       "      <th>date_crawled</th>\n",
       "      <th>price</th>\n",
       "      <th>vehicle_type</th>\n",
       "      <th>registration_year</th>\n",
       "      <th>gearbox</th>\n",
       "      <th>power</th>\n",
       "      <th>model</th>\n",
       "      <th>kilometer</th>\n",
       "      <th>registration_month</th>\n",
       "      <th>fuel_type</th>\n",
       "      <th>brand</th>\n",
       "      <th>repaired</th>\n",
       "      <th>date_created</th>\n",
       "      <th>number_of_pictures</th>\n",
       "      <th>postal_code</th>\n",
       "      <th>last_seen</th>\n",
       "    </tr>\n",
       "  </thead>\n",
       "  <tbody>\n",
       "    <tr>\n",
       "      <th>329497</th>\n",
       "      <td>2016-03-05 14:06:22</td>\n",
       "      <td>150</td>\n",
       "      <td>small</td>\n",
       "      <td>1997</td>\n",
       "      <td>manual</td>\n",
       "      <td>75</td>\n",
       "      <td>polo</td>\n",
       "      <td>150000</td>\n",
       "      <td>4</td>\n",
       "      <td>petrol</td>\n",
       "      <td>volkswagen</td>\n",
       "      <td>no</td>\n",
       "      <td>2016-03-05 00:00:00</td>\n",
       "      <td>0</td>\n",
       "      <td>35789</td>\n",
       "      <td>2016-03-27 17:16:15</td>\n",
       "    </tr>\n",
       "    <tr>\n",
       "      <th>220583</th>\n",
       "      <td>2016-03-05 14:06:23</td>\n",
       "      <td>3999</td>\n",
       "      <td>wagon</td>\n",
       "      <td>2003</td>\n",
       "      <td>manual</td>\n",
       "      <td>220</td>\n",
       "      <td>a6</td>\n",
       "      <td>150000</td>\n",
       "      <td>7</td>\n",
       "      <td>petrol</td>\n",
       "      <td>audi</td>\n",
       "      <td>no</td>\n",
       "      <td>2016-03-05 00:00:00</td>\n",
       "      <td>0</td>\n",
       "      <td>57080</td>\n",
       "      <td>2016-03-06 18:29:35</td>\n",
       "    </tr>\n",
       "  </tbody>\n",
       "</table>\n",
       "</div>"
      ],
      "text/plain": [
       "               date_crawled  price vehicle_type  registration_year gearbox  \\\n",
       "329497  2016-03-05 14:06:22    150        small               1997  manual   \n",
       "220583  2016-03-05 14:06:23   3999        wagon               2003  manual   \n",
       "\n",
       "        power model  kilometer  registration_month fuel_type       brand  \\\n",
       "329497     75  polo     150000                   4    petrol  volkswagen   \n",
       "220583    220    a6     150000                   7    petrol        audi   \n",
       "\n",
       "       repaired         date_created  number_of_pictures  postal_code  \\\n",
       "329497       no  2016-03-05 00:00:00                   0        35789   \n",
       "220583       no  2016-03-05 00:00:00                   0        57080   \n",
       "\n",
       "                  last_seen  \n",
       "329497  2016-03-27 17:16:15  \n",
       "220583  2016-03-06 18:29:35  "
      ]
     },
     "metadata": {},
     "output_type": "display_data"
    },
    {
     "data": {
      "text/html": [
       "<div>\n",
       "<style scoped>\n",
       "    .dataframe tbody tr th:only-of-type {\n",
       "        vertical-align: middle;\n",
       "    }\n",
       "\n",
       "    .dataframe tbody tr th {\n",
       "        vertical-align: top;\n",
       "    }\n",
       "\n",
       "    .dataframe thead th {\n",
       "        text-align: right;\n",
       "    }\n",
       "</style>\n",
       "<table border=\"1\" class=\"dataframe\">\n",
       "  <thead>\n",
       "    <tr style=\"text-align: right;\">\n",
       "      <th></th>\n",
       "      <th>date_crawled</th>\n",
       "      <th>price</th>\n",
       "      <th>vehicle_type</th>\n",
       "      <th>registration_year</th>\n",
       "      <th>gearbox</th>\n",
       "      <th>power</th>\n",
       "      <th>model</th>\n",
       "      <th>kilometer</th>\n",
       "      <th>registration_month</th>\n",
       "      <th>fuel_type</th>\n",
       "      <th>brand</th>\n",
       "      <th>repaired</th>\n",
       "      <th>date_created</th>\n",
       "      <th>number_of_pictures</th>\n",
       "      <th>postal_code</th>\n",
       "      <th>last_seen</th>\n",
       "    </tr>\n",
       "  </thead>\n",
       "  <tbody>\n",
       "    <tr>\n",
       "      <th>90713</th>\n",
       "      <td>2016-04-07 14:36:58</td>\n",
       "      <td>3500</td>\n",
       "      <td>sedan</td>\n",
       "      <td>1999</td>\n",
       "      <td>manual</td>\n",
       "      <td>143</td>\n",
       "      <td>e_klasse</td>\n",
       "      <td>150000</td>\n",
       "      <td>8</td>\n",
       "      <td>petrol</td>\n",
       "      <td>mercedes_benz</td>\n",
       "      <td>no</td>\n",
       "      <td>2016-04-07 00:00:00</td>\n",
       "      <td>0</td>\n",
       "      <td>64846</td>\n",
       "      <td>2016-04-07 14:36:58</td>\n",
       "    </tr>\n",
       "    <tr>\n",
       "      <th>339649</th>\n",
       "      <td>2016-04-07 14:36:56</td>\n",
       "      <td>8650</td>\n",
       "      <td>suv</td>\n",
       "      <td>1992</td>\n",
       "      <td>manual</td>\n",
       "      <td>121</td>\n",
       "      <td>wrangler</td>\n",
       "      <td>125000</td>\n",
       "      <td>5</td>\n",
       "      <td>petrol</td>\n",
       "      <td>jeep</td>\n",
       "      <td>no</td>\n",
       "      <td>2016-04-07 00:00:00</td>\n",
       "      <td>0</td>\n",
       "      <td>20357</td>\n",
       "      <td>2016-04-07 14:36:56</td>\n",
       "    </tr>\n",
       "  </tbody>\n",
       "</table>\n",
       "</div>"
      ],
      "text/plain": [
       "               date_crawled  price vehicle_type  registration_year gearbox  \\\n",
       "90713   2016-04-07 14:36:58   3500        sedan               1999  manual   \n",
       "339649  2016-04-07 14:36:56   8650          suv               1992  manual   \n",
       "\n",
       "        power     model  kilometer  registration_month fuel_type  \\\n",
       "90713     143  e_klasse     150000                   8    petrol   \n",
       "339649    121  wrangler     125000                   5    petrol   \n",
       "\n",
       "                brand repaired         date_created  number_of_pictures  \\\n",
       "90713   mercedes_benz       no  2016-04-07 00:00:00                   0   \n",
       "339649           jeep       no  2016-04-07 00:00:00                   0   \n",
       "\n",
       "        postal_code            last_seen  \n",
       "90713         64846  2016-04-07 14:36:58  \n",
       "339649        20357  2016-04-07 14:36:56  "
      ]
     },
     "metadata": {},
     "output_type": "display_data"
    }
   ],
   "source": [
    "display(df.sort_values('date_crawled').head(2))\n",
    "display(df.sort_values('date_crawled', ascending=False).head(2))"
   ]
  },
  {
   "cell_type": "markdown",
   "metadata": {},
   "source": [
    "Объекты были извлечены в течение одного месяца (32 дня), в этом случае столбец `date_crawled` не принесёт нам пользы, удалим его."
   ]
  },
  {
   "cell_type": "code",
   "execution_count": 25,
   "metadata": {},
   "outputs": [
    {
     "data": {
      "text/html": [
       "<div>\n",
       "<style scoped>\n",
       "    .dataframe tbody tr th:only-of-type {\n",
       "        vertical-align: middle;\n",
       "    }\n",
       "\n",
       "    .dataframe tbody tr th {\n",
       "        vertical-align: top;\n",
       "    }\n",
       "\n",
       "    .dataframe thead th {\n",
       "        text-align: right;\n",
       "    }\n",
       "</style>\n",
       "<table border=\"1\" class=\"dataframe\">\n",
       "  <thead>\n",
       "    <tr style=\"text-align: right;\">\n",
       "      <th></th>\n",
       "      <th>date_crawled</th>\n",
       "      <th>price</th>\n",
       "      <th>vehicle_type</th>\n",
       "      <th>registration_year</th>\n",
       "      <th>gearbox</th>\n",
       "      <th>power</th>\n",
       "      <th>model</th>\n",
       "      <th>kilometer</th>\n",
       "      <th>registration_month</th>\n",
       "      <th>fuel_type</th>\n",
       "      <th>brand</th>\n",
       "      <th>repaired</th>\n",
       "      <th>date_created</th>\n",
       "      <th>number_of_pictures</th>\n",
       "      <th>postal_code</th>\n",
       "      <th>last_seen</th>\n",
       "    </tr>\n",
       "  </thead>\n",
       "  <tbody>\n",
       "    <tr>\n",
       "      <th>296785</th>\n",
       "      <td>2016-03-05 14:07:08</td>\n",
       "      <td>550</td>\n",
       "      <td>small</td>\n",
       "      <td>2001</td>\n",
       "      <td>manual</td>\n",
       "      <td>75</td>\n",
       "      <td>corsa</td>\n",
       "      <td>150000</td>\n",
       "      <td>5</td>\n",
       "      <td>petrol</td>\n",
       "      <td>opel</td>\n",
       "      <td>yes</td>\n",
       "      <td>2016-03-05 00:00:00</td>\n",
       "      <td>0</td>\n",
       "      <td>65232</td>\n",
       "      <td>2016-03-05 14:15:08</td>\n",
       "    </tr>\n",
       "    <tr>\n",
       "      <th>262341</th>\n",
       "      <td>2016-03-05 14:08:46</td>\n",
       "      <td>9000</td>\n",
       "      <td>sedan</td>\n",
       "      <td>2011</td>\n",
       "      <td>manual</td>\n",
       "      <td>109</td>\n",
       "      <td>c_reihe</td>\n",
       "      <td>90000</td>\n",
       "      <td>3</td>\n",
       "      <td>petrol</td>\n",
       "      <td>volvo</td>\n",
       "      <td>no</td>\n",
       "      <td>2016-03-04 00:00:00</td>\n",
       "      <td>0</td>\n",
       "      <td>61348</td>\n",
       "      <td>2016-03-05 14:15:16</td>\n",
       "    </tr>\n",
       "  </tbody>\n",
       "</table>\n",
       "</div>"
      ],
      "text/plain": [
       "               date_crawled  price vehicle_type  registration_year gearbox  \\\n",
       "296785  2016-03-05 14:07:08    550        small               2001  manual   \n",
       "262341  2016-03-05 14:08:46   9000        sedan               2011  manual   \n",
       "\n",
       "        power    model  kilometer  registration_month fuel_type  brand  \\\n",
       "296785     75    corsa     150000                   5    petrol   opel   \n",
       "262341    109  c_reihe      90000                   3    petrol  volvo   \n",
       "\n",
       "       repaired         date_created  number_of_pictures  postal_code  \\\n",
       "296785      yes  2016-03-05 00:00:00                   0        65232   \n",
       "262341       no  2016-03-04 00:00:00                   0        61348   \n",
       "\n",
       "                  last_seen  \n",
       "296785  2016-03-05 14:15:08  \n",
       "262341  2016-03-05 14:15:16  "
      ]
     },
     "metadata": {},
     "output_type": "display_data"
    },
    {
     "data": {
      "text/html": [
       "<div>\n",
       "<style scoped>\n",
       "    .dataframe tbody tr th:only-of-type {\n",
       "        vertical-align: middle;\n",
       "    }\n",
       "\n",
       "    .dataframe tbody tr th {\n",
       "        vertical-align: top;\n",
       "    }\n",
       "\n",
       "    .dataframe thead th {\n",
       "        text-align: right;\n",
       "    }\n",
       "</style>\n",
       "<table border=\"1\" class=\"dataframe\">\n",
       "  <thead>\n",
       "    <tr style=\"text-align: right;\">\n",
       "      <th></th>\n",
       "      <th>date_crawled</th>\n",
       "      <th>price</th>\n",
       "      <th>vehicle_type</th>\n",
       "      <th>registration_year</th>\n",
       "      <th>gearbox</th>\n",
       "      <th>power</th>\n",
       "      <th>model</th>\n",
       "      <th>kilometer</th>\n",
       "      <th>registration_month</th>\n",
       "      <th>fuel_type</th>\n",
       "      <th>brand</th>\n",
       "      <th>repaired</th>\n",
       "      <th>date_created</th>\n",
       "      <th>number_of_pictures</th>\n",
       "      <th>postal_code</th>\n",
       "      <th>last_seen</th>\n",
       "    </tr>\n",
       "  </thead>\n",
       "  <tbody>\n",
       "    <tr>\n",
       "      <th>327303</th>\n",
       "      <td>2016-03-24 18:55:33</td>\n",
       "      <td>600</td>\n",
       "      <td>sedan</td>\n",
       "      <td>1997</td>\n",
       "      <td>manual</td>\n",
       "      <td>75</td>\n",
       "      <td>golf</td>\n",
       "      <td>150000</td>\n",
       "      <td>3</td>\n",
       "      <td>petrol</td>\n",
       "      <td>volkswagen</td>\n",
       "      <td>no</td>\n",
       "      <td>2016-03-24 00:00:00</td>\n",
       "      <td>0</td>\n",
       "      <td>59872</td>\n",
       "      <td>2016-04-07 14:58:51</td>\n",
       "    </tr>\n",
       "    <tr>\n",
       "      <th>68870</th>\n",
       "      <td>2016-03-21 16:06:19</td>\n",
       "      <td>11200</td>\n",
       "      <td>convertible</td>\n",
       "      <td>2002</td>\n",
       "      <td>auto</td>\n",
       "      <td>231</td>\n",
       "      <td>3er</td>\n",
       "      <td>125000</td>\n",
       "      <td>1</td>\n",
       "      <td>petrol</td>\n",
       "      <td>bmw</td>\n",
       "      <td>no</td>\n",
       "      <td>2016-03-21 00:00:00</td>\n",
       "      <td>0</td>\n",
       "      <td>55425</td>\n",
       "      <td>2016-04-07 14:58:50</td>\n",
       "    </tr>\n",
       "  </tbody>\n",
       "</table>\n",
       "</div>"
      ],
      "text/plain": [
       "               date_crawled  price vehicle_type  registration_year gearbox  \\\n",
       "327303  2016-03-24 18:55:33    600        sedan               1997  manual   \n",
       "68870   2016-03-21 16:06:19  11200  convertible               2002    auto   \n",
       "\n",
       "        power model  kilometer  registration_month fuel_type       brand  \\\n",
       "327303     75  golf     150000                   3    petrol  volkswagen   \n",
       "68870     231   3er     125000                   1    petrol         bmw   \n",
       "\n",
       "       repaired         date_created  number_of_pictures  postal_code  \\\n",
       "327303       no  2016-03-24 00:00:00                   0        59872   \n",
       "68870        no  2016-03-21 00:00:00                   0        55425   \n",
       "\n",
       "                  last_seen  \n",
       "327303  2016-04-07 14:58:51  \n",
       "68870   2016-04-07 14:58:50  "
      ]
     },
     "metadata": {},
     "output_type": "display_data"
    }
   ],
   "source": [
    "display(df.sort_values('last_seen').head(2))\n",
    "display(df.sort_values('last_seen', ascending=False).head(2))"
   ]
  },
  {
   "cell_type": "markdown",
   "metadata": {},
   "source": [
    "Аналогично поступим с `last_seen` и `date_created`. Также удалим столбцы `registration_month`, `number_of_pictures` и `postal_code`."
   ]
  },
  {
   "cell_type": "code",
   "execution_count": 26,
   "metadata": {},
   "outputs": [],
   "source": [
    "df = df.drop(['date_crawled', 'date_created', 'last_seen', 'registration_month', 'number_of_pictures', 'postal_code'], axis=1)"
   ]
  },
  {
   "cell_type": "code",
   "execution_count": 27,
   "metadata": {},
   "outputs": [
    {
     "data": {
      "text/html": [
       "<div>\n",
       "<style scoped>\n",
       "    .dataframe tbody tr th:only-of-type {\n",
       "        vertical-align: middle;\n",
       "    }\n",
       "\n",
       "    .dataframe tbody tr th {\n",
       "        vertical-align: top;\n",
       "    }\n",
       "\n",
       "    .dataframe thead th {\n",
       "        text-align: right;\n",
       "    }\n",
       "</style>\n",
       "<table border=\"1\" class=\"dataframe\">\n",
       "  <thead>\n",
       "    <tr style=\"text-align: right;\">\n",
       "      <th></th>\n",
       "      <th>price</th>\n",
       "      <th>vehicle_type</th>\n",
       "      <th>registration_year</th>\n",
       "      <th>gearbox</th>\n",
       "      <th>power</th>\n",
       "      <th>model</th>\n",
       "      <th>kilometer</th>\n",
       "      <th>fuel_type</th>\n",
       "      <th>brand</th>\n",
       "      <th>repaired</th>\n",
       "    </tr>\n",
       "  </thead>\n",
       "  <tbody>\n",
       "    <tr>\n",
       "      <th>0</th>\n",
       "      <td>480</td>\n",
       "      <td>sedan</td>\n",
       "      <td>1993</td>\n",
       "      <td>manual</td>\n",
       "      <td>0</td>\n",
       "      <td>golf</td>\n",
       "      <td>150000</td>\n",
       "      <td>petrol</td>\n",
       "      <td>volkswagen</td>\n",
       "      <td>no info</td>\n",
       "    </tr>\n",
       "    <tr>\n",
       "      <th>1</th>\n",
       "      <td>18300</td>\n",
       "      <td>coupe</td>\n",
       "      <td>2011</td>\n",
       "      <td>manual</td>\n",
       "      <td>190</td>\n",
       "      <td>no info</td>\n",
       "      <td>125000</td>\n",
       "      <td>petrol</td>\n",
       "      <td>audi</td>\n",
       "      <td>yes</td>\n",
       "    </tr>\n",
       "    <tr>\n",
       "      <th>2</th>\n",
       "      <td>9800</td>\n",
       "      <td>suv</td>\n",
       "      <td>2004</td>\n",
       "      <td>auto</td>\n",
       "      <td>163</td>\n",
       "      <td>grand</td>\n",
       "      <td>125000</td>\n",
       "      <td>petrol</td>\n",
       "      <td>jeep</td>\n",
       "      <td>no info</td>\n",
       "    </tr>\n",
       "    <tr>\n",
       "      <th>3</th>\n",
       "      <td>1500</td>\n",
       "      <td>small</td>\n",
       "      <td>2001</td>\n",
       "      <td>manual</td>\n",
       "      <td>75</td>\n",
       "      <td>golf</td>\n",
       "      <td>150000</td>\n",
       "      <td>petrol</td>\n",
       "      <td>volkswagen</td>\n",
       "      <td>no</td>\n",
       "    </tr>\n",
       "    <tr>\n",
       "      <th>4</th>\n",
       "      <td>3600</td>\n",
       "      <td>small</td>\n",
       "      <td>2008</td>\n",
       "      <td>manual</td>\n",
       "      <td>69</td>\n",
       "      <td>fabia</td>\n",
       "      <td>90000</td>\n",
       "      <td>petrol</td>\n",
       "      <td>skoda</td>\n",
       "      <td>no</td>\n",
       "    </tr>\n",
       "  </tbody>\n",
       "</table>\n",
       "</div>"
      ],
      "text/plain": [
       "   price vehicle_type  registration_year gearbox  power    model  kilometer  \\\n",
       "0    480        sedan               1993  manual      0     golf     150000   \n",
       "1  18300        coupe               2011  manual    190  no info     125000   \n",
       "2   9800          suv               2004    auto    163    grand     125000   \n",
       "3   1500        small               2001  manual     75     golf     150000   \n",
       "4   3600        small               2008  manual     69    fabia      90000   \n",
       "\n",
       "  fuel_type       brand repaired  \n",
       "0    petrol  volkswagen  no info  \n",
       "1    petrol        audi      yes  \n",
       "2    petrol        jeep  no info  \n",
       "3    petrol  volkswagen       no  \n",
       "4    petrol       skoda       no  "
      ]
     },
     "execution_count": 27,
     "metadata": {},
     "output_type": "execute_result"
    }
   ],
   "source": [
    "df.head()"
   ]
  },
  {
   "cell_type": "code",
   "execution_count": 28,
   "metadata": {},
   "outputs": [
    {
     "data": {
      "text/plain": [
       "(354369, 10)"
      ]
     },
     "execution_count": 28,
     "metadata": {},
     "output_type": "execute_result"
    }
   ],
   "source": [
    "#Перенёс проверку на дубликаты после удаления неинформативных колонок.\n",
    "df.shape"
   ]
  },
  {
   "cell_type": "code",
   "execution_count": 29,
   "metadata": {},
   "outputs": [
    {
     "data": {
      "text/plain": [
       "50508"
      ]
     },
     "execution_count": 29,
     "metadata": {},
     "output_type": "execute_result"
    }
   ],
   "source": [
    "df.duplicated().sum()"
   ]
  },
  {
   "cell_type": "code",
   "execution_count": 30,
   "metadata": {},
   "outputs": [],
   "source": [
    "df.drop_duplicates(keep='first', inplace=True, ignore_index=True)"
   ]
  },
  {
   "cell_type": "code",
   "execution_count": 31,
   "metadata": {},
   "outputs": [
    {
     "data": {
      "text/plain": [
       "0"
      ]
     },
     "execution_count": 31,
     "metadata": {},
     "output_type": "execute_result"
    }
   ],
   "source": [
    "df.duplicated().sum()"
   ]
  },
  {
   "cell_type": "code",
   "execution_count": 32,
   "metadata": {},
   "outputs": [],
   "source": [
    "numerical = ['price', 'registration_year', 'power', 'kilometer']\n",
    "categorical = list(df.columns.difference(numerical))"
   ]
  },
  {
   "cell_type": "code",
   "execution_count": 33,
   "metadata": {},
   "outputs": [
    {
     "data": {
      "image/png": "[encoded data removed]",
      "text/plain": [
       "<Figure size 1080x648 with 4 Axes>"
      ]
     },
     "metadata": {},
     "output_type": "display_data"
    }
   ],
   "source": [
    "_, axes = plt.subplots(2, 2, figsize=(15, 9))\n",
    "for i, n in enumerate(numerical):\n",
    "    x,y = divmod(i,2)\n",
    "    sns.distplot(df[n], ax=axes[x,y])"
   ]
  },
  {
   "cell_type": "code",
   "execution_count": 34,
   "metadata": {},
   "outputs": [
    {
     "data": {
      "image/png": "[encoded data removed]",
      "text/plain": [
       "<Figure size 1080x648 with 4 Axes>"
      ]
     },
     "metadata": {},
     "output_type": "display_data"
    }
   ],
   "source": [
    "_, axes = plt.subplots(2, 2, figsize=(15, 9))\n",
    "for i, n in enumerate(numerical):\n",
    "    x,y = divmod(i,2)\n",
    "    sns.boxplot(y=n, data=df, ax=axes[x,y])"
   ]
  },
  {
   "cell_type": "markdown",
   "metadata": {},
   "source": [
    "Необходимо будет поработать с аномалиями/аутлаерами в данных."
   ]
  },
  {
   "cell_type": "code",
   "execution_count": 35,
   "metadata": {
    "scrolled": true
   },
   "outputs": [
    {
     "name": "stdout",
     "output_type": "stream",
     "text": [
      "Доля объектов среди исходного набора данных, мощность двигателя которых не меенее порогового значения:\n",
      "300 л.с. составляет 0.97%\n",
      "400 л.с. составляет 0.21%\n",
      "500 л.с. составляет 0.14%\n",
      "600 л.с. составляет 0.11%\n",
      "700 л.с. составляет 0.10%\n",
      "800 л.с. составляет 0.09%\n",
      "900 л.с. составляет 0.09%\n"
     ]
    }
   ],
   "source": [
    "print('Доля объектов среди исходного набора данных, мощность двигателя которых не меенее порогового значения:')\n",
    "for i in range(300, 1000, 100):\n",
    "    print(f'{i} л.с. составляет {df[df[\"power\"]>=i][\"power\"].count()/len_original:.2%}')"
   ]
  },
  {
   "cell_type": "code",
   "execution_count": 36,
   "metadata": {},
   "outputs": [
    {
     "name": "stdout",
     "output_type": "stream",
     "text": [
      "Доля объектов среди исходного набора данных, мощность двигателя которых не более порогового значения:\n",
      "  0 л.с. составляет  9.71% данных\n",
      " 10 л.с. составляет  9.77% данных\n",
      " 20 л.с. составляет  9.83% данных\n",
      " 30 л.с. составляет  9.96% данных\n",
      " 40 л.с. составляет 10.18% данных\n",
      " 50 л.с. составляет 12.15% данных\n",
      " 60 л.с. составляет 18.64% данных\n",
      " 70 л.с. составляет 22.01% данных\n",
      " 80 л.с. составляет 29.51% данных\n",
      " 90 л.с. составляет 35.06% данных\n",
      "100 л.с. составляет 37.08% данных\n"
     ]
    }
   ],
   "source": [
    "print('Доля объектов среди исходного набора данных, мощность двигателя которых не более порогового значения:')\n",
    "for i in range(0, 101, 10):\n",
    "    print(f'{i:3} л.с. составляет {df[df[\"power\"]<=i][\"power\"].count()/len_original:6.2%} данных')"
   ]
  },
  {
   "cell_type": "code",
   "execution_count": 37,
   "metadata": {},
   "outputs": [],
   "source": [
    "power = 700"
   ]
  },
  {
   "cell_type": "code",
   "execution_count": 38,
   "metadata": {},
   "outputs": [
    {
     "data": {
      "text/html": [
       "<div>\n",
       "<style scoped>\n",
       "    .dataframe tbody tr th:only-of-type {\n",
       "        vertical-align: middle;\n",
       "    }\n",
       "\n",
       "    .dataframe tbody tr th {\n",
       "        vertical-align: top;\n",
       "    }\n",
       "\n",
       "    .dataframe thead th {\n",
       "        text-align: right;\n",
       "    }\n",
       "</style>\n",
       "<table border=\"1\" class=\"dataframe\">\n",
       "  <thead>\n",
       "    <tr style=\"text-align: right;\">\n",
       "      <th></th>\n",
       "      <th></th>\n",
       "      <th>model</th>\n",
       "    </tr>\n",
       "    <tr>\n",
       "      <th>brand</th>\n",
       "      <th>model</th>\n",
       "      <th></th>\n",
       "    </tr>\n",
       "  </thead>\n",
       "  <tbody>\n",
       "    <tr>\n",
       "      <th>volkswagen</th>\n",
       "      <th>golf</th>\n",
       "      <td>20</td>\n",
       "    </tr>\n",
       "    <tr>\n",
       "      <th>bmw</th>\n",
       "      <th>3er</th>\n",
       "      <td>15</td>\n",
       "    </tr>\n",
       "    <tr>\n",
       "      <th>opel</th>\n",
       "      <th>astra</th>\n",
       "      <td>13</td>\n",
       "    </tr>\n",
       "    <tr>\n",
       "      <th>volkswagen</th>\n",
       "      <th>passat</th>\n",
       "      <td>12</td>\n",
       "    </tr>\n",
       "    <tr>\n",
       "      <th>opel</th>\n",
       "      <th>corsa</th>\n",
       "      <td>12</td>\n",
       "    </tr>\n",
       "    <tr>\n",
       "      <th>...</th>\n",
       "      <th>...</th>\n",
       "      <td>...</td>\n",
       "    </tr>\n",
       "    <tr>\n",
       "      <th>mercedes_benz</th>\n",
       "      <th>s_klasse</th>\n",
       "      <td>1</td>\n",
       "    </tr>\n",
       "    <tr>\n",
       "      <th>mazda</th>\n",
       "      <th>6_reihe</th>\n",
       "      <td>1</td>\n",
       "    </tr>\n",
       "    <tr>\n",
       "      <th rowspan=\"2\" valign=\"top\">lancia</th>\n",
       "      <th>ypsilon</th>\n",
       "      <td>1</td>\n",
       "    </tr>\n",
       "    <tr>\n",
       "      <th>no info</th>\n",
       "      <td>1</td>\n",
       "    </tr>\n",
       "    <tr>\n",
       "      <th>mitsubishi</th>\n",
       "      <th>colt</th>\n",
       "      <td>1</td>\n",
       "    </tr>\n",
       "  </tbody>\n",
       "</table>\n",
       "<p>119 rows × 1 columns</p>\n",
       "</div>"
      ],
      "text/plain": [
       "                        model\n",
       "brand         model          \n",
       "volkswagen    golf         20\n",
       "bmw           3er          15\n",
       "opel          astra        13\n",
       "volkswagen    passat       12\n",
       "opel          corsa        12\n",
       "...                       ...\n",
       "mercedes_benz s_klasse      1\n",
       "mazda         6_reihe       1\n",
       "lancia        ypsilon       1\n",
       "              no info       1\n",
       "mitsubishi    colt          1\n",
       "\n",
       "[119 rows x 1 columns]"
      ]
     },
     "execution_count": 38,
     "metadata": {},
     "output_type": "execute_result"
    }
   ],
   "source": [
    "(df[df['power']>=power].groupby(['brand', 'model'])['model']\n",
    "                    .count()\n",
    "                    .sort_values(ascending=False)\n",
    "                    .to_frame()\n",
    ")"
   ]
  },
  {
   "cell_type": "markdown",
   "metadata": {},
   "source": [
    "Golf, Corsa, Astra, Polo и другие модели вряд ли могут иметь мощность двигателя более 700 л.с."
   ]
  },
  {
   "cell_type": "code",
   "execution_count": 39,
   "metadata": {},
   "outputs": [
    {
     "data": {
      "text/html": [
       "<div>\n",
       "<style scoped>\n",
       "    .dataframe tbody tr th:only-of-type {\n",
       "        vertical-align: middle;\n",
       "    }\n",
       "\n",
       "    .dataframe tbody tr th {\n",
       "        vertical-align: top;\n",
       "    }\n",
       "\n",
       "    .dataframe thead th {\n",
       "        text-align: right;\n",
       "    }\n",
       "</style>\n",
       "<table border=\"1\" class=\"dataframe\">\n",
       "  <thead>\n",
       "    <tr style=\"text-align: right;\">\n",
       "      <th></th>\n",
       "      <th></th>\n",
       "      <th>model</th>\n",
       "    </tr>\n",
       "    <tr>\n",
       "      <th>brand</th>\n",
       "      <th>model</th>\n",
       "      <th></th>\n",
       "    </tr>\n",
       "  </thead>\n",
       "  <tbody>\n",
       "    <tr>\n",
       "      <th>volkswagen</th>\n",
       "      <th>golf</th>\n",
       "      <td>20</td>\n",
       "    </tr>\n",
       "    <tr>\n",
       "      <th rowspan=\"2\" valign=\"top\">opel</th>\n",
       "      <th>astra</th>\n",
       "      <td>13</td>\n",
       "    </tr>\n",
       "    <tr>\n",
       "      <th>vectra</th>\n",
       "      <td>12</td>\n",
       "    </tr>\n",
       "    <tr>\n",
       "      <th rowspan=\"2\" valign=\"top\">volkswagen</th>\n",
       "      <th>polo</th>\n",
       "      <td>12</td>\n",
       "    </tr>\n",
       "    <tr>\n",
       "      <th>passat</th>\n",
       "      <td>12</td>\n",
       "    </tr>\n",
       "    <tr>\n",
       "      <th>...</th>\n",
       "      <th>...</th>\n",
       "      <td>...</td>\n",
       "    </tr>\n",
       "    <tr>\n",
       "      <th>mazda</th>\n",
       "      <th>6_reihe</th>\n",
       "      <td>1</td>\n",
       "    </tr>\n",
       "    <tr>\n",
       "      <th rowspan=\"2\" valign=\"top\">lancia</th>\n",
       "      <th>ypsilon</th>\n",
       "      <td>1</td>\n",
       "    </tr>\n",
       "    <tr>\n",
       "      <th>no info</th>\n",
       "      <td>1</td>\n",
       "    </tr>\n",
       "    <tr>\n",
       "      <th>kia</th>\n",
       "      <th>rio</th>\n",
       "      <td>1</td>\n",
       "    </tr>\n",
       "    <tr>\n",
       "      <th>nissan</th>\n",
       "      <th>x_trail</th>\n",
       "      <td>1</td>\n",
       "    </tr>\n",
       "  </tbody>\n",
       "</table>\n",
       "<p>108 rows × 1 columns</p>\n",
       "</div>"
      ],
      "text/plain": [
       "                    model\n",
       "brand      model         \n",
       "volkswagen golf        20\n",
       "opel       astra       13\n",
       "           vectra      12\n",
       "volkswagen polo        12\n",
       "           passat      12\n",
       "...                   ...\n",
       "mazda      6_reihe      1\n",
       "lancia     ypsilon      1\n",
       "           no info      1\n",
       "kia        rio          1\n",
       "nissan     x_trail      1\n",
       "\n",
       "[108 rows x 1 columns]"
      ]
     },
     "execution_count": 39,
     "metadata": {},
     "output_type": "execute_result"
    }
   ],
   "source": [
    "(df[(df['power']>=power)&(~df['brand'].isin(['bmw','mercedes_benz']))].groupby(['brand', 'model'])['model']\n",
    "                                                                      .count()\n",
    "                                                                      .sort_values(ascending=False)\n",
    "                                                                      .to_frame()\n",
    ")"
   ]
  },
  {
   "cell_type": "code",
   "execution_count": 40,
   "metadata": {},
   "outputs": [
    {
     "data": {
      "text/html": [
       "<div>\n",
       "<style scoped>\n",
       "    .dataframe tbody tr th:only-of-type {\n",
       "        vertical-align: middle;\n",
       "    }\n",
       "\n",
       "    .dataframe tbody tr th {\n",
       "        vertical-align: top;\n",
       "    }\n",
       "\n",
       "    .dataframe thead th {\n",
       "        text-align: right;\n",
       "    }\n",
       "</style>\n",
       "<table border=\"1\" class=\"dataframe\">\n",
       "  <thead>\n",
       "    <tr style=\"text-align: right;\">\n",
       "      <th></th>\n",
       "      <th>model</th>\n",
       "    </tr>\n",
       "    <tr>\n",
       "      <th>registration_year</th>\n",
       "      <th></th>\n",
       "    </tr>\n",
       "  </thead>\n",
       "  <tbody>\n",
       "    <tr>\n",
       "      <th>2000</th>\n",
       "      <td>24</td>\n",
       "    </tr>\n",
       "    <tr>\n",
       "      <th>2002</th>\n",
       "      <td>20</td>\n",
       "    </tr>\n",
       "    <tr>\n",
       "      <th>2001</th>\n",
       "      <td>19</td>\n",
       "    </tr>\n",
       "    <tr>\n",
       "      <th>1999</th>\n",
       "      <td>19</td>\n",
       "    </tr>\n",
       "    <tr>\n",
       "      <th>2017</th>\n",
       "      <td>17</td>\n",
       "    </tr>\n",
       "  </tbody>\n",
       "</table>\n",
       "</div>"
      ],
      "text/plain": [
       "                   model\n",
       "registration_year       \n",
       "2000                  24\n",
       "2002                  20\n",
       "2001                  19\n",
       "1999                  19\n",
       "2017                  17"
      ]
     },
     "execution_count": 40,
     "metadata": {},
     "output_type": "execute_result"
    }
   ],
   "source": [
    "(df[(df['power']>=power)&(~df['brand'].isin(['bmw','mercedes_benz']))].groupby(['registration_year'])['model']\n",
    "                                                                      .count()\n",
    "                                                                      .sort_values(ascending=False)\n",
    "                                                                      .to_frame()\n",
    "                                                                      .head()\n",
    ")"
   ]
  },
  {
   "cell_type": "code",
   "execution_count": 41,
   "metadata": {},
   "outputs": [],
   "source": [
    "# отфильтруем все объекты с мощностью (-ꝏ:50] & [700:ꝏ).\n",
    "df = df[(df['power']<power)&(df['power']>50)]"
   ]
  },
  {
   "cell_type": "markdown",
   "metadata": {},
   "source": [
    "Было удалено 12.25% исходных данных."
   ]
  },
  {
   "cell_type": "code",
   "execution_count": 42,
   "metadata": {},
   "outputs": [
    {
     "name": "stdout",
     "output_type": "stream",
     "text": [
      "Доля объектов среди исходного набора данных, год регистрации которых не более порогового значения:\n",
      "1926 г. составляет  0.00% данных\n",
      "1936 г. составляет  0.00% данных\n",
      "1946 г. составляет  0.01% данных\n",
      "1956 г. составляет  0.02% данных\n",
      "1966 г. составляет  0.08% данных\n",
      "1976 г. составляет  0.30% данных\n",
      "1986 г. составляет  0.97% данных\n",
      "1996 г. составляет  8.71% данных\n",
      "2006 г. составляет 49.53% данных\n",
      "2016 г. составляет 70.83% данных\n"
     ]
    }
   ],
   "source": [
    "print('Доля объектов среди исходного набора данных, год регистрации которых не более порогового значения:')\n",
    "for i in range(1926, 2026, 10):\n",
    "    print(f'{i:4} г. составляет {df[df[\"registration_year\"]<=i][\"registration_year\"].count()/len_original:6.2%} данных')"
   ]
  },
  {
   "cell_type": "code",
   "execution_count": 43,
   "metadata": {},
   "outputs": [],
   "source": [
    "# Удалим все объекты, год регистрации которых не менее 1986 г. или более 2016 г. (год извлечения объявлений).\n",
    "df = df[(df['registration_year']>1986)&(df['registration_year']<=2016)]"
   ]
  },
  {
   "cell_type": "code",
   "execution_count": 44,
   "metadata": {},
   "outputs": [
    {
     "name": "stdout",
     "output_type": "stream",
     "text": [
      "Доля объектов среди исходного набора данных, стоимость которых не более порогового значения:\n",
      "   0 евро составляет  1.35% данных\n",
      "  25 евро составляет  1.52% данных\n",
      "  50 евро составляет  1.56% данных\n",
      "  75 евро составляет  1.58% данных\n",
      " 100 евро составляет  1.74% данных\n",
      " 125 евро составляет  1.79% данных\n",
      " 150 евро составляет  2.03% данных\n",
      " 175 евро составляет  2.07% данных\n",
      " 200 евро составляет  2.45% данных\n",
      " 225 евро составляет  2.50% данных\n",
      " 250 евро составляет  2.85% данных\n",
      " 275 евро составляет  2.89% данных\n",
      " 300 евро составляет  3.42% данных\n",
      " 325 евро составляет  3.45% данных\n",
      " 350 евро составляет  3.89% данных\n",
      " 375 евро составляет  3.92% данных\n",
      " 400 евро составляет  4.46% данных\n",
      " 425 евро составляет  4.48% данных\n",
      " 450 евро составляет  4.84% данных\n",
      " 475 евро составляет  4.86% данных\n",
      " 500 евро составляет  5.95% данных\n"
     ]
    }
   ],
   "source": [
    "print('Доля объектов среди исходного набора данных, стоимость которых не более порогового значения:')\n",
    "for i in range(0, 501, 25):\n",
    "    print(f'{i:4} евро составляет {df[df[\"price\"]<=i][\"price\"].count()/len_original:6.2%} данных')"
   ]
  },
  {
   "cell_type": "code",
   "execution_count": 45,
   "metadata": {},
   "outputs": [
    {
     "data": {
      "image/png": "[encoded data removed]",
      "text/plain": [
       "<Figure size 432x288 with 1 Axes>"
      ]
     },
     "metadata": {},
     "output_type": "display_data"
    }
   ],
   "source": [
    " sns.distplot(df[df['price']<=500]['price'], bins=100);"
   ]
  },
  {
   "cell_type": "code",
   "execution_count": 46,
   "metadata": {},
   "outputs": [],
   "source": [
    "# Удалим все данные стоимостью 0 евро\n",
    "df = df[df['price']>0]"
   ]
  },
  {
   "cell_type": "markdown",
   "metadata": {},
   "source": [
    "Было удалено 1.35% исходного датасета."
   ]
  },
  {
   "cell_type": "code",
   "execution_count": 47,
   "metadata": {},
   "outputs": [
    {
     "name": "stdout",
     "output_type": "stream",
     "text": [
      "В общей сложности мы удалили 31.49% исходного датасета на этапе предобработки данных.\n"
     ]
    }
   ],
   "source": [
    "print(f'В общей сложности мы удалили {(len_original - len(df))/len_original:6.2%} исходного датасета на этапе предобработки данных.')"
   ]
  },
  {
   "cell_type": "markdown",
   "metadata": {},
   "source": [
    "**Вывод**\n",
    "\n",
    "На этапе предобработки данных:\n",
    "- Пропуски в признаке `model` заполнены как `no info`;\n",
    "- Пропуски в признаке `repaired` заполнены как `no info`;\n",
    "- Пропуски в признаках `vehicle_type`, `fuel_type` и `gearbox` были заполнены наиболее часто встречающимися значениями связки `brand` + `model`;\n",
    "- Удалены признаки `date_crawled`, `date_created`, `last_seen`, `registration_month`, `number_of_pictures`, `postal_code`;\n",
    "- Удалены объекты мощность которых менее 50 л.с. и более 700 л.с.;\n",
    "- Удалены объекты год регистрации которых не более 1986 и более 2016;\n",
    "- Удалены объекты с нулевой стоимостью.\n",
    "\n",
    "Итого было удалено 31.49% исходного датасета."
   ]
  },
  {
   "cell_type": "markdown",
   "metadata": {},
   "source": [
    "## Подготовка данных для обучения моделей"
   ]
  },
  {
   "cell_type": "code",
   "execution_count": 48,
   "metadata": {},
   "outputs": [],
   "source": [
    "RANDOM_STATE = 11363\n",
    "RANDOM_SEED = RANDOM_STATE"
   ]
  },
  {
   "cell_type": "code",
   "execution_count": 49,
   "metadata": {},
   "outputs": [],
   "source": [
    "X = df.drop('price', axis=1).columns\n",
    "y = ['price']"
   ]
  },
  {
   "cell_type": "code",
   "execution_count": 50,
   "metadata": {},
   "outputs": [],
   "source": [
    "numerical.remove(y[0])"
   ]
  },
  {
   "cell_type": "code",
   "execution_count": 51,
   "metadata": {},
   "outputs": [],
   "source": [
    "def calc_smooth_mean(df, by, on, m):\n",
    "    # Compute the global mean\n",
    "    mean = df[on].mean()\n",
    "\n",
    "    # Compute the number of values and the mean of each group\n",
    "    agg = df.groupby(by)[on].agg(['count', 'mean'])\n",
    "    counts = agg['count']\n",
    "    means = agg['mean']\n",
    "\n",
    "    # Compute the \"smoothed\" means\n",
    "    smooth = (counts * means + m * mean) / (counts + m)\n",
    "\n",
    "    # Replace each value by the according smoothed mean\n",
    "    return df[by].map(smooth)"
   ]
  },
  {
   "cell_type": "code",
   "execution_count": 52,
   "metadata": {},
   "outputs": [],
   "source": [
    "df_copy = df.copy()\n",
    "df_copy['model'] = calc_smooth_mean(df_copy, by='model', on='price', m=300)"
   ]
  },
  {
   "cell_type": "code",
   "execution_count": 53,
   "metadata": {},
   "outputs": [
    {
     "data": {
      "text/html": [
       "<div>\n",
       "<style scoped>\n",
       "    .dataframe tbody tr th:only-of-type {\n",
       "        vertical-align: middle;\n",
       "    }\n",
       "\n",
       "    .dataframe tbody tr th {\n",
       "        vertical-align: top;\n",
       "    }\n",
       "\n",
       "    .dataframe thead th {\n",
       "        text-align: right;\n",
       "    }\n",
       "</style>\n",
       "<table border=\"1\" class=\"dataframe\">\n",
       "  <thead>\n",
       "    <tr style=\"text-align: right;\">\n",
       "      <th></th>\n",
       "      <th>price</th>\n",
       "      <th>vehicle_type</th>\n",
       "      <th>registration_year</th>\n",
       "      <th>gearbox</th>\n",
       "      <th>power</th>\n",
       "      <th>model</th>\n",
       "      <th>kilometer</th>\n",
       "      <th>fuel_type</th>\n",
       "      <th>brand</th>\n",
       "      <th>repaired</th>\n",
       "    </tr>\n",
       "  </thead>\n",
       "  <tbody>\n",
       "    <tr>\n",
       "      <th>1</th>\n",
       "      <td>18300</td>\n",
       "      <td>coupe</td>\n",
       "      <td>2011</td>\n",
       "      <td>manual</td>\n",
       "      <td>190</td>\n",
       "      <td>3605.084720</td>\n",
       "      <td>125000</td>\n",
       "      <td>petrol</td>\n",
       "      <td>audi</td>\n",
       "      <td>yes</td>\n",
       "    </tr>\n",
       "    <tr>\n",
       "      <th>2</th>\n",
       "      <td>9800</td>\n",
       "      <td>suv</td>\n",
       "      <td>2004</td>\n",
       "      <td>auto</td>\n",
       "      <td>163</td>\n",
       "      <td>5995.244893</td>\n",
       "      <td>125000</td>\n",
       "      <td>petrol</td>\n",
       "      <td>jeep</td>\n",
       "      <td>no info</td>\n",
       "    </tr>\n",
       "    <tr>\n",
       "      <th>3</th>\n",
       "      <td>1500</td>\n",
       "      <td>small</td>\n",
       "      <td>2001</td>\n",
       "      <td>manual</td>\n",
       "      <td>75</td>\n",
       "      <td>4854.155567</td>\n",
       "      <td>150000</td>\n",
       "      <td>petrol</td>\n",
       "      <td>volkswagen</td>\n",
       "      <td>no</td>\n",
       "    </tr>\n",
       "    <tr>\n",
       "      <th>4</th>\n",
       "      <td>3600</td>\n",
       "      <td>small</td>\n",
       "      <td>2008</td>\n",
       "      <td>manual</td>\n",
       "      <td>69</td>\n",
       "      <td>4465.239067</td>\n",
       "      <td>90000</td>\n",
       "      <td>petrol</td>\n",
       "      <td>skoda</td>\n",
       "      <td>no</td>\n",
       "    </tr>\n",
       "    <tr>\n",
       "      <th>5</th>\n",
       "      <td>650</td>\n",
       "      <td>sedan</td>\n",
       "      <td>1995</td>\n",
       "      <td>manual</td>\n",
       "      <td>102</td>\n",
       "      <td>5515.387490</td>\n",
       "      <td>150000</td>\n",
       "      <td>petrol</td>\n",
       "      <td>bmw</td>\n",
       "      <td>yes</td>\n",
       "    </tr>\n",
       "  </tbody>\n",
       "</table>\n",
       "</div>"
      ],
      "text/plain": [
       "   price vehicle_type  registration_year gearbox  power        model  \\\n",
       "1  18300        coupe               2011  manual    190  3605.084720   \n",
       "2   9800          suv               2004    auto    163  5995.244893   \n",
       "3   1500        small               2001  manual     75  4854.155567   \n",
       "4   3600        small               2008  manual     69  4465.239067   \n",
       "5    650        sedan               1995  manual    102  5515.387490   \n",
       "\n",
       "   kilometer fuel_type       brand repaired  \n",
       "1     125000    petrol        audi      yes  \n",
       "2     125000    petrol        jeep  no info  \n",
       "3     150000    petrol  volkswagen       no  \n",
       "4      90000    petrol       skoda       no  \n",
       "5     150000    petrol         bmw      yes  "
      ]
     },
     "execution_count": 53,
     "metadata": {},
     "output_type": "execute_result"
    }
   ],
   "source": [
    "df_copy.head()"
   ]
  },
  {
   "cell_type": "code",
   "execution_count": 54,
   "metadata": {},
   "outputs": [
    {
     "name": "stdout",
     "output_type": "stream",
     "text": [
      "Размер обучающей выборки 194233, это составляет 80.00% данных\n",
      "Размер тестовой выборки 48559, это составляет 20.00% данных\n"
     ]
    }
   ],
   "source": [
    "train, test = train_test_split(df, test_size=0.2, random_state=RANDOM_STATE)\n",
    "print(f'Размер обучающей выборки {train.shape[0]}, это составляет {train.shape[0]/len(df):.2%} данных')\n",
    "print(f'Размер тестовой выборки {test.shape[0]}, это составляет {test.shape[0]/len(df):.2%} данных')"
   ]
  },
  {
   "cell_type": "code",
   "execution_count": 55,
   "metadata": {},
   "outputs": [
    {
     "data": {
      "text/html": [
       "<div>\n",
       "<style scoped>\n",
       "    .dataframe tbody tr th:only-of-type {\n",
       "        vertical-align: middle;\n",
       "    }\n",
       "\n",
       "    .dataframe tbody tr th {\n",
       "        vertical-align: top;\n",
       "    }\n",
       "\n",
       "    .dataframe thead th {\n",
       "        text-align: right;\n",
       "    }\n",
       "</style>\n",
       "<table border=\"1\" class=\"dataframe\">\n",
       "  <thead>\n",
       "    <tr style=\"text-align: right;\">\n",
       "      <th></th>\n",
       "      <th>price</th>\n",
       "      <th>vehicle_type</th>\n",
       "      <th>registration_year</th>\n",
       "      <th>gearbox</th>\n",
       "      <th>power</th>\n",
       "      <th>model</th>\n",
       "      <th>kilometer</th>\n",
       "      <th>fuel_type</th>\n",
       "      <th>brand</th>\n",
       "      <th>repaired</th>\n",
       "    </tr>\n",
       "  </thead>\n",
       "  <tbody>\n",
       "    <tr>\n",
       "      <th>52608</th>\n",
       "      <td>9900</td>\n",
       "      <td>sedan</td>\n",
       "      <td>2010</td>\n",
       "      <td>manual</td>\n",
       "      <td>105</td>\n",
       "      <td>a1</td>\n",
       "      <td>150000</td>\n",
       "      <td>petrol</td>\n",
       "      <td>audi</td>\n",
       "      <td>no</td>\n",
       "    </tr>\n",
       "    <tr>\n",
       "      <th>53232</th>\n",
       "      <td>3800</td>\n",
       "      <td>small</td>\n",
       "      <td>2000</td>\n",
       "      <td>manual</td>\n",
       "      <td>260</td>\n",
       "      <td>a3</td>\n",
       "      <td>150000</td>\n",
       "      <td>petrol</td>\n",
       "      <td>audi</td>\n",
       "      <td>no</td>\n",
       "    </tr>\n",
       "    <tr>\n",
       "      <th>151534</th>\n",
       "      <td>20000</td>\n",
       "      <td>sedan</td>\n",
       "      <td>2013</td>\n",
       "      <td>manual</td>\n",
       "      <td>220</td>\n",
       "      <td>golf</td>\n",
       "      <td>80000</td>\n",
       "      <td>petrol</td>\n",
       "      <td>volkswagen</td>\n",
       "      <td>no</td>\n",
       "    </tr>\n",
       "    <tr>\n",
       "      <th>109623</th>\n",
       "      <td>1700</td>\n",
       "      <td>convertible</td>\n",
       "      <td>1998</td>\n",
       "      <td>manual</td>\n",
       "      <td>90</td>\n",
       "      <td>megane</td>\n",
       "      <td>150000</td>\n",
       "      <td>petrol</td>\n",
       "      <td>renault</td>\n",
       "      <td>no</td>\n",
       "    </tr>\n",
       "    <tr>\n",
       "      <th>257257</th>\n",
       "      <td>7999</td>\n",
       "      <td>bus</td>\n",
       "      <td>2010</td>\n",
       "      <td>manual</td>\n",
       "      <td>101</td>\n",
       "      <td>c_max</td>\n",
       "      <td>80000</td>\n",
       "      <td>petrol</td>\n",
       "      <td>ford</td>\n",
       "      <td>no</td>\n",
       "    </tr>\n",
       "  </tbody>\n",
       "</table>\n",
       "</div>"
      ],
      "text/plain": [
       "        price vehicle_type  registration_year gearbox  power   model  \\\n",
       "52608    9900        sedan               2010  manual    105      a1   \n",
       "53232    3800        small               2000  manual    260      a3   \n",
       "151534  20000        sedan               2013  manual    220    golf   \n",
       "109623   1700  convertible               1998  manual     90  megane   \n",
       "257257   7999          bus               2010  manual    101   c_max   \n",
       "\n",
       "        kilometer fuel_type       brand repaired  \n",
       "52608      150000    petrol        audi       no  \n",
       "53232      150000    petrol        audi       no  \n",
       "151534      80000    petrol  volkswagen       no  \n",
       "109623     150000    petrol     renault       no  \n",
       "257257      80000    petrol        ford       no  "
      ]
     },
     "execution_count": 55,
     "metadata": {},
     "output_type": "execute_result"
    }
   ],
   "source": [
    "train.head()"
   ]
  },
  {
   "cell_type": "code",
   "execution_count": 56,
   "metadata": {},
   "outputs": [
    {
     "data": {
      "text/plain": [
       "set()"
      ]
     },
     "execution_count": 56,
     "metadata": {},
     "output_type": "execute_result"
    }
   ],
   "source": [
    "# Посмотрим на разницzу в уникальных значениях `model` в train и test\n",
    "set(test['model'].unique()) - set(train['model'].unique())"
   ]
  },
  {
   "cell_type": "markdown",
   "metadata": {},
   "source": [
    "Отлично, в тестовых данных отсутствуют уникальные модели в сравнении с тренировочными. Будем применять target encoding для признака `model`."
   ]
  },
  {
   "cell_type": "code",
   "execution_count": 57,
   "metadata": {},
   "outputs": [],
   "source": [
    "categorical.remove('model')\n",
    "numerical.append('model')"
   ]
  },
  {
   "cell_type": "code",
   "execution_count": 58,
   "metadata": {},
   "outputs": [],
   "source": [
    "ohe_list = categorical"
   ]
  },
  {
   "cell_type": "code",
   "execution_count": 59,
   "metadata": {},
   "outputs": [],
   "source": [
    "pd.set_option('display.float_format', lambda x: '%.2f' % x)"
   ]
  },
  {
   "cell_type": "code",
   "execution_count": 60,
   "metadata": {},
   "outputs": [],
   "source": [
    "encoder = OneHotEncoder(handle_unknown='ignore')#, drop='first') #удаляем первый столбец чтобы не попасть в дамми-ловушку\n",
    "\n",
    "train_ohe = (pd.DataFrame(\n",
    "     encoder.fit_transform(train[ohe_list]).toarray(),\n",
    "     columns=encoder.get_feature_names(), #_out(),\n",
    "     index=train.index)\n",
    "     .join([train[y], train[numerical]], how='left')\n",
    ")\n",
    "\n",
    "test_ohe = (pd.DataFrame(\n",
    "    encoder.transform(test[ohe_list]).toarray(),\n",
    "    columns=encoder.get_feature_names(), #_out(),\n",
    "    index=test.index)\n",
    "    .join([test[y], test[numerical]], how='left')\n",
    ")"
   ]
  },
  {
   "cell_type": "code",
   "execution_count": 61,
   "metadata": {},
   "outputs": [
    {
     "data": {
      "text/html": [
       "<div>\n",
       "<style scoped>\n",
       "    .dataframe tbody tr th:only-of-type {\n",
       "        vertical-align: middle;\n",
       "    }\n",
       "\n",
       "    .dataframe tbody tr th {\n",
       "        vertical-align: top;\n",
       "    }\n",
       "\n",
       "    .dataframe thead th {\n",
       "        text-align: right;\n",
       "    }\n",
       "</style>\n",
       "<table border=\"1\" class=\"dataframe\">\n",
       "  <thead>\n",
       "    <tr style=\"text-align: right;\">\n",
       "      <th></th>\n",
       "      <th>x0_alfa_romeo</th>\n",
       "      <th>x0_audi</th>\n",
       "      <th>x0_bmw</th>\n",
       "      <th>x0_chevrolet</th>\n",
       "      <th>x0_chrysler</th>\n",
       "      <th>x0_citroen</th>\n",
       "      <th>x0_dacia</th>\n",
       "      <th>x0_daewoo</th>\n",
       "      <th>x0_daihatsu</th>\n",
       "      <th>x0_fiat</th>\n",
       "      <th>...</th>\n",
       "      <th>x4_other</th>\n",
       "      <th>x4_sedan</th>\n",
       "      <th>x4_small</th>\n",
       "      <th>x4_suv</th>\n",
       "      <th>x4_wagon</th>\n",
       "      <th>price</th>\n",
       "      <th>registration_year</th>\n",
       "      <th>power</th>\n",
       "      <th>kilometer</th>\n",
       "      <th>model</th>\n",
       "    </tr>\n",
       "  </thead>\n",
       "  <tbody>\n",
       "    <tr>\n",
       "      <th>52608</th>\n",
       "      <td>0.00</td>\n",
       "      <td>1.00</td>\n",
       "      <td>0.00</td>\n",
       "      <td>0.00</td>\n",
       "      <td>0.00</td>\n",
       "      <td>0.00</td>\n",
       "      <td>0.00</td>\n",
       "      <td>0.00</td>\n",
       "      <td>0.00</td>\n",
       "      <td>0.00</td>\n",
       "      <td>...</td>\n",
       "      <td>0.00</td>\n",
       "      <td>1.00</td>\n",
       "      <td>0.00</td>\n",
       "      <td>0.00</td>\n",
       "      <td>0.00</td>\n",
       "      <td>9900</td>\n",
       "      <td>2010</td>\n",
       "      <td>105</td>\n",
       "      <td>150000</td>\n",
       "      <td>a1</td>\n",
       "    </tr>\n",
       "    <tr>\n",
       "      <th>53232</th>\n",
       "      <td>0.00</td>\n",
       "      <td>1.00</td>\n",
       "      <td>0.00</td>\n",
       "      <td>0.00</td>\n",
       "      <td>0.00</td>\n",
       "      <td>0.00</td>\n",
       "      <td>0.00</td>\n",
       "      <td>0.00</td>\n",
       "      <td>0.00</td>\n",
       "      <td>0.00</td>\n",
       "      <td>...</td>\n",
       "      <td>0.00</td>\n",
       "      <td>0.00</td>\n",
       "      <td>1.00</td>\n",
       "      <td>0.00</td>\n",
       "      <td>0.00</td>\n",
       "      <td>3800</td>\n",
       "      <td>2000</td>\n",
       "      <td>260</td>\n",
       "      <td>150000</td>\n",
       "      <td>a3</td>\n",
       "    </tr>\n",
       "    <tr>\n",
       "      <th>151534</th>\n",
       "      <td>0.00</td>\n",
       "      <td>0.00</td>\n",
       "      <td>0.00</td>\n",
       "      <td>0.00</td>\n",
       "      <td>0.00</td>\n",
       "      <td>0.00</td>\n",
       "      <td>0.00</td>\n",
       "      <td>0.00</td>\n",
       "      <td>0.00</td>\n",
       "      <td>0.00</td>\n",
       "      <td>...</td>\n",
       "      <td>0.00</td>\n",
       "      <td>1.00</td>\n",
       "      <td>0.00</td>\n",
       "      <td>0.00</td>\n",
       "      <td>0.00</td>\n",
       "      <td>20000</td>\n",
       "      <td>2013</td>\n",
       "      <td>220</td>\n",
       "      <td>80000</td>\n",
       "      <td>golf</td>\n",
       "    </tr>\n",
       "    <tr>\n",
       "      <th>109623</th>\n",
       "      <td>0.00</td>\n",
       "      <td>0.00</td>\n",
       "      <td>0.00</td>\n",
       "      <td>0.00</td>\n",
       "      <td>0.00</td>\n",
       "      <td>0.00</td>\n",
       "      <td>0.00</td>\n",
       "      <td>0.00</td>\n",
       "      <td>0.00</td>\n",
       "      <td>0.00</td>\n",
       "      <td>...</td>\n",
       "      <td>0.00</td>\n",
       "      <td>0.00</td>\n",
       "      <td>0.00</td>\n",
       "      <td>0.00</td>\n",
       "      <td>0.00</td>\n",
       "      <td>1700</td>\n",
       "      <td>1998</td>\n",
       "      <td>90</td>\n",
       "      <td>150000</td>\n",
       "      <td>megane</td>\n",
       "    </tr>\n",
       "    <tr>\n",
       "      <th>257257</th>\n",
       "      <td>0.00</td>\n",
       "      <td>0.00</td>\n",
       "      <td>0.00</td>\n",
       "      <td>0.00</td>\n",
       "      <td>0.00</td>\n",
       "      <td>0.00</td>\n",
       "      <td>0.00</td>\n",
       "      <td>0.00</td>\n",
       "      <td>0.00</td>\n",
       "      <td>0.00</td>\n",
       "      <td>...</td>\n",
       "      <td>0.00</td>\n",
       "      <td>0.00</td>\n",
       "      <td>0.00</td>\n",
       "      <td>0.00</td>\n",
       "      <td>0.00</td>\n",
       "      <td>7999</td>\n",
       "      <td>2010</td>\n",
       "      <td>101</td>\n",
       "      <td>80000</td>\n",
       "      <td>c_max</td>\n",
       "    </tr>\n",
       "  </tbody>\n",
       "</table>\n",
       "<p>5 rows × 64 columns</p>\n",
       "</div>"
      ],
      "text/plain": [
       "        x0_alfa_romeo  x0_audi  x0_bmw  x0_chevrolet  x0_chrysler  x0_citroen  \\\n",
       "52608            0.00     1.00    0.00          0.00         0.00        0.00   \n",
       "53232            0.00     1.00    0.00          0.00         0.00        0.00   \n",
       "151534           0.00     0.00    0.00          0.00         0.00        0.00   \n",
       "109623           0.00     0.00    0.00          0.00         0.00        0.00   \n",
       "257257           0.00     0.00    0.00          0.00         0.00        0.00   \n",
       "\n",
       "        x0_dacia  x0_daewoo  x0_daihatsu  x0_fiat  ...  x4_other  x4_sedan  \\\n",
       "52608       0.00       0.00         0.00     0.00  ...      0.00      1.00   \n",
       "53232       0.00       0.00         0.00     0.00  ...      0.00      0.00   \n",
       "151534      0.00       0.00         0.00     0.00  ...      0.00      1.00   \n",
       "109623      0.00       0.00         0.00     0.00  ...      0.00      0.00   \n",
       "257257      0.00       0.00         0.00     0.00  ...      0.00      0.00   \n",
       "\n",
       "        x4_small  x4_suv  x4_wagon  price  registration_year  power  \\\n",
       "52608       0.00    0.00      0.00   9900               2010    105   \n",
       "53232       1.00    0.00      0.00   3800               2000    260   \n",
       "151534      0.00    0.00      0.00  20000               2013    220   \n",
       "109623      0.00    0.00      0.00   1700               1998     90   \n",
       "257257      0.00    0.00      0.00   7999               2010    101   \n",
       "\n",
       "        kilometer   model  \n",
       "52608      150000      a1  \n",
       "53232      150000      a3  \n",
       "151534      80000    golf  \n",
       "109623     150000  megane  \n",
       "257257      80000   c_max  \n",
       "\n",
       "[5 rows x 64 columns]"
      ]
     },
     "execution_count": 61,
     "metadata": {},
     "output_type": "execute_result"
    }
   ],
   "source": [
    "train_ohe.head()"
   ]
  },
  {
   "cell_type": "code",
   "execution_count": 62,
   "metadata": {},
   "outputs": [
    {
     "data": {
      "text/html": [
       "<div>\n",
       "<style scoped>\n",
       "    .dataframe tbody tr th:only-of-type {\n",
       "        vertical-align: middle;\n",
       "    }\n",
       "\n",
       "    .dataframe tbody tr th {\n",
       "        vertical-align: top;\n",
       "    }\n",
       "\n",
       "    .dataframe thead th {\n",
       "        text-align: right;\n",
       "    }\n",
       "</style>\n",
       "<table border=\"1\" class=\"dataframe\">\n",
       "  <thead>\n",
       "    <tr style=\"text-align: right;\">\n",
       "      <th></th>\n",
       "      <th>x0_alfa_romeo</th>\n",
       "      <th>x0_audi</th>\n",
       "      <th>x0_bmw</th>\n",
       "      <th>x0_chevrolet</th>\n",
       "      <th>x0_chrysler</th>\n",
       "      <th>x0_citroen</th>\n",
       "      <th>x0_dacia</th>\n",
       "      <th>x0_daewoo</th>\n",
       "      <th>x0_daihatsu</th>\n",
       "      <th>x0_fiat</th>\n",
       "      <th>...</th>\n",
       "      <th>x4_other</th>\n",
       "      <th>x4_sedan</th>\n",
       "      <th>x4_small</th>\n",
       "      <th>x4_suv</th>\n",
       "      <th>x4_wagon</th>\n",
       "      <th>price</th>\n",
       "      <th>registration_year</th>\n",
       "      <th>power</th>\n",
       "      <th>kilometer</th>\n",
       "      <th>model</th>\n",
       "    </tr>\n",
       "  </thead>\n",
       "  <tbody>\n",
       "    <tr>\n",
       "      <th>181974</th>\n",
       "      <td>0.00</td>\n",
       "      <td>0.00</td>\n",
       "      <td>0.00</td>\n",
       "      <td>0.00</td>\n",
       "      <td>0.00</td>\n",
       "      <td>0.00</td>\n",
       "      <td>0.00</td>\n",
       "      <td>0.00</td>\n",
       "      <td>0.00</td>\n",
       "      <td>0.00</td>\n",
       "      <td>...</td>\n",
       "      <td>0.00</td>\n",
       "      <td>0.00</td>\n",
       "      <td>0.00</td>\n",
       "      <td>0.00</td>\n",
       "      <td>0.00</td>\n",
       "      <td>3300</td>\n",
       "      <td>2001</td>\n",
       "      <td>115</td>\n",
       "      <td>150000</td>\n",
       "      <td>no info</td>\n",
       "    </tr>\n",
       "    <tr>\n",
       "      <th>174068</th>\n",
       "      <td>0.00</td>\n",
       "      <td>0.00</td>\n",
       "      <td>0.00</td>\n",
       "      <td>0.00</td>\n",
       "      <td>0.00</td>\n",
       "      <td>0.00</td>\n",
       "      <td>0.00</td>\n",
       "      <td>0.00</td>\n",
       "      <td>0.00</td>\n",
       "      <td>0.00</td>\n",
       "      <td>...</td>\n",
       "      <td>0.00</td>\n",
       "      <td>1.00</td>\n",
       "      <td>0.00</td>\n",
       "      <td>0.00</td>\n",
       "      <td>0.00</td>\n",
       "      <td>14200</td>\n",
       "      <td>2006</td>\n",
       "      <td>231</td>\n",
       "      <td>125000</td>\n",
       "      <td>e_klasse</td>\n",
       "    </tr>\n",
       "    <tr>\n",
       "      <th>254003</th>\n",
       "      <td>0.00</td>\n",
       "      <td>0.00</td>\n",
       "      <td>0.00</td>\n",
       "      <td>0.00</td>\n",
       "      <td>0.00</td>\n",
       "      <td>0.00</td>\n",
       "      <td>0.00</td>\n",
       "      <td>0.00</td>\n",
       "      <td>0.00</td>\n",
       "      <td>0.00</td>\n",
       "      <td>...</td>\n",
       "      <td>0.00</td>\n",
       "      <td>1.00</td>\n",
       "      <td>0.00</td>\n",
       "      <td>0.00</td>\n",
       "      <td>0.00</td>\n",
       "      <td>199</td>\n",
       "      <td>2000</td>\n",
       "      <td>113</td>\n",
       "      <td>150000</td>\n",
       "      <td>colt</td>\n",
       "    </tr>\n",
       "    <tr>\n",
       "      <th>183861</th>\n",
       "      <td>0.00</td>\n",
       "      <td>0.00</td>\n",
       "      <td>1.00</td>\n",
       "      <td>0.00</td>\n",
       "      <td>0.00</td>\n",
       "      <td>0.00</td>\n",
       "      <td>0.00</td>\n",
       "      <td>0.00</td>\n",
       "      <td>0.00</td>\n",
       "      <td>0.00</td>\n",
       "      <td>...</td>\n",
       "      <td>0.00</td>\n",
       "      <td>1.00</td>\n",
       "      <td>0.00</td>\n",
       "      <td>0.00</td>\n",
       "      <td>0.00</td>\n",
       "      <td>12300</td>\n",
       "      <td>2004</td>\n",
       "      <td>333</td>\n",
       "      <td>150000</td>\n",
       "      <td>7er</td>\n",
       "    </tr>\n",
       "    <tr>\n",
       "      <th>154277</th>\n",
       "      <td>0.00</td>\n",
       "      <td>0.00</td>\n",
       "      <td>0.00</td>\n",
       "      <td>0.00</td>\n",
       "      <td>0.00</td>\n",
       "      <td>0.00</td>\n",
       "      <td>0.00</td>\n",
       "      <td>0.00</td>\n",
       "      <td>0.00</td>\n",
       "      <td>0.00</td>\n",
       "      <td>...</td>\n",
       "      <td>0.00</td>\n",
       "      <td>1.00</td>\n",
       "      <td>0.00</td>\n",
       "      <td>0.00</td>\n",
       "      <td>0.00</td>\n",
       "      <td>1480</td>\n",
       "      <td>1997</td>\n",
       "      <td>125</td>\n",
       "      <td>150000</td>\n",
       "      <td>passat</td>\n",
       "    </tr>\n",
       "  </tbody>\n",
       "</table>\n",
       "<p>5 rows × 64 columns</p>\n",
       "</div>"
      ],
      "text/plain": [
       "        x0_alfa_romeo  x0_audi  x0_bmw  x0_chevrolet  x0_chrysler  x0_citroen  \\\n",
       "181974           0.00     0.00    0.00          0.00         0.00        0.00   \n",
       "174068           0.00     0.00    0.00          0.00         0.00        0.00   \n",
       "254003           0.00     0.00    0.00          0.00         0.00        0.00   \n",
       "183861           0.00     0.00    1.00          0.00         0.00        0.00   \n",
       "154277           0.00     0.00    0.00          0.00         0.00        0.00   \n",
       "\n",
       "        x0_dacia  x0_daewoo  x0_daihatsu  x0_fiat  ...  x4_other  x4_sedan  \\\n",
       "181974      0.00       0.00         0.00     0.00  ...      0.00      0.00   \n",
       "174068      0.00       0.00         0.00     0.00  ...      0.00      1.00   \n",
       "254003      0.00       0.00         0.00     0.00  ...      0.00      1.00   \n",
       "183861      0.00       0.00         0.00     0.00  ...      0.00      1.00   \n",
       "154277      0.00       0.00         0.00     0.00  ...      0.00      1.00   \n",
       "\n",
       "        x4_small  x4_suv  x4_wagon  price  registration_year  power  \\\n",
       "181974      0.00    0.00      0.00   3300               2001    115   \n",
       "174068      0.00    0.00      0.00  14200               2006    231   \n",
       "254003      0.00    0.00      0.00    199               2000    113   \n",
       "183861      0.00    0.00      0.00  12300               2004    333   \n",
       "154277      0.00    0.00      0.00   1480               1997    125   \n",
       "\n",
       "        kilometer     model  \n",
       "181974     150000   no info  \n",
       "174068     125000  e_klasse  \n",
       "254003     150000      colt  \n",
       "183861     150000       7er  \n",
       "154277     150000    passat  \n",
       "\n",
       "[5 rows x 64 columns]"
      ]
     },
     "execution_count": 62,
     "metadata": {},
     "output_type": "execute_result"
    }
   ],
   "source": [
    "test_ohe.head()"
   ]
  },
  {
   "cell_type": "code",
   "execution_count": 63,
   "metadata": {},
   "outputs": [
    {
     "data": {
      "text/html": [
       "<div>\n",
       "<style scoped>\n",
       "    .dataframe tbody tr th:only-of-type {\n",
       "        vertical-align: middle;\n",
       "    }\n",
       "\n",
       "    .dataframe tbody tr th {\n",
       "        vertical-align: top;\n",
       "    }\n",
       "\n",
       "    .dataframe thead th {\n",
       "        text-align: right;\n",
       "    }\n",
       "</style>\n",
       "<table border=\"1\" class=\"dataframe\">\n",
       "  <thead>\n",
       "    <tr style=\"text-align: right;\">\n",
       "      <th></th>\n",
       "      <th>price</th>\n",
       "      <th>vehicle_type</th>\n",
       "      <th>registration_year</th>\n",
       "      <th>gearbox</th>\n",
       "      <th>power</th>\n",
       "      <th>model</th>\n",
       "      <th>kilometer</th>\n",
       "      <th>fuel_type</th>\n",
       "      <th>brand</th>\n",
       "      <th>repaired</th>\n",
       "    </tr>\n",
       "  </thead>\n",
       "  <tbody>\n",
       "    <tr>\n",
       "      <th>52608</th>\n",
       "      <td>9900</td>\n",
       "      <td>sedan</td>\n",
       "      <td>2010</td>\n",
       "      <td>manual</td>\n",
       "      <td>105</td>\n",
       "      <td>a1</td>\n",
       "      <td>150000</td>\n",
       "      <td>petrol</td>\n",
       "      <td>audi</td>\n",
       "      <td>no</td>\n",
       "    </tr>\n",
       "    <tr>\n",
       "      <th>53232</th>\n",
       "      <td>3800</td>\n",
       "      <td>small</td>\n",
       "      <td>2000</td>\n",
       "      <td>manual</td>\n",
       "      <td>260</td>\n",
       "      <td>a3</td>\n",
       "      <td>150000</td>\n",
       "      <td>petrol</td>\n",
       "      <td>audi</td>\n",
       "      <td>no</td>\n",
       "    </tr>\n",
       "    <tr>\n",
       "      <th>151534</th>\n",
       "      <td>20000</td>\n",
       "      <td>sedan</td>\n",
       "      <td>2013</td>\n",
       "      <td>manual</td>\n",
       "      <td>220</td>\n",
       "      <td>golf</td>\n",
       "      <td>80000</td>\n",
       "      <td>petrol</td>\n",
       "      <td>volkswagen</td>\n",
       "      <td>no</td>\n",
       "    </tr>\n",
       "    <tr>\n",
       "      <th>109623</th>\n",
       "      <td>1700</td>\n",
       "      <td>convertible</td>\n",
       "      <td>1998</td>\n",
       "      <td>manual</td>\n",
       "      <td>90</td>\n",
       "      <td>megane</td>\n",
       "      <td>150000</td>\n",
       "      <td>petrol</td>\n",
       "      <td>renault</td>\n",
       "      <td>no</td>\n",
       "    </tr>\n",
       "    <tr>\n",
       "      <th>257257</th>\n",
       "      <td>7999</td>\n",
       "      <td>bus</td>\n",
       "      <td>2010</td>\n",
       "      <td>manual</td>\n",
       "      <td>101</td>\n",
       "      <td>c_max</td>\n",
       "      <td>80000</td>\n",
       "      <td>petrol</td>\n",
       "      <td>ford</td>\n",
       "      <td>no</td>\n",
       "    </tr>\n",
       "  </tbody>\n",
       "</table>\n",
       "</div>"
      ],
      "text/plain": [
       "        price vehicle_type  registration_year gearbox  power   model  \\\n",
       "52608    9900        sedan               2010  manual    105      a1   \n",
       "53232    3800        small               2000  manual    260      a3   \n",
       "151534  20000        sedan               2013  manual    220    golf   \n",
       "109623   1700  convertible               1998  manual     90  megane   \n",
       "257257   7999          bus               2010  manual    101   c_max   \n",
       "\n",
       "        kilometer fuel_type       brand repaired  \n",
       "52608      150000    petrol        audi       no  \n",
       "53232      150000    petrol        audi       no  \n",
       "151534      80000    petrol  volkswagen       no  \n",
       "109623     150000    petrol     renault       no  \n",
       "257257      80000    petrol        ford       no  "
      ]
     },
     "metadata": {},
     "output_type": "display_data"
    },
    {
     "data": {
      "text/html": [
       "<div>\n",
       "<style scoped>\n",
       "    .dataframe tbody tr th:only-of-type {\n",
       "        vertical-align: middle;\n",
       "    }\n",
       "\n",
       "    .dataframe tbody tr th {\n",
       "        vertical-align: top;\n",
       "    }\n",
       "\n",
       "    .dataframe thead th {\n",
       "        text-align: right;\n",
       "    }\n",
       "</style>\n",
       "<table border=\"1\" class=\"dataframe\">\n",
       "  <thead>\n",
       "    <tr style=\"text-align: right;\">\n",
       "      <th></th>\n",
       "      <th>price</th>\n",
       "      <th>vehicle_type</th>\n",
       "      <th>registration_year</th>\n",
       "      <th>gearbox</th>\n",
       "      <th>power</th>\n",
       "      <th>model</th>\n",
       "      <th>kilometer</th>\n",
       "      <th>fuel_type</th>\n",
       "      <th>brand</th>\n",
       "      <th>repaired</th>\n",
       "    </tr>\n",
       "  </thead>\n",
       "  <tbody>\n",
       "    <tr>\n",
       "      <th>181974</th>\n",
       "      <td>3300</td>\n",
       "      <td>convertible</td>\n",
       "      <td>2001</td>\n",
       "      <td>manual</td>\n",
       "      <td>115</td>\n",
       "      <td>no info</td>\n",
       "      <td>150000</td>\n",
       "      <td>petrol</td>\n",
       "      <td>volkswagen</td>\n",
       "      <td>no info</td>\n",
       "    </tr>\n",
       "    <tr>\n",
       "      <th>174068</th>\n",
       "      <td>14200</td>\n",
       "      <td>sedan</td>\n",
       "      <td>2006</td>\n",
       "      <td>auto</td>\n",
       "      <td>231</td>\n",
       "      <td>e_klasse</td>\n",
       "      <td>125000</td>\n",
       "      <td>petrol</td>\n",
       "      <td>mercedes_benz</td>\n",
       "      <td>no</td>\n",
       "    </tr>\n",
       "    <tr>\n",
       "      <th>254003</th>\n",
       "      <td>199</td>\n",
       "      <td>sedan</td>\n",
       "      <td>2000</td>\n",
       "      <td>manual</td>\n",
       "      <td>113</td>\n",
       "      <td>colt</td>\n",
       "      <td>150000</td>\n",
       "      <td>petrol</td>\n",
       "      <td>mitsubishi</td>\n",
       "      <td>no info</td>\n",
       "    </tr>\n",
       "    <tr>\n",
       "      <th>183861</th>\n",
       "      <td>12300</td>\n",
       "      <td>sedan</td>\n",
       "      <td>2004</td>\n",
       "      <td>auto</td>\n",
       "      <td>333</td>\n",
       "      <td>7er</td>\n",
       "      <td>150000</td>\n",
       "      <td>lpg</td>\n",
       "      <td>bmw</td>\n",
       "      <td>no</td>\n",
       "    </tr>\n",
       "    <tr>\n",
       "      <th>154277</th>\n",
       "      <td>1480</td>\n",
       "      <td>sedan</td>\n",
       "      <td>1997</td>\n",
       "      <td>manual</td>\n",
       "      <td>125</td>\n",
       "      <td>passat</td>\n",
       "      <td>150000</td>\n",
       "      <td>petrol</td>\n",
       "      <td>volkswagen</td>\n",
       "      <td>no</td>\n",
       "    </tr>\n",
       "  </tbody>\n",
       "</table>\n",
       "</div>"
      ],
      "text/plain": [
       "        price vehicle_type  registration_year gearbox  power     model  \\\n",
       "181974   3300  convertible               2001  manual    115   no info   \n",
       "174068  14200        sedan               2006    auto    231  e_klasse   \n",
       "254003    199        sedan               2000  manual    113      colt   \n",
       "183861  12300        sedan               2004    auto    333       7er   \n",
       "154277   1480        sedan               1997  manual    125    passat   \n",
       "\n",
       "        kilometer fuel_type          brand repaired  \n",
       "181974     150000    petrol     volkswagen  no info  \n",
       "174068     125000    petrol  mercedes_benz       no  \n",
       "254003     150000    petrol     mitsubishi  no info  \n",
       "183861     150000       lpg            bmw       no  \n",
       "154277     150000    petrol     volkswagen       no  "
      ]
     },
     "metadata": {},
     "output_type": "display_data"
    }
   ],
   "source": [
    "display(train.head())\n",
    "display(test.head())"
   ]
  },
  {
   "cell_type": "code",
   "execution_count": 64,
   "metadata": {},
   "outputs": [],
   "source": [
    "X_ohe = list(train_ohe.columns)\n",
    "X_ohe.remove('price')"
   ]
  },
  {
   "cell_type": "code",
   "execution_count": 65,
   "metadata": {},
   "outputs": [
    {
     "name": "stdout",
     "output_type": "stream",
     "text": [
      "52608    13980.74\n",
      "53232     6666.54\n",
      "151534    4863.84\n",
      "109623    3426.28\n",
      "257257    6336.99\n",
      "Name: model, dtype: float64\n",
      "181974   3548.15\n",
      "174068   6062.39\n",
      "254003   2493.93\n",
      "183861   6438.96\n",
      "154277   4881.24\n",
      "Name: model, dtype: float64\n"
     ]
    }
   ],
   "source": [
    "# Initialize and fit target encoder\n",
    "target_encoder = ce.TargetEncoder(cols=['model'])\n",
    "target_encoder.fit(train_ohe['model'], train_ohe[y])\n",
    "\n",
    "# Transform training and test data\n",
    "train_ohe['model'] = target_encoder.transform(train_ohe['model'])\n",
    "test_ohe['model'] = target_encoder.transform(test_ohe['model'])\n",
    "\n",
    "# Check results\n",
    "print(train_ohe['model'].head())\n",
    "print(test_ohe['model'].head())\n"
   ]
  },
  {
   "cell_type": "code",
   "execution_count": 66,
   "metadata": {},
   "outputs": [],
   "source": [
    "scaler = StandardScaler()\n",
    "scaler.fit(train_ohe[numerical])\n",
    "train_ohe[numerical] = scaler.transform(train_ohe[numerical])\n",
    "test_ohe[numerical] = scaler.transform(test_ohe[numerical]);"
   ]
  },
  {
   "cell_type": "code",
   "execution_count": 67,
   "metadata": {},
   "outputs": [
    {
     "data": {
      "text/html": [
       "<div>\n",
       "<style scoped>\n",
       "    .dataframe tbody tr th:only-of-type {\n",
       "        vertical-align: middle;\n",
       "    }\n",
       "\n",
       "    .dataframe tbody tr th {\n",
       "        vertical-align: top;\n",
       "    }\n",
       "\n",
       "    .dataframe thead th {\n",
       "        text-align: right;\n",
       "    }\n",
       "</style>\n",
       "<table border=\"1\" class=\"dataframe\">\n",
       "  <thead>\n",
       "    <tr style=\"text-align: right;\">\n",
       "      <th></th>\n",
       "      <th>x0_alfa_romeo</th>\n",
       "      <th>x0_audi</th>\n",
       "      <th>x0_bmw</th>\n",
       "      <th>x0_chevrolet</th>\n",
       "      <th>x0_chrysler</th>\n",
       "      <th>x0_citroen</th>\n",
       "      <th>x0_dacia</th>\n",
       "      <th>x0_daewoo</th>\n",
       "      <th>x0_daihatsu</th>\n",
       "      <th>x0_fiat</th>\n",
       "      <th>...</th>\n",
       "      <th>x4_other</th>\n",
       "      <th>x4_sedan</th>\n",
       "      <th>x4_small</th>\n",
       "      <th>x4_suv</th>\n",
       "      <th>x4_wagon</th>\n",
       "      <th>price</th>\n",
       "      <th>registration_year</th>\n",
       "      <th>power</th>\n",
       "      <th>kilometer</th>\n",
       "      <th>model</th>\n",
       "    </tr>\n",
       "  </thead>\n",
       "  <tbody>\n",
       "    <tr>\n",
       "      <th>52608</th>\n",
       "      <td>0.00</td>\n",
       "      <td>1.00</td>\n",
       "      <td>0.00</td>\n",
       "      <td>0.00</td>\n",
       "      <td>0.00</td>\n",
       "      <td>0.00</td>\n",
       "      <td>0.00</td>\n",
       "      <td>0.00</td>\n",
       "      <td>0.00</td>\n",
       "      <td>0.00</td>\n",
       "      <td>...</td>\n",
       "      <td>0.00</td>\n",
       "      <td>1.00</td>\n",
       "      <td>0.00</td>\n",
       "      <td>0.00</td>\n",
       "      <td>0.00</td>\n",
       "      <td>9900</td>\n",
       "      <td>1.15</td>\n",
       "      <td>-0.36</td>\n",
       "      <td>0.61</td>\n",
       "      <td>3.67</td>\n",
       "    </tr>\n",
       "    <tr>\n",
       "      <th>53232</th>\n",
       "      <td>0.00</td>\n",
       "      <td>1.00</td>\n",
       "      <td>0.00</td>\n",
       "      <td>0.00</td>\n",
       "      <td>0.00</td>\n",
       "      <td>0.00</td>\n",
       "      <td>0.00</td>\n",
       "      <td>0.00</td>\n",
       "      <td>0.00</td>\n",
       "      <td>0.00</td>\n",
       "      <td>...</td>\n",
       "      <td>0.00</td>\n",
       "      <td>0.00</td>\n",
       "      <td>1.00</td>\n",
       "      <td>0.00</td>\n",
       "      <td>0.00</td>\n",
       "      <td>3800</td>\n",
       "      <td>-0.60</td>\n",
       "      <td>2.55</td>\n",
       "      <td>0.61</td>\n",
       "      <td>0.67</td>\n",
       "    </tr>\n",
       "    <tr>\n",
       "      <th>151534</th>\n",
       "      <td>0.00</td>\n",
       "      <td>0.00</td>\n",
       "      <td>0.00</td>\n",
       "      <td>0.00</td>\n",
       "      <td>0.00</td>\n",
       "      <td>0.00</td>\n",
       "      <td>0.00</td>\n",
       "      <td>0.00</td>\n",
       "      <td>0.00</td>\n",
       "      <td>0.00</td>\n",
       "      <td>...</td>\n",
       "      <td>0.00</td>\n",
       "      <td>1.00</td>\n",
       "      <td>0.00</td>\n",
       "      <td>0.00</td>\n",
       "      <td>0.00</td>\n",
       "      <td>20000</td>\n",
       "      <td>1.68</td>\n",
       "      <td>1.80</td>\n",
       "      <td>-1.28</td>\n",
       "      <td>-0.07</td>\n",
       "    </tr>\n",
       "    <tr>\n",
       "      <th>109623</th>\n",
       "      <td>0.00</td>\n",
       "      <td>0.00</td>\n",
       "      <td>0.00</td>\n",
       "      <td>0.00</td>\n",
       "      <td>0.00</td>\n",
       "      <td>0.00</td>\n",
       "      <td>0.00</td>\n",
       "      <td>0.00</td>\n",
       "      <td>0.00</td>\n",
       "      <td>0.00</td>\n",
       "      <td>...</td>\n",
       "      <td>0.00</td>\n",
       "      <td>0.00</td>\n",
       "      <td>0.00</td>\n",
       "      <td>0.00</td>\n",
       "      <td>0.00</td>\n",
       "      <td>1700</td>\n",
       "      <td>-0.95</td>\n",
       "      <td>-0.64</td>\n",
       "      <td>0.61</td>\n",
       "      <td>-0.66</td>\n",
       "    </tr>\n",
       "    <tr>\n",
       "      <th>257257</th>\n",
       "      <td>0.00</td>\n",
       "      <td>0.00</td>\n",
       "      <td>0.00</td>\n",
       "      <td>0.00</td>\n",
       "      <td>0.00</td>\n",
       "      <td>0.00</td>\n",
       "      <td>0.00</td>\n",
       "      <td>0.00</td>\n",
       "      <td>0.00</td>\n",
       "      <td>0.00</td>\n",
       "      <td>...</td>\n",
       "      <td>0.00</td>\n",
       "      <td>0.00</td>\n",
       "      <td>0.00</td>\n",
       "      <td>0.00</td>\n",
       "      <td>0.00</td>\n",
       "      <td>7999</td>\n",
       "      <td>1.15</td>\n",
       "      <td>-0.44</td>\n",
       "      <td>-1.28</td>\n",
       "      <td>0.53</td>\n",
       "    </tr>\n",
       "  </tbody>\n",
       "</table>\n",
       "<p>5 rows × 64 columns</p>\n",
       "</div>"
      ],
      "text/plain": [
       "        x0_alfa_romeo  x0_audi  x0_bmw  x0_chevrolet  x0_chrysler  x0_citroen  \\\n",
       "52608            0.00     1.00    0.00          0.00         0.00        0.00   \n",
       "53232            0.00     1.00    0.00          0.00         0.00        0.00   \n",
       "151534           0.00     0.00    0.00          0.00         0.00        0.00   \n",
       "109623           0.00     0.00    0.00          0.00         0.00        0.00   \n",
       "257257           0.00     0.00    0.00          0.00         0.00        0.00   \n",
       "\n",
       "        x0_dacia  x0_daewoo  x0_daihatsu  x0_fiat  ...  x4_other  x4_sedan  \\\n",
       "52608       0.00       0.00         0.00     0.00  ...      0.00      1.00   \n",
       "53232       0.00       0.00         0.00     0.00  ...      0.00      0.00   \n",
       "151534      0.00       0.00         0.00     0.00  ...      0.00      1.00   \n",
       "109623      0.00       0.00         0.00     0.00  ...      0.00      0.00   \n",
       "257257      0.00       0.00         0.00     0.00  ...      0.00      0.00   \n",
       "\n",
       "        x4_small  x4_suv  x4_wagon  price  registration_year  power  \\\n",
       "52608       0.00    0.00      0.00   9900               1.15  -0.36   \n",
       "53232       1.00    0.00      0.00   3800              -0.60   2.55   \n",
       "151534      0.00    0.00      0.00  20000               1.68   1.80   \n",
       "109623      0.00    0.00      0.00   1700              -0.95  -0.64   \n",
       "257257      0.00    0.00      0.00   7999               1.15  -0.44   \n",
       "\n",
       "        kilometer  model  \n",
       "52608        0.61   3.67  \n",
       "53232        0.61   0.67  \n",
       "151534      -1.28  -0.07  \n",
       "109623       0.61  -0.66  \n",
       "257257      -1.28   0.53  \n",
       "\n",
       "[5 rows x 64 columns]"
      ]
     },
     "execution_count": 67,
     "metadata": {},
     "output_type": "execute_result"
    }
   ],
   "source": [
    "train_ohe.head()"
   ]
  },
  {
   "cell_type": "code",
   "execution_count": 68,
   "metadata": {},
   "outputs": [
    {
     "data": {
      "text/html": [
       "<div>\n",
       "<style scoped>\n",
       "    .dataframe tbody tr th:only-of-type {\n",
       "        vertical-align: middle;\n",
       "    }\n",
       "\n",
       "    .dataframe tbody tr th {\n",
       "        vertical-align: top;\n",
       "    }\n",
       "\n",
       "    .dataframe thead th {\n",
       "        text-align: right;\n",
       "    }\n",
       "</style>\n",
       "<table border=\"1\" class=\"dataframe\">\n",
       "  <thead>\n",
       "    <tr style=\"text-align: right;\">\n",
       "      <th></th>\n",
       "      <th>x0_alfa_romeo</th>\n",
       "      <th>x0_audi</th>\n",
       "      <th>x0_bmw</th>\n",
       "      <th>x0_chevrolet</th>\n",
       "      <th>x0_chrysler</th>\n",
       "      <th>x0_citroen</th>\n",
       "      <th>x0_dacia</th>\n",
       "      <th>x0_daewoo</th>\n",
       "      <th>x0_daihatsu</th>\n",
       "      <th>x0_fiat</th>\n",
       "      <th>...</th>\n",
       "      <th>x4_other</th>\n",
       "      <th>x4_sedan</th>\n",
       "      <th>x4_small</th>\n",
       "      <th>x4_suv</th>\n",
       "      <th>x4_wagon</th>\n",
       "      <th>price</th>\n",
       "      <th>registration_year</th>\n",
       "      <th>power</th>\n",
       "      <th>kilometer</th>\n",
       "      <th>model</th>\n",
       "    </tr>\n",
       "  </thead>\n",
       "  <tbody>\n",
       "    <tr>\n",
       "      <th>181974</th>\n",
       "      <td>0.00</td>\n",
       "      <td>0.00</td>\n",
       "      <td>0.00</td>\n",
       "      <td>0.00</td>\n",
       "      <td>0.00</td>\n",
       "      <td>0.00</td>\n",
       "      <td>0.00</td>\n",
       "      <td>0.00</td>\n",
       "      <td>0.00</td>\n",
       "      <td>0.00</td>\n",
       "      <td>...</td>\n",
       "      <td>0.00</td>\n",
       "      <td>0.00</td>\n",
       "      <td>0.00</td>\n",
       "      <td>0.00</td>\n",
       "      <td>0.00</td>\n",
       "      <td>3300</td>\n",
       "      <td>-0.43</td>\n",
       "      <td>-0.17</td>\n",
       "      <td>0.61</td>\n",
       "      <td>-0.61</td>\n",
       "    </tr>\n",
       "    <tr>\n",
       "      <th>174068</th>\n",
       "      <td>0.00</td>\n",
       "      <td>0.00</td>\n",
       "      <td>0.00</td>\n",
       "      <td>0.00</td>\n",
       "      <td>0.00</td>\n",
       "      <td>0.00</td>\n",
       "      <td>0.00</td>\n",
       "      <td>0.00</td>\n",
       "      <td>0.00</td>\n",
       "      <td>0.00</td>\n",
       "      <td>...</td>\n",
       "      <td>0.00</td>\n",
       "      <td>1.00</td>\n",
       "      <td>0.00</td>\n",
       "      <td>0.00</td>\n",
       "      <td>0.00</td>\n",
       "      <td>14200</td>\n",
       "      <td>0.45</td>\n",
       "      <td>2.00</td>\n",
       "      <td>-0.07</td>\n",
       "      <td>0.42</td>\n",
       "    </tr>\n",
       "    <tr>\n",
       "      <th>254003</th>\n",
       "      <td>0.00</td>\n",
       "      <td>0.00</td>\n",
       "      <td>0.00</td>\n",
       "      <td>0.00</td>\n",
       "      <td>0.00</td>\n",
       "      <td>0.00</td>\n",
       "      <td>0.00</td>\n",
       "      <td>0.00</td>\n",
       "      <td>0.00</td>\n",
       "      <td>0.00</td>\n",
       "      <td>...</td>\n",
       "      <td>0.00</td>\n",
       "      <td>1.00</td>\n",
       "      <td>0.00</td>\n",
       "      <td>0.00</td>\n",
       "      <td>0.00</td>\n",
       "      <td>199</td>\n",
       "      <td>-0.60</td>\n",
       "      <td>-0.21</td>\n",
       "      <td>0.61</td>\n",
       "      <td>-1.05</td>\n",
       "    </tr>\n",
       "    <tr>\n",
       "      <th>183861</th>\n",
       "      <td>0.00</td>\n",
       "      <td>0.00</td>\n",
       "      <td>1.00</td>\n",
       "      <td>0.00</td>\n",
       "      <td>0.00</td>\n",
       "      <td>0.00</td>\n",
       "      <td>0.00</td>\n",
       "      <td>0.00</td>\n",
       "      <td>0.00</td>\n",
       "      <td>0.00</td>\n",
       "      <td>...</td>\n",
       "      <td>0.00</td>\n",
       "      <td>1.00</td>\n",
       "      <td>0.00</td>\n",
       "      <td>0.00</td>\n",
       "      <td>0.00</td>\n",
       "      <td>12300</td>\n",
       "      <td>0.10</td>\n",
       "      <td>3.92</td>\n",
       "      <td>0.61</td>\n",
       "      <td>0.57</td>\n",
       "    </tr>\n",
       "    <tr>\n",
       "      <th>154277</th>\n",
       "      <td>0.00</td>\n",
       "      <td>0.00</td>\n",
       "      <td>0.00</td>\n",
       "      <td>0.00</td>\n",
       "      <td>0.00</td>\n",
       "      <td>0.00</td>\n",
       "      <td>0.00</td>\n",
       "      <td>0.00</td>\n",
       "      <td>0.00</td>\n",
       "      <td>0.00</td>\n",
       "      <td>...</td>\n",
       "      <td>0.00</td>\n",
       "      <td>1.00</td>\n",
       "      <td>0.00</td>\n",
       "      <td>0.00</td>\n",
       "      <td>0.00</td>\n",
       "      <td>1480</td>\n",
       "      <td>-1.13</td>\n",
       "      <td>0.01</td>\n",
       "      <td>0.61</td>\n",
       "      <td>-0.07</td>\n",
       "    </tr>\n",
       "  </tbody>\n",
       "</table>\n",
       "<p>5 rows × 64 columns</p>\n",
       "</div>"
      ],
      "text/plain": [
       "        x0_alfa_romeo  x0_audi  x0_bmw  x0_chevrolet  x0_chrysler  x0_citroen  \\\n",
       "181974           0.00     0.00    0.00          0.00         0.00        0.00   \n",
       "174068           0.00     0.00    0.00          0.00         0.00        0.00   \n",
       "254003           0.00     0.00    0.00          0.00         0.00        0.00   \n",
       "183861           0.00     0.00    1.00          0.00         0.00        0.00   \n",
       "154277           0.00     0.00    0.00          0.00         0.00        0.00   \n",
       "\n",
       "        x0_dacia  x0_daewoo  x0_daihatsu  x0_fiat  ...  x4_other  x4_sedan  \\\n",
       "181974      0.00       0.00         0.00     0.00  ...      0.00      0.00   \n",
       "174068      0.00       0.00         0.00     0.00  ...      0.00      1.00   \n",
       "254003      0.00       0.00         0.00     0.00  ...      0.00      1.00   \n",
       "183861      0.00       0.00         0.00     0.00  ...      0.00      1.00   \n",
       "154277      0.00       0.00         0.00     0.00  ...      0.00      1.00   \n",
       "\n",
       "        x4_small  x4_suv  x4_wagon  price  registration_year  power  \\\n",
       "181974      0.00    0.00      0.00   3300              -0.43  -0.17   \n",
       "174068      0.00    0.00      0.00  14200               0.45   2.00   \n",
       "254003      0.00    0.00      0.00    199              -0.60  -0.21   \n",
       "183861      0.00    0.00      0.00  12300               0.10   3.92   \n",
       "154277      0.00    0.00      0.00   1480              -1.13   0.01   \n",
       "\n",
       "        kilometer  model  \n",
       "181974       0.61  -0.61  \n",
       "174068      -0.07   0.42  \n",
       "254003       0.61  -1.05  \n",
       "183861       0.61   0.57  \n",
       "154277       0.61  -0.07  \n",
       "\n",
       "[5 rows x 64 columns]"
      ]
     },
     "execution_count": 68,
     "metadata": {},
     "output_type": "execute_result"
    }
   ],
   "source": [
    "test_ohe.head()"
   ]
  },
  {
   "cell_type": "markdown",
   "metadata": {},
   "source": [
    "**Вывод**\n",
    "\n",
    "Было осуществлено масштабирование численных признаков, а также выполнено кодирование переменных."
   ]
  },
  {
   "cell_type": "markdown",
   "metadata": {},
   "source": [
    "## Обучение моделей"
   ]
  },
  {
   "cell_type": "markdown",
   "metadata": {},
   "source": [
    "### CatBoost"
   ]
  },
  {
   "cell_type": "code",
   "execution_count": 69,
   "metadata": {},
   "outputs": [],
   "source": [
    "categorical.append('model')"
   ]
  },
  {
   "cell_type": "code",
   "execution_count": 70,
   "metadata": {},
   "outputs": [],
   "source": [
    "cat_features = categorical\n",
    "\n",
    "params = {'cat_features': cat_features,\n",
    "          'loss_function': 'RMSE',\n",
    "          'random_seed': RANDOM_SEED,\n",
    "          'verbose': 100,\n",
    "          'early_stopping_rounds': 100}"
   ]
  },
  {
   "cell_type": "code",
   "execution_count": 71,
   "metadata": {},
   "outputs": [
    {
     "name": "stdout",
     "output_type": "stream",
     "text": [
      "0:\tlearn: 3722.4807609\ttotal: 304ms\tremaining: 5m 3s\n",
      "100:\tlearn: 1562.9081543\ttotal: 16.7s\tremaining: 2m 29s\n",
      "200:\tlearn: 1490.4542792\ttotal: 33.2s\tremaining: 2m 12s\n",
      "300:\tlearn: 1443.9912577\ttotal: 50.1s\tremaining: 1m 56s\n",
      "400:\tlearn: 1410.5337346\ttotal: 1m 6s\tremaining: 1m 39s\n",
      "500:\tlearn: 1383.0427154\ttotal: 1m 23s\tremaining: 1m 23s\n",
      "600:\tlearn: 1360.9409267\ttotal: 1m 39s\tremaining: 1m 6s\n",
      "700:\tlearn: 1342.5829181\ttotal: 1m 56s\tremaining: 49.8s\n",
      "800:\tlearn: 1326.2846149\ttotal: 2m 13s\tremaining: 33.1s\n",
      "900:\tlearn: 1311.4402692\ttotal: 2m 29s\tremaining: 16.5s\n",
      "999:\tlearn: 1297.0826716\ttotal: 2m 46s\tremaining: 0us\n",
      "0:\tlearn: 3723.6247236\ttotal: 214ms\tremaining: 3m 33s\n",
      "100:\tlearn: 1562.5288265\ttotal: 16.2s\tremaining: 2m 24s\n",
      "200:\tlearn: 1486.9892603\ttotal: 32.6s\tremaining: 2m 9s\n",
      "300:\tlearn: 1442.0016235\ttotal: 49.3s\tremaining: 1m 54s\n",
      "400:\tlearn: 1410.9422129\ttotal: 1m 6s\tremaining: 1m 39s\n",
      "500:\tlearn: 1384.7476862\ttotal: 1m 23s\tremaining: 1m 23s\n",
      "600:\tlearn: 1364.4659371\ttotal: 1m 40s\tremaining: 1m 7s\n",
      "700:\tlearn: 1344.4173153\ttotal: 1m 58s\tremaining: 50.4s\n",
      "800:\tlearn: 1328.3028955\ttotal: 2m 14s\tremaining: 33.4s\n",
      "900:\tlearn: 1311.7271029\ttotal: 2m 31s\tremaining: 16.6s\n",
      "999:\tlearn: 1296.1983092\ttotal: 2m 46s\tremaining: 0us\n",
      "0:\tlearn: 3716.1967545\ttotal: 205ms\tremaining: 3m 24s\n",
      "100:\tlearn: 1553.5844596\ttotal: 16.2s\tremaining: 2m 24s\n",
      "200:\tlearn: 1480.3233118\ttotal: 32.2s\tremaining: 2m 7s\n",
      "300:\tlearn: 1433.6975364\ttotal: 48.3s\tremaining: 1m 52s\n",
      "400:\tlearn: 1400.4115103\ttotal: 1m 4s\tremaining: 1m 36s\n",
      "500:\tlearn: 1375.7581281\ttotal: 1m 21s\tremaining: 1m 21s\n",
      "600:\tlearn: 1355.3030472\ttotal: 1m 39s\tremaining: 1m 6s\n",
      "700:\tlearn: 1337.2877391\ttotal: 1m 56s\tremaining: 49.9s\n",
      "800:\tlearn: 1319.5201610\ttotal: 2m 14s\tremaining: 33.5s\n",
      "900:\tlearn: 1307.1397580\ttotal: 2m 32s\tremaining: 16.8s\n",
      "999:\tlearn: 1293.1472424\ttotal: 2m 49s\tremaining: 0us\n",
      "0:\tlearn: 3721.9933691\ttotal: 458ms\tremaining: 7m 37s\n",
      "100:\tlearn: 1567.9135524\ttotal: 26s\tremaining: 3m 51s\n",
      "200:\tlearn: 1498.9944752\ttotal: 51.8s\tremaining: 3m 26s\n",
      "300:\tlearn: 1460.2665635\ttotal: 1m 18s\tremaining: 3m 2s\n",
      "400:\tlearn: 1431.3895160\ttotal: 1m 44s\tremaining: 2m 36s\n",
      "500:\tlearn: 1409.3642138\ttotal: 2m 9s\tremaining: 2m 9s\n",
      "600:\tlearn: 1390.8374737\ttotal: 2m 32s\tremaining: 1m 41s\n",
      "700:\tlearn: 1375.0525628\ttotal: 2m 56s\tremaining: 1m 15s\n",
      "800:\tlearn: 1360.5478919\ttotal: 3m 20s\tremaining: 49.8s\n",
      "900:\tlearn: 1346.9574986\ttotal: 3m 45s\tremaining: 24.8s\n",
      "999:\tlearn: 1334.5528664\ttotal: 4m 8s\tremaining: 0us\n"
     ]
    }
   ],
   "source": [
    "start_time = time.time()\n",
    "\n",
    "model = CatBoostRegressor(**params)\n",
    "\n",
    "param_grid_cb = {'depth': [8],\n",
    "                 'l2_leaf_reg': [3],\n",
    "                 'learning_rate': [0.3],\n",
    "                }\n",
    "gs_cb = GridSearchCV(estimator = model, param_grid = param_grid_cb, cv = 3, scoring='neg_root_mean_squared_error')\n",
    "gs_cb.fit(train[X], train[y])\n",
    "\n",
    "end_time = time.time()\n",
    "elapsed_time_cb = 9655.06 # захардкодил время (считалось по 60 фолдам в сумме) и сократил параметры, дабы не ждать 2 часа.\n",
    "\n",
    "best_cb = gs_cb.best_params_"
   ]
  },
  {
   "cell_type": "code",
   "execution_count": 72,
   "metadata": {},
   "outputs": [],
   "source": [
    "predict = gs_cb.predict(train[X])\n",
    "score_cb = -gs_cb.best_score_\n",
    "score_2_cb = mean_squared_error(train[y], predict)**0.5"
   ]
  },
  {
   "cell_type": "code",
   "execution_count": 73,
   "metadata": {},
   "outputs": [
    {
     "name": "stdout",
     "output_type": "stream",
     "text": [
      "Лучшие параметры = {'depth': 8, 'l2_leaf_reg': 3, 'learning_rate': 0.3}\n",
      "RMSE модели на кросс валидации после подбора гиперпараметров = 1584.29\n",
      "RMSE по предикту = 1390.97\n",
      "Поиск оптимальных гиперпараметров занимает 9655.06 секунд.\n"
     ]
    }
   ],
   "source": [
    "print(f'Лучшие параметры = {best_cb}')\n",
    "print(f'RMSE модели на кросс валидации после подбора гиперпараметров = {score_cb:.2f}')\n",
    "print(f'RMSE по предикту = {score_2_cb:.2f}')\n",
    "print(f'Поиск оптимальных гиперпараметров занимает {elapsed_time_cb:.2f} секунд.')"
   ]
  },
  {
   "cell_type": "code",
   "execution_count": 74,
   "metadata": {},
   "outputs": [],
   "source": [
    "model = CatBoostRegressor(**best_cb)"
   ]
  },
  {
   "cell_type": "code",
   "execution_count": 75,
   "metadata": {},
   "outputs": [
    {
     "name": "stdout",
     "output_type": "stream",
     "text": [
      "0:\tlearn: 3734.3507364\ttotal: 332ms\tremaining: 5m 32s\n",
      "100:\tlearn: 1561.4449577\ttotal: 22.4s\tremaining: 3m 18s\n",
      "200:\tlearn: 1497.4642515\ttotal: 45.6s\tremaining: 3m 1s\n",
      "300:\tlearn: 1459.6772305\ttotal: 1m 8s\tremaining: 2m 40s\n",
      "400:\tlearn: 1431.2212407\ttotal: 1m 32s\tremaining: 2m 17s\n",
      "500:\tlearn: 1411.0921274\ttotal: 1m 54s\tremaining: 1m 54s\n",
      "600:\tlearn: 1392.1745421\ttotal: 2m 17s\tremaining: 1m 31s\n",
      "700:\tlearn: 1375.8161356\ttotal: 2m 41s\tremaining: 1m 8s\n",
      "800:\tlearn: 1361.2248085\ttotal: 3m 4s\tremaining: 45.8s\n",
      "900:\tlearn: 1349.2908336\ttotal: 3m 28s\tremaining: 22.9s\n",
      "999:\tlearn: 1338.2211187\ttotal: 3m 52s\tremaining: 0us\n"
     ]
    }
   ],
   "source": [
    "start_time = time.time()\n",
    "model.fit(train[X], train[y], verbose=100, cat_features=cat_features)\n",
    "end_time = time.time()\n",
    "\n",
    "train_time = end_time - start_time\n",
    "\n",
    "start_time = time.time()\n",
    "pred = model.predict(train[X])\n",
    "end_time = time.time()\n",
    "predict_time = end_time - start_time "
   ]
  },
  {
   "cell_type": "code",
   "execution_count": 76,
   "metadata": {},
   "outputs": [
    {
     "data": {
      "text/html": [
       "<div>\n",
       "<style scoped>\n",
       "    .dataframe tbody tr th:only-of-type {\n",
       "        vertical-align: middle;\n",
       "    }\n",
       "\n",
       "    .dataframe tbody tr th {\n",
       "        vertical-align: top;\n",
       "    }\n",
       "\n",
       "    .dataframe thead th {\n",
       "        text-align: right;\n",
       "    }\n",
       "</style>\n",
       "<table border=\"1\" class=\"dataframe\">\n",
       "  <thead>\n",
       "    <tr style=\"text-align: right;\">\n",
       "      <th></th>\n",
       "      <th>1_CatBoost</th>\n",
       "    </tr>\n",
       "  </thead>\n",
       "  <tbody>\n",
       "    <tr>\n",
       "      <th>RMSE</th>\n",
       "      <td>1584.29</td>\n",
       "    </tr>\n",
       "    <tr>\n",
       "      <th>train_time_sec</th>\n",
       "      <td>236.51</td>\n",
       "    </tr>\n",
       "    <tr>\n",
       "      <th>predict_time_sec</th>\n",
       "      <td>3.21</td>\n",
       "    </tr>\n",
       "    <tr>\n",
       "      <th>parameters_tuning_time_sec</th>\n",
       "      <td>9655.06</td>\n",
       "    </tr>\n",
       "  </tbody>\n",
       "</table>\n",
       "</div>"
      ],
      "text/plain": [
       "                            1_CatBoost\n",
       "RMSE                           1584.29\n",
       "train_time_sec                  236.51\n",
       "predict_time_sec                  3.21\n",
       "parameters_tuning_time_sec     9655.06"
      ]
     },
     "execution_count": 76,
     "metadata": {},
     "output_type": "execute_result"
    }
   ],
   "source": [
    "results = pd.DataFrame(index = ['RMSE', 'train_time_sec', 'predict_time_sec', 'parameters_tuning_time_sec'])\n",
    "results['1_CatBoost'] = [score_cb, train_time, predict_time, elapsed_time_cb]\n",
    "results"
   ]
  },
  {
   "cell_type": "markdown",
   "metadata": {},
   "source": [
    "### LightGBM"
   ]
  },
  {
   "cell_type": "code",
   "execution_count": 77,
   "metadata": {},
   "outputs": [],
   "source": [
    "train[categorical] = train[categorical].astype('category')\n",
    "test[categorical] = test[categorical].astype('category')"
   ]
  },
  {
   "cell_type": "code",
   "execution_count": 80,
   "metadata": {},
   "outputs": [
    {
     "name": "stdout",
     "output_type": "stream",
     "text": [
      "[LightGBM] [Warning] Accuracy may be bad since you didn't explicitly set num_leaves OR 2^max_depth > num_leaves. (num_leaves=31).\n",
      "[LightGBM] [Warning] Accuracy may be bad since you didn't explicitly set num_leaves OR 2^max_depth > num_leaves. (num_leaves=31).\n",
      "[LightGBM] [Warning] Auto-choosing col-wise multi-threading, the overhead of testing was 0.379550 seconds.\n",
      "You can set `force_col_wise=true` to remove the overhead.\n",
      "[LightGBM] [Warning] Accuracy may be bad since you didn't explicitly set num_leaves OR 2^max_depth > num_leaves. (num_leaves=31).\n",
      "[LightGBM] [Warning] Accuracy may be bad since you didn't explicitly set num_leaves OR 2^max_depth > num_leaves. (num_leaves=31).\n",
      "[LightGBM] [Warning] Auto-choosing row-wise multi-threading, the overhead of testing was 0.312644 seconds.\n",
      "You can set `force_row_wise=true` to remove the overhead.\n",
      "And if memory is not enough, you can set `force_col_wise=true`.\n",
      "[LightGBM] [Warning] Accuracy may be bad since you didn't explicitly set num_leaves OR 2^max_depth > num_leaves. (num_leaves=31).\n",
      "[LightGBM] [Warning] Accuracy may be bad since you didn't explicitly set num_leaves OR 2^max_depth > num_leaves. (num_leaves=31).\n",
      "[LightGBM] [Warning] Auto-choosing row-wise multi-threading, the overhead of testing was 0.395007 seconds.\n",
      "You can set `force_row_wise=true` to remove the overhead.\n",
      "And if memory is not enough, you can set `force_col_wise=true`.\n",
      "[LightGBM] [Warning] Accuracy may be bad since you didn't explicitly set num_leaves OR 2^max_depth > num_leaves. (num_leaves=31).\n",
      "[LightGBM] [Warning] Accuracy may be bad since you didn't explicitly set num_leaves OR 2^max_depth > num_leaves. (num_leaves=31).\n",
      "[LightGBM] [Warning] Auto-choosing row-wise multi-threading, the overhead of testing was 0.292940 seconds.\n",
      "You can set `force_row_wise=true` to remove the overhead.\n",
      "And if memory is not enough, you can set `force_col_wise=true`.\n"
     ]
    }
   ],
   "source": [
    "param_grid_lgbm = {'learning_rate':[0.3], 'n_estimators':[200], 'max_depth':[10]}\n",
    "gs_lgbm = GridSearchCV(LGBMRegressor(random_state=RANDOM_STATE, verbose=0),\n",
    "                       param_grid=param_grid_lgbm,\n",
    "                       cv=3,\n",
    "                       scoring='neg_root_mean_squared_error'\n",
    "                      )\n",
    "\n",
    "start_time=time.time()\n",
    "gs_lgbm.fit(train[X], train[y])\n",
    "end_time=time.time()\n",
    "elapsed_time_lgbm = end_time - start_time\n",
    "best_lgbm = gs_lgbm.best_params_\n",
    "score_lgbm = -gs_lgbm.best_score_\n",
    "score_2_lgbm = mean_squared_error(train[y], gs_lgbm.predict(train[X]))**0.5"
   ]
  },
  {
   "cell_type": "code",
   "execution_count": 81,
   "metadata": {},
   "outputs": [],
   "source": [
    "model=LGBMRegressor(**best_lgbm)\n",
    "\n",
    "start_time = time.time()\n",
    "model.fit(train[X], train[y])\n",
    "end_time = time.time()\n",
    "\n",
    "train_time = end_time - start_time\n",
    "\n",
    "start_time = time.time()\n",
    "predict = model.predict(train[X])\n",
    "end_time = time.time()\n",
    "\n",
    "predict_time = end_time - start_time"
   ]
  },
  {
   "cell_type": "code",
   "execution_count": 82,
   "metadata": {},
   "outputs": [
    {
     "name": "stdout",
     "output_type": "stream",
     "text": [
      "Лучшие параметры = {'learning_rate': 0.3, 'max_depth': 10, 'n_estimators': 200}\n",
      "RMSE модели на кросс валидации после подбора гиперпараметров = 1593.60\n",
      "Поиск оптимальных гиперпараметров занимает 842.28 секунд.\n"
     ]
    }
   ],
   "source": [
    "print(f'Лучшие параметры = {best_lgbm}')\n",
    "print(f'RMSE модели на кросс валидации после подбора гиперпараметров = {score_lgbm:.2f}')\n",
    "print(f'Поиск оптимальных гиперпараметров занимает {elapsed_time_lgbm:.2f} секунд.')"
   ]
  },
  {
   "cell_type": "code",
   "execution_count": 83,
   "metadata": {},
   "outputs": [
    {
     "data": {
      "text/html": [
       "<div>\n",
       "<style scoped>\n",
       "    .dataframe tbody tr th:only-of-type {\n",
       "        vertical-align: middle;\n",
       "    }\n",
       "\n",
       "    .dataframe tbody tr th {\n",
       "        vertical-align: top;\n",
       "    }\n",
       "\n",
       "    .dataframe thead th {\n",
       "        text-align: right;\n",
       "    }\n",
       "</style>\n",
       "<table border=\"1\" class=\"dataframe\">\n",
       "  <thead>\n",
       "    <tr style=\"text-align: right;\">\n",
       "      <th></th>\n",
       "      <th>1_CatBoost</th>\n",
       "      <th>2_LightGBM</th>\n",
       "    </tr>\n",
       "  </thead>\n",
       "  <tbody>\n",
       "    <tr>\n",
       "      <th>RMSE</th>\n",
       "      <td>1584.29</td>\n",
       "      <td>1593.60</td>\n",
       "    </tr>\n",
       "    <tr>\n",
       "      <th>train_time_sec</th>\n",
       "      <td>236.51</td>\n",
       "      <td>74.78</td>\n",
       "    </tr>\n",
       "    <tr>\n",
       "      <th>predict_time_sec</th>\n",
       "      <td>3.21</td>\n",
       "      <td>2.43</td>\n",
       "    </tr>\n",
       "    <tr>\n",
       "      <th>parameters_tuning_time_sec</th>\n",
       "      <td>9655.06</td>\n",
       "      <td>842.28</td>\n",
       "    </tr>\n",
       "  </tbody>\n",
       "</table>\n",
       "</div>"
      ],
      "text/plain": [
       "                            1_CatBoost  2_LightGBM\n",
       "RMSE                           1584.29     1593.60\n",
       "train_time_sec                  236.51       74.78\n",
       "predict_time_sec                  3.21        2.43\n",
       "parameters_tuning_time_sec     9655.06      842.28"
      ]
     },
     "execution_count": 83,
     "metadata": {},
     "output_type": "execute_result"
    }
   ],
   "source": [
    "results['2_LightGBM'] = [score_lgbm, train_time, predict_time, elapsed_time_lgbm]\n",
    "results"
   ]
  },
  {
   "cell_type": "markdown",
   "metadata": {},
   "source": [
    "###  RandomForest"
   ]
  },
  {
   "cell_type": "code",
   "execution_count": 84,
   "metadata": {},
   "outputs": [],
   "source": [
    "model = RandomForestRegressor(random_state=RANDOM_STATE, verbose=1)"
   ]
  },
  {
   "cell_type": "code",
   "execution_count": 85,
   "metadata": {},
   "outputs": [
    {
     "name": "stderr",
     "output_type": "stream",
     "text": [
      "[Parallel(n_jobs=1)]: Using backend SequentialBackend with 1 concurrent workers.\n",
      "[Parallel(n_jobs=1)]: Done 100 out of 100 | elapsed:   37.6s finished\n",
      "[Parallel(n_jobs=1)]: Using backend SequentialBackend with 1 concurrent workers.\n",
      "[Parallel(n_jobs=1)]: Done 100 out of 100 | elapsed:    0.5s finished\n",
      "[Parallel(n_jobs=1)]: Using backend SequentialBackend with 1 concurrent workers.\n",
      "[Parallel(n_jobs=1)]: Done 100 out of 100 | elapsed:   37.4s finished\n",
      "[Parallel(n_jobs=1)]: Using backend SequentialBackend with 1 concurrent workers.\n",
      "[Parallel(n_jobs=1)]: Done 100 out of 100 | elapsed:    0.4s finished\n",
      "[Parallel(n_jobs=1)]: Using backend SequentialBackend with 1 concurrent workers.\n",
      "[Parallel(n_jobs=1)]: Done 100 out of 100 | elapsed:   37.1s finished\n",
      "[Parallel(n_jobs=1)]: Using backend SequentialBackend with 1 concurrent workers.\n",
      "[Parallel(n_jobs=1)]: Done 100 out of 100 | elapsed:    0.4s finished\n",
      "[Parallel(n_jobs=1)]: Using backend SequentialBackend with 1 concurrent workers.\n",
      "[Parallel(n_jobs=1)]: Done 100 out of 100 | elapsed:  1.0min finished\n",
      "[Parallel(n_jobs=1)]: Using backend SequentialBackend with 1 concurrent workers.\n",
      "[Parallel(n_jobs=1)]: Done 100 out of 100 | elapsed:    1.3s finished\n"
     ]
    }
   ],
   "source": [
    "param_rf = {'n_estimators':[100], 'max_depth':[8]}\n",
    "gs_rf = GridSearchCV(estimator=model,\n",
    "                     param_grid=param_rf,\n",
    "                     cv=3,\n",
    "                     scoring='neg_root_mean_squared_error')\n",
    "\n",
    "start_time=time.time()\n",
    "gs_rf.fit(train_ohe[X_ohe], train_ohe[y])\n",
    "end_time=time.time()\n",
    "elapsed_time_rf = end_time - start_time\n",
    "best_rf = gs_rf.best_params_\n",
    "score_rf = - gs_rf.best_score_\n",
    "score_2_rf = mean_squared_error(train_ohe[y], gs_rf.predict(train_ohe[X_ohe]))**0.5"
   ]
  },
  {
   "cell_type": "code",
   "execution_count": 86,
   "metadata": {},
   "outputs": [],
   "source": [
    "model=RandomForestRegressor(**best_rf)\n",
    "\n",
    "start_time = time.time()\n",
    "model.fit(train_ohe[X_ohe], train_ohe[y])\n",
    "end_time = time.time()\n",
    "\n",
    "train_time = end_time - start_time\n",
    "\n",
    "start_time = time.time()\n",
    "predict = model.predict(train_ohe[X_ohe])\n",
    "end_time = time.time()\n",
    "\n",
    "predict_time = end_time - start_time"
   ]
  },
  {
   "cell_type": "code",
   "execution_count": 87,
   "metadata": {},
   "outputs": [
    {
     "name": "stdout",
     "output_type": "stream",
     "text": [
      "Лучшие параметры = {'max_depth': 8, 'n_estimators': 100}\n",
      "RMSE модели на кросс валидации после подбора гиперпараметров = 1955.74\n",
      "Поиск оптимальных гиперпараметров занимает 175.02 секунд.\n"
     ]
    }
   ],
   "source": [
    "print(f'Лучшие параметры = {best_rf}')\n",
    "print(f'RMSE модели на кросс валидации после подбора гиперпараметров = {score_rf:.2f}')\n",
    "print(f'Поиск оптимальных гиперпараметров занимает {elapsed_time_rf:.2f} секунд.')"
   ]
  },
  {
   "cell_type": "code",
   "execution_count": 88,
   "metadata": {},
   "outputs": [
    {
     "data": {
      "text/html": [
       "<div>\n",
       "<style scoped>\n",
       "    .dataframe tbody tr th:only-of-type {\n",
       "        vertical-align: middle;\n",
       "    }\n",
       "\n",
       "    .dataframe tbody tr th {\n",
       "        vertical-align: top;\n",
       "    }\n",
       "\n",
       "    .dataframe thead th {\n",
       "        text-align: right;\n",
       "    }\n",
       "</style>\n",
       "<table border=\"1\" class=\"dataframe\">\n",
       "  <thead>\n",
       "    <tr style=\"text-align: right;\">\n",
       "      <th></th>\n",
       "      <th>1_CatBoost</th>\n",
       "      <th>2_LightGBM</th>\n",
       "      <th>3_RandomForest</th>\n",
       "    </tr>\n",
       "  </thead>\n",
       "  <tbody>\n",
       "    <tr>\n",
       "      <th>RMSE</th>\n",
       "      <td>1584.29</td>\n",
       "      <td>1593.60</td>\n",
       "      <td>1955.74</td>\n",
       "    </tr>\n",
       "    <tr>\n",
       "      <th>train_time_sec</th>\n",
       "      <td>236.51</td>\n",
       "      <td>74.78</td>\n",
       "      <td>61.98</td>\n",
       "    </tr>\n",
       "    <tr>\n",
       "      <th>predict_time_sec</th>\n",
       "      <td>3.21</td>\n",
       "      <td>2.43</td>\n",
       "      <td>1.39</td>\n",
       "    </tr>\n",
       "    <tr>\n",
       "      <th>parameters_tuning_time_sec</th>\n",
       "      <td>9655.06</td>\n",
       "      <td>842.28</td>\n",
       "      <td>175.02</td>\n",
       "    </tr>\n",
       "  </tbody>\n",
       "</table>\n",
       "</div>"
      ],
      "text/plain": [
       "                            1_CatBoost  2_LightGBM  3_RandomForest\n",
       "RMSE                           1584.29     1593.60         1955.74\n",
       "train_time_sec                  236.51       74.78           61.98\n",
       "predict_time_sec                  3.21        2.43            1.39\n",
       "parameters_tuning_time_sec     9655.06      842.28          175.02"
      ]
     },
     "execution_count": 88,
     "metadata": {},
     "output_type": "execute_result"
    }
   ],
   "source": [
    "results['3_RandomForest'] = [score_rf, train_time, predict_time, elapsed_time_rf]\n",
    "results"
   ]
  },
  {
   "cell_type": "markdown",
   "metadata": {},
   "source": [
    "**Вывод**\n",
    "\n",
    "Был исследован результат работы 3-ёх моделей (CatBoost, LGMB, RandomForest), сохранены показатели RMSE, а также времени обучения и предсказания моделей."
   ]
  },
  {
   "cell_type": "markdown",
   "metadata": {},
   "source": [
    "## Анализ моделей"
   ]
  },
  {
   "cell_type": "code",
   "execution_count": 89,
   "metadata": {},
   "outputs": [
    {
     "data": {
      "text/html": [
       "<style  type=\"text/css\" >\n",
       "#T_19a44_row0_col0,#T_19a44_row2_col1,#T_19a44_row2_col2,#T_19a44_row2_col3{\n",
       "            background-color:  green;\n",
       "        }#T_19a44_row0_col1,#T_19a44_row0_col2,#T_19a44_row0_col3,#T_19a44_row2_col0{\n",
       "            background-color:  red;\n",
       "        }</style><table id=\"T_19a44_\" ><thead>    <tr>        <th class=\"blank level0\" ></th>        <th class=\"col_heading level0 col0\" >RMSE</th>        <th class=\"col_heading level0 col1\" >train_time_sec</th>        <th class=\"col_heading level0 col2\" >predict_time_sec</th>        <th class=\"col_heading level0 col3\" >parameters_tuning_time_sec</th>    </tr></thead><tbody>\n",
       "                <tr>\n",
       "                        <th id=\"T_19a44_level0_row0\" class=\"row_heading level0 row0\" >1_CatBoost</th>\n",
       "                        <td id=\"T_19a44_row0_col0\" class=\"data row0 col0\" >1584.29</td>\n",
       "                        <td id=\"T_19a44_row0_col1\" class=\"data row0 col1\" >236.51</td>\n",
       "                        <td id=\"T_19a44_row0_col2\" class=\"data row0 col2\" >3.21</td>\n",
       "                        <td id=\"T_19a44_row0_col3\" class=\"data row0 col3\" >9655.06</td>\n",
       "            </tr>\n",
       "            <tr>\n",
       "                        <th id=\"T_19a44_level0_row1\" class=\"row_heading level0 row1\" >2_LightGBM</th>\n",
       "                        <td id=\"T_19a44_row1_col0\" class=\"data row1 col0\" >1593.60</td>\n",
       "                        <td id=\"T_19a44_row1_col1\" class=\"data row1 col1\" >74.78</td>\n",
       "                        <td id=\"T_19a44_row1_col2\" class=\"data row1 col2\" >2.43</td>\n",
       "                        <td id=\"T_19a44_row1_col3\" class=\"data row1 col3\" >842.28</td>\n",
       "            </tr>\n",
       "            <tr>\n",
       "                        <th id=\"T_19a44_level0_row2\" class=\"row_heading level0 row2\" >3_RandomForest</th>\n",
       "                        <td id=\"T_19a44_row2_col0\" class=\"data row2 col0\" >1955.74</td>\n",
       "                        <td id=\"T_19a44_row2_col1\" class=\"data row2 col1\" >61.98</td>\n",
       "                        <td id=\"T_19a44_row2_col2\" class=\"data row2 col2\" >1.39</td>\n",
       "                        <td id=\"T_19a44_row2_col3\" class=\"data row2 col3\" >175.02</td>\n",
       "            </tr>\n",
       "    </tbody></table>"
      ],
      "text/plain": [
       "<pandas.io.formats.style.Styler at 0x7f329697f1c0>"
      ]
     },
     "execution_count": 89,
     "metadata": {},
     "output_type": "execute_result"
    }
   ],
   "source": [
    "(results.T.style.format('{:.2f}', na_rep='-')\n",
    "                .highlight_min(color='green')\n",
    "                .highlight_max(color='red')\n",
    ")"
   ]
  },
  {
   "cell_type": "markdown",
   "metadata": {},
   "source": [
    "**Вывод**\n",
    "\n",
    "Наилучшим качеством обладает модель CatBoost.\n",
    "По скорости обучения и предсказания лучше себя показывает модель LightGBM.\n",
    "\n",
    "С учётом незначительной разницы в скорости предсказания, рекомендуется использование модели CatBoost.\n",
    "В случае, если необходимо учитывать и время на перебор гиперпараметров, рекомендуется использовать LightGBM."
   ]
  },
  {
   "cell_type": "markdown",
   "metadata": {},
   "source": [
    "## Проверка модели на тестовой выборке"
   ]
  },
  {
   "cell_type": "code",
   "execution_count": 90,
   "metadata": {},
   "outputs": [],
   "source": [
    "model = CatBoostRegressor(**best_cb, random_seed=RANDOM_SEED, verbose=100)"
   ]
  },
  {
   "cell_type": "code",
   "execution_count": 91,
   "metadata": {},
   "outputs": [
    {
     "name": "stdout",
     "output_type": "stream",
     "text": [
      "0:\tlearn: 3721.9933691\ttotal: 370ms\tremaining: 6m 9s\n",
      "100:\tlearn: 1567.9135524\ttotal: 24.6s\tremaining: 3m 39s\n",
      "200:\tlearn: 1498.9944752\ttotal: 49.8s\tremaining: 3m 17s\n",
      "300:\tlearn: 1460.2665635\ttotal: 1m 14s\tremaining: 2m 54s\n",
      "400:\tlearn: 1431.3895160\ttotal: 1m 40s\tremaining: 2m 30s\n",
      "500:\tlearn: 1409.3642138\ttotal: 2m 6s\tremaining: 2m 6s\n",
      "600:\tlearn: 1390.8374737\ttotal: 2m 32s\tremaining: 1m 41s\n",
      "700:\tlearn: 1375.0525628\ttotal: 2m 58s\tremaining: 1m 16s\n",
      "800:\tlearn: 1360.5478919\ttotal: 3m 23s\tremaining: 50.6s\n",
      "900:\tlearn: 1346.9574986\ttotal: 3m 50s\tremaining: 25.3s\n",
      "999:\tlearn: 1334.5528664\ttotal: 4m 16s\tremaining: 0us\n"
     ]
    },
    {
     "data": {
      "text/plain": [
       "<catboost.core.CatBoostRegressor at 0x7f3295bb40a0>"
      ]
     },
     "execution_count": 91,
     "metadata": {},
     "output_type": "execute_result"
    }
   ],
   "source": [
    "model.fit(train[X], train[y], cat_features=cat_features)"
   ]
  },
  {
   "cell_type": "code",
   "execution_count": 92,
   "metadata": {},
   "outputs": [
    {
     "name": "stdout",
     "output_type": "stream",
     "text": [
      "Модель <catboost.core.CatBoostRegressor object at 0x7f3295bb40a0>\n",
      "с параметрами {'depth': 8, 'l2_leaf_reg': 3, 'learning_rate': 0.3}\n",
      "на тестовой выборке показывает RMSE 1560.28\n"
     ]
    }
   ],
   "source": [
    "predict_test_cb = model.predict(test[X])\n",
    "print(f'Модель {model}\\nс параметрами {best_cb}\\nна тестовой выборке показывает RMSE {mean_squared_error(test[y], predict_test_cb)**0.5:.2f}')"
   ]
  },
  {
   "cell_type": "code",
   "execution_count": 94,
   "metadata": {},
   "outputs": [],
   "source": [
    "model = LGBMRegressor(**best_lgbm)\n",
    "model.fit(train[X], train[y])\n",
    "predict_test_lgbm = model.predict(test[X])"
   ]
  },
  {
   "cell_type": "code",
   "execution_count": 95,
   "metadata": {},
   "outputs": [],
   "source": [
    "model = RandomForestRegressor(**best_rf)\n",
    "model.fit(train_ohe[X_ohe], train_ohe[y])\n",
    "predict_test_rf = model.predict(test_ohe[X_ohe])"
   ]
  },
  {
   "cell_type": "code",
   "execution_count": 96,
   "metadata": {},
   "outputs": [
    {
     "data": {
      "text/html": [
       "<div>\n",
       "<style scoped>\n",
       "    .dataframe tbody tr th:only-of-type {\n",
       "        vertical-align: middle;\n",
       "    }\n",
       "\n",
       "    .dataframe tbody tr th {\n",
       "        vertical-align: top;\n",
       "    }\n",
       "\n",
       "    .dataframe thead th {\n",
       "        text-align: right;\n",
       "    }\n",
       "</style>\n",
       "<table border=\"1\" class=\"dataframe\">\n",
       "  <thead>\n",
       "    <tr style=\"text-align: right;\">\n",
       "      <th></th>\n",
       "      <th>1_CatBost</th>\n",
       "      <th>2_LGBM</th>\n",
       "      <th>3_RandomForest</th>\n",
       "    </tr>\n",
       "  </thead>\n",
       "  <tbody>\n",
       "    <tr>\n",
       "      <th>RMSE_test</th>\n",
       "      <td>1560.28</td>\n",
       "      <td>1570.00</td>\n",
       "      <td>1978.94</td>\n",
       "    </tr>\n",
       "  </tbody>\n",
       "</table>\n",
       "</div>"
      ],
      "text/plain": [
       "           1_CatBost  2_LGBM  3_RandomForest\n",
       "RMSE_test    1560.28 1570.00         1978.94"
      ]
     },
     "execution_count": 96,
     "metadata": {},
     "output_type": "execute_result"
    }
   ],
   "source": [
    "results_test = pd.DataFrame(index = ['RMSE_test'])\n",
    "results_test['1_CatBost'] = [mean_squared_error(test[y], predict_test_cb)**0.5]\n",
    "results_test['2_LGBM'] = [mean_squared_error(test_ohe[y], predict_test_lgbm)**0.5]\n",
    "results_test['3_RandomForest'] = [mean_squared_error(test_ohe[y], predict_test_rf)**0.5]\n",
    "results_test"
   ]
  },
  {
   "cell_type": "markdown",
   "metadata": {},
   "source": [
    "## Сравнение лучшей модели с dummy моделью(mean)"
   ]
  },
  {
   "cell_type": "code",
   "execution_count": 97,
   "metadata": {},
   "outputs": [],
   "source": [
    "test['dummy_price'] = train['price'].mean()"
   ]
  },
  {
   "cell_type": "code",
   "execution_count": 98,
   "metadata": {},
   "outputs": [
    {
     "name": "stdout",
     "output_type": "stream",
     "text": [
      "RMSE dummy(mean) модели на тестовой выборке 4679.68\n"
     ]
    }
   ],
   "source": [
    "print(f'RMSE dummy(mean) модели на тестовой выборке {mean_squared_error(test[y], test[\"dummy_price\"])**0.5:.2f}')"
   ]
  },
  {
   "cell_type": "code",
   "execution_count": 99,
   "metadata": {},
   "outputs": [
    {
     "data": {
      "text/html": [
       "<div>\n",
       "<style scoped>\n",
       "    .dataframe tbody tr th:only-of-type {\n",
       "        vertical-align: middle;\n",
       "    }\n",
       "\n",
       "    .dataframe tbody tr th {\n",
       "        vertical-align: top;\n",
       "    }\n",
       "\n",
       "    .dataframe thead th {\n",
       "        text-align: right;\n",
       "    }\n",
       "</style>\n",
       "<table border=\"1\" class=\"dataframe\">\n",
       "  <thead>\n",
       "    <tr style=\"text-align: right;\">\n",
       "      <th></th>\n",
       "      <th>1_CatBost</th>\n",
       "      <th>2_LGBM</th>\n",
       "      <th>3_RandomForest</th>\n",
       "      <th>4_dummy(mean)</th>\n",
       "    </tr>\n",
       "  </thead>\n",
       "  <tbody>\n",
       "    <tr>\n",
       "      <th>RMSE_test</th>\n",
       "      <td>1560.28</td>\n",
       "      <td>1570.00</td>\n",
       "      <td>1978.94</td>\n",
       "      <td>4679.68</td>\n",
       "    </tr>\n",
       "  </tbody>\n",
       "</table>\n",
       "</div>"
      ],
      "text/plain": [
       "           1_CatBost  2_LGBM  3_RandomForest  4_dummy(mean)\n",
       "RMSE_test    1560.28 1570.00         1978.94        4679.68"
      ]
     },
     "execution_count": 99,
     "metadata": {},
     "output_type": "execute_result"
    }
   ],
   "source": [
    "results_test['4_dummy(mean)'] = [mean_squared_error(test[y], test[\"dummy_price\"])**0.5]\n",
    "results_test"
   ]
  },
  {
   "cell_type": "code",
   "execution_count": 100,
   "metadata": {},
   "outputs": [],
   "source": [
    "test = test.drop('dummy_price', axis=1)"
   ]
  },
  {
   "cell_type": "markdown",
   "metadata": {},
   "source": [
    "## Финальный вывод"
   ]
  },
  {
   "cell_type": "markdown",
   "metadata": {},
   "source": [
    "На этапе предобработки данных:\n",
    "- Удалены объекты с пропусками в признаке `model`;\n",
    "- Пропуски в признаке `repaired` заполнены как `no info`;\n",
    "- Пропуски в признаках `vehicle_type`, `fuel_type` и `gearbox` были заполнены наиболее часто встречающимися значениями связки `brand` + `model`;\n",
    "- Удалены признаки `date_crawled`, `date_created`, `last_seen`, `registration_month`, `number_of_pictures`, `postal_code`;\n",
    "- Удалены полные дубликаты;\n",
    "- Удалены объекты мощность которых менее 50 л.с. и более 700 л.с.;\n",
    "- Удалены объекты год регистрации которых не более 1986 и более 2016;\n",
    "- Удалены объекты с нулевой стоимостью.\n",
    "Итого было удалено 18.33% исходного датасета.\n",
    "\n",
    "\n",
    "На этапе подготовки данных для обучения моделей было осуществлено масштабирование численных признаков, а также кодирование категориальных.\n",
    "\n",
    "На этапе обучения моделей был исследован результат работы 3-ёх моделей (CatBoost, LGMB, RandomForest), подобраны гиперпараметры, сохранены показатели качества моделей, а также времени обучения и предсказания.\n",
    "\n",
    "На этапе анализа было предложено использование оптимальной модели - CatBoost.\n",
    "\n",
    "На тестовой выборке RMSE модели = 1560."
   ]
  }
 ],
 "metadata": {
  "ExecuteTimeLog": [
   {
    "duration": 1584,
    "start_time": "2023-05-24T13:58:07.654Z"
   },
   {
    "duration": 4,
    "start_time": "2023-05-24T13:58:10.771Z"
   },
   {
    "duration": 2949,
    "start_time": "2023-05-24T13:58:22.310Z"
   },
   {
    "duration": 859,
    "start_time": "2023-05-24T13:59:25.466Z"
   },
   {
    "duration": 18,
    "start_time": "2023-05-24T14:01:02.550Z"
   },
   {
    "duration": 114,
    "start_time": "2023-05-24T14:01:41.893Z"
   },
   {
    "duration": 92,
    "start_time": "2023-05-24T14:03:56.686Z"
   },
   {
    "duration": 417,
    "start_time": "2023-05-24T14:05:15.984Z"
   },
   {
    "duration": 122,
    "start_time": "2023-05-24T14:05:36.725Z"
   },
   {
    "duration": 479,
    "start_time": "2023-05-24T14:05:43.471Z"
   },
   {
    "duration": 13,
    "start_time": "2023-05-24T14:07:24.554Z"
   },
   {
    "duration": 10,
    "start_time": "2023-05-24T14:08:18.668Z"
   },
   {
    "duration": 5,
    "start_time": "2023-05-24T14:08:22.406Z"
   },
   {
    "duration": 482,
    "start_time": "2023-05-24T14:08:32.483Z"
   },
   {
    "duration": 9,
    "start_time": "2023-05-24T14:08:37.079Z"
   },
   {
    "duration": 9,
    "start_time": "2023-05-24T14:08:46.970Z"
   },
   {
    "duration": 3,
    "start_time": "2023-05-24T14:08:51.082Z"
   },
   {
    "duration": 5,
    "start_time": "2023-05-24T14:08:55.426Z"
   },
   {
    "duration": 8,
    "start_time": "2023-05-24T14:08:55.432Z"
   },
   {
    "duration": 894,
    "start_time": "2023-05-24T14:08:55.442Z"
   },
   {
    "duration": 20,
    "start_time": "2023-05-24T14:08:56.339Z"
   },
   {
    "duration": 142,
    "start_time": "2023-05-24T14:08:56.362Z"
   },
   {
    "duration": 106,
    "start_time": "2023-05-24T14:08:56.505Z"
   },
   {
    "duration": 444,
    "start_time": "2023-05-24T14:08:56.613Z"
   },
   {
    "duration": 4,
    "start_time": "2023-05-24T14:08:57.059Z"
   },
   {
    "duration": 463,
    "start_time": "2023-05-24T14:08:57.065Z"
   },
   {
    "duration": 2,
    "start_time": "2023-05-24T14:08:57.530Z"
   },
   {
    "duration": 3,
    "start_time": "2023-05-24T14:09:01.466Z"
   },
   {
    "duration": 11,
    "start_time": "2023-05-24T14:09:03.466Z"
   },
   {
    "duration": 9,
    "start_time": "2023-05-24T14:09:04.863Z"
   },
   {
    "duration": 10,
    "start_time": "2023-05-24T14:09:06.270Z"
   },
   {
    "duration": 4,
    "start_time": "2023-05-24T14:09:15.671Z"
   },
   {
    "duration": 9,
    "start_time": "2023-05-24T14:09:15.677Z"
   },
   {
    "duration": 752,
    "start_time": "2023-05-24T14:09:15.688Z"
   },
   {
    "duration": 16,
    "start_time": "2023-05-24T14:09:16.442Z"
   },
   {
    "duration": 107,
    "start_time": "2023-05-24T14:09:16.461Z"
   },
   {
    "duration": 101,
    "start_time": "2023-05-24T14:09:16.570Z"
   },
   {
    "duration": 452,
    "start_time": "2023-05-24T14:09:16.673Z"
   },
   {
    "duration": 4,
    "start_time": "2023-05-24T14:09:17.127Z"
   },
   {
    "duration": 450,
    "start_time": "2023-05-24T14:09:17.132Z"
   },
   {
    "duration": 25,
    "start_time": "2023-05-24T14:09:17.584Z"
   },
   {
    "duration": 5,
    "start_time": "2023-05-24T14:09:22.466Z"
   },
   {
    "duration": 4,
    "start_time": "2023-05-24T14:09:37.258Z"
   },
   {
    "duration": 5,
    "start_time": "2023-05-24T14:10:19.123Z"
   },
   {
    "duration": 192,
    "start_time": "2023-05-24T14:10:19.503Z"
   },
   {
    "duration": 4,
    "start_time": "2023-05-24T14:11:47.870Z"
   },
   {
    "duration": 191,
    "start_time": "2023-05-24T14:11:48.186Z"
   },
   {
    "duration": 12,
    "start_time": "2023-05-24T14:15:13.185Z"
   },
   {
    "duration": 12,
    "start_time": "2023-05-24T14:15:23.066Z"
   },
   {
    "duration": 11,
    "start_time": "2023-05-24T14:15:26.166Z"
   },
   {
    "duration": 194,
    "start_time": "2023-05-24T14:17:30.672Z"
   },
   {
    "duration": 165,
    "start_time": "2023-05-24T14:17:57.970Z"
   },
   {
    "duration": 89,
    "start_time": "2023-05-24T17:33:09.110Z"
   },
   {
    "duration": 15,
    "start_time": "2023-05-24T17:33:13.173Z"
   },
   {
    "duration": 93,
    "start_time": "2023-05-24T17:33:17.971Z"
   },
   {
    "duration": 11,
    "start_time": "2023-05-24T17:33:36.722Z"
   },
   {
    "duration": 10,
    "start_time": "2023-05-24T17:35:13.260Z"
   },
   {
    "duration": 4,
    "start_time": "2023-05-24T17:36:03.194Z"
   },
   {
    "duration": 16,
    "start_time": "2023-05-24T17:36:03.200Z"
   },
   {
    "duration": 815,
    "start_time": "2023-05-24T17:36:03.217Z"
   },
   {
    "duration": 23,
    "start_time": "2023-05-24T17:36:04.034Z"
   },
   {
    "duration": 115,
    "start_time": "2023-05-24T17:36:04.060Z"
   },
   {
    "duration": 77,
    "start_time": "2023-05-24T17:36:07.046Z"
   },
   {
    "duration": 58,
    "start_time": "2023-05-24T17:36:11.034Z"
   },
   {
    "duration": 80,
    "start_time": "2023-05-24T17:36:16.380Z"
   },
   {
    "duration": 12,
    "start_time": "2023-05-24T17:36:19.340Z"
   },
   {
    "duration": 10,
    "start_time": "2023-05-24T17:37:12.551Z"
   },
   {
    "duration": 11,
    "start_time": "2023-05-24T17:37:14.927Z"
   },
   {
    "duration": 10,
    "start_time": "2023-05-24T17:37:21.019Z"
   },
   {
    "duration": 9,
    "start_time": "2023-05-24T17:38:46.692Z"
   },
   {
    "duration": 10,
    "start_time": "2023-05-24T17:39:48.688Z"
   },
   {
    "duration": 6,
    "start_time": "2023-05-24T17:41:44.066Z"
   },
   {
    "duration": 7,
    "start_time": "2023-05-24T17:41:44.074Z"
   },
   {
    "duration": 725,
    "start_time": "2023-05-24T17:41:44.083Z"
   },
   {
    "duration": 14,
    "start_time": "2023-05-24T17:41:44.810Z"
   },
   {
    "duration": 113,
    "start_time": "2023-05-24T17:41:44.826Z"
   },
   {
    "duration": 2,
    "start_time": "2023-05-24T17:41:44.941Z"
   },
   {
    "duration": 19,
    "start_time": "2023-05-24T17:41:44.945Z"
   },
   {
    "duration": 75,
    "start_time": "2023-05-24T17:42:57.407Z"
   },
   {
    "duration": 10,
    "start_time": "2023-05-24T17:43:08.244Z"
   },
   {
    "duration": 35,
    "start_time": "2023-05-24T17:43:11.574Z"
   },
   {
    "duration": 33,
    "start_time": "2023-05-24T17:43:25.975Z"
   },
   {
    "duration": 14,
    "start_time": "2023-05-24T17:43:29.282Z"
   },
   {
    "duration": 145,
    "start_time": "2023-05-24T17:43:43.235Z"
   },
   {
    "duration": 179,
    "start_time": "2023-05-24T17:44:12.732Z"
   },
   {
    "duration": 314,
    "start_time": "2023-05-24T17:44:35.308Z"
   },
   {
    "duration": 380,
    "start_time": "2023-05-24T17:44:43.224Z"
   },
   {
    "duration": 409,
    "start_time": "2023-05-24T17:46:33.921Z"
   },
   {
    "duration": 96,
    "start_time": "2023-05-24T17:47:49.552Z"
   },
   {
    "duration": 5,
    "start_time": "2023-05-24T17:48:03.997Z"
   },
   {
    "duration": 5,
    "start_time": "2023-05-24T17:48:04.005Z"
   },
   {
    "duration": 829,
    "start_time": "2023-05-24T17:48:04.012Z"
   },
   {
    "duration": 29,
    "start_time": "2023-05-24T17:48:04.843Z"
   },
   {
    "duration": 162,
    "start_time": "2023-05-24T17:48:04.874Z"
   },
   {
    "duration": 1406,
    "start_time": "2023-05-24T17:48:05.038Z"
   },
   {
    "duration": 1220,
    "start_time": "2023-05-24T17:48:39.582Z"
   },
   {
    "duration": 1381,
    "start_time": "2023-05-24T17:49:05.848Z"
   },
   {
    "duration": 1320,
    "start_time": "2023-05-24T17:49:08.464Z"
   },
   {
    "duration": 700,
    "start_time": "2023-05-24T17:49:40.499Z"
   },
   {
    "duration": 18,
    "start_time": "2023-05-24T17:52:18.420Z"
   },
   {
    "duration": 13,
    "start_time": "2023-05-24T17:52:19.146Z"
   },
   {
    "duration": 78,
    "start_time": "2023-05-24T17:53:42.872Z"
   },
   {
    "duration": 22,
    "start_time": "2023-05-24T17:54:59.574Z"
   },
   {
    "duration": 12,
    "start_time": "2023-05-24T17:55:02.587Z"
   },
   {
    "duration": 11,
    "start_time": "2023-05-24T17:55:25.587Z"
   },
   {
    "duration": 47,
    "start_time": "2023-05-24T17:56:40.622Z"
   },
   {
    "duration": 23,
    "start_time": "2023-05-24T17:56:56.122Z"
   },
   {
    "duration": 11,
    "start_time": "2023-05-24T17:57:56.376Z"
   },
   {
    "duration": 62,
    "start_time": "2023-05-24T17:58:05.980Z"
   },
   {
    "duration": 63,
    "start_time": "2023-05-24T17:58:12.305Z"
   },
   {
    "duration": 57,
    "start_time": "2023-05-24T17:58:19.588Z"
   },
   {
    "duration": 96,
    "start_time": "2023-05-24T17:58:41.654Z"
   },
   {
    "duration": 30,
    "start_time": "2023-05-24T17:59:18.706Z"
   },
   {
    "duration": 60,
    "start_time": "2023-05-24T17:59:38.131Z"
   },
   {
    "duration": 24,
    "start_time": "2023-05-24T17:59:44.629Z"
   },
   {
    "duration": 50,
    "start_time": "2023-05-24T17:59:48.222Z"
   },
   {
    "duration": 51,
    "start_time": "2023-05-24T17:59:59.556Z"
   },
   {
    "duration": 41,
    "start_time": "2023-05-24T18:00:21.671Z"
   },
   {
    "duration": 36,
    "start_time": "2023-05-24T18:01:01.511Z"
   },
   {
    "duration": 2112,
    "start_time": "2023-05-25T09:52:05.501Z"
   },
   {
    "duration": 3,
    "start_time": "2023-05-25T09:52:07.616Z"
   },
   {
    "duration": 1148,
    "start_time": "2023-05-25T09:52:07.621Z"
   },
   {
    "duration": 18,
    "start_time": "2023-05-25T09:52:08.771Z"
   },
   {
    "duration": 166,
    "start_time": "2023-05-25T09:52:08.791Z"
   },
   {
    "duration": 109,
    "start_time": "2023-05-25T09:52:08.959Z"
   },
   {
    "duration": 4,
    "start_time": "2023-05-25T09:52:09.070Z"
   },
   {
    "duration": 482,
    "start_time": "2023-05-25T09:52:09.076Z"
   },
   {
    "duration": 525,
    "start_time": "2023-05-25T09:52:09.561Z"
   },
   {
    "duration": 4,
    "start_time": "2023-05-25T09:52:10.087Z"
   },
   {
    "duration": 13,
    "start_time": "2023-05-25T09:52:10.093Z"
   },
   {
    "duration": 273,
    "start_time": "2023-05-25T09:52:10.108Z"
   },
   {
    "duration": 21,
    "start_time": "2023-05-25T09:52:10.382Z"
   },
   {
    "duration": 40,
    "start_time": "2023-05-25T09:52:10.405Z"
   },
   {
    "duration": 63,
    "start_time": "2023-05-25T09:52:10.447Z"
   },
   {
    "duration": 72,
    "start_time": "2023-05-25T09:52:10.513Z"
   },
   {
    "duration": 118,
    "start_time": "2023-05-25T09:52:10.587Z"
   },
   {
    "duration": 0,
    "start_time": "2023-05-25T09:52:10.707Z"
   },
   {
    "duration": 0,
    "start_time": "2023-05-25T09:52:10.708Z"
   },
   {
    "duration": 0,
    "start_time": "2023-05-25T09:52:10.709Z"
   },
   {
    "duration": 0,
    "start_time": "2023-05-25T09:52:10.710Z"
   },
   {
    "duration": 46,
    "start_time": "2023-05-25T09:54:55.283Z"
   },
   {
    "duration": 277,
    "start_time": "2023-05-25T09:55:19.016Z"
   },
   {
    "duration": 113066,
    "start_time": "2023-05-25T09:57:36.938Z"
   },
   {
    "duration": 28592,
    "start_time": "2023-05-25T09:59:49.925Z"
   },
   {
    "duration": 25,
    "start_time": "2023-05-25T10:00:57.976Z"
   },
   {
    "duration": 28230,
    "start_time": "2023-05-25T10:01:59.441Z"
   },
   {
    "duration": 0,
    "start_time": "2023-05-25T10:04:49.135Z"
   },
   {
    "duration": 1018,
    "start_time": "2023-05-25T10:04:53.144Z"
   },
   {
    "duration": 21,
    "start_time": "2023-05-25T10:05:48.663Z"
   },
   {
    "duration": 40,
    "start_time": "2023-05-25T10:06:11.140Z"
   },
   {
    "duration": 53,
    "start_time": "2023-05-25T10:06:20.844Z"
   },
   {
    "duration": 112,
    "start_time": "2023-05-25T10:06:58.874Z"
   },
   {
    "duration": 399,
    "start_time": "2023-05-25T10:07:12.496Z"
   },
   {
    "duration": 364,
    "start_time": "2023-05-25T10:07:58.344Z"
   },
   {
    "duration": 13730,
    "start_time": "2023-05-25T10:08:11.344Z"
   },
   {
    "duration": 39,
    "start_time": "2023-05-25T10:10:58.524Z"
   },
   {
    "duration": 54,
    "start_time": "2023-05-25T10:11:05.294Z"
   },
   {
    "duration": 49,
    "start_time": "2023-05-25T10:11:33.991Z"
   },
   {
    "duration": 74,
    "start_time": "2023-05-25T10:11:40.952Z"
   },
   {
    "duration": 51,
    "start_time": "2023-05-25T10:12:19.784Z"
   },
   {
    "duration": 185,
    "start_time": "2023-05-25T10:12:31.219Z"
   },
   {
    "duration": 58,
    "start_time": "2023-05-25T10:12:32.881Z"
   },
   {
    "duration": 57,
    "start_time": "2023-05-25T10:12:45.036Z"
   },
   {
    "duration": 4,
    "start_time": "2023-05-25T10:12:45.482Z"
   },
   {
    "duration": 167,
    "start_time": "2023-05-25T10:12:46.168Z"
   },
   {
    "duration": 5,
    "start_time": "2023-05-25T10:12:46.563Z"
   },
   {
    "duration": 12707,
    "start_time": "2023-05-25T10:13:18.333Z"
   },
   {
    "duration": 2347,
    "start_time": "2023-05-25T10:13:54.518Z"
   },
   {
    "duration": 26572,
    "start_time": "2023-05-25T10:14:00.549Z"
   },
   {
    "duration": 28024,
    "start_time": "2023-05-25T10:14:37.792Z"
   },
   {
    "duration": 273,
    "start_time": "2023-05-25T10:15:14.479Z"
   },
   {
    "duration": 259,
    "start_time": "2023-05-25T10:15:30.840Z"
   },
   {
    "duration": 20,
    "start_time": "2023-05-25T12:22:55.503Z"
   },
   {
    "duration": 6,
    "start_time": "2023-05-25T12:23:06.046Z"
   },
   {
    "duration": 5,
    "start_time": "2023-05-25T12:23:11.084Z"
   },
   {
    "duration": 4,
    "start_time": "2023-05-25T12:23:44.971Z"
   },
   {
    "duration": 90,
    "start_time": "2023-05-25T12:23:45.251Z"
   },
   {
    "duration": 5,
    "start_time": "2023-05-25T12:23:48.642Z"
   },
   {
    "duration": 8,
    "start_time": "2023-05-25T12:23:48.649Z"
   },
   {
    "duration": 963,
    "start_time": "2023-05-25T12:23:48.659Z"
   },
   {
    "duration": 14,
    "start_time": "2023-05-25T12:23:49.625Z"
   },
   {
    "duration": 160,
    "start_time": "2023-05-25T12:23:49.640Z"
   },
   {
    "duration": 5,
    "start_time": "2023-05-25T12:23:49.802Z"
   },
   {
    "duration": 6,
    "start_time": "2023-05-25T12:23:51.585Z"
   },
   {
    "duration": 102,
    "start_time": "2023-05-25T12:23:51.993Z"
   },
   {
    "duration": 845,
    "start_time": "2023-05-25T12:24:05.615Z"
   },
   {
    "duration": 23,
    "start_time": "2023-05-25T12:24:06.464Z"
   },
   {
    "duration": 173,
    "start_time": "2023-05-25T12:24:08.080Z"
   },
   {
    "duration": 5,
    "start_time": "2023-05-25T12:24:20.400Z"
   },
   {
    "duration": 98,
    "start_time": "2023-05-25T12:24:21.091Z"
   },
   {
    "duration": 4,
    "start_time": "2023-05-25T12:24:58.327Z"
   },
   {
    "duration": 10,
    "start_time": "2023-05-25T12:24:58.333Z"
   },
   {
    "duration": 738,
    "start_time": "2023-05-25T12:24:58.347Z"
   },
   {
    "duration": 12,
    "start_time": "2023-05-25T12:24:59.087Z"
   },
   {
    "duration": 129,
    "start_time": "2023-05-25T12:24:59.101Z"
   },
   {
    "duration": 5,
    "start_time": "2023-05-25T12:25:08.475Z"
   },
   {
    "duration": 323,
    "start_time": "2023-05-25T12:25:28.699Z"
   },
   {
    "duration": 8,
    "start_time": "2023-05-25T12:25:35.279Z"
   },
   {
    "duration": 14,
    "start_time": "2023-05-25T12:25:54.230Z"
   },
   {
    "duration": 5,
    "start_time": "2023-05-25T12:26:00.943Z"
   },
   {
    "duration": 68,
    "start_time": "2023-05-25T12:26:00.950Z"
   },
   {
    "duration": 857,
    "start_time": "2023-05-25T12:26:01.020Z"
   },
   {
    "duration": 15,
    "start_time": "2023-05-25T12:26:01.879Z"
   },
   {
    "duration": 186,
    "start_time": "2023-05-25T12:26:01.896Z"
   },
   {
    "duration": 19,
    "start_time": "2023-05-25T12:26:02.084Z"
   },
   {
    "duration": 96,
    "start_time": "2023-05-25T12:26:10.208Z"
   },
   {
    "duration": 7,
    "start_time": "2023-05-25T12:26:16.948Z"
   },
   {
    "duration": 419,
    "start_time": "2023-05-25T12:26:17.326Z"
   },
   {
    "duration": 467,
    "start_time": "2023-05-25T12:26:18.221Z"
   },
   {
    "duration": 6,
    "start_time": "2023-05-25T12:26:18.787Z"
   },
   {
    "duration": 4,
    "start_time": "2023-05-25T12:26:19.904Z"
   },
   {
    "duration": 278,
    "start_time": "2023-05-25T12:26:20.611Z"
   },
   {
    "duration": 23,
    "start_time": "2023-05-25T12:26:29.136Z"
   },
   {
    "duration": 14,
    "start_time": "2023-05-25T12:26:30.408Z"
   },
   {
    "duration": 6,
    "start_time": "2023-05-25T12:27:23.771Z"
   },
   {
    "duration": 1535,
    "start_time": "2023-05-25T12:27:23.979Z"
   },
   {
    "duration": 0,
    "start_time": "2023-05-25T12:27:25.515Z"
   },
   {
    "duration": 13,
    "start_time": "2023-05-25T12:27:38.245Z"
   },
   {
    "duration": 18,
    "start_time": "2023-05-25T12:27:38.261Z"
   },
   {
    "duration": 899,
    "start_time": "2023-05-25T12:27:38.281Z"
   },
   {
    "duration": 12,
    "start_time": "2023-05-25T12:27:39.183Z"
   },
   {
    "duration": 150,
    "start_time": "2023-05-25T12:27:39.197Z"
   },
   {
    "duration": 7,
    "start_time": "2023-05-25T12:27:39.356Z"
   },
   {
    "duration": 97,
    "start_time": "2023-05-25T12:27:39.367Z"
   },
   {
    "duration": 4,
    "start_time": "2023-05-25T12:27:39.466Z"
   },
   {
    "duration": 443,
    "start_time": "2023-05-25T12:27:39.471Z"
   },
   {
    "duration": 463,
    "start_time": "2023-05-25T12:27:39.916Z"
   },
   {
    "duration": 4,
    "start_time": "2023-05-25T12:27:40.381Z"
   },
   {
    "duration": 15,
    "start_time": "2023-05-25T12:27:40.386Z"
   },
   {
    "duration": 281,
    "start_time": "2023-05-25T12:27:40.403Z"
   },
   {
    "duration": 21,
    "start_time": "2023-05-25T12:27:40.685Z"
   },
   {
    "duration": 20,
    "start_time": "2023-05-25T12:27:40.708Z"
   },
   {
    "duration": 26,
    "start_time": "2023-05-25T12:27:40.730Z"
   },
   {
    "duration": 0,
    "start_time": "2023-05-25T12:27:40.767Z"
   },
   {
    "duration": 2,
    "start_time": "2023-05-25T12:27:53.589Z"
   },
   {
    "duration": 6,
    "start_time": "2023-05-25T12:27:54.474Z"
   },
   {
    "duration": 6,
    "start_time": "2023-05-25T12:27:57.991Z"
   },
   {
    "duration": 29286,
    "start_time": "2023-05-25T12:28:04.605Z"
   },
   {
    "duration": 1061,
    "start_time": "2023-05-25T12:28:33.893Z"
   },
   {
    "duration": 0,
    "start_time": "2023-05-25T12:28:34.956Z"
   },
   {
    "duration": 85,
    "start_time": "2023-05-25T12:28:40.959Z"
   },
   {
    "duration": 245,
    "start_time": "2023-05-25T12:28:54.872Z"
   },
   {
    "duration": 81,
    "start_time": "2023-05-25T12:29:15.314Z"
   },
   {
    "duration": 257,
    "start_time": "2023-05-25T12:29:18.574Z"
   },
   {
    "duration": 75,
    "start_time": "2023-05-25T12:29:28.745Z"
   },
   {
    "duration": 251,
    "start_time": "2023-05-25T12:29:30.012Z"
   },
   {
    "duration": 351,
    "start_time": "2023-05-25T12:32:33.239Z"
   },
   {
    "duration": 6,
    "start_time": "2023-05-25T12:32:37.921Z"
   },
   {
    "duration": 45,
    "start_time": "2023-05-25T12:32:37.931Z"
   },
   {
    "duration": 839,
    "start_time": "2023-05-25T12:32:37.978Z"
   },
   {
    "duration": 13,
    "start_time": "2023-05-25T12:32:38.819Z"
   },
   {
    "duration": 173,
    "start_time": "2023-05-25T12:32:38.845Z"
   },
   {
    "duration": 6,
    "start_time": "2023-05-25T12:32:39.020Z"
   },
   {
    "duration": 108,
    "start_time": "2023-05-25T12:32:39.029Z"
   },
   {
    "duration": 12,
    "start_time": "2023-05-25T12:32:39.146Z"
   },
   {
    "duration": 466,
    "start_time": "2023-05-25T12:32:39.159Z"
   },
   {
    "duration": 494,
    "start_time": "2023-05-25T12:32:39.627Z"
   },
   {
    "duration": 5,
    "start_time": "2023-05-25T12:32:40.123Z"
   },
   {
    "duration": 36,
    "start_time": "2023-05-25T12:32:40.130Z"
   },
   {
    "duration": 305,
    "start_time": "2023-05-25T12:32:40.168Z"
   },
   {
    "duration": 24,
    "start_time": "2023-05-25T12:32:40.477Z"
   },
   {
    "duration": 14,
    "start_time": "2023-05-25T12:32:40.503Z"
   },
   {
    "duration": 34,
    "start_time": "2023-05-25T12:32:46.630Z"
   },
   {
    "duration": 40,
    "start_time": "2023-05-25T12:32:48.700Z"
   },
   {
    "duration": 6,
    "start_time": "2023-05-25T12:32:59.034Z"
   },
   {
    "duration": 6,
    "start_time": "2023-05-25T12:33:21.273Z"
   },
   {
    "duration": 24,
    "start_time": "2023-05-25T12:33:21.281Z"
   },
   {
    "duration": 987,
    "start_time": "2023-05-25T12:33:21.307Z"
   },
   {
    "duration": 16,
    "start_time": "2023-05-25T12:33:22.297Z"
   },
   {
    "duration": 205,
    "start_time": "2023-05-25T12:33:22.315Z"
   },
   {
    "duration": 13,
    "start_time": "2023-05-25T12:33:22.522Z"
   },
   {
    "duration": 148,
    "start_time": "2023-05-25T12:33:22.537Z"
   },
   {
    "duration": 5,
    "start_time": "2023-05-25T12:33:22.688Z"
   },
   {
    "duration": 517,
    "start_time": "2023-05-25T12:33:22.695Z"
   },
   {
    "duration": 496,
    "start_time": "2023-05-25T12:33:23.215Z"
   },
   {
    "duration": 5,
    "start_time": "2023-05-25T12:33:23.713Z"
   },
   {
    "duration": 8,
    "start_time": "2023-05-25T12:33:23.720Z"
   },
   {
    "duration": 307,
    "start_time": "2023-05-25T12:33:23.730Z"
   },
   {
    "duration": 33,
    "start_time": "2023-05-25T12:33:24.046Z"
   },
   {
    "duration": 23,
    "start_time": "2023-05-25T12:33:27.438Z"
   },
   {
    "duration": 86,
    "start_time": "2023-05-25T12:34:18.248Z"
   },
   {
    "duration": 23,
    "start_time": "2023-05-25T12:34:19.270Z"
   },
   {
    "duration": 325,
    "start_time": "2023-05-25T12:34:22.388Z"
   },
   {
    "duration": 85967,
    "start_time": "2023-05-25T12:35:51.070Z"
   },
   {
    "duration": 317,
    "start_time": "2023-05-25T12:37:17.046Z"
   },
   {
    "duration": 265,
    "start_time": "2023-05-25T12:37:27.501Z"
   },
   {
    "duration": 13,
    "start_time": "2023-05-25T12:37:52.825Z"
   },
   {
    "duration": 1428,
    "start_time": "2023-05-25T12:38:01.483Z"
   },
   {
    "duration": 1257,
    "start_time": "2023-05-25T12:38:28.676Z"
   },
   {
    "duration": 17,
    "start_time": "2023-05-25T12:38:59.670Z"
   },
   {
    "duration": 11,
    "start_time": "2023-05-25T12:39:00.447Z"
   },
   {
    "duration": 18,
    "start_time": "2023-05-25T12:40:16.253Z"
   },
   {
    "duration": 12,
    "start_time": "2023-05-25T12:40:20.704Z"
   },
   {
    "duration": 5,
    "start_time": "2023-05-25T12:40:24.937Z"
   },
   {
    "duration": 17,
    "start_time": "2023-05-25T12:40:24.945Z"
   },
   {
    "duration": 1120,
    "start_time": "2023-05-25T12:40:24.965Z"
   },
   {
    "duration": 15,
    "start_time": "2023-05-25T12:40:26.087Z"
   },
   {
    "duration": 161,
    "start_time": "2023-05-25T12:40:26.104Z"
   },
   {
    "duration": 24,
    "start_time": "2023-05-25T12:40:26.268Z"
   },
   {
    "duration": 130,
    "start_time": "2023-05-25T12:40:26.295Z"
   },
   {
    "duration": 5,
    "start_time": "2023-05-25T12:40:26.427Z"
   },
   {
    "duration": 435,
    "start_time": "2023-05-25T12:40:26.447Z"
   },
   {
    "duration": 441,
    "start_time": "2023-05-25T12:40:26.885Z"
   },
   {
    "duration": 3,
    "start_time": "2023-05-25T12:40:27.328Z"
   },
   {
    "duration": 14,
    "start_time": "2023-05-25T12:40:27.333Z"
   },
   {
    "duration": 275,
    "start_time": "2023-05-25T12:40:27.349Z"
   },
   {
    "duration": 30,
    "start_time": "2023-05-25T12:40:27.625Z"
   },
   {
    "duration": 34,
    "start_time": "2023-05-25T12:40:27.657Z"
   },
   {
    "duration": 67,
    "start_time": "2023-05-25T12:40:27.693Z"
   },
   {
    "duration": 84361,
    "start_time": "2023-05-25T12:40:27.762Z"
   },
   {
    "duration": 325,
    "start_time": "2023-05-25T12:41:52.124Z"
   },
   {
    "duration": 1319,
    "start_time": "2023-05-25T12:41:52.458Z"
   },
   {
    "duration": 1251,
    "start_time": "2023-05-25T12:41:53.778Z"
   },
   {
    "duration": 31,
    "start_time": "2023-05-25T12:41:55.031Z"
   },
   {
    "duration": 25,
    "start_time": "2023-05-25T12:41:55.064Z"
   },
   {
    "duration": 3,
    "start_time": "2023-05-25T13:08:20.448Z"
   },
   {
    "duration": 4,
    "start_time": "2023-05-25T13:08:23.541Z"
   },
   {
    "duration": 5,
    "start_time": "2023-05-25T13:08:30.953Z"
   },
   {
    "duration": 5,
    "start_time": "2023-05-25T13:08:32.092Z"
   },
   {
    "duration": 5,
    "start_time": "2023-05-25T13:08:36.369Z"
   },
   {
    "duration": 4,
    "start_time": "2023-05-25T13:08:48.825Z"
   },
   {
    "duration": 4,
    "start_time": "2023-05-25T13:08:52.144Z"
   },
   {
    "duration": 476,
    "start_time": "2023-05-25T13:09:06.034Z"
   },
   {
    "duration": 74,
    "start_time": "2023-05-25T13:09:52.446Z"
   },
   {
    "duration": 23096,
    "start_time": "2023-05-25T13:10:02.941Z"
   },
   {
    "duration": 6396,
    "start_time": "2023-05-25T13:11:12.436Z"
   },
   {
    "duration": 6173,
    "start_time": "2023-05-25T13:11:18.835Z"
   },
   {
    "duration": 6,
    "start_time": "2023-05-25T13:12:38.982Z"
   },
   {
    "duration": 6921,
    "start_time": "2023-05-25T13:12:51.448Z"
   },
   {
    "duration": 22835,
    "start_time": "2023-05-25T13:13:05.358Z"
   },
   {
    "duration": 12,
    "start_time": "2023-05-25T13:14:24.569Z"
   },
   {
    "duration": 10,
    "start_time": "2023-05-25T13:14:28.036Z"
   },
   {
    "duration": 12,
    "start_time": "2023-05-25T13:14:30.173Z"
   },
   {
    "duration": 11,
    "start_time": "2023-05-25T13:14:35.847Z"
   },
   {
    "duration": 11,
    "start_time": "2023-05-25T13:14:37.481Z"
   },
   {
    "duration": 71,
    "start_time": "2023-05-25T13:14:42.047Z"
   },
   {
    "duration": 20,
    "start_time": "2023-05-25T13:14:48.713Z"
   },
   {
    "duration": 520,
    "start_time": "2023-05-25T13:15:24.045Z"
   },
   {
    "duration": 1007,
    "start_time": "2023-05-25T13:15:31.049Z"
   },
   {
    "duration": 829,
    "start_time": "2023-05-25T13:15:33.582Z"
   },
   {
    "duration": 1091,
    "start_time": "2023-05-25T13:15:41.375Z"
   },
   {
    "duration": 59,
    "start_time": "2023-05-25T13:15:55.248Z"
   },
   {
    "duration": 634,
    "start_time": "2023-05-25T13:17:12.549Z"
   },
   {
    "duration": 339,
    "start_time": "2023-05-25T13:17:19.135Z"
   },
   {
    "duration": 236,
    "start_time": "2023-05-25T13:17:25.771Z"
   },
   {
    "duration": 202,
    "start_time": "2023-05-25T13:17:28.172Z"
   },
   {
    "duration": 226,
    "start_time": "2023-05-25T13:17:30.680Z"
   },
   {
    "duration": 7,
    "start_time": "2023-05-25T13:17:43.945Z"
   },
   {
    "duration": 8,
    "start_time": "2023-05-25T13:18:03.617Z"
   },
   {
    "duration": 7,
    "start_time": "2023-05-25T13:18:06.438Z"
   },
   {
    "duration": 6,
    "start_time": "2023-05-25T13:19:33.436Z"
   },
   {
    "duration": 11,
    "start_time": "2023-05-25T13:19:37.374Z"
   },
   {
    "duration": 8,
    "start_time": "2023-05-25T13:19:39.487Z"
   },
   {
    "duration": 9,
    "start_time": "2023-05-25T13:19:41.491Z"
   },
   {
    "duration": 9,
    "start_time": "2023-05-25T13:19:43.076Z"
   },
   {
    "duration": 11,
    "start_time": "2023-05-25T13:20:15.454Z"
   },
   {
    "duration": 71,
    "start_time": "2023-05-25T13:21:29.402Z"
   },
   {
    "duration": 42,
    "start_time": "2023-05-25T13:21:48.500Z"
   },
   {
    "duration": 42,
    "start_time": "2023-05-25T13:22:00.374Z"
   },
   {
    "duration": 21,
    "start_time": "2023-05-25T13:22:05.491Z"
   },
   {
    "duration": 20,
    "start_time": "2023-05-25T13:22:10.857Z"
   },
   {
    "duration": 17,
    "start_time": "2023-05-25T13:22:17.421Z"
   },
   {
    "duration": 24,
    "start_time": "2023-05-25T13:22:53.659Z"
   },
   {
    "duration": 1215,
    "start_time": "2023-05-25T13:23:02.383Z"
   },
   {
    "duration": 39,
    "start_time": "2023-05-25T13:23:50.613Z"
   },
   {
    "duration": 38,
    "start_time": "2023-05-25T13:24:33.511Z"
   },
   {
    "duration": 57,
    "start_time": "2023-05-25T13:24:39.586Z"
   },
   {
    "duration": 82,
    "start_time": "2023-05-25T13:25:27.687Z"
   },
   {
    "duration": 1797,
    "start_time": "2023-05-25T13:26:55.074Z"
   },
   {
    "duration": 4,
    "start_time": "2023-05-25T13:26:56.874Z"
   },
   {
    "duration": 1411,
    "start_time": "2023-05-25T13:26:56.879Z"
   },
   {
    "duration": 30,
    "start_time": "2023-05-25T13:26:58.292Z"
   },
   {
    "duration": 297,
    "start_time": "2023-05-25T13:26:58.326Z"
   },
   {
    "duration": 10,
    "start_time": "2023-05-25T13:26:58.626Z"
   },
   {
    "duration": 150,
    "start_time": "2023-05-25T13:26:58.646Z"
   },
   {
    "duration": 4,
    "start_time": "2023-05-25T13:26:58.797Z"
   },
   {
    "duration": 650,
    "start_time": "2023-05-25T13:26:58.803Z"
   },
   {
    "duration": 587,
    "start_time": "2023-05-25T13:26:59.456Z"
   },
   {
    "duration": 6,
    "start_time": "2023-05-25T13:27:00.046Z"
   },
   {
    "duration": 50,
    "start_time": "2023-05-25T13:27:00.054Z"
   },
   {
    "duration": 359,
    "start_time": "2023-05-25T13:27:00.106Z"
   },
   {
    "duration": 24,
    "start_time": "2023-05-25T13:27:00.468Z"
   },
   {
    "duration": 35,
    "start_time": "2023-05-25T13:27:00.493Z"
   },
   {
    "duration": 116,
    "start_time": "2023-05-25T13:27:00.530Z"
   },
   {
    "duration": 86626,
    "start_time": "2023-05-25T13:27:00.649Z"
   },
   {
    "duration": 271,
    "start_time": "2023-05-25T13:28:27.277Z"
   },
   {
    "duration": 1333,
    "start_time": "2023-05-25T13:28:27.551Z"
   },
   {
    "duration": 1222,
    "start_time": "2023-05-25T13:28:28.885Z"
   },
   {
    "duration": 40,
    "start_time": "2023-05-25T13:28:30.110Z"
   },
   {
    "duration": 14,
    "start_time": "2023-05-25T13:28:30.152Z"
   },
   {
    "duration": 26,
    "start_time": "2023-05-25T13:28:30.168Z"
   },
   {
    "duration": 1097,
    "start_time": "2023-05-25T13:28:30.196Z"
   },
   {
    "duration": 17,
    "start_time": "2023-05-25T13:28:31.296Z"
   },
   {
    "duration": 130,
    "start_time": "2023-05-25T13:28:31.315Z"
   },
   {
    "duration": 5,
    "start_time": "2023-05-25T13:29:25.817Z"
   },
   {
    "duration": 26,
    "start_time": "2023-05-25T13:29:29.043Z"
   },
   {
    "duration": 5,
    "start_time": "2023-05-25T13:30:59.420Z"
   },
   {
    "duration": 6,
    "start_time": "2023-05-25T13:30:59.427Z"
   },
   {
    "duration": 905,
    "start_time": "2023-05-25T13:30:59.435Z"
   },
   {
    "duration": 32,
    "start_time": "2023-05-25T13:31:00.342Z"
   },
   {
    "duration": 174,
    "start_time": "2023-05-25T13:31:00.377Z"
   },
   {
    "duration": 8,
    "start_time": "2023-05-25T13:31:00.554Z"
   },
   {
    "duration": 108,
    "start_time": "2023-05-25T13:31:00.563Z"
   },
   {
    "duration": 5,
    "start_time": "2023-05-25T13:31:00.672Z"
   },
   {
    "duration": 483,
    "start_time": "2023-05-25T13:31:00.679Z"
   },
   {
    "duration": 511,
    "start_time": "2023-05-25T13:31:01.164Z"
   },
   {
    "duration": 4,
    "start_time": "2023-05-25T13:31:01.677Z"
   },
   {
    "duration": 54,
    "start_time": "2023-05-25T13:31:01.682Z"
   },
   {
    "duration": 398,
    "start_time": "2023-05-25T13:31:01.739Z"
   },
   {
    "duration": 33,
    "start_time": "2023-05-25T13:31:02.147Z"
   },
   {
    "duration": 20,
    "start_time": "2023-05-25T13:31:02.182Z"
   },
   {
    "duration": 77,
    "start_time": "2023-05-25T13:31:02.204Z"
   },
   {
    "duration": 91527,
    "start_time": "2023-05-25T13:31:02.283Z"
   },
   {
    "duration": 297,
    "start_time": "2023-05-25T13:32:33.812Z"
   },
   {
    "duration": 1477,
    "start_time": "2023-05-25T13:32:34.111Z"
   },
   {
    "duration": 1500,
    "start_time": "2023-05-25T13:32:35.590Z"
   },
   {
    "duration": 23,
    "start_time": "2023-05-25T13:32:37.092Z"
   },
   {
    "duration": 36,
    "start_time": "2023-05-25T13:32:37.118Z"
   },
   {
    "duration": 5,
    "start_time": "2023-05-25T13:32:37.156Z"
   },
   {
    "duration": 969,
    "start_time": "2023-05-25T13:32:37.163Z"
   },
   {
    "duration": 34,
    "start_time": "2023-05-25T13:32:38.134Z"
   },
   {
    "duration": 115,
    "start_time": "2023-05-25T13:32:38.170Z"
   },
   {
    "duration": 43,
    "start_time": "2023-05-25T13:32:38.287Z"
   },
   {
    "duration": 23,
    "start_time": "2023-05-25T13:32:58.696Z"
   },
   {
    "duration": 20,
    "start_time": "2023-05-25T13:33:37.878Z"
   },
   {
    "duration": 18,
    "start_time": "2023-05-25T13:33:56.990Z"
   },
   {
    "duration": 20,
    "start_time": "2023-05-25T13:34:01.547Z"
   },
   {
    "duration": 22,
    "start_time": "2023-05-25T13:34:07.617Z"
   },
   {
    "duration": 19,
    "start_time": "2023-05-25T13:34:35.082Z"
   },
   {
    "duration": 22,
    "start_time": "2023-05-25T13:34:38.164Z"
   },
   {
    "duration": 17,
    "start_time": "2023-05-25T13:34:49.721Z"
   },
   {
    "duration": 21,
    "start_time": "2023-05-25T13:36:39.197Z"
   },
   {
    "duration": 23,
    "start_time": "2023-05-25T13:36:52.701Z"
   },
   {
    "duration": 58,
    "start_time": "2023-05-25T13:36:57.302Z"
   },
   {
    "duration": 20,
    "start_time": "2023-05-25T13:37:59.239Z"
   },
   {
    "duration": 22,
    "start_time": "2023-05-25T13:38:06.403Z"
   },
   {
    "duration": 27,
    "start_time": "2023-05-25T13:38:12.635Z"
   },
   {
    "duration": 23,
    "start_time": "2023-05-25T13:38:16.684Z"
   },
   {
    "duration": 36,
    "start_time": "2023-05-25T13:38:47.673Z"
   },
   {
    "duration": 14,
    "start_time": "2023-05-25T13:38:51.999Z"
   },
   {
    "duration": 5643,
    "start_time": "2023-05-25T13:41:12.421Z"
   },
   {
    "duration": 640,
    "start_time": "2023-05-25T13:43:18.352Z"
   },
   {
    "duration": 5,
    "start_time": "2023-05-25T13:43:51.586Z"
   },
   {
    "duration": 514,
    "start_time": "2023-05-25T13:44:24.629Z"
   },
   {
    "duration": 690,
    "start_time": "2023-05-25T13:44:40.599Z"
   },
   {
    "duration": 25,
    "start_time": "2023-05-25T13:44:57.936Z"
   },
   {
    "duration": 155,
    "start_time": "2023-05-25T13:45:27.789Z"
   },
   {
    "duration": 164,
    "start_time": "2023-05-25T13:45:30.909Z"
   },
   {
    "duration": 565,
    "start_time": "2023-05-25T13:46:20.719Z"
   },
   {
    "duration": 594,
    "start_time": "2023-05-25T13:47:06.600Z"
   },
   {
    "duration": 537,
    "start_time": "2023-05-25T13:47:14.933Z"
   },
   {
    "duration": 5,
    "start_time": "2023-05-25T13:47:34.339Z"
   },
   {
    "duration": 769,
    "start_time": "2023-05-25T13:47:52.592Z"
   },
   {
    "duration": 231,
    "start_time": "2023-05-25T13:48:11.970Z"
   },
   {
    "duration": 548,
    "start_time": "2023-05-25T13:48:16.477Z"
   },
   {
    "duration": 539,
    "start_time": "2023-05-25T13:48:29.911Z"
   },
   {
    "duration": 580,
    "start_time": "2023-05-25T13:49:09.902Z"
   },
   {
    "duration": 597,
    "start_time": "2023-05-25T13:49:13.736Z"
   },
   {
    "duration": 572,
    "start_time": "2023-05-25T13:49:20.424Z"
   },
   {
    "duration": 16,
    "start_time": "2023-05-25T13:49:55.609Z"
   },
   {
    "duration": 185,
    "start_time": "2023-05-25T13:50:02.432Z"
   },
   {
    "duration": 668,
    "start_time": "2023-05-25T13:50:19.692Z"
   },
   {
    "duration": 3,
    "start_time": "2023-05-25T13:50:38.514Z"
   },
   {
    "duration": 560,
    "start_time": "2023-05-25T13:53:40.645Z"
   },
   {
    "duration": 621,
    "start_time": "2023-05-25T14:15:47.676Z"
   },
   {
    "duration": 562,
    "start_time": "2023-05-25T14:16:03.504Z"
   },
   {
    "duration": 600,
    "start_time": "2023-05-25T14:16:24.081Z"
   },
   {
    "duration": 6411,
    "start_time": "2023-05-25T14:17:09.730Z"
   },
   {
    "duration": 6,
    "start_time": "2023-05-25T14:17:44.498Z"
   },
   {
    "duration": 11,
    "start_time": "2023-05-25T14:17:44.506Z"
   },
   {
    "duration": 801,
    "start_time": "2023-05-25T14:17:44.519Z"
   },
   {
    "duration": 13,
    "start_time": "2023-05-25T14:17:45.322Z"
   },
   {
    "duration": 160,
    "start_time": "2023-05-25T14:17:45.338Z"
   },
   {
    "duration": 6,
    "start_time": "2023-05-25T14:17:45.500Z"
   },
   {
    "duration": 101,
    "start_time": "2023-05-25T14:17:45.507Z"
   },
   {
    "duration": 3,
    "start_time": "2023-05-25T14:17:45.610Z"
   },
   {
    "duration": 430,
    "start_time": "2023-05-25T14:17:45.615Z"
   },
   {
    "duration": 565,
    "start_time": "2023-05-25T14:17:46.048Z"
   },
   {
    "duration": 4,
    "start_time": "2023-05-25T14:17:46.615Z"
   },
   {
    "duration": 21,
    "start_time": "2023-05-25T14:17:46.621Z"
   },
   {
    "duration": 310,
    "start_time": "2023-05-25T14:17:46.643Z"
   },
   {
    "duration": 25,
    "start_time": "2023-05-25T14:17:46.957Z"
   },
   {
    "duration": 14,
    "start_time": "2023-05-25T14:17:46.984Z"
   },
   {
    "duration": 95,
    "start_time": "2023-05-25T14:17:47.001Z"
   },
   {
    "duration": 87782,
    "start_time": "2023-05-25T14:17:47.098Z"
   },
   {
    "duration": 301,
    "start_time": "2023-05-25T14:19:14.881Z"
   },
   {
    "duration": 1435,
    "start_time": "2023-05-25T14:19:15.184Z"
   },
   {
    "duration": 1500,
    "start_time": "2023-05-25T14:19:16.621Z"
   },
   {
    "duration": 36,
    "start_time": "2023-05-25T14:19:18.123Z"
   },
   {
    "duration": 13,
    "start_time": "2023-05-25T14:19:18.161Z"
   },
   {
    "duration": 21,
    "start_time": "2023-05-25T14:19:18.176Z"
   },
   {
    "duration": 1013,
    "start_time": "2023-05-25T14:19:18.199Z"
   },
   {
    "duration": 7221,
    "start_time": "2023-05-25T14:19:19.214Z"
   },
   {
    "duration": 895,
    "start_time": "2023-05-25T14:19:26.437Z"
   },
   {
    "duration": 16,
    "start_time": "2023-05-25T14:20:17.376Z"
   },
   {
    "duration": 98,
    "start_time": "2023-05-25T14:20:20.451Z"
   },
   {
    "duration": 75,
    "start_time": "2023-05-25T14:23:06.204Z"
   },
   {
    "duration": 27,
    "start_time": "2023-05-25T14:23:09.756Z"
   },
   {
    "duration": 63,
    "start_time": "2023-05-25T14:23:11.729Z"
   },
   {
    "duration": 13,
    "start_time": "2023-05-25T14:23:17.996Z"
   },
   {
    "duration": 76,
    "start_time": "2023-05-25T14:23:20.379Z"
   },
   {
    "duration": 19,
    "start_time": "2023-05-25T14:23:23.251Z"
   },
   {
    "duration": 21,
    "start_time": "2023-05-25T14:23:24.969Z"
   },
   {
    "duration": 10,
    "start_time": "2023-05-25T14:24:10.129Z"
   },
   {
    "duration": 14,
    "start_time": "2023-05-25T14:24:37.205Z"
   },
   {
    "duration": 3,
    "start_time": "2023-05-25T14:24:40.610Z"
   },
   {
    "duration": 12,
    "start_time": "2023-05-25T14:24:41.180Z"
   },
   {
    "duration": 32,
    "start_time": "2023-05-25T14:24:54.957Z"
   },
   {
    "duration": 14,
    "start_time": "2023-05-25T14:26:22.118Z"
   },
   {
    "duration": 58,
    "start_time": "2023-05-25T14:26:28.917Z"
   },
   {
    "duration": 65,
    "start_time": "2023-05-25T14:26:35.342Z"
   },
   {
    "duration": 79,
    "start_time": "2023-05-25T14:26:53.210Z"
   },
   {
    "duration": 73,
    "start_time": "2023-05-25T14:27:05.423Z"
   },
   {
    "duration": 74,
    "start_time": "2023-05-25T14:27:21.744Z"
   },
   {
    "duration": 15,
    "start_time": "2023-05-25T14:28:20.365Z"
   },
   {
    "duration": 14,
    "start_time": "2023-05-25T14:28:47.286Z"
   },
   {
    "duration": 14,
    "start_time": "2023-05-25T14:30:08.304Z"
   },
   {
    "duration": 46,
    "start_time": "2023-05-25T14:30:23.272Z"
   },
   {
    "duration": 46,
    "start_time": "2023-05-25T14:30:40.171Z"
   },
   {
    "duration": 45,
    "start_time": "2023-05-25T14:30:45.740Z"
   },
   {
    "duration": 44,
    "start_time": "2023-05-25T14:30:50.800Z"
   },
   {
    "duration": 76,
    "start_time": "2023-05-25T14:32:53.007Z"
   },
   {
    "duration": 21,
    "start_time": "2023-05-25T14:33:23.488Z"
   },
   {
    "duration": 23,
    "start_time": "2023-05-25T14:33:33.245Z"
   },
   {
    "duration": 26,
    "start_time": "2023-05-25T14:34:15.146Z"
   },
   {
    "duration": 33,
    "start_time": "2023-05-25T14:34:23.719Z"
   },
   {
    "duration": 8,
    "start_time": "2023-05-25T14:34:40.075Z"
   },
   {
    "duration": 11,
    "start_time": "2023-05-25T14:34:42.702Z"
   },
   {
    "duration": 514,
    "start_time": "2023-05-25T14:36:05.980Z"
   },
   {
    "duration": 70,
    "start_time": "2023-05-25T14:36:42.496Z"
   },
   {
    "duration": 64,
    "start_time": "2023-05-25T14:36:48.302Z"
   },
   {
    "duration": 6,
    "start_time": "2023-05-25T14:40:34.785Z"
   },
   {
    "duration": 14,
    "start_time": "2023-05-25T14:40:34.793Z"
   },
   {
    "duration": 794,
    "start_time": "2023-05-25T14:40:34.808Z"
   },
   {
    "duration": 14,
    "start_time": "2023-05-25T14:40:35.604Z"
   },
   {
    "duration": 176,
    "start_time": "2023-05-25T14:40:35.620Z"
   },
   {
    "duration": 21,
    "start_time": "2023-05-25T14:40:35.798Z"
   },
   {
    "duration": 129,
    "start_time": "2023-05-25T14:40:35.821Z"
   },
   {
    "duration": 4,
    "start_time": "2023-05-25T14:40:35.952Z"
   },
   {
    "duration": 459,
    "start_time": "2023-05-25T14:40:35.957Z"
   },
   {
    "duration": 455,
    "start_time": "2023-05-25T14:40:36.418Z"
   },
   {
    "duration": 4,
    "start_time": "2023-05-25T14:40:36.875Z"
   },
   {
    "duration": 11,
    "start_time": "2023-05-25T14:40:36.881Z"
   },
   {
    "duration": 285,
    "start_time": "2023-05-25T14:40:36.894Z"
   },
   {
    "duration": 27,
    "start_time": "2023-05-25T14:40:37.182Z"
   },
   {
    "duration": 28,
    "start_time": "2023-05-25T14:40:37.211Z"
   },
   {
    "duration": 74,
    "start_time": "2023-05-25T14:40:37.247Z"
   },
   {
    "duration": 79138,
    "start_time": "2023-05-25T14:40:37.323Z"
   },
   {
    "duration": 261,
    "start_time": "2023-05-25T14:41:56.463Z"
   },
   {
    "duration": 1312,
    "start_time": "2023-05-25T14:41:56.726Z"
   },
   {
    "duration": 1297,
    "start_time": "2023-05-25T14:41:58.046Z"
   },
   {
    "duration": 24,
    "start_time": "2023-05-25T14:41:59.346Z"
   },
   {
    "duration": 11,
    "start_time": "2023-05-25T14:41:59.372Z"
   },
   {
    "duration": 9,
    "start_time": "2023-05-25T14:41:59.384Z"
   },
   {
    "duration": 6054,
    "start_time": "2023-05-25T14:41:59.394Z"
   },
   {
    "duration": 553,
    "start_time": "2023-05-25T14:42:05.450Z"
   },
   {
    "duration": 3,
    "start_time": "2023-05-25T14:42:06.006Z"
   },
   {
    "duration": 35,
    "start_time": "2023-05-25T14:42:06.011Z"
   },
   {
    "duration": 99,
    "start_time": "2023-05-25T14:42:06.048Z"
   },
   {
    "duration": 17,
    "start_time": "2023-05-25T14:42:06.149Z"
   },
   {
    "duration": 18,
    "start_time": "2023-05-25T14:42:06.168Z"
   },
   {
    "duration": 77,
    "start_time": "2023-05-25T14:42:06.188Z"
   },
   {
    "duration": 21,
    "start_time": "2023-05-25T14:42:06.266Z"
   },
   {
    "duration": 67,
    "start_time": "2023-05-25T14:42:06.288Z"
   },
   {
    "duration": 2258,
    "start_time": "2023-05-26T11:16:54.896Z"
   },
   {
    "duration": 3,
    "start_time": "2023-05-26T11:16:57.156Z"
   },
   {
    "duration": 2945,
    "start_time": "2023-05-26T11:16:57.160Z"
   },
   {
    "duration": 23,
    "start_time": "2023-05-26T11:17:00.107Z"
   },
   {
    "duration": 179,
    "start_time": "2023-05-26T11:17:00.133Z"
   },
   {
    "duration": 6,
    "start_time": "2023-05-26T11:17:00.314Z"
   },
   {
    "duration": 117,
    "start_time": "2023-05-26T11:17:00.322Z"
   },
   {
    "duration": 3,
    "start_time": "2023-05-26T11:17:00.441Z"
   },
   {
    "duration": 523,
    "start_time": "2023-05-26T11:17:00.446Z"
   },
   {
    "duration": 530,
    "start_time": "2023-05-26T11:17:00.976Z"
   },
   {
    "duration": 4,
    "start_time": "2023-05-26T11:17:01.508Z"
   },
   {
    "duration": 42,
    "start_time": "2023-05-26T11:17:01.513Z"
   },
   {
    "duration": 329,
    "start_time": "2023-05-26T11:17:01.557Z"
   },
   {
    "duration": 25,
    "start_time": "2023-05-26T11:17:01.890Z"
   },
   {
    "duration": 60,
    "start_time": "2023-05-26T11:17:01.917Z"
   },
   {
    "duration": 114,
    "start_time": "2023-05-26T11:17:01.979Z"
   },
   {
    "duration": 75624,
    "start_time": "2023-05-26T11:17:02.095Z"
   },
   {
    "duration": 248,
    "start_time": "2023-05-26T11:18:17.721Z"
   },
   {
    "duration": 1300,
    "start_time": "2023-05-26T11:18:17.970Z"
   },
   {
    "duration": 1120,
    "start_time": "2023-05-26T11:18:19.275Z"
   },
   {
    "duration": 25,
    "start_time": "2023-05-26T11:18:20.397Z"
   },
   {
    "duration": 11,
    "start_time": "2023-05-26T11:18:20.423Z"
   },
   {
    "duration": 8,
    "start_time": "2023-05-26T11:18:20.436Z"
   },
   {
    "duration": 5952,
    "start_time": "2023-05-26T11:18:20.446Z"
   },
   {
    "duration": 514,
    "start_time": "2023-05-26T11:18:26.400Z"
   },
   {
    "duration": 3,
    "start_time": "2023-05-26T11:18:26.917Z"
   },
   {
    "duration": 43,
    "start_time": "2023-05-26T11:18:26.921Z"
   },
   {
    "duration": 76,
    "start_time": "2023-05-26T11:18:26.966Z"
   },
   {
    "duration": 15,
    "start_time": "2023-05-26T11:18:27.044Z"
   },
   {
    "duration": 30,
    "start_time": "2023-05-26T11:18:27.060Z"
   },
   {
    "duration": 51,
    "start_time": "2023-05-26T11:18:27.092Z"
   },
   {
    "duration": 37,
    "start_time": "2023-05-26T11:18:27.144Z"
   },
   {
    "duration": 50,
    "start_time": "2023-05-26T11:18:27.182Z"
   },
   {
    "duration": 14,
    "start_time": "2023-05-26T11:19:19.601Z"
   },
   {
    "duration": 14,
    "start_time": "2023-05-26T11:20:00.817Z"
   },
   {
    "duration": 21,
    "start_time": "2023-05-26T11:20:12.233Z"
   },
   {
    "duration": 82,
    "start_time": "2023-05-26T11:20:23.617Z"
   },
   {
    "duration": 94,
    "start_time": "2023-05-26T11:20:33.546Z"
   },
   {
    "duration": 19,
    "start_time": "2023-05-26T11:20:52.860Z"
   },
   {
    "duration": 169,
    "start_time": "2023-05-26T11:21:15.039Z"
   },
   {
    "duration": 68,
    "start_time": "2023-05-26T11:21:27.328Z"
   },
   {
    "duration": 158,
    "start_time": "2023-05-26T11:21:46.819Z"
   },
   {
    "duration": 20,
    "start_time": "2023-05-26T11:21:56.853Z"
   },
   {
    "duration": 74,
    "start_time": "2023-05-26T11:22:59.621Z"
   },
   {
    "duration": 112,
    "start_time": "2023-05-26T11:23:03.098Z"
   },
   {
    "duration": 238,
    "start_time": "2023-05-26T11:23:05.195Z"
   },
   {
    "duration": 163,
    "start_time": "2023-05-26T11:23:12.588Z"
   },
   {
    "duration": 813,
    "start_time": "2023-05-26T11:24:56.520Z"
   },
   {
    "duration": 79,
    "start_time": "2023-05-26T11:25:15.678Z"
   },
   {
    "duration": 369,
    "start_time": "2023-05-26T11:25:18.903Z"
   },
   {
    "duration": 166,
    "start_time": "2023-05-26T11:27:22.742Z"
   },
   {
    "duration": 163,
    "start_time": "2023-05-26T11:28:54.271Z"
   },
   {
    "duration": 293,
    "start_time": "2023-05-26T11:29:02.974Z"
   },
   {
    "duration": 1276,
    "start_time": "2023-05-26T11:29:19.688Z"
   },
   {
    "duration": 116,
    "start_time": "2023-05-26T11:29:28.188Z"
   },
   {
    "duration": 9,
    "start_time": "2023-05-26T11:29:32.943Z"
   },
   {
    "duration": 1398,
    "start_time": "2023-05-26T11:29:37.283Z"
   },
   {
    "duration": 1305,
    "start_time": "2023-05-26T11:29:41.692Z"
   },
   {
    "duration": 1491,
    "start_time": "2023-05-26T11:30:02.879Z"
   },
   {
    "duration": 992,
    "start_time": "2023-05-26T11:30:29.389Z"
   },
   {
    "duration": 589,
    "start_time": "2023-05-26T11:30:36.490Z"
   },
   {
    "duration": 541,
    "start_time": "2023-05-26T11:30:45.991Z"
   },
   {
    "duration": 402,
    "start_time": "2023-05-26T11:30:52.612Z"
   },
   {
    "duration": 532,
    "start_time": "2023-05-26T11:31:10.188Z"
   },
   {
    "duration": 24,
    "start_time": "2023-05-26T11:32:15.012Z"
   },
   {
    "duration": 5599,
    "start_time": "2023-05-26T11:32:45.276Z"
   },
   {
    "duration": 457,
    "start_time": "2023-05-26T11:32:50.877Z"
   },
   {
    "duration": 3,
    "start_time": "2023-05-26T11:34:03.497Z"
   },
   {
    "duration": 4,
    "start_time": "2023-05-26T11:34:25.291Z"
   },
   {
    "duration": 4,
    "start_time": "2023-05-26T11:34:30.385Z"
   },
   {
    "duration": 6,
    "start_time": "2023-05-26T13:03:13.702Z"
   },
   {
    "duration": 19,
    "start_time": "2023-05-26T13:04:27.786Z"
   },
   {
    "duration": 22,
    "start_time": "2023-05-26T13:04:34.261Z"
   },
   {
    "duration": 14,
    "start_time": "2023-05-26T13:04:38.771Z"
   },
   {
    "duration": 4,
    "start_time": "2023-05-26T13:04:41.124Z"
   },
   {
    "duration": 3,
    "start_time": "2023-05-26T13:04:45.385Z"
   },
   {
    "duration": 9,
    "start_time": "2023-05-26T13:04:48.586Z"
   },
   {
    "duration": 30,
    "start_time": "2023-05-26T13:04:51.375Z"
   },
   {
    "duration": 8,
    "start_time": "2023-05-26T13:08:28.134Z"
   },
   {
    "duration": 5,
    "start_time": "2023-05-26T13:08:52.686Z"
   },
   {
    "duration": 11,
    "start_time": "2023-05-26T13:09:53.591Z"
   },
   {
    "duration": 2,
    "start_time": "2023-05-26T13:09:55.705Z"
   },
   {
    "duration": 20,
    "start_time": "2023-05-26T13:09:56.402Z"
   },
   {
    "duration": 9,
    "start_time": "2023-05-26T13:09:56.793Z"
   },
   {
    "duration": 53,
    "start_time": "2023-05-26T13:10:11.442Z"
   },
   {
    "duration": 85,
    "start_time": "2023-05-26T13:11:13.799Z"
   },
   {
    "duration": 7,
    "start_time": "2023-05-26T13:14:20.429Z"
   },
   {
    "duration": 4,
    "start_time": "2023-05-26T13:14:48.525Z"
   },
   {
    "duration": 3,
    "start_time": "2023-05-26T13:15:00.886Z"
   },
   {
    "duration": 5,
    "start_time": "2023-05-26T13:15:07.274Z"
   },
   {
    "duration": 3,
    "start_time": "2023-05-26T13:38:08.703Z"
   },
   {
    "duration": 80,
    "start_time": "2023-05-26T13:38:35.388Z"
   },
   {
    "duration": 2,
    "start_time": "2023-05-26T13:39:50.040Z"
   },
   {
    "duration": 4,
    "start_time": "2023-05-26T13:39:51.878Z"
   },
   {
    "duration": 9,
    "start_time": "2023-05-26T13:39:54.540Z"
   },
   {
    "duration": 10,
    "start_time": "2023-05-26T13:40:04.919Z"
   },
   {
    "duration": 2,
    "start_time": "2023-05-26T13:40:54.987Z"
   },
   {
    "duration": 5,
    "start_time": "2023-05-26T13:40:59.769Z"
   },
   {
    "duration": 12,
    "start_time": "2023-05-26T13:41:10.752Z"
   },
   {
    "duration": 4,
    "start_time": "2023-05-26T13:41:21.435Z"
   },
   {
    "duration": 11,
    "start_time": "2023-05-26T13:41:28.752Z"
   },
   {
    "duration": 4,
    "start_time": "2023-05-26T13:41:32.232Z"
   },
   {
    "duration": 9,
    "start_time": "2023-05-26T13:41:40.766Z"
   },
   {
    "duration": 9,
    "start_time": "2023-05-26T13:41:46.000Z"
   },
   {
    "duration": 4,
    "start_time": "2023-05-26T13:41:50.316Z"
   },
   {
    "duration": 4,
    "start_time": "2023-05-26T13:42:12.655Z"
   },
   {
    "duration": 3,
    "start_time": "2023-05-26T13:42:15.840Z"
   },
   {
    "duration": 9,
    "start_time": "2023-05-26T13:42:18.223Z"
   },
   {
    "duration": 4,
    "start_time": "2023-05-26T13:42:20.784Z"
   },
   {
    "duration": 4,
    "start_time": "2023-05-26T13:42:23.242Z"
   },
   {
    "duration": 26,
    "start_time": "2023-05-26T13:42:44.502Z"
   },
   {
    "duration": 22,
    "start_time": "2023-05-26T13:42:51.074Z"
   },
   {
    "duration": 21,
    "start_time": "2023-05-26T13:43:18.116Z"
   },
   {
    "duration": 125,
    "start_time": "2023-05-26T13:43:42.796Z"
   },
   {
    "duration": 25,
    "start_time": "2023-05-26T13:43:43.580Z"
   },
   {
    "duration": 12,
    "start_time": "2023-05-26T13:45:17.503Z"
   },
   {
    "duration": 5,
    "start_time": "2023-05-26T13:45:28.215Z"
   },
   {
    "duration": 13,
    "start_time": "2023-05-26T13:45:52.463Z"
   },
   {
    "duration": 19,
    "start_time": "2023-05-26T13:46:54.054Z"
   },
   {
    "duration": 75,
    "start_time": "2023-05-26T13:47:02.483Z"
   },
   {
    "duration": 56,
    "start_time": "2023-05-26T13:47:05.311Z"
   },
   {
    "duration": 67,
    "start_time": "2023-05-26T13:47:14.461Z"
   },
   {
    "duration": 6,
    "start_time": "2023-05-26T13:47:21.759Z"
   },
   {
    "duration": 31,
    "start_time": "2023-05-26T13:47:21.767Z"
   },
   {
    "duration": 759,
    "start_time": "2023-05-26T13:47:21.800Z"
   },
   {
    "duration": 15,
    "start_time": "2023-05-26T13:47:22.561Z"
   },
   {
    "duration": 138,
    "start_time": "2023-05-26T13:47:22.579Z"
   },
   {
    "duration": 5,
    "start_time": "2023-05-26T13:47:22.719Z"
   },
   {
    "duration": 99,
    "start_time": "2023-05-26T13:47:22.726Z"
   },
   {
    "duration": 3,
    "start_time": "2023-05-26T13:47:22.827Z"
   },
   {
    "duration": 409,
    "start_time": "2023-05-26T13:47:22.832Z"
   },
   {
    "duration": 442,
    "start_time": "2023-05-26T13:47:23.243Z"
   },
   {
    "duration": 0,
    "start_time": "2023-05-26T13:47:23.687Z"
   },
   {
    "duration": 0,
    "start_time": "2023-05-26T13:47:23.689Z"
   },
   {
    "duration": 0,
    "start_time": "2023-05-26T13:47:23.690Z"
   },
   {
    "duration": 0,
    "start_time": "2023-05-26T13:47:23.691Z"
   },
   {
    "duration": 0,
    "start_time": "2023-05-26T13:47:23.692Z"
   },
   {
    "duration": 0,
    "start_time": "2023-05-26T13:47:23.693Z"
   },
   {
    "duration": 0,
    "start_time": "2023-05-26T13:47:23.694Z"
   },
   {
    "duration": 0,
    "start_time": "2023-05-26T13:47:23.695Z"
   },
   {
    "duration": 0,
    "start_time": "2023-05-26T13:47:23.696Z"
   },
   {
    "duration": 0,
    "start_time": "2023-05-26T13:47:23.697Z"
   },
   {
    "duration": 0,
    "start_time": "2023-05-26T13:47:23.698Z"
   },
   {
    "duration": 0,
    "start_time": "2023-05-26T13:47:23.699Z"
   },
   {
    "duration": 0,
    "start_time": "2023-05-26T13:47:23.700Z"
   },
   {
    "duration": 0,
    "start_time": "2023-05-26T13:47:23.701Z"
   },
   {
    "duration": 0,
    "start_time": "2023-05-26T13:47:23.702Z"
   },
   {
    "duration": 0,
    "start_time": "2023-05-26T13:47:23.703Z"
   },
   {
    "duration": 0,
    "start_time": "2023-05-26T13:47:23.704Z"
   },
   {
    "duration": 0,
    "start_time": "2023-05-26T13:47:23.706Z"
   },
   {
    "duration": 0,
    "start_time": "2023-05-26T13:47:23.707Z"
   },
   {
    "duration": 0,
    "start_time": "2023-05-26T13:47:23.709Z"
   },
   {
    "duration": 0,
    "start_time": "2023-05-26T13:47:23.710Z"
   },
   {
    "duration": 0,
    "start_time": "2023-05-26T13:47:23.711Z"
   },
   {
    "duration": 0,
    "start_time": "2023-05-26T13:47:23.713Z"
   },
   {
    "duration": 0,
    "start_time": "2023-05-26T13:47:23.714Z"
   },
   {
    "duration": 0,
    "start_time": "2023-05-26T13:47:23.715Z"
   },
   {
    "duration": 0,
    "start_time": "2023-05-26T13:47:23.717Z"
   },
   {
    "duration": 0,
    "start_time": "2023-05-26T13:47:23.718Z"
   },
   {
    "duration": 0,
    "start_time": "2023-05-26T13:47:23.719Z"
   },
   {
    "duration": 0,
    "start_time": "2023-05-26T13:47:23.720Z"
   },
   {
    "duration": 0,
    "start_time": "2023-05-26T13:47:23.775Z"
   },
   {
    "duration": 0,
    "start_time": "2023-05-26T13:47:23.778Z"
   },
   {
    "duration": 23,
    "start_time": "2023-05-26T13:47:27.289Z"
   },
   {
    "duration": 1524,
    "start_time": "2023-05-26T13:49:06.857Z"
   },
   {
    "duration": 3,
    "start_time": "2023-05-26T13:49:08.383Z"
   },
   {
    "duration": 839,
    "start_time": "2023-05-26T13:49:08.388Z"
   },
   {
    "duration": 22,
    "start_time": "2023-05-26T13:49:09.229Z"
   },
   {
    "duration": 134,
    "start_time": "2023-05-26T13:49:09.253Z"
   },
   {
    "duration": 7,
    "start_time": "2023-05-26T13:49:09.390Z"
   },
   {
    "duration": 159,
    "start_time": "2023-05-26T13:49:09.399Z"
   },
   {
    "duration": 4,
    "start_time": "2023-05-26T13:49:09.559Z"
   },
   {
    "duration": 469,
    "start_time": "2023-05-26T13:49:09.565Z"
   },
   {
    "duration": 586,
    "start_time": "2023-05-26T13:49:20.194Z"
   },
   {
    "duration": 508,
    "start_time": "2023-05-26T13:49:44.601Z"
   },
   {
    "duration": 434,
    "start_time": "2023-05-26T13:49:45.498Z"
   },
   {
    "duration": 7,
    "start_time": "2023-05-26T13:50:40.109Z"
   },
   {
    "duration": 4,
    "start_time": "2023-05-26T13:50:40.119Z"
   },
   {
    "duration": 799,
    "start_time": "2023-05-26T13:50:40.125Z"
   },
   {
    "duration": 14,
    "start_time": "2023-05-26T13:50:40.926Z"
   },
   {
    "duration": 253,
    "start_time": "2023-05-26T13:50:40.941Z"
   },
   {
    "duration": 7,
    "start_time": "2023-05-26T13:50:41.196Z"
   },
   {
    "duration": 145,
    "start_time": "2023-05-26T13:50:41.205Z"
   },
   {
    "duration": 5,
    "start_time": "2023-05-26T13:50:41.352Z"
   },
   {
    "duration": 476,
    "start_time": "2023-05-26T13:50:41.359Z"
   },
   {
    "duration": 461,
    "start_time": "2023-05-26T13:50:41.837Z"
   },
   {
    "duration": 0,
    "start_time": "2023-05-26T13:50:42.300Z"
   },
   {
    "duration": 477,
    "start_time": "2023-05-26T13:50:54.266Z"
   },
   {
    "duration": 464,
    "start_time": "2023-05-26T13:50:59.318Z"
   },
   {
    "duration": 431,
    "start_time": "2023-05-26T13:51:04.991Z"
   },
   {
    "duration": 538,
    "start_time": "2023-05-26T13:51:06.547Z"
   },
   {
    "duration": 5,
    "start_time": "2023-05-26T13:51:12.174Z"
   },
   {
    "duration": 3,
    "start_time": "2023-05-26T13:51:27.119Z"
   },
   {
    "duration": 9,
    "start_time": "2023-05-26T13:51:33.025Z"
   },
   {
    "duration": 6,
    "start_time": "2023-05-26T13:52:41.394Z"
   },
   {
    "duration": 6,
    "start_time": "2023-05-26T13:52:41.403Z"
   },
   {
    "duration": 805,
    "start_time": "2023-05-26T13:52:41.415Z"
   },
   {
    "duration": 14,
    "start_time": "2023-05-26T13:52:42.222Z"
   },
   {
    "duration": 156,
    "start_time": "2023-05-26T13:52:42.239Z"
   },
   {
    "duration": 7,
    "start_time": "2023-05-26T13:52:42.397Z"
   },
   {
    "duration": 118,
    "start_time": "2023-05-26T13:52:42.406Z"
   },
   {
    "duration": 4,
    "start_time": "2023-05-26T13:52:42.526Z"
   },
   {
    "duration": 461,
    "start_time": "2023-05-26T13:52:42.532Z"
   },
   {
    "duration": 435,
    "start_time": "2023-05-26T13:52:42.995Z"
   },
   {
    "duration": 4,
    "start_time": "2023-05-26T13:52:43.431Z"
   },
   {
    "duration": 447,
    "start_time": "2023-05-26T13:52:43.437Z"
   },
   {
    "duration": 8,
    "start_time": "2023-05-26T13:53:04.006Z"
   },
   {
    "duration": 10,
    "start_time": "2023-05-26T13:53:04.017Z"
   },
   {
    "duration": 914,
    "start_time": "2023-05-26T13:53:04.029Z"
   },
   {
    "duration": 17,
    "start_time": "2023-05-26T13:53:04.945Z"
   },
   {
    "duration": 148,
    "start_time": "2023-05-26T13:53:04.964Z"
   },
   {
    "duration": 7,
    "start_time": "2023-05-26T13:53:05.113Z"
   },
   {
    "duration": 110,
    "start_time": "2023-05-26T13:53:05.122Z"
   },
   {
    "duration": 4,
    "start_time": "2023-05-26T13:53:05.234Z"
   },
   {
    "duration": 423,
    "start_time": "2023-05-26T13:53:05.240Z"
   },
   {
    "duration": 440,
    "start_time": "2023-05-26T13:53:05.674Z"
   },
   {
    "duration": 665,
    "start_time": "2023-05-26T13:53:06.116Z"
   },
   {
    "duration": 5,
    "start_time": "2023-05-26T13:53:06.783Z"
   },
   {
    "duration": 442,
    "start_time": "2023-05-26T13:53:06.790Z"
   },
   {
    "duration": 21,
    "start_time": "2023-05-26T13:53:07.234Z"
   },
   {
    "duration": 21,
    "start_time": "2023-05-26T13:53:07.257Z"
   },
   {
    "duration": 97,
    "start_time": "2023-05-26T13:53:07.280Z"
   },
   {
    "duration": 75513,
    "start_time": "2023-05-26T13:53:07.380Z"
   },
   {
    "duration": 238,
    "start_time": "2023-05-26T13:54:22.895Z"
   },
   {
    "duration": 1390,
    "start_time": "2023-05-26T13:54:23.135Z"
   },
   {
    "duration": 1354,
    "start_time": "2023-05-26T13:54:24.527Z"
   },
   {
    "duration": 24,
    "start_time": "2023-05-26T13:54:25.883Z"
   },
   {
    "duration": 14,
    "start_time": "2023-05-26T13:54:25.909Z"
   },
   {
    "duration": 11,
    "start_time": "2023-05-26T13:54:25.925Z"
   },
   {
    "duration": 6552,
    "start_time": "2023-05-26T13:54:25.938Z"
   },
   {
    "duration": 537,
    "start_time": "2023-05-26T13:54:32.492Z"
   },
   {
    "duration": 2,
    "start_time": "2023-05-26T13:54:33.031Z"
   },
   {
    "duration": 19,
    "start_time": "2023-05-26T13:54:33.035Z"
   },
   {
    "duration": 89,
    "start_time": "2023-05-26T13:54:33.075Z"
   },
   {
    "duration": 20,
    "start_time": "2023-05-26T13:54:33.177Z"
   },
   {
    "duration": 18,
    "start_time": "2023-05-26T13:54:33.199Z"
   },
   {
    "duration": 77,
    "start_time": "2023-05-26T13:54:33.219Z"
   },
   {
    "duration": 21,
    "start_time": "2023-05-26T13:54:33.298Z"
   },
   {
    "duration": 111,
    "start_time": "2023-05-26T13:54:33.321Z"
   },
   {
    "duration": 501,
    "start_time": "2023-05-26T13:54:33.433Z"
   },
   {
    "duration": 23,
    "start_time": "2023-05-26T13:54:33.937Z"
   },
   {
    "duration": 17,
    "start_time": "2023-05-26T13:54:33.963Z"
   },
   {
    "duration": 6,
    "start_time": "2023-05-26T13:54:33.982Z"
   },
   {
    "duration": 23,
    "start_time": "2023-05-26T13:54:33.990Z"
   },
   {
    "duration": 4,
    "start_time": "2023-05-26T13:54:34.015Z"
   },
   {
    "duration": 92,
    "start_time": "2023-05-26T13:54:34.021Z"
   },
   {
    "duration": 176,
    "start_time": "2023-05-26T13:54:34.116Z"
   },
   {
    "duration": 46,
    "start_time": "2023-05-26T13:54:34.329Z"
   },
   {
    "duration": 65056,
    "start_time": "2023-05-26T13:54:37.555Z"
   },
   {
    "duration": 2,
    "start_time": "2023-05-26T13:55:42.614Z"
   },
   {
    "duration": 149,
    "start_time": "2023-05-26T13:55:42.618Z"
   },
   {
    "duration": 17,
    "start_time": "2023-05-26T13:55:42.775Z"
   },
   {
    "duration": 0,
    "start_time": "2023-05-26T13:55:42.794Z"
   },
   {
    "duration": 0,
    "start_time": "2023-05-26T13:55:42.796Z"
   },
   {
    "duration": 0,
    "start_time": "2023-05-26T13:55:42.797Z"
   },
   {
    "duration": 0,
    "start_time": "2023-05-26T13:55:42.798Z"
   },
   {
    "duration": 0,
    "start_time": "2023-05-26T13:55:42.800Z"
   },
   {
    "duration": 0,
    "start_time": "2023-05-26T13:55:42.800Z"
   },
   {
    "duration": 0,
    "start_time": "2023-05-26T13:55:42.802Z"
   },
   {
    "duration": 0,
    "start_time": "2023-05-26T13:55:42.803Z"
   },
   {
    "duration": 0,
    "start_time": "2023-05-26T13:55:42.804Z"
   },
   {
    "duration": 0,
    "start_time": "2023-05-26T13:55:42.805Z"
   },
   {
    "duration": 0,
    "start_time": "2023-05-26T13:55:42.807Z"
   },
   {
    "duration": 0,
    "start_time": "2023-05-26T13:55:42.808Z"
   },
   {
    "duration": 0,
    "start_time": "2023-05-26T13:55:42.810Z"
   },
   {
    "duration": 1,
    "start_time": "2023-05-26T13:55:42.810Z"
   },
   {
    "duration": 0,
    "start_time": "2023-05-26T13:55:42.812Z"
   },
   {
    "duration": 0,
    "start_time": "2023-05-26T13:55:42.814Z"
   },
   {
    "duration": 0,
    "start_time": "2023-05-26T13:55:42.815Z"
   },
   {
    "duration": 0,
    "start_time": "2023-05-26T13:55:42.816Z"
   },
   {
    "duration": 0,
    "start_time": "2023-05-26T13:55:42.818Z"
   },
   {
    "duration": 0,
    "start_time": "2023-05-26T13:55:42.819Z"
   },
   {
    "duration": 0,
    "start_time": "2023-05-26T13:55:42.821Z"
   },
   {
    "duration": 0,
    "start_time": "2023-05-26T13:55:42.822Z"
   },
   {
    "duration": 0,
    "start_time": "2023-05-26T13:55:42.876Z"
   },
   {
    "duration": 0,
    "start_time": "2023-05-26T13:55:42.878Z"
   },
   {
    "duration": 6,
    "start_time": "2023-05-26T13:56:04.919Z"
   },
   {
    "duration": 25,
    "start_time": "2023-05-26T13:56:04.928Z"
   },
   {
    "duration": 858,
    "start_time": "2023-05-26T13:56:04.956Z"
   },
   {
    "duration": 17,
    "start_time": "2023-05-26T13:56:05.816Z"
   },
   {
    "duration": 145,
    "start_time": "2023-05-26T13:56:05.835Z"
   },
   {
    "duration": 6,
    "start_time": "2023-05-26T13:56:05.982Z"
   },
   {
    "duration": 105,
    "start_time": "2023-05-26T13:56:05.989Z"
   },
   {
    "duration": 4,
    "start_time": "2023-05-26T13:56:06.096Z"
   },
   {
    "duration": 422,
    "start_time": "2023-05-26T13:56:06.102Z"
   },
   {
    "duration": 0,
    "start_time": "2023-05-26T13:56:06.526Z"
   },
   {
    "duration": 0,
    "start_time": "2023-05-26T13:56:06.528Z"
   },
   {
    "duration": 0,
    "start_time": "2023-05-26T13:56:06.529Z"
   },
   {
    "duration": 0,
    "start_time": "2023-05-26T13:56:06.530Z"
   },
   {
    "duration": 0,
    "start_time": "2023-05-26T13:56:06.531Z"
   },
   {
    "duration": 0,
    "start_time": "2023-05-26T13:56:06.532Z"
   },
   {
    "duration": 0,
    "start_time": "2023-05-26T13:56:06.533Z"
   },
   {
    "duration": 0,
    "start_time": "2023-05-26T13:56:06.534Z"
   },
   {
    "duration": 0,
    "start_time": "2023-05-26T13:56:06.535Z"
   },
   {
    "duration": 0,
    "start_time": "2023-05-26T13:56:06.536Z"
   },
   {
    "duration": 6,
    "start_time": "2023-05-26T13:56:08.310Z"
   },
   {
    "duration": 15,
    "start_time": "2023-05-26T13:56:08.318Z"
   },
   {
    "duration": 836,
    "start_time": "2023-05-26T13:56:08.336Z"
   },
   {
    "duration": 18,
    "start_time": "2023-05-26T13:56:09.174Z"
   },
   {
    "duration": 136,
    "start_time": "2023-05-26T13:56:09.195Z"
   },
   {
    "duration": 7,
    "start_time": "2023-05-26T13:56:09.332Z"
   },
   {
    "duration": 99,
    "start_time": "2023-05-26T13:56:09.341Z"
   },
   {
    "duration": 4,
    "start_time": "2023-05-26T13:56:09.442Z"
   },
   {
    "duration": 439,
    "start_time": "2023-05-26T13:56:09.448Z"
   },
   {
    "duration": 446,
    "start_time": "2023-05-26T13:56:09.889Z"
   },
   {
    "duration": 425,
    "start_time": "2023-05-26T13:56:10.337Z"
   },
   {
    "duration": 4,
    "start_time": "2023-05-26T13:56:10.764Z"
   },
   {
    "duration": 260,
    "start_time": "2023-05-26T13:56:10.775Z"
   },
   {
    "duration": 22,
    "start_time": "2023-05-26T13:56:11.038Z"
   },
   {
    "duration": 25,
    "start_time": "2023-05-26T13:56:11.063Z"
   },
   {
    "duration": 77,
    "start_time": "2023-05-26T13:56:11.090Z"
   },
   {
    "duration": 77060,
    "start_time": "2023-05-26T13:56:11.169Z"
   },
   {
    "duration": 3,
    "start_time": "2023-05-26T13:57:28.231Z"
   },
   {
    "duration": 278,
    "start_time": "2023-05-26T13:57:28.236Z"
   },
   {
    "duration": 1341,
    "start_time": "2023-05-26T13:57:28.516Z"
   },
   {
    "duration": 1380,
    "start_time": "2023-05-26T13:57:29.860Z"
   },
   {
    "duration": 19,
    "start_time": "2023-05-26T13:57:31.243Z"
   },
   {
    "duration": 33,
    "start_time": "2023-05-26T13:57:31.264Z"
   },
   {
    "duration": 32,
    "start_time": "2023-05-26T13:57:31.299Z"
   },
   {
    "duration": 6456,
    "start_time": "2023-05-26T13:57:31.333Z"
   },
   {
    "duration": 711,
    "start_time": "2023-05-26T13:57:37.791Z"
   },
   {
    "duration": 5,
    "start_time": "2023-05-26T13:57:38.504Z"
   },
   {
    "duration": 20,
    "start_time": "2023-05-26T13:57:38.511Z"
   },
   {
    "duration": 102,
    "start_time": "2023-05-26T13:57:38.533Z"
   },
   {
    "duration": 22,
    "start_time": "2023-05-26T13:57:38.637Z"
   },
   {
    "duration": 36,
    "start_time": "2023-05-26T13:57:38.660Z"
   },
   {
    "duration": 85,
    "start_time": "2023-05-26T13:57:38.698Z"
   },
   {
    "duration": 24,
    "start_time": "2023-05-26T13:57:38.785Z"
   },
   {
    "duration": 111,
    "start_time": "2023-05-26T13:57:38.811Z"
   },
   {
    "duration": 498,
    "start_time": "2023-05-26T13:57:38.925Z"
   },
   {
    "duration": 19,
    "start_time": "2023-05-26T13:57:39.426Z"
   },
   {
    "duration": 4,
    "start_time": "2023-05-26T13:57:39.447Z"
   },
   {
    "duration": 22,
    "start_time": "2023-05-26T13:57:39.453Z"
   },
   {
    "duration": 19,
    "start_time": "2023-05-26T13:57:39.476Z"
   },
   {
    "duration": 4,
    "start_time": "2023-05-26T13:57:39.497Z"
   },
   {
    "duration": 83,
    "start_time": "2023-05-26T13:57:39.505Z"
   },
   {
    "duration": 153,
    "start_time": "2023-05-26T13:57:39.590Z"
   },
   {
    "duration": 31,
    "start_time": "2023-05-26T13:57:39.745Z"
   },
   {
    "duration": 129,
    "start_time": "2023-05-26T13:57:39.778Z"
   },
   {
    "duration": 24,
    "start_time": "2023-05-26T13:59:55.466Z"
   },
   {
    "duration": 4,
    "start_time": "2023-05-26T14:00:31.058Z"
   },
   {
    "duration": 4,
    "start_time": "2023-05-26T14:00:46.048Z"
   },
   {
    "duration": 3,
    "start_time": "2023-05-26T14:00:50.056Z"
   },
   {
    "duration": 3,
    "start_time": "2023-05-26T14:00:53.368Z"
   },
   {
    "duration": 7,
    "start_time": "2023-05-26T14:00:59.439Z"
   },
   {
    "duration": 10,
    "start_time": "2023-05-26T14:01:00.451Z"
   },
   {
    "duration": 3,
    "start_time": "2023-05-26T14:01:02.055Z"
   },
   {
    "duration": 3,
    "start_time": "2023-05-26T14:01:06.548Z"
   },
   {
    "duration": 5,
    "start_time": "2023-05-26T14:01:20.123Z"
   },
   {
    "duration": 5,
    "start_time": "2023-05-26T14:01:54.857Z"
   },
   {
    "duration": 4,
    "start_time": "2023-05-26T14:01:59.608Z"
   },
   {
    "duration": 6,
    "start_time": "2023-05-26T14:02:19.315Z"
   },
   {
    "duration": 5,
    "start_time": "2023-05-26T14:02:22.149Z"
   },
   {
    "duration": 5,
    "start_time": "2023-05-26T14:02:22.903Z"
   },
   {
    "duration": 5,
    "start_time": "2023-05-26T14:05:30.998Z"
   },
   {
    "duration": 3,
    "start_time": "2023-05-26T14:05:46.679Z"
   },
   {
    "duration": 17,
    "start_time": "2023-05-26T14:05:50.994Z"
   },
   {
    "duration": 11,
    "start_time": "2023-05-26T14:06:45.073Z"
   },
   {
    "duration": 4,
    "start_time": "2023-05-26T14:06:54.204Z"
   },
   {
    "duration": 5,
    "start_time": "2023-05-26T14:07:00.870Z"
   },
   {
    "duration": 3,
    "start_time": "2023-05-26T14:07:05.908Z"
   },
   {
    "duration": 2,
    "start_time": "2023-05-26T14:07:14.451Z"
   },
   {
    "duration": 21,
    "start_time": "2023-05-26T14:07:16.019Z"
   },
   {
    "duration": 496,
    "start_time": "2023-05-26T14:12:04.079Z"
   },
   {
    "duration": 487,
    "start_time": "2023-05-26T14:17:24.555Z"
   },
   {
    "duration": 434,
    "start_time": "2023-05-26T14:18:06.394Z"
   },
   {
    "duration": 116,
    "start_time": "2023-05-26T14:19:34.348Z"
   },
   {
    "duration": 175,
    "start_time": "2023-05-26T14:20:10.049Z"
   },
   {
    "duration": 37,
    "start_time": "2023-05-26T14:20:13.359Z"
   },
   {
    "duration": 122,
    "start_time": "2023-05-26T14:20:47.528Z"
   },
   {
    "duration": 26,
    "start_time": "2023-05-26T14:21:14.833Z"
   },
   {
    "duration": 4,
    "start_time": "2023-05-26T14:21:17.513Z"
   },
   {
    "duration": 136,
    "start_time": "2023-05-26T14:21:20.446Z"
   },
   {
    "duration": 6,
    "start_time": "2023-05-26T14:21:25.605Z"
   },
   {
    "duration": 24,
    "start_time": "2023-05-26T14:21:29.521Z"
   },
   {
    "duration": 271,
    "start_time": "2023-05-26T14:21:52.850Z"
   },
   {
    "duration": 35,
    "start_time": "2023-05-26T14:25:26.601Z"
   },
   {
    "duration": 13,
    "start_time": "2023-05-26T14:25:30.487Z"
   },
   {
    "duration": 17,
    "start_time": "2023-05-26T14:25:47.219Z"
   },
   {
    "duration": 10,
    "start_time": "2023-05-26T14:26:24.834Z"
   },
   {
    "duration": 4,
    "start_time": "2023-05-26T14:26:31.853Z"
   },
   {
    "duration": 6,
    "start_time": "2023-05-26T14:26:34.262Z"
   },
   {
    "duration": 10,
    "start_time": "2023-05-26T14:26:42.012Z"
   },
   {
    "duration": 3,
    "start_time": "2023-05-26T14:26:44.316Z"
   },
   {
    "duration": 2,
    "start_time": "2023-05-26T14:26:55.580Z"
   },
   {
    "duration": 3,
    "start_time": "2023-05-26T14:27:00.369Z"
   },
   {
    "duration": 2,
    "start_time": "2023-05-26T14:27:05.391Z"
   },
   {
    "duration": 5,
    "start_time": "2023-05-26T14:27:06.717Z"
   },
   {
    "duration": 3,
    "start_time": "2023-05-26T14:27:13.061Z"
   },
   {
    "duration": 5,
    "start_time": "2023-05-26T14:27:18.794Z"
   },
   {
    "duration": 261,
    "start_time": "2023-05-26T14:28:12.587Z"
   },
   {
    "duration": 5,
    "start_time": "2023-05-26T14:28:17.752Z"
   },
   {
    "duration": 4,
    "start_time": "2023-05-26T14:31:17.650Z"
   },
   {
    "duration": 1377,
    "start_time": "2023-05-26T15:00:22.516Z"
   },
   {
    "duration": 3,
    "start_time": "2023-05-26T15:01:18.142Z"
   },
   {
    "duration": 308,
    "start_time": "2023-05-26T15:02:12.912Z"
   },
   {
    "duration": 15037,
    "start_time": "2023-05-26T15:02:48.548Z"
   },
   {
    "duration": 97,
    "start_time": "2023-05-26T15:03:20.908Z"
   },
   {
    "duration": 5,
    "start_time": "2023-05-26T15:03:22.895Z"
   },
   {
    "duration": 16314,
    "start_time": "2023-05-26T15:03:23.400Z"
   },
   {
    "duration": 15971,
    "start_time": "2023-05-26T15:03:41.818Z"
   },
   {
    "duration": 285,
    "start_time": "2023-05-26T15:04:18.488Z"
   },
   {
    "duration": 64142,
    "start_time": "2023-05-26T15:04:48.143Z"
   },
   {
    "duration": 5,
    "start_time": "2023-05-26T15:06:23.099Z"
   },
   {
    "duration": 15509,
    "start_time": "2023-05-26T15:06:39.676Z"
   },
   {
    "duration": 63913,
    "start_time": "2023-05-26T15:06:55.198Z"
   },
   {
    "duration": 11,
    "start_time": "2023-05-26T15:07:59.114Z"
   },
   {
    "duration": 2154,
    "start_time": "2023-05-26T21:10:01.727Z"
   },
   {
    "duration": 2,
    "start_time": "2023-05-26T21:10:03.883Z"
   },
   {
    "duration": 2776,
    "start_time": "2023-05-26T21:10:03.887Z"
   },
   {
    "duration": 17,
    "start_time": "2023-05-26T21:10:06.665Z"
   },
   {
    "duration": 105,
    "start_time": "2023-05-26T21:10:06.684Z"
   },
   {
    "duration": 6,
    "start_time": "2023-05-26T21:10:06.790Z"
   },
   {
    "duration": 102,
    "start_time": "2023-05-26T21:10:06.798Z"
   },
   {
    "duration": 4,
    "start_time": "2023-05-26T21:10:06.902Z"
   },
   {
    "duration": 430,
    "start_time": "2023-05-26T21:10:06.907Z"
   },
   {
    "duration": 438,
    "start_time": "2023-05-26T21:10:07.338Z"
   },
   {
    "duration": 405,
    "start_time": "2023-05-26T21:10:07.778Z"
   },
   {
    "duration": 4,
    "start_time": "2023-05-26T21:10:08.184Z"
   },
   {
    "duration": 223,
    "start_time": "2023-05-26T21:10:08.189Z"
   },
   {
    "duration": 19,
    "start_time": "2023-05-26T21:10:08.414Z"
   },
   {
    "duration": 21,
    "start_time": "2023-05-26T21:10:08.434Z"
   },
   {
    "duration": 56,
    "start_time": "2023-05-26T21:10:08.456Z"
   },
   {
    "duration": 62982,
    "start_time": "2023-05-26T21:10:08.514Z"
   },
   {
    "duration": 2,
    "start_time": "2023-05-26T21:11:11.498Z"
   },
   {
    "duration": 186,
    "start_time": "2023-05-26T21:11:11.502Z"
   },
   {
    "duration": 1097,
    "start_time": "2023-05-26T21:11:11.690Z"
   },
   {
    "duration": 1081,
    "start_time": "2023-05-26T21:11:12.789Z"
   },
   {
    "duration": 14,
    "start_time": "2023-05-26T21:11:13.871Z"
   },
   {
    "duration": 9,
    "start_time": "2023-05-26T21:11:13.887Z"
   },
   {
    "duration": 4,
    "start_time": "2023-05-26T21:11:13.897Z"
   },
   {
    "duration": 5524,
    "start_time": "2023-05-26T21:11:13.903Z"
   },
   {
    "duration": 495,
    "start_time": "2023-05-26T21:11:19.428Z"
   },
   {
    "duration": 2,
    "start_time": "2023-05-26T21:11:19.925Z"
   },
   {
    "duration": 28,
    "start_time": "2023-05-26T21:11:19.929Z"
   },
   {
    "duration": 91,
    "start_time": "2023-05-26T21:11:19.959Z"
   },
   {
    "duration": 15,
    "start_time": "2023-05-26T21:11:20.052Z"
   },
   {
    "duration": 17,
    "start_time": "2023-05-26T21:11:20.068Z"
   },
   {
    "duration": 76,
    "start_time": "2023-05-26T21:11:20.087Z"
   },
   {
    "duration": 18,
    "start_time": "2023-05-26T21:11:20.165Z"
   },
   {
    "duration": 85,
    "start_time": "2023-05-26T21:11:20.184Z"
   },
   {
    "duration": 514,
    "start_time": "2023-05-26T21:11:20.271Z"
   },
   {
    "duration": 17,
    "start_time": "2023-05-26T21:11:20.787Z"
   },
   {
    "duration": 3,
    "start_time": "2023-05-26T21:11:20.806Z"
   },
   {
    "duration": 5,
    "start_time": "2023-05-26T21:11:20.810Z"
   },
   {
    "duration": 16,
    "start_time": "2023-05-26T21:11:20.817Z"
   },
   {
    "duration": 3,
    "start_time": "2023-05-26T21:11:20.849Z"
   },
   {
    "duration": 50,
    "start_time": "2023-05-26T21:11:20.856Z"
   },
   {
    "duration": 142,
    "start_time": "2023-05-26T21:11:20.908Z"
   },
   {
    "duration": 23,
    "start_time": "2023-05-26T21:11:21.052Z"
   },
   {
    "duration": 98,
    "start_time": "2023-05-26T21:11:21.077Z"
   },
   {
    "duration": 3,
    "start_time": "2023-05-26T21:11:21.177Z"
   },
   {
    "duration": 16,
    "start_time": "2023-05-26T21:11:21.182Z"
   },
   {
    "duration": 10,
    "start_time": "2023-05-26T21:11:21.200Z"
   },
   {
    "duration": 271,
    "start_time": "2023-05-26T21:11:21.212Z"
   },
   {
    "duration": 3,
    "start_time": "2023-05-26T21:11:21.484Z"
   },
   {
    "duration": 7,
    "start_time": "2023-05-26T21:11:21.489Z"
   },
   {
    "duration": 9258,
    "start_time": "2023-05-26T21:11:21.498Z"
   },
   {
    "duration": 42293,
    "start_time": "2023-05-26T21:11:30.758Z"
   },
   {
    "duration": 94,
    "start_time": "2023-05-26T21:12:13.057Z"
   },
   {
    "duration": 107,
    "start_time": "2023-05-26T21:12:13.153Z"
   },
   {
    "duration": 134,
    "start_time": "2023-05-27T14:24:07.986Z"
   },
   {
    "duration": 2376,
    "start_time": "2023-05-27T14:24:11.300Z"
   },
   {
    "duration": 6,
    "start_time": "2023-05-27T14:24:13.681Z"
   },
   {
    "duration": 3961,
    "start_time": "2023-05-27T14:24:13.689Z"
   },
   {
    "duration": 35,
    "start_time": "2023-05-27T14:24:17.652Z"
   },
   {
    "duration": 127,
    "start_time": "2023-05-27T14:24:17.689Z"
   },
   {
    "duration": 6,
    "start_time": "2023-05-27T14:24:17.818Z"
   },
   {
    "duration": 168,
    "start_time": "2023-05-27T14:24:17.825Z"
   },
   {
    "duration": 5,
    "start_time": "2023-05-27T14:24:17.996Z"
   },
   {
    "duration": 539,
    "start_time": "2023-05-27T14:24:18.003Z"
   },
   {
    "duration": 622,
    "start_time": "2023-05-27T14:24:18.544Z"
   },
   {
    "duration": 549,
    "start_time": "2023-05-27T14:24:19.171Z"
   },
   {
    "duration": 4,
    "start_time": "2023-05-27T14:24:19.722Z"
   },
   {
    "duration": 267,
    "start_time": "2023-05-27T14:24:19.728Z"
   },
   {
    "duration": 22,
    "start_time": "2023-05-27T14:24:19.998Z"
   },
   {
    "duration": 33,
    "start_time": "2023-05-27T14:24:20.023Z"
   },
   {
    "duration": 84,
    "start_time": "2023-05-27T14:24:20.059Z"
   },
   {
    "duration": 78290,
    "start_time": "2023-05-27T14:24:20.145Z"
   },
   {
    "duration": 3,
    "start_time": "2023-05-27T14:25:38.437Z"
   },
   {
    "duration": 256,
    "start_time": "2023-05-27T14:25:38.441Z"
   },
   {
    "duration": 1655,
    "start_time": "2023-05-27T14:25:38.698Z"
   },
   {
    "duration": 1519,
    "start_time": "2023-05-27T14:25:40.355Z"
   },
   {
    "duration": 19,
    "start_time": "2023-05-27T14:25:41.875Z"
   },
   {
    "duration": 11,
    "start_time": "2023-05-27T14:25:41.896Z"
   },
   {
    "duration": 4,
    "start_time": "2023-05-27T14:25:41.908Z"
   },
   {
    "duration": 6139,
    "start_time": "2023-05-27T14:25:41.914Z"
   },
   {
    "duration": 572,
    "start_time": "2023-05-27T14:25:48.058Z"
   },
   {
    "duration": 3,
    "start_time": "2023-05-27T14:25:48.631Z"
   },
   {
    "duration": 33,
    "start_time": "2023-05-27T14:25:48.636Z"
   },
   {
    "duration": 103,
    "start_time": "2023-05-27T14:25:48.671Z"
   },
   {
    "duration": 20,
    "start_time": "2023-05-27T14:25:48.776Z"
   },
   {
    "duration": 20,
    "start_time": "2023-05-27T14:25:48.797Z"
   },
   {
    "duration": 102,
    "start_time": "2023-05-27T14:25:48.818Z"
   },
   {
    "duration": 21,
    "start_time": "2023-05-27T14:25:48.923Z"
   },
   {
    "duration": 151,
    "start_time": "2023-05-27T14:25:48.946Z"
   },
   {
    "duration": 770,
    "start_time": "2023-05-27T14:25:49.099Z"
   },
   {
    "duration": 25,
    "start_time": "2023-05-27T14:25:49.871Z"
   },
   {
    "duration": 5,
    "start_time": "2023-05-27T14:25:49.900Z"
   },
   {
    "duration": 4,
    "start_time": "2023-05-27T14:25:49.908Z"
   },
   {
    "duration": 23,
    "start_time": "2023-05-27T14:25:49.914Z"
   },
   {
    "duration": 4,
    "start_time": "2023-05-27T14:25:49.938Z"
   },
   {
    "duration": 74,
    "start_time": "2023-05-27T14:25:49.965Z"
   },
   {
    "duration": 161,
    "start_time": "2023-05-27T14:25:50.040Z"
   },
   {
    "duration": 24,
    "start_time": "2023-05-27T14:25:50.203Z"
   },
   {
    "duration": 123,
    "start_time": "2023-05-27T14:25:50.229Z"
   },
   {
    "duration": 4,
    "start_time": "2023-05-27T14:25:50.353Z"
   },
   {
    "duration": 31,
    "start_time": "2023-05-27T14:25:50.358Z"
   },
   {
    "duration": 3,
    "start_time": "2023-05-27T14:25:50.397Z"
   },
   {
    "duration": 351,
    "start_time": "2023-05-27T14:25:50.402Z"
   },
   {
    "duration": 9,
    "start_time": "2023-05-27T14:25:50.758Z"
   },
   {
    "duration": 18,
    "start_time": "2023-05-27T14:25:50.774Z"
   },
   {
    "duration": 16082,
    "start_time": "2023-05-27T14:25:50.793Z"
   },
   {
    "duration": 69204,
    "start_time": "2023-05-27T14:26:06.959Z"
   },
   {
    "duration": 11,
    "start_time": "2023-05-27T14:27:16.171Z"
   },
   {
    "duration": 6,
    "start_time": "2023-05-27T14:27:16.184Z"
   },
   {
    "duration": 20583,
    "start_time": "2023-05-27T14:34:40.697Z"
   },
   {
    "duration": 14,
    "start_time": "2023-05-27T14:35:01.282Z"
   },
   {
    "duration": 15895,
    "start_time": "2023-05-27T14:35:50.473Z"
   },
   {
    "duration": 72488,
    "start_time": "2023-05-27T14:36:06.379Z"
   },
   {
    "duration": 6,
    "start_time": "2023-05-27T14:37:18.872Z"
   },
   {
    "duration": 17651,
    "start_time": "2023-05-27T14:38:05.611Z"
   },
   {
    "duration": 66102,
    "start_time": "2023-05-27T14:38:23.267Z"
   },
   {
    "duration": 92,
    "start_time": "2023-05-27T14:39:29.372Z"
   },
   {
    "duration": 4,
    "start_time": "2023-05-27T14:39:33.282Z"
   },
   {
    "duration": 11,
    "start_time": "2023-05-27T14:39:59.702Z"
   },
   {
    "duration": 68499,
    "start_time": "2023-05-27T14:40:06.576Z"
   },
   {
    "duration": 15,
    "start_time": "2023-05-27T14:41:15.155Z"
   },
   {
    "duration": 114,
    "start_time": "2023-05-27T14:41:24.263Z"
   },
   {
    "duration": 67583,
    "start_time": "2023-05-27T14:41:51.700Z"
   },
   {
    "duration": 4,
    "start_time": "2023-05-27T14:43:07.187Z"
   },
   {
    "duration": 3280,
    "start_time": "2023-05-27T14:48:40.690Z"
   },
   {
    "duration": 95,
    "start_time": "2023-05-27T14:49:32.411Z"
   },
   {
    "duration": 3231,
    "start_time": "2023-05-27T14:49:37.368Z"
   },
   {
    "duration": 6,
    "start_time": "2023-05-27T14:49:57.312Z"
   },
   {
    "duration": 10,
    "start_time": "2023-05-27T14:50:20.546Z"
   },
   {
    "duration": 16,
    "start_time": "2023-05-27T14:50:42.347Z"
   },
   {
    "duration": 19,
    "start_time": "2023-05-27T14:50:54.902Z"
   },
   {
    "duration": 11,
    "start_time": "2023-05-27T14:50:59.889Z"
   },
   {
    "duration": 4183,
    "start_time": "2023-05-27T14:51:46.874Z"
   },
   {
    "duration": 6163,
    "start_time": "2023-05-27T14:53:09.796Z"
   },
   {
    "duration": 5153,
    "start_time": "2023-05-27T14:53:20.004Z"
   },
   {
    "duration": 2958,
    "start_time": "2023-05-27T14:53:39.042Z"
   },
   {
    "duration": 3124,
    "start_time": "2023-05-27T14:53:52.569Z"
   },
   {
    "duration": 9,
    "start_time": "2023-05-27T14:54:30.800Z"
   },
   {
    "duration": 26361,
    "start_time": "2023-05-27T15:01:24.306Z"
   },
   {
    "duration": 15,
    "start_time": "2023-05-27T15:01:50.669Z"
   },
   {
    "duration": 0,
    "start_time": "2023-05-27T15:01:50.686Z"
   },
   {
    "duration": 0,
    "start_time": "2023-05-27T15:01:50.687Z"
   },
   {
    "duration": 1463,
    "start_time": "2023-05-27T15:03:41.977Z"
   },
   {
    "duration": 239,
    "start_time": "2023-05-27T15:05:10.751Z"
   },
   {
    "duration": 1333,
    "start_time": "2023-05-27T15:05:40.547Z"
   },
   {
    "duration": 1453,
    "start_time": "2023-05-27T15:06:18.813Z"
   },
   {
    "duration": 1295,
    "start_time": "2023-05-27T15:06:26.832Z"
   },
   {
    "duration": 64100,
    "start_time": "2023-05-27T15:54:58.371Z"
   },
   {
    "duration": 11,
    "start_time": "2023-05-27T15:56:02.474Z"
   },
   {
    "duration": 5295,
    "start_time": "2023-05-27T15:56:44.368Z"
   },
   {
    "duration": 103,
    "start_time": "2023-05-27T15:56:49.672Z"
   },
   {
    "duration": 1382,
    "start_time": "2023-05-27T15:59:12.449Z"
   },
   {
    "duration": 17202,
    "start_time": "2023-05-27T15:59:40.075Z"
   },
   {
    "duration": 157,
    "start_time": "2023-05-27T16:00:07.144Z"
   },
   {
    "duration": 149613,
    "start_time": "2023-05-27T16:00:12.385Z"
   },
   {
    "duration": 11,
    "start_time": "2023-05-27T16:02:42.000Z"
   },
   {
    "duration": 0,
    "start_time": "2023-05-27T16:02:42.013Z"
   },
   {
    "duration": 0,
    "start_time": "2023-05-27T16:02:42.014Z"
   },
   {
    "duration": 4,
    "start_time": "2023-05-27T16:03:02.514Z"
   },
   {
    "duration": 112,
    "start_time": "2023-05-27T16:03:32.743Z"
   },
   {
    "duration": 4,
    "start_time": "2023-05-27T16:03:38.039Z"
   },
   {
    "duration": 90,
    "start_time": "2023-05-27T16:03:49.995Z"
   },
   {
    "duration": 136569,
    "start_time": "2023-05-27T16:03:57.212Z"
   },
   {
    "duration": 3,
    "start_time": "2023-05-27T16:06:13.783Z"
   },
   {
    "duration": 6,
    "start_time": "2023-05-27T16:06:13.788Z"
   },
   {
    "duration": 5,
    "start_time": "2023-05-27T16:06:17.648Z"
   },
   {
    "duration": 12,
    "start_time": "2023-05-27T16:06:49.605Z"
   },
   {
    "duration": 109,
    "start_time": "2023-05-27T16:06:58.186Z"
   },
   {
    "duration": 7612,
    "start_time": "2023-05-27T16:07:20.985Z"
   },
   {
    "duration": 9,
    "start_time": "2023-05-27T16:07:32.325Z"
   },
   {
    "duration": 172,
    "start_time": "2023-05-27T16:11:08.075Z"
   },
   {
    "duration": 1590,
    "start_time": "2023-05-27T16:11:52.000Z"
   },
   {
    "duration": 3,
    "start_time": "2023-05-27T16:11:53.592Z"
   },
   {
    "duration": 3175,
    "start_time": "2023-05-27T16:11:53.597Z"
   },
   {
    "duration": 18,
    "start_time": "2023-05-27T16:11:56.774Z"
   },
   {
    "duration": 122,
    "start_time": "2023-05-27T16:11:56.794Z"
   },
   {
    "duration": 6,
    "start_time": "2023-05-27T16:11:56.918Z"
   },
   {
    "duration": 113,
    "start_time": "2023-05-27T16:11:56.926Z"
   },
   {
    "duration": 4,
    "start_time": "2023-05-27T16:11:57.040Z"
   },
   {
    "duration": 497,
    "start_time": "2023-05-27T16:11:57.046Z"
   },
   {
    "duration": 490,
    "start_time": "2023-05-27T16:11:57.545Z"
   },
   {
    "duration": 511,
    "start_time": "2023-05-27T16:11:58.037Z"
   },
   {
    "duration": 14,
    "start_time": "2023-05-27T16:11:58.551Z"
   },
   {
    "duration": 252,
    "start_time": "2023-05-27T16:11:58.567Z"
   },
   {
    "duration": 45,
    "start_time": "2023-05-27T16:11:58.823Z"
   },
   {
    "duration": 18,
    "start_time": "2023-05-27T16:11:58.876Z"
   },
   {
    "duration": 91,
    "start_time": "2023-05-27T16:11:58.896Z"
   },
   {
    "duration": 73582,
    "start_time": "2023-05-27T16:11:58.990Z"
   },
   {
    "duration": 3,
    "start_time": "2023-05-27T16:13:12.575Z"
   },
   {
    "duration": 215,
    "start_time": "2023-05-27T16:13:12.580Z"
   },
   {
    "duration": 1418,
    "start_time": "2023-05-27T16:13:12.797Z"
   },
   {
    "duration": 1457,
    "start_time": "2023-05-27T16:13:14.217Z"
   },
   {
    "duration": 17,
    "start_time": "2023-05-27T16:13:15.676Z"
   },
   {
    "duration": 44,
    "start_time": "2023-05-27T16:13:15.695Z"
   },
   {
    "duration": 64,
    "start_time": "2023-05-27T16:13:15.741Z"
   },
   {
    "duration": 6141,
    "start_time": "2023-05-27T16:13:15.807Z"
   },
   {
    "duration": 576,
    "start_time": "2023-05-27T16:13:21.950Z"
   },
   {
    "duration": 3,
    "start_time": "2023-05-27T16:13:22.528Z"
   },
   {
    "duration": 39,
    "start_time": "2023-05-27T16:13:22.532Z"
   },
   {
    "duration": 106,
    "start_time": "2023-05-27T16:13:22.574Z"
   },
   {
    "duration": 17,
    "start_time": "2023-05-27T16:13:22.681Z"
   },
   {
    "duration": 33,
    "start_time": "2023-05-27T16:13:22.700Z"
   },
   {
    "duration": 73,
    "start_time": "2023-05-27T16:13:22.735Z"
   },
   {
    "duration": 22,
    "start_time": "2023-05-27T16:13:22.810Z"
   },
   {
    "duration": 115,
    "start_time": "2023-05-27T16:13:22.834Z"
   },
   {
    "duration": 600,
    "start_time": "2023-05-27T16:13:22.951Z"
   },
   {
    "duration": 27,
    "start_time": "2023-05-27T16:13:23.558Z"
   },
   {
    "duration": 3,
    "start_time": "2023-05-27T16:13:23.587Z"
   },
   {
    "duration": 6,
    "start_time": "2023-05-27T16:13:23.591Z"
   },
   {
    "duration": 22,
    "start_time": "2023-05-27T16:13:23.599Z"
   },
   {
    "duration": 3,
    "start_time": "2023-05-27T16:13:23.623Z"
   },
   {
    "duration": 85,
    "start_time": "2023-05-27T16:13:23.630Z"
   },
   {
    "duration": 150,
    "start_time": "2023-05-27T16:13:23.717Z"
   },
   {
    "duration": 24,
    "start_time": "2023-05-27T16:13:23.870Z"
   },
   {
    "duration": 92,
    "start_time": "2023-05-27T16:13:23.896Z"
   },
   {
    "duration": 3,
    "start_time": "2023-05-27T16:13:23.990Z"
   },
   {
    "duration": 28,
    "start_time": "2023-05-27T16:13:23.994Z"
   },
   {
    "duration": 19,
    "start_time": "2023-05-27T16:13:24.024Z"
   },
   {
    "duration": 327,
    "start_time": "2023-05-27T16:13:24.045Z"
   },
   {
    "duration": 3,
    "start_time": "2023-05-27T16:13:24.374Z"
   },
   {
    "duration": 5,
    "start_time": "2023-05-27T16:13:24.379Z"
   },
   {
    "duration": 6640,
    "start_time": "2023-05-27T16:13:24.385Z"
   },
   {
    "duration": 88,
    "start_time": "2023-05-27T16:13:31.027Z"
   },
   {
    "duration": 14,
    "start_time": "2023-05-27T16:13:31.117Z"
   },
   {
    "duration": 0,
    "start_time": "2023-05-27T16:13:31.133Z"
   },
   {
    "duration": 0,
    "start_time": "2023-05-27T16:13:31.135Z"
   },
   {
    "duration": 9,
    "start_time": "2023-05-27T16:13:32.143Z"
   },
   {
    "duration": 0,
    "start_time": "2023-05-27T16:13:32.154Z"
   },
   {
    "duration": 0,
    "start_time": "2023-05-27T16:13:32.156Z"
   },
   {
    "duration": 0,
    "start_time": "2023-05-27T16:13:32.157Z"
   },
   {
    "duration": 0,
    "start_time": "2023-05-27T16:13:32.158Z"
   },
   {
    "duration": 88,
    "start_time": "2023-05-27T16:13:32.161Z"
   },
   {
    "duration": 15,
    "start_time": "2023-05-27T16:13:32.251Z"
   },
   {
    "duration": 0,
    "start_time": "2023-05-27T16:13:32.267Z"
   },
   {
    "duration": 0,
    "start_time": "2023-05-27T16:13:32.269Z"
   },
   {
    "duration": 0,
    "start_time": "2023-05-27T16:13:32.271Z"
   },
   {
    "duration": 0,
    "start_time": "2023-05-27T16:13:32.272Z"
   },
   {
    "duration": 0,
    "start_time": "2023-05-27T16:13:32.273Z"
   },
   {
    "duration": 0,
    "start_time": "2023-05-27T16:13:32.274Z"
   },
   {
    "duration": 11,
    "start_time": "2023-05-27T16:14:02.155Z"
   },
   {
    "duration": 18,
    "start_time": "2023-05-27T16:14:02.168Z"
   },
   {
    "duration": 845,
    "start_time": "2023-05-27T16:14:02.188Z"
   },
   {
    "duration": 22,
    "start_time": "2023-05-27T16:14:03.035Z"
   },
   {
    "duration": 145,
    "start_time": "2023-05-27T16:14:03.065Z"
   },
   {
    "duration": 8,
    "start_time": "2023-05-27T16:14:03.212Z"
   },
   {
    "duration": 124,
    "start_time": "2023-05-27T16:14:03.222Z"
   },
   {
    "duration": 4,
    "start_time": "2023-05-27T16:14:03.348Z"
   },
   {
    "duration": 472,
    "start_time": "2023-05-27T16:14:03.354Z"
   },
   {
    "duration": 476,
    "start_time": "2023-05-27T16:14:03.827Z"
   },
   {
    "duration": 695,
    "start_time": "2023-05-27T16:14:04.305Z"
   },
   {
    "duration": 60,
    "start_time": "2023-05-27T16:14:05.002Z"
   },
   {
    "duration": 438,
    "start_time": "2023-05-27T16:14:05.064Z"
   },
   {
    "duration": 40,
    "start_time": "2023-05-27T16:14:05.557Z"
   },
   {
    "duration": 82,
    "start_time": "2023-05-27T16:14:05.599Z"
   },
   {
    "duration": 115,
    "start_time": "2023-05-27T16:14:05.682Z"
   },
   {
    "duration": 74552,
    "start_time": "2023-05-27T16:14:05.799Z"
   },
   {
    "duration": 17,
    "start_time": "2023-05-27T16:15:20.364Z"
   },
   {
    "duration": 208,
    "start_time": "2023-05-27T16:15:20.383Z"
   },
   {
    "duration": 1582,
    "start_time": "2023-05-27T16:15:20.593Z"
   },
   {
    "duration": 1633,
    "start_time": "2023-05-27T16:15:22.177Z"
   },
   {
    "duration": 17,
    "start_time": "2023-05-27T16:15:23.811Z"
   },
   {
    "duration": 43,
    "start_time": "2023-05-27T16:15:23.830Z"
   },
   {
    "duration": 10,
    "start_time": "2023-05-27T16:15:23.875Z"
   },
   {
    "duration": 6073,
    "start_time": "2023-05-27T16:15:23.887Z"
   },
   {
    "duration": 715,
    "start_time": "2023-05-27T16:15:29.965Z"
   },
   {
    "duration": 4,
    "start_time": "2023-05-27T16:15:30.682Z"
   },
   {
    "duration": 69,
    "start_time": "2023-05-27T16:15:30.688Z"
   },
   {
    "duration": 138,
    "start_time": "2023-05-27T16:15:30.759Z"
   },
   {
    "duration": 19,
    "start_time": "2023-05-27T16:15:30.899Z"
   },
   {
    "duration": 43,
    "start_time": "2023-05-27T16:15:30.920Z"
   },
   {
    "duration": 83,
    "start_time": "2023-05-27T16:15:30.965Z"
   },
   {
    "duration": 28,
    "start_time": "2023-05-27T16:15:31.049Z"
   },
   {
    "duration": 136,
    "start_time": "2023-05-27T16:15:31.079Z"
   },
   {
    "duration": 631,
    "start_time": "2023-05-27T16:15:31.217Z"
   },
   {
    "duration": 26,
    "start_time": "2023-05-27T16:15:31.850Z"
   },
   {
    "duration": 104,
    "start_time": "2023-05-27T16:15:31.878Z"
   },
   {
    "duration": 37,
    "start_time": "2023-05-27T16:15:31.984Z"
   },
   {
    "duration": 26,
    "start_time": "2023-05-27T16:15:32.022Z"
   },
   {
    "duration": 23,
    "start_time": "2023-05-27T16:15:32.050Z"
   },
   {
    "duration": 76,
    "start_time": "2023-05-27T16:15:32.077Z"
   },
   {
    "duration": 139,
    "start_time": "2023-05-27T16:15:32.156Z"
   },
   {
    "duration": 25,
    "start_time": "2023-05-27T16:15:32.297Z"
   },
   {
    "duration": 117,
    "start_time": "2023-05-27T16:15:32.323Z"
   },
   {
    "duration": 4,
    "start_time": "2023-05-27T16:15:32.442Z"
   },
   {
    "duration": 36,
    "start_time": "2023-05-27T16:15:32.448Z"
   },
   {
    "duration": 9,
    "start_time": "2023-05-27T16:15:32.488Z"
   },
   {
    "duration": 213,
    "start_time": "2023-05-27T16:15:32.499Z"
   },
   {
    "duration": 2,
    "start_time": "2023-05-27T16:15:32.714Z"
   },
   {
    "duration": 19,
    "start_time": "2023-05-27T16:15:32.718Z"
   },
   {
    "duration": 15331,
    "start_time": "2023-05-27T16:15:32.739Z"
   },
   {
    "duration": 139,
    "start_time": "2023-05-27T16:15:48.072Z"
   },
   {
    "duration": 12,
    "start_time": "2023-05-27T16:15:48.213Z"
   },
   {
    "duration": 0,
    "start_time": "2023-05-27T16:15:48.227Z"
   },
   {
    "duration": 0,
    "start_time": "2023-05-27T16:15:48.229Z"
   },
   {
    "duration": 0,
    "start_time": "2023-05-27T16:15:48.230Z"
   },
   {
    "duration": 0,
    "start_time": "2023-05-27T16:15:48.231Z"
   },
   {
    "duration": 0,
    "start_time": "2023-05-27T16:15:48.232Z"
   },
   {
    "duration": 0,
    "start_time": "2023-05-27T16:15:48.234Z"
   },
   {
    "duration": 67650,
    "start_time": "2023-05-27T16:16:01.531Z"
   },
   {
    "duration": 13,
    "start_time": "2023-05-27T16:17:09.260Z"
   },
   {
    "duration": 3485,
    "start_time": "2023-05-27T16:17:09.275Z"
   },
   {
    "duration": 91,
    "start_time": "2023-05-27T16:17:12.770Z"
   },
   {
    "duration": 1642,
    "start_time": "2023-05-27T16:17:49.400Z"
   },
   {
    "duration": 2,
    "start_time": "2023-05-27T16:17:51.045Z"
   },
   {
    "duration": 3450,
    "start_time": "2023-05-27T16:17:51.049Z"
   },
   {
    "duration": 20,
    "start_time": "2023-05-27T16:17:54.501Z"
   },
   {
    "duration": 141,
    "start_time": "2023-05-27T16:17:54.523Z"
   },
   {
    "duration": 14,
    "start_time": "2023-05-27T16:17:54.667Z"
   },
   {
    "duration": 129,
    "start_time": "2023-05-27T16:17:54.683Z"
   },
   {
    "duration": 5,
    "start_time": "2023-05-27T16:17:54.814Z"
   },
   {
    "duration": 625,
    "start_time": "2023-05-27T16:17:54.823Z"
   },
   {
    "duration": 622,
    "start_time": "2023-05-27T16:17:55.450Z"
   },
   {
    "duration": 524,
    "start_time": "2023-05-27T16:17:56.074Z"
   },
   {
    "duration": 5,
    "start_time": "2023-05-27T16:17:56.601Z"
   },
   {
    "duration": 243,
    "start_time": "2023-05-27T16:17:56.607Z"
   },
   {
    "duration": 29,
    "start_time": "2023-05-27T16:17:56.853Z"
   },
   {
    "duration": 20,
    "start_time": "2023-05-27T16:17:56.884Z"
   },
   {
    "duration": 100,
    "start_time": "2023-05-27T16:17:56.906Z"
   },
   {
    "duration": 73613,
    "start_time": "2023-05-27T16:17:57.008Z"
   },
   {
    "duration": 3,
    "start_time": "2023-05-27T16:19:10.624Z"
   },
   {
    "duration": 241,
    "start_time": "2023-05-27T16:19:10.628Z"
   },
   {
    "duration": 1520,
    "start_time": "2023-05-27T16:19:10.873Z"
   },
   {
    "duration": 1466,
    "start_time": "2023-05-27T16:19:12.396Z"
   },
   {
    "duration": 20,
    "start_time": "2023-05-27T16:19:13.864Z"
   },
   {
    "duration": 17,
    "start_time": "2023-05-27T16:19:13.887Z"
   },
   {
    "duration": 7,
    "start_time": "2023-05-27T16:19:13.905Z"
   },
   {
    "duration": 6281,
    "start_time": "2023-05-27T16:19:13.914Z"
   },
   {
    "duration": 577,
    "start_time": "2023-05-27T16:19:20.197Z"
   },
   {
    "duration": 3,
    "start_time": "2023-05-27T16:19:20.776Z"
   },
   {
    "duration": 20,
    "start_time": "2023-05-27T16:19:20.781Z"
   },
   {
    "duration": 120,
    "start_time": "2023-05-27T16:19:20.803Z"
   },
   {
    "duration": 18,
    "start_time": "2023-05-27T16:19:20.925Z"
   },
   {
    "duration": 32,
    "start_time": "2023-05-27T16:19:20.944Z"
   },
   {
    "duration": 84,
    "start_time": "2023-05-27T16:19:20.979Z"
   },
   {
    "duration": 24,
    "start_time": "2023-05-27T16:19:21.064Z"
   },
   {
    "duration": 114,
    "start_time": "2023-05-27T16:19:21.090Z"
   },
   {
    "duration": 518,
    "start_time": "2023-05-27T16:19:21.206Z"
   },
   {
    "duration": 37,
    "start_time": "2023-05-27T16:19:21.726Z"
   },
   {
    "duration": 9,
    "start_time": "2023-05-27T16:19:21.765Z"
   },
   {
    "duration": 34,
    "start_time": "2023-05-27T16:19:21.776Z"
   },
   {
    "duration": 33,
    "start_time": "2023-05-27T16:19:21.812Z"
   },
   {
    "duration": 3,
    "start_time": "2023-05-27T16:19:21.848Z"
   },
   {
    "duration": 79,
    "start_time": "2023-05-27T16:19:21.859Z"
   },
   {
    "duration": 142,
    "start_time": "2023-05-27T16:19:21.939Z"
   },
   {
    "duration": 24,
    "start_time": "2023-05-27T16:19:22.083Z"
   },
   {
    "duration": 181,
    "start_time": "2023-05-27T16:19:22.109Z"
   },
   {
    "duration": 3,
    "start_time": "2023-05-27T16:19:22.292Z"
   },
   {
    "duration": 25,
    "start_time": "2023-05-27T16:19:22.297Z"
   },
   {
    "duration": 5,
    "start_time": "2023-05-27T16:19:22.324Z"
   },
   {
    "duration": 234,
    "start_time": "2023-05-27T16:19:22.331Z"
   },
   {
    "duration": 9,
    "start_time": "2023-05-27T16:19:22.568Z"
   },
   {
    "duration": 8,
    "start_time": "2023-05-27T16:19:22.579Z"
   },
   {
    "duration": 15184,
    "start_time": "2023-05-27T16:19:22.589Z"
   },
   {
    "duration": 65598,
    "start_time": "2023-05-27T16:19:37.774Z"
   },
   {
    "duration": 85,
    "start_time": "2023-05-27T16:20:43.376Z"
   },
   {
    "duration": 3395,
    "start_time": "2023-05-27T16:20:43.467Z"
   },
   {
    "duration": 96,
    "start_time": "2023-05-27T16:20:46.864Z"
   },
   {
    "duration": 1607,
    "start_time": "2023-05-27T16:22:00.159Z"
   },
   {
    "duration": 5,
    "start_time": "2023-05-27T16:22:01.771Z"
   },
   {
    "duration": 3043,
    "start_time": "2023-05-27T16:22:01.778Z"
   },
   {
    "duration": 20,
    "start_time": "2023-05-27T16:22:04.823Z"
   },
   {
    "duration": 134,
    "start_time": "2023-05-27T16:22:04.846Z"
   },
   {
    "duration": 7,
    "start_time": "2023-05-27T16:22:04.982Z"
   },
   {
    "duration": 135,
    "start_time": "2023-05-27T16:22:04.991Z"
   },
   {
    "duration": 4,
    "start_time": "2023-05-27T16:22:05.128Z"
   },
   {
    "duration": 572,
    "start_time": "2023-05-27T16:22:05.134Z"
   },
   {
    "duration": 592,
    "start_time": "2023-05-27T16:22:05.708Z"
   },
   {
    "duration": 551,
    "start_time": "2023-05-27T16:22:06.302Z"
   },
   {
    "duration": 7,
    "start_time": "2023-05-27T16:22:06.855Z"
   },
   {
    "duration": 258,
    "start_time": "2023-05-27T16:22:06.864Z"
   },
   {
    "duration": 33,
    "start_time": "2023-05-27T16:22:07.126Z"
   },
   {
    "duration": 17,
    "start_time": "2023-05-27T16:22:07.172Z"
   },
   {
    "duration": 76,
    "start_time": "2023-05-27T16:22:07.191Z"
   },
   {
    "duration": 73395,
    "start_time": "2023-05-27T16:22:07.271Z"
   },
   {
    "duration": 3,
    "start_time": "2023-05-27T16:23:20.671Z"
   },
   {
    "duration": 255,
    "start_time": "2023-05-27T16:23:20.676Z"
   },
   {
    "duration": 1542,
    "start_time": "2023-05-27T16:23:20.933Z"
   },
   {
    "duration": 1557,
    "start_time": "2023-05-27T16:23:22.477Z"
   },
   {
    "duration": 30,
    "start_time": "2023-05-27T16:23:24.036Z"
   },
   {
    "duration": 17,
    "start_time": "2023-05-27T16:23:24.074Z"
   },
   {
    "duration": 8,
    "start_time": "2023-05-27T16:23:24.093Z"
   },
   {
    "duration": 6016,
    "start_time": "2023-05-27T16:23:24.103Z"
   },
   {
    "duration": 568,
    "start_time": "2023-05-27T16:23:30.121Z"
   },
   {
    "duration": 3,
    "start_time": "2023-05-27T16:23:30.691Z"
   },
   {
    "duration": 54,
    "start_time": "2023-05-27T16:23:30.696Z"
   },
   {
    "duration": 142,
    "start_time": "2023-05-27T16:23:30.752Z"
   },
   {
    "duration": 19,
    "start_time": "2023-05-27T16:23:30.896Z"
   },
   {
    "duration": 55,
    "start_time": "2023-05-27T16:23:30.917Z"
   },
   {
    "duration": 98,
    "start_time": "2023-05-27T16:23:30.975Z"
   },
   {
    "duration": 54,
    "start_time": "2023-05-27T16:23:31.076Z"
   },
   {
    "duration": 144,
    "start_time": "2023-05-27T16:23:31.133Z"
   },
   {
    "duration": 598,
    "start_time": "2023-05-27T16:23:31.279Z"
   },
   {
    "duration": 20,
    "start_time": "2023-05-27T16:23:31.880Z"
   },
   {
    "duration": 24,
    "start_time": "2023-05-27T16:23:31.902Z"
   },
   {
    "duration": 20,
    "start_time": "2023-05-27T16:23:31.928Z"
   },
   {
    "duration": 48,
    "start_time": "2023-05-27T16:23:31.951Z"
   },
   {
    "duration": 36,
    "start_time": "2023-05-27T16:23:32.001Z"
   },
   {
    "duration": 95,
    "start_time": "2023-05-27T16:23:32.041Z"
   },
   {
    "duration": 140,
    "start_time": "2023-05-27T16:23:32.138Z"
   },
   {
    "duration": 24,
    "start_time": "2023-05-27T16:23:32.280Z"
   },
   {
    "duration": 116,
    "start_time": "2023-05-27T16:23:32.306Z"
   },
   {
    "duration": 3,
    "start_time": "2023-05-27T16:23:32.424Z"
   },
   {
    "duration": 35,
    "start_time": "2023-05-27T16:23:32.429Z"
   },
   {
    "duration": 8,
    "start_time": "2023-05-27T16:23:32.465Z"
   },
   {
    "duration": 221,
    "start_time": "2023-05-27T16:23:32.477Z"
   },
   {
    "duration": 3,
    "start_time": "2023-05-27T16:23:32.700Z"
   },
   {
    "duration": 17,
    "start_time": "2023-05-27T16:23:32.705Z"
   },
   {
    "duration": 16133,
    "start_time": "2023-05-27T16:23:32.725Z"
   },
   {
    "duration": 67593,
    "start_time": "2023-05-27T16:23:48.866Z"
   },
   {
    "duration": 8,
    "start_time": "2023-05-27T16:24:56.461Z"
   },
   {
    "duration": 3599,
    "start_time": "2023-05-27T16:24:56.472Z"
   },
   {
    "duration": 90,
    "start_time": "2023-05-27T16:25:00.073Z"
   },
   {
    "duration": 101,
    "start_time": "2023-05-27T16:36:24.431Z"
   },
   {
    "duration": 5,
    "start_time": "2023-05-27T16:36:37.705Z"
   },
   {
    "duration": 13,
    "start_time": "2023-05-27T16:37:12.336Z"
   },
   {
    "duration": 4,
    "start_time": "2023-05-27T16:37:27.248Z"
   },
   {
    "duration": 117,
    "start_time": "2023-05-27T16:38:25.628Z"
   },
   {
    "duration": 4,
    "start_time": "2023-05-27T16:38:39.983Z"
   },
   {
    "duration": 16,
    "start_time": "2023-05-27T16:38:49.996Z"
   },
   {
    "duration": 3,
    "start_time": "2023-05-27T16:38:57.297Z"
   },
   {
    "duration": 3,
    "start_time": "2023-05-27T16:39:02.196Z"
   },
   {
    "duration": 4,
    "start_time": "2023-05-27T16:39:06.238Z"
   },
   {
    "duration": 220,
    "start_time": "2023-05-27T16:39:08.006Z"
   },
   {
    "duration": 14,
    "start_time": "2023-05-27T16:39:21.704Z"
   },
   {
    "duration": 223,
    "start_time": "2023-05-27T16:39:31.720Z"
   },
   {
    "duration": 822,
    "start_time": "2023-05-27T16:39:32.208Z"
   },
   {
    "duration": 5,
    "start_time": "2023-05-27T16:39:42.308Z"
   },
   {
    "duration": 207,
    "start_time": "2023-05-27T16:39:42.792Z"
   },
   {
    "duration": 2883,
    "start_time": "2023-05-27T16:39:43.326Z"
   },
   {
    "duration": 8,
    "start_time": "2023-05-27T16:40:10.702Z"
   },
   {
    "duration": 2121,
    "start_time": "2023-05-27T16:40:14.001Z"
   },
   {
    "duration": 7,
    "start_time": "2023-05-27T16:40:39.592Z"
   },
   {
    "duration": 7,
    "start_time": "2023-05-27T16:40:39.995Z"
   },
   {
    "duration": 248,
    "start_time": "2023-05-27T16:40:40.487Z"
   },
   {
    "duration": 2012,
    "start_time": "2023-05-27T16:40:41.189Z"
   },
   {
    "duration": 11,
    "start_time": "2023-05-27T16:41:45.966Z"
   },
   {
    "duration": 13,
    "start_time": "2023-05-27T16:41:46.965Z"
   },
   {
    "duration": 230,
    "start_time": "2023-05-27T16:41:47.385Z"
   },
   {
    "duration": 2081,
    "start_time": "2023-05-27T16:41:48.619Z"
   },
   {
    "duration": 7,
    "start_time": "2023-05-27T16:42:17.479Z"
   },
   {
    "duration": 4,
    "start_time": "2023-05-27T16:42:18.020Z"
   },
   {
    "duration": 225,
    "start_time": "2023-05-27T16:42:18.389Z"
   },
   {
    "duration": 2082,
    "start_time": "2023-05-27T16:42:18.633Z"
   },
   {
    "duration": 5,
    "start_time": "2023-05-27T16:42:32.585Z"
   },
   {
    "duration": 4,
    "start_time": "2023-05-27T16:42:32.905Z"
   },
   {
    "duration": 260,
    "start_time": "2023-05-27T16:42:33.180Z"
   },
   {
    "duration": 61313,
    "start_time": "2023-05-27T16:42:33.594Z"
   },
   {
    "duration": 3,
    "start_time": "2023-05-27T16:43:46.437Z"
   },
   {
    "duration": 218,
    "start_time": "2023-05-27T16:43:46.903Z"
   },
   {
    "duration": 15202,
    "start_time": "2023-05-27T16:43:47.390Z"
   },
   {
    "duration": 4,
    "start_time": "2023-05-27T16:44:07.908Z"
   },
   {
    "duration": 324,
    "start_time": "2023-05-27T16:44:08.246Z"
   },
   {
    "duration": 36812,
    "start_time": "2023-05-27T16:44:08.631Z"
   },
   {
    "duration": 3,
    "start_time": "2023-05-27T16:44:55.135Z"
   },
   {
    "duration": 245,
    "start_time": "2023-05-27T16:44:55.642Z"
   },
   {
    "duration": 198605,
    "start_time": "2023-05-27T16:44:56.582Z"
   },
   {
    "duration": 21,
    "start_time": "2023-05-27T16:48:15.194Z"
   },
   {
    "duration": 1535,
    "start_time": "2023-05-27T16:48:36.491Z"
   },
   {
    "duration": 37,
    "start_time": "2023-05-27T16:48:45.659Z"
   },
   {
    "duration": 16637,
    "start_time": "2023-05-27T16:48:54.814Z"
   },
   {
    "duration": 35,
    "start_time": "2023-05-27T16:49:16.555Z"
   },
   {
    "duration": 16,
    "start_time": "2023-05-27T16:49:50.098Z"
   },
   {
    "duration": 5,
    "start_time": "2023-05-27T16:50:13.387Z"
   },
   {
    "duration": 264,
    "start_time": "2023-05-27T16:50:14.359Z"
   },
   {
    "duration": 19,
    "start_time": "2023-05-27T16:50:15.028Z"
   },
   {
    "duration": 10685,
    "start_time": "2023-05-27T16:50:21.760Z"
   },
   {
    "duration": 26,
    "start_time": "2023-05-27T16:51:02.992Z"
   },
   {
    "duration": 21,
    "start_time": "2023-05-27T16:51:04.891Z"
   },
   {
    "duration": 5,
    "start_time": "2023-05-27T16:52:04.834Z"
   },
   {
    "duration": 291,
    "start_time": "2023-05-27T16:52:05.209Z"
   },
   {
    "duration": 22,
    "start_time": "2023-05-27T16:52:05.807Z"
   },
   {
    "duration": 731,
    "start_time": "2023-05-27T16:52:06.803Z"
   },
   {
    "duration": 6,
    "start_time": "2023-05-27T16:52:12.857Z"
   },
   {
    "duration": 266,
    "start_time": "2023-05-27T16:52:13.042Z"
   },
   {
    "duration": 21,
    "start_time": "2023-05-27T16:52:13.310Z"
   },
   {
    "duration": 11007,
    "start_time": "2023-05-27T16:52:13.628Z"
   },
   {
    "duration": 4,
    "start_time": "2023-05-27T16:52:27.809Z"
   },
   {
    "duration": 249,
    "start_time": "2023-05-27T16:52:28.294Z"
   },
   {
    "duration": 47,
    "start_time": "2023-05-27T16:52:28.546Z"
   },
   {
    "duration": 5312,
    "start_time": "2023-05-27T16:52:28.999Z"
   },
   {
    "duration": 11,
    "start_time": "2023-05-27T16:52:37.388Z"
   },
   {
    "duration": 293,
    "start_time": "2023-05-27T16:52:37.629Z"
   },
   {
    "duration": 19,
    "start_time": "2023-05-27T16:52:37.925Z"
   },
   {
    "duration": 12369,
    "start_time": "2023-05-27T16:52:38.097Z"
   },
   {
    "duration": 83349,
    "start_time": "2023-05-27T16:53:10.729Z"
   },
   {
    "duration": 0,
    "start_time": "2023-05-27T16:54:34.091Z"
   },
   {
    "duration": 5,
    "start_time": "2023-05-27T16:54:35.910Z"
   },
   {
    "duration": 115,
    "start_time": "2023-05-27T16:54:36.832Z"
   },
   {
    "duration": 4,
    "start_time": "2023-05-27T16:54:44.613Z"
   },
   {
    "duration": 244,
    "start_time": "2023-05-27T16:54:45.921Z"
   },
   {
    "duration": 28,
    "start_time": "2023-05-27T16:54:46.358Z"
   },
   {
    "duration": 19,
    "start_time": "2023-05-27T16:54:49.984Z"
   },
   {
    "duration": 23,
    "start_time": "2023-05-27T16:54:54.994Z"
   },
   {
    "duration": 0,
    "start_time": "2023-05-27T16:55:38.026Z"
   },
   {
    "duration": 0,
    "start_time": "2023-05-27T16:55:38.027Z"
   },
   {
    "duration": 18,
    "start_time": "2023-05-27T16:55:44.634Z"
   },
   {
    "duration": 5,
    "start_time": "2023-05-27T16:56:56.039Z"
   },
   {
    "duration": 251,
    "start_time": "2023-05-27T16:56:57.130Z"
   },
   {
    "duration": 32,
    "start_time": "2023-05-27T16:56:57.442Z"
   },
   {
    "duration": 9136,
    "start_time": "2023-05-27T16:56:59.518Z"
   },
   {
    "duration": 4,
    "start_time": "2023-05-27T16:57:16.398Z"
   },
   {
    "duration": 272,
    "start_time": "2023-05-27T16:57:16.843Z"
   },
   {
    "duration": 24,
    "start_time": "2023-05-27T16:57:17.187Z"
   },
   {
    "duration": 16680,
    "start_time": "2023-05-27T16:57:17.421Z"
   },
   {
    "duration": 17,
    "start_time": "2023-05-27T16:57:50.405Z"
   },
   {
    "duration": 404,
    "start_time": "2023-05-27T16:57:51.032Z"
   },
   {
    "duration": 39,
    "start_time": "2023-05-27T16:57:51.440Z"
   },
   {
    "duration": 20057,
    "start_time": "2023-05-27T16:57:51.737Z"
   },
   {
    "duration": 5,
    "start_time": "2023-05-27T16:58:25.204Z"
   },
   {
    "duration": 294,
    "start_time": "2023-05-27T16:58:25.629Z"
   },
   {
    "duration": 20,
    "start_time": "2023-05-27T16:58:25.925Z"
   },
   {
    "duration": 46593,
    "start_time": "2023-05-27T16:58:26.298Z"
   },
   {
    "duration": 5,
    "start_time": "2023-05-27T16:59:24.089Z"
   },
   {
    "duration": 246,
    "start_time": "2023-05-27T16:59:24.390Z"
   },
   {
    "duration": 19,
    "start_time": "2023-05-27T16:59:24.736Z"
   },
   {
    "duration": 41276,
    "start_time": "2023-05-27T16:59:25.322Z"
   },
   {
    "duration": 12,
    "start_time": "2023-05-27T17:01:30.906Z"
   },
   {
    "duration": 3,
    "start_time": "2023-05-27T17:02:47.392Z"
   },
   {
    "duration": 252,
    "start_time": "2023-05-27T17:02:47.621Z"
   },
   {
    "duration": 20,
    "start_time": "2023-05-27T17:02:47.879Z"
   },
   {
    "duration": 14088,
    "start_time": "2023-05-27T17:02:48.050Z"
   },
   {
    "duration": 12,
    "start_time": "2023-05-27T17:03:04.589Z"
   },
   {
    "duration": 37947,
    "start_time": "2023-05-27T17:03:19.189Z"
   },
   {
    "duration": 21,
    "start_time": "2023-05-27T17:03:57.139Z"
   },
   {
    "duration": 3,
    "start_time": "2023-05-27T17:04:17.841Z"
   },
   {
    "duration": 284,
    "start_time": "2023-05-27T17:04:18.226Z"
   },
   {
    "duration": 18,
    "start_time": "2023-05-27T17:04:18.735Z"
   },
   {
    "duration": 88,
    "start_time": "2023-05-27T17:04:21.236Z"
   },
   {
    "duration": 183025,
    "start_time": "2023-05-27T17:04:28.891Z"
   },
   {
    "duration": 4,
    "start_time": "2023-05-27T17:08:59.329Z"
   },
   {
    "duration": 237,
    "start_time": "2023-05-27T17:08:59.756Z"
   },
   {
    "duration": 45846,
    "start_time": "2023-05-27T17:09:01.284Z"
   },
   {
    "duration": 1907,
    "start_time": "2023-05-27T17:16:02.703Z"
   },
   {
    "duration": 10,
    "start_time": "2023-05-27T17:16:04.613Z"
   },
   {
    "duration": 5271,
    "start_time": "2023-05-27T17:16:04.626Z"
   },
   {
    "duration": 47,
    "start_time": "2023-05-27T17:16:09.904Z"
   },
   {
    "duration": 254,
    "start_time": "2023-05-27T17:16:09.954Z"
   },
   {
    "duration": 25,
    "start_time": "2023-05-27T17:16:10.213Z"
   },
   {
    "duration": 152,
    "start_time": "2023-05-27T17:16:10.243Z"
   },
   {
    "duration": 9,
    "start_time": "2023-05-27T17:16:10.397Z"
   },
   {
    "duration": 718,
    "start_time": "2023-05-27T17:16:10.409Z"
   },
   {
    "duration": 682,
    "start_time": "2023-05-27T17:16:11.129Z"
   },
   {
    "duration": 614,
    "start_time": "2023-05-27T17:16:11.819Z"
   },
   {
    "duration": 5,
    "start_time": "2023-05-27T17:16:12.434Z"
   },
   {
    "duration": 295,
    "start_time": "2023-05-27T17:16:12.440Z"
   },
   {
    "duration": 27,
    "start_time": "2023-05-27T17:16:12.738Z"
   },
   {
    "duration": 29,
    "start_time": "2023-05-27T17:16:12.767Z"
   },
   {
    "duration": 69,
    "start_time": "2023-05-27T17:16:12.797Z"
   },
   {
    "duration": 87319,
    "start_time": "2023-05-27T17:16:12.872Z"
   },
   {
    "duration": 2,
    "start_time": "2023-05-27T17:17:40.193Z"
   },
   {
    "duration": 238,
    "start_time": "2023-05-27T17:17:40.198Z"
   },
   {
    "duration": 1667,
    "start_time": "2023-05-27T17:17:40.438Z"
   },
   {
    "duration": 1678,
    "start_time": "2023-05-27T17:17:42.107Z"
   },
   {
    "duration": 20,
    "start_time": "2023-05-27T17:17:43.789Z"
   },
   {
    "duration": 12,
    "start_time": "2023-05-27T17:17:43.810Z"
   },
   {
    "duration": 7,
    "start_time": "2023-05-27T17:17:43.824Z"
   },
   {
    "duration": 7280,
    "start_time": "2023-05-27T17:17:43.832Z"
   },
   {
    "duration": 615,
    "start_time": "2023-05-27T17:17:51.114Z"
   },
   {
    "duration": 4,
    "start_time": "2023-05-27T17:17:51.731Z"
   },
   {
    "duration": 55,
    "start_time": "2023-05-27T17:17:51.737Z"
   },
   {
    "duration": 144,
    "start_time": "2023-05-27T17:17:51.797Z"
   },
   {
    "duration": 44,
    "start_time": "2023-05-27T17:17:51.944Z"
   },
   {
    "duration": 28,
    "start_time": "2023-05-27T17:17:51.998Z"
   },
   {
    "duration": 80,
    "start_time": "2023-05-27T17:17:52.029Z"
   },
   {
    "duration": 30,
    "start_time": "2023-05-27T17:17:52.112Z"
   },
   {
    "duration": 240,
    "start_time": "2023-05-27T17:17:52.145Z"
   },
   {
    "duration": 728,
    "start_time": "2023-05-27T17:17:52.392Z"
   },
   {
    "duration": 42,
    "start_time": "2023-05-27T17:17:53.122Z"
   },
   {
    "duration": 5,
    "start_time": "2023-05-27T17:17:53.166Z"
   },
   {
    "duration": 13,
    "start_time": "2023-05-27T17:17:53.173Z"
   },
   {
    "duration": 32,
    "start_time": "2023-05-27T17:17:53.189Z"
   },
   {
    "duration": 4,
    "start_time": "2023-05-27T17:17:53.225Z"
   },
   {
    "duration": 121,
    "start_time": "2023-05-27T17:17:53.235Z"
   },
   {
    "duration": 169,
    "start_time": "2023-05-27T17:17:53.358Z"
   },
   {
    "duration": 56,
    "start_time": "2023-05-27T17:17:53.530Z"
   },
   {
    "duration": 111,
    "start_time": "2023-05-27T17:17:53.592Z"
   },
   {
    "duration": 5,
    "start_time": "2023-05-27T17:17:53.706Z"
   },
   {
    "duration": 28,
    "start_time": "2023-05-27T17:17:53.713Z"
   },
   {
    "duration": 22,
    "start_time": "2023-05-27T17:17:53.743Z"
   },
   {
    "duration": 302,
    "start_time": "2023-05-27T17:17:53.769Z"
   },
   {
    "duration": 4,
    "start_time": "2023-05-27T17:17:54.074Z"
   },
   {
    "duration": 17,
    "start_time": "2023-05-27T17:17:54.081Z"
   },
   {
    "duration": 4,
    "start_time": "2023-05-27T17:17:54.105Z"
   },
   {
    "duration": 4134,
    "start_time": "2023-05-27T17:19:07.099Z"
   },
   {
    "duration": 127,
    "start_time": "2023-05-27T17:19:11.236Z"
   },
   {
    "duration": 71539,
    "start_time": "2023-05-27T17:19:11.365Z"
   },
   {
    "duration": 12,
    "start_time": "2023-05-27T17:20:22.927Z"
   },
   {
    "duration": 15,
    "start_time": "2023-05-27T17:20:22.959Z"
   },
   {
    "duration": 15,
    "start_time": "2023-05-27T17:20:22.976Z"
   },
   {
    "duration": 230,
    "start_time": "2023-05-27T17:20:29.922Z"
   },
   {
    "duration": 144,
    "start_time": "2023-05-27T17:25:40.719Z"
   },
   {
    "duration": 13,
    "start_time": "2023-05-27T17:25:49.607Z"
   },
   {
    "duration": 42,
    "start_time": "2023-05-27T17:26:05.156Z"
   },
   {
    "duration": 1553,
    "start_time": "2023-05-27T17:29:55.698Z"
   },
   {
    "duration": 7,
    "start_time": "2023-05-27T17:29:57.253Z"
   },
   {
    "duration": 3326,
    "start_time": "2023-05-27T17:29:57.262Z"
   },
   {
    "duration": 17,
    "start_time": "2023-05-27T17:30:00.590Z"
   },
   {
    "duration": 301,
    "start_time": "2023-05-27T17:30:00.609Z"
   },
   {
    "duration": 15,
    "start_time": "2023-05-27T17:30:00.960Z"
   },
   {
    "duration": 314,
    "start_time": "2023-05-27T17:30:00.977Z"
   },
   {
    "duration": 5,
    "start_time": "2023-05-27T17:30:01.297Z"
   },
   {
    "duration": 1372,
    "start_time": "2023-05-27T17:30:01.303Z"
   },
   {
    "duration": 715,
    "start_time": "2023-05-27T17:30:02.681Z"
   },
   {
    "duration": 532,
    "start_time": "2023-05-27T17:30:03.398Z"
   },
   {
    "duration": 4,
    "start_time": "2023-05-27T17:30:03.932Z"
   },
   {
    "duration": 259,
    "start_time": "2023-05-27T17:30:03.937Z"
   },
   {
    "duration": 21,
    "start_time": "2023-05-27T17:30:04.199Z"
   },
   {
    "duration": 15,
    "start_time": "2023-05-27T17:30:04.222Z"
   },
   {
    "duration": 106,
    "start_time": "2023-05-27T17:30:04.239Z"
   },
   {
    "duration": 78021,
    "start_time": "2023-05-27T17:30:04.347Z"
   },
   {
    "duration": 11,
    "start_time": "2023-05-27T17:31:22.380Z"
   },
   {
    "duration": 232,
    "start_time": "2023-05-27T17:31:22.393Z"
   },
   {
    "duration": 1510,
    "start_time": "2023-05-27T17:31:22.627Z"
   },
   {
    "duration": 1760,
    "start_time": "2023-05-27T17:31:24.139Z"
   },
   {
    "duration": 16,
    "start_time": "2023-05-27T17:31:25.908Z"
   },
   {
    "duration": 36,
    "start_time": "2023-05-27T17:31:25.926Z"
   },
   {
    "duration": 26,
    "start_time": "2023-05-27T17:31:25.971Z"
   },
   {
    "duration": 6514,
    "start_time": "2023-05-27T17:31:26.001Z"
   },
   {
    "duration": 579,
    "start_time": "2023-05-27T17:31:32.517Z"
   },
   {
    "duration": 3,
    "start_time": "2023-05-27T17:31:33.098Z"
   },
   {
    "duration": 21,
    "start_time": "2023-05-27T17:31:33.102Z"
   },
   {
    "duration": 136,
    "start_time": "2023-05-27T17:31:33.124Z"
   },
   {
    "duration": 54,
    "start_time": "2023-05-27T17:31:33.262Z"
   },
   {
    "duration": 23,
    "start_time": "2023-05-27T17:31:33.318Z"
   },
   {
    "duration": 67,
    "start_time": "2023-05-27T17:31:33.344Z"
   },
   {
    "duration": 23,
    "start_time": "2023-05-27T17:31:33.414Z"
   },
   {
    "duration": 131,
    "start_time": "2023-05-27T17:31:33.439Z"
   },
   {
    "duration": 555,
    "start_time": "2023-05-27T17:31:33.573Z"
   },
   {
    "duration": 38,
    "start_time": "2023-05-27T17:31:34.130Z"
   },
   {
    "duration": 4,
    "start_time": "2023-05-27T17:31:34.170Z"
   },
   {
    "duration": 17,
    "start_time": "2023-05-27T17:31:34.179Z"
   },
   {
    "duration": 32,
    "start_time": "2023-05-27T17:31:34.198Z"
   },
   {
    "duration": 8,
    "start_time": "2023-05-27T17:31:34.231Z"
   },
   {
    "duration": 71,
    "start_time": "2023-05-27T17:31:34.243Z"
   },
   {
    "duration": 170,
    "start_time": "2023-05-27T17:31:34.316Z"
   },
   {
    "duration": 24,
    "start_time": "2023-05-27T17:31:34.493Z"
   },
   {
    "duration": 110,
    "start_time": "2023-05-27T17:31:34.519Z"
   },
   {
    "duration": 3,
    "start_time": "2023-05-27T17:31:34.631Z"
   },
   {
    "duration": 41,
    "start_time": "2023-05-27T17:31:34.635Z"
   },
   {
    "duration": 6,
    "start_time": "2023-05-27T17:31:34.681Z"
   },
   {
    "duration": 218,
    "start_time": "2023-05-27T17:31:34.694Z"
   },
   {
    "duration": 3,
    "start_time": "2023-05-27T17:31:34.914Z"
   },
   {
    "duration": 12,
    "start_time": "2023-05-27T17:31:34.919Z"
   },
   {
    "duration": 44,
    "start_time": "2023-05-27T17:31:34.933Z"
   },
   {
    "duration": 72577,
    "start_time": "2023-05-27T17:31:34.979Z"
   },
   {
    "duration": 12,
    "start_time": "2023-05-27T17:32:47.566Z"
   },
   {
    "duration": 3911,
    "start_time": "2023-05-27T17:32:47.580Z"
   },
   {
    "duration": 23,
    "start_time": "2023-05-27T17:32:51.555Z"
   },
   {
    "duration": 25,
    "start_time": "2023-05-27T17:32:51.580Z"
   },
   {
    "duration": 6,
    "start_time": "2023-05-27T17:32:51.607Z"
   },
   {
    "duration": 258,
    "start_time": "2023-05-27T17:32:51.614Z"
   },
   {
    "duration": 15,
    "start_time": "2023-05-27T17:32:51.881Z"
   },
   {
    "duration": 48,
    "start_time": "2023-05-27T18:17:53.296Z"
   },
   {
    "duration": 7,
    "start_time": "2023-05-27T18:18:01.094Z"
   },
   {
    "duration": 1618,
    "start_time": "2023-05-27T18:18:11.927Z"
   },
   {
    "duration": 3,
    "start_time": "2023-05-27T18:18:13.547Z"
   },
   {
    "duration": 3751,
    "start_time": "2023-05-27T18:18:13.560Z"
   },
   {
    "duration": 0,
    "start_time": "2023-05-27T18:18:17.314Z"
   },
   {
    "duration": 0,
    "start_time": "2023-05-27T18:18:17.316Z"
   },
   {
    "duration": 0,
    "start_time": "2023-05-27T18:18:17.317Z"
   },
   {
    "duration": 0,
    "start_time": "2023-05-27T18:18:17.318Z"
   },
   {
    "duration": 0,
    "start_time": "2023-05-27T18:18:17.319Z"
   },
   {
    "duration": 0,
    "start_time": "2023-05-27T18:18:17.320Z"
   },
   {
    "duration": 0,
    "start_time": "2023-05-27T18:18:17.321Z"
   },
   {
    "duration": 0,
    "start_time": "2023-05-27T18:18:17.322Z"
   },
   {
    "duration": 0,
    "start_time": "2023-05-27T18:18:17.323Z"
   },
   {
    "duration": 0,
    "start_time": "2023-05-27T18:18:17.324Z"
   },
   {
    "duration": 0,
    "start_time": "2023-05-27T18:18:17.325Z"
   },
   {
    "duration": 0,
    "start_time": "2023-05-27T18:18:17.326Z"
   },
   {
    "duration": 0,
    "start_time": "2023-05-27T18:18:17.328Z"
   },
   {
    "duration": 0,
    "start_time": "2023-05-27T18:18:17.329Z"
   },
   {
    "duration": 0,
    "start_time": "2023-05-27T18:18:17.330Z"
   },
   {
    "duration": 0,
    "start_time": "2023-05-27T18:18:17.332Z"
   },
   {
    "duration": 0,
    "start_time": "2023-05-27T18:18:17.334Z"
   },
   {
    "duration": 1,
    "start_time": "2023-05-27T18:18:17.335Z"
   },
   {
    "duration": 0,
    "start_time": "2023-05-27T18:18:17.337Z"
   },
   {
    "duration": 0,
    "start_time": "2023-05-27T18:18:17.338Z"
   },
   {
    "duration": 0,
    "start_time": "2023-05-27T18:18:17.340Z"
   },
   {
    "duration": 0,
    "start_time": "2023-05-27T18:18:17.340Z"
   },
   {
    "duration": 0,
    "start_time": "2023-05-27T18:18:17.341Z"
   },
   {
    "duration": 0,
    "start_time": "2023-05-27T18:18:17.342Z"
   },
   {
    "duration": 0,
    "start_time": "2023-05-27T18:18:17.344Z"
   },
   {
    "duration": 0,
    "start_time": "2023-05-27T18:18:17.345Z"
   },
   {
    "duration": 0,
    "start_time": "2023-05-27T18:18:17.346Z"
   },
   {
    "duration": 0,
    "start_time": "2023-05-27T18:18:17.347Z"
   },
   {
    "duration": 0,
    "start_time": "2023-05-27T18:18:17.349Z"
   },
   {
    "duration": 0,
    "start_time": "2023-05-27T18:18:17.350Z"
   },
   {
    "duration": 0,
    "start_time": "2023-05-27T18:18:17.351Z"
   },
   {
    "duration": 0,
    "start_time": "2023-05-27T18:18:17.368Z"
   },
   {
    "duration": 0,
    "start_time": "2023-05-27T18:18:17.369Z"
   },
   {
    "duration": 0,
    "start_time": "2023-05-27T18:18:17.369Z"
   },
   {
    "duration": 0,
    "start_time": "2023-05-27T18:18:17.370Z"
   },
   {
    "duration": 0,
    "start_time": "2023-05-27T18:18:17.370Z"
   },
   {
    "duration": 0,
    "start_time": "2023-05-27T18:18:17.371Z"
   },
   {
    "duration": 0,
    "start_time": "2023-05-27T18:18:17.376Z"
   },
   {
    "duration": 0,
    "start_time": "2023-05-27T18:18:17.377Z"
   },
   {
    "duration": 0,
    "start_time": "2023-05-27T18:18:17.378Z"
   },
   {
    "duration": 0,
    "start_time": "2023-05-27T18:18:17.378Z"
   },
   {
    "duration": 0,
    "start_time": "2023-05-27T18:18:17.379Z"
   },
   {
    "duration": 0,
    "start_time": "2023-05-27T18:18:17.379Z"
   },
   {
    "duration": 0,
    "start_time": "2023-05-27T18:18:17.380Z"
   },
   {
    "duration": 0,
    "start_time": "2023-05-27T18:18:17.381Z"
   },
   {
    "duration": 0,
    "start_time": "2023-05-27T18:18:17.381Z"
   },
   {
    "duration": 0,
    "start_time": "2023-05-27T18:18:17.382Z"
   },
   {
    "duration": 0,
    "start_time": "2023-05-27T18:18:17.382Z"
   },
   {
    "duration": 0,
    "start_time": "2023-05-27T18:18:17.383Z"
   },
   {
    "duration": 0,
    "start_time": "2023-05-27T18:18:17.384Z"
   },
   {
    "duration": 0,
    "start_time": "2023-05-27T18:18:17.384Z"
   },
   {
    "duration": 0,
    "start_time": "2023-05-27T18:18:17.385Z"
   },
   {
    "duration": 0,
    "start_time": "2023-05-27T18:18:17.385Z"
   },
   {
    "duration": 0,
    "start_time": "2023-05-27T18:18:17.386Z"
   },
   {
    "duration": 0,
    "start_time": "2023-05-27T18:18:17.386Z"
   },
   {
    "duration": 0,
    "start_time": "2023-05-27T18:18:17.387Z"
   },
   {
    "duration": 0,
    "start_time": "2023-05-27T18:18:17.390Z"
   },
   {
    "duration": 0,
    "start_time": "2023-05-27T18:18:17.391Z"
   },
   {
    "duration": 0,
    "start_time": "2023-05-27T18:18:17.392Z"
   },
   {
    "duration": 0,
    "start_time": "2023-05-27T18:18:17.393Z"
   },
   {
    "duration": 1,
    "start_time": "2023-05-27T18:18:17.394Z"
   },
   {
    "duration": 0,
    "start_time": "2023-05-27T18:18:17.396Z"
   },
   {
    "duration": 0,
    "start_time": "2023-05-27T18:18:17.396Z"
   },
   {
    "duration": 5,
    "start_time": "2023-05-27T18:19:09.444Z"
   },
   {
    "duration": 44,
    "start_time": "2023-05-27T18:19:09.451Z"
   },
   {
    "duration": 2641,
    "start_time": "2023-05-27T18:19:09.498Z"
   },
   {
    "duration": 20,
    "start_time": "2023-05-27T18:19:12.140Z"
   },
   {
    "duration": 165,
    "start_time": "2023-05-27T18:19:12.162Z"
   },
   {
    "duration": 6,
    "start_time": "2023-05-27T18:19:12.329Z"
   },
   {
    "duration": 137,
    "start_time": "2023-05-27T18:19:12.337Z"
   },
   {
    "duration": 6,
    "start_time": "2023-05-27T18:19:12.476Z"
   },
   {
    "duration": 695,
    "start_time": "2023-05-27T18:19:12.484Z"
   },
   {
    "duration": 807,
    "start_time": "2023-05-27T18:19:13.192Z"
   },
   {
    "duration": 613,
    "start_time": "2023-05-27T18:19:14.011Z"
   },
   {
    "duration": 3,
    "start_time": "2023-05-27T18:19:14.627Z"
   },
   {
    "duration": 305,
    "start_time": "2023-05-27T18:19:14.632Z"
   },
   {
    "duration": 31,
    "start_time": "2023-05-27T18:19:14.940Z"
   },
   {
    "duration": 33,
    "start_time": "2023-05-27T18:19:14.973Z"
   },
   {
    "duration": 85,
    "start_time": "2023-05-27T18:19:15.009Z"
   },
   {
    "duration": 84646,
    "start_time": "2023-05-27T18:19:15.096Z"
   },
   {
    "duration": 2,
    "start_time": "2023-05-27T18:20:39.744Z"
   },
   {
    "duration": 245,
    "start_time": "2023-05-27T18:20:39.747Z"
   },
   {
    "duration": 1596,
    "start_time": "2023-05-27T18:20:39.995Z"
   },
   {
    "duration": 1746,
    "start_time": "2023-05-27T18:20:41.596Z"
   },
   {
    "duration": 18,
    "start_time": "2023-05-27T18:20:43.344Z"
   },
   {
    "duration": 14,
    "start_time": "2023-05-27T18:20:43.365Z"
   },
   {
    "duration": 19,
    "start_time": "2023-05-27T18:20:43.381Z"
   },
   {
    "duration": 6614,
    "start_time": "2023-05-27T18:20:43.407Z"
   },
   {
    "duration": 585,
    "start_time": "2023-05-27T18:20:50.022Z"
   },
   {
    "duration": 2,
    "start_time": "2023-05-27T18:20:50.609Z"
   },
   {
    "duration": 21,
    "start_time": "2023-05-27T18:20:50.613Z"
   },
   {
    "duration": 132,
    "start_time": "2023-05-27T18:20:50.658Z"
   },
   {
    "duration": 21,
    "start_time": "2023-05-27T18:20:50.792Z"
   },
   {
    "duration": 25,
    "start_time": "2023-05-27T18:20:50.815Z"
   },
   {
    "duration": 80,
    "start_time": "2023-05-27T18:20:50.842Z"
   },
   {
    "duration": 40,
    "start_time": "2023-05-27T18:20:50.924Z"
   },
   {
    "duration": 109,
    "start_time": "2023-05-27T18:20:50.971Z"
   },
   {
    "duration": 699,
    "start_time": "2023-05-27T18:20:51.086Z"
   },
   {
    "duration": 30,
    "start_time": "2023-05-27T18:20:51.787Z"
   },
   {
    "duration": 4,
    "start_time": "2023-05-27T18:20:51.819Z"
   },
   {
    "duration": 20,
    "start_time": "2023-05-27T18:20:51.824Z"
   },
   {
    "duration": 41,
    "start_time": "2023-05-27T18:20:51.846Z"
   },
   {
    "duration": 18,
    "start_time": "2023-05-27T18:20:51.894Z"
   },
   {
    "duration": 92,
    "start_time": "2023-05-27T18:20:51.916Z"
   },
   {
    "duration": 180,
    "start_time": "2023-05-27T18:20:52.011Z"
   },
   {
    "duration": 35,
    "start_time": "2023-05-27T18:20:52.193Z"
   },
   {
    "duration": 122,
    "start_time": "2023-05-27T18:20:52.230Z"
   },
   {
    "duration": 7,
    "start_time": "2023-05-27T18:20:52.354Z"
   },
   {
    "duration": 30,
    "start_time": "2023-05-27T18:20:52.370Z"
   },
   {
    "duration": 22,
    "start_time": "2023-05-27T18:20:52.404Z"
   },
   {
    "duration": 250,
    "start_time": "2023-05-27T18:20:52.428Z"
   },
   {
    "duration": 3,
    "start_time": "2023-05-27T18:20:52.680Z"
   },
   {
    "duration": 49,
    "start_time": "2023-05-27T18:20:52.685Z"
   },
   {
    "duration": 31,
    "start_time": "2023-05-27T18:20:52.737Z"
   },
   {
    "duration": 57085,
    "start_time": "2023-05-27T18:20:52.778Z"
   },
   {
    "duration": 13,
    "start_time": "2023-05-27T18:21:49.866Z"
   },
   {
    "duration": 3580,
    "start_time": "2023-05-27T18:21:49.887Z"
   },
   {
    "duration": 93,
    "start_time": "2023-05-27T18:21:53.470Z"
   },
   {
    "duration": 6,
    "start_time": "2023-05-27T18:21:53.565Z"
   },
   {
    "duration": 14,
    "start_time": "2023-05-27T18:21:53.573Z"
   },
   {
    "duration": 230,
    "start_time": "2023-05-27T18:21:53.591Z"
   },
   {
    "duration": 3,
    "start_time": "2023-05-27T18:21:53.823Z"
   },
   {
    "duration": 6481,
    "start_time": "2023-05-27T18:21:53.828Z"
   },
   {
    "duration": 0,
    "start_time": "2023-05-27T18:22:00.311Z"
   },
   {
    "duration": 0,
    "start_time": "2023-05-27T18:22:00.312Z"
   },
   {
    "duration": 0,
    "start_time": "2023-05-27T18:22:00.313Z"
   },
   {
    "duration": 0,
    "start_time": "2023-05-27T18:22:00.314Z"
   },
   {
    "duration": 0,
    "start_time": "2023-05-27T18:22:00.315Z"
   },
   {
    "duration": 0,
    "start_time": "2023-05-27T18:22:00.316Z"
   },
   {
    "duration": 1602,
    "start_time": "2023-05-27T18:24:09.947Z"
   },
   {
    "duration": 3,
    "start_time": "2023-05-27T18:24:11.550Z"
   },
   {
    "duration": 3471,
    "start_time": "2023-05-27T18:24:11.557Z"
   },
   {
    "duration": 19,
    "start_time": "2023-05-27T18:24:15.031Z"
   },
   {
    "duration": 143,
    "start_time": "2023-05-27T18:24:15.052Z"
   },
   {
    "duration": 6,
    "start_time": "2023-05-27T18:24:15.196Z"
   },
   {
    "duration": 122,
    "start_time": "2023-05-27T18:24:15.203Z"
   },
   {
    "duration": 4,
    "start_time": "2023-05-27T18:24:15.326Z"
   },
   {
    "duration": 585,
    "start_time": "2023-05-27T18:24:15.331Z"
   },
   {
    "duration": 586,
    "start_time": "2023-05-27T18:24:15.918Z"
   },
   {
    "duration": 539,
    "start_time": "2023-05-27T18:24:16.506Z"
   },
   {
    "duration": 18,
    "start_time": "2023-05-27T18:24:17.047Z"
   },
   {
    "duration": 255,
    "start_time": "2023-05-27T18:24:17.075Z"
   },
   {
    "duration": 37,
    "start_time": "2023-05-27T18:24:17.334Z"
   },
   {
    "duration": 16,
    "start_time": "2023-05-27T18:24:17.383Z"
   },
   {
    "duration": 77,
    "start_time": "2023-05-27T18:24:17.401Z"
   },
   {
    "duration": 75593,
    "start_time": "2023-05-27T18:24:17.480Z"
   },
   {
    "duration": 201,
    "start_time": "2023-05-27T18:25:33.080Z"
   },
   {
    "duration": 1440,
    "start_time": "2023-05-27T18:25:33.286Z"
   },
   {
    "duration": 1501,
    "start_time": "2023-05-27T18:25:34.728Z"
   },
   {
    "duration": 42,
    "start_time": "2023-05-27T18:25:36.231Z"
   },
   {
    "duration": 13,
    "start_time": "2023-05-27T18:25:36.275Z"
   },
   {
    "duration": 33,
    "start_time": "2023-05-27T18:25:36.290Z"
   },
   {
    "duration": 6150,
    "start_time": "2023-05-27T18:25:36.325Z"
   },
   {
    "duration": 549,
    "start_time": "2023-05-27T18:25:42.477Z"
   },
   {
    "duration": 3,
    "start_time": "2023-05-27T18:25:43.028Z"
   },
   {
    "duration": 41,
    "start_time": "2023-05-27T18:25:43.032Z"
   },
   {
    "duration": 104,
    "start_time": "2023-05-27T18:25:43.074Z"
   },
   {
    "duration": 18,
    "start_time": "2023-05-27T18:25:43.180Z"
   },
   {
    "duration": 22,
    "start_time": "2023-05-27T18:25:43.200Z"
   },
   {
    "duration": 102,
    "start_time": "2023-05-27T18:25:43.224Z"
   },
   {
    "duration": 22,
    "start_time": "2023-05-27T18:25:43.328Z"
   },
   {
    "duration": 107,
    "start_time": "2023-05-27T18:25:43.356Z"
   },
   {
    "duration": 561,
    "start_time": "2023-05-27T18:25:43.464Z"
   },
   {
    "duration": 29,
    "start_time": "2023-05-27T18:25:44.027Z"
   },
   {
    "duration": 10,
    "start_time": "2023-05-27T18:25:44.058Z"
   },
   {
    "duration": 15,
    "start_time": "2023-05-27T18:25:44.072Z"
   },
   {
    "duration": 17,
    "start_time": "2023-05-27T18:25:44.089Z"
   },
   {
    "duration": 3,
    "start_time": "2023-05-27T18:25:44.108Z"
   },
   {
    "duration": 76,
    "start_time": "2023-05-27T18:25:44.112Z"
   },
   {
    "duration": 153,
    "start_time": "2023-05-27T18:25:44.196Z"
   },
   {
    "duration": 36,
    "start_time": "2023-05-27T18:25:44.351Z"
   },
   {
    "duration": 97,
    "start_time": "2023-05-27T18:25:44.389Z"
   },
   {
    "duration": 2,
    "start_time": "2023-05-27T18:25:44.488Z"
   },
   {
    "duration": 20,
    "start_time": "2023-05-27T18:25:44.492Z"
   },
   {
    "duration": 8,
    "start_time": "2023-05-27T18:25:44.514Z"
   },
   {
    "duration": 221,
    "start_time": "2023-05-27T18:25:44.523Z"
   },
   {
    "duration": 3,
    "start_time": "2023-05-27T18:25:44.746Z"
   },
   {
    "duration": 24,
    "start_time": "2023-05-27T18:25:44.751Z"
   },
   {
    "duration": 4,
    "start_time": "2023-05-27T18:25:44.780Z"
   },
   {
    "duration": 55181,
    "start_time": "2023-05-27T18:25:44.786Z"
   },
   {
    "duration": 11,
    "start_time": "2023-05-27T18:26:39.968Z"
   },
   {
    "duration": 4128,
    "start_time": "2023-05-27T18:26:39.983Z"
   },
   {
    "duration": 99,
    "start_time": "2023-05-27T18:26:44.163Z"
   },
   {
    "duration": 6,
    "start_time": "2023-05-27T18:26:44.263Z"
   },
   {
    "duration": 14,
    "start_time": "2023-05-27T18:26:44.271Z"
   },
   {
    "duration": 233,
    "start_time": "2023-05-27T18:26:44.287Z"
   },
   {
    "duration": 3,
    "start_time": "2023-05-27T18:26:44.521Z"
   },
   {
    "duration": 146373,
    "start_time": "2023-05-27T18:26:44.525Z"
   },
   {
    "duration": 4,
    "start_time": "2023-05-27T18:29:10.900Z"
   },
   {
    "duration": 706050,
    "start_time": "2023-05-27T18:29:10.905Z"
   },
   {
    "duration": 0,
    "start_time": "2023-05-27T18:40:56.957Z"
   },
   {
    "duration": 0,
    "start_time": "2023-05-27T18:40:56.959Z"
   },
   {
    "duration": 0,
    "start_time": "2023-05-27T18:40:56.960Z"
   },
   {
    "duration": 0,
    "start_time": "2023-05-27T18:40:56.962Z"
   },
   {
    "duration": 0,
    "start_time": "2023-05-27T18:40:56.963Z"
   },
   {
    "duration": 0,
    "start_time": "2023-05-27T18:40:56.964Z"
   },
   {
    "duration": 10,
    "start_time": "2023-05-27T18:40:59.374Z"
   },
   {
    "duration": 4,
    "start_time": "2023-05-27T18:41:12.426Z"
   },
   {
    "duration": 69174,
    "start_time": "2023-05-27T18:54:27.832Z"
   },
   {
    "duration": 5,
    "start_time": "2023-05-27T18:55:37.008Z"
   },
   {
    "duration": 5,
    "start_time": "2023-05-27T18:55:37.015Z"
   },
   {
    "duration": 173774,
    "start_time": "2023-05-27T18:55:38.294Z"
   },
   {
    "duration": 4,
    "start_time": "2023-05-27T18:58:32.070Z"
   },
   {
    "duration": 22,
    "start_time": "2023-05-27T18:58:32.076Z"
   },
   {
    "duration": 25,
    "start_time": "2023-05-27T18:59:18.291Z"
   },
   {
    "duration": 33,
    "start_time": "2023-05-27T18:59:31.564Z"
   },
   {
    "duration": 71132,
    "start_time": "2023-05-27T18:59:39.426Z"
   },
   {
    "duration": 3,
    "start_time": "2023-05-27T19:00:50.560Z"
   },
   {
    "duration": 26,
    "start_time": "2023-05-27T19:00:50.565Z"
   },
   {
    "duration": 4,
    "start_time": "2023-05-27T19:01:58.936Z"
   },
   {
    "duration": 3,
    "start_time": "2023-05-27T19:02:32.240Z"
   },
   {
    "duration": 845,
    "start_time": "2023-05-27T19:02:43.498Z"
   },
   {
    "duration": 3,
    "start_time": "2023-05-27T19:02:54.617Z"
   },
   {
    "duration": 2565,
    "start_time": "2023-05-27T19:02:55.433Z"
   },
   {
    "duration": 189,
    "start_time": "2023-05-27T19:03:49.253Z"
   },
   {
    "duration": 387013,
    "start_time": "2023-05-27T19:03:55.013Z"
   },
   {
    "duration": 4,
    "start_time": "2023-05-27T19:10:52.464Z"
   },
   {
    "duration": 6,
    "start_time": "2023-05-27T19:10:59.074Z"
   },
   {
    "duration": 4,
    "start_time": "2023-05-27T19:11:16.878Z"
   },
   {
    "duration": 4,
    "start_time": "2023-05-27T19:11:41.938Z"
   },
   {
    "duration": 4,
    "start_time": "2023-05-27T19:11:42.412Z"
   },
   {
    "duration": 14,
    "start_time": "2023-05-27T19:12:04.766Z"
   },
   {
    "duration": 13,
    "start_time": "2023-05-27T19:12:29.749Z"
   },
   {
    "duration": 19083,
    "start_time": "2023-05-27T19:12:38.958Z"
   },
   {
    "duration": 17833,
    "start_time": "2023-05-27T19:12:59.830Z"
   },
   {
    "duration": 22,
    "start_time": "2023-05-27T19:13:43.648Z"
   },
   {
    "duration": 18568,
    "start_time": "2023-05-27T19:13:47.247Z"
   },
   {
    "duration": 17780,
    "start_time": "2023-05-27T19:14:15.071Z"
   },
   {
    "duration": 7885,
    "start_time": "2023-05-27T19:14:41.512Z"
   },
   {
    "duration": 8801,
    "start_time": "2023-05-27T19:15:17.278Z"
   },
   {
    "duration": 28,
    "start_time": "2023-05-27T19:15:45.774Z"
   },
   {
    "duration": 13910,
    "start_time": "2023-05-27T19:15:49.398Z"
   },
   {
    "duration": 0,
    "start_time": "2023-05-27T19:16:03.310Z"
   },
   {
    "duration": 3,
    "start_time": "2023-05-27T19:16:55.536Z"
   },
   {
    "duration": 11197,
    "start_time": "2023-05-27T19:16:58.851Z"
   },
   {
    "duration": 16680,
    "start_time": "2023-05-27T19:17:24.388Z"
   },
   {
    "duration": 144915,
    "start_time": "2023-05-27T19:17:41.894Z"
   },
   {
    "duration": 47,
    "start_time": "2023-05-27T19:20:06.811Z"
   },
   {
    "duration": 5,
    "start_time": "2023-05-27T19:20:06.859Z"
   },
   {
    "duration": 92,
    "start_time": "2023-05-27T19:21:07.566Z"
   },
   {
    "duration": 184877,
    "start_time": "2023-05-27T19:21:11.478Z"
   },
   {
    "duration": 4,
    "start_time": "2023-05-27T19:24:16.357Z"
   },
   {
    "duration": 12,
    "start_time": "2023-05-27T19:24:16.362Z"
   },
   {
    "duration": 3,
    "start_time": "2023-05-27T19:24:56.950Z"
   },
   {
    "duration": 89,
    "start_time": "2023-05-27T19:25:13.690Z"
   },
   {
    "duration": 71,
    "start_time": "2023-05-27T19:25:16.993Z"
   },
   {
    "duration": 2718,
    "start_time": "2023-05-27T19:25:20.604Z"
   },
   {
    "duration": 78,
    "start_time": "2023-05-27T19:25:38.838Z"
   },
   {
    "duration": 3,
    "start_time": "2023-05-27T19:25:49.332Z"
   },
   {
    "duration": 3,
    "start_time": "2023-05-27T19:25:52.661Z"
   },
   {
    "duration": 632,
    "start_time": "2023-05-27T19:25:54.702Z"
   },
   {
    "duration": 4,
    "start_time": "2023-05-27T19:26:06.494Z"
   },
   {
    "duration": 2683,
    "start_time": "2023-05-27T19:26:07.695Z"
   },
   {
    "duration": 4,
    "start_time": "2023-05-27T19:26:17.902Z"
   },
   {
    "duration": 2695,
    "start_time": "2023-05-27T19:26:18.714Z"
   },
   {
    "duration": 1074,
    "start_time": "2023-05-27T19:26:45.583Z"
   },
   {
    "duration": 13656,
    "start_time": "2023-05-27T19:27:02.219Z"
   },
   {
    "duration": 3,
    "start_time": "2023-05-27T19:27:19.727Z"
   },
   {
    "duration": 26,
    "start_time": "2023-05-27T19:27:24.264Z"
   },
   {
    "duration": 13900,
    "start_time": "2023-05-27T19:27:31.290Z"
   },
   {
    "duration": 5,
    "start_time": "2023-05-27T19:27:45.192Z"
   },
   {
    "duration": 20,
    "start_time": "2023-05-27T19:27:45.199Z"
   },
   {
    "duration": 4,
    "start_time": "2023-05-27T19:27:49.276Z"
   },
   {
    "duration": 3,
    "start_time": "2023-05-27T19:28:09.905Z"
   },
   {
    "duration": 12717,
    "start_time": "2023-05-27T19:28:17.711Z"
   },
   {
    "duration": 6,
    "start_time": "2023-05-27T20:54:42.149Z"
   },
   {
    "duration": 5,
    "start_time": "2023-05-27T20:54:42.157Z"
   },
   {
    "duration": 729,
    "start_time": "2023-05-27T20:54:42.163Z"
   },
   {
    "duration": 13,
    "start_time": "2023-05-27T20:54:42.893Z"
   },
   {
    "duration": 120,
    "start_time": "2023-05-27T20:54:42.908Z"
   },
   {
    "duration": 5,
    "start_time": "2023-05-27T20:54:43.031Z"
   },
   {
    "duration": 99,
    "start_time": "2023-05-27T20:54:43.038Z"
   },
   {
    "duration": 4,
    "start_time": "2023-05-27T20:54:43.139Z"
   },
   {
    "duration": 431,
    "start_time": "2023-05-27T20:54:43.157Z"
   },
   {
    "duration": 435,
    "start_time": "2023-05-27T20:54:43.589Z"
   },
   {
    "duration": 445,
    "start_time": "2023-05-27T20:54:44.026Z"
   },
   {
    "duration": 4,
    "start_time": "2023-05-27T20:54:44.473Z"
   },
   {
    "duration": 217,
    "start_time": "2023-05-27T20:54:44.478Z"
   },
   {
    "duration": 19,
    "start_time": "2023-05-27T20:54:44.698Z"
   },
   {
    "duration": 13,
    "start_time": "2023-05-27T20:54:44.719Z"
   },
   {
    "duration": 71,
    "start_time": "2023-05-27T20:54:44.734Z"
   },
   {
    "duration": 61910,
    "start_time": "2023-05-27T20:54:44.806Z"
   },
   {
    "duration": 209,
    "start_time": "2023-05-27T20:55:46.717Z"
   },
   {
    "duration": 1284,
    "start_time": "2023-05-27T20:55:46.927Z"
   },
   {
    "duration": 1566,
    "start_time": "2023-05-27T20:55:48.212Z"
   },
   {
    "duration": 43,
    "start_time": "2023-05-27T20:55:49.780Z"
   },
   {
    "duration": 12,
    "start_time": "2023-05-27T20:55:49.825Z"
   },
   {
    "duration": 20,
    "start_time": "2023-05-27T20:55:49.838Z"
   },
   {
    "duration": 5446,
    "start_time": "2023-05-27T20:55:49.859Z"
   },
   {
    "duration": 478,
    "start_time": "2023-05-27T20:55:55.307Z"
   },
   {
    "duration": 3,
    "start_time": "2023-05-27T20:55:55.787Z"
   },
   {
    "duration": 16,
    "start_time": "2023-05-27T20:55:55.791Z"
   },
   {
    "duration": 102,
    "start_time": "2023-05-27T20:55:55.809Z"
   },
   {
    "duration": 15,
    "start_time": "2023-05-27T20:55:55.913Z"
   },
   {
    "duration": 35,
    "start_time": "2023-05-27T20:55:55.930Z"
   },
   {
    "duration": 51,
    "start_time": "2023-05-27T20:55:55.966Z"
   },
   {
    "duration": 41,
    "start_time": "2023-05-27T20:55:56.018Z"
   },
   {
    "duration": 79,
    "start_time": "2023-05-27T20:55:56.061Z"
   },
   {
    "duration": 546,
    "start_time": "2023-05-27T20:55:56.142Z"
   },
   {
    "duration": 19,
    "start_time": "2023-05-27T20:55:56.689Z"
   },
   {
    "duration": 3,
    "start_time": "2023-05-27T20:55:56.710Z"
   },
   {
    "duration": 5,
    "start_time": "2023-05-27T20:55:56.715Z"
   },
   {
    "duration": 18,
    "start_time": "2023-05-27T20:55:56.721Z"
   },
   {
    "duration": 3,
    "start_time": "2023-05-27T20:55:56.756Z"
   },
   {
    "duration": 56,
    "start_time": "2023-05-27T20:55:56.760Z"
   },
   {
    "duration": 143,
    "start_time": "2023-05-27T20:55:56.820Z"
   },
   {
    "duration": 22,
    "start_time": "2023-05-27T20:55:56.965Z"
   },
   {
    "duration": 86,
    "start_time": "2023-05-27T20:55:56.988Z"
   },
   {
    "duration": 3,
    "start_time": "2023-05-27T20:55:57.076Z"
   },
   {
    "duration": 176,
    "start_time": "2023-05-27T20:55:57.080Z"
   },
   {
    "duration": 2,
    "start_time": "2023-05-27T20:55:57.258Z"
   },
   {
    "duration": 29,
    "start_time": "2023-05-27T20:55:57.262Z"
   },
   {
    "duration": 5,
    "start_time": "2023-05-27T20:55:57.293Z"
   },
   {
    "duration": 25356,
    "start_time": "2023-05-27T20:55:57.300Z"
   },
   {
    "duration": 5,
    "start_time": "2023-05-27T20:56:22.658Z"
   },
   {
    "duration": 2993,
    "start_time": "2023-05-27T20:56:22.664Z"
   },
   {
    "duration": 97,
    "start_time": "2023-05-27T20:56:25.661Z"
   },
   {
    "duration": 5,
    "start_time": "2023-05-27T20:56:25.760Z"
   },
   {
    "duration": 4,
    "start_time": "2023-05-27T20:56:25.767Z"
   },
   {
    "duration": 197,
    "start_time": "2023-05-27T20:56:25.772Z"
   },
   {
    "duration": 376511,
    "start_time": "2023-05-27T20:56:25.972Z"
   },
   {
    "duration": 5,
    "start_time": "2023-05-27T21:02:42.484Z"
   },
   {
    "duration": 13232,
    "start_time": "2023-05-27T21:02:42.491Z"
   },
   {
    "duration": 5,
    "start_time": "2023-05-27T21:02:55.725Z"
   },
   {
    "duration": 10,
    "start_time": "2023-05-27T21:02:55.731Z"
   },
   {
    "duration": 9,
    "start_time": "2023-05-27T21:02:55.742Z"
   },
   {
    "duration": 4,
    "start_time": "2023-05-27T21:02:55.752Z"
   },
   {
    "duration": 10,
    "start_time": "2023-05-27T21:02:55.758Z"
   },
   {
    "duration": 7,
    "start_time": "2023-05-27T21:02:55.770Z"
   },
   {
    "duration": 1482,
    "start_time": "2023-05-27T21:19:17.805Z"
   },
   {
    "duration": 3,
    "start_time": "2023-05-27T21:19:19.289Z"
   },
   {
    "duration": 2961,
    "start_time": "2023-05-27T21:19:19.293Z"
   },
   {
    "duration": 16,
    "start_time": "2023-05-27T21:19:22.255Z"
   },
   {
    "duration": 117,
    "start_time": "2023-05-27T21:19:22.273Z"
   },
   {
    "duration": 6,
    "start_time": "2023-05-27T21:19:22.392Z"
   },
   {
    "duration": 112,
    "start_time": "2023-05-27T21:19:22.399Z"
   },
   {
    "duration": 3,
    "start_time": "2023-05-27T21:19:22.513Z"
   },
   {
    "duration": 496,
    "start_time": "2023-05-27T21:19:22.518Z"
   },
   {
    "duration": 509,
    "start_time": "2023-05-27T21:19:23.016Z"
   },
   {
    "duration": 450,
    "start_time": "2023-05-27T21:19:23.526Z"
   },
   {
    "duration": 4,
    "start_time": "2023-05-27T21:19:23.977Z"
   },
   {
    "duration": 204,
    "start_time": "2023-05-27T21:19:23.982Z"
   },
   {
    "duration": 18,
    "start_time": "2023-05-27T21:19:24.189Z"
   },
   {
    "duration": 16,
    "start_time": "2023-05-27T21:19:24.208Z"
   },
   {
    "duration": 76,
    "start_time": "2023-05-27T21:19:24.226Z"
   },
   {
    "duration": 61777,
    "start_time": "2023-05-27T21:19:24.304Z"
   },
   {
    "duration": 192,
    "start_time": "2023-05-27T21:20:26.083Z"
   },
   {
    "duration": 1323,
    "start_time": "2023-05-27T21:20:26.277Z"
   },
   {
    "duration": 1326,
    "start_time": "2023-05-27T21:20:27.601Z"
   },
   {
    "duration": 44,
    "start_time": "2023-05-27T21:20:28.930Z"
   },
   {
    "duration": 14,
    "start_time": "2023-05-27T21:20:28.976Z"
   },
   {
    "duration": 4,
    "start_time": "2023-05-27T21:20:28.992Z"
   },
   {
    "duration": 5201,
    "start_time": "2023-05-27T21:20:28.998Z"
   },
   {
    "duration": 475,
    "start_time": "2023-05-27T21:20:34.201Z"
   },
   {
    "duration": 3,
    "start_time": "2023-05-27T21:20:34.678Z"
   },
   {
    "duration": 17,
    "start_time": "2023-05-27T21:20:34.683Z"
   },
   {
    "duration": 117,
    "start_time": "2023-05-27T21:20:34.702Z"
   },
   {
    "duration": 17,
    "start_time": "2023-05-27T21:20:34.822Z"
   },
   {
    "duration": 22,
    "start_time": "2023-05-27T21:20:34.856Z"
   },
   {
    "duration": 81,
    "start_time": "2023-05-27T21:20:34.880Z"
   },
   {
    "duration": 22,
    "start_time": "2023-05-27T21:20:34.963Z"
   },
   {
    "duration": 126,
    "start_time": "2023-05-27T21:20:34.987Z"
   },
   {
    "duration": 491,
    "start_time": "2023-05-27T21:20:35.115Z"
   },
   {
    "duration": 21,
    "start_time": "2023-05-27T21:20:35.607Z"
   },
   {
    "duration": 4,
    "start_time": "2023-05-27T21:20:35.630Z"
   },
   {
    "duration": 9,
    "start_time": "2023-05-27T21:20:35.656Z"
   },
   {
    "duration": 25,
    "start_time": "2023-05-27T21:20:35.666Z"
   },
   {
    "duration": 8,
    "start_time": "2023-05-27T21:20:35.693Z"
   },
   {
    "duration": 73,
    "start_time": "2023-05-27T21:20:35.703Z"
   },
   {
    "duration": 147,
    "start_time": "2023-05-27T21:20:35.780Z"
   },
   {
    "duration": 28,
    "start_time": "2023-05-27T21:20:35.929Z"
   },
   {
    "duration": 83,
    "start_time": "2023-05-27T21:20:35.959Z"
   },
   {
    "duration": 13,
    "start_time": "2023-05-27T21:20:36.044Z"
   },
   {
    "duration": 210,
    "start_time": "2023-05-27T21:20:36.060Z"
   },
   {
    "duration": 3,
    "start_time": "2023-05-27T21:20:36.272Z"
   },
   {
    "duration": 6,
    "start_time": "2023-05-27T21:20:36.276Z"
   },
   {
    "duration": 5,
    "start_time": "2023-05-27T21:20:36.283Z"
   },
   {
    "duration": 27578,
    "start_time": "2023-05-27T21:20:36.290Z"
   },
   {
    "duration": 4,
    "start_time": "2023-05-27T21:21:03.957Z"
   },
   {
    "duration": 2899,
    "start_time": "2023-05-27T21:21:03.963Z"
   },
   {
    "duration": 98,
    "start_time": "2023-05-27T21:21:06.866Z"
   },
   {
    "duration": 16,
    "start_time": "2023-05-27T21:21:06.965Z"
   },
   {
    "duration": 10,
    "start_time": "2023-05-27T21:21:06.983Z"
   },
   {
    "duration": 191,
    "start_time": "2023-05-27T21:21:06.994Z"
   },
   {
    "duration": 379511,
    "start_time": "2023-05-27T21:21:07.186Z"
   },
   {
    "duration": 5,
    "start_time": "2023-05-27T21:27:26.699Z"
   },
   {
    "duration": 2691,
    "start_time": "2023-05-29T18:23:04.395Z"
   },
   {
    "duration": 1644,
    "start_time": "2023-05-29T18:23:58.496Z"
   },
   {
    "duration": 5,
    "start_time": "2023-05-29T18:24:00.142Z"
   },
   {
    "duration": 1155,
    "start_time": "2023-05-29T18:24:02.950Z"
   },
   {
    "duration": 21,
    "start_time": "2023-05-29T18:24:41.958Z"
   },
   {
    "duration": 189,
    "start_time": "2023-05-29T18:24:42.495Z"
   },
   {
    "duration": 6,
    "start_time": "2023-05-29T18:24:43.682Z"
   },
   {
    "duration": 98,
    "start_time": "2023-05-29T18:24:44.986Z"
   },
   {
    "duration": 5,
    "start_time": "2023-05-29T18:24:46.214Z"
   },
   {
    "duration": 498,
    "start_time": "2023-05-29T18:24:46.760Z"
   },
   {
    "duration": 522,
    "start_time": "2023-05-29T18:24:48.014Z"
   },
   {
    "duration": 513,
    "start_time": "2023-05-29T18:25:40.352Z"
   },
   {
    "duration": 4,
    "start_time": "2023-05-29T18:25:42.727Z"
   },
   {
    "duration": 276,
    "start_time": "2023-05-29T18:25:43.526Z"
   },
   {
    "duration": 37,
    "start_time": "2023-05-29T18:25:54.050Z"
   },
   {
    "duration": 19,
    "start_time": "2023-05-29T18:26:08.807Z"
   },
   {
    "duration": 59,
    "start_time": "2023-05-29T18:26:19.046Z"
   },
   {
    "duration": 36,
    "start_time": "2023-05-29T18:30:00.828Z"
   },
   {
    "duration": 16,
    "start_time": "2023-05-29T18:30:03.772Z"
   },
   {
    "duration": 34,
    "start_time": "2023-05-29T18:30:04.813Z"
   },
   {
    "duration": 80803,
    "start_time": "2023-05-29T18:31:04.995Z"
   },
   {
    "duration": 266,
    "start_time": "2023-05-29T18:32:25.800Z"
   },
   {
    "duration": 1392,
    "start_time": "2023-05-29T18:32:26.068Z"
   },
   {
    "duration": 1282,
    "start_time": "2023-05-29T18:32:27.463Z"
   },
   {
    "duration": 25,
    "start_time": "2023-05-29T18:32:28.747Z"
   },
   {
    "duration": 12,
    "start_time": "2023-05-29T18:32:31.936Z"
   },
   {
    "duration": 3,
    "start_time": "2023-05-29T18:32:32.818Z"
   },
   {
    "duration": 6267,
    "start_time": "2023-05-29T18:32:33.379Z"
   },
   {
    "duration": 525,
    "start_time": "2023-05-29T18:32:39.649Z"
   },
   {
    "duration": 4,
    "start_time": "2023-05-29T18:33:14.622Z"
   },
   {
    "duration": 16,
    "start_time": "2023-05-29T18:33:15.087Z"
   },
   {
    "duration": 96,
    "start_time": "2023-05-29T18:33:15.522Z"
   },
   {
    "duration": 20,
    "start_time": "2023-05-29T18:33:28.120Z"
   },
   {
    "duration": 69,
    "start_time": "2023-05-29T18:36:33.096Z"
   },
   {
    "duration": 26,
    "start_time": "2023-05-29T18:36:33.304Z"
   },
   {
    "duration": 76,
    "start_time": "2023-05-29T18:37:32.097Z"
   },
   {
    "duration": 654,
    "start_time": "2023-05-29T18:37:32.511Z"
   },
   {
    "duration": 23,
    "start_time": "2023-05-29T18:37:34.043Z"
   },
   {
    "duration": 122,
    "start_time": "2023-05-29T18:37:35.016Z"
   },
   {
    "duration": 4,
    "start_time": "2023-05-29T18:40:50.597Z"
   },
   {
    "duration": 3,
    "start_time": "2023-05-29T18:42:25.282Z"
   },
   {
    "duration": 17,
    "start_time": "2023-05-29T18:42:26.854Z"
   },
   {
    "duration": 4,
    "start_time": "2023-05-29T18:42:27.814Z"
   },
   {
    "duration": 77,
    "start_time": "2023-05-29T18:42:30.030Z"
   },
   {
    "duration": 148,
    "start_time": "2023-05-29T18:42:37.733Z"
   },
   {
    "duration": 92,
    "start_time": "2023-05-29T18:42:43.800Z"
   },
   {
    "duration": 3,
    "start_time": "2023-05-29T18:42:44.203Z"
   },
   {
    "duration": 226,
    "start_time": "2023-05-29T18:42:44.589Z"
   },
   {
    "duration": 3,
    "start_time": "2023-05-29T18:42:45.193Z"
   },
   {
    "duration": 1463,
    "start_time": "2023-05-29T18:50:02.094Z"
   },
   {
    "duration": 5763,
    "start_time": "2023-05-29T18:51:18.303Z"
   },
   {
    "duration": 5,
    "start_time": "2023-05-29T18:58:51.913Z"
   },
   {
    "duration": 5,
    "start_time": "2023-05-29T18:58:55.968Z"
   },
   {
    "duration": 13,
    "start_time": "2023-05-29T18:59:32.778Z"
   },
   {
    "duration": 68,
    "start_time": "2023-05-29T20:59:27.439Z"
   },
   {
    "duration": 110,
    "start_time": "2023-05-30T08:48:30.483Z"
   },
   {
    "duration": 52,
    "start_time": "2023-05-30T08:50:54.435Z"
   },
   {
    "duration": 2380,
    "start_time": "2023-05-30T08:51:23.669Z"
   },
   {
    "duration": 1592,
    "start_time": "2023-05-30T08:51:26.051Z"
   },
   {
    "duration": 3,
    "start_time": "2023-05-30T08:51:27.645Z"
   },
   {
    "duration": 2941,
    "start_time": "2023-05-30T08:51:27.650Z"
   },
   {
    "duration": 23,
    "start_time": "2023-05-30T08:51:30.593Z"
   },
   {
    "duration": 176,
    "start_time": "2023-05-30T08:51:30.618Z"
   },
   {
    "duration": 6,
    "start_time": "2023-05-30T08:51:30.796Z"
   },
   {
    "duration": 173,
    "start_time": "2023-05-30T08:51:30.803Z"
   },
   {
    "duration": 2,
    "start_time": "2023-05-30T08:51:36.250Z"
   },
   {
    "duration": 3,
    "start_time": "2023-05-30T08:51:36.635Z"
   },
   {
    "duration": 5,
    "start_time": "2023-05-30T08:51:36.999Z"
   },
   {
    "duration": 3,
    "start_time": "2023-05-30T08:51:38.715Z"
   },
   {
    "duration": 4,
    "start_time": "2023-05-30T08:51:39.451Z"
   },
   {
    "duration": 254,
    "start_time": "2023-05-30T08:51:40.167Z"
   },
   {
    "duration": 35,
    "start_time": "2023-05-30T08:51:41.132Z"
   },
   {
    "duration": 18,
    "start_time": "2023-05-30T08:51:42.482Z"
   },
   {
    "duration": 3,
    "start_time": "2023-05-30T08:51:44.779Z"
   },
   {
    "duration": 19,
    "start_time": "2023-05-30T08:51:53.496Z"
   },
   {
    "duration": 74,
    "start_time": "2023-05-30T08:51:57.379Z"
   },
   {
    "duration": 40,
    "start_time": "2023-05-30T08:52:02.112Z"
   },
   {
    "duration": 15,
    "start_time": "2023-05-30T08:52:04.608Z"
   },
   {
    "duration": 37,
    "start_time": "2023-05-30T08:52:05.267Z"
   },
   {
    "duration": 84402,
    "start_time": "2023-05-30T08:52:09.701Z"
   },
   {
    "duration": 278,
    "start_time": "2023-05-30T08:53:34.105Z"
   },
   {
    "duration": 1287,
    "start_time": "2023-05-30T08:53:34.385Z"
   },
   {
    "duration": 1279,
    "start_time": "2023-05-30T08:53:35.674Z"
   },
   {
    "duration": 24,
    "start_time": "2023-05-30T08:53:36.954Z"
   },
   {
    "duration": 11,
    "start_time": "2023-05-30T08:53:37.025Z"
   },
   {
    "duration": 5,
    "start_time": "2023-05-30T08:53:37.038Z"
   },
   {
    "duration": 188,
    "start_time": "2023-05-30T08:53:37.044Z"
   },
   {
    "duration": 170,
    "start_time": "2023-05-30T08:53:37.233Z"
   },
   {
    "duration": 140,
    "start_time": "2023-05-30T08:53:37.405Z"
   },
   {
    "duration": 4,
    "start_time": "2023-05-30T08:53:37.547Z"
   },
   {
    "duration": 5631,
    "start_time": "2023-05-30T08:53:37.552Z"
   },
   {
    "duration": 530,
    "start_time": "2023-05-30T08:53:43.185Z"
   },
   {
    "duration": 8,
    "start_time": "2023-05-30T08:53:43.717Z"
   },
   {
    "duration": 18,
    "start_time": "2023-05-30T08:53:43.727Z"
   },
   {
    "duration": 101,
    "start_time": "2023-05-30T08:53:43.747Z"
   },
   {
    "duration": 25,
    "start_time": "2023-05-30T08:57:38.368Z"
   },
   {
    "duration": 10,
    "start_time": "2023-05-30T08:57:48.148Z"
   },
   {
    "duration": 10,
    "start_time": "2023-05-30T08:58:02.278Z"
   },
   {
    "duration": 9,
    "start_time": "2023-05-30T08:59:16.588Z"
   },
   {
    "duration": 14,
    "start_time": "2023-05-30T08:59:24.647Z"
   },
   {
    "duration": 13,
    "start_time": "2023-05-30T08:59:50.061Z"
   },
   {
    "duration": 14,
    "start_time": "2023-05-30T08:59:58.887Z"
   },
   {
    "duration": 13,
    "start_time": "2023-05-30T09:00:10.944Z"
   },
   {
    "duration": 16,
    "start_time": "2023-05-30T09:00:23.414Z"
   },
   {
    "duration": 93,
    "start_time": "2023-05-30T09:01:01.703Z"
   },
   {
    "duration": 94,
    "start_time": "2023-05-30T09:01:25.692Z"
   },
   {
    "duration": 3,
    "start_time": "2023-05-30T09:01:33.006Z"
   },
   {
    "duration": 17,
    "start_time": "2023-05-30T09:01:35.154Z"
   },
   {
    "duration": 22,
    "start_time": "2023-05-30T09:01:50.539Z"
   },
   {
    "duration": 15,
    "start_time": "2023-05-30T09:04:37.539Z"
   },
   {
    "duration": 14,
    "start_time": "2023-05-30T09:04:44.630Z"
   },
   {
    "duration": 18,
    "start_time": "2023-05-30T09:05:08.503Z"
   },
   {
    "duration": 18,
    "start_time": "2023-05-30T09:05:12.311Z"
   },
   {
    "duration": 17,
    "start_time": "2023-05-30T09:05:18.883Z"
   },
   {
    "duration": 18,
    "start_time": "2023-05-30T09:05:23.966Z"
   },
   {
    "duration": 27,
    "start_time": "2023-05-30T09:05:52.516Z"
   },
   {
    "duration": 22,
    "start_time": "2023-05-30T09:06:04.239Z"
   },
   {
    "duration": 95,
    "start_time": "2023-05-30T09:06:23.162Z"
   },
   {
    "duration": 101,
    "start_time": "2023-05-30T09:06:31.760Z"
   },
   {
    "duration": 25,
    "start_time": "2023-05-30T09:06:39.214Z"
   },
   {
    "duration": 103,
    "start_time": "2023-05-30T09:07:22.114Z"
   },
   {
    "duration": 2,
    "start_time": "2023-05-30T09:07:45.184Z"
   },
   {
    "duration": 13,
    "start_time": "2023-05-30T09:08:19.844Z"
   },
   {
    "duration": 13,
    "start_time": "2023-05-30T09:08:53.692Z"
   },
   {
    "duration": 20,
    "start_time": "2023-05-30T09:09:17.042Z"
   },
   {
    "duration": 13,
    "start_time": "2023-05-30T09:09:20.593Z"
   },
   {
    "duration": 25,
    "start_time": "2023-05-30T09:09:29.529Z"
   },
   {
    "duration": 24,
    "start_time": "2023-05-30T09:09:39.888Z"
   },
   {
    "duration": 22,
    "start_time": "2023-05-30T09:10:19.474Z"
   },
   {
    "duration": 19,
    "start_time": "2023-05-30T09:10:30.143Z"
   },
   {
    "duration": 18,
    "start_time": "2023-05-30T09:10:41.212Z"
   },
   {
    "duration": 22,
    "start_time": "2023-05-30T09:10:48.537Z"
   },
   {
    "duration": 23,
    "start_time": "2023-05-30T09:11:10.849Z"
   },
   {
    "duration": 19,
    "start_time": "2023-05-30T09:11:30.541Z"
   },
   {
    "duration": 19,
    "start_time": "2023-05-30T09:11:52.917Z"
   },
   {
    "duration": 76,
    "start_time": "2023-05-30T09:15:40.013Z"
   },
   {
    "duration": 20,
    "start_time": "2023-05-30T09:15:47.001Z"
   },
   {
    "duration": 49,
    "start_time": "2023-05-30T10:03:14.887Z"
   },
   {
    "duration": 9,
    "start_time": "2023-05-30T10:03:55.364Z"
   },
   {
    "duration": 7,
    "start_time": "2023-05-30T10:04:07.048Z"
   },
   {
    "duration": 4,
    "start_time": "2023-05-30T10:04:16.161Z"
   },
   {
    "duration": 14,
    "start_time": "2023-05-30T10:04:21.059Z"
   },
   {
    "duration": 64,
    "start_time": "2023-05-30T10:04:33.056Z"
   },
   {
    "duration": 476,
    "start_time": "2023-05-30T10:04:35.695Z"
   },
   {
    "duration": 32,
    "start_time": "2023-05-30T10:04:39.011Z"
   },
   {
    "duration": 3,
    "start_time": "2023-05-30T10:04:54.100Z"
   },
   {
    "duration": 2112,
    "start_time": "2023-05-30T10:05:41.460Z"
   },
   {
    "duration": 7,
    "start_time": "2023-05-30T10:05:43.575Z"
   },
   {
    "duration": 10,
    "start_time": "2023-05-30T10:05:43.584Z"
   },
   {
    "duration": 835,
    "start_time": "2023-05-30T10:05:43.596Z"
   },
   {
    "duration": 16,
    "start_time": "2023-05-30T10:05:44.436Z"
   },
   {
    "duration": 176,
    "start_time": "2023-05-30T10:05:44.454Z"
   },
   {
    "duration": 7,
    "start_time": "2023-05-30T10:05:44.639Z"
   },
   {
    "duration": 109,
    "start_time": "2023-05-30T10:05:44.649Z"
   },
   {
    "duration": 3,
    "start_time": "2023-05-30T10:05:44.760Z"
   },
   {
    "duration": 22,
    "start_time": "2023-05-30T10:05:44.764Z"
   },
   {
    "duration": 21,
    "start_time": "2023-05-30T10:05:44.788Z"
   },
   {
    "duration": 8,
    "start_time": "2023-05-30T10:05:44.811Z"
   },
   {
    "duration": 27,
    "start_time": "2023-05-30T10:05:44.820Z"
   },
   {
    "duration": 5,
    "start_time": "2023-05-30T10:05:44.852Z"
   },
   {
    "duration": 279,
    "start_time": "2023-05-30T10:05:44.858Z"
   },
   {
    "duration": 24,
    "start_time": "2023-05-30T10:05:45.139Z"
   },
   {
    "duration": 33,
    "start_time": "2023-05-30T10:05:45.165Z"
   },
   {
    "duration": 34,
    "start_time": "2023-05-30T10:05:45.200Z"
   },
   {
    "duration": 35,
    "start_time": "2023-05-30T10:05:45.236Z"
   },
   {
    "duration": 40,
    "start_time": "2023-05-30T10:05:45.273Z"
   },
   {
    "duration": 38,
    "start_time": "2023-05-30T10:05:45.315Z"
   },
   {
    "duration": 50,
    "start_time": "2023-05-30T10:05:45.355Z"
   },
   {
    "duration": 93483,
    "start_time": "2023-05-30T10:05:45.407Z"
   },
   {
    "duration": 300,
    "start_time": "2023-05-30T10:07:18.892Z"
   },
   {
    "duration": 1458,
    "start_time": "2023-05-30T10:07:19.194Z"
   },
   {
    "duration": 1316,
    "start_time": "2023-05-30T10:07:20.654Z"
   },
   {
    "duration": 14,
    "start_time": "2023-05-30T10:07:21.972Z"
   },
   {
    "duration": 24,
    "start_time": "2023-05-30T10:07:21.988Z"
   },
   {
    "duration": 27,
    "start_time": "2023-05-30T10:07:22.014Z"
   },
   {
    "duration": 198,
    "start_time": "2023-05-30T10:07:22.043Z"
   },
   {
    "duration": 167,
    "start_time": "2023-05-30T10:07:22.244Z"
   },
   {
    "duration": 135,
    "start_time": "2023-05-30T10:07:22.413Z"
   },
   {
    "duration": 3,
    "start_time": "2023-05-30T10:07:22.550Z"
   },
   {
    "duration": 5425,
    "start_time": "2023-05-30T10:07:22.554Z"
   },
   {
    "duration": 625,
    "start_time": "2023-05-30T10:07:27.981Z"
   },
   {
    "duration": 27,
    "start_time": "2023-05-30T10:07:28.607Z"
   },
   {
    "duration": 80,
    "start_time": "2023-05-30T10:07:28.635Z"
   },
   {
    "duration": 19,
    "start_time": "2023-05-30T10:07:28.716Z"
   },
   {
    "duration": 4,
    "start_time": "2023-05-30T10:07:28.740Z"
   },
   {
    "duration": 16,
    "start_time": "2023-05-30T10:07:28.746Z"
   },
   {
    "duration": 23,
    "start_time": "2023-05-30T10:07:28.767Z"
   },
   {
    "duration": 17,
    "start_time": "2023-05-30T10:07:28.793Z"
   },
   {
    "duration": 39,
    "start_time": "2023-05-30T10:07:28.811Z"
   },
   {
    "duration": 55,
    "start_time": "2023-05-30T10:07:28.852Z"
   },
   {
    "duration": 37,
    "start_time": "2023-05-30T10:07:28.909Z"
   },
   {
    "duration": 95,
    "start_time": "2023-05-30T10:07:28.948Z"
   },
   {
    "duration": 547,
    "start_time": "2023-05-30T10:07:29.045Z"
   },
   {
    "duration": 22,
    "start_time": "2023-05-30T10:07:29.593Z"
   },
   {
    "duration": 11,
    "start_time": "2023-05-30T10:07:29.632Z"
   },
   {
    "duration": 84,
    "start_time": "2023-05-30T10:09:38.196Z"
   },
   {
    "duration": 3,
    "start_time": "2023-05-30T10:11:12.751Z"
   },
   {
    "duration": 13,
    "start_time": "2023-05-30T10:11:13.289Z"
   },
   {
    "duration": 2,
    "start_time": "2023-05-30T10:11:13.473Z"
   },
   {
    "duration": 42,
    "start_time": "2023-05-30T10:11:13.652Z"
   },
   {
    "duration": 113,
    "start_time": "2023-05-30T10:11:13.787Z"
   },
   {
    "duration": 79,
    "start_time": "2023-05-30T10:11:13.962Z"
   },
   {
    "duration": 3,
    "start_time": "2023-05-30T10:11:14.648Z"
   },
   {
    "duration": 165,
    "start_time": "2023-05-30T10:11:14.952Z"
   },
   {
    "duration": 4,
    "start_time": "2023-05-30T10:11:16.056Z"
   },
   {
    "duration": 78,
    "start_time": "2023-06-01T14:18:50.982Z"
   },
   {
    "duration": 3024,
    "start_time": "2023-06-01T14:19:37.392Z"
   },
   {
    "duration": 1874,
    "start_time": "2023-06-01T14:19:40.607Z"
   },
   {
    "duration": 3,
    "start_time": "2023-06-01T14:19:42.483Z"
   },
   {
    "duration": 1680,
    "start_time": "2023-06-01T14:19:42.488Z"
   },
   {
    "duration": 2,
    "start_time": "2023-06-01T14:19:44.170Z"
   },
   {
    "duration": 20,
    "start_time": "2023-06-01T14:19:44.174Z"
   },
   {
    "duration": 189,
    "start_time": "2023-06-01T14:19:44.197Z"
   },
   {
    "duration": 6,
    "start_time": "2023-06-01T14:19:44.388Z"
   },
   {
    "duration": 114,
    "start_time": "2023-06-01T14:19:44.396Z"
   },
   {
    "duration": 3,
    "start_time": "2023-06-01T14:19:44.512Z"
   },
   {
    "duration": 34,
    "start_time": "2023-06-01T14:19:44.524Z"
   },
   {
    "duration": 15,
    "start_time": "2023-06-01T14:19:44.561Z"
   },
   {
    "duration": 5,
    "start_time": "2023-06-01T14:19:44.578Z"
   },
   {
    "duration": 10,
    "start_time": "2023-06-01T14:19:44.924Z"
   },
   {
    "duration": 8,
    "start_time": "2023-06-01T14:19:45.055Z"
   },
   {
    "duration": 393,
    "start_time": "2023-06-01T14:19:45.192Z"
   },
   {
    "duration": 38,
    "start_time": "2023-06-01T14:19:45.589Z"
   },
   {
    "duration": 17,
    "start_time": "2023-06-01T14:19:45.782Z"
   },
   {
    "duration": 9,
    "start_time": "2023-06-01T14:19:45.956Z"
   },
   {
    "duration": 23,
    "start_time": "2023-06-01T14:19:46.267Z"
   },
   {
    "duration": 37,
    "start_time": "2023-06-01T14:19:46.586Z"
   },
   {
    "duration": 28,
    "start_time": "2023-06-01T14:19:46.749Z"
   },
   {
    "duration": 39,
    "start_time": "2023-06-01T14:19:47.054Z"
   },
   {
    "duration": 125181,
    "start_time": "2023-06-01T14:19:47.206Z"
   },
   {
    "duration": 399,
    "start_time": "2023-06-01T14:21:52.389Z"
   },
   {
    "duration": 1587,
    "start_time": "2023-06-01T14:21:52.790Z"
   },
   {
    "duration": 1602,
    "start_time": "2023-06-01T14:21:54.379Z"
   },
   {
    "duration": 25,
    "start_time": "2023-06-01T14:21:55.983Z"
   },
   {
    "duration": 62,
    "start_time": "2023-06-01T14:21:56.010Z"
   },
   {
    "duration": 7,
    "start_time": "2023-06-01T14:21:56.074Z"
   },
   {
    "duration": 262,
    "start_time": "2023-06-01T14:21:56.083Z"
   },
   {
    "duration": 221,
    "start_time": "2023-06-01T14:21:56.348Z"
   },
   {
    "duration": 193,
    "start_time": "2023-06-01T14:21:56.575Z"
   },
   {
    "duration": 4,
    "start_time": "2023-06-01T14:21:56.775Z"
   },
   {
    "duration": 6887,
    "start_time": "2023-06-01T14:21:56.782Z"
   },
   {
    "duration": 568,
    "start_time": "2023-06-01T14:22:03.675Z"
   },
   {
    "duration": 23,
    "start_time": "2023-06-01T14:22:04.246Z"
   },
   {
    "duration": 85,
    "start_time": "2023-06-01T14:22:04.273Z"
   },
   {
    "duration": 2,
    "start_time": "2023-06-01T14:22:04.360Z"
   },
   {
    "duration": 24,
    "start_time": "2023-06-01T14:22:04.364Z"
   },
   {
    "duration": 18,
    "start_time": "2023-06-01T14:22:04.389Z"
   },
   {
    "duration": 29,
    "start_time": "2023-06-01T14:22:04.409Z"
   },
   {
    "duration": 27,
    "start_time": "2023-06-01T14:22:04.439Z"
   },
   {
    "duration": 36,
    "start_time": "2023-06-01T14:22:04.468Z"
   },
   {
    "duration": 65,
    "start_time": "2023-06-01T14:23:25.010Z"
   },
   {
    "duration": 19,
    "start_time": "2023-06-01T14:23:26.848Z"
   },
   {
    "duration": 69,
    "start_time": "2023-06-01T14:23:27.854Z"
   },
   {
    "duration": 613,
    "start_time": "2023-06-01T14:23:28.208Z"
   },
   {
    "duration": 31,
    "start_time": "2023-06-01T14:23:28.823Z"
   },
   {
    "duration": 3,
    "start_time": "2023-06-01T14:23:31.912Z"
   },
   {
    "duration": 3,
    "start_time": "2023-06-01T14:23:35.052Z"
   },
   {
    "duration": 16,
    "start_time": "2023-06-01T14:23:35.947Z"
   },
   {
    "duration": 5,
    "start_time": "2023-06-01T14:23:36.784Z"
   },
   {
    "duration": 52,
    "start_time": "2023-06-01T14:23:37.839Z"
   },
   {
    "duration": 33,
    "start_time": "2023-06-01T14:23:39.320Z"
   },
   {
    "duration": 22,
    "start_time": "2023-06-01T14:23:40.854Z"
   },
   {
    "duration": 23,
    "start_time": "2023-06-01T14:23:42.683Z"
   },
   {
    "duration": 29,
    "start_time": "2023-06-01T14:23:43.823Z"
   },
   {
    "duration": 43678,
    "start_time": "2023-06-01T14:23:45.398Z"
   },
   {
    "duration": 11,
    "start_time": "2023-06-01T14:24:29.078Z"
   },
   {
    "duration": 11,
    "start_time": "2023-06-01T14:24:29.090Z"
   },
   {
    "duration": 7,
    "start_time": "2023-06-01T14:24:42.245Z"
   },
   {
    "duration": 336,
    "start_time": "2023-06-01T14:27:16.882Z"
   },
   {
    "duration": 142,
    "start_time": "2023-06-01T14:27:25.050Z"
   },
   {
    "duration": 8,
    "start_time": "2023-06-01T14:27:30.433Z"
   },
   {
    "duration": 3,
    "start_time": "2023-06-01T14:27:30.811Z"
   },
   {
    "duration": 22,
    "start_time": "2023-06-01T14:27:33.052Z"
   },
   {
    "duration": 2560,
    "start_time": "2023-06-01T14:32:56.706Z"
   },
   {
    "duration": 1849,
    "start_time": "2023-06-01T14:32:59.269Z"
   },
   {
    "duration": 2,
    "start_time": "2023-06-01T14:33:01.120Z"
   },
   {
    "duration": 1156,
    "start_time": "2023-06-01T14:33:01.125Z"
   },
   {
    "duration": 3,
    "start_time": "2023-06-01T14:33:02.283Z"
   },
   {
    "duration": 46,
    "start_time": "2023-06-01T14:33:02.288Z"
   },
   {
    "duration": 248,
    "start_time": "2023-06-01T14:33:02.339Z"
   },
   {
    "duration": 7,
    "start_time": "2023-06-01T14:33:02.589Z"
   },
   {
    "duration": 122,
    "start_time": "2023-06-01T14:33:02.598Z"
   },
   {
    "duration": 8,
    "start_time": "2023-06-01T14:33:02.723Z"
   },
   {
    "duration": 48,
    "start_time": "2023-06-01T14:33:02.733Z"
   },
   {
    "duration": 18,
    "start_time": "2023-06-01T14:33:02.782Z"
   },
   {
    "duration": 14,
    "start_time": "2023-06-01T14:33:02.802Z"
   },
   {
    "duration": 3,
    "start_time": "2023-06-01T14:33:03.558Z"
   },
   {
    "duration": 7,
    "start_time": "2023-06-01T14:33:03.753Z"
   },
   {
    "duration": 302,
    "start_time": "2023-06-01T14:33:03.951Z"
   },
   {
    "duration": 35,
    "start_time": "2023-06-01T14:33:04.483Z"
   },
   {
    "duration": 22,
    "start_time": "2023-06-01T14:33:06.844Z"
   },
   {
    "duration": 3,
    "start_time": "2023-06-01T14:33:07.017Z"
   },
   {
    "duration": 28,
    "start_time": "2023-06-01T14:33:07.385Z"
   },
   {
    "duration": 41,
    "start_time": "2023-06-01T14:33:07.753Z"
   },
   {
    "duration": 27,
    "start_time": "2023-06-01T14:33:07.929Z"
   },
   {
    "duration": 39,
    "start_time": "2023-06-01T14:33:08.451Z"
   },
   {
    "duration": 111788,
    "start_time": "2023-06-01T14:33:08.777Z"
   },
   {
    "duration": 317,
    "start_time": "2023-06-01T14:35:00.567Z"
   },
   {
    "duration": 1803,
    "start_time": "2023-06-01T14:35:00.886Z"
   },
   {
    "duration": 1477,
    "start_time": "2023-06-01T14:35:02.691Z"
   },
   {
    "duration": 26,
    "start_time": "2023-06-01T14:35:04.169Z"
   },
   {
    "duration": 20,
    "start_time": "2023-06-01T14:35:04.196Z"
   },
   {
    "duration": 47,
    "start_time": "2023-06-01T14:35:04.217Z"
   },
   {
    "duration": 219,
    "start_time": "2023-06-01T14:35:04.266Z"
   },
   {
    "duration": 183,
    "start_time": "2023-06-01T14:35:04.487Z"
   },
   {
    "duration": 180,
    "start_time": "2023-06-01T14:35:04.673Z"
   },
   {
    "duration": 6,
    "start_time": "2023-06-01T14:35:04.858Z"
   },
   {
    "duration": 6292,
    "start_time": "2023-06-01T14:35:04.866Z"
   },
   {
    "duration": 597,
    "start_time": "2023-06-01T14:35:11.165Z"
   },
   {
    "duration": 16,
    "start_time": "2023-06-01T14:35:11.763Z"
   },
   {
    "duration": 189,
    "start_time": "2023-06-01T14:35:11.781Z"
   },
   {
    "duration": 3,
    "start_time": "2023-06-01T14:35:11.972Z"
   },
   {
    "duration": 145,
    "start_time": "2023-06-01T14:35:11.976Z"
   },
   {
    "duration": 47,
    "start_time": "2023-06-01T14:35:12.122Z"
   },
   {
    "duration": 22,
    "start_time": "2023-06-01T14:35:12.171Z"
   },
   {
    "duration": 17,
    "start_time": "2023-06-01T14:35:12.195Z"
   },
   {
    "duration": 27,
    "start_time": "2023-06-01T14:35:12.214Z"
   },
   {
    "duration": 46,
    "start_time": "2023-06-01T14:35:12.242Z"
   },
   {
    "duration": 17,
    "start_time": "2023-06-01T14:35:12.290Z"
   },
   {
    "duration": 97,
    "start_time": "2023-06-01T14:35:12.309Z"
   },
   {
    "duration": 595,
    "start_time": "2023-06-01T14:35:12.407Z"
   },
   {
    "duration": 39,
    "start_time": "2023-06-01T14:35:13.003Z"
   },
   {
    "duration": 4,
    "start_time": "2023-06-01T14:35:13.044Z"
   },
   {
    "duration": 15,
    "start_time": "2023-06-01T14:35:13.052Z"
   },
   {
    "duration": 19,
    "start_time": "2023-06-01T14:35:13.068Z"
   },
   {
    "duration": 3,
    "start_time": "2023-06-01T14:35:13.089Z"
   },
   {
    "duration": 61,
    "start_time": "2023-06-01T14:35:13.093Z"
   },
   {
    "duration": 15,
    "start_time": "2023-06-01T14:35:13.157Z"
   },
   {
    "duration": 38,
    "start_time": "2023-06-01T14:35:13.173Z"
   },
   {
    "duration": 32,
    "start_time": "2023-06-01T14:35:13.212Z"
   },
   {
    "duration": 26,
    "start_time": "2023-06-01T14:35:13.247Z"
   },
   {
    "duration": 45612,
    "start_time": "2023-06-01T14:35:13.275Z"
   },
   {
    "duration": 16,
    "start_time": "2023-06-01T14:35:58.889Z"
   },
   {
    "duration": 2571,
    "start_time": "2023-06-01T14:36:44.307Z"
   },
   {
    "duration": 1722,
    "start_time": "2023-06-01T14:36:46.881Z"
   },
   {
    "duration": 3,
    "start_time": "2023-06-01T14:36:48.604Z"
   },
   {
    "duration": 994,
    "start_time": "2023-06-01T14:36:48.609Z"
   },
   {
    "duration": 3,
    "start_time": "2023-06-01T14:36:49.605Z"
   },
   {
    "duration": 70,
    "start_time": "2023-06-01T14:36:49.610Z"
   },
   {
    "duration": 183,
    "start_time": "2023-06-01T14:36:49.682Z"
   },
   {
    "duration": 7,
    "start_time": "2023-06-01T14:36:49.866Z"
   },
   {
    "duration": 181,
    "start_time": "2023-06-01T14:36:49.875Z"
   },
   {
    "duration": 3,
    "start_time": "2023-06-01T14:36:50.059Z"
   },
   {
    "duration": 19,
    "start_time": "2023-06-01T14:36:50.065Z"
   },
   {
    "duration": 19,
    "start_time": "2023-06-01T14:36:50.085Z"
   },
   {
    "duration": 8,
    "start_time": "2023-06-01T14:36:50.106Z"
   },
   {
    "duration": 46,
    "start_time": "2023-06-01T14:36:50.116Z"
   },
   {
    "duration": 11,
    "start_time": "2023-06-01T14:36:50.164Z"
   },
   {
    "duration": 323,
    "start_time": "2023-06-01T14:36:50.176Z"
   },
   {
    "duration": 49,
    "start_time": "2023-06-01T14:36:50.501Z"
   },
   {
    "duration": 37,
    "start_time": "2023-06-01T14:36:50.557Z"
   },
   {
    "duration": 41,
    "start_time": "2023-06-01T14:36:50.597Z"
   },
   {
    "duration": 48,
    "start_time": "2023-06-01T14:36:50.640Z"
   },
   {
    "duration": 99,
    "start_time": "2023-06-01T14:36:50.690Z"
   },
   {
    "duration": 91,
    "start_time": "2023-06-01T14:36:50.791Z"
   },
   {
    "duration": 92,
    "start_time": "2023-06-01T14:36:50.884Z"
   },
   {
    "duration": 112031,
    "start_time": "2023-06-01T14:36:50.979Z"
   },
   {
    "duration": 387,
    "start_time": "2023-06-01T14:38:43.012Z"
   },
   {
    "duration": 2269,
    "start_time": "2023-06-01T14:38:43.401Z"
   },
   {
    "duration": 2304,
    "start_time": "2023-06-01T14:38:45.673Z"
   },
   {
    "duration": 17,
    "start_time": "2023-06-01T14:38:47.979Z"
   },
   {
    "duration": 30,
    "start_time": "2023-06-01T14:38:47.998Z"
   },
   {
    "duration": 7,
    "start_time": "2023-06-01T14:38:48.034Z"
   },
   {
    "duration": 255,
    "start_time": "2023-06-01T14:38:48.042Z"
   },
   {
    "duration": 236,
    "start_time": "2023-06-01T14:38:48.299Z"
   },
   {
    "duration": 165,
    "start_time": "2023-06-01T14:38:48.542Z"
   },
   {
    "duration": 4,
    "start_time": "2023-06-01T14:38:48.709Z"
   },
   {
    "duration": 6305,
    "start_time": "2023-06-01T14:38:48.715Z"
   },
   {
    "duration": 663,
    "start_time": "2023-06-01T14:38:55.023Z"
   },
   {
    "duration": 16,
    "start_time": "2023-06-01T14:38:55.687Z"
   },
   {
    "duration": 100,
    "start_time": "2023-06-01T14:38:55.704Z"
   },
   {
    "duration": 3,
    "start_time": "2023-06-01T14:38:55.806Z"
   },
   {
    "duration": 34,
    "start_time": "2023-06-01T14:38:55.825Z"
   },
   {
    "duration": 18,
    "start_time": "2023-06-01T14:38:55.860Z"
   },
   {
    "duration": 21,
    "start_time": "2023-06-01T14:38:55.880Z"
   },
   {
    "duration": 30,
    "start_time": "2023-06-01T14:38:55.903Z"
   },
   {
    "duration": 46,
    "start_time": "2023-06-01T14:38:55.938Z"
   },
   {
    "duration": 53,
    "start_time": "2023-06-01T14:38:55.985Z"
   },
   {
    "duration": 25,
    "start_time": "2023-06-01T14:38:56.040Z"
   },
   {
    "duration": 113,
    "start_time": "2023-06-01T14:38:56.066Z"
   },
   {
    "duration": 628,
    "start_time": "2023-06-01T14:38:56.181Z"
   },
   {
    "duration": 26,
    "start_time": "2023-06-01T14:38:56.810Z"
   },
   {
    "duration": 46,
    "start_time": "2023-06-01T14:38:56.840Z"
   },
   {
    "duration": 14,
    "start_time": "2023-06-01T14:38:56.888Z"
   },
   {
    "duration": 66,
    "start_time": "2023-06-01T14:38:56.904Z"
   },
   {
    "duration": 8,
    "start_time": "2023-06-01T14:38:56.973Z"
   },
   {
    "duration": 89,
    "start_time": "2023-06-01T14:38:56.983Z"
   },
   {
    "duration": 16,
    "start_time": "2023-06-01T14:38:57.074Z"
   },
   {
    "duration": 62,
    "start_time": "2023-06-01T14:38:57.092Z"
   },
   {
    "duration": 36,
    "start_time": "2023-06-01T14:38:57.162Z"
   },
   {
    "duration": 31,
    "start_time": "2023-06-01T14:38:57.200Z"
   },
   {
    "duration": 47146,
    "start_time": "2023-06-01T14:38:57.248Z"
   },
   {
    "duration": 11,
    "start_time": "2023-06-01T14:39:44.396Z"
   },
   {
    "duration": 6,
    "start_time": "2023-06-01T14:39:44.409Z"
   },
   {
    "duration": 384,
    "start_time": "2023-06-01T14:39:44.430Z"
   },
   {
    "duration": 3,
    "start_time": "2023-06-01T14:39:44.819Z"
   },
   {
    "duration": 58,
    "start_time": "2023-06-01T14:39:44.826Z"
   },
   {
    "duration": 767,
    "start_time": "2023-06-01T14:39:44.886Z"
   },
   {
    "duration": 772,
    "start_time": "2023-06-01T14:56:53.758Z"
   },
   {
    "duration": 791,
    "start_time": "2023-06-01T14:57:11.875Z"
   },
   {
    "duration": 5,
    "start_time": "2023-06-01T14:57:15.696Z"
   },
   {
    "duration": 4,
    "start_time": "2023-06-01T14:57:16.373Z"
   },
   {
    "duration": 3,
    "start_time": "2023-06-01T14:57:18.779Z"
   },
   {
    "duration": 3,
    "start_time": "2023-06-01T14:57:20.055Z"
   },
   {
    "duration": 7,
    "start_time": "2023-06-01T14:57:20.452Z"
   },
   {
    "duration": 3,
    "start_time": "2023-06-01T14:57:21.521Z"
   },
   {
    "duration": 3,
    "start_time": "2023-06-01T14:57:22.861Z"
   },
   {
    "duration": 3,
    "start_time": "2023-06-01T14:57:23.761Z"
   },
   {
    "duration": 45348,
    "start_time": "2023-06-01T14:57:24.113Z"
   },
   {
    "duration": 7,
    "start_time": "2023-06-01T14:58:09.525Z"
   },
   {
    "duration": 3407,
    "start_time": "2023-06-01T14:58:09.533Z"
   },
   {
    "duration": 88,
    "start_time": "2023-06-01T14:58:12.945Z"
   },
   {
    "duration": 48,
    "start_time": "2023-06-01T16:02:27.480Z"
   },
   {
    "duration": 2472,
    "start_time": "2023-06-01T16:02:31.897Z"
   },
   {
    "duration": 1769,
    "start_time": "2023-06-01T16:02:34.371Z"
   },
   {
    "duration": 5,
    "start_time": "2023-06-01T16:02:36.146Z"
   },
   {
    "duration": 1328,
    "start_time": "2023-06-01T16:02:36.153Z"
   },
   {
    "duration": 2,
    "start_time": "2023-06-01T16:02:37.484Z"
   },
   {
    "duration": 40,
    "start_time": "2023-06-01T16:02:37.488Z"
   },
   {
    "duration": 154,
    "start_time": "2023-06-01T16:02:37.530Z"
   },
   {
    "duration": 6,
    "start_time": "2023-06-01T16:02:37.686Z"
   },
   {
    "duration": 122,
    "start_time": "2023-06-01T16:02:37.693Z"
   },
   {
    "duration": 2,
    "start_time": "2023-06-01T16:02:37.817Z"
   },
   {
    "duration": 12,
    "start_time": "2023-06-01T16:02:37.821Z"
   },
   {
    "duration": 24,
    "start_time": "2023-06-01T16:02:37.834Z"
   },
   {
    "duration": 8,
    "start_time": "2023-06-01T16:02:37.860Z"
   },
   {
    "duration": 6,
    "start_time": "2023-06-01T16:02:37.872Z"
   },
   {
    "duration": 8,
    "start_time": "2023-06-01T16:02:37.879Z"
   },
   {
    "duration": 249,
    "start_time": "2023-06-01T16:02:37.889Z"
   },
   {
    "duration": 32,
    "start_time": "2023-06-01T16:02:38.145Z"
   },
   {
    "duration": 20,
    "start_time": "2023-06-01T16:02:38.180Z"
   },
   {
    "duration": 6,
    "start_time": "2023-06-01T16:02:38.202Z"
   },
   {
    "duration": 50,
    "start_time": "2023-06-01T16:02:38.210Z"
   },
   {
    "duration": 40,
    "start_time": "2023-06-01T16:02:38.262Z"
   },
   {
    "duration": 21,
    "start_time": "2023-06-01T16:02:38.304Z"
   },
   {
    "duration": 75,
    "start_time": "2023-06-01T16:02:38.328Z"
   },
   {
    "duration": 85038,
    "start_time": "2023-06-01T16:02:38.406Z"
   },
   {
    "duration": 224,
    "start_time": "2023-06-01T16:04:03.446Z"
   },
   {
    "duration": 1778,
    "start_time": "2023-06-01T16:04:03.672Z"
   },
   {
    "duration": 1464,
    "start_time": "2023-06-01T16:04:05.452Z"
   },
   {
    "duration": 36,
    "start_time": "2023-06-01T16:04:06.918Z"
   },
   {
    "duration": 34,
    "start_time": "2023-06-01T16:04:06.956Z"
   },
   {
    "duration": 17,
    "start_time": "2023-06-01T16:04:06.992Z"
   },
   {
    "duration": 204,
    "start_time": "2023-06-01T16:04:07.010Z"
   },
   {
    "duration": 185,
    "start_time": "2023-06-01T16:04:07.215Z"
   },
   {
    "duration": 164,
    "start_time": "2023-06-01T16:04:07.402Z"
   },
   {
    "duration": 3,
    "start_time": "2023-06-01T16:04:07.568Z"
   },
   {
    "duration": 5432,
    "start_time": "2023-06-01T16:04:07.573Z"
   },
   {
    "duration": 536,
    "start_time": "2023-06-01T16:04:13.008Z"
   },
   {
    "duration": 17,
    "start_time": "2023-06-01T16:04:13.545Z"
   },
   {
    "duration": 122,
    "start_time": "2023-06-01T16:04:13.564Z"
   },
   {
    "duration": 3,
    "start_time": "2023-06-01T16:04:13.687Z"
   },
   {
    "duration": 8,
    "start_time": "2023-06-01T16:04:13.692Z"
   },
   {
    "duration": 17,
    "start_time": "2023-06-01T16:04:13.704Z"
   },
   {
    "duration": 38,
    "start_time": "2023-06-01T16:04:13.723Z"
   },
   {
    "duration": 18,
    "start_time": "2023-06-01T16:04:13.762Z"
   },
   {
    "duration": 31,
    "start_time": "2023-06-01T16:04:13.782Z"
   },
   {
    "duration": 71,
    "start_time": "2023-06-01T16:04:13.815Z"
   },
   {
    "duration": 20,
    "start_time": "2023-06-01T16:04:13.888Z"
   },
   {
    "duration": 106,
    "start_time": "2023-06-01T16:04:13.910Z"
   },
   {
    "duration": 574,
    "start_time": "2023-06-01T16:04:14.018Z"
   },
   {
    "duration": 21,
    "start_time": "2023-06-01T16:04:14.594Z"
   },
   {
    "duration": 5,
    "start_time": "2023-06-01T16:04:14.617Z"
   },
   {
    "duration": 3,
    "start_time": "2023-06-01T16:04:14.644Z"
   },
   {
    "duration": 20,
    "start_time": "2023-06-01T16:04:14.649Z"
   },
   {
    "duration": 3,
    "start_time": "2023-06-01T16:04:14.671Z"
   },
   {
    "duration": 103,
    "start_time": "2023-06-01T16:04:14.677Z"
   },
   {
    "duration": 16,
    "start_time": "2023-06-01T16:04:14.782Z"
   },
   {
    "duration": 46,
    "start_time": "2023-06-01T16:04:14.800Z"
   },
   {
    "duration": 33,
    "start_time": "2023-06-01T16:04:14.849Z"
   },
   {
    "duration": 14,
    "start_time": "2023-06-01T16:04:14.884Z"
   },
   {
    "duration": 37873,
    "start_time": "2023-06-01T16:04:14.901Z"
   },
   {
    "duration": 2161,
    "start_time": "2023-06-01T16:04:53.311Z"
   },
   {
    "duration": 7,
    "start_time": "2023-06-01T16:04:55.474Z"
   },
   {
    "duration": 37,
    "start_time": "2023-06-01T16:04:55.482Z"
   },
   {
    "duration": 882,
    "start_time": "2023-06-01T16:04:55.522Z"
   },
   {
    "duration": 2,
    "start_time": "2023-06-01T16:04:56.408Z"
   },
   {
    "duration": 31,
    "start_time": "2023-06-01T16:04:56.413Z"
   },
   {
    "duration": 122,
    "start_time": "2023-06-01T16:04:56.446Z"
   },
   {
    "duration": 7,
    "start_time": "2023-06-01T16:04:56.570Z"
   },
   {
    "duration": 120,
    "start_time": "2023-06-01T16:04:56.579Z"
   },
   {
    "duration": 3,
    "start_time": "2023-06-01T16:04:56.702Z"
   },
   {
    "duration": 10,
    "start_time": "2023-06-01T16:04:56.707Z"
   },
   {
    "duration": 6,
    "start_time": "2023-06-01T16:04:56.719Z"
   },
   {
    "duration": 21,
    "start_time": "2023-06-01T16:04:56.726Z"
   },
   {
    "duration": 9,
    "start_time": "2023-06-01T16:04:56.750Z"
   },
   {
    "duration": 11,
    "start_time": "2023-06-01T16:04:56.761Z"
   },
   {
    "duration": 216,
    "start_time": "2023-06-01T16:04:56.774Z"
   },
   {
    "duration": 20,
    "start_time": "2023-06-01T16:04:56.992Z"
   },
   {
    "duration": 16,
    "start_time": "2023-06-01T16:04:57.014Z"
   },
   {
    "duration": 15,
    "start_time": "2023-06-01T16:04:57.043Z"
   },
   {
    "duration": 23,
    "start_time": "2023-06-01T16:04:57.060Z"
   },
   {
    "duration": 33,
    "start_time": "2023-06-01T16:04:57.085Z"
   },
   {
    "duration": 22,
    "start_time": "2023-06-01T16:04:57.120Z"
   },
   {
    "duration": 30,
    "start_time": "2023-06-01T16:04:57.143Z"
   },
   {
    "duration": 84694,
    "start_time": "2023-06-01T16:04:57.175Z"
   },
   {
    "duration": 220,
    "start_time": "2023-06-01T16:06:21.870Z"
   },
   {
    "duration": 1440,
    "start_time": "2023-06-01T16:06:22.092Z"
   },
   {
    "duration": 1415,
    "start_time": "2023-06-01T16:06:23.533Z"
   },
   {
    "duration": 19,
    "start_time": "2023-06-01T16:06:24.952Z"
   },
   {
    "duration": 13,
    "start_time": "2023-06-01T16:06:24.972Z"
   },
   {
    "duration": 14,
    "start_time": "2023-06-01T16:06:24.987Z"
   },
   {
    "duration": 171,
    "start_time": "2023-06-01T16:06:25.003Z"
   },
   {
    "duration": 177,
    "start_time": "2023-06-01T16:06:25.176Z"
   },
   {
    "duration": 139,
    "start_time": "2023-06-01T16:06:25.356Z"
   },
   {
    "duration": 4,
    "start_time": "2023-06-01T16:06:25.496Z"
   },
   {
    "duration": 5346,
    "start_time": "2023-06-01T16:06:25.502Z"
   },
   {
    "duration": 764,
    "start_time": "2023-06-01T16:06:30.850Z"
   },
   {
    "duration": 33,
    "start_time": "2023-06-01T16:06:31.616Z"
   },
   {
    "duration": 139,
    "start_time": "2023-06-01T16:06:31.651Z"
   },
   {
    "duration": 3,
    "start_time": "2023-06-01T16:06:31.794Z"
   },
   {
    "duration": 10,
    "start_time": "2023-06-01T16:06:31.800Z"
   },
   {
    "duration": 32,
    "start_time": "2023-06-01T16:06:31.813Z"
   },
   {
    "duration": 29,
    "start_time": "2023-06-01T16:06:31.848Z"
   },
   {
    "duration": 28,
    "start_time": "2023-06-01T16:06:31.879Z"
   },
   {
    "duration": 41,
    "start_time": "2023-06-01T16:06:31.909Z"
   },
   {
    "duration": 53,
    "start_time": "2023-06-01T16:06:31.952Z"
   },
   {
    "duration": 36,
    "start_time": "2023-06-01T16:06:32.007Z"
   },
   {
    "duration": 129,
    "start_time": "2023-06-01T16:06:32.045Z"
   },
   {
    "duration": 521,
    "start_time": "2023-06-01T16:06:32.176Z"
   },
   {
    "duration": 20,
    "start_time": "2023-06-01T16:06:32.699Z"
   },
   {
    "duration": 6,
    "start_time": "2023-06-01T16:06:32.720Z"
   },
   {
    "duration": 22,
    "start_time": "2023-06-01T16:06:32.728Z"
   },
   {
    "duration": 46,
    "start_time": "2023-06-01T16:06:32.752Z"
   },
   {
    "duration": 11,
    "start_time": "2023-06-01T16:06:32.800Z"
   },
   {
    "duration": 135,
    "start_time": "2023-06-01T16:06:32.813Z"
   },
   {
    "duration": 14,
    "start_time": "2023-06-01T16:06:32.951Z"
   },
   {
    "duration": 24,
    "start_time": "2023-06-01T16:06:32.967Z"
   },
   {
    "duration": 21,
    "start_time": "2023-06-01T16:06:32.993Z"
   },
   {
    "duration": 35,
    "start_time": "2023-06-01T16:06:33.016Z"
   },
   {
    "duration": 7,
    "start_time": "2023-06-01T16:06:33.054Z"
   },
   {
    "duration": 35,
    "start_time": "2023-06-01T16:06:33.064Z"
   },
   {
    "duration": 5,
    "start_time": "2023-06-01T16:07:55.456Z"
   },
   {
    "duration": 50,
    "start_time": "2023-06-01T16:08:24.091Z"
   },
   {
    "duration": 37,
    "start_time": "2023-06-01T16:08:42.799Z"
   },
   {
    "duration": 39,
    "start_time": "2023-06-01T16:08:46.394Z"
   },
   {
    "duration": 58,
    "start_time": "2023-06-01T16:13:49.099Z"
   },
   {
    "duration": 45,
    "start_time": "2023-06-01T16:14:00.687Z"
   },
   {
    "duration": 52,
    "start_time": "2023-06-01T16:14:03.606Z"
   },
   {
    "duration": 48,
    "start_time": "2023-06-01T16:14:05.915Z"
   },
   {
    "duration": 48,
    "start_time": "2023-06-01T16:14:07.691Z"
   },
   {
    "duration": 80,
    "start_time": "2023-06-01T16:15:20.654Z"
   },
   {
    "duration": 5,
    "start_time": "2023-06-01T16:15:32.597Z"
   },
   {
    "duration": 14,
    "start_time": "2023-06-01T16:18:18.913Z"
   },
   {
    "duration": 30,
    "start_time": "2023-06-01T16:18:22.101Z"
   },
   {
    "duration": 50,
    "start_time": "2023-06-01T16:19:04.462Z"
   },
   {
    "duration": 12,
    "start_time": "2023-06-01T16:19:09.093Z"
   },
   {
    "duration": 1982,
    "start_time": "2023-06-01T16:21:35.017Z"
   },
   {
    "duration": 6,
    "start_time": "2023-06-01T16:21:37.002Z"
   },
   {
    "duration": 21,
    "start_time": "2023-06-01T16:21:37.010Z"
   },
   {
    "duration": 812,
    "start_time": "2023-06-01T16:21:37.034Z"
   },
   {
    "duration": 2,
    "start_time": "2023-06-01T16:21:37.848Z"
   },
   {
    "duration": 20,
    "start_time": "2023-06-01T16:21:37.852Z"
   },
   {
    "duration": 125,
    "start_time": "2023-06-01T16:21:37.874Z"
   },
   {
    "duration": 6,
    "start_time": "2023-06-01T16:21:38.001Z"
   },
   {
    "duration": 133,
    "start_time": "2023-06-01T16:21:38.009Z"
   },
   {
    "duration": 4,
    "start_time": "2023-06-01T16:21:38.146Z"
   },
   {
    "duration": 22,
    "start_time": "2023-06-01T16:21:38.152Z"
   },
   {
    "duration": 11,
    "start_time": "2023-06-01T16:21:38.176Z"
   },
   {
    "duration": 13,
    "start_time": "2023-06-01T16:21:38.189Z"
   },
   {
    "duration": 10,
    "start_time": "2023-06-01T16:21:38.204Z"
   },
   {
    "duration": 8,
    "start_time": "2023-06-01T16:21:38.216Z"
   },
   {
    "duration": 355,
    "start_time": "2023-06-01T16:21:38.226Z"
   },
   {
    "duration": 21,
    "start_time": "2023-06-01T16:21:38.582Z"
   },
   {
    "duration": 14,
    "start_time": "2023-06-01T16:21:38.605Z"
   },
   {
    "duration": 2,
    "start_time": "2023-06-01T16:21:38.643Z"
   },
   {
    "duration": 43,
    "start_time": "2023-06-01T16:21:38.647Z"
   },
   {
    "duration": 43,
    "start_time": "2023-06-01T16:21:38.692Z"
   },
   {
    "duration": 33,
    "start_time": "2023-06-01T16:21:38.737Z"
   },
   {
    "duration": 37,
    "start_time": "2023-06-01T16:21:38.773Z"
   },
   {
    "duration": 81438,
    "start_time": "2023-06-01T16:21:38.812Z"
   },
   {
    "duration": 240,
    "start_time": "2023-06-01T16:23:00.253Z"
   },
   {
    "duration": 1688,
    "start_time": "2023-06-01T16:23:00.495Z"
   },
   {
    "duration": 1574,
    "start_time": "2023-06-01T16:23:02.185Z"
   },
   {
    "duration": 20,
    "start_time": "2023-06-01T16:23:03.763Z"
   },
   {
    "duration": 32,
    "start_time": "2023-06-01T16:23:03.784Z"
   },
   {
    "duration": 10,
    "start_time": "2023-06-01T16:23:03.818Z"
   },
   {
    "duration": 220,
    "start_time": "2023-06-01T16:23:03.829Z"
   },
   {
    "duration": 213,
    "start_time": "2023-06-01T16:23:04.052Z"
   },
   {
    "duration": 146,
    "start_time": "2023-06-01T16:23:04.267Z"
   },
   {
    "duration": 4,
    "start_time": "2023-06-01T16:23:04.415Z"
   },
   {
    "duration": 5714,
    "start_time": "2023-06-01T16:23:04.421Z"
   },
   {
    "duration": 557,
    "start_time": "2023-06-01T16:23:10.138Z"
   },
   {
    "duration": 18,
    "start_time": "2023-06-01T16:23:10.696Z"
   },
   {
    "duration": 113,
    "start_time": "2023-06-01T16:23:10.715Z"
   },
   {
    "duration": 2,
    "start_time": "2023-06-01T16:23:10.830Z"
   },
   {
    "duration": 4,
    "start_time": "2023-06-01T16:23:10.841Z"
   },
   {
    "duration": 27,
    "start_time": "2023-06-01T16:23:10.846Z"
   },
   {
    "duration": 24,
    "start_time": "2023-06-01T16:23:10.875Z"
   },
   {
    "duration": 45,
    "start_time": "2023-06-01T16:23:10.901Z"
   },
   {
    "duration": 25,
    "start_time": "2023-06-01T16:23:10.950Z"
   },
   {
    "duration": 65,
    "start_time": "2023-06-01T16:23:10.977Z"
   },
   {
    "duration": 27,
    "start_time": "2023-06-01T16:23:11.045Z"
   },
   {
    "duration": 108,
    "start_time": "2023-06-01T16:23:11.074Z"
   },
   {
    "duration": 514,
    "start_time": "2023-06-01T16:23:11.183Z"
   },
   {
    "duration": 19,
    "start_time": "2023-06-01T16:23:11.699Z"
   },
   {
    "duration": 3,
    "start_time": "2023-06-01T16:23:11.720Z"
   },
   {
    "duration": 20,
    "start_time": "2023-06-01T16:23:11.724Z"
   },
   {
    "duration": 21,
    "start_time": "2023-06-01T16:23:11.747Z"
   },
   {
    "duration": 3,
    "start_time": "2023-06-01T16:23:11.770Z"
   },
   {
    "duration": 9,
    "start_time": "2023-06-01T16:23:11.775Z"
   },
   {
    "duration": 21,
    "start_time": "2023-06-01T16:23:11.785Z"
   },
   {
    "duration": 0,
    "start_time": "2023-06-01T16:23:11.808Z"
   },
   {
    "duration": 2611,
    "start_time": "2023-06-01T16:38:32.661Z"
   },
   {
    "duration": 1706,
    "start_time": "2023-06-01T16:38:35.275Z"
   },
   {
    "duration": 3,
    "start_time": "2023-06-01T16:38:36.983Z"
   },
   {
    "duration": 1077,
    "start_time": "2023-06-01T16:38:36.989Z"
   },
   {
    "duration": 3,
    "start_time": "2023-06-01T16:38:38.068Z"
   },
   {
    "duration": 65,
    "start_time": "2023-06-01T16:38:38.073Z"
   },
   {
    "duration": 196,
    "start_time": "2023-06-01T16:38:38.141Z"
   },
   {
    "duration": 242,
    "start_time": "2023-06-01T16:38:38.339Z"
   },
   {
    "duration": 820,
    "start_time": "2023-06-01T16:38:38.584Z"
   },
   {
    "duration": 346,
    "start_time": "2023-06-01T16:38:39.408Z"
   },
   {
    "duration": 200,
    "start_time": "2023-06-01T16:38:39.757Z"
   },
   {
    "duration": 397,
    "start_time": "2023-06-01T16:38:39.960Z"
   },
   {
    "duration": 195,
    "start_time": "2023-06-01T16:38:40.359Z"
   },
   {
    "duration": 265,
    "start_time": "2023-06-01T16:38:40.557Z"
   },
   {
    "duration": 169,
    "start_time": "2023-06-01T16:38:40.825Z"
   },
   {
    "duration": 395,
    "start_time": "2023-06-01T16:38:40.996Z"
   },
   {
    "duration": 28,
    "start_time": "2023-06-01T16:38:41.393Z"
   },
   {
    "duration": 97,
    "start_time": "2023-06-01T16:38:41.423Z"
   },
   {
    "duration": 183,
    "start_time": "2023-06-01T16:38:41.522Z"
   },
   {
    "duration": 129,
    "start_time": "2023-06-01T16:38:41.707Z"
   },
   {
    "duration": 131,
    "start_time": "2023-06-01T16:38:41.839Z"
   },
   {
    "duration": 157,
    "start_time": "2023-06-01T16:38:41.972Z"
   },
   {
    "duration": 136,
    "start_time": "2023-06-01T16:38:42.131Z"
   },
   {
    "duration": 94183,
    "start_time": "2023-06-01T16:38:42.269Z"
   },
   {
    "duration": 245,
    "start_time": "2023-06-01T16:40:16.459Z"
   },
   {
    "duration": 2001,
    "start_time": "2023-06-01T16:40:16.706Z"
   },
   {
    "duration": 1858,
    "start_time": "2023-06-01T16:40:18.710Z"
   },
   {
    "duration": 20,
    "start_time": "2023-06-01T16:40:20.572Z"
   },
   {
    "duration": 17,
    "start_time": "2023-06-01T16:40:20.594Z"
   },
   {
    "duration": 35,
    "start_time": "2023-06-01T16:40:20.614Z"
   },
   {
    "duration": 183,
    "start_time": "2023-06-01T16:40:20.656Z"
   },
   {
    "duration": 213,
    "start_time": "2023-06-01T16:40:20.845Z"
   },
   {
    "duration": 173,
    "start_time": "2023-06-01T16:40:21.060Z"
   },
   {
    "duration": 10,
    "start_time": "2023-06-01T16:40:21.235Z"
   },
   {
    "duration": 6146,
    "start_time": "2023-06-01T16:40:21.248Z"
   },
   {
    "duration": 731,
    "start_time": "2023-06-01T16:40:27.396Z"
   },
   {
    "duration": 31,
    "start_time": "2023-06-01T16:40:28.130Z"
   },
   {
    "duration": 196,
    "start_time": "2023-06-01T16:40:28.163Z"
   },
   {
    "duration": 6,
    "start_time": "2023-06-01T16:40:28.364Z"
   },
   {
    "duration": 23,
    "start_time": "2023-06-01T16:40:28.377Z"
   },
   {
    "duration": 46,
    "start_time": "2023-06-01T16:40:28.402Z"
   },
   {
    "duration": 42,
    "start_time": "2023-06-01T16:40:28.450Z"
   },
   {
    "duration": 34,
    "start_time": "2023-06-01T16:40:28.495Z"
   },
   {
    "duration": 76,
    "start_time": "2023-06-01T16:40:28.531Z"
   },
   {
    "duration": 66,
    "start_time": "2023-06-01T16:40:28.609Z"
   },
   {
    "duration": 23,
    "start_time": "2023-06-01T16:40:28.677Z"
   },
   {
    "duration": 160,
    "start_time": "2023-06-01T16:40:28.702Z"
   },
   {
    "duration": 593,
    "start_time": "2023-06-01T16:40:28.864Z"
   },
   {
    "duration": 21,
    "start_time": "2023-06-01T16:40:29.460Z"
   },
   {
    "duration": 5,
    "start_time": "2023-06-01T16:40:29.483Z"
   },
   {
    "duration": 48,
    "start_time": "2023-06-01T16:40:29.490Z"
   },
   {
    "duration": 52,
    "start_time": "2023-06-01T16:40:29.540Z"
   },
   {
    "duration": 9,
    "start_time": "2023-06-01T16:40:29.594Z"
   },
   {
    "duration": 19,
    "start_time": "2023-06-01T16:40:29.605Z"
   },
   {
    "duration": 122,
    "start_time": "2023-06-01T16:40:29.626Z"
   },
   {
    "duration": 45,
    "start_time": "2023-06-01T16:40:29.753Z"
   },
   {
    "duration": 13,
    "start_time": "2023-06-01T16:45:01.158Z"
   },
   {
    "duration": 2296,
    "start_time": "2023-06-02T07:58:16.597Z"
   },
   {
    "duration": 1575,
    "start_time": "2023-06-02T07:58:18.896Z"
   },
   {
    "duration": 2,
    "start_time": "2023-06-02T07:58:20.472Z"
   },
   {
    "duration": 979,
    "start_time": "2023-06-02T07:58:20.476Z"
   },
   {
    "duration": 3,
    "start_time": "2023-06-02T07:58:21.456Z"
   },
   {
    "duration": 29,
    "start_time": "2023-06-02T07:58:21.461Z"
   },
   {
    "duration": 112,
    "start_time": "2023-06-02T07:58:21.492Z"
   },
   {
    "duration": 14,
    "start_time": "2023-06-02T07:58:21.605Z"
   },
   {
    "duration": 88,
    "start_time": "2023-06-02T07:58:21.621Z"
   },
   {
    "duration": 2,
    "start_time": "2023-06-02T07:58:21.716Z"
   },
   {
    "duration": 10,
    "start_time": "2023-06-02T07:58:21.719Z"
   },
   {
    "duration": 8,
    "start_time": "2023-06-02T07:58:21.730Z"
   },
   {
    "duration": 7,
    "start_time": "2023-06-02T07:58:21.739Z"
   },
   {
    "duration": 8,
    "start_time": "2023-06-02T07:58:21.749Z"
   },
   {
    "duration": 10,
    "start_time": "2023-06-02T07:58:21.758Z"
   },
   {
    "duration": 235,
    "start_time": "2023-06-02T07:58:21.770Z"
   },
   {
    "duration": 26,
    "start_time": "2023-06-02T07:58:22.006Z"
   },
   {
    "duration": 17,
    "start_time": "2023-06-02T07:58:22.034Z"
   },
   {
    "duration": 4,
    "start_time": "2023-06-02T07:58:22.053Z"
   },
   {
    "duration": 22,
    "start_time": "2023-06-02T07:58:22.058Z"
   },
   {
    "duration": 45,
    "start_time": "2023-06-02T07:58:22.082Z"
   },
   {
    "duration": 33,
    "start_time": "2023-06-02T07:58:22.128Z"
   },
   {
    "duration": 29,
    "start_time": "2023-06-02T07:58:22.163Z"
   },
   {
    "duration": 84080,
    "start_time": "2023-06-02T07:58:22.193Z"
   },
   {
    "duration": 250,
    "start_time": "2023-06-02T07:59:46.275Z"
   },
   {
    "duration": 1086,
    "start_time": "2023-06-02T07:59:46.526Z"
   },
   {
    "duration": 1023,
    "start_time": "2023-06-02T07:59:47.615Z"
   },
   {
    "duration": 15,
    "start_time": "2023-06-02T07:59:48.639Z"
   },
   {
    "duration": 17,
    "start_time": "2023-06-02T07:59:48.656Z"
   },
   {
    "duration": 9,
    "start_time": "2023-06-02T07:59:48.674Z"
   },
   {
    "duration": 171,
    "start_time": "2023-06-02T07:59:48.685Z"
   },
   {
    "duration": 166,
    "start_time": "2023-06-02T07:59:48.858Z"
   },
   {
    "duration": 143,
    "start_time": "2023-06-02T07:59:49.026Z"
   },
   {
    "duration": 3,
    "start_time": "2023-06-02T07:59:49.171Z"
   },
   {
    "duration": 5846,
    "start_time": "2023-06-02T07:59:49.175Z"
   },
   {
    "duration": 574,
    "start_time": "2023-06-02T07:59:55.023Z"
   },
   {
    "duration": 24,
    "start_time": "2023-06-02T07:59:55.599Z"
   },
   {
    "duration": 113,
    "start_time": "2023-06-02T07:59:55.624Z"
   },
   {
    "duration": 3,
    "start_time": "2023-06-02T07:59:55.739Z"
   },
   {
    "duration": 29,
    "start_time": "2023-06-02T07:59:55.743Z"
   },
   {
    "duration": 26,
    "start_time": "2023-06-02T07:59:55.778Z"
   },
   {
    "duration": 25,
    "start_time": "2023-06-02T07:59:55.806Z"
   },
   {
    "duration": 99,
    "start_time": "2023-06-02T07:59:55.833Z"
   },
   {
    "duration": 21,
    "start_time": "2023-06-02T07:59:55.934Z"
   },
   {
    "duration": 62,
    "start_time": "2023-06-02T07:59:55.957Z"
   },
   {
    "duration": 18,
    "start_time": "2023-06-02T07:59:56.021Z"
   },
   {
    "duration": 75,
    "start_time": "2023-06-02T07:59:56.041Z"
   },
   {
    "duration": 519,
    "start_time": "2023-06-02T07:59:56.118Z"
   },
   {
    "duration": 17,
    "start_time": "2023-06-02T07:59:56.638Z"
   },
   {
    "duration": 8,
    "start_time": "2023-06-02T07:59:56.657Z"
   },
   {
    "duration": 11,
    "start_time": "2023-06-02T07:59:56.666Z"
   },
   {
    "duration": 17,
    "start_time": "2023-06-02T07:59:56.678Z"
   },
   {
    "duration": 2,
    "start_time": "2023-06-02T07:59:56.697Z"
   },
   {
    "duration": 5,
    "start_time": "2023-06-02T07:59:56.715Z"
   },
   {
    "duration": 85,
    "start_time": "2023-06-02T07:59:56.721Z"
   },
   {
    "duration": 16,
    "start_time": "2023-06-02T07:59:56.807Z"
   },
   {
    "duration": 65,
    "start_time": "2023-06-02T07:59:56.825Z"
   },
   {
    "duration": 23,
    "start_time": "2023-06-02T07:59:56.892Z"
   },
   {
    "duration": 21,
    "start_time": "2023-06-02T07:59:56.917Z"
   },
   {
    "duration": 22,
    "start_time": "2023-06-02T07:59:56.939Z"
   },
   {
    "duration": 12,
    "start_time": "2023-06-02T07:59:56.963Z"
   },
   {
    "duration": 20,
    "start_time": "2023-06-02T07:59:56.977Z"
   },
   {
    "duration": 27,
    "start_time": "2023-06-02T07:59:56.999Z"
   },
   {
    "duration": 19,
    "start_time": "2023-06-02T07:59:57.028Z"
   },
   {
    "duration": 203,
    "start_time": "2023-06-02T07:59:57.049Z"
   },
   {
    "duration": 0,
    "start_time": "2023-06-02T07:59:57.254Z"
   },
   {
    "duration": 0,
    "start_time": "2023-06-02T07:59:57.255Z"
   },
   {
    "duration": 0,
    "start_time": "2023-06-02T07:59:57.256Z"
   },
   {
    "duration": 0,
    "start_time": "2023-06-02T07:59:57.257Z"
   },
   {
    "duration": 0,
    "start_time": "2023-06-02T07:59:57.258Z"
   },
   {
    "duration": 0,
    "start_time": "2023-06-02T07:59:57.259Z"
   },
   {
    "duration": 0,
    "start_time": "2023-06-02T07:59:57.260Z"
   },
   {
    "duration": 0,
    "start_time": "2023-06-02T07:59:57.261Z"
   },
   {
    "duration": 0,
    "start_time": "2023-06-02T07:59:57.262Z"
   },
   {
    "duration": 0,
    "start_time": "2023-06-02T07:59:57.263Z"
   },
   {
    "duration": 0,
    "start_time": "2023-06-02T07:59:57.264Z"
   },
   {
    "duration": 0,
    "start_time": "2023-06-02T07:59:57.266Z"
   },
   {
    "duration": 0,
    "start_time": "2023-06-02T07:59:57.268Z"
   },
   {
    "duration": 0,
    "start_time": "2023-06-02T07:59:57.269Z"
   },
   {
    "duration": 0,
    "start_time": "2023-06-02T07:59:57.274Z"
   },
   {
    "duration": 0,
    "start_time": "2023-06-02T07:59:57.275Z"
   },
   {
    "duration": 0,
    "start_time": "2023-06-02T07:59:57.277Z"
   },
   {
    "duration": 0,
    "start_time": "2023-06-02T07:59:57.278Z"
   },
   {
    "duration": 0,
    "start_time": "2023-06-02T07:59:57.315Z"
   },
   {
    "duration": 0,
    "start_time": "2023-06-02T07:59:57.317Z"
   },
   {
    "duration": 0,
    "start_time": "2023-06-02T07:59:57.318Z"
   },
   {
    "duration": 0,
    "start_time": "2023-06-02T07:59:57.320Z"
   },
   {
    "duration": 0,
    "start_time": "2023-06-02T07:59:57.321Z"
   },
   {
    "duration": 0,
    "start_time": "2023-06-02T07:59:57.323Z"
   },
   {
    "duration": 0,
    "start_time": "2023-06-02T07:59:57.324Z"
   },
   {
    "duration": 0,
    "start_time": "2023-06-02T07:59:57.325Z"
   },
   {
    "duration": 0,
    "start_time": "2023-06-02T07:59:57.326Z"
   },
   {
    "duration": 0,
    "start_time": "2023-06-02T07:59:57.328Z"
   },
   {
    "duration": 0,
    "start_time": "2023-06-02T07:59:57.330Z"
   },
   {
    "duration": 0,
    "start_time": "2023-06-02T07:59:57.331Z"
   },
   {
    "duration": 0,
    "start_time": "2023-06-02T07:59:57.332Z"
   },
   {
    "duration": 0,
    "start_time": "2023-06-02T07:59:57.334Z"
   },
   {
    "duration": 0,
    "start_time": "2023-06-02T07:59:57.335Z"
   },
   {
    "duration": 0,
    "start_time": "2023-06-02T07:59:57.336Z"
   },
   {
    "duration": 0,
    "start_time": "2023-06-02T07:59:57.338Z"
   },
   {
    "duration": 0,
    "start_time": "2023-06-02T07:59:57.339Z"
   },
   {
    "duration": 0,
    "start_time": "2023-06-02T07:59:57.342Z"
   },
   {
    "duration": 0,
    "start_time": "2023-06-02T07:59:57.343Z"
   },
   {
    "duration": 0,
    "start_time": "2023-06-02T07:59:57.344Z"
   },
   {
    "duration": 0,
    "start_time": "2023-06-02T07:59:57.345Z"
   },
   {
    "duration": 0,
    "start_time": "2023-06-02T07:59:57.347Z"
   },
   {
    "duration": 0,
    "start_time": "2023-06-02T07:59:57.348Z"
   },
   {
    "duration": 3,
    "start_time": "2023-06-02T08:10:11.357Z"
   },
   {
    "duration": 8,
    "start_time": "2023-06-02T09:40:54.863Z"
   },
   {
    "duration": 3,
    "start_time": "2023-06-02T09:41:09.966Z"
   },
   {
    "duration": 2916,
    "start_time": "2023-06-02T09:41:28.692Z"
   },
   {
    "duration": 3478,
    "start_time": "2023-06-02T09:42:10.195Z"
   },
   {
    "duration": 3464,
    "start_time": "2023-06-02T09:42:24.799Z"
   },
   {
    "duration": 2947,
    "start_time": "2023-06-02T09:42:39.097Z"
   },
   {
    "duration": 20,
    "start_time": "2023-06-02T09:44:22.876Z"
   },
   {
    "duration": 22,
    "start_time": "2023-06-02T09:44:49.269Z"
   },
   {
    "duration": 8,
    "start_time": "2023-06-02T09:47:00.197Z"
   },
   {
    "duration": 1723,
    "start_time": "2023-06-02T09:50:05.471Z"
   },
   {
    "duration": 12333,
    "start_time": "2023-06-02T09:50:40.778Z"
   },
   {
    "duration": 207330,
    "start_time": "2023-06-02T09:50:54.640Z"
   },
   {
    "duration": 53,
    "start_time": "2023-06-02T09:54:28.555Z"
   },
   {
    "duration": 71,
    "start_time": "2023-06-02T09:54:32.311Z"
   },
   {
    "duration": 6,
    "start_time": "2023-06-02T09:54:34.968Z"
   },
   {
    "duration": 8998,
    "start_time": "2023-06-02T09:54:40.705Z"
   },
   {
    "duration": 43,
    "start_time": "2023-06-02T09:54:55.663Z"
   },
   {
    "duration": 76,
    "start_time": "2023-06-02T09:55:00.810Z"
   },
   {
    "duration": 834,
    "start_time": "2023-06-02T09:55:52.865Z"
   },
   {
    "duration": 858,
    "start_time": "2023-06-02T09:56:10.900Z"
   },
   {
    "duration": 3,
    "start_time": "2023-06-02T09:56:31.064Z"
   },
   {
    "duration": 1572,
    "start_time": "2023-06-02T09:56:32.440Z"
   },
   {
    "duration": 22,
    "start_time": "2023-06-02T09:57:10.573Z"
   },
   {
    "duration": 29,
    "start_time": "2023-06-02T09:57:17.361Z"
   },
   {
    "duration": 959,
    "start_time": "2023-06-02T09:57:22.109Z"
   },
   {
    "duration": 86707,
    "start_time": "2023-06-02T09:57:37.657Z"
   },
   {
    "duration": 236,
    "start_time": "2023-06-02T10:04:02.967Z"
   },
   {
    "duration": 300,
    "start_time": "2023-06-02T10:04:16.183Z"
   },
   {
    "duration": 2484,
    "start_time": "2023-06-02T10:05:07.809Z"
   },
   {
    "duration": 154,
    "start_time": "2023-06-02T10:05:14.817Z"
   },
   {
    "duration": 67938,
    "start_time": "2023-06-02T10:05:24.465Z"
   },
   {
    "duration": 2450,
    "start_time": "2023-06-02T12:11:54.590Z"
   },
   {
    "duration": 14,
    "start_time": "2023-06-02T12:12:47.365Z"
   },
   {
    "duration": 2,
    "start_time": "2023-06-02T12:12:50.904Z"
   },
   {
    "duration": 78,
    "start_time": "2023-06-02T12:13:09.386Z"
   },
   {
    "duration": 4,
    "start_time": "2023-06-02T12:13:39.757Z"
   },
   {
    "duration": 3,
    "start_time": "2023-06-02T12:13:42.602Z"
   },
   {
    "duration": 4,
    "start_time": "2023-06-02T12:16:01.649Z"
   },
   {
    "duration": 18,
    "start_time": "2023-06-02T12:19:09.382Z"
   },
   {
    "duration": 9,
    "start_time": "2023-06-02T12:19:33.561Z"
   },
   {
    "duration": 4,
    "start_time": "2023-06-02T12:19:43.306Z"
   },
   {
    "duration": 3,
    "start_time": "2023-06-02T12:21:13.428Z"
   },
   {
    "duration": 1963,
    "start_time": "2023-06-02T12:22:38.710Z"
   },
   {
    "duration": 2019,
    "start_time": "2023-06-02T12:22:40.675Z"
   },
   {
    "duration": 1474,
    "start_time": "2023-06-02T12:22:42.696Z"
   },
   {
    "duration": 2,
    "start_time": "2023-06-02T12:22:44.172Z"
   },
   {
    "duration": 739,
    "start_time": "2023-06-02T12:22:44.176Z"
   },
   {
    "duration": 2,
    "start_time": "2023-06-02T12:22:44.917Z"
   },
   {
    "duration": 33,
    "start_time": "2023-06-02T12:22:44.920Z"
   },
   {
    "duration": 116,
    "start_time": "2023-06-02T12:22:44.954Z"
   },
   {
    "duration": 5,
    "start_time": "2023-06-02T12:22:45.072Z"
   },
   {
    "duration": 144,
    "start_time": "2023-06-02T12:22:45.079Z"
   },
   {
    "duration": 3,
    "start_time": "2023-06-02T12:22:45.227Z"
   },
   {
    "duration": 65,
    "start_time": "2023-06-02T12:22:45.232Z"
   },
   {
    "duration": 13,
    "start_time": "2023-06-02T12:22:45.299Z"
   },
   {
    "duration": 25,
    "start_time": "2023-06-02T12:22:45.315Z"
   },
   {
    "duration": 27,
    "start_time": "2023-06-02T12:22:45.342Z"
   },
   {
    "duration": 34,
    "start_time": "2023-06-02T12:22:45.371Z"
   },
   {
    "duration": 253,
    "start_time": "2023-06-02T12:22:45.407Z"
   },
   {
    "duration": 22,
    "start_time": "2023-06-02T12:22:45.662Z"
   },
   {
    "duration": 49,
    "start_time": "2023-06-02T12:22:45.686Z"
   },
   {
    "duration": 5,
    "start_time": "2023-06-02T12:22:45.737Z"
   },
   {
    "duration": 62,
    "start_time": "2023-06-02T12:22:45.743Z"
   },
   {
    "duration": 42,
    "start_time": "2023-06-02T12:22:45.807Z"
   },
   {
    "duration": 49,
    "start_time": "2023-06-02T12:22:45.851Z"
   },
   {
    "duration": 37,
    "start_time": "2023-06-02T12:22:45.901Z"
   },
   {
    "duration": 79294,
    "start_time": "2023-06-02T12:22:45.939Z"
   },
   {
    "duration": 309,
    "start_time": "2023-06-02T12:24:05.235Z"
   },
   {
    "duration": 978,
    "start_time": "2023-06-02T12:24:05.545Z"
   },
   {
    "duration": 904,
    "start_time": "2023-06-02T12:24:06.525Z"
   },
   {
    "duration": 15,
    "start_time": "2023-06-02T12:24:07.433Z"
   },
   {
    "duration": 18,
    "start_time": "2023-06-02T12:24:07.450Z"
   },
   {
    "duration": 18,
    "start_time": "2023-06-02T12:24:07.469Z"
   },
   {
    "duration": 186,
    "start_time": "2023-06-02T12:24:07.488Z"
   },
   {
    "duration": 157,
    "start_time": "2023-06-02T12:24:07.675Z"
   },
   {
    "duration": 135,
    "start_time": "2023-06-02T12:24:07.833Z"
   },
   {
    "duration": 3,
    "start_time": "2023-06-02T12:24:07.969Z"
   },
   {
    "duration": 4835,
    "start_time": "2023-06-02T12:24:07.973Z"
   },
   {
    "duration": 507,
    "start_time": "2023-06-02T12:24:12.810Z"
   },
   {
    "duration": 12,
    "start_time": "2023-06-02T12:24:13.318Z"
   },
   {
    "duration": 123,
    "start_time": "2023-06-02T12:24:13.331Z"
   },
   {
    "duration": 2,
    "start_time": "2023-06-02T12:24:13.455Z"
   },
   {
    "duration": 2,
    "start_time": "2023-06-02T12:24:13.515Z"
   },
   {
    "duration": 17,
    "start_time": "2023-06-02T12:24:13.519Z"
   },
   {
    "duration": 20,
    "start_time": "2023-06-02T12:24:13.537Z"
   },
   {
    "duration": 66,
    "start_time": "2023-06-02T12:24:13.558Z"
   },
   {
    "duration": 21,
    "start_time": "2023-06-02T12:24:13.626Z"
   },
   {
    "duration": 94,
    "start_time": "2023-06-02T12:24:13.648Z"
   },
   {
    "duration": 17,
    "start_time": "2023-06-02T12:24:13.743Z"
   },
   {
    "duration": 83,
    "start_time": "2023-06-02T12:24:13.762Z"
   },
   {
    "duration": 589,
    "start_time": "2023-06-02T12:24:13.846Z"
   },
   {
    "duration": 16,
    "start_time": "2023-06-02T12:24:14.437Z"
   },
   {
    "duration": 3,
    "start_time": "2023-06-02T12:24:14.455Z"
   },
   {
    "duration": 11,
    "start_time": "2023-06-02T12:24:14.459Z"
   },
   {
    "duration": 14,
    "start_time": "2023-06-02T12:24:14.471Z"
   },
   {
    "duration": 3,
    "start_time": "2023-06-02T12:24:14.486Z"
   },
   {
    "duration": 15,
    "start_time": "2023-06-02T12:24:14.490Z"
   },
   {
    "duration": 70,
    "start_time": "2023-06-02T12:24:14.506Z"
   },
   {
    "duration": 10,
    "start_time": "2023-06-02T12:24:14.578Z"
   },
   {
    "duration": 45,
    "start_time": "2023-06-02T12:24:14.589Z"
   },
   {
    "duration": 9,
    "start_time": "2023-06-02T12:24:14.636Z"
   },
   {
    "duration": 23,
    "start_time": "2023-06-02T12:24:14.646Z"
   },
   {
    "duration": 2,
    "start_time": "2023-06-02T12:24:14.670Z"
   },
   {
    "duration": 5,
    "start_time": "2023-06-02T12:24:14.673Z"
   },
   {
    "duration": 6,
    "start_time": "2023-06-02T12:24:14.679Z"
   },
   {
    "duration": 6,
    "start_time": "2023-06-02T12:24:14.686Z"
   },
   {
    "duration": 7,
    "start_time": "2023-06-02T12:24:14.694Z"
   },
   {
    "duration": 20,
    "start_time": "2023-06-02T12:24:14.703Z"
   },
   {
    "duration": 4,
    "start_time": "2023-06-02T12:24:14.725Z"
   },
   {
    "duration": 4,
    "start_time": "2023-06-02T12:24:14.730Z"
   },
   {
    "duration": 15,
    "start_time": "2023-06-02T12:24:14.735Z"
   },
   {
    "duration": 503,
    "start_time": "2023-06-02T12:24:14.751Z"
   },
   {
    "duration": 2,
    "start_time": "2023-06-02T12:24:15.255Z"
   },
   {
    "duration": 428,
    "start_time": "2023-06-02T12:24:15.259Z"
   },
   {
    "duration": 0,
    "start_time": "2023-06-02T12:24:15.689Z"
   },
   {
    "duration": 0,
    "start_time": "2023-06-02T12:24:15.691Z"
   },
   {
    "duration": 0,
    "start_time": "2023-06-02T12:24:15.692Z"
   },
   {
    "duration": 0,
    "start_time": "2023-06-02T12:24:15.693Z"
   },
   {
    "duration": 252,
    "start_time": "2023-06-02T12:25:25.063Z"
   },
   {
    "duration": 245,
    "start_time": "2023-06-02T12:25:35.461Z"
   },
   {
    "duration": 507,
    "start_time": "2023-06-02T12:26:57.612Z"
   },
   {
    "duration": 675,
    "start_time": "2023-06-02T12:27:09.207Z"
   },
   {
    "duration": 744,
    "start_time": "2023-06-02T12:27:34.185Z"
   },
   {
    "duration": 198,
    "start_time": "2023-06-02T12:27:45.757Z"
   },
   {
    "duration": 11,
    "start_time": "2023-06-02T12:27:46.799Z"
   },
   {
    "duration": 15,
    "start_time": "2023-06-02T12:27:52.418Z"
   },
   {
    "duration": 15,
    "start_time": "2023-06-02T12:28:15.469Z"
   },
   {
    "duration": 1986,
    "start_time": "2023-06-02T12:29:09.804Z"
   },
   {
    "duration": 1974,
    "start_time": "2023-06-02T12:29:11.792Z"
   },
   {
    "duration": 7,
    "start_time": "2023-06-02T12:29:13.768Z"
   },
   {
    "duration": 9,
    "start_time": "2023-06-02T12:29:13.777Z"
   },
   {
    "duration": 676,
    "start_time": "2023-06-02T12:29:13.787Z"
   },
   {
    "duration": 2,
    "start_time": "2023-06-02T12:29:14.465Z"
   },
   {
    "duration": 16,
    "start_time": "2023-06-02T12:29:14.468Z"
   },
   {
    "duration": 114,
    "start_time": "2023-06-02T12:29:14.485Z"
   },
   {
    "duration": 6,
    "start_time": "2023-06-02T12:29:14.601Z"
   },
   {
    "duration": 96,
    "start_time": "2023-06-02T12:29:14.609Z"
   },
   {
    "duration": 2,
    "start_time": "2023-06-02T12:29:14.707Z"
   },
   {
    "duration": 36,
    "start_time": "2023-06-02T12:29:14.710Z"
   },
   {
    "duration": 19,
    "start_time": "2023-06-02T12:29:14.747Z"
   },
   {
    "duration": 23,
    "start_time": "2023-06-02T12:29:14.767Z"
   },
   {
    "duration": 11,
    "start_time": "2023-06-02T12:29:14.791Z"
   },
   {
    "duration": 26,
    "start_time": "2023-06-02T12:29:14.804Z"
   },
   {
    "duration": 203,
    "start_time": "2023-06-02T12:29:14.831Z"
   },
   {
    "duration": 20,
    "start_time": "2023-06-02T12:29:15.035Z"
   },
   {
    "duration": 26,
    "start_time": "2023-06-02T12:29:15.057Z"
   },
   {
    "duration": 22,
    "start_time": "2023-06-02T12:29:15.084Z"
   },
   {
    "duration": 46,
    "start_time": "2023-06-02T12:29:15.107Z"
   },
   {
    "duration": 58,
    "start_time": "2023-06-02T12:29:15.154Z"
   },
   {
    "duration": 41,
    "start_time": "2023-06-02T12:29:15.214Z"
   },
   {
    "duration": 47,
    "start_time": "2023-06-02T12:29:15.257Z"
   },
   {
    "duration": 79432,
    "start_time": "2023-06-02T12:29:15.306Z"
   },
   {
    "duration": 199,
    "start_time": "2023-06-02T12:30:34.740Z"
   },
   {
    "duration": 998,
    "start_time": "2023-06-02T12:30:34.941Z"
   },
   {
    "duration": 904,
    "start_time": "2023-06-02T12:30:35.943Z"
   },
   {
    "duration": 17,
    "start_time": "2023-06-02T12:30:36.848Z"
   },
   {
    "duration": 9,
    "start_time": "2023-06-02T12:30:36.867Z"
   },
   {
    "duration": 37,
    "start_time": "2023-06-02T12:30:36.877Z"
   },
   {
    "duration": 159,
    "start_time": "2023-06-02T12:30:36.915Z"
   },
   {
    "duration": 159,
    "start_time": "2023-06-02T12:30:37.075Z"
   },
   {
    "duration": 127,
    "start_time": "2023-06-02T12:30:37.236Z"
   },
   {
    "duration": 3,
    "start_time": "2023-06-02T12:30:37.365Z"
   },
   {
    "duration": 4925,
    "start_time": "2023-06-02T12:30:37.370Z"
   },
   {
    "duration": 475,
    "start_time": "2023-06-02T12:30:42.296Z"
   },
   {
    "duration": 12,
    "start_time": "2023-06-02T12:30:42.773Z"
   },
   {
    "duration": 87,
    "start_time": "2023-06-02T12:30:42.787Z"
   },
   {
    "duration": 3,
    "start_time": "2023-06-02T12:30:42.875Z"
   },
   {
    "duration": 4,
    "start_time": "2023-06-02T12:30:42.880Z"
   },
   {
    "duration": 19,
    "start_time": "2023-06-02T12:30:42.886Z"
   },
   {
    "duration": 22,
    "start_time": "2023-06-02T12:30:42.916Z"
   },
   {
    "duration": 16,
    "start_time": "2023-06-02T12:30:42.939Z"
   },
   {
    "duration": 18,
    "start_time": "2023-06-02T12:30:42.957Z"
   },
   {
    "duration": 67,
    "start_time": "2023-06-02T12:30:42.977Z"
   },
   {
    "duration": 16,
    "start_time": "2023-06-02T12:30:43.046Z"
   },
   {
    "duration": 60,
    "start_time": "2023-06-02T12:30:43.064Z"
   },
   {
    "duration": 499,
    "start_time": "2023-06-02T12:30:43.126Z"
   },
   {
    "duration": 17,
    "start_time": "2023-06-02T12:30:43.626Z"
   },
   {
    "duration": 4,
    "start_time": "2023-06-02T12:30:43.645Z"
   },
   {
    "duration": 8,
    "start_time": "2023-06-02T12:30:43.650Z"
   },
   {
    "duration": 22,
    "start_time": "2023-06-02T12:30:43.659Z"
   },
   {
    "duration": 2,
    "start_time": "2023-06-02T12:30:43.683Z"
   },
   {
    "duration": 7,
    "start_time": "2023-06-02T12:30:43.687Z"
   },
   {
    "duration": 75,
    "start_time": "2023-06-02T12:30:43.695Z"
   },
   {
    "duration": 9,
    "start_time": "2023-06-02T12:30:43.772Z"
   },
   {
    "duration": 51,
    "start_time": "2023-06-02T12:30:43.782Z"
   },
   {
    "duration": 10,
    "start_time": "2023-06-02T12:30:43.834Z"
   },
   {
    "duration": 27,
    "start_time": "2023-06-02T12:30:43.846Z"
   },
   {
    "duration": 3,
    "start_time": "2023-06-02T12:30:43.874Z"
   },
   {
    "duration": 11,
    "start_time": "2023-06-02T12:30:43.878Z"
   },
   {
    "duration": 8,
    "start_time": "2023-06-02T12:30:43.891Z"
   },
   {
    "duration": 17,
    "start_time": "2023-06-02T12:30:43.900Z"
   },
   {
    "duration": 4,
    "start_time": "2023-06-02T12:30:43.919Z"
   },
   {
    "duration": 18,
    "start_time": "2023-06-02T12:30:43.925Z"
   },
   {
    "duration": 22,
    "start_time": "2023-06-02T12:30:43.944Z"
   },
   {
    "duration": 20,
    "start_time": "2023-06-02T12:30:43.968Z"
   },
   {
    "duration": 473,
    "start_time": "2023-06-02T12:30:43.990Z"
   },
   {
    "duration": 3,
    "start_time": "2023-06-02T12:30:44.464Z"
   },
   {
    "duration": 213,
    "start_time": "2023-06-02T12:30:44.468Z"
   },
   {
    "duration": 189,
    "start_time": "2023-06-02T12:30:44.682Z"
   },
   {
    "duration": 9,
    "start_time": "2023-06-02T12:30:44.873Z"
   },
   {
    "duration": 21,
    "start_time": "2023-06-02T12:30:44.884Z"
   },
   {
    "duration": 20,
    "start_time": "2023-06-02T12:30:44.907Z"
   },
   {
    "duration": 1958,
    "start_time": "2023-06-02T12:31:33.596Z"
   },
   {
    "duration": 1970,
    "start_time": "2023-06-02T12:31:35.557Z"
   },
   {
    "duration": 6,
    "start_time": "2023-06-02T12:31:37.529Z"
   },
   {
    "duration": 14,
    "start_time": "2023-06-02T12:31:37.536Z"
   },
   {
    "duration": 765,
    "start_time": "2023-06-02T12:31:37.551Z"
   },
   {
    "duration": 2,
    "start_time": "2023-06-02T12:31:38.318Z"
   },
   {
    "duration": 22,
    "start_time": "2023-06-02T12:31:38.321Z"
   },
   {
    "duration": 270,
    "start_time": "2023-06-02T12:31:38.345Z"
   },
   {
    "duration": 6,
    "start_time": "2023-06-02T12:31:38.616Z"
   },
   {
    "duration": 136,
    "start_time": "2023-06-02T12:31:38.624Z"
   },
   {
    "duration": 55,
    "start_time": "2023-06-02T12:31:38.761Z"
   },
   {
    "duration": 26,
    "start_time": "2023-06-02T12:31:38.818Z"
   },
   {
    "duration": 9,
    "start_time": "2023-06-02T12:31:38.846Z"
   },
   {
    "duration": 4,
    "start_time": "2023-06-02T12:31:38.857Z"
   },
   {
    "duration": 5,
    "start_time": "2023-06-02T12:31:38.863Z"
   },
   {
    "duration": 9,
    "start_time": "2023-06-02T12:31:38.870Z"
   },
   {
    "duration": 444,
    "start_time": "2023-06-02T12:31:38.881Z"
   },
   {
    "duration": 20,
    "start_time": "2023-06-02T12:31:39.326Z"
   },
   {
    "duration": 11,
    "start_time": "2023-06-02T12:31:39.347Z"
   },
   {
    "duration": 2,
    "start_time": "2023-06-02T12:31:39.416Z"
   },
   {
    "duration": 34,
    "start_time": "2023-06-02T12:31:39.419Z"
   },
   {
    "duration": 74,
    "start_time": "2023-06-02T12:31:39.454Z"
   },
   {
    "duration": 19,
    "start_time": "2023-06-02T12:31:39.530Z"
   },
   {
    "duration": 76,
    "start_time": "2023-06-02T12:31:39.550Z"
   },
   {
    "duration": 77798,
    "start_time": "2023-06-02T12:31:39.628Z"
   },
   {
    "duration": 182,
    "start_time": "2023-06-02T12:32:57.427Z"
   },
   {
    "duration": 923,
    "start_time": "2023-06-02T12:32:57.616Z"
   },
   {
    "duration": 880,
    "start_time": "2023-06-02T12:32:58.543Z"
   },
   {
    "duration": 15,
    "start_time": "2023-06-02T12:32:59.424Z"
   },
   {
    "duration": 10,
    "start_time": "2023-06-02T12:32:59.440Z"
   },
   {
    "duration": 6,
    "start_time": "2023-06-02T12:32:59.451Z"
   },
   {
    "duration": 149,
    "start_time": "2023-06-02T12:32:59.458Z"
   },
   {
    "duration": 150,
    "start_time": "2023-06-02T12:32:59.615Z"
   },
   {
    "duration": 128,
    "start_time": "2023-06-02T12:32:59.767Z"
   },
   {
    "duration": 3,
    "start_time": "2023-06-02T12:32:59.897Z"
   },
   {
    "duration": 4534,
    "start_time": "2023-06-02T12:32:59.902Z"
   },
   {
    "duration": 534,
    "start_time": "2023-06-02T12:33:04.438Z"
   },
   {
    "duration": 11,
    "start_time": "2023-06-02T12:33:04.973Z"
   },
   {
    "duration": 85,
    "start_time": "2023-06-02T12:33:04.985Z"
   },
   {
    "duration": 2,
    "start_time": "2023-06-02T12:33:05.072Z"
   },
   {
    "duration": 5,
    "start_time": "2023-06-02T12:33:05.076Z"
   },
   {
    "duration": 14,
    "start_time": "2023-06-02T12:33:05.082Z"
   },
   {
    "duration": 31,
    "start_time": "2023-06-02T12:33:05.097Z"
   },
   {
    "duration": 14,
    "start_time": "2023-06-02T12:33:05.130Z"
   },
   {
    "duration": 21,
    "start_time": "2023-06-02T12:33:05.146Z"
   },
   {
    "duration": 63,
    "start_time": "2023-06-02T12:33:05.168Z"
   },
   {
    "duration": 17,
    "start_time": "2023-06-02T12:33:05.232Z"
   },
   {
    "duration": 70,
    "start_time": "2023-06-02T12:33:05.251Z"
   },
   {
    "duration": 485,
    "start_time": "2023-06-02T12:33:05.323Z"
   },
   {
    "duration": 20,
    "start_time": "2023-06-02T12:33:05.809Z"
   },
   {
    "duration": 4,
    "start_time": "2023-06-02T12:33:05.830Z"
   },
   {
    "duration": 12,
    "start_time": "2023-06-02T12:33:05.835Z"
   },
   {
    "duration": 27,
    "start_time": "2023-06-02T12:33:05.848Z"
   },
   {
    "duration": 36,
    "start_time": "2023-06-02T12:33:05.877Z"
   },
   {
    "duration": 10,
    "start_time": "2023-06-02T12:33:05.914Z"
   },
   {
    "duration": 68,
    "start_time": "2023-06-02T12:33:05.925Z"
   },
   {
    "duration": 10,
    "start_time": "2023-06-02T12:33:05.994Z"
   },
   {
    "duration": 33,
    "start_time": "2023-06-02T12:33:06.005Z"
   },
   {
    "duration": 9,
    "start_time": "2023-06-02T12:33:06.040Z"
   },
   {
    "duration": 21,
    "start_time": "2023-06-02T12:33:06.050Z"
   },
   {
    "duration": 11,
    "start_time": "2023-06-02T12:33:06.073Z"
   },
   {
    "duration": 7,
    "start_time": "2023-06-02T12:33:06.085Z"
   },
   {
    "duration": 6,
    "start_time": "2023-06-02T12:33:06.093Z"
   },
   {
    "duration": 7,
    "start_time": "2023-06-02T12:33:06.100Z"
   },
   {
    "duration": 4,
    "start_time": "2023-06-02T12:33:06.108Z"
   },
   {
    "duration": 10,
    "start_time": "2023-06-02T12:33:06.113Z"
   },
   {
    "duration": 16,
    "start_time": "2023-06-02T12:33:06.124Z"
   },
   {
    "duration": 12,
    "start_time": "2023-06-02T12:33:06.141Z"
   },
   {
    "duration": 453,
    "start_time": "2023-06-02T12:33:06.154Z"
   },
   {
    "duration": 16,
    "start_time": "2023-06-02T12:33:06.609Z"
   },
   {
    "duration": 13,
    "start_time": "2023-06-02T12:33:06.627Z"
   },
   {
    "duration": 16,
    "start_time": "2023-06-02T12:33:06.642Z"
   },
   {
    "duration": 247,
    "start_time": "2023-06-02T12:33:06.659Z"
   },
   {
    "duration": 196,
    "start_time": "2023-06-02T12:33:06.907Z"
   },
   {
    "duration": 12,
    "start_time": "2023-06-02T12:33:07.104Z"
   },
   {
    "duration": 13,
    "start_time": "2023-06-02T12:33:07.117Z"
   },
   {
    "duration": 21,
    "start_time": "2023-06-02T12:33:07.131Z"
   },
   {
    "duration": 259,
    "start_time": "2023-06-02T12:34:35.822Z"
   },
   {
    "duration": 2,
    "start_time": "2023-06-02T12:34:45.822Z"
   },
   {
    "duration": 13,
    "start_time": "2023-06-02T12:34:48.687Z"
   },
   {
    "duration": 3,
    "start_time": "2023-06-02T12:34:51.257Z"
   },
   {
    "duration": 2,
    "start_time": "2023-06-02T12:34:53.142Z"
   },
   {
    "duration": 483,
    "start_time": "2023-06-02T12:34:53.512Z"
   },
   {
    "duration": 18,
    "start_time": "2023-06-02T12:34:55.378Z"
   },
   {
    "duration": 14,
    "start_time": "2023-06-02T12:34:56.694Z"
   },
   {
    "duration": 3,
    "start_time": "2023-06-02T12:34:58.361Z"
   },
   {
    "duration": 211,
    "start_time": "2023-06-02T12:35:07.853Z"
   },
   {
    "duration": 195,
    "start_time": "2023-06-02T12:35:13.279Z"
   },
   {
    "duration": 16,
    "start_time": "2023-06-02T12:35:13.819Z"
   },
   {
    "duration": 15,
    "start_time": "2023-06-02T12:35:18.378Z"
   },
   {
    "duration": 4,
    "start_time": "2023-06-02T12:35:26.190Z"
   },
   {
    "duration": 4,
    "start_time": "2023-06-02T12:35:33.595Z"
   },
   {
    "duration": 3,
    "start_time": "2023-06-02T12:35:43.267Z"
   },
   {
    "duration": 4,
    "start_time": "2023-06-02T12:36:53.489Z"
   },
   {
    "duration": 9,
    "start_time": "2023-06-02T12:36:59.983Z"
   },
   {
    "duration": 99,
    "start_time": "2023-06-02T12:37:57.950Z"
   },
   {
    "duration": 21,
    "start_time": "2023-06-02T12:38:03.178Z"
   },
   {
    "duration": 9,
    "start_time": "2023-06-02T12:38:24.066Z"
   },
   {
    "duration": 2952,
    "start_time": "2023-06-02T12:38:45.762Z"
   },
   {
    "duration": 4,
    "start_time": "2023-06-02T12:39:03.314Z"
   },
   {
    "duration": 668,
    "start_time": "2023-06-02T12:39:39.190Z"
   },
   {
    "duration": 407,
    "start_time": "2023-06-02T12:39:54.818Z"
   },
   {
    "duration": 2,
    "start_time": "2023-06-02T12:40:12.254Z"
   },
   {
    "duration": 35,
    "start_time": "2023-06-02T12:40:16.494Z"
   },
   {
    "duration": 326641,
    "start_time": "2023-06-02T12:40:18.196Z"
   },
   {
    "duration": 1921,
    "start_time": "2023-06-02T12:46:21.555Z"
   },
   {
    "duration": 2897,
    "start_time": "2023-06-02T12:46:23.478Z"
   },
   {
    "duration": 1338,
    "start_time": "2023-06-02T12:46:26.377Z"
   },
   {
    "duration": 2,
    "start_time": "2023-06-02T12:46:27.717Z"
   },
   {
    "duration": 722,
    "start_time": "2023-06-02T12:46:27.722Z"
   },
   {
    "duration": 2,
    "start_time": "2023-06-02T12:46:28.446Z"
   },
   {
    "duration": 17,
    "start_time": "2023-06-02T12:46:28.449Z"
   },
   {
    "duration": 117,
    "start_time": "2023-06-02T12:46:28.468Z"
   },
   {
    "duration": 6,
    "start_time": "2023-06-02T12:46:28.587Z"
   },
   {
    "duration": 101,
    "start_time": "2023-06-02T12:46:28.595Z"
   },
   {
    "duration": 2,
    "start_time": "2023-06-02T12:46:28.698Z"
   },
   {
    "duration": 4,
    "start_time": "2023-06-02T12:46:28.702Z"
   },
   {
    "duration": 9,
    "start_time": "2023-06-02T12:46:28.707Z"
   },
   {
    "duration": 9,
    "start_time": "2023-06-02T12:46:28.719Z"
   },
   {
    "duration": 94,
    "start_time": "2023-06-02T12:46:28.729Z"
   },
   {
    "duration": 6,
    "start_time": "2023-06-02T12:46:28.825Z"
   },
   {
    "duration": 205,
    "start_time": "2023-06-02T12:46:28.833Z"
   },
   {
    "duration": 19,
    "start_time": "2023-06-02T12:46:29.040Z"
   },
   {
    "duration": 18,
    "start_time": "2023-06-02T12:46:29.061Z"
   },
   {
    "duration": 6,
    "start_time": "2023-06-02T12:46:29.081Z"
   },
   {
    "duration": 26,
    "start_time": "2023-06-02T12:46:29.089Z"
   },
   {
    "duration": 29,
    "start_time": "2023-06-02T12:46:29.117Z"
   },
   {
    "duration": 17,
    "start_time": "2023-06-02T12:46:29.148Z"
   },
   {
    "duration": 50,
    "start_time": "2023-06-02T12:46:29.166Z"
   },
   {
    "duration": 79347,
    "start_time": "2023-06-02T12:46:29.218Z"
   },
   {
    "duration": 228,
    "start_time": "2023-06-02T12:47:48.567Z"
   },
   {
    "duration": 975,
    "start_time": "2023-06-02T12:47:48.796Z"
   },
   {
    "duration": 927,
    "start_time": "2023-06-02T12:47:49.772Z"
   },
   {
    "duration": 17,
    "start_time": "2023-06-02T12:47:50.701Z"
   },
   {
    "duration": 18,
    "start_time": "2023-06-02T12:47:50.720Z"
   },
   {
    "duration": 6,
    "start_time": "2023-06-02T12:47:50.739Z"
   },
   {
    "duration": 150,
    "start_time": "2023-06-02T12:47:50.746Z"
   },
   {
    "duration": 169,
    "start_time": "2023-06-02T12:47:50.898Z"
   },
   {
    "duration": 136,
    "start_time": "2023-06-02T12:47:51.068Z"
   },
   {
    "duration": 2,
    "start_time": "2023-06-02T12:47:51.206Z"
   },
   {
    "duration": 5048,
    "start_time": "2023-06-02T12:47:51.216Z"
   },
   {
    "duration": 479,
    "start_time": "2023-06-02T12:47:56.265Z"
   },
   {
    "duration": 11,
    "start_time": "2023-06-02T12:47:56.746Z"
   },
   {
    "duration": 138,
    "start_time": "2023-06-02T12:47:56.759Z"
   },
   {
    "duration": 3,
    "start_time": "2023-06-02T12:47:56.898Z"
   },
   {
    "duration": 10,
    "start_time": "2023-06-02T12:47:56.917Z"
   },
   {
    "duration": 22,
    "start_time": "2023-06-02T12:47:56.928Z"
   },
   {
    "duration": 57,
    "start_time": "2023-06-02T12:47:56.952Z"
   },
   {
    "duration": 40,
    "start_time": "2023-06-02T12:47:57.011Z"
   },
   {
    "duration": 29,
    "start_time": "2023-06-02T12:47:57.052Z"
   },
   {
    "duration": 43,
    "start_time": "2023-06-02T12:47:57.082Z"
   },
   {
    "duration": 17,
    "start_time": "2023-06-02T12:47:57.126Z"
   },
   {
    "duration": 58,
    "start_time": "2023-06-02T12:47:57.144Z"
   },
   {
    "duration": 528,
    "start_time": "2023-06-02T12:47:57.203Z"
   },
   {
    "duration": 17,
    "start_time": "2023-06-02T12:47:57.732Z"
   },
   {
    "duration": 3,
    "start_time": "2023-06-02T12:47:57.751Z"
   },
   {
    "duration": 4,
    "start_time": "2023-06-02T12:47:57.755Z"
   },
   {
    "duration": 22,
    "start_time": "2023-06-02T12:47:57.760Z"
   },
   {
    "duration": 3,
    "start_time": "2023-06-02T12:47:57.783Z"
   },
   {
    "duration": 23,
    "start_time": "2023-06-02T12:47:57.787Z"
   },
   {
    "duration": 73,
    "start_time": "2023-06-02T12:47:57.812Z"
   },
   {
    "duration": 12,
    "start_time": "2023-06-02T12:47:57.887Z"
   },
   {
    "duration": 45,
    "start_time": "2023-06-02T12:47:57.901Z"
   },
   {
    "duration": 9,
    "start_time": "2023-06-02T12:47:57.948Z"
   },
   {
    "duration": 23,
    "start_time": "2023-06-02T12:47:57.958Z"
   },
   {
    "duration": 1,
    "start_time": "2023-06-02T12:47:57.983Z"
   },
   {
    "duration": 14,
    "start_time": "2023-06-02T12:47:57.986Z"
   },
   {
    "duration": 8,
    "start_time": "2023-06-02T12:47:58.001Z"
   },
   {
    "duration": 5,
    "start_time": "2023-06-02T12:47:58.010Z"
   },
   {
    "duration": 12,
    "start_time": "2023-06-02T12:47:58.017Z"
   },
   {
    "duration": 18,
    "start_time": "2023-06-02T12:47:58.030Z"
   },
   {
    "duration": 8,
    "start_time": "2023-06-02T12:47:58.049Z"
   },
   {
    "duration": 5,
    "start_time": "2023-06-02T12:47:58.059Z"
   },
   {
    "duration": 511,
    "start_time": "2023-06-02T12:47:58.065Z"
   },
   {
    "duration": 14,
    "start_time": "2023-06-02T12:47:58.578Z"
   },
   {
    "duration": 23,
    "start_time": "2023-06-02T12:47:58.594Z"
   },
   {
    "duration": 3,
    "start_time": "2023-06-02T12:47:58.619Z"
   },
   {
    "duration": 210,
    "start_time": "2023-06-02T12:47:58.623Z"
   },
   {
    "duration": 206,
    "start_time": "2023-06-02T12:47:58.835Z"
   },
   {
    "duration": 15,
    "start_time": "2023-06-02T12:47:59.042Z"
   },
   {
    "duration": 17,
    "start_time": "2023-06-02T12:47:59.058Z"
   },
   {
    "duration": 3,
    "start_time": "2023-06-02T12:47:59.077Z"
   },
   {
    "duration": 13,
    "start_time": "2023-06-02T12:47:59.081Z"
   },
   {
    "duration": 6,
    "start_time": "2023-06-02T12:47:59.095Z"
   },
   {
    "duration": 13,
    "start_time": "2023-06-02T12:47:59.102Z"
   },
   {
    "duration": 5,
    "start_time": "2023-06-02T12:47:59.116Z"
   },
   {
    "duration": 17,
    "start_time": "2023-06-02T12:47:59.122Z"
   },
   {
    "duration": 5,
    "start_time": "2023-06-02T12:47:59.140Z"
   },
   {
    "duration": 5,
    "start_time": "2023-06-02T12:47:59.146Z"
   },
   {
    "duration": 6,
    "start_time": "2023-06-02T12:47:59.152Z"
   },
   {
    "duration": 11,
    "start_time": "2023-06-02T12:47:59.159Z"
   },
   {
    "duration": 10,
    "start_time": "2023-06-02T12:47:59.171Z"
   },
   {
    "duration": 3358,
    "start_time": "2023-06-02T12:47:59.182Z"
   },
   {
    "duration": 0,
    "start_time": "2023-06-02T12:48:02.542Z"
   },
   {
    "duration": 0,
    "start_time": "2023-06-02T12:48:02.543Z"
   },
   {
    "duration": 0,
    "start_time": "2023-06-02T12:48:02.545Z"
   },
   {
    "duration": 0,
    "start_time": "2023-06-02T12:48:02.545Z"
   },
   {
    "duration": 0,
    "start_time": "2023-06-02T12:48:02.547Z"
   },
   {
    "duration": 0,
    "start_time": "2023-06-02T12:48:02.547Z"
   },
   {
    "duration": 0,
    "start_time": "2023-06-02T12:48:02.549Z"
   },
   {
    "duration": 0,
    "start_time": "2023-06-02T12:48:02.549Z"
   },
   {
    "duration": 0,
    "start_time": "2023-06-02T12:48:02.550Z"
   },
   {
    "duration": 0,
    "start_time": "2023-06-02T12:48:02.551Z"
   },
   {
    "duration": 0,
    "start_time": "2023-06-02T12:48:02.552Z"
   },
   {
    "duration": 0,
    "start_time": "2023-06-02T12:48:02.553Z"
   },
   {
    "duration": 0,
    "start_time": "2023-06-02T12:48:02.554Z"
   },
   {
    "duration": 0,
    "start_time": "2023-06-02T12:48:02.555Z"
   },
   {
    "duration": 0,
    "start_time": "2023-06-02T12:48:02.556Z"
   },
   {
    "duration": 0,
    "start_time": "2023-06-02T12:48:02.556Z"
   },
   {
    "duration": 0,
    "start_time": "2023-06-02T12:48:02.557Z"
   },
   {
    "duration": 0,
    "start_time": "2023-06-02T12:48:02.558Z"
   },
   {
    "duration": 0,
    "start_time": "2023-06-02T12:48:02.559Z"
   },
   {
    "duration": 0,
    "start_time": "2023-06-02T12:48:02.559Z"
   },
   {
    "duration": 0,
    "start_time": "2023-06-02T12:48:02.560Z"
   },
   {
    "duration": 0,
    "start_time": "2023-06-02T12:48:02.561Z"
   },
   {
    "duration": 0,
    "start_time": "2023-06-02T12:48:02.563Z"
   },
   {
    "duration": 0,
    "start_time": "2023-06-02T12:48:02.563Z"
   },
   {
    "duration": 0,
    "start_time": "2023-06-02T12:48:02.564Z"
   },
   {
    "duration": 0,
    "start_time": "2023-06-02T12:48:02.565Z"
   },
   {
    "duration": 5,
    "start_time": "2023-06-02T12:48:34.874Z"
   },
   {
    "duration": 2,
    "start_time": "2023-06-02T12:48:46.358Z"
   },
   {
    "duration": 3,
    "start_time": "2023-06-02T12:48:48.066Z"
   },
   {
    "duration": 3009,
    "start_time": "2023-06-02T12:48:48.658Z"
   },
   {
    "duration": 1923,
    "start_time": "2023-06-02T12:49:01.153Z"
   },
   {
    "duration": 1888,
    "start_time": "2023-06-02T12:49:03.078Z"
   },
   {
    "duration": 1316,
    "start_time": "2023-06-02T12:49:04.968Z"
   },
   {
    "duration": 2,
    "start_time": "2023-06-02T12:49:06.285Z"
   },
   {
    "duration": 715,
    "start_time": "2023-06-02T12:49:06.289Z"
   },
   {
    "duration": 2,
    "start_time": "2023-06-02T12:49:07.006Z"
   },
   {
    "duration": 32,
    "start_time": "2023-06-02T12:49:07.009Z"
   },
   {
    "duration": 101,
    "start_time": "2023-06-02T12:49:07.043Z"
   },
   {
    "duration": 5,
    "start_time": "2023-06-02T12:49:07.146Z"
   },
   {
    "duration": 89,
    "start_time": "2023-06-02T12:49:07.152Z"
   },
   {
    "duration": 2,
    "start_time": "2023-06-02T12:49:07.242Z"
   },
   {
    "duration": 10,
    "start_time": "2023-06-02T12:49:07.246Z"
   },
   {
    "duration": 5,
    "start_time": "2023-06-02T12:49:07.257Z"
   },
   {
    "duration": 8,
    "start_time": "2023-06-02T12:49:07.264Z"
   },
   {
    "duration": 6,
    "start_time": "2023-06-02T12:49:07.274Z"
   },
   {
    "duration": 7,
    "start_time": "2023-06-02T12:49:07.281Z"
   },
   {
    "duration": 207,
    "start_time": "2023-06-02T12:49:07.289Z"
   },
   {
    "duration": 21,
    "start_time": "2023-06-02T12:49:07.498Z"
   },
   {
    "duration": 12,
    "start_time": "2023-06-02T12:49:07.521Z"
   },
   {
    "duration": 6,
    "start_time": "2023-06-02T12:49:07.534Z"
   },
   {
    "duration": 19,
    "start_time": "2023-06-02T12:49:07.542Z"
   },
   {
    "duration": 41,
    "start_time": "2023-06-02T12:49:07.563Z"
   },
   {
    "duration": 21,
    "start_time": "2023-06-02T12:49:07.606Z"
   },
   {
    "duration": 40,
    "start_time": "2023-06-02T12:49:07.629Z"
   },
   {
    "duration": 78279,
    "start_time": "2023-06-02T12:49:07.671Z"
   },
   {
    "duration": 190,
    "start_time": "2023-06-02T12:50:25.951Z"
   },
   {
    "duration": 1139,
    "start_time": "2023-06-02T12:50:26.142Z"
   },
   {
    "duration": 976,
    "start_time": "2023-06-02T12:50:27.284Z"
   },
   {
    "duration": 15,
    "start_time": "2023-06-02T12:50:28.262Z"
   },
   {
    "duration": 38,
    "start_time": "2023-06-02T12:50:28.279Z"
   },
   {
    "duration": 7,
    "start_time": "2023-06-02T12:50:28.319Z"
   },
   {
    "duration": 174,
    "start_time": "2023-06-02T12:50:28.328Z"
   },
   {
    "duration": 158,
    "start_time": "2023-06-02T12:50:28.503Z"
   },
   {
    "duration": 145,
    "start_time": "2023-06-02T12:50:28.663Z"
   },
   {
    "duration": 6,
    "start_time": "2023-06-02T12:50:28.809Z"
   },
   {
    "duration": 5081,
    "start_time": "2023-06-02T12:50:28.817Z"
   },
   {
    "duration": 470,
    "start_time": "2023-06-02T12:50:33.900Z"
   },
   {
    "duration": 11,
    "start_time": "2023-06-02T12:50:34.371Z"
   },
   {
    "duration": 78,
    "start_time": "2023-06-02T12:50:34.384Z"
   },
   {
    "duration": 1,
    "start_time": "2023-06-02T12:50:34.464Z"
   },
   {
    "duration": 4,
    "start_time": "2023-06-02T12:50:34.470Z"
   },
   {
    "duration": 16,
    "start_time": "2023-06-02T12:50:34.475Z"
   },
   {
    "duration": 36,
    "start_time": "2023-06-02T12:50:34.492Z"
   },
   {
    "duration": 16,
    "start_time": "2023-06-02T12:50:34.530Z"
   },
   {
    "duration": 23,
    "start_time": "2023-06-02T12:50:34.547Z"
   },
   {
    "duration": 53,
    "start_time": "2023-06-02T12:50:34.572Z"
   },
   {
    "duration": 114,
    "start_time": "2023-06-02T12:50:34.627Z"
   },
   {
    "duration": 47,
    "start_time": "2023-06-02T12:50:34.742Z"
   },
   {
    "duration": 434,
    "start_time": "2023-06-02T12:50:34.791Z"
   },
   {
    "duration": 20,
    "start_time": "2023-06-02T12:50:35.227Z"
   },
   {
    "duration": 4,
    "start_time": "2023-06-02T12:50:35.249Z"
   },
   {
    "duration": 15,
    "start_time": "2023-06-02T12:50:35.255Z"
   },
   {
    "duration": 27,
    "start_time": "2023-06-02T12:50:35.272Z"
   },
   {
    "duration": 3,
    "start_time": "2023-06-02T12:50:35.301Z"
   },
   {
    "duration": 11,
    "start_time": "2023-06-02T12:50:35.306Z"
   },
   {
    "duration": 89,
    "start_time": "2023-06-02T12:50:35.319Z"
   },
   {
    "duration": 14,
    "start_time": "2023-06-02T12:50:35.411Z"
   },
   {
    "duration": 53,
    "start_time": "2023-06-02T12:50:35.427Z"
   },
   {
    "duration": 10,
    "start_time": "2023-06-02T12:50:35.482Z"
   },
   {
    "duration": 23,
    "start_time": "2023-06-02T12:50:35.493Z"
   },
   {
    "duration": 2,
    "start_time": "2023-06-02T12:50:35.518Z"
   },
   {
    "duration": 9,
    "start_time": "2023-06-02T12:50:35.521Z"
   },
   {
    "duration": 6,
    "start_time": "2023-06-02T12:50:35.531Z"
   },
   {
    "duration": 6,
    "start_time": "2023-06-02T12:50:35.538Z"
   },
   {
    "duration": 5,
    "start_time": "2023-06-02T12:50:35.545Z"
   },
   {
    "duration": 10,
    "start_time": "2023-06-02T12:50:35.551Z"
   },
   {
    "duration": 4,
    "start_time": "2023-06-02T12:50:35.563Z"
   },
   {
    "duration": 5,
    "start_time": "2023-06-02T12:50:35.568Z"
   },
   {
    "duration": 492,
    "start_time": "2023-06-02T12:50:35.575Z"
   },
   {
    "duration": 13,
    "start_time": "2023-06-02T12:50:36.069Z"
   },
   {
    "duration": 14,
    "start_time": "2023-06-02T12:50:36.083Z"
   },
   {
    "duration": 8,
    "start_time": "2023-06-02T12:50:36.099Z"
   },
   {
    "duration": 221,
    "start_time": "2023-06-02T12:50:36.115Z"
   },
   {
    "duration": 215,
    "start_time": "2023-06-02T12:50:36.338Z"
   },
   {
    "duration": 15,
    "start_time": "2023-06-02T12:50:36.555Z"
   },
   {
    "duration": 17,
    "start_time": "2023-06-02T12:50:36.571Z"
   },
   {
    "duration": 24,
    "start_time": "2023-06-02T12:50:36.589Z"
   },
   {
    "duration": 25,
    "start_time": "2023-06-02T12:50:36.614Z"
   },
   {
    "duration": 5,
    "start_time": "2023-06-02T12:50:36.641Z"
   },
   {
    "duration": 10,
    "start_time": "2023-06-02T12:50:36.647Z"
   },
   {
    "duration": 5,
    "start_time": "2023-06-02T12:50:36.659Z"
   },
   {
    "duration": 8,
    "start_time": "2023-06-02T12:50:36.665Z"
   },
   {
    "duration": 13,
    "start_time": "2023-06-02T12:50:36.675Z"
   },
   {
    "duration": 7,
    "start_time": "2023-06-02T12:50:36.689Z"
   },
   {
    "duration": 16,
    "start_time": "2023-06-02T12:50:36.697Z"
   },
   {
    "duration": 10,
    "start_time": "2023-06-02T12:50:36.715Z"
   },
   {
    "duration": 9,
    "start_time": "2023-06-02T12:50:36.726Z"
   },
   {
    "duration": 13,
    "start_time": "2023-06-02T12:50:36.737Z"
   },
   {
    "duration": 752161,
    "start_time": "2023-06-02T12:50:36.751Z"
   },
   {
    "duration": 2594,
    "start_time": "2023-06-02T13:03:08.913Z"
   },
   {
    "duration": 8,
    "start_time": "2023-06-02T13:03:11.508Z"
   },
   {
    "duration": 27,
    "start_time": "2023-06-02T13:03:11.518Z"
   },
   {
    "duration": 249842,
    "start_time": "2023-06-02T13:03:11.546Z"
   },
   {
    "duration": 124,
    "start_time": "2023-06-02T13:07:21.389Z"
   },
   {
    "duration": 0,
    "start_time": "2023-06-02T13:07:21.515Z"
   },
   {
    "duration": 0,
    "start_time": "2023-06-02T13:07:21.516Z"
   },
   {
    "duration": 0,
    "start_time": "2023-06-02T13:07:21.517Z"
   },
   {
    "duration": 0,
    "start_time": "2023-06-02T13:07:21.518Z"
   },
   {
    "duration": 0,
    "start_time": "2023-06-02T13:07:21.519Z"
   },
   {
    "duration": 0,
    "start_time": "2023-06-02T13:07:21.520Z"
   },
   {
    "duration": 0,
    "start_time": "2023-06-02T13:07:21.521Z"
   },
   {
    "duration": 0,
    "start_time": "2023-06-02T13:07:21.522Z"
   },
   {
    "duration": 0,
    "start_time": "2023-06-02T13:07:21.523Z"
   },
   {
    "duration": 0,
    "start_time": "2023-06-02T13:07:21.524Z"
   },
   {
    "duration": 0,
    "start_time": "2023-06-02T13:07:21.525Z"
   },
   {
    "duration": 0,
    "start_time": "2023-06-02T13:07:21.526Z"
   },
   {
    "duration": 0,
    "start_time": "2023-06-02T13:07:21.526Z"
   },
   {
    "duration": 0,
    "start_time": "2023-06-02T13:07:21.527Z"
   },
   {
    "duration": 0,
    "start_time": "2023-06-02T13:07:21.528Z"
   },
   {
    "duration": 0,
    "start_time": "2023-06-02T13:07:21.528Z"
   },
   {
    "duration": 0,
    "start_time": "2023-06-02T13:07:21.529Z"
   },
   {
    "duration": 0,
    "start_time": "2023-06-02T13:07:21.530Z"
   },
   {
    "duration": 0,
    "start_time": "2023-06-02T13:07:21.531Z"
   },
   {
    "duration": 0,
    "start_time": "2023-06-02T13:07:21.532Z"
   },
   {
    "duration": 246102,
    "start_time": "2023-06-02T13:14:00.075Z"
   },
   {
    "duration": 6,
    "start_time": "2023-06-02T13:18:06.179Z"
   },
   {
    "duration": 124,
    "start_time": "2023-06-02T13:18:06.187Z"
   },
   {
    "duration": 5640026,
    "start_time": "2023-06-02T13:18:06.313Z"
   },
   {
    "duration": 8681,
    "start_time": "2023-06-02T14:52:06.341Z"
   },
   {
    "duration": 5,
    "start_time": "2023-06-02T14:52:15.025Z"
   },
   {
    "duration": 90,
    "start_time": "2023-06-02T14:52:15.031Z"
   },
   {
    "duration": 10,
    "start_time": "2023-06-02T14:52:15.122Z"
   },
   {
    "duration": 129120,
    "start_time": "2023-06-02T14:52:15.134Z"
   },
   {
    "duration": 46093,
    "start_time": "2023-06-02T14:54:24.256Z"
   },
   {
    "duration": 3,
    "start_time": "2023-06-02T14:55:10.351Z"
   },
   {
    "duration": 11,
    "start_time": "2023-06-02T14:55:10.356Z"
   },
   {
    "duration": 55,
    "start_time": "2023-06-02T14:55:10.369Z"
   },
   {
    "duration": 2,
    "start_time": "2023-06-02T14:55:10.426Z"
   },
   {
    "duration": 245497,
    "start_time": "2023-06-02T14:55:10.429Z"
   },
   {
    "duration": 606,
    "start_time": "2023-06-02T14:59:15.928Z"
   },
   {
    "duration": 2,
    "start_time": "2023-06-02T14:59:16.536Z"
   },
   {
    "duration": 6489,
    "start_time": "2023-06-02T14:59:16.539Z"
   },
   {
    "duration": 44960,
    "start_time": "2023-06-02T14:59:23.116Z"
   },
   {
    "duration": 17,
    "start_time": "2023-06-02T15:00:08.078Z"
   },
   {
    "duration": 54,
    "start_time": "2023-06-02T15:00:08.097Z"
   },
   {
    "duration": 34,
    "start_time": "2023-06-02T15:00:08.152Z"
   },
   {
    "duration": 65,
    "start_time": "2023-06-02T15:00:08.187Z"
   },
   {
    "duration": 0,
    "start_time": "2023-06-02T15:00:08.254Z"
   },
   {
    "duration": 11,
    "start_time": "2023-06-02T15:06:16.378Z"
   },
   {
    "duration": 7104,
    "start_time": "2023-06-02T15:07:40.311Z"
   },
   {
    "duration": 15,
    "start_time": "2023-06-02T15:07:47.417Z"
   },
   {
    "duration": 26,
    "start_time": "2023-06-02T15:07:47.434Z"
   },
   {
    "duration": 33,
    "start_time": "2023-06-02T15:07:47.461Z"
   },
   {
    "duration": 47,
    "start_time": "2023-06-02T15:07:47.495Z"
   },
   {
    "duration": 3,
    "start_time": "2023-06-02T15:09:43.144Z"
   },
   {
    "duration": 11,
    "start_time": "2023-06-02T15:10:00.189Z"
   },
   {
    "duration": 15,
    "start_time": "2023-06-02T15:10:04.370Z"
   },
   {
    "duration": 19,
    "start_time": "2023-06-02T15:10:09.734Z"
   },
   {
    "duration": 10,
    "start_time": "2023-06-02T15:11:02.203Z"
   },
   {
    "duration": 3,
    "start_time": "2023-06-02T15:11:13.670Z"
   },
   {
    "duration": 6,
    "start_time": "2023-06-02T15:11:14.331Z"
   },
   {
    "duration": 12,
    "start_time": "2023-06-02T15:11:15.333Z"
   },
   {
    "duration": 16,
    "start_time": "2023-06-02T15:11:25.511Z"
   },
   {
    "duration": 4,
    "start_time": "2023-06-02T15:11:50.446Z"
   },
   {
    "duration": 11,
    "start_time": "2023-06-02T15:11:56.472Z"
   },
   {
    "duration": 54,
    "start_time": "2023-06-02T15:11:59.914Z"
   },
   {
    "duration": 12,
    "start_time": "2023-06-02T15:12:02.267Z"
   },
   {
    "duration": 4,
    "start_time": "2023-06-02T15:12:04.778Z"
   },
   {
    "duration": 6,
    "start_time": "2023-06-02T15:12:04.922Z"
   },
   {
    "duration": 12,
    "start_time": "2023-06-02T15:12:05.053Z"
   },
   {
    "duration": 12,
    "start_time": "2023-06-02T15:12:05.190Z"
   },
   {
    "duration": 4,
    "start_time": "2023-06-02T15:12:07.199Z"
   },
   {
    "duration": 11,
    "start_time": "2023-06-02T15:12:07.318Z"
   },
   {
    "duration": 1411,
    "start_time": "2023-06-06T09:52:16.453Z"
   },
   {
    "duration": 2069,
    "start_time": "2023-06-06T09:52:22.709Z"
   },
   {
    "duration": 2569,
    "start_time": "2023-06-06T09:52:24.780Z"
   },
   {
    "duration": 123,
    "start_time": "2023-06-06T09:52:27.350Z"
   },
   {
    "duration": 2,
    "start_time": "2023-06-06T09:52:30.767Z"
   },
   {
    "duration": 2725,
    "start_time": "2023-06-22T08:29:12.257Z"
   },
   {
    "duration": 3243,
    "start_time": "2023-06-22T08:29:14.984Z"
   },
   {
    "duration": 1690,
    "start_time": "2023-06-22T08:29:18.228Z"
   },
   {
    "duration": 2,
    "start_time": "2023-06-22T08:29:19.920Z"
   },
   {
    "duration": 1007,
    "start_time": "2023-06-22T08:29:19.923Z"
   },
   {
    "duration": 2,
    "start_time": "2023-06-22T08:29:20.932Z"
   },
   {
    "duration": 34,
    "start_time": "2023-06-22T08:29:20.936Z"
   },
   {
    "duration": 133,
    "start_time": "2023-06-22T08:29:20.971Z"
   },
   {
    "duration": 5,
    "start_time": "2023-06-22T08:29:25.598Z"
   },
   {
    "duration": 1988,
    "start_time": "2023-06-22T08:29:40.625Z"
   },
   {
    "duration": 2180,
    "start_time": "2023-06-22T08:29:42.615Z"
   },
   {
    "duration": 5,
    "start_time": "2023-06-22T08:29:44.797Z"
   },
   {
    "duration": 18,
    "start_time": "2023-06-22T08:29:44.804Z"
   },
   {
    "duration": 739,
    "start_time": "2023-06-22T08:29:44.824Z"
   },
   {
    "duration": 3,
    "start_time": "2023-06-22T08:29:45.564Z"
   },
   {
    "duration": 17,
    "start_time": "2023-06-22T08:29:45.568Z"
   },
   {
    "duration": 137,
    "start_time": "2023-06-22T08:29:45.586Z"
   },
   {
    "duration": 5,
    "start_time": "2023-06-22T08:29:52.445Z"
   },
   {
    "duration": 4,
    "start_time": "2023-06-22T08:30:18.959Z"
   },
   {
    "duration": 755,
    "start_time": "2023-06-22T08:30:23.930Z"
   },
   {
    "duration": 3,
    "start_time": "2023-06-22T08:30:24.687Z"
   },
   {
    "duration": 49,
    "start_time": "2023-06-22T08:30:24.691Z"
   },
   {
    "duration": 130,
    "start_time": "2023-06-22T08:30:24.742Z"
   },
   {
    "duration": 4,
    "start_time": "2023-06-22T08:30:27.541Z"
   },
   {
    "duration": 5,
    "start_time": "2023-06-22T08:30:32.575Z"
   },
   {
    "duration": 5,
    "start_time": "2023-06-22T08:30:39.136Z"
   },
   {
    "duration": 4,
    "start_time": "2023-06-22T08:33:46.837Z"
   },
   {
    "duration": 70,
    "start_time": "2023-06-22T08:33:49.904Z"
   },
   {
    "duration": 4,
    "start_time": "2023-06-22T08:33:51.554Z"
   },
   {
    "duration": 50,
    "start_time": "2023-08-14T13:49:58.863Z"
   },
   {
    "duration": 0,
    "start_time": "2023-08-14T13:49:58.914Z"
   },
   {
    "duration": 0,
    "start_time": "2023-08-14T13:49:58.916Z"
   },
   {
    "duration": 0,
    "start_time": "2023-08-14T13:49:58.917Z"
   },
   {
    "duration": 0,
    "start_time": "2023-08-14T13:49:58.918Z"
   },
   {
    "duration": 0,
    "start_time": "2023-08-14T13:49:58.918Z"
   },
   {
    "duration": 0,
    "start_time": "2023-08-14T13:49:58.919Z"
   },
   {
    "duration": 0,
    "start_time": "2023-08-14T13:49:58.920Z"
   },
   {
    "duration": 0,
    "start_time": "2023-08-14T13:49:58.921Z"
   },
   {
    "duration": 0,
    "start_time": "2023-08-14T13:49:58.922Z"
   },
   {
    "duration": 0,
    "start_time": "2023-08-14T13:49:58.923Z"
   },
   {
    "duration": 5,
    "start_time": "2023-08-14T13:49:58.962Z"
   },
   {
    "duration": 0,
    "start_time": "2023-08-14T13:49:58.968Z"
   },
   {
    "duration": 1,
    "start_time": "2023-08-14T13:49:58.969Z"
   },
   {
    "duration": 0,
    "start_time": "2023-08-14T13:49:58.971Z"
   },
   {
    "duration": 0,
    "start_time": "2023-08-14T13:49:58.971Z"
   },
   {
    "duration": 5,
    "start_time": "2023-08-14T13:49:59.004Z"
   },
   {
    "duration": 0,
    "start_time": "2023-08-14T13:49:59.011Z"
   },
   {
    "duration": 0,
    "start_time": "2023-08-14T13:49:59.012Z"
   },
   {
    "duration": 0,
    "start_time": "2023-08-14T13:49:59.013Z"
   },
   {
    "duration": 0,
    "start_time": "2023-08-14T13:49:59.014Z"
   },
   {
    "duration": 6,
    "start_time": "2023-08-14T13:49:59.062Z"
   },
   {
    "duration": 0,
    "start_time": "2023-08-14T13:49:59.070Z"
   },
   {
    "duration": 0,
    "start_time": "2023-08-14T13:49:59.070Z"
   },
   {
    "duration": 0,
    "start_time": "2023-08-14T13:49:59.071Z"
   },
   {
    "duration": 0,
    "start_time": "2023-08-14T13:49:59.072Z"
   },
   {
    "duration": 0,
    "start_time": "2023-08-14T13:49:59.073Z"
   },
   {
    "duration": 5,
    "start_time": "2023-08-14T13:49:59.110Z"
   },
   {
    "duration": 0,
    "start_time": "2023-08-14T13:49:59.116Z"
   },
   {
    "duration": 0,
    "start_time": "2023-08-14T13:49:59.117Z"
   },
   {
    "duration": 0,
    "start_time": "2023-08-14T13:49:59.118Z"
   },
   {
    "duration": 0,
    "start_time": "2023-08-14T13:49:59.119Z"
   },
   {
    "duration": 9,
    "start_time": "2023-08-14T13:49:59.166Z"
   },
   {
    "duration": 0,
    "start_time": "2023-08-14T13:49:59.177Z"
   },
   {
    "duration": 0,
    "start_time": "2023-08-14T13:49:59.178Z"
   },
   {
    "duration": 0,
    "start_time": "2023-08-14T13:49:59.179Z"
   },
   {
    "duration": 0,
    "start_time": "2023-08-14T13:49:59.180Z"
   },
   {
    "duration": 7,
    "start_time": "2023-08-14T13:49:59.214Z"
   },
   {
    "duration": 0,
    "start_time": "2023-08-14T13:49:59.222Z"
   },
   {
    "duration": 0,
    "start_time": "2023-08-14T13:49:59.223Z"
   },
   {
    "duration": 0,
    "start_time": "2023-08-14T13:49:59.224Z"
   },
   {
    "duration": 6,
    "start_time": "2023-08-14T13:49:59.267Z"
   },
   {
    "duration": 0,
    "start_time": "2023-08-14T13:49:59.275Z"
   },
   {
    "duration": 0,
    "start_time": "2023-08-14T13:49:59.276Z"
   },
   {
    "duration": 0,
    "start_time": "2023-08-14T13:49:59.277Z"
   },
   {
    "duration": 5,
    "start_time": "2023-08-14T13:49:59.321Z"
   },
   {
    "duration": 0,
    "start_time": "2023-08-14T13:49:59.327Z"
   },
   {
    "duration": 0,
    "start_time": "2023-08-14T13:49:59.328Z"
   },
   {
    "duration": 0,
    "start_time": "2023-08-14T13:49:59.329Z"
   },
   {
    "duration": 0,
    "start_time": "2023-08-14T13:49:59.330Z"
   },
   {
    "duration": 0,
    "start_time": "2023-08-14T13:49:59.331Z"
   },
   {
    "duration": 5,
    "start_time": "2023-08-14T13:49:59.373Z"
   },
   {
    "duration": 0,
    "start_time": "2023-08-14T13:49:59.379Z"
   },
   {
    "duration": 0,
    "start_time": "2023-08-14T13:49:59.380Z"
   },
   {
    "duration": 0,
    "start_time": "2023-08-14T13:49:59.381Z"
   },
   {
    "duration": 0,
    "start_time": "2023-08-14T13:49:59.382Z"
   },
   {
    "duration": 2,
    "start_time": "2023-08-14T13:49:59.422Z"
   },
   {
    "duration": 42,
    "start_time": "2023-08-14T13:49:59.425Z"
   },
   {
    "duration": 19,
    "start_time": "2023-08-14T13:49:59.468Z"
   },
   {
    "duration": 0,
    "start_time": "2023-08-14T13:49:59.489Z"
   },
   {
    "duration": 0,
    "start_time": "2023-08-14T13:49:59.490Z"
   },
   {
    "duration": 0,
    "start_time": "2023-08-14T13:49:59.491Z"
   },
   {
    "duration": 0,
    "start_time": "2023-08-14T13:49:59.492Z"
   },
   {
    "duration": 0,
    "start_time": "2023-08-14T13:49:59.493Z"
   },
   {
    "duration": 0,
    "start_time": "2023-08-14T13:49:59.495Z"
   },
   {
    "duration": 0,
    "start_time": "2023-08-14T13:49:59.496Z"
   },
   {
    "duration": 6,
    "start_time": "2023-08-14T13:49:59.527Z"
   },
   {
    "duration": 0,
    "start_time": "2023-08-14T13:49:59.535Z"
   },
   {
    "duration": 0,
    "start_time": "2023-08-14T13:49:59.536Z"
   },
   {
    "duration": 0,
    "start_time": "2023-08-14T13:49:59.537Z"
   },
   {
    "duration": 0,
    "start_time": "2023-08-14T13:49:59.544Z"
   },
   {
    "duration": 0,
    "start_time": "2023-08-14T13:49:59.544Z"
   },
   {
    "duration": 2,
    "start_time": "2023-08-14T13:49:59.579Z"
   },
   {
    "duration": 30,
    "start_time": "2023-08-14T13:49:59.583Z"
   },
   {
    "duration": 6,
    "start_time": "2023-08-14T13:49:59.615Z"
   },
   {
    "duration": 5,
    "start_time": "2023-08-14T13:49:59.630Z"
   },
   {
    "duration": 33,
    "start_time": "2023-08-14T13:49:59.648Z"
   },
   {
    "duration": 13,
    "start_time": "2023-08-14T13:49:59.682Z"
   },
   {
    "duration": 24,
    "start_time": "2023-08-14T13:49:59.696Z"
   },
   {
    "duration": 7,
    "start_time": "2023-08-14T13:49:59.722Z"
   },
   {
    "duration": 29,
    "start_time": "2023-08-14T13:49:59.731Z"
   },
   {
    "duration": 0,
    "start_time": "2023-08-14T13:49:59.761Z"
   },
   {
    "duration": 0,
    "start_time": "2023-08-14T13:49:59.763Z"
   },
   {
    "duration": 0,
    "start_time": "2023-08-14T13:49:59.764Z"
   },
   {
    "duration": 0,
    "start_time": "2023-08-14T13:49:59.765Z"
   },
   {
    "duration": 0,
    "start_time": "2023-08-14T13:49:59.766Z"
   },
   {
    "duration": 0,
    "start_time": "2023-08-14T13:49:59.768Z"
   },
   {
    "duration": 5,
    "start_time": "2023-08-14T13:49:59.786Z"
   },
   {
    "duration": 0,
    "start_time": "2023-08-14T13:49:59.793Z"
   },
   {
    "duration": 0,
    "start_time": "2023-08-14T13:49:59.794Z"
   },
   {
    "duration": 0,
    "start_time": "2023-08-14T13:49:59.795Z"
   },
   {
    "duration": 14,
    "start_time": "2023-08-14T13:49:59.848Z"
   },
   {
    "duration": 0,
    "start_time": "2023-08-14T13:49:59.864Z"
   },
   {
    "duration": 0,
    "start_time": "2023-08-14T13:49:59.865Z"
   },
   {
    "duration": 0,
    "start_time": "2023-08-14T13:49:59.866Z"
   },
   {
    "duration": 6,
    "start_time": "2023-08-14T13:49:59.888Z"
   },
   {
    "duration": 0,
    "start_time": "2023-08-14T13:49:59.896Z"
   },
   {
    "duration": 0,
    "start_time": "2023-08-14T13:49:59.897Z"
   },
   {
    "duration": 0,
    "start_time": "2023-08-14T13:49:59.898Z"
   },
   {
    "duration": 0,
    "start_time": "2023-08-14T13:49:59.899Z"
   },
   {
    "duration": 10,
    "start_time": "2023-08-14T13:49:59.952Z"
   },
   {
    "duration": 1,
    "start_time": "2023-08-14T13:49:59.963Z"
   },
   {
    "duration": 0,
    "start_time": "2023-08-14T13:49:59.965Z"
   },
   {
    "duration": 0,
    "start_time": "2023-08-14T13:49:59.966Z"
   },
   {
    "duration": 0,
    "start_time": "2023-08-14T13:49:59.967Z"
   },
   {
    "duration": 8,
    "start_time": "2023-08-14T13:49:59.992Z"
   },
   {
    "duration": 0,
    "start_time": "2023-08-14T13:50:00.001Z"
   },
   {
    "duration": 0,
    "start_time": "2023-08-14T13:50:00.003Z"
   },
   {
    "duration": 0,
    "start_time": "2023-08-14T13:50:00.004Z"
   },
   {
    "duration": 0,
    "start_time": "2023-08-14T13:50:00.005Z"
   },
   {
    "duration": 1392,
    "start_time": "2023-08-14T13:50:28.615Z"
   },
   {
    "duration": 0,
    "start_time": "2023-08-14T13:50:30.009Z"
   },
   {
    "duration": 12,
    "start_time": "2023-08-14T13:50:34.776Z"
   },
   {
    "duration": 2446,
    "start_time": "2023-08-14T13:50:42.923Z"
   },
   {
    "duration": 2651,
    "start_time": "2023-08-14T13:50:45.371Z"
   },
   {
    "duration": 87,
    "start_time": "2023-08-14T13:50:48.025Z"
   },
   {
    "duration": 3,
    "start_time": "2023-08-14T13:50:48.114Z"
   },
   {
    "duration": 1242,
    "start_time": "2023-08-14T13:50:48.295Z"
   },
   {
    "duration": 5,
    "start_time": "2023-08-14T13:50:49.543Z"
   },
   {
    "duration": 17,
    "start_time": "2023-08-14T13:50:49.966Z"
   },
   {
    "duration": 119,
    "start_time": "2023-08-14T13:50:50.684Z"
   },
   {
    "duration": 4,
    "start_time": "2023-08-14T13:50:51.470Z"
   },
   {
    "duration": 7,
    "start_time": "2023-08-14T13:51:02.564Z"
   },
   {
    "duration": 5,
    "start_time": "2023-08-14T13:51:15.662Z"
   },
   {
    "duration": 759,
    "start_time": "2023-08-14T13:51:27.715Z"
   },
   {
    "duration": 3,
    "start_time": "2023-08-14T13:51:28.476Z"
   },
   {
    "duration": 12,
    "start_time": "2023-08-14T13:51:50.463Z"
   },
   {
    "duration": 183,
    "start_time": "2023-08-14T13:51:50.477Z"
   },
   {
    "duration": 22,
    "start_time": "2023-08-14T13:51:50.665Z"
   },
   {
    "duration": 42,
    "start_time": "2023-08-14T13:51:50.688Z"
   },
   {
    "duration": 2697,
    "start_time": "2023-08-16T11:46:30.151Z"
   },
   {
    "duration": 2742,
    "start_time": "2023-08-16T11:46:32.851Z"
   },
   {
    "duration": 1573,
    "start_time": "2023-08-16T11:46:35.595Z"
   },
   {
    "duration": 2,
    "start_time": "2023-08-16T11:46:37.171Z"
   },
   {
    "duration": 1323,
    "start_time": "2023-08-16T11:46:37.175Z"
   },
   {
    "duration": 2,
    "start_time": "2023-08-16T11:46:38.500Z"
   },
   {
    "duration": 34,
    "start_time": "2023-08-16T11:46:38.504Z"
   },
   {
    "duration": 130,
    "start_time": "2023-08-16T11:46:38.539Z"
   },
   {
    "duration": 5,
    "start_time": "2023-08-16T11:46:38.671Z"
   },
   {
    "duration": 30,
    "start_time": "2023-08-16T11:46:38.680Z"
   },
   {
    "duration": 23,
    "start_time": "2023-08-16T11:46:38.712Z"
   },
   {
    "duration": 11,
    "start_time": "2023-08-16T11:46:38.738Z"
   },
   {
    "duration": 113,
    "start_time": "2023-08-16T11:46:38.751Z"
   },
   {
    "duration": 3,
    "start_time": "2023-08-16T11:46:38.866Z"
   },
   {
    "duration": 8,
    "start_time": "2023-08-16T11:46:38.871Z"
   },
   {
    "duration": 14,
    "start_time": "2023-08-16T11:46:38.881Z"
   },
   {
    "duration": 9,
    "start_time": "2023-08-16T11:46:38.897Z"
   },
   {
    "duration": 11,
    "start_time": "2023-08-16T11:46:38.907Z"
   },
   {
    "duration": 11,
    "start_time": "2023-08-16T11:46:38.920Z"
   },
   {
    "duration": 261,
    "start_time": "2023-08-16T11:46:38.932Z"
   },
   {
    "duration": 21,
    "start_time": "2023-08-16T11:46:39.195Z"
   },
   {
    "duration": 16,
    "start_time": "2023-08-16T11:46:39.218Z"
   },
   {
    "duration": 24,
    "start_time": "2023-08-16T11:46:39.235Z"
   },
   {
    "duration": 21,
    "start_time": "2023-08-16T11:46:39.261Z"
   },
   {
    "duration": 38,
    "start_time": "2023-08-16T11:46:39.283Z"
   },
   {
    "duration": 20,
    "start_time": "2023-08-16T11:46:39.323Z"
   },
   {
    "duration": 45,
    "start_time": "2023-08-16T11:46:39.346Z"
   },
   {
    "duration": 87154,
    "start_time": "2023-08-16T11:46:39.396Z"
   },
   {
    "duration": 226,
    "start_time": "2023-08-16T11:48:06.552Z"
   },
   {
    "duration": 2309,
    "start_time": "2023-08-16T11:48:06.780Z"
   },
   {
    "duration": 1642,
    "start_time": "2023-08-16T11:48:09.091Z"
   },
   {
    "duration": 28,
    "start_time": "2023-08-16T11:48:10.735Z"
   },
   {
    "duration": 17,
    "start_time": "2023-08-16T11:48:10.765Z"
   },
   {
    "duration": 25,
    "start_time": "2023-08-16T11:48:10.784Z"
   },
   {
    "duration": 180,
    "start_time": "2023-08-16T11:48:10.811Z"
   },
   {
    "duration": 186,
    "start_time": "2023-08-16T11:48:10.993Z"
   },
   {
    "duration": 149,
    "start_time": "2023-08-16T11:48:11.181Z"
   },
   {
    "duration": 5,
    "start_time": "2023-08-16T11:48:11.332Z"
   },
   {
    "duration": 5702,
    "start_time": "2023-08-16T11:48:11.338Z"
   },
   {
    "duration": 599,
    "start_time": "2023-08-16T11:48:17.042Z"
   },
   {
    "duration": 29,
    "start_time": "2023-08-16T11:48:17.643Z"
   },
   {
    "duration": 111,
    "start_time": "2023-08-16T11:48:17.674Z"
   },
   {
    "duration": 3,
    "start_time": "2023-08-16T11:48:17.787Z"
   },
   {
    "duration": 20,
    "start_time": "2023-08-16T11:48:17.791Z"
   },
   {
    "duration": 25,
    "start_time": "2023-08-16T11:48:17.814Z"
   },
   {
    "duration": 27,
    "start_time": "2023-08-16T11:48:17.841Z"
   },
   {
    "duration": 20,
    "start_time": "2023-08-16T11:48:17.870Z"
   },
   {
    "duration": 26,
    "start_time": "2023-08-16T11:48:17.891Z"
   },
   {
    "duration": 81,
    "start_time": "2023-08-16T11:48:17.919Z"
   },
   {
    "duration": 22,
    "start_time": "2023-08-16T11:48:18.002Z"
   },
   {
    "duration": 117,
    "start_time": "2023-08-16T11:48:18.026Z"
   },
   {
    "duration": 651,
    "start_time": "2023-08-16T11:48:18.159Z"
   },
   {
    "duration": 21,
    "start_time": "2023-08-16T11:48:18.811Z"
   },
   {
    "duration": 18,
    "start_time": "2023-08-16T11:48:18.834Z"
   },
   {
    "duration": 94,
    "start_time": "2023-08-16T11:48:18.854Z"
   },
   {
    "duration": 38,
    "start_time": "2023-08-16T11:48:18.950Z"
   },
   {
    "duration": 6,
    "start_time": "2023-08-16T11:48:18.990Z"
   },
   {
    "duration": 28,
    "start_time": "2023-08-16T11:48:18.998Z"
   },
   {
    "duration": 93,
    "start_time": "2023-08-16T11:48:19.028Z"
   },
   {
    "duration": 12,
    "start_time": "2023-08-16T11:48:19.123Z"
   },
   {
    "duration": 73,
    "start_time": "2023-08-16T11:48:19.136Z"
   },
   {
    "duration": 12,
    "start_time": "2023-08-16T11:48:19.211Z"
   },
   {
    "duration": 47,
    "start_time": "2023-08-16T11:48:19.224Z"
   },
   {
    "duration": 3,
    "start_time": "2023-08-16T11:48:19.273Z"
   },
   {
    "duration": 76,
    "start_time": "2023-08-16T11:48:19.277Z"
   },
   {
    "duration": 30,
    "start_time": "2023-08-16T11:48:19.356Z"
   },
   {
    "duration": 55,
    "start_time": "2023-08-16T11:48:19.388Z"
   },
   {
    "duration": 103,
    "start_time": "2023-08-16T11:48:19.445Z"
   },
   {
    "duration": 31,
    "start_time": "2023-08-16T11:48:19.550Z"
   },
   {
    "duration": 767,
    "start_time": "2023-08-16T11:48:19.583Z"
   },
   {
    "duration": 22,
    "start_time": "2023-08-16T11:48:20.352Z"
   },
   {
    "duration": 20,
    "start_time": "2023-08-16T11:48:20.375Z"
   },
   {
    "duration": 89,
    "start_time": "2023-08-16T11:48:20.398Z"
   },
   {
    "duration": 72,
    "start_time": "2023-08-16T11:48:20.489Z"
   },
   {
    "duration": 263,
    "start_time": "2023-08-16T11:48:20.564Z"
   },
   {
    "duration": 281,
    "start_time": "2023-08-16T11:48:20.829Z"
   },
   {
    "duration": 19,
    "start_time": "2023-08-16T11:48:21.113Z"
   },
   {
    "duration": 52,
    "start_time": "2023-08-16T11:48:21.134Z"
   },
   {
    "duration": 23,
    "start_time": "2023-08-16T11:48:21.188Z"
   },
   {
    "duration": 19,
    "start_time": "2023-08-16T11:48:21.214Z"
   },
   {
    "duration": 14,
    "start_time": "2023-08-16T11:48:21.236Z"
   },
   {
    "duration": 24,
    "start_time": "2023-08-16T11:48:21.256Z"
   },
   {
    "duration": 29,
    "start_time": "2023-08-16T11:48:21.282Z"
   },
   {
    "duration": 48,
    "start_time": "2023-08-16T11:48:21.313Z"
   },
   {
    "duration": 15,
    "start_time": "2023-08-16T11:48:21.363Z"
   },
   {
    "duration": 33,
    "start_time": "2023-08-16T11:48:21.380Z"
   },
   {
    "duration": 29,
    "start_time": "2023-08-16T11:48:21.415Z"
   },
   {
    "duration": 37,
    "start_time": "2023-08-16T11:48:21.446Z"
   },
   {
    "duration": 29,
    "start_time": "2023-08-16T11:48:21.485Z"
   },
   {
    "duration": 34,
    "start_time": "2023-08-16T11:48:21.516Z"
   },
   {
    "duration": 852448,
    "start_time": "2023-08-16T11:48:21.552Z"
   },
   {
    "duration": 3653,
    "start_time": "2023-08-16T12:02:34.002Z"
   },
   {
    "duration": 4,
    "start_time": "2023-08-16T12:02:37.657Z"
   },
   {
    "duration": 104,
    "start_time": "2023-08-16T12:02:37.663Z"
   },
   {
    "duration": 269019,
    "start_time": "2023-08-16T12:02:37.770Z"
   },
   {
    "duration": 10,
    "start_time": "2023-08-16T12:07:06.791Z"
   },
   {
    "duration": 183,
    "start_time": "2023-08-16T12:07:06.802Z"
   },
   {
    "duration": 37783,
    "start_time": "2023-08-16T12:07:06.987Z"
   },
   {
    "duration": 10187,
    "start_time": "2023-08-16T12:07:44.772Z"
   },
   {
    "duration": 4,
    "start_time": "2023-08-16T12:07:54.961Z"
   },
   {
    "duration": 30,
    "start_time": "2023-08-16T12:07:54.967Z"
   },
   {
    "duration": 40,
    "start_time": "2023-08-16T12:07:54.998Z"
   },
   {
    "duration": 209437,
    "start_time": "2023-08-16T12:07:55.040Z"
   },
   {
    "duration": 72397,
    "start_time": "2023-08-16T12:11:24.479Z"
   },
   {
    "duration": 5,
    "start_time": "2023-08-16T12:12:36.877Z"
   },
   {
    "duration": 39,
    "start_time": "2023-08-16T12:12:36.883Z"
   },
   {
    "duration": 67,
    "start_time": "2023-08-16T12:12:36.923Z"
   },
   {
    "duration": 3,
    "start_time": "2023-08-16T12:12:36.992Z"
   },
   {
    "duration": 2236,
    "start_time": "2023-09-22T21:29:08.260Z"
   },
   {
    "duration": 2853,
    "start_time": "2023-09-22T21:29:10.498Z"
   },
   {
    "duration": 1442,
    "start_time": "2023-09-22T21:29:13.353Z"
   },
   {
    "duration": 3,
    "start_time": "2023-09-22T21:29:14.797Z"
   },
   {
    "duration": 1336,
    "start_time": "2023-09-22T21:29:14.802Z"
   },
   {
    "duration": 17,
    "start_time": "2023-09-22T21:29:16.140Z"
   },
   {
    "duration": 205,
    "start_time": "2023-09-22T21:29:16.158Z"
   },
   {
    "duration": 15,
    "start_time": "2023-09-22T21:29:16.364Z"
   },
   {
    "duration": 55,
    "start_time": "2023-09-22T21:29:16.381Z"
   },
   {
    "duration": 76,
    "start_time": "2023-09-22T21:29:16.438Z"
   },
   {
    "duration": 45,
    "start_time": "2023-09-22T21:29:16.515Z"
   },
   {
    "duration": 110,
    "start_time": "2023-09-22T21:29:16.562Z"
   },
   {
    "duration": 2,
    "start_time": "2023-09-22T21:29:16.674Z"
   },
   {
    "duration": 21,
    "start_time": "2023-09-22T21:29:16.679Z"
   },
   {
    "duration": 336,
    "start_time": "2023-09-22T21:29:16.702Z"
   },
   {
    "duration": 21,
    "start_time": "2023-09-22T21:29:17.040Z"
   },
   {
    "duration": 46,
    "start_time": "2023-09-22T21:29:17.063Z"
   },
   {
    "duration": 70,
    "start_time": "2023-09-22T21:29:17.110Z"
   },
   {
    "duration": 64,
    "start_time": "2023-09-22T21:29:17.181Z"
   },
   {
    "duration": 105,
    "start_time": "2023-09-22T21:29:17.246Z"
   },
   {
    "duration": 128,
    "start_time": "2023-09-22T21:29:17.352Z"
   },
   {
    "duration": 102614,
    "start_time": "2023-09-22T21:29:17.482Z"
   },
   {
    "duration": 347,
    "start_time": "2023-09-22T21:31:00.098Z"
   },
   {
    "duration": 1543,
    "start_time": "2023-09-22T21:31:00.448Z"
   },
   {
    "duration": 1470,
    "start_time": "2023-09-22T21:31:01.992Z"
   },
   {
    "duration": 25,
    "start_time": "2023-09-22T21:31:03.464Z"
   },
   {
    "duration": 10,
    "start_time": "2023-09-22T21:31:03.491Z"
   },
   {
    "duration": 32,
    "start_time": "2023-09-22T21:31:03.503Z"
   },
   {
    "duration": 178,
    "start_time": "2023-09-22T21:31:03.536Z"
   },
   {
    "duration": 185,
    "start_time": "2023-09-22T21:31:03.716Z"
   },
   {
    "duration": 148,
    "start_time": "2023-09-22T21:31:03.902Z"
   },
   {
    "duration": 3,
    "start_time": "2023-09-22T21:31:04.052Z"
   },
   {
    "duration": 5995,
    "start_time": "2023-09-22T21:31:04.056Z"
   },
   {
    "duration": 562,
    "start_time": "2023-09-22T21:31:10.053Z"
   },
   {
    "duration": 22,
    "start_time": "2023-09-22T21:31:10.616Z"
   },
   {
    "duration": 99,
    "start_time": "2023-09-22T21:31:10.639Z"
   },
   {
    "duration": 3,
    "start_time": "2023-09-22T21:31:10.740Z"
   },
   {
    "duration": 43,
    "start_time": "2023-09-22T21:31:10.746Z"
   },
   {
    "duration": 42,
    "start_time": "2023-09-22T21:31:10.791Z"
   },
   {
    "duration": 44,
    "start_time": "2023-09-22T21:31:10.839Z"
   },
   {
    "duration": 22,
    "start_time": "2023-09-22T21:31:10.890Z"
   },
   {
    "duration": 65,
    "start_time": "2023-09-22T21:31:10.914Z"
   },
   {
    "duration": 17,
    "start_time": "2023-09-22T21:31:10.980Z"
   },
   {
    "duration": 75,
    "start_time": "2023-09-22T21:31:10.999Z"
   },
   {
    "duration": 525,
    "start_time": "2023-09-22T21:31:11.076Z"
   },
   {
    "duration": 25,
    "start_time": "2023-09-22T21:31:11.603Z"
   },
   {
    "duration": 9,
    "start_time": "2023-09-22T21:31:11.631Z"
   },
   {
    "duration": 16,
    "start_time": "2023-09-22T21:31:11.642Z"
   },
   {
    "duration": 41,
    "start_time": "2023-09-22T21:31:11.659Z"
   },
   {
    "duration": 6,
    "start_time": "2023-09-22T21:31:11.702Z"
   },
   {
    "duration": 27,
    "start_time": "2023-09-22T21:31:11.709Z"
   },
   {
    "duration": 95,
    "start_time": "2023-09-22T21:31:11.741Z"
   },
   {
    "duration": 12,
    "start_time": "2023-09-22T21:31:11.842Z"
   },
   {
    "duration": 58,
    "start_time": "2023-09-22T21:31:11.857Z"
   },
   {
    "duration": 25,
    "start_time": "2023-09-22T21:31:11.917Z"
   },
   {
    "duration": 40,
    "start_time": "2023-09-22T21:31:11.945Z"
   },
   {
    "duration": 7,
    "start_time": "2023-09-22T21:31:11.987Z"
   },
   {
    "duration": 30,
    "start_time": "2023-09-22T21:31:11.996Z"
   },
   {
    "duration": 14,
    "start_time": "2023-09-22T21:31:12.028Z"
   },
   {
    "duration": 687,
    "start_time": "2023-09-22T21:31:12.044Z"
   },
   {
    "duration": 19,
    "start_time": "2023-09-22T21:31:12.733Z"
   },
   {
    "duration": 25,
    "start_time": "2023-09-22T21:31:12.754Z"
   },
   {
    "duration": 23,
    "start_time": "2023-09-22T21:31:12.781Z"
   },
   {
    "duration": 4,
    "start_time": "2023-09-22T21:31:12.805Z"
   },
   {
    "duration": 277,
    "start_time": "2023-09-22T21:31:12.811Z"
   },
   {
    "duration": 269,
    "start_time": "2023-09-22T21:31:13.090Z"
   },
   {
    "duration": 16,
    "start_time": "2023-09-22T21:31:13.361Z"
   },
   {
    "duration": 24,
    "start_time": "2023-09-22T21:31:13.379Z"
   },
   {
    "duration": 9,
    "start_time": "2023-09-22T21:31:13.405Z"
   },
   {
    "duration": 16,
    "start_time": "2023-09-22T21:31:13.416Z"
   },
   {
    "duration": 768704,
    "start_time": "2023-09-22T21:31:13.434Z"
   },
   {
    "duration": 3077,
    "start_time": "2023-09-22T21:44:02.139Z"
   },
   {
    "duration": 6,
    "start_time": "2023-09-22T21:44:05.218Z"
   },
   {
    "duration": 7,
    "start_time": "2023-09-22T21:44:05.225Z"
   },
   {
    "duration": 239734,
    "start_time": "2023-09-22T21:44:05.233Z"
   },
   {
    "duration": 12,
    "start_time": "2023-09-22T21:48:04.969Z"
   },
   {
    "duration": 227,
    "start_time": "2023-09-22T21:48:04.982Z"
   },
   {
    "duration": 424821,
    "start_time": "2023-09-22T21:48:05.211Z"
   },
   {
    "duration": 0,
    "start_time": "2023-09-22T21:55:10.035Z"
   },
   {
    "duration": 0,
    "start_time": "2023-09-22T21:55:10.037Z"
   },
   {
    "duration": 0,
    "start_time": "2023-09-22T21:55:10.039Z"
   },
   {
    "duration": 0,
    "start_time": "2023-09-22T21:55:10.041Z"
   },
   {
    "duration": 0,
    "start_time": "2023-09-22T21:55:10.043Z"
   },
   {
    "duration": 0,
    "start_time": "2023-09-22T21:55:10.044Z"
   },
   {
    "duration": 0,
    "start_time": "2023-09-22T21:55:10.046Z"
   },
   {
    "duration": 0,
    "start_time": "2023-09-22T21:55:10.048Z"
   },
   {
    "duration": 0,
    "start_time": "2023-09-22T21:55:10.050Z"
   },
   {
    "duration": 0,
    "start_time": "2023-09-22T21:55:10.053Z"
   },
   {
    "duration": 0,
    "start_time": "2023-09-22T21:55:10.054Z"
   },
   {
    "duration": 0,
    "start_time": "2023-09-22T21:55:10.055Z"
   },
   {
    "duration": 0,
    "start_time": "2023-09-22T21:55:10.057Z"
   },
   {
    "duration": 0,
    "start_time": "2023-09-22T21:55:10.059Z"
   },
   {
    "duration": 0,
    "start_time": "2023-09-22T21:55:10.061Z"
   },
   {
    "duration": 0,
    "start_time": "2023-09-22T21:55:10.063Z"
   },
   {
    "duration": 0,
    "start_time": "2023-09-22T21:55:10.064Z"
   },
   {
    "duration": 0,
    "start_time": "2023-09-22T21:55:10.066Z"
   },
   {
    "duration": 0,
    "start_time": "2023-09-22T21:55:10.068Z"
   },
   {
    "duration": 0,
    "start_time": "2023-09-22T21:55:10.125Z"
   },
   {
    "duration": 19457,
    "start_time": "2023-09-22T21:55:25.089Z"
   },
   {
    "duration": 0,
    "start_time": "2023-09-22T21:55:44.549Z"
   },
   {
    "duration": 0,
    "start_time": "2023-09-22T21:55:44.550Z"
   },
   {
    "duration": 0,
    "start_time": "2023-09-22T21:55:44.551Z"
   },
   {
    "duration": 0,
    "start_time": "2023-09-22T21:55:44.552Z"
   },
   {
    "duration": 0,
    "start_time": "2023-09-22T21:55:44.553Z"
   },
   {
    "duration": 0,
    "start_time": "2023-09-22T21:55:44.554Z"
   },
   {
    "duration": 0,
    "start_time": "2023-09-22T21:55:44.556Z"
   },
   {
    "duration": 0,
    "start_time": "2023-09-22T21:55:44.557Z"
   },
   {
    "duration": 0,
    "start_time": "2023-09-22T21:55:44.558Z"
   },
   {
    "duration": 0,
    "start_time": "2023-09-22T21:55:44.559Z"
   },
   {
    "duration": 0,
    "start_time": "2023-09-22T21:55:44.560Z"
   },
   {
    "duration": 0,
    "start_time": "2023-09-22T21:55:44.562Z"
   },
   {
    "duration": 0,
    "start_time": "2023-09-22T21:55:44.563Z"
   },
   {
    "duration": 0,
    "start_time": "2023-09-22T21:55:44.564Z"
   },
   {
    "duration": 0,
    "start_time": "2023-09-22T21:55:44.624Z"
   },
   {
    "duration": 0,
    "start_time": "2023-09-22T21:55:44.625Z"
   },
   {
    "duration": 0,
    "start_time": "2023-09-22T21:55:44.627Z"
   },
   {
    "duration": 0,
    "start_time": "2023-09-22T21:55:44.627Z"
   },
   {
    "duration": 0,
    "start_time": "2023-09-22T21:55:44.629Z"
   },
   {
    "duration": 0,
    "start_time": "2023-09-22T21:55:44.630Z"
   },
   {
    "duration": 844705,
    "start_time": "2023-09-22T21:55:49.549Z"
   },
   {
    "duration": 77210,
    "start_time": "2023-09-22T22:09:54.256Z"
   },
   {
    "duration": 4,
    "start_time": "2023-09-22T22:11:11.469Z"
   },
   {
    "duration": 70,
    "start_time": "2023-09-22T22:11:11.475Z"
   },
   {
    "duration": 9,
    "start_time": "2023-09-22T22:11:11.548Z"
   },
   {
    "duration": 176369,
    "start_time": "2023-09-22T22:11:11.559Z"
   },
   {
    "duration": 63373,
    "start_time": "2023-09-22T22:14:07.929Z"
   },
   {
    "duration": 3,
    "start_time": "2023-09-22T22:15:11.304Z"
   },
   {
    "duration": 20,
    "start_time": "2023-09-22T22:15:11.309Z"
   },
   {
    "duration": 74,
    "start_time": "2023-09-22T22:15:11.332Z"
   },
   {
    "duration": 3,
    "start_time": "2023-09-22T22:15:11.408Z"
   },
   {
    "duration": 260365,
    "start_time": "2023-09-22T22:15:11.424Z"
   },
   {
    "duration": 795,
    "start_time": "2023-09-22T22:19:31.791Z"
   },
   {
    "duration": 3,
    "start_time": "2023-09-22T22:19:32.588Z"
   },
   {
    "duration": 212539,
    "start_time": "2023-09-22T22:19:32.592Z"
   },
   {
    "duration": 60759,
    "start_time": "2023-09-22T22:23:05.134Z"
   },
   {
    "duration": 31,
    "start_time": "2023-09-22T22:24:05.895Z"
   },
   {
    "duration": 4,
    "start_time": "2023-09-22T22:24:05.928Z"
   },
   {
    "duration": 33,
    "start_time": "2023-09-22T22:24:05.934Z"
   },
   {
    "duration": 12,
    "start_time": "2023-09-22T22:24:05.969Z"
   },
   {
    "duration": 6,
    "start_time": "2023-09-22T22:24:05.983Z"
   }
  ],
  "kernelspec": {
   "display_name": "Python 3 (ipykernel)",
   "language": "python",
   "name": "python3"
  },
  "language_info": {
   "codemirror_mode": {
    "name": "ipython",
    "version": 3
   },
   "file_extension": ".py",
   "mimetype": "text/x-python",
   "name": "python",
   "nbconvert_exporter": "python",
   "pygments_lexer": "ipython3",
   "version": "3.9.13"
  },
  "toc": {
   "base_numbering": 1,
   "nav_menu": {},
   "number_sections": true,
   "sideBar": true,
   "skip_h1_title": true,
   "title_cell": "Table of Contents",
   "title_sidebar": "Contents",
   "toc_cell": false,
   "toc_position": {
    "height": "1028.48px",
    "left": "439px",
    "top": "110.15px",
    "width": "549.773px"
   },
   "toc_section_display": true,
   "toc_window_display": true
  }
 },
 "nbformat": 4,
 "nbformat_minor": 2
}
