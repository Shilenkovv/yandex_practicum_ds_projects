{
 "cells": [
  {
   "cell_type": "markdown",
   "metadata": {
    "toc": true
   },
   "source": [
    "<h1>Содержание<span class=\"tocSkip\"></span></h1>\n",
    "<div class=\"toc\"><ul class=\"toc-item\"><li><span><a href=\"#Подготовка-данных\" data-toc-modified-id=\"Подготовка-данных-1\"><span class=\"toc-item-num\">1&nbsp;&nbsp;</span>Подготовка данных</a></span><ul class=\"toc-item\"><li><span><a href=\"#Откроем-и-изучим-файлы\" data-toc-modified-id=\"Откроем-и-изучим-файлы-1.1\"><span class=\"toc-item-num\">1.1&nbsp;&nbsp;</span>Откроем и изучим файлы</a></span></li><li><span><a href=\"#Корректность-расчёта-обогащения\" data-toc-modified-id=\"Корректность-расчёта-обогащения-1.2\"><span class=\"toc-item-num\">1.2&nbsp;&nbsp;</span>Корректность расчёта обогащения</a></span></li><li><span><a href=\"#Доступность-признаков-в-тестовой-выборке\" data-toc-modified-id=\"Доступность-признаков-в-тестовой-выборке-1.3\"><span class=\"toc-item-num\">1.3&nbsp;&nbsp;</span>Доступность признаков в тестовой выборке</a></span></li><li><span><a href=\"#Предобработка-данных\" data-toc-modified-id=\"Предобработка-данных-1.4\"><span class=\"toc-item-num\">1.4&nbsp;&nbsp;</span>Предобработка данных</a></span></li></ul></li><li><span><a href=\"#Анализ-данных\" data-toc-modified-id=\"Анализ-данных-2\"><span class=\"toc-item-num\">2&nbsp;&nbsp;</span>Анализ данных</a></span><ul class=\"toc-item\"><li><span><a href=\"#Динамика-концентрации-металлов-на-различных-этапах-очистки\" data-toc-modified-id=\"Динамика-концентрации-металлов-на-различных-этапах-очистки-2.1\"><span class=\"toc-item-num\">2.1&nbsp;&nbsp;</span>Динамика концентрации металлов на различных этапах очистки</a></span></li><li><span><a href=\"#Распределение-размеров-гранул-сырья\" data-toc-modified-id=\"Распределение-размеров-гранул-сырья-2.2\"><span class=\"toc-item-num\">2.2&nbsp;&nbsp;</span>Распределение размеров гранул сырья</a></span></li><li><span><a href=\"#Суммарная-концентрация-веществ-на-разных-стадиях\" data-toc-modified-id=\"Суммарная-концентрация-веществ-на-разных-стадиях-2.3\"><span class=\"toc-item-num\">2.3&nbsp;&nbsp;</span>Суммарная концентрация веществ на разных стадиях</a></span></li><li><span><a href=\"#Анализ-таргетов\" data-toc-modified-id=\"Анализ-таргетов-2.4\"><span class=\"toc-item-num\">2.4&nbsp;&nbsp;</span>Анализ таргетов</a></span></li></ul></li><li><span><a href=\"#Модель\" data-toc-modified-id=\"Модель-3\"><span class=\"toc-item-num\">3&nbsp;&nbsp;</span>Модель</a></span><ul class=\"toc-item\"><li><span><a href=\"#Создание-функций\" data-toc-modified-id=\"Создание-функций-3.1\"><span class=\"toc-item-num\">3.1&nbsp;&nbsp;</span>Создание функций</a></span></li><li><span><a href=\"#Линейная-регрессия\" data-toc-modified-id=\"Линейная-регрессия-3.2\"><span class=\"toc-item-num\">3.2&nbsp;&nbsp;</span>Линейная регрессия</a></span></li><li><span><a href=\"#Решающее-дерево\" data-toc-modified-id=\"Решающее-дерево-3.3\"><span class=\"toc-item-num\">3.3&nbsp;&nbsp;</span>Решающее дерево</a></span></li><li><span><a href=\"#Случайный-лес\" data-toc-modified-id=\"Случайный-лес-3.4\"><span class=\"toc-item-num\">3.4&nbsp;&nbsp;</span>Случайный лес</a></span></li><li><span><a href=\"#CatBoost\" data-toc-modified-id=\"CatBoost-3.5\"><span class=\"toc-item-num\">3.5&nbsp;&nbsp;</span>CatBoost</a></span></li><li><span><a href=\"#Модель-для-чернового-концентрата\" data-toc-modified-id=\"Модель-для-чернового-концентрата-3.6\"><span class=\"toc-item-num\">3.6&nbsp;&nbsp;</span>Модель для чернового концентрата</a></span></li><li><span><a href=\"#Модель-для-финального-концентрата\" data-toc-modified-id=\"Модель-для-финального-концентрата-3.7\"><span class=\"toc-item-num\">3.7&nbsp;&nbsp;</span>Модель для финального концентрата</a></span></li><li><span><a href=\"#Работа-лучшей-модели-на-тестовой-выборке\" data-toc-modified-id=\"Работа-лучшей-модели-на-тестовой-выборке-3.8\"><span class=\"toc-item-num\">3.8&nbsp;&nbsp;</span>Работа лучшей модели на тестовой выборке</a></span></li></ul></li></ul></div>"
   ]
  },
  {
   "cell_type": "markdown",
   "metadata": {},
   "source": [
    "# Восстановление золота из руды"
   ]
  },
  {
   "cell_type": "markdown",
   "metadata": {},
   "source": [
    "Подготовим прототип модели машинного обучения для «Цифры». Компания разрабатывает решения для эффективной работы промышленных предприятий.\n",
    "\n",
    "Модель должна предсказать коэффициент восстановления золота из золотосодержащей руды.\n",
    "\n",
    "Модель поможет оптимизировать производство, чтобы не запускать предприятие с убыточными характеристиками.\n",
    "\n",
    "Нам нужно:\n",
    "\n",
    "1. Подготовить данные;\n",
    "2. Провести исследовательский анализ данных;\n",
    "3. Построить и обучить модель."
   ]
  },
  {
   "cell_type": "markdown",
   "metadata": {},
   "source": [
    "## Подготовка данных"
   ]
  },
  {
   "cell_type": "code",
   "execution_count": 1,
   "metadata": {},
   "outputs": [
    {
     "name": "stdout",
     "output_type": "stream",
     "text": [
      "Requirement already satisfied: catboost in /opt/conda/lib/python3.9/site-packages (1.0.3)\n",
      "Requirement already satisfied: scipy in /opt/conda/lib/python3.9/site-packages (from catboost) (1.9.1)\n",
      "Requirement already satisfied: pandas>=0.24.0 in /opt/conda/lib/python3.9/site-packages (from catboost) (1.2.4)\n",
      "Requirement already satisfied: matplotlib in /opt/conda/lib/python3.9/site-packages (from catboost) (3.3.4)\n",
      "Requirement already satisfied: plotly in /opt/conda/lib/python3.9/site-packages (from catboost) (5.4.0)\n",
      "Requirement already satisfied: six in /opt/conda/lib/python3.9/site-packages (from catboost) (1.16.0)\n",
      "Requirement already satisfied: graphviz in /opt/conda/lib/python3.9/site-packages (from catboost) (0.20.1)\n",
      "Requirement already satisfied: numpy>=1.16.0 in /opt/conda/lib/python3.9/site-packages (from catboost) (1.21.1)\n",
      "Requirement already satisfied: python-dateutil>=2.7.3 in /opt/conda/lib/python3.9/site-packages (from pandas>=0.24.0->catboost) (2.8.1)\n",
      "Requirement already satisfied: pytz>=2017.3 in /opt/conda/lib/python3.9/site-packages (from pandas>=0.24.0->catboost) (2021.1)\n",
      "Requirement already satisfied: kiwisolver>=1.0.1 in /opt/conda/lib/python3.9/site-packages (from matplotlib->catboost) (1.4.4)\n",
      "Requirement already satisfied: cycler>=0.10 in /opt/conda/lib/python3.9/site-packages (from matplotlib->catboost) (0.11.0)\n",
      "Requirement already satisfied: pillow>=6.2.0 in /opt/conda/lib/python3.9/site-packages (from matplotlib->catboost) (8.4.0)\n",
      "Requirement already satisfied: pyparsing!=2.0.4,!=2.1.2,!=2.1.6,>=2.0.3 in /opt/conda/lib/python3.9/site-packages (from matplotlib->catboost) (2.4.7)\n",
      "Requirement already satisfied: tenacity>=6.2.0 in /opt/conda/lib/python3.9/site-packages (from plotly->catboost) (8.0.1)\n"
     ]
    }
   ],
   "source": [
    "! pip install catboost"
   ]
  },
  {
   "cell_type": "code",
   "execution_count": 2,
   "metadata": {},
   "outputs": [],
   "source": [
    "import pandas as pd\n",
    "\n",
    "import numpy as np\n",
    "\n",
    "import matplotlib\n",
    "import matplotlib.pyplot as plt\n",
    "\n",
    "import seaborn as sns\n",
    "\n",
    "import sklearn\n",
    "from sklearn.preprocessing import StandardScaler\n",
    "from sklearn.linear_model import LinearRegression\n",
    "from sklearn.tree import DecisionTreeRegressor\n",
    "from sklearn.ensemble import RandomForestRegressor\n",
    "from sklearn.metrics import mean_absolute_error, make_scorer\n",
    "from sklearn.impute import KNNImputer\n",
    "from sklearn.model_selection import validation_curve, learning_curve, cross_val_score, GridSearchCV\n",
    "\n",
    "from catboost import CatBoostRegressor, cv, Pool\n",
    "\n",
    "import warnings"
   ]
  },
  {
   "cell_type": "code",
   "execution_count": 3,
   "metadata": {},
   "outputs": [],
   "source": [
    "warnings.filterwarnings(\"ignore\")"
   ]
  },
  {
   "cell_type": "markdown",
   "metadata": {},
   "source": [
    "### Откроем и изучим файлы"
   ]
  },
  {
   "cell_type": "code",
   "execution_count": 4,
   "metadata": {},
   "outputs": [],
   "source": [
    "train = pd.read_csv('/datasets/gold_recovery_train_new.csv')\n",
    "train.name = 'Обучающая выборка'\n",
    "test = pd.read_csv('/datasets/gold_recovery_test_new.csv')\n",
    "test.name = 'Тестовая выборка'\n",
    "full = pd.read_csv('/datasets/gold_recovery_full_new.csv')\n",
    "full.name = 'Исходные данные'\n",
    "\n",
    "datasets =[train, test, full]"
   ]
  },
  {
   "cell_type": "code",
   "execution_count": 5,
   "metadata": {},
   "outputs": [
    {
     "name": "stdout",
     "output_type": "stream",
     "text": [
      "Обучающая выборка | размер датасета (14149, 87)\n",
      "<class 'pandas.core.frame.DataFrame'>\n",
      "RangeIndex: 14149 entries, 0 to 14148\n",
      "Data columns (total 87 columns):\n",
      " #   Column                                              Non-Null Count  Dtype  \n",
      "---  ------                                              --------------  -----  \n",
      " 0   date                                                14149 non-null  object \n",
      " 1   final.output.concentrate_ag                         14148 non-null  float64\n",
      " 2   final.output.concentrate_pb                         14148 non-null  float64\n",
      " 3   final.output.concentrate_sol                        13938 non-null  float64\n",
      " 4   final.output.concentrate_au                         14149 non-null  float64\n",
      " 5   final.output.recovery                               14149 non-null  float64\n",
      " 6   final.output.tail_ag                                14149 non-null  float64\n",
      " 7   final.output.tail_pb                                14049 non-null  float64\n",
      " 8   final.output.tail_sol                               14144 non-null  float64\n",
      " 9   final.output.tail_au                                14149 non-null  float64\n",
      " 10  primary_cleaner.input.sulfate                       14129 non-null  float64\n",
      " 11  primary_cleaner.input.depressant                    14117 non-null  float64\n",
      " 12  primary_cleaner.input.feed_size                     14149 non-null  float64\n",
      " 13  primary_cleaner.input.xanthate                      14049 non-null  float64\n",
      " 14  primary_cleaner.output.concentrate_ag               14149 non-null  float64\n",
      " 15  primary_cleaner.output.concentrate_pb               14063 non-null  float64\n",
      " 16  primary_cleaner.output.concentrate_sol              13863 non-null  float64\n",
      " 17  primary_cleaner.output.concentrate_au               14149 non-null  float64\n",
      " 18  primary_cleaner.output.tail_ag                      14148 non-null  float64\n",
      " 19  primary_cleaner.output.tail_pb                      14134 non-null  float64\n",
      " 20  primary_cleaner.output.tail_sol                     14103 non-null  float64\n",
      " 21  primary_cleaner.output.tail_au                      14149 non-null  float64\n",
      " 22  primary_cleaner.state.floatbank8_a_air              14145 non-null  float64\n",
      " 23  primary_cleaner.state.floatbank8_a_level            14148 non-null  float64\n",
      " 24  primary_cleaner.state.floatbank8_b_air              14145 non-null  float64\n",
      " 25  primary_cleaner.state.floatbank8_b_level            14148 non-null  float64\n",
      " 26  primary_cleaner.state.floatbank8_c_air              14147 non-null  float64\n",
      " 27  primary_cleaner.state.floatbank8_c_level            14148 non-null  float64\n",
      " 28  primary_cleaner.state.floatbank8_d_air              14146 non-null  float64\n",
      " 29  primary_cleaner.state.floatbank8_d_level            14148 non-null  float64\n",
      " 30  rougher.calculation.sulfate_to_au_concentrate       14148 non-null  float64\n",
      " 31  rougher.calculation.floatbank10_sulfate_to_au_feed  14148 non-null  float64\n",
      " 32  rougher.calculation.floatbank11_sulfate_to_au_feed  14148 non-null  float64\n",
      " 33  rougher.calculation.au_pb_ratio                     14149 non-null  float64\n",
      " 34  rougher.input.feed_ag                               14149 non-null  float64\n",
      " 35  rougher.input.feed_pb                               14049 non-null  float64\n",
      " 36  rougher.input.feed_rate                             14141 non-null  float64\n",
      " 37  rougher.input.feed_size                             14005 non-null  float64\n",
      " 38  rougher.input.feed_sol                              14071 non-null  float64\n",
      " 39  rougher.input.feed_au                               14149 non-null  float64\n",
      " 40  rougher.input.floatbank10_sulfate                   14120 non-null  float64\n",
      " 41  rougher.input.floatbank10_xanthate                  14141 non-null  float64\n",
      " 42  rougher.input.floatbank11_sulfate                   14113 non-null  float64\n",
      " 43  rougher.input.floatbank11_xanthate                  13721 non-null  float64\n",
      " 44  rougher.output.concentrate_ag                       14149 non-null  float64\n",
      " 45  rougher.output.concentrate_pb                       14149 non-null  float64\n",
      " 46  rougher.output.concentrate_sol                      14127 non-null  float64\n",
      " 47  rougher.output.concentrate_au                       14149 non-null  float64\n",
      " 48  rougher.output.recovery                             14149 non-null  float64\n",
      " 49  rougher.output.tail_ag                              14148 non-null  float64\n",
      " 50  rougher.output.tail_pb                              14149 non-null  float64\n",
      " 51  rougher.output.tail_sol                             14149 non-null  float64\n",
      " 52  rougher.output.tail_au                              14149 non-null  float64\n",
      " 53  rougher.state.floatbank10_a_air                     14148 non-null  float64\n",
      " 54  rougher.state.floatbank10_a_level                   14148 non-null  float64\n",
      " 55  rougher.state.floatbank10_b_air                     14148 non-null  float64\n",
      " 56  rougher.state.floatbank10_b_level                   14148 non-null  float64\n",
      " 57  rougher.state.floatbank10_c_air                     14148 non-null  float64\n",
      " 58  rougher.state.floatbank10_c_level                   14148 non-null  float64\n",
      " 59  rougher.state.floatbank10_d_air                     14149 non-null  float64\n",
      " 60  rougher.state.floatbank10_d_level                   14149 non-null  float64\n",
      " 61  rougher.state.floatbank10_e_air                     13713 non-null  float64\n",
      " 62  rougher.state.floatbank10_e_level                   14149 non-null  float64\n",
      " 63  rougher.state.floatbank10_f_air                     14149 non-null  float64\n",
      " 64  rougher.state.floatbank10_f_level                   14149 non-null  float64\n",
      " 65  secondary_cleaner.output.tail_ag                    14147 non-null  float64\n",
      " 66  secondary_cleaner.output.tail_pb                    14139 non-null  float64\n",
      " 67  secondary_cleaner.output.tail_sol                   12544 non-null  float64\n",
      " 68  secondary_cleaner.output.tail_au                    14149 non-null  float64\n",
      " 69  secondary_cleaner.state.floatbank2_a_air            13932 non-null  float64\n",
      " 70  secondary_cleaner.state.floatbank2_a_level          14148 non-null  float64\n",
      " 71  secondary_cleaner.state.floatbank2_b_air            14128 non-null  float64\n",
      " 72  secondary_cleaner.state.floatbank2_b_level          14148 non-null  float64\n",
      " 73  secondary_cleaner.state.floatbank3_a_air            14145 non-null  float64\n",
      " 74  secondary_cleaner.state.floatbank3_a_level          14148 non-null  float64\n",
      " 75  secondary_cleaner.state.floatbank3_b_air            14148 non-null  float64\n",
      " 76  secondary_cleaner.state.floatbank3_b_level          14148 non-null  float64\n",
      " 77  secondary_cleaner.state.floatbank4_a_air            14143 non-null  float64\n",
      " 78  secondary_cleaner.state.floatbank4_a_level          14148 non-null  float64\n",
      " 79  secondary_cleaner.state.floatbank4_b_air            14148 non-null  float64\n",
      " 80  secondary_cleaner.state.floatbank4_b_level          14148 non-null  float64\n",
      " 81  secondary_cleaner.state.floatbank5_a_air            14148 non-null  float64\n",
      " 82  secondary_cleaner.state.floatbank5_a_level          14148 non-null  float64\n",
      " 83  secondary_cleaner.state.floatbank5_b_air            14148 non-null  float64\n",
      " 84  secondary_cleaner.state.floatbank5_b_level          14148 non-null  float64\n",
      " 85  secondary_cleaner.state.floatbank6_a_air            14147 non-null  float64\n",
      " 86  secondary_cleaner.state.floatbank6_a_level          14148 non-null  float64\n",
      "dtypes: float64(86), object(1)\n",
      "memory usage: 9.4+ MB\n",
      "Тестовая выборка | размер датасета (5290, 53)\n",
      "<class 'pandas.core.frame.DataFrame'>\n",
      "RangeIndex: 5290 entries, 0 to 5289\n",
      "Data columns (total 53 columns):\n",
      " #   Column                                      Non-Null Count  Dtype  \n",
      "---  ------                                      --------------  -----  \n",
      " 0   date                                        5290 non-null   object \n",
      " 1   primary_cleaner.input.sulfate               5286 non-null   float64\n",
      " 2   primary_cleaner.input.depressant            5285 non-null   float64\n",
      " 3   primary_cleaner.input.feed_size             5290 non-null   float64\n",
      " 4   primary_cleaner.input.xanthate              5286 non-null   float64\n",
      " 5   primary_cleaner.state.floatbank8_a_air      5290 non-null   float64\n",
      " 6   primary_cleaner.state.floatbank8_a_level    5290 non-null   float64\n",
      " 7   primary_cleaner.state.floatbank8_b_air      5290 non-null   float64\n",
      " 8   primary_cleaner.state.floatbank8_b_level    5290 non-null   float64\n",
      " 9   primary_cleaner.state.floatbank8_c_air      5290 non-null   float64\n",
      " 10  primary_cleaner.state.floatbank8_c_level    5290 non-null   float64\n",
      " 11  primary_cleaner.state.floatbank8_d_air      5290 non-null   float64\n",
      " 12  primary_cleaner.state.floatbank8_d_level    5290 non-null   float64\n",
      " 13  rougher.input.feed_ag                       5290 non-null   float64\n",
      " 14  rougher.input.feed_pb                       5290 non-null   float64\n",
      " 15  rougher.input.feed_rate                     5287 non-null   float64\n",
      " 16  rougher.input.feed_size                     5289 non-null   float64\n",
      " 17  rougher.input.feed_sol                      5269 non-null   float64\n",
      " 18  rougher.input.feed_au                       5290 non-null   float64\n",
      " 19  rougher.input.floatbank10_sulfate           5285 non-null   float64\n",
      " 20  rougher.input.floatbank10_xanthate          5290 non-null   float64\n",
      " 21  rougher.input.floatbank11_sulfate           5282 non-null   float64\n",
      " 22  rougher.input.floatbank11_xanthate          5265 non-null   float64\n",
      " 23  rougher.state.floatbank10_a_air             5290 non-null   float64\n",
      " 24  rougher.state.floatbank10_a_level           5290 non-null   float64\n",
      " 25  rougher.state.floatbank10_b_air             5290 non-null   float64\n",
      " 26  rougher.state.floatbank10_b_level           5290 non-null   float64\n",
      " 27  rougher.state.floatbank10_c_air             5290 non-null   float64\n",
      " 28  rougher.state.floatbank10_c_level           5290 non-null   float64\n",
      " 29  rougher.state.floatbank10_d_air             5290 non-null   float64\n",
      " 30  rougher.state.floatbank10_d_level           5290 non-null   float64\n",
      " 31  rougher.state.floatbank10_e_air             5290 non-null   float64\n",
      " 32  rougher.state.floatbank10_e_level           5290 non-null   float64\n",
      " 33  rougher.state.floatbank10_f_air             5290 non-null   float64\n",
      " 34  rougher.state.floatbank10_f_level           5290 non-null   float64\n",
      " 35  secondary_cleaner.state.floatbank2_a_air    5287 non-null   float64\n",
      " 36  secondary_cleaner.state.floatbank2_a_level  5290 non-null   float64\n",
      " 37  secondary_cleaner.state.floatbank2_b_air    5288 non-null   float64\n",
      " 38  secondary_cleaner.state.floatbank2_b_level  5290 non-null   float64\n",
      " 39  secondary_cleaner.state.floatbank3_a_air    5281 non-null   float64\n",
      " 40  secondary_cleaner.state.floatbank3_a_level  5290 non-null   float64\n",
      " 41  secondary_cleaner.state.floatbank3_b_air    5290 non-null   float64\n",
      " 42  secondary_cleaner.state.floatbank3_b_level  5290 non-null   float64\n",
      " 43  secondary_cleaner.state.floatbank4_a_air    5290 non-null   float64\n",
      " 44  secondary_cleaner.state.floatbank4_a_level  5290 non-null   float64\n",
      " 45  secondary_cleaner.state.floatbank4_b_air    5290 non-null   float64\n",
      " 46  secondary_cleaner.state.floatbank4_b_level  5290 non-null   float64\n",
      " 47  secondary_cleaner.state.floatbank5_a_air    5290 non-null   float64\n",
      " 48  secondary_cleaner.state.floatbank5_a_level  5290 non-null   float64\n",
      " 49  secondary_cleaner.state.floatbank5_b_air    5290 non-null   float64\n",
      " 50  secondary_cleaner.state.floatbank5_b_level  5290 non-null   float64\n",
      " 51  secondary_cleaner.state.floatbank6_a_air    5290 non-null   float64\n",
      " 52  secondary_cleaner.state.floatbank6_a_level  5290 non-null   float64\n",
      "dtypes: float64(52), object(1)\n",
      "memory usage: 2.1+ MB\n",
      "Исходные данные | размер датасета (19439, 87)\n",
      "<class 'pandas.core.frame.DataFrame'>\n",
      "RangeIndex: 19439 entries, 0 to 19438\n",
      "Data columns (total 87 columns):\n",
      " #   Column                                              Non-Null Count  Dtype  \n",
      "---  ------                                              --------------  -----  \n",
      " 0   date                                                19439 non-null  object \n",
      " 1   final.output.concentrate_ag                         19438 non-null  float64\n",
      " 2   final.output.concentrate_pb                         19438 non-null  float64\n",
      " 3   final.output.concentrate_sol                        19228 non-null  float64\n",
      " 4   final.output.concentrate_au                         19439 non-null  float64\n",
      " 5   final.output.recovery                               19439 non-null  float64\n",
      " 6   final.output.tail_ag                                19438 non-null  float64\n",
      " 7   final.output.tail_pb                                19338 non-null  float64\n",
      " 8   final.output.tail_sol                               19433 non-null  float64\n",
      " 9   final.output.tail_au                                19439 non-null  float64\n",
      " 10  primary_cleaner.input.sulfate                       19415 non-null  float64\n",
      " 11  primary_cleaner.input.depressant                    19402 non-null  float64\n",
      " 12  primary_cleaner.input.feed_size                     19439 non-null  float64\n",
      " 13  primary_cleaner.input.xanthate                      19335 non-null  float64\n",
      " 14  primary_cleaner.output.concentrate_ag               19439 non-null  float64\n",
      " 15  primary_cleaner.output.concentrate_pb               19323 non-null  float64\n",
      " 16  primary_cleaner.output.concentrate_sol              19069 non-null  float64\n",
      " 17  primary_cleaner.output.concentrate_au               19439 non-null  float64\n",
      " 18  primary_cleaner.output.tail_ag                      19435 non-null  float64\n",
      " 19  primary_cleaner.output.tail_pb                      19418 non-null  float64\n",
      " 20  primary_cleaner.output.tail_sol                     19377 non-null  float64\n",
      " 21  primary_cleaner.output.tail_au                      19439 non-null  float64\n",
      " 22  primary_cleaner.state.floatbank8_a_air              19435 non-null  float64\n",
      " 23  primary_cleaner.state.floatbank8_a_level            19438 non-null  float64\n",
      " 24  primary_cleaner.state.floatbank8_b_air              19435 non-null  float64\n",
      " 25  primary_cleaner.state.floatbank8_b_level            19438 non-null  float64\n",
      " 26  primary_cleaner.state.floatbank8_c_air              19437 non-null  float64\n",
      " 27  primary_cleaner.state.floatbank8_c_level            19438 non-null  float64\n",
      " 28  primary_cleaner.state.floatbank8_d_air              19436 non-null  float64\n",
      " 29  primary_cleaner.state.floatbank8_d_level            19438 non-null  float64\n",
      " 30  rougher.calculation.sulfate_to_au_concentrate       19437 non-null  float64\n",
      " 31  rougher.calculation.floatbank10_sulfate_to_au_feed  19437 non-null  float64\n",
      " 32  rougher.calculation.floatbank11_sulfate_to_au_feed  19437 non-null  float64\n",
      " 33  rougher.calculation.au_pb_ratio                     19439 non-null  float64\n",
      " 34  rougher.input.feed_ag                               19439 non-null  float64\n",
      " 35  rougher.input.feed_pb                               19339 non-null  float64\n",
      " 36  rougher.input.feed_rate                             19428 non-null  float64\n",
      " 37  rougher.input.feed_size                             19294 non-null  float64\n",
      " 38  rougher.input.feed_sol                              19340 non-null  float64\n",
      " 39  rougher.input.feed_au                               19439 non-null  float64\n",
      " 40  rougher.input.floatbank10_sulfate                   19405 non-null  float64\n",
      " 41  rougher.input.floatbank10_xanthate                  19431 non-null  float64\n",
      " 42  rougher.input.floatbank11_sulfate                   19395 non-null  float64\n",
      " 43  rougher.input.floatbank11_xanthate                  18986 non-null  float64\n",
      " 44  rougher.output.concentrate_ag                       19439 non-null  float64\n",
      " 45  rougher.output.concentrate_pb                       19439 non-null  float64\n",
      " 46  rougher.output.concentrate_sol                      19416 non-null  float64\n",
      " 47  rougher.output.concentrate_au                       19439 non-null  float64\n",
      " 48  rougher.output.recovery                             19439 non-null  float64\n",
      " 49  rougher.output.tail_ag                              19438 non-null  float64\n",
      " 50  rougher.output.tail_pb                              19439 non-null  float64\n",
      " 51  rougher.output.tail_sol                             19439 non-null  float64\n",
      " 52  rougher.output.tail_au                              19439 non-null  float64\n",
      " 53  rougher.state.floatbank10_a_air                     19438 non-null  float64\n",
      " 54  rougher.state.floatbank10_a_level                   19438 non-null  float64\n",
      " 55  rougher.state.floatbank10_b_air                     19438 non-null  float64\n",
      " 56  rougher.state.floatbank10_b_level                   19438 non-null  float64\n",
      " 57  rougher.state.floatbank10_c_air                     19438 non-null  float64\n",
      " 58  rougher.state.floatbank10_c_level                   19438 non-null  float64\n",
      " 59  rougher.state.floatbank10_d_air                     19439 non-null  float64\n",
      " 60  rougher.state.floatbank10_d_level                   19439 non-null  float64\n",
      " 61  rougher.state.floatbank10_e_air                     19003 non-null  float64\n",
      " 62  rougher.state.floatbank10_e_level                   19439 non-null  float64\n",
      " 63  rougher.state.floatbank10_f_air                     19439 non-null  float64\n",
      " 64  rougher.state.floatbank10_f_level                   19439 non-null  float64\n",
      " 65  secondary_cleaner.output.tail_ag                    19437 non-null  float64\n",
      " 66  secondary_cleaner.output.tail_pb                    19427 non-null  float64\n",
      " 67  secondary_cleaner.output.tail_sol                   17691 non-null  float64\n",
      " 68  secondary_cleaner.output.tail_au                    19439 non-null  float64\n",
      " 69  secondary_cleaner.state.floatbank2_a_air            19219 non-null  float64\n",
      " 70  secondary_cleaner.state.floatbank2_a_level          19438 non-null  float64\n",
      " 71  secondary_cleaner.state.floatbank2_b_air            19416 non-null  float64\n",
      " 72  secondary_cleaner.state.floatbank2_b_level          19438 non-null  float64\n",
      " 73  secondary_cleaner.state.floatbank3_a_air            19426 non-null  float64\n",
      " 74  secondary_cleaner.state.floatbank3_a_level          19438 non-null  float64\n",
      " 75  secondary_cleaner.state.floatbank3_b_air            19438 non-null  float64\n",
      " 76  secondary_cleaner.state.floatbank3_b_level          19438 non-null  float64\n",
      " 77  secondary_cleaner.state.floatbank4_a_air            19433 non-null  float64\n",
      " 78  secondary_cleaner.state.floatbank4_a_level          19438 non-null  float64\n",
      " 79  secondary_cleaner.state.floatbank4_b_air            19438 non-null  float64\n",
      " 80  secondary_cleaner.state.floatbank4_b_level          19438 non-null  float64\n",
      " 81  secondary_cleaner.state.floatbank5_a_air            19438 non-null  float64\n",
      " 82  secondary_cleaner.state.floatbank5_a_level          19438 non-null  float64\n",
      " 83  secondary_cleaner.state.floatbank5_b_air            19438 non-null  float64\n",
      " 84  secondary_cleaner.state.floatbank5_b_level          19438 non-null  float64\n",
      " 85  secondary_cleaner.state.floatbank6_a_air            19437 non-null  float64\n",
      " 86  secondary_cleaner.state.floatbank6_a_level          19438 non-null  float64\n",
      "dtypes: float64(86), object(1)\n",
      "memory usage: 12.9+ MB\n"
     ]
    }
   ],
   "source": [
    "for ds in datasets:\n",
    "    print(f'{ds.name} | размер датасета {ds.shape}')\n",
    "    ds.info()"
   ]
  },
  {
   "cell_type": "markdown",
   "metadata": {},
   "source": [
    "Все признаки имеют числовые значения, за исключением индексирующего признака `data`, внушительное количество признаков (87) в обучающей выборке. Количество признаков в тестовой выборке значитьльно меньше (53), вероятно они являются результатами работ на стадиях процесса."
   ]
  },
  {
   "cell_type": "code",
   "execution_count": 6,
   "metadata": {},
   "outputs": [],
   "source": [
    "def get_missing_values(df):\n",
    "    #Возвращает таблицу с количеством и долей пропусков в датафрейме\n",
    "\n",
    "    data = (\n",
    "        df.isna()\n",
    "        .sum()\n",
    "        .rename(\"missing_count\")\n",
    "        .to_frame()\n",
    "        .join(df.isna().mean().rename(\"missing_ratio\").to_frame())\n",
    "        .sort_values(by=\"missing_count\", ascending=False)\n",
    "        # Удаляем данные о столбцах, где количество пропусков равняется 0\n",
    "        .loc[lambda x: x[\"missing_count\"] > 0]\n",
    "    )\n",
    "    return data"
   ]
  },
  {
   "cell_type": "code",
   "execution_count": 7,
   "metadata": {},
   "outputs": [
    {
     "name": "stdout",
     "output_type": "stream",
     "text": [
      "------- Обучающая выборка -------\n",
      "Количество пропусков:\n"
     ]
    },
    {
     "data": {
      "text/html": [
       "<div>\n",
       "<style scoped>\n",
       "    .dataframe tbody tr th:only-of-type {\n",
       "        vertical-align: middle;\n",
       "    }\n",
       "\n",
       "    .dataframe tbody tr th {\n",
       "        vertical-align: top;\n",
       "    }\n",
       "\n",
       "    .dataframe thead th {\n",
       "        text-align: right;\n",
       "    }\n",
       "</style>\n",
       "<table border=\"1\" class=\"dataframe\">\n",
       "  <thead>\n",
       "    <tr style=\"text-align: right;\">\n",
       "      <th></th>\n",
       "      <th>missing_count</th>\n",
       "      <th>missing_ratio</th>\n",
       "    </tr>\n",
       "  </thead>\n",
       "  <tbody>\n",
       "    <tr>\n",
       "      <th>secondary_cleaner.output.tail_sol</th>\n",
       "      <td>1605</td>\n",
       "      <td>0.113436</td>\n",
       "    </tr>\n",
       "    <tr>\n",
       "      <th>rougher.state.floatbank10_e_air</th>\n",
       "      <td>436</td>\n",
       "      <td>0.030815</td>\n",
       "    </tr>\n",
       "    <tr>\n",
       "      <th>rougher.input.floatbank11_xanthate</th>\n",
       "      <td>428</td>\n",
       "      <td>0.030249</td>\n",
       "    </tr>\n",
       "    <tr>\n",
       "      <th>primary_cleaner.output.concentrate_sol</th>\n",
       "      <td>286</td>\n",
       "      <td>0.020213</td>\n",
       "    </tr>\n",
       "    <tr>\n",
       "      <th>secondary_cleaner.state.floatbank2_a_air</th>\n",
       "      <td>217</td>\n",
       "      <td>0.015337</td>\n",
       "    </tr>\n",
       "    <tr>\n",
       "      <th>...</th>\n",
       "      <td>...</td>\n",
       "      <td>...</td>\n",
       "    </tr>\n",
       "    <tr>\n",
       "      <th>primary_cleaner.output.tail_ag</th>\n",
       "      <td>1</td>\n",
       "      <td>0.000071</td>\n",
       "    </tr>\n",
       "    <tr>\n",
       "      <th>final.output.concentrate_ag</th>\n",
       "      <td>1</td>\n",
       "      <td>0.000071</td>\n",
       "    </tr>\n",
       "    <tr>\n",
       "      <th>rougher.calculation.sulfate_to_au_concentrate</th>\n",
       "      <td>1</td>\n",
       "      <td>0.000071</td>\n",
       "    </tr>\n",
       "    <tr>\n",
       "      <th>rougher.output.tail_ag</th>\n",
       "      <td>1</td>\n",
       "      <td>0.000071</td>\n",
       "    </tr>\n",
       "    <tr>\n",
       "      <th>final.output.concentrate_pb</th>\n",
       "      <td>1</td>\n",
       "      <td>0.000071</td>\n",
       "    </tr>\n",
       "  </tbody>\n",
       "</table>\n",
       "<p>62 rows × 2 columns</p>\n",
       "</div>"
      ],
      "text/plain": [
       "                                               missing_count  missing_ratio\n",
       "secondary_cleaner.output.tail_sol                       1605       0.113436\n",
       "rougher.state.floatbank10_e_air                          436       0.030815\n",
       "rougher.input.floatbank11_xanthate                       428       0.030249\n",
       "primary_cleaner.output.concentrate_sol                   286       0.020213\n",
       "secondary_cleaner.state.floatbank2_a_air                 217       0.015337\n",
       "...                                                      ...            ...\n",
       "primary_cleaner.output.tail_ag                             1       0.000071\n",
       "final.output.concentrate_ag                                1       0.000071\n",
       "rougher.calculation.sulfate_to_au_concentrate              1       0.000071\n",
       "rougher.output.tail_ag                                     1       0.000071\n",
       "final.output.concentrate_pb                                1       0.000071\n",
       "\n",
       "[62 rows x 2 columns]"
      ]
     },
     "metadata": {},
     "output_type": "display_data"
    },
    {
     "name": "stdout",
     "output_type": "stream",
     "text": [
      "------- Тестовая выборка -------\n",
      "Количество пропусков:\n"
     ]
    },
    {
     "data": {
      "text/html": [
       "<div>\n",
       "<style scoped>\n",
       "    .dataframe tbody tr th:only-of-type {\n",
       "        vertical-align: middle;\n",
       "    }\n",
       "\n",
       "    .dataframe tbody tr th {\n",
       "        vertical-align: top;\n",
       "    }\n",
       "\n",
       "    .dataframe thead th {\n",
       "        text-align: right;\n",
       "    }\n",
       "</style>\n",
       "<table border=\"1\" class=\"dataframe\">\n",
       "  <thead>\n",
       "    <tr style=\"text-align: right;\">\n",
       "      <th></th>\n",
       "      <th>missing_count</th>\n",
       "      <th>missing_ratio</th>\n",
       "    </tr>\n",
       "  </thead>\n",
       "  <tbody>\n",
       "    <tr>\n",
       "      <th>rougher.input.floatbank11_xanthate</th>\n",
       "      <td>25</td>\n",
       "      <td>0.004726</td>\n",
       "    </tr>\n",
       "    <tr>\n",
       "      <th>rougher.input.feed_sol</th>\n",
       "      <td>21</td>\n",
       "      <td>0.003970</td>\n",
       "    </tr>\n",
       "    <tr>\n",
       "      <th>secondary_cleaner.state.floatbank3_a_air</th>\n",
       "      <td>9</td>\n",
       "      <td>0.001701</td>\n",
       "    </tr>\n",
       "    <tr>\n",
       "      <th>rougher.input.floatbank11_sulfate</th>\n",
       "      <td>8</td>\n",
       "      <td>0.001512</td>\n",
       "    </tr>\n",
       "    <tr>\n",
       "      <th>primary_cleaner.input.depressant</th>\n",
       "      <td>5</td>\n",
       "      <td>0.000945</td>\n",
       "    </tr>\n",
       "    <tr>\n",
       "      <th>rougher.input.floatbank10_sulfate</th>\n",
       "      <td>5</td>\n",
       "      <td>0.000945</td>\n",
       "    </tr>\n",
       "    <tr>\n",
       "      <th>primary_cleaner.input.xanthate</th>\n",
       "      <td>4</td>\n",
       "      <td>0.000756</td>\n",
       "    </tr>\n",
       "    <tr>\n",
       "      <th>primary_cleaner.input.sulfate</th>\n",
       "      <td>4</td>\n",
       "      <td>0.000756</td>\n",
       "    </tr>\n",
       "    <tr>\n",
       "      <th>rougher.input.feed_rate</th>\n",
       "      <td>3</td>\n",
       "      <td>0.000567</td>\n",
       "    </tr>\n",
       "    <tr>\n",
       "      <th>secondary_cleaner.state.floatbank2_a_air</th>\n",
       "      <td>3</td>\n",
       "      <td>0.000567</td>\n",
       "    </tr>\n",
       "    <tr>\n",
       "      <th>secondary_cleaner.state.floatbank2_b_air</th>\n",
       "      <td>2</td>\n",
       "      <td>0.000378</td>\n",
       "    </tr>\n",
       "    <tr>\n",
       "      <th>rougher.input.feed_size</th>\n",
       "      <td>1</td>\n",
       "      <td>0.000189</td>\n",
       "    </tr>\n",
       "  </tbody>\n",
       "</table>\n",
       "</div>"
      ],
      "text/plain": [
       "                                          missing_count  missing_ratio\n",
       "rougher.input.floatbank11_xanthate                   25       0.004726\n",
       "rougher.input.feed_sol                               21       0.003970\n",
       "secondary_cleaner.state.floatbank3_a_air              9       0.001701\n",
       "rougher.input.floatbank11_sulfate                     8       0.001512\n",
       "primary_cleaner.input.depressant                      5       0.000945\n",
       "rougher.input.floatbank10_sulfate                     5       0.000945\n",
       "primary_cleaner.input.xanthate                        4       0.000756\n",
       "primary_cleaner.input.sulfate                         4       0.000756\n",
       "rougher.input.feed_rate                               3       0.000567\n",
       "secondary_cleaner.state.floatbank2_a_air              3       0.000567\n",
       "secondary_cleaner.state.floatbank2_b_air              2       0.000378\n",
       "rougher.input.feed_size                               1       0.000189"
      ]
     },
     "metadata": {},
     "output_type": "display_data"
    },
    {
     "name": "stdout",
     "output_type": "stream",
     "text": [
      "------- Исходные данные -------\n",
      "Количество пропусков:\n"
     ]
    },
    {
     "data": {
      "text/html": [
       "<div>\n",
       "<style scoped>\n",
       "    .dataframe tbody tr th:only-of-type {\n",
       "        vertical-align: middle;\n",
       "    }\n",
       "\n",
       "    .dataframe tbody tr th {\n",
       "        vertical-align: top;\n",
       "    }\n",
       "\n",
       "    .dataframe thead th {\n",
       "        text-align: right;\n",
       "    }\n",
       "</style>\n",
       "<table border=\"1\" class=\"dataframe\">\n",
       "  <thead>\n",
       "    <tr style=\"text-align: right;\">\n",
       "      <th></th>\n",
       "      <th>missing_count</th>\n",
       "      <th>missing_ratio</th>\n",
       "    </tr>\n",
       "  </thead>\n",
       "  <tbody>\n",
       "    <tr>\n",
       "      <th>secondary_cleaner.output.tail_sol</th>\n",
       "      <td>1748</td>\n",
       "      <td>0.089922</td>\n",
       "    </tr>\n",
       "    <tr>\n",
       "      <th>rougher.input.floatbank11_xanthate</th>\n",
       "      <td>453</td>\n",
       "      <td>0.023304</td>\n",
       "    </tr>\n",
       "    <tr>\n",
       "      <th>rougher.state.floatbank10_e_air</th>\n",
       "      <td>436</td>\n",
       "      <td>0.022429</td>\n",
       "    </tr>\n",
       "    <tr>\n",
       "      <th>primary_cleaner.output.concentrate_sol</th>\n",
       "      <td>370</td>\n",
       "      <td>0.019034</td>\n",
       "    </tr>\n",
       "    <tr>\n",
       "      <th>secondary_cleaner.state.floatbank2_a_air</th>\n",
       "      <td>220</td>\n",
       "      <td>0.011317</td>\n",
       "    </tr>\n",
       "    <tr>\n",
       "      <th>...</th>\n",
       "      <td>...</td>\n",
       "      <td>...</td>\n",
       "    </tr>\n",
       "    <tr>\n",
       "      <th>primary_cleaner.state.floatbank8_b_level</th>\n",
       "      <td>1</td>\n",
       "      <td>0.000051</td>\n",
       "    </tr>\n",
       "    <tr>\n",
       "      <th>primary_cleaner.state.floatbank8_a_level</th>\n",
       "      <td>1</td>\n",
       "      <td>0.000051</td>\n",
       "    </tr>\n",
       "    <tr>\n",
       "      <th>primary_cleaner.state.floatbank8_d_level</th>\n",
       "      <td>1</td>\n",
       "      <td>0.000051</td>\n",
       "    </tr>\n",
       "    <tr>\n",
       "      <th>rougher.output.tail_ag</th>\n",
       "      <td>1</td>\n",
       "      <td>0.000051</td>\n",
       "    </tr>\n",
       "    <tr>\n",
       "      <th>final.output.concentrate_pb</th>\n",
       "      <td>1</td>\n",
       "      <td>0.000051</td>\n",
       "    </tr>\n",
       "  </tbody>\n",
       "</table>\n",
       "<p>63 rows × 2 columns</p>\n",
       "</div>"
      ],
      "text/plain": [
       "                                          missing_count  missing_ratio\n",
       "secondary_cleaner.output.tail_sol                  1748       0.089922\n",
       "rougher.input.floatbank11_xanthate                  453       0.023304\n",
       "rougher.state.floatbank10_e_air                     436       0.022429\n",
       "primary_cleaner.output.concentrate_sol              370       0.019034\n",
       "secondary_cleaner.state.floatbank2_a_air            220       0.011317\n",
       "...                                                 ...            ...\n",
       "primary_cleaner.state.floatbank8_b_level              1       0.000051\n",
       "primary_cleaner.state.floatbank8_a_level              1       0.000051\n",
       "primary_cleaner.state.floatbank8_d_level              1       0.000051\n",
       "rougher.output.tail_ag                                1       0.000051\n",
       "final.output.concentrate_pb                           1       0.000051\n",
       "\n",
       "[63 rows x 2 columns]"
      ]
     },
     "metadata": {},
     "output_type": "display_data"
    }
   ],
   "source": [
    "for ds in datasets:\n",
    "    print(f'------- {ds.name} -------')\n",
    "    print(\"Количество пропусков:\")\n",
    "    display(get_missing_values(ds))"
   ]
  },
  {
   "cell_type": "code",
   "execution_count": 8,
   "metadata": {},
   "outputs": [
    {
     "name": "stdout",
     "output_type": "stream",
     "text": [
      "0\n",
      "0\n",
      "0\n"
     ]
    }
   ],
   "source": [
    "print(train.duplicated().sum())\n",
    "print(test.duplicated().sum())\n",
    "print(full.duplicated().sum())"
   ]
  },
  {
   "cell_type": "markdown",
   "metadata": {},
   "source": [
    "Полные дубликаты отсутствуют."
   ]
  },
  {
   "cell_type": "markdown",
   "metadata": {},
   "source": [
    "Тренировочный датасет имеет пропуски:\n",
    "- `secondary_cleaner.output.tail_sol` 11% \n",
    "- `rougher.state.floatbank10_e_air` и `rougher.input.floatbank11_xanthate` около 3%\n",
    "- `primary_cleaner.output.concentrate_sol`, `secondary_cleaner.state.floatbank2_a_air` и `final.output.concentrate_sol`около 2%\n",
    "- ряд признаков около 1%\n",
    "- тестовые данные имеют пропуски менее 1%"
   ]
  },
  {
   "cell_type": "markdown",
   "metadata": {},
   "source": [
    "### Корректность расчёта обогащения"
   ]
  },
  {
   "cell_type": "code",
   "execution_count": 9,
   "metadata": {},
   "outputs": [
    {
     "name": "stdout",
     "output_type": "stream",
     "text": [
      "MAE этапа \"rougher.ouput.recovery\" = 9.73512347450521e-15\n"
     ]
    }
   ],
   "source": [
    "C = train['rougher.output.concentrate_au'] # доля золота в концентрате после флотации/очистки\n",
    "F = train['rougher.input.feed_au'] # доля золота в сырье/концентрате до флотации/очистки;\n",
    "T = train['rougher.output.tail_au'] # доля золота в отвальных хвостах после флотации/очистки\n",
    "\n",
    "train['rougher.output.recovery_calculated'] = C * (F - T) / (F * (C - T)) * 100\n",
    "\n",
    "mae_t = mean_absolute_error(train['rougher.output.recovery'], train['rougher.output.recovery_calculated'])\n",
    "\n",
    "print(f'MAE этапа \"rougher.ouput.recovery\" = {mae_t}')"
   ]
  },
  {
   "cell_type": "markdown",
   "metadata": {},
   "source": [
    "Ошибка имеет крайне низкий порядок, эффективность обогащения рассчитана правильно."
   ]
  },
  {
   "cell_type": "markdown",
   "metadata": {},
   "source": [
    "### Доступность признаков в тестовой выборке"
   ]
  },
  {
   "cell_type": "code",
   "execution_count": 10,
   "metadata": {},
   "outputs": [],
   "source": [
    "# cols_diff = []\n",
    "# for col in train.columns:\n",
    "#     if col not in test.columns.values:\n",
    "#         print(col)\n",
    "#         cols_diff.append(col)\n",
    "        "
   ]
  },
  {
   "cell_type": "code",
   "execution_count": 11,
   "metadata": {},
   "outputs": [
    {
     "data": {
      "text/plain": [
       "Index(['final.output.concentrate_ag', 'final.output.concentrate_au',\n",
       "       'final.output.concentrate_pb', 'final.output.concentrate_sol',\n",
       "       'final.output.recovery', 'final.output.tail_ag', 'final.output.tail_au',\n",
       "       'final.output.tail_pb', 'final.output.tail_sol',\n",
       "       'primary_cleaner.output.concentrate_ag',\n",
       "       'primary_cleaner.output.concentrate_au',\n",
       "       'primary_cleaner.output.concentrate_pb',\n",
       "       'primary_cleaner.output.concentrate_sol',\n",
       "       'primary_cleaner.output.tail_ag', 'primary_cleaner.output.tail_au',\n",
       "       'primary_cleaner.output.tail_pb', 'primary_cleaner.output.tail_sol',\n",
       "       'rougher.calculation.au_pb_ratio',\n",
       "       'rougher.calculation.floatbank10_sulfate_to_au_feed',\n",
       "       'rougher.calculation.floatbank11_sulfate_to_au_feed',\n",
       "       'rougher.calculation.sulfate_to_au_concentrate',\n",
       "       'rougher.output.concentrate_ag', 'rougher.output.concentrate_au',\n",
       "       'rougher.output.concentrate_pb', 'rougher.output.concentrate_sol',\n",
       "       'rougher.output.recovery', 'rougher.output.recovery_calculated',\n",
       "       'rougher.output.tail_ag', 'rougher.output.tail_au',\n",
       "       'rougher.output.tail_pb', 'rougher.output.tail_sol',\n",
       "       'secondary_cleaner.output.tail_ag', 'secondary_cleaner.output.tail_au',\n",
       "       'secondary_cleaner.output.tail_pb',\n",
       "       'secondary_cleaner.output.tail_sol'],\n",
       "      dtype='object')"
      ]
     },
     "execution_count": 11,
     "metadata": {},
     "output_type": "execute_result"
    }
   ],
   "source": [
    "train.columns.difference(test.columns)"
   ]
  },
  {
   "cell_type": "markdown",
   "metadata": {},
   "source": [
    "В тестовом датасете отсутствуют данные:\n",
    "- фактические финальные концентрации ag, pb, sol, au;\n",
    "- фактические финальные концентрации ag, pb, sol, au отвальных хвостов;\n",
    "- фактические концетрации ag, pb, sol, au в результате первичной очистки (включая отвальные хвосты);\n",
    "- фактические концентрации ag, pb, sol, au в результате вторичной очистки;\n",
    "- фактические концентрации ag, pb, sol, au в результате флотации (включая отвальыне хвосты);\n",
    "- несколько расчётных характеристик процесса флотации.\n",
    "\n",
    "Большинство отсутствующих характеристик относятся к output'ам, вероятно они отсутствуют в тестовом датасете для того, чтобы модель не \"подглядывала\" при осуществлении предикта на фактические результаты работы на стадиях очистки."
   ]
  },
  {
   "cell_type": "markdown",
   "metadata": {},
   "source": [
    "### Предобработка данных"
   ]
  },
  {
   "cell_type": "code",
   "execution_count": 12,
   "metadata": {},
   "outputs": [],
   "source": [
    "train = train.set_index('date')\n",
    "test = test.set_index('date')\n",
    "full = full.set_index('date')"
   ]
  },
  {
   "cell_type": "code",
   "execution_count": 13,
   "metadata": {},
   "outputs": [
    {
     "name": "stdout",
     "output_type": "stream",
     "text": [
      "<class 'pandas.core.frame.DataFrame'>\n",
      "Index: 14149 entries, 2016-01-15 00:00:00 to 2018-08-18 10:59:59\n",
      "Data columns (total 87 columns):\n",
      " #   Column                                              Non-Null Count  Dtype  \n",
      "---  ------                                              --------------  -----  \n",
      " 0   final.output.concentrate_ag                         14148 non-null  float64\n",
      " 1   final.output.concentrate_pb                         14148 non-null  float64\n",
      " 2   final.output.concentrate_sol                        13938 non-null  float64\n",
      " 3   final.output.concentrate_au                         14149 non-null  float64\n",
      " 4   final.output.recovery                               14149 non-null  float64\n",
      " 5   final.output.tail_ag                                14149 non-null  float64\n",
      " 6   final.output.tail_pb                                14049 non-null  float64\n",
      " 7   final.output.tail_sol                               14144 non-null  float64\n",
      " 8   final.output.tail_au                                14149 non-null  float64\n",
      " 9   primary_cleaner.input.sulfate                       14129 non-null  float64\n",
      " 10  primary_cleaner.input.depressant                    14117 non-null  float64\n",
      " 11  primary_cleaner.input.feed_size                     14149 non-null  float64\n",
      " 12  primary_cleaner.input.xanthate                      14049 non-null  float64\n",
      " 13  primary_cleaner.output.concentrate_ag               14149 non-null  float64\n",
      " 14  primary_cleaner.output.concentrate_pb               14063 non-null  float64\n",
      " 15  primary_cleaner.output.concentrate_sol              13863 non-null  float64\n",
      " 16  primary_cleaner.output.concentrate_au               14149 non-null  float64\n",
      " 17  primary_cleaner.output.tail_ag                      14148 non-null  float64\n",
      " 18  primary_cleaner.output.tail_pb                      14134 non-null  float64\n",
      " 19  primary_cleaner.output.tail_sol                     14103 non-null  float64\n",
      " 20  primary_cleaner.output.tail_au                      14149 non-null  float64\n",
      " 21  primary_cleaner.state.floatbank8_a_air              14145 non-null  float64\n",
      " 22  primary_cleaner.state.floatbank8_a_level            14148 non-null  float64\n",
      " 23  primary_cleaner.state.floatbank8_b_air              14145 non-null  float64\n",
      " 24  primary_cleaner.state.floatbank8_b_level            14148 non-null  float64\n",
      " 25  primary_cleaner.state.floatbank8_c_air              14147 non-null  float64\n",
      " 26  primary_cleaner.state.floatbank8_c_level            14148 non-null  float64\n",
      " 27  primary_cleaner.state.floatbank8_d_air              14146 non-null  float64\n",
      " 28  primary_cleaner.state.floatbank8_d_level            14148 non-null  float64\n",
      " 29  rougher.calculation.sulfate_to_au_concentrate       14148 non-null  float64\n",
      " 30  rougher.calculation.floatbank10_sulfate_to_au_feed  14148 non-null  float64\n",
      " 31  rougher.calculation.floatbank11_sulfate_to_au_feed  14148 non-null  float64\n",
      " 32  rougher.calculation.au_pb_ratio                     14149 non-null  float64\n",
      " 33  rougher.input.feed_ag                               14149 non-null  float64\n",
      " 34  rougher.input.feed_pb                               14049 non-null  float64\n",
      " 35  rougher.input.feed_rate                             14141 non-null  float64\n",
      " 36  rougher.input.feed_size                             14005 non-null  float64\n",
      " 37  rougher.input.feed_sol                              14071 non-null  float64\n",
      " 38  rougher.input.feed_au                               14149 non-null  float64\n",
      " 39  rougher.input.floatbank10_sulfate                   14120 non-null  float64\n",
      " 40  rougher.input.floatbank10_xanthate                  14141 non-null  float64\n",
      " 41  rougher.input.floatbank11_sulfate                   14113 non-null  float64\n",
      " 42  rougher.input.floatbank11_xanthate                  13721 non-null  float64\n",
      " 43  rougher.output.concentrate_ag                       14149 non-null  float64\n",
      " 44  rougher.output.concentrate_pb                       14149 non-null  float64\n",
      " 45  rougher.output.concentrate_sol                      14127 non-null  float64\n",
      " 46  rougher.output.concentrate_au                       14149 non-null  float64\n",
      " 47  rougher.output.recovery                             14149 non-null  float64\n",
      " 48  rougher.output.tail_ag                              14148 non-null  float64\n",
      " 49  rougher.output.tail_pb                              14149 non-null  float64\n",
      " 50  rougher.output.tail_sol                             14149 non-null  float64\n",
      " 51  rougher.output.tail_au                              14149 non-null  float64\n",
      " 52  rougher.state.floatbank10_a_air                     14148 non-null  float64\n",
      " 53  rougher.state.floatbank10_a_level                   14148 non-null  float64\n",
      " 54  rougher.state.floatbank10_b_air                     14148 non-null  float64\n",
      " 55  rougher.state.floatbank10_b_level                   14148 non-null  float64\n",
      " 56  rougher.state.floatbank10_c_air                     14148 non-null  float64\n",
      " 57  rougher.state.floatbank10_c_level                   14148 non-null  float64\n",
      " 58  rougher.state.floatbank10_d_air                     14149 non-null  float64\n",
      " 59  rougher.state.floatbank10_d_level                   14149 non-null  float64\n",
      " 60  rougher.state.floatbank10_e_air                     13713 non-null  float64\n",
      " 61  rougher.state.floatbank10_e_level                   14149 non-null  float64\n",
      " 62  rougher.state.floatbank10_f_air                     14149 non-null  float64\n",
      " 63  rougher.state.floatbank10_f_level                   14149 non-null  float64\n",
      " 64  secondary_cleaner.output.tail_ag                    14147 non-null  float64\n",
      " 65  secondary_cleaner.output.tail_pb                    14139 non-null  float64\n",
      " 66  secondary_cleaner.output.tail_sol                   12544 non-null  float64\n",
      " 67  secondary_cleaner.output.tail_au                    14149 non-null  float64\n",
      " 68  secondary_cleaner.state.floatbank2_a_air            13932 non-null  float64\n",
      " 69  secondary_cleaner.state.floatbank2_a_level          14148 non-null  float64\n",
      " 70  secondary_cleaner.state.floatbank2_b_air            14128 non-null  float64\n",
      " 71  secondary_cleaner.state.floatbank2_b_level          14148 non-null  float64\n",
      " 72  secondary_cleaner.state.floatbank3_a_air            14145 non-null  float64\n",
      " 73  secondary_cleaner.state.floatbank3_a_level          14148 non-null  float64\n",
      " 74  secondary_cleaner.state.floatbank3_b_air            14148 non-null  float64\n",
      " 75  secondary_cleaner.state.floatbank3_b_level          14148 non-null  float64\n",
      " 76  secondary_cleaner.state.floatbank4_a_air            14143 non-null  float64\n",
      " 77  secondary_cleaner.state.floatbank4_a_level          14148 non-null  float64\n",
      " 78  secondary_cleaner.state.floatbank4_b_air            14148 non-null  float64\n",
      " 79  secondary_cleaner.state.floatbank4_b_level          14148 non-null  float64\n",
      " 80  secondary_cleaner.state.floatbank5_a_air            14148 non-null  float64\n",
      " 81  secondary_cleaner.state.floatbank5_a_level          14148 non-null  float64\n",
      " 82  secondary_cleaner.state.floatbank5_b_air            14148 non-null  float64\n",
      " 83  secondary_cleaner.state.floatbank5_b_level          14148 non-null  float64\n",
      " 84  secondary_cleaner.state.floatbank6_a_air            14147 non-null  float64\n",
      " 85  secondary_cleaner.state.floatbank6_a_level          14148 non-null  float64\n",
      " 86  rougher.output.recovery_calculated                  14149 non-null  float64\n",
      "dtypes: float64(87)\n",
      "memory usage: 9.5+ MB\n"
     ]
    }
   ],
   "source": [
    "train.info()"
   ]
  },
  {
   "cell_type": "code",
   "execution_count": 14,
   "metadata": {},
   "outputs": [],
   "source": [
    "train = train.fillna(method='ffill')\n",
    "test = test.fillna(method='ffill')\n",
    "full = full.fillna(method='ffill')"
   ]
  },
  {
   "cell_type": "markdown",
   "metadata": {},
   "source": [
    "## Анализ данных"
   ]
  },
  {
   "cell_type": "markdown",
   "metadata": {},
   "source": [
    "### Динамика концентрации металлов на различных этапах очистки"
   ]
  },
  {
   "cell_type": "code",
   "execution_count": 15,
   "metadata": {},
   "outputs": [],
   "source": [
    "# Список металлов\n",
    "metals = ['_au', '_ag', '_pb']"
   ]
  },
  {
   "cell_type": "code",
   "execution_count": 16,
   "metadata": {},
   "outputs": [],
   "source": [
    "# Стадии\n",
    "stages = ['rougher.input.feed', # Перед флотацией\n",
    "          'rougher.output.concentrate', # Перед первичной очисткой\n",
    "          'primary_cleaner.output.concentrate', # Перед вторичной очисткой\n",
    "          'final.output.concentrate'] # Финальная концентрация\n",
    "\n",
    "stages_rus = ['Флотация', 'Первичная очистка', 'Вторичная очистка', 'Финальная']"
   ]
  },
  {
   "cell_type": "code",
   "execution_count": 17,
   "metadata": {},
   "outputs": [],
   "source": [
    "concentrations = []\n",
    "for metal in metals:\n",
    "    stages_new = []\n",
    "    for stage in stages:\n",
    "        stages_new.append(stage+metal)\n",
    "    concentrations.append(full[stages_new].mean())\n",
    "#print(concentrations)"
   ]
  },
  {
   "cell_type": "code",
   "execution_count": 18,
   "metadata": {},
   "outputs": [],
   "source": [
    "matplotlib.rcParams.update({'font.size': 14}) # размер шрифта на графиках"
   ]
  },
  {
   "cell_type": "code",
   "execution_count": 19,
   "metadata": {},
   "outputs": [
    {
     "data": {
      "image/png": "[encoded data removed]",
      "text/plain": [
       "<Figure size 1080x576 with 1 Axes>"
      ]
     },
     "metadata": {
      "needs_background": "light"
     },
     "output_type": "display_data"
    }
   ],
   "source": [
    "plt.figure(figsize=(15, 8))\n",
    "\n",
    "plt.title('Динамика концентрации металлов')\n",
    "plt.xlabel('Стадия процесса очистки')\n",
    "plt.ylabel('Концентрация, %')\n",
    "\n",
    "for i in range(len(metals)):\n",
    "    plt.plot(stages_rus, concentrations[i],'x-',label=metals[i][1:], linewidth=1.5)\n",
    "\n",
    "plt.grid(axis='y')\n",
    "plt.legend()\n",
    "plt.show()"
   ]
  },
  {
   "cell_type": "markdown",
   "metadata": {},
   "source": [
    "С каждым этапом очистки концентрация:\n",
    "- золота - значительно растёт;\n",
    "- свинца - незначительно растёт;\n",
    "- серебра - растёт после флотации, затем - снижается."
   ]
  },
  {
   "cell_type": "markdown",
   "metadata": {},
   "source": [
    "### Распределение размеров гранул сырья"
   ]
  },
  {
   "cell_type": "code",
   "execution_count": 20,
   "metadata": {},
   "outputs": [
    {
     "data": {
      "image/png": "[encoded data removed]",
      "text/plain": [
       "<Figure size 1080x576 with 1 Axes>"
      ]
     },
     "metadata": {
      "needs_background": "light"
     },
     "output_type": "display_data"
    }
   ],
   "source": [
    "plt.figure(figsize=(15, 8))\n",
    "\n",
    "plt.hist(train['rougher.input.feed_size'], bins=100, range=(-10, 125), label='train', alpha=0.7);\n",
    "plt.hist(test['rougher.input.feed_size'], bins=100, range=(-10, 125), label='test', alpha=0.7);\n",
    "\n",
    "plt.title('Распределения размеров гранул сырья на этапе флотации')\n",
    "plt.ylabel('Частота')\n",
    "plt.grid()\n",
    "plt.legend()\n",
    "plt.show()"
   ]
  },
  {
   "cell_type": "code",
   "execution_count": 21,
   "metadata": {},
   "outputs": [
    {
     "data": {
      "image/png": "[encoded data removed]",
      "text/plain": [
       "<Figure size 864x432 with 1 Axes>"
      ]
     },
     "metadata": {
      "needs_background": "light"
     },
     "output_type": "display_data"
    }
   ],
   "source": [
    "plt.figure(figsize=(12,6))\n",
    "\n",
    "sns.kdeplot(data=train, x='rougher.input.feed_size', color='blue', shade=True,linewidth=0.4)\n",
    "sns.kdeplot(data=test, x='rougher.input.feed_size', color='orange', shade=True,linewidth=0.4);"
   ]
  },
  {
   "cell_type": "code",
   "execution_count": 22,
   "metadata": {},
   "outputs": [
    {
     "data": {
      "image/png": "[encoded data removed]",
      "text/plain": [
       "<Figure size 1080x576 with 1 Axes>"
      ]
     },
     "metadata": {
      "needs_background": "light"
     },
     "output_type": "display_data"
    }
   ],
   "source": [
    "plt.figure(figsize=(15, 8))\n",
    "\n",
    "plt.hist(train['primary_cleaner.input.feed_size'], bins=100, range=(4,12), label='train', alpha=0.7);\n",
    "plt.hist(test['primary_cleaner.input.feed_size'], bins=100, range=(4,12), label='test', alpha=0.7);\n",
    "\n",
    "plt.title('Распределения размеров гранул сырья на этапе первичной очистки')\n",
    "plt.ylabel('Частота')\n",
    "plt.grid()\n",
    "plt.legend()\n",
    "plt.show()"
   ]
  },
  {
   "cell_type": "code",
   "execution_count": 23,
   "metadata": {},
   "outputs": [
    {
     "data": {
      "image/png": "[encoded data removed]",
      "text/plain": [
       "<Figure size 864x432 with 1 Axes>"
      ]
     },
     "metadata": {
      "needs_background": "light"
     },
     "output_type": "display_data"
    }
   ],
   "source": [
    "plt.figure(figsize=(12,6))\n",
    "\n",
    "sns.kdeplot(data=train, x='primary_cleaner.input.feed_size', color='blue', shade=True,linewidth=0.4)\n",
    "sns.kdeplot(data=test, x='primary_cleaner.input.feed_size', color='orange', shade=True,linewidth=0.4);"
   ]
  },
  {
   "cell_type": "markdown",
   "metadata": {},
   "source": [
    "Распределения похожи."
   ]
  },
  {
   "cell_type": "markdown",
   "metadata": {},
   "source": [
    "<font color='blue'><b>Комментарий ревьюера: </b></font> ✔️\\\n",
    "<font color='green'> Вывод верный!</font>"
   ]
  },
  {
   "cell_type": "markdown",
   "metadata": {},
   "source": [
    "### Суммарная концентрация веществ на разных стадиях"
   ]
  },
  {
   "cell_type": "code",
   "execution_count": 24,
   "metadata": {},
   "outputs": [],
   "source": [
    "metals_conc = ['_au', '_ag', '_pb', '_sol']\n",
    "stages_conc = ['rougher.input.feed', # Перед флотацией\n",
    "               'rougher.output.concentrate', # Перед первичной очисткой\n",
    "               'final.output.concentrate'] # Финальная концентрация\n",
    "\n",
    "stages_rus_conc = ['Сырьё', 'Черновой концентрат', 'Финальный концентрат']"
   ]
  },
  {
   "cell_type": "code",
   "execution_count": 25,
   "metadata": {},
   "outputs": [],
   "source": [
    "concentrations_total = []    \n",
    "for stage in stages_conc:\n",
    "    _ = 0\n",
    "    for metal in metals_conc:\n",
    "        _ += full[stage+metal]\n",
    "    concentrations_total.append(_)"
   ]
  },
  {
   "cell_type": "code",
   "execution_count": 26,
   "metadata": {},
   "outputs": [
    {
     "data": {
      "image/png": "[encoded data removed]",
      "text/plain": [
       "<Figure size 1080x576 with 1 Axes>"
      ]
     },
     "metadata": {
      "needs_background": "light"
     },
     "output_type": "display_data"
    }
   ],
   "source": [
    "plt.figure(figsize=(15, 8))\n",
    "\n",
    "for i in range(3):\n",
    "    plt.hist(concentrations_total[i], bins=75, label=stages_rus_conc[i], alpha=0.5);\n",
    "\n",
    "plt.title('Суммарная концентрация всех веществ на разных стадиях')\n",
    "plt.ylabel('Частота')\n",
    "plt.grid()\n",
    "plt.legend()\n",
    "plt.show()"
   ]
  },
  {
   "cell_type": "code",
   "execution_count": 27,
   "metadata": {},
   "outputs": [
    {
     "data": {
      "text/plain": [
       "(14149, 87)"
      ]
     },
     "execution_count": 27,
     "metadata": {},
     "output_type": "execute_result"
    }
   ],
   "source": [
    "train.shape"
   ]
  },
  {
   "cell_type": "code",
   "execution_count": 28,
   "metadata": {},
   "outputs": [],
   "source": [
    "train = train[((train['rougher.output.concentrate_au'] +\n",
    "                train['rougher.output.concentrate_ag'] +\n",
    "                train['rougher.output.concentrate_pb'] +\n",
    "                train['rougher.output.concentrate_sol'] != 0) &\n",
    "               (train['final.output.concentrate_ag'] +\n",
    "                train['final.output.concentrate_pb'] +\n",
    "                train['final.output.concentrate_pb'] +\n",
    "                train['final.output.concentrate_sol'] != 0)\n",
    "              )]"
   ]
  },
  {
   "cell_type": "code",
   "execution_count": 29,
   "metadata": {
    "scrolled": true
   },
   "outputs": [
    {
     "data": {
      "text/plain": [
       "(13795, 87)"
      ]
     },
     "execution_count": 29,
     "metadata": {},
     "output_type": "execute_result"
    }
   ],
   "source": [
    "train.shape"
   ]
  },
  {
   "cell_type": "markdown",
   "metadata": {},
   "source": [
    "Было удалено 354 записи (~2.5%)"
   ]
  },
  {
   "cell_type": "markdown",
   "metadata": {},
   "source": [
    "### Анализ таргетов"
   ]
  },
  {
   "cell_type": "code",
   "execution_count": 30,
   "metadata": {},
   "outputs": [
    {
     "name": "stdout",
     "output_type": "stream",
     "text": [
      "Корреляция между черновым и финальным концентратами:\n",
      "spearman |  0.62\n",
      "pearson  |  0.33\n"
     ]
    }
   ],
   "source": [
    "# Посмотрим на взаимную зависимость таргетов\n",
    "\n",
    "print(\"Корреляция между черновым и финальным концентратами:\")\n",
    "for meth in ['spearman', 'pearson']:\n",
    "    print(f\"{meth:8} | {full['final.output.recovery'].corr(full['rougher.output.recovery'], method = meth): .2f}\")  "
   ]
  },
  {
   "cell_type": "code",
   "execution_count": 31,
   "metadata": {},
   "outputs": [
    {
     "data": {
      "image/png": "[encoded data removed]",
      "text/plain": [
       "<Figure size 432x288 with 1 Axes>"
      ]
     },
     "metadata": {
      "needs_background": "light"
     },
     "output_type": "display_data"
    }
   ],
   "source": [
    "full.plot(kind ='scatter', x='final.output.recovery', y='rougher.output.recovery', alpha=0.35);"
   ]
  },
  {
   "cell_type": "markdown",
   "metadata": {},
   "source": [
    "Наблюдаются аномалии в точках 0-ой и 100-ой концентраций."
   ]
  },
  {
   "cell_type": "code",
   "execution_count": 32,
   "metadata": {},
   "outputs": [
    {
     "data": {
      "image/png": "[encoded data removed]",
      "text/plain": [
       "<Figure size 432x288 with 1 Axes>"
      ]
     },
     "metadata": {
      "needs_background": "light"
     },
     "output_type": "display_data"
    }
   ],
   "source": [
    "(full[(full['final.output.recovery'] < 100) & (full['final.output.recovery'] > 0)]\n",
    "    .plot(kind ='scatter', x='final.output.recovery', y='rougher.output.recovery', alpha=0.35)\n",
    ");"
   ]
  },
  {
   "cell_type": "markdown",
   "metadata": {},
   "source": [
    "Посмотрим на зависимость между таргетами и признаками на различных этапах процесса"
   ]
  },
  {
   "cell_type": "code",
   "execution_count": 33,
   "metadata": {},
   "outputs": [],
   "source": [
    "def get_target_correlation(df, target_col_name):\n",
    "    \"\"\"Возвращает таблицу корреляции с целевым признаком.\n",
    "\n",
    "    1-й столбец - коэффициенты Spearman\n",
    "    2-й столбец - коэффициенты Pearson\n",
    "    \"\"\"\n",
    "    corr_table = (\n",
    "        df\n",
    "        # Столбец с корреляцией Спирмена\n",
    "        .corr(method='spearman')[target_col_name]\n",
    "        .drop([target_col_name])\n",
    "        .rename('Spearman')\n",
    "        .to_frame()\n",
    "        # Добавляем столбец с корреляцией Пирсона(фокус на лин.зависимости)\n",
    "        .join(\n",
    "            df.corr()[target_col_name]\n",
    "            .drop([target_col_name])\n",
    "            .rename('Pearson')\n",
    "            .to_frame()\n",
    "        )\n",
    "        .sort_values(by='Spearman')\n",
    "    )\n",
    "    return corr_table"
   ]
  },
  {
   "cell_type": "code",
   "execution_count": 34,
   "metadata": {},
   "outputs": [],
   "source": [
    "# Объединим две таблицы, посмотрим как различаются корреляции признаков\n",
    "corr_matrix = (get_target_correlation(train.drop('final.output.recovery', axis=1), 'rougher.output.recovery')\n",
    "                     .drop('Spearman', axis=1)\n",
    "                     .join(\n",
    "                           (get_target_correlation(train.drop('rougher.output.recovery', axis=1), 'final.output.recovery')\n",
    "                              .drop('Spearman', axis=1)\n",
    "                           ),\n",
    "                           lsuffix = '_rough', rsuffix = '_final'))"
   ]
  },
  {
   "cell_type": "code",
   "execution_count": 35,
   "metadata": {},
   "outputs": [
    {
     "name": "stdout",
     "output_type": "stream",
     "text": [
      "Зависимость целевых признаков от входных параметров этапа ФЛОТАЦИИ (rougher)\n"
     ]
    },
    {
     "data": {
      "text/html": [
       "<style  type=\"text/css\" >\n",
       "#T_98c32_row0_col0{\n",
       "            background-color:  #3c4ec2;\n",
       "            color:  #f1f1f1;\n",
       "        }#T_98c32_row0_col1{\n",
       "            background-color:  #4c66d6;\n",
       "            color:  #000000;\n",
       "        }#T_98c32_row1_col0,#T_98c32_row1_col1{\n",
       "            background-color:  #3b4cc0;\n",
       "            color:  #f1f1f1;\n",
       "        }#T_98c32_row2_col0{\n",
       "            background-color:  #82a6fb;\n",
       "            color:  #000000;\n",
       "        }#T_98c32_row2_col1{\n",
       "            background-color:  #d3dbe7;\n",
       "            color:  #000000;\n",
       "        }#T_98c32_row3_col0{\n",
       "            background-color:  #8fb1fe;\n",
       "            color:  #000000;\n",
       "        }#T_98c32_row3_col1{\n",
       "            background-color:  #7396f5;\n",
       "            color:  #000000;\n",
       "        }#T_98c32_row4_col0,#T_98c32_row9_col1{\n",
       "            background-color:  #f7b79b;\n",
       "            color:  #000000;\n",
       "        }#T_98c32_row4_col1{\n",
       "            background-color:  #d85646;\n",
       "            color:  #000000;\n",
       "        }#T_98c32_row5_col0{\n",
       "            background-color:  #f39577;\n",
       "            color:  #000000;\n",
       "        }#T_98c32_row5_col1{\n",
       "            background-color:  #c0282f;\n",
       "            color:  #f1f1f1;\n",
       "        }#T_98c32_row6_col0{\n",
       "            background-color:  #d55042;\n",
       "            color:  #000000;\n",
       "        }#T_98c32_row6_col1{\n",
       "            background-color:  #ef886b;\n",
       "            color:  #000000;\n",
       "        }#T_98c32_row7_col0{\n",
       "            background-color:  #cf453c;\n",
       "            color:  #f1f1f1;\n",
       "        }#T_98c32_row7_col1,#T_98c32_row8_col0{\n",
       "            background-color:  #b40426;\n",
       "            color:  #f1f1f1;\n",
       "        }#T_98c32_row8_col1{\n",
       "            background-color:  #b70d28;\n",
       "            color:  #f1f1f1;\n",
       "        }#T_98c32_row9_col0{\n",
       "            background-color:  #bd1f2d;\n",
       "            color:  #f1f1f1;\n",
       "        }</style><table id=\"T_98c32_\" ><thead>    <tr>        <th class=\"blank level0\" ></th>        <th class=\"col_heading level0 col0\" >Pearson_rough</th>        <th class=\"col_heading level0 col1\" >Pearson_final</th>    </tr></thead><tbody>\n",
       "                <tr>\n",
       "                        <th id=\"T_98c32_level0_row0\" class=\"row_heading level0 row0\" >rougher.input.floatbank11_sulfate</th>\n",
       "                        <td id=\"T_98c32_row0_col0\" class=\"data row0 col0\" >-0.012385</td>\n",
       "                        <td id=\"T_98c32_row0_col1\" class=\"data row0 col1\" >0.006566</td>\n",
       "            </tr>\n",
       "            <tr>\n",
       "                        <th id=\"T_98c32_level0_row1\" class=\"row_heading level0 row1\" >rougher.input.floatbank10_sulfate</th>\n",
       "                        <td id=\"T_98c32_row1_col0\" class=\"data row1 col0\" >-0.014977</td>\n",
       "                        <td id=\"T_98c32_row1_col1\" class=\"data row1 col1\" >-0.014674</td>\n",
       "            </tr>\n",
       "            <tr>\n",
       "                        <th id=\"T_98c32_level0_row2\" class=\"row_heading level0 row2\" >rougher.input.feed_rate</th>\n",
       "                        <td id=\"T_98c32_row2_col0\" class=\"data row2 col0\" >0.075587</td>\n",
       "                        <td id=\"T_98c32_row2_col1\" class=\"data row2 col1\" >0.149483</td>\n",
       "            </tr>\n",
       "            <tr>\n",
       "                        <th id=\"T_98c32_level0_row3\" class=\"row_heading level0 row3\" >rougher.input.feed_size</th>\n",
       "                        <td id=\"T_98c32_row3_col0\" class=\"data row3 col0\" >0.089841</td>\n",
       "                        <td id=\"T_98c32_row3_col1\" class=\"data row3 col1\" >0.048465</td>\n",
       "            </tr>\n",
       "            <tr>\n",
       "                        <th id=\"T_98c32_level0_row4\" class=\"row_heading level0 row4\" >rougher.input.floatbank11_xanthate</th>\n",
       "                        <td id=\"T_98c32_row4_col0\" class=\"data row4 col0\" >0.260303</td>\n",
       "                        <td id=\"T_98c32_row4_col1\" class=\"data row4 col1\" >0.300404</td>\n",
       "            </tr>\n",
       "            <tr>\n",
       "                        <th id=\"T_98c32_level0_row5\" class=\"row_heading level0 row5\" >rougher.input.floatbank10_xanthate</th>\n",
       "                        <td id=\"T_98c32_row5_col0\" class=\"data row5 col0\" >0.297281</td>\n",
       "                        <td id=\"T_98c32_row5_col1\" class=\"data row5 col1\" >0.327414</td>\n",
       "            </tr>\n",
       "            <tr>\n",
       "                        <th id=\"T_98c32_level0_row6\" class=\"row_heading level0 row6\" >rougher.input.feed_sol</th>\n",
       "                        <td id=\"T_98c32_row6_col0\" class=\"data row6 col0\" >0.356818</td>\n",
       "                        <td id=\"T_98c32_row6_col1\" class=\"data row6 col1\" >0.265578</td>\n",
       "            </tr>\n",
       "            <tr>\n",
       "                        <th id=\"T_98c32_level0_row7\" class=\"row_heading level0 row7\" >rougher.input.feed_au</th>\n",
       "                        <td id=\"T_98c32_row7_col0\" class=\"data row7 col0\" >0.364890</td>\n",
       "                        <td id=\"T_98c32_row7_col1\" class=\"data row7 col1\" >0.339028</td>\n",
       "            </tr>\n",
       "            <tr>\n",
       "                        <th id=\"T_98c32_level0_row8\" class=\"row_heading level0 row8\" >rougher.input.feed_ag</th>\n",
       "                        <td id=\"T_98c32_row8_col0\" class=\"data row8 col0\" >0.395638</td>\n",
       "                        <td id=\"T_98c32_row8_col1\" class=\"data row8 col1\" >0.334986</td>\n",
       "            </tr>\n",
       "            <tr>\n",
       "                        <th id=\"T_98c32_level0_row9\" class=\"row_heading level0 row9\" >rougher.input.feed_pb</th>\n",
       "                        <td id=\"T_98c32_row9_col0\" class=\"data row9 col0\" >0.385500</td>\n",
       "                        <td id=\"T_98c32_row9_col1\" class=\"data row9 col1\" >0.222786</td>\n",
       "            </tr>\n",
       "    </tbody></table>"
      ],
      "text/plain": [
       "<pandas.io.formats.style.Styler at 0x7f44b523e850>"
      ]
     },
     "execution_count": 35,
     "metadata": {},
     "output_type": "execute_result"
    }
   ],
   "source": [
    "print('Зависимость целевых признаков от входных параметров этапа ФЛОТАЦИИ (rougher)')\n",
    "corr_matrix[corr_matrix.index.str.contains('rougher.input')].style.background_gradient(cmap='coolwarm')  "
   ]
  },
  {
   "cell_type": "markdown",
   "metadata": {},
   "source": [
    "Финальный концентрат сильнее зависит от параментров на входе, чем черновой."
   ]
  },
  {
   "cell_type": "code",
   "execution_count": 36,
   "metadata": {},
   "outputs": [
    {
     "name": "stdout",
     "output_type": "stream",
     "text": [
      "Зависимость целевых признаков от входных параметров этапа ПЕРВИЧНОЙ ОЧИСТКИ (primary_cleaner)\n"
     ]
    },
    {
     "data": {
      "text/html": [
       "<style  type=\"text/css\" >\n",
       "#T_1b41f_row0_col0,#T_1b41f_row0_col1{\n",
       "            background-color:  #3b4cc0;\n",
       "            color:  #f1f1f1;\n",
       "        }#T_1b41f_row1_col0{\n",
       "            background-color:  #b6cefa;\n",
       "            color:  #000000;\n",
       "        }#T_1b41f_row1_col1{\n",
       "            background-color:  #92b4fe;\n",
       "            color:  #000000;\n",
       "        }#T_1b41f_row2_col0{\n",
       "            background-color:  #d8dce2;\n",
       "            color:  #000000;\n",
       "        }#T_1b41f_row2_col1{\n",
       "            background-color:  #d1dae9;\n",
       "            color:  #000000;\n",
       "        }#T_1b41f_row3_col0,#T_1b41f_row3_col1{\n",
       "            background-color:  #b40426;\n",
       "            color:  #f1f1f1;\n",
       "        }</style><table id=\"T_1b41f_\" ><thead>    <tr>        <th class=\"blank level0\" ></th>        <th class=\"col_heading level0 col0\" >Pearson_rough</th>        <th class=\"col_heading level0 col1\" >Pearson_final</th>    </tr></thead><tbody>\n",
       "                <tr>\n",
       "                        <th id=\"T_1b41f_level0_row0\" class=\"row_heading level0 row0\" >primary_cleaner.input.feed_size</th>\n",
       "                        <td id=\"T_1b41f_row0_col0\" class=\"data row0 col0\" >-0.045697</td>\n",
       "                        <td id=\"T_1b41f_row0_col1\" class=\"data row0 col1\" >0.069590</td>\n",
       "            </tr>\n",
       "            <tr>\n",
       "                        <th id=\"T_1b41f_level0_row1\" class=\"row_heading level0 row1\" >primary_cleaner.input.depressant</th>\n",
       "                        <td id=\"T_1b41f_row1_col0\" class=\"data row1 col0\" >0.131891</td>\n",
       "                        <td id=\"T_1b41f_row1_col1\" class=\"data row1 col1\" >0.151633</td>\n",
       "            </tr>\n",
       "            <tr>\n",
       "                        <th id=\"T_1b41f_level0_row2\" class=\"row_heading level0 row2\" >primary_cleaner.input.xanthate</th>\n",
       "                        <td id=\"T_1b41f_row2_col0\" class=\"data row2 col0\" >0.184646</td>\n",
       "                        <td id=\"T_1b41f_row2_col1\" class=\"data row2 col1\" >0.211906</td>\n",
       "            </tr>\n",
       "            <tr>\n",
       "                        <th id=\"T_1b41f_level0_row3\" class=\"row_heading level0 row3\" >primary_cleaner.input.sulfate</th>\n",
       "                        <td id=\"T_1b41f_row3_col0\" class=\"data row3 col0\" >0.432972</td>\n",
       "                        <td id=\"T_1b41f_row3_col1\" class=\"data row3 col1\" >0.382984</td>\n",
       "            </tr>\n",
       "    </tbody></table>"
      ],
      "text/plain": [
       "<pandas.io.formats.style.Styler at 0x7f44b5249940>"
      ]
     },
     "execution_count": 36,
     "metadata": {},
     "output_type": "execute_result"
    }
   ],
   "source": [
    "print('Зависимость целевых признаков от входных параметров этапа ПЕРВИЧНОЙ ОЧИСТКИ (primary_cleaner)')\n",
    "corr_matrix[corr_matrix.index.str.contains('primary_cleaner.input')].style.background_gradient(cmap='coolwarm')  "
   ]
  },
  {
   "cell_type": "markdown",
   "metadata": {},
   "source": [
    "Аналогичные отличия в корреляции."
   ]
  },
  {
   "cell_type": "code",
   "execution_count": 37,
   "metadata": {},
   "outputs": [
    {
     "name": "stdout",
     "output_type": "stream",
     "text": [
      "Зависимость целевых признаков от параметров СОСТОЯНИЯ на этапе ФЛОТАЦИИ\n"
     ]
    },
    {
     "data": {
      "text/html": [
       "<style  type=\"text/css\" >\n",
       "#T_77225_row0_col0,#T_77225_row1_col0,#T_77225_row1_col1{\n",
       "            background-color:  #3b4cc0;\n",
       "            color:  #f1f1f1;\n",
       "        }#T_77225_row0_col1{\n",
       "            background-color:  #3d50c3;\n",
       "            color:  #f1f1f1;\n",
       "        }#T_77225_row2_col0{\n",
       "            background-color:  #4e68d8;\n",
       "            color:  #000000;\n",
       "        }#T_77225_row2_col1{\n",
       "            background-color:  #5572df;\n",
       "            color:  #000000;\n",
       "        }#T_77225_row3_col0,#T_77225_row3_col1{\n",
       "            background-color:  #5f7fe8;\n",
       "            color:  #000000;\n",
       "        }#T_77225_row4_col0{\n",
       "            background-color:  #7a9df8;\n",
       "            color:  #000000;\n",
       "        }#T_77225_row4_col1,#T_77225_row6_col1{\n",
       "            background-color:  #84a7fc;\n",
       "            color:  #000000;\n",
       "        }#T_77225_row5_col0,#T_77225_row6_col0,#T_77225_row7_col0{\n",
       "            background-color:  #7b9ff9;\n",
       "            color:  #000000;\n",
       "        }#T_77225_row5_col1{\n",
       "            background-color:  #8caffe;\n",
       "            color:  #000000;\n",
       "        }#T_77225_row7_col1{\n",
       "            background-color:  #85a8fc;\n",
       "            color:  #000000;\n",
       "        }#T_77225_row8_col0,#T_77225_row9_col0{\n",
       "            background-color:  #7da0f9;\n",
       "            color:  #000000;\n",
       "        }#T_77225_row8_col1{\n",
       "            background-color:  #82a6fb;\n",
       "            color:  #000000;\n",
       "        }#T_77225_row9_col1{\n",
       "            background-color:  #7ea1fa;\n",
       "            color:  #000000;\n",
       "        }#T_77225_row10_col0{\n",
       "            background-color:  #c83836;\n",
       "            color:  #f1f1f1;\n",
       "        }#T_77225_row10_col1{\n",
       "            background-color:  #f7b497;\n",
       "            color:  #000000;\n",
       "        }#T_77225_row11_col0,#T_77225_row11_col1{\n",
       "            background-color:  #b40426;\n",
       "            color:  #f1f1f1;\n",
       "        }</style><table id=\"T_77225_\" ><thead>    <tr>        <th class=\"blank level0\" ></th>        <th class=\"col_heading level0 col0\" >Pearson_rough</th>        <th class=\"col_heading level0 col1\" >Pearson_final</th>    </tr></thead><tbody>\n",
       "                <tr>\n",
       "                        <th id=\"T_77225_level0_row0\" class=\"row_heading level0 row0\" >rougher.state.floatbank10_d_air</th>\n",
       "                        <td id=\"T_77225_row0_col0\" class=\"data row0 col0\" >-0.336720</td>\n",
       "                        <td id=\"T_77225_row0_col1\" class=\"data row0 col1\" >-0.188977</td>\n",
       "            </tr>\n",
       "            <tr>\n",
       "                        <th id=\"T_77225_level0_row1\" class=\"row_heading level0 row1\" >rougher.state.floatbank10_c_air</th>\n",
       "                        <td id=\"T_77225_row1_col0\" class=\"data row1 col0\" >-0.336585</td>\n",
       "                        <td id=\"T_77225_row1_col1\" class=\"data row1 col1\" >-0.194062</td>\n",
       "            </tr>\n",
       "            <tr>\n",
       "                        <th id=\"T_77225_level0_row2\" class=\"row_heading level0 row2\" >rougher.state.floatbank10_b_air</th>\n",
       "                        <td id=\"T_77225_row2_col0\" class=\"data row2 col0\" >-0.287144</td>\n",
       "                        <td id=\"T_77225_row2_col1\" class=\"data row2 col1\" >-0.155803</td>\n",
       "            </tr>\n",
       "            <tr>\n",
       "                        <th id=\"T_77225_level0_row3\" class=\"row_heading level0 row3\" >rougher.state.floatbank10_e_air</th>\n",
       "                        <td id=\"T_77225_row3_col0\" class=\"data row3 col0\" >-0.248112</td>\n",
       "                        <td id=\"T_77225_row3_col1\" class=\"data row3 col1\" >-0.141340</td>\n",
       "            </tr>\n",
       "            <tr>\n",
       "                        <th id=\"T_77225_level0_row4\" class=\"row_heading level0 row4\" >rougher.state.floatbank10_d_level</th>\n",
       "                        <td id=\"T_77225_row4_col0\" class=\"data row4 col0\" >-0.188227</td>\n",
       "                        <td id=\"T_77225_row4_col1\" class=\"data row4 col1\" >-0.095529</td>\n",
       "            </tr>\n",
       "            <tr>\n",
       "                        <th id=\"T_77225_level0_row5\" class=\"row_heading level0 row5\" >rougher.state.floatbank10_b_level</th>\n",
       "                        <td id=\"T_77225_row5_col0\" class=\"data row5 col0\" >-0.187581</td>\n",
       "                        <td id=\"T_77225_row5_col1\" class=\"data row5 col1\" >-0.085882</td>\n",
       "            </tr>\n",
       "            <tr>\n",
       "                        <th id=\"T_77225_level0_row6\" class=\"row_heading level0 row6\" >rougher.state.floatbank10_c_level</th>\n",
       "                        <td id=\"T_77225_row6_col0\" class=\"data row6 col0\" >-0.186915</td>\n",
       "                        <td id=\"T_77225_row6_col1\" class=\"data row6 col1\" >-0.096035</td>\n",
       "            </tr>\n",
       "            <tr>\n",
       "                        <th id=\"T_77225_level0_row7\" class=\"row_heading level0 row7\" >rougher.state.floatbank10_f_level</th>\n",
       "                        <td id=\"T_77225_row7_col0\" class=\"data row7 col0\" >-0.185394</td>\n",
       "                        <td id=\"T_77225_row7_col1\" class=\"data row7 col1\" >-0.094071</td>\n",
       "            </tr>\n",
       "            <tr>\n",
       "                        <th id=\"T_77225_level0_row8\" class=\"row_heading level0 row8\" >rougher.state.floatbank10_e_level</th>\n",
       "                        <td id=\"T_77225_row8_col0\" class=\"data row8 col0\" >-0.184944</td>\n",
       "                        <td id=\"T_77225_row8_col1\" class=\"data row8 col1\" >-0.097401</td>\n",
       "            </tr>\n",
       "            <tr>\n",
       "                        <th id=\"T_77225_level0_row9\" class=\"row_heading level0 row9\" >rougher.state.floatbank10_f_air</th>\n",
       "                        <td id=\"T_77225_row9_col0\" class=\"data row9 col0\" >-0.182496</td>\n",
       "                        <td id=\"T_77225_row9_col1\" class=\"data row9 col1\" >-0.102466</td>\n",
       "            </tr>\n",
       "            <tr>\n",
       "                        <th id=\"T_77225_level0_row10\" class=\"row_heading level0 row10\" >rougher.state.floatbank10_a_level</th>\n",
       "                        <td id=\"T_77225_row10_col0\" class=\"data row10 col0\" >0.367041</td>\n",
       "                        <td id=\"T_77225_row10_col1\" class=\"data row10 col1\" >0.102088</td>\n",
       "            </tr>\n",
       "            <tr>\n",
       "                        <th id=\"T_77225_level0_row11\" class=\"row_heading level0 row11\" >rougher.state.floatbank10_a_air</th>\n",
       "                        <td id=\"T_77225_row11_col0\" class=\"data row11 col0\" >0.409882</td>\n",
       "                        <td id=\"T_77225_row11_col1\" class=\"data row11 col1\" >0.243899</td>\n",
       "            </tr>\n",
       "    </tbody></table>"
      ],
      "text/plain": [
       "<pandas.io.formats.style.Styler at 0x7f44b5249f70>"
      ]
     },
     "execution_count": 37,
     "metadata": {},
     "output_type": "execute_result"
    }
   ],
   "source": [
    "print('Зависимость целевых признаков от параметров СОСТОЯНИЯ на этапе ФЛОТАЦИИ')\n",
    "(corr_matrix[corr_matrix.index.str.contains('state')]\n",
    "     .query('index.str.contains(\"10\")')\n",
    "     .sort_values(by='Pearson_rough')\n",
    "     .style.background_gradient(cmap='coolwarm') \n",
    ")"
   ]
  },
  {
   "cell_type": "markdown",
   "metadata": {},
   "source": [
    "Ряд признаков показывают слабую корреляцию, возможно мы не будем использовать ограниченный список признаков параметров состояния в даленейшем."
   ]
  },
  {
   "cell_type": "code",
   "execution_count": 38,
   "metadata": {},
   "outputs": [
    {
     "name": "stdout",
     "output_type": "stream",
     "text": [
      "Зависимость целевых признаков от параметров СОСТОЯНИЯ на этапах ОЧИСТКИ\n"
     ]
    },
    {
     "data": {
      "text/html": [
       "<style  type=\"text/css\" >\n",
       "#T_01ed5_row0_col0,#T_01ed5_row0_col1,#T_01ed5_row1_col0{\n",
       "            background-color:  #3b4cc0;\n",
       "            color:  #f1f1f1;\n",
       "        }#T_01ed5_row1_col1{\n",
       "            background-color:  #3d50c3;\n",
       "            color:  #f1f1f1;\n",
       "        }#T_01ed5_row2_col0{\n",
       "            background-color:  #4e68d8;\n",
       "            color:  #000000;\n",
       "        }#T_01ed5_row2_col1{\n",
       "            background-color:  #5572df;\n",
       "            color:  #000000;\n",
       "        }#T_01ed5_row3_col0,#T_01ed5_row3_col1{\n",
       "            background-color:  #5f7fe8;\n",
       "            color:  #000000;\n",
       "        }#T_01ed5_row4_col0,#T_01ed5_row6_col0{\n",
       "            background-color:  #7da0f9;\n",
       "            color:  #000000;\n",
       "        }#T_01ed5_row4_col1{\n",
       "            background-color:  #7ea1fa;\n",
       "            color:  #000000;\n",
       "        }#T_01ed5_row5_col0{\n",
       "            background-color:  #bfd3f6;\n",
       "            color:  #000000;\n",
       "        }#T_01ed5_row5_col1{\n",
       "            background-color:  #80a3fa;\n",
       "            color:  #000000;\n",
       "        }#T_01ed5_row6_col1{\n",
       "            background-color:  #82a6fb;\n",
       "            color:  #000000;\n",
       "        }#T_01ed5_row7_col0,#T_01ed5_row9_col0,#T_01ed5_row10_col0{\n",
       "            background-color:  #7b9ff9;\n",
       "            color:  #000000;\n",
       "        }#T_01ed5_row7_col1,#T_01ed5_row8_col1{\n",
       "            background-color:  #84a7fc;\n",
       "            color:  #000000;\n",
       "        }#T_01ed5_row8_col0{\n",
       "            background-color:  #7a9df8;\n",
       "            color:  #000000;\n",
       "        }#T_01ed5_row9_col1{\n",
       "            background-color:  #85a8fc;\n",
       "            color:  #000000;\n",
       "        }#T_01ed5_row10_col1{\n",
       "            background-color:  #8caffe;\n",
       "            color:  #000000;\n",
       "        }#T_01ed5_row11_col0,#T_01ed5_row14_col0{\n",
       "            background-color:  #adc9fd;\n",
       "            color:  #000000;\n",
       "        }#T_01ed5_row11_col1{\n",
       "            background-color:  #a5c3fe;\n",
       "            color:  #000000;\n",
       "        }#T_01ed5_row12_col0{\n",
       "            background-color:  #cbd8ee;\n",
       "            color:  #000000;\n",
       "        }#T_01ed5_row12_col1{\n",
       "            background-color:  #b5cdfa;\n",
       "            color:  #000000;\n",
       "        }#T_01ed5_row13_col0{\n",
       "            background-color:  #97b8ff;\n",
       "            color:  #000000;\n",
       "        }#T_01ed5_row13_col1{\n",
       "            background-color:  #bbd1f8;\n",
       "            color:  #000000;\n",
       "        }#T_01ed5_row14_col1{\n",
       "            background-color:  #c0d4f5;\n",
       "            color:  #000000;\n",
       "        }#T_01ed5_row15_col0{\n",
       "            background-color:  #b1cbfc;\n",
       "            color:  #000000;\n",
       "        }#T_01ed5_row15_col1{\n",
       "            background-color:  #c5d6f2;\n",
       "            color:  #000000;\n",
       "        }#T_01ed5_row16_col0{\n",
       "            background-color:  #9ebeff;\n",
       "            color:  #000000;\n",
       "        }#T_01ed5_row16_col1{\n",
       "            background-color:  #ccd9ed;\n",
       "            color:  #000000;\n",
       "        }#T_01ed5_row17_col0{\n",
       "            background-color:  #d5dbe5;\n",
       "            color:  #000000;\n",
       "        }#T_01ed5_row17_col1{\n",
       "            background-color:  #dddcdc;\n",
       "            color:  #000000;\n",
       "        }#T_01ed5_row18_col0{\n",
       "            background-color:  #c7d7f0;\n",
       "            color:  #000000;\n",
       "        }#T_01ed5_row18_col1,#T_01ed5_row19_col1{\n",
       "            background-color:  #dedcdb;\n",
       "            color:  #000000;\n",
       "        }#T_01ed5_row19_col0{\n",
       "            background-color:  #c3d5f4;\n",
       "            color:  #000000;\n",
       "        }#T_01ed5_row20_col0{\n",
       "            background-color:  #d6dce4;\n",
       "            color:  #000000;\n",
       "        }#T_01ed5_row20_col1,#T_01ed5_row21_col0{\n",
       "            background-color:  #e0dbd8;\n",
       "            color:  #000000;\n",
       "        }#T_01ed5_row21_col1,#T_01ed5_row24_col0{\n",
       "            background-color:  #e5d8d1;\n",
       "            color:  #000000;\n",
       "        }#T_01ed5_row22_col0{\n",
       "            background-color:  #d4dbe6;\n",
       "            color:  #000000;\n",
       "        }#T_01ed5_row22_col1{\n",
       "            background-color:  #e8d6cc;\n",
       "            color:  #000000;\n",
       "        }#T_01ed5_row23_col0{\n",
       "            background-color:  #cedaeb;\n",
       "            color:  #000000;\n",
       "        }#T_01ed5_row23_col1{\n",
       "            background-color:  #e9d5cb;\n",
       "            color:  #000000;\n",
       "        }#T_01ed5_row24_col1,#T_01ed5_row25_col0{\n",
       "            background-color:  #edd1c2;\n",
       "            color:  #000000;\n",
       "        }#T_01ed5_row25_col1{\n",
       "            background-color:  #f1ccb8;\n",
       "            color:  #000000;\n",
       "        }#T_01ed5_row26_col0{\n",
       "            background-color:  #f29274;\n",
       "            color:  #000000;\n",
       "        }#T_01ed5_row26_col1{\n",
       "            background-color:  #f2c9b4;\n",
       "            color:  #000000;\n",
       "        }#T_01ed5_row27_col0{\n",
       "            background-color:  #c83836;\n",
       "            color:  #f1f1f1;\n",
       "        }#T_01ed5_row27_col1{\n",
       "            background-color:  #f7b497;\n",
       "            color:  #000000;\n",
       "        }#T_01ed5_row28_col0{\n",
       "            background-color:  #ee8669;\n",
       "            color:  #000000;\n",
       "        }#T_01ed5_row28_col1{\n",
       "            background-color:  #f7b396;\n",
       "            color:  #000000;\n",
       "        }#T_01ed5_row29_col0{\n",
       "            background-color:  #f6a283;\n",
       "            color:  #000000;\n",
       "        }#T_01ed5_row29_col1{\n",
       "            background-color:  #f59f80;\n",
       "            color:  #000000;\n",
       "        }#T_01ed5_row30_col0{\n",
       "            background-color:  #f59d7e;\n",
       "            color:  #000000;\n",
       "        }#T_01ed5_row30_col1{\n",
       "            background-color:  #f08b6e;\n",
       "            color:  #000000;\n",
       "        }#T_01ed5_row31_col0{\n",
       "            background-color:  #f7a688;\n",
       "            color:  #000000;\n",
       "        }#T_01ed5_row31_col1{\n",
       "            background-color:  #f08a6c;\n",
       "            color:  #000000;\n",
       "        }#T_01ed5_row32_col0{\n",
       "            background-color:  #f18f71;\n",
       "            color:  #000000;\n",
       "        }#T_01ed5_row32_col1{\n",
       "            background-color:  #ed8366;\n",
       "            color:  #000000;\n",
       "        }#T_01ed5_row33_col0{\n",
       "            background-color:  #f4987a;\n",
       "            color:  #000000;\n",
       "        }#T_01ed5_row33_col1{\n",
       "            background-color:  #e9785d;\n",
       "            color:  #000000;\n",
       "        }#T_01ed5_row34_col0{\n",
       "            background-color:  #c43032;\n",
       "            color:  #f1f1f1;\n",
       "        }#T_01ed5_row34_col1{\n",
       "            background-color:  #e16751;\n",
       "            color:  #000000;\n",
       "        }#T_01ed5_row35_col0{\n",
       "            background-color:  #e26952;\n",
       "            color:  #000000;\n",
       "        }#T_01ed5_row35_col1{\n",
       "            background-color:  #d75445;\n",
       "            color:  #000000;\n",
       "        }#T_01ed5_row36_col0{\n",
       "            background-color:  #ba162b;\n",
       "            color:  #f1f1f1;\n",
       "        }#T_01ed5_row36_col1{\n",
       "            background-color:  #cb3e38;\n",
       "            color:  #f1f1f1;\n",
       "        }#T_01ed5_row37_col0,#T_01ed5_row37_col1{\n",
       "            background-color:  #b40426;\n",
       "            color:  #f1f1f1;\n",
       "        }</style><table id=\"T_01ed5_\" ><thead>    <tr>        <th class=\"blank level0\" ></th>        <th class=\"col_heading level0 col0\" >Pearson_rough</th>        <th class=\"col_heading level0 col1\" >Pearson_final</th>    </tr></thead><tbody>\n",
       "                <tr>\n",
       "                        <th id=\"T_01ed5_level0_row0\" class=\"row_heading level0 row0\" >rougher.state.floatbank10_c_air</th>\n",
       "                        <td id=\"T_01ed5_row0_col0\" class=\"data row0 col0\" >-0.336585</td>\n",
       "                        <td id=\"T_01ed5_row0_col1\" class=\"data row0 col1\" >-0.194062</td>\n",
       "            </tr>\n",
       "            <tr>\n",
       "                        <th id=\"T_01ed5_level0_row1\" class=\"row_heading level0 row1\" >rougher.state.floatbank10_d_air</th>\n",
       "                        <td id=\"T_01ed5_row1_col0\" class=\"data row1 col0\" >-0.336720</td>\n",
       "                        <td id=\"T_01ed5_row1_col1\" class=\"data row1 col1\" >-0.188977</td>\n",
       "            </tr>\n",
       "            <tr>\n",
       "                        <th id=\"T_01ed5_level0_row2\" class=\"row_heading level0 row2\" >rougher.state.floatbank10_b_air</th>\n",
       "                        <td id=\"T_01ed5_row2_col0\" class=\"data row2 col0\" >-0.287144</td>\n",
       "                        <td id=\"T_01ed5_row2_col1\" class=\"data row2 col1\" >-0.155803</td>\n",
       "            </tr>\n",
       "            <tr>\n",
       "                        <th id=\"T_01ed5_level0_row3\" class=\"row_heading level0 row3\" >rougher.state.floatbank10_e_air</th>\n",
       "                        <td id=\"T_01ed5_row3_col0\" class=\"data row3 col0\" >-0.248112</td>\n",
       "                        <td id=\"T_01ed5_row3_col1\" class=\"data row3 col1\" >-0.141340</td>\n",
       "            </tr>\n",
       "            <tr>\n",
       "                        <th id=\"T_01ed5_level0_row4\" class=\"row_heading level0 row4\" >rougher.state.floatbank10_f_air</th>\n",
       "                        <td id=\"T_01ed5_row4_col0\" class=\"data row4 col0\" >-0.182496</td>\n",
       "                        <td id=\"T_01ed5_row4_col1\" class=\"data row4 col1\" >-0.102466</td>\n",
       "            </tr>\n",
       "            <tr>\n",
       "                        <th id=\"T_01ed5_level0_row5\" class=\"row_heading level0 row5\" >secondary_cleaner.state.floatbank4_b_level</th>\n",
       "                        <td id=\"T_01ed5_row5_col0\" class=\"data row5 col0\" >-0.041753</td>\n",
       "                        <td id=\"T_01ed5_row5_col1\" class=\"data row5 col1\" >-0.100679</td>\n",
       "            </tr>\n",
       "            <tr>\n",
       "                        <th id=\"T_01ed5_level0_row6\" class=\"row_heading level0 row6\" >rougher.state.floatbank10_e_level</th>\n",
       "                        <td id=\"T_01ed5_row6_col0\" class=\"data row6 col0\" >-0.184944</td>\n",
       "                        <td id=\"T_01ed5_row6_col1\" class=\"data row6 col1\" >-0.097401</td>\n",
       "            </tr>\n",
       "            <tr>\n",
       "                        <th id=\"T_01ed5_level0_row7\" class=\"row_heading level0 row7\" >rougher.state.floatbank10_c_level</th>\n",
       "                        <td id=\"T_01ed5_row7_col0\" class=\"data row7 col0\" >-0.186915</td>\n",
       "                        <td id=\"T_01ed5_row7_col1\" class=\"data row7 col1\" >-0.096035</td>\n",
       "            </tr>\n",
       "            <tr>\n",
       "                        <th id=\"T_01ed5_level0_row8\" class=\"row_heading level0 row8\" >rougher.state.floatbank10_d_level</th>\n",
       "                        <td id=\"T_01ed5_row8_col0\" class=\"data row8 col0\" >-0.188227</td>\n",
       "                        <td id=\"T_01ed5_row8_col1\" class=\"data row8 col1\" >-0.095529</td>\n",
       "            </tr>\n",
       "            <tr>\n",
       "                        <th id=\"T_01ed5_level0_row9\" class=\"row_heading level0 row9\" >rougher.state.floatbank10_f_level</th>\n",
       "                        <td id=\"T_01ed5_row9_col0\" class=\"data row9 col0\" >-0.185394</td>\n",
       "                        <td id=\"T_01ed5_row9_col1\" class=\"data row9 col1\" >-0.094071</td>\n",
       "            </tr>\n",
       "            <tr>\n",
       "                        <th id=\"T_01ed5_level0_row10\" class=\"row_heading level0 row10\" >rougher.state.floatbank10_b_level</th>\n",
       "                        <td id=\"T_01ed5_row10_col0\" class=\"data row10 col0\" >-0.187581</td>\n",
       "                        <td id=\"T_01ed5_row10_col1\" class=\"data row10 col1\" >-0.085882</td>\n",
       "            </tr>\n",
       "            <tr>\n",
       "                        <th id=\"T_01ed5_level0_row11\" class=\"row_heading level0 row11\" >secondary_cleaner.state.floatbank6_a_level</th>\n",
       "                        <td id=\"T_01ed5_row11_col0\" class=\"data row11 col0\" >-0.082992</td>\n",
       "                        <td id=\"T_01ed5_row11_col1\" class=\"data row11 col1\" >-0.054321</td>\n",
       "            </tr>\n",
       "            <tr>\n",
       "                        <th id=\"T_01ed5_level0_row12\" class=\"row_heading level0 row12\" >primary_cleaner.state.floatbank8_d_level</th>\n",
       "                        <td id=\"T_01ed5_row12_col0\" class=\"data row12 col0\" >-0.010730</td>\n",
       "                        <td id=\"T_01ed5_row12_col1\" class=\"data row12 col1\" >-0.033662</td>\n",
       "            </tr>\n",
       "            <tr>\n",
       "                        <th id=\"T_01ed5_level0_row13\" class=\"row_heading level0 row13\" >secondary_cleaner.state.floatbank6_a_air</th>\n",
       "                        <td id=\"T_01ed5_row13_col0\" class=\"data row13 col0\" >-0.127891</td>\n",
       "                        <td id=\"T_01ed5_row13_col1\" class=\"data row13 col1\" >-0.025584</td>\n",
       "            </tr>\n",
       "            <tr>\n",
       "                        <th id=\"T_01ed5_level0_row14\" class=\"row_heading level0 row14\" >secondary_cleaner.state.floatbank2_b_level</th>\n",
       "                        <td id=\"T_01ed5_row14_col0\" class=\"data row14 col0\" >-0.082022</td>\n",
       "                        <td id=\"T_01ed5_row14_col1\" class=\"data row14 col1\" >-0.018254</td>\n",
       "            </tr>\n",
       "            <tr>\n",
       "                        <th id=\"T_01ed5_level0_row15\" class=\"row_heading level0 row15\" >secondary_cleaner.state.floatbank2_a_level</th>\n",
       "                        <td id=\"T_01ed5_row15_col0\" class=\"data row15 col0\" >-0.074130</td>\n",
       "                        <td id=\"T_01ed5_row15_col1\" class=\"data row15 col1\" >-0.012664</td>\n",
       "            </tr>\n",
       "            <tr>\n",
       "                        <th id=\"T_01ed5_level0_row16\" class=\"row_heading level0 row16\" >secondary_cleaner.state.floatbank3_b_level</th>\n",
       "                        <td id=\"T_01ed5_row16_col0\" class=\"data row16 col0\" >-0.113437</td>\n",
       "                        <td id=\"T_01ed5_row16_col1\" class=\"data row16 col1\" >-0.001016</td>\n",
       "            </tr>\n",
       "            <tr>\n",
       "                        <th id=\"T_01ed5_level0_row17\" class=\"row_heading level0 row17\" >primary_cleaner.state.floatbank8_c_level</th>\n",
       "                        <td id=\"T_01ed5_row17_col0\" class=\"data row17 col0\" >0.016055</td>\n",
       "                        <td id=\"T_01ed5_row17_col1\" class=\"data row17 col1\" >0.026352</td>\n",
       "            </tr>\n",
       "            <tr>\n",
       "                        <th id=\"T_01ed5_level0_row18\" class=\"row_heading level0 row18\" >secondary_cleaner.state.floatbank3_a_level</th>\n",
       "                        <td id=\"T_01ed5_row18_col0\" class=\"data row18 col0\" >-0.020450</td>\n",
       "                        <td id=\"T_01ed5_row18_col1\" class=\"data row18 col1\" >0.027404</td>\n",
       "            </tr>\n",
       "            <tr>\n",
       "                        <th id=\"T_01ed5_level0_row19\" class=\"row_heading level0 row19\" >secondary_cleaner.state.floatbank5_a_level</th>\n",
       "                        <td id=\"T_01ed5_row19_col0\" class=\"data row19 col0\" >-0.031448</td>\n",
       "                        <td id=\"T_01ed5_row19_col1\" class=\"data row19 col1\" >0.027857</td>\n",
       "            </tr>\n",
       "            <tr>\n",
       "                        <th id=\"T_01ed5_level0_row20\" class=\"row_heading level0 row20\" >primary_cleaner.state.floatbank8_a_level</th>\n",
       "                        <td id=\"T_01ed5_row20_col0\" class=\"data row20 col0\" >0.016425</td>\n",
       "                        <td id=\"T_01ed5_row20_col1\" class=\"data row20 col1\" >0.031175</td>\n",
       "            </tr>\n",
       "            <tr>\n",
       "                        <th id=\"T_01ed5_level0_row21\" class=\"row_heading level0 row21\" >secondary_cleaner.state.floatbank3_b_air</th>\n",
       "                        <td id=\"T_01ed5_row21_col0\" class=\"data row21 col0\" >0.046686</td>\n",
       "                        <td id=\"T_01ed5_row21_col1\" class=\"data row21 col1\" >0.040223</td>\n",
       "            </tr>\n",
       "            <tr>\n",
       "                        <th id=\"T_01ed5_level0_row22\" class=\"row_heading level0 row22\" >primary_cleaner.state.floatbank8_b_level</th>\n",
       "                        <td id=\"T_01ed5_row22_col0\" class=\"data row22 col0\" >0.010804</td>\n",
       "                        <td id=\"T_01ed5_row22_col1\" class=\"data row22 col1\" >0.044915</td>\n",
       "            </tr>\n",
       "            <tr>\n",
       "                        <th id=\"T_01ed5_level0_row23\" class=\"row_heading level0 row23\" >secondary_cleaner.state.floatbank5_b_level</th>\n",
       "                        <td id=\"T_01ed5_row23_col0\" class=\"data row23 col0\" >-0.002986</td>\n",
       "                        <td id=\"T_01ed5_row23_col1\" class=\"data row23 col1\" >0.046955</td>\n",
       "            </tr>\n",
       "            <tr>\n",
       "                        <th id=\"T_01ed5_level0_row24\" class=\"row_heading level0 row24\" >secondary_cleaner.state.floatbank4_a_level</th>\n",
       "                        <td id=\"T_01ed5_row24_col0\" class=\"data row24 col0\" >0.060945</td>\n",
       "                        <td id=\"T_01ed5_row24_col1\" class=\"data row24 col1\" >0.056872</td>\n",
       "            </tr>\n",
       "            <tr>\n",
       "                        <th id=\"T_01ed5_level0_row25\" class=\"row_heading level0 row25\" >primary_cleaner.state.floatbank8_d_air</th>\n",
       "                        <td id=\"T_01ed5_row25_col0\" class=\"data row25 col0\" >0.089855</td>\n",
       "                        <td id=\"T_01ed5_row25_col1\" class=\"data row25 col1\" >0.066463</td>\n",
       "            </tr>\n",
       "            <tr>\n",
       "                        <th id=\"T_01ed5_level0_row26\" class=\"row_heading level0 row26\" >secondary_cleaner.state.floatbank5_b_air</th>\n",
       "                        <td id=\"T_01ed5_row26_col0\" class=\"data row26 col0\" >0.236711</td>\n",
       "                        <td id=\"T_01ed5_row26_col1\" class=\"data row26 col1\" >0.072619</td>\n",
       "            </tr>\n",
       "            <tr>\n",
       "                        <th id=\"T_01ed5_level0_row27\" class=\"row_heading level0 row27\" >rougher.state.floatbank10_a_level</th>\n",
       "                        <td id=\"T_01ed5_row27_col0\" class=\"data row27 col0\" >0.367041</td>\n",
       "                        <td id=\"T_01ed5_row27_col1\" class=\"data row27 col1\" >0.102088</td>\n",
       "            </tr>\n",
       "            <tr>\n",
       "                        <th id=\"T_01ed5_level0_row28\" class=\"row_heading level0 row28\" >secondary_cleaner.state.floatbank5_a_air</th>\n",
       "                        <td id=\"T_01ed5_row28_col0\" class=\"data row28 col0\" >0.257948</td>\n",
       "                        <td id=\"T_01ed5_row28_col1\" class=\"data row28 col1\" >0.104975</td>\n",
       "            </tr>\n",
       "            <tr>\n",
       "                        <th id=\"T_01ed5_level0_row29\" class=\"row_heading level0 row29\" >secondary_cleaner.state.floatbank2_b_air</th>\n",
       "                        <td id=\"T_01ed5_row29_col0\" class=\"data row29 col0\" >0.206645</td>\n",
       "                        <td id=\"T_01ed5_row29_col1\" class=\"data row29 col1\" >0.128643</td>\n",
       "            </tr>\n",
       "            <tr>\n",
       "                        <th id=\"T_01ed5_level0_row30\" class=\"row_heading level0 row30\" >secondary_cleaner.state.floatbank2_a_air</th>\n",
       "                        <td id=\"T_01ed5_row30_col0\" class=\"data row30 col0\" >0.215940</td>\n",
       "                        <td id=\"T_01ed5_row30_col1\" class=\"data row30 col1\" >0.149798</td>\n",
       "            </tr>\n",
       "            <tr>\n",
       "                        <th id=\"T_01ed5_level0_row31\" class=\"row_heading level0 row31\" >primary_cleaner.state.floatbank8_a_air</th>\n",
       "                        <td id=\"T_01ed5_row31_col0\" class=\"data row31 col0\" >0.198365</td>\n",
       "                        <td id=\"T_01ed5_row31_col1\" class=\"data row31 col1\" >0.151267</td>\n",
       "            </tr>\n",
       "            <tr>\n",
       "                        <th id=\"T_01ed5_level0_row32\" class=\"row_heading level0 row32\" >primary_cleaner.state.floatbank8_c_air</th>\n",
       "                        <td id=\"T_01ed5_row32_col0\" class=\"data row32 col0\" >0.243308</td>\n",
       "                        <td id=\"T_01ed5_row32_col1\" class=\"data row32 col1\" >0.157261</td>\n",
       "            </tr>\n",
       "            <tr>\n",
       "                        <th id=\"T_01ed5_level0_row33\" class=\"row_heading level0 row33\" >primary_cleaner.state.floatbank8_b_air</th>\n",
       "                        <td id=\"T_01ed5_row33_col0\" class=\"data row33 col0\" >0.223540</td>\n",
       "                        <td id=\"T_01ed5_row33_col1\" class=\"data row33 col1\" >0.168475</td>\n",
       "            </tr>\n",
       "            <tr>\n",
       "                        <th id=\"T_01ed5_level0_row34\" class=\"row_heading level0 row34\" >secondary_cleaner.state.floatbank4_b_air</th>\n",
       "                        <td id=\"T_01ed5_row34_col0\" class=\"data row34 col0\" >0.375968</td>\n",
       "                        <td id=\"T_01ed5_row34_col1\" class=\"data row34 col1\" >0.183392</td>\n",
       "            </tr>\n",
       "            <tr>\n",
       "                        <th id=\"T_01ed5_level0_row35\" class=\"row_heading level0 row35\" >secondary_cleaner.state.floatbank3_a_air</th>\n",
       "                        <td id=\"T_01ed5_row35_col0\" class=\"data row35 col0\" >0.304135</td>\n",
       "                        <td id=\"T_01ed5_row35_col1\" class=\"data row35 col1\" >0.199368</td>\n",
       "            </tr>\n",
       "            <tr>\n",
       "                        <th id=\"T_01ed5_level0_row36\" class=\"row_heading level0 row36\" >secondary_cleaner.state.floatbank4_a_air</th>\n",
       "                        <td id=\"T_01ed5_row36_col0\" class=\"data row36 col0\" >0.397031</td>\n",
       "                        <td id=\"T_01ed5_row36_col1\" class=\"data row36 col1\" >0.216255</td>\n",
       "            </tr>\n",
       "            <tr>\n",
       "                        <th id=\"T_01ed5_level0_row37\" class=\"row_heading level0 row37\" >rougher.state.floatbank10_a_air</th>\n",
       "                        <td id=\"T_01ed5_row37_col0\" class=\"data row37 col0\" >0.409882</td>\n",
       "                        <td id=\"T_01ed5_row37_col1\" class=\"data row37 col1\" >0.243899</td>\n",
       "            </tr>\n",
       "    </tbody></table>"
      ],
      "text/plain": [
       "<pandas.io.formats.style.Styler at 0x7f44b5249490>"
      ]
     },
     "execution_count": 38,
     "metadata": {},
     "output_type": "execute_result"
    }
   ],
   "source": [
    "print(\"Зависимость целевых признаков от параметров СОСТОЯНИЯ на этапах ОЧИСТКИ\")\n",
    "(corr_matrix[corr_matrix.index.str.contains('state')]\n",
    "     .sort_values(by='Pearson_final')\n",
    "     .style.background_gradient(cmap='coolwarm') \n",
    ")"
   ]
  },
  {
   "cell_type": "markdown",
   "metadata": {},
   "source": [
    "C финальным концентратом показатели корреляции в целом выше.  \n",
    "Параметры с очень низкими показателями мы попробуем отфильтровать на этапе моделирования."
   ]
  },
  {
   "cell_type": "markdown",
   "metadata": {},
   "source": [
    "Присутствует взаимосвязь двух таргетов, в этой связи мы будем использовать две модели.  \n",
    "Для предсказания чернового концентрата мы не будем использовать данные, полученные по процессу после проведения флотации."
   ]
  },
  {
   "cell_type": "markdown",
   "metadata": {},
   "source": [
    "## Модель"
   ]
  },
  {
   "cell_type": "code",
   "execution_count": 39,
   "metadata": {},
   "outputs": [],
   "source": [
    "RANDOM_STATE=11363\n",
    "RANDOM_SEED=11363"
   ]
  },
  {
   "cell_type": "code",
   "execution_count": 40,
   "metadata": {},
   "outputs": [],
   "source": [
    "# Сформируем список фичей, который мы будем использовать, таргеты и отфильтруем обучающую выборку.\n",
    "# Также добавим в тестовую выборку таргеты 'rougher.output.recovery', 'final.output.recovery'\n",
    "X = test.columns\n",
    "y_1 = ['rougher.output.recovery']\n",
    "y_2 = ['final.output.recovery']\n",
    "train = train[set(X).union({'rougher.output.recovery', 'final.output.recovery'})]\n",
    "test = test.merge(full[['rougher.output.recovery', 'final.output.recovery']], how='left',left_index=True, right_index=True)"
   ]
  },
  {
   "cell_type": "markdown",
   "metadata": {},
   "source": [
    "### Создание функций"
   ]
  },
  {
   "cell_type": "code",
   "execution_count": 41,
   "metadata": {},
   "outputs": [],
   "source": [
    "def smape_error(target, predict):\n",
    "    target=np.array(target)\n",
    "    predict=np.array(predict)\n",
    "    total = 0\n",
    "    for i in range(len(target)):\n",
    "        total += abs(target[i] - predict[i]) / ((abs(target[i]) + abs(predict[i]))/2)\n",
    "    return -total * 100 / len(target)"
   ]
  },
  {
   "cell_type": "code",
   "execution_count": 42,
   "metadata": {},
   "outputs": [],
   "source": [
    "# Создадим новую функцию для оценки ошибки с весами 1:3 для концентраций золота на этапах флотации и финальном.\n",
    "\n",
    "def total_smape(rougher_smape, final_smape):\n",
    "    total = rougher_smape * 0.25 + final_smape * 0.75\n",
    "    return total"
   ]
  },
  {
   "cell_type": "code",
   "execution_count": 43,
   "metadata": {},
   "outputs": [],
   "source": [
    "smape_scorer = make_scorer(smape_error)"
   ]
  },
  {
   "cell_type": "code",
   "execution_count": 44,
   "metadata": {},
   "outputs": [],
   "source": [
    "# Создадим функцию для отображения кривых валидации\n",
    "\n",
    "def plot_learning_curve(title, model, features, target, score, train_sizes):\n",
    "\n",
    "    train_sizes, train_scores, validation_scores = learning_curve(\n",
    "        estimator=model,\n",
    "        X=features,\n",
    "        y=target,\n",
    "        scoring=score,\n",
    "        train_sizes=TRAIN_SIZES,\n",
    "        shuffle=True,\n",
    "        cv=5,\n",
    "    )\n",
    "\n",
    "    # Берем метрики качества модели, полученные для  значений train_sizes\n",
    "    # Вычисляем по ним среднее арифметическое для графиков кривых\n",
    "    train_scores_mean = train_scores.mean(axis=1)\n",
    "    validation_scores_mean = validation_scores.mean(axis=1)\n",
    "\n",
    "    plt.style.use('seaborn-notebook')\n",
    "    plt.plot(train_sizes, train_scores_mean, label='Training error')\n",
    "    plt.plot(train_sizes, validation_scores_mean, label='Validation error')\n",
    "    plt.ylabel(score, fontsize=13)\n",
    "    plt.xlabel('Training set size', fontsize=13)\n",
    "    plt.title(title, fontsize=13, y=1.02)\n",
    "    plt.legend()\n",
    "    plt.ylim(-12, -2)\n",
    "    plt.grid(True)\n",
    "\n",
    "    plt.show()"
   ]
  },
  {
   "cell_type": "code",
   "execution_count": 45,
   "metadata": {},
   "outputs": [],
   "source": [
    "TRAIN_SIZES = range(1000, 11000, 500)"
   ]
  },
  {
   "cell_type": "code",
   "execution_count": 46,
   "metadata": {},
   "outputs": [
    {
     "name": "stdout",
     "output_type": "stream",
     "text": [
      "Формат обучающей выборки: (13795, 54)\n",
      "Формат обучающей выборки после удаления аутлаеров в таргетах: (13721, 54)\n",
      "\n",
      "\n"
     ]
    }
   ],
   "source": [
    "# Очистим данные от аутлаеров в таргетах\n",
    "print(f'Формат обучающей выборки: {train.shape}')\n",
    "train = train[(train['final.output.recovery'] != 0) & (train['final.output.recovery'] != 100) & (train['rougher.output.recovery'] != 0)]\n",
    "print(f'Формат обучающей выборки после удаления аутлаеров в таргетах: {train.shape}\\n\\n')\n",
    "\n",
    "# print(f'Формат тестовой выборки: {test.shape}')\n",
    "# test = test[(test['final.output.recovery'] != 0) & (test['final.output.recovery'] != 100) & (test['rougher.output.recovery'] != 0)]\n",
    "# print(f'Формат тестовой выборки после удаления аутлаеров в таргетах: {test.shape}')"
   ]
  },
  {
   "cell_type": "markdown",
   "metadata": {},
   "source": [
    "### Линейная регрессия"
   ]
  },
  {
   "cell_type": "code",
   "execution_count": 47,
   "metadata": {},
   "outputs": [
    {
     "name": "stdout",
     "output_type": "stream",
     "text": [
      "==> Результаты предсказаний LinearRegression():\n",
      "\n",
      " для ЧЕРНОВОГО концентрата:\n",
      " 7.18\n",
      "\n",
      " для ФИНАЛЬНОГО концентрата:\n",
      " 10.72\n",
      "\n",
      " результирующий sMAPE:\n",
      " 9.84\n"
     ]
    }
   ],
   "source": [
    "model = LinearRegression()\n",
    "\n",
    "print(f'==> Результаты предсказаний {model}:\\n')\n",
    "\n",
    "smape_rough = cross_val_score(model, train[X], train[y_1], cv=5, scoring = smape_scorer).mean() * (-1)\n",
    "print(\" для ЧЕРНОВОГО концентрата:\")\n",
    "print(f\" {smape_rough :.2f}\\n\")\n",
    "\n",
    "smape_final = cross_val_score(model, train[X], train[y_2], cv=5, scoring = smape_scorer).mean() * (-1)\n",
    "print(' для ФИНАЛЬНОГО концентрата:')\n",
    "print(f' {smape_final :.2f}\\n')\n",
    "\n",
    "print(' результирующий sMAPE:')\n",
    "print(f' {total_smape(smape_rough, smape_final):.2f}')"
   ]
  },
  {
   "cell_type": "markdown",
   "metadata": {},
   "source": [
    "Примем эти результаты за baseline."
   ]
  },
  {
   "cell_type": "code",
   "execution_count": 48,
   "metadata": {
    "scrolled": true
   },
   "outputs": [
    {
     "data": {
      "text/html": [
       "<div>\n",
       "<style scoped>\n",
       "    .dataframe tbody tr th:only-of-type {\n",
       "        vertical-align: middle;\n",
       "    }\n",
       "\n",
       "    .dataframe tbody tr th {\n",
       "        vertical-align: top;\n",
       "    }\n",
       "\n",
       "    .dataframe thead th {\n",
       "        text-align: right;\n",
       "    }\n",
       "</style>\n",
       "<table border=\"1\" class=\"dataframe\">\n",
       "  <thead>\n",
       "    <tr style=\"text-align: right;\">\n",
       "      <th></th>\n",
       "      <th>1_base_model(LR)</th>\n",
       "    </tr>\n",
       "  </thead>\n",
       "  <tbody>\n",
       "    <tr>\n",
       "      <th>score_rough</th>\n",
       "      <td>7.178800</td>\n",
       "    </tr>\n",
       "    <tr>\n",
       "      <th>score_final</th>\n",
       "      <td>10.723519</td>\n",
       "    </tr>\n",
       "    <tr>\n",
       "      <th>score_total</th>\n",
       "      <td>9.837339</td>\n",
       "    </tr>\n",
       "  </tbody>\n",
       "</table>\n",
       "</div>"
      ],
      "text/plain": [
       "             1_base_model(LR)\n",
       "score_rough          7.178800\n",
       "score_final         10.723519\n",
       "score_total          9.837339"
      ]
     },
     "execution_count": 48,
     "metadata": {},
     "output_type": "execute_result"
    }
   ],
   "source": [
    "models_results = pd.DataFrame(index = ['score_rough', 'score_final', 'score_total'])\n",
    "models_results['1_base_model(LR)'] = [smape_rough, smape_final, total_smape(smape_rough, smape_final)]\n",
    "models_results"
   ]
  },
  {
   "cell_type": "markdown",
   "metadata": {},
   "source": [
    "### Решающее дерево"
   ]
  },
  {
   "cell_type": "code",
   "execution_count": 49,
   "metadata": {},
   "outputs": [
    {
     "name": "stdout",
     "output_type": "stream",
     "text": [
      "==> Результаты предсказаний DecisionTreeRegressor(max_depth=2, random_state=11363)\n",
      "\n",
      " для ЧЕРНОВОГО концентрата:\n",
      " 7.64\n",
      "\n",
      " для ФИНАЛЬНОГО концентрата:\n",
      " 9.34\n",
      "\n",
      " результирующий sMAPE:\n",
      " 8.92\n"
     ]
    }
   ],
   "source": [
    "max_depth = 2\n",
    "model = DecisionTreeRegressor(max_depth=max_depth, random_state=RANDOM_STATE)\n",
    "\n",
    "print(f'==> Результаты предсказаний {model}\\n')\n",
    "\n",
    "smape_rough = cross_val_score(model, train[X], train[y_1], cv=5, scoring = smape_scorer).mean() * (-1)\n",
    "print(' для ЧЕРНОВОГО концентрата:')\n",
    "print(f' {smape_rough:.2f}\\n')\n",
    "\n",
    "smape_final = cross_val_score(model, train[X], train[y_2], cv=5, scoring = smape_scorer).mean() * (-1)\n",
    "print(' для ФИНАЛЬНОГО концентрата:')\n",
    "print(f' {smape_final :.2f}\\n')\n",
    "\n",
    "print(' результирующий sMAPE:')\n",
    "print(f' {total_smape(smape_rough, smape_final):.2f}')"
   ]
  },
  {
   "cell_type": "code",
   "execution_count": 50,
   "metadata": {},
   "outputs": [
    {
     "name": "stdout",
     "output_type": "stream",
     "text": [
      "==> Результаты предсказаний DecisionTreeRegressor(max_depth=1, random_state=11363)\n",
      "\n",
      " для ЧЕРНОВОГО концентрата:\n",
      " 8.09\n",
      "\n",
      " для ФИНАЛЬНОГО концентрата:\n",
      " 9.81\n",
      "\n",
      " результирующий sMAPE:\n",
      " 9.38\n"
     ]
    }
   ],
   "source": [
    "# Попробуем взять меньшую глубину\n",
    "max_depth = 1\n",
    "model = DecisionTreeRegressor(max_depth=max_depth, random_state=RANDOM_STATE)\n",
    "\n",
    "print(f'==> Результаты предсказаний {model}\\n')\n",
    "\n",
    "smape_rough = cross_val_score(model, train[X], train[y_1], cv=5, scoring = smape_scorer).mean() * (-1)\n",
    "print(' для ЧЕРНОВОГО концентрата:')\n",
    "print(f' {smape_rough :.2f}\\n')\n",
    "\n",
    "\n",
    "smape_final = cross_val_score(model, train[X], train[y_2], cv=5, scoring = smape_scorer).mean() * (-1)\n",
    "print(' для ФИНАЛЬНОГО концентрата:')\n",
    "print(f' {smape_final :.2f}\\n')\n",
    "\n",
    "print(' результирующий sMAPE:')\n",
    "print(f' {total_smape(smape_rough, smape_final):.2f}')"
   ]
  },
  {
   "cell_type": "code",
   "execution_count": 51,
   "metadata": {},
   "outputs": [
    {
     "data": {
      "text/html": [
       "<div>\n",
       "<style scoped>\n",
       "    .dataframe tbody tr th:only-of-type {\n",
       "        vertical-align: middle;\n",
       "    }\n",
       "\n",
       "    .dataframe tbody tr th {\n",
       "        vertical-align: top;\n",
       "    }\n",
       "\n",
       "    .dataframe thead th {\n",
       "        text-align: right;\n",
       "    }\n",
       "</style>\n",
       "<table border=\"1\" class=\"dataframe\">\n",
       "  <thead>\n",
       "    <tr style=\"text-align: right;\">\n",
       "      <th></th>\n",
       "      <th>1_base_model(LR)</th>\n",
       "      <th>2_DecisionTree</th>\n",
       "    </tr>\n",
       "  </thead>\n",
       "  <tbody>\n",
       "    <tr>\n",
       "      <th>score_rough</th>\n",
       "      <td>7.178800</td>\n",
       "      <td>8.089410</td>\n",
       "    </tr>\n",
       "    <tr>\n",
       "      <th>score_final</th>\n",
       "      <td>10.723519</td>\n",
       "      <td>9.814606</td>\n",
       "    </tr>\n",
       "    <tr>\n",
       "      <th>score_total</th>\n",
       "      <td>9.837339</td>\n",
       "      <td>9.383307</td>\n",
       "    </tr>\n",
       "  </tbody>\n",
       "</table>\n",
       "</div>"
      ],
      "text/plain": [
       "             1_base_model(LR)  2_DecisionTree\n",
       "score_rough          7.178800        8.089410\n",
       "score_final         10.723519        9.814606\n",
       "score_total          9.837339        9.383307"
      ]
     },
     "execution_count": 51,
     "metadata": {},
     "output_type": "execute_result"
    }
   ],
   "source": [
    "models_results['2_DecisionTree'] = [smape_rough, smape_final, total_smape(smape_rough, smape_final)]\n",
    "models_results"
   ]
  },
  {
   "cell_type": "markdown",
   "metadata": {},
   "source": [
    "### Случайный лес"
   ]
  },
  {
   "cell_type": "code",
   "execution_count": 52,
   "metadata": {},
   "outputs": [
    {
     "name": "stdout",
     "output_type": "stream",
     "text": [
      "==> Результаты предсказаний RandomForestRegressor(max_depth=1, random_state=11363)\n",
      "\n",
      " для ЧЕРНОВОГО концентрата:\n",
      " 7.64\n",
      "\n",
      " для ФИНАЛЬНОГО концентрата:\n",
      " 9.61\n",
      "\n",
      " результирующий sMAPE:\n",
      " 9.12\n"
     ]
    }
   ],
   "source": [
    "max_depth = 1\n",
    "model = RandomForestRegressor(max_depth=max_depth, random_state=RANDOM_STATE)\n",
    "\n",
    "print(f'==> Результаты предсказаний {model}\\n')\n",
    "\n",
    "smape_rough = cross_val_score(model, train[X], train[y_1], cv=5, scoring = smape_scorer).mean() * (-1)\n",
    "print(' для ЧЕРНОВОГО концентрата:')\n",
    "print(f' {smape_rough :.2f}\\n')\n",
    "\n",
    "smape_final = cross_val_score(model, train[X], train[y_2], cv=5, scoring = smape_scorer).mean() * (-1)\n",
    "print(' для ФИНАЛЬНОГО концентрата:')\n",
    "print(f' {smape_final :.2f}\\n')\n",
    "\n",
    "print(' результирующий sMAPE:')\n",
    "print(f' {total_smape(smape_rough, smape_final):.2f}')"
   ]
  },
  {
   "cell_type": "code",
   "execution_count": 53,
   "metadata": {},
   "outputs": [
    {
     "data": {
      "text/html": [
       "<div>\n",
       "<style scoped>\n",
       "    .dataframe tbody tr th:only-of-type {\n",
       "        vertical-align: middle;\n",
       "    }\n",
       "\n",
       "    .dataframe tbody tr th {\n",
       "        vertical-align: top;\n",
       "    }\n",
       "\n",
       "    .dataframe thead th {\n",
       "        text-align: right;\n",
       "    }\n",
       "</style>\n",
       "<table border=\"1\" class=\"dataframe\">\n",
       "  <thead>\n",
       "    <tr style=\"text-align: right;\">\n",
       "      <th></th>\n",
       "      <th>1_base_model(LR)</th>\n",
       "      <th>2_DecisionTree</th>\n",
       "      <th>3_RandomForest</th>\n",
       "    </tr>\n",
       "  </thead>\n",
       "  <tbody>\n",
       "    <tr>\n",
       "      <th>score_rough</th>\n",
       "      <td>7.178800</td>\n",
       "      <td>8.089410</td>\n",
       "      <td>7.637065</td>\n",
       "    </tr>\n",
       "    <tr>\n",
       "      <th>score_final</th>\n",
       "      <td>10.723519</td>\n",
       "      <td>9.814606</td>\n",
       "      <td>9.614325</td>\n",
       "    </tr>\n",
       "    <tr>\n",
       "      <th>score_total</th>\n",
       "      <td>9.837339</td>\n",
       "      <td>9.383307</td>\n",
       "      <td>9.120010</td>\n",
       "    </tr>\n",
       "  </tbody>\n",
       "</table>\n",
       "</div>"
      ],
      "text/plain": [
       "             1_base_model(LR)  2_DecisionTree  3_RandomForest\n",
       "score_rough          7.178800        8.089410        7.637065\n",
       "score_final         10.723519        9.814606        9.614325\n",
       "score_total          9.837339        9.383307        9.120010"
      ]
     },
     "execution_count": 53,
     "metadata": {},
     "output_type": "execute_result"
    }
   ],
   "source": [
    "models_results['3_RandomForest'] = [smape_rough, smape_final, total_smape(smape_rough, smape_final)]\n",
    "models_results"
   ]
  },
  {
   "cell_type": "markdown",
   "metadata": {},
   "source": [
    "### CatBoost"
   ]
  },
  {
   "cell_type": "code",
   "execution_count": 54,
   "metadata": {},
   "outputs": [],
   "source": [
    "# Создадим свой скорринг для CatBoost\n",
    "class CatBoostSmapeScoring(object):\n",
    "    \n",
    "    def smape_error(self, target, predict):\n",
    "        target=np.array(target)\n",
    "        predict=np.array(predict)\n",
    "        total = 0\n",
    "        for i in range(len(target)):\n",
    "            total += abs(target[i] - predict[i]) / ((abs(target[i]) + abs(predict[i]))/2)\n",
    "        return total * 100 / len(target)\n",
    "\n",
    "    def get_final_error(self, error, weight):\n",
    "        return error\n",
    "\n",
    "    def is_max_optimal(self):\n",
    "        # the larger metric value the better - in our case it should be False\n",
    "        return False\n",
    "\n",
    "    def evaluate(self, approxes, target, weight):\n",
    "        assert len(approxes) == 1\n",
    "        assert len(target) == len(approxes[0])\n",
    "        preds = np.array(approxes[0])\n",
    "        target = np.array(target)\n",
    "        score = self.smape_error(target, preds)\n",
    "        return score, 0"
   ]
  },
  {
   "cell_type": "code",
   "execution_count": 55,
   "metadata": {},
   "outputs": [],
   "source": [
    "cat_features = []\n",
    "\n",
    "params = {'cat_features': cat_features,\n",
    "          'eval_metric': CatBoostSmapeScoring(),\n",
    "          'loss_function': 'MAPE',\n",
    "          'random_seed': RANDOM_SEED,\n",
    "          'verbose': 100,\n",
    "          'early_stopping_rounds': 100,\n",
    "          'learning_rate':0.15}\n",
    "\n",
    "model = CatBoostRegressor(**params)"
   ]
  },
  {
   "cell_type": "code",
   "execution_count": 56,
   "metadata": {},
   "outputs": [],
   "source": [
    "train_data_1 = Pool(data=train[X],\n",
    "                    label=train[y_1],\n",
    "                    cat_features=cat_features)\n",
    "\n",
    "train_data_2 = Pool(data=train[X],\n",
    "                    label=train[y_2],\n",
    "                    cat_features=cat_features)"
   ]
  },
  {
   "cell_type": "code",
   "execution_count": 57,
   "metadata": {},
   "outputs": [
    {
     "name": "stdout",
     "output_type": "stream",
     "text": [
      "Training on fold [0/5]\n",
      "0:\tlearn: 147.4309945\ttest: 147.4386214\tbest: 147.4386214 (0)\ttotal: 615ms\tremaining: 10m 14s\n",
      "100:\tlearn: 3.6892903\ttest: 3.9480093\tbest: 3.9480093 (100)\ttotal: 8.33s\tremaining: 1m 14s\n",
      "200:\tlearn: 3.3236191\ttest: 3.7248680\tbest: 3.7248680 (200)\ttotal: 15.8s\tremaining: 1m 2s\n",
      "300:\tlearn: 3.1376362\ttest: 3.6175761\tbest: 3.6175761 (300)\ttotal: 23.3s\tremaining: 54.1s\n",
      "400:\tlearn: 3.0648096\ttest: 3.5903954\tbest: 3.5890462 (388)\ttotal: 30.6s\tremaining: 45.6s\n",
      "500:\tlearn: 3.0192843\ttest: 3.5681373\tbest: 3.5674551 (498)\ttotal: 37.9s\tremaining: 37.8s\n",
      "600:\tlearn: 2.9842207\ttest: 3.5547133\tbest: 3.5501980 (593)\ttotal: 45.2s\tremaining: 30s\n",
      "700:\tlearn: 2.9541868\ttest: 3.5435113\tbest: 3.5425651 (696)\ttotal: 52.5s\tremaining: 22.4s\n",
      "800:\tlearn: 2.9151949\ttest: 3.5226556\tbest: 3.5222237 (787)\ttotal: 59.7s\tremaining: 14.8s\n",
      "900:\tlearn: 2.8970201\ttest: 3.5187992\tbest: 3.5174560 (859)\ttotal: 1m 6s\tremaining: 7.36s\n",
      "999:\tlearn: 2.8684613\ttest: 3.5079602\tbest: 3.5067751 (969)\ttotal: 1m 14s\tremaining: 0us\n",
      "\n",
      "bestTest = 3.506775076\n",
      "bestIteration = 969\n",
      "\n",
      "Training on fold [1/5]\n",
      "0:\tlearn: 147.4199827\ttest: 147.5681502\tbest: 147.5681502 (0)\ttotal: 80.9ms\tremaining: 1m 20s\n",
      "100:\tlearn: 3.7379564\ttest: 3.9290999\tbest: 3.9290999 (100)\ttotal: 7.8s\tremaining: 1m 9s\n",
      "200:\tlearn: 3.3163726\ttest: 3.6970925\tbest: 3.6970925 (200)\ttotal: 15.4s\tremaining: 1m 1s\n",
      "300:\tlearn: 3.1409703\ttest: 3.6065783\tbest: 3.6065783 (300)\ttotal: 22.9s\tremaining: 53.1s\n",
      "400:\tlearn: 3.0332969\ttest: 3.5546851\tbest: 3.5543477 (398)\ttotal: 30.3s\tremaining: 45.2s\n",
      "500:\tlearn: 2.9606258\ttest: 3.5144241\tbest: 3.5141558 (497)\ttotal: 38s\tremaining: 37.9s\n",
      "600:\tlearn: 2.9041313\ttest: 3.4782358\tbest: 3.4782358 (600)\ttotal: 45.7s\tremaining: 30.3s\n",
      "700:\tlearn: 2.8826644\ttest: 3.4745246\tbest: 3.4738033 (684)\ttotal: 53.4s\tremaining: 22.8s\n",
      "800:\tlearn: 2.8483246\ttest: 3.4581441\tbest: 3.4578915 (795)\ttotal: 1m 1s\tremaining: 15.2s\n",
      "900:\tlearn: 2.8169056\ttest: 3.4417153\tbest: 3.4407693 (870)\ttotal: 1m 8s\tremaining: 7.55s\n",
      "999:\tlearn: 2.7979446\ttest: 3.4369442\tbest: 3.4342295 (920)\ttotal: 1m 16s\tremaining: 0us\n",
      "\n",
      "bestTest = 3.43422947\n",
      "bestIteration = 920\n",
      "\n",
      "Training on fold [2/5]\n",
      "0:\tlearn: 147.4289493\ttest: 147.6040380\tbest: 147.6040380 (0)\ttotal: 74.8ms\tremaining: 1m 14s\n",
      "100:\tlearn: 3.7772204\ttest: 3.7954196\tbest: 3.7954196 (100)\ttotal: 7.69s\tremaining: 1m 8s\n",
      "200:\tlearn: 3.3211146\ttest: 3.5311084\tbest: 3.5305686 (198)\ttotal: 15.4s\tremaining: 1m 1s\n",
      "300:\tlearn: 3.2273019\ttest: 3.5028044\tbest: 3.5027751 (299)\ttotal: 23.1s\tremaining: 53.7s\n",
      "400:\tlearn: 3.1040766\ttest: 3.4213863\tbest: 3.4213863 (400)\ttotal: 31s\tremaining: 46.4s\n",
      "500:\tlearn: 3.0589928\ttest: 3.3943693\tbest: 3.3943693 (500)\ttotal: 38.9s\tremaining: 38.7s\n",
      "600:\tlearn: 3.0382082\ttest: 3.3840201\tbest: 3.3826934 (577)\ttotal: 46.7s\tremaining: 31s\n",
      "700:\tlearn: 2.9520347\ttest: 3.3247443\tbest: 3.3247443 (700)\ttotal: 54.2s\tremaining: 23.1s\n",
      "800:\tlearn: 2.9274392\ttest: 3.3196047\tbest: 3.3196047 (800)\ttotal: 1m 1s\tremaining: 15.4s\n",
      "900:\tlearn: 2.9166583\ttest: 3.3175037\tbest: 3.3173061 (894)\ttotal: 1m 9s\tremaining: 7.62s\n",
      "999:\tlearn: 2.8931086\ttest: 3.3080869\tbest: 3.3080366 (994)\ttotal: 1m 16s\tremaining: 0us\n",
      "\n",
      "bestTest = 3.308036649\n",
      "bestIteration = 994\n",
      "\n",
      "Training on fold [3/5]\n",
      "0:\tlearn: 147.4369467\ttest: 147.3396673\tbest: 147.3396673 (0)\ttotal: 82.4ms\tremaining: 1m 22s\n",
      "100:\tlearn: 3.7426235\ttest: 4.1633675\tbest: 4.1633675 (100)\ttotal: 7.88s\tremaining: 1m 10s\n",
      "200:\tlearn: 3.2984081\ttest: 3.9186108\tbest: 3.9186108 (200)\ttotal: 15.8s\tremaining: 1m 2s\n",
      "300:\tlearn: 3.1367324\ttest: 3.8456325\tbest: 3.8456325 (300)\ttotal: 23.4s\tremaining: 54.4s\n",
      "400:\tlearn: 3.0717129\ttest: 3.8245735\tbest: 3.8245735 (400)\ttotal: 31.1s\tremaining: 46.4s\n",
      "500:\tlearn: 3.0075857\ttest: 3.7946895\tbest: 3.7941369 (480)\ttotal: 38.7s\tremaining: 38.6s\n",
      "600:\tlearn: 2.9640015\ttest: 3.7705352\tbest: 3.7705352 (600)\ttotal: 46.3s\tremaining: 30.7s\n",
      "700:\tlearn: 2.9270458\ttest: 3.7508730\tbest: 3.7506972 (699)\ttotal: 53.6s\tremaining: 22.9s\n",
      "800:\tlearn: 2.9011936\ttest: 3.7396461\tbest: 3.7381026 (756)\ttotal: 1m\tremaining: 15.1s\n",
      "900:\tlearn: 2.8861096\ttest: 3.7368061\tbest: 3.7368061 (900)\ttotal: 1m 8s\tremaining: 7.5s\n",
      "999:\tlearn: 2.8700314\ttest: 3.7338966\tbest: 3.7338661 (997)\ttotal: 1m 15s\tremaining: 0us\n",
      "\n",
      "bestTest = 3.733866112\n",
      "bestIteration = 997\n",
      "\n",
      "Training on fold [4/5]\n",
      "0:\tlearn: 147.4331516\ttest: 147.2771289\tbest: 147.2771289 (0)\ttotal: 72.2ms\tremaining: 1m 12s\n",
      "100:\tlearn: 3.5178848\ttest: 4.0821524\tbest: 4.0821524 (100)\ttotal: 7.61s\tremaining: 1m 7s\n",
      "200:\tlearn: 2.9823543\ttest: 3.6743838\tbest: 3.6743838 (200)\ttotal: 14.9s\tremaining: 59.3s\n",
      "300:\tlearn: 2.6867185\ttest: 3.4638274\tbest: 3.4638274 (300)\ttotal: 22.3s\tremaining: 51.8s\n",
      "400:\tlearn: 2.4947959\ttest: 3.3493137\tbest: 3.3493137 (400)\ttotal: 29.5s\tremaining: 44.1s\n",
      "500:\tlearn: 2.3413698\ttest: 3.2570685\tbest: 3.2570685 (500)\ttotal: 37s\tremaining: 36.8s\n",
      "600:\tlearn: 2.2159848\ttest: 3.1951596\tbest: 3.1951596 (600)\ttotal: 44.4s\tremaining: 29.5s\n",
      "700:\tlearn: 2.1147113\ttest: 3.1543524\tbest: 3.1543524 (700)\ttotal: 51.8s\tremaining: 22.1s\n",
      "800:\tlearn: 2.0288058\ttest: 3.1162660\tbest: 3.1162660 (800)\ttotal: 59.4s\tremaining: 14.8s\n",
      "900:\tlearn: 1.9578366\ttest: 3.0877958\tbest: 3.0877958 (900)\ttotal: 1m 6s\tremaining: 7.34s\n",
      "999:\tlearn: 1.9025386\ttest: 3.0655865\tbest: 3.0655865 (999)\ttotal: 1m 14s\tremaining: 0us\n",
      "\n",
      "bestTest = 3.065586511\n",
      "bestIteration = 999\n",
      "\n"
     ]
    }
   ],
   "source": [
    "cv_data = cv(\n",
    "    params=params,\n",
    "    pool=train_data_1,\n",
    "    fold_count=5,\n",
    "    shuffle=True,\n",
    "    partition_random_seed=RANDOM_SEED,\n",
    ")"
   ]
  },
  {
   "cell_type": "markdown",
   "metadata": {},
   "source": [
    "CatBoost показывает значительно лучшие результаты на черновом концентрате."
   ]
  },
  {
   "cell_type": "code",
   "execution_count": 58,
   "metadata": {},
   "outputs": [
    {
     "data": {
      "text/html": [
       "<div>\n",
       "<style scoped>\n",
       "    .dataframe tbody tr th:only-of-type {\n",
       "        vertical-align: middle;\n",
       "    }\n",
       "\n",
       "    .dataframe tbody tr th {\n",
       "        vertical-align: top;\n",
       "    }\n",
       "\n",
       "    .dataframe thead th {\n",
       "        text-align: right;\n",
       "    }\n",
       "</style>\n",
       "<table border=\"1\" class=\"dataframe\">\n",
       "  <thead>\n",
       "    <tr style=\"text-align: right;\">\n",
       "      <th></th>\n",
       "      <th>iterations</th>\n",
       "      <th>test-CatBoostSmapeScoring-mean</th>\n",
       "      <th>test-CatBoostSmapeScoring-std</th>\n",
       "      <th>train-CatBoostSmapeScoring-mean</th>\n",
       "      <th>train-CatBoostSmapeScoring-std</th>\n",
       "      <th>test-MAPE-mean</th>\n",
       "      <th>test-MAPE-std</th>\n",
       "      <th>train-MAPE-mean</th>\n",
       "      <th>train-MAPE-std</th>\n",
       "    </tr>\n",
       "  </thead>\n",
       "  <tbody>\n",
       "    <tr>\n",
       "      <th>999</th>\n",
       "      <td>999</td>\n",
       "      <td>3.410495</td>\n",
       "      <td>0.247102</td>\n",
       "      <td>2.666417</td>\n",
       "      <td>0.428509</td>\n",
       "      <td>0.037396</td>\n",
       "      <td>0.003454</td>\n",
       "      <td>0.027216</td>\n",
       "      <td>0.004335</td>\n",
       "    </tr>\n",
       "  </tbody>\n",
       "</table>\n",
       "</div>"
      ],
      "text/plain": [
       "     iterations  test-CatBoostSmapeScoring-mean  \\\n",
       "999         999                        3.410495   \n",
       "\n",
       "     test-CatBoostSmapeScoring-std  train-CatBoostSmapeScoring-mean  \\\n",
       "999                       0.247102                         2.666417   \n",
       "\n",
       "     train-CatBoostSmapeScoring-std  test-MAPE-mean  test-MAPE-std  \\\n",
       "999                        0.428509        0.037396       0.003454   \n",
       "\n",
       "     train-MAPE-mean  train-MAPE-std  \n",
       "999         0.027216        0.004335  "
      ]
     },
     "execution_count": 58,
     "metadata": {},
     "output_type": "execute_result"
    }
   ],
   "source": [
    "cv_data[cv_data['test-CatBoostSmapeScoring-mean']==cv_data['test-CatBoostSmapeScoring-mean'].min()]"
   ]
  },
  {
   "cell_type": "code",
   "execution_count": 59,
   "metadata": {},
   "outputs": [],
   "source": [
    "smape_rough = cv_data['test-CatBoostSmapeScoring-mean'].mean()\n",
    "n_iters_y_1 = cv_data[cv_data['test-CatBoostSmapeScoring-mean']==cv_data['test-CatBoostSmapeScoring-mean'].min()]['iterations'].values[0]"
   ]
  },
  {
   "cell_type": "code",
   "execution_count": 60,
   "metadata": {
    "scrolled": true
   },
   "outputs": [
    {
     "name": "stdout",
     "output_type": "stream",
     "text": [
      "==> Результаты предсказаний <catboost.core.CatBoostRegressor object at 0x7f44b56e3100>\n",
      "\n",
      " для ЧЕРНОВОГО концентрата:\n",
      " 4.33\n",
      "\n"
     ]
    }
   ],
   "source": [
    "print(f'==> Результаты предсказаний {model}\\n')\n",
    "\n",
    "print(' для ЧЕРНОВОГО концентрата:')\n",
    "print(f' {smape_rough :.2f}\\n')"
   ]
  },
  {
   "cell_type": "code",
   "execution_count": 61,
   "metadata": {},
   "outputs": [],
   "source": [
    "params = {'cat_features': cat_features,\n",
    "          'eval_metric': CatBoostSmapeScoring(),\n",
    "          'loss_function': 'MAPE',\n",
    "          'random_seed': RANDOM_SEED,\n",
    "          'verbose': 100,\n",
    "          'early_stopping_rounds': 100,\n",
    "          'learning_rate':0.15}\n",
    "\n",
    "model = CatBoostRegressor(**params)"
   ]
  },
  {
   "cell_type": "code",
   "execution_count": 62,
   "metadata": {},
   "outputs": [
    {
     "name": "stdout",
     "output_type": "stream",
     "text": [
      "Training on fold [0/5]\n",
      "0:\tlearn: 147.0340958\ttest: 146.9793477\tbest: 146.9793477 (0)\ttotal: 144ms\tremaining: 2m 24s\n",
      "100:\tlearn: 7.6156427\ttest: 7.9408596\tbest: 7.9408596 (100)\ttotal: 7.41s\tremaining: 1m 5s\n",
      "200:\tlearn: 7.3719040\ttest: 7.8395662\tbest: 7.8395662 (200)\ttotal: 14.7s\tremaining: 58.4s\n",
      "300:\tlearn: 7.2542222\ttest: 7.8092453\tbest: 7.8079177 (295)\ttotal: 22s\tremaining: 51.1s\n",
      "400:\tlearn: 7.1947559\ttest: 7.8013663\tbest: 7.7948758 (364)\ttotal: 29.2s\tremaining: 43.6s\n",
      "\n",
      "bestTest = 7.794875817\n",
      "bestIteration = 364\n",
      "\n",
      "Training on fold [1/5]\n",
      "0:\tlearn: 146.9973267\ttest: 147.1270414\tbest: 147.1270414 (0)\ttotal: 76.6ms\tremaining: 1m 16s\n",
      "100:\tlearn: 7.5627224\ttest: 7.5121714\tbest: 7.5121714 (100)\ttotal: 7.29s\tremaining: 1m 4s\n",
      "200:\tlearn: 7.3500731\ttest: 7.3926116\tbest: 7.3926116 (200)\ttotal: 14.6s\tremaining: 58.1s\n",
      "300:\tlearn: 7.1689105\ttest: 7.3187690\tbest: 7.3187690 (300)\ttotal: 21.9s\tremaining: 50.9s\n",
      "400:\tlearn: 7.0785704\ttest: 7.2854535\tbest: 7.2854535 (400)\ttotal: 29.2s\tremaining: 43.6s\n",
      "500:\tlearn: 6.9984606\ttest: 7.2792536\tbest: 7.2767925 (486)\ttotal: 36.5s\tremaining: 36.4s\n",
      "600:\tlearn: 6.9498037\ttest: 7.2748692\tbest: 7.2748692 (600)\ttotal: 43.8s\tremaining: 29.1s\n",
      "700:\tlearn: 6.9144131\ttest: 7.2636614\tbest: 7.2636614 (700)\ttotal: 51.1s\tremaining: 21.8s\n",
      "800:\tlearn: 6.8363448\ttest: 7.2223262\tbest: 7.2223262 (800)\ttotal: 58.5s\tremaining: 14.5s\n",
      "900:\tlearn: 6.8029105\ttest: 7.2032518\tbest: 7.1988780 (873)\ttotal: 1m 5s\tremaining: 7.24s\n",
      "999:\tlearn: 6.7702860\ttest: 7.1955542\tbest: 7.1955542 (999)\ttotal: 1m 13s\tremaining: 0us\n",
      "\n",
      "bestTest = 7.195554185\n",
      "bestIteration = 999\n",
      "\n",
      "Training on fold [2/5]\n",
      "0:\tlearn: 146.9987914\ttest: 147.3282479\tbest: 147.3282479 (0)\ttotal: 73.8ms\tremaining: 1m 13s\n",
      "100:\tlearn: 7.5684889\ttest: 7.3997802\tbest: 7.3997802 (100)\ttotal: 7.46s\tremaining: 1m 6s\n",
      "200:\tlearn: 7.3685971\ttest: 7.2926174\tbest: 7.2926174 (200)\ttotal: 14.9s\tremaining: 59.3s\n",
      "300:\tlearn: 7.1986307\ttest: 7.2204864\tbest: 7.2202552 (292)\ttotal: 22.4s\tremaining: 52.1s\n",
      "400:\tlearn: 7.1226386\ttest: 7.2021387\tbest: 7.2021387 (400)\ttotal: 29.9s\tremaining: 44.6s\n",
      "500:\tlearn: 7.0636092\ttest: 7.1865091\tbest: 7.1861096 (499)\ttotal: 37.2s\tremaining: 37.1s\n",
      "600:\tlearn: 7.0088540\ttest: 7.1740380\tbest: 7.1740380 (600)\ttotal: 44.6s\tremaining: 29.6s\n",
      "700:\tlearn: 6.9497546\ttest: 7.1606823\tbest: 7.1588692 (683)\ttotal: 51.8s\tremaining: 22.1s\n",
      "800:\tlearn: 6.9319988\ttest: 7.1605736\tbest: 7.1586852 (719)\ttotal: 59.2s\tremaining: 14.7s\n",
      "\n",
      "bestTest = 7.158685214\n",
      "bestIteration = 719\n",
      "\n",
      "Training on fold [3/5]\n",
      "0:\tlearn: 147.2777861\ttest: 147.0902903\tbest: 147.0902903 (0)\ttotal: 71.1ms\tremaining: 1m 11s\n",
      "100:\tlearn: 6.9804421\ttest: 7.9426569\tbest: 7.9426569 (100)\ttotal: 7.4s\tremaining: 1m 5s\n",
      "200:\tlearn: 6.4334474\ttest: 7.5731613\tbest: 7.5731613 (200)\ttotal: 14.8s\tremaining: 58.8s\n",
      "300:\tlearn: 6.2253901\ttest: 7.4711441\tbest: 7.4711441 (300)\ttotal: 22.1s\tremaining: 51.4s\n",
      "400:\tlearn: 6.0938892\ttest: 7.4063752\tbest: 7.4047564 (392)\ttotal: 29.6s\tremaining: 44.2s\n",
      "500:\tlearn: 6.0320453\ttest: 7.3874040\tbest: 7.3874040 (500)\ttotal: 37.1s\tremaining: 36.9s\n",
      "600:\tlearn: 5.9898915\ttest: 7.3825152\tbest: 7.3798354 (506)\ttotal: 44.7s\tremaining: 29.7s\n",
      "\n",
      "bestTest = 7.37983543\n",
      "bestIteration = 506\n",
      "\n",
      "Training on fold [4/5]\n",
      "0:\tlearn: 147.0285175\ttest: 146.8164948\tbest: 146.8164948 (0)\ttotal: 70.3ms\tremaining: 1m 10s\n",
      "100:\tlearn: 7.3738939\ttest: 8.3577560\tbest: 8.3577560 (100)\ttotal: 7.47s\tremaining: 1m 6s\n",
      "200:\tlearn: 7.2489848\ttest: 8.3093702\tbest: 8.3092860 (199)\ttotal: 15s\tremaining: 59.5s\n",
      "300:\tlearn: 7.1964413\ttest: 8.2869002\tbest: 8.2869002 (300)\ttotal: 22.4s\tremaining: 52.1s\n",
      "400:\tlearn: 7.1618244\ttest: 8.2893424\tbest: 8.2816489 (340)\ttotal: 30.1s\tremaining: 44.9s\n",
      "\n",
      "bestTest = 8.2816489\n",
      "bestIteration = 340\n",
      "\n"
     ]
    }
   ],
   "source": [
    "cv_data = cv(\n",
    "    params=params,\n",
    "    pool=train_data_2,\n",
    "    fold_count=5,\n",
    "    shuffle=True,\n",
    "    partition_random_seed=RANDOM_SEED,\n",
    ")"
   ]
  },
  {
   "cell_type": "code",
   "execution_count": 63,
   "metadata": {},
   "outputs": [],
   "source": [
    "# Понизим learning rate\n",
    "\n",
    "params = {'cat_features': cat_features,\n",
    "          'eval_metric': CatBoostSmapeScoring(),\n",
    "          'loss_function': 'MAPE',\n",
    "          'random_seed': RANDOM_SEED,\n",
    "          'verbose': 100,\n",
    "          'early_stopping_rounds': 100,\n",
    "          'learning_rate':0.10}\n",
    "\n",
    "model = CatBoostRegressor(**params)"
   ]
  },
  {
   "cell_type": "code",
   "execution_count": 64,
   "metadata": {},
   "outputs": [
    {
     "name": "stdout",
     "output_type": "stream",
     "text": [
      "Training on fold [0/5]\n",
      "0:\tlearn: 162.9762753\ttest: 162.9280075\tbest: 162.9280075 (0)\ttotal: 150ms\tremaining: 2m 30s\n",
      "100:\tlearn: 7.8818284\ttest: 8.0590135\tbest: 8.0590135 (100)\ttotal: 7.87s\tremaining: 1m 10s\n",
      "200:\tlearn: 7.4864250\ttest: 7.7641903\tbest: 7.7618779 (198)\ttotal: 15.5s\tremaining: 1m 1s\n",
      "300:\tlearn: 7.3927837\ttest: 7.7190788\tbest: 7.7190788 (300)\ttotal: 23.1s\tremaining: 53.7s\n",
      "400:\tlearn: 7.3748209\ttest: 7.7226863\tbest: 7.7098621 (383)\ttotal: 30.9s\tremaining: 46.2s\n",
      "500:\tlearn: 7.3037417\ttest: 7.7093270\tbest: 7.7064095 (467)\ttotal: 38.8s\tremaining: 38.7s\n",
      "600:\tlearn: 7.2446096\ttest: 7.6906549\tbest: 7.6906549 (600)\ttotal: 46.9s\tremaining: 31.2s\n",
      "700:\tlearn: 7.1850892\ttest: 7.6658351\tbest: 7.6635610 (692)\ttotal: 54.8s\tremaining: 23.4s\n",
      "800:\tlearn: 7.1354267\ttest: 7.6476578\tbest: 7.6471327 (789)\ttotal: 1m 2s\tremaining: 15.5s\n",
      "900:\tlearn: 7.1087343\ttest: 7.6318558\tbest: 7.6291525 (896)\ttotal: 1m 10s\tremaining: 7.76s\n",
      "999:\tlearn: 7.0559781\ttest: 7.6103188\tbest: 7.6098420 (996)\ttotal: 1m 18s\tremaining: 0us\n",
      "\n",
      "bestTest = 7.609841991\n",
      "bestIteration = 996\n",
      "\n",
      "Training on fold [1/5]\n",
      "0:\tlearn: 162.9548169\ttest: 163.0898011\tbest: 163.0898011 (0)\ttotal: 147ms\tremaining: 2m 27s\n",
      "100:\tlearn: 7.7944512\ttest: 7.6000606\tbest: 7.6000606 (100)\ttotal: 8.1s\tremaining: 1m 12s\n",
      "200:\tlearn: 7.4753437\ttest: 7.3819643\tbest: 7.3819502 (197)\ttotal: 16.1s\tremaining: 1m 4s\n",
      "300:\tlearn: 7.3824675\ttest: 7.3485712\tbest: 7.3476451 (291)\ttotal: 24s\tremaining: 55.8s\n",
      "400:\tlearn: 7.2685154\ttest: 7.2759243\tbest: 7.2729204 (386)\ttotal: 31.9s\tremaining: 47.7s\n",
      "500:\tlearn: 7.1922775\ttest: 7.2487271\tbest: 7.2471933 (474)\ttotal: 39.6s\tremaining: 39.4s\n",
      "600:\tlearn: 7.1340722\ttest: 7.2343969\tbest: 7.2343969 (600)\ttotal: 47.5s\tremaining: 31.5s\n",
      "700:\tlearn: 7.0658595\ttest: 7.2090513\tbest: 7.2088321 (697)\ttotal: 55.7s\tremaining: 23.8s\n",
      "800:\tlearn: 7.0133238\ttest: 7.2005449\tbest: 7.1996401 (772)\ttotal: 1m 3s\tremaining: 15.8s\n",
      "900:\tlearn: 6.9695978\ttest: 7.1772157\tbest: 7.1770036 (895)\ttotal: 1m 12s\tremaining: 7.92s\n",
      "999:\tlearn: 6.9273329\ttest: 7.1862539\tbest: 7.1751180 (925)\ttotal: 1m 20s\tremaining: 0us\n",
      "\n",
      "bestTest = 7.175118018\n",
      "bestIteration = 925\n",
      "\n",
      "Training on fold [2/5]\n",
      "0:\tlearn: 162.9544753\ttest: 163.2437223\tbest: 163.2437223 (0)\ttotal: 73.9ms\tremaining: 1m 13s\n",
      "100:\tlearn: 7.8421967\ttest: 7.6716533\tbest: 7.6716533 (100)\ttotal: 7.88s\tremaining: 1m 10s\n",
      "200:\tlearn: 7.4796974\ttest: 7.4232685\tbest: 7.4229448 (199)\ttotal: 15.6s\tremaining: 1m 1s\n",
      "300:\tlearn: 7.3498506\ttest: 7.3635979\tbest: 7.3635979 (300)\ttotal: 23.5s\tremaining: 54.6s\n",
      "400:\tlearn: 7.2947153\ttest: 7.3475488\tbest: 7.3459178 (391)\ttotal: 31.4s\tremaining: 46.9s\n",
      "500:\tlearn: 7.2124062\ttest: 7.3003651\tbest: 7.3003651 (500)\ttotal: 39.6s\tremaining: 39.4s\n",
      "600:\tlearn: 7.1399878\ttest: 7.2620160\tbest: 7.2618522 (598)\ttotal: 47.6s\tremaining: 31.6s\n",
      "700:\tlearn: 7.1054704\ttest: 7.2515716\tbest: 7.2513544 (699)\ttotal: 55.6s\tremaining: 23.7s\n",
      "800:\tlearn: 7.0499914\ttest: 7.2300831\tbest: 7.2300831 (800)\ttotal: 1m 4s\tremaining: 15.9s\n",
      "900:\tlearn: 7.0236376\ttest: 7.2242457\tbest: 7.2233717 (894)\ttotal: 1m 11s\tremaining: 7.89s\n",
      "999:\tlearn: 6.9933072\ttest: 7.2120542\tbest: 7.2113617 (992)\ttotal: 1m 19s\tremaining: 0us\n",
      "\n",
      "bestTest = 7.211361701\n",
      "bestIteration = 992\n",
      "\n",
      "Training on fold [3/5]\n",
      "0:\tlearn: 163.1647414\ttest: 163.0021387\tbest: 163.0021387 (0)\ttotal: 74.7ms\tremaining: 1m 14s\n",
      "100:\tlearn: 7.2292804\ttest: 8.0247946\tbest: 8.0247946 (100)\ttotal: 9.58s\tremaining: 1m 25s\n",
      "200:\tlearn: 6.6753123\ttest: 7.6558766\tbest: 7.6558766 (200)\ttotal: 17s\tremaining: 1m 7s\n",
      "300:\tlearn: 6.3270056\ttest: 7.4465144\tbest: 7.4465144 (300)\ttotal: 24.5s\tremaining: 56.8s\n",
      "400:\tlearn: 6.0942183\ttest: 7.3150872\tbest: 7.3150872 (400)\ttotal: 32s\tremaining: 47.8s\n",
      "500:\tlearn: 5.9592422\ttest: 7.2338694\tbest: 7.2336574 (499)\ttotal: 39.4s\tremaining: 39.3s\n",
      "600:\tlearn: 5.8266367\ttest: 7.1613058\tbest: 7.1599488 (599)\ttotal: 47.1s\tremaining: 31.3s\n",
      "700:\tlearn: 5.7663104\ttest: 7.1419789\tbest: 7.1419789 (700)\ttotal: 54.4s\tremaining: 23.2s\n",
      "800:\tlearn: 5.7081550\ttest: 7.1169021\tbest: 7.1169021 (800)\ttotal: 1m 1s\tremaining: 15.4s\n",
      "900:\tlearn: 5.6737913\ttest: 7.1082880\tbest: 7.1074092 (891)\ttotal: 1m 9s\tremaining: 7.61s\n",
      "999:\tlearn: 5.6533945\ttest: 7.1021991\tbest: 7.1021680 (995)\ttotal: 1m 17s\tremaining: 0us\n",
      "\n",
      "bestTest = 7.102167961\n",
      "bestIteration = 995\n",
      "\n",
      "Training on fold [4/5]\n",
      "0:\tlearn: 162.9894355\ttest: 162.7362970\tbest: 162.7362970 (0)\ttotal: 72.8ms\tremaining: 1m 12s\n",
      "100:\tlearn: 7.6602361\ttest: 8.6006844\tbest: 8.6006844 (100)\ttotal: 7.48s\tremaining: 1m 6s\n",
      "200:\tlearn: 7.2628781\ttest: 8.3481914\tbest: 8.3481914 (200)\ttotal: 14.9s\tremaining: 59.3s\n",
      "300:\tlearn: 7.1328305\ttest: 8.2785333\tbest: 8.2779410 (299)\ttotal: 22.5s\tremaining: 52.1s\n",
      "400:\tlearn: 7.0823888\ttest: 8.2583141\tbest: 8.2579370 (398)\ttotal: 29.9s\tremaining: 44.6s\n",
      "500:\tlearn: 7.0556705\ttest: 8.2547404\tbest: 8.2535629 (465)\ttotal: 37.2s\tremaining: 37.1s\n",
      "600:\tlearn: 7.0072565\ttest: 8.2268817\tbest: 8.2268570 (599)\ttotal: 44.6s\tremaining: 29.6s\n",
      "700:\tlearn: 6.9443900\ttest: 8.1897330\tbest: 8.1896282 (696)\ttotal: 52.1s\tremaining: 22.2s\n",
      "800:\tlearn: 6.9098680\ttest: 8.1714754\tbest: 8.1707720 (789)\ttotal: 59.6s\tremaining: 14.8s\n",
      "900:\tlearn: 6.8836084\ttest: 8.1725557\tbest: 8.1657788 (821)\ttotal: 1m 7s\tremaining: 7.37s\n",
      "\n",
      "bestTest = 8.165778803\n",
      "bestIteration = 821\n",
      "\n"
     ]
    }
   ],
   "source": [
    "cv_data = cv(\n",
    "    params=params,\n",
    "    pool=train_data_2,\n",
    "    fold_count=5,\n",
    "    shuffle=True,\n",
    "    partition_random_seed=RANDOM_SEED,\n",
    ")"
   ]
  },
  {
   "cell_type": "code",
   "execution_count": 65,
   "metadata": {
    "scrolled": true
   },
   "outputs": [
    {
     "data": {
      "text/html": [
       "<div>\n",
       "<style scoped>\n",
       "    .dataframe tbody tr th:only-of-type {\n",
       "        vertical-align: middle;\n",
       "    }\n",
       "\n",
       "    .dataframe tbody tr th {\n",
       "        vertical-align: top;\n",
       "    }\n",
       "\n",
       "    .dataframe thead th {\n",
       "        text-align: right;\n",
       "    }\n",
       "</style>\n",
       "<table border=\"1\" class=\"dataframe\">\n",
       "  <thead>\n",
       "    <tr style=\"text-align: right;\">\n",
       "      <th></th>\n",
       "      <th>iterations</th>\n",
       "      <th>test-CatBoostSmapeScoring-mean</th>\n",
       "      <th>test-CatBoostSmapeScoring-std</th>\n",
       "      <th>train-CatBoostSmapeScoring-mean</th>\n",
       "      <th>train-CatBoostSmapeScoring-std</th>\n",
       "      <th>test-MAPE-mean</th>\n",
       "      <th>test-MAPE-std</th>\n",
       "      <th>train-MAPE-mean</th>\n",
       "      <th>train-MAPE-std</th>\n",
       "    </tr>\n",
       "  </thead>\n",
       "  <tbody>\n",
       "    <tr>\n",
       "      <th>994</th>\n",
       "      <td>994</td>\n",
       "      <td>7.455945</td>\n",
       "      <td>0.446575</td>\n",
       "      <td>6.70263</td>\n",
       "      <td>0.589604</td>\n",
       "      <td>0.093348</td>\n",
       "      <td>0.019061</td>\n",
       "      <td>0.071894</td>\n",
       "      <td>0.007013</td>\n",
       "    </tr>\n",
       "  </tbody>\n",
       "</table>\n",
       "</div>"
      ],
      "text/plain": [
       "     iterations  test-CatBoostSmapeScoring-mean  \\\n",
       "994         994                        7.455945   \n",
       "\n",
       "     test-CatBoostSmapeScoring-std  train-CatBoostSmapeScoring-mean  \\\n",
       "994                       0.446575                          6.70263   \n",
       "\n",
       "     train-CatBoostSmapeScoring-std  test-MAPE-mean  test-MAPE-std  \\\n",
       "994                        0.589604        0.093348       0.019061   \n",
       "\n",
       "     train-MAPE-mean  train-MAPE-std  \n",
       "994         0.071894        0.007013  "
      ]
     },
     "execution_count": 65,
     "metadata": {},
     "output_type": "execute_result"
    }
   ],
   "source": [
    "cv_data[cv_data['test-CatBoostSmapeScoring-mean']==cv_data['test-CatBoostSmapeScoring-mean'].min()]"
   ]
  },
  {
   "cell_type": "code",
   "execution_count": 66,
   "metadata": {},
   "outputs": [],
   "source": [
    "smape_final = cv_data['test-CatBoostSmapeScoring-mean'].min()\n",
    "n_iters_y_2 = cv_data[cv_data['test-CatBoostSmapeScoring-mean']==cv_data['test-CatBoostSmapeScoring-mean'].min()]['iterations'].values[0]"
   ]
  },
  {
   "cell_type": "code",
   "execution_count": 67,
   "metadata": {},
   "outputs": [
    {
     "name": "stdout",
     "output_type": "stream",
     "text": [
      "==> Результаты предсказаний CatBoostRegressor\n",
      "\n",
      " для ЧЕРНОВОГО концентрата:\n",
      " 4.33\n",
      "\n",
      " для ФИНАЛЬНОГО концентрата:\n",
      " 7.46\n",
      "\n",
      " результирующий sMAPE:\n",
      " 6.68\n"
     ]
    }
   ],
   "source": [
    "print(f'==> Результаты предсказаний CatBoostRegressor\\n')\n",
    "\n",
    "print(' для ЧЕРНОВОГО концентрата:')\n",
    "print(f' {smape_rough :.2f}\\n')\n",
    "\n",
    "print(' для ФИНАЛЬНОГО концентрата:')\n",
    "print(f' {smape_final :.2f}\\n')\n",
    "\n",
    "print(' результирующий sMAPE:')\n",
    "print(f' {total_smape(smape_rough, smape_final):.2f}')"
   ]
  },
  {
   "cell_type": "code",
   "execution_count": 68,
   "metadata": {},
   "outputs": [
    {
     "data": {
      "text/html": [
       "<div>\n",
       "<style scoped>\n",
       "    .dataframe tbody tr th:only-of-type {\n",
       "        vertical-align: middle;\n",
       "    }\n",
       "\n",
       "    .dataframe tbody tr th {\n",
       "        vertical-align: top;\n",
       "    }\n",
       "\n",
       "    .dataframe thead th {\n",
       "        text-align: right;\n",
       "    }\n",
       "</style>\n",
       "<table border=\"1\" class=\"dataframe\">\n",
       "  <thead>\n",
       "    <tr style=\"text-align: right;\">\n",
       "      <th></th>\n",
       "      <th>1_base_model(LR)</th>\n",
       "      <th>2_DecisionTree</th>\n",
       "      <th>3_RandomForest</th>\n",
       "      <th>4_CatBoost</th>\n",
       "    </tr>\n",
       "  </thead>\n",
       "  <tbody>\n",
       "    <tr>\n",
       "      <th>score_rough</th>\n",
       "      <td>7.178800</td>\n",
       "      <td>8.089410</td>\n",
       "      <td>7.637065</td>\n",
       "      <td>4.333826</td>\n",
       "    </tr>\n",
       "    <tr>\n",
       "      <th>score_final</th>\n",
       "      <td>10.723519</td>\n",
       "      <td>9.814606</td>\n",
       "      <td>9.614325</td>\n",
       "      <td>7.455945</td>\n",
       "    </tr>\n",
       "    <tr>\n",
       "      <th>score_total</th>\n",
       "      <td>9.837339</td>\n",
       "      <td>9.383307</td>\n",
       "      <td>9.120010</td>\n",
       "      <td>6.675415</td>\n",
       "    </tr>\n",
       "  </tbody>\n",
       "</table>\n",
       "</div>"
      ],
      "text/plain": [
       "             1_base_model(LR)  2_DecisionTree  3_RandomForest  4_CatBoost\n",
       "score_rough          7.178800        8.089410        7.637065    4.333826\n",
       "score_final         10.723519        9.814606        9.614325    7.455945\n",
       "score_total          9.837339        9.383307        9.120010    6.675415"
      ]
     },
     "execution_count": 68,
     "metadata": {},
     "output_type": "execute_result"
    }
   ],
   "source": [
    "models_results['4_CatBoost'] = [smape_rough, smape_final, total_smape(smape_rough, smape_final)]\n",
    "models_results"
   ]
  },
  {
   "cell_type": "markdown",
   "metadata": {},
   "source": [
    "### Модель для чернового концентрата "
   ]
  },
  {
   "cell_type": "markdown",
   "metadata": {},
   "source": [
    "Для получения предсказаний концентрации в черновом концентрате не используются параметры этапов `primary` и `secondary`, попробуем обучить модель с учётом этих вводных."
   ]
  },
  {
   "cell_type": "code",
   "execution_count": 69,
   "metadata": {},
   "outputs": [
    {
     "data": {
      "text/plain": [
       "Index(['primary_cleaner.input.sulfate', 'primary_cleaner.input.depressant',\n",
       "       'primary_cleaner.input.feed_size', 'primary_cleaner.input.xanthate',\n",
       "       'primary_cleaner.state.floatbank8_a_air',\n",
       "       'primary_cleaner.state.floatbank8_a_level',\n",
       "       'primary_cleaner.state.floatbank8_b_air',\n",
       "       'primary_cleaner.state.floatbank8_b_level',\n",
       "       'primary_cleaner.state.floatbank8_c_air',\n",
       "       'primary_cleaner.state.floatbank8_c_level',\n",
       "       'primary_cleaner.state.floatbank8_d_air',\n",
       "       'primary_cleaner.state.floatbank8_d_level',\n",
       "       'secondary_cleaner.state.floatbank2_a_air',\n",
       "       'secondary_cleaner.state.floatbank2_a_level',\n",
       "       'secondary_cleaner.state.floatbank2_b_air',\n",
       "       'secondary_cleaner.state.floatbank2_b_level',\n",
       "       'secondary_cleaner.state.floatbank3_a_air',\n",
       "       'secondary_cleaner.state.floatbank3_a_level',\n",
       "       'secondary_cleaner.state.floatbank3_b_air',\n",
       "       'secondary_cleaner.state.floatbank3_b_level',\n",
       "       'secondary_cleaner.state.floatbank4_a_air',\n",
       "       'secondary_cleaner.state.floatbank4_a_level',\n",
       "       'secondary_cleaner.state.floatbank4_b_air',\n",
       "       'secondary_cleaner.state.floatbank4_b_level',\n",
       "       'secondary_cleaner.state.floatbank5_a_air',\n",
       "       'secondary_cleaner.state.floatbank5_a_level',\n",
       "       'secondary_cleaner.state.floatbank5_b_air',\n",
       "       'secondary_cleaner.state.floatbank5_b_level',\n",
       "       'secondary_cleaner.state.floatbank6_a_air',\n",
       "       'secondary_cleaner.state.floatbank6_a_level'],\n",
       "      dtype='object')"
      ]
     },
     "execution_count": 69,
     "metadata": {},
     "output_type": "execute_result"
    }
   ],
   "source": [
    "X[X.str.contains('primary|secondary')]"
   ]
  },
  {
   "cell_type": "code",
   "execution_count": 70,
   "metadata": {},
   "outputs": [
    {
     "name": "stdout",
     "output_type": "stream",
     "text": [
      "Index(['rougher.input.feed_ag', 'rougher.input.feed_pb',\n",
      "       'rougher.input.feed_rate', 'rougher.input.feed_size',\n",
      "       'rougher.input.feed_sol', 'rougher.input.feed_au',\n",
      "       'rougher.input.floatbank10_sulfate',\n",
      "       'rougher.input.floatbank10_xanthate',\n",
      "       'rougher.input.floatbank11_sulfate',\n",
      "       'rougher.input.floatbank11_xanthate', 'rougher.state.floatbank10_a_air',\n",
      "       'rougher.state.floatbank10_a_level', 'rougher.state.floatbank10_b_air',\n",
      "       'rougher.state.floatbank10_b_level', 'rougher.state.floatbank10_c_air',\n",
      "       'rougher.state.floatbank10_c_level', 'rougher.state.floatbank10_d_air',\n",
      "       'rougher.state.floatbank10_d_level', 'rougher.state.floatbank10_e_air',\n",
      "       'rougher.state.floatbank10_e_level', 'rougher.state.floatbank10_f_air',\n",
      "       'rougher.state.floatbank10_f_level'],\n",
      "      dtype='object')\n",
      "22\n"
     ]
    }
   ],
   "source": [
    "X_rough = X[~X.str.contains('primary|secondary')]\n",
    "print(X_rough)\n",
    "print(len(X_rough))"
   ]
  },
  {
   "cell_type": "markdown",
   "metadata": {},
   "source": [
    "Осталось 22 признака."
   ]
  },
  {
   "cell_type": "code",
   "execution_count": 71,
   "metadata": {},
   "outputs": [],
   "source": [
    "params = {'cat_features': cat_features,\n",
    "          'eval_metric': CatBoostSmapeScoring(),\n",
    "          'loss_function': 'MAPE',\n",
    "          'random_seed': RANDOM_SEED,\n",
    "          'verbose': 100,\n",
    "          'early_stopping_rounds': 100,\n",
    "          'learning_rate':0.15}\n",
    "\n",
    "model = CatBoostRegressor(**params)"
   ]
  },
  {
   "cell_type": "code",
   "execution_count": 72,
   "metadata": {},
   "outputs": [],
   "source": [
    "train_data_rough = Pool(data=train[X_rough],\n",
    "                        label=train[y_1],\n",
    "                        cat_features=cat_features)"
   ]
  },
  {
   "cell_type": "code",
   "execution_count": 73,
   "metadata": {},
   "outputs": [
    {
     "name": "stdout",
     "output_type": "stream",
     "text": [
      "Training on fold [0/5]\n",
      "0:\tlearn: 147.4487368\ttest: 147.4682774\tbest: 147.4682774 (0)\ttotal: 155ms\tremaining: 2m 35s\n",
      "100:\tlearn: 3.8298910\ttest: 4.0205459\tbest: 4.0205459 (100)\ttotal: 6.92s\tremaining: 1m 1s\n",
      "200:\tlearn: 3.3371117\ttest: 3.6854539\tbest: 3.6854539 (200)\ttotal: 13.7s\tremaining: 54.3s\n",
      "300:\tlearn: 3.0956250\ttest: 3.5364677\tbest: 3.5364677 (300)\ttotal: 20.3s\tremaining: 47.2s\n",
      "400:\tlearn: 2.9604628\ttest: 3.4690675\tbest: 3.4674118 (397)\ttotal: 27s\tremaining: 40.3s\n",
      "500:\tlearn: 2.8628098\ttest: 3.4255432\tbest: 3.4255432 (500)\ttotal: 33.6s\tremaining: 33.5s\n",
      "600:\tlearn: 2.8112616\ttest: 3.3998447\tbest: 3.3998447 (600)\ttotal: 40.4s\tremaining: 26.8s\n",
      "700:\tlearn: 2.7584765\ttest: 3.3808334\tbest: 3.3794149 (698)\ttotal: 47.7s\tremaining: 20.4s\n",
      "800:\tlearn: 2.7015012\ttest: 3.3526956\tbest: 3.3525824 (799)\ttotal: 54.5s\tremaining: 13.5s\n",
      "900:\tlearn: 2.6597494\ttest: 3.3370594\tbest: 3.3364254 (897)\ttotal: 1m 1s\tremaining: 6.74s\n",
      "999:\tlearn: 2.6281475\ttest: 3.3271544\tbest: 3.3270975 (996)\ttotal: 1m 8s\tremaining: 0us\n",
      "\n",
      "bestTest = 3.327097539\n",
      "bestIteration = 996\n",
      "\n",
      "Training on fold [1/5]\n",
      "0:\tlearn: 147.4394781\ttest: 147.5783949\tbest: 147.5783949 (0)\ttotal: 64.5ms\tremaining: 1m 4s\n",
      "100:\tlearn: 3.8695949\ttest: 3.9916998\tbest: 3.9916998 (100)\ttotal: 6.86s\tremaining: 1m 1s\n",
      "200:\tlearn: 3.4209154\ttest: 3.7297746\tbest: 3.7297746 (200)\ttotal: 13.6s\tremaining: 54.1s\n",
      "300:\tlearn: 3.1446405\ttest: 3.5514765\tbest: 3.5514765 (300)\ttotal: 20.4s\tremaining: 47.4s\n",
      "400:\tlearn: 2.9724602\ttest: 3.4606074\tbest: 3.4606074 (400)\ttotal: 27.3s\tremaining: 40.8s\n",
      "500:\tlearn: 2.8646890\ttest: 3.4049630\tbest: 3.4047876 (497)\ttotal: 34.1s\tremaining: 34s\n",
      "600:\tlearn: 2.7850888\ttest: 3.3730406\tbest: 3.3702555 (599)\ttotal: 40.8s\tremaining: 27.1s\n",
      "700:\tlearn: 2.7274769\ttest: 3.3567076\tbest: 3.3567076 (700)\ttotal: 47.7s\tremaining: 20.3s\n",
      "800:\tlearn: 2.6673048\ttest: 3.3327405\tbest: 3.3327292 (798)\ttotal: 54.5s\tremaining: 13.6s\n",
      "900:\tlearn: 2.6325010\ttest: 3.3277133\tbest: 3.3275148 (892)\ttotal: 1m 1s\tremaining: 6.72s\n",
      "999:\tlearn: 2.6013389\ttest: 3.3261803\tbest: 3.3214794 (958)\ttotal: 1m 7s\tremaining: 0us\n",
      "\n",
      "bestTest = 3.321479449\n",
      "bestIteration = 958\n",
      "\n",
      "Training on fold [2/5]\n",
      "0:\tlearn: 147.4303403\ttest: 147.5826514\tbest: 147.5826514 (0)\ttotal: 65ms\tremaining: 1m 4s\n",
      "100:\tlearn: 3.8955015\ttest: 3.8861554\tbest: 3.8861554 (100)\ttotal: 6.79s\tremaining: 1m\n",
      "200:\tlearn: 3.4206650\ttest: 3.5582257\tbest: 3.5582257 (200)\ttotal: 13.6s\tremaining: 54.1s\n",
      "300:\tlearn: 3.1640085\ttest: 3.3892133\tbest: 3.3892133 (300)\ttotal: 20.4s\tremaining: 47.5s\n",
      "400:\tlearn: 3.0139111\ttest: 3.3030678\tbest: 3.3030678 (400)\ttotal: 27.4s\tremaining: 40.9s\n",
      "500:\tlearn: 2.9131488\ttest: 3.2587343\tbest: 3.2586037 (498)\ttotal: 34.2s\tremaining: 34s\n",
      "600:\tlearn: 2.8227414\ttest: 3.2198189\tbest: 3.2198189 (600)\ttotal: 41.2s\tremaining: 27.4s\n",
      "700:\tlearn: 2.7512216\ttest: 3.1919094\tbest: 3.1898388 (686)\ttotal: 48.1s\tremaining: 20.5s\n",
      "800:\tlearn: 2.7025608\ttest: 3.1690135\tbest: 3.1685788 (797)\ttotal: 55.2s\tremaining: 13.7s\n",
      "900:\tlearn: 2.6614544\ttest: 3.1544142\tbest: 3.1544142 (900)\ttotal: 1m 2s\tremaining: 6.83s\n",
      "999:\tlearn: 2.6200599\ttest: 3.1388782\tbest: 3.1385170 (997)\ttotal: 1m 9s\tremaining: 0us\n",
      "\n",
      "bestTest = 3.138516984\n",
      "bestIteration = 997\n",
      "\n",
      "Training on fold [3/5]\n",
      "0:\tlearn: 147.4488385\ttest: 147.3970038\tbest: 147.3970038 (0)\ttotal: 71.5ms\tremaining: 1m 11s\n",
      "100:\tlearn: 3.7998169\ttest: 4.1311841\tbest: 4.1311841 (100)\ttotal: 7.2s\tremaining: 1m 4s\n",
      "200:\tlearn: 3.3131044\ttest: 3.8276314\tbest: 3.8276314 (200)\ttotal: 14.3s\tremaining: 56.8s\n",
      "300:\tlearn: 3.0714626\ttest: 3.7023811\tbest: 3.7023811 (300)\ttotal: 21.2s\tremaining: 49.3s\n",
      "400:\tlearn: 2.9489922\ttest: 3.6363623\tbest: 3.6363623 (400)\ttotal: 28.6s\tremaining: 42.8s\n",
      "500:\tlearn: 2.8769672\ttest: 3.6020249\tbest: 3.6020249 (500)\ttotal: 35.8s\tremaining: 35.7s\n",
      "600:\tlearn: 2.8060231\ttest: 3.5702018\tbest: 3.5702018 (600)\ttotal: 42.7s\tremaining: 28.4s\n",
      "700:\tlearn: 2.7555459\ttest: 3.5441247\tbest: 3.5441247 (700)\ttotal: 49.7s\tremaining: 21.2s\n",
      "800:\tlearn: 2.7119658\ttest: 3.5199265\tbest: 3.5199265 (800)\ttotal: 56.6s\tremaining: 14.1s\n",
      "900:\tlearn: 2.6858339\ttest: 3.5100965\tbest: 3.5100965 (900)\ttotal: 1m 3s\tremaining: 7.01s\n",
      "999:\tlearn: 2.6599615\ttest: 3.4999817\tbest: 3.4999546 (998)\ttotal: 1m 10s\tremaining: 0us\n",
      "\n",
      "bestTest = 3.499954596\n",
      "bestIteration = 998\n",
      "\n",
      "Training on fold [4/5]\n",
      "0:\tlearn: 147.4317448\ttest: 147.2372536\tbest: 147.2372536 (0)\ttotal: 73.3ms\tremaining: 1m 13s\n",
      "100:\tlearn: 3.7167913\ttest: 4.2409062\tbest: 4.2409062 (100)\ttotal: 7.51s\tremaining: 1m 6s\n",
      "200:\tlearn: 3.2283917\ttest: 3.9014231\tbest: 3.9014231 (200)\ttotal: 14.6s\tremaining: 57.9s\n",
      "300:\tlearn: 2.9596865\ttest: 3.7392903\tbest: 3.7392903 (300)\ttotal: 21.8s\tremaining: 50.6s\n",
      "400:\tlearn: 2.7767794\ttest: 3.6369761\tbest: 3.6369761 (400)\ttotal: 28.8s\tremaining: 43.1s\n",
      "500:\tlearn: 2.6470338\ttest: 3.5676627\tbest: 3.5676627 (500)\ttotal: 36.1s\tremaining: 35.9s\n",
      "600:\tlearn: 2.5358090\ttest: 3.5202521\tbest: 3.5202521 (600)\ttotal: 43.2s\tremaining: 28.6s\n",
      "700:\tlearn: 2.4391234\ttest: 3.4726633\tbest: 3.4726552 (699)\ttotal: 50.2s\tremaining: 21.4s\n",
      "800:\tlearn: 2.3633799\ttest: 3.4421930\tbest: 3.4421930 (800)\ttotal: 57.4s\tremaining: 14.3s\n",
      "900:\tlearn: 2.3053975\ttest: 3.4217743\tbest: 3.4217743 (900)\ttotal: 1m 4s\tremaining: 7.14s\n",
      "999:\tlearn: 2.2469051\ttest: 3.4004687\tbest: 3.4003563 (994)\ttotal: 1m 12s\tremaining: 0us\n",
      "\n",
      "bestTest = 3.400356303\n",
      "bestIteration = 994\n",
      "\n"
     ]
    }
   ],
   "source": [
    "cv_data = cv(\n",
    "    params=params,\n",
    "    pool=train_data_rough,\n",
    "    fold_count=5,\n",
    "    shuffle=True,\n",
    "    partition_random_seed=RANDOM_SEED,\n",
    ")"
   ]
  },
  {
   "cell_type": "code",
   "execution_count": 74,
   "metadata": {},
   "outputs": [],
   "source": [
    "cv_data[cv_data['test-CatBoostSmapeScoring-mean']==cv_data['test-CatBoostSmapeScoring-mean'].min()]\n",
    "\n",
    "smape_rough = cv_data['test-CatBoostSmapeScoring-mean'].min()\n",
    "n_iters_y_1_no_pr_sc = cv_data[cv_data['test-CatBoostSmapeScoring-mean']==cv_data['test-CatBoostSmapeScoring-mean'].min()]['iterations'].values[0]"
   ]
  },
  {
   "cell_type": "code",
   "execution_count": 75,
   "metadata": {},
   "outputs": [
    {
     "name": "stdout",
     "output_type": "stream",
     "text": [
      "==> Результаты предсказаний CatBoostRegressor с ограниченным набором признаков\n",
      "\n",
      " для ЧЕРНОВОГО концентрата:\n",
      " 3.34\n",
      "\n"
     ]
    }
   ],
   "source": [
    "print(f'==> Результаты предсказаний CatBoostRegressor с ограниченным набором признаков\\n')\n",
    "\n",
    "print(' для ЧЕРНОВОГО концентрата:')\n",
    "print(f' {smape_rough :.2f}\\n')"
   ]
  },
  {
   "cell_type": "code",
   "execution_count": 76,
   "metadata": {},
   "outputs": [
    {
     "data": {
      "text/html": [
       "<div>\n",
       "<style scoped>\n",
       "    .dataframe tbody tr th:only-of-type {\n",
       "        vertical-align: middle;\n",
       "    }\n",
       "\n",
       "    .dataframe tbody tr th {\n",
       "        vertical-align: top;\n",
       "    }\n",
       "\n",
       "    .dataframe thead th {\n",
       "        text-align: right;\n",
       "    }\n",
       "</style>\n",
       "<table border=\"1\" class=\"dataframe\">\n",
       "  <thead>\n",
       "    <tr style=\"text-align: right;\">\n",
       "      <th></th>\n",
       "      <th>1_base_model(LR)</th>\n",
       "      <th>2_DecisionTree</th>\n",
       "      <th>3_RandomForest</th>\n",
       "      <th>4_CatBoost</th>\n",
       "      <th>5_CatBoost_no_pr_sec</th>\n",
       "    </tr>\n",
       "  </thead>\n",
       "  <tbody>\n",
       "    <tr>\n",
       "      <th>score_rough</th>\n",
       "      <td>7.178800</td>\n",
       "      <td>8.089410</td>\n",
       "      <td>7.637065</td>\n",
       "      <td>4.333826</td>\n",
       "      <td>3.338533</td>\n",
       "    </tr>\n",
       "    <tr>\n",
       "      <th>score_final</th>\n",
       "      <td>10.723519</td>\n",
       "      <td>9.814606</td>\n",
       "      <td>9.614325</td>\n",
       "      <td>7.455945</td>\n",
       "      <td>7.455945</td>\n",
       "    </tr>\n",
       "    <tr>\n",
       "      <th>score_total</th>\n",
       "      <td>9.837339</td>\n",
       "      <td>9.383307</td>\n",
       "      <td>9.120010</td>\n",
       "      <td>6.675415</td>\n",
       "      <td>6.426592</td>\n",
       "    </tr>\n",
       "  </tbody>\n",
       "</table>\n",
       "</div>"
      ],
      "text/plain": [
       "             1_base_model(LR)  2_DecisionTree  3_RandomForest  4_CatBoost  \\\n",
       "score_rough          7.178800        8.089410        7.637065    4.333826   \n",
       "score_final         10.723519        9.814606        9.614325    7.455945   \n",
       "score_total          9.837339        9.383307        9.120010    6.675415   \n",
       "\n",
       "             5_CatBoost_no_pr_sec  \n",
       "score_rough              3.338533  \n",
       "score_final              7.455945  \n",
       "score_total              6.426592  "
      ]
     },
     "execution_count": 76,
     "metadata": {},
     "output_type": "execute_result"
    }
   ],
   "source": [
    "models_results['5_CatBoost_no_pr_sec'] = [smape_rough, smape_final, total_smape(smape_rough, smape_final)]\n",
    "models_results"
   ]
  },
  {
   "cell_type": "markdown",
   "metadata": {},
   "source": [
    "Показатели улучшились, попробуем дополнительно поработать с признаками `state`"
   ]
  },
  {
   "cell_type": "code",
   "execution_count": 77,
   "metadata": {},
   "outputs": [
    {
     "name": "stdout",
     "output_type": "stream",
     "text": [
      "Index(['rougher.input.feed_ag', 'rougher.input.feed_pb',\n",
      "       'rougher.input.feed_rate', 'rougher.input.feed_size',\n",
      "       'rougher.input.feed_sol', 'rougher.input.feed_au',\n",
      "       'rougher.input.floatbank10_sulfate',\n",
      "       'rougher.input.floatbank10_xanthate',\n",
      "       'rougher.input.floatbank11_sulfate',\n",
      "       'rougher.input.floatbank11_xanthate'],\n",
      "      dtype='object')\n"
     ]
    }
   ],
   "source": [
    "# Попробуем убрать признаки `state`\n",
    "X_rough_final = X[~X.str.contains('primary|secondary|state')]\n",
    "print(X_rough_final)"
   ]
  },
  {
   "cell_type": "code",
   "execution_count": 78,
   "metadata": {},
   "outputs": [
    {
     "name": "stdout",
     "output_type": "stream",
     "text": [
      "Осталось 10 признаков.\n"
     ]
    }
   ],
   "source": [
    "print(f'Осталось {len(X_rough_final)} признаков.')"
   ]
  },
  {
   "cell_type": "code",
   "execution_count": 79,
   "metadata": {},
   "outputs": [],
   "source": [
    "params = {'cat_features': cat_features,\n",
    "          'eval_metric': CatBoostSmapeScoring(),\n",
    "          'loss_function': 'MAPE',\n",
    "          'random_seed': RANDOM_SEED,\n",
    "          'verbose': 100,\n",
    "          'early_stopping_rounds': 100,\n",
    "          'learning_rate':0.15}\n",
    "\n",
    "model = CatBoostRegressor(**params)"
   ]
  },
  {
   "cell_type": "code",
   "execution_count": 80,
   "metadata": {},
   "outputs": [],
   "source": [
    "train_data_rough_final = Pool(data=train[X_rough_final],\n",
    "                              label=train[y_1],\n",
    "                              cat_features=cat_features)"
   ]
  },
  {
   "cell_type": "code",
   "execution_count": 81,
   "metadata": {},
   "outputs": [
    {
     "name": "stdout",
     "output_type": "stream",
     "text": [
      "Training on fold [0/5]\n",
      "0:\tlearn: 147.2242647\ttest: 147.2618555\tbest: 147.2618555 (0)\ttotal: 156ms\tremaining: 2m 35s\n",
      "100:\tlearn: 4.2157422\ttest: 4.2429778\tbest: 4.2429778 (100)\ttotal: 7.12s\tremaining: 1m 3s\n",
      "200:\tlearn: 3.8176179\ttest: 3.9766103\tbest: 3.9766103 (200)\ttotal: 14s\tremaining: 55.5s\n",
      "300:\tlearn: 3.6038661\ttest: 3.8301361\tbest: 3.8301361 (300)\ttotal: 20.8s\tremaining: 48.2s\n",
      "400:\tlearn: 3.4724124\ttest: 3.7682316\tbest: 3.7682316 (400)\ttotal: 27.5s\tremaining: 41.1s\n",
      "500:\tlearn: 3.3718031\ttest: 3.7220046\tbest: 3.7218501 (498)\ttotal: 34.3s\tremaining: 34.1s\n",
      "600:\tlearn: 3.2918277\ttest: 3.6846855\tbest: 3.6844739 (599)\ttotal: 41.1s\tremaining: 27.3s\n",
      "700:\tlearn: 3.2276693\ttest: 3.6592847\tbest: 3.6592847 (700)\ttotal: 48s\tremaining: 20.5s\n",
      "800:\tlearn: 3.1706240\ttest: 3.6311977\tbest: 3.6311977 (800)\ttotal: 54.6s\tremaining: 13.6s\n",
      "900:\tlearn: 3.1213417\ttest: 3.6109850\tbest: 3.6109850 (900)\ttotal: 1m 1s\tremaining: 6.75s\n",
      "999:\tlearn: 3.0733675\ttest: 3.5874107\tbest: 3.5874107 (999)\ttotal: 1m 8s\tremaining: 0us\n",
      "\n",
      "bestTest = 3.587410676\n",
      "bestIteration = 999\n",
      "\n",
      "Training on fold [1/5]\n",
      "0:\tlearn: 147.2134882\ttest: 147.3347076\tbest: 147.3347076 (0)\ttotal: 65.2ms\tremaining: 1m 5s\n",
      "100:\tlearn: 4.2231301\ttest: 4.3254509\tbest: 4.3254509 (100)\ttotal: 6.75s\tremaining: 1m\n",
      "200:\tlearn: 3.8462459\ttest: 4.0993050\tbest: 4.0993050 (200)\ttotal: 13.5s\tremaining: 53.7s\n",
      "300:\tlearn: 3.6298632\ttest: 3.9861587\tbest: 3.9861587 (300)\ttotal: 20.3s\tremaining: 47.1s\n",
      "400:\tlearn: 3.4990426\ttest: 3.9238579\tbest: 3.9238579 (400)\ttotal: 27.3s\tremaining: 40.8s\n",
      "500:\tlearn: 3.4076946\ttest: 3.8763737\tbest: 3.8763737 (500)\ttotal: 34.2s\tremaining: 34s\n",
      "600:\tlearn: 3.3201577\ttest: 3.8349395\tbest: 3.8341216 (594)\ttotal: 41s\tremaining: 27.2s\n",
      "700:\tlearn: 3.2232443\ttest: 3.7858928\tbest: 3.7858928 (700)\ttotal: 48.1s\tremaining: 20.5s\n",
      "800:\tlearn: 3.1576504\ttest: 3.7565764\tbest: 3.7565764 (800)\ttotal: 55.1s\tremaining: 13.7s\n",
      "900:\tlearn: 3.1030057\ttest: 3.7342338\tbest: 3.7342338 (900)\ttotal: 1m 1s\tremaining: 6.81s\n",
      "999:\tlearn: 3.0509902\ttest: 3.7150282\tbest: 3.7150282 (999)\ttotal: 1m 8s\tremaining: 0us\n",
      "\n",
      "bestTest = 3.715028186\n",
      "bestIteration = 999\n",
      "\n",
      "Training on fold [2/5]\n",
      "0:\tlearn: 147.1803188\ttest: 147.3280531\tbest: 147.3280531 (0)\ttotal: 76.5ms\tremaining: 1m 16s\n",
      "100:\tlearn: 4.2341970\ttest: 4.2305009\tbest: 4.2305009 (100)\ttotal: 6.55s\tremaining: 58.3s\n",
      "200:\tlearn: 3.8375810\ttest: 3.9774739\tbest: 3.9763564 (199)\ttotal: 12.9s\tremaining: 51.4s\n",
      "300:\tlearn: 3.6127696\ttest: 3.8648519\tbest: 3.8648519 (300)\ttotal: 19.4s\tremaining: 45s\n",
      "400:\tlearn: 3.4527965\ttest: 3.7896722\tbest: 3.7896722 (400)\ttotal: 26.2s\tremaining: 39.1s\n",
      "500:\tlearn: 3.3493174\ttest: 3.7474213\tbest: 3.7474213 (500)\ttotal: 32.6s\tremaining: 32.4s\n",
      "600:\tlearn: 3.2555875\ttest: 3.7048413\tbest: 3.7048413 (600)\ttotal: 39.1s\tremaining: 26s\n",
      "700:\tlearn: 3.1829415\ttest: 3.6768785\tbest: 3.6768785 (700)\ttotal: 45.6s\tremaining: 19.5s\n",
      "800:\tlearn: 3.1268674\ttest: 3.6541332\tbest: 3.6540267 (786)\ttotal: 52s\tremaining: 12.9s\n",
      "900:\tlearn: 3.0766932\ttest: 3.6329693\tbest: 3.6329395 (899)\ttotal: 58.3s\tremaining: 6.4s\n",
      "999:\tlearn: 3.0398622\ttest: 3.6202807\tbest: 3.6201540 (996)\ttotal: 1m 4s\tremaining: 0us\n",
      "\n",
      "bestTest = 3.620154049\n",
      "bestIteration = 996\n",
      "\n",
      "Training on fold [3/5]\n",
      "0:\tlearn: 147.2301480\ttest: 147.0849193\tbest: 147.0849193 (0)\ttotal: 77.1ms\tremaining: 1m 17s\n",
      "100:\tlearn: 4.1593211\ttest: 4.4953093\tbest: 4.4953093 (100)\ttotal: 6.52s\tremaining: 58s\n",
      "200:\tlearn: 3.7706896\ttest: 4.2442247\tbest: 4.2442247 (200)\ttotal: 13s\tremaining: 51.7s\n",
      "300:\tlearn: 3.5544121\ttest: 4.1460698\tbest: 4.1460698 (300)\ttotal: 19.4s\tremaining: 45.1s\n",
      "400:\tlearn: 3.4115934\ttest: 4.0572374\tbest: 4.0572374 (400)\ttotal: 25.8s\tremaining: 38.6s\n",
      "500:\tlearn: 3.2941982\ttest: 3.9906494\tbest: 3.9906494 (500)\ttotal: 32.2s\tremaining: 32.1s\n",
      "600:\tlearn: 3.2063625\ttest: 3.9392438\tbest: 3.9392438 (600)\ttotal: 38.6s\tremaining: 25.6s\n",
      "700:\tlearn: 3.1366470\ttest: 3.8928405\tbest: 3.8928405 (700)\ttotal: 45.2s\tremaining: 19.3s\n",
      "800:\tlearn: 3.0761109\ttest: 3.8704956\tbest: 3.8704641 (799)\ttotal: 51.5s\tremaining: 12.8s\n",
      "900:\tlearn: 3.0296042\ttest: 3.8461196\tbest: 3.8461196 (900)\ttotal: 57.8s\tremaining: 6.35s\n",
      "999:\tlearn: 2.9789584\ttest: 3.8213870\tbest: 3.8209974 (995)\ttotal: 1m 4s\tremaining: 0us\n",
      "\n",
      "bestTest = 3.820997435\n",
      "bestIteration = 995\n",
      "\n",
      "Training on fold [4/5]\n",
      "0:\tlearn: 147.2125972\ttest: 147.0488102\tbest: 147.0488102 (0)\ttotal: 63.2ms\tremaining: 1m 3s\n",
      "100:\tlearn: 4.1382426\ttest: 4.5665820\tbest: 4.5665820 (100)\ttotal: 6.5s\tremaining: 57.9s\n",
      "200:\tlearn: 3.7264888\ttest: 4.3271317\tbest: 4.3271317 (200)\ttotal: 13s\tremaining: 51.6s\n",
      "300:\tlearn: 3.4852950\ttest: 4.1954555\tbest: 4.1954555 (300)\ttotal: 19.5s\tremaining: 45.3s\n",
      "400:\tlearn: 3.3178951\ttest: 4.1055120\tbest: 4.1055120 (400)\ttotal: 25.9s\tremaining: 38.7s\n",
      "500:\tlearn: 3.1812415\ttest: 4.0324120\tbest: 4.0324120 (500)\ttotal: 32.4s\tremaining: 32.3s\n",
      "600:\tlearn: 3.0629312\ttest: 3.9631690\tbest: 3.9631690 (600)\ttotal: 39s\tremaining: 25.9s\n",
      "700:\tlearn: 2.9742183\ttest: 3.9149025\tbest: 3.9149025 (700)\ttotal: 45.3s\tremaining: 19.3s\n",
      "800:\tlearn: 2.9081673\ttest: 3.8840294\tbest: 3.8840294 (800)\ttotal: 51.7s\tremaining: 12.8s\n",
      "900:\tlearn: 2.8517263\ttest: 3.8622496\tbest: 3.8622496 (900)\ttotal: 58.3s\tremaining: 6.41s\n",
      "999:\tlearn: 2.7980150\ttest: 3.8488078\tbest: 3.8456113 (976)\ttotal: 1m 4s\tremaining: 0us\n",
      "\n",
      "bestTest = 3.845611314\n",
      "bestIteration = 976\n",
      "\n"
     ]
    }
   ],
   "source": [
    "cv_data = cv(\n",
    "    params=params,\n",
    "    pool=train_data_rough_final,\n",
    "    fold_count=5,\n",
    "    shuffle=True,\n",
    "    partition_random_seed=RANDOM_SEED,\n",
    ")"
   ]
  },
  {
   "cell_type": "code",
   "execution_count": 82,
   "metadata": {},
   "outputs": [],
   "source": [
    "cv_data[cv_data['test-CatBoostSmapeScoring-mean']==cv_data['test-CatBoostSmapeScoring-mean'].min()]\n",
    "\n",
    "smape_rough = cv_data['test-CatBoostSmapeScoring-mean'].min()\n",
    "n_iters_y_1_no_pr_sc_st = cv_data[cv_data['test-CatBoostSmapeScoring-mean']==cv_data['test-CatBoostSmapeScoring-mean'].min()]['iterations'].values[0]"
   ]
  },
  {
   "cell_type": "code",
   "execution_count": 83,
   "metadata": {},
   "outputs": [
    {
     "name": "stdout",
     "output_type": "stream",
     "text": [
      "==> Результаты предсказаний CatBoostRegressor с ограниченным набором признаков\n",
      "\n",
      " для ЧЕРНОВОГО концентрата:\n",
      " 3.72\n",
      "\n"
     ]
    }
   ],
   "source": [
    "print(f'==> Результаты предсказаний CatBoostRegressor с ограниченным набором признаков\\n')\n",
    "\n",
    "print(' для ЧЕРНОВОГО концентрата:')\n",
    "print(f' {smape_rough :.2f}\\n')"
   ]
  },
  {
   "cell_type": "code",
   "execution_count": 123,
   "metadata": {},
   "outputs": [
    {
     "data": {
      "text/html": [
       "<div>\n",
       "<style scoped>\n",
       "    .dataframe tbody tr th:only-of-type {\n",
       "        vertical-align: middle;\n",
       "    }\n",
       "\n",
       "    .dataframe tbody tr th {\n",
       "        vertical-align: top;\n",
       "    }\n",
       "\n",
       "    .dataframe thead th {\n",
       "        text-align: right;\n",
       "    }\n",
       "</style>\n",
       "<table border=\"1\" class=\"dataframe\">\n",
       "  <thead>\n",
       "    <tr style=\"text-align: right;\">\n",
       "      <th></th>\n",
       "      <th>1_base_model(LR)</th>\n",
       "      <th>2_DecisionTree</th>\n",
       "      <th>3_RandomForest</th>\n",
       "      <th>4_CatBoost</th>\n",
       "      <th>5_CatBoost_no_pr_sec</th>\n",
       "      <th>6_CatBoost_no_pr_sec_st</th>\n",
       "      <th>7_CatBoost_scaled_features</th>\n",
       "    </tr>\n",
       "  </thead>\n",
       "  <tbody>\n",
       "    <tr>\n",
       "      <th>score_rough</th>\n",
       "      <td>7.178800</td>\n",
       "      <td>8.089410</td>\n",
       "      <td>7.637065</td>\n",
       "      <td>4.333826</td>\n",
       "      <td>3.338533</td>\n",
       "      <td>3.421710</td>\n",
       "      <td>3.421710</td>\n",
       "    </tr>\n",
       "    <tr>\n",
       "      <th>score_final</th>\n",
       "      <td>10.723519</td>\n",
       "      <td>9.814606</td>\n",
       "      <td>9.614325</td>\n",
       "      <td>7.455945</td>\n",
       "      <td>7.942604</td>\n",
       "      <td>3.346436</td>\n",
       "      <td>7.565439</td>\n",
       "    </tr>\n",
       "    <tr>\n",
       "      <th>score_total</th>\n",
       "      <td>9.837339</td>\n",
       "      <td>9.383307</td>\n",
       "      <td>9.120010</td>\n",
       "      <td>6.675415</td>\n",
       "      <td>6.791587</td>\n",
       "      <td>3.365254</td>\n",
       "      <td>6.529507</td>\n",
       "    </tr>\n",
       "  </tbody>\n",
       "</table>\n",
       "</div>"
      ],
      "text/plain": [
       "             1_base_model(LR)  2_DecisionTree  3_RandomForest  4_CatBoost  \\\n",
       "score_rough          7.178800        8.089410        7.637065    4.333826   \n",
       "score_final         10.723519        9.814606        9.614325    7.455945   \n",
       "score_total          9.837339        9.383307        9.120010    6.675415   \n",
       "\n",
       "             5_CatBoost_no_pr_sec  6_CatBoost_no_pr_sec_st  \\\n",
       "score_rough              3.338533                 3.421710   \n",
       "score_final              7.942604                 3.346436   \n",
       "score_total              6.791587                 3.365254   \n",
       "\n",
       "             7_CatBoost_scaled_features  \n",
       "score_rough                    3.421710  \n",
       "score_final                    7.565439  \n",
       "score_total                    6.529507  "
      ]
     },
     "execution_count": 123,
     "metadata": {},
     "output_type": "execute_result"
    }
   ],
   "source": [
    "models_results['6_CatBoost_no_pr_sec_st'] = [smape_rough, smape_final, total_smape(smape_rough, smape_final)]\n",
    "models_results"
   ]
  },
  {
   "cell_type": "markdown",
   "metadata": {},
   "source": [
    "Резльутат ухудшился"
   ]
  },
  {
   "cell_type": "markdown",
   "metadata": {},
   "source": [
    "В итоге для чернового этапа будем использовать `5_CatBoost_no_pr_sc` с ограничением признаков, полученных в результате работы процесса на стадиях первичной и вторичной очисток."
   ]
  },
  {
   "cell_type": "markdown",
   "metadata": {},
   "source": [
    "### Модель для финального концентрата"
   ]
  },
  {
   "cell_type": "code",
   "execution_count": 95,
   "metadata": {},
   "outputs": [],
   "source": [
    "params = {'cat_features': cat_features,\n",
    "          'eval_metric': CatBoostSmapeScoring(),\n",
    "          'loss_function': 'MAPE',\n",
    "          'random_seed': RANDOM_SEED,\n",
    "          'verbose': 100,\n",
    "          'early_stopping_rounds': 100,\n",
    "          'learning_rate':0.10}\n",
    "\n",
    "model = CatBoostRegressor(**params)"
   ]
  },
  {
   "cell_type": "code",
   "execution_count": 96,
   "metadata": {},
   "outputs": [],
   "source": [
    "train_data_rough_2 = Pool(data=train[X_rough],\n",
    "                        label=train[y_2],\n",
    "                        cat_features=cat_features)"
   ]
  },
  {
   "cell_type": "code",
   "execution_count": 98,
   "metadata": {},
   "outputs": [
    {
     "name": "stderr",
     "output_type": "stream",
     "text": [
      "Custom logger is already specified. Specify more than one logger at same time is not thread safe."
     ]
    },
    {
     "name": "stdout",
     "output_type": "stream",
     "text": [
      "Training on fold [0/5]\n",
      "0:\tlearn: 163.1821843\ttest: 163.2440089\tbest: 163.2440089 (0)\ttotal: 148ms\tremaining: 2m 28s\n",
      "100:\tlearn: 8.0302980\ttest: 8.2253935\tbest: 8.2253935 (100)\ttotal: 6.81s\tremaining: 1m\n",
      "200:\tlearn: 7.7355674\ttest: 8.0060417\tbest: 8.0060417 (200)\ttotal: 13.6s\tremaining: 53.9s\n",
      "300:\tlearn: 7.6637449\ttest: 7.9728080\tbest: 7.9718129 (290)\ttotal: 20.3s\tremaining: 47.3s\n",
      "400:\tlearn: 7.6340232\ttest: 7.9684174\tbest: 7.9669440 (394)\ttotal: 27.4s\tremaining: 40.9s\n",
      "500:\tlearn: 7.6046726\ttest: 7.9618278\tbest: 7.9618278 (500)\ttotal: 33.9s\tremaining: 33.8s\n",
      "600:\tlearn: 7.5940698\ttest: 7.9656862\tbest: 7.9611544 (514)\ttotal: 40.8s\tremaining: 27.1s\n",
      "\n",
      "bestTest = 7.961154385\n",
      "bestIteration = 514\n",
      "\n",
      "Training on fold [1/5]\n",
      "0:\tlearn: 163.2345187\ttest: 163.3840885\tbest: 163.3840885 (0)\ttotal: 71.2ms\tremaining: 1m 11s\n",
      "100:\tlearn: 8.1274827\ttest: 7.9576061\tbest: 7.9576061 (100)\ttotal: 6.7s\tremaining: 59.6s\n",
      "200:\tlearn: 7.9272341\ttest: 7.8041317\tbest: 7.8041317 (200)\ttotal: 13.3s\tremaining: 53s\n",
      "300:\tlearn: 7.8685234\ttest: 7.7910072\tbest: 7.7895809 (278)\ttotal: 20.2s\tremaining: 46.9s\n",
      "\n",
      "bestTest = 7.789580872\n",
      "bestIteration = 278\n",
      "\n",
      "Training on fold [2/5]\n",
      "0:\tlearn: 163.0519514\ttest: 163.3049227\tbest: 163.3049227 (0)\ttotal: 67.8ms\tremaining: 1m 7s\n",
      "100:\tlearn: 8.1405862\ttest: 7.9170879\tbest: 7.9170879 (100)\ttotal: 7.13s\tremaining: 1m 3s\n",
      "200:\tlearn: 7.9703139\ttest: 7.7209065\tbest: 7.7203248 (197)\ttotal: 14s\tremaining: 55.6s\n",
      "300:\tlearn: 7.9085732\ttest: 7.7414877\tbest: 7.7162162 (209)\ttotal: 20.9s\tremaining: 48.6s\n",
      "\n",
      "bestTest = 7.716216189\n",
      "bestIteration = 209\n",
      "\n",
      "Training on fold [3/5]\n",
      "0:\tlearn: 163.0171937\ttest: 162.9617514\tbest: 162.9617514 (0)\ttotal: 68.1ms\tremaining: 1m 8s\n",
      "100:\tlearn: 7.5028422\ttest: 8.2646482\tbest: 8.2646482 (100)\ttotal: 7.01s\tremaining: 1m 2s\n",
      "200:\tlearn: 6.9859979\ttest: 7.9566870\tbest: 7.9566870 (200)\ttotal: 14.1s\tremaining: 55.9s\n",
      "300:\tlearn: 6.7784387\ttest: 7.8440697\tbest: 7.8440697 (300)\ttotal: 21s\tremaining: 48.7s\n",
      "400:\tlearn: 6.6720607\ttest: 7.7715957\tbest: 7.7715957 (400)\ttotal: 27.7s\tremaining: 41.4s\n",
      "500:\tlearn: 6.5765545\ttest: 7.7160734\tbest: 7.7160418 (499)\ttotal: 34.6s\tremaining: 34.4s\n",
      "600:\tlearn: 6.4992862\ttest: 7.6765171\tbest: 7.6765171 (600)\ttotal: 41.5s\tremaining: 27.5s\n",
      "700:\tlearn: 6.4580566\ttest: 7.6637054\tbest: 7.6637054 (700)\ttotal: 48.4s\tremaining: 20.6s\n",
      "800:\tlearn: 6.4268994\ttest: 7.6665958\tbest: 7.6616468 (731)\ttotal: 56s\tremaining: 13.9s\n",
      "900:\tlearn: 6.4014042\ttest: 7.6599590\tbest: 7.6596472 (888)\ttotal: 1m 2s\tremaining: 6.91s\n",
      "999:\tlearn: 6.3691024\ttest: 7.6576834\tbest: 7.6576123 (997)\ttotal: 1m 9s\tremaining: 0us\n",
      "\n",
      "bestTest = 7.657612322\n",
      "bestIteration = 997\n",
      "\n",
      "Training on fold [4/5]\n",
      "0:\tlearn: 163.1376995\ttest: 162.7437026\tbest: 162.7437026 (0)\ttotal: 68.8ms\tremaining: 1m 8s\n",
      "100:\tlearn: 7.9533086\ttest: 8.7973691\tbest: 8.7973691 (100)\ttotal: 6.97s\tremaining: 1m 2s\n",
      "200:\tlearn: 7.6770952\ttest: 8.6042379\tbest: 8.5963409 (157)\ttotal: 13.9s\tremaining: 55.2s\n",
      "300:\tlearn: 7.5791846\ttest: 8.5777006\tbest: 8.5772793 (285)\ttotal: 20.8s\tremaining: 48.2s\n",
      "400:\tlearn: 7.5553690\ttest: 8.5740311\tbest: 8.5686355 (343)\ttotal: 27.8s\tremaining: 41.5s\n",
      "500:\tlearn: 7.5126576\ttest: 8.5485019\tbest: 8.5484544 (489)\ttotal: 35s\tremaining: 34.9s\n",
      "600:\tlearn: 7.4968742\ttest: 8.5484249\tbest: 8.5462311 (558)\ttotal: 42s\tremaining: 27.9s\n",
      "\n",
      "bestTest = 8.546231141\n",
      "bestIteration = 558\n",
      "\n"
     ]
    }
   ],
   "source": [
    "# Попробуем выполнить CV с ограниченным количеством параметров\n",
    "\n",
    "cv_data = cv(\n",
    "    params=params,\n",
    "    pool=train_data_rough_2,\n",
    "    fold_count=5,\n",
    "    shuffle=True,\n",
    "    partition_random_seed=RANDOM_SEED,\n",
    ")"
   ]
  },
  {
   "cell_type": "code",
   "execution_count": 99,
   "metadata": {},
   "outputs": [],
   "source": [
    "cv_data[cv_data['test-CatBoostSmapeScoring-mean']==cv_data['test-CatBoostSmapeScoring-mean'].min()]\n",
    "\n",
    "smape_final = cv_data['test-CatBoostSmapeScoring-mean'].min()\n",
    "n_iters_y_2_no_pr_sc = cv_data[cv_data['test-CatBoostSmapeScoring-mean']==cv_data['test-CatBoostSmapeScoring-mean'].min()]['iterations'].values[0]"
   ]
  },
  {
   "cell_type": "code",
   "execution_count": 100,
   "metadata": {},
   "outputs": [
    {
     "name": "stdout",
     "output_type": "stream",
     "text": [
      "==> Результаты предсказаний CatBoostRegressor с ограниченным набором признаков\n",
      "\n",
      " для ФИНАЛЬНОГО концентрата:\n",
      " 7.942604493312926\n",
      "\n"
     ]
    }
   ],
   "source": [
    "print(f'==> Результаты предсказаний CatBoostRegressor с ограниченным набором признаков\\n')\n",
    "\n",
    "print(' для ФИНАЛЬНОГО концентрата:')\n",
    "print(f' {smape_final}\\n')"
   ]
  },
  {
   "cell_type": "code",
   "execution_count": 101,
   "metadata": {},
   "outputs": [],
   "source": [
    "models_results.iloc[1,4] = smape_final\n",
    "models_results.iloc[2,4] = total_smape(models_results.iloc[0,4], models_results.iloc[1,4])"
   ]
  },
  {
   "cell_type": "code",
   "execution_count": 102,
   "metadata": {},
   "outputs": [
    {
     "data": {
      "text/html": [
       "<div>\n",
       "<style scoped>\n",
       "    .dataframe tbody tr th:only-of-type {\n",
       "        vertical-align: middle;\n",
       "    }\n",
       "\n",
       "    .dataframe tbody tr th {\n",
       "        vertical-align: top;\n",
       "    }\n",
       "\n",
       "    .dataframe thead th {\n",
       "        text-align: right;\n",
       "    }\n",
       "</style>\n",
       "<table border=\"1\" class=\"dataframe\">\n",
       "  <thead>\n",
       "    <tr style=\"text-align: right;\">\n",
       "      <th></th>\n",
       "      <th>1_base_model(LR)</th>\n",
       "      <th>2_DecisionTree</th>\n",
       "      <th>3_RandomForest</th>\n",
       "      <th>4_CatBoost</th>\n",
       "      <th>5_CatBoost_no_pr_sec</th>\n",
       "      <th>6_CatBoost_no_pr_sec_st</th>\n",
       "      <th>7_CatBoost_scaled_features</th>\n",
       "    </tr>\n",
       "  </thead>\n",
       "  <tbody>\n",
       "    <tr>\n",
       "      <th>score_rough</th>\n",
       "      <td>7.178800</td>\n",
       "      <td>8.089410</td>\n",
       "      <td>7.637065</td>\n",
       "      <td>4.333826</td>\n",
       "      <td>3.338533</td>\n",
       "      <td>3.718583</td>\n",
       "      <td>3.421710</td>\n",
       "    </tr>\n",
       "    <tr>\n",
       "      <th>score_final</th>\n",
       "      <td>10.723519</td>\n",
       "      <td>9.814606</td>\n",
       "      <td>9.614325</td>\n",
       "      <td>7.455945</td>\n",
       "      <td>7.942604</td>\n",
       "      <td>7.455945</td>\n",
       "      <td>7.455945</td>\n",
       "    </tr>\n",
       "    <tr>\n",
       "      <th>score_total</th>\n",
       "      <td>9.837339</td>\n",
       "      <td>9.383307</td>\n",
       "      <td>9.120010</td>\n",
       "      <td>6.675415</td>\n",
       "      <td>6.791587</td>\n",
       "      <td>6.521604</td>\n",
       "      <td>6.447386</td>\n",
       "    </tr>\n",
       "  </tbody>\n",
       "</table>\n",
       "</div>"
      ],
      "text/plain": [
       "             1_base_model(LR)  2_DecisionTree  3_RandomForest  4_CatBoost  \\\n",
       "score_rough          7.178800        8.089410        7.637065    4.333826   \n",
       "score_final         10.723519        9.814606        9.614325    7.455945   \n",
       "score_total          9.837339        9.383307        9.120010    6.675415   \n",
       "\n",
       "             5_CatBoost_no_pr_sec  6_CatBoost_no_pr_sec_st  \\\n",
       "score_rough              3.338533                 3.718583   \n",
       "score_final              7.942604                 7.455945   \n",
       "score_total              6.791587                 6.521604   \n",
       "\n",
       "             7_CatBoost_scaled_features  \n",
       "score_rough                    3.421710  \n",
       "score_final                    7.455945  \n",
       "score_total                    6.447386  "
      ]
     },
     "execution_count": 102,
     "metadata": {},
     "output_type": "execute_result"
    }
   ],
   "source": [
    "models_results"
   ]
  },
  {
   "cell_type": "markdown",
   "metadata": {},
   "source": [
    "Результат ухудшился, для финальной стадии будем использовать предсказание по полному датасету."
   ]
  },
  {
   "cell_type": "code",
   "execution_count": 103,
   "metadata": {},
   "outputs": [],
   "source": [
    "# Попробуем обучить модель на масштабированных признаках\n",
    "params = {'cat_features': cat_features,\n",
    "          'eval_metric': CatBoostSmapeScoring(),\n",
    "          'loss_function': 'MAPE',\n",
    "          'random_seed': RANDOM_SEED,\n",
    "          'verbose': 100,\n",
    "          'early_stopping_rounds': 100,\n",
    "          'learning_rate':0.10}\n",
    "\n",
    "model = CatBoostRegressor(**params)"
   ]
  },
  {
   "cell_type": "code",
   "execution_count": 104,
   "metadata": {},
   "outputs": [],
   "source": [
    "train_data_scaled_2 = Pool(data=train_scaled[X],\n",
    "                           label=train_scaled[y_2],\n",
    "                           cat_features=cat_features)"
   ]
  },
  {
   "cell_type": "code",
   "execution_count": 105,
   "metadata": {},
   "outputs": [
    {
     "name": "stdout",
     "output_type": "stream",
     "text": [
      "Training on fold [0/5]\n",
      "0:\tlearn: 162.9762753\ttest: 162.9280075\tbest: 162.9280075 (0)\ttotal: 151ms\tremaining: 2m 30s\n",
      "100:\tlearn: 7.9080057\ttest: 8.0996248\tbest: 8.0996248 (100)\ttotal: 8.31s\tremaining: 1m 14s\n",
      "200:\tlearn: 7.5534021\ttest: 7.8569818\tbest: 7.8562715 (187)\ttotal: 16.3s\tremaining: 1m 4s\n",
      "300:\tlearn: 7.4053285\ttest: 7.7732994\tbest: 7.7730861 (299)\ttotal: 24.3s\tremaining: 56.3s\n",
      "400:\tlearn: 7.2981662\ttest: 7.6988089\tbest: 7.6988089 (400)\ttotal: 32s\tremaining: 47.8s\n",
      "500:\tlearn: 7.2369620\ttest: 7.6665665\tbest: 7.6663528 (486)\ttotal: 39.9s\tremaining: 39.8s\n",
      "600:\tlearn: 7.1754664\ttest: 7.6515585\tbest: 7.6462476 (587)\ttotal: 47.9s\tremaining: 31.8s\n",
      "\n",
      "bestTest = 7.646247552\n",
      "bestIteration = 587\n",
      "\n",
      "Training on fold [1/5]\n",
      "0:\tlearn: 162.9588334\ttest: 163.0949823\tbest: 163.0949823 (0)\ttotal: 101ms\tremaining: 1m 41s\n",
      "100:\tlearn: 7.8464135\ttest: 7.6337038\tbest: 7.6337038 (100)\ttotal: 8.01s\tremaining: 1m 11s\n",
      "200:\tlearn: 7.4803860\ttest: 7.3358217\tbest: 7.3358217 (200)\ttotal: 15.9s\tremaining: 1m 3s\n",
      "300:\tlearn: 7.3374224\ttest: 7.2791787\tbest: 7.2791787 (300)\ttotal: 23.8s\tremaining: 55.2s\n",
      "400:\tlearn: 7.2489289\ttest: 7.2512806\tbest: 7.2512464 (399)\ttotal: 31.7s\tremaining: 47.3s\n",
      "500:\tlearn: 7.1754573\ttest: 7.2290289\tbest: 7.2290289 (500)\ttotal: 39.7s\tremaining: 39.6s\n",
      "600:\tlearn: 7.1242088\ttest: 7.2365892\tbest: 7.2246299 (510)\ttotal: 47.6s\tremaining: 31.6s\n",
      "\n",
      "bestTest = 7.224629917\n",
      "bestIteration = 510\n",
      "\n",
      "Training on fold [2/5]\n",
      "0:\tlearn: 163.0610708\ttest: 163.3854806\tbest: 163.3854806 (0)\ttotal: 70.8ms\tremaining: 1m 10s\n",
      "100:\tlearn: 7.9210771\ttest: 7.7573054\tbest: 7.7573054 (100)\ttotal: 8.03s\tremaining: 1m 11s\n",
      "200:\tlearn: 7.6182212\ttest: 7.5248970\tbest: 7.5246202 (178)\ttotal: 16.1s\tremaining: 1m 3s\n",
      "300:\tlearn: 7.4997883\ttest: 7.4820514\tbest: 7.4820514 (300)\ttotal: 23.7s\tremaining: 55.1s\n",
      "400:\tlearn: 7.4227375\ttest: 7.4594684\tbest: 7.4594684 (400)\ttotal: 31.3s\tremaining: 46.8s\n",
      "500:\tlearn: 7.3773159\ttest: 7.4282144\tbest: 7.4282144 (500)\ttotal: 38.9s\tremaining: 38.8s\n",
      "600:\tlearn: 7.3692186\ttest: 7.4183102\tbest: 7.4183102 (600)\ttotal: 46.6s\tremaining: 30.9s\n",
      "700:\tlearn: 7.3635162\ttest: 7.4176659\tbest: 7.4176605 (699)\ttotal: 54.5s\tremaining: 23.3s\n",
      "800:\tlearn: 7.3544681\ttest: 7.4117972\tbest: 7.4116152 (798)\ttotal: 1m 2s\tremaining: 15.4s\n",
      "900:\tlearn: 7.3511687\ttest: 7.4100196\tbest: 7.4083307 (869)\ttotal: 1m 9s\tremaining: 7.66s\n",
      "\n",
      "bestTest = 7.40833068\n",
      "bestIteration = 869\n",
      "\n",
      "Training on fold [3/5]\n",
      "0:\tlearn: 163.1647414\ttest: 163.0021387\tbest: 163.0021387 (0)\ttotal: 74.9ms\tremaining: 1m 14s\n",
      "100:\tlearn: 7.2464026\ttest: 8.0278423\tbest: 8.0278423 (100)\ttotal: 7.73s\tremaining: 1m 8s\n",
      "200:\tlearn: 6.7137461\ttest: 7.6423717\tbest: 7.6423717 (200)\ttotal: 15.3s\tremaining: 1m\n",
      "300:\tlearn: 6.3663569\ttest: 7.4199062\tbest: 7.4191962 (299)\ttotal: 23s\tremaining: 53.5s\n",
      "400:\tlearn: 6.1665972\ttest: 7.3091887\tbest: 7.3089562 (399)\ttotal: 30.9s\tremaining: 46.1s\n",
      "500:\tlearn: 6.0226300\ttest: 7.2316640\tbest: 7.2309060 (499)\ttotal: 38.5s\tremaining: 38.3s\n",
      "600:\tlearn: 5.9151572\ttest: 7.1765956\tbest: 7.1765956 (600)\ttotal: 46.1s\tremaining: 30.6s\n",
      "700:\tlearn: 5.8611307\ttest: 7.1536555\tbest: 7.1536555 (700)\ttotal: 53.6s\tremaining: 22.9s\n",
      "800:\tlearn: 5.7988399\ttest: 7.1332536\tbest: 7.1330058 (789)\ttotal: 1m 1s\tremaining: 15.2s\n",
      "900:\tlearn: 5.7419589\ttest: 7.1150566\tbest: 7.1137129 (897)\ttotal: 1m 8s\tremaining: 7.56s\n",
      "999:\tlearn: 5.6989074\ttest: 7.1059824\tbest: 7.1044750 (968)\ttotal: 1m 16s\tremaining: 0us\n",
      "\n",
      "bestTest = 7.10447502\n",
      "bestIteration = 968\n",
      "\n",
      "Training on fold [4/5]\n",
      "0:\tlearn: 162.9894355\ttest: 162.7362970\tbest: 162.7362970 (0)\ttotal: 80.1ms\tremaining: 1m 19s\n",
      "100:\tlearn: 7.6219158\ttest: 8.6115986\tbest: 8.6115986 (100)\ttotal: 7.59s\tremaining: 1m 7s\n",
      "200:\tlearn: 7.4142537\ttest: 8.4420621\tbest: 8.4419832 (195)\ttotal: 15.3s\tremaining: 1m\n",
      "300:\tlearn: 7.3440436\ttest: 8.4274270\tbest: 8.4240349 (267)\ttotal: 23s\tremaining: 53.5s\n",
      "\n",
      "bestTest = 8.4240349\n",
      "bestIteration = 267\n",
      "\n"
     ]
    }
   ],
   "source": [
    "cv_data = cv(\n",
    "    params=params,\n",
    "    pool=train_data_scaled_2,\n",
    "    fold_count=5,\n",
    "    shuffle=True,\n",
    "    partition_random_seed=RANDOM_SEED,\n",
    ")"
   ]
  },
  {
   "cell_type": "code",
   "execution_count": 106,
   "metadata": {},
   "outputs": [],
   "source": [
    "cv_data[cv_data['test-CatBoostSmapeScoring-mean']==cv_data['test-CatBoostSmapeScoring-mean'].min()]\n",
    "\n",
    "smape_final = cv_data['test-CatBoostSmapeScoring-mean'].min()\n",
    "n_iters_y_2_no_pr_sc = cv_data[cv_data['test-CatBoostSmapeScoring-mean']==cv_data['test-CatBoostSmapeScoring-mean'].min()]['iterations'].values[0]"
   ]
  },
  {
   "cell_type": "code",
   "execution_count": 107,
   "metadata": {},
   "outputs": [
    {
     "name": "stdout",
     "output_type": "stream",
     "text": [
      "==> Результаты предсказаний CatBoostRegressor с использованием масштабированных признаков\n",
      "\n",
      " для ФИНАЛЬНОГО концентрата:\n",
      " 7.565439173711232\n",
      "\n"
     ]
    }
   ],
   "source": [
    "print(f'==> Результаты предсказаний CatBoostRegressor с использованием масштабированных признаков\\n')\n",
    "\n",
    "print(' для ФИНАЛЬНОГО концентрата:')\n",
    "print(f' {smape_final}\\n')"
   ]
  },
  {
   "cell_type": "code",
   "execution_count": 108,
   "metadata": {},
   "outputs": [],
   "source": [
    "models_results.iloc[1,6] = smape_final\n",
    "models_results.iloc[2,6] = total_smape(models_results.iloc[0,6], models_results.iloc[1,6])"
   ]
  },
  {
   "cell_type": "code",
   "execution_count": 109,
   "metadata": {},
   "outputs": [
    {
     "data": {
      "text/html": [
       "<div>\n",
       "<style scoped>\n",
       "    .dataframe tbody tr th:only-of-type {\n",
       "        vertical-align: middle;\n",
       "    }\n",
       "\n",
       "    .dataframe tbody tr th {\n",
       "        vertical-align: top;\n",
       "    }\n",
       "\n",
       "    .dataframe thead th {\n",
       "        text-align: right;\n",
       "    }\n",
       "</style>\n",
       "<table border=\"1\" class=\"dataframe\">\n",
       "  <thead>\n",
       "    <tr style=\"text-align: right;\">\n",
       "      <th></th>\n",
       "      <th>1_base_model(LR)</th>\n",
       "      <th>2_DecisionTree</th>\n",
       "      <th>3_RandomForest</th>\n",
       "      <th>4_CatBoost</th>\n",
       "      <th>5_CatBoost_no_pr_sec</th>\n",
       "      <th>6_CatBoost_no_pr_sec_st</th>\n",
       "      <th>7_CatBoost_scaled_features</th>\n",
       "    </tr>\n",
       "  </thead>\n",
       "  <tbody>\n",
       "    <tr>\n",
       "      <th>score_rough</th>\n",
       "      <td>7.178800</td>\n",
       "      <td>8.089410</td>\n",
       "      <td>7.637065</td>\n",
       "      <td>4.333826</td>\n",
       "      <td>3.338533</td>\n",
       "      <td>3.718583</td>\n",
       "      <td>3.421710</td>\n",
       "    </tr>\n",
       "    <tr>\n",
       "      <th>score_final</th>\n",
       "      <td>10.723519</td>\n",
       "      <td>9.814606</td>\n",
       "      <td>9.614325</td>\n",
       "      <td>7.455945</td>\n",
       "      <td>7.942604</td>\n",
       "      <td>7.455945</td>\n",
       "      <td>7.565439</td>\n",
       "    </tr>\n",
       "    <tr>\n",
       "      <th>score_total</th>\n",
       "      <td>9.837339</td>\n",
       "      <td>9.383307</td>\n",
       "      <td>9.120010</td>\n",
       "      <td>6.675415</td>\n",
       "      <td>6.791587</td>\n",
       "      <td>6.521604</td>\n",
       "      <td>6.529507</td>\n",
       "    </tr>\n",
       "  </tbody>\n",
       "</table>\n",
       "</div>"
      ],
      "text/plain": [
       "             1_base_model(LR)  2_DecisionTree  3_RandomForest  4_CatBoost  \\\n",
       "score_rough          7.178800        8.089410        7.637065    4.333826   \n",
       "score_final         10.723519        9.814606        9.614325    7.455945   \n",
       "score_total          9.837339        9.383307        9.120010    6.675415   \n",
       "\n",
       "             5_CatBoost_no_pr_sec  6_CatBoost_no_pr_sec_st  \\\n",
       "score_rough              3.338533                 3.718583   \n",
       "score_final              7.942604                 7.455945   \n",
       "score_total              6.791587                 6.521604   \n",
       "\n",
       "             7_CatBoost_scaled_features  \n",
       "score_rough                    3.421710  \n",
       "score_final                    7.565439  \n",
       "score_total                    6.529507  "
      ]
     },
     "execution_count": 109,
     "metadata": {},
     "output_type": "execute_result"
    }
   ],
   "source": [
    "models_results"
   ]
  },
  {
   "cell_type": "code",
   "execution_count": 110,
   "metadata": {},
   "outputs": [],
   "source": [
    "params = {'cat_features': cat_features,\n",
    "          'eval_metric': CatBoostSmapeScoring(),\n",
    "          'loss_function': 'MAPE',\n",
    "          'random_seed': RANDOM_SEED,\n",
    "          'verbose': 100,\n",
    "          'early_stopping_rounds': 100,\n",
    "          'learning_rate':0.10}\n",
    "\n",
    "model = CatBoostRegressor(**params)"
   ]
  },
  {
   "cell_type": "code",
   "execution_count": 111,
   "metadata": {},
   "outputs": [],
   "source": [
    "train_data_rough_final_2 = Pool(data=train_scaled[X_rough_final],\n",
    "                                label=train_scaled[y_2],\n",
    "                                cat_features=cat_features)"
   ]
  },
  {
   "cell_type": "code",
   "execution_count": 112,
   "metadata": {},
   "outputs": [
    {
     "name": "stdout",
     "output_type": "stream",
     "text": [
      "Training on fold [0/5]\n",
      "0:\tlearn: 163.2761716\ttest: 163.3332741\tbest: 163.3332741 (0)\ttotal: 166ms\tremaining: 2m 45s\n",
      "100:\tlearn: 8.0917152\ttest: 8.2900142\tbest: 8.2900142 (100)\ttotal: 6.54s\tremaining: 58.3s\n",
      "200:\tlearn: 7.9326889\ttest: 8.1708911\tbest: 8.1682837 (187)\ttotal: 13s\tremaining: 51.9s\n",
      "300:\tlearn: 7.8067305\ttest: 8.1018219\tbest: 8.0999844 (259)\ttotal: 19.7s\tremaining: 45.9s\n",
      "400:\tlearn: 7.7690061\ttest: 8.0975048\tbest: 8.0928316 (352)\ttotal: 26.5s\tremaining: 39.6s\n",
      "\n",
      "bestTest = 8.092831645\n",
      "bestIteration = 352\n",
      "\n",
      "Training on fold [1/5]\n",
      "0:\tlearn: 163.4340527\ttest: 163.5456674\tbest: 163.5456674 (0)\ttotal: 59.1ms\tremaining: 59s\n",
      "100:\tlearn: 8.1796239\ttest: 8.0679907\tbest: 8.0679907 (100)\ttotal: 7.04s\tremaining: 1m 2s\n",
      "200:\tlearn: 8.0138056\ttest: 7.9099449\tbest: 7.9092304 (177)\ttotal: 13.7s\tremaining: 54.4s\n",
      "300:\tlearn: 7.9006942\ttest: 7.8281857\tbest: 7.8279798 (299)\ttotal: 20.3s\tremaining: 47.1s\n",
      "400:\tlearn: 7.8680222\ttest: 7.8128639\tbest: 7.8121547 (394)\ttotal: 26.9s\tremaining: 40.1s\n",
      "500:\tlearn: 7.8451346\ttest: 7.8032476\tbest: 7.7955904 (475)\ttotal: 33.3s\tremaining: 33.2s\n",
      "600:\tlearn: 7.8197065\ttest: 7.7878328\tbest: 7.7859305 (532)\ttotal: 40.4s\tremaining: 26.8s\n",
      "700:\tlearn: 7.8139374\ttest: 7.7815972\tbest: 7.7815324 (699)\ttotal: 47s\tremaining: 20.1s\n",
      "800:\tlearn: 7.8132538\ttest: 7.7795017\tbest: 7.7793520 (766)\ttotal: 53.5s\tremaining: 13.3s\n",
      "900:\tlearn: 7.8135324\ttest: 7.7791355\tbest: 7.7787368 (826)\ttotal: 1m\tremaining: 6.59s\n",
      "999:\tlearn: 7.8059413\ttest: 7.7765439\tbest: 7.7765177 (996)\ttotal: 1m 6s\tremaining: 0us\n",
      "\n",
      "bestTest = 7.776517706\n",
      "bestIteration = 996\n",
      "\n",
      "Training on fold [2/5]\n",
      "0:\tlearn: 163.3507343\ttest: 163.6080450\tbest: 163.6080450 (0)\ttotal: 62.1ms\tremaining: 1m 2s\n",
      "100:\tlearn: 8.3244473\ttest: 8.0835296\tbest: 8.0835296 (100)\ttotal: 6.54s\tremaining: 58.3s\n",
      "200:\tlearn: 7.9905287\ttest: 7.8290746\tbest: 7.8290746 (200)\ttotal: 13.1s\tremaining: 52.2s\n",
      "300:\tlearn: 7.9221913\ttest: 7.7856045\tbest: 7.7856045 (300)\ttotal: 19.7s\tremaining: 45.7s\n",
      "400:\tlearn: 7.8917366\ttest: 7.7770756\tbest: 7.7748145 (383)\ttotal: 26.2s\tremaining: 39.2s\n",
      "500:\tlearn: 7.8785544\ttest: 7.7762272\tbest: 7.7739582 (447)\ttotal: 33.1s\tremaining: 33s\n",
      "\n",
      "bestTest = 7.77395816\n",
      "bestIteration = 447\n",
      "\n",
      "Training on fold [3/5]\n",
      "0:\tlearn: 163.0616361\ttest: 162.9747419\tbest: 162.9747419 (0)\ttotal: 75ms\tremaining: 1m 14s\n",
      "100:\tlearn: 7.6260232\ttest: 8.4361748\tbest: 8.4361748 (100)\ttotal: 7.17s\tremaining: 1m 3s\n",
      "200:\tlearn: 7.3354325\ttest: 8.3148777\tbest: 8.3148777 (200)\ttotal: 14.1s\tremaining: 56.2s\n",
      "300:\tlearn: 7.1419052\ttest: 8.2084177\tbest: 8.2083859 (299)\ttotal: 21.8s\tremaining: 50.6s\n",
      "400:\tlearn: 7.0097913\ttest: 8.1177012\tbest: 8.1176689 (399)\ttotal: 29.2s\tremaining: 43.6s\n",
      "500:\tlearn: 6.9558669\ttest: 8.0918928\tbest: 8.0910634 (486)\ttotal: 36.8s\tremaining: 36.6s\n",
      "600:\tlearn: 6.9267859\ttest: 8.0826097\tbest: 8.0825958 (599)\ttotal: 43.6s\tremaining: 29s\n",
      "700:\tlearn: 6.8950079\ttest: 8.0731179\tbest: 8.0730869 (699)\ttotal: 50.7s\tremaining: 21.6s\n",
      "800:\tlearn: 6.8275662\ttest: 8.0358089\tbest: 8.0358089 (800)\ttotal: 57.7s\tremaining: 14.3s\n",
      "900:\tlearn: 6.7761725\ttest: 8.0020526\tbest: 8.0020526 (900)\ttotal: 1m 4s\tremaining: 7.13s\n",
      "999:\tlearn: 6.7587132\ttest: 7.9961162\tbest: 7.9948002 (996)\ttotal: 1m 11s\tremaining: 0us\n",
      "\n",
      "bestTest = 7.994800171\n",
      "bestIteration = 996\n",
      "\n",
      "Training on fold [4/5]\n",
      "0:\tlearn: 163.2571809\ttest: 162.9433366\tbest: 162.9433366 (0)\ttotal: 60.8ms\tremaining: 1m\n",
      "100:\tlearn: 7.8944496\ttest: 8.6444793\tbest: 8.6444793 (100)\ttotal: 7.02s\tremaining: 1m 2s\n",
      "200:\tlearn: 7.7243645\ttest: 8.4842790\tbest: 8.4841509 (199)\ttotal: 14s\tremaining: 55.7s\n",
      "300:\tlearn: 7.6966536\ttest: 8.4702151\tbest: 8.4701931 (299)\ttotal: 21.1s\tremaining: 49s\n",
      "400:\tlearn: 7.6720004\ttest: 8.4505940\tbest: 8.4505940 (400)\ttotal: 28.5s\tremaining: 42.5s\n",
      "500:\tlearn: 7.6459575\ttest: 8.4338119\tbest: 8.4337284 (498)\ttotal: 35.6s\tremaining: 35.4s\n",
      "600:\tlearn: 7.6331802\ttest: 8.4241256\tbest: 8.4228986 (575)\ttotal: 42.9s\tremaining: 28.5s\n",
      "\n",
      "bestTest = 8.422898645\n",
      "bestIteration = 575\n",
      "\n"
     ]
    }
   ],
   "source": [
    "cv_data = cv(\n",
    "    params=params,\n",
    "    pool=train_data_rough_final_2,\n",
    "    fold_count=5,\n",
    "    shuffle=True,\n",
    "    partition_random_seed=RANDOM_SEED,\n",
    ")"
   ]
  },
  {
   "cell_type": "code",
   "execution_count": 113,
   "metadata": {},
   "outputs": [],
   "source": [
    "cv_data[cv_data['test-CatBoostSmapeScoring-mean']==cv_data['test-CatBoostSmapeScoring-mean'].min()]\n",
    "\n",
    "smape_final = cv_data['test-CatBoostSmapeScoring-mean'].min()\n",
    "n_iters_y_2_no_pr_sc_st_2 = cv_data[cv_data['test-CatBoostSmapeScoring-mean']==cv_data['test-CatBoostSmapeScoring-mean'].min()]['iterations'].values[0]"
   ]
  },
  {
   "cell_type": "code",
   "execution_count": 114,
   "metadata": {},
   "outputs": [
    {
     "name": "stdout",
     "output_type": "stream",
     "text": [
      "==> Результаты предсказаний CatBoostRegressor no pr sc st \n",
      "\n",
      " для ФИНАЛЬНОГО концентрата:\n",
      " 8.01\n",
      "\n"
     ]
    }
   ],
   "source": [
    "print(f'==> Результаты предсказаний CatBoostRegressor no pr sc st \\n')\n",
    "\n",
    "print(' для ФИНАЛЬНОГО концентрата:')\n",
    "print(f' {smape_final :.2f}\\n')"
   ]
  },
  {
   "cell_type": "code",
   "execution_count": 115,
   "metadata": {},
   "outputs": [],
   "source": [
    "models_results.iloc[1, 5] = smape_final\n",
    "models_results.iloc[2, 5] = total_smape(models_results.iloc[0,5], models_results.iloc[1,5])"
   ]
  },
  {
   "cell_type": "code",
   "execution_count": 116,
   "metadata": {},
   "outputs": [
    {
     "data": {
      "text/html": [
       "<div>\n",
       "<style scoped>\n",
       "    .dataframe tbody tr th:only-of-type {\n",
       "        vertical-align: middle;\n",
       "    }\n",
       "\n",
       "    .dataframe tbody tr th {\n",
       "        vertical-align: top;\n",
       "    }\n",
       "\n",
       "    .dataframe thead th {\n",
       "        text-align: right;\n",
       "    }\n",
       "</style>\n",
       "<table border=\"1\" class=\"dataframe\">\n",
       "  <thead>\n",
       "    <tr style=\"text-align: right;\">\n",
       "      <th></th>\n",
       "      <th>1_base_model(LR)</th>\n",
       "      <th>2_DecisionTree</th>\n",
       "      <th>3_RandomForest</th>\n",
       "      <th>4_CatBoost</th>\n",
       "      <th>5_CatBoost_no_pr_sec</th>\n",
       "      <th>6_CatBoost_no_pr_sec_st</th>\n",
       "      <th>7_CatBoost_scaled_features</th>\n",
       "    </tr>\n",
       "  </thead>\n",
       "  <tbody>\n",
       "    <tr>\n",
       "      <th>score_rough</th>\n",
       "      <td>7.178800</td>\n",
       "      <td>8.089410</td>\n",
       "      <td>7.637065</td>\n",
       "      <td>4.333826</td>\n",
       "      <td>3.338533</td>\n",
       "      <td>3.718583</td>\n",
       "      <td>3.421710</td>\n",
       "    </tr>\n",
       "    <tr>\n",
       "      <th>score_final</th>\n",
       "      <td>10.723519</td>\n",
       "      <td>9.814606</td>\n",
       "      <td>9.614325</td>\n",
       "      <td>7.455945</td>\n",
       "      <td>7.942604</td>\n",
       "      <td>8.013977</td>\n",
       "      <td>7.565439</td>\n",
       "    </tr>\n",
       "    <tr>\n",
       "      <th>score_total</th>\n",
       "      <td>9.837339</td>\n",
       "      <td>9.383307</td>\n",
       "      <td>9.120010</td>\n",
       "      <td>6.675415</td>\n",
       "      <td>6.791587</td>\n",
       "      <td>6.940128</td>\n",
       "      <td>6.529507</td>\n",
       "    </tr>\n",
       "  </tbody>\n",
       "</table>\n",
       "</div>"
      ],
      "text/plain": [
       "             1_base_model(LR)  2_DecisionTree  3_RandomForest  4_CatBoost  \\\n",
       "score_rough          7.178800        8.089410        7.637065    4.333826   \n",
       "score_final         10.723519        9.814606        9.614325    7.455945   \n",
       "score_total          9.837339        9.383307        9.120010    6.675415   \n",
       "\n",
       "             5_CatBoost_no_pr_sec  6_CatBoost_no_pr_sec_st  \\\n",
       "score_rough              3.338533                 3.718583   \n",
       "score_final              7.942604                 8.013977   \n",
       "score_total              6.791587                 6.940128   \n",
       "\n",
       "             7_CatBoost_scaled_features  \n",
       "score_rough                    3.421710  \n",
       "score_final                    7.565439  \n",
       "score_total                    6.529507  "
      ]
     },
     "execution_count": 116,
     "metadata": {},
     "output_type": "execute_result"
    }
   ],
   "source": [
    "models_results"
   ]
  },
  {
   "cell_type": "code",
   "execution_count": 117,
   "metadata": {},
   "outputs": [],
   "source": [
    "params = {'cat_features': cat_features,\n",
    "          'eval_metric': CatBoostSmapeScoring(),\n",
    "          'loss_function': 'MAPE',\n",
    "          'random_seed': RANDOM_SEED,\n",
    "          'verbose': 100,\n",
    "          'early_stopping_rounds': 100,\n",
    "          'learning_rate':0.10}\n",
    "\n",
    "model = CatBoostRegressor(**params)"
   ]
  },
  {
   "cell_type": "code",
   "execution_count": 118,
   "metadata": {},
   "outputs": [],
   "source": [
    "train_data_scaled_2 = Pool(data=train_scaled[X_rough],\n",
    "                           label=train_scaled[y_2],\n",
    "                           cat_features=cat_features)"
   ]
  },
  {
   "cell_type": "code",
   "execution_count": 119,
   "metadata": {},
   "outputs": [
    {
     "name": "stdout",
     "output_type": "stream",
     "text": [
      "Training on fold [0/5]\n",
      "0:\tlearn: 163.3382823\ttest: 163.3601381\tbest: 163.3601381 (0)\ttotal: 166ms\tremaining: 2m 45s\n",
      "100:\tlearn: 4.1614428\ttest: 4.2590286\tbest: 4.2590286 (100)\ttotal: 7.27s\tremaining: 1m 4s\n",
      "200:\tlearn: 3.6269156\ttest: 3.8337385\tbest: 3.8337385 (200)\ttotal: 14.7s\tremaining: 58.3s\n",
      "300:\tlearn: 3.3287049\ttest: 3.6218381\tbest: 3.6218381 (300)\ttotal: 21.8s\tremaining: 50.6s\n",
      "400:\tlearn: 3.1692922\ttest: 3.5170896\tbest: 3.5170896 (400)\ttotal: 28.9s\tremaining: 43.2s\n",
      "500:\tlearn: 3.0481392\ttest: 3.4502038\tbest: 3.4502038 (500)\ttotal: 36s\tremaining: 35.9s\n",
      "600:\tlearn: 2.9651706\ttest: 3.4084714\tbest: 3.4081318 (599)\ttotal: 43.2s\tremaining: 28.7s\n",
      "700:\tlearn: 2.8868323\ttest: 3.3634464\tbest: 3.3634464 (700)\ttotal: 50.3s\tremaining: 21.5s\n",
      "800:\tlearn: 2.8472141\ttest: 3.3499132\tbest: 3.3499132 (800)\ttotal: 57.5s\tremaining: 14.3s\n",
      "900:\tlearn: 2.8133198\ttest: 3.3350238\tbest: 3.3350238 (900)\ttotal: 1m 4s\tremaining: 7.1s\n",
      "999:\tlearn: 2.7839717\ttest: 3.3224387\tbest: 3.3224387 (999)\ttotal: 1m 11s\tremaining: 0us\n",
      "\n",
      "bestTest = 3.322438677\n",
      "bestIteration = 999\n",
      "\n",
      "Training on fold [1/5]\n",
      "0:\tlearn: 163.3304555\ttest: 163.4444117\tbest: 163.4444117 (0)\ttotal: 67.8ms\tremaining: 1m 7s\n",
      "100:\tlearn: 4.1536707\ttest: 4.2118671\tbest: 4.2118671 (100)\ttotal: 7.18s\tremaining: 1m 3s\n",
      "200:\tlearn: 3.5987191\ttest: 3.7843384\tbest: 3.7843384 (200)\ttotal: 14.6s\tremaining: 57.9s\n",
      "300:\tlearn: 3.3347565\ttest: 3.6042817\tbest: 3.6042817 (300)\ttotal: 21.6s\tremaining: 50.2s\n",
      "400:\tlearn: 3.1510581\ttest: 3.4863817\tbest: 3.4863817 (400)\ttotal: 28.6s\tremaining: 42.7s\n",
      "500:\tlearn: 3.0289826\ttest: 3.4297249\tbest: 3.4297249 (500)\ttotal: 35.8s\tremaining: 35.7s\n",
      "600:\tlearn: 2.9356856\ttest: 3.3741085\tbest: 3.3741085 (600)\ttotal: 43s\tremaining: 28.5s\n",
      "700:\tlearn: 2.8572508\ttest: 3.3398079\tbest: 3.3398079 (700)\ttotal: 50.1s\tremaining: 21.4s\n",
      "800:\tlearn: 2.7881911\ttest: 3.3114361\tbest: 3.3114361 (800)\ttotal: 57.2s\tremaining: 14.2s\n",
      "900:\tlearn: 2.7423329\ttest: 3.2977298\tbest: 3.2973841 (898)\ttotal: 1m 4s\tremaining: 7.11s\n",
      "999:\tlearn: 2.7035849\ttest: 3.2858005\tbest: 3.2858005 (999)\ttotal: 1m 11s\tremaining: 0us\n",
      "\n",
      "bestTest = 3.285800544\n",
      "bestIteration = 999\n",
      "\n",
      "Training on fold [2/5]\n",
      "0:\tlearn: 163.3311864\ttest: 163.4506962\tbest: 163.4506962 (0)\ttotal: 65ms\tremaining: 1m 4s\n",
      "100:\tlearn: 4.1876676\ttest: 4.1152901\tbest: 4.1152901 (100)\ttotal: 7.2s\tremaining: 1m 4s\n",
      "200:\tlearn: 3.6367606\ttest: 3.6706761\tbest: 3.6706761 (200)\ttotal: 14.2s\tremaining: 56.5s\n",
      "300:\tlearn: 3.3700725\ttest: 3.5034448\tbest: 3.5034448 (300)\ttotal: 21.5s\tremaining: 49.9s\n",
      "400:\tlearn: 3.1772239\ttest: 3.3745785\tbest: 3.3745785 (400)\ttotal: 28.7s\tremaining: 42.9s\n",
      "500:\tlearn: 3.0575396\ttest: 3.3074896\tbest: 3.3074896 (500)\ttotal: 35.7s\tremaining: 35.6s\n",
      "600:\tlearn: 2.9729937\ttest: 3.2663155\tbest: 3.2663155 (600)\ttotal: 42.8s\tremaining: 28.4s\n",
      "700:\tlearn: 2.9010608\ttest: 3.2301627\tbest: 3.2301627 (700)\ttotal: 49.8s\tremaining: 21.2s\n",
      "800:\tlearn: 2.8441485\ttest: 3.2004830\tbest: 3.1998556 (797)\ttotal: 56.9s\tremaining: 14.1s\n",
      "900:\tlearn: 2.8136555\ttest: 3.1921948\tbest: 3.1921808 (898)\ttotal: 1m 4s\tremaining: 7.04s\n",
      "999:\tlearn: 2.7688214\ttest: 3.1707743\tbest: 3.1707743 (999)\ttotal: 1m 11s\tremaining: 0us\n",
      "\n",
      "bestTest = 3.170774325\n",
      "bestIteration = 999\n",
      "\n",
      "Training on fold [3/5]\n",
      "0:\tlearn: 163.3388045\ttest: 163.3068453\tbest: 163.3068453 (0)\ttotal: 71.8ms\tremaining: 1m 11s\n",
      "100:\tlearn: 4.1022935\ttest: 4.3392996\tbest: 4.3392996 (100)\ttotal: 7.28s\tremaining: 1m 4s\n",
      "200:\tlearn: 3.5521202\ttest: 3.9582317\tbest: 3.9582317 (200)\ttotal: 14.3s\tremaining: 57s\n",
      "300:\tlearn: 3.2843475\ttest: 3.8122459\tbest: 3.8122459 (300)\ttotal: 21.5s\tremaining: 49.9s\n",
      "400:\tlearn: 3.1089092\ttest: 3.7106271\tbest: 3.7106271 (400)\ttotal: 28.6s\tremaining: 42.7s\n",
      "500:\tlearn: 3.0039190\ttest: 3.6567560\tbest: 3.6564405 (498)\ttotal: 36s\tremaining: 35.8s\n",
      "600:\tlearn: 2.9112547\ttest: 3.6062557\tbest: 3.6062557 (600)\ttotal: 43s\tremaining: 28.6s\n",
      "700:\tlearn: 2.8396219\ttest: 3.5675483\tbest: 3.5675428 (699)\ttotal: 50.1s\tremaining: 21.4s\n",
      "800:\tlearn: 2.7860355\ttest: 3.5426259\tbest: 3.5426259 (800)\ttotal: 57.2s\tremaining: 14.2s\n",
      "900:\tlearn: 2.7523089\ttest: 3.5362423\tbest: 3.5362423 (900)\ttotal: 1m 4s\tremaining: 7.06s\n",
      "999:\tlearn: 2.7188161\ttest: 3.5182085\tbest: 3.5182085 (999)\ttotal: 1m 11s\tremaining: 0us\n",
      "\n",
      "bestTest = 3.518208478\n",
      "bestIteration = 999\n",
      "\n",
      "Training on fold [4/5]\n",
      "0:\tlearn: 163.3353616\ttest: 163.1538693\tbest: 163.1538693 (0)\ttotal: 72.6ms\tremaining: 1m 12s\n",
      "100:\tlearn: 4.0482783\ttest: 4.5430047\tbest: 4.5430047 (100)\ttotal: 7.16s\tremaining: 1m 3s\n",
      "200:\tlearn: 3.4765154\ttest: 4.0556881\tbest: 4.0556881 (200)\ttotal: 14.3s\tremaining: 56.8s\n",
      "300:\tlearn: 3.1880558\ttest: 3.8465784\tbest: 3.8465784 (300)\ttotal: 21.5s\tremaining: 50s\n",
      "400:\tlearn: 3.0029907\ttest: 3.7363357\tbest: 3.7355045 (399)\ttotal: 28.8s\tremaining: 43.1s\n",
      "500:\tlearn: 2.8624431\ttest: 3.6596246\tbest: 3.6596246 (500)\ttotal: 36.4s\tremaining: 36.3s\n",
      "600:\tlearn: 2.7517439\ttest: 3.5993734\tbest: 3.5993734 (600)\ttotal: 43.7s\tremaining: 29s\n",
      "700:\tlearn: 2.6565323\ttest: 3.5486285\tbest: 3.5486285 (700)\ttotal: 51.1s\tremaining: 21.8s\n",
      "800:\tlearn: 2.5720585\ttest: 3.5074752\tbest: 3.5072594 (799)\ttotal: 58.5s\tremaining: 14.5s\n",
      "900:\tlearn: 2.4945172\ttest: 3.4684559\tbest: 3.4684559 (900)\ttotal: 1m 5s\tremaining: 7.25s\n",
      "999:\tlearn: 2.4275851\ttest: 3.4349564\tbest: 3.4349564 (999)\ttotal: 1m 13s\tremaining: 0us\n",
      "\n",
      "bestTest = 3.434956407\n",
      "bestIteration = 999\n",
      "\n"
     ]
    }
   ],
   "source": [
    "cv_data = cv(\n",
    "    params=params,\n",
    "    pool=train_data_scaled,\n",
    "    fold_count=5,\n",
    "    shuffle=True,\n",
    "    partition_random_seed=RANDOM_SEED,\n",
    ")"
   ]
  },
  {
   "cell_type": "code",
   "execution_count": 120,
   "metadata": {},
   "outputs": [],
   "source": [
    "cv_data[cv_data['test-CatBoostSmapeScoring-mean']==cv_data['test-CatBoostSmapeScoring-mean'].min()]\n",
    "\n",
    "smape_final = cv_data['test-CatBoostSmapeScoring-mean'].min()\n",
    "n_iters_y_2_no_pr_sc_scaled_features= cv_data[cv_data['test-CatBoostSmapeScoring-mean']==cv_data['test-CatBoostSmapeScoring-mean'].min()]['iterations'].values[0]"
   ]
  },
  {
   "cell_type": "code",
   "execution_count": 124,
   "metadata": {},
   "outputs": [
    {
     "name": "stdout",
     "output_type": "stream",
     "text": [
      "==> Результаты предсказаний CatBoostRegressor no pr sc и масштабированием признаков\n",
      "\n",
      " для ФИНАЛЬНОГО концентрата:\n",
      " 3.35\n",
      "\n"
     ]
    }
   ],
   "source": [
    "print(f'==> Результаты предсказаний CatBoostRegressor no pr sc и масштабированием признаков\\n')\n",
    "\n",
    "print(' для ФИНАЛЬНОГО концентрата:')\n",
    "print(f' {smape_final :.2f}\\n')"
   ]
  },
  {
   "cell_type": "code",
   "execution_count": 126,
   "metadata": {},
   "outputs": [],
   "source": [
    "models_results.iloc[1, 6] = smape_final\n",
    "models_results.iloc[2, 6] = total_smape(models_results.iloc[0,6], models_results.iloc[1, 6])"
   ]
  },
  {
   "cell_type": "code",
   "execution_count": 127,
   "metadata": {},
   "outputs": [
    {
     "data": {
      "text/html": [
       "<div>\n",
       "<style scoped>\n",
       "    .dataframe tbody tr th:only-of-type {\n",
       "        vertical-align: middle;\n",
       "    }\n",
       "\n",
       "    .dataframe tbody tr th {\n",
       "        vertical-align: top;\n",
       "    }\n",
       "\n",
       "    .dataframe thead th {\n",
       "        text-align: right;\n",
       "    }\n",
       "</style>\n",
       "<table border=\"1\" class=\"dataframe\">\n",
       "  <thead>\n",
       "    <tr style=\"text-align: right;\">\n",
       "      <th></th>\n",
       "      <th>1_base_model(LR)</th>\n",
       "      <th>2_DecisionTree</th>\n",
       "      <th>3_RandomForest</th>\n",
       "      <th>4_CatBoost</th>\n",
       "      <th>5_CatBoost_no_pr_sec</th>\n",
       "      <th>6_CatBoost_no_pr_sec_st</th>\n",
       "      <th>7_CatBoost_scaled_features</th>\n",
       "    </tr>\n",
       "  </thead>\n",
       "  <tbody>\n",
       "    <tr>\n",
       "      <th>score_rough</th>\n",
       "      <td>7.178800</td>\n",
       "      <td>8.089410</td>\n",
       "      <td>7.637065</td>\n",
       "      <td>4.333826</td>\n",
       "      <td>3.338533</td>\n",
       "      <td>3.421710</td>\n",
       "      <td>3.421710</td>\n",
       "    </tr>\n",
       "    <tr>\n",
       "      <th>score_final</th>\n",
       "      <td>10.723519</td>\n",
       "      <td>9.814606</td>\n",
       "      <td>9.614325</td>\n",
       "      <td>7.455945</td>\n",
       "      <td>7.942604</td>\n",
       "      <td>3.346436</td>\n",
       "      <td>3.346436</td>\n",
       "    </tr>\n",
       "    <tr>\n",
       "      <th>score_total</th>\n",
       "      <td>9.837339</td>\n",
       "      <td>9.383307</td>\n",
       "      <td>9.120010</td>\n",
       "      <td>6.675415</td>\n",
       "      <td>6.791587</td>\n",
       "      <td>3.365254</td>\n",
       "      <td>3.365254</td>\n",
       "    </tr>\n",
       "  </tbody>\n",
       "</table>\n",
       "</div>"
      ],
      "text/plain": [
       "             1_base_model(LR)  2_DecisionTree  3_RandomForest  4_CatBoost  \\\n",
       "score_rough          7.178800        8.089410        7.637065    4.333826   \n",
       "score_final         10.723519        9.814606        9.614325    7.455945   \n",
       "score_total          9.837339        9.383307        9.120010    6.675415   \n",
       "\n",
       "             5_CatBoost_no_pr_sec  6_CatBoost_no_pr_sec_st  \\\n",
       "score_rough              3.338533                 3.421710   \n",
       "score_final              7.942604                 3.346436   \n",
       "score_total              6.791587                 3.365254   \n",
       "\n",
       "             7_CatBoost_scaled_features  \n",
       "score_rough                    3.421710  \n",
       "score_final                    3.346436  \n",
       "score_total                    3.365254  "
      ]
     },
     "execution_count": 127,
     "metadata": {},
     "output_type": "execute_result"
    }
   ],
   "source": [
    "models_results"
   ]
  },
  {
   "cell_type": "markdown",
   "metadata": {},
   "source": [
    "### Работа лучшей модели на тестовой выборке"
   ]
  },
  {
   "cell_type": "markdown",
   "metadata": {},
   "source": [
    "В итоге мы будем использовать две модели CatBoost:\n",
    "- с ограниченным набором признаков для предсказания чернового концентрата\n",
    "- с полным набором признаков для предсказания финального концентрата"
   ]
  },
  {
   "cell_type": "code",
   "execution_count": 128,
   "metadata": {},
   "outputs": [],
   "source": [
    "# инициализация модели для предсказания чернового концентрата с использованием лучшего количества итерраций\n",
    "params = {'cat_features': cat_features,\n",
    "          'eval_metric': CatBoostSmapeScoring(),\n",
    "          'loss_function': 'MAPE',\n",
    "          'random_seed': RANDOM_SEED,\n",
    "          'iterations': n_iters_y_1_no_pr_sc,\n",
    "          'verbose': 100,\n",
    "          'early_stopping_rounds': 100,\n",
    "          'learning_rate':0.15}\n",
    "\n",
    "model = CatBoostRegressor(**params)"
   ]
  },
  {
   "cell_type": "code",
   "execution_count": 129,
   "metadata": {},
   "outputs": [
    {
     "name": "stdout",
     "output_type": "stream",
     "text": [
      "0:\tlearn: 7.0085477\ttotal: 157ms\tremaining: 2m 36s\n",
      "100:\tlearn: 3.7327261\ttotal: 7.03s\tremaining: 1m 2s\n",
      "200:\tlearn: 3.2609752\ttotal: 13.8s\tremaining: 54.9s\n",
      "300:\tlearn: 3.0050530\ttotal: 20.7s\tremaining: 48.1s\n",
      "400:\tlearn: 2.8374380\ttotal: 28.2s\tremaining: 42s\n",
      "500:\tlearn: 2.7202671\ttotal: 35.1s\tremaining: 34.9s\n",
      "600:\tlearn: 2.6217506\ttotal: 42.1s\tremaining: 27.9s\n",
      "700:\tlearn: 2.5351485\ttotal: 49.1s\tremaining: 20.9s\n",
      "800:\tlearn: 2.4773861\ttotal: 56s\tremaining: 13.8s\n",
      "900:\tlearn: 2.4324066\ttotal: 1m 2s\tremaining: 6.82s\n",
      "998:\tlearn: 2.3897316\ttotal: 1m 9s\tremaining: 0us\n"
     ]
    },
    {
     "data": {
      "text/plain": [
       "<catboost.core.CatBoostRegressor at 0x7f44b30b8c40>"
      ]
     },
     "execution_count": 129,
     "metadata": {},
     "output_type": "execute_result"
    }
   ],
   "source": [
    "model.fit(train[X_rough], train[y_1])"
   ]
  },
  {
   "cell_type": "code",
   "execution_count": 130,
   "metadata": {},
   "outputs": [],
   "source": [
    "rough_predictions = model.predict(test[X_rough])"
   ]
  },
  {
   "cell_type": "code",
   "execution_count": 131,
   "metadata": {},
   "outputs": [],
   "source": [
    "# инициализация модели для предсказания финального концентрата с использованием лучшего количества итерраций\n",
    "params = {'cat_features': cat_features,\n",
    "          'eval_metric': CatBoostSmapeScoring(),\n",
    "          'loss_function': 'MAPE',\n",
    "          'random_seed': RANDOM_SEED,\n",
    "          'iterations': n_iters_y_2,\n",
    "          'verbose': 100,\n",
    "          'early_stopping_rounds': 100,\n",
    "          'learning_rate':0.10}\n",
    "\n",
    "model = CatBoostRegressor(**params)"
   ]
  },
  {
   "cell_type": "code",
   "execution_count": 132,
   "metadata": {},
   "outputs": [
    {
     "name": "stdout",
     "output_type": "stream",
     "text": [
      "0:\tlearn: 10.0724075\ttotal: 202ms\tremaining: 3m 20s\n",
      "100:\tlearn: 7.9785539\ttotal: 8.35s\tremaining: 1m 13s\n",
      "200:\tlearn: 7.6273116\ttotal: 16.7s\tremaining: 1m 5s\n",
      "300:\tlearn: 7.4675072\ttotal: 24.8s\tremaining: 57.1s\n",
      "400:\tlearn: 7.3009877\ttotal: 32.9s\tremaining: 48.6s\n",
      "500:\tlearn: 7.1886971\ttotal: 40.8s\tremaining: 40.1s\n",
      "600:\tlearn: 7.1249201\ttotal: 48.7s\tremaining: 31.8s\n",
      "700:\tlearn: 7.0815752\ttotal: 56.4s\tremaining: 23.6s\n",
      "800:\tlearn: 7.0498427\ttotal: 1m 3s\tremaining: 15.4s\n",
      "900:\tlearn: 7.0268304\ttotal: 1m 11s\tremaining: 7.4s\n",
      "993:\tlearn: 6.9937619\ttotal: 1m 19s\tremaining: 0us\n"
     ]
    },
    {
     "data": {
      "text/plain": [
       "<catboost.core.CatBoostRegressor at 0x7f44b30865b0>"
      ]
     },
     "execution_count": 132,
     "metadata": {},
     "output_type": "execute_result"
    }
   ],
   "source": [
    "model.fit(train[X], train[y_2])"
   ]
  },
  {
   "cell_type": "code",
   "execution_count": 133,
   "metadata": {},
   "outputs": [],
   "source": [
    "final_predictions = model.predict(test[X])"
   ]
  },
  {
   "cell_type": "code",
   "execution_count": 134,
   "metadata": {},
   "outputs": [],
   "source": [
    "smape_rough = smape_error(test[y_1], rough_predictions)\n",
    "smape_final = smape_error(test[y_2], final_predictions)\n",
    "smape_total = total_smape(smape_rough, smape_final)"
   ]
  },
  {
   "cell_type": "code",
   "execution_count": 135,
   "metadata": {},
   "outputs": [
    {
     "name": "stdout",
     "output_type": "stream",
     "text": [
      "==> Результаты предсказаний CatBoostRegressor на тестовой выборке\n",
      "\n",
      " для ЧЕРНОВОГО концентрата(ограниченный набор признаков):\n",
      " 8.021\n",
      "\n",
      " для ФИНАЛЬНОГО концентрата:\n",
      " 9.256\n",
      "\n",
      " результирующий sMAPE:\n",
      " 8.947\n"
     ]
    }
   ],
   "source": [
    "print(f'==> Результаты предсказаний CatBoostRegressor на тестовой выборке\\n')\n",
    "\n",
    "print(' для ЧЕРНОВОГО концентрата(ограниченный набор признаков):')\n",
    "print(f' {-1 * smape_rough[0] :.3f}\\n')\n",
    "\n",
    "print(' для ФИНАЛЬНОГО концентрата:')\n",
    "print(f' {-1 * smape_final[0] :.3f}\\n')\n",
    "\n",
    "print(' результирующий sMAPE:')\n",
    "print(f' {-1 * smape_total[0]:.3f}')"
   ]
  },
  {
   "cell_type": "code",
   "execution_count": 136,
   "metadata": {},
   "outputs": [],
   "source": [
    "# Проверим на тесте дефолтную модель №4 для чернового концентрата (дефолтный CatBoost)\n",
    "params = {'cat_features': cat_features,\n",
    "          'eval_metric': CatBoostSmapeScoring(),\n",
    "          'loss_function': 'MAPE',\n",
    "          'random_seed': RANDOM_SEED,\n",
    "          'verbose': 100,\n",
    "          'early_stopping_rounds': 100}\n",
    "\n",
    "model = CatBoostRegressor(**params)"
   ]
  },
  {
   "cell_type": "code",
   "execution_count": 137,
   "metadata": {},
   "outputs": [
    {
     "name": "stdout",
     "output_type": "stream",
     "text": [
      "0:\tlearn: 7.2519686\ttotal: 244ms\tremaining: 4m 3s\n",
      "100:\tlearn: 4.7910176\ttotal: 7.94s\tremaining: 1m 10s\n",
      "200:\tlearn: 4.1552724\ttotal: 15.9s\tremaining: 1m 3s\n",
      "300:\tlearn: 3.8421104\ttotal: 23.7s\tremaining: 54.9s\n",
      "400:\tlearn: 3.6464663\ttotal: 31.3s\tremaining: 46.8s\n",
      "500:\tlearn: 3.4953319\ttotal: 39s\tremaining: 38.9s\n",
      "600:\tlearn: 3.3699147\ttotal: 46.9s\tremaining: 31.1s\n",
      "700:\tlearn: 3.2608479\ttotal: 55.3s\tremaining: 23.6s\n",
      "800:\tlearn: 3.1711430\ttotal: 1m 3s\tremaining: 15.8s\n",
      "900:\tlearn: 3.1031572\ttotal: 1m 12s\tremaining: 7.91s\n",
      "999:\tlearn: 3.0359333\ttotal: 1m 20s\tremaining: 0us\n"
     ]
    },
    {
     "data": {
      "text/plain": [
       "<catboost.core.CatBoostRegressor at 0x7f449f5bbaf0>"
      ]
     },
     "execution_count": 137,
     "metadata": {},
     "output_type": "execute_result"
    }
   ],
   "source": [
    "model.fit(train[X], train[y_1])"
   ]
  },
  {
   "cell_type": "code",
   "execution_count": 138,
   "metadata": {},
   "outputs": [],
   "source": [
    "rough_predictions_temp = model.predict(test[X])"
   ]
  },
  {
   "cell_type": "code",
   "execution_count": 139,
   "metadata": {},
   "outputs": [],
   "source": [
    "# Проверим на тесте дефолтную модель №4 для финального концентрата (дефолтный CatBoost)\n",
    "params = {'cat_features': cat_features,\n",
    "          'eval_metric': CatBoostSmapeScoring(),\n",
    "          'loss_function': 'MAPE',\n",
    "          'random_seed': RANDOM_SEED,\n",
    "          'verbose': 100,\n",
    "          'early_stopping_rounds': 100}\n",
    "\n",
    "model = CatBoostRegressor(**params)"
   ]
  },
  {
   "cell_type": "code",
   "execution_count": 140,
   "metadata": {},
   "outputs": [
    {
     "name": "stdout",
     "output_type": "stream",
     "text": [
      "0:\tlearn: 10.1327162\ttotal: 214ms\tremaining: 3m 33s\n",
      "100:\tlearn: 8.8976681\ttotal: 8.58s\tremaining: 1m 16s\n",
      "200:\tlearn: 8.4951806\ttotal: 16.8s\tremaining: 1m 6s\n",
      "300:\tlearn: 8.2653198\ttotal: 25.2s\tremaining: 58.5s\n",
      "400:\tlearn: 8.1519021\ttotal: 34s\tremaining: 50.7s\n",
      "500:\tlearn: 8.0881731\ttotal: 42.2s\tremaining: 42s\n",
      "600:\tlearn: 7.8523440\ttotal: 50.3s\tremaining: 33.4s\n",
      "700:\tlearn: 7.6464779\ttotal: 58.9s\tremaining: 25.1s\n",
      "800:\tlearn: 7.5381995\ttotal: 1m 7s\tremaining: 16.7s\n",
      "900:\tlearn: 7.4960519\ttotal: 1m 15s\tremaining: 8.27s\n",
      "999:\tlearn: 7.4406901\ttotal: 1m 23s\tremaining: 0us\n"
     ]
    },
    {
     "data": {
      "text/plain": [
       "<catboost.core.CatBoostRegressor at 0x7f44b52437f0>"
      ]
     },
     "execution_count": 140,
     "metadata": {},
     "output_type": "execute_result"
    }
   ],
   "source": [
    "model.fit(train[X], train[y_2])"
   ]
  },
  {
   "cell_type": "code",
   "execution_count": 141,
   "metadata": {},
   "outputs": [],
   "source": [
    "final_predictions_temp = model.predict(test[X])"
   ]
  },
  {
   "cell_type": "code",
   "execution_count": 142,
   "metadata": {},
   "outputs": [],
   "source": [
    "smape_rough_temp = smape_error(test[y_1], rough_predictions_temp)\n",
    "smape_final_temp = smape_error(test[y_2], final_predictions_temp)\n",
    "smape_total_temp = total_smape(smape_rough_temp, smape_final_temp )"
   ]
  },
  {
   "cell_type": "code",
   "execution_count": 143,
   "metadata": {},
   "outputs": [
    {
     "name": "stdout",
     "output_type": "stream",
     "text": [
      "==> Результаты предсказаний CatBoostRegressor на тестовой выборке\n",
      "\n",
      " для ЧЕРНОВОГО концентрата(ограниченный набор признаков):\n",
      " 8.021\n",
      "\n",
      " для ЧЕРНОВОГО концентрата(полный набор признаков) + дефолтная модель:\n",
      " 7.353\n",
      "\n",
      "----------\n",
      "\n",
      " для ФИНАЛЬНОГО концентрата :\n",
      " 9.256\n",
      "\n",
      " для ФИНАЛЬНОГО концентрата + дефолтная модель:\n",
      " 8.391\n",
      "\n",
      "----------\n",
      "\n",
      " результирующий sMAPE:\n",
      " 8.947\n",
      "\n",
      " результирующий sMAPE для дефолтной модели:\n",
      " 8.132\n"
     ]
    }
   ],
   "source": [
    "print(f'==> Результаты предсказаний CatBoostRegressor на тестовой выборке\\n')\n",
    "\n",
    "print(' для ЧЕРНОВОГО концентрата(ограниченный набор признаков):')\n",
    "print(f' {-1 * smape_rough[0] :.3f}\\n')\n",
    "print(' для ЧЕРНОВОГО концентрата(полный набор признаков) + дефолтная модель:')\n",
    "print(f' {-1 * smape_rough_temp[0] :.3f}\\n')\n",
    "print('----------\\n')\n",
    "\n",
    "print(' для ФИНАЛЬНОГО концентрата :')\n",
    "print(f' {-1 * smape_final[0] :.3f}\\n')\n",
    "print(' для ФИНАЛЬНОГО концентрата + дефолтная модель:')\n",
    "print(f' {-1 * smape_final_temp[0] :.3f}\\n')\n",
    "print('----------\\n')\n",
    "\n",
    "print(' результирующий sMAPE:')\n",
    "print(f' {-1 * smape_total[0]:.3f}\\n')\n",
    "print(' результирующий sMAPE для дефолтной модели:')\n",
    "print(f' {-1 * smape_total_temp[0]:.3f}')"
   ]
  },
  {
   "cell_type": "code",
   "execution_count": 144,
   "metadata": {},
   "outputs": [
    {
     "data": {
      "text/plain": [
       "4_CatBoost              4.333826\n",
       "5_CatBoost_no_pr_sec    3.338533\n",
       "Name: score_rough, dtype: float64"
      ]
     },
     "execution_count": 144,
     "metadata": {},
     "output_type": "execute_result"
    }
   ],
   "source": [
    "models_results.iloc[0,3:5]"
   ]
  },
  {
   "cell_type": "code",
   "execution_count": 145,
   "metadata": {},
   "outputs": [],
   "source": [
    "# сравним результат предсказаний с dummy моделью\n",
    "test['y_rough_pred_median'] = train[y_1].median()[0]\n",
    "test['y_final_pred_median'] = train[y_2].median()[0]"
   ]
  },
  {
   "cell_type": "code",
   "execution_count": 146,
   "metadata": {},
   "outputs": [],
   "source": [
    "smape_rough_median = smape_error(test[y_1], test['y_rough_pred_median'])\n",
    "smape_final_median = smape_error(test[y_2], test['y_final_pred_median'])\n",
    "smape_total_median = total_smape(smape_rough_median, smape_final_median)"
   ]
  },
  {
   "cell_type": "code",
   "execution_count": 148,
   "metadata": {},
   "outputs": [
    {
     "name": "stdout",
     "output_type": "stream",
     "text": [
      "==> Результаты предсказаний dummy модели(median) на тестовой выборке\n",
      "\n",
      " для ЧЕРНОВОГО концентрата:\n",
      " 8.530\n",
      "\n",
      " для ФИНАЛЬНОГО концентрата:\n",
      " 9.761\n",
      "\n",
      " Результирующий sMAPE:\n",
      " 9.454\n"
     ]
    }
   ],
   "source": [
    "print(f'==> Результаты предсказаний dummy модели(median) на тестовой выборке\\n')\n",
    "\n",
    "print(' для ЧЕРНОВОГО концентрата:')\n",
    "print(f' {-smape_rough_median[0] :.3f}\\n')\n",
    "\n",
    "print(' для ФИНАЛЬНОГО концентрата:')\n",
    "print(f' {-smape_final_median[0] :.3f}\\n')\n",
    "\n",
    "print(' Результирующий sMAPE:')\n",
    "print(f' {-smape_total_median[0]:.3f}')"
   ]
  },
  {
   "cell_type": "markdown",
   "metadata": {},
   "source": [
    "Используемая модель показывает результаты лучше, чем dummy модель."
   ]
  },
  {
   "cell_type": "markdown",
   "metadata": {},
   "source": [
    "**Общий вывод:**\n",
    "В нашем распоряжении находится три датасета (train, test, full) с данными, полученными на разных стадиях процесса обогащения.\n",
    "Дубликаты в данных отсутствуют, пропуски заполнены методом `'ffill'`, так как соседние данные похожи.  \n",
    "В тестовой выборке отсутствует ряд признаков (замеряются в процессе обогащения), в этой связи обучающая выборка была приведена в соответствие.  \n",
    "\n",
    "С каждым этапом очистки концентрация:\n",
    "золота - значительно растёт;\n",
    "свинца - незначительно растёт;\n",
    "серебра - растёт после флотации, затем - снижается.\n",
    "\n",
    "Распределение гранул сырья похожи для обучающей и тестовой выборок.\n",
    "\n",
    "При анализе распределения суммарной концентрации металлов на разных стадиях были выявлены аномалии (0-ые значения), что может говорить о сбоях в работе измерительных приборов, обучающая выборка была очищена от аномалий.\n",
    "\n",
    "В ходе анализа целевых показателей была выявлена зависимость между ними, по этой причине будет использоваться две модели.\n",
    "\n",
    "Проанализировав ряд моделей (Linear Regression, Decision Tree, Random Forest, CatBoost) была модель с лучшими результатами - CatBoost. Итоговая ошибка total_smape = 6.445 при использовании CV.\n",
    "\n",
    "---------------------------------------------------------------------------------\n",
    "\n",
    "В ходе feature engineering было установлено:\n",
    "\n",
    "Для предсказания целевого показателя в черновом концентрате лучший результат при CV достигается при использовании ограниченного набора признаков (без показателей стадий `primary` и `secondary`) - smape_rough = 3.339.\n",
    "\n",
    "Для предсказания целевого показателя в финальном концентрате лучший результат при CV достигается на дефолтной модели CatBoost.\n",
    "\n",
    "---------------------------------------------------------------------------------\n",
    "\n",
    "Результаты работы на тестовой выборке:\n",
    "- smape_rough = 7.353\n",
    "- smape_final = 8.391\n",
    "- smape_total = 8.132\n",
    "\n",
    "Модель работает лучше константной median модели (smape_total = 9.454)."
   ]
  }
 ],
 "metadata": {
  "ExecuteTimeLog": [
   {
    "duration": 1417,
    "start_time": "2023-04-27T15:23:32.306Z"
   },
   {
    "duration": 3,
    "start_time": "2023-04-27T15:23:35.554Z"
   },
   {
    "duration": 2105,
    "start_time": "2023-04-27T15:24:46.147Z"
   },
   {
    "duration": 23,
    "start_time": "2023-04-27T15:25:08.941Z"
   },
   {
    "duration": 26,
    "start_time": "2023-04-27T15:25:15.132Z"
   },
   {
    "duration": 87,
    "start_time": "2023-04-27T15:26:55.180Z"
   },
   {
    "duration": 4,
    "start_time": "2023-04-27T15:26:58.023Z"
   },
   {
    "duration": 4,
    "start_time": "2023-04-27T15:27:01.811Z"
   },
   {
    "duration": 3,
    "start_time": "2023-04-27T15:27:04.916Z"
   },
   {
    "duration": 4,
    "start_time": "2023-04-27T15:27:20.102Z"
   },
   {
    "duration": 3,
    "start_time": "2023-04-27T15:27:41.332Z"
   },
   {
    "duration": 3,
    "start_time": "2023-04-27T15:27:48.571Z"
   },
   {
    "duration": 4,
    "start_time": "2023-04-27T15:28:06.185Z"
   },
   {
    "duration": 17,
    "start_time": "2023-04-27T15:38:19.559Z"
   },
   {
    "duration": 17,
    "start_time": "2023-04-27T15:39:22.444Z"
   },
   {
    "duration": 7,
    "start_time": "2023-04-27T15:39:33.897Z"
   },
   {
    "duration": 7,
    "start_time": "2023-04-27T15:40:19.521Z"
   },
   {
    "duration": 10,
    "start_time": "2023-04-27T15:41:07.382Z"
   },
   {
    "duration": 4,
    "start_time": "2023-04-27T15:41:31.590Z"
   },
   {
    "duration": 7,
    "start_time": "2023-04-27T15:41:34.277Z"
   },
   {
    "duration": 11,
    "start_time": "2023-04-27T15:41:36.003Z"
   },
   {
    "duration": 5,
    "start_time": "2023-04-27T15:41:53.636Z"
   },
   {
    "duration": 92,
    "start_time": "2023-04-27T15:42:14.315Z"
   },
   {
    "duration": 0,
    "start_time": "2023-04-27T15:42:14.409Z"
   },
   {
    "duration": 0,
    "start_time": "2023-04-27T15:42:14.410Z"
   },
   {
    "duration": 0,
    "start_time": "2023-04-27T15:42:14.412Z"
   },
   {
    "duration": 0,
    "start_time": "2023-04-27T15:42:14.413Z"
   },
   {
    "duration": 0,
    "start_time": "2023-04-27T15:42:14.415Z"
   },
   {
    "duration": 0,
    "start_time": "2023-04-27T15:42:14.416Z"
   },
   {
    "duration": 0,
    "start_time": "2023-04-27T15:42:14.418Z"
   },
   {
    "duration": 0,
    "start_time": "2023-04-27T15:42:14.419Z"
   },
   {
    "duration": 70,
    "start_time": "2023-04-27T15:42:21.659Z"
   },
   {
    "duration": 0,
    "start_time": "2023-04-27T15:42:21.731Z"
   },
   {
    "duration": 0,
    "start_time": "2023-04-27T15:42:21.732Z"
   },
   {
    "duration": 0,
    "start_time": "2023-04-27T15:42:21.732Z"
   },
   {
    "duration": 0,
    "start_time": "2023-04-27T15:42:21.734Z"
   },
   {
    "duration": 0,
    "start_time": "2023-04-27T15:42:21.735Z"
   },
   {
    "duration": 0,
    "start_time": "2023-04-27T15:42:21.736Z"
   },
   {
    "duration": 0,
    "start_time": "2023-04-27T15:42:21.738Z"
   },
   {
    "duration": 1310,
    "start_time": "2023-04-27T15:42:24.504Z"
   },
   {
    "duration": 3,
    "start_time": "2023-04-27T15:42:27.101Z"
   },
   {
    "duration": 634,
    "start_time": "2023-04-27T15:42:27.627Z"
   },
   {
    "duration": 6,
    "start_time": "2023-04-27T15:42:29.290Z"
   },
   {
    "duration": 12,
    "start_time": "2023-04-27T15:42:31.395Z"
   },
   {
    "duration": 4,
    "start_time": "2023-04-27T15:42:32.205Z"
   },
   {
    "duration": 94,
    "start_time": "2023-04-27T15:43:27.761Z"
   },
   {
    "duration": 7,
    "start_time": "2023-04-27T15:43:32.142Z"
   },
   {
    "duration": 8,
    "start_time": "2023-04-27T15:43:36.329Z"
   },
   {
    "duration": 7,
    "start_time": "2023-04-27T15:43:38.969Z"
   },
   {
    "duration": 6,
    "start_time": "2023-04-27T15:43:43.722Z"
   },
   {
    "duration": 96,
    "start_time": "2023-04-27T15:43:56.849Z"
   },
   {
    "duration": 13,
    "start_time": "2023-04-27T15:44:00.687Z"
   },
   {
    "duration": 7,
    "start_time": "2023-04-27T15:44:08.385Z"
   },
   {
    "duration": 12,
    "start_time": "2023-04-27T15:44:11.225Z"
   },
   {
    "duration": 13,
    "start_time": "2023-04-27T15:44:14.304Z"
   },
   {
    "duration": 11,
    "start_time": "2023-04-27T15:44:17.012Z"
   },
   {
    "duration": 6,
    "start_time": "2023-04-27T15:44:18.760Z"
   },
   {
    "duration": 8,
    "start_time": "2023-04-27T15:44:21.437Z"
   },
   {
    "duration": 8,
    "start_time": "2023-04-27T15:44:24.969Z"
   },
   {
    "duration": 8,
    "start_time": "2023-04-27T15:44:31.254Z"
   },
   {
    "duration": 7,
    "start_time": "2023-04-27T15:44:43.395Z"
   },
   {
    "duration": 9,
    "start_time": "2023-04-27T15:47:39.084Z"
   },
   {
    "duration": 651,
    "start_time": "2023-04-27T15:47:41.527Z"
   },
   {
    "duration": 21,
    "start_time": "2023-04-27T15:47:42.639Z"
   },
   {
    "duration": 35,
    "start_time": "2023-04-27T15:47:54.880Z"
   },
   {
    "duration": 11,
    "start_time": "2023-04-27T15:48:00.003Z"
   },
   {
    "duration": 8,
    "start_time": "2023-04-27T15:48:19.824Z"
   },
   {
    "duration": 36,
    "start_time": "2023-04-27T15:48:28.564Z"
   },
   {
    "duration": 649,
    "start_time": "2023-04-27T15:50:03.355Z"
   },
   {
    "duration": 9,
    "start_time": "2023-04-27T15:50:05.802Z"
   },
   {
    "duration": 3,
    "start_time": "2023-04-27T16:42:13.345Z"
   },
   {
    "duration": 4,
    "start_time": "2023-04-27T16:42:31.679Z"
   },
   {
    "duration": 39,
    "start_time": "2023-04-27T16:45:31.707Z"
   },
   {
    "duration": 9,
    "start_time": "2023-04-27T16:45:38.888Z"
   },
   {
    "duration": 30,
    "start_time": "2023-04-27T16:46:01.295Z"
   },
   {
    "duration": 8,
    "start_time": "2023-04-27T16:46:03.967Z"
   },
   {
    "duration": 4,
    "start_time": "2023-04-27T16:46:15.296Z"
   },
   {
    "duration": 3,
    "start_time": "2023-04-27T16:46:18.252Z"
   },
   {
    "duration": 3,
    "start_time": "2023-04-27T16:47:00.084Z"
   },
   {
    "duration": 4,
    "start_time": "2023-04-27T16:47:03.319Z"
   },
   {
    "duration": 3,
    "start_time": "2023-04-27T16:47:07.807Z"
   },
   {
    "duration": 3,
    "start_time": "2023-04-27T16:47:13.517Z"
   },
   {
    "duration": 70,
    "start_time": "2023-04-27T16:47:43.847Z"
   },
   {
    "duration": 9,
    "start_time": "2023-04-27T16:47:57.014Z"
   },
   {
    "duration": 4,
    "start_time": "2023-04-27T16:48:09.871Z"
   },
   {
    "duration": 4,
    "start_time": "2023-04-27T16:48:23.376Z"
   },
   {
    "duration": 4,
    "start_time": "2023-04-27T16:48:43.165Z"
   },
   {
    "duration": 3,
    "start_time": "2023-04-27T16:48:47.839Z"
   },
   {
    "duration": 3,
    "start_time": "2023-04-27T16:48:50.200Z"
   },
   {
    "duration": 4,
    "start_time": "2023-04-27T16:48:53.434Z"
   },
   {
    "duration": 3,
    "start_time": "2023-04-27T16:49:06.021Z"
   },
   {
    "duration": 4,
    "start_time": "2023-04-27T16:49:33.282Z"
   },
   {
    "duration": 15,
    "start_time": "2023-04-27T16:49:35.362Z"
   },
   {
    "duration": 12,
    "start_time": "2023-04-27T16:49:45.704Z"
   },
   {
    "duration": 8,
    "start_time": "2023-04-27T16:49:52.352Z"
   },
   {
    "duration": 19,
    "start_time": "2023-04-27T16:49:55.707Z"
   },
   {
    "duration": 12,
    "start_time": "2023-04-27T16:50:06.523Z"
   },
   {
    "duration": 56,
    "start_time": "2023-04-27T16:51:18.175Z"
   },
   {
    "duration": 14,
    "start_time": "2023-04-27T16:51:45.240Z"
   },
   {
    "duration": 20,
    "start_time": "2023-04-27T16:51:54.364Z"
   },
   {
    "duration": 18,
    "start_time": "2023-04-27T16:52:19.576Z"
   },
   {
    "duration": 14,
    "start_time": "2023-04-27T16:52:30.812Z"
   },
   {
    "duration": 13,
    "start_time": "2023-04-27T16:52:34.359Z"
   },
   {
    "duration": 13,
    "start_time": "2023-04-27T16:52:36.375Z"
   },
   {
    "duration": 23,
    "start_time": "2023-04-27T16:52:41.372Z"
   },
   {
    "duration": 4,
    "start_time": "2023-04-27T16:52:46.227Z"
   },
   {
    "duration": 4,
    "start_time": "2023-04-27T16:52:48.897Z"
   },
   {
    "duration": 4,
    "start_time": "2023-04-27T16:52:52.177Z"
   },
   {
    "duration": 10,
    "start_time": "2023-04-27T16:53:11.523Z"
   },
   {
    "duration": 16,
    "start_time": "2023-04-27T16:53:20.404Z"
   },
   {
    "duration": 17,
    "start_time": "2023-04-27T16:53:26.160Z"
   },
   {
    "duration": 75,
    "start_time": "2023-04-27T16:53:45.793Z"
   },
   {
    "duration": 18,
    "start_time": "2023-04-27T16:53:55.774Z"
   },
   {
    "duration": 17,
    "start_time": "2023-04-27T16:54:03.265Z"
   },
   {
    "duration": 18,
    "start_time": "2023-04-27T16:54:06.486Z"
   },
   {
    "duration": 35,
    "start_time": "2023-04-27T16:54:28.700Z"
   },
   {
    "duration": 38,
    "start_time": "2023-04-27T16:54:49.117Z"
   },
   {
    "duration": 32,
    "start_time": "2023-04-27T16:54:57.510Z"
   },
   {
    "duration": 24,
    "start_time": "2023-04-27T16:56:19.915Z"
   },
   {
    "duration": 14,
    "start_time": "2023-04-27T16:56:51.491Z"
   },
   {
    "duration": 30,
    "start_time": "2023-04-27T16:57:04.355Z"
   },
   {
    "duration": 15,
    "start_time": "2023-04-27T16:58:34.950Z"
   },
   {
    "duration": 20,
    "start_time": "2023-04-27T16:58:40.297Z"
   },
   {
    "duration": 92,
    "start_time": "2023-04-27T16:58:49.667Z"
   },
   {
    "duration": 17,
    "start_time": "2023-04-27T16:58:53.392Z"
   },
   {
    "duration": 19,
    "start_time": "2023-04-27T17:00:52.381Z"
   },
   {
    "duration": 22,
    "start_time": "2023-04-27T17:01:10.456Z"
   },
   {
    "duration": 14,
    "start_time": "2023-04-27T17:02:36.987Z"
   },
   {
    "duration": 13,
    "start_time": "2023-04-27T17:02:45.449Z"
   },
   {
    "duration": 13,
    "start_time": "2023-04-27T17:03:18.352Z"
   },
   {
    "duration": 13,
    "start_time": "2023-04-27T17:03:21.923Z"
   },
   {
    "duration": 13,
    "start_time": "2023-04-27T17:03:36.361Z"
   },
   {
    "duration": 26,
    "start_time": "2023-04-27T17:06:08.604Z"
   },
   {
    "duration": 73,
    "start_time": "2023-04-27T17:06:30.557Z"
   },
   {
    "duration": 22,
    "start_time": "2023-04-27T17:06:32.160Z"
   },
   {
    "duration": 27,
    "start_time": "2023-04-27T17:06:48.843Z"
   },
   {
    "duration": 14,
    "start_time": "2023-04-27T17:06:50.971Z"
   },
   {
    "duration": 10,
    "start_time": "2023-04-27T17:08:13.948Z"
   },
   {
    "duration": 11,
    "start_time": "2023-04-27T17:08:17.217Z"
   },
   {
    "duration": 4,
    "start_time": "2023-04-27T17:08:23.240Z"
   },
   {
    "duration": 4,
    "start_time": "2023-04-27T17:08:29.894Z"
   },
   {
    "duration": 4,
    "start_time": "2023-04-27T17:08:38.809Z"
   },
   {
    "duration": 4,
    "start_time": "2023-04-27T17:08:50.814Z"
   },
   {
    "duration": 3,
    "start_time": "2023-04-27T17:09:47.230Z"
   },
   {
    "duration": 4,
    "start_time": "2023-04-27T17:09:51.050Z"
   },
   {
    "duration": 8,
    "start_time": "2023-04-27T17:10:04.633Z"
   },
   {
    "duration": 10,
    "start_time": "2023-04-27T17:10:08.219Z"
   },
   {
    "duration": 86,
    "start_time": "2023-04-27T17:10:21.801Z"
   },
   {
    "duration": 6,
    "start_time": "2023-04-27T17:10:26.055Z"
   },
   {
    "duration": 6,
    "start_time": "2023-04-27T17:10:31.421Z"
   },
   {
    "duration": 80,
    "start_time": "2023-04-27T17:10:31.677Z"
   },
   {
    "duration": 76,
    "start_time": "2023-04-27T17:42:02.478Z"
   },
   {
    "duration": 4,
    "start_time": "2023-04-27T17:42:39.191Z"
   },
   {
    "duration": 12,
    "start_time": "2023-04-27T20:08:17.166Z"
   },
   {
    "duration": 9,
    "start_time": "2023-04-27T20:08:27.913Z"
   },
   {
    "duration": 77,
    "start_time": "2023-04-27T20:09:30.237Z"
   },
   {
    "duration": 0,
    "start_time": "2023-04-27T20:09:30.315Z"
   },
   {
    "duration": 0,
    "start_time": "2023-04-27T20:09:30.317Z"
   },
   {
    "duration": 0,
    "start_time": "2023-04-27T20:09:30.318Z"
   },
   {
    "duration": 0,
    "start_time": "2023-04-27T20:09:30.319Z"
   },
   {
    "duration": 0,
    "start_time": "2023-04-27T20:09:30.320Z"
   },
   {
    "duration": 0,
    "start_time": "2023-04-27T20:09:30.321Z"
   },
   {
    "duration": 0,
    "start_time": "2023-04-27T20:09:30.322Z"
   },
   {
    "duration": 0,
    "start_time": "2023-04-27T20:09:30.323Z"
   },
   {
    "duration": 0,
    "start_time": "2023-04-27T20:09:30.324Z"
   },
   {
    "duration": 0,
    "start_time": "2023-04-27T20:09:30.325Z"
   },
   {
    "duration": 0,
    "start_time": "2023-04-27T20:09:30.325Z"
   },
   {
    "duration": 0,
    "start_time": "2023-04-27T20:09:30.326Z"
   },
   {
    "duration": 0,
    "start_time": "2023-04-27T20:09:30.327Z"
   },
   {
    "duration": 2,
    "start_time": "2023-04-27T20:09:44.401Z"
   },
   {
    "duration": 2,
    "start_time": "2023-04-27T20:09:45.560Z"
   },
   {
    "duration": 3,
    "start_time": "2023-04-27T20:09:46.163Z"
   },
   {
    "duration": 2,
    "start_time": "2023-04-27T20:09:48.999Z"
   },
   {
    "duration": 3,
    "start_time": "2023-04-27T20:09:49.501Z"
   },
   {
    "duration": 3,
    "start_time": "2023-04-27T20:09:50.469Z"
   },
   {
    "duration": 600,
    "start_time": "2023-04-27T20:09:53.003Z"
   },
   {
    "duration": 4,
    "start_time": "2023-04-27T20:09:53.880Z"
   },
   {
    "duration": 36,
    "start_time": "2023-04-27T20:09:58.429Z"
   },
   {
    "duration": 20,
    "start_time": "2023-04-27T20:10:15.039Z"
   },
   {
    "duration": 14,
    "start_time": "2023-04-27T20:10:16.220Z"
   },
   {
    "duration": 8,
    "start_time": "2023-04-27T20:10:19.615Z"
   },
   {
    "duration": 6,
    "start_time": "2023-04-27T20:10:22.003Z"
   },
   {
    "duration": 70,
    "start_time": "2023-04-27T20:10:31.663Z"
   },
   {
    "duration": 14,
    "start_time": "2023-04-27T20:10:34.833Z"
   },
   {
    "duration": 9,
    "start_time": "2023-04-27T20:10:55.169Z"
   },
   {
    "duration": 3,
    "start_time": "2023-04-27T20:11:29.545Z"
   },
   {
    "duration": 16,
    "start_time": "2023-04-27T20:11:29.549Z"
   },
   {
    "duration": 38,
    "start_time": "2023-04-27T20:11:29.567Z"
   },
   {
    "duration": 17,
    "start_time": "2023-04-27T20:11:29.607Z"
   },
   {
    "duration": 14,
    "start_time": "2023-04-27T20:11:29.626Z"
   },
   {
    "duration": 12,
    "start_time": "2023-04-27T20:11:29.642Z"
   },
   {
    "duration": 577,
    "start_time": "2023-04-27T20:11:29.655Z"
   },
   {
    "duration": 34,
    "start_time": "2023-04-27T20:11:30.234Z"
   },
   {
    "duration": 30,
    "start_time": "2023-04-27T20:11:30.269Z"
   },
   {
    "duration": 14,
    "start_time": "2023-04-27T20:11:30.301Z"
   },
   {
    "duration": 6,
    "start_time": "2023-04-27T20:11:30.317Z"
   },
   {
    "duration": 26,
    "start_time": "2023-04-27T20:11:30.325Z"
   },
   {
    "duration": 24,
    "start_time": "2023-04-27T20:11:30.352Z"
   },
   {
    "duration": 34,
    "start_time": "2023-04-27T20:11:30.378Z"
   },
   {
    "duration": 6,
    "start_time": "2023-04-27T20:12:03.646Z"
   },
   {
    "duration": 97,
    "start_time": "2023-04-27T20:15:18.765Z"
   },
   {
    "duration": 8,
    "start_time": "2023-04-27T20:15:57.931Z"
   },
   {
    "duration": 4,
    "start_time": "2023-04-27T20:16:00.412Z"
   },
   {
    "duration": 4,
    "start_time": "2023-04-27T20:20:15.617Z"
   },
   {
    "duration": 3,
    "start_time": "2023-04-27T20:20:47.178Z"
   },
   {
    "duration": 11,
    "start_time": "2023-04-27T20:20:56.425Z"
   },
   {
    "duration": 13,
    "start_time": "2023-04-27T20:21:16.318Z"
   },
   {
    "duration": 2,
    "start_time": "2023-04-27T20:22:02.990Z"
   },
   {
    "duration": 18,
    "start_time": "2023-04-27T20:22:04.408Z"
   },
   {
    "duration": 7,
    "start_time": "2023-04-27T20:24:20.440Z"
   },
   {
    "duration": 6,
    "start_time": "2023-04-27T20:24:24.113Z"
   },
   {
    "duration": 9,
    "start_time": "2023-04-27T20:24:31.550Z"
   },
   {
    "duration": 8,
    "start_time": "2023-04-27T20:24:36.785Z"
   },
   {
    "duration": 7,
    "start_time": "2023-04-27T20:24:40.798Z"
   },
   {
    "duration": 8,
    "start_time": "2023-04-27T20:24:45.658Z"
   },
   {
    "duration": 6,
    "start_time": "2023-04-27T20:24:52.856Z"
   },
   {
    "duration": 1284,
    "start_time": "2023-04-27T20:25:26.951Z"
   },
   {
    "duration": 3,
    "start_time": "2023-04-27T20:25:32.832Z"
   },
   {
    "duration": 4,
    "start_time": "2023-04-27T20:25:35.128Z"
   },
   {
    "duration": 5,
    "start_time": "2023-04-27T20:25:42.854Z"
   },
   {
    "duration": 3,
    "start_time": "2023-04-27T20:26:28.943Z"
   },
   {
    "duration": 3,
    "start_time": "2023-04-27T20:27:38.812Z"
   },
   {
    "duration": 3,
    "start_time": "2023-04-27T20:27:46.350Z"
   },
   {
    "duration": 3,
    "start_time": "2023-04-27T20:29:25.174Z"
   },
   {
    "duration": 3,
    "start_time": "2023-04-27T20:29:27.675Z"
   },
   {
    "duration": 72,
    "start_time": "2023-04-27T20:30:14.314Z"
   },
   {
    "duration": 6,
    "start_time": "2023-04-27T20:30:40.928Z"
   },
   {
    "duration": 9,
    "start_time": "2023-04-27T20:30:55.230Z"
   },
   {
    "duration": 8,
    "start_time": "2023-04-27T20:31:27.526Z"
   },
   {
    "duration": 5,
    "start_time": "2023-04-27T20:31:35.718Z"
   },
   {
    "duration": 11,
    "start_time": "2023-04-27T20:31:43.733Z"
   },
   {
    "duration": 11,
    "start_time": "2023-04-27T20:34:34.574Z"
   },
   {
    "duration": 5,
    "start_time": "2023-04-27T20:34:46.697Z"
   },
   {
    "duration": 10,
    "start_time": "2023-04-27T20:35:00.552Z"
   },
   {
    "duration": 7,
    "start_time": "2023-04-27T20:35:03.883Z"
   },
   {
    "duration": 6,
    "start_time": "2023-04-27T20:35:09.002Z"
   },
   {
    "duration": 10,
    "start_time": "2023-04-27T20:35:33.414Z"
   },
   {
    "duration": 8,
    "start_time": "2023-04-27T20:35:34.219Z"
   },
   {
    "duration": 10,
    "start_time": "2023-04-27T20:35:50.124Z"
   },
   {
    "duration": 3,
    "start_time": "2023-04-27T20:36:04.075Z"
   },
   {
    "duration": 4,
    "start_time": "2023-04-27T20:36:04.577Z"
   },
   {
    "duration": 9,
    "start_time": "2023-04-27T20:36:05.071Z"
   },
   {
    "duration": 14,
    "start_time": "2023-04-27T20:36:29.240Z"
   },
   {
    "duration": 16,
    "start_time": "2023-04-27T20:37:19.063Z"
   },
   {
    "duration": 20,
    "start_time": "2023-04-27T20:37:35.070Z"
   },
   {
    "duration": 6,
    "start_time": "2023-04-27T20:38:08.081Z"
   },
   {
    "duration": 10,
    "start_time": "2023-04-27T20:38:44.767Z"
   },
   {
    "duration": 130,
    "start_time": "2023-04-27T20:38:51.136Z"
   },
   {
    "duration": 128,
    "start_time": "2023-04-27T20:39:15.063Z"
   },
   {
    "duration": 125,
    "start_time": "2023-04-27T20:39:41.566Z"
   },
   {
    "duration": 205,
    "start_time": "2023-04-27T20:41:23.191Z"
   },
   {
    "duration": 3,
    "start_time": "2023-04-27T20:41:47.872Z"
   },
   {
    "duration": 3,
    "start_time": "2023-04-27T20:41:48.405Z"
   },
   {
    "duration": 19,
    "start_time": "2023-04-27T20:41:49.175Z"
   },
   {
    "duration": 119,
    "start_time": "2023-04-27T20:41:52.710Z"
   },
   {
    "duration": 71,
    "start_time": "2023-04-27T20:41:58.607Z"
   },
   {
    "duration": 147,
    "start_time": "2023-04-27T20:42:10.888Z"
   },
   {
    "duration": 3,
    "start_time": "2023-04-27T20:42:26.044Z"
   },
   {
    "duration": 140,
    "start_time": "2023-04-27T20:42:26.647Z"
   },
   {
    "duration": 13,
    "start_time": "2023-04-27T20:42:40.119Z"
   },
   {
    "duration": 169,
    "start_time": "2023-04-27T20:43:00.821Z"
   },
   {
    "duration": 3,
    "start_time": "2023-04-27T20:43:44.560Z"
   },
   {
    "duration": 130,
    "start_time": "2023-04-27T20:43:53.230Z"
   },
   {
    "duration": 121,
    "start_time": "2023-04-27T20:52:51.704Z"
   },
   {
    "duration": 128,
    "start_time": "2023-04-27T20:53:39.550Z"
   },
   {
    "duration": 124,
    "start_time": "2023-04-27T20:54:04.777Z"
   },
   {
    "duration": 181,
    "start_time": "2023-04-27T20:54:15.772Z"
   },
   {
    "duration": 128,
    "start_time": "2023-04-27T20:55:27.040Z"
   },
   {
    "duration": 132,
    "start_time": "2023-04-27T20:55:47.820Z"
   },
   {
    "duration": 239,
    "start_time": "2023-04-27T20:56:35.320Z"
   },
   {
    "duration": 148,
    "start_time": "2023-04-27T20:57:59.783Z"
   },
   {
    "duration": 130,
    "start_time": "2023-04-27T20:58:02.499Z"
   },
   {
    "duration": 134,
    "start_time": "2023-04-27T20:58:08.330Z"
   },
   {
    "duration": 154,
    "start_time": "2023-04-27T20:58:11.517Z"
   },
   {
    "duration": 121,
    "start_time": "2023-04-27T20:59:20.747Z"
   },
   {
    "duration": 120,
    "start_time": "2023-04-27T21:00:41.864Z"
   },
   {
    "duration": 135,
    "start_time": "2023-04-27T21:01:27.449Z"
   },
   {
    "duration": 141,
    "start_time": "2023-04-27T21:01:34.784Z"
   },
   {
    "duration": 137,
    "start_time": "2023-04-27T21:01:39.485Z"
   },
   {
    "duration": 130,
    "start_time": "2023-04-27T21:01:46.009Z"
   },
   {
    "duration": 120,
    "start_time": "2023-04-27T21:01:54.374Z"
   },
   {
    "duration": 148,
    "start_time": "2023-04-27T21:02:06.085Z"
   },
   {
    "duration": 154,
    "start_time": "2023-04-27T21:02:19.397Z"
   },
   {
    "duration": 231,
    "start_time": "2023-04-27T21:03:00.873Z"
   },
   {
    "duration": 132,
    "start_time": "2023-04-27T21:03:09.739Z"
   },
   {
    "duration": 129,
    "start_time": "2023-04-27T21:03:48.706Z"
   },
   {
    "duration": 121,
    "start_time": "2023-04-27T21:03:52.387Z"
   },
   {
    "duration": 129,
    "start_time": "2023-04-27T21:03:57.423Z"
   },
   {
    "duration": 170,
    "start_time": "2023-04-27T21:04:04.024Z"
   },
   {
    "duration": 129,
    "start_time": "2023-04-27T21:04:13.148Z"
   },
   {
    "duration": 129,
    "start_time": "2023-04-27T21:04:22.800Z"
   },
   {
    "duration": 98,
    "start_time": "2023-04-27T21:04:26.593Z"
   },
   {
    "duration": 151,
    "start_time": "2023-04-27T21:04:29.341Z"
   },
   {
    "duration": 160,
    "start_time": "2023-04-27T21:04:33.228Z"
   },
   {
    "duration": 140,
    "start_time": "2023-04-27T21:04:36.692Z"
   },
   {
    "duration": 149,
    "start_time": "2023-04-27T21:04:42.595Z"
   },
   {
    "duration": 142,
    "start_time": "2023-04-27T21:04:46.822Z"
   },
   {
    "duration": 149,
    "start_time": "2023-04-27T21:04:53.567Z"
   },
   {
    "duration": 243,
    "start_time": "2023-04-27T21:04:57.909Z"
   },
   {
    "duration": 146,
    "start_time": "2023-04-27T21:05:02.902Z"
   },
   {
    "duration": 142,
    "start_time": "2023-04-27T21:06:48.137Z"
   },
   {
    "duration": 143,
    "start_time": "2023-04-27T21:06:54.409Z"
   },
   {
    "duration": 160,
    "start_time": "2023-04-27T21:07:50.624Z"
   },
   {
    "duration": 73,
    "start_time": "2023-04-27T21:08:17.336Z"
   },
   {
    "duration": 138,
    "start_time": "2023-04-27T21:09:08.262Z"
   },
   {
    "duration": 78,
    "start_time": "2023-04-27T21:09:19.647Z"
   },
   {
    "duration": 74,
    "start_time": "2023-04-27T21:09:23.707Z"
   },
   {
    "duration": 161,
    "start_time": "2023-04-27T21:09:33.929Z"
   },
   {
    "duration": 149,
    "start_time": "2023-04-27T21:09:37.633Z"
   },
   {
    "duration": 151,
    "start_time": "2023-04-27T21:09:47.280Z"
   },
   {
    "duration": 146,
    "start_time": "2023-04-27T21:10:45.650Z"
   },
   {
    "duration": 144,
    "start_time": "2023-04-27T21:11:35.866Z"
   },
   {
    "duration": 159,
    "start_time": "2023-04-27T21:12:06.740Z"
   },
   {
    "duration": 151,
    "start_time": "2023-04-27T21:12:17.827Z"
   },
   {
    "duration": 236,
    "start_time": "2023-04-27T21:12:42.232Z"
   },
   {
    "duration": 4,
    "start_time": "2023-04-27T21:12:53.660Z"
   },
   {
    "duration": 162,
    "start_time": "2023-04-27T21:13:04.191Z"
   },
   {
    "duration": 3,
    "start_time": "2023-04-27T21:35:52.400Z"
   },
   {
    "duration": 175,
    "start_time": "2023-04-27T21:36:10.637Z"
   },
   {
    "duration": 142,
    "start_time": "2023-04-27T21:36:20.348Z"
   },
   {
    "duration": 87,
    "start_time": "2023-04-27T21:36:34.875Z"
   },
   {
    "duration": 90,
    "start_time": "2023-04-27T21:36:40.080Z"
   },
   {
    "duration": 117,
    "start_time": "2023-04-27T21:36:47.183Z"
   },
   {
    "duration": 114,
    "start_time": "2023-04-27T21:36:52.109Z"
   },
   {
    "duration": 113,
    "start_time": "2023-04-27T21:36:59.810Z"
   },
   {
    "duration": 127,
    "start_time": "2023-04-27T21:37:06.281Z"
   },
   {
    "duration": 165,
    "start_time": "2023-04-27T21:37:15.571Z"
   },
   {
    "duration": 150,
    "start_time": "2023-04-27T21:37:25.768Z"
   },
   {
    "duration": 3,
    "start_time": "2023-04-27T21:37:34.505Z"
   },
   {
    "duration": 4,
    "start_time": "2023-04-27T21:37:50.596Z"
   },
   {
    "duration": 8,
    "start_time": "2023-04-27T21:37:55.643Z"
   },
   {
    "duration": 4,
    "start_time": "2023-04-27T21:38:02.664Z"
   },
   {
    "duration": 174,
    "start_time": "2023-04-27T21:38:15.539Z"
   },
   {
    "duration": 150,
    "start_time": "2023-04-27T21:38:21.051Z"
   },
   {
    "duration": 245,
    "start_time": "2023-04-27T21:38:50.668Z"
   },
   {
    "duration": 3,
    "start_time": "2023-04-27T21:39:06.109Z"
   },
   {
    "duration": 165,
    "start_time": "2023-04-27T21:39:06.804Z"
   },
   {
    "duration": 8,
    "start_time": "2023-04-27T21:39:22.240Z"
   },
   {
    "duration": 176,
    "start_time": "2023-04-27T21:41:13.913Z"
   },
   {
    "duration": 5,
    "start_time": "2023-04-27T21:55:05.972Z"
   },
   {
    "duration": 4,
    "start_time": "2023-04-27T21:56:03.666Z"
   },
   {
    "duration": 5,
    "start_time": "2023-04-27T21:56:27.065Z"
   },
   {
    "duration": 5,
    "start_time": "2023-04-27T21:56:31.373Z"
   },
   {
    "duration": 109,
    "start_time": "2023-04-27T21:56:54.075Z"
   },
   {
    "duration": 105,
    "start_time": "2023-04-27T21:56:57.046Z"
   },
   {
    "duration": 292,
    "start_time": "2023-04-27T21:58:19.099Z"
   },
   {
    "duration": 116,
    "start_time": "2023-04-27T21:58:28.096Z"
   },
   {
    "duration": 106,
    "start_time": "2023-04-27T21:58:59.152Z"
   },
   {
    "duration": 103,
    "start_time": "2023-04-27T21:59:02.614Z"
   },
   {
    "duration": 381,
    "start_time": "2023-04-27T22:01:28.159Z"
   },
   {
    "duration": 486,
    "start_time": "2023-04-27T22:01:37.857Z"
   },
   {
    "duration": 183,
    "start_time": "2023-04-27T22:02:30.753Z"
   },
   {
    "duration": 153,
    "start_time": "2023-04-27T22:02:38.043Z"
   },
   {
    "duration": 171,
    "start_time": "2023-04-27T22:03:02.429Z"
   },
   {
    "duration": 606,
    "start_time": "2023-04-27T22:03:10.558Z"
   },
   {
    "duration": 677,
    "start_time": "2023-04-27T22:03:25.794Z"
   },
   {
    "duration": 76,
    "start_time": "2023-04-27T22:03:43.324Z"
   },
   {
    "duration": 759,
    "start_time": "2023-04-27T22:03:49.598Z"
   },
   {
    "duration": 76,
    "start_time": "2023-04-27T22:04:32.449Z"
   },
   {
    "duration": 780,
    "start_time": "2023-04-27T22:04:36.640Z"
   },
   {
    "duration": 93,
    "start_time": "2023-04-27T22:04:46.551Z"
   },
   {
    "duration": 682,
    "start_time": "2023-04-27T22:04:53.921Z"
   },
   {
    "duration": 811,
    "start_time": "2023-04-27T22:05:26.383Z"
   },
   {
    "duration": 789,
    "start_time": "2023-04-27T22:05:59.952Z"
   },
   {
    "duration": 831,
    "start_time": "2023-04-27T22:06:13.521Z"
   },
   {
    "duration": 417,
    "start_time": "2023-04-27T22:06:23.450Z"
   },
   {
    "duration": 185,
    "start_time": "2023-04-27T22:06:31.673Z"
   },
   {
    "duration": 285,
    "start_time": "2023-04-27T22:06:36.884Z"
   },
   {
    "duration": 455,
    "start_time": "2023-04-27T22:06:41.722Z"
   },
   {
    "duration": 409,
    "start_time": "2023-04-27T22:06:48.250Z"
   },
   {
    "duration": 397,
    "start_time": "2023-04-27T22:06:56.349Z"
   },
   {
    "duration": 425,
    "start_time": "2023-04-27T22:08:20.457Z"
   },
   {
    "duration": 549,
    "start_time": "2023-04-27T22:09:36.947Z"
   },
   {
    "duration": 452,
    "start_time": "2023-04-27T22:10:24.896Z"
   },
   {
    "duration": 5,
    "start_time": "2023-04-27T22:10:49.633Z"
   },
   {
    "duration": 5,
    "start_time": "2023-04-27T22:11:04.572Z"
   },
   {
    "duration": 1254,
    "start_time": "2023-04-27T22:11:38.508Z"
   },
   {
    "duration": 408,
    "start_time": "2023-04-27T22:11:45.880Z"
   },
   {
    "duration": 535,
    "start_time": "2023-04-27T22:11:56.227Z"
   },
   {
    "duration": 444,
    "start_time": "2023-04-27T22:12:15.632Z"
   },
   {
    "duration": 79,
    "start_time": "2023-04-27T22:18:52.152Z"
   },
   {
    "duration": 3,
    "start_time": "2023-04-29T20:18:19.279Z"
   },
   {
    "duration": 5,
    "start_time": "2023-04-29T20:18:19.284Z"
   },
   {
    "duration": 9,
    "start_time": "2023-04-29T20:18:19.290Z"
   },
   {
    "duration": 5,
    "start_time": "2023-04-29T20:18:19.300Z"
   },
   {
    "duration": 1400,
    "start_time": "2023-04-29T20:18:19.307Z"
   },
   {
    "duration": 2,
    "start_time": "2023-04-29T20:18:20.709Z"
   },
   {
    "duration": 2969,
    "start_time": "2023-04-29T20:18:20.712Z"
   },
   {
    "duration": 4,
    "start_time": "2023-04-29T20:18:23.682Z"
   },
   {
    "duration": 40,
    "start_time": "2023-04-29T20:18:23.687Z"
   },
   {
    "duration": 57,
    "start_time": "2023-04-29T20:18:23.728Z"
   },
   {
    "duration": 13,
    "start_time": "2023-04-29T20:18:23.786Z"
   },
   {
    "duration": 6,
    "start_time": "2023-04-29T20:18:23.800Z"
   },
   {
    "duration": 8,
    "start_time": "2023-04-29T20:18:23.807Z"
   },
   {
    "duration": 2,
    "start_time": "2023-04-29T20:18:23.817Z"
   },
   {
    "duration": 15,
    "start_time": "2023-04-29T20:18:23.820Z"
   },
   {
    "duration": 3,
    "start_time": "2023-04-29T20:18:23.836Z"
   },
   {
    "duration": 4,
    "start_time": "2023-04-29T20:18:23.840Z"
   },
   {
    "duration": 16,
    "start_time": "2023-04-29T20:18:23.872Z"
   },
   {
    "duration": 2,
    "start_time": "2023-04-29T20:18:23.889Z"
   },
   {
    "duration": 181,
    "start_time": "2023-04-29T20:18:23.892Z"
   },
   {
    "duration": 4,
    "start_time": "2023-04-29T20:18:24.074Z"
   },
   {
    "duration": 6,
    "start_time": "2023-04-29T20:18:24.079Z"
   },
   {
    "duration": 405,
    "start_time": "2023-04-29T20:18:24.086Z"
   },
   {
    "duration": 451,
    "start_time": "2023-04-29T20:18:24.492Z"
   },
   {
    "duration": 78,
    "start_time": "2023-04-29T20:18:24.945Z"
   },
   {
    "duration": 0,
    "start_time": "2023-04-29T20:18:25.025Z"
   },
   {
    "duration": 48,
    "start_time": "2023-04-29T20:21:23.409Z"
   },
   {
    "duration": 335,
    "start_time": "2023-04-29T20:21:41.350Z"
   },
   {
    "duration": 340,
    "start_time": "2023-04-29T20:22:02.799Z"
   },
   {
    "duration": 306,
    "start_time": "2023-04-29T20:22:12.108Z"
   },
   {
    "duration": 350,
    "start_time": "2023-04-29T20:22:29.345Z"
   },
   {
    "duration": 307,
    "start_time": "2023-04-29T20:23:15.702Z"
   },
   {
    "duration": 57,
    "start_time": "2023-04-29T20:23:22.999Z"
   },
   {
    "duration": 321,
    "start_time": "2023-04-29T20:23:25.697Z"
   },
   {
    "duration": 107,
    "start_time": "2023-04-29T20:23:43.948Z"
   },
   {
    "duration": 956,
    "start_time": "2023-04-29T20:24:18.613Z"
   },
   {
    "duration": 157,
    "start_time": "2023-04-29T20:24:30.292Z"
   },
   {
    "duration": 9,
    "start_time": "2023-04-29T20:24:57.223Z"
   },
   {
    "duration": 359,
    "start_time": "2023-04-29T20:25:04.642Z"
   },
   {
    "duration": 372,
    "start_time": "2023-04-29T20:25:53.511Z"
   },
   {
    "duration": 320,
    "start_time": "2023-04-29T20:26:07.128Z"
   },
   {
    "duration": 368,
    "start_time": "2023-04-29T20:26:13.052Z"
   },
   {
    "duration": 338,
    "start_time": "2023-04-29T20:26:20.488Z"
   },
   {
    "duration": 315,
    "start_time": "2023-04-29T20:27:05.912Z"
   },
   {
    "duration": 318,
    "start_time": "2023-04-29T20:27:10.403Z"
   },
   {
    "duration": 328,
    "start_time": "2023-04-29T20:29:19.103Z"
   },
   {
    "duration": 382,
    "start_time": "2023-04-29T20:29:31.335Z"
   },
   {
    "duration": 326,
    "start_time": "2023-04-29T20:29:37.229Z"
   },
   {
    "duration": 277,
    "start_time": "2023-04-29T20:30:34.211Z"
   },
   {
    "duration": 323,
    "start_time": "2023-04-29T20:30:42.697Z"
   },
   {
    "duration": 330,
    "start_time": "2023-04-29T20:30:59.949Z"
   },
   {
    "duration": 341,
    "start_time": "2023-04-29T20:31:02.643Z"
   },
   {
    "duration": 288,
    "start_time": "2023-04-29T20:31:34.801Z"
   },
   {
    "duration": 276,
    "start_time": "2023-04-29T20:31:43.106Z"
   },
   {
    "duration": 342,
    "start_time": "2023-04-29T20:31:49.840Z"
   },
   {
    "duration": 284,
    "start_time": "2023-04-29T20:31:52.809Z"
   },
   {
    "duration": 281,
    "start_time": "2023-04-29T20:32:46.305Z"
   },
   {
    "duration": 289,
    "start_time": "2023-04-29T20:32:54.986Z"
   },
   {
    "duration": 344,
    "start_time": "2023-04-29T20:33:04.168Z"
   },
   {
    "duration": 342,
    "start_time": "2023-04-29T20:33:20.363Z"
   },
   {
    "duration": 308,
    "start_time": "2023-04-29T20:33:26.204Z"
   },
   {
    "duration": 335,
    "start_time": "2023-04-29T20:33:45.020Z"
   },
   {
    "duration": 347,
    "start_time": "2023-04-29T20:33:52.985Z"
   },
   {
    "duration": 343,
    "start_time": "2023-04-29T20:38:30.082Z"
   },
   {
    "duration": 15,
    "start_time": "2023-04-29T20:38:37.499Z"
   },
   {
    "duration": 354,
    "start_time": "2023-04-29T20:38:39.154Z"
   },
   {
    "duration": 416,
    "start_time": "2023-04-29T20:38:57.941Z"
   },
   {
    "duration": 316,
    "start_time": "2023-04-29T20:39:06.284Z"
   },
   {
    "duration": 297,
    "start_time": "2023-04-29T20:39:19.004Z"
   },
   {
    "duration": 310,
    "start_time": "2023-04-29T20:39:26.885Z"
   },
   {
    "duration": 362,
    "start_time": "2023-04-29T20:39:33.181Z"
   },
   {
    "duration": 544,
    "start_time": "2023-04-29T20:39:53.028Z"
   },
   {
    "duration": 334,
    "start_time": "2023-04-29T20:39:58.211Z"
   },
   {
    "duration": 354,
    "start_time": "2023-04-29T20:40:02.290Z"
   },
   {
    "duration": 333,
    "start_time": "2023-04-29T20:40:41.103Z"
   },
   {
    "duration": 374,
    "start_time": "2023-04-29T20:40:56.447Z"
   },
   {
    "duration": 367,
    "start_time": "2023-04-29T20:41:02.743Z"
   },
   {
    "duration": 4,
    "start_time": "2023-04-29T20:41:38.799Z"
   },
   {
    "duration": 2,
    "start_time": "2023-04-29T20:42:34.341Z"
   },
   {
    "duration": 4,
    "start_time": "2023-04-29T20:53:15.134Z"
   },
   {
    "duration": 11,
    "start_time": "2023-04-29T20:53:45.595Z"
   },
   {
    "duration": 15,
    "start_time": "2023-04-29T20:54:03.937Z"
   },
   {
    "duration": 26,
    "start_time": "2023-04-29T20:57:15.273Z"
   },
   {
    "duration": 23,
    "start_time": "2023-04-29T20:57:31.018Z"
   },
   {
    "duration": 23,
    "start_time": "2023-04-29T20:58:29.254Z"
   },
   {
    "duration": 37,
    "start_time": "2023-04-29T20:59:02.831Z"
   },
   {
    "duration": 38,
    "start_time": "2023-04-29T20:59:34.781Z"
   },
   {
    "duration": 40,
    "start_time": "2023-04-29T20:59:45.111Z"
   },
   {
    "duration": 26,
    "start_time": "2023-04-29T20:59:51.313Z"
   },
   {
    "duration": 20,
    "start_time": "2023-04-29T20:59:55.293Z"
   },
   {
    "duration": 3,
    "start_time": "2023-04-29T21:00:03.915Z"
   },
   {
    "duration": 34,
    "start_time": "2023-04-29T21:00:03.920Z"
   },
   {
    "duration": 26,
    "start_time": "2023-04-29T21:00:03.956Z"
   },
   {
    "duration": 8,
    "start_time": "2023-04-29T21:00:03.984Z"
   },
   {
    "duration": 17,
    "start_time": "2023-04-29T21:00:03.994Z"
   },
   {
    "duration": 24,
    "start_time": "2023-04-29T21:00:04.012Z"
   },
   {
    "duration": 625,
    "start_time": "2023-04-29T21:00:04.038Z"
   },
   {
    "duration": 7,
    "start_time": "2023-04-29T21:00:04.665Z"
   },
   {
    "duration": 45,
    "start_time": "2023-04-29T21:00:04.674Z"
   },
   {
    "duration": 18,
    "start_time": "2023-04-29T21:00:04.720Z"
   },
   {
    "duration": 22,
    "start_time": "2023-04-29T21:00:04.740Z"
   },
   {
    "duration": 17,
    "start_time": "2023-04-29T21:00:04.763Z"
   },
   {
    "duration": 10,
    "start_time": "2023-04-29T21:00:04.781Z"
   },
   {
    "duration": 13,
    "start_time": "2023-04-29T21:00:04.793Z"
   },
   {
    "duration": 30,
    "start_time": "2023-04-29T21:00:04.807Z"
   },
   {
    "duration": 6,
    "start_time": "2023-04-29T21:00:04.839Z"
   },
   {
    "duration": 6,
    "start_time": "2023-04-29T21:00:04.846Z"
   },
   {
    "duration": 40,
    "start_time": "2023-04-29T21:00:04.853Z"
   },
   {
    "duration": 3,
    "start_time": "2023-04-29T21:00:04.894Z"
   },
   {
    "duration": 131,
    "start_time": "2023-04-29T21:00:04.898Z"
   },
   {
    "duration": 0,
    "start_time": "2023-04-29T21:00:05.031Z"
   },
   {
    "duration": 0,
    "start_time": "2023-04-29T21:00:05.032Z"
   },
   {
    "duration": 0,
    "start_time": "2023-04-29T21:00:05.033Z"
   },
   {
    "duration": 0,
    "start_time": "2023-04-29T21:00:05.034Z"
   },
   {
    "duration": 0,
    "start_time": "2023-04-29T21:00:05.035Z"
   },
   {
    "duration": 0,
    "start_time": "2023-04-29T21:00:05.036Z"
   },
   {
    "duration": 0,
    "start_time": "2023-04-29T21:00:05.036Z"
   },
   {
    "duration": 130,
    "start_time": "2023-04-29T21:00:18.309Z"
   },
   {
    "duration": 2,
    "start_time": "2023-04-29T21:00:32.697Z"
   },
   {
    "duration": 2,
    "start_time": "2023-04-29T21:00:33.251Z"
   },
   {
    "duration": 8,
    "start_time": "2023-04-29T21:00:33.799Z"
   },
   {
    "duration": 3,
    "start_time": "2023-04-29T21:00:34.462Z"
   },
   {
    "duration": 126,
    "start_time": "2023-04-29T21:00:37.472Z"
   },
   {
    "duration": 164,
    "start_time": "2023-04-29T21:00:43.993Z"
   },
   {
    "duration": 126,
    "start_time": "2023-04-29T21:00:47.148Z"
   },
   {
    "duration": 139,
    "start_time": "2023-04-29T21:00:56.970Z"
   },
   {
    "duration": 183,
    "start_time": "2023-04-29T21:01:02.638Z"
   },
   {
    "duration": 559,
    "start_time": "2023-04-29T21:01:05.558Z"
   },
   {
    "duration": 355,
    "start_time": "2023-04-29T21:01:07.824Z"
   },
   {
    "duration": 410,
    "start_time": "2023-04-29T21:01:09.850Z"
   },
   {
    "duration": 420,
    "start_time": "2023-04-29T21:01:11.152Z"
   },
   {
    "duration": 5,
    "start_time": "2023-04-29T21:01:13.001Z"
   },
   {
    "duration": 3,
    "start_time": "2023-04-29T21:01:15.806Z"
   },
   {
    "duration": 27,
    "start_time": "2023-04-29T21:01:18.520Z"
   },
   {
    "duration": 18,
    "start_time": "2023-04-29T21:01:22.283Z"
   },
   {
    "duration": 19,
    "start_time": "2023-04-29T21:01:31.754Z"
   },
   {
    "duration": 131,
    "start_time": "2023-04-29T21:02:17.712Z"
   },
   {
    "duration": 123,
    "start_time": "2023-04-29T21:02:58.378Z"
   },
   {
    "duration": 131,
    "start_time": "2023-04-29T21:03:01.864Z"
   },
   {
    "duration": 146,
    "start_time": "2023-04-29T21:03:06.602Z"
   },
   {
    "duration": 10,
    "start_time": "2023-04-29T21:03:33.895Z"
   },
   {
    "duration": 3,
    "start_time": "2023-04-29T21:03:36.231Z"
   },
   {
    "duration": 10,
    "start_time": "2023-04-29T21:03:36.600Z"
   },
   {
    "duration": 2,
    "start_time": "2023-04-29T21:03:41.404Z"
   },
   {
    "duration": 259,
    "start_time": "2023-04-29T21:03:42.997Z"
   },
   {
    "duration": 142,
    "start_time": "2023-04-29T21:03:51.525Z"
   },
   {
    "duration": 163,
    "start_time": "2023-04-29T21:04:04.123Z"
   },
   {
    "duration": 213,
    "start_time": "2023-04-29T21:04:09.863Z"
   },
   {
    "duration": 204,
    "start_time": "2023-04-29T21:04:15.212Z"
   },
   {
    "duration": 4,
    "start_time": "2023-04-29T21:04:36.039Z"
   },
   {
    "duration": 33,
    "start_time": "2023-04-29T21:04:36.045Z"
   },
   {
    "duration": 19,
    "start_time": "2023-04-29T21:04:36.080Z"
   },
   {
    "duration": 27,
    "start_time": "2023-04-29T21:04:36.101Z"
   },
   {
    "duration": 1290,
    "start_time": "2023-04-29T21:04:36.130Z"
   },
   {
    "duration": 2,
    "start_time": "2023-04-29T21:04:37.422Z"
   },
   {
    "duration": 602,
    "start_time": "2023-04-29T21:04:37.425Z"
   },
   {
    "duration": 4,
    "start_time": "2023-04-29T21:04:38.029Z"
   },
   {
    "duration": 48,
    "start_time": "2023-04-29T21:04:38.035Z"
   },
   {
    "duration": 49,
    "start_time": "2023-04-29T21:04:38.085Z"
   },
   {
    "duration": 12,
    "start_time": "2023-04-29T21:04:38.136Z"
   },
   {
    "duration": 23,
    "start_time": "2023-04-29T21:04:38.149Z"
   },
   {
    "duration": 5,
    "start_time": "2023-04-29T21:04:38.173Z"
   },
   {
    "duration": 2,
    "start_time": "2023-04-29T21:04:38.180Z"
   },
   {
    "duration": 16,
    "start_time": "2023-04-29T21:04:38.184Z"
   },
   {
    "duration": 2,
    "start_time": "2023-04-29T21:04:38.201Z"
   },
   {
    "duration": 8,
    "start_time": "2023-04-29T21:04:38.204Z"
   },
   {
    "duration": 15,
    "start_time": "2023-04-29T21:04:38.214Z"
   },
   {
    "duration": 8,
    "start_time": "2023-04-29T21:04:38.231Z"
   },
   {
    "duration": 186,
    "start_time": "2023-04-29T21:04:38.240Z"
   },
   {
    "duration": 379,
    "start_time": "2023-04-29T21:04:38.427Z"
   },
   {
    "duration": 421,
    "start_time": "2023-04-29T21:04:38.808Z"
   },
   {
    "duration": 394,
    "start_time": "2023-04-29T21:04:39.231Z"
   },
   {
    "duration": 411,
    "start_time": "2023-04-29T21:04:39.626Z"
   },
   {
    "duration": 2,
    "start_time": "2023-04-29T21:04:40.039Z"
   },
   {
    "duration": 21,
    "start_time": "2023-04-29T21:04:40.042Z"
   },
   {
    "duration": 168,
    "start_time": "2023-04-29T21:05:17.439Z"
   },
   {
    "duration": 213,
    "start_time": "2023-04-29T21:05:23.451Z"
   },
   {
    "duration": 165,
    "start_time": "2023-04-29T21:05:28.643Z"
   },
   {
    "duration": 169,
    "start_time": "2023-04-29T21:05:36.757Z"
   },
   {
    "duration": 166,
    "start_time": "2023-04-29T21:05:48.618Z"
   },
   {
    "duration": 3,
    "start_time": "2023-04-29T21:05:57.224Z"
   },
   {
    "duration": 12,
    "start_time": "2023-04-29T21:05:57.229Z"
   },
   {
    "duration": 9,
    "start_time": "2023-04-29T21:05:57.242Z"
   },
   {
    "duration": 11,
    "start_time": "2023-04-29T21:05:57.253Z"
   },
   {
    "duration": 1241,
    "start_time": "2023-04-29T21:05:57.266Z"
   },
   {
    "duration": 2,
    "start_time": "2023-04-29T21:05:58.509Z"
   },
   {
    "duration": 609,
    "start_time": "2023-04-29T21:05:58.513Z"
   },
   {
    "duration": 4,
    "start_time": "2023-04-29T21:05:59.124Z"
   },
   {
    "duration": 47,
    "start_time": "2023-04-29T21:05:59.129Z"
   },
   {
    "duration": 48,
    "start_time": "2023-04-29T21:05:59.178Z"
   },
   {
    "duration": 13,
    "start_time": "2023-04-29T21:05:59.227Z"
   },
   {
    "duration": 5,
    "start_time": "2023-04-29T21:05:59.241Z"
   },
   {
    "duration": 26,
    "start_time": "2023-04-29T21:05:59.248Z"
   },
   {
    "duration": 2,
    "start_time": "2023-04-29T21:05:59.276Z"
   },
   {
    "duration": 14,
    "start_time": "2023-04-29T21:05:59.279Z"
   },
   {
    "duration": 1,
    "start_time": "2023-04-29T21:05:59.295Z"
   },
   {
    "duration": 3,
    "start_time": "2023-04-29T21:05:59.298Z"
   },
   {
    "duration": 21,
    "start_time": "2023-04-29T21:05:59.302Z"
   },
   {
    "duration": 2,
    "start_time": "2023-04-29T21:05:59.324Z"
   },
   {
    "duration": 196,
    "start_time": "2023-04-29T21:05:59.327Z"
   },
   {
    "duration": 380,
    "start_time": "2023-04-29T21:05:59.525Z"
   },
   {
    "duration": 416,
    "start_time": "2023-04-29T21:05:59.906Z"
   },
   {
    "duration": 399,
    "start_time": "2023-04-29T21:06:00.323Z"
   },
   {
    "duration": 422,
    "start_time": "2023-04-29T21:06:00.723Z"
   },
   {
    "duration": 2,
    "start_time": "2023-04-29T21:06:01.147Z"
   },
   {
    "duration": 30,
    "start_time": "2023-04-29T21:06:01.150Z"
   },
   {
    "duration": 46,
    "start_time": "2023-04-29T21:06:01.181Z"
   },
   {
    "duration": 0,
    "start_time": "2023-04-29T21:06:01.228Z"
   },
   {
    "duration": 7,
    "start_time": "2023-04-29T21:12:26.456Z"
   },
   {
    "duration": 3,
    "start_time": "2023-04-29T21:12:27.065Z"
   },
   {
    "duration": 169,
    "start_time": "2023-04-29T21:12:27.610Z"
   },
   {
    "duration": 7,
    "start_time": "2023-04-29T21:12:39.536Z"
   },
   {
    "duration": 3,
    "start_time": "2023-04-29T21:12:40.125Z"
   },
   {
    "duration": 165,
    "start_time": "2023-04-29T21:12:41.334Z"
   },
   {
    "duration": 9,
    "start_time": "2023-04-29T21:12:52.740Z"
   },
   {
    "duration": 3,
    "start_time": "2023-04-29T21:12:56.063Z"
   },
   {
    "duration": 171,
    "start_time": "2023-04-29T21:12:57.574Z"
   },
   {
    "duration": 7,
    "start_time": "2023-04-29T21:13:58.914Z"
   },
   {
    "duration": 12,
    "start_time": "2023-04-29T21:14:15.002Z"
   },
   {
    "duration": 10,
    "start_time": "2023-04-29T21:15:10.105Z"
   },
   {
    "duration": 103,
    "start_time": "2023-04-29T22:12:07.235Z"
   },
   {
    "duration": 3,
    "start_time": "2023-04-29T22:12:09.711Z"
   },
   {
    "duration": 5,
    "start_time": "2023-04-29T22:12:10.319Z"
   },
   {
    "duration": 549,
    "start_time": "2023-04-29T22:13:28.838Z"
   },
   {
    "duration": 649,
    "start_time": "2023-04-29T22:13:37.883Z"
   },
   {
    "duration": 6,
    "start_time": "2023-04-29T22:14:05.369Z"
   },
   {
    "duration": 543,
    "start_time": "2023-04-29T22:14:06.384Z"
   },
   {
    "duration": 517,
    "start_time": "2023-04-29T22:14:33.824Z"
   },
   {
    "duration": 497,
    "start_time": "2023-04-29T22:14:53.637Z"
   },
   {
    "duration": 451,
    "start_time": "2023-04-29T22:14:56.886Z"
   },
   {
    "duration": 36,
    "start_time": "2023-04-29T22:29:13.246Z"
   },
   {
    "duration": 17,
    "start_time": "2023-04-29T22:29:54.128Z"
   },
   {
    "duration": 8188,
    "start_time": "2023-04-29T22:30:01.984Z"
   },
   {
    "duration": 19,
    "start_time": "2023-04-29T22:30:18.724Z"
   },
   {
    "duration": 14,
    "start_time": "2023-04-29T22:30:23.652Z"
   },
   {
    "duration": 7956,
    "start_time": "2023-04-29T22:30:35.531Z"
   },
   {
    "duration": 51,
    "start_time": "2023-04-30T10:26:06.270Z"
   },
   {
    "duration": 3,
    "start_time": "2023-04-30T10:26:08.937Z"
   },
   {
    "duration": 19,
    "start_time": "2023-04-30T10:26:08.942Z"
   },
   {
    "duration": 14,
    "start_time": "2023-04-30T10:26:08.963Z"
   },
   {
    "duration": 23,
    "start_time": "2023-04-30T10:26:08.980Z"
   },
   {
    "duration": 1516,
    "start_time": "2023-04-30T10:26:09.004Z"
   },
   {
    "duration": 3,
    "start_time": "2023-04-30T10:26:10.523Z"
   },
   {
    "duration": 1808,
    "start_time": "2023-04-30T10:26:10.529Z"
   },
   {
    "duration": 43,
    "start_time": "2023-04-30T10:26:12.339Z"
   },
   {
    "duration": 59,
    "start_time": "2023-04-30T10:26:12.384Z"
   },
   {
    "duration": 16,
    "start_time": "2023-04-30T10:26:12.456Z"
   },
   {
    "duration": 8,
    "start_time": "2023-04-30T10:26:12.473Z"
   },
   {
    "duration": 12,
    "start_time": "2023-04-30T10:26:12.482Z"
   },
   {
    "duration": 3,
    "start_time": "2023-04-30T10:26:12.496Z"
   },
   {
    "duration": 56,
    "start_time": "2023-04-30T10:26:12.500Z"
   },
   {
    "duration": 17,
    "start_time": "2023-04-30T10:26:12.558Z"
   },
   {
    "duration": 23420,
    "start_time": "2023-04-30T10:26:12.577Z"
   },
   {
    "duration": 17,
    "start_time": "2023-04-30T10:26:35.999Z"
   },
   {
    "duration": 5,
    "start_time": "2023-04-30T13:42:19.767Z"
   },
   {
    "duration": 601,
    "start_time": "2023-04-30T13:44:17.167Z"
   },
   {
    "duration": 74,
    "start_time": "2023-04-30T13:44:17.971Z"
   },
   {
    "duration": 624,
    "start_time": "2023-04-30T13:45:32.887Z"
   },
   {
    "duration": 10,
    "start_time": "2023-04-30T13:45:34.075Z"
   },
   {
    "duration": 38,
    "start_time": "2023-04-30T13:45:40.970Z"
   },
   {
    "duration": 34,
    "start_time": "2023-04-30T13:45:51.847Z"
   },
   {
    "duration": 33,
    "start_time": "2023-04-30T13:45:58.577Z"
   },
   {
    "duration": 4,
    "start_time": "2023-04-30T13:46:33.474Z"
   },
   {
    "duration": 32,
    "start_time": "2023-04-30T13:46:52.035Z"
   },
   {
    "duration": 29,
    "start_time": "2023-04-30T13:49:26.195Z"
   },
   {
    "duration": 30,
    "start_time": "2023-04-30T13:49:41.990Z"
   },
   {
    "duration": 10,
    "start_time": "2023-04-30T13:49:56.472Z"
   },
   {
    "duration": 53,
    "start_time": "2023-04-30T13:50:00.254Z"
   },
   {
    "duration": 56,
    "start_time": "2023-04-30T13:50:08.724Z"
   },
   {
    "duration": 4,
    "start_time": "2023-05-02T12:13:54.142Z"
   },
   {
    "duration": 9,
    "start_time": "2023-05-02T12:13:54.147Z"
   },
   {
    "duration": 15,
    "start_time": "2023-05-02T12:13:54.157Z"
   },
   {
    "duration": 16,
    "start_time": "2023-05-02T12:13:54.173Z"
   },
   {
    "duration": 1589,
    "start_time": "2023-05-02T12:13:54.191Z"
   },
   {
    "duration": 3,
    "start_time": "2023-05-02T12:13:55.782Z"
   },
   {
    "duration": 2929,
    "start_time": "2023-05-02T12:13:55.786Z"
   },
   {
    "duration": 37,
    "start_time": "2023-05-02T12:13:58.717Z"
   },
   {
    "duration": 3,
    "start_time": "2023-05-02T12:13:58.756Z"
   },
   {
    "duration": 55,
    "start_time": "2023-05-02T12:13:58.761Z"
   },
   {
    "duration": 8,
    "start_time": "2023-05-02T12:13:58.819Z"
   },
   {
    "duration": 19,
    "start_time": "2023-05-02T12:13:58.829Z"
   },
   {
    "duration": 6,
    "start_time": "2023-05-02T12:13:58.850Z"
   },
   {
    "duration": 21,
    "start_time": "2023-05-02T12:13:58.857Z"
   },
   {
    "duration": 14,
    "start_time": "2023-05-02T12:13:58.891Z"
   },
   {
    "duration": 10054,
    "start_time": "2023-05-02T12:13:58.906Z"
   },
   {
    "duration": 2,
    "start_time": "2023-05-02T12:14:08.961Z"
   },
   {
    "duration": 22,
    "start_time": "2023-05-02T12:14:08.964Z"
   },
   {
    "duration": 27,
    "start_time": "2023-05-02T12:14:08.987Z"
   },
   {
    "duration": 15,
    "start_time": "2023-05-02T12:14:09.015Z"
   },
   {
    "duration": 186,
    "start_time": "2023-05-02T12:14:09.031Z"
   },
   {
    "duration": 438,
    "start_time": "2023-05-02T12:14:09.219Z"
   },
   {
    "duration": 489,
    "start_time": "2023-05-02T12:14:09.658Z"
   },
   {
    "duration": 445,
    "start_time": "2023-05-02T12:14:10.149Z"
   },
   {
    "duration": 383,
    "start_time": "2023-05-02T12:14:10.595Z"
   },
   {
    "duration": 3,
    "start_time": "2023-05-02T12:14:10.979Z"
   },
   {
    "duration": 12,
    "start_time": "2023-05-02T12:14:10.983Z"
   },
   {
    "duration": 485,
    "start_time": "2023-05-02T12:14:10.997Z"
   },
   {
    "duration": 85,
    "start_time": "2023-05-02T12:14:11.491Z"
   },
   {
    "duration": 115,
    "start_time": "2023-05-02T12:21:15.413Z"
   },
   {
    "duration": 6,
    "start_time": "2023-05-02T12:21:26.383Z"
   },
   {
    "duration": 20,
    "start_time": "2023-05-02T12:21:30.279Z"
   },
   {
    "duration": 6,
    "start_time": "2023-05-02T12:21:46.743Z"
   },
   {
    "duration": 6,
    "start_time": "2023-05-02T12:22:52.844Z"
   },
   {
    "duration": 16,
    "start_time": "2023-05-02T14:36:57.540Z"
   },
   {
    "duration": 11,
    "start_time": "2023-05-02T14:39:48.973Z"
   },
   {
    "duration": 11,
    "start_time": "2023-05-02T14:42:26.087Z"
   },
   {
    "duration": 5,
    "start_time": "2023-05-02T14:42:56.883Z"
   },
   {
    "duration": 5,
    "start_time": "2023-05-02T14:43:00.915Z"
   },
   {
    "duration": 9,
    "start_time": "2023-05-02T14:44:22.257Z"
   },
   {
    "duration": 5,
    "start_time": "2023-05-02T14:44:25.018Z"
   },
   {
    "duration": 3,
    "start_time": "2023-05-02T14:44:49.629Z"
   },
   {
    "duration": 9,
    "start_time": "2023-05-02T14:47:59.453Z"
   },
   {
    "duration": 8,
    "start_time": "2023-05-02T14:48:07.104Z"
   },
   {
    "duration": 10,
    "start_time": "2023-05-02T14:48:10.951Z"
   },
   {
    "duration": 12,
    "start_time": "2023-05-02T14:48:34.612Z"
   },
   {
    "duration": 6,
    "start_time": "2023-05-02T14:50:40.886Z"
   },
   {
    "duration": 5,
    "start_time": "2023-05-02T14:52:12.223Z"
   },
   {
    "duration": 3,
    "start_time": "2023-05-02T14:52:12.987Z"
   },
   {
    "duration": 37,
    "start_time": "2023-05-02T14:52:15.220Z"
   },
   {
    "duration": 2,
    "start_time": "2023-05-02T14:52:47.834Z"
   },
   {
    "duration": 6320,
    "start_time": "2023-05-02T14:52:49.541Z"
   },
   {
    "duration": 6,
    "start_time": "2023-05-02T14:53:07.843Z"
   },
   {
    "duration": 3,
    "start_time": "2023-05-02T14:53:08.870Z"
   },
   {
    "duration": 6263,
    "start_time": "2023-05-02T14:53:09.057Z"
   },
   {
    "duration": 3,
    "start_time": "2023-05-02T14:53:30.522Z"
   },
   {
    "duration": 5880,
    "start_time": "2023-05-02T14:53:31.215Z"
   },
   {
    "duration": 4,
    "start_time": "2023-05-02T14:53:55.450Z"
   },
   {
    "duration": 36050,
    "start_time": "2023-05-02T14:53:56.320Z"
   },
   {
    "duration": 6,
    "start_time": "2023-05-02T14:54:41.975Z"
   },
   {
    "duration": 3,
    "start_time": "2023-05-02T14:54:42.372Z"
   },
   {
    "duration": 43443,
    "start_time": "2023-05-02T14:54:42.575Z"
   },
   {
    "duration": 5,
    "start_time": "2023-05-02T14:56:40.316Z"
   },
   {
    "duration": 3,
    "start_time": "2023-05-02T14:56:40.733Z"
   },
   {
    "duration": 36214,
    "start_time": "2023-05-02T14:56:40.918Z"
   },
   {
    "duration": 13,
    "start_time": "2023-05-02T14:57:27.027Z"
   },
   {
    "duration": 3322,
    "start_time": "2023-05-02T14:59:07.873Z"
   },
   {
    "duration": 9,
    "start_time": "2023-05-02T15:06:28.878Z"
   },
   {
    "duration": 11,
    "start_time": "2023-05-02T15:06:33.603Z"
   },
   {
    "duration": 9,
    "start_time": "2023-05-02T15:06:40.717Z"
   },
   {
    "duration": 9,
    "start_time": "2023-05-02T15:06:46.718Z"
   },
   {
    "duration": 9,
    "start_time": "2023-05-02T15:06:53.417Z"
   },
   {
    "duration": 9,
    "start_time": "2023-05-02T15:07:12.165Z"
   },
   {
    "duration": 9,
    "start_time": "2023-05-02T15:07:22.018Z"
   },
   {
    "duration": 189,
    "start_time": "2023-05-02T15:07:34.903Z"
   },
   {
    "duration": 9,
    "start_time": "2023-05-02T15:07:52.323Z"
   },
   {
    "duration": 7,
    "start_time": "2023-05-02T15:07:55.858Z"
   },
   {
    "duration": 9,
    "start_time": "2023-05-02T15:07:59.341Z"
   },
   {
    "duration": 44,
    "start_time": "2023-05-02T15:08:02.514Z"
   },
   {
    "duration": 4,
    "start_time": "2023-05-02T15:08:11.671Z"
   },
   {
    "duration": 4,
    "start_time": "2023-05-02T15:08:37.468Z"
   },
   {
    "duration": 4,
    "start_time": "2023-05-02T15:08:43.917Z"
   },
   {
    "duration": 33855,
    "start_time": "2023-05-02T15:08:45.263Z"
   },
   {
    "duration": 179,
    "start_time": "2023-05-02T15:09:19.120Z"
   },
   {
    "duration": 9,
    "start_time": "2023-05-02T15:09:40.811Z"
   },
   {
    "duration": 4,
    "start_time": "2023-05-02T15:09:47.754Z"
   },
   {
    "duration": 162,
    "start_time": "2023-05-02T15:10:16.179Z"
   },
   {
    "duration": 2,
    "start_time": "2023-05-02T15:10:22.263Z"
   },
   {
    "duration": 5100,
    "start_time": "2023-05-02T15:10:36.816Z"
   },
   {
    "duration": 5248,
    "start_time": "2023-05-02T15:10:59.309Z"
   },
   {
    "duration": 5383,
    "start_time": "2023-05-02T15:11:08.984Z"
   },
   {
    "duration": 228,
    "start_time": "2023-05-02T15:12:26.556Z"
   },
   {
    "duration": 206,
    "start_time": "2023-05-02T15:13:42.129Z"
   },
   {
    "duration": 10,
    "start_time": "2023-05-02T15:13:44.643Z"
   },
   {
    "duration": 226,
    "start_time": "2023-05-02T15:13:51.765Z"
   },
   {
    "duration": 10,
    "start_time": "2023-05-02T15:14:21.937Z"
   },
   {
    "duration": 3,
    "start_time": "2023-05-02T15:19:53.723Z"
   },
   {
    "duration": 63,
    "start_time": "2023-05-02T15:19:54.373Z"
   },
   {
    "duration": 759,
    "start_time": "2023-05-02T15:20:02.525Z"
   },
   {
    "duration": 59,
    "start_time": "2023-05-02T15:20:23.975Z"
   },
   {
    "duration": 51,
    "start_time": "2023-05-02T15:20:30.172Z"
   },
   {
    "duration": 59,
    "start_time": "2023-05-02T15:20:33.071Z"
   },
   {
    "duration": 14,
    "start_time": "2023-05-02T15:22:20.422Z"
   },
   {
    "duration": 11,
    "start_time": "2023-05-02T15:23:29.065Z"
   },
   {
    "duration": 50,
    "start_time": "2023-05-02T15:24:05.023Z"
   },
   {
    "duration": 15,
    "start_time": "2023-05-02T15:24:15.251Z"
   },
   {
    "duration": 3,
    "start_time": "2023-05-02T15:24:35.017Z"
   },
   {
    "duration": 752,
    "start_time": "2023-05-02T15:24:35.640Z"
   },
   {
    "duration": 13,
    "start_time": "2023-05-02T15:24:37.042Z"
   },
   {
    "duration": 15,
    "start_time": "2023-05-02T15:24:39.033Z"
   },
   {
    "duration": 16,
    "start_time": "2023-05-02T15:25:17.461Z"
   },
   {
    "duration": 12,
    "start_time": "2023-05-02T15:25:39.780Z"
   },
   {
    "duration": 16,
    "start_time": "2023-05-02T15:25:43.423Z"
   },
   {
    "duration": 19,
    "start_time": "2023-05-02T15:26:48.027Z"
   },
   {
    "duration": 17,
    "start_time": "2023-05-02T15:27:47.153Z"
   },
   {
    "duration": 5,
    "start_time": "2023-05-02T15:35:15.737Z"
   },
   {
    "duration": 2,
    "start_time": "2023-05-02T15:35:17.161Z"
   },
   {
    "duration": 35528,
    "start_time": "2023-05-02T15:35:17.352Z"
   },
   {
    "duration": 11,
    "start_time": "2023-05-02T15:36:54.021Z"
   },
   {
    "duration": 5872,
    "start_time": "2023-05-02T15:37:00.046Z"
   },
   {
    "duration": 5,
    "start_time": "2023-05-02T15:37:11.325Z"
   },
   {
    "duration": 5684,
    "start_time": "2023-05-02T15:37:21.151Z"
   },
   {
    "duration": 5,
    "start_time": "2023-05-02T15:37:55.140Z"
   },
   {
    "duration": 3511,
    "start_time": "2023-05-02T15:38:15.283Z"
   },
   {
    "duration": 4,
    "start_time": "2023-05-02T15:40:55.545Z"
   },
   {
    "duration": 1047,
    "start_time": "2023-05-02T15:41:07.955Z"
   },
   {
    "duration": 41,
    "start_time": "2023-05-02T15:42:15.325Z"
   },
   {
    "duration": 977,
    "start_time": "2023-05-02T15:43:15.024Z"
   },
   {
    "duration": 926,
    "start_time": "2023-05-02T15:43:44.775Z"
   },
   {
    "duration": 7,
    "start_time": "2023-05-02T15:44:00.017Z"
   },
   {
    "duration": 780,
    "start_time": "2023-05-02T16:11:21.337Z"
   },
   {
    "duration": 3,
    "start_time": "2023-05-02T16:11:33.112Z"
   },
   {
    "duration": 4,
    "start_time": "2023-05-02T16:11:40.782Z"
   },
   {
    "duration": 416,
    "start_time": "2023-05-02T16:12:04.949Z"
   },
   {
    "duration": 1798,
    "start_time": "2023-05-02T16:12:12.265Z"
   },
   {
    "duration": 9,
    "start_time": "2023-05-02T16:12:21.111Z"
   },
   {
    "duration": 10,
    "start_time": "2023-05-02T16:12:29.502Z"
   },
   {
    "duration": 14,
    "start_time": "2023-05-02T16:12:34.774Z"
   },
   {
    "duration": 15,
    "start_time": "2023-05-02T16:17:07.749Z"
   },
   {
    "duration": 7,
    "start_time": "2023-05-02T16:17:15.787Z"
   },
   {
    "duration": 3,
    "start_time": "2023-05-02T16:20:26.771Z"
   },
   {
    "duration": 4,
    "start_time": "2023-05-02T16:20:29.964Z"
   },
   {
    "duration": 5,
    "start_time": "2023-05-02T16:20:35.262Z"
   },
   {
    "duration": 12,
    "start_time": "2023-05-02T16:20:39.113Z"
   },
   {
    "duration": 13,
    "start_time": "2023-05-02T16:23:17.161Z"
   },
   {
    "duration": 95,
    "start_time": "2023-05-02T16:23:25.129Z"
   },
   {
    "duration": 14,
    "start_time": "2023-05-02T16:23:28.209Z"
   },
   {
    "duration": 30,
    "start_time": "2023-05-02T16:23:46.414Z"
   },
   {
    "duration": 4,
    "start_time": "2023-05-02T16:23:50.505Z"
   },
   {
    "duration": 6,
    "start_time": "2023-05-02T16:23:56.912Z"
   },
   {
    "duration": 3,
    "start_time": "2023-05-02T16:23:58.075Z"
   },
   {
    "duration": 13,
    "start_time": "2023-05-02T16:24:59.535Z"
   },
   {
    "duration": 16,
    "start_time": "2023-05-02T16:25:12.263Z"
   },
   {
    "duration": 10,
    "start_time": "2023-05-02T16:25:15.560Z"
   },
   {
    "duration": 10,
    "start_time": "2023-05-02T16:26:40.881Z"
   },
   {
    "duration": 14,
    "start_time": "2023-05-02T16:27:26.263Z"
   },
   {
    "duration": 12,
    "start_time": "2023-05-02T16:28:04.444Z"
   },
   {
    "duration": 12,
    "start_time": "2023-05-02T16:28:53.046Z"
   },
   {
    "duration": 12,
    "start_time": "2023-05-02T16:29:04.106Z"
   },
   {
    "duration": 13,
    "start_time": "2023-05-02T16:30:46.808Z"
   },
   {
    "duration": 3688,
    "start_time": "2023-05-02T16:32:22.205Z"
   },
   {
    "duration": 15,
    "start_time": "2023-05-02T16:33:02.282Z"
   },
   {
    "duration": 37079,
    "start_time": "2023-05-02T16:33:06.658Z"
   },
   {
    "duration": 3762,
    "start_time": "2023-05-02T16:33:43.738Z"
   },
   {
    "duration": 3,
    "start_time": "2023-05-02T16:34:17.658Z"
   },
   {
    "duration": 19,
    "start_time": "2023-05-02T16:34:17.663Z"
   },
   {
    "duration": 15,
    "start_time": "2023-05-02T16:34:17.684Z"
   },
   {
    "duration": 14,
    "start_time": "2023-05-02T16:34:17.701Z"
   },
   {
    "duration": 1328,
    "start_time": "2023-05-02T16:34:17.717Z"
   },
   {
    "duration": 3,
    "start_time": "2023-05-02T16:34:19.047Z"
   },
   {
    "duration": 695,
    "start_time": "2023-05-02T16:34:19.052Z"
   },
   {
    "duration": 47,
    "start_time": "2023-05-02T16:34:19.749Z"
   },
   {
    "duration": 4,
    "start_time": "2023-05-02T16:34:19.799Z"
   },
   {
    "duration": 66,
    "start_time": "2023-05-02T16:34:19.806Z"
   },
   {
    "duration": 21,
    "start_time": "2023-05-02T16:34:19.874Z"
   },
   {
    "duration": 25,
    "start_time": "2023-05-02T16:34:19.898Z"
   },
   {
    "duration": 32,
    "start_time": "2023-05-02T16:34:19.925Z"
   },
   {
    "duration": 3,
    "start_time": "2023-05-02T16:34:19.960Z"
   },
   {
    "duration": 32,
    "start_time": "2023-05-02T16:34:19.965Z"
   },
   {
    "duration": 19,
    "start_time": "2023-05-02T16:34:20.000Z"
   },
   {
    "duration": 3887,
    "start_time": "2023-05-02T16:34:20.021Z"
   },
   {
    "duration": 4,
    "start_time": "2023-05-02T16:34:23.910Z"
   },
   {
    "duration": 46,
    "start_time": "2023-05-02T16:34:23.915Z"
   },
   {
    "duration": 29,
    "start_time": "2023-05-02T16:34:23.963Z"
   },
   {
    "duration": 36,
    "start_time": "2023-05-02T16:34:23.993Z"
   },
   {
    "duration": 188,
    "start_time": "2023-05-02T16:34:24.031Z"
   },
   {
    "duration": 499,
    "start_time": "2023-05-02T16:34:24.221Z"
   },
   {
    "duration": 351,
    "start_time": "2023-05-02T16:34:24.722Z"
   },
   {
    "duration": 455,
    "start_time": "2023-05-02T16:34:25.075Z"
   },
   {
    "duration": 445,
    "start_time": "2023-05-02T16:34:25.532Z"
   },
   {
    "duration": 3,
    "start_time": "2023-05-02T16:34:25.979Z"
   },
   {
    "duration": 6,
    "start_time": "2023-05-02T16:34:25.991Z"
   },
   {
    "duration": 499,
    "start_time": "2023-05-02T16:34:25.998Z"
   },
   {
    "duration": 9,
    "start_time": "2023-05-02T16:34:26.499Z"
   },
   {
    "duration": 251,
    "start_time": "2023-05-02T16:34:26.509Z"
   },
   {
    "duration": 305,
    "start_time": "2023-05-02T16:34:26.762Z"
   },
   {
    "duration": 4,
    "start_time": "2023-05-02T16:34:27.069Z"
   },
   {
    "duration": 788,
    "start_time": "2023-05-02T16:34:27.076Z"
   },
   {
    "duration": 54,
    "start_time": "2023-05-02T16:34:27.866Z"
   },
   {
    "duration": 11,
    "start_time": "2023-05-02T16:34:27.921Z"
   },
   {
    "duration": 33,
    "start_time": "2023-05-02T16:34:27.934Z"
   },
   {
    "duration": 37,
    "start_time": "2023-05-02T16:34:27.969Z"
   },
   {
    "duration": 3,
    "start_time": "2023-05-02T16:34:28.008Z"
   },
   {
    "duration": 8,
    "start_time": "2023-05-02T16:34:28.014Z"
   },
   {
    "duration": 5,
    "start_time": "2023-05-02T16:34:28.024Z"
   },
   {
    "duration": 10,
    "start_time": "2023-05-02T16:34:28.030Z"
   },
   {
    "duration": 9,
    "start_time": "2023-05-02T16:34:28.041Z"
   },
   {
    "duration": 14,
    "start_time": "2023-05-02T16:34:30.657Z"
   },
   {
    "duration": 120,
    "start_time": "2023-05-02T16:34:34.770Z"
   },
   {
    "duration": 4,
    "start_time": "2023-05-02T16:35:31.481Z"
   },
   {
    "duration": 13,
    "start_time": "2023-05-02T16:36:09.812Z"
   },
   {
    "duration": 4,
    "start_time": "2023-05-02T16:36:29.549Z"
   },
   {
    "duration": 8,
    "start_time": "2023-05-02T16:36:29.555Z"
   },
   {
    "duration": 9,
    "start_time": "2023-05-02T16:36:29.564Z"
   },
   {
    "duration": 11,
    "start_time": "2023-05-02T16:36:29.575Z"
   },
   {
    "duration": 1387,
    "start_time": "2023-05-02T16:36:29.587Z"
   },
   {
    "duration": 3,
    "start_time": "2023-05-02T16:36:30.975Z"
   },
   {
    "duration": 715,
    "start_time": "2023-05-02T16:36:30.980Z"
   },
   {
    "duration": 38,
    "start_time": "2023-05-02T16:36:31.696Z"
   },
   {
    "duration": 4,
    "start_time": "2023-05-02T16:36:31.735Z"
   },
   {
    "duration": 77,
    "start_time": "2023-05-02T16:36:31.742Z"
   },
   {
    "duration": 9,
    "start_time": "2023-05-02T16:36:31.821Z"
   },
   {
    "duration": 30,
    "start_time": "2023-05-02T16:36:31.832Z"
   },
   {
    "duration": 18,
    "start_time": "2023-05-02T16:36:31.864Z"
   },
   {
    "duration": 30,
    "start_time": "2023-05-02T16:36:31.884Z"
   },
   {
    "duration": 21,
    "start_time": "2023-05-02T16:36:31.916Z"
   },
   {
    "duration": 12,
    "start_time": "2023-05-02T16:36:31.939Z"
   },
   {
    "duration": 3798,
    "start_time": "2023-05-02T16:36:31.953Z"
   },
   {
    "duration": 3,
    "start_time": "2023-05-02T16:36:35.753Z"
   },
   {
    "duration": 6,
    "start_time": "2023-05-02T16:36:35.757Z"
   },
   {
    "duration": 14,
    "start_time": "2023-05-02T16:36:35.765Z"
   },
   {
    "duration": 4,
    "start_time": "2023-05-02T16:36:35.790Z"
   },
   {
    "duration": 229,
    "start_time": "2023-05-02T16:36:35.795Z"
   },
   {
    "duration": 550,
    "start_time": "2023-05-02T16:36:36.026Z"
   },
   {
    "duration": 415,
    "start_time": "2023-05-02T16:36:36.578Z"
   },
   {
    "duration": 505,
    "start_time": "2023-05-02T16:36:36.996Z"
   },
   {
    "duration": 499,
    "start_time": "2023-05-02T16:36:37.503Z"
   },
   {
    "duration": 4,
    "start_time": "2023-05-02T16:36:38.004Z"
   },
   {
    "duration": 10,
    "start_time": "2023-05-02T16:36:38.013Z"
   },
   {
    "duration": 558,
    "start_time": "2023-05-02T16:36:38.025Z"
   },
   {
    "duration": 13,
    "start_time": "2023-05-02T16:36:38.590Z"
   },
   {
    "duration": 186,
    "start_time": "2023-05-02T16:36:38.605Z"
   },
   {
    "duration": 288,
    "start_time": "2023-05-02T16:36:38.794Z"
   },
   {
    "duration": 9,
    "start_time": "2023-05-02T16:36:39.084Z"
   },
   {
    "duration": 818,
    "start_time": "2023-05-02T16:36:39.095Z"
   },
   {
    "duration": 51,
    "start_time": "2023-05-02T16:36:39.915Z"
   },
   {
    "duration": 24,
    "start_time": "2023-05-02T16:36:39.968Z"
   },
   {
    "duration": 19,
    "start_time": "2023-05-02T16:36:39.994Z"
   },
   {
    "duration": 32,
    "start_time": "2023-05-02T16:36:40.016Z"
   },
   {
    "duration": 3,
    "start_time": "2023-05-02T16:36:40.049Z"
   },
   {
    "duration": 12,
    "start_time": "2023-05-02T16:36:40.054Z"
   },
   {
    "duration": 4,
    "start_time": "2023-05-02T16:36:40.091Z"
   },
   {
    "duration": 7,
    "start_time": "2023-05-02T16:36:40.097Z"
   },
   {
    "duration": 10,
    "start_time": "2023-05-02T16:36:40.106Z"
   },
   {
    "duration": 15,
    "start_time": "2023-05-02T16:36:40.118Z"
   },
   {
    "duration": 130,
    "start_time": "2023-05-02T16:36:40.135Z"
   },
   {
    "duration": 0,
    "start_time": "2023-05-02T16:36:40.268Z"
   },
   {
    "duration": 0,
    "start_time": "2023-05-02T16:36:40.269Z"
   },
   {
    "duration": 46604,
    "start_time": "2023-05-02T16:36:50.915Z"
   },
   {
    "duration": 4271,
    "start_time": "2023-05-02T16:37:37.521Z"
   },
   {
    "duration": 0,
    "start_time": "2023-05-02T16:37:41.897Z"
   },
   {
    "duration": 13,
    "start_time": "2023-05-02T16:37:58.801Z"
   },
   {
    "duration": 16,
    "start_time": "2023-05-02T16:38:12.365Z"
   },
   {
    "duration": 17866,
    "start_time": "2023-05-02T16:38:18.670Z"
   },
   {
    "duration": 12,
    "start_time": "2023-05-02T16:38:52.173Z"
   },
   {
    "duration": 1954,
    "start_time": "2023-05-02T16:39:23.869Z"
   },
   {
    "duration": 11,
    "start_time": "2023-05-02T16:39:49.747Z"
   },
   {
    "duration": 5,
    "start_time": "2023-05-02T16:40:47.835Z"
   },
   {
    "duration": 3,
    "start_time": "2023-05-02T16:40:48.720Z"
   },
   {
    "duration": 17,
    "start_time": "2023-05-02T16:40:49.507Z"
   },
   {
    "duration": 34581,
    "start_time": "2023-05-02T16:40:50.045Z"
   },
   {
    "duration": 5,
    "start_time": "2023-05-02T16:41:42.522Z"
   },
   {
    "duration": 5,
    "start_time": "2023-05-02T16:41:54.858Z"
   },
   {
    "duration": 3,
    "start_time": "2023-05-02T16:41:55.335Z"
   },
   {
    "duration": 11,
    "start_time": "2023-05-02T16:41:55.870Z"
   },
   {
    "duration": 35493,
    "start_time": "2023-05-02T16:41:56.423Z"
   },
   {
    "duration": 2779,
    "start_time": "2023-05-02T16:42:31.918Z"
   },
   {
    "duration": 17783,
    "start_time": "2023-05-02T16:42:34.699Z"
   },
   {
    "duration": 2003,
    "start_time": "2023-05-02T16:42:52.484Z"
   },
   {
    "duration": 11072,
    "start_time": "2023-05-02T16:43:28.305Z"
   },
   {
    "duration": 899,
    "start_time": "2023-05-02T16:43:43.151Z"
   },
   {
    "duration": 5,
    "start_time": "2023-05-02T17:35:44.960Z"
   },
   {
    "duration": 30234,
    "start_time": "2023-05-02T17:35:47.480Z"
   },
   {
    "duration": 9467,
    "start_time": "2023-05-02T17:36:17.716Z"
   },
   {
    "duration": 883,
    "start_time": "2023-05-02T17:36:55.582Z"
   },
   {
    "duration": 4,
    "start_time": "2023-05-02T17:37:11.443Z"
   },
   {
    "duration": 4,
    "start_time": "2023-05-02T17:37:29.181Z"
   },
   {
    "duration": 52,
    "start_time": "2023-05-02T17:37:37.864Z"
   },
   {
    "duration": 457,
    "start_time": "2023-05-02T17:37:43.136Z"
   },
   {
    "duration": 14698,
    "start_time": "2023-05-02T17:40:29.827Z"
   },
   {
    "duration": 600,
    "start_time": "2023-05-02T17:40:58.722Z"
   },
   {
    "duration": 642,
    "start_time": "2023-05-02T17:41:03.751Z"
   },
   {
    "duration": 804,
    "start_time": "2023-05-02T17:42:14.107Z"
   },
   {
    "duration": 3,
    "start_time": "2023-05-02T17:43:32.511Z"
   },
   {
    "duration": 34900,
    "start_time": "2023-05-02T17:43:34.083Z"
   },
   {
    "duration": 14247,
    "start_time": "2023-05-02T17:46:18.904Z"
   },
   {
    "duration": 1042,
    "start_time": "2023-05-02T17:46:57.404Z"
   },
   {
    "duration": 8,
    "start_time": "2023-05-02T17:51:26.122Z"
   },
   {
    "duration": 55,
    "start_time": "2023-05-02T17:53:13.318Z"
   },
   {
    "duration": 1547,
    "start_time": "2023-05-02T17:53:25.171Z"
   },
   {
    "duration": 1162,
    "start_time": "2023-05-02T17:53:44.641Z"
   },
   {
    "duration": 1203,
    "start_time": "2023-05-02T17:54:15.656Z"
   },
   {
    "duration": 21,
    "start_time": "2023-05-02T17:54:22.130Z"
   },
   {
    "duration": 45,
    "start_time": "2023-05-02T17:57:50.525Z"
   },
   {
    "duration": 59,
    "start_time": "2023-05-02T17:57:56.576Z"
   },
   {
    "duration": 274,
    "start_time": "2023-05-02T17:58:01.237Z"
   },
   {
    "duration": 251,
    "start_time": "2023-05-02T17:58:35.221Z"
   },
   {
    "duration": 4,
    "start_time": "2023-05-02T17:58:56.429Z"
   },
   {
    "duration": 14,
    "start_time": "2023-05-02T17:59:09.220Z"
   },
   {
    "duration": 212,
    "start_time": "2023-05-02T17:59:25.963Z"
   },
   {
    "duration": 225,
    "start_time": "2023-05-02T17:59:29.666Z"
   },
   {
    "duration": 228,
    "start_time": "2023-05-02T18:00:07.055Z"
   },
   {
    "duration": 222,
    "start_time": "2023-05-02T18:00:25.009Z"
   },
   {
    "duration": 101,
    "start_time": "2023-05-02T18:04:23.105Z"
   },
   {
    "duration": 11,
    "start_time": "2023-05-02T18:04:32.144Z"
   },
   {
    "duration": 49,
    "start_time": "2023-05-02T18:05:29.362Z"
   },
   {
    "duration": 794,
    "start_time": "2023-05-02T18:05:33.654Z"
   },
   {
    "duration": 833,
    "start_time": "2023-05-02T18:06:00.973Z"
   },
   {
    "duration": 5,
    "start_time": "2023-05-02T18:06:22.741Z"
   },
   {
    "duration": 4,
    "start_time": "2023-05-02T18:06:26.279Z"
   },
   {
    "duration": 1039,
    "start_time": "2023-05-02T18:06:30.474Z"
   },
   {
    "duration": 9,
    "start_time": "2023-05-02T18:06:51.421Z"
   },
   {
    "duration": 9,
    "start_time": "2023-05-02T18:06:55.566Z"
   },
   {
    "duration": 885,
    "start_time": "2023-05-02T18:06:59.898Z"
   },
   {
    "duration": 803,
    "start_time": "2023-05-02T18:07:03.513Z"
   },
   {
    "duration": 984,
    "start_time": "2023-05-02T18:07:07.377Z"
   },
   {
    "duration": 20,
    "start_time": "2023-05-02T18:07:42.939Z"
   },
   {
    "duration": 4,
    "start_time": "2023-05-02T18:07:50.161Z"
   },
   {
    "duration": 1013,
    "start_time": "2023-05-02T18:07:53.245Z"
   },
   {
    "duration": 788,
    "start_time": "2023-05-02T18:08:10.594Z"
   },
   {
    "duration": 786,
    "start_time": "2023-05-02T18:08:19.346Z"
   },
   {
    "duration": 938,
    "start_time": "2023-05-02T18:08:23.553Z"
   },
   {
    "duration": 3,
    "start_time": "2023-05-02T18:08:27.004Z"
   },
   {
    "duration": 4,
    "start_time": "2023-05-02T18:08:30.217Z"
   },
   {
    "duration": 833,
    "start_time": "2023-05-02T18:08:37.301Z"
   },
   {
    "duration": 6,
    "start_time": "2023-05-02T18:08:48.470Z"
   },
   {
    "duration": 6,
    "start_time": "2023-05-02T18:08:55.716Z"
   },
   {
    "duration": 5,
    "start_time": "2023-05-02T18:09:03.274Z"
   },
   {
    "duration": 76,
    "start_time": "2023-05-02T18:09:11.289Z"
   },
   {
    "duration": 27,
    "start_time": "2023-05-02T18:09:12.940Z"
   },
   {
    "duration": 21,
    "start_time": "2023-05-02T18:09:14.877Z"
   },
   {
    "duration": 19,
    "start_time": "2023-05-02T18:09:30.614Z"
   },
   {
    "duration": 13,
    "start_time": "2023-05-02T18:09:35.467Z"
   },
   {
    "duration": 17,
    "start_time": "2023-05-02T18:09:39.926Z"
   },
   {
    "duration": 7,
    "start_time": "2023-05-02T18:09:44.817Z"
   },
   {
    "duration": 18,
    "start_time": "2023-05-02T18:10:03.024Z"
   },
   {
    "duration": 8,
    "start_time": "2023-05-02T18:10:57.507Z"
   },
   {
    "duration": 6,
    "start_time": "2023-05-02T18:11:02.416Z"
   },
   {
    "duration": 5,
    "start_time": "2023-05-02T18:11:31.005Z"
   },
   {
    "duration": 6,
    "start_time": "2023-05-02T18:11:42.105Z"
   },
   {
    "duration": 231,
    "start_time": "2023-05-02T18:11:51.722Z"
   },
   {
    "duration": 14,
    "start_time": "2023-05-02T18:12:22.364Z"
   },
   {
    "duration": 13,
    "start_time": "2023-05-02T18:12:34.184Z"
   },
   {
    "duration": 5,
    "start_time": "2023-05-02T18:12:56.700Z"
   },
   {
    "duration": 6,
    "start_time": "2023-05-02T18:12:57.643Z"
   },
   {
    "duration": 10,
    "start_time": "2023-05-02T18:13:04.217Z"
   },
   {
    "duration": 12,
    "start_time": "2023-05-02T18:13:06.645Z"
   },
   {
    "duration": 5,
    "start_time": "2023-05-02T18:13:11.456Z"
   },
   {
    "duration": 10,
    "start_time": "2023-05-02T18:13:31.746Z"
   },
   {
    "duration": 5,
    "start_time": "2023-05-02T18:13:34.586Z"
   },
   {
    "duration": 108,
    "start_time": "2023-05-02T18:13:52.813Z"
   },
   {
    "duration": 921,
    "start_time": "2023-05-02T18:16:56.632Z"
   },
   {
    "duration": 642,
    "start_time": "2023-05-02T18:17:42.914Z"
   },
   {
    "duration": 479,
    "start_time": "2023-05-02T18:17:53.662Z"
   },
   {
    "duration": 4771,
    "start_time": "2023-05-02T18:18:05.274Z"
   },
   {
    "duration": 231,
    "start_time": "2023-05-02T18:18:21.133Z"
   },
   {
    "duration": 213,
    "start_time": "2023-05-02T18:18:29.417Z"
   },
   {
    "duration": 4636,
    "start_time": "2023-05-02T18:18:31.559Z"
   },
   {
    "duration": 13023,
    "start_time": "2023-05-02T18:18:48.504Z"
   },
   {
    "duration": 19546,
    "start_time": "2023-05-02T18:19:50.058Z"
   },
   {
    "duration": 1757,
    "start_time": "2023-05-02T18:20:09.606Z"
   },
   {
    "duration": 344,
    "start_time": "2023-05-02T18:22:02.098Z"
   },
   {
    "duration": 7,
    "start_time": "2023-05-02T18:22:28.502Z"
   },
   {
    "duration": 38049,
    "start_time": "2023-05-02T18:22:32.701Z"
   },
   {
    "duration": 3045,
    "start_time": "2023-05-02T18:23:10.752Z"
   },
   {
    "duration": 11676,
    "start_time": "2023-05-02T18:23:13.800Z"
   },
   {
    "duration": 1134,
    "start_time": "2023-05-02T18:23:25.479Z"
   },
   {
    "duration": 10,
    "start_time": "2023-05-02T18:37:04.417Z"
   },
   {
    "duration": 13,
    "start_time": "2023-05-02T18:37:18.533Z"
   },
   {
    "duration": 10,
    "start_time": "2023-05-02T18:37:32.839Z"
   },
   {
    "duration": 6,
    "start_time": "2023-05-02T18:37:42.233Z"
   },
   {
    "duration": 6,
    "start_time": "2023-05-02T18:37:50.265Z"
   },
   {
    "duration": 1049,
    "start_time": "2023-05-02T18:39:13.927Z"
   },
   {
    "duration": 3,
    "start_time": "2023-05-02T18:39:34.967Z"
   },
   {
    "duration": 3777,
    "start_time": "2023-05-02T18:39:36.516Z"
   },
   {
    "duration": 3771,
    "start_time": "2023-05-02T18:39:49.822Z"
   },
   {
    "duration": 73,
    "start_time": "2023-05-02T18:43:44.932Z"
   },
   {
    "duration": 5248,
    "start_time": "2023-05-02T18:44:08.565Z"
   },
   {
    "duration": 8457,
    "start_time": "2023-05-02T18:44:22.043Z"
   },
   {
    "duration": 5,
    "start_time": "2023-05-02T18:46:27.277Z"
   },
   {
    "duration": 3,
    "start_time": "2023-05-02T18:46:27.604Z"
   },
   {
    "duration": 11,
    "start_time": "2023-05-02T18:46:28.963Z"
   },
   {
    "duration": 36252,
    "start_time": "2023-05-02T18:46:29.902Z"
   },
   {
    "duration": 3035,
    "start_time": "2023-05-02T18:47:06.156Z"
   },
   {
    "duration": 8715,
    "start_time": "2023-05-02T18:47:09.193Z"
   },
   {
    "duration": 1025,
    "start_time": "2023-05-02T18:47:17.911Z"
   },
   {
    "duration": 8934,
    "start_time": "2023-05-02T18:47:38.251Z"
   },
   {
    "duration": 60,
    "start_time": "2023-05-02T18:50:25.973Z"
   },
   {
    "duration": 5,
    "start_time": "2023-05-02T18:51:48.331Z"
   },
   {
    "duration": 19,
    "start_time": "2023-05-02T18:51:48.338Z"
   },
   {
    "duration": 27,
    "start_time": "2023-05-02T18:51:48.359Z"
   },
   {
    "duration": 22,
    "start_time": "2023-05-02T18:51:48.388Z"
   },
   {
    "duration": 1688,
    "start_time": "2023-05-02T18:51:48.411Z"
   },
   {
    "duration": 3,
    "start_time": "2023-05-02T18:51:50.101Z"
   },
   {
    "duration": 3032,
    "start_time": "2023-05-02T18:51:50.105Z"
   },
   {
    "duration": 39,
    "start_time": "2023-05-02T18:51:53.140Z"
   },
   {
    "duration": 3,
    "start_time": "2023-05-02T18:51:53.181Z"
   },
   {
    "duration": 70,
    "start_time": "2023-05-02T18:51:53.186Z"
   },
   {
    "duration": 6,
    "start_time": "2023-05-02T18:51:53.258Z"
   },
   {
    "duration": 28,
    "start_time": "2023-05-02T18:51:53.266Z"
   },
   {
    "duration": 5,
    "start_time": "2023-05-02T18:51:53.295Z"
   },
   {
    "duration": 27,
    "start_time": "2023-05-02T18:51:53.302Z"
   },
   {
    "duration": 40,
    "start_time": "2023-05-02T18:51:53.330Z"
   },
   {
    "duration": 28,
    "start_time": "2023-05-02T18:51:53.371Z"
   },
   {
    "duration": 12,
    "start_time": "2023-05-02T18:51:53.401Z"
   },
   {
    "duration": 3835,
    "start_time": "2023-05-02T18:51:53.415Z"
   },
   {
    "duration": 2,
    "start_time": "2023-05-02T18:51:57.252Z"
   },
   {
    "duration": 8,
    "start_time": "2023-05-02T18:51:57.256Z"
   },
   {
    "duration": 18,
    "start_time": "2023-05-02T18:51:57.265Z"
   },
   {
    "duration": 7,
    "start_time": "2023-05-02T18:51:57.284Z"
   },
   {
    "duration": 219,
    "start_time": "2023-05-02T18:51:57.293Z"
   },
   {
    "duration": 529,
    "start_time": "2023-05-02T18:51:57.514Z"
   },
   {
    "duration": 422,
    "start_time": "2023-05-02T18:51:58.045Z"
   },
   {
    "duration": 499,
    "start_time": "2023-05-02T18:51:58.470Z"
   },
   {
    "duration": 439,
    "start_time": "2023-05-02T18:51:58.970Z"
   },
   {
    "duration": 3,
    "start_time": "2023-05-02T18:51:59.412Z"
   },
   {
    "duration": 9,
    "start_time": "2023-05-02T18:51:59.417Z"
   },
   {
    "duration": 536,
    "start_time": "2023-05-02T18:51:59.427Z"
   },
   {
    "duration": 10,
    "start_time": "2023-05-02T18:51:59.964Z"
   },
   {
    "duration": 188,
    "start_time": "2023-05-02T18:51:59.977Z"
   },
   {
    "duration": 302,
    "start_time": "2023-05-02T18:52:00.167Z"
   },
   {
    "duration": 4,
    "start_time": "2023-05-02T18:52:00.471Z"
   },
   {
    "duration": 895,
    "start_time": "2023-05-02T18:52:00.477Z"
   },
   {
    "duration": 71,
    "start_time": "2023-05-02T18:52:01.374Z"
   },
   {
    "duration": 17,
    "start_time": "2023-05-02T18:52:01.447Z"
   },
   {
    "duration": 64,
    "start_time": "2023-05-02T18:52:01.466Z"
   },
   {
    "duration": 33,
    "start_time": "2023-05-02T18:52:01.532Z"
   },
   {
    "duration": 11,
    "start_time": "2023-05-02T18:52:01.567Z"
   },
   {
    "duration": 3,
    "start_time": "2023-05-02T18:54:07.429Z"
   },
   {
    "duration": 11,
    "start_time": "2023-05-02T18:54:07.434Z"
   },
   {
    "duration": 10,
    "start_time": "2023-05-02T18:54:07.446Z"
   },
   {
    "duration": 23,
    "start_time": "2023-05-02T18:54:07.457Z"
   },
   {
    "duration": 1711,
    "start_time": "2023-05-02T18:54:07.482Z"
   },
   {
    "duration": 4,
    "start_time": "2023-05-02T18:54:09.196Z"
   },
   {
    "duration": 2948,
    "start_time": "2023-05-02T18:54:09.202Z"
   },
   {
    "duration": 39,
    "start_time": "2023-05-02T18:54:12.151Z"
   },
   {
    "duration": 4,
    "start_time": "2023-05-02T18:54:12.191Z"
   },
   {
    "duration": 53,
    "start_time": "2023-05-02T18:54:12.198Z"
   },
   {
    "duration": 7,
    "start_time": "2023-05-02T18:54:12.253Z"
   },
   {
    "duration": 31,
    "start_time": "2023-05-02T18:54:12.262Z"
   },
   {
    "duration": 2,
    "start_time": "2023-05-02T18:54:12.296Z"
   },
   {
    "duration": 29,
    "start_time": "2023-05-02T18:54:12.299Z"
   },
   {
    "duration": 32,
    "start_time": "2023-05-02T18:54:12.329Z"
   },
   {
    "duration": 37,
    "start_time": "2023-05-02T18:54:12.363Z"
   },
   {
    "duration": 12,
    "start_time": "2023-05-02T18:54:12.402Z"
   },
   {
    "duration": 3998,
    "start_time": "2023-05-02T18:54:12.415Z"
   },
   {
    "duration": 2,
    "start_time": "2023-05-02T18:54:16.415Z"
   },
   {
    "duration": 9,
    "start_time": "2023-05-02T18:54:16.419Z"
   },
   {
    "duration": 40,
    "start_time": "2023-05-02T18:54:16.429Z"
   },
   {
    "duration": 31,
    "start_time": "2023-05-02T18:54:16.472Z"
   },
   {
    "duration": 354,
    "start_time": "2023-05-02T18:54:16.505Z"
   },
   {
    "duration": 550,
    "start_time": "2023-05-02T18:54:16.861Z"
   },
   {
    "duration": 349,
    "start_time": "2023-05-02T18:54:17.412Z"
   },
   {
    "duration": 470,
    "start_time": "2023-05-02T18:54:17.762Z"
   },
   {
    "duration": 435,
    "start_time": "2023-05-02T18:54:18.233Z"
   },
   {
    "duration": 3,
    "start_time": "2023-05-02T18:54:18.670Z"
   },
   {
    "duration": 9,
    "start_time": "2023-05-02T18:54:18.674Z"
   },
   {
    "duration": 522,
    "start_time": "2023-05-02T18:54:18.691Z"
   },
   {
    "duration": 12,
    "start_time": "2023-05-02T18:54:19.215Z"
   },
   {
    "duration": 229,
    "start_time": "2023-05-02T18:54:19.229Z"
   },
   {
    "duration": 305,
    "start_time": "2023-05-02T18:54:19.459Z"
   },
   {
    "duration": 4,
    "start_time": "2023-05-02T18:54:19.766Z"
   },
   {
    "duration": 841,
    "start_time": "2023-05-02T18:54:19.771Z"
   },
   {
    "duration": 47,
    "start_time": "2023-05-02T18:54:20.614Z"
   },
   {
    "duration": 11,
    "start_time": "2023-05-02T18:54:20.664Z"
   },
   {
    "duration": 18,
    "start_time": "2023-05-02T18:54:20.692Z"
   },
   {
    "duration": 24,
    "start_time": "2023-05-02T18:54:20.711Z"
   },
   {
    "duration": 3,
    "start_time": "2023-05-02T18:54:20.736Z"
   },
   {
    "duration": 47,
    "start_time": "2023-05-02T18:54:37.124Z"
   },
   {
    "duration": 4,
    "start_time": "2023-05-02T18:54:49.692Z"
   },
   {
    "duration": 7,
    "start_time": "2023-05-02T18:54:49.698Z"
   },
   {
    "duration": 10,
    "start_time": "2023-05-02T18:54:49.706Z"
   },
   {
    "duration": 9,
    "start_time": "2023-05-02T18:54:49.717Z"
   },
   {
    "duration": 1760,
    "start_time": "2023-05-02T18:54:49.728Z"
   },
   {
    "duration": 3,
    "start_time": "2023-05-02T18:54:51.490Z"
   },
   {
    "duration": 3001,
    "start_time": "2023-05-02T18:54:51.495Z"
   },
   {
    "duration": 48,
    "start_time": "2023-05-02T18:54:54.499Z"
   },
   {
    "duration": 5,
    "start_time": "2023-05-02T18:54:54.549Z"
   },
   {
    "duration": 75,
    "start_time": "2023-05-02T18:54:54.556Z"
   },
   {
    "duration": 8,
    "start_time": "2023-05-02T18:54:54.633Z"
   },
   {
    "duration": 11,
    "start_time": "2023-05-02T18:54:54.643Z"
   },
   {
    "duration": 7,
    "start_time": "2023-05-02T18:54:54.657Z"
   },
   {
    "duration": 54,
    "start_time": "2023-05-02T18:54:54.666Z"
   },
   {
    "duration": 21,
    "start_time": "2023-05-02T18:54:54.723Z"
   },
   {
    "duration": 45,
    "start_time": "2023-05-02T18:54:54.746Z"
   },
   {
    "duration": 13,
    "start_time": "2023-05-02T18:54:54.793Z"
   },
   {
    "duration": 3877,
    "start_time": "2023-05-02T18:54:54.808Z"
   },
   {
    "duration": 5,
    "start_time": "2023-05-02T18:54:58.686Z"
   },
   {
    "duration": 5,
    "start_time": "2023-05-02T18:54:58.692Z"
   },
   {
    "duration": 13,
    "start_time": "2023-05-02T18:54:58.699Z"
   },
   {
    "duration": 4,
    "start_time": "2023-05-02T18:54:58.714Z"
   },
   {
    "duration": 200,
    "start_time": "2023-05-02T18:54:58.719Z"
   },
   {
    "duration": 529,
    "start_time": "2023-05-02T18:54:58.921Z"
   },
   {
    "duration": 401,
    "start_time": "2023-05-02T18:54:59.452Z"
   },
   {
    "duration": 483,
    "start_time": "2023-05-02T18:54:59.855Z"
   },
   {
    "duration": 469,
    "start_time": "2023-05-02T18:55:00.340Z"
   },
   {
    "duration": 3,
    "start_time": "2023-05-02T18:55:00.811Z"
   },
   {
    "duration": 55,
    "start_time": "2023-05-02T18:55:00.816Z"
   },
   {
    "duration": 570,
    "start_time": "2023-05-02T18:55:00.873Z"
   },
   {
    "duration": 11,
    "start_time": "2023-05-02T18:55:01.446Z"
   },
   {
    "duration": 208,
    "start_time": "2023-05-02T18:55:01.459Z"
   },
   {
    "duration": 291,
    "start_time": "2023-05-02T18:55:01.668Z"
   },
   {
    "duration": 3,
    "start_time": "2023-05-02T18:55:01.961Z"
   },
   {
    "duration": 790,
    "start_time": "2023-05-02T18:55:01.966Z"
   },
   {
    "duration": 51,
    "start_time": "2023-05-02T18:55:02.758Z"
   },
   {
    "duration": 11,
    "start_time": "2023-05-02T18:55:02.813Z"
   },
   {
    "duration": 25,
    "start_time": "2023-05-02T18:55:02.826Z"
   },
   {
    "duration": 40,
    "start_time": "2023-05-02T18:55:02.852Z"
   },
   {
    "duration": 17,
    "start_time": "2023-05-02T18:55:02.894Z"
   },
   {
    "duration": 4,
    "start_time": "2023-05-02T18:56:46.705Z"
   },
   {
    "duration": 25,
    "start_time": "2023-05-02T18:56:46.711Z"
   },
   {
    "duration": 16,
    "start_time": "2023-05-02T18:56:46.738Z"
   },
   {
    "duration": 19,
    "start_time": "2023-05-02T18:56:46.757Z"
   },
   {
    "duration": 1675,
    "start_time": "2023-05-02T18:56:46.778Z"
   },
   {
    "duration": 3,
    "start_time": "2023-05-02T18:56:48.454Z"
   },
   {
    "duration": 3149,
    "start_time": "2023-05-02T18:56:48.458Z"
   },
   {
    "duration": 90,
    "start_time": "2023-05-02T18:56:51.609Z"
   },
   {
    "duration": 4,
    "start_time": "2023-05-02T18:56:51.700Z"
   },
   {
    "duration": 110,
    "start_time": "2023-05-02T18:56:51.707Z"
   },
   {
    "duration": 8,
    "start_time": "2023-05-02T18:56:51.818Z"
   },
   {
    "duration": 68,
    "start_time": "2023-05-02T18:56:51.827Z"
   },
   {
    "duration": 3,
    "start_time": "2023-05-02T18:56:51.897Z"
   },
   {
    "duration": 26,
    "start_time": "2023-05-02T18:56:51.902Z"
   },
   {
    "duration": 65,
    "start_time": "2023-05-02T18:56:51.929Z"
   },
   {
    "duration": 23,
    "start_time": "2023-05-02T18:56:51.996Z"
   },
   {
    "duration": 12,
    "start_time": "2023-05-02T18:56:52.021Z"
   },
   {
    "duration": 5379,
    "start_time": "2023-05-02T18:56:52.034Z"
   },
   {
    "duration": 3,
    "start_time": "2023-05-02T18:56:57.416Z"
   },
   {
    "duration": 10,
    "start_time": "2023-05-02T18:56:57.420Z"
   },
   {
    "duration": 14,
    "start_time": "2023-05-02T18:56:57.432Z"
   },
   {
    "duration": 3,
    "start_time": "2023-05-02T18:56:57.447Z"
   },
   {
    "duration": 200,
    "start_time": "2023-05-02T18:56:57.452Z"
   },
   {
    "duration": 519,
    "start_time": "2023-05-02T18:56:57.653Z"
   },
   {
    "duration": 396,
    "start_time": "2023-05-02T18:56:58.174Z"
   },
   {
    "duration": 462,
    "start_time": "2023-05-02T18:56:58.572Z"
   },
   {
    "duration": 437,
    "start_time": "2023-05-02T18:56:59.036Z"
   },
   {
    "duration": 3,
    "start_time": "2023-05-02T18:56:59.476Z"
   },
   {
    "duration": 14,
    "start_time": "2023-05-02T18:56:59.480Z"
   },
   {
    "duration": 480,
    "start_time": "2023-05-02T18:56:59.496Z"
   },
   {
    "duration": 17,
    "start_time": "2023-05-02T18:56:59.978Z"
   },
   {
    "duration": 180,
    "start_time": "2023-05-02T18:56:59.996Z"
   },
   {
    "duration": 288,
    "start_time": "2023-05-02T18:57:00.177Z"
   },
   {
    "duration": 4,
    "start_time": "2023-05-02T18:57:00.466Z"
   },
   {
    "duration": 863,
    "start_time": "2023-05-02T18:57:00.472Z"
   },
   {
    "duration": 45,
    "start_time": "2023-05-02T18:57:01.337Z"
   },
   {
    "duration": 10,
    "start_time": "2023-05-02T18:57:01.392Z"
   },
   {
    "duration": 61,
    "start_time": "2023-05-02T18:57:01.403Z"
   },
   {
    "duration": 43,
    "start_time": "2023-05-02T18:57:01.466Z"
   },
   {
    "duration": 19,
    "start_time": "2023-05-02T18:57:01.511Z"
   },
   {
    "duration": 4,
    "start_time": "2023-05-02T18:57:05.990Z"
   },
   {
    "duration": 3,
    "start_time": "2023-05-02T18:57:08.309Z"
   },
   {
    "duration": 5,
    "start_time": "2023-05-02T18:57:08.796Z"
   },
   {
    "duration": 3,
    "start_time": "2023-05-02T18:57:10.951Z"
   },
   {
    "duration": 12,
    "start_time": "2023-05-02T18:57:11.324Z"
   },
   {
    "duration": 28134,
    "start_time": "2023-05-02T18:57:35.987Z"
   },
   {
    "duration": 2576,
    "start_time": "2023-05-02T18:58:04.123Z"
   },
   {
    "duration": 9126,
    "start_time": "2023-05-02T18:58:06.701Z"
   },
   {
    "duration": 2203,
    "start_time": "2023-05-02T18:58:15.829Z"
   },
   {
    "duration": 3,
    "start_time": "2023-05-02T19:03:23.886Z"
   },
   {
    "duration": 27505,
    "start_time": "2023-05-02T19:03:34.100Z"
   },
   {
    "duration": 2193,
    "start_time": "2023-05-02T19:04:01.607Z"
   },
   {
    "duration": 3,
    "start_time": "2023-05-02T19:04:41.228Z"
   },
   {
    "duration": 17,
    "start_time": "2023-05-02T19:04:41.233Z"
   },
   {
    "duration": 20,
    "start_time": "2023-05-02T19:04:41.252Z"
   },
   {
    "duration": 19,
    "start_time": "2023-05-02T19:04:41.274Z"
   },
   {
    "duration": 1306,
    "start_time": "2023-05-02T19:04:41.295Z"
   },
   {
    "duration": 3,
    "start_time": "2023-05-02T19:04:42.603Z"
   },
   {
    "duration": 660,
    "start_time": "2023-05-02T19:04:42.607Z"
   },
   {
    "duration": 43,
    "start_time": "2023-05-02T19:04:43.269Z"
   },
   {
    "duration": 3,
    "start_time": "2023-05-02T19:04:43.313Z"
   },
   {
    "duration": 109,
    "start_time": "2023-05-02T19:04:43.319Z"
   },
   {
    "duration": 132,
    "start_time": "2023-05-02T19:04:43.430Z"
   },
   {
    "duration": 58,
    "start_time": "2023-05-02T19:04:43.564Z"
   },
   {
    "duration": 46,
    "start_time": "2023-05-02T19:04:43.623Z"
   },
   {
    "duration": 51,
    "start_time": "2023-05-02T19:04:43.670Z"
   },
   {
    "duration": 44,
    "start_time": "2023-05-02T19:04:43.723Z"
   },
   {
    "duration": 22,
    "start_time": "2023-05-02T19:04:43.769Z"
   },
   {
    "duration": 17,
    "start_time": "2023-05-02T19:04:43.792Z"
   },
   {
    "duration": 3725,
    "start_time": "2023-05-02T19:04:43.811Z"
   },
   {
    "duration": 2,
    "start_time": "2023-05-02T19:04:47.538Z"
   },
   {
    "duration": 10,
    "start_time": "2023-05-02T19:04:47.542Z"
   },
   {
    "duration": 21,
    "start_time": "2023-05-02T19:04:47.554Z"
   },
   {
    "duration": 4,
    "start_time": "2023-05-02T19:04:47.576Z"
   },
   {
    "duration": 195,
    "start_time": "2023-05-02T19:04:47.581Z"
   },
   {
    "duration": 507,
    "start_time": "2023-05-02T19:04:47.777Z"
   },
   {
    "duration": 364,
    "start_time": "2023-05-02T19:04:48.285Z"
   },
   {
    "duration": 445,
    "start_time": "2023-05-02T19:04:48.651Z"
   },
   {
    "duration": 373,
    "start_time": "2023-05-02T19:04:49.097Z"
   },
   {
    "duration": 3,
    "start_time": "2023-05-02T19:04:49.473Z"
   },
   {
    "duration": 16,
    "start_time": "2023-05-02T19:04:49.477Z"
   },
   {
    "duration": 481,
    "start_time": "2023-05-02T19:04:49.494Z"
   },
   {
    "duration": 18,
    "start_time": "2023-05-02T19:04:49.977Z"
   },
   {
    "duration": 185,
    "start_time": "2023-05-02T19:04:49.997Z"
   },
   {
    "duration": 302,
    "start_time": "2023-05-02T19:04:50.183Z"
   },
   {
    "duration": 5,
    "start_time": "2023-05-02T19:04:50.486Z"
   },
   {
    "duration": 845,
    "start_time": "2023-05-02T19:04:50.492Z"
   },
   {
    "duration": 59,
    "start_time": "2023-05-02T19:04:51.339Z"
   },
   {
    "duration": 13,
    "start_time": "2023-05-02T19:04:51.399Z"
   },
   {
    "duration": 44,
    "start_time": "2023-05-02T19:04:51.414Z"
   },
   {
    "duration": 19,
    "start_time": "2023-05-02T19:04:51.460Z"
   },
   {
    "duration": 2,
    "start_time": "2023-05-02T19:04:51.491Z"
   },
   {
    "duration": 12,
    "start_time": "2023-05-02T19:04:51.495Z"
   },
   {
    "duration": 7,
    "start_time": "2023-05-02T19:04:51.510Z"
   },
   {
    "duration": 14,
    "start_time": "2023-05-02T19:04:51.518Z"
   },
   {
    "duration": 19,
    "start_time": "2023-05-02T19:04:51.533Z"
   },
   {
    "duration": 11,
    "start_time": "2023-05-02T19:04:51.553Z"
   },
   {
    "duration": 5,
    "start_time": "2023-05-02T19:04:51.566Z"
   },
   {
    "duration": 17,
    "start_time": "2023-05-02T19:04:51.572Z"
   },
   {
    "duration": 45886,
    "start_time": "2023-05-02T19:04:51.591Z"
   },
   {
    "duration": 3013,
    "start_time": "2023-05-02T19:05:37.479Z"
   },
   {
    "duration": 14635,
    "start_time": "2023-05-02T19:05:40.496Z"
   },
   {
    "duration": 2294,
    "start_time": "2023-05-02T19:05:55.133Z"
   },
   {
    "duration": 16,
    "start_time": "2023-05-02T19:06:09.834Z"
   },
   {
    "duration": 111,
    "start_time": "2023-05-02T19:07:14.118Z"
   },
   {
    "duration": 7,
    "start_time": "2023-05-02T19:07:25.980Z"
   },
   {
    "duration": 9,
    "start_time": "2023-05-02T19:07:36.208Z"
   },
   {
    "duration": 2,
    "start_time": "2023-05-02T19:07:37.405Z"
   },
   {
    "duration": 3,
    "start_time": "2023-05-02T19:07:38.189Z"
   },
   {
    "duration": 3,
    "start_time": "2023-05-02T19:07:38.608Z"
   },
   {
    "duration": 5,
    "start_time": "2023-05-02T19:07:39.104Z"
   },
   {
    "duration": 3,
    "start_time": "2023-05-02T19:07:39.882Z"
   },
   {
    "duration": 11,
    "start_time": "2023-05-02T19:07:40.128Z"
   },
   {
    "duration": 31654,
    "start_time": "2023-05-02T19:07:41.364Z"
   },
   {
    "duration": 2272,
    "start_time": "2023-05-02T19:08:13.020Z"
   },
   {
    "duration": 15464,
    "start_time": "2023-05-02T19:08:15.295Z"
   },
   {
    "duration": 2319,
    "start_time": "2023-05-02T19:08:30.762Z"
   },
   {
    "duration": 25,
    "start_time": "2023-05-02T19:09:05.684Z"
   },
   {
    "duration": 16,
    "start_time": "2023-05-02T19:09:15.837Z"
   },
   {
    "duration": 16,
    "start_time": "2023-05-02T19:09:19.825Z"
   },
   {
    "duration": 18,
    "start_time": "2023-05-02T19:09:27.283Z"
   },
   {
    "duration": 3,
    "start_time": "2023-05-02T19:09:28.708Z"
   },
   {
    "duration": 2,
    "start_time": "2023-05-02T19:09:29.552Z"
   },
   {
    "duration": 5,
    "start_time": "2023-05-02T19:09:34.891Z"
   },
   {
    "duration": 3,
    "start_time": "2023-05-02T19:09:36.838Z"
   },
   {
    "duration": 11,
    "start_time": "2023-05-02T19:09:37.179Z"
   },
   {
    "duration": 46682,
    "start_time": "2023-05-02T19:09:38.192Z"
   },
   {
    "duration": 3823,
    "start_time": "2023-05-02T19:10:24.876Z"
   },
   {
    "duration": 14123,
    "start_time": "2023-05-02T19:10:28.701Z"
   },
   {
    "duration": 2221,
    "start_time": "2023-05-02T19:10:42.826Z"
   },
   {
    "duration": 4,
    "start_time": "2023-05-02T19:16:10.782Z"
   },
   {
    "duration": 24,
    "start_time": "2023-05-02T19:16:10.788Z"
   },
   {
    "duration": 38,
    "start_time": "2023-05-02T19:16:10.814Z"
   },
   {
    "duration": 12,
    "start_time": "2023-05-02T19:16:10.853Z"
   },
   {
    "duration": 1363,
    "start_time": "2023-05-02T19:16:10.867Z"
   },
   {
    "duration": 2,
    "start_time": "2023-05-02T19:16:12.232Z"
   },
   {
    "duration": 646,
    "start_time": "2023-05-02T19:16:12.235Z"
   },
   {
    "duration": 42,
    "start_time": "2023-05-02T19:16:12.882Z"
   },
   {
    "duration": 3,
    "start_time": "2023-05-02T19:16:12.926Z"
   },
   {
    "duration": 72,
    "start_time": "2023-05-02T19:16:12.931Z"
   },
   {
    "duration": 6,
    "start_time": "2023-05-02T19:16:13.005Z"
   },
   {
    "duration": 19,
    "start_time": "2023-05-02T19:16:13.012Z"
   },
   {
    "duration": 11,
    "start_time": "2023-05-02T19:16:13.032Z"
   },
   {
    "duration": 28,
    "start_time": "2023-05-02T19:16:13.046Z"
   },
   {
    "duration": 33,
    "start_time": "2023-05-02T19:16:13.076Z"
   },
   {
    "duration": 23,
    "start_time": "2023-05-02T19:16:13.111Z"
   },
   {
    "duration": 12,
    "start_time": "2023-05-02T19:16:13.135Z"
   },
   {
    "duration": 4060,
    "start_time": "2023-05-02T19:16:13.148Z"
   },
   {
    "duration": 2,
    "start_time": "2023-05-02T19:16:17.209Z"
   },
   {
    "duration": 11,
    "start_time": "2023-05-02T19:16:17.213Z"
   },
   {
    "duration": 15,
    "start_time": "2023-05-02T19:16:17.225Z"
   },
   {
    "duration": 3,
    "start_time": "2023-05-02T19:16:17.241Z"
   },
   {
    "duration": 215,
    "start_time": "2023-05-02T19:16:17.245Z"
   },
   {
    "duration": 551,
    "start_time": "2023-05-02T19:16:17.462Z"
   },
   {
    "duration": 454,
    "start_time": "2023-05-02T19:16:18.014Z"
   },
   {
    "duration": 488,
    "start_time": "2023-05-02T19:16:18.470Z"
   },
   {
    "duration": 446,
    "start_time": "2023-05-02T19:16:18.960Z"
   },
   {
    "duration": 4,
    "start_time": "2023-05-02T19:16:19.409Z"
   },
   {
    "duration": 16,
    "start_time": "2023-05-02T19:16:19.415Z"
   },
   {
    "duration": 588,
    "start_time": "2023-05-02T19:16:19.433Z"
   },
   {
    "duration": 10,
    "start_time": "2023-05-02T19:16:20.023Z"
   },
   {
    "duration": 188,
    "start_time": "2023-05-02T19:16:20.034Z"
   },
   {
    "duration": 289,
    "start_time": "2023-05-02T19:16:20.224Z"
   },
   {
    "duration": 3,
    "start_time": "2023-05-02T19:16:20.515Z"
   },
   {
    "duration": 877,
    "start_time": "2023-05-02T19:16:20.520Z"
   },
   {
    "duration": 44,
    "start_time": "2023-05-02T19:16:21.399Z"
   },
   {
    "duration": 13,
    "start_time": "2023-05-02T19:16:21.444Z"
   },
   {
    "duration": 35,
    "start_time": "2023-05-02T19:16:21.458Z"
   },
   {
    "duration": 17,
    "start_time": "2023-05-02T19:16:21.495Z"
   },
   {
    "duration": 14,
    "start_time": "2023-05-02T19:16:21.513Z"
   },
   {
    "duration": 5,
    "start_time": "2023-05-02T19:16:21.532Z"
   },
   {
    "duration": 23,
    "start_time": "2023-05-02T19:16:21.538Z"
   },
   {
    "duration": 11,
    "start_time": "2023-05-02T19:16:21.563Z"
   },
   {
    "duration": 8,
    "start_time": "2023-05-02T19:16:21.576Z"
   },
   {
    "duration": 5,
    "start_time": "2023-05-02T19:16:21.591Z"
   },
   {
    "duration": 10,
    "start_time": "2023-05-02T19:16:21.597Z"
   },
   {
    "duration": 22,
    "start_time": "2023-05-02T19:16:21.609Z"
   },
   {
    "duration": 44248,
    "start_time": "2023-05-02T19:16:21.633Z"
   },
   {
    "duration": 8,
    "start_time": "2023-05-02T19:17:05.884Z"
   },
   {
    "duration": 3515,
    "start_time": "2023-05-02T19:17:05.894Z"
   },
   {
    "duration": 81,
    "start_time": "2023-05-02T19:17:09.412Z"
   },
   {
    "duration": 24,
    "start_time": "2023-05-02T19:17:09.495Z"
   },
   {
    "duration": 45,
    "start_time": "2023-05-02T19:17:09.521Z"
   },
   {
    "duration": 24,
    "start_time": "2023-05-02T19:17:09.567Z"
   },
   {
    "duration": 53,
    "start_time": "2023-05-02T19:17:09.592Z"
   },
   {
    "duration": 3091,
    "start_time": "2023-05-02T19:17:29.611Z"
   },
   {
    "duration": 2964,
    "start_time": "2023-05-02T19:17:56.742Z"
   },
   {
    "duration": 3177,
    "start_time": "2023-05-02T19:18:11.322Z"
   },
   {
    "duration": 3479,
    "start_time": "2023-05-02T19:18:21.216Z"
   },
   {
    "duration": 3013,
    "start_time": "2023-05-02T19:18:28.379Z"
   },
   {
    "duration": 2893,
    "start_time": "2023-05-02T19:18:34.712Z"
   },
   {
    "duration": 3763,
    "start_time": "2023-05-02T19:18:51.540Z"
   },
   {
    "duration": 14910,
    "start_time": "2023-05-02T19:20:03.447Z"
   },
   {
    "duration": 2150,
    "start_time": "2023-05-02T19:20:18.359Z"
   },
   {
    "duration": 2073,
    "start_time": "2023-05-02T19:20:45.907Z"
   },
   {
    "duration": 9513,
    "start_time": "2023-05-02T19:21:03.204Z"
   },
   {
    "duration": 937,
    "start_time": "2023-05-02T19:21:12.719Z"
   },
   {
    "duration": 671,
    "start_time": "2023-05-02T19:21:55.997Z"
   },
   {
    "duration": 1694,
    "start_time": "2023-05-02T19:22:01.890Z"
   },
   {
    "duration": 909,
    "start_time": "2023-05-02T19:22:09.083Z"
   },
   {
    "duration": 12668,
    "start_time": "2023-05-02T19:23:12.137Z"
   },
   {
    "duration": 1483,
    "start_time": "2023-05-02T19:23:24.808Z"
   },
   {
    "duration": 188933,
    "start_time": "2023-05-02T19:24:07.316Z"
   },
   {
    "duration": 40719,
    "start_time": "2023-05-02T19:27:16.252Z"
   },
   {
    "duration": 362275,
    "start_time": "2023-05-02T19:27:56.973Z"
   },
   {
    "duration": 80851,
    "start_time": "2023-05-02T19:33:59.250Z"
   },
   {
    "duration": 518899,
    "start_time": "2023-05-02T19:35:20.107Z"
   },
   {
    "duration": 114943,
    "start_time": "2023-05-02T19:43:59.008Z"
   },
   {
    "duration": 6,
    "start_time": "2023-05-02T20:05:17.342Z"
   },
   {
    "duration": 5,
    "start_time": "2023-05-02T20:05:22.962Z"
   },
   {
    "duration": 11,
    "start_time": "2023-05-02T20:05:26.790Z"
   },
   {
    "duration": 214889,
    "start_time": "2023-05-02T20:05:30.039Z"
   },
   {
    "duration": 13388,
    "start_time": "2023-05-02T20:09:04.930Z"
   },
   {
    "duration": 1246,
    "start_time": "2023-05-02T20:09:18.320Z"
   },
   {
    "duration": 154,
    "start_time": "2023-05-02T20:09:19.569Z"
   },
   {
    "duration": 0,
    "start_time": "2023-05-02T20:09:19.726Z"
   },
   {
    "duration": 11,
    "start_time": "2023-05-02T20:09:37.430Z"
   },
   {
    "duration": 27,
    "start_time": "2023-05-02T20:09:57.571Z"
   },
   {
    "duration": 51,
    "start_time": "2023-05-02T20:10:23.428Z"
   },
   {
    "duration": 11,
    "start_time": "2023-05-02T20:10:29.708Z"
   },
   {
    "duration": 48,
    "start_time": "2023-05-02T20:14:51.915Z"
   },
   {
    "duration": 2,
    "start_time": "2023-05-02T20:15:35.731Z"
   },
   {
    "duration": 4,
    "start_time": "2023-05-02T20:16:44.737Z"
   },
   {
    "duration": 5,
    "start_time": "2023-05-02T20:18:18.327Z"
   },
   {
    "duration": 18,
    "start_time": "2023-05-02T20:18:20.049Z"
   },
   {
    "duration": 17,
    "start_time": "2023-05-02T20:18:23.171Z"
   },
   {
    "duration": 3,
    "start_time": "2023-05-02T20:19:02.883Z"
   },
   {
    "duration": 4,
    "start_time": "2023-05-02T20:19:10.424Z"
   },
   {
    "duration": 8,
    "start_time": "2023-05-02T20:19:12.477Z"
   },
   {
    "duration": 43,
    "start_time": "2023-05-02T20:19:12.987Z"
   },
   {
    "duration": 4,
    "start_time": "2023-05-02T20:19:34.747Z"
   },
   {
    "duration": 11,
    "start_time": "2023-05-02T20:19:35.158Z"
   },
   {
    "duration": 1411,
    "start_time": "2023-05-02T20:19:35.941Z"
   },
   {
    "duration": 5,
    "start_time": "2023-05-02T20:20:12.381Z"
   },
   {
    "duration": 14,
    "start_time": "2023-05-02T20:20:12.720Z"
   },
   {
    "duration": 4330,
    "start_time": "2023-05-02T20:20:13.130Z"
   },
   {
    "duration": 3,
    "start_time": "2023-05-02T20:25:58.016Z"
   },
   {
    "duration": 13,
    "start_time": "2023-05-02T20:25:58.421Z"
   },
   {
    "duration": 104957,
    "start_time": "2023-05-02T20:25:59.281Z"
   },
   {
    "duration": 12,
    "start_time": "2023-05-02T20:39:21.121Z"
   },
   {
    "duration": 13,
    "start_time": "2023-05-02T20:39:40.114Z"
   },
   {
    "duration": 10,
    "start_time": "2023-05-02T20:39:45.563Z"
   },
   {
    "duration": 9,
    "start_time": "2023-05-02T20:39:48.885Z"
   },
   {
    "duration": 5,
    "start_time": "2023-05-02T20:39:53.687Z"
   },
   {
    "duration": 7,
    "start_time": "2023-05-02T20:39:57.978Z"
   },
   {
    "duration": 996,
    "start_time": "2023-05-02T20:40:18.121Z"
   },
   {
    "duration": 17,
    "start_time": "2023-05-02T20:40:28.724Z"
   },
   {
    "duration": 9,
    "start_time": "2023-05-02T20:40:35.131Z"
   },
   {
    "duration": 922,
    "start_time": "2023-05-02T20:41:02.637Z"
   },
   {
    "duration": 10,
    "start_time": "2023-05-02T20:41:08.093Z"
   },
   {
    "duration": 3,
    "start_time": "2023-05-02T20:41:53.280Z"
   },
   {
    "duration": 3,
    "start_time": "2023-05-02T20:41:53.932Z"
   },
   {
    "duration": 19121,
    "start_time": "2023-05-02T20:41:54.317Z"
   },
   {
    "duration": 14,
    "start_time": "2023-05-02T20:42:43.369Z"
   },
   {
    "duration": 25,
    "start_time": "2023-05-02T20:43:00.487Z"
   },
   {
    "duration": 94806,
    "start_time": "2023-05-02T20:43:01.332Z"
   },
   {
    "duration": 9,
    "start_time": "2023-05-02T20:45:01.315Z"
   },
   {
    "duration": 4,
    "start_time": "2023-05-02T20:45:02.079Z"
   },
   {
    "duration": 94954,
    "start_time": "2023-05-02T20:45:03.879Z"
   },
   {
    "duration": 10,
    "start_time": "2023-05-02T20:46:38.836Z"
   },
   {
    "duration": 23,
    "start_time": "2023-05-02T20:46:38.848Z"
   },
   {
    "duration": 10,
    "start_time": "2023-05-02T20:46:38.872Z"
   },
   {
    "duration": 38,
    "start_time": "2023-05-02T20:46:38.884Z"
   },
   {
    "duration": 18490,
    "start_time": "2023-05-02T20:46:38.924Z"
   },
   {
    "duration": 14,
    "start_time": "2023-05-02T20:46:57.420Z"
   },
   {
    "duration": 17,
    "start_time": "2023-05-02T20:47:15.513Z"
   },
   {
    "duration": 10,
    "start_time": "2023-05-02T20:48:36.941Z"
   },
   {
    "duration": 6,
    "start_time": "2023-05-02T20:48:37.388Z"
   },
   {
    "duration": 103725,
    "start_time": "2023-05-02T20:48:37.951Z"
   },
   {
    "duration": 10,
    "start_time": "2023-05-02T20:50:21.678Z"
   },
   {
    "duration": 39,
    "start_time": "2023-05-02T20:50:21.690Z"
   },
   {
    "duration": 25,
    "start_time": "2023-05-02T20:50:21.731Z"
   },
   {
    "duration": 10,
    "start_time": "2023-05-02T20:50:21.757Z"
   },
   {
    "duration": 20187,
    "start_time": "2023-05-02T20:50:21.769Z"
   },
   {
    "duration": 46,
    "start_time": "2023-05-02T20:50:41.958Z"
   },
   {
    "duration": 144,
    "start_time": "2023-05-02T20:51:00.549Z"
   },
   {
    "duration": 5,
    "start_time": "2023-05-02T20:51:12.562Z"
   },
   {
    "duration": 122,
    "start_time": "2023-05-02T20:51:21.832Z"
   },
   {
    "duration": 125,
    "start_time": "2023-05-02T20:51:39.922Z"
   },
   {
    "duration": 20,
    "start_time": "2023-05-02T20:51:47.119Z"
   },
   {
    "duration": 4,
    "start_time": "2023-05-02T20:51:59.985Z"
   },
   {
    "duration": 5,
    "start_time": "2023-05-02T20:52:43.655Z"
   },
   {
    "duration": 105,
    "start_time": "2023-05-02T20:52:46.080Z"
   },
   {
    "duration": 3,
    "start_time": "2023-05-02T20:52:51.327Z"
   },
   {
    "duration": 107,
    "start_time": "2023-05-02T20:52:53.232Z"
   },
   {
    "duration": 17,
    "start_time": "2023-05-02T20:54:05.621Z"
   },
   {
    "duration": 3,
    "start_time": "2023-05-02T20:54:17.615Z"
   },
   {
    "duration": 17,
    "start_time": "2023-05-02T20:54:18.216Z"
   },
   {
    "duration": 518,
    "start_time": "2023-05-02T20:54:27.518Z"
   },
   {
    "duration": 4,
    "start_time": "2023-05-02T21:05:45.581Z"
   },
   {
    "duration": 3,
    "start_time": "2023-05-02T21:06:11.324Z"
   },
   {
    "duration": 14,
    "start_time": "2023-05-02T21:06:12.093Z"
   },
   {
    "duration": 420,
    "start_time": "2023-05-02T21:06:12.921Z"
   },
   {
    "duration": 3,
    "start_time": "2023-05-02T21:06:20.519Z"
   },
   {
    "duration": 14,
    "start_time": "2023-05-02T21:06:21.006Z"
   },
   {
    "duration": 2271,
    "start_time": "2023-05-02T21:06:21.543Z"
   },
   {
    "duration": 56,
    "start_time": "2023-05-02T21:06:58.006Z"
   },
   {
    "duration": 5,
    "start_time": "2023-05-02T21:07:13.787Z"
   },
   {
    "duration": 3,
    "start_time": "2023-05-02T21:07:16.886Z"
   },
   {
    "duration": 15,
    "start_time": "2023-05-02T21:07:18.246Z"
   },
   {
    "duration": 1954,
    "start_time": "2023-05-02T21:07:19.092Z"
   },
   {
    "duration": 8,
    "start_time": "2023-05-02T21:08:08.941Z"
   },
   {
    "duration": 3,
    "start_time": "2023-05-02T21:08:09.319Z"
   },
   {
    "duration": 22,
    "start_time": "2023-05-02T21:08:09.673Z"
   },
   {
    "duration": 2026,
    "start_time": "2023-05-02T21:08:10.358Z"
   },
   {
    "duration": 8,
    "start_time": "2023-05-02T21:08:48.117Z"
   },
   {
    "duration": 3,
    "start_time": "2023-05-02T21:08:48.907Z"
   },
   {
    "duration": 15,
    "start_time": "2023-05-02T21:08:49.312Z"
   },
   {
    "duration": 1102,
    "start_time": "2023-05-02T21:08:54.077Z"
   },
   {
    "duration": 5,
    "start_time": "2023-05-02T21:09:33.414Z"
   },
   {
    "duration": 4,
    "start_time": "2023-05-02T21:09:33.927Z"
   },
   {
    "duration": 19,
    "start_time": "2023-05-02T21:09:34.300Z"
   },
   {
    "duration": 1208,
    "start_time": "2023-05-02T21:09:34.819Z"
   },
   {
    "duration": 5,
    "start_time": "2023-05-02T21:12:03.827Z"
   },
   {
    "duration": 3,
    "start_time": "2023-05-02T21:12:05.398Z"
   },
   {
    "duration": 18,
    "start_time": "2023-05-02T21:12:06.427Z"
   },
   {
    "duration": 1325,
    "start_time": "2023-05-02T21:12:07.419Z"
   },
   {
    "duration": 8,
    "start_time": "2023-05-02T21:13:22.919Z"
   },
   {
    "duration": 3,
    "start_time": "2023-05-02T21:13:23.389Z"
   },
   {
    "duration": 14,
    "start_time": "2023-05-02T21:13:23.714Z"
   },
   {
    "duration": 1153,
    "start_time": "2023-05-02T21:13:24.234Z"
   },
   {
    "duration": 5,
    "start_time": "2023-05-02T21:13:54.612Z"
   },
   {
    "duration": 3,
    "start_time": "2023-05-02T21:13:55.809Z"
   },
   {
    "duration": 14,
    "start_time": "2023-05-02T21:13:56.079Z"
   },
   {
    "duration": 950,
    "start_time": "2023-05-02T21:13:56.382Z"
   },
   {
    "duration": 5,
    "start_time": "2023-05-02T21:14:08.085Z"
   },
   {
    "duration": 3,
    "start_time": "2023-05-02T21:14:08.479Z"
   },
   {
    "duration": 20,
    "start_time": "2023-05-02T21:14:08.705Z"
   },
   {
    "duration": 1094,
    "start_time": "2023-05-02T21:14:08.897Z"
   },
   {
    "duration": 56,
    "start_time": "2023-05-02T21:14:34.817Z"
   },
   {
    "duration": 3,
    "start_time": "2023-05-02T21:14:35.281Z"
   },
   {
    "duration": 17,
    "start_time": "2023-05-02T21:14:35.483Z"
   },
   {
    "duration": 1136,
    "start_time": "2023-05-02T21:14:35.681Z"
   },
   {
    "duration": 5,
    "start_time": "2023-05-02T21:14:40.981Z"
   },
   {
    "duration": 5,
    "start_time": "2023-05-02T21:14:43.662Z"
   },
   {
    "duration": 3,
    "start_time": "2023-05-02T21:14:44.026Z"
   },
   {
    "duration": 19,
    "start_time": "2023-05-02T21:14:44.289Z"
   },
   {
    "duration": 1385,
    "start_time": "2023-05-02T21:14:44.602Z"
   },
   {
    "duration": 5,
    "start_time": "2023-05-02T21:14:53.641Z"
   },
   {
    "duration": 3,
    "start_time": "2023-05-02T21:14:54.406Z"
   },
   {
    "duration": 15,
    "start_time": "2023-05-02T21:14:54.644Z"
   },
   {
    "duration": 1178,
    "start_time": "2023-05-02T21:14:54.824Z"
   },
   {
    "duration": 4,
    "start_time": "2023-05-02T21:15:44.062Z"
   },
   {
    "duration": 148,
    "start_time": "2023-05-02T21:15:44.783Z"
   },
   {
    "duration": 1785,
    "start_time": "2023-05-02T21:15:45.457Z"
   },
   {
    "duration": 176,
    "start_time": "2023-05-02T21:15:52.881Z"
   },
   {
    "duration": 4,
    "start_time": "2023-05-02T21:16:01.145Z"
   },
   {
    "duration": 6,
    "start_time": "2023-05-02T21:16:01.524Z"
   },
   {
    "duration": 874,
    "start_time": "2023-05-02T21:16:02.043Z"
   },
   {
    "duration": 248,
    "start_time": "2023-05-02T21:16:02.919Z"
   },
   {
    "duration": 5,
    "start_time": "2023-05-02T21:17:52.081Z"
   },
   {
    "duration": 4,
    "start_time": "2023-05-02T21:17:54.258Z"
   },
   {
    "duration": 1543,
    "start_time": "2023-05-02T21:17:57.813Z"
   },
   {
    "duration": 6,
    "start_time": "2023-05-02T21:18:17.935Z"
   },
   {
    "duration": 3,
    "start_time": "2023-05-02T21:18:18.433Z"
   },
   {
    "duration": 26,
    "start_time": "2023-05-02T21:18:18.882Z"
   },
   {
    "duration": 5,
    "start_time": "2023-05-02T21:18:25.194Z"
   },
   {
    "duration": 3,
    "start_time": "2023-05-02T21:18:25.758Z"
   },
   {
    "duration": 23,
    "start_time": "2023-05-02T21:18:27.061Z"
   },
   {
    "duration": 4,
    "start_time": "2023-05-02T21:19:54.941Z"
   },
   {
    "duration": 16,
    "start_time": "2023-05-02T21:19:54.947Z"
   },
   {
    "duration": 10,
    "start_time": "2023-05-02T21:19:54.965Z"
   },
   {
    "duration": 24,
    "start_time": "2023-05-02T21:19:54.977Z"
   },
   {
    "duration": 1570,
    "start_time": "2023-05-02T21:19:55.003Z"
   },
   {
    "duration": 3,
    "start_time": "2023-05-02T21:19:56.576Z"
   },
   {
    "duration": 3015,
    "start_time": "2023-05-02T21:19:56.581Z"
   },
   {
    "duration": 39,
    "start_time": "2023-05-02T21:19:59.597Z"
   },
   {
    "duration": 3,
    "start_time": "2023-05-02T21:19:59.639Z"
   },
   {
    "duration": 68,
    "start_time": "2023-05-02T21:19:59.643Z"
   },
   {
    "duration": 7,
    "start_time": "2023-05-02T21:19:59.713Z"
   },
   {
    "duration": 18,
    "start_time": "2023-05-02T21:19:59.722Z"
   },
   {
    "duration": 6,
    "start_time": "2023-05-02T21:19:59.741Z"
   },
   {
    "duration": 32,
    "start_time": "2023-05-02T21:19:59.749Z"
   },
   {
    "duration": 21,
    "start_time": "2023-05-02T21:19:59.791Z"
   },
   {
    "duration": 34,
    "start_time": "2023-05-02T21:19:59.814Z"
   },
   {
    "duration": 13,
    "start_time": "2023-05-02T21:19:59.850Z"
   },
   {
    "duration": 4282,
    "start_time": "2023-05-02T21:19:59.864Z"
   },
   {
    "duration": 2,
    "start_time": "2023-05-02T21:20:04.148Z"
   },
   {
    "duration": 23,
    "start_time": "2023-05-02T21:20:04.152Z"
   },
   {
    "duration": 15,
    "start_time": "2023-05-02T21:20:04.176Z"
   },
   {
    "duration": 5,
    "start_time": "2023-05-02T21:20:04.193Z"
   },
   {
    "duration": 212,
    "start_time": "2023-05-02T21:20:04.201Z"
   },
   {
    "duration": 549,
    "start_time": "2023-05-02T21:20:04.417Z"
   },
   {
    "duration": 525,
    "start_time": "2023-05-02T21:20:04.968Z"
   },
   {
    "duration": 613,
    "start_time": "2023-05-02T21:20:05.495Z"
   },
   {
    "duration": 513,
    "start_time": "2023-05-02T21:20:06.110Z"
   },
   {
    "duration": 3,
    "start_time": "2023-05-02T21:20:06.626Z"
   },
   {
    "duration": 21,
    "start_time": "2023-05-02T21:20:06.631Z"
   },
   {
    "duration": 579,
    "start_time": "2023-05-02T21:20:06.655Z"
   },
   {
    "duration": 11,
    "start_time": "2023-05-02T21:20:07.236Z"
   },
   {
    "duration": 190,
    "start_time": "2023-05-02T21:20:07.249Z"
   },
   {
    "duration": 290,
    "start_time": "2023-05-02T21:20:07.441Z"
   },
   {
    "duration": 5,
    "start_time": "2023-05-02T21:20:07.733Z"
   },
   {
    "duration": 891,
    "start_time": "2023-05-02T21:20:07.739Z"
   },
   {
    "duration": 47,
    "start_time": "2023-05-02T21:20:08.632Z"
   },
   {
    "duration": 12,
    "start_time": "2023-05-02T21:20:08.692Z"
   },
   {
    "duration": 30,
    "start_time": "2023-05-02T21:20:08.706Z"
   },
   {
    "duration": 19,
    "start_time": "2023-05-02T21:20:08.737Z"
   },
   {
    "duration": 8,
    "start_time": "2023-05-02T21:20:08.757Z"
   },
   {
    "duration": 12,
    "start_time": "2023-05-02T21:20:08.767Z"
   },
   {
    "duration": 19,
    "start_time": "2023-05-02T21:20:08.790Z"
   },
   {
    "duration": 14,
    "start_time": "2023-05-02T21:20:08.810Z"
   },
   {
    "duration": 19,
    "start_time": "2023-05-02T21:20:08.826Z"
   },
   {
    "duration": 9,
    "start_time": "2023-05-02T21:20:08.848Z"
   },
   {
    "duration": 14,
    "start_time": "2023-05-02T21:20:08.859Z"
   },
   {
    "duration": 26,
    "start_time": "2023-05-02T21:20:08.876Z"
   },
   {
    "duration": 59582,
    "start_time": "2023-05-02T21:20:08.904Z"
   },
   {
    "duration": 3314,
    "start_time": "2023-05-02T21:21:08.491Z"
   },
   {
    "duration": 12456,
    "start_time": "2023-05-02T21:21:11.807Z"
   },
   {
    "duration": 1553,
    "start_time": "2023-05-02T21:21:24.264Z"
   },
   {
    "duration": 9425,
    "start_time": "2023-05-02T21:21:25.819Z"
   },
   {
    "duration": 908,
    "start_time": "2023-05-02T21:21:35.247Z"
   },
   {
    "duration": 8,
    "start_time": "2023-05-02T21:21:36.157Z"
   },
   {
    "duration": 7,
    "start_time": "2023-05-02T21:21:36.166Z"
   },
   {
    "duration": 16,
    "start_time": "2023-05-02T21:21:36.175Z"
   },
   {
    "duration": 3,
    "start_time": "2023-05-02T21:21:36.192Z"
   },
   {
    "duration": 11,
    "start_time": "2023-05-02T21:21:36.197Z"
   },
   {
    "duration": 10,
    "start_time": "2023-05-02T21:21:36.210Z"
   },
   {
    "duration": 12,
    "start_time": "2023-05-02T21:21:36.221Z"
   },
   {
    "duration": 24,
    "start_time": "2023-05-02T21:21:36.235Z"
   },
   {
    "duration": 8,
    "start_time": "2023-05-02T21:21:36.260Z"
   },
   {
    "duration": 39,
    "start_time": "2023-05-02T21:21:36.270Z"
   },
   {
    "duration": 1957,
    "start_time": "2023-05-02T21:21:36.311Z"
   },
   {
    "duration": 6,
    "start_time": "2023-05-02T21:23:16.544Z"
   },
   {
    "duration": 3,
    "start_time": "2023-05-02T21:23:17.216Z"
   },
   {
    "duration": 18,
    "start_time": "2023-05-02T21:23:17.491Z"
   },
   {
    "duration": 1077,
    "start_time": "2023-05-02T21:23:17.949Z"
   },
   {
    "duration": 8,
    "start_time": "2023-05-02T21:24:06.660Z"
   },
   {
    "duration": 3,
    "start_time": "2023-05-02T21:24:07.328Z"
   },
   {
    "duration": 15,
    "start_time": "2023-05-02T21:24:07.653Z"
   },
   {
    "duration": 84935,
    "start_time": "2023-05-02T21:24:08.596Z"
   },
   {
    "duration": 5,
    "start_time": "2023-05-02T21:26:32.978Z"
   },
   {
    "duration": 7,
    "start_time": "2023-05-02T21:26:33.490Z"
   },
   {
    "duration": 13,
    "start_time": "2023-05-02T21:26:33.854Z"
   },
   {
    "duration": 431434,
    "start_time": "2023-05-02T21:26:34.547Z"
   },
   {
    "duration": 14,
    "start_time": "2023-05-02T21:59:29.729Z"
   },
   {
    "duration": 12,
    "start_time": "2023-05-02T21:59:52.542Z"
   },
   {
    "duration": 5,
    "start_time": "2023-05-02T22:01:24.378Z"
   },
   {
    "duration": 4,
    "start_time": "2023-05-02T22:01:37.075Z"
   },
   {
    "duration": 5,
    "start_time": "2023-05-02T22:05:50.705Z"
   },
   {
    "duration": 5,
    "start_time": "2023-05-02T22:05:53.056Z"
   },
   {
    "duration": 4,
    "start_time": "2023-05-02T22:05:57.652Z"
   },
   {
    "duration": 5,
    "start_time": "2023-05-02T22:06:40.511Z"
   },
   {
    "duration": 5,
    "start_time": "2023-05-02T22:06:53.793Z"
   },
   {
    "duration": 5,
    "start_time": "2023-05-02T22:06:58.330Z"
   },
   {
    "duration": 3,
    "start_time": "2023-05-02T22:06:58.906Z"
   },
   {
    "duration": 4,
    "start_time": "2023-05-02T22:07:08.829Z"
   },
   {
    "duration": 4,
    "start_time": "2023-05-02T22:07:09.261Z"
   },
   {
    "duration": 13,
    "start_time": "2023-05-02T22:07:26.541Z"
   },
   {
    "duration": 4,
    "start_time": "2023-05-02T22:07:43.657Z"
   },
   {
    "duration": 4,
    "start_time": "2023-05-02T22:07:44.076Z"
   },
   {
    "duration": 5,
    "start_time": "2023-05-02T22:07:52.304Z"
   },
   {
    "duration": 4,
    "start_time": "2023-05-02T22:07:54.831Z"
   },
   {
    "duration": 4,
    "start_time": "2023-05-02T22:09:59.749Z"
   },
   {
    "duration": 5,
    "start_time": "2023-05-02T22:10:00.265Z"
   },
   {
    "duration": 386518,
    "start_time": "2023-05-02T22:10:29.452Z"
   },
   {
    "duration": 13,
    "start_time": "2023-05-02T22:16:55.972Z"
   },
   {
    "duration": 20,
    "start_time": "2023-05-02T22:16:55.986Z"
   },
   {
    "duration": 10,
    "start_time": "2023-05-02T22:16:56.008Z"
   },
   {
    "duration": 436,
    "start_time": "2023-05-02T22:16:56.032Z"
   },
   {
    "duration": 3,
    "start_time": "2023-05-02T22:57:32.687Z"
   },
   {
    "duration": 12,
    "start_time": "2023-05-02T22:57:34.213Z"
   },
   {
    "duration": 3,
    "start_time": "2023-05-02T22:57:51.623Z"
   },
   {
    "duration": 13,
    "start_time": "2023-05-02T22:57:53.091Z"
   },
   {
    "duration": 140092,
    "start_time": "2023-05-02T22:58:06.061Z"
   },
   {
    "duration": 11,
    "start_time": "2023-05-02T23:00:28.548Z"
   },
   {
    "duration": 5,
    "start_time": "2023-05-02T23:01:00.396Z"
   },
   {
    "duration": 3,
    "start_time": "2023-05-02T23:01:01.916Z"
   },
   {
    "duration": 13,
    "start_time": "2023-05-02T23:01:02.915Z"
   },
   {
    "duration": 3,
    "start_time": "2023-05-02T23:01:43.928Z"
   },
   {
    "duration": 11,
    "start_time": "2023-05-02T23:01:43.933Z"
   },
   {
    "duration": 12,
    "start_time": "2023-05-02T23:01:43.946Z"
   },
   {
    "duration": 14,
    "start_time": "2023-05-02T23:01:43.960Z"
   },
   {
    "duration": 1348,
    "start_time": "2023-05-02T23:01:43.975Z"
   },
   {
    "duration": 3,
    "start_time": "2023-05-02T23:01:45.324Z"
   },
   {
    "duration": 689,
    "start_time": "2023-05-02T23:01:45.328Z"
   },
   {
    "duration": 36,
    "start_time": "2023-05-02T23:01:46.018Z"
   },
   {
    "duration": 3,
    "start_time": "2023-05-02T23:01:46.056Z"
   },
   {
    "duration": 68,
    "start_time": "2023-05-02T23:01:46.061Z"
   },
   {
    "duration": 6,
    "start_time": "2023-05-02T23:01:46.130Z"
   },
   {
    "duration": 7,
    "start_time": "2023-05-02T23:01:46.138Z"
   },
   {
    "duration": 2,
    "start_time": "2023-05-02T23:01:46.147Z"
   },
   {
    "duration": 42,
    "start_time": "2023-05-02T23:01:46.151Z"
   },
   {
    "duration": 20,
    "start_time": "2023-05-02T23:01:46.194Z"
   },
   {
    "duration": 23,
    "start_time": "2023-05-02T23:01:46.215Z"
   },
   {
    "duration": 16,
    "start_time": "2023-05-02T23:01:46.239Z"
   },
   {
    "duration": 3696,
    "start_time": "2023-05-02T23:01:46.259Z"
   },
   {
    "duration": 3,
    "start_time": "2023-05-02T23:01:49.957Z"
   },
   {
    "duration": 7,
    "start_time": "2023-05-02T23:01:49.961Z"
   },
   {
    "duration": 22,
    "start_time": "2023-05-02T23:01:49.969Z"
   },
   {
    "duration": 3,
    "start_time": "2023-05-02T23:01:49.993Z"
   },
   {
    "duration": 226,
    "start_time": "2023-05-02T23:01:49.997Z"
   },
   {
    "duration": 573,
    "start_time": "2023-05-02T23:01:50.225Z"
   },
   {
    "duration": 360,
    "start_time": "2023-05-02T23:01:50.800Z"
   },
   {
    "duration": 523,
    "start_time": "2023-05-02T23:01:51.162Z"
   },
   {
    "duration": 397,
    "start_time": "2023-05-02T23:01:51.687Z"
   },
   {
    "duration": 3,
    "start_time": "2023-05-02T23:01:52.091Z"
   },
   {
    "duration": 10,
    "start_time": "2023-05-02T23:01:52.095Z"
   },
   {
    "duration": 480,
    "start_time": "2023-05-02T23:01:52.106Z"
   },
   {
    "duration": 11,
    "start_time": "2023-05-02T23:01:52.587Z"
   },
   {
    "duration": 179,
    "start_time": "2023-05-02T23:01:52.600Z"
   },
   {
    "duration": 301,
    "start_time": "2023-05-02T23:01:52.781Z"
   },
   {
    "duration": 4,
    "start_time": "2023-05-02T23:01:53.091Z"
   },
   {
    "duration": 785,
    "start_time": "2023-05-02T23:01:53.096Z"
   },
   {
    "duration": 44,
    "start_time": "2023-05-02T23:01:53.883Z"
   },
   {
    "duration": 10,
    "start_time": "2023-05-02T23:01:53.929Z"
   },
   {
    "duration": 25,
    "start_time": "2023-05-02T23:01:53.940Z"
   },
   {
    "duration": 36,
    "start_time": "2023-05-02T23:01:53.966Z"
   },
   {
    "duration": 3,
    "start_time": "2023-05-02T23:01:54.003Z"
   },
   {
    "duration": 13,
    "start_time": "2023-05-02T23:01:54.007Z"
   },
   {
    "duration": 12,
    "start_time": "2023-05-02T23:01:54.021Z"
   },
   {
    "duration": 18,
    "start_time": "2023-05-02T23:01:54.035Z"
   },
   {
    "duration": 7,
    "start_time": "2023-05-02T23:01:54.055Z"
   },
   {
    "duration": 5,
    "start_time": "2023-05-02T23:01:54.064Z"
   },
   {
    "duration": 18,
    "start_time": "2023-05-02T23:01:54.070Z"
   },
   {
    "duration": 16,
    "start_time": "2023-05-02T23:01:54.090Z"
   },
   {
    "duration": 106,
    "start_time": "2023-05-02T23:01:54.108Z"
   },
   {
    "duration": 0,
    "start_time": "2023-05-02T23:01:54.215Z"
   },
   {
    "duration": 0,
    "start_time": "2023-05-02T23:01:54.216Z"
   },
   {
    "duration": 0,
    "start_time": "2023-05-02T23:01:54.217Z"
   },
   {
    "duration": 0,
    "start_time": "2023-05-02T23:01:54.219Z"
   },
   {
    "duration": 0,
    "start_time": "2023-05-02T23:01:54.220Z"
   },
   {
    "duration": 0,
    "start_time": "2023-05-02T23:01:54.221Z"
   },
   {
    "duration": 0,
    "start_time": "2023-05-02T23:01:54.222Z"
   },
   {
    "duration": 0,
    "start_time": "2023-05-02T23:01:54.222Z"
   },
   {
    "duration": 0,
    "start_time": "2023-05-02T23:01:54.223Z"
   },
   {
    "duration": 0,
    "start_time": "2023-05-02T23:01:54.224Z"
   },
   {
    "duration": 5,
    "start_time": "2023-05-02T23:02:10.564Z"
   },
   {
    "duration": 9,
    "start_time": "2023-05-02T23:02:21.692Z"
   },
   {
    "duration": 3,
    "start_time": "2023-05-02T23:03:29.083Z"
   },
   {
    "duration": 15,
    "start_time": "2023-05-02T23:03:30.539Z"
   },
   {
    "duration": 358870,
    "start_time": "2023-05-02T23:03:33.981Z"
   },
   {
    "duration": 11,
    "start_time": "2023-05-02T23:09:32.853Z"
   },
   {
    "duration": 8,
    "start_time": "2023-05-02T23:09:32.865Z"
   },
   {
    "duration": 6,
    "start_time": "2023-05-02T23:09:32.875Z"
   },
   {
    "duration": 217477,
    "start_time": "2023-05-02T23:09:32.882Z"
   },
   {
    "duration": 12,
    "start_time": "2023-05-02T23:13:10.361Z"
   },
   {
    "duration": 9,
    "start_time": "2023-05-02T23:13:10.374Z"
   },
   {
    "duration": 296878,
    "start_time": "2023-05-02T23:13:10.384Z"
   },
   {
    "duration": 5,
    "start_time": "2023-05-03T00:37:26.850Z"
   },
   {
    "duration": 4,
    "start_time": "2023-05-03T08:54:46.019Z"
   },
   {
    "duration": 31,
    "start_time": "2023-05-03T08:54:46.026Z"
   },
   {
    "duration": 21,
    "start_time": "2023-05-03T08:54:46.060Z"
   },
   {
    "duration": 12,
    "start_time": "2023-05-03T08:54:46.083Z"
   },
   {
    "duration": 2292,
    "start_time": "2023-05-03T08:54:46.097Z"
   },
   {
    "duration": 3,
    "start_time": "2023-05-03T08:54:48.391Z"
   },
   {
    "duration": 4001,
    "start_time": "2023-05-03T08:54:48.396Z"
   },
   {
    "duration": 81,
    "start_time": "2023-05-03T08:54:52.399Z"
   },
   {
    "duration": 16,
    "start_time": "2023-05-03T08:54:52.482Z"
   },
   {
    "duration": 166,
    "start_time": "2023-05-03T08:54:52.501Z"
   },
   {
    "duration": 14,
    "start_time": "2023-05-03T08:54:52.670Z"
   },
   {
    "duration": 93,
    "start_time": "2023-05-03T08:54:52.686Z"
   },
   {
    "duration": 22,
    "start_time": "2023-05-03T08:54:52.782Z"
   },
   {
    "duration": 102,
    "start_time": "2023-05-03T08:54:52.806Z"
   },
   {
    "duration": 57,
    "start_time": "2023-05-03T08:54:52.910Z"
   },
   {
    "duration": 26,
    "start_time": "2023-05-03T08:54:52.968Z"
   },
   {
    "duration": 31,
    "start_time": "2023-05-03T08:54:52.995Z"
   },
   {
    "duration": 12834,
    "start_time": "2023-05-03T08:54:53.030Z"
   },
   {
    "duration": 4,
    "start_time": "2023-05-03T08:55:05.919Z"
   },
   {
    "duration": 78,
    "start_time": "2023-05-03T08:55:05.925Z"
   },
   {
    "duration": 139,
    "start_time": "2023-05-03T08:55:06.006Z"
   },
   {
    "duration": 30,
    "start_time": "2023-05-03T08:55:06.148Z"
   },
   {
    "duration": 775,
    "start_time": "2023-05-03T08:55:06.180Z"
   },
   {
    "duration": 1515,
    "start_time": "2023-05-03T08:55:06.959Z"
   },
   {
    "duration": 982,
    "start_time": "2023-05-03T08:55:08.476Z"
   },
   {
    "duration": 1286,
    "start_time": "2023-05-03T08:55:09.460Z"
   },
   {
    "duration": 1088,
    "start_time": "2023-05-03T08:55:10.748Z"
   },
   {
    "duration": 4,
    "start_time": "2023-05-03T08:55:11.839Z"
   },
   {
    "duration": 92,
    "start_time": "2023-05-03T08:55:11.850Z"
   },
   {
    "duration": 1768,
    "start_time": "2023-05-03T08:55:11.950Z"
   },
   {
    "duration": 17,
    "start_time": "2023-05-03T08:55:13.721Z"
   },
   {
    "duration": 621,
    "start_time": "2023-05-03T08:55:13.741Z"
   },
   {
    "duration": 857,
    "start_time": "2023-05-03T08:55:14.365Z"
   },
   {
    "duration": 7,
    "start_time": "2023-05-03T08:55:15.225Z"
   },
   {
    "duration": 2720,
    "start_time": "2023-05-03T08:55:15.235Z"
   },
   {
    "duration": 187,
    "start_time": "2023-05-03T08:55:17.959Z"
   },
   {
    "duration": 28,
    "start_time": "2023-05-03T08:55:18.154Z"
   },
   {
    "duration": 137,
    "start_time": "2023-05-03T08:55:18.184Z"
   },
   {
    "duration": 104,
    "start_time": "2023-05-03T08:55:18.322Z"
   },
   {
    "duration": 51,
    "start_time": "2023-05-03T08:55:18.429Z"
   },
   {
    "duration": 94,
    "start_time": "2023-05-03T08:55:18.482Z"
   },
   {
    "duration": 43,
    "start_time": "2023-05-03T08:55:18.579Z"
   },
   {
    "duration": 52,
    "start_time": "2023-05-03T08:55:18.626Z"
   },
   {
    "duration": 38,
    "start_time": "2023-05-03T08:55:18.680Z"
   },
   {
    "duration": 38,
    "start_time": "2023-05-03T08:55:18.721Z"
   },
   {
    "duration": 34,
    "start_time": "2023-05-03T08:55:18.761Z"
   },
   {
    "duration": 69,
    "start_time": "2023-05-03T08:55:18.798Z"
   },
   {
    "duration": 80893,
    "start_time": "2023-05-03T08:55:18.869Z"
   },
   {
    "duration": 7978,
    "start_time": "2023-05-03T08:56:39.764Z"
   },
   {
    "duration": 16411,
    "start_time": "2023-05-03T08:56:47.747Z"
   },
   {
    "duration": 1930,
    "start_time": "2023-05-03T08:57:04.161Z"
   },
   {
    "duration": 13690,
    "start_time": "2023-05-03T08:57:06.092Z"
   },
   {
    "duration": 1236,
    "start_time": "2023-05-03T08:57:19.784Z"
   },
   {
    "duration": 17,
    "start_time": "2023-05-03T08:57:21.023Z"
   },
   {
    "duration": 248410,
    "start_time": "2023-05-03T08:57:21.042Z"
   },
   {
    "duration": 46348,
    "start_time": "2023-05-03T09:01:29.455Z"
   },
   {
    "duration": 5,
    "start_time": "2023-05-03T09:02:15.805Z"
   },
   {
    "duration": 30,
    "start_time": "2023-05-03T09:02:15.812Z"
   },
   {
    "duration": 35,
    "start_time": "2023-05-03T09:02:15.845Z"
   },
   {
    "duration": 537198,
    "start_time": "2023-05-03T09:02:15.883Z"
   },
   {
    "duration": 20,
    "start_time": "2023-05-03T09:11:13.084Z"
   },
   {
    "duration": 38,
    "start_time": "2023-05-03T09:11:13.106Z"
   },
   {
    "duration": 25,
    "start_time": "2023-05-03T09:11:13.147Z"
   },
   {
    "duration": 341076,
    "start_time": "2023-05-03T09:11:13.175Z"
   },
   {
    "duration": 19,
    "start_time": "2023-05-03T09:16:54.254Z"
   },
   {
    "duration": 17,
    "start_time": "2023-05-03T09:16:54.274Z"
   },
   {
    "duration": 38,
    "start_time": "2023-05-03T09:16:54.294Z"
   },
   {
    "duration": 70,
    "start_time": "2023-05-03T09:16:54.337Z"
   },
   {
    "duration": 4,
    "start_time": "2023-05-03T10:01:38.173Z"
   },
   {
    "duration": 324072,
    "start_time": "2023-05-03T10:01:42.588Z"
   },
   {
    "duration": 4,
    "start_time": "2023-05-03T10:07:06.663Z"
   },
   {
    "duration": 375668,
    "start_time": "2023-05-03T10:07:06.669Z"
   },
   {
    "duration": 19,
    "start_time": "2023-05-03T10:13:22.340Z"
   },
   {
    "duration": 7,
    "start_time": "2023-05-03T10:13:35.553Z"
   },
   {
    "duration": 7,
    "start_time": "2023-05-03T10:13:38.888Z"
   },
   {
    "duration": 4,
    "start_time": "2023-05-03T10:19:40.838Z"
   },
   {
    "duration": 21,
    "start_time": "2023-05-03T10:19:40.845Z"
   },
   {
    "duration": 32,
    "start_time": "2023-05-03T10:19:40.868Z"
   },
   {
    "duration": 20,
    "start_time": "2023-05-03T10:19:40.902Z"
   },
   {
    "duration": 1906,
    "start_time": "2023-05-03T10:19:40.925Z"
   },
   {
    "duration": 6,
    "start_time": "2023-05-03T10:19:42.834Z"
   },
   {
    "duration": 793,
    "start_time": "2023-05-03T10:19:42.847Z"
   },
   {
    "duration": 53,
    "start_time": "2023-05-03T10:19:43.642Z"
   },
   {
    "duration": 20,
    "start_time": "2023-05-03T10:19:43.698Z"
   },
   {
    "duration": 107,
    "start_time": "2023-05-03T10:19:43.721Z"
   },
   {
    "duration": 11,
    "start_time": "2023-05-03T10:19:43.830Z"
   },
   {
    "duration": 40,
    "start_time": "2023-05-03T10:19:43.843Z"
   },
   {
    "duration": 41,
    "start_time": "2023-05-03T10:19:43.887Z"
   },
   {
    "duration": 71,
    "start_time": "2023-05-03T10:19:43.931Z"
   },
   {
    "duration": 50,
    "start_time": "2023-05-03T10:19:44.005Z"
   },
   {
    "duration": 61,
    "start_time": "2023-05-03T10:19:44.058Z"
   },
   {
    "duration": 26,
    "start_time": "2023-05-03T10:19:44.121Z"
   },
   {
    "duration": 5098,
    "start_time": "2023-05-03T10:19:44.150Z"
   },
   {
    "duration": 4,
    "start_time": "2023-05-03T10:19:49.250Z"
   },
   {
    "duration": 10,
    "start_time": "2023-05-03T10:19:49.256Z"
   },
   {
    "duration": 27,
    "start_time": "2023-05-03T10:19:49.269Z"
   },
   {
    "duration": 26,
    "start_time": "2023-05-03T10:19:49.298Z"
   },
   {
    "duration": 264,
    "start_time": "2023-05-03T10:19:49.326Z"
   },
   {
    "duration": 729,
    "start_time": "2023-05-03T10:19:49.592Z"
   },
   {
    "duration": 387,
    "start_time": "2023-05-03T10:19:50.324Z"
   },
   {
    "duration": 576,
    "start_time": "2023-05-03T10:19:50.713Z"
   },
   {
    "duration": 452,
    "start_time": "2023-05-03T10:19:51.291Z"
   },
   {
    "duration": 4,
    "start_time": "2023-05-03T10:19:51.745Z"
   },
   {
    "duration": 58,
    "start_time": "2023-05-03T10:19:51.751Z"
   },
   {
    "duration": 820,
    "start_time": "2023-05-03T10:19:51.812Z"
   },
   {
    "duration": 16,
    "start_time": "2023-05-03T10:19:52.633Z"
   },
   {
    "duration": 317,
    "start_time": "2023-05-03T10:19:52.652Z"
   },
   {
    "duration": 365,
    "start_time": "2023-05-03T10:19:52.972Z"
   },
   {
    "duration": 5,
    "start_time": "2023-05-03T10:19:53.339Z"
   },
   {
    "duration": 952,
    "start_time": "2023-05-03T10:19:53.347Z"
   },
   {
    "duration": 61,
    "start_time": "2023-05-03T10:19:54.301Z"
   },
   {
    "duration": 14,
    "start_time": "2023-05-03T10:19:54.367Z"
   },
   {
    "duration": 50,
    "start_time": "2023-05-03T10:19:54.383Z"
   },
   {
    "duration": 21,
    "start_time": "2023-05-03T10:19:54.435Z"
   },
   {
    "duration": 6,
    "start_time": "2023-05-03T10:19:54.458Z"
   },
   {
    "duration": 17,
    "start_time": "2023-05-03T10:19:54.466Z"
   },
   {
    "duration": 14,
    "start_time": "2023-05-03T10:19:54.485Z"
   },
   {
    "duration": 20,
    "start_time": "2023-05-03T10:19:54.501Z"
   },
   {
    "duration": 33,
    "start_time": "2023-05-03T10:19:54.523Z"
   },
   {
    "duration": 22,
    "start_time": "2023-05-03T10:19:54.559Z"
   },
   {
    "duration": 31,
    "start_time": "2023-05-03T10:19:54.583Z"
   },
   {
    "duration": 68244,
    "start_time": "2023-05-03T10:19:54.615Z"
   },
   {
    "duration": 4064,
    "start_time": "2023-05-03T10:21:02.861Z"
   },
   {
    "duration": 18,
    "start_time": "2023-05-03T10:21:06.929Z"
   },
   {
    "duration": 14796,
    "start_time": "2023-05-03T10:21:06.950Z"
   },
   {
    "duration": 1998,
    "start_time": "2023-05-03T10:21:21.748Z"
   },
   {
    "duration": 11423,
    "start_time": "2023-05-03T10:21:23.748Z"
   },
   {
    "duration": 1176,
    "start_time": "2023-05-03T10:21:35.173Z"
   },
   {
    "duration": 11,
    "start_time": "2023-05-03T10:21:36.352Z"
   },
   {
    "duration": 4,
    "start_time": "2023-05-03T10:23:08.333Z"
   },
   {
    "duration": 26,
    "start_time": "2023-05-03T10:23:08.340Z"
   },
   {
    "duration": 19,
    "start_time": "2023-05-03T10:23:08.368Z"
   },
   {
    "duration": 17,
    "start_time": "2023-05-03T10:23:08.389Z"
   },
   {
    "duration": 1596,
    "start_time": "2023-05-03T10:23:08.410Z"
   },
   {
    "duration": 3,
    "start_time": "2023-05-03T10:23:10.008Z"
   },
   {
    "duration": 753,
    "start_time": "2023-05-03T10:23:10.013Z"
   },
   {
    "duration": 60,
    "start_time": "2023-05-03T10:23:10.768Z"
   },
   {
    "duration": 5,
    "start_time": "2023-05-03T10:23:10.830Z"
   },
   {
    "duration": 99,
    "start_time": "2023-05-03T10:23:10.837Z"
   },
   {
    "duration": 11,
    "start_time": "2023-05-03T10:23:10.938Z"
   },
   {
    "duration": 14,
    "start_time": "2023-05-03T10:23:10.952Z"
   },
   {
    "duration": 4,
    "start_time": "2023-05-03T10:23:10.969Z"
   },
   {
    "duration": 54,
    "start_time": "2023-05-03T10:23:10.977Z"
   },
   {
    "duration": 34,
    "start_time": "2023-05-03T10:23:11.033Z"
   },
   {
    "duration": 33,
    "start_time": "2023-05-03T10:23:11.070Z"
   },
   {
    "duration": 29,
    "start_time": "2023-05-03T10:23:11.105Z"
   },
   {
    "duration": 7158,
    "start_time": "2023-05-03T10:23:11.136Z"
   },
   {
    "duration": 3,
    "start_time": "2023-05-03T10:23:18.296Z"
   },
   {
    "duration": 21,
    "start_time": "2023-05-03T10:23:18.301Z"
   },
   {
    "duration": 31,
    "start_time": "2023-05-03T10:23:18.324Z"
   },
   {
    "duration": 6,
    "start_time": "2023-05-03T10:23:18.357Z"
   },
   {
    "duration": 251,
    "start_time": "2023-05-03T10:23:18.365Z"
   },
   {
    "duration": 640,
    "start_time": "2023-05-03T10:23:18.619Z"
   },
   {
    "duration": 556,
    "start_time": "2023-05-03T10:23:19.262Z"
   },
   {
    "duration": 567,
    "start_time": "2023-05-03T10:23:19.820Z"
   },
   {
    "duration": 455,
    "start_time": "2023-05-03T10:23:20.389Z"
   },
   {
    "duration": 4,
    "start_time": "2023-05-03T10:23:20.846Z"
   },
   {
    "duration": 29,
    "start_time": "2023-05-03T10:23:20.852Z"
   },
   {
    "duration": 629,
    "start_time": "2023-05-03T10:23:20.883Z"
   },
   {
    "duration": 14,
    "start_time": "2023-05-03T10:23:21.517Z"
   },
   {
    "duration": 238,
    "start_time": "2023-05-03T10:23:21.532Z"
   },
   {
    "duration": 432,
    "start_time": "2023-05-03T10:23:21.773Z"
   },
   {
    "duration": 11,
    "start_time": "2023-05-03T10:23:22.207Z"
   },
   {
    "duration": 1035,
    "start_time": "2023-05-03T10:23:22.220Z"
   },
   {
    "duration": 70,
    "start_time": "2023-05-03T10:23:23.257Z"
   },
   {
    "duration": 16,
    "start_time": "2023-05-03T10:23:23.329Z"
   },
   {
    "duration": 51,
    "start_time": "2023-05-03T10:23:23.346Z"
   },
   {
    "duration": 50,
    "start_time": "2023-05-03T10:23:23.399Z"
   },
   {
    "duration": 34,
    "start_time": "2023-05-03T10:23:23.451Z"
   },
   {
    "duration": 71,
    "start_time": "2023-05-03T10:23:23.490Z"
   },
   {
    "duration": 27,
    "start_time": "2023-05-03T10:23:23.564Z"
   },
   {
    "duration": 29,
    "start_time": "2023-05-03T10:23:23.593Z"
   },
   {
    "duration": 47,
    "start_time": "2023-05-03T10:23:23.624Z"
   },
   {
    "duration": 69,
    "start_time": "2023-05-03T10:23:23.673Z"
   },
   {
    "duration": 65,
    "start_time": "2023-05-03T10:23:23.745Z"
   },
   {
    "duration": 53431,
    "start_time": "2023-05-03T10:23:23.812Z"
   },
   {
    "duration": 3779,
    "start_time": "2023-05-03T10:24:17.245Z"
   },
   {
    "duration": 40,
    "start_time": "2023-05-03T10:24:21.093Z"
   },
   {
    "duration": 9,
    "start_time": "2023-05-03T10:25:01.433Z"
   },
   {
    "duration": 9,
    "start_time": "2023-05-03T10:26:09.583Z"
   },
   {
    "duration": 13,
    "start_time": "2023-05-03T10:26:13.627Z"
   },
   {
    "duration": 12,
    "start_time": "2023-05-03T10:26:18.210Z"
   },
   {
    "duration": 11,
    "start_time": "2023-05-03T10:26:25.030Z"
   },
   {
    "duration": 8,
    "start_time": "2023-05-03T10:26:37.575Z"
   },
   {
    "duration": 14541,
    "start_time": "2023-05-03T10:26:41.897Z"
   },
   {
    "duration": 1790,
    "start_time": "2023-05-03T10:26:56.440Z"
   },
   {
    "duration": 11458,
    "start_time": "2023-05-03T10:26:58.233Z"
   },
   {
    "duration": 1156,
    "start_time": "2023-05-03T10:27:09.693Z"
   },
   {
    "duration": 137,
    "start_time": "2023-05-03T10:27:10.850Z"
   },
   {
    "duration": 8,
    "start_time": "2023-05-03T10:27:28.069Z"
   },
   {
    "duration": 229997,
    "start_time": "2023-05-03T10:27:36.295Z"
   },
   {
    "duration": 43630,
    "start_time": "2023-05-03T10:31:26.294Z"
   },
   {
    "duration": 12,
    "start_time": "2023-05-03T10:32:09.926Z"
   },
   {
    "duration": 6,
    "start_time": "2023-05-03T10:32:09.941Z"
   },
   {
    "duration": 11,
    "start_time": "2023-05-03T10:32:09.948Z"
   },
   {
    "duration": 25,
    "start_time": "2023-05-03T10:32:09.960Z"
   },
   {
    "duration": 433004,
    "start_time": "2023-05-03T10:32:09.987Z"
   },
   {
    "duration": 13,
    "start_time": "2023-05-03T10:39:22.994Z"
   },
   {
    "duration": 14,
    "start_time": "2023-05-03T10:39:23.008Z"
   },
   {
    "duration": 16,
    "start_time": "2023-05-03T10:39:23.024Z"
   },
   {
    "duration": 0,
    "start_time": "2023-05-03T10:39:49.324Z"
   },
   {
    "duration": 0,
    "start_time": "2023-05-03T10:39:49.326Z"
   },
   {
    "duration": 0,
    "start_time": "2023-05-03T10:39:49.328Z"
   },
   {
    "duration": 0,
    "start_time": "2023-05-03T10:39:49.329Z"
   },
   {
    "duration": 0,
    "start_time": "2023-05-03T10:39:49.331Z"
   },
   {
    "duration": 0,
    "start_time": "2023-05-03T10:39:49.333Z"
   },
   {
    "duration": 0,
    "start_time": "2023-05-03T10:39:49.335Z"
   },
   {
    "duration": 0,
    "start_time": "2023-05-03T10:39:49.336Z"
   },
   {
    "duration": 6,
    "start_time": "2023-05-03T10:39:53.476Z"
   },
   {
    "duration": 5,
    "start_time": "2023-05-03T10:39:55.711Z"
   },
   {
    "duration": 5,
    "start_time": "2023-05-03T10:39:57.576Z"
   },
   {
    "duration": 258954,
    "start_time": "2023-05-03T10:39:58.040Z"
   },
   {
    "duration": 4,
    "start_time": "2023-05-03T10:44:16.996Z"
   },
   {
    "duration": 311578,
    "start_time": "2023-05-03T10:44:17.003Z"
   },
   {
    "duration": 14,
    "start_time": "2023-05-03T10:49:28.583Z"
   },
   {
    "duration": 93,
    "start_time": "2023-05-03T10:49:28.599Z"
   },
   {
    "duration": 98,
    "start_time": "2023-05-03T10:49:28.695Z"
   },
   {
    "duration": 31,
    "start_time": "2023-05-03T10:49:28.795Z"
   },
   {
    "duration": 5,
    "start_time": "2023-05-03T11:12:30.907Z"
   },
   {
    "duration": 9,
    "start_time": "2023-05-03T11:12:31.719Z"
   },
   {
    "duration": 13,
    "start_time": "2023-05-03T11:12:42.482Z"
   },
   {
    "duration": 11,
    "start_time": "2023-05-03T11:23:23.047Z"
   },
   {
    "duration": 9,
    "start_time": "2023-05-03T11:23:30.855Z"
   },
   {
    "duration": 5,
    "start_time": "2023-05-03T11:24:09.799Z"
   },
   {
    "duration": 5,
    "start_time": "2023-05-03T11:24:34.207Z"
   },
   {
    "duration": 5,
    "start_time": "2023-05-03T11:26:04.239Z"
   },
   {
    "duration": 7,
    "start_time": "2023-05-03T11:26:04.803Z"
   },
   {
    "duration": 470716,
    "start_time": "2023-05-03T11:26:05.597Z"
   },
   {
    "duration": 17,
    "start_time": "2023-05-03T11:33:56.377Z"
   },
   {
    "duration": 10,
    "start_time": "2023-05-03T11:33:56.397Z"
   },
   {
    "duration": 32,
    "start_time": "2023-05-03T11:33:56.409Z"
   },
   {
    "duration": 12,
    "start_time": "2023-05-03T11:33:56.451Z"
   },
   {
    "duration": 10,
    "start_time": "2023-05-03T11:33:56.466Z"
   },
   {
    "duration": 10,
    "start_time": "2023-05-03T11:33:56.478Z"
   },
   {
    "duration": 30,
    "start_time": "2023-05-03T11:33:56.490Z"
   },
   {
    "duration": 458438,
    "start_time": "2023-05-03T11:33:56.535Z"
   },
   {
    "duration": 8,
    "start_time": "2023-05-03T11:41:34.976Z"
   },
   {
    "duration": 24,
    "start_time": "2023-05-03T11:41:34.987Z"
   },
   {
    "duration": 74,
    "start_time": "2023-05-03T11:41:35.014Z"
   },
   {
    "duration": 77,
    "start_time": "2023-05-03T11:41:35.091Z"
   },
   {
    "duration": 39,
    "start_time": "2023-05-03T11:42:09.406Z"
   },
   {
    "duration": 55,
    "start_time": "2023-05-03T11:42:19.203Z"
   },
   {
    "duration": 41,
    "start_time": "2023-05-03T11:42:35.944Z"
   },
   {
    "duration": 36,
    "start_time": "2023-05-03T11:42:46.640Z"
   },
   {
    "duration": 5,
    "start_time": "2023-05-03T11:42:51.949Z"
   },
   {
    "duration": 18,
    "start_time": "2023-05-03T11:42:53.017Z"
   },
   {
    "duration": 13,
    "start_time": "2023-05-03T11:43:08.722Z"
   },
   {
    "duration": 37,
    "start_time": "2023-05-03T11:44:31.161Z"
   },
   {
    "duration": 49,
    "start_time": "2023-05-03T11:44:32.453Z"
   },
   {
    "duration": 7,
    "start_time": "2023-05-03T11:44:37.116Z"
   },
   {
    "duration": 28,
    "start_time": "2023-05-03T11:44:37.917Z"
   },
   {
    "duration": 492507,
    "start_time": "2023-05-03T11:44:40.106Z"
   },
   {
    "duration": 44,
    "start_time": "2023-05-03T11:52:52.751Z"
   },
   {
    "duration": 65,
    "start_time": "2023-05-03T11:52:52.797Z"
   },
   {
    "duration": 45,
    "start_time": "2023-05-03T11:52:52.864Z"
   },
   {
    "duration": 1070,
    "start_time": "2023-05-03T11:58:37.754Z"
   },
   {
    "duration": 910,
    "start_time": "2023-05-03T12:00:02.311Z"
   },
   {
    "duration": 3,
    "start_time": "2023-05-03T13:51:27.758Z"
   },
   {
    "duration": 8,
    "start_time": "2023-05-03T13:51:31.343Z"
   },
   {
    "duration": 448054,
    "start_time": "2023-05-03T13:51:35.124Z"
   },
   {
    "duration": 6,
    "start_time": "2023-05-03T13:59:03.187Z"
   },
   {
    "duration": 53,
    "start_time": "2023-05-03T13:59:03.195Z"
   },
   {
    "duration": 12,
    "start_time": "2023-05-03T13:59:03.252Z"
   },
   {
    "duration": 10,
    "start_time": "2023-05-03T14:05:48.862Z"
   },
   {
    "duration": 3,
    "start_time": "2023-05-03T14:05:53.340Z"
   },
   {
    "duration": 10,
    "start_time": "2023-05-03T14:05:55.558Z"
   },
   {
    "duration": 6,
    "start_time": "2023-05-03T14:06:09.039Z"
   },
   {
    "duration": 8,
    "start_time": "2023-05-03T14:06:18.043Z"
   },
   {
    "duration": 5,
    "start_time": "2023-05-03T14:06:23.045Z"
   },
   {
    "duration": 12,
    "start_time": "2023-05-03T14:06:26.574Z"
   },
   {
    "duration": 4,
    "start_time": "2023-05-03T14:06:40.153Z"
   },
   {
    "duration": 10,
    "start_time": "2023-05-03T14:06:43.349Z"
   },
   {
    "duration": 286310,
    "start_time": "2023-05-03T14:06:44.553Z"
   },
   {
    "duration": 7,
    "start_time": "2023-05-03T14:11:30.865Z"
   },
   {
    "duration": 115,
    "start_time": "2023-05-03T14:11:30.874Z"
   },
   {
    "duration": 108,
    "start_time": "2023-05-03T14:11:30.991Z"
   },
   {
    "duration": 202,
    "start_time": "2023-05-03T14:11:31.101Z"
   },
   {
    "duration": 14,
    "start_time": "2023-05-03T14:12:27.873Z"
   },
   {
    "duration": 18,
    "start_time": "2023-05-03T14:12:38.546Z"
   },
   {
    "duration": 14,
    "start_time": "2023-05-03T14:12:39.492Z"
   },
   {
    "duration": 4,
    "start_time": "2023-05-03T14:12:45.668Z"
   },
   {
    "duration": 14,
    "start_time": "2023-05-03T14:12:47.647Z"
   },
   {
    "duration": 12,
    "start_time": "2023-05-03T14:13:11.349Z"
   },
   {
    "duration": 11,
    "start_time": "2023-05-03T14:13:16.338Z"
   },
   {
    "duration": 8,
    "start_time": "2023-05-03T14:13:16.992Z"
   },
   {
    "duration": 306762,
    "start_time": "2023-05-03T14:13:18.233Z"
   },
   {
    "duration": 7,
    "start_time": "2023-05-03T14:18:24.997Z"
   },
   {
    "duration": 88,
    "start_time": "2023-05-03T14:18:25.007Z"
   },
   {
    "duration": 69,
    "start_time": "2023-05-03T14:18:25.097Z"
   },
   {
    "duration": 6,
    "start_time": "2023-05-03T14:19:32.589Z"
   },
   {
    "duration": 378887,
    "start_time": "2023-05-03T14:19:35.539Z"
   },
   {
    "duration": 11,
    "start_time": "2023-05-03T14:25:54.429Z"
   },
   {
    "duration": 17,
    "start_time": "2023-05-03T14:25:54.447Z"
   },
   {
    "duration": 5,
    "start_time": "2023-05-03T14:26:19.237Z"
   },
   {
    "duration": 9,
    "start_time": "2023-05-03T14:26:19.744Z"
   },
   {
    "duration": 394747,
    "start_time": "2023-05-03T14:26:20.648Z"
   },
   {
    "duration": 9,
    "start_time": "2023-05-03T14:32:55.398Z"
   },
   {
    "duration": 50,
    "start_time": "2023-05-03T14:32:55.409Z"
   },
   {
    "duration": 4,
    "start_time": "2023-05-03T18:38:05.210Z"
   },
   {
    "duration": 4,
    "start_time": "2023-05-03T18:38:28.630Z"
   },
   {
    "duration": 3,
    "start_time": "2023-05-03T18:38:35.700Z"
   },
   {
    "duration": 4,
    "start_time": "2023-05-03T18:39:00.021Z"
   },
   {
    "duration": 7,
    "start_time": "2023-05-03T18:39:00.421Z"
   },
   {
    "duration": 238100,
    "start_time": "2023-05-03T18:39:01.037Z"
   },
   {
    "duration": 8,
    "start_time": "2023-05-03T18:42:59.139Z"
   },
   {
    "duration": 25,
    "start_time": "2023-05-03T18:42:59.149Z"
   },
   {
    "duration": 16,
    "start_time": "2023-05-03T18:47:41.749Z"
   },
   {
    "duration": 14,
    "start_time": "2023-05-03T18:47:45.578Z"
   },
   {
    "duration": 14,
    "start_time": "2023-05-03T18:47:51.861Z"
   },
   {
    "duration": 5,
    "start_time": "2023-05-03T18:48:23.130Z"
   },
   {
    "duration": 11,
    "start_time": "2023-05-03T18:48:24.781Z"
   },
   {
    "duration": 4,
    "start_time": "2023-05-03T18:56:08.739Z"
   },
   {
    "duration": 75281,
    "start_time": "2023-05-03T18:56:13.134Z"
   },
   {
    "duration": 13,
    "start_time": "2023-05-03T18:57:28.417Z"
   },
   {
    "duration": 27,
    "start_time": "2023-05-03T18:57:28.431Z"
   },
   {
    "duration": 84670,
    "start_time": "2023-05-03T18:57:28.461Z"
   },
   {
    "duration": 14,
    "start_time": "2023-05-03T18:58:53.132Z"
   },
   {
    "duration": 51,
    "start_time": "2023-05-03T18:58:53.147Z"
   },
   {
    "duration": 0,
    "start_time": "2023-05-03T18:58:53.221Z"
   },
   {
    "duration": 15,
    "start_time": "2023-05-03T18:59:04.453Z"
   },
   {
    "duration": 103,
    "start_time": "2023-05-03T18:59:05.605Z"
   },
   {
    "duration": 13,
    "start_time": "2023-05-03T18:59:07.053Z"
   },
   {
    "duration": 4,
    "start_time": "2023-05-03T18:59:29.344Z"
   },
   {
    "duration": 10,
    "start_time": "2023-05-03T18:59:34.732Z"
   },
   {
    "duration": 12,
    "start_time": "2023-05-03T18:59:39.654Z"
   },
   {
    "duration": 93,
    "start_time": "2023-05-03T18:59:57.464Z"
   },
   {
    "duration": 5,
    "start_time": "2023-05-03T18:59:57.929Z"
   },
   {
    "duration": 50,
    "start_time": "2023-05-03T19:00:03.815Z"
   },
   {
    "duration": 52,
    "start_time": "2023-05-03T19:00:06.463Z"
   },
   {
    "duration": 60,
    "start_time": "2023-05-03T19:00:42.014Z"
   },
   {
    "duration": 5,
    "start_time": "2023-05-03T19:00:43.343Z"
   },
   {
    "duration": 12,
    "start_time": "2023-05-03T19:00:45.974Z"
   },
   {
    "duration": 75,
    "start_time": "2023-05-03T19:00:51.058Z"
   },
   {
    "duration": 15,
    "start_time": "2023-05-03T19:01:07.072Z"
   },
   {
    "duration": 13,
    "start_time": "2023-05-03T19:01:15.576Z"
   },
   {
    "duration": 12,
    "start_time": "2023-05-03T19:01:19.794Z"
   },
   {
    "duration": 11,
    "start_time": "2023-05-03T19:01:34.487Z"
   },
   {
    "duration": 12,
    "start_time": "2023-05-03T19:01:38.544Z"
   },
   {
    "duration": 73,
    "start_time": "2023-05-03T19:01:48.122Z"
   },
   {
    "duration": 4,
    "start_time": "2023-05-03T19:01:50.323Z"
   },
   {
    "duration": 16,
    "start_time": "2023-05-03T19:01:51.210Z"
   },
   {
    "duration": 4,
    "start_time": "2023-05-03T19:02:00.110Z"
   },
   {
    "duration": 26,
    "start_time": "2023-05-03T19:05:52.759Z"
   },
   {
    "duration": 9,
    "start_time": "2023-05-03T19:05:59.394Z"
   },
   {
    "duration": 127,
    "start_time": "2023-05-03T19:06:01.245Z"
   },
   {
    "duration": 6,
    "start_time": "2023-05-03T19:06:01.571Z"
   },
   {
    "duration": 28,
    "start_time": "2023-05-03T19:06:15.222Z"
   },
   {
    "duration": 34,
    "start_time": "2023-05-03T19:06:25.883Z"
   },
   {
    "duration": 11,
    "start_time": "2023-05-03T19:06:28.849Z"
   },
   {
    "duration": 8,
    "start_time": "2023-05-03T19:06:34.827Z"
   },
   {
    "duration": 11,
    "start_time": "2023-05-03T19:06:50.877Z"
   },
   {
    "duration": 29,
    "start_time": "2023-05-03T19:06:56.593Z"
   },
   {
    "duration": 9,
    "start_time": "2023-05-03T19:07:26.036Z"
   },
   {
    "duration": 10,
    "start_time": "2023-05-03T19:07:30.982Z"
   },
   {
    "duration": 8,
    "start_time": "2023-05-03T19:07:34.376Z"
   },
   {
    "duration": 14,
    "start_time": "2023-05-03T19:07:37.633Z"
   },
   {
    "duration": 7,
    "start_time": "2023-05-03T19:07:40.903Z"
   },
   {
    "duration": 16,
    "start_time": "2023-05-03T19:07:50.092Z"
   },
   {
    "duration": 13,
    "start_time": "2023-05-03T19:07:59.414Z"
   },
   {
    "duration": 8,
    "start_time": "2023-05-03T19:08:00.689Z"
   },
   {
    "duration": 30,
    "start_time": "2023-05-03T19:08:03.402Z"
   },
   {
    "duration": 80,
    "start_time": "2023-05-03T19:08:53.293Z"
   },
   {
    "duration": 9,
    "start_time": "2023-05-03T19:08:55.590Z"
   },
   {
    "duration": 13,
    "start_time": "2023-05-03T19:09:01.215Z"
   },
   {
    "duration": 8,
    "start_time": "2023-05-03T19:09:18.382Z"
   },
   {
    "duration": 7,
    "start_time": "2023-05-03T19:09:21.602Z"
   },
   {
    "duration": 9,
    "start_time": "2023-05-03T19:09:30.446Z"
   },
   {
    "duration": 32,
    "start_time": "2023-05-03T19:09:35.858Z"
   },
   {
    "duration": 7,
    "start_time": "2023-05-03T19:09:56.654Z"
   },
   {
    "duration": 8,
    "start_time": "2023-05-03T19:09:59.198Z"
   },
   {
    "duration": 13,
    "start_time": "2023-05-03T19:10:01.829Z"
   },
   {
    "duration": 10,
    "start_time": "2023-05-03T19:10:04.516Z"
   },
   {
    "duration": 7,
    "start_time": "2023-05-03T19:10:05.082Z"
   },
   {
    "duration": 8,
    "start_time": "2023-05-03T19:10:07.840Z"
   },
   {
    "duration": 8,
    "start_time": "2023-05-03T19:10:08.706Z"
   },
   {
    "duration": 7,
    "start_time": "2023-05-03T19:10:11.001Z"
   },
   {
    "duration": 9,
    "start_time": "2023-05-03T19:10:13.082Z"
   },
   {
    "duration": 13,
    "start_time": "2023-05-03T19:10:16.131Z"
   },
   {
    "duration": 11,
    "start_time": "2023-05-03T19:10:16.499Z"
   },
   {
    "duration": 10,
    "start_time": "2023-05-03T19:10:16.781Z"
   },
   {
    "duration": 45,
    "start_time": "2023-05-03T19:10:17.282Z"
   },
   {
    "duration": 92,
    "start_time": "2023-05-03T19:10:26.881Z"
   },
   {
    "duration": 6,
    "start_time": "2023-05-03T19:10:27.498Z"
   },
   {
    "duration": 11,
    "start_time": "2023-05-03T19:11:11.295Z"
   },
   {
    "duration": 7,
    "start_time": "2023-05-03T19:11:19.004Z"
   },
   {
    "duration": 8,
    "start_time": "2023-05-03T19:11:52.937Z"
   },
   {
    "duration": 105,
    "start_time": "2023-05-03T19:11:53.740Z"
   },
   {
    "duration": 7,
    "start_time": "2023-05-03T19:11:54.188Z"
   },
   {
    "duration": 4,
    "start_time": "2023-05-03T19:14:45.210Z"
   },
   {
    "duration": 6,
    "start_time": "2023-05-03T19:14:50.406Z"
   },
   {
    "duration": 4,
    "start_time": "2023-05-03T19:14:54.985Z"
   },
   {
    "duration": 3,
    "start_time": "2023-05-03T19:14:58.536Z"
   },
   {
    "duration": 4,
    "start_time": "2023-05-03T19:16:49.950Z"
   },
   {
    "duration": 4,
    "start_time": "2023-05-03T19:16:52.880Z"
   },
   {
    "duration": 5,
    "start_time": "2023-05-03T19:17:16.120Z"
   },
   {
    "duration": 3,
    "start_time": "2023-05-03T19:17:17.001Z"
   },
   {
    "duration": 6,
    "start_time": "2023-05-03T19:18:11.281Z"
   },
   {
    "duration": 5,
    "start_time": "2023-05-03T19:18:12.427Z"
   },
   {
    "duration": 72,
    "start_time": "2023-05-03T19:18:12.895Z"
   },
   {
    "duration": 69,
    "start_time": "2023-05-03T19:18:22.745Z"
   },
   {
    "duration": 4,
    "start_time": "2023-05-03T19:18:44.148Z"
   },
   {
    "duration": 13,
    "start_time": "2023-05-03T19:18:50.481Z"
   },
   {
    "duration": 15,
    "start_time": "2023-05-03T19:19:18.054Z"
   },
   {
    "duration": 4,
    "start_time": "2023-05-03T19:19:23.619Z"
   },
   {
    "duration": 55,
    "start_time": "2023-05-03T19:19:25.395Z"
   },
   {
    "duration": 5,
    "start_time": "2023-05-03T19:19:31.796Z"
   },
   {
    "duration": 3,
    "start_time": "2023-05-03T19:19:33.056Z"
   },
   {
    "duration": 33508,
    "start_time": "2023-05-03T19:19:33.447Z"
   },
   {
    "duration": 6,
    "start_time": "2023-05-03T19:20:06.957Z"
   },
   {
    "duration": 5,
    "start_time": "2023-05-03T19:22:44.897Z"
   },
   {
    "duration": 10,
    "start_time": "2023-05-03T19:22:47.144Z"
   },
   {
    "duration": 368653,
    "start_time": "2023-05-03T19:22:51.737Z"
   },
   {
    "duration": 5,
    "start_time": "2023-05-03T19:29:00.393Z"
   },
   {
    "duration": 4,
    "start_time": "2023-05-03T22:18:42.704Z"
   },
   {
    "duration": 3,
    "start_time": "2023-05-03T22:18:43.285Z"
   },
   {
    "duration": 3,
    "start_time": "2023-05-03T22:18:43.893Z"
   },
   {
    "duration": 238,
    "start_time": "2023-05-03T22:18:45.989Z"
   },
   {
    "duration": 11,
    "start_time": "2023-05-03T22:19:00.016Z"
   },
   {
    "duration": 228,
    "start_time": "2023-05-03T22:19:04.877Z"
   },
   {
    "duration": 4,
    "start_time": "2023-05-03T22:19:14.577Z"
   },
   {
    "duration": 17,
    "start_time": "2023-05-03T22:19:35.348Z"
   },
   {
    "duration": 14,
    "start_time": "2023-05-03T22:19:41.634Z"
   },
   {
    "duration": 7,
    "start_time": "2023-05-03T22:19:46.040Z"
   },
   {
    "duration": 61,
    "start_time": "2023-05-03T22:19:57.930Z"
   },
   {
    "duration": 4,
    "start_time": "2023-05-03T22:20:09.172Z"
   },
   {
    "duration": 4,
    "start_time": "2023-05-03T22:20:34.719Z"
   },
   {
    "duration": 10,
    "start_time": "2023-05-03T22:20:56.748Z"
   },
   {
    "duration": 3,
    "start_time": "2023-05-03T22:21:09.878Z"
   },
   {
    "duration": 15,
    "start_time": "2023-05-03T22:21:11.015Z"
   },
   {
    "duration": 10,
    "start_time": "2023-05-03T22:22:11.375Z"
   },
   {
    "duration": 10,
    "start_time": "2023-05-03T22:22:14.781Z"
   },
   {
    "duration": 3,
    "start_time": "2023-05-03T22:22:18.914Z"
   },
   {
    "duration": 13,
    "start_time": "2023-05-03T22:22:21.901Z"
   },
   {
    "duration": 4,
    "start_time": "2023-05-03T22:22:33.786Z"
   },
   {
    "duration": 12,
    "start_time": "2023-05-03T22:23:00.507Z"
   },
   {
    "duration": 18,
    "start_time": "2023-05-03T22:23:27.755Z"
   },
   {
    "duration": 19,
    "start_time": "2023-05-03T22:24:07.895Z"
   },
   {
    "duration": 11,
    "start_time": "2023-05-03T22:24:10.672Z"
   },
   {
    "duration": 4,
    "start_time": "2023-05-03T22:24:25.109Z"
   },
   {
    "duration": 3,
    "start_time": "2023-05-03T22:25:59.214Z"
   },
   {
    "duration": 4,
    "start_time": "2023-05-03T22:25:59.596Z"
   },
   {
    "duration": 29223,
    "start_time": "2023-05-03T22:26:00.398Z"
   },
   {
    "duration": 3,
    "start_time": "2023-05-03T22:27:00.444Z"
   },
   {
    "duration": 3,
    "start_time": "2023-05-03T22:27:01.856Z"
   },
   {
    "duration": 3,
    "start_time": "2023-05-03T22:27:12.735Z"
   },
   {
    "duration": 946,
    "start_time": "2023-05-03T22:27:15.056Z"
   },
   {
    "duration": 1026,
    "start_time": "2023-05-03T22:27:45.512Z"
   },
   {
    "duration": 3,
    "start_time": "2023-05-03T22:27:55.549Z"
   },
   {
    "duration": 4,
    "start_time": "2023-05-03T22:27:56.003Z"
   },
   {
    "duration": 49995,
    "start_time": "2023-05-03T22:27:56.669Z"
   },
   {
    "duration": 5,
    "start_time": "2023-05-03T22:28:46.666Z"
   },
   {
    "duration": 16,
    "start_time": "2023-05-03T22:28:46.672Z"
   },
   {
    "duration": 4,
    "start_time": "2023-05-03T22:29:05.635Z"
   },
   {
    "duration": 4,
    "start_time": "2023-05-03T22:29:15.788Z"
   },
   {
    "duration": 12,
    "start_time": "2023-05-03T22:29:24.713Z"
   },
   {
    "duration": 3,
    "start_time": "2023-05-03T22:29:33.434Z"
   },
   {
    "duration": 238,
    "start_time": "2023-05-03T22:29:35.661Z"
   },
   {
    "duration": 14,
    "start_time": "2023-05-03T22:29:37.648Z"
   },
   {
    "duration": 20,
    "start_time": "2023-05-03T22:29:38.165Z"
   },
   {
    "duration": 14,
    "start_time": "2023-05-03T22:29:49.910Z"
   },
   {
    "duration": 3,
    "start_time": "2023-05-03T22:29:57.950Z"
   },
   {
    "duration": 22,
    "start_time": "2023-05-03T22:30:00.236Z"
   },
   {
    "duration": 2516,
    "start_time": "2023-05-03T22:30:03.424Z"
   },
   {
    "duration": 30,
    "start_time": "2023-05-03T22:30:07.424Z"
   },
   {
    "duration": 34,
    "start_time": "2023-05-03T22:30:08.081Z"
   },
   {
    "duration": 203413,
    "start_time": "2023-05-03T22:30:14.568Z"
   },
   {
    "duration": 4,
    "start_time": "2023-05-03T22:33:37.983Z"
   },
   {
    "duration": 12,
    "start_time": "2023-05-03T22:33:37.988Z"
   },
   {
    "duration": 20,
    "start_time": "2023-05-03T22:33:38.003Z"
   },
   {
    "duration": 35,
    "start_time": "2023-05-03T22:33:38.025Z"
   },
   {
    "duration": 11,
    "start_time": "2023-05-03T22:33:38.062Z"
   },
   {
    "duration": 13,
    "start_time": "2023-05-03T22:33:47.678Z"
   },
   {
    "duration": 13,
    "start_time": "2023-05-03T22:34:01.083Z"
   },
   {
    "duration": 20,
    "start_time": "2023-05-03T22:34:44.111Z"
   },
   {
    "duration": 3,
    "start_time": "2023-05-03T22:35:09.870Z"
   },
   {
    "duration": 2749,
    "start_time": "2023-05-03T22:35:10.415Z"
   },
   {
    "duration": 30,
    "start_time": "2023-05-03T22:35:14.148Z"
   },
   {
    "duration": 35,
    "start_time": "2023-05-03T22:35:14.969Z"
   },
   {
    "duration": 14,
    "start_time": "2023-05-03T22:35:16.142Z"
   },
   {
    "duration": 45,
    "start_time": "2023-05-03T22:35:22.115Z"
   },
   {
    "duration": 14,
    "start_time": "2023-05-03T22:35:24.974Z"
   },
   {
    "duration": 13,
    "start_time": "2023-05-03T22:35:36.200Z"
   },
   {
    "duration": 212873,
    "start_time": "2023-05-03T22:36:10.839Z"
   },
   {
    "duration": 10,
    "start_time": "2023-05-03T22:39:43.721Z"
   },
   {
    "duration": 26,
    "start_time": "2023-05-03T22:39:43.733Z"
   },
   {
    "duration": 19,
    "start_time": "2023-05-03T22:39:43.761Z"
   },
   {
    "duration": 33,
    "start_time": "2023-05-03T22:39:43.782Z"
   },
   {
    "duration": 46,
    "start_time": "2023-05-03T22:39:43.817Z"
   },
   {
    "duration": 36,
    "start_time": "2023-05-03T22:39:43.864Z"
   },
   {
    "duration": 12,
    "start_time": "2023-05-03T22:39:52.601Z"
   },
   {
    "duration": 12,
    "start_time": "2023-05-03T22:39:55.138Z"
   },
   {
    "duration": 6,
    "start_time": "2023-05-03T22:40:15.916Z"
   },
   {
    "duration": 21,
    "start_time": "2023-05-03T22:40:35.390Z"
   },
   {
    "duration": 3,
    "start_time": "2023-05-03T22:41:02.329Z"
   },
   {
    "duration": 10,
    "start_time": "2023-05-03T22:42:00.058Z"
   },
   {
    "duration": 12,
    "start_time": "2023-05-03T22:42:06.870Z"
   },
   {
    "duration": 2736,
    "start_time": "2023-05-03T22:42:25.002Z"
   },
   {
    "duration": 2620,
    "start_time": "2023-05-03T22:42:49.545Z"
   },
   {
    "duration": 27,
    "start_time": "2023-05-03T22:43:13.834Z"
   },
   {
    "duration": 18,
    "start_time": "2023-05-03T22:43:24.777Z"
   },
   {
    "duration": 8,
    "start_time": "2023-05-03T22:43:41.869Z"
   },
   {
    "duration": 26,
    "start_time": "2023-05-03T22:44:00.429Z"
   },
   {
    "duration": 9,
    "start_time": "2023-05-03T22:44:09.341Z"
   },
   {
    "duration": 32,
    "start_time": "2023-05-03T22:44:12.283Z"
   },
   {
    "duration": 52,
    "start_time": "2023-05-03T22:44:40.937Z"
   },
   {
    "duration": 39,
    "start_time": "2023-05-03T22:44:44.807Z"
   },
   {
    "duration": 13,
    "start_time": "2023-05-03T22:44:59.776Z"
   },
   {
    "duration": 30,
    "start_time": "2023-05-03T22:45:03.343Z"
   },
   {
    "duration": 3,
    "start_time": "2023-05-03T22:45:21.561Z"
   },
   {
    "duration": 52,
    "start_time": "2023-05-03T22:46:01.291Z"
   },
   {
    "duration": 849,
    "start_time": "2023-05-03T22:46:03.579Z"
   },
   {
    "duration": 23,
    "start_time": "2023-05-03T22:46:07.872Z"
   },
   {
    "duration": 5,
    "start_time": "2023-05-03T22:48:30.719Z"
   },
   {
    "duration": 3,
    "start_time": "2023-05-03T22:48:31.771Z"
   },
   {
    "duration": 18,
    "start_time": "2023-05-03T22:48:32.620Z"
   },
   {
    "duration": 3,
    "start_time": "2023-05-03T22:48:51.258Z"
   },
   {
    "duration": 3,
    "start_time": "2023-05-03T22:48:51.698Z"
   },
   {
    "duration": 10,
    "start_time": "2023-05-03T22:49:38.847Z"
   },
   {
    "duration": 26070,
    "start_time": "2023-05-03T22:49:49.583Z"
   },
   {
    "duration": 3,
    "start_time": "2023-05-03T22:50:15.654Z"
   },
   {
    "duration": 12,
    "start_time": "2023-05-03T22:50:48.984Z"
   },
   {
    "duration": 356,
    "start_time": "2023-05-03T22:50:52.928Z"
   },
   {
    "duration": 19,
    "start_time": "2023-05-03T22:51:03.357Z"
   },
   {
    "duration": 370,
    "start_time": "2023-05-03T22:51:22.006Z"
   },
   {
    "duration": 3,
    "start_time": "2023-05-03T22:51:24.128Z"
   },
   {
    "duration": 525036,
    "start_time": "2023-05-03T22:51:27.997Z"
   },
   {
    "duration": 0,
    "start_time": "2023-05-03T23:01:17.497Z"
   },
   {
    "duration": 0,
    "start_time": "2023-05-03T23:01:17.521Z"
   },
   {
    "duration": 0,
    "start_time": "2023-05-03T23:01:17.522Z"
   },
   {
    "duration": 0,
    "start_time": "2023-05-03T23:01:17.523Z"
   },
   {
    "duration": 0,
    "start_time": "2023-05-03T23:01:17.524Z"
   },
   {
    "duration": 0,
    "start_time": "2023-05-03T23:01:17.525Z"
   },
   {
    "duration": 0,
    "start_time": "2023-05-03T23:01:17.526Z"
   },
   {
    "duration": 5,
    "start_time": "2023-05-03T23:01:21.860Z"
   },
   {
    "duration": 3,
    "start_time": "2023-05-03T23:01:25.894Z"
   },
   {
    "duration": 6,
    "start_time": "2023-05-03T23:01:28.064Z"
   },
   {
    "duration": 25840,
    "start_time": "2023-05-03T23:01:31.210Z"
   },
   {
    "duration": 19,
    "start_time": "2023-05-03T23:01:57.052Z"
   },
   {
    "duration": 0,
    "start_time": "2023-05-03T23:01:57.072Z"
   },
   {
    "duration": 0,
    "start_time": "2023-05-03T23:01:57.073Z"
   },
   {
    "duration": 6,
    "start_time": "2023-05-03T23:03:52.488Z"
   },
   {
    "duration": 4,
    "start_time": "2023-05-04T08:19:37.001Z"
   },
   {
    "duration": 35,
    "start_time": "2023-05-04T08:19:37.007Z"
   },
   {
    "duration": 21,
    "start_time": "2023-05-04T08:19:37.044Z"
   },
   {
    "duration": 8,
    "start_time": "2023-05-04T08:19:37.067Z"
   },
   {
    "duration": 2711,
    "start_time": "2023-05-04T08:19:37.077Z"
   },
   {
    "duration": 52,
    "start_time": "2023-05-04T08:19:39.790Z"
   },
   {
    "duration": 3511,
    "start_time": "2023-05-04T08:19:39.844Z"
   },
   {
    "duration": 95,
    "start_time": "2023-05-04T08:19:43.357Z"
   },
   {
    "duration": 4,
    "start_time": "2023-05-04T08:19:43.454Z"
   },
   {
    "duration": 124,
    "start_time": "2023-05-04T08:19:43.460Z"
   },
   {
    "duration": 9,
    "start_time": "2023-05-04T08:19:43.642Z"
   },
   {
    "duration": 14,
    "start_time": "2023-05-04T08:19:43.652Z"
   },
   {
    "duration": 10,
    "start_time": "2023-05-04T08:19:43.667Z"
   },
   {
    "duration": 77,
    "start_time": "2023-05-04T08:19:43.681Z"
   },
   {
    "duration": 19,
    "start_time": "2023-05-04T08:19:43.760Z"
   },
   {
    "duration": 81,
    "start_time": "2023-05-04T08:19:43.781Z"
   },
   {
    "duration": 14,
    "start_time": "2023-05-04T08:19:43.864Z"
   },
   {
    "duration": 10650,
    "start_time": "2023-05-04T08:19:43.881Z"
   },
   {
    "duration": 2,
    "start_time": "2023-05-04T08:19:54.533Z"
   },
   {
    "duration": 47,
    "start_time": "2023-05-04T08:19:54.540Z"
   },
   {
    "duration": 34,
    "start_time": "2023-05-04T08:19:54.589Z"
   },
   {
    "duration": 22,
    "start_time": "2023-05-04T08:19:54.624Z"
   },
   {
    "duration": 234,
    "start_time": "2023-05-04T08:19:54.648Z"
   },
   {
    "duration": 789,
    "start_time": "2023-05-04T08:19:54.885Z"
   },
   {
    "duration": 694,
    "start_time": "2023-05-04T08:19:55.676Z"
   },
   {
    "duration": 884,
    "start_time": "2023-05-04T08:19:56.372Z"
   },
   {
    "duration": 535,
    "start_time": "2023-05-04T08:19:57.259Z"
   },
   {
    "duration": 4,
    "start_time": "2023-05-04T08:19:57.796Z"
   },
   {
    "duration": 38,
    "start_time": "2023-05-04T08:19:57.801Z"
   },
   {
    "duration": 607,
    "start_time": "2023-05-04T08:19:57.841Z"
   },
   {
    "duration": 11,
    "start_time": "2023-05-04T08:19:58.450Z"
   },
   {
    "duration": 241,
    "start_time": "2023-05-04T08:19:58.463Z"
   },
   {
    "duration": 393,
    "start_time": "2023-05-04T08:19:58.706Z"
   },
   {
    "duration": 5,
    "start_time": "2023-05-04T08:19:59.101Z"
   },
   {
    "duration": 975,
    "start_time": "2023-05-04T08:19:59.108Z"
   },
   {
    "duration": 59,
    "start_time": "2023-05-04T08:20:00.085Z"
   },
   {
    "duration": 13,
    "start_time": "2023-05-04T08:20:00.146Z"
   },
   {
    "duration": 79,
    "start_time": "2023-05-04T08:20:00.161Z"
   },
   {
    "duration": 107,
    "start_time": "2023-05-04T08:20:00.242Z"
   },
   {
    "duration": 49,
    "start_time": "2023-05-04T08:20:00.351Z"
   },
   {
    "duration": 49,
    "start_time": "2023-05-04T08:20:00.407Z"
   },
   {
    "duration": 55,
    "start_time": "2023-05-04T08:20:00.458Z"
   },
   {
    "duration": 68,
    "start_time": "2023-05-04T08:20:00.516Z"
   },
   {
    "duration": 86,
    "start_time": "2023-05-04T08:20:00.585Z"
   },
   {
    "duration": 73,
    "start_time": "2023-05-04T08:20:00.673Z"
   },
   {
    "duration": 75,
    "start_time": "2023-05-04T08:20:00.748Z"
   },
   {
    "duration": 46344,
    "start_time": "2023-05-04T08:20:00.826Z"
   },
   {
    "duration": 3073,
    "start_time": "2023-05-04T08:20:47.172Z"
   },
   {
    "duration": 9,
    "start_time": "2023-05-04T08:20:50.247Z"
   },
   {
    "duration": 14304,
    "start_time": "2023-05-04T08:20:50.258Z"
   },
   {
    "duration": 1713,
    "start_time": "2023-05-04T08:21:04.564Z"
   },
   {
    "duration": 11165,
    "start_time": "2023-05-04T08:21:06.279Z"
   },
   {
    "duration": 1029,
    "start_time": "2023-05-04T08:21:17.447Z"
   },
   {
    "duration": 9,
    "start_time": "2023-05-04T08:21:18.478Z"
   },
   {
    "duration": 214149,
    "start_time": "2023-05-04T08:21:18.488Z"
   },
   {
    "duration": 39806,
    "start_time": "2023-05-04T08:24:52.641Z"
   },
   {
    "duration": 14,
    "start_time": "2023-05-04T08:25:32.449Z"
   },
   {
    "duration": 9,
    "start_time": "2023-05-04T08:25:32.465Z"
   },
   {
    "duration": 41,
    "start_time": "2023-05-04T08:25:32.477Z"
   },
   {
    "duration": 59,
    "start_time": "2023-05-04T08:25:32.520Z"
   },
   {
    "duration": 520386,
    "start_time": "2023-05-04T08:25:32.582Z"
   },
   {
    "duration": 18,
    "start_time": "2023-05-04T08:34:12.974Z"
   },
   {
    "duration": 9,
    "start_time": "2023-05-04T08:34:12.995Z"
   },
   {
    "duration": 26,
    "start_time": "2023-05-04T08:34:13.006Z"
   },
   {
    "duration": 24,
    "start_time": "2023-05-04T08:34:13.034Z"
   },
   {
    "duration": 285007,
    "start_time": "2023-05-04T08:34:13.061Z"
   },
   {
    "duration": 4,
    "start_time": "2023-05-04T08:38:58.070Z"
   },
   {
    "duration": 332035,
    "start_time": "2023-05-04T08:38:58.077Z"
   },
   {
    "duration": 15,
    "start_time": "2023-05-04T08:44:30.116Z"
   },
   {
    "duration": 34,
    "start_time": "2023-05-04T08:44:30.134Z"
   },
   {
    "duration": 18,
    "start_time": "2023-05-04T08:44:30.171Z"
   },
   {
    "duration": 24,
    "start_time": "2023-05-04T08:44:30.191Z"
   },
   {
    "duration": 52,
    "start_time": "2023-05-04T08:44:30.218Z"
   },
   {
    "duration": 40,
    "start_time": "2023-05-04T08:44:30.272Z"
   },
   {
    "duration": 46,
    "start_time": "2023-05-04T08:44:30.314Z"
   },
   {
    "duration": 37,
    "start_time": "2023-05-04T08:44:30.362Z"
   },
   {
    "duration": 401175,
    "start_time": "2023-05-04T08:44:30.402Z"
   },
   {
    "duration": 7,
    "start_time": "2023-05-04T08:51:11.579Z"
   },
   {
    "duration": 58,
    "start_time": "2023-05-04T08:51:11.589Z"
   },
   {
    "duration": 35,
    "start_time": "2023-05-04T08:51:11.650Z"
   },
   {
    "duration": 20,
    "start_time": "2023-05-04T08:51:11.687Z"
   },
   {
    "duration": 23,
    "start_time": "2023-05-04T08:51:11.709Z"
   },
   {
    "duration": 18,
    "start_time": "2023-05-04T08:51:11.734Z"
   },
   {
    "duration": 37,
    "start_time": "2023-05-04T08:51:11.754Z"
   },
   {
    "duration": 375609,
    "start_time": "2023-05-04T08:51:11.793Z"
   },
   {
    "duration": 6,
    "start_time": "2023-05-04T08:57:27.404Z"
   },
   {
    "duration": 28,
    "start_time": "2023-05-04T08:57:27.412Z"
   },
   {
    "duration": 24,
    "start_time": "2023-05-04T08:57:27.442Z"
   },
   {
    "duration": 46,
    "start_time": "2023-05-04T08:57:27.469Z"
   },
   {
    "duration": 4,
    "start_time": "2023-05-04T08:57:27.517Z"
   },
   {
    "duration": 18,
    "start_time": "2023-05-04T08:57:27.523Z"
   },
   {
    "duration": 429394,
    "start_time": "2023-05-04T08:57:27.543Z"
   },
   {
    "duration": 7,
    "start_time": "2023-05-04T09:04:36.939Z"
   },
   {
    "duration": 53,
    "start_time": "2023-05-04T09:04:36.948Z"
   },
   {
    "duration": 49,
    "start_time": "2023-05-04T09:04:37.003Z"
   },
   {
    "duration": 195,
    "start_time": "2023-05-04T09:04:37.055Z"
   },
   {
    "duration": 0,
    "start_time": "2023-05-04T09:04:37.253Z"
   },
   {
    "duration": 0,
    "start_time": "2023-05-04T09:04:37.255Z"
   },
   {
    "duration": 0,
    "start_time": "2023-05-04T09:04:37.256Z"
   },
   {
    "duration": 0,
    "start_time": "2023-05-04T09:04:37.258Z"
   },
   {
    "duration": 0,
    "start_time": "2023-05-04T09:04:37.260Z"
   },
   {
    "duration": 0,
    "start_time": "2023-05-04T09:04:37.261Z"
   },
   {
    "duration": 0,
    "start_time": "2023-05-04T09:04:37.262Z"
   },
   {
    "duration": 0,
    "start_time": "2023-05-04T09:04:37.263Z"
   },
   {
    "duration": 0,
    "start_time": "2023-05-04T09:04:37.265Z"
   },
   {
    "duration": 0,
    "start_time": "2023-05-04T09:04:37.266Z"
   },
   {
    "duration": 0,
    "start_time": "2023-05-04T09:04:37.268Z"
   },
   {
    "duration": 0,
    "start_time": "2023-05-04T09:04:37.269Z"
   },
   {
    "duration": 0,
    "start_time": "2023-05-04T09:04:37.270Z"
   },
   {
    "duration": 0,
    "start_time": "2023-05-04T09:04:37.271Z"
   },
   {
    "duration": 0,
    "start_time": "2023-05-04T09:04:37.272Z"
   },
   {
    "duration": 0,
    "start_time": "2023-05-04T09:04:37.274Z"
   },
   {
    "duration": 0,
    "start_time": "2023-05-04T09:04:37.275Z"
   },
   {
    "duration": 1,
    "start_time": "2023-05-04T09:04:37.276Z"
   },
   {
    "duration": 0,
    "start_time": "2023-05-04T09:04:37.278Z"
   },
   {
    "duration": 0,
    "start_time": "2023-05-04T09:04:37.279Z"
   },
   {
    "duration": 0,
    "start_time": "2023-05-04T09:04:37.280Z"
   },
   {
    "duration": 0,
    "start_time": "2023-05-04T09:04:37.281Z"
   },
   {
    "duration": 0,
    "start_time": "2023-05-04T09:04:37.282Z"
   },
   {
    "duration": 0,
    "start_time": "2023-05-04T09:04:37.283Z"
   },
   {
    "duration": 0,
    "start_time": "2023-05-04T09:04:37.285Z"
   },
   {
    "duration": 0,
    "start_time": "2023-05-04T09:04:37.286Z"
   },
   {
    "duration": 0,
    "start_time": "2023-05-04T09:04:37.288Z"
   },
   {
    "duration": 0,
    "start_time": "2023-05-04T09:04:37.289Z"
   },
   {
    "duration": 1,
    "start_time": "2023-05-04T09:04:37.342Z"
   },
   {
    "duration": 0,
    "start_time": "2023-05-04T09:04:37.344Z"
   },
   {
    "duration": 0,
    "start_time": "2023-05-04T09:04:37.345Z"
   },
   {
    "duration": 0,
    "start_time": "2023-05-04T09:04:37.347Z"
   },
   {
    "duration": 0,
    "start_time": "2023-05-04T09:04:37.349Z"
   },
   {
    "duration": 0,
    "start_time": "2023-05-04T09:04:37.350Z"
   },
   {
    "duration": 0,
    "start_time": "2023-05-04T09:04:37.351Z"
   },
   {
    "duration": 0,
    "start_time": "2023-05-04T09:04:37.352Z"
   },
   {
    "duration": 0,
    "start_time": "2023-05-04T09:04:37.353Z"
   },
   {
    "duration": 0,
    "start_time": "2023-05-04T09:04:37.354Z"
   },
   {
    "duration": 0,
    "start_time": "2023-05-04T09:04:37.355Z"
   },
   {
    "duration": 0,
    "start_time": "2023-05-04T09:04:37.356Z"
   },
   {
    "duration": 0,
    "start_time": "2023-05-04T09:04:37.358Z"
   },
   {
    "duration": 0,
    "start_time": "2023-05-04T09:04:37.359Z"
   },
   {
    "duration": 0,
    "start_time": "2023-05-04T09:04:37.360Z"
   },
   {
    "duration": 0,
    "start_time": "2023-05-04T09:04:37.361Z"
   },
   {
    "duration": 4,
    "start_time": "2023-05-04T09:36:48.688Z"
   },
   {
    "duration": 21,
    "start_time": "2023-05-04T09:36:48.695Z"
   },
   {
    "duration": 409099,
    "start_time": "2023-05-04T09:36:48.719Z"
   },
   {
    "duration": 7,
    "start_time": "2023-05-04T09:43:37.820Z"
   },
   {
    "duration": 17,
    "start_time": "2023-05-04T09:43:37.830Z"
   },
   {
    "duration": 15,
    "start_time": "2023-05-04T09:43:37.849Z"
   },
   {
    "duration": 7,
    "start_time": "2023-05-04T09:43:37.867Z"
   },
   {
    "duration": 15,
    "start_time": "2023-05-04T09:43:37.876Z"
   },
   {
    "duration": 247506,
    "start_time": "2023-05-04T09:43:37.893Z"
   },
   {
    "duration": 8,
    "start_time": "2023-05-04T09:47:45.401Z"
   },
   {
    "duration": 34,
    "start_time": "2023-05-04T09:47:45.411Z"
   },
   {
    "duration": 27,
    "start_time": "2023-05-04T09:47:45.447Z"
   },
   {
    "duration": 14,
    "start_time": "2023-05-04T09:47:45.476Z"
   },
   {
    "duration": 82236,
    "start_time": "2023-05-04T09:47:45.493Z"
   },
   {
    "duration": 15,
    "start_time": "2023-05-04T09:49:07.731Z"
   },
   {
    "duration": 4,
    "start_time": "2023-05-04T09:49:07.748Z"
   },
   {
    "duration": 94097,
    "start_time": "2023-05-04T09:49:07.754Z"
   },
   {
    "duration": 25,
    "start_time": "2023-05-04T09:50:41.853Z"
   },
   {
    "duration": 114,
    "start_time": "2023-05-04T09:50:41.880Z"
   },
   {
    "duration": 5,
    "start_time": "2023-05-04T09:50:41.996Z"
   },
   {
    "duration": 10,
    "start_time": "2023-05-04T09:50:42.003Z"
   },
   {
    "duration": 29,
    "start_time": "2023-05-04T09:50:42.015Z"
   },
   {
    "duration": 95,
    "start_time": "2023-05-04T09:50:42.046Z"
   },
   {
    "duration": 5,
    "start_time": "2023-05-04T09:50:42.143Z"
   },
   {
    "duration": 8,
    "start_time": "2023-05-04T09:50:42.150Z"
   },
   {
    "duration": 16,
    "start_time": "2023-05-04T09:50:42.160Z"
   },
   {
    "duration": 7,
    "start_time": "2023-05-04T09:50:42.178Z"
   },
   {
    "duration": 21,
    "start_time": "2023-05-04T09:50:42.187Z"
   },
   {
    "duration": 33,
    "start_time": "2023-05-04T09:50:42.210Z"
   },
   {
    "duration": 6,
    "start_time": "2023-05-04T09:50:42.246Z"
   },
   {
    "duration": 11,
    "start_time": "2023-05-04T09:50:42.254Z"
   },
   {
    "duration": 6,
    "start_time": "2023-05-04T09:50:42.268Z"
   },
   {
    "duration": 26226,
    "start_time": "2023-05-04T09:50:42.276Z"
   },
   {
    "duration": 420,
    "start_time": "2023-05-04T09:51:08.504Z"
   },
   {
    "duration": 3,
    "start_time": "2023-05-04T09:51:08.926Z"
   },
   {
    "duration": 542377,
    "start_time": "2023-05-04T09:51:08.941Z"
   },
   {
    "duration": 6,
    "start_time": "2023-05-04T10:00:11.320Z"
   },
   {
    "duration": 35,
    "start_time": "2023-05-04T10:00:11.342Z"
   },
   {
    "duration": 24,
    "start_time": "2023-05-04T10:00:11.379Z"
   },
   {
    "duration": 26810,
    "start_time": "2023-05-04T10:00:11.405Z"
   },
   {
    "duration": 44,
    "start_time": "2023-05-04T10:00:38.220Z"
   },
   {
    "duration": 0,
    "start_time": "2023-05-04T10:00:38.266Z"
   },
   {
    "duration": 0,
    "start_time": "2023-05-04T10:00:38.268Z"
   },
   {
    "duration": 0,
    "start_time": "2023-05-04T10:00:38.270Z"
   },
   {
    "duration": 9,
    "start_time": "2023-05-04T10:00:50.525Z"
   },
   {
    "duration": 458,
    "start_time": "2023-05-04T10:03:56.495Z"
   },
   {
    "duration": 146,
    "start_time": "2023-05-04T10:04:10.767Z"
   },
   {
    "duration": 7,
    "start_time": "2023-05-04T10:04:20.859Z"
   },
   {
    "duration": 1950,
    "start_time": "2023-05-04T10:04:24.474Z"
   },
   {
    "duration": 2089,
    "start_time": "2023-05-04T10:07:15.199Z"
   },
   {
    "duration": 61,
    "start_time": "2023-05-04T10:07:22.616Z"
   },
   {
    "duration": 8,
    "start_time": "2023-05-04T10:07:25.981Z"
   },
   {
    "duration": 25977,
    "start_time": "2023-05-04T10:07:38.914Z"
   },
   {
    "duration": 145,
    "start_time": "2023-05-04T10:08:04.893Z"
   },
   {
    "duration": 2012,
    "start_time": "2023-05-04T10:08:05.041Z"
   },
   {
    "duration": 65,
    "start_time": "2023-05-04T10:08:07.056Z"
   },
   {
    "duration": 1273268,
    "start_time": "2023-05-04T10:09:50.578Z"
   },
   {
    "duration": 10,
    "start_time": "2023-05-04T10:31:03.848Z"
   },
   {
    "duration": 16,
    "start_time": "2023-05-04T10:31:03.860Z"
   },
   {
    "duration": 0,
    "start_time": "2023-05-04T10:31:03.878Z"
   },
   {
    "duration": 0,
    "start_time": "2023-05-04T10:31:03.880Z"
   },
   {
    "duration": 0,
    "start_time": "2023-05-04T10:31:03.881Z"
   },
   {
    "duration": 0,
    "start_time": "2023-05-04T10:31:03.882Z"
   },
   {
    "duration": 14,
    "start_time": "2023-05-04T10:36:57.723Z"
   },
   {
    "duration": 4,
    "start_time": "2023-05-04T10:37:01.998Z"
   },
   {
    "duration": 5,
    "start_time": "2023-05-04T10:37:03.195Z"
   },
   {
    "duration": 73147,
    "start_time": "2023-05-04T10:37:06.415Z"
   },
   {
    "duration": 150,
    "start_time": "2023-05-04T10:38:19.564Z"
   },
   {
    "duration": 9140,
    "start_time": "2023-05-04T10:38:19.716Z"
   },
   {
    "duration": 20,
    "start_time": "2023-05-04T10:38:28.863Z"
   },
   {
    "duration": 107,
    "start_time": "2023-05-04T10:38:44.460Z"
   },
   {
    "duration": 87,
    "start_time": "2023-05-04T10:38:49.301Z"
   },
   {
    "duration": 15,
    "start_time": "2023-05-04T10:39:47.398Z"
   },
   {
    "duration": 21,
    "start_time": "2023-05-04T10:43:52.873Z"
   },
   {
    "duration": 4,
    "start_time": "2023-05-04T10:44:03.582Z"
   },
   {
    "duration": 24742,
    "start_time": "2023-05-04T10:44:08.922Z"
   },
   {
    "duration": 361,
    "start_time": "2023-05-04T10:44:33.667Z"
   },
   {
    "duration": 5,
    "start_time": "2023-05-04T10:45:03.415Z"
   },
   {
    "duration": 25095,
    "start_time": "2023-05-04T10:45:03.598Z"
   },
   {
    "duration": 5,
    "start_time": "2023-05-04T10:45:28.694Z"
   },
   {
    "duration": 7,
    "start_time": "2023-05-04T10:45:28.701Z"
   },
   {
    "duration": 108,
    "start_time": "2023-05-04T10:45:41.415Z"
   },
   {
    "duration": 186,
    "start_time": "2023-05-04T10:46:01.749Z"
   },
   {
    "duration": 54,
    "start_time": "2023-05-04T10:51:52.869Z"
   },
   {
    "duration": 102,
    "start_time": "2023-05-04T10:54:33.413Z"
   },
   {
    "duration": 80,
    "start_time": "2023-05-04T15:17:55.401Z"
   },
   {
    "duration": 66,
    "start_time": "2023-05-04T15:20:11.968Z"
   },
   {
    "duration": 186,
    "start_time": "2023-05-04T15:22:27.387Z"
   },
   {
    "duration": 4,
    "start_time": "2023-05-04T15:25:33.057Z"
   },
   {
    "duration": 14,
    "start_time": "2023-05-04T15:25:34.463Z"
   },
   {
    "duration": 1002091,
    "start_time": "2023-05-04T15:25:52.360Z"
   },
   {
    "duration": 68,
    "start_time": "2023-05-04T15:42:34.453Z"
   },
   {
    "duration": 0,
    "start_time": "2023-05-04T15:42:34.523Z"
   },
   {
    "duration": 0,
    "start_time": "2023-05-04T15:42:34.524Z"
   },
   {
    "duration": 13,
    "start_time": "2023-05-04T15:43:16.529Z"
   },
   {
    "duration": 19,
    "start_time": "2023-05-04T15:43:35.339Z"
   },
   {
    "duration": 12,
    "start_time": "2023-05-04T15:43:59.083Z"
   },
   {
    "duration": 16,
    "start_time": "2023-05-04T15:44:02.933Z"
   },
   {
    "duration": 4,
    "start_time": "2023-05-04T15:44:14.071Z"
   },
   {
    "duration": 4,
    "start_time": "2023-05-04T15:45:16.172Z"
   },
   {
    "duration": 3,
    "start_time": "2023-05-04T15:45:39.566Z"
   },
   {
    "duration": 64,
    "start_time": "2023-05-04T15:45:40.269Z"
   },
   {
    "duration": 0,
    "start_time": "2023-05-04T17:42:14.220Z"
   },
   {
    "duration": 0,
    "start_time": "2023-05-04T17:42:14.222Z"
   },
   {
    "duration": 0,
    "start_time": "2023-05-04T17:42:14.224Z"
   },
   {
    "duration": 0,
    "start_time": "2023-05-04T17:42:14.226Z"
   },
   {
    "duration": 0,
    "start_time": "2023-05-04T17:42:14.228Z"
   },
   {
    "duration": 30,
    "start_time": "2023-05-04T17:54:49.006Z"
   },
   {
    "duration": 3,
    "start_time": "2023-05-04T17:56:17.935Z"
   },
   {
    "duration": 4,
    "start_time": "2023-05-04T17:56:39.435Z"
   },
   {
    "duration": 214259,
    "start_time": "2023-05-04T17:56:40.316Z"
   },
   {
    "duration": 11,
    "start_time": "2023-05-04T18:00:14.577Z"
   },
   {
    "duration": 0,
    "start_time": "2023-05-04T18:00:14.589Z"
   },
   {
    "duration": 0,
    "start_time": "2023-05-04T18:00:14.591Z"
   },
   {
    "duration": 0,
    "start_time": "2023-05-04T18:00:14.592Z"
   },
   {
    "duration": 4,
    "start_time": "2023-05-04T18:00:32.621Z"
   },
   {
    "duration": 5,
    "start_time": "2023-05-04T18:00:39.002Z"
   },
   {
    "duration": 5,
    "start_time": "2023-05-04T18:00:46.158Z"
   },
   {
    "duration": 11,
    "start_time": "2023-05-04T18:00:48.678Z"
   },
   {
    "duration": 3,
    "start_time": "2023-05-04T18:02:57.332Z"
   },
   {
    "duration": 3088571,
    "start_time": "2023-05-04T18:03:08.633Z"
   },
   {
    "duration": 4,
    "start_time": "2023-05-04T18:54:46.607Z"
   },
   {
    "duration": 4388874,
    "start_time": "2023-05-04T18:54:53.631Z"
   },
   {
    "duration": 5,
    "start_time": "2023-05-04T20:08:02.508Z"
   },
   {
    "duration": 50,
    "start_time": "2023-05-04T20:08:02.516Z"
   },
   {
    "duration": 3,
    "start_time": "2023-05-04T21:29:28.797Z"
   },
   {
    "duration": 4,
    "start_time": "2023-05-04T21:29:55.330Z"
   },
   {
    "duration": 5,
    "start_time": "2023-05-04T21:30:08.848Z"
   },
   {
    "duration": 306366,
    "start_time": "2023-05-04T21:30:12.403Z"
   },
   {
    "duration": 6,
    "start_time": "2023-05-04T21:35:18.772Z"
   },
   {
    "duration": 17,
    "start_time": "2023-05-04T21:35:18.780Z"
   },
   {
    "duration": 3,
    "start_time": "2023-05-04T21:35:18.800Z"
   },
   {
    "duration": 303514,
    "start_time": "2023-05-04T21:35:18.805Z"
   },
   {
    "duration": 6,
    "start_time": "2023-05-04T21:40:22.320Z"
   },
   {
    "duration": 13,
    "start_time": "2023-05-04T21:40:22.329Z"
   },
   {
    "duration": 22,
    "start_time": "2023-05-04T21:40:22.344Z"
   },
   {
    "duration": 0,
    "start_time": "2023-05-04T21:40:22.368Z"
   },
   {
    "duration": 10,
    "start_time": "2023-05-04T21:41:11.675Z"
   },
   {
    "duration": 11,
    "start_time": "2023-05-04T21:41:13.750Z"
   },
   {
    "duration": 4,
    "start_time": "2023-05-04T21:41:20.613Z"
   },
   {
    "duration": 17,
    "start_time": "2023-05-04T21:45:28.173Z"
   },
   {
    "duration": 3,
    "start_time": "2023-05-04T21:45:30.470Z"
   },
   {
    "duration": 22606,
    "start_time": "2023-05-04T21:45:30.998Z"
   },
   {
    "duration": 341,
    "start_time": "2023-05-04T21:45:53.606Z"
   },
   {
    "duration": 123,
    "start_time": "2023-05-04T21:46:44.291Z"
   },
   {
    "duration": 51,
    "start_time": "2023-05-04T21:59:05.744Z"
   },
   {
    "duration": 2926,
    "start_time": "2023-05-05T05:38:13.780Z"
   },
   {
    "duration": 2999,
    "start_time": "2023-05-05T05:38:16.709Z"
   },
   {
    "duration": 3,
    "start_time": "2023-05-05T05:38:19.710Z"
   },
   {
    "duration": 3335,
    "start_time": "2023-05-05T05:38:19.716Z"
   },
   {
    "duration": 75,
    "start_time": "2023-05-05T05:38:23.054Z"
   },
   {
    "duration": 7,
    "start_time": "2023-05-05T05:38:23.135Z"
   },
   {
    "duration": 115,
    "start_time": "2023-05-05T05:38:23.145Z"
   },
   {
    "duration": 296,
    "start_time": "2023-05-05T05:38:23.262Z"
   },
   {
    "duration": 11,
    "start_time": "2023-05-05T05:38:23.561Z"
   },
   {
    "duration": 18,
    "start_time": "2023-05-05T05:38:23.576Z"
   },
   {
    "duration": 52,
    "start_time": "2023-05-05T05:38:23.597Z"
   },
   {
    "duration": 36,
    "start_time": "2023-05-05T05:38:23.651Z"
   },
   {
    "duration": 13,
    "start_time": "2023-05-05T05:38:23.690Z"
   },
   {
    "duration": 5257,
    "start_time": "2023-05-05T05:38:23.705Z"
   },
   {
    "duration": 3,
    "start_time": "2023-05-05T05:38:28.964Z"
   },
   {
    "duration": 19,
    "start_time": "2023-05-05T05:38:28.969Z"
   },
   {
    "duration": 20,
    "start_time": "2023-05-05T05:38:28.990Z"
   },
   {
    "duration": 21,
    "start_time": "2023-05-05T05:38:29.012Z"
   },
   {
    "duration": 252,
    "start_time": "2023-05-05T05:38:29.035Z"
   },
   {
    "duration": 605,
    "start_time": "2023-05-05T05:38:29.289Z"
   },
   {
    "duration": 461,
    "start_time": "2023-05-05T05:38:29.895Z"
   },
   {
    "duration": 561,
    "start_time": "2023-05-05T05:38:30.358Z"
   },
   {
    "duration": 433,
    "start_time": "2023-05-05T05:38:30.921Z"
   },
   {
    "duration": 3,
    "start_time": "2023-05-05T05:38:31.356Z"
   },
   {
    "duration": 26,
    "start_time": "2023-05-05T05:38:31.361Z"
   },
   {
    "duration": 596,
    "start_time": "2023-05-05T05:38:31.389Z"
   },
   {
    "duration": 12,
    "start_time": "2023-05-05T05:38:31.987Z"
   },
   {
    "duration": 346,
    "start_time": "2023-05-05T05:38:32.003Z"
   },
   {
    "duration": 236,
    "start_time": "2023-05-05T05:38:32.351Z"
   },
   {
    "duration": 9,
    "start_time": "2023-05-05T05:38:32.592Z"
   },
   {
    "duration": 995,
    "start_time": "2023-05-05T05:38:32.604Z"
   },
   {
    "duration": 57,
    "start_time": "2023-05-05T05:38:33.601Z"
   },
   {
    "duration": 13,
    "start_time": "2023-05-05T05:38:33.660Z"
   },
   {
    "duration": 23,
    "start_time": "2023-05-05T05:38:33.675Z"
   },
   {
    "duration": 40,
    "start_time": "2023-05-05T05:38:33.700Z"
   },
   {
    "duration": 3,
    "start_time": "2023-05-05T05:38:33.741Z"
   },
   {
    "duration": 26,
    "start_time": "2023-05-05T05:38:33.745Z"
   },
   {
    "duration": 18,
    "start_time": "2023-05-05T05:38:33.772Z"
   },
   {
    "duration": 15,
    "start_time": "2023-05-05T05:38:33.792Z"
   },
   {
    "duration": 47,
    "start_time": "2023-05-05T05:38:33.809Z"
   },
   {
    "duration": 37,
    "start_time": "2023-05-05T05:38:33.858Z"
   },
   {
    "duration": 26,
    "start_time": "2023-05-05T05:38:33.897Z"
   },
   {
    "duration": 25,
    "start_time": "2023-05-05T05:44:44.439Z"
   },
   {
    "duration": 2,
    "start_time": "2023-05-05T06:12:14.177Z"
   },
   {
    "duration": 2,
    "start_time": "2023-05-05T06:12:16.538Z"
   },
   {
    "duration": 44,
    "start_time": "2023-05-05T11:12:50.413Z"
   },
   {
    "duration": 2319,
    "start_time": "2023-05-05T11:13:04.735Z"
   },
   {
    "duration": 1502,
    "start_time": "2023-05-05T11:13:07.056Z"
   },
   {
    "duration": 2,
    "start_time": "2023-05-05T11:13:08.560Z"
   },
   {
    "duration": 2920,
    "start_time": "2023-05-05T11:13:08.563Z"
   },
   {
    "duration": 34,
    "start_time": "2023-05-05T11:13:11.485Z"
   },
   {
    "duration": 3,
    "start_time": "2023-05-05T11:13:11.521Z"
   },
   {
    "duration": 54,
    "start_time": "2023-05-05T11:13:11.525Z"
   },
   {
    "duration": 209,
    "start_time": "2023-05-05T11:13:11.581Z"
   },
   {
    "duration": 6,
    "start_time": "2023-05-05T11:13:11.791Z"
   },
   {
    "duration": 24,
    "start_time": "2023-05-05T11:13:11.799Z"
   },
   {
    "duration": 79,
    "start_time": "2023-05-05T11:13:18.766Z"
   },
   {
    "duration": 4,
    "start_time": "2023-05-05T11:13:33.082Z"
   },
   {
    "duration": 15,
    "start_time": "2023-05-05T11:13:38.745Z"
   },
   {
    "duration": 4,
    "start_time": "2023-05-05T11:15:04.724Z"
   },
   {
    "duration": 10,
    "start_time": "2023-05-05T11:15:38.818Z"
   },
   {
    "duration": 16,
    "start_time": "2023-05-05T11:16:35.081Z"
   },
   {
    "duration": 10,
    "start_time": "2023-05-05T11:17:02.265Z"
   },
   {
    "duration": 10,
    "start_time": "2023-05-05T11:17:04.102Z"
   },
   {
    "duration": 8,
    "start_time": "2023-05-05T11:17:06.093Z"
   },
   {
    "duration": 31,
    "start_time": "2023-05-05T11:46:06.575Z"
   },
   {
    "duration": 31,
    "start_time": "2023-05-05T11:46:20.262Z"
   },
   {
    "duration": 3,
    "start_time": "2023-05-05T11:47:22.695Z"
   },
   {
    "duration": 2,
    "start_time": "2023-05-05T11:47:41.342Z"
   },
   {
    "duration": 3,
    "start_time": "2023-05-05T11:47:44.678Z"
   },
   {
    "duration": 744,
    "start_time": "2023-05-05T11:52:40.061Z"
   },
   {
    "duration": 8,
    "start_time": "2023-05-05T11:53:06.903Z"
   },
   {
    "duration": 3,
    "start_time": "2023-05-05T11:53:10.940Z"
   },
   {
    "duration": 3,
    "start_time": "2023-05-05T11:54:07.256Z"
   },
   {
    "duration": 10,
    "start_time": "2023-05-05T11:54:08.195Z"
   },
   {
    "duration": 7,
    "start_time": "2023-05-05T11:54:09.218Z"
   },
   {
    "duration": 4,
    "start_time": "2023-05-05T11:54:15.643Z"
   },
   {
    "duration": 3,
    "start_time": "2023-05-05T11:54:38.546Z"
   },
   {
    "duration": 3,
    "start_time": "2023-05-05T11:54:44.201Z"
   },
   {
    "duration": 1903,
    "start_time": "2023-05-05T11:57:12.395Z"
   },
   {
    "duration": 3,
    "start_time": "2023-05-05T11:57:14.301Z"
   },
   {
    "duration": 47,
    "start_time": "2023-05-05T11:57:14.306Z"
   },
   {
    "duration": 646,
    "start_time": "2023-05-05T11:57:14.355Z"
   },
   {
    "duration": 36,
    "start_time": "2023-05-05T11:57:15.003Z"
   },
   {
    "duration": 4,
    "start_time": "2023-05-05T11:57:15.040Z"
   },
   {
    "duration": 98,
    "start_time": "2023-05-05T11:57:15.045Z"
   },
   {
    "duration": 194,
    "start_time": "2023-05-05T11:57:15.144Z"
   },
   {
    "duration": 6,
    "start_time": "2023-05-05T11:57:15.340Z"
   },
   {
    "duration": 7,
    "start_time": "2023-05-05T11:57:15.348Z"
   },
   {
    "duration": 16,
    "start_time": "2023-05-05T11:57:15.356Z"
   },
   {
    "duration": 14,
    "start_time": "2023-05-05T11:57:15.373Z"
   },
   {
    "duration": 17,
    "start_time": "2023-05-05T11:57:15.388Z"
   },
   {
    "duration": 10,
    "start_time": "2023-05-05T11:57:15.406Z"
   },
   {
    "duration": 2,
    "start_time": "2023-05-05T11:57:15.418Z"
   },
   {
    "duration": 14,
    "start_time": "2023-05-05T11:57:15.421Z"
   },
   {
    "duration": 13,
    "start_time": "2023-05-05T11:57:15.437Z"
   },
   {
    "duration": 6,
    "start_time": "2023-05-05T11:57:15.451Z"
   },
   {
    "duration": 19,
    "start_time": "2023-05-05T11:57:15.458Z"
   },
   {
    "duration": 6,
    "start_time": "2023-05-05T11:57:15.479Z"
   },
   {
    "duration": 188,
    "start_time": "2023-05-05T11:57:15.486Z"
   },
   {
    "duration": 464,
    "start_time": "2023-05-05T11:57:15.675Z"
   },
   {
    "duration": 417,
    "start_time": "2023-05-05T11:57:16.140Z"
   },
   {
    "duration": 419,
    "start_time": "2023-05-05T11:57:16.558Z"
   },
   {
    "duration": 381,
    "start_time": "2023-05-05T11:57:16.979Z"
   },
   {
    "duration": 3,
    "start_time": "2023-05-05T11:57:17.361Z"
   },
   {
    "duration": 19,
    "start_time": "2023-05-05T11:57:17.365Z"
   },
   {
    "duration": 429,
    "start_time": "2023-05-05T11:57:17.388Z"
   },
   {
    "duration": 4,
    "start_time": "2023-05-05T11:57:17.819Z"
   },
   {
    "duration": 1098,
    "start_time": "2023-05-05T11:57:17.824Z"
   },
   {
    "duration": 0,
    "start_time": "2023-05-05T11:57:18.923Z"
   },
   {
    "duration": 0,
    "start_time": "2023-05-05T11:57:18.925Z"
   },
   {
    "duration": 0,
    "start_time": "2023-05-05T11:57:18.925Z"
   },
   {
    "duration": 0,
    "start_time": "2023-05-05T11:57:18.926Z"
   },
   {
    "duration": 0,
    "start_time": "2023-05-05T11:57:18.927Z"
   },
   {
    "duration": 0,
    "start_time": "2023-05-05T11:57:18.928Z"
   },
   {
    "duration": 0,
    "start_time": "2023-05-05T11:57:18.929Z"
   },
   {
    "duration": 0,
    "start_time": "2023-05-05T11:57:18.930Z"
   },
   {
    "duration": 0,
    "start_time": "2023-05-05T11:57:18.931Z"
   },
   {
    "duration": 0,
    "start_time": "2023-05-05T11:57:18.932Z"
   },
   {
    "duration": 0,
    "start_time": "2023-05-05T11:57:18.933Z"
   },
   {
    "duration": 0,
    "start_time": "2023-05-05T11:57:18.934Z"
   },
   {
    "duration": 0,
    "start_time": "2023-05-05T11:57:18.934Z"
   },
   {
    "duration": 0,
    "start_time": "2023-05-05T11:57:18.935Z"
   },
   {
    "duration": 0,
    "start_time": "2023-05-05T11:57:18.936Z"
   },
   {
    "duration": 0,
    "start_time": "2023-05-05T11:57:18.937Z"
   },
   {
    "duration": 0,
    "start_time": "2023-05-05T11:57:18.938Z"
   },
   {
    "duration": 3,
    "start_time": "2023-05-05T11:58:20.752Z"
   },
   {
    "duration": 909,
    "start_time": "2023-05-05T11:58:22.080Z"
   },
   {
    "duration": 1063,
    "start_time": "2023-05-05T11:58:47.960Z"
   },
   {
    "duration": 1845,
    "start_time": "2023-05-05T11:59:03.409Z"
   },
   {
    "duration": 4,
    "start_time": "2023-05-05T11:59:05.256Z"
   },
   {
    "duration": 5,
    "start_time": "2023-05-05T11:59:05.261Z"
   },
   {
    "duration": 723,
    "start_time": "2023-05-05T11:59:05.268Z"
   },
   {
    "duration": 224,
    "start_time": "2023-05-05T11:59:05.993Z"
   },
   {
    "duration": 4,
    "start_time": "2023-05-05T11:59:06.219Z"
   },
   {
    "duration": 89,
    "start_time": "2023-05-05T11:59:06.225Z"
   },
   {
    "duration": 220,
    "start_time": "2023-05-05T11:59:06.315Z"
   },
   {
    "duration": 6,
    "start_time": "2023-05-05T11:59:06.537Z"
   },
   {
    "duration": 6,
    "start_time": "2023-05-05T11:59:06.545Z"
   },
   {
    "duration": 21,
    "start_time": "2023-05-05T11:59:06.552Z"
   },
   {
    "duration": 16,
    "start_time": "2023-05-05T11:59:06.574Z"
   },
   {
    "duration": 56,
    "start_time": "2023-05-05T11:59:06.591Z"
   },
   {
    "duration": 46,
    "start_time": "2023-05-05T11:59:06.649Z"
   },
   {
    "duration": 16,
    "start_time": "2023-05-05T11:59:06.697Z"
   },
   {
    "duration": 34,
    "start_time": "2023-05-05T11:59:06.714Z"
   },
   {
    "duration": 7,
    "start_time": "2023-05-05T11:59:06.750Z"
   },
   {
    "duration": 5,
    "start_time": "2023-05-05T11:59:06.758Z"
   },
   {
    "duration": 14,
    "start_time": "2023-05-05T11:59:06.765Z"
   },
   {
    "duration": 3,
    "start_time": "2023-05-05T11:59:06.780Z"
   },
   {
    "duration": 182,
    "start_time": "2023-05-05T11:59:06.784Z"
   },
   {
    "duration": 413,
    "start_time": "2023-05-05T11:59:06.967Z"
   },
   {
    "duration": 375,
    "start_time": "2023-05-05T11:59:07.382Z"
   },
   {
    "duration": 394,
    "start_time": "2023-05-05T11:59:07.758Z"
   },
   {
    "duration": 381,
    "start_time": "2023-05-05T11:59:08.154Z"
   },
   {
    "duration": 3,
    "start_time": "2023-05-05T11:59:08.536Z"
   },
   {
    "duration": 14,
    "start_time": "2023-05-05T11:59:08.540Z"
   },
   {
    "duration": 506,
    "start_time": "2023-05-05T11:59:08.557Z"
   },
   {
    "duration": 26,
    "start_time": "2023-05-05T11:59:18.263Z"
   },
   {
    "duration": 4,
    "start_time": "2023-05-05T11:59:24.196Z"
   },
   {
    "duration": 9,
    "start_time": "2023-05-05T12:00:31.987Z"
   },
   {
    "duration": 4,
    "start_time": "2023-05-05T12:00:41.280Z"
   },
   {
    "duration": 3,
    "start_time": "2023-05-05T12:01:49.563Z"
   },
   {
    "duration": 4,
    "start_time": "2023-05-05T12:01:57.826Z"
   },
   {
    "duration": 4,
    "start_time": "2023-05-05T12:02:04.788Z"
   },
   {
    "duration": 7,
    "start_time": "2023-05-05T12:03:13.649Z"
   },
   {
    "duration": 5,
    "start_time": "2023-05-05T12:03:20.382Z"
   },
   {
    "duration": 8,
    "start_time": "2023-05-05T12:03:22.130Z"
   },
   {
    "duration": 6,
    "start_time": "2023-05-05T12:03:22.689Z"
   },
   {
    "duration": 1866,
    "start_time": "2023-05-05T12:03:28.358Z"
   },
   {
    "duration": 3,
    "start_time": "2023-05-05T12:03:36.992Z"
   },
   {
    "duration": 1939,
    "start_time": "2023-05-05T12:06:51.534Z"
   },
   {
    "duration": 1318,
    "start_time": "2023-05-05T12:06:53.475Z"
   },
   {
    "duration": 2,
    "start_time": "2023-05-05T12:06:54.795Z"
   },
   {
    "duration": 637,
    "start_time": "2023-05-05T12:06:54.799Z"
   },
   {
    "duration": 44,
    "start_time": "2023-05-05T12:06:55.437Z"
   },
   {
    "duration": 4,
    "start_time": "2023-05-05T12:06:55.482Z"
   },
   {
    "duration": 54,
    "start_time": "2023-05-05T12:06:55.488Z"
   },
   {
    "duration": 247,
    "start_time": "2023-05-05T12:06:55.543Z"
   },
   {
    "duration": 7,
    "start_time": "2023-05-05T12:06:55.792Z"
   },
   {
    "duration": 31,
    "start_time": "2023-05-05T12:06:55.801Z"
   },
   {
    "duration": 23,
    "start_time": "2023-05-05T12:06:55.833Z"
   },
   {
    "duration": 38,
    "start_time": "2023-05-05T12:06:55.858Z"
   },
   {
    "duration": 5,
    "start_time": "2023-05-05T12:06:55.898Z"
   },
   {
    "duration": 31,
    "start_time": "2023-05-05T12:06:55.905Z"
   },
   {
    "duration": 11,
    "start_time": "2023-05-05T12:06:55.938Z"
   },
   {
    "duration": 31,
    "start_time": "2023-05-05T12:06:55.951Z"
   },
   {
    "duration": 3,
    "start_time": "2023-05-05T12:06:55.984Z"
   },
   {
    "duration": 6,
    "start_time": "2023-05-05T12:06:55.989Z"
   },
   {
    "duration": 14,
    "start_time": "2023-05-05T12:06:55.997Z"
   },
   {
    "duration": 4,
    "start_time": "2023-05-05T12:06:56.013Z"
   },
   {
    "duration": 225,
    "start_time": "2023-05-05T12:06:56.019Z"
   },
   {
    "duration": 476,
    "start_time": "2023-05-05T12:06:56.246Z"
   },
   {
    "duration": 407,
    "start_time": "2023-05-05T12:06:56.724Z"
   },
   {
    "duration": 402,
    "start_time": "2023-05-05T12:06:57.133Z"
   },
   {
    "duration": 411,
    "start_time": "2023-05-05T12:06:57.537Z"
   },
   {
    "duration": 3,
    "start_time": "2023-05-05T12:06:57.949Z"
   },
   {
    "duration": 22,
    "start_time": "2023-05-05T12:06:57.953Z"
   },
   {
    "duration": 452,
    "start_time": "2023-05-05T12:06:57.977Z"
   },
   {
    "duration": 3,
    "start_time": "2023-05-05T12:07:03.887Z"
   },
   {
    "duration": 10,
    "start_time": "2023-05-05T12:07:09.251Z"
   },
   {
    "duration": 3,
    "start_time": "2023-05-05T12:07:10.143Z"
   },
   {
    "duration": 10,
    "start_time": "2023-05-05T12:07:18.474Z"
   },
   {
    "duration": 187,
    "start_time": "2023-05-05T12:07:19.259Z"
   },
   {
    "duration": 266,
    "start_time": "2023-05-05T12:07:20.964Z"
   },
   {
    "duration": 5,
    "start_time": "2023-05-05T12:07:23.334Z"
   },
   {
    "duration": 1852,
    "start_time": "2023-05-05T12:07:23.974Z"
   },
   {
    "duration": 58,
    "start_time": "2023-05-05T12:07:25.827Z"
   },
   {
    "duration": 12,
    "start_time": "2023-05-05T12:07:27.658Z"
   },
   {
    "duration": 20,
    "start_time": "2023-05-05T12:07:28.910Z"
   },
   {
    "duration": 20,
    "start_time": "2023-05-05T12:07:31.490Z"
   },
   {
    "duration": 2,
    "start_time": "2023-05-05T12:07:45.296Z"
   },
   {
    "duration": 3,
    "start_time": "2023-05-05T12:07:51.451Z"
   },
   {
    "duration": 2,
    "start_time": "2023-05-05T12:07:59.158Z"
   },
   {
    "duration": 2,
    "start_time": "2023-05-05T12:08:06.842Z"
   },
   {
    "duration": 4,
    "start_time": "2023-05-05T12:08:09.610Z"
   },
   {
    "duration": 2,
    "start_time": "2023-05-05T12:08:12.223Z"
   },
   {
    "duration": 12,
    "start_time": "2023-05-05T12:08:30.564Z"
   },
   {
    "duration": 4,
    "start_time": "2023-05-05T12:08:31.907Z"
   },
   {
    "duration": 5,
    "start_time": "2023-05-05T12:08:33.075Z"
   },
   {
    "duration": 4,
    "start_time": "2023-05-05T12:08:35.476Z"
   },
   {
    "duration": 5,
    "start_time": "2023-05-05T12:08:38.503Z"
   },
   {
    "duration": 3,
    "start_time": "2023-05-05T12:08:39.072Z"
   },
   {
    "duration": 8,
    "start_time": "2023-05-05T12:08:39.448Z"
   },
   {
    "duration": 9,
    "start_time": "2023-05-05T12:08:53.424Z"
   },
   {
    "duration": 47402,
    "start_time": "2023-05-05T12:08:56.785Z"
   },
   {
    "duration": 3094,
    "start_time": "2023-05-05T12:09:44.189Z"
   },
   {
    "duration": 88,
    "start_time": "2023-05-05T12:09:47.285Z"
   },
   {
    "duration": 5,
    "start_time": "2023-05-05T12:11:47.331Z"
   },
   {
    "duration": 3,
    "start_time": "2023-05-05T12:11:51.006Z"
   },
   {
    "duration": 4,
    "start_time": "2023-05-05T12:11:54.941Z"
   },
   {
    "duration": 2,
    "start_time": "2023-05-05T12:11:55.347Z"
   },
   {
    "duration": 8,
    "start_time": "2023-05-05T12:11:57.025Z"
   },
   {
    "duration": 2999,
    "start_time": "2023-05-05T12:12:01.984Z"
   },
   {
    "duration": 11,
    "start_time": "2023-05-05T12:12:08.673Z"
   },
   {
    "duration": 12423,
    "start_time": "2023-05-05T12:12:11.001Z"
   },
   {
    "duration": 1706,
    "start_time": "2023-05-05T12:12:23.426Z"
   },
   {
    "duration": 1448,
    "start_time": "2023-05-05T12:12:48.327Z"
   },
   {
    "duration": 9781,
    "start_time": "2023-05-05T12:12:53.380Z"
   },
   {
    "duration": 1015,
    "start_time": "2023-05-05T12:13:03.162Z"
   },
   {
    "duration": 9,
    "start_time": "2023-05-05T12:13:04.179Z"
   },
   {
    "duration": 114666,
    "start_time": "2023-05-05T12:13:04.191Z"
   },
   {
    "duration": 0,
    "start_time": "2023-05-05T12:14:58.859Z"
   },
   {
    "duration": 0,
    "start_time": "2023-05-05T12:14:58.860Z"
   },
   {
    "duration": 40162,
    "start_time": "2023-05-05T12:15:02.031Z"
   },
   {
    "duration": 7,
    "start_time": "2023-05-05T12:15:42.194Z"
   },
   {
    "duration": 207140,
    "start_time": "2023-05-05T12:15:42.202Z"
   },
   {
    "duration": 39428,
    "start_time": "2023-05-05T12:19:09.344Z"
   },
   {
    "duration": 8,
    "start_time": "2023-05-05T12:19:48.774Z"
   },
   {
    "duration": 11,
    "start_time": "2023-05-05T12:19:48.783Z"
   },
   {
    "duration": 13,
    "start_time": "2023-05-05T12:19:48.796Z"
   },
   {
    "duration": 43,
    "start_time": "2023-05-05T12:19:48.811Z"
   },
   {
    "duration": 391604,
    "start_time": "2023-05-05T12:19:48.856Z"
   },
   {
    "duration": 10,
    "start_time": "2023-05-05T12:26:20.462Z"
   },
   {
    "duration": 51,
    "start_time": "2023-05-05T12:26:20.473Z"
   },
   {
    "duration": 52,
    "start_time": "2023-05-05T12:26:20.526Z"
   },
   {
    "duration": 65,
    "start_time": "2023-05-05T12:26:20.579Z"
   },
   {
    "duration": 254120,
    "start_time": "2023-05-05T12:26:20.645Z"
   },
   {
    "duration": 3,
    "start_time": "2023-05-05T12:30:34.766Z"
   },
   {
    "duration": 386123,
    "start_time": "2023-05-05T12:30:34.771Z"
   },
   {
    "duration": 12,
    "start_time": "2023-05-05T12:37:00.896Z"
   },
   {
    "duration": 19,
    "start_time": "2023-05-05T12:37:00.909Z"
   },
   {
    "duration": 23,
    "start_time": "2023-05-05T12:37:00.930Z"
   },
   {
    "duration": 60,
    "start_time": "2023-05-05T12:37:00.955Z"
   },
   {
    "duration": 3,
    "start_time": "2023-05-05T13:26:31.919Z"
   },
   {
    "duration": 390261,
    "start_time": "2023-05-05T13:26:33.020Z"
   },
   {
    "duration": 9,
    "start_time": "2023-05-05T13:33:03.282Z"
   },
   {
    "duration": 59,
    "start_time": "2023-05-05T13:33:03.293Z"
   },
   {
    "duration": 289,
    "start_time": "2023-05-05T13:33:03.354Z"
   },
   {
    "duration": 8,
    "start_time": "2023-05-05T13:36:27.107Z"
   },
   {
    "duration": 5,
    "start_time": "2023-05-05T13:36:30.240Z"
   },
   {
    "duration": 4,
    "start_time": "2023-05-05T13:36:30.485Z"
   },
   {
    "duration": 3,
    "start_time": "2023-05-05T13:36:32.450Z"
   },
   {
    "duration": 6,
    "start_time": "2023-05-05T13:36:32.982Z"
   },
   {
    "duration": 366852,
    "start_time": "2023-05-05T13:36:33.451Z"
   },
   {
    "duration": 5,
    "start_time": "2023-05-05T13:42:40.305Z"
   },
   {
    "duration": 16,
    "start_time": "2023-05-05T13:42:40.311Z"
   },
   {
    "duration": 23,
    "start_time": "2023-05-05T13:42:40.340Z"
   },
   {
    "duration": 16,
    "start_time": "2023-05-05T13:42:40.365Z"
   },
   {
    "duration": 7,
    "start_time": "2023-05-05T13:42:40.382Z"
   },
   {
    "duration": 20,
    "start_time": "2023-05-05T13:42:40.391Z"
   },
   {
    "duration": 26,
    "start_time": "2023-05-05T13:42:40.413Z"
   },
   {
    "duration": 336526,
    "start_time": "2023-05-05T13:42:40.442Z"
   },
   {
    "duration": 5,
    "start_time": "2023-05-05T13:48:16.970Z"
   },
   {
    "duration": 11,
    "start_time": "2023-05-05T13:48:16.976Z"
   },
   {
    "duration": 12,
    "start_time": "2023-05-05T13:48:16.989Z"
   },
   {
    "duration": 58,
    "start_time": "2023-05-05T13:48:17.002Z"
   },
   {
    "duration": 4,
    "start_time": "2023-05-05T13:48:17.062Z"
   },
   {
    "duration": 17,
    "start_time": "2023-05-05T13:48:17.072Z"
   },
   {
    "duration": 346358,
    "start_time": "2023-05-05T13:48:17.091Z"
   },
   {
    "duration": 5,
    "start_time": "2023-05-05T13:54:03.451Z"
   },
   {
    "duration": 11,
    "start_time": "2023-05-05T13:54:03.457Z"
   },
   {
    "duration": 20,
    "start_time": "2023-05-05T13:54:03.470Z"
   },
   {
    "duration": 7,
    "start_time": "2023-05-05T13:54:03.492Z"
   },
   {
    "duration": 14,
    "start_time": "2023-05-05T13:54:03.500Z"
   },
   {
    "duration": 350572,
    "start_time": "2023-05-05T13:54:03.515Z"
   },
   {
    "duration": 5,
    "start_time": "2023-05-05T13:59:54.089Z"
   },
   {
    "duration": 42,
    "start_time": "2023-05-05T13:59:54.096Z"
   },
   {
    "duration": 19,
    "start_time": "2023-05-05T13:59:54.140Z"
   },
   {
    "duration": 17,
    "start_time": "2023-05-05T13:59:54.161Z"
   },
   {
    "duration": 31,
    "start_time": "2023-05-05T13:59:54.182Z"
   },
   {
    "duration": 210811,
    "start_time": "2023-05-05T13:59:54.215Z"
   },
   {
    "duration": 5,
    "start_time": "2023-05-05T14:03:25.028Z"
   },
   {
    "duration": 9,
    "start_time": "2023-05-05T14:03:25.035Z"
   },
   {
    "duration": 27,
    "start_time": "2023-05-05T14:03:25.046Z"
   },
   {
    "duration": 6,
    "start_time": "2023-05-05T14:03:25.075Z"
   },
   {
    "duration": 7,
    "start_time": "2023-05-05T14:03:25.082Z"
   },
   {
    "duration": 5,
    "start_time": "2023-05-05T14:03:25.090Z"
   },
   {
    "duration": 6,
    "start_time": "2023-05-05T14:03:25.096Z"
   },
   {
    "duration": 10,
    "start_time": "2023-05-05T14:03:25.103Z"
   },
   {
    "duration": 13,
    "start_time": "2023-05-05T14:03:25.113Z"
   },
   {
    "duration": 6,
    "start_time": "2023-05-05T14:03:25.128Z"
   },
   {
    "duration": 5,
    "start_time": "2023-05-05T14:03:25.135Z"
   },
   {
    "duration": 8,
    "start_time": "2023-05-05T14:03:25.141Z"
   },
   {
    "duration": 12,
    "start_time": "2023-05-05T14:03:25.150Z"
   },
   {
    "duration": 11,
    "start_time": "2023-05-05T14:03:25.163Z"
   },
   {
    "duration": 7,
    "start_time": "2023-05-05T14:03:25.176Z"
   },
   {
    "duration": 70201,
    "start_time": "2023-05-05T14:03:25.184Z"
   },
   {
    "duration": 10,
    "start_time": "2023-05-05T14:04:35.387Z"
   },
   {
    "duration": 7,
    "start_time": "2023-05-05T14:04:35.398Z"
   },
   {
    "duration": 77308,
    "start_time": "2023-05-05T14:04:35.406Z"
   },
   {
    "duration": 12,
    "start_time": "2023-05-05T14:05:52.715Z"
   },
   {
    "duration": 35,
    "start_time": "2023-05-05T14:05:52.728Z"
   },
   {
    "duration": 4,
    "start_time": "2023-05-05T14:05:52.764Z"
   },
   {
    "duration": 14,
    "start_time": "2023-05-05T14:05:52.770Z"
   },
   {
    "duration": 14,
    "start_time": "2023-05-05T14:05:52.785Z"
   },
   {
    "duration": 9,
    "start_time": "2023-05-05T14:05:52.800Z"
   },
   {
    "duration": 39,
    "start_time": "2023-05-05T14:05:52.810Z"
   },
   {
    "duration": 23,
    "start_time": "2023-05-05T14:05:52.852Z"
   },
   {
    "duration": 490399,
    "start_time": "2023-05-05T14:05:52.876Z"
   },
   {
    "duration": 4,
    "start_time": "2023-05-05T14:14:03.277Z"
   },
   {
    "duration": 6,
    "start_time": "2023-05-05T14:14:03.282Z"
   },
   {
    "duration": 19,
    "start_time": "2023-05-05T14:14:03.289Z"
   },
   {
    "duration": 23844,
    "start_time": "2023-05-05T14:14:03.309Z"
   },
   {
    "duration": 83,
    "start_time": "2023-05-05T14:14:27.154Z"
   },
   {
    "duration": 1975,
    "start_time": "2023-05-05T14:14:27.239Z"
   },
   {
    "duration": 26,
    "start_time": "2023-05-05T14:14:29.216Z"
   },
   {
    "duration": 3,
    "start_time": "2023-05-05T14:29:02.344Z"
   },
   {
    "duration": 12,
    "start_time": "2023-05-05T14:29:02.958Z"
   },
   {
    "duration": 297345,
    "start_time": "2023-05-05T14:29:06.060Z"
   },
   {
    "duration": 5,
    "start_time": "2023-05-05T14:34:03.406Z"
   },
   {
    "duration": 34,
    "start_time": "2023-05-05T14:34:03.412Z"
   },
   {
    "duration": 9,
    "start_time": "2023-05-05T14:34:03.448Z"
   },
   {
    "duration": 0,
    "start_time": "2023-05-05T14:34:03.490Z"
   },
   {
    "duration": 0,
    "start_time": "2023-05-05T14:34:03.491Z"
   },
   {
    "duration": 0,
    "start_time": "2023-05-05T14:34:03.492Z"
   },
   {
    "duration": 4,
    "start_time": "2023-05-05T14:34:29.132Z"
   },
   {
    "duration": 9,
    "start_time": "2023-05-05T14:34:35.101Z"
   },
   {
    "duration": 4,
    "start_time": "2023-05-05T14:34:52.647Z"
   },
   {
    "duration": 4,
    "start_time": "2023-05-05T14:34:57.966Z"
   },
   {
    "duration": 16,
    "start_time": "2023-05-05T14:35:30.562Z"
   },
   {
    "duration": 5,
    "start_time": "2023-05-05T14:36:22.250Z"
   },
   {
    "duration": 5,
    "start_time": "2023-05-05T14:36:27.287Z"
   },
   {
    "duration": 4,
    "start_time": "2023-05-05T14:36:31.729Z"
   },
   {
    "duration": 19,
    "start_time": "2023-05-05T14:36:46.392Z"
   },
   {
    "duration": 13,
    "start_time": "2023-05-05T14:37:16.168Z"
   },
   {
    "duration": 1461,
    "start_time": "2023-05-05T14:39:20.518Z"
   },
   {
    "duration": 10,
    "start_time": "2023-05-05T14:39:47.032Z"
   },
   {
    "duration": 4,
    "start_time": "2023-05-05T14:41:08.115Z"
   },
   {
    "duration": 9,
    "start_time": "2023-05-05T14:41:09.763Z"
   },
   {
    "duration": 4,
    "start_time": "2023-05-05T14:41:29.987Z"
   },
   {
    "duration": 4,
    "start_time": "2023-05-05T14:41:40.906Z"
   },
   {
    "duration": 9,
    "start_time": "2023-05-05T14:41:44.755Z"
   },
   {
    "duration": 1171,
    "start_time": "2023-05-05T14:41:58.345Z"
   },
   {
    "duration": 1682,
    "start_time": "2023-05-05T14:42:15.612Z"
   },
   {
    "duration": 3,
    "start_time": "2023-05-05T14:42:27.230Z"
   },
   {
    "duration": 2595,
    "start_time": "2023-05-05T14:42:32.361Z"
   },
   {
    "duration": 11,
    "start_time": "2023-05-05T14:42:48.331Z"
   },
   {
    "duration": 2523,
    "start_time": "2023-05-05T14:42:53.623Z"
   },
   {
    "duration": 5,
    "start_time": "2023-05-05T14:43:03.756Z"
   },
   {
    "duration": 5,
    "start_time": "2023-05-05T14:43:21.482Z"
   },
   {
    "duration": 17,
    "start_time": "2023-05-05T14:43:23.164Z"
   },
   {
    "duration": 15,
    "start_time": "2023-05-05T14:48:55.394Z"
   },
   {
    "duration": 2090,
    "start_time": "2023-05-05T14:49:32.891Z"
   },
   {
    "duration": 1538,
    "start_time": "2023-05-05T14:49:34.983Z"
   },
   {
    "duration": 2,
    "start_time": "2023-05-05T14:49:36.523Z"
   },
   {
    "duration": 639,
    "start_time": "2023-05-05T14:49:36.527Z"
   },
   {
    "duration": 40,
    "start_time": "2023-05-05T14:49:37.167Z"
   },
   {
    "duration": 4,
    "start_time": "2023-05-05T14:49:37.209Z"
   },
   {
    "duration": 74,
    "start_time": "2023-05-05T14:49:37.215Z"
   },
   {
    "duration": 219,
    "start_time": "2023-05-05T14:49:37.290Z"
   },
   {
    "duration": 6,
    "start_time": "2023-05-05T14:49:37.511Z"
   },
   {
    "duration": 5,
    "start_time": "2023-05-05T14:49:37.519Z"
   },
   {
    "duration": 6,
    "start_time": "2023-05-05T14:49:37.526Z"
   },
   {
    "duration": 15,
    "start_time": "2023-05-05T14:49:37.533Z"
   },
   {
    "duration": 2,
    "start_time": "2023-05-05T14:49:37.550Z"
   },
   {
    "duration": 34,
    "start_time": "2023-05-05T14:49:37.553Z"
   },
   {
    "duration": 6,
    "start_time": "2023-05-05T14:49:37.588Z"
   },
   {
    "duration": 22,
    "start_time": "2023-05-05T14:49:37.595Z"
   },
   {
    "duration": 2,
    "start_time": "2023-05-05T14:49:37.619Z"
   },
   {
    "duration": 10,
    "start_time": "2023-05-05T14:49:37.622Z"
   },
   {
    "duration": 19,
    "start_time": "2023-05-05T14:49:37.634Z"
   },
   {
    "duration": 9,
    "start_time": "2023-05-05T14:49:37.655Z"
   },
   {
    "duration": 200,
    "start_time": "2023-05-05T14:49:37.665Z"
   },
   {
    "duration": 472,
    "start_time": "2023-05-05T14:49:37.867Z"
   },
   {
    "duration": 395,
    "start_time": "2023-05-05T14:49:38.340Z"
   },
   {
    "duration": 445,
    "start_time": "2023-05-05T14:49:38.737Z"
   },
   {
    "duration": 360,
    "start_time": "2023-05-05T14:49:39.184Z"
   },
   {
    "duration": 3,
    "start_time": "2023-05-05T14:49:39.546Z"
   },
   {
    "duration": 19,
    "start_time": "2023-05-05T14:49:39.550Z"
   },
   {
    "duration": 475,
    "start_time": "2023-05-05T14:49:39.574Z"
   },
   {
    "duration": 4,
    "start_time": "2023-05-05T14:49:40.050Z"
   },
   {
    "duration": 26,
    "start_time": "2023-05-05T14:49:40.055Z"
   },
   {
    "duration": 8,
    "start_time": "2023-05-05T14:49:40.083Z"
   },
   {
    "duration": 16,
    "start_time": "2023-05-05T14:49:40.092Z"
   },
   {
    "duration": 184,
    "start_time": "2023-05-05T14:49:40.110Z"
   },
   {
    "duration": 260,
    "start_time": "2023-05-05T14:49:40.296Z"
   },
   {
    "duration": 4,
    "start_time": "2023-05-05T14:49:40.558Z"
   },
   {
    "duration": 1898,
    "start_time": "2023-05-05T14:49:40.563Z"
   },
   {
    "duration": 51,
    "start_time": "2023-05-05T14:49:42.462Z"
   },
   {
    "duration": 11,
    "start_time": "2023-05-05T14:49:42.514Z"
   },
   {
    "duration": 21,
    "start_time": "2023-05-05T14:49:42.526Z"
   },
   {
    "duration": 46,
    "start_time": "2023-05-05T14:49:42.549Z"
   },
   {
    "duration": 11,
    "start_time": "2023-05-05T14:49:42.597Z"
   },
   {
    "duration": 13,
    "start_time": "2023-05-05T14:49:42.610Z"
   },
   {
    "duration": 29,
    "start_time": "2023-05-05T14:49:42.625Z"
   },
   {
    "duration": 38,
    "start_time": "2023-05-05T14:49:42.656Z"
   },
   {
    "duration": 10,
    "start_time": "2023-05-05T14:49:42.696Z"
   },
   {
    "duration": 7,
    "start_time": "2023-05-05T14:49:42.707Z"
   },
   {
    "duration": 9,
    "start_time": "2023-05-05T14:49:42.716Z"
   },
   {
    "duration": 10,
    "start_time": "2023-05-05T14:49:42.727Z"
   },
   {
    "duration": 9,
    "start_time": "2023-05-05T14:49:42.739Z"
   },
   {
    "duration": 745,
    "start_time": "2023-05-05T14:49:42.750Z"
   },
   {
    "duration": 0,
    "start_time": "2023-05-05T14:49:43.498Z"
   },
   {
    "duration": 0,
    "start_time": "2023-05-05T14:49:43.499Z"
   },
   {
    "duration": 0,
    "start_time": "2023-05-05T14:49:43.501Z"
   },
   {
    "duration": 0,
    "start_time": "2023-05-05T14:49:43.502Z"
   },
   {
    "duration": 0,
    "start_time": "2023-05-05T14:49:43.504Z"
   },
   {
    "duration": 0,
    "start_time": "2023-05-05T14:49:43.505Z"
   },
   {
    "duration": 0,
    "start_time": "2023-05-05T14:49:43.506Z"
   },
   {
    "duration": 0,
    "start_time": "2023-05-05T14:49:43.508Z"
   },
   {
    "duration": 0,
    "start_time": "2023-05-05T14:49:43.509Z"
   },
   {
    "duration": 0,
    "start_time": "2023-05-05T14:49:43.510Z"
   },
   {
    "duration": 0,
    "start_time": "2023-05-05T14:49:43.511Z"
   },
   {
    "duration": 0,
    "start_time": "2023-05-05T14:49:43.512Z"
   },
   {
    "duration": 0,
    "start_time": "2023-05-05T14:49:43.514Z"
   },
   {
    "duration": 0,
    "start_time": "2023-05-05T14:49:43.514Z"
   },
   {
    "duration": 0,
    "start_time": "2023-05-05T14:49:43.516Z"
   },
   {
    "duration": 0,
    "start_time": "2023-05-05T14:49:43.517Z"
   },
   {
    "duration": 0,
    "start_time": "2023-05-05T14:49:43.518Z"
   },
   {
    "duration": 0,
    "start_time": "2023-05-05T14:49:43.519Z"
   },
   {
    "duration": 0,
    "start_time": "2023-05-05T14:49:43.521Z"
   },
   {
    "duration": 0,
    "start_time": "2023-05-05T14:49:43.522Z"
   },
   {
    "duration": 0,
    "start_time": "2023-05-05T14:49:43.523Z"
   },
   {
    "duration": 0,
    "start_time": "2023-05-05T14:49:43.525Z"
   },
   {
    "duration": 0,
    "start_time": "2023-05-05T14:49:43.526Z"
   },
   {
    "duration": 0,
    "start_time": "2023-05-05T14:49:43.572Z"
   },
   {
    "duration": 0,
    "start_time": "2023-05-05T14:49:43.574Z"
   },
   {
    "duration": 0,
    "start_time": "2023-05-05T14:49:43.575Z"
   },
   {
    "duration": 0,
    "start_time": "2023-05-05T14:49:43.576Z"
   },
   {
    "duration": 0,
    "start_time": "2023-05-05T14:49:43.577Z"
   },
   {
    "duration": 0,
    "start_time": "2023-05-05T14:49:43.578Z"
   },
   {
    "duration": 0,
    "start_time": "2023-05-05T14:49:43.579Z"
   },
   {
    "duration": 0,
    "start_time": "2023-05-05T14:49:43.580Z"
   },
   {
    "duration": 0,
    "start_time": "2023-05-05T14:49:43.582Z"
   },
   {
    "duration": 0,
    "start_time": "2023-05-05T14:49:43.583Z"
   },
   {
    "duration": 0,
    "start_time": "2023-05-05T14:49:43.584Z"
   },
   {
    "duration": 0,
    "start_time": "2023-05-05T14:49:43.584Z"
   },
   {
    "duration": 0,
    "start_time": "2023-05-05T14:49:43.585Z"
   },
   {
    "duration": 0,
    "start_time": "2023-05-05T14:49:43.586Z"
   },
   {
    "duration": 0,
    "start_time": "2023-05-05T14:49:43.586Z"
   },
   {
    "duration": 0,
    "start_time": "2023-05-05T14:49:43.587Z"
   },
   {
    "duration": 0,
    "start_time": "2023-05-05T14:49:43.588Z"
   },
   {
    "duration": 1,
    "start_time": "2023-05-05T14:49:43.588Z"
   },
   {
    "duration": 0,
    "start_time": "2023-05-05T14:49:43.589Z"
   },
   {
    "duration": 0,
    "start_time": "2023-05-05T14:49:43.590Z"
   },
   {
    "duration": 0,
    "start_time": "2023-05-05T14:49:43.591Z"
   },
   {
    "duration": 0,
    "start_time": "2023-05-05T14:49:43.592Z"
   },
   {
    "duration": 0,
    "start_time": "2023-05-05T14:49:43.593Z"
   },
   {
    "duration": 0,
    "start_time": "2023-05-05T14:49:43.594Z"
   },
   {
    "duration": 0,
    "start_time": "2023-05-05T14:49:43.595Z"
   },
   {
    "duration": 0,
    "start_time": "2023-05-05T14:49:43.597Z"
   },
   {
    "duration": 0,
    "start_time": "2023-05-05T14:49:43.597Z"
   },
   {
    "duration": 0,
    "start_time": "2023-05-05T14:49:43.598Z"
   },
   {
    "duration": 0,
    "start_time": "2023-05-05T14:49:43.599Z"
   },
   {
    "duration": 0,
    "start_time": "2023-05-05T14:49:43.601Z"
   },
   {
    "duration": 0,
    "start_time": "2023-05-05T14:49:43.601Z"
   },
   {
    "duration": 0,
    "start_time": "2023-05-05T14:49:43.603Z"
   },
   {
    "duration": 0,
    "start_time": "2023-05-05T14:49:43.604Z"
   },
   {
    "duration": 0,
    "start_time": "2023-05-05T14:49:43.604Z"
   },
   {
    "duration": 0,
    "start_time": "2023-05-05T14:49:43.605Z"
   },
   {
    "duration": 0,
    "start_time": "2023-05-05T14:49:43.606Z"
   },
   {
    "duration": 0,
    "start_time": "2023-05-05T14:49:43.607Z"
   },
   {
    "duration": 0,
    "start_time": "2023-05-05T14:49:43.608Z"
   },
   {
    "duration": 0,
    "start_time": "2023-05-05T14:49:43.609Z"
   },
   {
    "duration": 0,
    "start_time": "2023-05-05T14:49:43.610Z"
   },
   {
    "duration": 0,
    "start_time": "2023-05-05T14:49:43.611Z"
   },
   {
    "duration": 0,
    "start_time": "2023-05-05T14:49:43.612Z"
   },
   {
    "duration": 0,
    "start_time": "2023-05-05T14:49:43.613Z"
   },
   {
    "duration": 0,
    "start_time": "2023-05-05T14:49:43.614Z"
   },
   {
    "duration": 0,
    "start_time": "2023-05-05T14:49:43.614Z"
   },
   {
    "duration": 0,
    "start_time": "2023-05-05T14:49:43.615Z"
   },
   {
    "duration": 0,
    "start_time": "2023-05-05T14:49:43.616Z"
   },
   {
    "duration": 0,
    "start_time": "2023-05-05T14:49:43.617Z"
   },
   {
    "duration": 0,
    "start_time": "2023-05-05T14:49:43.679Z"
   },
   {
    "duration": 0,
    "start_time": "2023-05-05T14:49:43.680Z"
   },
   {
    "duration": 0,
    "start_time": "2023-05-05T14:49:43.680Z"
   },
   {
    "duration": 0,
    "start_time": "2023-05-05T14:49:43.681Z"
   },
   {
    "duration": 0,
    "start_time": "2023-05-05T14:49:43.681Z"
   },
   {
    "duration": 0,
    "start_time": "2023-05-05T14:49:43.682Z"
   },
   {
    "duration": 0,
    "start_time": "2023-05-05T14:49:43.682Z"
   },
   {
    "duration": 0,
    "start_time": "2023-05-05T14:49:43.683Z"
   },
   {
    "duration": 0,
    "start_time": "2023-05-05T14:49:43.683Z"
   },
   {
    "duration": 0,
    "start_time": "2023-05-05T14:49:43.684Z"
   },
   {
    "duration": 0,
    "start_time": "2023-05-05T14:49:43.684Z"
   },
   {
    "duration": 0,
    "start_time": "2023-05-05T14:49:43.685Z"
   },
   {
    "duration": 0,
    "start_time": "2023-05-05T14:49:43.685Z"
   },
   {
    "duration": 0,
    "start_time": "2023-05-05T14:49:43.686Z"
   },
   {
    "duration": 0,
    "start_time": "2023-05-05T14:49:43.686Z"
   },
   {
    "duration": 0,
    "start_time": "2023-05-05T14:49:43.686Z"
   },
   {
    "duration": 0,
    "start_time": "2023-05-05T14:49:43.687Z"
   },
   {
    "duration": 0,
    "start_time": "2023-05-05T14:49:43.687Z"
   },
   {
    "duration": 0,
    "start_time": "2023-05-05T14:49:43.688Z"
   },
   {
    "duration": 0,
    "start_time": "2023-05-05T14:49:43.688Z"
   },
   {
    "duration": 0,
    "start_time": "2023-05-05T14:49:43.689Z"
   },
   {
    "duration": 0,
    "start_time": "2023-05-05T14:49:43.689Z"
   },
   {
    "duration": 0,
    "start_time": "2023-05-05T14:49:43.693Z"
   },
   {
    "duration": 0,
    "start_time": "2023-05-05T14:49:43.695Z"
   },
   {
    "duration": 0,
    "start_time": "2023-05-05T14:49:43.696Z"
   },
   {
    "duration": 0,
    "start_time": "2023-05-05T14:49:43.697Z"
   },
   {
    "duration": 0,
    "start_time": "2023-05-05T14:49:43.698Z"
   },
   {
    "duration": 0,
    "start_time": "2023-05-05T14:49:43.699Z"
   },
   {
    "duration": 0,
    "start_time": "2023-05-05T14:49:43.700Z"
   },
   {
    "duration": 0,
    "start_time": "2023-05-05T14:49:43.701Z"
   },
   {
    "duration": 0,
    "start_time": "2023-05-05T14:49:43.702Z"
   },
   {
    "duration": 0,
    "start_time": "2023-05-05T14:49:43.703Z"
   },
   {
    "duration": 0,
    "start_time": "2023-05-05T14:49:43.704Z"
   },
   {
    "duration": 0,
    "start_time": "2023-05-05T14:49:43.705Z"
   },
   {
    "duration": 0,
    "start_time": "2023-05-05T14:49:43.706Z"
   },
   {
    "duration": 0,
    "start_time": "2023-05-05T14:49:43.707Z"
   },
   {
    "duration": 0,
    "start_time": "2023-05-05T14:49:43.708Z"
   },
   {
    "duration": 0,
    "start_time": "2023-05-05T14:49:43.709Z"
   },
   {
    "duration": 2057,
    "start_time": "2023-05-05T14:52:22.343Z"
   },
   {
    "duration": 4,
    "start_time": "2023-05-05T14:52:24.403Z"
   },
   {
    "duration": 9,
    "start_time": "2023-05-05T14:52:24.408Z"
   },
   {
    "duration": 600,
    "start_time": "2023-05-05T14:52:24.419Z"
   },
   {
    "duration": 42,
    "start_time": "2023-05-05T14:52:25.021Z"
   },
   {
    "duration": 5,
    "start_time": "2023-05-05T14:52:25.076Z"
   },
   {
    "duration": 90,
    "start_time": "2023-05-05T14:52:25.083Z"
   },
   {
    "duration": 241,
    "start_time": "2023-05-05T14:52:25.176Z"
   },
   {
    "duration": 10,
    "start_time": "2023-05-05T14:52:25.419Z"
   },
   {
    "duration": 83,
    "start_time": "2023-05-05T14:52:25.432Z"
   },
   {
    "duration": 41,
    "start_time": "2023-05-05T14:52:25.517Z"
   },
   {
    "duration": 45,
    "start_time": "2023-05-05T14:52:25.559Z"
   },
   {
    "duration": 26,
    "start_time": "2023-05-05T14:52:25.606Z"
   },
   {
    "duration": 31,
    "start_time": "2023-05-05T14:52:25.634Z"
   },
   {
    "duration": 3,
    "start_time": "2023-05-05T14:52:25.667Z"
   },
   {
    "duration": 25,
    "start_time": "2023-05-05T14:52:25.672Z"
   },
   {
    "duration": 3,
    "start_time": "2023-05-05T14:52:25.699Z"
   },
   {
    "duration": 10,
    "start_time": "2023-05-05T14:52:25.704Z"
   },
   {
    "duration": 14,
    "start_time": "2023-05-05T14:52:25.715Z"
   },
   {
    "duration": 3,
    "start_time": "2023-05-05T14:52:25.771Z"
   },
   {
    "duration": 528,
    "start_time": "2023-05-05T14:52:25.776Z"
   },
   {
    "duration": 1272,
    "start_time": "2023-05-05T14:52:26.306Z"
   },
   {
    "duration": 590,
    "start_time": "2023-05-05T14:52:27.579Z"
   },
   {
    "duration": 470,
    "start_time": "2023-05-05T14:52:28.172Z"
   },
   {
    "duration": 531,
    "start_time": "2023-05-05T14:52:28.644Z"
   },
   {
    "duration": 4,
    "start_time": "2023-05-05T14:52:29.177Z"
   },
   {
    "duration": 14,
    "start_time": "2023-05-05T14:52:29.182Z"
   },
   {
    "duration": 533,
    "start_time": "2023-05-05T14:52:29.200Z"
   },
   {
    "duration": 6,
    "start_time": "2023-05-05T14:52:29.735Z"
   },
   {
    "duration": 56,
    "start_time": "2023-05-05T14:52:29.743Z"
   },
   {
    "duration": 20,
    "start_time": "2023-05-05T14:52:29.800Z"
   },
   {
    "duration": 12,
    "start_time": "2023-05-05T14:52:29.822Z"
   },
   {
    "duration": 176,
    "start_time": "2023-05-05T14:52:29.836Z"
   },
   {
    "duration": 195,
    "start_time": "2023-05-05T14:52:30.013Z"
   },
   {
    "duration": 6,
    "start_time": "2023-05-05T14:52:30.210Z"
   },
   {
    "duration": 2231,
    "start_time": "2023-05-05T14:52:38.508Z"
   },
   {
    "duration": 2150,
    "start_time": "2023-05-05T14:52:40.741Z"
   },
   {
    "duration": 3,
    "start_time": "2023-05-05T14:52:42.895Z"
   },
   {
    "duration": 882,
    "start_time": "2023-05-05T14:52:42.901Z"
   },
   {
    "duration": 37,
    "start_time": "2023-05-05T14:52:43.786Z"
   },
   {
    "duration": 4,
    "start_time": "2023-05-05T14:52:43.824Z"
   },
   {
    "duration": 69,
    "start_time": "2023-05-05T14:52:43.830Z"
   },
   {
    "duration": 241,
    "start_time": "2023-05-05T14:52:43.901Z"
   },
   {
    "duration": 10,
    "start_time": "2023-05-05T14:52:44.144Z"
   },
   {
    "duration": 16,
    "start_time": "2023-05-05T14:52:44.156Z"
   },
   {
    "duration": 7,
    "start_time": "2023-05-05T14:52:44.174Z"
   },
   {
    "duration": 16,
    "start_time": "2023-05-05T14:52:44.183Z"
   },
   {
    "duration": 3,
    "start_time": "2023-05-05T14:52:44.200Z"
   },
   {
    "duration": 19,
    "start_time": "2023-05-05T14:52:44.204Z"
   },
   {
    "duration": 3,
    "start_time": "2023-05-05T14:52:44.224Z"
   },
   {
    "duration": 45,
    "start_time": "2023-05-05T14:52:44.228Z"
   },
   {
    "duration": 2,
    "start_time": "2023-05-05T14:52:44.275Z"
   },
   {
    "duration": 14,
    "start_time": "2023-05-05T14:52:44.278Z"
   },
   {
    "duration": 12,
    "start_time": "2023-05-05T14:52:44.294Z"
   },
   {
    "duration": 6,
    "start_time": "2023-05-05T14:52:44.309Z"
   },
   {
    "duration": 218,
    "start_time": "2023-05-05T14:52:44.317Z"
   },
   {
    "duration": 486,
    "start_time": "2023-05-05T14:52:44.536Z"
   },
   {
    "duration": 410,
    "start_time": "2023-05-05T14:52:45.024Z"
   },
   {
    "duration": 489,
    "start_time": "2023-05-05T14:52:45.436Z"
   },
   {
    "duration": 474,
    "start_time": "2023-05-05T14:52:45.927Z"
   },
   {
    "duration": 3,
    "start_time": "2023-05-05T14:52:46.403Z"
   },
   {
    "duration": 14,
    "start_time": "2023-05-05T14:52:46.408Z"
   },
   {
    "duration": 501,
    "start_time": "2023-05-05T14:52:46.426Z"
   },
   {
    "duration": 4,
    "start_time": "2023-05-05T14:52:46.929Z"
   },
   {
    "duration": 14,
    "start_time": "2023-05-05T14:52:46.935Z"
   },
   {
    "duration": 4,
    "start_time": "2023-05-05T14:52:46.951Z"
   },
   {
    "duration": 13,
    "start_time": "2023-05-05T14:52:46.973Z"
   },
   {
    "duration": 199,
    "start_time": "2023-05-05T14:52:46.987Z"
   },
   {
    "duration": 267,
    "start_time": "2023-05-05T14:52:47.188Z"
   },
   {
    "duration": 4,
    "start_time": "2023-05-05T14:52:47.457Z"
   },
   {
    "duration": 1793,
    "start_time": "2023-05-05T14:52:47.462Z"
   },
   {
    "duration": 69,
    "start_time": "2023-05-05T14:52:49.256Z"
   },
   {
    "duration": 13,
    "start_time": "2023-05-05T14:52:49.327Z"
   },
   {
    "duration": 38,
    "start_time": "2023-05-05T14:52:49.343Z"
   },
   {
    "duration": 24,
    "start_time": "2023-05-05T14:52:49.383Z"
   },
   {
    "duration": 7,
    "start_time": "2023-05-05T14:52:49.409Z"
   },
   {
    "duration": 15,
    "start_time": "2023-05-05T14:52:49.417Z"
   },
   {
    "duration": 10,
    "start_time": "2023-05-05T14:52:49.434Z"
   },
   {
    "duration": 16,
    "start_time": "2023-05-05T14:52:49.446Z"
   },
   {
    "duration": 3,
    "start_time": "2023-05-05T14:52:49.473Z"
   },
   {
    "duration": 9,
    "start_time": "2023-05-05T14:52:49.478Z"
   },
   {
    "duration": 7,
    "start_time": "2023-05-05T14:52:49.489Z"
   },
   {
    "duration": 11,
    "start_time": "2023-05-05T14:52:49.497Z"
   },
   {
    "duration": 9,
    "start_time": "2023-05-05T14:52:49.509Z"
   },
   {
    "duration": 5,
    "start_time": "2023-05-05T14:52:49.520Z"
   },
   {
    "duration": 478,
    "start_time": "2023-05-05T14:52:49.527Z"
   },
   {
    "duration": 0,
    "start_time": "2023-05-05T14:52:50.009Z"
   },
   {
    "duration": 0,
    "start_time": "2023-05-05T14:52:50.010Z"
   },
   {
    "duration": 0,
    "start_time": "2023-05-05T14:52:50.011Z"
   },
   {
    "duration": 0,
    "start_time": "2023-05-05T14:52:50.012Z"
   },
   {
    "duration": 0,
    "start_time": "2023-05-05T14:52:50.013Z"
   },
   {
    "duration": 0,
    "start_time": "2023-05-05T14:52:50.015Z"
   },
   {
    "duration": 0,
    "start_time": "2023-05-05T14:52:50.016Z"
   },
   {
    "duration": 0,
    "start_time": "2023-05-05T14:52:50.017Z"
   },
   {
    "duration": 0,
    "start_time": "2023-05-05T14:52:50.018Z"
   },
   {
    "duration": 0,
    "start_time": "2023-05-05T14:52:50.019Z"
   },
   {
    "duration": 1,
    "start_time": "2023-05-05T14:52:50.020Z"
   },
   {
    "duration": 1,
    "start_time": "2023-05-05T14:52:50.021Z"
   },
   {
    "duration": 0,
    "start_time": "2023-05-05T14:52:50.023Z"
   },
   {
    "duration": 0,
    "start_time": "2023-05-05T14:52:50.024Z"
   },
   {
    "duration": 0,
    "start_time": "2023-05-05T14:52:50.025Z"
   },
   {
    "duration": 0,
    "start_time": "2023-05-05T14:52:50.026Z"
   },
   {
    "duration": 0,
    "start_time": "2023-05-05T14:52:50.026Z"
   },
   {
    "duration": 0,
    "start_time": "2023-05-05T14:52:50.027Z"
   },
   {
    "duration": 0,
    "start_time": "2023-05-05T14:52:50.028Z"
   },
   {
    "duration": 0,
    "start_time": "2023-05-05T14:52:50.029Z"
   },
   {
    "duration": 0,
    "start_time": "2023-05-05T14:52:50.030Z"
   },
   {
    "duration": 0,
    "start_time": "2023-05-05T14:52:50.031Z"
   },
   {
    "duration": 0,
    "start_time": "2023-05-05T14:52:50.032Z"
   },
   {
    "duration": 0,
    "start_time": "2023-05-05T14:52:50.033Z"
   },
   {
    "duration": 0,
    "start_time": "2023-05-05T14:52:50.072Z"
   },
   {
    "duration": 0,
    "start_time": "2023-05-05T14:52:50.073Z"
   },
   {
    "duration": 0,
    "start_time": "2023-05-05T14:52:50.075Z"
   },
   {
    "duration": 0,
    "start_time": "2023-05-05T14:52:50.076Z"
   },
   {
    "duration": 0,
    "start_time": "2023-05-05T14:52:50.078Z"
   },
   {
    "duration": 0,
    "start_time": "2023-05-05T14:52:50.079Z"
   },
   {
    "duration": 0,
    "start_time": "2023-05-05T14:52:50.080Z"
   },
   {
    "duration": 0,
    "start_time": "2023-05-05T14:52:50.082Z"
   },
   {
    "duration": 0,
    "start_time": "2023-05-05T14:52:50.083Z"
   },
   {
    "duration": 0,
    "start_time": "2023-05-05T14:52:50.084Z"
   },
   {
    "duration": 0,
    "start_time": "2023-05-05T14:52:50.086Z"
   },
   {
    "duration": 0,
    "start_time": "2023-05-05T14:52:50.087Z"
   },
   {
    "duration": 0,
    "start_time": "2023-05-05T14:52:50.088Z"
   },
   {
    "duration": 0,
    "start_time": "2023-05-05T14:52:50.089Z"
   },
   {
    "duration": 0,
    "start_time": "2023-05-05T14:52:50.091Z"
   },
   {
    "duration": 0,
    "start_time": "2023-05-05T14:52:50.092Z"
   },
   {
    "duration": 0,
    "start_time": "2023-05-05T14:52:50.093Z"
   },
   {
    "duration": 0,
    "start_time": "2023-05-05T14:52:50.094Z"
   },
   {
    "duration": 0,
    "start_time": "2023-05-05T14:52:50.096Z"
   },
   {
    "duration": 0,
    "start_time": "2023-05-05T14:52:50.097Z"
   },
   {
    "duration": 0,
    "start_time": "2023-05-05T14:52:50.098Z"
   },
   {
    "duration": 0,
    "start_time": "2023-05-05T14:52:50.099Z"
   },
   {
    "duration": 0,
    "start_time": "2023-05-05T14:52:50.101Z"
   },
   {
    "duration": 0,
    "start_time": "2023-05-05T14:52:50.103Z"
   },
   {
    "duration": 0,
    "start_time": "2023-05-05T14:52:50.104Z"
   },
   {
    "duration": 0,
    "start_time": "2023-05-05T14:52:50.105Z"
   },
   {
    "duration": 0,
    "start_time": "2023-05-05T14:52:50.107Z"
   },
   {
    "duration": 0,
    "start_time": "2023-05-05T14:52:50.171Z"
   },
   {
    "duration": 0,
    "start_time": "2023-05-05T14:52:50.173Z"
   },
   {
    "duration": 0,
    "start_time": "2023-05-05T14:52:50.174Z"
   },
   {
    "duration": 0,
    "start_time": "2023-05-05T14:52:50.176Z"
   },
   {
    "duration": 0,
    "start_time": "2023-05-05T14:52:50.176Z"
   },
   {
    "duration": 0,
    "start_time": "2023-05-05T14:52:50.177Z"
   },
   {
    "duration": 0,
    "start_time": "2023-05-05T14:52:50.178Z"
   },
   {
    "duration": 0,
    "start_time": "2023-05-05T14:52:50.179Z"
   },
   {
    "duration": 0,
    "start_time": "2023-05-05T14:52:50.180Z"
   },
   {
    "duration": 0,
    "start_time": "2023-05-05T14:52:50.181Z"
   },
   {
    "duration": 0,
    "start_time": "2023-05-05T14:52:50.182Z"
   },
   {
    "duration": 0,
    "start_time": "2023-05-05T14:52:50.183Z"
   },
   {
    "duration": 0,
    "start_time": "2023-05-05T14:52:50.184Z"
   },
   {
    "duration": 0,
    "start_time": "2023-05-05T14:52:50.186Z"
   },
   {
    "duration": 0,
    "start_time": "2023-05-05T14:52:50.186Z"
   },
   {
    "duration": 0,
    "start_time": "2023-05-05T14:52:50.187Z"
   },
   {
    "duration": 0,
    "start_time": "2023-05-05T14:52:50.188Z"
   },
   {
    "duration": 0,
    "start_time": "2023-05-05T14:52:50.190Z"
   },
   {
    "duration": 0,
    "start_time": "2023-05-05T14:52:50.192Z"
   },
   {
    "duration": 0,
    "start_time": "2023-05-05T14:52:50.194Z"
   },
   {
    "duration": 0,
    "start_time": "2023-05-05T14:52:50.195Z"
   },
   {
    "duration": 0,
    "start_time": "2023-05-05T14:52:50.197Z"
   },
   {
    "duration": 0,
    "start_time": "2023-05-05T14:52:50.198Z"
   },
   {
    "duration": 0,
    "start_time": "2023-05-05T14:52:50.199Z"
   },
   {
    "duration": 0,
    "start_time": "2023-05-05T14:52:50.201Z"
   },
   {
    "duration": 0,
    "start_time": "2023-05-05T14:52:50.202Z"
   },
   {
    "duration": 0,
    "start_time": "2023-05-05T14:52:50.203Z"
   },
   {
    "duration": 0,
    "start_time": "2023-05-05T14:52:50.205Z"
   },
   {
    "duration": 0,
    "start_time": "2023-05-05T14:52:50.206Z"
   },
   {
    "duration": 0,
    "start_time": "2023-05-05T14:52:50.207Z"
   },
   {
    "duration": 0,
    "start_time": "2023-05-05T14:52:50.209Z"
   },
   {
    "duration": 0,
    "start_time": "2023-05-05T14:52:50.210Z"
   },
   {
    "duration": 0,
    "start_time": "2023-05-05T14:52:50.272Z"
   },
   {
    "duration": 0,
    "start_time": "2023-05-05T14:52:50.274Z"
   },
   {
    "duration": 0,
    "start_time": "2023-05-05T14:52:50.275Z"
   },
   {
    "duration": 0,
    "start_time": "2023-05-05T14:52:50.277Z"
   },
   {
    "duration": 0,
    "start_time": "2023-05-05T14:52:50.278Z"
   },
   {
    "duration": 0,
    "start_time": "2023-05-05T14:52:50.280Z"
   },
   {
    "duration": 0,
    "start_time": "2023-05-05T14:52:50.281Z"
   },
   {
    "duration": 0,
    "start_time": "2023-05-05T14:52:50.282Z"
   },
   {
    "duration": 0,
    "start_time": "2023-05-05T14:52:50.283Z"
   },
   {
    "duration": 1,
    "start_time": "2023-05-05T14:52:50.284Z"
   },
   {
    "duration": 0,
    "start_time": "2023-05-05T14:52:50.286Z"
   },
   {
    "duration": 0,
    "start_time": "2023-05-05T14:52:50.287Z"
   },
   {
    "duration": 0,
    "start_time": "2023-05-05T14:52:50.288Z"
   },
   {
    "duration": 0,
    "start_time": "2023-05-05T14:52:50.290Z"
   },
   {
    "duration": 0,
    "start_time": "2023-05-05T14:52:50.291Z"
   },
   {
    "duration": 0,
    "start_time": "2023-05-05T14:52:50.292Z"
   },
   {
    "duration": 0,
    "start_time": "2023-05-05T14:52:50.293Z"
   },
   {
    "duration": 0,
    "start_time": "2023-05-05T14:52:50.294Z"
   },
   {
    "duration": 0,
    "start_time": "2023-05-05T14:52:50.296Z"
   },
   {
    "duration": 0,
    "start_time": "2023-05-05T14:52:50.297Z"
   },
   {
    "duration": 0,
    "start_time": "2023-05-05T14:52:50.298Z"
   },
   {
    "duration": 0,
    "start_time": "2023-05-05T14:52:50.300Z"
   },
   {
    "duration": 0,
    "start_time": "2023-05-05T14:52:50.301Z"
   },
   {
    "duration": 0,
    "start_time": "2023-05-05T14:52:50.302Z"
   },
   {
    "duration": 0,
    "start_time": "2023-05-05T14:52:50.303Z"
   },
   {
    "duration": 3,
    "start_time": "2023-05-05T14:53:58.475Z"
   },
   {
    "duration": 200,
    "start_time": "2023-05-05T14:54:03.282Z"
   },
   {
    "duration": 24,
    "start_time": "2023-05-05T14:54:42.401Z"
   },
   {
    "duration": 255,
    "start_time": "2023-05-05T14:56:00.731Z"
   },
   {
    "duration": 3,
    "start_time": "2023-05-05T14:56:40.540Z"
   },
   {
    "duration": 3830,
    "start_time": "2023-05-05T14:56:44.758Z"
   },
   {
    "duration": 60,
    "start_time": "2023-05-05T14:57:06.703Z"
   },
   {
    "duration": 45509,
    "start_time": "2023-05-05T14:57:15.662Z"
   },
   {
    "duration": 3,
    "start_time": "2023-05-05T14:59:21.143Z"
   },
   {
    "duration": 2,
    "start_time": "2023-05-05T14:59:23.155Z"
   },
   {
    "duration": 2,
    "start_time": "2023-05-05T14:59:27.160Z"
   },
   {
    "duration": 2368,
    "start_time": "2023-05-05T14:59:28.604Z"
   },
   {
    "duration": 3,
    "start_time": "2023-05-05T14:59:45.098Z"
   },
   {
    "duration": 2,
    "start_time": "2023-05-05T14:59:47.050Z"
   },
   {
    "duration": 317,
    "start_time": "2023-05-05T14:59:51.772Z"
   },
   {
    "duration": 4,
    "start_time": "2023-05-05T15:02:00.410Z"
   },
   {
    "duration": 4,
    "start_time": "2023-05-05T15:02:09.222Z"
   },
   {
    "duration": 3,
    "start_time": "2023-05-05T15:02:14.712Z"
   },
   {
    "duration": 2,
    "start_time": "2023-05-05T15:02:17.402Z"
   },
   {
    "duration": 2514,
    "start_time": "2023-05-05T15:02:20.260Z"
   },
   {
    "duration": 4,
    "start_time": "2023-05-05T15:02:40.290Z"
   },
   {
    "duration": 3,
    "start_time": "2023-05-05T15:02:45.103Z"
   },
   {
    "duration": 2511,
    "start_time": "2023-05-05T15:02:47.662Z"
   },
   {
    "duration": 3,
    "start_time": "2023-05-05T15:03:42.672Z"
   },
   {
    "duration": 3,
    "start_time": "2023-05-05T15:03:45.876Z"
   },
   {
    "duration": 2183,
    "start_time": "2023-05-05T15:03:49.491Z"
   },
   {
    "duration": 3,
    "start_time": "2023-05-05T15:03:57.920Z"
   },
   {
    "duration": 2814,
    "start_time": "2023-05-05T15:04:00.063Z"
   },
   {
    "duration": 3,
    "start_time": "2023-05-05T15:04:36.899Z"
   },
   {
    "duration": 2459,
    "start_time": "2023-05-05T15:04:41.215Z"
   },
   {
    "duration": 3,
    "start_time": "2023-05-05T15:05:02.431Z"
   },
   {
    "duration": 2,
    "start_time": "2023-05-05T15:05:04.408Z"
   },
   {
    "duration": 2547,
    "start_time": "2023-05-05T15:05:07.032Z"
   },
   {
    "duration": 1591,
    "start_time": "2023-05-05T15:05:44.712Z"
   },
   {
    "duration": 2402,
    "start_time": "2023-05-05T15:05:49.072Z"
   },
   {
    "duration": 1522,
    "start_time": "2023-05-05T15:05:53.694Z"
   },
   {
    "duration": 4,
    "start_time": "2023-05-05T15:06:01.720Z"
   },
   {
    "duration": 2,
    "start_time": "2023-05-05T15:06:05.313Z"
   },
   {
    "duration": 2798,
    "start_time": "2023-05-05T15:06:07.783Z"
   },
   {
    "duration": 1273,
    "start_time": "2023-05-05T15:06:12.763Z"
   },
   {
    "duration": 3,
    "start_time": "2023-05-05T15:07:15.195Z"
   },
   {
    "duration": 3,
    "start_time": "2023-05-05T15:07:17.436Z"
   },
   {
    "duration": 3198,
    "start_time": "2023-05-05T15:07:19.788Z"
   },
   {
    "duration": 1538,
    "start_time": "2023-05-05T15:07:25.207Z"
   },
   {
    "duration": 5,
    "start_time": "2023-05-05T15:08:10.640Z"
   },
   {
    "duration": 3,
    "start_time": "2023-05-05T15:08:13.104Z"
   },
   {
    "duration": 2996,
    "start_time": "2023-05-05T15:08:16.185Z"
   },
   {
    "duration": 4215,
    "start_time": "2023-05-05T16:16:11.866Z"
   },
   {
    "duration": 2108,
    "start_time": "2023-05-05T16:16:17.983Z"
   },
   {
    "duration": 23,
    "start_time": "2023-05-05T16:16:35.243Z"
   },
   {
    "duration": 28,
    "start_time": "2023-05-05T16:16:44.050Z"
   },
   {
    "duration": 25,
    "start_time": "2023-05-05T16:17:04.970Z"
   },
   {
    "duration": 55,
    "start_time": "2023-05-05T16:17:07.765Z"
   },
   {
    "duration": 8,
    "start_time": "2023-05-05T16:17:09.151Z"
   },
   {
    "duration": 14,
    "start_time": "2023-05-05T16:17:33.954Z"
   },
   {
    "duration": 12,
    "start_time": "2023-05-05T16:18:03.028Z"
   },
   {
    "duration": 14,
    "start_time": "2023-05-05T16:18:04.517Z"
   },
   {
    "duration": 11,
    "start_time": "2023-05-05T16:18:09.056Z"
   },
   {
    "duration": 4,
    "start_time": "2023-05-05T16:18:13.469Z"
   },
   {
    "duration": 5,
    "start_time": "2023-05-05T16:18:19.231Z"
   },
   {
    "duration": 13,
    "start_time": "2023-05-05T16:18:47.216Z"
   },
   {
    "duration": 3,
    "start_time": "2023-05-05T16:19:18.084Z"
   },
   {
    "duration": 3,
    "start_time": "2023-05-05T16:19:20.646Z"
   },
   {
    "duration": 29,
    "start_time": "2023-05-05T16:19:25.370Z"
   },
   {
    "duration": 8,
    "start_time": "2023-05-05T16:19:26.297Z"
   },
   {
    "duration": 9,
    "start_time": "2023-05-05T16:19:29.127Z"
   },
   {
    "duration": 17,
    "start_time": "2023-05-05T16:19:46.606Z"
   },
   {
    "duration": 8,
    "start_time": "2023-05-05T16:19:48.653Z"
   },
   {
    "duration": 51,
    "start_time": "2023-05-05T16:20:04.730Z"
   },
   {
    "duration": 14,
    "start_time": "2023-05-05T16:20:07.313Z"
   },
   {
    "duration": 21,
    "start_time": "2023-05-05T16:20:12.323Z"
   },
   {
    "duration": 70,
    "start_time": "2023-05-05T16:20:15.719Z"
   },
   {
    "duration": 31,
    "start_time": "2023-05-05T16:20:21.458Z"
   },
   {
    "duration": 4,
    "start_time": "2023-05-05T16:20:52.465Z"
   },
   {
    "duration": 8,
    "start_time": "2023-05-05T16:21:00.493Z"
   },
   {
    "duration": 4,
    "start_time": "2023-05-05T16:21:04.132Z"
   },
   {
    "duration": 5,
    "start_time": "2023-05-05T16:21:07.041Z"
   },
   {
    "duration": 3,
    "start_time": "2023-05-05T16:23:39.115Z"
   },
   {
    "duration": 3,
    "start_time": "2023-05-05T16:23:41.610Z"
   },
   {
    "duration": 6,
    "start_time": "2023-05-05T16:23:46.562Z"
   },
   {
    "duration": 21,
    "start_time": "2023-05-05T16:23:56.141Z"
   },
   {
    "duration": 21,
    "start_time": "2023-05-05T16:24:02.461Z"
   },
   {
    "duration": 8,
    "start_time": "2023-05-05T16:24:08.321Z"
   },
   {
    "duration": 5,
    "start_time": "2023-05-05T16:24:13.122Z"
   },
   {
    "duration": 9,
    "start_time": "2023-05-05T16:24:14.102Z"
   },
   {
    "duration": 4,
    "start_time": "2023-05-05T16:24:24.235Z"
   },
   {
    "duration": 2,
    "start_time": "2023-05-05T16:24:25.929Z"
   },
   {
    "duration": 3,
    "start_time": "2023-05-05T16:24:52.958Z"
   },
   {
    "duration": 3,
    "start_time": "2023-05-05T16:24:53.839Z"
   },
   {
    "duration": 2,
    "start_time": "2023-05-05T16:24:54.605Z"
   },
   {
    "duration": 5,
    "start_time": "2023-05-05T16:24:57.392Z"
   },
   {
    "duration": 3,
    "start_time": "2023-05-05T16:24:57.568Z"
   },
   {
    "duration": 8,
    "start_time": "2023-05-05T16:24:57.892Z"
   },
   {
    "duration": 3663,
    "start_time": "2023-05-05T16:25:02.322Z"
   },
   {
    "duration": 4,
    "start_time": "2023-05-05T16:25:15.320Z"
   },
   {
    "duration": 8,
    "start_time": "2023-05-05T16:25:17.053Z"
   },
   {
    "duration": 12,
    "start_time": "2023-05-05T16:25:28.908Z"
   },
   {
    "duration": 8,
    "start_time": "2023-05-05T16:25:43.006Z"
   },
   {
    "duration": 8,
    "start_time": "2023-05-05T16:25:49.332Z"
   },
   {
    "duration": 9,
    "start_time": "2023-05-05T16:26:07.144Z"
   },
   {
    "duration": 12,
    "start_time": "2023-05-05T16:26:17.478Z"
   },
   {
    "duration": 4,
    "start_time": "2023-05-05T16:26:29.207Z"
   },
   {
    "duration": 4,
    "start_time": "2023-05-05T16:26:36.420Z"
   },
   {
    "duration": 5,
    "start_time": "2023-05-05T16:26:50.292Z"
   },
   {
    "duration": 18,
    "start_time": "2023-05-05T16:27:07.029Z"
   },
   {
    "duration": 8,
    "start_time": "2023-05-05T16:27:29.993Z"
   },
   {
    "duration": 7,
    "start_time": "2023-05-05T16:28:23.733Z"
   },
   {
    "duration": 5,
    "start_time": "2023-05-05T16:28:34.657Z"
   },
   {
    "duration": 8,
    "start_time": "2023-05-05T16:28:42.440Z"
   },
   {
    "duration": 8,
    "start_time": "2023-05-05T16:29:17.724Z"
   },
   {
    "duration": 3486,
    "start_time": "2023-05-05T16:29:23.099Z"
   },
   {
    "duration": 4,
    "start_time": "2023-05-05T16:29:50.934Z"
   },
   {
    "duration": 15,
    "start_time": "2023-05-05T16:29:52.887Z"
   },
   {
    "duration": 4,
    "start_time": "2023-05-05T16:30:20.075Z"
   },
   {
    "duration": 2,
    "start_time": "2023-05-05T16:30:21.654Z"
   },
   {
    "duration": 4305,
    "start_time": "2023-05-05T16:30:25.188Z"
   },
   {
    "duration": 1325,
    "start_time": "2023-05-05T16:30:30.867Z"
   },
   {
    "duration": 1277,
    "start_time": "2023-05-05T16:30:37.218Z"
   },
   {
    "duration": 3961,
    "start_time": "2023-05-05T16:31:08.913Z"
   },
   {
    "duration": 710,
    "start_time": "2023-05-05T16:31:12.879Z"
   },
   {
    "duration": 12,
    "start_time": "2023-05-05T16:31:26.400Z"
   },
   {
    "duration": 9,
    "start_time": "2023-05-05T16:31:30.687Z"
   },
   {
    "duration": 4,
    "start_time": "2023-05-05T16:31:34.355Z"
   },
   {
    "duration": 18,
    "start_time": "2023-05-05T16:31:35.172Z"
   },
   {
    "duration": 10,
    "start_time": "2023-05-05T16:31:35.629Z"
   },
   {
    "duration": 12,
    "start_time": "2023-05-05T16:31:47.784Z"
   },
   {
    "duration": 7,
    "start_time": "2023-05-05T16:31:52.843Z"
   },
   {
    "duration": 11,
    "start_time": "2023-05-05T16:32:02.816Z"
   },
   {
    "duration": 4,
    "start_time": "2023-05-05T16:32:12.111Z"
   },
   {
    "duration": 4,
    "start_time": "2023-05-05T16:32:12.597Z"
   },
   {
    "duration": 18,
    "start_time": "2023-05-05T16:32:13.067Z"
   },
   {
    "duration": 7,
    "start_time": "2023-05-05T16:32:14.360Z"
   },
   {
    "duration": 8,
    "start_time": "2023-05-05T16:32:16.004Z"
   },
   {
    "duration": 9,
    "start_time": "2023-05-05T16:32:39.184Z"
   },
   {
    "duration": 8,
    "start_time": "2023-05-05T16:32:41.791Z"
   },
   {
    "duration": 9,
    "start_time": "2023-05-05T16:32:45.927Z"
   },
   {
    "duration": 6,
    "start_time": "2023-05-05T16:32:52.909Z"
   },
   {
    "duration": 76,
    "start_time": "2023-05-05T16:33:01.316Z"
   },
   {
    "duration": 57,
    "start_time": "2023-05-05T16:33:04.427Z"
   },
   {
    "duration": 5,
    "start_time": "2023-05-05T16:33:09.445Z"
   },
   {
    "duration": 8,
    "start_time": "2023-05-05T16:33:12.099Z"
   },
   {
    "duration": 6,
    "start_time": "2023-05-05T16:33:14.491Z"
   },
   {
    "duration": 8,
    "start_time": "2023-05-05T16:33:19.747Z"
   },
   {
    "duration": 5,
    "start_time": "2023-05-05T16:33:36.386Z"
   },
   {
    "duration": 7,
    "start_time": "2023-05-05T16:33:49.188Z"
   },
   {
    "duration": 7,
    "start_time": "2023-05-05T16:33:52.726Z"
   },
   {
    "duration": 5,
    "start_time": "2023-05-05T16:34:08.880Z"
   },
   {
    "duration": 13,
    "start_time": "2023-05-05T16:34:10.494Z"
   },
   {
    "duration": 3,
    "start_time": "2023-05-05T16:34:22.397Z"
   },
   {
    "duration": 8,
    "start_time": "2023-05-05T16:34:27.957Z"
   },
   {
    "duration": 4,
    "start_time": "2023-05-05T16:34:29.954Z"
   },
   {
    "duration": 3,
    "start_time": "2023-05-05T16:35:10.009Z"
   },
   {
    "duration": 3,
    "start_time": "2023-05-05T16:35:11.870Z"
   },
   {
    "duration": 8,
    "start_time": "2023-05-05T16:35:17.444Z"
   },
   {
    "duration": 2785,
    "start_time": "2023-05-05T16:35:20.808Z"
   },
   {
    "duration": 7,
    "start_time": "2023-05-05T16:35:36.700Z"
   },
   {
    "duration": 21,
    "start_time": "2023-05-05T16:35:43.962Z"
   },
   {
    "duration": 7,
    "start_time": "2023-05-05T16:35:45.590Z"
   },
   {
    "duration": 7,
    "start_time": "2023-05-05T16:35:49.284Z"
   },
   {
    "duration": 4,
    "start_time": "2023-05-05T16:36:00.713Z"
   },
   {
    "duration": 3,
    "start_time": "2023-05-05T16:36:03.327Z"
   },
   {
    "duration": 3135,
    "start_time": "2023-05-05T16:36:05.857Z"
   },
   {
    "duration": 1348,
    "start_time": "2023-05-05T16:36:12.584Z"
   },
   {
    "duration": 4,
    "start_time": "2023-05-05T16:36:31.101Z"
   },
   {
    "duration": 2,
    "start_time": "2023-05-05T16:36:32.689Z"
   },
   {
    "duration": 2570,
    "start_time": "2023-05-05T16:36:35.508Z"
   },
   {
    "duration": 3,
    "start_time": "2023-05-05T16:38:29.662Z"
   },
   {
    "duration": 2,
    "start_time": "2023-05-05T16:38:33.663Z"
   },
   {
    "duration": 49,
    "start_time": "2023-05-05T16:38:42.532Z"
   },
   {
    "duration": 7,
    "start_time": "2023-05-05T16:38:44.250Z"
   },
   {
    "duration": 8,
    "start_time": "2023-05-05T16:38:46.452Z"
   },
   {
    "duration": 1623,
    "start_time": "2023-05-05T16:38:50.428Z"
   },
   {
    "duration": 735,
    "start_time": "2023-05-05T16:39:38.750Z"
   },
   {
    "duration": 1492,
    "start_time": "2023-05-05T16:39:43.660Z"
   },
   {
    "duration": 743,
    "start_time": "2023-05-05T16:39:50.113Z"
   },
   {
    "duration": 755,
    "start_time": "2023-05-05T16:39:55.061Z"
   },
   {
    "duration": 1954,
    "start_time": "2023-05-05T16:40:03.025Z"
   },
   {
    "duration": 3,
    "start_time": "2023-05-05T16:41:17.538Z"
   },
   {
    "duration": 3,
    "start_time": "2023-05-05T16:42:33.797Z"
   },
   {
    "duration": 3,
    "start_time": "2023-05-05T16:42:35.512Z"
   },
   {
    "duration": 2545,
    "start_time": "2023-05-05T16:42:39.232Z"
   },
   {
    "duration": 2788,
    "start_time": "2023-05-05T16:42:50.088Z"
   },
   {
    "duration": 8,
    "start_time": "2023-05-05T16:43:05.785Z"
   },
   {
    "duration": 7,
    "start_time": "2023-05-05T16:43:12.138Z"
   },
   {
    "duration": 4,
    "start_time": "2023-05-05T16:43:30.218Z"
   },
   {
    "duration": 2,
    "start_time": "2023-05-05T16:43:31.864Z"
   },
   {
    "duration": 1548,
    "start_time": "2023-05-05T16:43:35.405Z"
   },
   {
    "duration": 4,
    "start_time": "2023-05-05T16:44:06.481Z"
   },
   {
    "duration": 3,
    "start_time": "2023-05-05T16:44:08.181Z"
   },
   {
    "duration": 3,
    "start_time": "2023-05-05T16:44:10.739Z"
   },
   {
    "duration": 2759,
    "start_time": "2023-05-05T16:44:12.915Z"
   },
   {
    "duration": 2115,
    "start_time": "2023-05-05T16:44:18.317Z"
   },
   {
    "duration": 3,
    "start_time": "2023-05-05T16:44:39.542Z"
   },
   {
    "duration": 2346,
    "start_time": "2023-05-05T16:44:42.730Z"
   },
   {
    "duration": 2252,
    "start_time": "2023-05-05T16:44:47.755Z"
   },
   {
    "duration": 2415,
    "start_time": "2023-05-05T16:45:03.526Z"
   },
   {
    "duration": 2269,
    "start_time": "2023-05-05T16:45:13.087Z"
   },
   {
    "duration": 42155,
    "start_time": "2023-05-05T16:45:17.330Z"
   },
   {
    "duration": 3,
    "start_time": "2023-05-05T16:45:59.527Z"
   },
   {
    "duration": 4442,
    "start_time": "2023-05-05T16:46:05.738Z"
   },
   {
    "duration": 2550,
    "start_time": "2023-05-05T16:46:17.029Z"
   },
   {
    "duration": 2174,
    "start_time": "2023-05-05T16:46:24.193Z"
   },
   {
    "duration": 2135,
    "start_time": "2023-05-05T16:46:32.672Z"
   },
   {
    "duration": 3,
    "start_time": "2023-05-05T16:46:41.859Z"
   },
   {
    "duration": 3,
    "start_time": "2023-05-05T16:46:44.107Z"
   },
   {
    "duration": 3,
    "start_time": "2023-05-05T16:46:47.128Z"
   },
   {
    "duration": 2125,
    "start_time": "2023-05-05T16:46:56.964Z"
   },
   {
    "duration": 2324,
    "start_time": "2023-05-05T16:47:00.222Z"
   },
   {
    "duration": 13,
    "start_time": "2023-05-05T16:47:41.204Z"
   },
   {
    "duration": 2,
    "start_time": "2023-05-05T16:47:53.592Z"
   },
   {
    "duration": 187,
    "start_time": "2023-05-05T16:48:02.822Z"
   },
   {
    "duration": 7,
    "start_time": "2023-05-05T16:48:10.834Z"
   },
   {
    "duration": 8,
    "start_time": "2023-05-05T16:49:10.971Z"
   },
   {
    "duration": 42,
    "start_time": "2023-05-05T16:49:12.425Z"
   },
   {
    "duration": 2049,
    "start_time": "2023-05-05T16:49:21.518Z"
   },
   {
    "duration": 1431,
    "start_time": "2023-05-05T16:49:23.569Z"
   },
   {
    "duration": 2,
    "start_time": "2023-05-05T16:49:25.001Z"
   },
   {
    "duration": 2970,
    "start_time": "2023-05-05T16:49:25.005Z"
   },
   {
    "duration": 36,
    "start_time": "2023-05-05T16:49:27.976Z"
   },
   {
    "duration": 3,
    "start_time": "2023-05-05T16:49:28.013Z"
   },
   {
    "duration": 66,
    "start_time": "2023-05-05T16:49:28.018Z"
   },
   {
    "duration": 225,
    "start_time": "2023-05-05T16:49:28.085Z"
   },
   {
    "duration": 6,
    "start_time": "2023-05-05T16:49:28.311Z"
   },
   {
    "duration": 5,
    "start_time": "2023-05-05T16:49:28.319Z"
   },
   {
    "duration": 8,
    "start_time": "2023-05-05T16:49:28.325Z"
   },
   {
    "duration": 17,
    "start_time": "2023-05-05T16:49:28.334Z"
   },
   {
    "duration": 2,
    "start_time": "2023-05-05T16:49:28.352Z"
   },
   {
    "duration": 16,
    "start_time": "2023-05-05T16:49:28.371Z"
   },
   {
    "duration": 2,
    "start_time": "2023-05-05T16:49:28.388Z"
   },
   {
    "duration": 20,
    "start_time": "2023-05-05T16:49:28.392Z"
   },
   {
    "duration": 3,
    "start_time": "2023-05-05T16:49:28.413Z"
   },
   {
    "duration": 10,
    "start_time": "2023-05-05T16:49:28.417Z"
   },
   {
    "duration": 10,
    "start_time": "2023-05-05T16:49:28.428Z"
   },
   {
    "duration": 34,
    "start_time": "2023-05-05T16:49:28.440Z"
   },
   {
    "duration": 198,
    "start_time": "2023-05-05T16:49:28.476Z"
   },
   {
    "duration": 460,
    "start_time": "2023-05-05T16:49:28.676Z"
   },
   {
    "duration": 378,
    "start_time": "2023-05-05T16:49:29.137Z"
   },
   {
    "duration": 405,
    "start_time": "2023-05-05T16:49:29.517Z"
   },
   {
    "duration": 409,
    "start_time": "2023-05-05T16:49:29.923Z"
   },
   {
    "duration": 3,
    "start_time": "2023-05-05T16:49:30.334Z"
   },
   {
    "duration": 49,
    "start_time": "2023-05-05T16:49:30.338Z"
   },
   {
    "duration": 489,
    "start_time": "2023-05-05T16:49:30.390Z"
   },
   {
    "duration": 4,
    "start_time": "2023-05-05T16:49:30.881Z"
   },
   {
    "duration": 40,
    "start_time": "2023-05-05T16:49:30.886Z"
   },
   {
    "duration": 19,
    "start_time": "2023-05-05T16:49:30.928Z"
   },
   {
    "duration": 31,
    "start_time": "2023-05-05T16:49:30.949Z"
   },
   {
    "duration": 191,
    "start_time": "2023-05-05T16:49:30.982Z"
   },
   {
    "duration": 265,
    "start_time": "2023-05-05T16:49:31.174Z"
   },
   {
    "duration": 4,
    "start_time": "2023-05-05T16:49:31.440Z"
   },
   {
    "duration": 1856,
    "start_time": "2023-05-05T16:49:31.445Z"
   },
   {
    "duration": 48,
    "start_time": "2023-05-05T16:49:33.303Z"
   },
   {
    "duration": 23,
    "start_time": "2023-05-05T16:49:33.352Z"
   },
   {
    "duration": 37,
    "start_time": "2023-05-05T16:49:33.377Z"
   },
   {
    "duration": 17,
    "start_time": "2023-05-05T16:49:33.416Z"
   },
   {
    "duration": 2,
    "start_time": "2023-05-05T16:49:33.435Z"
   },
   {
    "duration": 13,
    "start_time": "2023-05-05T16:49:33.438Z"
   },
   {
    "duration": 37,
    "start_time": "2023-05-05T16:49:33.452Z"
   },
   {
    "duration": 2,
    "start_time": "2023-05-05T16:49:33.491Z"
   },
   {
    "duration": 58,
    "start_time": "2023-05-05T16:49:33.494Z"
   },
   {
    "duration": 13,
    "start_time": "2023-05-05T16:49:33.554Z"
   },
   {
    "duration": 6,
    "start_time": "2023-05-05T16:49:33.568Z"
   },
   {
    "duration": 23,
    "start_time": "2023-05-05T16:49:33.576Z"
   },
   {
    "duration": 10,
    "start_time": "2023-05-05T16:49:33.602Z"
   },
   {
    "duration": 10,
    "start_time": "2023-05-05T16:49:33.614Z"
   },
   {
    "duration": 2,
    "start_time": "2023-05-05T16:49:45.019Z"
   },
   {
    "duration": 2667,
    "start_time": "2023-05-05T16:49:46.209Z"
   },
   {
    "duration": 9,
    "start_time": "2023-05-05T16:49:50.855Z"
   },
   {
    "duration": 2140,
    "start_time": "2023-05-05T16:49:53.104Z"
   },
   {
    "duration": 4,
    "start_time": "2023-05-05T16:52:39.441Z"
   },
   {
    "duration": 4,
    "start_time": "2023-05-05T16:52:41.702Z"
   },
   {
    "duration": 3267,
    "start_time": "2023-05-05T16:52:48.415Z"
   },
   {
    "duration": 1341,
    "start_time": "2023-05-05T16:52:54.484Z"
   },
   {
    "duration": 3,
    "start_time": "2023-05-05T16:54:53.043Z"
   },
   {
    "duration": 4,
    "start_time": "2023-05-05T16:54:55.353Z"
   },
   {
    "duration": 3,
    "start_time": "2023-05-05T16:54:57.093Z"
   },
   {
    "duration": 2723,
    "start_time": "2023-05-05T16:55:00.462Z"
   },
   {
    "duration": 2203,
    "start_time": "2023-05-05T16:55:07.700Z"
   },
   {
    "duration": 4,
    "start_time": "2023-05-05T16:57:14.490Z"
   },
   {
    "duration": 3224,
    "start_time": "2023-05-05T16:57:17.948Z"
   },
   {
    "duration": 2280,
    "start_time": "2023-05-05T16:57:24.342Z"
   },
   {
    "duration": 5,
    "start_time": "2023-05-05T16:57:58.917Z"
   },
   {
    "duration": 3,
    "start_time": "2023-05-05T16:58:00.912Z"
   },
   {
    "duration": 3122,
    "start_time": "2023-05-05T16:58:03.262Z"
   },
   {
    "duration": 2198,
    "start_time": "2023-05-05T16:58:17.637Z"
   },
   {
    "duration": 4,
    "start_time": "2023-05-05T16:58:38.394Z"
   },
   {
    "duration": 3,
    "start_time": "2023-05-05T16:58:40.492Z"
   },
   {
    "duration": 3164,
    "start_time": "2023-05-05T16:58:43.108Z"
   },
   {
    "duration": 2194,
    "start_time": "2023-05-05T16:58:51.093Z"
   },
   {
    "duration": 2170,
    "start_time": "2023-05-05T16:59:02.352Z"
   },
   {
    "duration": 4,
    "start_time": "2023-05-05T16:59:08.120Z"
   },
   {
    "duration": 3,
    "start_time": "2023-05-05T16:59:10.123Z"
   },
   {
    "duration": 4021,
    "start_time": "2023-05-05T16:59:12.556Z"
   },
   {
    "duration": 1488,
    "start_time": "2023-05-05T16:59:19.476Z"
   },
   {
    "duration": 1499,
    "start_time": "2023-05-05T16:59:26.452Z"
   },
   {
    "duration": 4,
    "start_time": "2023-05-05T17:01:20.397Z"
   },
   {
    "duration": 3,
    "start_time": "2023-05-05T18:32:45.516Z"
   },
   {
    "duration": 3,
    "start_time": "2023-05-05T18:32:47.234Z"
   },
   {
    "duration": 4781,
    "start_time": "2023-05-05T18:32:50.207Z"
   },
   {
    "duration": 1448,
    "start_time": "2023-05-05T18:32:59.294Z"
   },
   {
    "duration": 3,
    "start_time": "2023-05-05T18:33:10.944Z"
   },
   {
    "duration": 3,
    "start_time": "2023-05-05T18:33:13.288Z"
   },
   {
    "duration": 3,
    "start_time": "2023-05-05T18:33:16.292Z"
   },
   {
    "duration": 3875,
    "start_time": "2023-05-05T18:33:19.922Z"
   },
   {
    "duration": 2207,
    "start_time": "2023-05-05T18:33:36.089Z"
   },
   {
    "duration": 3,
    "start_time": "2023-05-05T18:33:54.422Z"
   },
   {
    "duration": 3665,
    "start_time": "2023-05-05T18:33:57.408Z"
   },
   {
    "duration": 2360,
    "start_time": "2023-05-05T18:34:02.285Z"
   },
   {
    "duration": 1583,
    "start_time": "2023-05-05T18:34:06.143Z"
   },
   {
    "duration": 39516,
    "start_time": "2023-05-05T18:34:09.335Z"
   },
   {
    "duration": 26,
    "start_time": "2023-05-05T18:34:58.931Z"
   },
   {
    "duration": 86,
    "start_time": "2023-05-05T18:35:19.313Z"
   },
   {
    "duration": 4822,
    "start_time": "2023-05-05T18:35:35.293Z"
   },
   {
    "duration": 48,
    "start_time": "2023-05-05T18:36:31.671Z"
   },
   {
    "duration": 2733,
    "start_time": "2023-05-05T18:36:54.965Z"
   },
   {
    "duration": 1524,
    "start_time": "2023-05-05T18:36:57.701Z"
   },
   {
    "duration": 3,
    "start_time": "2023-05-05T18:36:59.226Z"
   },
   {
    "duration": 3058,
    "start_time": "2023-05-05T18:36:59.231Z"
   },
   {
    "duration": 34,
    "start_time": "2023-05-05T18:37:02.290Z"
   },
   {
    "duration": 9,
    "start_time": "2023-05-05T18:37:02.326Z"
   },
   {
    "duration": 73,
    "start_time": "2023-05-05T18:37:02.336Z"
   },
   {
    "duration": 209,
    "start_time": "2023-05-05T18:37:02.410Z"
   },
   {
    "duration": 6,
    "start_time": "2023-05-05T18:37:02.621Z"
   },
   {
    "duration": 34,
    "start_time": "2023-05-05T18:37:02.629Z"
   },
   {
    "duration": 17,
    "start_time": "2023-05-05T18:37:02.665Z"
   },
   {
    "duration": 20,
    "start_time": "2023-05-05T18:37:02.683Z"
   },
   {
    "duration": 2,
    "start_time": "2023-05-05T18:37:02.705Z"
   },
   {
    "duration": 22,
    "start_time": "2023-05-05T18:37:02.708Z"
   },
   {
    "duration": 2,
    "start_time": "2023-05-05T18:37:02.732Z"
   },
   {
    "duration": 19,
    "start_time": "2023-05-05T18:37:02.736Z"
   },
   {
    "duration": 2,
    "start_time": "2023-05-05T18:37:02.757Z"
   },
   {
    "duration": 13,
    "start_time": "2023-05-05T18:37:02.761Z"
   },
   {
    "duration": 15,
    "start_time": "2023-05-05T18:37:02.776Z"
   },
   {
    "duration": 7,
    "start_time": "2023-05-05T18:37:02.793Z"
   },
   {
    "duration": 214,
    "start_time": "2023-05-05T18:37:02.801Z"
   },
   {
    "duration": 497,
    "start_time": "2023-05-05T18:37:03.016Z"
   },
   {
    "duration": 514,
    "start_time": "2023-05-05T18:37:03.514Z"
   },
   {
    "duration": 417,
    "start_time": "2023-05-05T18:37:04.030Z"
   },
   {
    "duration": 402,
    "start_time": "2023-05-05T18:37:04.448Z"
   },
   {
    "duration": 3,
    "start_time": "2023-05-05T18:37:04.852Z"
   },
   {
    "duration": 15,
    "start_time": "2023-05-05T18:37:04.857Z"
   },
   {
    "duration": 503,
    "start_time": "2023-05-05T18:37:04.875Z"
   },
   {
    "duration": 3,
    "start_time": "2023-05-05T18:37:05.379Z"
   },
   {
    "duration": 16,
    "start_time": "2023-05-05T18:37:05.383Z"
   },
   {
    "duration": 6,
    "start_time": "2023-05-05T18:37:05.400Z"
   },
   {
    "duration": 17,
    "start_time": "2023-05-05T18:37:05.407Z"
   },
   {
    "duration": 303,
    "start_time": "2023-05-05T18:37:05.426Z"
   },
   {
    "duration": 367,
    "start_time": "2023-05-05T18:37:05.730Z"
   },
   {
    "duration": 4,
    "start_time": "2023-05-05T18:37:06.098Z"
   },
   {
    "duration": 1795,
    "start_time": "2023-05-05T18:37:06.104Z"
   },
   {
    "duration": 49,
    "start_time": "2023-05-05T18:37:07.901Z"
   },
   {
    "duration": 10,
    "start_time": "2023-05-05T18:37:07.952Z"
   },
   {
    "duration": 16,
    "start_time": "2023-05-05T18:37:07.972Z"
   },
   {
    "duration": 20,
    "start_time": "2023-05-05T18:37:07.990Z"
   },
   {
    "duration": 3,
    "start_time": "2023-05-05T18:37:08.012Z"
   },
   {
    "duration": 13,
    "start_time": "2023-05-05T18:37:08.016Z"
   },
   {
    "duration": 6,
    "start_time": "2023-05-05T18:37:08.030Z"
   },
   {
    "duration": 34,
    "start_time": "2023-05-05T18:37:08.038Z"
   },
   {
    "duration": 6,
    "start_time": "2023-05-05T18:37:08.074Z"
   },
   {
    "duration": 4,
    "start_time": "2023-05-05T18:37:08.082Z"
   },
   {
    "duration": 10,
    "start_time": "2023-05-05T18:37:08.087Z"
   },
   {
    "duration": 8,
    "start_time": "2023-05-05T18:37:08.098Z"
   },
   {
    "duration": 12,
    "start_time": "2023-05-05T18:37:08.107Z"
   },
   {
    "duration": 6,
    "start_time": "2023-05-05T18:37:08.120Z"
   },
   {
    "duration": 2253,
    "start_time": "2023-05-05T18:37:08.127Z"
   },
   {
    "duration": 92,
    "start_time": "2023-05-05T18:37:10.381Z"
   },
   {
    "duration": 100,
    "start_time": "2023-05-05T18:37:10.475Z"
   },
   {
    "duration": 2086,
    "start_time": "2023-05-05T18:37:10.577Z"
   },
   {
    "duration": 3,
    "start_time": "2023-05-05T18:37:12.664Z"
   },
   {
    "duration": 166,
    "start_time": "2023-05-05T18:37:12.667Z"
   },
   {
    "duration": 92,
    "start_time": "2023-05-05T18:37:12.834Z"
   },
   {
    "duration": 6,
    "start_time": "2023-05-05T18:37:29.579Z"
   },
   {
    "duration": 4,
    "start_time": "2023-05-05T18:37:31.305Z"
   },
   {
    "duration": 2954,
    "start_time": "2023-05-05T18:38:45.718Z"
   },
   {
    "duration": 1436,
    "start_time": "2023-05-05T18:38:48.674Z"
   },
   {
    "duration": 2,
    "start_time": "2023-05-05T18:38:50.112Z"
   },
   {
    "duration": 3187,
    "start_time": "2023-05-05T18:38:50.116Z"
   },
   {
    "duration": 34,
    "start_time": "2023-05-05T18:38:53.305Z"
   },
   {
    "duration": 3,
    "start_time": "2023-05-05T18:38:53.341Z"
   },
   {
    "duration": 59,
    "start_time": "2023-05-05T18:38:53.346Z"
   },
   {
    "duration": 222,
    "start_time": "2023-05-05T18:38:53.406Z"
   },
   {
    "duration": 5,
    "start_time": "2023-05-05T18:38:53.630Z"
   },
   {
    "duration": 16,
    "start_time": "2023-05-05T18:38:53.637Z"
   },
   {
    "duration": 39,
    "start_time": "2023-05-05T18:38:53.654Z"
   },
   {
    "duration": 21,
    "start_time": "2023-05-05T18:38:53.694Z"
   },
   {
    "duration": 2,
    "start_time": "2023-05-05T18:38:53.717Z"
   },
   {
    "duration": 21,
    "start_time": "2023-05-05T18:38:53.720Z"
   },
   {
    "duration": 5,
    "start_time": "2023-05-05T18:38:53.743Z"
   },
   {
    "duration": 21,
    "start_time": "2023-05-05T18:38:53.749Z"
   },
   {
    "duration": 14,
    "start_time": "2023-05-05T18:38:53.772Z"
   },
   {
    "duration": 27,
    "start_time": "2023-05-05T18:38:53.788Z"
   },
   {
    "duration": 20,
    "start_time": "2023-05-05T18:38:53.817Z"
   },
   {
    "duration": 12,
    "start_time": "2023-05-05T18:38:53.838Z"
   },
   {
    "duration": 226,
    "start_time": "2023-05-05T18:38:53.852Z"
   },
   {
    "duration": 464,
    "start_time": "2023-05-05T18:38:54.079Z"
   },
   {
    "duration": 396,
    "start_time": "2023-05-05T18:38:54.545Z"
   },
   {
    "duration": 425,
    "start_time": "2023-05-05T18:38:54.943Z"
   },
   {
    "duration": 381,
    "start_time": "2023-05-05T18:38:55.370Z"
   },
   {
    "duration": 3,
    "start_time": "2023-05-05T18:38:55.753Z"
   },
   {
    "duration": 43,
    "start_time": "2023-05-05T18:38:55.758Z"
   },
   {
    "duration": 498,
    "start_time": "2023-05-05T18:38:55.804Z"
   },
   {
    "duration": 4,
    "start_time": "2023-05-05T18:38:56.304Z"
   },
   {
    "duration": 14,
    "start_time": "2023-05-05T18:38:56.310Z"
   },
   {
    "duration": 7,
    "start_time": "2023-05-05T18:38:56.326Z"
   },
   {
    "duration": 22,
    "start_time": "2023-05-05T18:38:56.334Z"
   },
   {
    "duration": 194,
    "start_time": "2023-05-05T18:38:56.358Z"
   },
   {
    "duration": 281,
    "start_time": "2023-05-05T18:38:56.554Z"
   },
   {
    "duration": 4,
    "start_time": "2023-05-05T18:38:56.836Z"
   },
   {
    "duration": 1856,
    "start_time": "2023-05-05T18:38:56.841Z"
   },
   {
    "duration": 47,
    "start_time": "2023-05-05T18:38:58.699Z"
   },
   {
    "duration": 10,
    "start_time": "2023-05-05T18:38:58.747Z"
   },
   {
    "duration": 38,
    "start_time": "2023-05-05T18:38:58.759Z"
   },
   {
    "duration": 17,
    "start_time": "2023-05-05T18:38:58.799Z"
   },
   {
    "duration": 4,
    "start_time": "2023-05-05T18:38:58.817Z"
   },
   {
    "duration": 15,
    "start_time": "2023-05-05T18:38:58.822Z"
   },
   {
    "duration": 6,
    "start_time": "2023-05-05T18:38:58.839Z"
   },
   {
    "duration": 8,
    "start_time": "2023-05-05T18:38:58.846Z"
   },
   {
    "duration": 4,
    "start_time": "2023-05-05T18:38:58.881Z"
   },
   {
    "duration": 6,
    "start_time": "2023-05-05T18:38:58.887Z"
   },
   {
    "duration": 7,
    "start_time": "2023-05-05T18:38:58.894Z"
   },
   {
    "duration": 11,
    "start_time": "2023-05-05T18:38:58.903Z"
   },
   {
    "duration": 18,
    "start_time": "2023-05-05T18:38:58.915Z"
   },
   {
    "duration": 2,
    "start_time": "2023-05-05T18:38:58.934Z"
   },
   {
    "duration": 2835,
    "start_time": "2023-05-05T18:38:58.938Z"
   },
   {
    "duration": 8,
    "start_time": "2023-05-05T18:39:01.775Z"
   },
   {
    "duration": 29,
    "start_time": "2023-05-05T18:39:01.785Z"
   },
   {
    "duration": 1512,
    "start_time": "2023-05-05T18:39:01.815Z"
   },
   {
    "duration": 2,
    "start_time": "2023-05-05T18:39:03.328Z"
   },
   {
    "duration": 175,
    "start_time": "2023-05-05T18:39:03.332Z"
   },
   {
    "duration": 6,
    "start_time": "2023-05-05T18:39:03.508Z"
   },
   {
    "duration": 110,
    "start_time": "2023-05-05T18:39:03.516Z"
   },
   {
    "duration": 915,
    "start_time": "2023-05-05T18:39:14.498Z"
   },
   {
    "duration": 10,
    "start_time": "2023-05-05T18:39:17.348Z"
   },
   {
    "duration": 39956,
    "start_time": "2023-05-05T18:39:20.304Z"
   },
   {
    "duration": 149,
    "start_time": "2023-05-05T18:40:00.261Z"
   },
   {
    "duration": 0,
    "start_time": "2023-05-05T18:40:00.412Z"
   },
   {
    "duration": 11,
    "start_time": "2023-05-05T18:40:09.615Z"
   },
   {
    "duration": 5030,
    "start_time": "2023-05-05T18:40:13.117Z"
   },
   {
    "duration": 23,
    "start_time": "2023-05-05T18:40:18.150Z"
   },
   {
    "duration": 89,
    "start_time": "2023-05-05T18:40:18.174Z"
   },
   {
    "duration": 7,
    "start_time": "2023-05-05T18:40:30.869Z"
   },
   {
    "duration": 5,
    "start_time": "2023-05-05T18:40:38.286Z"
   },
   {
    "duration": 3,
    "start_time": "2023-05-05T18:40:39.970Z"
   },
   {
    "duration": 15,
    "start_time": "2023-05-05T18:40:41.857Z"
   },
   {
    "duration": 286030,
    "start_time": "2023-05-05T18:40:43.462Z"
   },
   {
    "duration": 0,
    "start_time": "2023-05-05T18:45:29.497Z"
   },
   {
    "duration": 0,
    "start_time": "2023-05-05T18:45:29.498Z"
   },
   {
    "duration": 0,
    "start_time": "2023-05-05T18:45:29.499Z"
   },
   {
    "duration": 0,
    "start_time": "2023-05-05T18:45:29.500Z"
   },
   {
    "duration": 0,
    "start_time": "2023-05-05T18:45:29.501Z"
   },
   {
    "duration": 0,
    "start_time": "2023-05-05T18:45:29.502Z"
   },
   {
    "duration": 0,
    "start_time": "2023-05-05T18:45:29.503Z"
   },
   {
    "duration": 0,
    "start_time": "2023-05-05T18:45:29.504Z"
   },
   {
    "duration": 0,
    "start_time": "2023-05-05T18:45:29.506Z"
   },
   {
    "duration": 0,
    "start_time": "2023-05-05T18:45:29.507Z"
   },
   {
    "duration": 0,
    "start_time": "2023-05-05T18:45:29.508Z"
   },
   {
    "duration": 0,
    "start_time": "2023-05-05T18:45:29.509Z"
   },
   {
    "duration": 0,
    "start_time": "2023-05-05T18:45:29.510Z"
   },
   {
    "duration": 0,
    "start_time": "2023-05-05T18:45:29.512Z"
   },
   {
    "duration": 0,
    "start_time": "2023-05-05T18:45:29.513Z"
   },
   {
    "duration": 0,
    "start_time": "2023-05-05T18:45:29.514Z"
   },
   {
    "duration": 0,
    "start_time": "2023-05-05T18:45:29.516Z"
   },
   {
    "duration": 0,
    "start_time": "2023-05-05T18:45:29.517Z"
   },
   {
    "duration": 0,
    "start_time": "2023-05-05T18:45:29.518Z"
   },
   {
    "duration": 0,
    "start_time": "2023-05-05T18:45:29.518Z"
   },
   {
    "duration": 0,
    "start_time": "2023-05-05T18:45:29.519Z"
   },
   {
    "duration": 0,
    "start_time": "2023-05-05T18:45:29.520Z"
   },
   {
    "duration": 0,
    "start_time": "2023-05-05T18:45:29.521Z"
   },
   {
    "duration": 0,
    "start_time": "2023-05-05T18:45:29.521Z"
   },
   {
    "duration": 0,
    "start_time": "2023-05-05T18:45:29.522Z"
   },
   {
    "duration": 0,
    "start_time": "2023-05-05T18:45:29.523Z"
   },
   {
    "duration": 0,
    "start_time": "2023-05-05T18:45:29.524Z"
   },
   {
    "duration": 0,
    "start_time": "2023-05-05T18:45:29.524Z"
   },
   {
    "duration": 0,
    "start_time": "2023-05-05T18:45:29.525Z"
   },
   {
    "duration": 0,
    "start_time": "2023-05-05T18:45:29.526Z"
   },
   {
    "duration": 0,
    "start_time": "2023-05-05T18:45:29.527Z"
   },
   {
    "duration": 0,
    "start_time": "2023-05-05T18:45:29.529Z"
   },
   {
    "duration": 0,
    "start_time": "2023-05-05T18:45:29.530Z"
   },
   {
    "duration": 1,
    "start_time": "2023-05-05T18:45:29.531Z"
   },
   {
    "duration": 0,
    "start_time": "2023-05-05T18:45:29.533Z"
   },
   {
    "duration": 0,
    "start_time": "2023-05-05T18:45:29.573Z"
   },
   {
    "duration": 1,
    "start_time": "2023-05-05T18:45:29.574Z"
   },
   {
    "duration": 0,
    "start_time": "2023-05-05T18:45:29.576Z"
   },
   {
    "duration": 0,
    "start_time": "2023-05-05T18:45:29.577Z"
   },
   {
    "duration": 0,
    "start_time": "2023-05-05T18:45:29.578Z"
   },
   {
    "duration": 0,
    "start_time": "2023-05-05T18:45:29.580Z"
   },
   {
    "duration": 0,
    "start_time": "2023-05-05T18:45:29.581Z"
   },
   {
    "duration": 0,
    "start_time": "2023-05-05T18:45:29.582Z"
   },
   {
    "duration": 0,
    "start_time": "2023-05-05T18:45:29.583Z"
   },
   {
    "duration": 0,
    "start_time": "2023-05-05T18:45:29.584Z"
   },
   {
    "duration": 0,
    "start_time": "2023-05-05T18:45:29.585Z"
   },
   {
    "duration": 0,
    "start_time": "2023-05-05T18:45:29.586Z"
   },
   {
    "duration": 0,
    "start_time": "2023-05-05T18:45:29.587Z"
   },
   {
    "duration": 0,
    "start_time": "2023-05-05T18:45:29.588Z"
   },
   {
    "duration": 0,
    "start_time": "2023-05-05T18:45:29.589Z"
   },
   {
    "duration": 0,
    "start_time": "2023-05-05T18:45:29.590Z"
   },
   {
    "duration": 0,
    "start_time": "2023-05-05T18:45:29.591Z"
   },
   {
    "duration": 0,
    "start_time": "2023-05-05T18:45:29.592Z"
   },
   {
    "duration": 0,
    "start_time": "2023-05-05T18:45:29.594Z"
   },
   {
    "duration": 0,
    "start_time": "2023-05-05T18:45:29.595Z"
   },
   {
    "duration": 0,
    "start_time": "2023-05-05T18:45:29.597Z"
   },
   {
    "duration": 0,
    "start_time": "2023-05-05T18:45:29.599Z"
   },
   {
    "duration": 0,
    "start_time": "2023-05-05T18:45:29.601Z"
   },
   {
    "duration": 0,
    "start_time": "2023-05-05T18:45:29.602Z"
   },
   {
    "duration": 0,
    "start_time": "2023-05-05T18:45:29.603Z"
   },
   {
    "duration": 0,
    "start_time": "2023-05-05T18:45:29.604Z"
   },
   {
    "duration": 0,
    "start_time": "2023-05-05T18:45:29.606Z"
   },
   {
    "duration": 0,
    "start_time": "2023-05-05T18:45:29.607Z"
   },
   {
    "duration": 1920,
    "start_time": "2023-05-05T18:45:39.609Z"
   },
   {
    "duration": 1246,
    "start_time": "2023-05-05T18:45:41.531Z"
   },
   {
    "duration": 2,
    "start_time": "2023-05-05T18:45:42.779Z"
   },
   {
    "duration": 674,
    "start_time": "2023-05-05T18:45:42.784Z"
   },
   {
    "duration": 37,
    "start_time": "2023-05-05T18:45:43.459Z"
   },
   {
    "duration": 3,
    "start_time": "2023-05-05T18:45:43.498Z"
   },
   {
    "duration": 73,
    "start_time": "2023-05-05T18:45:43.503Z"
   },
   {
    "duration": 223,
    "start_time": "2023-05-05T18:45:43.577Z"
   },
   {
    "duration": 7,
    "start_time": "2023-05-05T18:45:43.802Z"
   },
   {
    "duration": 5,
    "start_time": "2023-05-05T18:45:43.812Z"
   },
   {
    "duration": 10,
    "start_time": "2023-05-05T18:45:43.818Z"
   },
   {
    "duration": 16,
    "start_time": "2023-05-05T18:45:43.830Z"
   },
   {
    "duration": 3,
    "start_time": "2023-05-05T18:45:43.848Z"
   },
   {
    "duration": 30,
    "start_time": "2023-05-05T18:45:43.852Z"
   },
   {
    "duration": 3,
    "start_time": "2023-05-05T18:45:43.883Z"
   },
   {
    "duration": 22,
    "start_time": "2023-05-05T18:45:43.887Z"
   },
   {
    "duration": 2,
    "start_time": "2023-05-05T18:45:43.911Z"
   },
   {
    "duration": 12,
    "start_time": "2023-05-05T18:45:43.914Z"
   },
   {
    "duration": 11,
    "start_time": "2023-05-05T18:45:43.928Z"
   },
   {
    "duration": 6,
    "start_time": "2023-05-05T18:45:43.941Z"
   },
   {
    "duration": 208,
    "start_time": "2023-05-05T18:45:43.949Z"
   },
   {
    "duration": 473,
    "start_time": "2023-05-05T18:45:44.158Z"
   },
   {
    "duration": 396,
    "start_time": "2023-05-05T18:45:44.633Z"
   },
   {
    "duration": 488,
    "start_time": "2023-05-05T18:45:45.031Z"
   },
   {
    "duration": 419,
    "start_time": "2023-05-05T18:45:45.522Z"
   },
   {
    "duration": 2,
    "start_time": "2023-05-05T18:45:45.943Z"
   },
   {
    "duration": 10,
    "start_time": "2023-05-05T18:45:45.947Z"
   },
   {
    "duration": 456,
    "start_time": "2023-05-05T18:45:45.960Z"
   },
   {
    "duration": 4,
    "start_time": "2023-05-05T18:45:46.417Z"
   },
   {
    "duration": 14,
    "start_time": "2023-05-05T18:45:46.422Z"
   },
   {
    "duration": 6,
    "start_time": "2023-05-05T18:45:46.439Z"
   },
   {
    "duration": 31,
    "start_time": "2023-05-05T18:45:46.446Z"
   },
   {
    "duration": 184,
    "start_time": "2023-05-05T18:45:46.478Z"
   },
   {
    "duration": 385,
    "start_time": "2023-05-05T18:45:46.664Z"
   },
   {
    "duration": 6,
    "start_time": "2023-05-05T18:45:47.051Z"
   },
   {
    "duration": 1805,
    "start_time": "2023-05-05T18:45:47.058Z"
   },
   {
    "duration": 49,
    "start_time": "2023-05-05T18:45:48.865Z"
   },
   {
    "duration": 11,
    "start_time": "2023-05-05T18:45:48.915Z"
   },
   {
    "duration": 25,
    "start_time": "2023-05-05T18:45:48.928Z"
   },
   {
    "duration": 17,
    "start_time": "2023-05-05T18:45:48.972Z"
   },
   {
    "duration": 16,
    "start_time": "2023-05-05T18:45:48.990Z"
   },
   {
    "duration": 15,
    "start_time": "2023-05-05T18:45:49.007Z"
   },
   {
    "duration": 7,
    "start_time": "2023-05-05T18:45:49.023Z"
   },
   {
    "duration": 16,
    "start_time": "2023-05-05T18:45:49.031Z"
   },
   {
    "duration": 14,
    "start_time": "2023-05-05T18:45:49.049Z"
   },
   {
    "duration": 3,
    "start_time": "2023-05-05T18:46:56.014Z"
   },
   {
    "duration": 3,
    "start_time": "2023-05-05T18:46:59.190Z"
   },
   {
    "duration": 414,
    "start_time": "2023-05-05T18:47:03.894Z"
   },
   {
    "duration": 3,
    "start_time": "2023-05-05T18:47:27.937Z"
   },
   {
    "duration": 2,
    "start_time": "2023-05-05T18:47:30.993Z"
   },
   {
    "duration": 3089,
    "start_time": "2023-05-05T18:47:32.910Z"
   },
   {
    "duration": 43,
    "start_time": "2023-05-05T18:47:49.674Z"
   },
   {
    "duration": 3,
    "start_time": "2023-05-05T18:47:52.747Z"
   },
   {
    "duration": 3,
    "start_time": "2023-05-05T18:47:54.731Z"
   },
   {
    "duration": 2,
    "start_time": "2023-05-05T18:47:56.709Z"
   },
   {
    "duration": 3262,
    "start_time": "2023-05-05T18:47:58.916Z"
   },
   {
    "duration": 1579,
    "start_time": "2023-05-05T18:48:02.872Z"
   },
   {
    "duration": 4,
    "start_time": "2023-05-05T18:49:18.721Z"
   },
   {
    "duration": 4,
    "start_time": "2023-05-05T18:49:20.712Z"
   },
   {
    "duration": 3523,
    "start_time": "2023-05-05T18:49:22.751Z"
   },
   {
    "duration": 5,
    "start_time": "2023-05-05T18:49:32.629Z"
   },
   {
    "duration": 3,
    "start_time": "2023-05-05T18:49:35.993Z"
   },
   {
    "duration": 3461,
    "start_time": "2023-05-05T18:49:37.912Z"
   },
   {
    "duration": 1527,
    "start_time": "2023-05-05T18:49:45.155Z"
   },
   {
    "duration": 1513,
    "start_time": "2023-05-05T18:49:54.866Z"
   },
   {
    "duration": 884,
    "start_time": "2023-05-05T18:50:03.199Z"
   },
   {
    "duration": 9,
    "start_time": "2023-05-05T18:50:06.575Z"
   },
   {
    "duration": 8,
    "start_time": "2023-05-05T18:50:10.087Z"
   },
   {
    "duration": 3673,
    "start_time": "2023-05-05T18:50:12.500Z"
   },
   {
    "duration": 11,
    "start_time": "2023-05-05T18:50:16.175Z"
   },
   {
    "duration": 1666,
    "start_time": "2023-05-05T18:50:21.635Z"
   },
   {
    "duration": 870,
    "start_time": "2023-05-05T18:50:24.561Z"
   },
   {
    "duration": 10,
    "start_time": "2023-05-05T18:50:27.402Z"
   },
   {
    "duration": 3,
    "start_time": "2023-05-05T18:50:37.403Z"
   },
   {
    "duration": 18,
    "start_time": "2023-05-05T18:50:37.407Z"
   },
   {
    "duration": 14,
    "start_time": "2023-05-05T18:50:37.426Z"
   },
   {
    "duration": 26,
    "start_time": "2023-05-05T18:50:37.441Z"
   },
   {
    "duration": 11,
    "start_time": "2023-05-05T18:50:37.468Z"
   },
   {
    "duration": 6,
    "start_time": "2023-05-05T18:50:37.480Z"
   },
   {
    "duration": 8,
    "start_time": "2023-05-05T18:50:37.487Z"
   },
   {
    "duration": 7,
    "start_time": "2023-05-05T18:50:37.496Z"
   },
   {
    "duration": 8,
    "start_time": "2023-05-05T18:50:37.505Z"
   },
   {
    "duration": 3,
    "start_time": "2023-05-05T18:50:37.514Z"
   },
   {
    "duration": 4076,
    "start_time": "2023-05-05T18:50:37.519Z"
   },
   {
    "duration": 76,
    "start_time": "2023-05-05T18:50:41.597Z"
   },
   {
    "duration": 3,
    "start_time": "2023-05-05T18:50:41.675Z"
   },
   {
    "duration": 2159,
    "start_time": "2023-05-05T18:50:41.679Z"
   },
   {
    "duration": 2,
    "start_time": "2023-05-05T18:50:43.840Z"
   },
   {
    "duration": 951,
    "start_time": "2023-05-05T18:50:43.843Z"
   },
   {
    "duration": 7,
    "start_time": "2023-05-05T18:50:44.796Z"
   },
   {
    "duration": 5,
    "start_time": "2023-05-05T18:50:44.805Z"
   },
   {
    "duration": 38366,
    "start_time": "2023-05-05T18:50:44.812Z"
   },
   {
    "duration": 0,
    "start_time": "2023-05-05T18:51:23.182Z"
   },
   {
    "duration": 0,
    "start_time": "2023-05-05T18:51:23.184Z"
   },
   {
    "duration": 0,
    "start_time": "2023-05-05T18:51:23.185Z"
   },
   {
    "duration": 0,
    "start_time": "2023-05-05T18:51:23.186Z"
   },
   {
    "duration": 0,
    "start_time": "2023-05-05T18:51:23.187Z"
   },
   {
    "duration": 0,
    "start_time": "2023-05-05T18:51:23.188Z"
   },
   {
    "duration": 0,
    "start_time": "2023-05-05T18:51:23.189Z"
   },
   {
    "duration": 0,
    "start_time": "2023-05-05T18:51:23.190Z"
   },
   {
    "duration": 0,
    "start_time": "2023-05-05T18:51:23.191Z"
   },
   {
    "duration": 0,
    "start_time": "2023-05-05T18:51:23.192Z"
   },
   {
    "duration": 0,
    "start_time": "2023-05-05T18:51:23.194Z"
   },
   {
    "duration": 0,
    "start_time": "2023-05-05T18:51:23.195Z"
   },
   {
    "duration": 0,
    "start_time": "2023-05-05T18:51:23.196Z"
   },
   {
    "duration": 0,
    "start_time": "2023-05-05T18:51:23.197Z"
   },
   {
    "duration": 0,
    "start_time": "2023-05-05T18:51:23.198Z"
   },
   {
    "duration": 0,
    "start_time": "2023-05-05T18:51:23.199Z"
   },
   {
    "duration": 0,
    "start_time": "2023-05-05T18:51:23.200Z"
   },
   {
    "duration": 0,
    "start_time": "2023-05-05T18:51:23.201Z"
   },
   {
    "duration": 0,
    "start_time": "2023-05-05T18:51:23.202Z"
   },
   {
    "duration": 0,
    "start_time": "2023-05-05T18:51:23.203Z"
   },
   {
    "duration": 0,
    "start_time": "2023-05-05T18:51:23.204Z"
   },
   {
    "duration": 0,
    "start_time": "2023-05-05T18:51:23.205Z"
   },
   {
    "duration": 0,
    "start_time": "2023-05-05T18:51:23.207Z"
   },
   {
    "duration": 0,
    "start_time": "2023-05-05T18:51:23.208Z"
   },
   {
    "duration": 0,
    "start_time": "2023-05-05T18:51:23.208Z"
   },
   {
    "duration": 0,
    "start_time": "2023-05-05T18:51:23.210Z"
   },
   {
    "duration": 0,
    "start_time": "2023-05-05T18:51:23.211Z"
   },
   {
    "duration": 0,
    "start_time": "2023-05-05T18:51:23.212Z"
   },
   {
    "duration": 0,
    "start_time": "2023-05-05T18:51:23.212Z"
   },
   {
    "duration": 0,
    "start_time": "2023-05-05T18:51:23.213Z"
   },
   {
    "duration": 0,
    "start_time": "2023-05-05T18:51:23.214Z"
   },
   {
    "duration": 0,
    "start_time": "2023-05-05T18:51:23.216Z"
   },
   {
    "duration": 0,
    "start_time": "2023-05-05T18:51:23.216Z"
   },
   {
    "duration": 0,
    "start_time": "2023-05-05T18:51:23.217Z"
   },
   {
    "duration": 0,
    "start_time": "2023-05-05T18:51:23.272Z"
   },
   {
    "duration": 0,
    "start_time": "2023-05-05T18:51:23.274Z"
   },
   {
    "duration": 0,
    "start_time": "2023-05-05T18:51:23.275Z"
   },
   {
    "duration": 0,
    "start_time": "2023-05-05T18:51:23.276Z"
   },
   {
    "duration": 0,
    "start_time": "2023-05-05T18:51:23.278Z"
   },
   {
    "duration": 0,
    "start_time": "2023-05-05T18:51:23.278Z"
   },
   {
    "duration": 0,
    "start_time": "2023-05-05T18:51:23.279Z"
   },
   {
    "duration": 0,
    "start_time": "2023-05-05T18:51:23.280Z"
   },
   {
    "duration": 0,
    "start_time": "2023-05-05T18:51:23.281Z"
   },
   {
    "duration": 0,
    "start_time": "2023-05-05T18:51:23.282Z"
   },
   {
    "duration": 0,
    "start_time": "2023-05-05T18:51:23.283Z"
   },
   {
    "duration": 0,
    "start_time": "2023-05-05T18:51:23.284Z"
   },
   {
    "duration": 0,
    "start_time": "2023-05-05T18:51:23.285Z"
   },
   {
    "duration": 0,
    "start_time": "2023-05-05T18:51:23.286Z"
   },
   {
    "duration": 0,
    "start_time": "2023-05-05T18:51:23.287Z"
   },
   {
    "duration": 0,
    "start_time": "2023-05-05T18:51:23.288Z"
   },
   {
    "duration": 0,
    "start_time": "2023-05-05T18:51:23.288Z"
   },
   {
    "duration": 0,
    "start_time": "2023-05-05T18:51:23.289Z"
   },
   {
    "duration": 0,
    "start_time": "2023-05-05T18:51:23.290Z"
   },
   {
    "duration": 0,
    "start_time": "2023-05-05T18:51:23.291Z"
   },
   {
    "duration": 0,
    "start_time": "2023-05-05T18:51:23.292Z"
   },
   {
    "duration": 0,
    "start_time": "2023-05-05T18:51:23.293Z"
   },
   {
    "duration": 0,
    "start_time": "2023-05-05T18:51:23.295Z"
   },
   {
    "duration": 1,
    "start_time": "2023-05-05T18:51:23.296Z"
   },
   {
    "duration": 0,
    "start_time": "2023-05-05T18:51:23.298Z"
   },
   {
    "duration": 0,
    "start_time": "2023-05-05T18:51:23.299Z"
   },
   {
    "duration": 0,
    "start_time": "2023-05-05T18:51:23.301Z"
   },
   {
    "duration": 0,
    "start_time": "2023-05-05T18:51:23.302Z"
   },
   {
    "duration": 0,
    "start_time": "2023-05-05T18:51:23.304Z"
   },
   {
    "duration": 0,
    "start_time": "2023-05-05T18:51:23.305Z"
   },
   {
    "duration": 0,
    "start_time": "2023-05-05T18:51:23.306Z"
   },
   {
    "duration": 0,
    "start_time": "2023-05-05T18:51:23.372Z"
   },
   {
    "duration": 0,
    "start_time": "2023-05-05T18:51:23.373Z"
   },
   {
    "duration": 0,
    "start_time": "2023-05-05T18:51:23.374Z"
   },
   {
    "duration": 0,
    "start_time": "2023-05-05T18:51:23.376Z"
   },
   {
    "duration": 0,
    "start_time": "2023-05-05T18:51:23.377Z"
   },
   {
    "duration": 0,
    "start_time": "2023-05-05T18:51:23.379Z"
   },
   {
    "duration": 0,
    "start_time": "2023-05-05T18:51:23.380Z"
   },
   {
    "duration": 0,
    "start_time": "2023-05-05T18:51:23.381Z"
   },
   {
    "duration": 0,
    "start_time": "2023-05-05T18:51:23.382Z"
   },
   {
    "duration": 0,
    "start_time": "2023-05-05T18:51:23.383Z"
   },
   {
    "duration": 0,
    "start_time": "2023-05-05T18:51:23.384Z"
   },
   {
    "duration": 0,
    "start_time": "2023-05-05T18:51:23.388Z"
   },
   {
    "duration": 0,
    "start_time": "2023-05-05T18:51:23.389Z"
   },
   {
    "duration": 0,
    "start_time": "2023-05-05T18:51:23.390Z"
   },
   {
    "duration": 0,
    "start_time": "2023-05-05T18:51:23.392Z"
   },
   {
    "duration": 0,
    "start_time": "2023-05-05T18:51:23.393Z"
   },
   {
    "duration": 0,
    "start_time": "2023-05-05T18:51:23.395Z"
   },
   {
    "duration": 0,
    "start_time": "2023-05-05T18:51:23.396Z"
   },
   {
    "duration": 0,
    "start_time": "2023-05-05T18:51:23.397Z"
   },
   {
    "duration": 0,
    "start_time": "2023-05-05T18:51:23.399Z"
   },
   {
    "duration": 0,
    "start_time": "2023-05-05T18:51:23.400Z"
   },
   {
    "duration": 0,
    "start_time": "2023-05-05T18:51:23.401Z"
   },
   {
    "duration": 0,
    "start_time": "2023-05-05T18:51:23.403Z"
   },
   {
    "duration": 0,
    "start_time": "2023-05-05T18:51:23.404Z"
   },
   {
    "duration": 0,
    "start_time": "2023-05-05T18:51:23.405Z"
   },
   {
    "duration": 0,
    "start_time": "2023-05-05T18:51:23.407Z"
   },
   {
    "duration": 0,
    "start_time": "2023-05-05T18:51:23.408Z"
   },
   {
    "duration": 0,
    "start_time": "2023-05-05T18:51:23.472Z"
   },
   {
    "duration": 0,
    "start_time": "2023-05-05T18:51:23.473Z"
   },
   {
    "duration": 0,
    "start_time": "2023-05-05T18:51:23.475Z"
   },
   {
    "duration": 0,
    "start_time": "2023-05-05T18:51:23.476Z"
   },
   {
    "duration": 0,
    "start_time": "2023-05-05T18:51:23.477Z"
   },
   {
    "duration": 0,
    "start_time": "2023-05-05T18:51:23.478Z"
   },
   {
    "duration": 0,
    "start_time": "2023-05-05T18:51:23.479Z"
   },
   {
    "duration": 0,
    "start_time": "2023-05-05T18:51:23.480Z"
   },
   {
    "duration": 2024,
    "start_time": "2023-05-05T18:51:29.712Z"
   },
   {
    "duration": 1348,
    "start_time": "2023-05-05T18:51:31.738Z"
   },
   {
    "duration": 3,
    "start_time": "2023-05-05T18:51:33.087Z"
   },
   {
    "duration": 645,
    "start_time": "2023-05-05T18:51:33.091Z"
   },
   {
    "duration": 43,
    "start_time": "2023-05-05T18:51:33.737Z"
   },
   {
    "duration": 3,
    "start_time": "2023-05-05T18:51:33.782Z"
   },
   {
    "duration": 49,
    "start_time": "2023-05-05T18:51:33.786Z"
   },
   {
    "duration": 236,
    "start_time": "2023-05-05T18:51:33.836Z"
   },
   {
    "duration": 6,
    "start_time": "2023-05-05T18:51:34.074Z"
   },
   {
    "duration": 4,
    "start_time": "2023-05-05T18:51:34.083Z"
   },
   {
    "duration": 7,
    "start_time": "2023-05-05T18:51:34.089Z"
   },
   {
    "duration": 20,
    "start_time": "2023-05-05T18:51:34.098Z"
   },
   {
    "duration": 2,
    "start_time": "2023-05-05T18:51:34.120Z"
   },
   {
    "duration": 21,
    "start_time": "2023-05-05T18:51:34.124Z"
   },
   {
    "duration": 25,
    "start_time": "2023-05-05T18:51:34.146Z"
   },
   {
    "duration": 19,
    "start_time": "2023-05-05T18:51:34.173Z"
   },
   {
    "duration": 11,
    "start_time": "2023-05-05T18:51:34.194Z"
   },
   {
    "duration": 11,
    "start_time": "2023-05-05T18:51:34.207Z"
   },
   {
    "duration": 12,
    "start_time": "2023-05-05T18:51:34.220Z"
   },
   {
    "duration": 8,
    "start_time": "2023-05-05T18:51:34.234Z"
   },
   {
    "duration": 272,
    "start_time": "2023-05-05T18:51:34.244Z"
   },
   {
    "duration": 485,
    "start_time": "2023-05-05T18:51:34.518Z"
   },
   {
    "duration": 434,
    "start_time": "2023-05-05T18:51:35.005Z"
   },
   {
    "duration": 437,
    "start_time": "2023-05-05T18:51:35.441Z"
   },
   {
    "duration": 515,
    "start_time": "2023-05-05T18:51:35.880Z"
   },
   {
    "duration": 3,
    "start_time": "2023-05-05T18:51:36.397Z"
   },
   {
    "duration": 9,
    "start_time": "2023-05-05T18:51:36.401Z"
   },
   {
    "duration": 461,
    "start_time": "2023-05-05T18:51:36.414Z"
   },
   {
    "duration": 4,
    "start_time": "2023-05-05T18:51:36.876Z"
   },
   {
    "duration": 13,
    "start_time": "2023-05-05T18:51:36.882Z"
   },
   {
    "duration": 4,
    "start_time": "2023-05-05T18:51:36.897Z"
   },
   {
    "duration": 12,
    "start_time": "2023-05-05T18:51:36.903Z"
   },
   {
    "duration": 210,
    "start_time": "2023-05-05T18:51:36.917Z"
   },
   {
    "duration": 274,
    "start_time": "2023-05-05T18:51:37.128Z"
   },
   {
    "duration": 5,
    "start_time": "2023-05-05T18:51:37.404Z"
   },
   {
    "duration": 1854,
    "start_time": "2023-05-05T18:51:37.411Z"
   },
   {
    "duration": 48,
    "start_time": "2023-05-05T18:51:39.266Z"
   },
   {
    "duration": 12,
    "start_time": "2023-05-05T18:51:39.315Z"
   },
   {
    "duration": 18,
    "start_time": "2023-05-05T18:51:39.328Z"
   },
   {
    "duration": 39,
    "start_time": "2023-05-05T18:51:39.348Z"
   },
   {
    "duration": 2,
    "start_time": "2023-05-05T18:51:39.390Z"
   },
   {
    "duration": 19,
    "start_time": "2023-05-05T18:51:39.394Z"
   },
   {
    "duration": 12,
    "start_time": "2023-05-05T18:51:39.414Z"
   },
   {
    "duration": 4,
    "start_time": "2023-05-05T18:51:39.429Z"
   },
   {
    "duration": 8,
    "start_time": "2023-05-05T18:51:39.434Z"
   },
   {
    "duration": 29,
    "start_time": "2023-05-05T18:51:39.443Z"
   },
   {
    "duration": 6,
    "start_time": "2023-05-05T18:51:39.474Z"
   },
   {
    "duration": 6,
    "start_time": "2023-05-05T18:51:39.481Z"
   },
   {
    "duration": 9,
    "start_time": "2023-05-05T18:51:39.489Z"
   },
   {
    "duration": 3,
    "start_time": "2023-05-05T18:51:39.499Z"
   },
   {
    "duration": 3586,
    "start_time": "2023-05-05T18:51:39.504Z"
   },
   {
    "duration": 9,
    "start_time": "2023-05-05T18:51:43.171Z"
   },
   {
    "duration": 14,
    "start_time": "2023-05-05T18:51:43.182Z"
   },
   {
    "duration": 1446,
    "start_time": "2023-05-05T18:51:43.198Z"
   },
   {
    "duration": 3,
    "start_time": "2023-05-05T18:51:44.645Z"
   },
   {
    "duration": 897,
    "start_time": "2023-05-05T18:51:44.650Z"
   },
   {
    "duration": 7,
    "start_time": "2023-05-05T18:51:45.548Z"
   },
   {
    "duration": 3,
    "start_time": "2023-05-05T18:51:45.571Z"
   },
   {
    "duration": 15334,
    "start_time": "2023-05-05T18:51:45.575Z"
   },
   {
    "duration": 0,
    "start_time": "2023-05-05T18:52:00.918Z"
   },
   {
    "duration": 0,
    "start_time": "2023-05-05T18:52:00.920Z"
   },
   {
    "duration": 0,
    "start_time": "2023-05-05T18:52:00.922Z"
   },
   {
    "duration": 0,
    "start_time": "2023-05-05T18:52:00.923Z"
   },
   {
    "duration": 0,
    "start_time": "2023-05-05T18:52:00.925Z"
   },
   {
    "duration": 0,
    "start_time": "2023-05-05T18:52:00.927Z"
   },
   {
    "duration": 0,
    "start_time": "2023-05-05T18:52:00.928Z"
   },
   {
    "duration": 0,
    "start_time": "2023-05-05T18:52:00.930Z"
   },
   {
    "duration": 0,
    "start_time": "2023-05-05T18:52:00.931Z"
   },
   {
    "duration": 0,
    "start_time": "2023-05-05T18:52:00.932Z"
   },
   {
    "duration": 0,
    "start_time": "2023-05-05T18:52:00.933Z"
   },
   {
    "duration": 0,
    "start_time": "2023-05-05T18:52:00.936Z"
   },
   {
    "duration": 0,
    "start_time": "2023-05-05T18:52:00.937Z"
   },
   {
    "duration": 0,
    "start_time": "2023-05-05T18:52:00.938Z"
   },
   {
    "duration": 0,
    "start_time": "2023-05-05T18:52:00.972Z"
   },
   {
    "duration": 0,
    "start_time": "2023-05-05T18:52:00.974Z"
   },
   {
    "duration": 1,
    "start_time": "2023-05-05T18:52:00.975Z"
   },
   {
    "duration": 0,
    "start_time": "2023-05-05T18:52:00.977Z"
   },
   {
    "duration": 0,
    "start_time": "2023-05-05T18:52:00.978Z"
   },
   {
    "duration": 0,
    "start_time": "2023-05-05T18:52:00.980Z"
   },
   {
    "duration": 0,
    "start_time": "2023-05-05T18:52:00.981Z"
   },
   {
    "duration": 0,
    "start_time": "2023-05-05T18:52:00.983Z"
   },
   {
    "duration": 0,
    "start_time": "2023-05-05T18:52:00.984Z"
   },
   {
    "duration": 0,
    "start_time": "2023-05-05T18:52:00.986Z"
   },
   {
    "duration": 0,
    "start_time": "2023-05-05T18:52:00.988Z"
   },
   {
    "duration": 0,
    "start_time": "2023-05-05T18:52:00.989Z"
   },
   {
    "duration": 0,
    "start_time": "2023-05-05T18:52:00.990Z"
   },
   {
    "duration": 0,
    "start_time": "2023-05-05T18:52:00.992Z"
   },
   {
    "duration": 0,
    "start_time": "2023-05-05T18:52:00.993Z"
   },
   {
    "duration": 0,
    "start_time": "2023-05-05T18:52:00.995Z"
   },
   {
    "duration": 0,
    "start_time": "2023-05-05T18:52:00.998Z"
   },
   {
    "duration": 0,
    "start_time": "2023-05-05T18:52:00.999Z"
   },
   {
    "duration": 0,
    "start_time": "2023-05-05T18:52:01.001Z"
   },
   {
    "duration": 0,
    "start_time": "2023-05-05T18:52:01.002Z"
   },
   {
    "duration": 0,
    "start_time": "2023-05-05T18:52:01.004Z"
   },
   {
    "duration": 0,
    "start_time": "2023-05-05T18:52:01.005Z"
   },
   {
    "duration": 0,
    "start_time": "2023-05-05T18:52:01.006Z"
   },
   {
    "duration": 0,
    "start_time": "2023-05-05T18:52:01.008Z"
   },
   {
    "duration": 0,
    "start_time": "2023-05-05T18:52:01.009Z"
   },
   {
    "duration": 0,
    "start_time": "2023-05-05T18:52:01.010Z"
   },
   {
    "duration": 0,
    "start_time": "2023-05-05T18:52:01.074Z"
   },
   {
    "duration": 0,
    "start_time": "2023-05-05T18:52:01.075Z"
   },
   {
    "duration": 0,
    "start_time": "2023-05-05T18:52:01.076Z"
   },
   {
    "duration": 0,
    "start_time": "2023-05-05T18:52:01.077Z"
   },
   {
    "duration": 0,
    "start_time": "2023-05-05T18:52:01.078Z"
   },
   {
    "duration": 0,
    "start_time": "2023-05-05T18:52:01.080Z"
   },
   {
    "duration": 0,
    "start_time": "2023-05-05T18:52:01.082Z"
   },
   {
    "duration": 0,
    "start_time": "2023-05-05T18:52:01.091Z"
   },
   {
    "duration": 0,
    "start_time": "2023-05-05T18:52:01.092Z"
   },
   {
    "duration": 0,
    "start_time": "2023-05-05T18:52:01.094Z"
   },
   {
    "duration": 0,
    "start_time": "2023-05-05T18:52:01.095Z"
   },
   {
    "duration": 0,
    "start_time": "2023-05-05T18:52:01.097Z"
   },
   {
    "duration": 0,
    "start_time": "2023-05-05T18:52:01.098Z"
   },
   {
    "duration": 0,
    "start_time": "2023-05-05T18:52:01.099Z"
   },
   {
    "duration": 0,
    "start_time": "2023-05-05T18:52:01.100Z"
   },
   {
    "duration": 0,
    "start_time": "2023-05-05T18:52:01.101Z"
   },
   {
    "duration": 0,
    "start_time": "2023-05-05T18:52:01.104Z"
   },
   {
    "duration": 0,
    "start_time": "2023-05-05T18:52:01.105Z"
   },
   {
    "duration": 0,
    "start_time": "2023-05-05T18:52:01.107Z"
   },
   {
    "duration": 0,
    "start_time": "2023-05-05T18:52:01.109Z"
   },
   {
    "duration": 0,
    "start_time": "2023-05-05T18:52:01.111Z"
   },
   {
    "duration": 0,
    "start_time": "2023-05-05T18:52:01.113Z"
   },
   {
    "duration": 0,
    "start_time": "2023-05-05T18:52:01.114Z"
   },
   {
    "duration": 0,
    "start_time": "2023-05-05T18:52:01.115Z"
   },
   {
    "duration": 0,
    "start_time": "2023-05-05T18:52:01.172Z"
   },
   {
    "duration": 0,
    "start_time": "2023-05-05T18:52:01.174Z"
   },
   {
    "duration": 0,
    "start_time": "2023-05-05T18:52:01.175Z"
   },
   {
    "duration": 0,
    "start_time": "2023-05-05T18:52:01.177Z"
   },
   {
    "duration": 0,
    "start_time": "2023-05-05T18:52:01.178Z"
   },
   {
    "duration": 0,
    "start_time": "2023-05-05T18:52:01.180Z"
   },
   {
    "duration": 0,
    "start_time": "2023-05-05T18:52:01.182Z"
   },
   {
    "duration": 0,
    "start_time": "2023-05-05T18:52:01.186Z"
   },
   {
    "duration": 0,
    "start_time": "2023-05-05T18:52:01.187Z"
   },
   {
    "duration": 0,
    "start_time": "2023-05-05T18:52:01.188Z"
   },
   {
    "duration": 0,
    "start_time": "2023-05-05T18:52:01.189Z"
   },
   {
    "duration": 0,
    "start_time": "2023-05-05T18:52:01.191Z"
   },
   {
    "duration": 0,
    "start_time": "2023-05-05T18:52:01.192Z"
   },
   {
    "duration": 0,
    "start_time": "2023-05-05T18:52:01.193Z"
   },
   {
    "duration": 0,
    "start_time": "2023-05-05T18:52:01.195Z"
   },
   {
    "duration": 0,
    "start_time": "2023-05-05T18:52:01.196Z"
   },
   {
    "duration": 0,
    "start_time": "2023-05-05T18:52:01.197Z"
   },
   {
    "duration": 0,
    "start_time": "2023-05-05T18:52:01.199Z"
   },
   {
    "duration": 0,
    "start_time": "2023-05-05T18:52:01.200Z"
   },
   {
    "duration": 0,
    "start_time": "2023-05-05T18:52:01.201Z"
   },
   {
    "duration": 0,
    "start_time": "2023-05-05T18:52:01.203Z"
   },
   {
    "duration": 0,
    "start_time": "2023-05-05T18:52:01.205Z"
   },
   {
    "duration": 0,
    "start_time": "2023-05-05T18:52:01.206Z"
   },
   {
    "duration": 0,
    "start_time": "2023-05-05T18:52:01.208Z"
   },
   {
    "duration": 0,
    "start_time": "2023-05-05T18:52:01.209Z"
   },
   {
    "duration": 0,
    "start_time": "2023-05-05T18:52:01.210Z"
   },
   {
    "duration": 0,
    "start_time": "2023-05-05T18:52:01.212Z"
   },
   {
    "duration": 0,
    "start_time": "2023-05-05T18:52:01.212Z"
   },
   {
    "duration": 0,
    "start_time": "2023-05-05T18:52:01.273Z"
   },
   {
    "duration": 0,
    "start_time": "2023-05-05T18:52:01.274Z"
   },
   {
    "duration": 0,
    "start_time": "2023-05-05T18:52:01.275Z"
   },
   {
    "duration": 0,
    "start_time": "2023-05-05T18:52:01.276Z"
   },
   {
    "duration": 0,
    "start_time": "2023-05-05T18:52:01.277Z"
   },
   {
    "duration": 0,
    "start_time": "2023-05-05T18:52:01.278Z"
   },
   {
    "duration": 0,
    "start_time": "2023-05-05T18:52:01.279Z"
   },
   {
    "duration": 0,
    "start_time": "2023-05-05T18:52:01.280Z"
   },
   {
    "duration": 2356,
    "start_time": "2023-05-05T18:52:59.230Z"
   },
   {
    "duration": 2351,
    "start_time": "2023-05-05T18:53:01.588Z"
   },
   {
    "duration": 3,
    "start_time": "2023-05-05T18:53:03.941Z"
   },
   {
    "duration": 637,
    "start_time": "2023-05-05T18:53:03.947Z"
   },
   {
    "duration": 38,
    "start_time": "2023-05-05T18:53:04.586Z"
   },
   {
    "duration": 3,
    "start_time": "2023-05-05T18:53:04.626Z"
   },
   {
    "duration": 67,
    "start_time": "2023-05-05T18:53:04.631Z"
   },
   {
    "duration": 219,
    "start_time": "2023-05-05T18:53:04.699Z"
   },
   {
    "duration": 6,
    "start_time": "2023-05-05T18:53:04.919Z"
   },
   {
    "duration": 7,
    "start_time": "2023-05-05T18:53:04.927Z"
   },
   {
    "duration": 9,
    "start_time": "2023-05-05T18:53:04.936Z"
   },
   {
    "duration": 29,
    "start_time": "2023-05-05T18:53:04.946Z"
   },
   {
    "duration": 3,
    "start_time": "2023-05-05T18:53:04.977Z"
   },
   {
    "duration": 23,
    "start_time": "2023-05-05T18:53:04.982Z"
   },
   {
    "duration": 3,
    "start_time": "2023-05-05T18:53:05.007Z"
   },
   {
    "duration": 20,
    "start_time": "2023-05-05T18:53:05.011Z"
   },
   {
    "duration": 3,
    "start_time": "2023-05-05T18:53:05.032Z"
   },
   {
    "duration": 5,
    "start_time": "2023-05-05T18:53:05.036Z"
   },
   {
    "duration": 44,
    "start_time": "2023-05-05T18:53:05.042Z"
   },
   {
    "duration": 3,
    "start_time": "2023-05-05T18:53:05.088Z"
   },
   {
    "duration": 188,
    "start_time": "2023-05-05T18:53:05.092Z"
   },
   {
    "duration": 533,
    "start_time": "2023-05-05T18:53:05.282Z"
   },
   {
    "duration": 600,
    "start_time": "2023-05-05T18:53:05.817Z"
   },
   {
    "duration": 748,
    "start_time": "2023-05-05T18:53:06.419Z"
   },
   {
    "duration": 380,
    "start_time": "2023-05-05T18:53:07.168Z"
   },
   {
    "duration": 3,
    "start_time": "2023-05-05T18:53:07.550Z"
   },
   {
    "duration": 13,
    "start_time": "2023-05-05T18:53:07.554Z"
   },
   {
    "duration": 452,
    "start_time": "2023-05-05T18:53:07.575Z"
   },
   {
    "duration": 4,
    "start_time": "2023-05-05T18:53:08.028Z"
   },
   {
    "duration": 23,
    "start_time": "2023-05-05T18:53:08.033Z"
   },
   {
    "duration": 3,
    "start_time": "2023-05-05T18:53:08.057Z"
   },
   {
    "duration": 17,
    "start_time": "2023-05-05T18:53:08.062Z"
   },
   {
    "duration": 211,
    "start_time": "2023-05-05T18:53:08.081Z"
   },
   {
    "duration": 269,
    "start_time": "2023-05-05T18:53:08.295Z"
   },
   {
    "duration": 11,
    "start_time": "2023-05-05T18:53:08.565Z"
   },
   {
    "duration": 1770,
    "start_time": "2023-05-05T18:53:08.578Z"
   },
   {
    "duration": 45,
    "start_time": "2023-05-05T18:53:10.350Z"
   },
   {
    "duration": 11,
    "start_time": "2023-05-05T18:53:10.397Z"
   },
   {
    "duration": 31,
    "start_time": "2023-05-05T18:53:10.409Z"
   },
   {
    "duration": 31,
    "start_time": "2023-05-05T18:53:10.441Z"
   },
   {
    "duration": 2,
    "start_time": "2023-05-05T18:53:10.474Z"
   },
   {
    "duration": 15,
    "start_time": "2023-05-05T18:53:10.477Z"
   },
   {
    "duration": 4,
    "start_time": "2023-05-05T18:53:10.494Z"
   },
   {
    "duration": 6,
    "start_time": "2023-05-05T18:53:10.499Z"
   },
   {
    "duration": 7,
    "start_time": "2023-05-05T18:53:10.507Z"
   },
   {
    "duration": 8,
    "start_time": "2023-05-05T18:53:10.516Z"
   },
   {
    "duration": 9,
    "start_time": "2023-05-05T18:53:10.526Z"
   },
   {
    "duration": 5,
    "start_time": "2023-05-05T18:53:10.537Z"
   },
   {
    "duration": 30,
    "start_time": "2023-05-05T18:53:10.543Z"
   },
   {
    "duration": 3,
    "start_time": "2023-05-05T18:53:10.574Z"
   },
   {
    "duration": 131,
    "start_time": "2023-05-05T18:53:10.579Z"
   },
   {
    "duration": 0,
    "start_time": "2023-05-05T18:53:10.713Z"
   },
   {
    "duration": 0,
    "start_time": "2023-05-05T18:53:10.714Z"
   },
   {
    "duration": 0,
    "start_time": "2023-05-05T18:53:10.715Z"
   },
   {
    "duration": 0,
    "start_time": "2023-05-05T18:53:10.716Z"
   },
   {
    "duration": 0,
    "start_time": "2023-05-05T18:53:10.717Z"
   },
   {
    "duration": 0,
    "start_time": "2023-05-05T18:53:10.718Z"
   },
   {
    "duration": 0,
    "start_time": "2023-05-05T18:53:10.719Z"
   },
   {
    "duration": 0,
    "start_time": "2023-05-05T18:53:10.720Z"
   },
   {
    "duration": 0,
    "start_time": "2023-05-05T18:53:10.721Z"
   },
   {
    "duration": 0,
    "start_time": "2023-05-05T18:53:10.723Z"
   },
   {
    "duration": 0,
    "start_time": "2023-05-05T18:53:10.723Z"
   },
   {
    "duration": 0,
    "start_time": "2023-05-05T18:53:10.724Z"
   },
   {
    "duration": 0,
    "start_time": "2023-05-05T18:53:10.725Z"
   },
   {
    "duration": 0,
    "start_time": "2023-05-05T18:53:10.726Z"
   },
   {
    "duration": 0,
    "start_time": "2023-05-05T18:53:10.727Z"
   },
   {
    "duration": 0,
    "start_time": "2023-05-05T18:53:10.728Z"
   },
   {
    "duration": 0,
    "start_time": "2023-05-05T18:53:10.728Z"
   },
   {
    "duration": 0,
    "start_time": "2023-05-05T18:53:10.730Z"
   },
   {
    "duration": 0,
    "start_time": "2023-05-05T18:53:10.730Z"
   },
   {
    "duration": 0,
    "start_time": "2023-05-05T18:53:10.732Z"
   },
   {
    "duration": 0,
    "start_time": "2023-05-05T18:53:10.733Z"
   },
   {
    "duration": 0,
    "start_time": "2023-05-05T18:53:10.771Z"
   },
   {
    "duration": 0,
    "start_time": "2023-05-05T18:53:10.773Z"
   },
   {
    "duration": 0,
    "start_time": "2023-05-05T18:53:10.774Z"
   },
   {
    "duration": 0,
    "start_time": "2023-05-05T18:53:10.775Z"
   },
   {
    "duration": 0,
    "start_time": "2023-05-05T18:53:10.775Z"
   },
   {
    "duration": 0,
    "start_time": "2023-05-05T18:53:10.776Z"
   },
   {
    "duration": 0,
    "start_time": "2023-05-05T18:53:10.777Z"
   },
   {
    "duration": 0,
    "start_time": "2023-05-05T18:53:10.778Z"
   },
   {
    "duration": 0,
    "start_time": "2023-05-05T18:53:10.779Z"
   },
   {
    "duration": 0,
    "start_time": "2023-05-05T18:53:10.780Z"
   },
   {
    "duration": 0,
    "start_time": "2023-05-05T18:53:10.781Z"
   },
   {
    "duration": 0,
    "start_time": "2023-05-05T18:53:10.781Z"
   },
   {
    "duration": 0,
    "start_time": "2023-05-05T18:53:10.782Z"
   },
   {
    "duration": 0,
    "start_time": "2023-05-05T18:53:10.783Z"
   },
   {
    "duration": 0,
    "start_time": "2023-05-05T18:53:10.784Z"
   },
   {
    "duration": 0,
    "start_time": "2023-05-05T18:53:10.785Z"
   },
   {
    "duration": 0,
    "start_time": "2023-05-05T18:53:10.786Z"
   },
   {
    "duration": 1,
    "start_time": "2023-05-05T18:53:10.787Z"
   },
   {
    "duration": 0,
    "start_time": "2023-05-05T18:53:10.789Z"
   },
   {
    "duration": 0,
    "start_time": "2023-05-05T18:53:10.790Z"
   },
   {
    "duration": 0,
    "start_time": "2023-05-05T18:53:10.791Z"
   },
   {
    "duration": 0,
    "start_time": "2023-05-05T18:53:10.793Z"
   },
   {
    "duration": 0,
    "start_time": "2023-05-05T18:53:10.794Z"
   },
   {
    "duration": 0,
    "start_time": "2023-05-05T18:53:10.795Z"
   },
   {
    "duration": 0,
    "start_time": "2023-05-05T18:53:10.797Z"
   },
   {
    "duration": 0,
    "start_time": "2023-05-05T18:53:10.798Z"
   },
   {
    "duration": 0,
    "start_time": "2023-05-05T18:53:10.799Z"
   },
   {
    "duration": 0,
    "start_time": "2023-05-05T18:53:10.800Z"
   },
   {
    "duration": 0,
    "start_time": "2023-05-05T18:53:10.801Z"
   },
   {
    "duration": 0,
    "start_time": "2023-05-05T18:53:10.803Z"
   },
   {
    "duration": 0,
    "start_time": "2023-05-05T18:53:10.804Z"
   },
   {
    "duration": 0,
    "start_time": "2023-05-05T18:53:10.806Z"
   },
   {
    "duration": 0,
    "start_time": "2023-05-05T18:53:10.807Z"
   },
   {
    "duration": 0,
    "start_time": "2023-05-05T18:53:10.808Z"
   },
   {
    "duration": 0,
    "start_time": "2023-05-05T18:53:10.809Z"
   },
   {
    "duration": 0,
    "start_time": "2023-05-05T18:53:10.873Z"
   },
   {
    "duration": 0,
    "start_time": "2023-05-05T18:53:10.874Z"
   },
   {
    "duration": 0,
    "start_time": "2023-05-05T18:53:10.875Z"
   },
   {
    "duration": 0,
    "start_time": "2023-05-05T18:53:10.876Z"
   },
   {
    "duration": 0,
    "start_time": "2023-05-05T18:53:10.877Z"
   },
   {
    "duration": 0,
    "start_time": "2023-05-05T18:53:10.879Z"
   },
   {
    "duration": 0,
    "start_time": "2023-05-05T18:53:10.880Z"
   },
   {
    "duration": 0,
    "start_time": "2023-05-05T18:53:10.881Z"
   },
   {
    "duration": 0,
    "start_time": "2023-05-05T18:53:10.883Z"
   },
   {
    "duration": 0,
    "start_time": "2023-05-05T18:53:10.884Z"
   },
   {
    "duration": 0,
    "start_time": "2023-05-05T18:53:10.885Z"
   },
   {
    "duration": 0,
    "start_time": "2023-05-05T18:53:10.886Z"
   },
   {
    "duration": 0,
    "start_time": "2023-05-05T18:53:10.888Z"
   },
   {
    "duration": 0,
    "start_time": "2023-05-05T18:53:10.889Z"
   },
   {
    "duration": 0,
    "start_time": "2023-05-05T18:53:10.891Z"
   },
   {
    "duration": 0,
    "start_time": "2023-05-05T18:53:10.894Z"
   },
   {
    "duration": 0,
    "start_time": "2023-05-05T18:53:10.896Z"
   },
   {
    "duration": 0,
    "start_time": "2023-05-05T18:53:10.898Z"
   },
   {
    "duration": 0,
    "start_time": "2023-05-05T18:53:10.899Z"
   },
   {
    "duration": 0,
    "start_time": "2023-05-05T18:53:10.899Z"
   },
   {
    "duration": 0,
    "start_time": "2023-05-05T18:53:10.900Z"
   },
   {
    "duration": 0,
    "start_time": "2023-05-05T18:53:10.901Z"
   },
   {
    "duration": 0,
    "start_time": "2023-05-05T18:53:10.902Z"
   },
   {
    "duration": 0,
    "start_time": "2023-05-05T18:53:10.903Z"
   },
   {
    "duration": 0,
    "start_time": "2023-05-05T18:53:10.904Z"
   },
   {
    "duration": 0,
    "start_time": "2023-05-05T18:53:10.904Z"
   },
   {
    "duration": 0,
    "start_time": "2023-05-05T18:53:10.905Z"
   },
   {
    "duration": 0,
    "start_time": "2023-05-05T18:53:10.907Z"
   },
   {
    "duration": 0,
    "start_time": "2023-05-05T18:53:10.908Z"
   },
   {
    "duration": 0,
    "start_time": "2023-05-05T18:53:10.909Z"
   },
   {
    "duration": 0,
    "start_time": "2023-05-05T18:53:10.972Z"
   },
   {
    "duration": 0,
    "start_time": "2023-05-05T18:53:10.973Z"
   },
   {
    "duration": 0,
    "start_time": "2023-05-05T18:53:10.974Z"
   },
   {
    "duration": 0,
    "start_time": "2023-05-05T18:53:10.975Z"
   },
   {
    "duration": 0,
    "start_time": "2023-05-05T18:53:10.976Z"
   },
   {
    "duration": 0,
    "start_time": "2023-05-05T18:53:10.977Z"
   },
   {
    "duration": 0,
    "start_time": "2023-05-05T18:53:10.978Z"
   },
   {
    "duration": 0,
    "start_time": "2023-05-05T18:53:10.979Z"
   },
   {
    "duration": 0,
    "start_time": "2023-05-05T18:53:10.980Z"
   },
   {
    "duration": 0,
    "start_time": "2023-05-05T18:53:10.981Z"
   },
   {
    "duration": 0,
    "start_time": "2023-05-05T18:53:10.981Z"
   },
   {
    "duration": 0,
    "start_time": "2023-05-05T18:53:10.982Z"
   },
   {
    "duration": 0,
    "start_time": "2023-05-05T18:53:10.983Z"
   },
   {
    "duration": 0,
    "start_time": "2023-05-05T18:53:10.984Z"
   },
   {
    "duration": 0,
    "start_time": "2023-05-05T18:53:10.985Z"
   },
   {
    "duration": 0,
    "start_time": "2023-05-05T18:53:10.986Z"
   },
   {
    "duration": 0,
    "start_time": "2023-05-05T18:53:10.987Z"
   },
   {
    "duration": 0,
    "start_time": "2023-05-05T18:53:10.988Z"
   },
   {
    "duration": 0,
    "start_time": "2023-05-05T18:53:10.989Z"
   },
   {
    "duration": 0,
    "start_time": "2023-05-05T18:53:10.990Z"
   },
   {
    "duration": 0,
    "start_time": "2023-05-05T18:53:10.991Z"
   },
   {
    "duration": 0,
    "start_time": "2023-05-05T18:53:10.992Z"
   },
   {
    "duration": 13,
    "start_time": "2023-05-05T18:53:33.587Z"
   },
   {
    "duration": 3866,
    "start_time": "2023-05-05T18:53:53.118Z"
   },
   {
    "duration": 1707,
    "start_time": "2023-05-05T18:54:01.745Z"
   },
   {
    "duration": 4,
    "start_time": "2023-05-05T18:54:14.486Z"
   },
   {
    "duration": 3,
    "start_time": "2023-05-05T18:54:16.451Z"
   },
   {
    "duration": 4743,
    "start_time": "2023-05-05T18:54:18.641Z"
   },
   {
    "duration": 9,
    "start_time": "2023-05-05T18:54:26.399Z"
   },
   {
    "duration": 3,
    "start_time": "2023-05-05T18:54:29.399Z"
   },
   {
    "duration": 1703,
    "start_time": "2023-05-05T18:54:29.404Z"
   },
   {
    "duration": 3,
    "start_time": "2023-05-05T18:54:31.109Z"
   },
   {
    "duration": 59,
    "start_time": "2023-05-05T18:54:31.113Z"
   },
   {
    "duration": 0,
    "start_time": "2023-05-05T18:54:31.176Z"
   },
   {
    "duration": 0,
    "start_time": "2023-05-05T18:54:31.177Z"
   },
   {
    "duration": 0,
    "start_time": "2023-05-05T18:54:31.179Z"
   },
   {
    "duration": 0,
    "start_time": "2023-05-05T18:54:31.180Z"
   },
   {
    "duration": 0,
    "start_time": "2023-05-05T18:54:31.181Z"
   },
   {
    "duration": 0,
    "start_time": "2023-05-05T18:54:31.182Z"
   },
   {
    "duration": 0,
    "start_time": "2023-05-05T18:54:31.183Z"
   },
   {
    "duration": 0,
    "start_time": "2023-05-05T18:54:31.184Z"
   },
   {
    "duration": 0,
    "start_time": "2023-05-05T18:54:31.185Z"
   },
   {
    "duration": 0,
    "start_time": "2023-05-05T18:54:31.186Z"
   },
   {
    "duration": 0,
    "start_time": "2023-05-05T18:54:31.186Z"
   },
   {
    "duration": 0,
    "start_time": "2023-05-05T18:54:31.187Z"
   },
   {
    "duration": 0,
    "start_time": "2023-05-05T18:54:31.188Z"
   },
   {
    "duration": 0,
    "start_time": "2023-05-05T18:54:31.189Z"
   },
   {
    "duration": 0,
    "start_time": "2023-05-05T18:54:31.190Z"
   },
   {
    "duration": 0,
    "start_time": "2023-05-05T18:54:31.191Z"
   },
   {
    "duration": 0,
    "start_time": "2023-05-05T18:54:31.192Z"
   },
   {
    "duration": 0,
    "start_time": "2023-05-05T18:54:31.193Z"
   },
   {
    "duration": 0,
    "start_time": "2023-05-05T18:54:31.194Z"
   },
   {
    "duration": 0,
    "start_time": "2023-05-05T18:54:31.195Z"
   },
   {
    "duration": 0,
    "start_time": "2023-05-05T18:54:31.196Z"
   },
   {
    "duration": 0,
    "start_time": "2023-05-05T18:54:31.196Z"
   },
   {
    "duration": 0,
    "start_time": "2023-05-05T18:54:31.197Z"
   },
   {
    "duration": 0,
    "start_time": "2023-05-05T18:54:31.199Z"
   },
   {
    "duration": 0,
    "start_time": "2023-05-05T18:54:31.200Z"
   },
   {
    "duration": 0,
    "start_time": "2023-05-05T18:54:31.201Z"
   },
   {
    "duration": 0,
    "start_time": "2023-05-05T18:54:31.202Z"
   },
   {
    "duration": 0,
    "start_time": "2023-05-05T18:54:31.203Z"
   },
   {
    "duration": 0,
    "start_time": "2023-05-05T18:54:31.205Z"
   },
   {
    "duration": 0,
    "start_time": "2023-05-05T18:54:31.206Z"
   },
   {
    "duration": 0,
    "start_time": "2023-05-05T18:54:31.207Z"
   },
   {
    "duration": 0,
    "start_time": "2023-05-05T18:54:31.209Z"
   },
   {
    "duration": 0,
    "start_time": "2023-05-05T18:54:31.210Z"
   },
   {
    "duration": 0,
    "start_time": "2023-05-05T18:54:31.276Z"
   },
   {
    "duration": 0,
    "start_time": "2023-05-05T18:54:31.278Z"
   },
   {
    "duration": 0,
    "start_time": "2023-05-05T18:54:31.283Z"
   },
   {
    "duration": 0,
    "start_time": "2023-05-05T18:54:31.285Z"
   },
   {
    "duration": 0,
    "start_time": "2023-05-05T18:54:31.287Z"
   },
   {
    "duration": 0,
    "start_time": "2023-05-05T18:54:31.289Z"
   },
   {
    "duration": 0,
    "start_time": "2023-05-05T18:54:31.290Z"
   },
   {
    "duration": 0,
    "start_time": "2023-05-05T18:54:31.291Z"
   },
   {
    "duration": 0,
    "start_time": "2023-05-05T18:54:31.292Z"
   },
   {
    "duration": 0,
    "start_time": "2023-05-05T18:54:31.293Z"
   },
   {
    "duration": 0,
    "start_time": "2023-05-05T18:54:31.295Z"
   },
   {
    "duration": 0,
    "start_time": "2023-05-05T18:54:31.295Z"
   },
   {
    "duration": 0,
    "start_time": "2023-05-05T18:54:31.297Z"
   },
   {
    "duration": 0,
    "start_time": "2023-05-05T18:54:31.298Z"
   },
   {
    "duration": 0,
    "start_time": "2023-05-05T18:54:31.299Z"
   },
   {
    "duration": 0,
    "start_time": "2023-05-05T18:54:31.300Z"
   },
   {
    "duration": 0,
    "start_time": "2023-05-05T18:54:31.302Z"
   },
   {
    "duration": 0,
    "start_time": "2023-05-05T18:54:31.303Z"
   },
   {
    "duration": 0,
    "start_time": "2023-05-05T18:54:31.305Z"
   },
   {
    "duration": 0,
    "start_time": "2023-05-05T18:54:31.306Z"
   },
   {
    "duration": 0,
    "start_time": "2023-05-05T18:54:31.308Z"
   },
   {
    "duration": 0,
    "start_time": "2023-05-05T18:54:31.309Z"
   },
   {
    "duration": 0,
    "start_time": "2023-05-05T18:54:31.310Z"
   },
   {
    "duration": 0,
    "start_time": "2023-05-05T18:54:31.311Z"
   },
   {
    "duration": 0,
    "start_time": "2023-05-05T18:54:31.312Z"
   },
   {
    "duration": 0,
    "start_time": "2023-05-05T18:54:31.313Z"
   },
   {
    "duration": 1,
    "start_time": "2023-05-05T18:54:31.314Z"
   },
   {
    "duration": 0,
    "start_time": "2023-05-05T18:54:31.316Z"
   },
   {
    "duration": 0,
    "start_time": "2023-05-05T18:54:31.317Z"
   },
   {
    "duration": 1,
    "start_time": "2023-05-05T18:54:31.373Z"
   },
   {
    "duration": 0,
    "start_time": "2023-05-05T18:54:31.375Z"
   },
   {
    "duration": 0,
    "start_time": "2023-05-05T18:54:31.376Z"
   },
   {
    "duration": 0,
    "start_time": "2023-05-05T18:54:31.377Z"
   },
   {
    "duration": 0,
    "start_time": "2023-05-05T18:54:31.378Z"
   },
   {
    "duration": 0,
    "start_time": "2023-05-05T18:54:31.380Z"
   },
   {
    "duration": 0,
    "start_time": "2023-05-05T18:54:31.381Z"
   },
   {
    "duration": 0,
    "start_time": "2023-05-05T18:54:31.383Z"
   },
   {
    "duration": 0,
    "start_time": "2023-05-05T18:54:31.384Z"
   },
   {
    "duration": 1,
    "start_time": "2023-05-05T18:54:31.385Z"
   },
   {
    "duration": 0,
    "start_time": "2023-05-05T18:54:31.387Z"
   },
   {
    "duration": 0,
    "start_time": "2023-05-05T18:54:31.388Z"
   },
   {
    "duration": 0,
    "start_time": "2023-05-05T18:54:31.389Z"
   },
   {
    "duration": 0,
    "start_time": "2023-05-05T18:54:31.391Z"
   },
   {
    "duration": 0,
    "start_time": "2023-05-05T18:54:31.392Z"
   },
   {
    "duration": 0,
    "start_time": "2023-05-05T18:54:31.393Z"
   },
   {
    "duration": 0,
    "start_time": "2023-05-05T18:54:31.395Z"
   },
   {
    "duration": 0,
    "start_time": "2023-05-05T18:54:31.396Z"
   },
   {
    "duration": 0,
    "start_time": "2023-05-05T18:54:31.397Z"
   },
   {
    "duration": 0,
    "start_time": "2023-05-05T18:54:31.399Z"
   },
   {
    "duration": 0,
    "start_time": "2023-05-05T18:54:31.400Z"
   },
   {
    "duration": 0,
    "start_time": "2023-05-05T18:54:31.402Z"
   },
   {
    "duration": 0,
    "start_time": "2023-05-05T18:54:31.403Z"
   },
   {
    "duration": 0,
    "start_time": "2023-05-05T18:54:31.404Z"
   },
   {
    "duration": 0,
    "start_time": "2023-05-05T18:54:31.406Z"
   },
   {
    "duration": 0,
    "start_time": "2023-05-05T18:54:31.408Z"
   },
   {
    "duration": 0,
    "start_time": "2023-05-05T18:54:31.409Z"
   },
   {
    "duration": 0,
    "start_time": "2023-05-05T18:54:31.472Z"
   },
   {
    "duration": 0,
    "start_time": "2023-05-05T18:54:31.474Z"
   },
   {
    "duration": 0,
    "start_time": "2023-05-05T18:54:31.476Z"
   },
   {
    "duration": 0,
    "start_time": "2023-05-05T18:54:31.478Z"
   },
   {
    "duration": 0,
    "start_time": "2023-05-05T18:54:31.480Z"
   },
   {
    "duration": 0,
    "start_time": "2023-05-05T18:54:31.482Z"
   },
   {
    "duration": 0,
    "start_time": "2023-05-05T18:54:31.483Z"
   },
   {
    "duration": 0,
    "start_time": "2023-05-05T18:54:31.485Z"
   },
   {
    "duration": 0,
    "start_time": "2023-05-05T18:54:31.487Z"
   },
   {
    "duration": 0,
    "start_time": "2023-05-05T18:54:31.489Z"
   },
   {
    "duration": 0,
    "start_time": "2023-05-05T18:54:31.490Z"
   },
   {
    "duration": 0,
    "start_time": "2023-05-05T18:54:31.492Z"
   },
   {
    "duration": 0,
    "start_time": "2023-05-05T18:54:31.493Z"
   },
   {
    "duration": 0,
    "start_time": "2023-05-05T18:54:31.494Z"
   },
   {
    "duration": 895,
    "start_time": "2023-05-05T18:54:45.393Z"
   },
   {
    "duration": 10,
    "start_time": "2023-05-05T18:54:46.789Z"
   },
   {
    "duration": 40363,
    "start_time": "2023-05-05T18:54:52.359Z"
   },
   {
    "duration": 10,
    "start_time": "2023-05-05T18:55:32.725Z"
   },
   {
    "duration": 20,
    "start_time": "2023-05-05T18:55:32.737Z"
   },
   {
    "duration": 14,
    "start_time": "2023-05-05T18:55:32.759Z"
   },
   {
    "duration": 28,
    "start_time": "2023-05-05T18:55:32.775Z"
   },
   {
    "duration": 410366,
    "start_time": "2023-05-05T18:55:32.804Z"
   },
   {
    "duration": 11,
    "start_time": "2023-05-05T19:02:23.171Z"
   },
   {
    "duration": 14,
    "start_time": "2023-05-05T19:02:23.183Z"
   },
   {
    "duration": 9,
    "start_time": "2023-05-05T19:02:23.198Z"
   },
   {
    "duration": 7,
    "start_time": "2023-05-05T19:02:23.210Z"
   },
   {
    "duration": 276212,
    "start_time": "2023-05-05T19:02:23.219Z"
   },
   {
    "duration": 3,
    "start_time": "2023-05-05T19:06:59.433Z"
   },
   {
    "duration": 426063,
    "start_time": "2023-05-05T19:06:59.438Z"
   },
   {
    "duration": 17,
    "start_time": "2023-05-05T19:14:05.503Z"
   },
   {
    "duration": 10,
    "start_time": "2023-05-05T19:14:05.521Z"
   },
   {
    "duration": 10,
    "start_time": "2023-05-05T19:14:05.532Z"
   },
   {
    "duration": 13,
    "start_time": "2023-05-05T19:14:05.543Z"
   },
   {
    "duration": 10,
    "start_time": "2023-05-05T19:14:05.558Z"
   },
   {
    "duration": 34,
    "start_time": "2023-05-05T19:14:05.569Z"
   },
   {
    "duration": 8,
    "start_time": "2023-05-05T19:14:05.605Z"
   },
   {
    "duration": 9,
    "start_time": "2023-05-05T19:14:05.615Z"
   },
   {
    "duration": 388884,
    "start_time": "2023-05-05T19:14:05.625Z"
   },
   {
    "duration": 5,
    "start_time": "2023-05-05T19:20:34.511Z"
   },
   {
    "duration": 12,
    "start_time": "2023-05-05T19:20:34.517Z"
   },
   {
    "duration": 11,
    "start_time": "2023-05-05T19:20:34.530Z"
   },
   {
    "duration": 7,
    "start_time": "2023-05-05T19:20:34.542Z"
   },
   {
    "duration": 4,
    "start_time": "2023-05-05T19:20:34.550Z"
   },
   {
    "duration": 5,
    "start_time": "2023-05-05T19:20:34.558Z"
   },
   {
    "duration": 6,
    "start_time": "2023-05-05T19:20:34.564Z"
   },
   {
    "duration": 360557,
    "start_time": "2023-05-05T19:20:34.571Z"
   },
   {
    "duration": 5,
    "start_time": "2023-05-05T19:26:35.130Z"
   },
   {
    "duration": 9,
    "start_time": "2023-05-05T19:26:35.136Z"
   },
   {
    "duration": 14,
    "start_time": "2023-05-05T19:26:35.147Z"
   },
   {
    "duration": 59,
    "start_time": "2023-05-05T19:26:35.163Z"
   },
   {
    "duration": 3,
    "start_time": "2023-05-05T19:26:35.223Z"
   },
   {
    "duration": 15,
    "start_time": "2023-05-05T19:26:35.228Z"
   },
   {
    "duration": 368166,
    "start_time": "2023-05-05T19:26:35.244Z"
   },
   {
    "duration": 5,
    "start_time": "2023-05-05T19:32:43.411Z"
   },
   {
    "duration": 12,
    "start_time": "2023-05-05T19:32:43.418Z"
   },
   {
    "duration": 10,
    "start_time": "2023-05-05T19:32:43.431Z"
   },
   {
    "duration": 5,
    "start_time": "2023-05-05T19:32:43.442Z"
   },
   {
    "duration": 7,
    "start_time": "2023-05-05T19:32:43.448Z"
   },
   {
    "duration": 377297,
    "start_time": "2023-05-05T19:32:43.457Z"
   },
   {
    "duration": 6,
    "start_time": "2023-05-05T19:39:00.756Z"
   },
   {
    "duration": 67,
    "start_time": "2023-05-05T19:39:00.763Z"
   },
   {
    "duration": 44,
    "start_time": "2023-05-05T19:39:00.832Z"
   },
   {
    "duration": 3,
    "start_time": "2023-05-05T19:39:00.877Z"
   },
   {
    "duration": 28,
    "start_time": "2023-05-05T19:39:00.882Z"
   },
   {
    "duration": 223957,
    "start_time": "2023-05-05T19:39:00.912Z"
   },
   {
    "duration": 7,
    "start_time": "2023-05-05T19:42:44.870Z"
   },
   {
    "duration": 19,
    "start_time": "2023-05-05T19:42:44.881Z"
   },
   {
    "duration": 1062,
    "start_time": "2023-05-05T19:42:44.901Z"
   },
   {
    "duration": 0,
    "start_time": "2023-05-05T19:42:45.966Z"
   },
   {
    "duration": 0,
    "start_time": "2023-05-05T19:42:45.968Z"
   },
   {
    "duration": 0,
    "start_time": "2023-05-05T19:42:45.969Z"
   },
   {
    "duration": 0,
    "start_time": "2023-05-05T19:42:45.971Z"
   },
   {
    "duration": 0,
    "start_time": "2023-05-05T19:42:45.978Z"
   },
   {
    "duration": 0,
    "start_time": "2023-05-05T19:42:45.978Z"
   },
   {
    "duration": 0,
    "start_time": "2023-05-05T19:42:45.979Z"
   },
   {
    "duration": 0,
    "start_time": "2023-05-05T19:42:45.979Z"
   },
   {
    "duration": 0,
    "start_time": "2023-05-05T19:42:45.980Z"
   },
   {
    "duration": 1,
    "start_time": "2023-05-05T19:42:45.980Z"
   },
   {
    "duration": 0,
    "start_time": "2023-05-05T19:42:45.981Z"
   },
   {
    "duration": 0,
    "start_time": "2023-05-05T19:42:45.982Z"
   },
   {
    "duration": 0,
    "start_time": "2023-05-05T19:42:45.982Z"
   },
   {
    "duration": 0,
    "start_time": "2023-05-05T19:42:45.983Z"
   },
   {
    "duration": 0,
    "start_time": "2023-05-05T19:42:45.983Z"
   },
   {
    "duration": 0,
    "start_time": "2023-05-05T19:42:45.984Z"
   },
   {
    "duration": 0,
    "start_time": "2023-05-05T19:42:45.984Z"
   },
   {
    "duration": 0,
    "start_time": "2023-05-05T19:42:45.985Z"
   },
   {
    "duration": 0,
    "start_time": "2023-05-05T19:42:45.986Z"
   },
   {
    "duration": 0,
    "start_time": "2023-05-05T19:42:45.986Z"
   },
   {
    "duration": 0,
    "start_time": "2023-05-05T19:42:45.987Z"
   },
   {
    "duration": 0,
    "start_time": "2023-05-05T19:42:45.987Z"
   },
   {
    "duration": 0,
    "start_time": "2023-05-05T19:42:45.988Z"
   },
   {
    "duration": 0,
    "start_time": "2023-05-05T19:42:45.989Z"
   },
   {
    "duration": 0,
    "start_time": "2023-05-05T19:42:45.989Z"
   },
   {
    "duration": 0,
    "start_time": "2023-05-05T19:42:45.990Z"
   },
   {
    "duration": 0,
    "start_time": "2023-05-05T19:42:45.992Z"
   },
   {
    "duration": 0,
    "start_time": "2023-05-05T19:42:45.993Z"
   },
   {
    "duration": 0,
    "start_time": "2023-05-05T19:42:45.995Z"
   },
   {
    "duration": 0,
    "start_time": "2023-05-05T19:42:45.996Z"
   },
   {
    "duration": 0,
    "start_time": "2023-05-05T19:42:45.997Z"
   },
   {
    "duration": 0,
    "start_time": "2023-05-05T19:42:45.998Z"
   },
   {
    "duration": 0,
    "start_time": "2023-05-05T19:42:45.999Z"
   },
   {
    "duration": 0,
    "start_time": "2023-05-05T19:42:46.000Z"
   },
   {
    "duration": 0,
    "start_time": "2023-05-05T19:42:46.001Z"
   },
   {
    "duration": 0,
    "start_time": "2023-05-05T19:42:46.002Z"
   },
   {
    "duration": 0,
    "start_time": "2023-05-05T19:42:46.003Z"
   },
   {
    "duration": 0,
    "start_time": "2023-05-05T19:42:46.004Z"
   },
   {
    "duration": 0,
    "start_time": "2023-05-05T19:42:46.005Z"
   },
   {
    "duration": 0,
    "start_time": "2023-05-05T19:42:46.006Z"
   },
   {
    "duration": 0,
    "start_time": "2023-05-05T19:42:46.008Z"
   },
   {
    "duration": 0,
    "start_time": "2023-05-05T19:42:46.009Z"
   },
   {
    "duration": 0,
    "start_time": "2023-05-05T19:42:46.010Z"
   },
   {
    "duration": 0,
    "start_time": "2023-05-05T19:42:46.011Z"
   },
   {
    "duration": 0,
    "start_time": "2023-05-05T19:42:46.012Z"
   },
   {
    "duration": 0,
    "start_time": "2023-05-05T19:42:46.013Z"
   },
   {
    "duration": 0,
    "start_time": "2023-05-05T19:42:46.014Z"
   },
   {
    "duration": 0,
    "start_time": "2023-05-05T19:42:46.015Z"
   },
   {
    "duration": 0,
    "start_time": "2023-05-05T19:42:46.016Z"
   },
   {
    "duration": 10,
    "start_time": "2023-05-05T20:12:08.436Z"
   },
   {
    "duration": 5,
    "start_time": "2023-05-05T20:12:43.746Z"
   },
   {
    "duration": 13,
    "start_time": "2023-05-05T20:12:46.306Z"
   },
   {
    "duration": 4,
    "start_time": "2023-05-05T20:12:58.416Z"
   },
   {
    "duration": 11,
    "start_time": "2023-05-05T20:12:58.858Z"
   },
   {
    "duration": 289153,
    "start_time": "2023-05-05T20:13:00.198Z"
   },
   {
    "duration": 7,
    "start_time": "2023-05-05T20:17:49.352Z"
   },
   {
    "duration": 26,
    "start_time": "2023-05-05T20:17:49.360Z"
   },
   {
    "duration": 13,
    "start_time": "2023-05-05T20:17:49.387Z"
   },
   {
    "duration": 4,
    "start_time": "2023-05-05T20:28:32.201Z"
   },
   {
    "duration": 10,
    "start_time": "2023-05-05T20:28:32.654Z"
   },
   {
    "duration": 7,
    "start_time": "2023-05-05T20:29:04.931Z"
   },
   {
    "duration": 358186,
    "start_time": "2023-05-05T20:29:06.224Z"
   },
   {
    "duration": 6,
    "start_time": "2023-05-05T20:35:04.412Z"
   },
   {
    "duration": 7,
    "start_time": "2023-05-05T20:35:04.419Z"
   },
   {
    "duration": 10,
    "start_time": "2023-05-05T20:35:04.428Z"
   },
   {
    "duration": 7,
    "start_time": "2023-05-05T20:35:04.439Z"
   },
   {
    "duration": 11,
    "start_time": "2023-05-05T20:35:04.447Z"
   },
   {
    "duration": 233642,
    "start_time": "2023-05-05T20:37:49.524Z"
   },
   {
    "duration": 5,
    "start_time": "2023-05-05T20:41:43.168Z"
   },
   {
    "duration": 8,
    "start_time": "2023-05-05T20:41:43.174Z"
   },
   {
    "duration": 10,
    "start_time": "2023-05-05T20:41:43.184Z"
   },
   {
    "duration": 17,
    "start_time": "2023-05-05T20:41:43.196Z"
   },
   {
    "duration": 4,
    "start_time": "2023-05-05T20:47:51.641Z"
   },
   {
    "duration": 9,
    "start_time": "2023-05-05T20:47:52.226Z"
   },
   {
    "duration": 9,
    "start_time": "2023-05-05T20:48:32.799Z"
   },
   {
    "duration": 4,
    "start_time": "2023-05-05T20:48:37.601Z"
   },
   {
    "duration": 4,
    "start_time": "2023-05-05T20:48:40.311Z"
   },
   {
    "duration": 3,
    "start_time": "2023-05-05T20:53:06.995Z"
   },
   {
    "duration": 3,
    "start_time": "2023-05-05T20:53:16.075Z"
   },
   {
    "duration": 7,
    "start_time": "2023-05-05T20:53:16.603Z"
   },
   {
    "duration": 250739,
    "start_time": "2023-05-05T20:53:19.242Z"
   },
   {
    "duration": 5,
    "start_time": "2023-05-05T20:57:29.983Z"
   },
   {
    "duration": 23,
    "start_time": "2023-05-05T20:57:29.989Z"
   },
   {
    "duration": 34,
    "start_time": "2023-05-05T20:57:30.014Z"
   },
   {
    "duration": 6,
    "start_time": "2023-05-05T20:57:30.050Z"
   },
   {
    "duration": 9,
    "start_time": "2023-05-05T20:58:17.158Z"
   },
   {
    "duration": 3,
    "start_time": "2023-05-05T21:00:03.599Z"
   },
   {
    "duration": 74316,
    "start_time": "2023-05-05T21:00:07.086Z"
   },
   {
    "duration": 12,
    "start_time": "2023-05-05T21:01:21.403Z"
   },
   {
    "duration": 3,
    "start_time": "2023-05-05T21:01:21.416Z"
   },
   {
    "duration": 80252,
    "start_time": "2023-05-05T21:01:21.421Z"
   },
   {
    "duration": 13,
    "start_time": "2023-05-05T21:02:41.674Z"
   },
   {
    "duration": 84,
    "start_time": "2023-05-05T21:02:41.688Z"
   },
   {
    "duration": 7,
    "start_time": "2023-05-05T21:02:41.773Z"
   },
   {
    "duration": 8,
    "start_time": "2023-05-05T21:02:41.781Z"
   },
   {
    "duration": 82,
    "start_time": "2023-05-05T21:02:41.790Z"
   },
   {
    "duration": 5,
    "start_time": "2023-05-05T21:02:41.875Z"
   },
   {
    "duration": 5,
    "start_time": "2023-05-05T21:02:41.881Z"
   },
   {
    "duration": 6,
    "start_time": "2023-05-05T21:02:41.887Z"
   },
   {
    "duration": 509350,
    "start_time": "2023-05-05T21:02:41.895Z"
   },
   {
    "duration": 3,
    "start_time": "2023-05-05T21:11:11.246Z"
   },
   {
    "duration": 11,
    "start_time": "2023-05-05T21:11:11.250Z"
   },
   {
    "duration": 24,
    "start_time": "2023-05-05T21:11:11.262Z"
   },
   {
    "duration": 25465,
    "start_time": "2023-05-05T21:11:11.288Z"
   },
   {
    "duration": 111,
    "start_time": "2023-05-05T21:11:36.754Z"
   },
   {
    "duration": 1854,
    "start_time": "2023-05-05T21:11:36.867Z"
   },
   {
    "duration": 54,
    "start_time": "2023-05-05T21:11:38.722Z"
   },
   {
    "duration": 11,
    "start_time": "2023-05-05T21:53:46.966Z"
   },
   {
    "duration": 3,
    "start_time": "2023-05-05T21:54:37.790Z"
   },
   {
    "duration": 20,
    "start_time": "2023-05-05T21:54:38.169Z"
   },
   {
    "duration": 421830,
    "start_time": "2023-05-05T21:54:39.884Z"
   },
   {
    "duration": 14,
    "start_time": "2023-05-05T22:01:41.716Z"
   },
   {
    "duration": 19,
    "start_time": "2023-05-05T22:02:06.986Z"
   },
   {
    "duration": 2958,
    "start_time": "2023-05-06T06:28:06.911Z"
   },
   {
    "duration": 1764,
    "start_time": "2023-05-06T06:28:09.872Z"
   },
   {
    "duration": 10,
    "start_time": "2023-05-06T06:28:11.638Z"
   },
   {
    "duration": 3562,
    "start_time": "2023-05-06T06:28:11.650Z"
   },
   {
    "duration": 50,
    "start_time": "2023-05-06T06:28:15.216Z"
   },
   {
    "duration": 4,
    "start_time": "2023-05-06T06:28:15.269Z"
   },
   {
    "duration": 86,
    "start_time": "2023-05-06T06:28:15.275Z"
   },
   {
    "duration": 276,
    "start_time": "2023-05-06T06:28:15.362Z"
   },
   {
    "duration": 14,
    "start_time": "2023-05-06T06:28:15.641Z"
   },
   {
    "duration": 7,
    "start_time": "2023-05-06T06:28:15.657Z"
   },
   {
    "duration": 18,
    "start_time": "2023-05-06T06:28:15.665Z"
   },
   {
    "duration": 24,
    "start_time": "2023-05-06T06:28:15.685Z"
   },
   {
    "duration": 3,
    "start_time": "2023-05-06T06:28:15.711Z"
   },
   {
    "duration": 31,
    "start_time": "2023-05-06T06:28:15.717Z"
   },
   {
    "duration": 5,
    "start_time": "2023-05-06T06:28:15.750Z"
   },
   {
    "duration": 29,
    "start_time": "2023-05-06T06:28:15.757Z"
   },
   {
    "duration": 3,
    "start_time": "2023-05-06T06:28:15.788Z"
   },
   {
    "duration": 9,
    "start_time": "2023-05-06T06:28:15.793Z"
   },
   {
    "duration": 14,
    "start_time": "2023-05-06T06:28:15.804Z"
   },
   {
    "duration": 19,
    "start_time": "2023-05-06T06:28:15.820Z"
   },
   {
    "duration": 247,
    "start_time": "2023-05-06T06:28:15.842Z"
   },
   {
    "duration": 697,
    "start_time": "2023-05-06T06:28:16.091Z"
   },
   {
    "duration": 464,
    "start_time": "2023-05-06T06:28:16.791Z"
   },
   {
    "duration": 569,
    "start_time": "2023-05-06T06:28:17.257Z"
   },
   {
    "duration": 450,
    "start_time": "2023-05-06T06:28:17.828Z"
   },
   {
    "duration": 3,
    "start_time": "2023-05-06T06:28:18.280Z"
   },
   {
    "duration": 19,
    "start_time": "2023-05-06T06:28:18.285Z"
   },
   {
    "duration": 734,
    "start_time": "2023-05-06T06:28:18.306Z"
   },
   {
    "duration": 8,
    "start_time": "2023-05-06T06:28:19.042Z"
   },
   {
    "duration": 33,
    "start_time": "2023-05-06T06:28:19.054Z"
   },
   {
    "duration": 5,
    "start_time": "2023-05-06T06:28:19.089Z"
   },
   {
    "duration": 15,
    "start_time": "2023-05-06T06:28:19.096Z"
   },
   {
    "duration": 214,
    "start_time": "2023-05-06T06:28:19.113Z"
   },
   {
    "duration": 218,
    "start_time": "2023-05-06T06:28:19.336Z"
   },
   {
    "duration": 5,
    "start_time": "2023-05-06T06:28:19.556Z"
   },
   {
    "duration": 2512,
    "start_time": "2023-05-06T06:28:19.563Z"
   },
   {
    "duration": 68,
    "start_time": "2023-05-06T06:28:22.077Z"
   },
   {
    "duration": 14,
    "start_time": "2023-05-06T06:28:22.150Z"
   },
   {
    "duration": 19,
    "start_time": "2023-05-06T06:28:22.166Z"
   },
   {
    "duration": 22,
    "start_time": "2023-05-06T06:28:22.187Z"
   },
   {
    "duration": 5,
    "start_time": "2023-05-06T06:28:22.238Z"
   },
   {
    "duration": 25,
    "start_time": "2023-05-06T06:28:22.244Z"
   },
   {
    "duration": 16,
    "start_time": "2023-05-06T06:28:22.271Z"
   },
   {
    "duration": 6,
    "start_time": "2023-05-06T06:28:22.289Z"
   },
   {
    "duration": 9,
    "start_time": "2023-05-06T06:28:22.297Z"
   },
   {
    "duration": 7,
    "start_time": "2023-05-06T06:28:22.307Z"
   },
   {
    "duration": 10,
    "start_time": "2023-05-06T06:28:22.316Z"
   },
   {
    "duration": 20,
    "start_time": "2023-05-06T06:28:22.328Z"
   },
   {
    "duration": 23,
    "start_time": "2023-05-06T06:28:22.350Z"
   },
   {
    "duration": 6,
    "start_time": "2023-05-06T06:28:22.375Z"
   },
   {
    "duration": 6171,
    "start_time": "2023-05-06T06:28:22.383Z"
   },
   {
    "duration": 9,
    "start_time": "2023-05-06T06:28:28.557Z"
   },
   {
    "duration": 9,
    "start_time": "2023-05-06T06:28:28.567Z"
   },
   {
    "duration": 1680,
    "start_time": "2023-05-06T06:28:28.577Z"
   },
   {
    "duration": 3,
    "start_time": "2023-05-06T06:28:30.258Z"
   },
   {
    "duration": 1067,
    "start_time": "2023-05-06T06:28:30.262Z"
   },
   {
    "duration": 12,
    "start_time": "2023-05-06T06:28:31.335Z"
   },
   {
    "duration": 42,
    "start_time": "2023-05-06T06:28:31.352Z"
   },
   {
    "duration": 44174,
    "start_time": "2023-05-06T06:28:31.396Z"
   },
   {
    "duration": 10,
    "start_time": "2023-05-06T06:29:15.572Z"
   },
   {
    "duration": 7,
    "start_time": "2023-05-06T06:29:15.583Z"
   },
   {
    "duration": 14,
    "start_time": "2023-05-06T06:29:15.592Z"
   },
   {
    "duration": 36,
    "start_time": "2023-05-06T06:29:15.608Z"
   },
   {
    "duration": 518631,
    "start_time": "2023-05-06T06:29:15.648Z"
   },
   {
    "duration": 109354,
    "start_time": "2023-05-06T06:37:54.282Z"
   },
   {
    "duration": 68,
    "start_time": "2023-05-06T06:39:43.642Z"
   },
   {
    "duration": 15,
    "start_time": "2023-05-06T06:39:43.712Z"
   },
   {
    "duration": 36,
    "start_time": "2023-05-06T06:39:43.729Z"
   },
   {
    "duration": 13,
    "start_time": "2023-05-06T06:39:43.767Z"
   },
   {
    "duration": 15,
    "start_time": "2023-05-06T06:39:43.783Z"
   },
   {
    "duration": 351319,
    "start_time": "2023-05-06T06:39:43.801Z"
   },
   {
    "duration": 3,
    "start_time": "2023-05-06T06:45:35.122Z"
   },
   {
    "duration": 522239,
    "start_time": "2023-05-06T06:45:35.127Z"
   },
   {
    "duration": 13,
    "start_time": "2023-05-06T06:54:17.367Z"
   },
   {
    "duration": 9,
    "start_time": "2023-05-06T06:54:17.381Z"
   },
   {
    "duration": 9,
    "start_time": "2023-05-06T06:54:17.392Z"
   },
   {
    "duration": 14,
    "start_time": "2023-05-06T06:54:17.403Z"
   },
   {
    "duration": 10,
    "start_time": "2023-05-06T06:54:17.418Z"
   },
   {
    "duration": 16,
    "start_time": "2023-05-06T06:54:17.429Z"
   },
   {
    "duration": 24,
    "start_time": "2023-05-06T06:54:17.446Z"
   },
   {
    "duration": 19,
    "start_time": "2023-05-06T06:54:17.472Z"
   },
   {
    "duration": 438592,
    "start_time": "2023-05-06T06:54:17.493Z"
   },
   {
    "duration": 9,
    "start_time": "2023-05-06T07:01:36.088Z"
   },
   {
    "duration": 11,
    "start_time": "2023-05-06T07:01:36.099Z"
   },
   {
    "duration": 23,
    "start_time": "2023-05-06T07:01:36.112Z"
   },
   {
    "duration": 43,
    "start_time": "2023-05-06T07:01:36.140Z"
   },
   {
    "duration": 19,
    "start_time": "2023-05-06T07:01:36.185Z"
   },
   {
    "duration": 18,
    "start_time": "2023-05-06T07:01:36.207Z"
   },
   {
    "duration": 46,
    "start_time": "2023-05-06T07:01:36.228Z"
   },
   {
    "duration": 425736,
    "start_time": "2023-05-06T07:01:36.276Z"
   },
   {
    "duration": 8,
    "start_time": "2023-05-06T07:08:42.014Z"
   },
   {
    "duration": 21,
    "start_time": "2023-05-06T07:08:42.024Z"
   },
   {
    "duration": 54,
    "start_time": "2023-05-06T07:08:42.048Z"
   },
   {
    "duration": 51,
    "start_time": "2023-05-06T07:08:42.104Z"
   },
   {
    "duration": 5,
    "start_time": "2023-05-06T07:08:42.156Z"
   },
   {
    "duration": 13,
    "start_time": "2023-05-06T07:08:42.163Z"
   },
   {
    "duration": 440139,
    "start_time": "2023-05-06T07:08:42.178Z"
   },
   {
    "duration": 7,
    "start_time": "2023-05-06T07:16:02.319Z"
   },
   {
    "duration": 36,
    "start_time": "2023-05-06T07:16:02.328Z"
   },
   {
    "duration": 30,
    "start_time": "2023-05-06T07:16:02.367Z"
   },
   {
    "duration": 21,
    "start_time": "2023-05-06T07:16:02.400Z"
   },
   {
    "duration": 45,
    "start_time": "2023-05-06T07:16:02.423Z"
   },
   {
    "duration": 452218,
    "start_time": "2023-05-06T07:16:02.470Z"
   },
   {
    "duration": 8,
    "start_time": "2023-05-06T07:23:34.690Z"
   },
   {
    "duration": 10,
    "start_time": "2023-05-06T07:23:34.699Z"
   },
   {
    "duration": 14,
    "start_time": "2023-05-06T07:23:34.710Z"
   },
   {
    "duration": 24,
    "start_time": "2023-05-06T07:23:34.726Z"
   },
   {
    "duration": 13,
    "start_time": "2023-05-06T07:23:34.754Z"
   },
   {
    "duration": 285947,
    "start_time": "2023-05-06T07:23:34.769Z"
   },
   {
    "duration": 9,
    "start_time": "2023-05-06T07:28:20.717Z"
   },
   {
    "duration": 57,
    "start_time": "2023-05-06T07:28:20.728Z"
   },
   {
    "duration": 19,
    "start_time": "2023-05-06T07:28:20.787Z"
   },
   {
    "duration": 38,
    "start_time": "2023-05-06T07:28:20.808Z"
   },
   {
    "duration": 26,
    "start_time": "2023-05-06T07:28:20.852Z"
   },
   {
    "duration": 17,
    "start_time": "2023-05-06T07:28:20.881Z"
   },
   {
    "duration": 398872,
    "start_time": "2023-05-06T07:28:20.901Z"
   },
   {
    "duration": 8,
    "start_time": "2023-05-06T07:34:59.776Z"
   },
   {
    "duration": 16,
    "start_time": "2023-05-06T07:34:59.786Z"
   },
   {
    "duration": 8,
    "start_time": "2023-05-06T07:34:59.804Z"
   },
   {
    "duration": 20,
    "start_time": "2023-05-06T07:34:59.814Z"
   },
   {
    "duration": 9,
    "start_time": "2023-05-06T07:34:59.844Z"
   },
   {
    "duration": 10,
    "start_time": "2023-05-06T07:34:59.868Z"
   },
   {
    "duration": 342730,
    "start_time": "2023-05-06T07:34:59.880Z"
   },
   {
    "duration": 6,
    "start_time": "2023-05-06T07:40:42.612Z"
   },
   {
    "duration": 50,
    "start_time": "2023-05-06T07:40:42.620Z"
   },
   {
    "duration": 11,
    "start_time": "2023-05-06T07:40:42.672Z"
   },
   {
    "duration": 23,
    "start_time": "2023-05-06T07:40:42.684Z"
   },
   {
    "duration": 6,
    "start_time": "2023-05-06T07:40:42.709Z"
   },
   {
    "duration": 9,
    "start_time": "2023-05-06T07:40:42.717Z"
   },
   {
    "duration": 484359,
    "start_time": "2023-05-06T07:40:42.727Z"
   },
   {
    "duration": 8,
    "start_time": "2023-05-06T07:48:47.088Z"
   },
   {
    "duration": 22,
    "start_time": "2023-05-06T07:48:47.098Z"
   },
   {
    "duration": 24,
    "start_time": "2023-05-06T07:48:47.123Z"
   },
   {
    "duration": 33,
    "start_time": "2023-05-06T07:48:47.149Z"
   },
   {
    "duration": 20,
    "start_time": "2023-05-06T07:48:47.184Z"
   },
   {
    "duration": 44,
    "start_time": "2023-05-06T07:48:47.206Z"
   },
   {
    "duration": 20,
    "start_time": "2023-05-06T07:48:47.252Z"
   },
   {
    "duration": 40,
    "start_time": "2023-05-06T07:48:47.274Z"
   },
   {
    "duration": 21,
    "start_time": "2023-05-06T07:48:47.316Z"
   },
   {
    "duration": 27,
    "start_time": "2023-05-06T07:48:47.339Z"
   },
   {
    "duration": 28,
    "start_time": "2023-05-06T07:48:47.369Z"
   },
   {
    "duration": 18,
    "start_time": "2023-05-06T07:48:47.400Z"
   },
   {
    "duration": 26,
    "start_time": "2023-05-06T07:48:47.420Z"
   },
   {
    "duration": 33,
    "start_time": "2023-05-06T07:48:47.448Z"
   },
   {
    "duration": 18,
    "start_time": "2023-05-06T07:48:47.483Z"
   },
   {
    "duration": 31,
    "start_time": "2023-05-06T07:48:47.503Z"
   },
   {
    "duration": 85223,
    "start_time": "2023-05-06T07:48:47.535Z"
   },
   {
    "duration": 17,
    "start_time": "2023-05-06T07:50:12.761Z"
   },
   {
    "duration": 4,
    "start_time": "2023-05-06T07:50:12.780Z"
   },
   {
    "duration": 95896,
    "start_time": "2023-05-06T07:50:12.786Z"
   },
   {
    "duration": 16,
    "start_time": "2023-05-06T07:51:48.684Z"
   },
   {
    "duration": 105,
    "start_time": "2023-05-06T07:51:48.702Z"
   },
   {
    "duration": 5,
    "start_time": "2023-05-06T07:51:48.809Z"
   },
   {
    "duration": 35,
    "start_time": "2023-05-06T07:51:48.816Z"
   },
   {
    "duration": 106,
    "start_time": "2023-05-06T07:51:48.856Z"
   },
   {
    "duration": 5,
    "start_time": "2023-05-06T07:51:48.964Z"
   },
   {
    "duration": 8,
    "start_time": "2023-05-06T07:51:48.971Z"
   },
   {
    "duration": 9,
    "start_time": "2023-05-06T07:51:48.981Z"
   },
   {
    "duration": 13,
    "start_time": "2023-05-06T07:51:48.991Z"
   },
   {
    "duration": 20,
    "start_time": "2023-05-06T07:51:49.006Z"
   },
   {
    "duration": 23,
    "start_time": "2023-05-06T07:51:49.028Z"
   },
   {
    "duration": 22,
    "start_time": "2023-05-06T07:51:49.053Z"
   },
   {
    "duration": 9,
    "start_time": "2023-05-06T07:51:49.077Z"
   },
   {
    "duration": 15,
    "start_time": "2023-05-06T07:51:49.088Z"
   },
   {
    "duration": 10,
    "start_time": "2023-05-06T07:51:49.105Z"
   },
   {
    "duration": 30,
    "start_time": "2023-05-06T07:51:49.117Z"
   },
   {
    "duration": 20,
    "start_time": "2023-05-06T11:15:07.693Z"
   },
   {
    "duration": 9,
    "start_time": "2023-05-06T11:15:25.959Z"
   },
   {
    "duration": 8,
    "start_time": "2023-05-06T11:15:26.396Z"
   },
   {
    "duration": 501,
    "start_time": "2023-05-06T11:15:26.790Z"
   },
   {
    "duration": 5,
    "start_time": "2023-05-06T11:15:34.963Z"
   },
   {
    "duration": 12,
    "start_time": "2023-05-06T11:15:35.365Z"
   },
   {
    "duration": 638,
    "start_time": "2023-05-06T11:15:35.898Z"
   },
   {
    "duration": 3,
    "start_time": "2023-05-06T11:15:41.826Z"
   },
   {
    "duration": 3,
    "start_time": "2023-05-06T11:15:42.220Z"
   },
   {
    "duration": 11,
    "start_time": "2023-05-06T11:15:43.835Z"
   },
   {
    "duration": 9,
    "start_time": "2023-05-06T11:15:44.230Z"
   },
   {
    "duration": 669,
    "start_time": "2023-05-06T11:15:44.818Z"
   },
   {
    "duration": 2564,
    "start_time": "2023-05-06T11:15:49.265Z"
   },
   {
    "duration": 0,
    "start_time": "2023-05-06T11:15:51.830Z"
   },
   {
    "duration": 5,
    "start_time": "2023-05-06T11:16:18.219Z"
   },
   {
    "duration": 2007,
    "start_time": "2023-05-06T11:16:21.700Z"
   },
   {
    "duration": 4,
    "start_time": "2023-05-06T11:16:24.378Z"
   },
   {
    "duration": 1892,
    "start_time": "2023-05-06T11:16:25.333Z"
   },
   {
    "duration": 0,
    "start_time": "2023-05-06T11:16:27.227Z"
   },
   {
    "duration": 85,
    "start_time": "2023-05-06T11:17:34.224Z"
   },
   {
    "duration": 5,
    "start_time": "2023-05-06T11:17:39.257Z"
   },
   {
    "duration": 2,
    "start_time": "2023-05-06T11:17:41.328Z"
   },
   {
    "duration": 7586,
    "start_time": "2023-05-06T11:17:46.067Z"
   },
   {
    "duration": 1926,
    "start_time": "2023-05-06T11:17:59.965Z"
   },
   {
    "duration": 4,
    "start_time": "2023-05-06T11:18:15.682Z"
   },
   {
    "duration": 4,
    "start_time": "2023-05-06T11:18:17.227Z"
   },
   {
    "duration": 7039,
    "start_time": "2023-05-06T11:18:20.326Z"
   },
   {
    "duration": 2997,
    "start_time": "2023-05-06T11:18:27.367Z"
   },
   {
    "duration": 6,
    "start_time": "2023-05-06T11:18:55.853Z"
   },
   {
    "duration": 3,
    "start_time": "2023-05-06T11:19:00.575Z"
   },
   {
    "duration": 8344,
    "start_time": "2023-05-06T11:19:02.991Z"
   },
   {
    "duration": 2745,
    "start_time": "2023-05-06T11:19:11.342Z"
   },
   {
    "duration": 3,
    "start_time": "2023-05-06T11:19:51.723Z"
   },
   {
    "duration": 3,
    "start_time": "2023-05-06T11:19:58.130Z"
   },
   {
    "duration": 6140,
    "start_time": "2023-05-06T11:20:00.796Z"
   },
   {
    "duration": 1672,
    "start_time": "2023-05-06T11:20:08.258Z"
   },
   {
    "duration": 983,
    "start_time": "2023-05-06T11:20:11.986Z"
   },
   {
    "duration": 42277,
    "start_time": "2023-05-06T11:20:16.394Z"
   },
   {
    "duration": 4,
    "start_time": "2023-05-06T11:22:03.925Z"
   },
   {
    "duration": 16,
    "start_time": "2023-05-06T11:22:04.469Z"
   },
   {
    "duration": 503992,
    "start_time": "2023-05-06T11:22:05.659Z"
   },
   {
    "duration": 107115,
    "start_time": "2023-05-06T11:30:29.657Z"
   },
   {
    "duration": 79,
    "start_time": "2023-05-06T11:32:16.774Z"
   },
   {
    "duration": 19,
    "start_time": "2023-05-06T11:32:16.855Z"
   },
   {
    "duration": 14,
    "start_time": "2023-05-06T11:32:16.875Z"
   },
   {
    "duration": 14,
    "start_time": "2023-05-06T11:32:16.891Z"
   },
   {
    "duration": 4,
    "start_time": "2023-05-06T11:36:34.572Z"
   },
   {
    "duration": 103846,
    "start_time": "2023-05-06T11:36:35.863Z"
   },
   {
    "duration": 14,
    "start_time": "2023-05-06T11:38:19.711Z"
   },
   {
    "duration": 4,
    "start_time": "2023-05-06T11:38:19.726Z"
   },
   {
    "duration": 112,
    "start_time": "2023-05-06T11:39:49.110Z"
   },
   {
    "duration": 5,
    "start_time": "2023-05-06T11:39:50.323Z"
   },
   {
    "duration": 2,
    "start_time": "2023-05-06T11:41:59.190Z"
   },
   {
    "duration": 94444,
    "start_time": "2023-05-06T11:42:00.651Z"
   },
   {
    "duration": 13,
    "start_time": "2023-05-06T11:43:35.097Z"
   },
   {
    "duration": 102,
    "start_time": "2023-05-06T11:43:35.111Z"
   },
   {
    "duration": 4,
    "start_time": "2023-05-06T11:43:35.215Z"
   },
   {
    "duration": 3,
    "start_time": "2023-05-06T11:44:02.490Z"
   },
   {
    "duration": 91453,
    "start_time": "2023-05-06T11:44:02.970Z"
   },
   {
    "duration": 16,
    "start_time": "2023-05-06T11:45:34.425Z"
   },
   {
    "duration": 136,
    "start_time": "2023-05-06T11:45:34.443Z"
   },
   {
    "duration": 11,
    "start_time": "2023-05-06T11:45:34.631Z"
   },
   {
    "duration": 5,
    "start_time": "2023-05-06T11:45:37.718Z"
   },
   {
    "duration": 14,
    "start_time": "2023-05-06T11:45:40.068Z"
   },
   {
    "duration": 96,
    "start_time": "2023-05-06T11:45:41.114Z"
   },
   {
    "duration": 4,
    "start_time": "2023-05-06T11:45:41.598Z"
   },
   {
    "duration": 4,
    "start_time": "2023-05-06T11:45:48.681Z"
   },
   {
    "duration": 95470,
    "start_time": "2023-05-06T11:45:49.112Z"
   },
   {
    "duration": 16,
    "start_time": "2023-05-06T11:47:24.584Z"
   },
   {
    "duration": 102,
    "start_time": "2023-05-06T11:47:24.602Z"
   },
   {
    "duration": 6,
    "start_time": "2023-05-06T11:47:24.706Z"
   },
   {
    "duration": 4,
    "start_time": "2023-05-06T11:47:51.667Z"
   },
   {
    "duration": 87937,
    "start_time": "2023-05-06T11:47:52.173Z"
   },
   {
    "duration": 18,
    "start_time": "2023-05-06T11:49:20.112Z"
   },
   {
    "duration": 96,
    "start_time": "2023-05-06T11:49:20.132Z"
   },
   {
    "duration": 14,
    "start_time": "2023-05-06T11:49:20.234Z"
   },
   {
    "duration": 3,
    "start_time": "2023-05-06T11:49:28.166Z"
   },
   {
    "duration": 88235,
    "start_time": "2023-05-06T11:49:28.590Z"
   },
   {
    "duration": 24,
    "start_time": "2023-05-06T11:50:56.827Z"
   },
   {
    "duration": 121,
    "start_time": "2023-05-06T11:50:56.855Z"
   },
   {
    "duration": 7,
    "start_time": "2023-05-06T11:50:56.978Z"
   },
   {
    "duration": 4,
    "start_time": "2023-05-06T11:51:00.868Z"
   },
   {
    "duration": 4,
    "start_time": "2023-05-06T11:51:28.874Z"
   },
   {
    "duration": 82734,
    "start_time": "2023-05-06T11:51:29.361Z"
   },
   {
    "duration": 12,
    "start_time": "2023-05-06T11:52:52.098Z"
   },
   {
    "duration": 4,
    "start_time": "2023-05-06T11:52:52.111Z"
   },
   {
    "duration": 87606,
    "start_time": "2023-05-06T11:52:52.117Z"
   },
   {
    "duration": 21,
    "start_time": "2023-05-06T11:54:19.724Z"
   },
   {
    "duration": 96,
    "start_time": "2023-05-06T11:54:19.747Z"
   },
   {
    "duration": 7,
    "start_time": "2023-05-06T11:54:19.844Z"
   },
   {
    "duration": 4,
    "start_time": "2023-05-06T11:57:03.590Z"
   },
   {
    "duration": 86421,
    "start_time": "2023-05-06T11:57:04.947Z"
   },
   {
    "duration": 13,
    "start_time": "2023-05-06T11:58:31.369Z"
   },
   {
    "duration": 109,
    "start_time": "2023-05-06T11:58:31.384Z"
   },
   {
    "duration": 4,
    "start_time": "2023-05-06T11:58:31.495Z"
   },
   {
    "duration": 2207,
    "start_time": "2023-05-06T13:38:44.008Z"
   },
   {
    "duration": 1462,
    "start_time": "2023-05-06T13:38:46.218Z"
   },
   {
    "duration": 3,
    "start_time": "2023-05-06T13:38:47.681Z"
   },
   {
    "duration": 3232,
    "start_time": "2023-05-06T13:38:47.686Z"
   },
   {
    "duration": 42,
    "start_time": "2023-05-06T13:38:50.920Z"
   },
   {
    "duration": 4,
    "start_time": "2023-05-06T13:38:50.963Z"
   },
   {
    "duration": 75,
    "start_time": "2023-05-06T13:38:50.969Z"
   },
   {
    "duration": 214,
    "start_time": "2023-05-06T13:38:51.046Z"
   },
   {
    "duration": 7,
    "start_time": "2023-05-06T13:38:51.262Z"
   },
   {
    "duration": 14,
    "start_time": "2023-05-06T13:38:51.271Z"
   },
   {
    "duration": 13,
    "start_time": "2023-05-06T13:38:51.286Z"
   },
   {
    "duration": 41,
    "start_time": "2023-05-06T13:38:51.301Z"
   },
   {
    "duration": 4,
    "start_time": "2023-05-06T13:38:51.343Z"
   },
   {
    "duration": 25,
    "start_time": "2023-05-06T13:38:51.349Z"
   },
   {
    "duration": 2,
    "start_time": "2023-05-06T13:38:51.376Z"
   },
   {
    "duration": 43,
    "start_time": "2023-05-06T13:38:51.380Z"
   },
   {
    "duration": 3,
    "start_time": "2023-05-06T13:38:51.425Z"
   },
   {
    "duration": 19,
    "start_time": "2023-05-06T13:38:51.429Z"
   },
   {
    "duration": 27,
    "start_time": "2023-05-06T13:38:51.449Z"
   },
   {
    "duration": 4,
    "start_time": "2023-05-06T13:38:51.478Z"
   },
   {
    "duration": 235,
    "start_time": "2023-05-06T13:38:51.483Z"
   },
   {
    "duration": 584,
    "start_time": "2023-05-06T13:38:51.720Z"
   },
   {
    "duration": 418,
    "start_time": "2023-05-06T13:38:52.305Z"
   },
   {
    "duration": 540,
    "start_time": "2023-05-06T13:38:52.724Z"
   },
   {
    "duration": 376,
    "start_time": "2023-05-06T13:38:53.265Z"
   },
   {
    "duration": 3,
    "start_time": "2023-05-06T13:38:53.643Z"
   },
   {
    "duration": 14,
    "start_time": "2023-05-06T13:38:53.647Z"
   },
   {
    "duration": 527,
    "start_time": "2023-05-06T13:38:53.665Z"
   },
   {
    "duration": 4,
    "start_time": "2023-05-06T13:38:54.194Z"
   },
   {
    "duration": 15,
    "start_time": "2023-05-06T13:38:54.199Z"
   },
   {
    "duration": 4,
    "start_time": "2023-05-06T13:38:54.215Z"
   },
   {
    "duration": 17,
    "start_time": "2023-05-06T13:38:54.233Z"
   },
   {
    "duration": 204,
    "start_time": "2023-05-06T13:38:54.252Z"
   },
   {
    "duration": 313,
    "start_time": "2023-05-06T13:38:54.457Z"
   },
   {
    "duration": 4,
    "start_time": "2023-05-06T13:38:54.771Z"
   },
   {
    "duration": 2300,
    "start_time": "2023-05-06T13:38:54.777Z"
   },
   {
    "duration": 44,
    "start_time": "2023-05-06T13:38:57.079Z"
   },
   {
    "duration": 24,
    "start_time": "2023-05-06T13:38:57.124Z"
   },
   {
    "duration": 18,
    "start_time": "2023-05-06T13:38:57.151Z"
   },
   {
    "duration": 22,
    "start_time": "2023-05-06T13:38:57.170Z"
   },
   {
    "duration": 2,
    "start_time": "2023-05-06T13:38:57.193Z"
   },
   {
    "duration": 40,
    "start_time": "2023-05-06T13:38:57.196Z"
   },
   {
    "duration": 6,
    "start_time": "2023-05-06T13:38:57.238Z"
   },
   {
    "duration": 10,
    "start_time": "2023-05-06T13:38:57.246Z"
   },
   {
    "duration": 5,
    "start_time": "2023-05-06T13:38:57.258Z"
   },
   {
    "duration": 5,
    "start_time": "2023-05-06T13:38:57.265Z"
   },
   {
    "duration": 7,
    "start_time": "2023-05-06T13:38:57.272Z"
   },
   {
    "duration": 5,
    "start_time": "2023-05-06T13:38:57.280Z"
   },
   {
    "duration": 12,
    "start_time": "2023-05-06T13:38:57.287Z"
   },
   {
    "duration": 4,
    "start_time": "2023-05-06T13:38:57.301Z"
   },
   {
    "duration": 6652,
    "start_time": "2023-05-06T13:38:57.307Z"
   },
   {
    "duration": 16,
    "start_time": "2023-05-06T13:39:04.037Z"
   },
   {
    "duration": 21,
    "start_time": "2023-05-06T13:39:04.054Z"
   },
   {
    "duration": 1587,
    "start_time": "2023-05-06T13:39:04.077Z"
   },
   {
    "duration": 3,
    "start_time": "2023-05-06T13:39:05.666Z"
   },
   {
    "duration": 1027,
    "start_time": "2023-05-06T13:39:05.672Z"
   },
   {
    "duration": 11,
    "start_time": "2023-05-06T13:39:06.702Z"
   },
   {
    "duration": 38,
    "start_time": "2023-05-06T13:39:06.715Z"
   },
   {
    "duration": 38962,
    "start_time": "2023-05-06T13:39:06.755Z"
   },
   {
    "duration": 19,
    "start_time": "2023-05-06T13:39:45.718Z"
   },
   {
    "duration": 13,
    "start_time": "2023-05-06T13:39:45.739Z"
   },
   {
    "duration": 11,
    "start_time": "2023-05-06T13:39:45.753Z"
   },
   {
    "duration": 23,
    "start_time": "2023-05-06T13:39:45.765Z"
   },
   {
    "duration": 438828,
    "start_time": "2023-05-06T13:39:45.789Z"
   },
   {
    "duration": 11,
    "start_time": "2023-05-06T13:47:04.619Z"
   },
   {
    "duration": 19,
    "start_time": "2023-05-06T13:47:04.631Z"
   },
   {
    "duration": 17,
    "start_time": "2023-05-06T13:47:04.652Z"
   },
   {
    "duration": 13,
    "start_time": "2023-05-06T13:47:04.671Z"
   },
   {
    "duration": 287303,
    "start_time": "2023-05-06T13:47:04.685Z"
   },
   {
    "duration": 3,
    "start_time": "2023-05-06T13:51:51.990Z"
   },
   {
    "duration": 435864,
    "start_time": "2023-05-06T13:51:51.994Z"
   },
   {
    "duration": 12,
    "start_time": "2023-05-06T13:59:07.859Z"
   },
   {
    "duration": 8,
    "start_time": "2023-05-06T13:59:07.873Z"
   },
   {
    "duration": 8,
    "start_time": "2023-05-06T13:59:07.882Z"
   },
   {
    "duration": 11,
    "start_time": "2023-05-06T13:59:07.891Z"
   },
   {
    "duration": 7,
    "start_time": "2023-05-06T13:59:07.903Z"
   },
   {
    "duration": 8,
    "start_time": "2023-05-06T13:59:07.911Z"
   },
   {
    "duration": 8,
    "start_time": "2023-05-06T13:59:07.921Z"
   },
   {
    "duration": 24,
    "start_time": "2023-05-06T13:59:07.930Z"
   },
   {
    "duration": 387963,
    "start_time": "2023-05-06T13:59:07.955Z"
   },
   {
    "duration": 6,
    "start_time": "2023-05-06T14:05:35.921Z"
   },
   {
    "duration": 22,
    "start_time": "2023-05-06T14:05:35.936Z"
   },
   {
    "duration": 26,
    "start_time": "2023-05-06T14:05:35.961Z"
   },
   {
    "duration": 8,
    "start_time": "2023-05-06T14:05:35.989Z"
   },
   {
    "duration": 6,
    "start_time": "2023-05-06T14:05:35.999Z"
   },
   {
    "duration": 15,
    "start_time": "2023-05-06T14:05:36.008Z"
   },
   {
    "duration": 18,
    "start_time": "2023-05-06T14:05:36.026Z"
   },
   {
    "duration": 368463,
    "start_time": "2023-05-06T14:05:36.046Z"
   },
   {
    "duration": 5,
    "start_time": "2023-05-06T14:11:44.511Z"
   },
   {
    "duration": 13,
    "start_time": "2023-05-06T14:11:44.517Z"
   },
   {
    "duration": 33,
    "start_time": "2023-05-06T14:11:44.531Z"
   },
   {
    "duration": 65,
    "start_time": "2023-05-06T14:11:44.565Z"
   },
   {
    "duration": 13,
    "start_time": "2023-05-06T14:11:44.632Z"
   },
   {
    "duration": 16,
    "start_time": "2023-05-06T14:11:44.646Z"
   },
   {
    "duration": 380846,
    "start_time": "2023-05-06T14:11:44.663Z"
   },
   {
    "duration": 5,
    "start_time": "2023-05-06T14:18:05.511Z"
   },
   {
    "duration": 31,
    "start_time": "2023-05-06T14:18:05.518Z"
   },
   {
    "duration": 20,
    "start_time": "2023-05-06T14:18:05.550Z"
   },
   {
    "duration": 8,
    "start_time": "2023-05-06T14:18:05.572Z"
   },
   {
    "duration": 18,
    "start_time": "2023-05-06T14:18:05.582Z"
   },
   {
    "duration": 384894,
    "start_time": "2023-05-06T14:18:05.602Z"
   },
   {
    "duration": 6,
    "start_time": "2023-05-06T14:24:30.498Z"
   },
   {
    "duration": 54,
    "start_time": "2023-05-06T14:24:30.506Z"
   },
   {
    "duration": 41,
    "start_time": "2023-05-06T14:24:30.562Z"
   },
   {
    "duration": 37,
    "start_time": "2023-05-06T14:24:30.605Z"
   },
   {
    "duration": 57,
    "start_time": "2023-05-06T14:24:30.644Z"
   },
   {
    "duration": 225201,
    "start_time": "2023-05-06T14:24:30.703Z"
   },
   {
    "duration": 6,
    "start_time": "2023-05-06T14:28:15.905Z"
   },
   {
    "duration": 19,
    "start_time": "2023-05-06T14:28:15.913Z"
   },
   {
    "duration": 16,
    "start_time": "2023-05-06T14:28:15.936Z"
   },
   {
    "duration": 17,
    "start_time": "2023-05-06T14:28:15.953Z"
   },
   {
    "duration": 20,
    "start_time": "2023-05-06T14:28:15.972Z"
   },
   {
    "duration": 17,
    "start_time": "2023-05-06T14:28:15.994Z"
   },
   {
    "duration": 313503,
    "start_time": "2023-05-06T14:28:16.012Z"
   },
   {
    "duration": 7,
    "start_time": "2023-05-06T14:33:29.517Z"
   },
   {
    "duration": 23,
    "start_time": "2023-05-06T14:33:29.526Z"
   },
   {
    "duration": 11,
    "start_time": "2023-05-06T14:33:29.551Z"
   },
   {
    "duration": 35,
    "start_time": "2023-05-06T14:33:29.564Z"
   },
   {
    "duration": 56,
    "start_time": "2023-05-06T14:33:29.601Z"
   },
   {
    "duration": 25,
    "start_time": "2023-05-06T14:33:29.659Z"
   },
   {
    "duration": 278304,
    "start_time": "2023-05-06T14:33:29.686Z"
   },
   {
    "duration": 8,
    "start_time": "2023-05-06T14:38:07.992Z"
   },
   {
    "duration": 11,
    "start_time": "2023-05-06T14:38:08.002Z"
   },
   {
    "duration": 9,
    "start_time": "2023-05-06T14:38:08.014Z"
   },
   {
    "duration": 33,
    "start_time": "2023-05-06T14:38:08.025Z"
   },
   {
    "duration": 9,
    "start_time": "2023-05-06T14:38:08.059Z"
   },
   {
    "duration": 15,
    "start_time": "2023-05-06T14:38:08.069Z"
   },
   {
    "duration": 390984,
    "start_time": "2023-05-06T14:38:08.086Z"
   },
   {
    "duration": 7,
    "start_time": "2023-05-06T14:44:39.072Z"
   },
   {
    "duration": 15,
    "start_time": "2023-05-06T14:44:39.080Z"
   },
   {
    "duration": 20,
    "start_time": "2023-05-06T14:44:39.097Z"
   },
   {
    "duration": 39,
    "start_time": "2023-05-06T14:44:39.119Z"
   },
   {
    "duration": 25,
    "start_time": "2023-05-06T14:44:39.160Z"
   },
   {
    "duration": 13,
    "start_time": "2023-05-06T14:44:39.187Z"
   },
   {
    "duration": 29,
    "start_time": "2023-05-06T14:44:39.202Z"
   },
   {
    "duration": 43,
    "start_time": "2023-05-06T14:44:39.233Z"
   },
   {
    "duration": 38,
    "start_time": "2023-05-06T14:44:39.278Z"
   },
   {
    "duration": 35,
    "start_time": "2023-05-06T14:44:39.318Z"
   },
   {
    "duration": 24,
    "start_time": "2023-05-06T14:44:39.355Z"
   },
   {
    "duration": 8,
    "start_time": "2023-05-06T14:44:39.381Z"
   },
   {
    "duration": 26,
    "start_time": "2023-05-06T14:44:39.390Z"
   },
   {
    "duration": 29,
    "start_time": "2023-05-06T14:44:39.418Z"
   },
   {
    "duration": 29,
    "start_time": "2023-05-06T14:44:39.449Z"
   },
   {
    "duration": 26,
    "start_time": "2023-05-06T14:44:39.480Z"
   },
   {
    "duration": 86167,
    "start_time": "2023-05-06T14:44:39.507Z"
   },
   {
    "duration": 13,
    "start_time": "2023-05-06T14:46:05.676Z"
   },
   {
    "duration": 3,
    "start_time": "2023-05-06T14:46:05.691Z"
   },
   {
    "duration": 82547,
    "start_time": "2023-05-06T14:46:05.695Z"
   },
   {
    "duration": 14,
    "start_time": "2023-05-06T14:47:28.245Z"
   },
   {
    "duration": 89,
    "start_time": "2023-05-06T14:47:28.261Z"
   },
   {
    "duration": 4,
    "start_time": "2023-05-06T14:47:28.352Z"
   },
   {
    "duration": 12,
    "start_time": "2023-05-06T14:47:28.357Z"
   },
   {
    "duration": 92,
    "start_time": "2023-05-06T14:47:28.371Z"
   },
   {
    "duration": 4,
    "start_time": "2023-05-06T14:47:28.465Z"
   },
   {
    "duration": 6,
    "start_time": "2023-05-06T14:47:28.471Z"
   },
   {
    "duration": 8,
    "start_time": "2023-05-06T14:47:28.478Z"
   },
   {
    "duration": 6,
    "start_time": "2023-05-06T14:47:28.487Z"
   },
   {
    "duration": 7,
    "start_time": "2023-05-06T14:47:28.494Z"
   },
   {
    "duration": 8,
    "start_time": "2023-05-06T14:47:28.503Z"
   },
   {
    "duration": 5,
    "start_time": "2023-05-06T14:47:28.512Z"
   },
   {
    "duration": 8,
    "start_time": "2023-05-06T14:47:28.519Z"
   },
   {
    "duration": 8,
    "start_time": "2023-05-06T14:47:28.529Z"
   },
   {
    "duration": 9,
    "start_time": "2023-05-06T14:47:28.541Z"
   },
   {
    "duration": 5,
    "start_time": "2023-05-06T14:47:28.551Z"
   },
   {
    "duration": 3,
    "start_time": "2023-05-06T16:02:32.416Z"
   },
   {
    "duration": 77676,
    "start_time": "2023-05-06T16:02:32.972Z"
   },
   {
    "duration": 11,
    "start_time": "2023-05-06T16:03:50.650Z"
   },
   {
    "duration": 12,
    "start_time": "2023-05-06T16:03:50.662Z"
   },
   {
    "duration": 98401,
    "start_time": "2023-05-06T16:03:50.675Z"
   },
   {
    "duration": 15,
    "start_time": "2023-05-06T16:05:29.078Z"
   },
   {
    "duration": 90,
    "start_time": "2023-05-06T16:05:29.095Z"
   },
   {
    "duration": 4,
    "start_time": "2023-05-06T16:05:29.187Z"
   },
   {
    "duration": 11,
    "start_time": "2023-05-06T16:06:52.605Z"
   },
   {
    "duration": 3,
    "start_time": "2023-05-06T16:11:54.181Z"
   },
   {
    "duration": 10632,
    "start_time": "2023-05-06T16:11:54.271Z"
   },
   {
    "duration": 4,
    "start_time": "2023-05-06T16:12:06.206Z"
   },
   {
    "duration": 89502,
    "start_time": "2023-05-06T16:12:07.713Z"
   },
   {
    "duration": 14,
    "start_time": "2023-05-06T16:13:37.216Z"
   },
   {
    "duration": 60,
    "start_time": "2023-05-06T16:13:37.231Z"
   },
   {
    "duration": 4,
    "start_time": "2023-05-06T16:13:37.292Z"
   },
   {
    "duration": 11,
    "start_time": "2023-05-06T16:13:52.959Z"
   },
   {
    "duration": 46,
    "start_time": "2023-05-06T16:14:00.125Z"
   },
   {
    "duration": 5,
    "start_time": "2023-05-06T16:14:00.799Z"
   },
   {
    "duration": 3,
    "start_time": "2023-05-06T16:14:32.714Z"
   },
   {
    "duration": 84,
    "start_time": "2023-05-06T16:16:09.631Z"
   },
   {
    "duration": 3,
    "start_time": "2023-05-06T16:16:18.613Z"
   },
   {
    "duration": 3,
    "start_time": "2023-05-06T16:16:24.525Z"
   },
   {
    "duration": 77421,
    "start_time": "2023-05-06T16:16:29.221Z"
   },
   {
    "duration": 14,
    "start_time": "2023-05-06T16:17:46.645Z"
   },
   {
    "duration": 139,
    "start_time": "2023-05-06T16:17:46.661Z"
   },
   {
    "duration": 6,
    "start_time": "2023-05-06T16:17:46.803Z"
   },
   {
    "duration": 6,
    "start_time": "2023-05-06T16:20:15.746Z"
   },
   {
    "duration": 86993,
    "start_time": "2023-05-06T16:20:16.274Z"
   },
   {
    "duration": 16,
    "start_time": "2023-05-06T16:21:43.269Z"
   },
   {
    "duration": 122,
    "start_time": "2023-05-06T16:21:43.287Z"
   },
   {
    "duration": 4,
    "start_time": "2023-05-06T16:21:43.411Z"
   },
   {
    "duration": 4,
    "start_time": "2023-05-06T16:22:06.164Z"
   },
   {
    "duration": 90042,
    "start_time": "2023-05-06T16:22:06.570Z"
   },
   {
    "duration": 14,
    "start_time": "2023-05-06T16:23:36.614Z"
   },
   {
    "duration": 87,
    "start_time": "2023-05-06T16:23:36.630Z"
   },
   {
    "duration": 4,
    "start_time": "2023-05-06T16:23:36.719Z"
   },
   {
    "duration": 77101,
    "start_time": "2023-05-06T16:25:36.409Z"
   },
   {
    "duration": 12,
    "start_time": "2023-05-06T16:26:53.512Z"
   },
   {
    "duration": 4,
    "start_time": "2023-05-06T16:26:53.526Z"
   },
   {
    "duration": 85517,
    "start_time": "2023-05-06T16:26:53.533Z"
   },
   {
    "duration": 12,
    "start_time": "2023-05-06T16:28:19.051Z"
   },
   {
    "duration": 81,
    "start_time": "2023-05-06T16:28:19.065Z"
   },
   {
    "duration": 4,
    "start_time": "2023-05-06T16:28:19.148Z"
   },
   {
    "duration": 37,
    "start_time": "2023-05-06T16:28:19.153Z"
   },
   {
    "duration": 88236,
    "start_time": "2023-05-06T16:28:19.192Z"
   },
   {
    "duration": 19,
    "start_time": "2023-05-06T16:29:47.430Z"
   },
   {
    "duration": 58,
    "start_time": "2023-05-06T16:29:47.451Z"
   },
   {
    "duration": 5,
    "start_time": "2023-05-06T16:29:47.510Z"
   },
   {
    "duration": 882,
    "start_time": "2023-05-06T16:29:47.517Z"
   },
   {
    "duration": 6,
    "start_time": "2023-05-06T16:29:54.695Z"
   },
   {
    "duration": 7,
    "start_time": "2023-05-06T16:30:08.370Z"
   },
   {
    "duration": 4,
    "start_time": "2023-05-06T16:56:07.213Z"
   },
   {
    "duration": 5,
    "start_time": "2023-05-06T16:56:36.346Z"
   },
   {
    "duration": 4,
    "start_time": "2023-05-06T16:56:39.608Z"
   },
   {
    "duration": 4,
    "start_time": "2023-05-06T16:57:08.862Z"
   },
   {
    "duration": 2457,
    "start_time": "2023-05-06T16:58:12.782Z"
   },
   {
    "duration": 1480,
    "start_time": "2023-05-06T16:58:15.249Z"
   },
   {
    "duration": 10,
    "start_time": "2023-05-06T16:58:16.731Z"
   },
   {
    "duration": 3382,
    "start_time": "2023-05-06T16:58:16.743Z"
   },
   {
    "duration": 43,
    "start_time": "2023-05-06T16:58:20.127Z"
   },
   {
    "duration": 4,
    "start_time": "2023-05-06T16:58:20.171Z"
   },
   {
    "duration": 69,
    "start_time": "2023-05-06T16:58:20.176Z"
   },
   {
    "duration": 244,
    "start_time": "2023-05-06T16:58:20.248Z"
   },
   {
    "duration": 6,
    "start_time": "2023-05-06T16:58:20.494Z"
   },
   {
    "duration": 12,
    "start_time": "2023-05-06T16:58:20.502Z"
   },
   {
    "duration": 23,
    "start_time": "2023-05-06T16:58:20.516Z"
   },
   {
    "duration": 35,
    "start_time": "2023-05-06T16:58:20.544Z"
   },
   {
    "duration": 2,
    "start_time": "2023-05-06T16:58:20.581Z"
   },
   {
    "duration": 22,
    "start_time": "2023-05-06T16:58:20.585Z"
   },
   {
    "duration": 3,
    "start_time": "2023-05-06T16:58:20.609Z"
   },
   {
    "duration": 45,
    "start_time": "2023-05-06T16:58:20.614Z"
   },
   {
    "duration": 3,
    "start_time": "2023-05-06T16:58:20.660Z"
   },
   {
    "duration": 18,
    "start_time": "2023-05-06T16:58:20.665Z"
   },
   {
    "duration": 20,
    "start_time": "2023-05-06T16:58:20.685Z"
   },
   {
    "duration": 15,
    "start_time": "2023-05-06T16:58:20.706Z"
   },
   {
    "duration": 231,
    "start_time": "2023-05-06T16:58:20.722Z"
   },
   {
    "duration": 603,
    "start_time": "2023-05-06T16:58:20.955Z"
   },
   {
    "duration": 405,
    "start_time": "2023-05-06T16:58:21.560Z"
   },
   {
    "duration": 549,
    "start_time": "2023-05-06T16:58:21.967Z"
   },
   {
    "duration": 423,
    "start_time": "2023-05-06T16:58:22.518Z"
   },
   {
    "duration": 7,
    "start_time": "2023-05-06T16:58:22.945Z"
   },
   {
    "duration": 19,
    "start_time": "2023-05-06T16:58:22.954Z"
   },
   {
    "duration": 574,
    "start_time": "2023-05-06T16:58:22.977Z"
   },
   {
    "duration": 4,
    "start_time": "2023-05-06T16:58:23.553Z"
   },
   {
    "duration": 15,
    "start_time": "2023-05-06T16:58:23.558Z"
   },
   {
    "duration": 4,
    "start_time": "2023-05-06T16:58:23.575Z"
   },
   {
    "duration": 15,
    "start_time": "2023-05-06T16:58:23.580Z"
   },
   {
    "duration": 249,
    "start_time": "2023-05-06T16:58:23.597Z"
   },
   {
    "duration": 324,
    "start_time": "2023-05-06T16:58:23.850Z"
   },
   {
    "duration": 5,
    "start_time": "2023-05-06T16:58:24.175Z"
   },
   {
    "duration": 2272,
    "start_time": "2023-05-06T16:58:24.181Z"
   },
   {
    "duration": 48,
    "start_time": "2023-05-06T16:58:26.454Z"
   },
   {
    "duration": 11,
    "start_time": "2023-05-06T16:58:26.504Z"
   },
   {
    "duration": 59,
    "start_time": "2023-05-06T16:58:26.516Z"
   },
   {
    "duration": 23,
    "start_time": "2023-05-06T16:58:26.579Z"
   },
   {
    "duration": 3,
    "start_time": "2023-05-06T16:58:26.604Z"
   },
   {
    "duration": 30,
    "start_time": "2023-05-06T16:58:26.609Z"
   },
   {
    "duration": 17,
    "start_time": "2023-05-06T16:58:26.643Z"
   },
   {
    "duration": 10,
    "start_time": "2023-05-06T16:58:26.662Z"
   },
   {
    "duration": 17,
    "start_time": "2023-05-06T16:58:26.673Z"
   },
   {
    "duration": 13,
    "start_time": "2023-05-06T16:58:26.692Z"
   },
   {
    "duration": 7,
    "start_time": "2023-05-06T16:58:26.707Z"
   },
   {
    "duration": 34,
    "start_time": "2023-05-06T16:58:26.717Z"
   },
   {
    "duration": 25,
    "start_time": "2023-05-06T16:58:26.754Z"
   },
   {
    "duration": 15,
    "start_time": "2023-05-06T16:58:26.781Z"
   },
   {
    "duration": 5454,
    "start_time": "2023-05-06T16:58:26.800Z"
   },
   {
    "duration": 9,
    "start_time": "2023-05-06T16:58:32.255Z"
   },
   {
    "duration": 16,
    "start_time": "2023-05-06T16:58:32.266Z"
   },
   {
    "duration": 1490,
    "start_time": "2023-05-06T16:58:32.284Z"
   },
   {
    "duration": 2,
    "start_time": "2023-05-06T16:58:33.776Z"
   },
   {
    "duration": 927,
    "start_time": "2023-05-06T16:58:33.780Z"
   },
   {
    "duration": 8,
    "start_time": "2023-05-06T16:58:34.708Z"
   },
   {
    "duration": 5,
    "start_time": "2023-05-06T16:58:34.718Z"
   },
   {
    "duration": 38641,
    "start_time": "2023-05-06T16:58:34.733Z"
   },
   {
    "duration": 8,
    "start_time": "2023-05-06T16:59:13.375Z"
   },
   {
    "duration": 25,
    "start_time": "2023-05-06T16:59:13.384Z"
   },
   {
    "duration": 14,
    "start_time": "2023-05-06T16:59:13.410Z"
   },
   {
    "duration": 43,
    "start_time": "2023-05-06T16:59:13.426Z"
   },
   {
    "duration": 440617,
    "start_time": "2023-05-06T16:59:13.471Z"
   },
   {
    "duration": 14,
    "start_time": "2023-05-06T17:06:34.090Z"
   },
   {
    "duration": 10,
    "start_time": "2023-05-06T17:06:34.106Z"
   },
   {
    "duration": 27,
    "start_time": "2023-05-06T17:06:34.117Z"
   },
   {
    "duration": 11,
    "start_time": "2023-05-06T17:06:34.146Z"
   },
   {
    "duration": 286006,
    "start_time": "2023-05-06T17:06:34.159Z"
   },
   {
    "duration": 4,
    "start_time": "2023-05-06T17:11:20.167Z"
   },
   {
    "duration": 436171,
    "start_time": "2023-05-06T17:11:20.172Z"
   },
   {
    "duration": 18,
    "start_time": "2023-05-06T17:18:36.348Z"
   },
   {
    "duration": 11,
    "start_time": "2023-05-06T17:18:36.368Z"
   },
   {
    "duration": 13,
    "start_time": "2023-05-06T17:18:36.381Z"
   },
   {
    "duration": 13,
    "start_time": "2023-05-06T17:18:36.397Z"
   },
   {
    "duration": 8,
    "start_time": "2023-05-06T17:18:36.413Z"
   },
   {
    "duration": 15,
    "start_time": "2023-05-06T17:18:36.433Z"
   },
   {
    "duration": 10,
    "start_time": "2023-05-06T17:18:36.451Z"
   },
   {
    "duration": 15,
    "start_time": "2023-05-06T17:18:36.462Z"
   },
   {
    "duration": 389740,
    "start_time": "2023-05-06T17:18:36.479Z"
   },
   {
    "duration": 6,
    "start_time": "2023-05-06T17:25:06.221Z"
   },
   {
    "duration": 20,
    "start_time": "2023-05-06T17:25:06.234Z"
   },
   {
    "duration": 22,
    "start_time": "2023-05-06T17:25:06.256Z"
   },
   {
    "duration": 22,
    "start_time": "2023-05-06T17:25:06.280Z"
   },
   {
    "duration": 24,
    "start_time": "2023-05-06T17:25:06.304Z"
   },
   {
    "duration": 33,
    "start_time": "2023-05-06T17:25:06.329Z"
   },
   {
    "duration": 13,
    "start_time": "2023-05-06T17:25:06.363Z"
   },
   {
    "duration": 373276,
    "start_time": "2023-05-06T17:25:06.378Z"
   },
   {
    "duration": 6,
    "start_time": "2023-05-06T17:31:19.656Z"
   },
   {
    "duration": 30,
    "start_time": "2023-05-06T17:31:19.663Z"
   },
   {
    "duration": 20,
    "start_time": "2023-05-06T17:31:19.695Z"
   },
   {
    "duration": 100,
    "start_time": "2023-05-06T17:31:19.717Z"
   },
   {
    "duration": 4,
    "start_time": "2023-05-06T17:31:19.818Z"
   },
   {
    "duration": 37,
    "start_time": "2023-05-06T17:31:19.823Z"
   },
   {
    "duration": 386021,
    "start_time": "2023-05-06T17:31:19.862Z"
   },
   {
    "duration": 6,
    "start_time": "2023-05-06T17:37:45.885Z"
   },
   {
    "duration": 26,
    "start_time": "2023-05-06T17:37:45.893Z"
   },
   {
    "duration": 23,
    "start_time": "2023-05-06T17:37:45.921Z"
   },
   {
    "duration": 22,
    "start_time": "2023-05-06T17:37:45.945Z"
   },
   {
    "duration": 9,
    "start_time": "2023-05-06T17:37:45.969Z"
   },
   {
    "duration": 404252,
    "start_time": "2023-05-06T17:37:45.980Z"
   },
   {
    "duration": 7,
    "start_time": "2023-05-06T17:44:30.241Z"
   },
   {
    "duration": 30,
    "start_time": "2023-05-06T17:44:30.256Z"
   },
   {
    "duration": 38,
    "start_time": "2023-05-06T17:44:30.288Z"
   },
   {
    "duration": 45,
    "start_time": "2023-05-06T17:44:30.328Z"
   },
   {
    "duration": 33,
    "start_time": "2023-05-06T17:44:30.375Z"
   },
   {
    "duration": 267774,
    "start_time": "2023-05-06T17:44:30.410Z"
   },
   {
    "duration": 7,
    "start_time": "2023-05-06T17:48:58.186Z"
   },
   {
    "duration": 10,
    "start_time": "2023-05-06T17:48:58.194Z"
   },
   {
    "duration": 10,
    "start_time": "2023-05-06T17:48:58.205Z"
   },
   {
    "duration": 25,
    "start_time": "2023-05-06T17:48:58.217Z"
   },
   {
    "duration": 28,
    "start_time": "2023-05-06T17:48:58.243Z"
   },
   {
    "duration": 32,
    "start_time": "2023-05-06T17:48:58.272Z"
   },
   {
    "duration": 346103,
    "start_time": "2023-05-06T17:48:58.306Z"
   },
   {
    "duration": 7,
    "start_time": "2023-05-06T17:54:44.411Z"
   },
   {
    "duration": 22,
    "start_time": "2023-05-06T17:54:44.419Z"
   },
   {
    "duration": 29,
    "start_time": "2023-05-06T17:54:44.443Z"
   },
   {
    "duration": 31,
    "start_time": "2023-05-06T17:54:44.475Z"
   },
   {
    "duration": 6,
    "start_time": "2023-05-06T17:54:44.508Z"
   },
   {
    "duration": 22,
    "start_time": "2023-05-06T17:54:44.516Z"
   },
   {
    "duration": 290535,
    "start_time": "2023-05-06T17:54:44.545Z"
   },
   {
    "duration": 6,
    "start_time": "2023-05-06T17:59:35.082Z"
   },
   {
    "duration": 14,
    "start_time": "2023-05-06T17:59:35.089Z"
   },
   {
    "duration": 13,
    "start_time": "2023-05-06T17:59:35.105Z"
   },
   {
    "duration": 24,
    "start_time": "2023-05-06T17:59:35.119Z"
   },
   {
    "duration": 24,
    "start_time": "2023-05-06T17:59:35.146Z"
   },
   {
    "duration": 12,
    "start_time": "2023-05-06T17:59:35.172Z"
   },
   {
    "duration": 407108,
    "start_time": "2023-05-06T17:59:35.185Z"
   },
   {
    "duration": 6,
    "start_time": "2023-05-06T18:06:22.296Z"
   },
   {
    "duration": 7,
    "start_time": "2023-05-06T18:06:22.304Z"
   },
   {
    "duration": 8,
    "start_time": "2023-05-06T18:06:22.312Z"
   },
   {
    "duration": 19,
    "start_time": "2023-05-06T18:06:22.321Z"
   },
   {
    "duration": 32,
    "start_time": "2023-05-06T18:06:22.342Z"
   },
   {
    "duration": 7,
    "start_time": "2023-05-06T18:06:22.376Z"
   },
   {
    "duration": 11,
    "start_time": "2023-05-06T18:06:22.384Z"
   },
   {
    "duration": 6,
    "start_time": "2023-05-06T18:06:22.397Z"
   },
   {
    "duration": 9,
    "start_time": "2023-05-06T18:06:22.404Z"
   },
   {
    "duration": 7,
    "start_time": "2023-05-06T18:06:22.414Z"
   },
   {
    "duration": 14,
    "start_time": "2023-05-06T18:06:22.422Z"
   },
   {
    "duration": 38,
    "start_time": "2023-05-06T18:06:22.441Z"
   },
   {
    "duration": 8,
    "start_time": "2023-05-06T18:06:22.481Z"
   },
   {
    "duration": 12,
    "start_time": "2023-05-06T18:06:22.491Z"
   },
   {
    "duration": 16,
    "start_time": "2023-05-06T18:06:22.505Z"
   },
   {
    "duration": 39,
    "start_time": "2023-05-06T18:06:22.522Z"
   },
   {
    "duration": 83921,
    "start_time": "2023-05-06T18:06:22.563Z"
   },
   {
    "duration": 11,
    "start_time": "2023-05-06T18:07:46.485Z"
   },
   {
    "duration": 3,
    "start_time": "2023-05-06T18:07:46.498Z"
   },
   {
    "duration": 93610,
    "start_time": "2023-05-06T18:07:46.502Z"
   },
   {
    "duration": 13,
    "start_time": "2023-05-06T18:09:20.114Z"
   },
   {
    "duration": 84,
    "start_time": "2023-05-06T18:09:20.129Z"
   },
   {
    "duration": 5,
    "start_time": "2023-05-06T18:09:20.215Z"
   },
   {
    "duration": 12,
    "start_time": "2023-05-06T18:09:20.222Z"
   },
   {
    "duration": 91889,
    "start_time": "2023-05-06T18:09:20.236Z"
   },
   {
    "duration": 18,
    "start_time": "2023-05-06T18:10:52.127Z"
   },
   {
    "duration": 57,
    "start_time": "2023-05-06T18:10:52.147Z"
   },
   {
    "duration": 4,
    "start_time": "2023-05-06T18:10:52.206Z"
   },
   {
    "duration": 11,
    "start_time": "2023-05-06T18:10:52.212Z"
   },
   {
    "duration": 20,
    "start_time": "2023-05-06T18:10:52.225Z"
   },
   {
    "duration": 100,
    "start_time": "2023-05-06T18:10:52.249Z"
   },
   {
    "duration": 5,
    "start_time": "2023-05-06T18:10:52.351Z"
   },
   {
    "duration": 14,
    "start_time": "2023-05-06T18:10:52.357Z"
   },
   {
    "duration": 60,
    "start_time": "2023-05-06T18:10:52.373Z"
   },
   {
    "duration": 0,
    "start_time": "2023-05-06T18:10:52.440Z"
   },
   {
    "duration": 0,
    "start_time": "2023-05-06T18:10:52.441Z"
   },
   {
    "duration": 0,
    "start_time": "2023-05-06T18:10:52.444Z"
   },
   {
    "duration": 0,
    "start_time": "2023-05-06T18:10:52.445Z"
   },
   {
    "duration": 0,
    "start_time": "2023-05-06T18:10:52.448Z"
   },
   {
    "duration": 0,
    "start_time": "2023-05-06T18:10:52.449Z"
   },
   {
    "duration": 0,
    "start_time": "2023-05-06T18:10:52.449Z"
   },
   {
    "duration": 0,
    "start_time": "2023-05-06T18:10:52.451Z"
   },
   {
    "duration": 6,
    "start_time": "2023-05-06T18:11:43.658Z"
   },
   {
    "duration": 5,
    "start_time": "2023-05-06T18:11:47.550Z"
   },
   {
    "duration": 4,
    "start_time": "2023-05-06T18:14:27.553Z"
   },
   {
    "duration": 82173,
    "start_time": "2023-05-06T18:14:29.776Z"
   },
   {
    "duration": 0,
    "start_time": "2023-05-06T18:15:51.951Z"
   },
   {
    "duration": 0,
    "start_time": "2023-05-06T18:15:51.954Z"
   },
   {
    "duration": 0,
    "start_time": "2023-05-06T18:15:51.955Z"
   },
   {
    "duration": 0,
    "start_time": "2023-05-06T18:15:51.956Z"
   },
   {
    "duration": 0,
    "start_time": "2023-05-06T18:15:51.957Z"
   },
   {
    "duration": 0,
    "start_time": "2023-05-06T18:15:51.958Z"
   },
   {
    "duration": 4,
    "start_time": "2023-05-06T18:16:34.505Z"
   },
   {
    "duration": 92648,
    "start_time": "2023-05-06T18:16:37.547Z"
   },
   {
    "duration": 14,
    "start_time": "2023-05-06T18:18:10.197Z"
   },
   {
    "duration": 84,
    "start_time": "2023-05-06T18:18:10.212Z"
   },
   {
    "duration": 5,
    "start_time": "2023-05-06T18:18:10.298Z"
   },
   {
    "duration": 11,
    "start_time": "2023-05-06T18:18:10.304Z"
   },
   {
    "duration": 31372,
    "start_time": "2023-05-06T18:18:10.317Z"
   },
   {
    "duration": 0,
    "start_time": "2023-05-06T18:18:41.691Z"
   },
   {
    "duration": 0,
    "start_time": "2023-05-06T18:18:41.692Z"
   },
   {
    "duration": 0,
    "start_time": "2023-05-06T18:18:41.693Z"
   },
   {
    "duration": 0,
    "start_time": "2023-05-06T18:18:41.694Z"
   },
   {
    "duration": 0,
    "start_time": "2023-05-06T18:18:41.695Z"
   },
   {
    "duration": 0,
    "start_time": "2023-05-06T18:18:41.697Z"
   },
   {
    "duration": 0,
    "start_time": "2023-05-06T18:18:41.698Z"
   },
   {
    "duration": 45,
    "start_time": "2023-05-06T18:18:58.154Z"
   },
   {
    "duration": 0,
    "start_time": "2023-05-06T18:18:58.201Z"
   },
   {
    "duration": 0,
    "start_time": "2023-05-06T18:18:58.202Z"
   },
   {
    "duration": 0,
    "start_time": "2023-05-06T18:18:58.203Z"
   },
   {
    "duration": 0,
    "start_time": "2023-05-06T18:18:58.204Z"
   },
   {
    "duration": 0,
    "start_time": "2023-05-06T18:18:58.205Z"
   },
   {
    "duration": 0,
    "start_time": "2023-05-06T18:18:58.206Z"
   },
   {
    "duration": 0,
    "start_time": "2023-05-06T18:18:58.207Z"
   },
   {
    "duration": 0,
    "start_time": "2023-05-06T18:18:58.208Z"
   },
   {
    "duration": 0,
    "start_time": "2023-05-06T18:18:58.209Z"
   },
   {
    "duration": 0,
    "start_time": "2023-05-06T18:18:58.210Z"
   },
   {
    "duration": 4,
    "start_time": "2023-05-06T18:18:58.212Z"
   },
   {
    "duration": 0,
    "start_time": "2023-05-06T18:19:38.823Z"
   },
   {
    "duration": 0,
    "start_time": "2023-05-06T18:19:38.824Z"
   },
   {
    "duration": 0,
    "start_time": "2023-05-06T18:19:38.825Z"
   },
   {
    "duration": 1,
    "start_time": "2023-05-06T18:19:38.825Z"
   },
   {
    "duration": 0,
    "start_time": "2023-05-06T18:19:38.827Z"
   },
   {
    "duration": 0,
    "start_time": "2023-05-06T18:19:38.828Z"
   },
   {
    "duration": 0,
    "start_time": "2023-05-06T18:19:38.829Z"
   },
   {
    "duration": 0,
    "start_time": "2023-05-06T18:19:38.830Z"
   },
   {
    "duration": 0,
    "start_time": "2023-05-06T18:19:38.831Z"
   },
   {
    "duration": 0,
    "start_time": "2023-05-06T18:19:38.832Z"
   },
   {
    "duration": 0,
    "start_time": "2023-05-06T18:19:38.833Z"
   },
   {
    "duration": 0,
    "start_time": "2023-05-06T18:19:38.834Z"
   },
   {
    "duration": 0,
    "start_time": "2023-05-06T18:19:38.834Z"
   },
   {
    "duration": 0,
    "start_time": "2023-05-06T18:19:38.835Z"
   },
   {
    "duration": 0,
    "start_time": "2023-05-06T18:19:38.836Z"
   },
   {
    "duration": 0,
    "start_time": "2023-05-06T18:19:38.837Z"
   },
   {
    "duration": 0,
    "start_time": "2023-05-06T18:19:38.837Z"
   },
   {
    "duration": 0,
    "start_time": "2023-05-06T18:19:38.841Z"
   },
   {
    "duration": 0,
    "start_time": "2023-05-06T18:19:38.844Z"
   },
   {
    "duration": 0,
    "start_time": "2023-05-06T18:19:38.845Z"
   },
   {
    "duration": 1,
    "start_time": "2023-05-06T18:19:38.846Z"
   },
   {
    "duration": 0,
    "start_time": "2023-05-06T18:19:38.847Z"
   },
   {
    "duration": 0,
    "start_time": "2023-05-06T18:19:38.851Z"
   },
   {
    "duration": 0,
    "start_time": "2023-05-06T18:19:38.852Z"
   },
   {
    "duration": 0,
    "start_time": "2023-05-06T18:19:38.855Z"
   },
   {
    "duration": 0,
    "start_time": "2023-05-06T18:19:38.856Z"
   },
   {
    "duration": 0,
    "start_time": "2023-05-06T18:19:38.857Z"
   },
   {
    "duration": 0,
    "start_time": "2023-05-06T18:19:38.859Z"
   },
   {
    "duration": 0,
    "start_time": "2023-05-06T18:19:38.860Z"
   },
   {
    "duration": 0,
    "start_time": "2023-05-06T18:19:38.861Z"
   },
   {
    "duration": 44,
    "start_time": "2023-05-06T18:19:43.461Z"
   },
   {
    "duration": 4,
    "start_time": "2023-05-06T18:19:49.057Z"
   },
   {
    "duration": 5,
    "start_time": "2023-05-06T18:19:52.118Z"
   },
   {
    "duration": 80949,
    "start_time": "2023-05-06T18:19:52.125Z"
   },
   {
    "duration": 12,
    "start_time": "2023-05-06T18:21:13.076Z"
   },
   {
    "duration": 4,
    "start_time": "2023-05-06T18:21:13.089Z"
   },
   {
    "duration": 90174,
    "start_time": "2023-05-06T18:21:13.095Z"
   },
   {
    "duration": 19,
    "start_time": "2023-05-06T18:22:43.270Z"
   },
   {
    "duration": 93,
    "start_time": "2023-05-06T18:22:43.292Z"
   },
   {
    "duration": 5,
    "start_time": "2023-05-06T18:22:43.387Z"
   },
   {
    "duration": 7,
    "start_time": "2023-05-06T18:22:43.394Z"
   },
   {
    "duration": 88866,
    "start_time": "2023-05-06T18:22:43.403Z"
   },
   {
    "duration": 17,
    "start_time": "2023-05-06T18:24:12.272Z"
   },
   {
    "duration": 4,
    "start_time": "2023-05-06T18:24:12.291Z"
   },
   {
    "duration": 89051,
    "start_time": "2023-05-06T18:24:12.297Z"
   },
   {
    "duration": 14,
    "start_time": "2023-05-06T18:25:41.350Z"
   },
   {
    "duration": 99,
    "start_time": "2023-05-06T18:25:41.366Z"
   },
   {
    "duration": 6,
    "start_time": "2023-05-06T18:25:41.466Z"
   },
   {
    "duration": 9,
    "start_time": "2023-05-06T18:25:41.474Z"
   },
   {
    "duration": 10,
    "start_time": "2023-05-06T18:25:41.485Z"
   },
   {
    "duration": 119,
    "start_time": "2023-05-06T18:25:41.497Z"
   },
   {
    "duration": 5,
    "start_time": "2023-05-06T18:25:41.618Z"
   },
   {
    "duration": 31,
    "start_time": "2023-05-06T18:25:41.624Z"
   },
   {
    "duration": 45,
    "start_time": "2023-05-06T18:25:41.657Z"
   },
   {
    "duration": 0,
    "start_time": "2023-05-06T18:25:41.704Z"
   },
   {
    "duration": 0,
    "start_time": "2023-05-06T18:25:41.705Z"
   },
   {
    "duration": 0,
    "start_time": "2023-05-06T18:25:41.706Z"
   },
   {
    "duration": 0,
    "start_time": "2023-05-06T18:25:41.708Z"
   },
   {
    "duration": 0,
    "start_time": "2023-05-06T18:25:41.710Z"
   },
   {
    "duration": 0,
    "start_time": "2023-05-06T18:25:41.712Z"
   },
   {
    "duration": 0,
    "start_time": "2023-05-06T18:25:41.714Z"
   },
   {
    "duration": 0,
    "start_time": "2023-05-06T18:25:41.715Z"
   },
   {
    "duration": 6,
    "start_time": "2023-05-06T18:31:22.878Z"
   },
   {
    "duration": 5,
    "start_time": "2023-05-06T18:31:35.253Z"
   },
   {
    "duration": 6,
    "start_time": "2023-05-06T18:31:54.794Z"
   },
   {
    "duration": 8,
    "start_time": "2023-05-06T18:34:17.932Z"
   },
   {
    "duration": 4,
    "start_time": "2023-05-06T18:34:20.146Z"
   },
   {
    "duration": 4,
    "start_time": "2023-05-07T08:05:23.140Z"
   },
   {
    "duration": 4715,
    "start_time": "2023-05-07T08:05:23.148Z"
   },
   {
    "duration": 3,
    "start_time": "2023-05-07T08:05:27.865Z"
   },
   {
    "duration": 1859,
    "start_time": "2023-05-07T08:05:27.870Z"
   },
   {
    "duration": 44,
    "start_time": "2023-05-07T08:05:29.731Z"
   },
   {
    "duration": 4,
    "start_time": "2023-05-07T08:05:29.777Z"
   },
   {
    "duration": 65,
    "start_time": "2023-05-07T08:05:29.783Z"
   },
   {
    "duration": 274,
    "start_time": "2023-05-07T08:05:29.850Z"
   },
   {
    "duration": 9,
    "start_time": "2023-05-07T08:05:30.127Z"
   },
   {
    "duration": 36,
    "start_time": "2023-05-07T08:05:30.138Z"
   },
   {
    "duration": 22,
    "start_time": "2023-05-07T08:05:30.191Z"
   },
   {
    "duration": 36,
    "start_time": "2023-05-07T08:05:30.215Z"
   },
   {
    "duration": 35,
    "start_time": "2023-05-07T08:05:30.253Z"
   },
   {
    "duration": 45,
    "start_time": "2023-05-07T08:05:30.290Z"
   },
   {
    "duration": 10,
    "start_time": "2023-05-07T08:05:30.337Z"
   },
   {
    "duration": 70,
    "start_time": "2023-05-07T08:05:30.349Z"
   },
   {
    "duration": 25,
    "start_time": "2023-05-07T08:05:30.423Z"
   },
   {
    "duration": 23,
    "start_time": "2023-05-07T08:05:30.451Z"
   },
   {
    "duration": 28,
    "start_time": "2023-05-07T08:05:30.476Z"
   },
   {
    "duration": 21,
    "start_time": "2023-05-07T08:05:30.506Z"
   },
   {
    "duration": 245,
    "start_time": "2023-05-07T08:05:30.529Z"
   },
   {
    "duration": 583,
    "start_time": "2023-05-07T08:05:30.776Z"
   },
   {
    "duration": 404,
    "start_time": "2023-05-07T08:05:31.361Z"
   },
   {
    "duration": 515,
    "start_time": "2023-05-07T08:05:31.767Z"
   },
   {
    "duration": 410,
    "start_time": "2023-05-07T08:05:32.285Z"
   },
   {
    "duration": 3,
    "start_time": "2023-05-07T08:05:32.697Z"
   },
   {
    "duration": 9,
    "start_time": "2023-05-07T08:05:32.702Z"
   },
   {
    "duration": 540,
    "start_time": "2023-05-07T08:05:32.712Z"
   },
   {
    "duration": 3,
    "start_time": "2023-05-07T08:05:33.256Z"
   },
   {
    "duration": 24,
    "start_time": "2023-05-07T08:05:33.261Z"
   },
   {
    "duration": 4,
    "start_time": "2023-05-07T08:05:33.287Z"
   },
   {
    "duration": 11,
    "start_time": "2023-05-07T08:05:33.293Z"
   },
   {
    "duration": 202,
    "start_time": "2023-05-07T08:05:33.306Z"
   },
   {
    "duration": 294,
    "start_time": "2023-05-07T08:05:33.510Z"
   },
   {
    "duration": 4,
    "start_time": "2023-05-07T08:05:33.806Z"
   },
   {
    "duration": 2295,
    "start_time": "2023-05-07T08:05:33.812Z"
   },
   {
    "duration": 49,
    "start_time": "2023-05-07T08:05:36.109Z"
   },
   {
    "duration": 27,
    "start_time": "2023-05-07T08:05:36.160Z"
   },
   {
    "duration": 29,
    "start_time": "2023-05-07T08:05:36.189Z"
   },
   {
    "duration": 18,
    "start_time": "2023-05-07T08:05:36.220Z"
   },
   {
    "duration": 2,
    "start_time": "2023-05-07T08:05:36.240Z"
   },
   {
    "duration": 43,
    "start_time": "2023-05-07T08:05:36.244Z"
   },
   {
    "duration": 6,
    "start_time": "2023-05-07T08:05:36.289Z"
   },
   {
    "duration": 17,
    "start_time": "2023-05-07T08:05:36.297Z"
   },
   {
    "duration": 8,
    "start_time": "2023-05-07T08:05:36.315Z"
   },
   {
    "duration": 10,
    "start_time": "2023-05-07T08:05:36.325Z"
   },
   {
    "duration": 7,
    "start_time": "2023-05-07T08:05:36.337Z"
   },
   {
    "duration": 5,
    "start_time": "2023-05-07T08:05:36.345Z"
   },
   {
    "duration": 8,
    "start_time": "2023-05-07T08:05:36.352Z"
   },
   {
    "duration": 3,
    "start_time": "2023-05-07T08:05:36.362Z"
   },
   {
    "duration": 3336,
    "start_time": "2023-05-07T08:05:36.367Z"
   },
   {
    "duration": 5,
    "start_time": "2023-05-07T08:15:15.516Z"
   },
   {
    "duration": 5,
    "start_time": "2023-05-07T08:16:04.472Z"
   },
   {
    "duration": 4,
    "start_time": "2023-05-07T08:16:08.126Z"
   },
   {
    "duration": 16,
    "start_time": "2023-05-07T08:16:10.042Z"
   },
   {
    "duration": 448453,
    "start_time": "2023-05-07T08:16:10.925Z"
   },
   {
    "duration": 10,
    "start_time": "2023-05-07T08:23:48.867Z"
   },
   {
    "duration": 6,
    "start_time": "2023-05-07T08:24:00.848Z"
   },
   {
    "duration": 14,
    "start_time": "2023-05-07T08:25:32.582Z"
   },
   {
    "duration": 4,
    "start_time": "2023-05-07T08:25:41.873Z"
   },
   {
    "duration": 7,
    "start_time": "2023-05-07T08:25:57.148Z"
   },
   {
    "duration": 140,
    "start_time": "2023-05-07T08:26:12.290Z"
   },
   {
    "duration": 5,
    "start_time": "2023-05-07T08:26:22.230Z"
   },
   {
    "duration": 4,
    "start_time": "2023-05-07T08:26:28.616Z"
   },
   {
    "duration": 16,
    "start_time": "2023-05-07T08:27:00.353Z"
   },
   {
    "duration": 5,
    "start_time": "2023-05-07T08:30:43.525Z"
   },
   {
    "duration": 4,
    "start_time": "2023-05-07T08:30:57.024Z"
   },
   {
    "duration": 15,
    "start_time": "2023-05-07T08:30:58.644Z"
   },
   {
    "duration": 93660,
    "start_time": "2023-05-07T08:30:59.421Z"
   },
   {
    "duration": 17,
    "start_time": "2023-05-07T08:38:52.378Z"
   },
   {
    "duration": 6,
    "start_time": "2023-05-07T08:38:55.609Z"
   },
   {
    "duration": 4,
    "start_time": "2023-05-07T08:38:56.359Z"
   },
   {
    "duration": 3,
    "start_time": "2023-05-27T19:19:31.321Z"
   },
   {
    "duration": 2549,
    "start_time": "2023-05-27T19:19:31.325Z"
   },
   {
    "duration": 2,
    "start_time": "2023-05-27T19:19:33.876Z"
   },
   {
    "duration": 2823,
    "start_time": "2023-05-27T19:19:33.880Z"
   },
   {
    "duration": 86,
    "start_time": "2023-05-27T19:19:36.706Z"
   },
   {
    "duration": 5,
    "start_time": "2023-05-27T19:19:36.794Z"
   },
   {
    "duration": 109,
    "start_time": "2023-05-27T19:19:36.857Z"
   },
   {
    "duration": 418,
    "start_time": "2023-05-27T19:19:36.968Z"
   },
   {
    "duration": 10,
    "start_time": "2023-05-27T19:19:37.389Z"
   },
   {
    "duration": 57,
    "start_time": "2023-05-27T19:19:37.401Z"
   },
   {
    "duration": 9,
    "start_time": "2023-05-27T19:19:37.460Z"
   },
   {
    "duration": 31,
    "start_time": "2023-05-27T19:19:37.471Z"
   },
   {
    "duration": 53,
    "start_time": "2023-05-27T19:19:37.504Z"
   },
   {
    "duration": 28,
    "start_time": "2023-05-27T19:19:37.559Z"
   },
   {
    "duration": 3,
    "start_time": "2023-05-27T19:19:37.588Z"
   },
   {
    "duration": 91,
    "start_time": "2023-05-27T19:19:37.592Z"
   },
   {
    "duration": 3,
    "start_time": "2023-05-27T19:19:37.685Z"
   },
   {
    "duration": 5,
    "start_time": "2023-05-27T19:19:37.689Z"
   },
   {
    "duration": 68,
    "start_time": "2023-05-27T19:19:37.695Z"
   },
   {
    "duration": 5,
    "start_time": "2023-05-27T19:19:37.765Z"
   },
   {
    "duration": 407,
    "start_time": "2023-05-27T19:19:37.772Z"
   },
   {
    "duration": 1221,
    "start_time": "2023-05-27T19:19:38.181Z"
   },
   {
    "duration": 556,
    "start_time": "2023-05-27T19:19:39.404Z"
   },
   {
    "duration": 938,
    "start_time": "2023-05-27T19:19:39.961Z"
   },
   {
    "duration": 885,
    "start_time": "2023-05-27T19:19:40.900Z"
   },
   {
    "duration": 3,
    "start_time": "2023-05-27T19:19:41.856Z"
   },
   {
    "duration": 12,
    "start_time": "2023-05-27T19:19:41.861Z"
   },
   {
    "duration": 1605,
    "start_time": "2023-05-27T19:19:41.875Z"
   },
   {
    "duration": 4,
    "start_time": "2023-05-27T19:19:43.486Z"
   },
   {
    "duration": 78,
    "start_time": "2023-05-27T19:19:43.491Z"
   },
   {
    "duration": 4,
    "start_time": "2023-05-27T19:19:43.571Z"
   },
   {
    "duration": 79,
    "start_time": "2023-05-27T19:19:43.577Z"
   },
   {
    "duration": 608,
    "start_time": "2023-05-27T19:19:43.659Z"
   },
   {
    "duration": 1096,
    "start_time": "2023-05-27T19:19:44.270Z"
   },
   {
    "duration": 4,
    "start_time": "2023-05-27T19:19:45.368Z"
   },
   {
    "duration": 4940,
    "start_time": "2023-05-27T19:19:45.374Z"
   },
   {
    "duration": 70,
    "start_time": "2023-05-27T19:19:50.316Z"
   },
   {
    "duration": 70,
    "start_time": "2023-05-27T19:19:50.388Z"
   },
   {
    "duration": 22,
    "start_time": "2023-05-27T19:19:50.460Z"
   },
   {
    "duration": 76,
    "start_time": "2023-05-27T19:19:50.484Z"
   },
   {
    "duration": 4,
    "start_time": "2023-05-27T19:19:50.561Z"
   },
   {
    "duration": 17,
    "start_time": "2023-05-27T19:19:50.567Z"
   },
   {
    "duration": 8,
    "start_time": "2023-05-27T19:19:50.585Z"
   },
   {
    "duration": 63,
    "start_time": "2023-05-27T19:19:50.595Z"
   },
   {
    "duration": 10,
    "start_time": "2023-05-27T19:19:50.660Z"
   },
   {
    "duration": 21,
    "start_time": "2023-05-27T19:19:50.671Z"
   },
   {
    "duration": 14,
    "start_time": "2023-05-27T19:19:50.693Z"
   },
   {
    "duration": 5,
    "start_time": "2023-05-27T19:19:50.709Z"
   },
   {
    "duration": 22,
    "start_time": "2023-05-27T19:19:50.756Z"
   },
   {
    "duration": 9,
    "start_time": "2023-05-27T19:19:50.780Z"
   },
   {
    "duration": 3477,
    "start_time": "2023-05-27T19:19:50.791Z"
   },
   {
    "duration": 9,
    "start_time": "2023-05-27T19:19:54.269Z"
   },
   {
    "duration": 4,
    "start_time": "2023-05-27T19:19:54.280Z"
   },
   {
    "duration": 2571,
    "start_time": "2023-05-27T19:19:54.285Z"
   },
   {
    "duration": 2,
    "start_time": "2023-05-27T19:19:56.859Z"
   },
   {
    "duration": 1636,
    "start_time": "2023-05-27T19:19:56.862Z"
   },
   {
    "duration": 63,
    "start_time": "2023-05-27T19:19:58.500Z"
   },
   {
    "duration": 6,
    "start_time": "2023-05-27T19:19:58.565Z"
   },
   {
    "duration": 38187,
    "start_time": "2023-05-27T19:19:58.573Z"
   },
   {
    "duration": 8,
    "start_time": "2023-05-27T19:20:36.761Z"
   },
   {
    "duration": 16,
    "start_time": "2023-05-27T19:20:36.770Z"
   },
   {
    "duration": 7,
    "start_time": "2023-05-27T19:20:36.788Z"
   },
   {
    "duration": 18,
    "start_time": "2023-05-27T19:20:36.797Z"
   },
   {
    "duration": 166346,
    "start_time": "2023-05-27T19:20:36.817Z"
   },
   {
    "duration": 0,
    "start_time": "2023-05-27T19:23:23.168Z"
   },
   {
    "duration": 0,
    "start_time": "2023-05-27T19:23:23.169Z"
   },
   {
    "duration": 0,
    "start_time": "2023-05-27T19:23:23.171Z"
   },
   {
    "duration": 0,
    "start_time": "2023-05-27T19:23:23.172Z"
   },
   {
    "duration": 0,
    "start_time": "2023-05-27T19:23:23.173Z"
   },
   {
    "duration": 0,
    "start_time": "2023-05-27T19:23:23.174Z"
   },
   {
    "duration": 0,
    "start_time": "2023-05-27T19:23:23.175Z"
   },
   {
    "duration": 1,
    "start_time": "2023-05-27T19:23:23.176Z"
   },
   {
    "duration": 0,
    "start_time": "2023-05-27T19:23:23.178Z"
   },
   {
    "duration": 0,
    "start_time": "2023-05-27T19:23:23.179Z"
   },
   {
    "duration": 0,
    "start_time": "2023-05-27T19:23:23.181Z"
   },
   {
    "duration": 0,
    "start_time": "2023-05-27T19:23:23.182Z"
   },
   {
    "duration": 0,
    "start_time": "2023-05-27T19:23:23.184Z"
   },
   {
    "duration": 0,
    "start_time": "2023-05-27T19:23:23.185Z"
   },
   {
    "duration": 0,
    "start_time": "2023-05-27T19:23:23.186Z"
   },
   {
    "duration": 0,
    "start_time": "2023-05-27T19:23:23.187Z"
   },
   {
    "duration": 0,
    "start_time": "2023-05-27T19:23:23.189Z"
   },
   {
    "duration": 0,
    "start_time": "2023-05-27T19:23:23.190Z"
   },
   {
    "duration": 0,
    "start_time": "2023-05-27T19:23:23.259Z"
   },
   {
    "duration": 0,
    "start_time": "2023-05-27T19:23:23.260Z"
   },
   {
    "duration": 0,
    "start_time": "2023-05-27T19:23:23.261Z"
   },
   {
    "duration": 0,
    "start_time": "2023-05-27T19:23:23.262Z"
   },
   {
    "duration": 0,
    "start_time": "2023-05-27T19:23:23.264Z"
   },
   {
    "duration": 0,
    "start_time": "2023-05-27T19:23:23.265Z"
   },
   {
    "duration": 0,
    "start_time": "2023-05-27T19:23:23.267Z"
   },
   {
    "duration": 0,
    "start_time": "2023-05-27T19:23:23.268Z"
   },
   {
    "duration": 0,
    "start_time": "2023-05-27T19:23:23.269Z"
   },
   {
    "duration": 0,
    "start_time": "2023-05-27T19:23:23.270Z"
   },
   {
    "duration": 0,
    "start_time": "2023-05-27T19:23:23.271Z"
   },
   {
    "duration": 0,
    "start_time": "2023-05-27T19:23:23.272Z"
   },
   {
    "duration": 0,
    "start_time": "2023-05-27T19:23:23.273Z"
   },
   {
    "duration": 0,
    "start_time": "2023-05-27T19:23:23.274Z"
   },
   {
    "duration": 0,
    "start_time": "2023-05-27T19:23:23.276Z"
   },
   {
    "duration": 0,
    "start_time": "2023-05-27T19:23:23.277Z"
   },
   {
    "duration": 0,
    "start_time": "2023-05-27T19:23:23.278Z"
   },
   {
    "duration": 0,
    "start_time": "2023-05-27T19:23:23.280Z"
   },
   {
    "duration": 0,
    "start_time": "2023-05-27T19:23:23.280Z"
   },
   {
    "duration": 0,
    "start_time": "2023-05-27T19:23:23.282Z"
   },
   {
    "duration": 0,
    "start_time": "2023-05-27T19:23:23.283Z"
   },
   {
    "duration": 0,
    "start_time": "2023-05-27T19:23:23.284Z"
   },
   {
    "duration": 0,
    "start_time": "2023-05-27T19:23:23.285Z"
   },
   {
    "duration": 0,
    "start_time": "2023-05-27T19:23:23.286Z"
   },
   {
    "duration": 0,
    "start_time": "2023-05-27T19:23:23.357Z"
   },
   {
    "duration": 0,
    "start_time": "2023-05-27T19:23:23.358Z"
   },
   {
    "duration": 0,
    "start_time": "2023-05-27T19:23:23.360Z"
   },
   {
    "duration": 0,
    "start_time": "2023-05-27T19:23:23.361Z"
   },
   {
    "duration": 0,
    "start_time": "2023-05-27T19:23:23.363Z"
   },
   {
    "duration": 0,
    "start_time": "2023-05-27T19:23:23.364Z"
   },
   {
    "duration": 0,
    "start_time": "2023-05-27T19:23:23.365Z"
   },
   {
    "duration": 0,
    "start_time": "2023-05-27T19:23:23.367Z"
   },
   {
    "duration": 0,
    "start_time": "2023-05-27T19:23:23.368Z"
   },
   {
    "duration": 0,
    "start_time": "2023-05-27T19:23:23.369Z"
   },
   {
    "duration": 0,
    "start_time": "2023-05-27T19:23:23.372Z"
   },
   {
    "duration": 0,
    "start_time": "2023-05-27T19:23:23.373Z"
   },
   {
    "duration": 0,
    "start_time": "2023-05-27T19:23:23.374Z"
   },
   {
    "duration": 0,
    "start_time": "2023-05-27T19:23:23.375Z"
   },
   {
    "duration": 0,
    "start_time": "2023-05-27T19:23:23.377Z"
   },
   {
    "duration": 0,
    "start_time": "2023-05-27T19:23:23.379Z"
   },
   {
    "duration": 0,
    "start_time": "2023-05-27T19:23:23.380Z"
   },
   {
    "duration": 0,
    "start_time": "2023-05-27T19:23:23.381Z"
   },
   {
    "duration": 0,
    "start_time": "2023-05-27T19:23:23.382Z"
   },
   {
    "duration": 0,
    "start_time": "2023-05-27T19:23:23.383Z"
   },
   {
    "duration": 0,
    "start_time": "2023-05-27T19:23:23.384Z"
   },
   {
    "duration": 0,
    "start_time": "2023-05-27T19:23:23.457Z"
   },
   {
    "duration": 0,
    "start_time": "2023-05-27T19:23:23.458Z"
   },
   {
    "duration": 0,
    "start_time": "2023-05-27T19:23:23.459Z"
   },
   {
    "duration": 0,
    "start_time": "2023-05-27T19:23:23.461Z"
   },
   {
    "duration": 0,
    "start_time": "2023-05-27T19:23:23.462Z"
   },
   {
    "duration": 0,
    "start_time": "2023-05-27T19:23:23.465Z"
   },
   {
    "duration": 0,
    "start_time": "2023-05-27T19:23:23.466Z"
   },
   {
    "duration": 0,
    "start_time": "2023-05-27T19:23:23.468Z"
   },
   {
    "duration": 0,
    "start_time": "2023-05-27T19:23:23.470Z"
   },
   {
    "duration": 0,
    "start_time": "2023-05-27T19:23:23.471Z"
   },
   {
    "duration": 0,
    "start_time": "2023-05-27T19:23:23.473Z"
   },
   {
    "duration": 0,
    "start_time": "2023-05-27T19:23:23.474Z"
   },
   {
    "duration": 0,
    "start_time": "2023-05-27T19:23:23.476Z"
   },
   {
    "duration": 0,
    "start_time": "2023-05-27T19:23:23.477Z"
   },
   {
    "duration": 0,
    "start_time": "2023-05-27T19:23:23.478Z"
   },
   {
    "duration": 1,
    "start_time": "2023-05-27T19:23:23.479Z"
   },
   {
    "duration": 0,
    "start_time": "2023-05-27T19:23:23.481Z"
   },
   {
    "duration": 0,
    "start_time": "2023-05-27T19:23:23.482Z"
   },
   {
    "duration": 0,
    "start_time": "2023-05-27T19:23:23.483Z"
   },
   {
    "duration": 0,
    "start_time": "2023-05-27T19:23:23.557Z"
   },
   {
    "duration": 0,
    "start_time": "2023-05-27T19:23:23.559Z"
   },
   {
    "duration": 0,
    "start_time": "2023-05-27T19:23:23.560Z"
   },
   {
    "duration": 0,
    "start_time": "2023-05-27T19:23:23.562Z"
   },
   {
    "duration": 0,
    "start_time": "2023-05-27T19:23:23.563Z"
   },
   {
    "duration": 0,
    "start_time": "2023-05-27T19:23:23.564Z"
   },
   {
    "duration": 0,
    "start_time": "2023-05-27T19:23:23.566Z"
   },
   {
    "duration": 0,
    "start_time": "2023-05-27T19:23:23.567Z"
   },
   {
    "duration": 0,
    "start_time": "2023-05-27T19:23:23.568Z"
   },
   {
    "duration": 0,
    "start_time": "2023-05-27T19:23:23.569Z"
   },
   {
    "duration": 0,
    "start_time": "2023-05-27T19:23:23.570Z"
   },
   {
    "duration": 0,
    "start_time": "2023-05-27T19:23:23.572Z"
   },
   {
    "duration": 0,
    "start_time": "2023-05-27T19:23:23.573Z"
   },
   {
    "duration": 0,
    "start_time": "2023-05-27T19:23:23.574Z"
   },
   {
    "duration": 0,
    "start_time": "2023-05-27T19:23:23.576Z"
   },
   {
    "duration": 0,
    "start_time": "2023-05-27T19:23:23.577Z"
   },
   {
    "duration": 0,
    "start_time": "2023-05-27T19:23:23.579Z"
   },
   {
    "duration": 0,
    "start_time": "2023-05-27T19:23:23.580Z"
   },
   {
    "duration": 0,
    "start_time": "2023-05-27T19:23:23.582Z"
   },
   {
    "duration": 0,
    "start_time": "2023-05-27T19:23:23.583Z"
   },
   {
    "duration": 0,
    "start_time": "2023-05-27T19:23:23.584Z"
   },
   {
    "duration": 0,
    "start_time": "2023-05-27T19:23:23.657Z"
   },
   {
    "duration": 0,
    "start_time": "2023-05-27T19:23:23.658Z"
   },
   {
    "duration": 0,
    "start_time": "2023-05-27T19:23:23.659Z"
   },
   {
    "duration": 0,
    "start_time": "2023-05-27T19:23:23.660Z"
   },
   {
    "duration": 0,
    "start_time": "2023-05-27T19:23:23.662Z"
   },
   {
    "duration": 0,
    "start_time": "2023-05-27T19:23:23.663Z"
   },
   {
    "duration": 2568,
    "start_time": "2023-09-22T18:30:36.673Z"
   },
   {
    "duration": 1893,
    "start_time": "2023-09-22T18:30:39.243Z"
   },
   {
    "duration": 3,
    "start_time": "2023-09-22T18:30:41.137Z"
   },
   {
    "duration": 3271,
    "start_time": "2023-09-22T18:30:41.142Z"
   },
   {
    "duration": 39,
    "start_time": "2023-09-22T18:30:44.415Z"
   },
   {
    "duration": 41,
    "start_time": "2023-09-22T18:30:44.456Z"
   },
   {
    "duration": 80,
    "start_time": "2023-09-22T18:30:44.498Z"
   },
   {
    "duration": 244,
    "start_time": "2023-09-22T18:30:44.580Z"
   },
   {
    "duration": 8,
    "start_time": "2023-09-22T18:30:44.827Z"
   },
   {
    "duration": 4,
    "start_time": "2023-09-22T18:30:44.838Z"
   },
   {
    "duration": 18,
    "start_time": "2023-09-22T18:30:44.844Z"
   },
   {
    "duration": 33,
    "start_time": "2023-09-22T18:30:44.864Z"
   },
   {
    "duration": 17,
    "start_time": "2023-09-22T18:30:44.899Z"
   },
   {
    "duration": 33,
    "start_time": "2023-09-22T18:30:44.918Z"
   },
   {
    "duration": 3,
    "start_time": "2023-09-22T18:30:44.953Z"
   },
   {
    "duration": 9,
    "start_time": "2023-09-22T18:30:44.958Z"
   },
   {
    "duration": 21,
    "start_time": "2023-09-22T18:30:44.969Z"
   },
   {
    "duration": 47,
    "start_time": "2023-09-22T18:30:44.992Z"
   },
   {
    "duration": 246,
    "start_time": "2023-09-22T18:30:45.041Z"
   },
   {
    "duration": 550,
    "start_time": "2023-09-22T18:30:45.289Z"
   },
   {
    "duration": 406,
    "start_time": "2023-09-22T18:30:45.841Z"
   },
   {
    "duration": 483,
    "start_time": "2023-09-22T18:30:46.249Z"
   },
   {
    "duration": 396,
    "start_time": "2023-09-22T18:30:46.734Z"
   },
   {
    "duration": 2,
    "start_time": "2023-09-22T18:30:47.132Z"
   },
   {
    "duration": 38,
    "start_time": "2023-09-22T18:30:47.136Z"
   },
   {
    "duration": 547,
    "start_time": "2023-09-22T18:30:47.176Z"
   },
   {
    "duration": 4,
    "start_time": "2023-09-22T18:30:47.725Z"
   },
   {
    "duration": 20,
    "start_time": "2023-09-22T18:30:47.735Z"
   },
   {
    "duration": 6,
    "start_time": "2023-09-22T18:30:47.757Z"
   },
   {
    "duration": 21,
    "start_time": "2023-09-22T18:30:47.765Z"
   },
   {
    "duration": 217,
    "start_time": "2023-09-22T18:30:47.787Z"
   },
   {
    "duration": 294,
    "start_time": "2023-09-22T18:30:48.006Z"
   },
   {
    "duration": 4,
    "start_time": "2023-09-22T18:30:48.302Z"
   },
   {
    "duration": 2111,
    "start_time": "2023-09-22T18:30:48.308Z"
   },
   {
    "duration": 48,
    "start_time": "2023-09-22T18:30:50.420Z"
   },
   {
    "duration": 72,
    "start_time": "2023-09-22T18:30:50.469Z"
   },
   {
    "duration": 42,
    "start_time": "2023-09-22T18:30:50.543Z"
   },
   {
    "duration": 53,
    "start_time": "2023-09-22T18:30:50.586Z"
   },
   {
    "duration": 42,
    "start_time": "2023-09-22T18:30:50.640Z"
   },
   {
    "duration": 25,
    "start_time": "2023-09-22T18:30:50.684Z"
   },
   {
    "duration": 22,
    "start_time": "2023-09-22T18:30:50.711Z"
   },
   {
    "duration": 18,
    "start_time": "2023-09-22T18:30:50.735Z"
   },
   {
    "duration": 34,
    "start_time": "2023-09-22T18:30:50.755Z"
   },
   {
    "duration": 54,
    "start_time": "2023-09-22T18:30:50.791Z"
   },
   {
    "duration": 20,
    "start_time": "2023-09-22T18:30:50.847Z"
   },
   {
    "duration": 18,
    "start_time": "2023-09-22T18:30:50.869Z"
   },
   {
    "duration": 3039,
    "start_time": "2023-09-22T18:30:50.889Z"
   },
   {
    "duration": 8,
    "start_time": "2023-09-22T18:30:53.930Z"
   },
   {
    "duration": 1388,
    "start_time": "2023-09-22T18:30:53.940Z"
   },
   {
    "duration": 902,
    "start_time": "2023-09-22T18:30:55.329Z"
   },
   {
    "duration": 7,
    "start_time": "2023-09-22T18:30:56.233Z"
   },
   {
    "duration": 37187,
    "start_time": "2023-09-22T18:30:56.242Z"
   },
   {
    "duration": 9,
    "start_time": "2023-09-22T18:31:33.431Z"
   },
   {
    "duration": 6,
    "start_time": "2023-09-22T18:31:33.442Z"
   },
   {
    "duration": 18,
    "start_time": "2023-09-22T18:31:33.449Z"
   },
   {
    "duration": 25,
    "start_time": "2023-09-22T18:31:33.470Z"
   },
   {
    "duration": 391142,
    "start_time": "2023-09-22T18:31:33.496Z"
   },
   {
    "duration": 16,
    "start_time": "2023-09-22T18:38:04.639Z"
   },
   {
    "duration": 6,
    "start_time": "2023-09-22T18:38:04.656Z"
   },
   {
    "duration": 5,
    "start_time": "2023-09-22T18:38:04.664Z"
   },
   {
    "duration": 6,
    "start_time": "2023-09-22T18:38:04.671Z"
   },
   {
    "duration": 253944,
    "start_time": "2023-09-22T18:38:04.679Z"
   },
   {
    "duration": 3,
    "start_time": "2023-09-22T18:42:18.625Z"
   },
   {
    "duration": 395840,
    "start_time": "2023-09-22T18:42:18.630Z"
   },
   {
    "duration": 11,
    "start_time": "2023-09-22T18:48:54.471Z"
   },
   {
    "duration": 26,
    "start_time": "2023-09-22T18:48:54.484Z"
   },
   {
    "duration": 65,
    "start_time": "2023-09-22T18:48:54.511Z"
   },
   {
    "duration": 13,
    "start_time": "2023-09-22T18:48:54.578Z"
   },
   {
    "duration": 8,
    "start_time": "2023-09-22T18:48:54.592Z"
   },
   {
    "duration": 13,
    "start_time": "2023-09-22T18:48:54.602Z"
   },
   {
    "duration": 11,
    "start_time": "2023-09-22T18:48:54.617Z"
   },
   {
    "duration": 14,
    "start_time": "2023-09-22T18:48:54.630Z"
   },
   {
    "duration": 358366,
    "start_time": "2023-09-22T18:48:54.645Z"
   },
   {
    "duration": 8,
    "start_time": "2023-09-22T18:54:53.014Z"
   },
   {
    "duration": 25,
    "start_time": "2023-09-22T18:54:53.024Z"
   },
   {
    "duration": 15,
    "start_time": "2023-09-22T18:54:53.052Z"
   },
   {
    "duration": 39,
    "start_time": "2023-09-22T18:54:53.069Z"
   },
   {
    "duration": 10,
    "start_time": "2023-09-22T18:54:53.110Z"
   },
   {
    "duration": 21,
    "start_time": "2023-09-22T18:54:53.122Z"
   },
   {
    "duration": 45,
    "start_time": "2023-09-22T18:54:53.145Z"
   },
   {
    "duration": 339798,
    "start_time": "2023-09-22T18:54:53.192Z"
   },
   {
    "duration": 6,
    "start_time": "2023-09-22T19:00:32.997Z"
   },
   {
    "duration": 210,
    "start_time": "2023-09-22T19:00:33.005Z"
   },
   {
    "duration": 39,
    "start_time": "2023-09-22T19:00:33.217Z"
   },
   {
    "duration": 70,
    "start_time": "2023-09-22T19:00:33.258Z"
   },
   {
    "duration": 3,
    "start_time": "2023-09-22T19:00:33.330Z"
   },
   {
    "duration": 25,
    "start_time": "2023-09-22T19:00:33.335Z"
   },
   {
    "duration": 347597,
    "start_time": "2023-09-22T19:00:33.362Z"
   },
   {
    "duration": 6,
    "start_time": "2023-09-22T19:06:20.960Z"
   },
   {
    "duration": 12,
    "start_time": "2023-09-22T19:06:20.967Z"
   },
   {
    "duration": 32,
    "start_time": "2023-09-22T19:06:20.980Z"
   },
   {
    "duration": 18,
    "start_time": "2023-09-22T19:06:21.014Z"
   },
   {
    "duration": 30,
    "start_time": "2023-09-22T19:06:21.034Z"
   },
   {
    "duration": 264934,
    "start_time": "2023-09-22T19:06:21.066Z"
   },
   {
    "duration": 0,
    "start_time": "2023-09-22T19:10:46.002Z"
   },
   {
    "duration": 0,
    "start_time": "2023-09-22T19:10:46.004Z"
   },
   {
    "duration": 0,
    "start_time": "2023-09-22T19:10:46.005Z"
   },
   {
    "duration": 0,
    "start_time": "2023-09-22T19:10:46.007Z"
   },
   {
    "duration": 0,
    "start_time": "2023-09-22T19:10:46.008Z"
   },
   {
    "duration": 0,
    "start_time": "2023-09-22T19:10:46.009Z"
   },
   {
    "duration": 0,
    "start_time": "2023-09-22T19:10:46.011Z"
   },
   {
    "duration": 0,
    "start_time": "2023-09-22T19:10:46.011Z"
   },
   {
    "duration": 0,
    "start_time": "2023-09-22T19:10:46.013Z"
   },
   {
    "duration": 0,
    "start_time": "2023-09-22T19:10:46.014Z"
   },
   {
    "duration": 0,
    "start_time": "2023-09-22T19:10:46.016Z"
   },
   {
    "duration": 0,
    "start_time": "2023-09-22T19:10:46.017Z"
   },
   {
    "duration": 0,
    "start_time": "2023-09-22T19:10:46.019Z"
   },
   {
    "duration": 0,
    "start_time": "2023-09-22T19:10:46.021Z"
   },
   {
    "duration": 0,
    "start_time": "2023-09-22T19:10:46.022Z"
   },
   {
    "duration": 0,
    "start_time": "2023-09-22T19:10:46.024Z"
   },
   {
    "duration": 0,
    "start_time": "2023-09-22T19:10:46.026Z"
   },
   {
    "duration": 0,
    "start_time": "2023-09-22T19:10:46.027Z"
   },
   {
    "duration": 0,
    "start_time": "2023-09-22T19:10:46.029Z"
   },
   {
    "duration": 0,
    "start_time": "2023-09-22T19:10:46.031Z"
   },
   {
    "duration": 0,
    "start_time": "2023-09-22T19:10:46.033Z"
   },
   {
    "duration": 0,
    "start_time": "2023-09-22T19:10:46.034Z"
   },
   {
    "duration": 0,
    "start_time": "2023-09-22T19:10:46.036Z"
   },
   {
    "duration": 0,
    "start_time": "2023-09-22T19:10:46.038Z"
   },
   {
    "duration": 0,
    "start_time": "2023-09-22T19:10:46.039Z"
   },
   {
    "duration": 0,
    "start_time": "2023-09-22T19:10:46.040Z"
   },
   {
    "duration": 0,
    "start_time": "2023-09-22T19:10:46.042Z"
   },
   {
    "duration": 0,
    "start_time": "2023-09-22T19:10:46.043Z"
   },
   {
    "duration": 0,
    "start_time": "2023-09-22T19:10:46.044Z"
   },
   {
    "duration": 0,
    "start_time": "2023-09-22T19:10:46.046Z"
   },
   {
    "duration": 0,
    "start_time": "2023-09-22T19:10:46.047Z"
   },
   {
    "duration": 0,
    "start_time": "2023-09-22T19:10:46.049Z"
   },
   {
    "duration": 0,
    "start_time": "2023-09-22T19:10:46.050Z"
   },
   {
    "duration": 0,
    "start_time": "2023-09-22T19:10:46.051Z"
   },
   {
    "duration": 0,
    "start_time": "2023-09-22T19:10:46.052Z"
   },
   {
    "duration": 0,
    "start_time": "2023-09-22T19:10:46.053Z"
   },
   {
    "duration": 0,
    "start_time": "2023-09-22T19:10:46.054Z"
   },
   {
    "duration": 0,
    "start_time": "2023-09-22T19:10:46.055Z"
   },
   {
    "duration": 0,
    "start_time": "2023-09-22T19:10:46.056Z"
   },
   {
    "duration": 0,
    "start_time": "2023-09-22T19:10:46.057Z"
   },
   {
    "duration": 0,
    "start_time": "2023-09-22T19:10:46.058Z"
   },
   {
    "duration": 0,
    "start_time": "2023-09-22T19:10:46.059Z"
   },
   {
    "duration": 0,
    "start_time": "2023-09-22T19:10:46.060Z"
   },
   {
    "duration": 0,
    "start_time": "2023-09-22T19:10:46.061Z"
   },
   {
    "duration": 0,
    "start_time": "2023-09-22T19:10:46.062Z"
   },
   {
    "duration": 0,
    "start_time": "2023-09-22T19:10:46.063Z"
   },
   {
    "duration": 0,
    "start_time": "2023-09-22T19:10:46.124Z"
   },
   {
    "duration": 0,
    "start_time": "2023-09-22T19:10:46.125Z"
   },
   {
    "duration": 0,
    "start_time": "2023-09-22T19:10:46.127Z"
   },
   {
    "duration": 0,
    "start_time": "2023-09-22T19:10:46.128Z"
   },
   {
    "duration": 0,
    "start_time": "2023-09-22T19:10:46.129Z"
   },
   {
    "duration": 4,
    "start_time": "2023-09-22T19:10:47.346Z"
   },
   {
    "duration": 7,
    "start_time": "2023-09-22T19:10:47.655Z"
   },
   {
    "duration": 13903,
    "start_time": "2023-09-22T19:10:47.878Z"
   },
   {
    "duration": 0,
    "start_time": "2023-09-22T19:11:01.784Z"
   },
   {
    "duration": 0,
    "start_time": "2023-09-22T19:11:01.786Z"
   },
   {
    "duration": 0,
    "start_time": "2023-09-22T19:11:01.787Z"
   },
   {
    "duration": 0,
    "start_time": "2023-09-22T19:11:01.789Z"
   },
   {
    "duration": 0,
    "start_time": "2023-09-22T19:11:01.790Z"
   },
   {
    "duration": 0,
    "start_time": "2023-09-22T19:11:01.792Z"
   },
   {
    "duration": 0,
    "start_time": "2023-09-22T19:11:01.793Z"
   },
   {
    "duration": 0,
    "start_time": "2023-09-22T19:11:01.795Z"
   },
   {
    "duration": 0,
    "start_time": "2023-09-22T19:11:01.796Z"
   },
   {
    "duration": 0,
    "start_time": "2023-09-22T19:11:01.798Z"
   },
   {
    "duration": 0,
    "start_time": "2023-09-22T19:11:01.799Z"
   },
   {
    "duration": 0,
    "start_time": "2023-09-22T19:11:01.801Z"
   },
   {
    "duration": 0,
    "start_time": "2023-09-22T19:11:01.802Z"
   },
   {
    "duration": 0,
    "start_time": "2023-09-22T19:11:01.804Z"
   },
   {
    "duration": 0,
    "start_time": "2023-09-22T19:11:01.806Z"
   },
   {
    "duration": 0,
    "start_time": "2023-09-22T19:11:01.807Z"
   },
   {
    "duration": 1,
    "start_time": "2023-09-22T19:11:01.808Z"
   },
   {
    "duration": 0,
    "start_time": "2023-09-22T19:11:01.810Z"
   },
   {
    "duration": 0,
    "start_time": "2023-09-22T19:11:01.811Z"
   },
   {
    "duration": 0,
    "start_time": "2023-09-22T19:11:01.812Z"
   },
   {
    "duration": 0,
    "start_time": "2023-09-22T19:11:01.813Z"
   },
   {
    "duration": 0,
    "start_time": "2023-09-22T19:11:01.814Z"
   },
   {
    "duration": 0,
    "start_time": "2023-09-22T19:11:01.815Z"
   },
   {
    "duration": 0,
    "start_time": "2023-09-22T19:11:01.816Z"
   },
   {
    "duration": 0,
    "start_time": "2023-09-22T19:11:01.818Z"
   },
   {
    "duration": 0,
    "start_time": "2023-09-22T19:11:01.819Z"
   },
   {
    "duration": 0,
    "start_time": "2023-09-22T19:11:01.819Z"
   },
   {
    "duration": 0,
    "start_time": "2023-09-22T19:11:01.820Z"
   },
   {
    "duration": 0,
    "start_time": "2023-09-22T19:11:01.823Z"
   },
   {
    "duration": 0,
    "start_time": "2023-09-22T19:11:01.824Z"
   },
   {
    "duration": 0,
    "start_time": "2023-09-22T19:11:01.825Z"
   },
   {
    "duration": 0,
    "start_time": "2023-09-22T19:11:01.826Z"
   },
   {
    "duration": 0,
    "start_time": "2023-09-22T19:11:01.827Z"
   },
   {
    "duration": 0,
    "start_time": "2023-09-22T19:11:01.828Z"
   },
   {
    "duration": 212413,
    "start_time": "2023-09-22T19:11:14.793Z"
   },
   {
    "duration": 6,
    "start_time": "2023-09-22T19:14:47.208Z"
   },
   {
    "duration": 73,
    "start_time": "2023-09-22T19:14:47.215Z"
   },
   {
    "duration": 85,
    "start_time": "2023-09-22T19:14:47.290Z"
   },
   {
    "duration": 54,
    "start_time": "2023-09-22T19:14:47.377Z"
   },
   {
    "duration": 27,
    "start_time": "2023-09-22T19:14:47.432Z"
   },
   {
    "duration": 100,
    "start_time": "2023-09-22T19:14:47.461Z"
   },
   {
    "duration": 293952,
    "start_time": "2023-09-22T19:14:47.565Z"
   },
   {
    "duration": 7,
    "start_time": "2023-09-22T19:19:41.519Z"
   },
   {
    "duration": 16,
    "start_time": "2023-09-22T19:19:41.528Z"
   },
   {
    "duration": 9,
    "start_time": "2023-09-22T19:19:41.546Z"
   },
   {
    "duration": 25,
    "start_time": "2023-09-22T19:19:41.556Z"
   },
   {
    "duration": 6,
    "start_time": "2023-09-22T19:19:41.582Z"
   },
   {
    "duration": 9,
    "start_time": "2023-09-22T19:19:41.590Z"
   },
   {
    "duration": 262406,
    "start_time": "2023-09-22T19:19:41.601Z"
   },
   {
    "duration": 5,
    "start_time": "2023-09-22T19:24:04.009Z"
   },
   {
    "duration": 28,
    "start_time": "2023-09-22T19:24:04.015Z"
   },
   {
    "duration": 16,
    "start_time": "2023-09-22T19:24:04.044Z"
   },
   {
    "duration": 36,
    "start_time": "2023-09-22T19:24:04.062Z"
   },
   {
    "duration": 39,
    "start_time": "2023-09-22T19:24:04.099Z"
   },
   {
    "duration": 16,
    "start_time": "2023-09-22T19:24:04.140Z"
   },
   {
    "duration": 372660,
    "start_time": "2023-09-22T19:24:04.158Z"
   },
   {
    "duration": 13,
    "start_time": "2023-09-22T19:30:16.820Z"
   },
   {
    "duration": 8,
    "start_time": "2023-09-22T19:30:16.835Z"
   },
   {
    "duration": 14,
    "start_time": "2023-09-22T19:30:16.845Z"
   },
   {
    "duration": 0,
    "start_time": "2023-09-22T19:30:16.862Z"
   },
   {
    "duration": 0,
    "start_time": "2023-09-22T19:30:16.863Z"
   },
   {
    "duration": 0,
    "start_time": "2023-09-22T19:30:16.864Z"
   },
   {
    "duration": 0,
    "start_time": "2023-09-22T19:30:16.865Z"
   },
   {
    "duration": 0,
    "start_time": "2023-09-22T19:30:16.866Z"
   },
   {
    "duration": 0,
    "start_time": "2023-09-22T19:30:16.867Z"
   },
   {
    "duration": 0,
    "start_time": "2023-09-22T19:30:16.868Z"
   },
   {
    "duration": 0,
    "start_time": "2023-09-22T19:30:16.869Z"
   },
   {
    "duration": 0,
    "start_time": "2023-09-22T19:30:16.870Z"
   },
   {
    "duration": 0,
    "start_time": "2023-09-22T19:30:16.871Z"
   },
   {
    "duration": 0,
    "start_time": "2023-09-22T19:30:16.872Z"
   },
   {
    "duration": 0,
    "start_time": "2023-09-22T19:30:16.873Z"
   },
   {
    "duration": 0,
    "start_time": "2023-09-22T19:30:16.875Z"
   },
   {
    "duration": 0,
    "start_time": "2023-09-22T19:30:16.876Z"
   },
   {
    "duration": 0,
    "start_time": "2023-09-22T19:30:16.877Z"
   },
   {
    "duration": 0,
    "start_time": "2023-09-22T19:30:16.878Z"
   },
   {
    "duration": 0,
    "start_time": "2023-09-22T19:30:16.879Z"
   },
   {
    "duration": 0,
    "start_time": "2023-09-22T19:30:16.881Z"
   },
   {
    "duration": 0,
    "start_time": "2023-09-22T19:30:16.882Z"
   },
   {
    "duration": 0,
    "start_time": "2023-09-22T19:30:16.883Z"
   },
   {
    "duration": 0,
    "start_time": "2023-09-22T19:30:16.924Z"
   },
   {
    "duration": 11,
    "start_time": "2023-09-22T20:15:19.593Z"
   },
   {
    "duration": 4,
    "start_time": "2023-09-22T20:15:33.721Z"
   },
   {
    "duration": 10,
    "start_time": "2023-09-22T20:15:36.089Z"
   },
   {
    "duration": 4,
    "start_time": "2023-09-22T20:15:49.577Z"
   },
   {
    "duration": 12,
    "start_time": "2023-09-22T20:15:51.212Z"
   },
   {
    "duration": 4,
    "start_time": "2023-09-22T20:16:05.336Z"
   },
   {
    "duration": 71423,
    "start_time": "2023-09-22T20:16:05.343Z"
   },
   {
    "duration": 12,
    "start_time": "2023-09-22T20:17:16.768Z"
   },
   {
    "duration": 4,
    "start_time": "2023-09-22T20:17:16.782Z"
   },
   {
    "duration": 81126,
    "start_time": "2023-09-22T20:17:16.787Z"
   },
   {
    "duration": 14,
    "start_time": "2023-09-22T20:18:37.915Z"
   },
   {
    "duration": 97,
    "start_time": "2023-09-22T20:18:37.930Z"
   },
   {
    "duration": 5,
    "start_time": "2023-09-22T20:18:38.029Z"
   },
   {
    "duration": 15,
    "start_time": "2023-09-22T20:18:38.036Z"
   },
   {
    "duration": 81995,
    "start_time": "2023-09-22T20:18:38.053Z"
   },
   {
    "duration": 14,
    "start_time": "2023-09-22T20:20:00.049Z"
   },
   {
    "duration": 27,
    "start_time": "2023-09-22T20:20:00.065Z"
   },
   {
    "duration": 85521,
    "start_time": "2023-09-22T20:20:00.093Z"
   },
   {
    "duration": 25,
    "start_time": "2023-09-22T20:21:25.616Z"
   },
   {
    "duration": 93,
    "start_time": "2023-09-22T20:21:25.642Z"
   },
   {
    "duration": 8,
    "start_time": "2023-09-22T20:21:25.740Z"
   },
   {
    "duration": 25,
    "start_time": "2023-09-22T20:21:25.750Z"
   },
   {
    "duration": 10,
    "start_time": "2023-09-22T20:21:25.777Z"
   },
   {
    "duration": 124,
    "start_time": "2023-09-22T20:21:25.788Z"
   },
   {
    "duration": 6,
    "start_time": "2023-09-22T20:21:25.915Z"
   },
   {
    "duration": 6,
    "start_time": "2023-09-22T20:21:42.381Z"
   }
  ],
  "kernelspec": {
   "display_name": "Python 3 (ipykernel)",
   "language": "python",
   "name": "python3"
  },
  "language_info": {
   "codemirror_mode": {
    "name": "ipython",
    "version": 3
   },
   "file_extension": ".py",
   "mimetype": "text/x-python",
   "name": "python",
   "nbconvert_exporter": "python",
   "pygments_lexer": "ipython3",
   "version": "3.9.5"
  },
  "toc": {
   "base_numbering": 1,
   "nav_menu": {},
   "number_sections": true,
   "sideBar": true,
   "skip_h1_title": true,
   "title_cell": "Содержание",
   "title_sidebar": "Contents",
   "toc_cell": true,
   "toc_position": {
    "height": "calc(100% - 180px)",
    "left": "10px",
    "top": "150px",
    "width": "369.375px"
   },
   "toc_section_display": true,
   "toc_window_display": true
  }
 },
 "nbformat": 4,
 "nbformat_minor": 2
}
