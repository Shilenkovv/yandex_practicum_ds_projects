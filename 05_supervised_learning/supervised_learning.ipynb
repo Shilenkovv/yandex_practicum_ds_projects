{
 "cells": [
  {
   "cell_type": "markdown",
   "metadata": {
    "toc": true
   },
   "source": [
    "<h1>Содержание<span class=\"tocSkip\"></span></h1>\n",
    "<div class=\"toc\"><ul class=\"toc-item\"><li><span><a href=\"#Подготовка-данных\" data-toc-modified-id=\"Подготовка-данных-1\"><span class=\"toc-item-num\">1&nbsp;&nbsp;</span>Подготовка данных</a></span></li><li><span><a href=\"#Исследование-задачи\" data-toc-modified-id=\"Исследование-задачи-2\"><span class=\"toc-item-num\">2&nbsp;&nbsp;</span>Исследование задачи</a></span></li><li><span><a href=\"#Борьба-с-дисбалансом\" data-toc-modified-id=\"Борьба-с-дисбалансом-3\"><span class=\"toc-item-num\">3&nbsp;&nbsp;</span>Борьба с дисбалансом</a></span></li><li><span><a href=\"#Тестирование-модели\" data-toc-modified-id=\"Тестирование-модели-4\"><span class=\"toc-item-num\">4&nbsp;&nbsp;</span>Тестирование модели</a></span></li><li><span><a href=\"#Вывод\" data-toc-modified-id=\"Вывод-5\"><span class=\"toc-item-num\">5&nbsp;&nbsp;</span>Вывод</a></span></li></ul></div>"
   ]
  },
  {
   "cell_type": "markdown",
   "metadata": {},
   "source": [
    "# Отток клиентов"
   ]
  },
  {
   "cell_type": "markdown",
   "metadata": {},
   "source": [
    "Из «Бета-Банка» стали уходить клиенты. Каждый месяц. Немного, но заметно. Банковские маркетологи посчитали: сохранять текущих клиентов дешевле, чем привлекать новых.\n",
    "\n",
    "Нужно спрогнозировать, уйдёт клиент из банка в ближайшее время или нет. Нам предоставлены исторические данные о поведении клиентов и расторжении договоров с банком. \n",
    "\n",
    "Построим модель с значением *F1*-мерыне менее 0.59. Проверим *F1*-меру на тестовой выборке.\n",
    "\n",
    "Дополнительно измерим *AUC-ROC*.\n",
    "\n",
    "Источник данных: [https://www.kaggle.com/barelydedicated/bank-customer-churn-modeling](https://www.kaggle.com/barelydedicated/bank-customer-churn-modeling)"
   ]
  },
  {
   "cell_type": "markdown",
   "metadata": {},
   "source": [
    "## Подготовка данных"
   ]
  },
  {
   "cell_type": "code",
   "execution_count": 1,
   "metadata": {},
   "outputs": [],
   "source": [
    "#! pip install imblearn"
   ]
  },
  {
   "cell_type": "code",
   "execution_count": 2,
   "metadata": {},
   "outputs": [],
   "source": [
    "import pandas as pd\n",
    "\n",
    "import numpy as np\n",
    "\n",
    "import seaborn as sns\n",
    "\n",
    "import sklearn\n",
    "from sklearn.model_selection import train_test_split\n",
    "from sklearn.preprocessing import StandardScaler, OneHotEncoder\n",
    "from sklearn.linear_model import LogisticRegression\n",
    "from sklearn.ensemble import RandomForestClassifier\n",
    "from sklearn.dummy import DummyClassifier\n",
    "from sklearn.metrics import f1_score, roc_curve, confusion_matrix, recall_score, precision_score, roc_auc_score, accuracy_score, ConfusionMatrixDisplay\n",
    "from sklearn.utils import shuffle\n",
    "from sklearn.svm import SVC\n",
    "\n",
    "import matplotlib.pyplot as plt\n",
    "\n",
    "from catboost import CatBoostClassifier\n",
    "\n",
    "import imblearn\n",
    "from imblearn.over_sampling import SMOTE\n",
    "\n",
    "import phik\n",
    "from phik import report\n",
    "from phik.report import plot_correlation_matrix\n",
    "\n",
    "import warnings"
   ]
  },
  {
   "cell_type": "code",
   "execution_count": 3,
   "metadata": {},
   "outputs": [],
   "source": [
    "warnings.filterwarnings(\"ignore\")"
   ]
  },
  {
   "cell_type": "code",
   "execution_count": 4,
   "metadata": {},
   "outputs": [],
   "source": [
    "pd.options.mode.chained_assignment = None"
   ]
  },
  {
   "cell_type": "code",
   "execution_count": 5,
   "metadata": {},
   "outputs": [
    {
     "data": {
      "text/html": [
       "<div>\n",
       "<style scoped>\n",
       "    .dataframe tbody tr th:only-of-type {\n",
       "        vertical-align: middle;\n",
       "    }\n",
       "\n",
       "    .dataframe tbody tr th {\n",
       "        vertical-align: top;\n",
       "    }\n",
       "\n",
       "    .dataframe thead th {\n",
       "        text-align: right;\n",
       "    }\n",
       "</style>\n",
       "<table border=\"1\" class=\"dataframe\">\n",
       "  <thead>\n",
       "    <tr style=\"text-align: right;\">\n",
       "      <th></th>\n",
       "      <th>RowNumber</th>\n",
       "      <th>CustomerId</th>\n",
       "      <th>Surname</th>\n",
       "      <th>CreditScore</th>\n",
       "      <th>Geography</th>\n",
       "      <th>Gender</th>\n",
       "      <th>Age</th>\n",
       "      <th>Tenure</th>\n",
       "      <th>Balance</th>\n",
       "      <th>NumOfProducts</th>\n",
       "      <th>HasCrCard</th>\n",
       "      <th>IsActiveMember</th>\n",
       "      <th>EstimatedSalary</th>\n",
       "      <th>Exited</th>\n",
       "    </tr>\n",
       "  </thead>\n",
       "  <tbody>\n",
       "    <tr>\n",
       "      <th>0</th>\n",
       "      <td>1</td>\n",
       "      <td>15634602</td>\n",
       "      <td>Hargrave</td>\n",
       "      <td>619</td>\n",
       "      <td>France</td>\n",
       "      <td>Female</td>\n",
       "      <td>42</td>\n",
       "      <td>2.0</td>\n",
       "      <td>0.00</td>\n",
       "      <td>1</td>\n",
       "      <td>1</td>\n",
       "      <td>1</td>\n",
       "      <td>101348.88</td>\n",
       "      <td>1</td>\n",
       "    </tr>\n",
       "    <tr>\n",
       "      <th>1</th>\n",
       "      <td>2</td>\n",
       "      <td>15647311</td>\n",
       "      <td>Hill</td>\n",
       "      <td>608</td>\n",
       "      <td>Spain</td>\n",
       "      <td>Female</td>\n",
       "      <td>41</td>\n",
       "      <td>1.0</td>\n",
       "      <td>83807.86</td>\n",
       "      <td>1</td>\n",
       "      <td>0</td>\n",
       "      <td>1</td>\n",
       "      <td>112542.58</td>\n",
       "      <td>0</td>\n",
       "    </tr>\n",
       "    <tr>\n",
       "      <th>2</th>\n",
       "      <td>3</td>\n",
       "      <td>15619304</td>\n",
       "      <td>Onio</td>\n",
       "      <td>502</td>\n",
       "      <td>France</td>\n",
       "      <td>Female</td>\n",
       "      <td>42</td>\n",
       "      <td>8.0</td>\n",
       "      <td>159660.80</td>\n",
       "      <td>3</td>\n",
       "      <td>1</td>\n",
       "      <td>0</td>\n",
       "      <td>113931.57</td>\n",
       "      <td>1</td>\n",
       "    </tr>\n",
       "    <tr>\n",
       "      <th>3</th>\n",
       "      <td>4</td>\n",
       "      <td>15701354</td>\n",
       "      <td>Boni</td>\n",
       "      <td>699</td>\n",
       "      <td>France</td>\n",
       "      <td>Female</td>\n",
       "      <td>39</td>\n",
       "      <td>1.0</td>\n",
       "      <td>0.00</td>\n",
       "      <td>2</td>\n",
       "      <td>0</td>\n",
       "      <td>0</td>\n",
       "      <td>93826.63</td>\n",
       "      <td>0</td>\n",
       "    </tr>\n",
       "    <tr>\n",
       "      <th>4</th>\n",
       "      <td>5</td>\n",
       "      <td>15737888</td>\n",
       "      <td>Mitchell</td>\n",
       "      <td>850</td>\n",
       "      <td>Spain</td>\n",
       "      <td>Female</td>\n",
       "      <td>43</td>\n",
       "      <td>2.0</td>\n",
       "      <td>125510.82</td>\n",
       "      <td>1</td>\n",
       "      <td>1</td>\n",
       "      <td>1</td>\n",
       "      <td>79084.10</td>\n",
       "      <td>0</td>\n",
       "    </tr>\n",
       "  </tbody>\n",
       "</table>\n",
       "</div>"
      ],
      "text/plain": [
       "   RowNumber  CustomerId   Surname  CreditScore Geography  Gender  Age  \\\n",
       "0          1    15634602  Hargrave          619    France  Female   42   \n",
       "1          2    15647311      Hill          608     Spain  Female   41   \n",
       "2          3    15619304      Onio          502    France  Female   42   \n",
       "3          4    15701354      Boni          699    France  Female   39   \n",
       "4          5    15737888  Mitchell          850     Spain  Female   43   \n",
       "\n",
       "   Tenure    Balance  NumOfProducts  HasCrCard  IsActiveMember  \\\n",
       "0     2.0       0.00              1          1               1   \n",
       "1     1.0   83807.86              1          0               1   \n",
       "2     8.0  159660.80              3          1               0   \n",
       "3     1.0       0.00              2          0               0   \n",
       "4     2.0  125510.82              1          1               1   \n",
       "\n",
       "   EstimatedSalary  Exited  \n",
       "0        101348.88       1  \n",
       "1        112542.58       0  \n",
       "2        113931.57       1  \n",
       "3         93826.63       0  \n",
       "4         79084.10       0  "
      ]
     },
     "metadata": {},
     "output_type": "display_data"
    }
   ],
   "source": [
    "df = pd.read_csv('/datasets/Churn.csv')\n",
    "display(df.head())"
   ]
  },
  {
   "cell_type": "code",
   "execution_count": 6,
   "metadata": {},
   "outputs": [
    {
     "name": "stdout",
     "output_type": "stream",
     "text": [
      "<class 'pandas.core.frame.DataFrame'>\n",
      "RangeIndex: 10000 entries, 0 to 9999\n",
      "Data columns (total 14 columns):\n",
      " #   Column           Non-Null Count  Dtype  \n",
      "---  ------           --------------  -----  \n",
      " 0   RowNumber        10000 non-null  int64  \n",
      " 1   CustomerId       10000 non-null  int64  \n",
      " 2   Surname          10000 non-null  object \n",
      " 3   CreditScore      10000 non-null  int64  \n",
      " 4   Geography        10000 non-null  object \n",
      " 5   Gender           10000 non-null  object \n",
      " 6   Age              10000 non-null  int64  \n",
      " 7   Tenure           9091 non-null   float64\n",
      " 8   Balance          10000 non-null  float64\n",
      " 9   NumOfProducts    10000 non-null  int64  \n",
      " 10  HasCrCard        10000 non-null  int64  \n",
      " 11  IsActiveMember   10000 non-null  int64  \n",
      " 12  EstimatedSalary  10000 non-null  float64\n",
      " 13  Exited           10000 non-null  int64  \n",
      "dtypes: float64(3), int64(8), object(3)\n",
      "memory usage: 1.1+ MB\n"
     ]
    }
   ],
   "source": [
    "df.info()"
   ]
  },
  {
   "cell_type": "markdown",
   "metadata": {},
   "source": [
    "Данные в основном в формате чисел, за исключением фамилии клиента, страны проживания, пола.  \n",
    "Присутствует около 10% пропусков в данных срока жизни клиента в банке."
   ]
  },
  {
   "cell_type": "code",
   "execution_count": 7,
   "metadata": {},
   "outputs": [],
   "source": [
    "# Заменим пропуски медианным значением по комбинации Age + Geography\n",
    "\n",
    "for age in df['Age'].unique():\n",
    "    for geo in df['Geography'].unique():\n",
    "        df.loc[(df['Age'] == age) & (df['Geography'] == geo) & (df['Tenure'].isna()), 'Tenure'] = \\\n",
    "        df.loc[(df['Age'] == age) & (df['Geography'] == geo), 'Tenure'].median()"
   ]
  },
  {
   "cell_type": "code",
   "execution_count": 8,
   "metadata": {},
   "outputs": [
    {
     "name": "stdout",
     "output_type": "stream",
     "text": [
      "<class 'pandas.core.frame.DataFrame'>\n",
      "RangeIndex: 10000 entries, 0 to 9999\n",
      "Data columns (total 14 columns):\n",
      " #   Column           Non-Null Count  Dtype  \n",
      "---  ------           --------------  -----  \n",
      " 0   RowNumber        10000 non-null  int64  \n",
      " 1   CustomerId       10000 non-null  int64  \n",
      " 2   Surname          10000 non-null  object \n",
      " 3   CreditScore      10000 non-null  int64  \n",
      " 4   Geography        10000 non-null  object \n",
      " 5   Gender           10000 non-null  object \n",
      " 6   Age              10000 non-null  int64  \n",
      " 7   Tenure           10000 non-null  float64\n",
      " 8   Balance          10000 non-null  float64\n",
      " 9   NumOfProducts    10000 non-null  int64  \n",
      " 10  HasCrCard        10000 non-null  int64  \n",
      " 11  IsActiveMember   10000 non-null  int64  \n",
      " 12  EstimatedSalary  10000 non-null  float64\n",
      " 13  Exited           10000 non-null  int64  \n",
      "dtypes: float64(3), int64(8), object(3)\n",
      "memory usage: 1.1+ MB\n"
     ]
    }
   ],
   "source": [
    "df.info()"
   ]
  },
  {
   "cell_type": "code",
   "execution_count": 9,
   "metadata": {},
   "outputs": [
    {
     "data": {
      "image/png": "[encoded data removed]",
      "text/plain": [
       "<Figure size 864x595.44 with 2 Axes>"
      ]
     },
     "metadata": {},
     "output_type": "display_data"
    }
   ],
   "source": [
    "sns.set(rc={'figure.figsize':(12, 8.27)})\n",
    "numeric = ['CreditScore', 'Age', 'Tenure', 'Balance', 'NumOfProducts', 'EstimatedSalary']\n",
    "corr = df[numeric].corr()\n",
    "sns.heatmap(corr, cmap=\"Blues\", annot=True);"
   ]
  },
  {
   "cell_type": "markdown",
   "metadata": {},
   "source": [
    "Мультиколлинеарность отсутствует"
   ]
  },
  {
   "cell_type": "code",
   "execution_count": 10,
   "metadata": {},
   "outputs": [],
   "source": [
    "# Избавимся от столбцов с индексами и фамилиями клиентов (присутствутет уникальный идентификатор CustomerId)\n",
    "\n",
    "df = df.drop(['RowNumber', 'Surname'], axis=1)"
   ]
  },
  {
   "cell_type": "code",
   "execution_count": 11,
   "metadata": {},
   "outputs": [
    {
     "name": "stdout",
     "output_type": "stream",
     "text": [
      "            CreditScore Geography  Gender  Age  Tenure    Balance  \\\n",
      "CustomerId                                                          \n",
      "15634602            619    France  Female   42     2.0       0.00   \n",
      "15647311            608     Spain  Female   41     1.0   83807.86   \n",
      "15619304            502    France  Female   42     8.0  159660.80   \n",
      "15701354            699    France  Female   39     1.0       0.00   \n",
      "15737888            850     Spain  Female   43     2.0  125510.82   \n",
      "\n",
      "            NumOfProducts  HasCrCard  IsActiveMember  EstimatedSalary  Exited  \n",
      "CustomerId                                                                     \n",
      "15634602                1          1               1        101348.88       1  \n",
      "15647311                1          0               1        112542.58       0  \n",
      "15619304                3          1               0        113931.57       1  \n",
      "15701354                2          0               0         93826.63       0  \n",
      "15737888                1          1               1         79084.10       0  \n"
     ]
    }
   ],
   "source": [
    "# Сделаем столбцец с уникальным идентификатором индексом таблицы\n",
    "\n",
    "df = df.set_index('CustomerId')\n",
    "print(df.head())"
   ]
  },
  {
   "cell_type": "code",
   "execution_count": 12,
   "metadata": {},
   "outputs": [
    {
     "name": "stdout",
     "output_type": "stream",
     "text": [
      "Формат обучающих выборок: (6000, 11), (6000,)\n",
      "Формат валидационных выборок: (2000, 11), (2000,)\n",
      "Формат тестовых выборок: (2000, 11), (2000,)\n"
     ]
    }
   ],
   "source": [
    "# Разобьём данные на обучающую, валидационную и тестовую выборки, переведём категориальные признаки в цифровые, \n",
    "# а также масштабируем численные признаки.\n",
    "\n",
    "df_ohe = pd.get_dummies(df, drop_first=True)\n",
    "features = df_ohe.drop('Exited', axis=1)\n",
    "target = df_ohe['Exited']\n",
    "\n",
    "#features = df.drop('Exited', axis=1)\n",
    "#target = df['Exited']\n",
    "\n",
    "features_train, features_valid_test, target_train, target_valid_test = train_test_split(features, target, test_size=0.4, random_state=11363, stratify=target)\n",
    "features_valid, features_test, target_valid, target_test = train_test_split(features_valid_test, target_valid_test, test_size=0.5, random_state=11363, stratify=target_valid_test)\n",
    "numeric = ['CreditScore', 'Age', 'Tenure', 'Balance', 'EstimatedSalary']\n",
    "\n",
    "#encoder = OneHotEncoder(handle_unknown ='ignore')\n",
    "#encoder.fit(features_train)\n",
    "#features_train = encoder.transform(features_train)\n",
    "#features_valid = encoder.transform(features_valid)\n",
    "#features_test = encoder.transform(features_test)\n",
    "\n",
    "scaler = StandardScaler()\n",
    "scaler.fit(features_train[numeric])\n",
    "features_train[numeric] = scaler.transform(features_train[numeric])\n",
    "features_valid[numeric] = scaler.transform(features_valid[numeric])\n",
    "features_test[numeric] = scaler.transform(features_test[numeric])\n",
    "\n",
    "print(f'Формат обучающих выборок: {features_train.shape}, {target_train.shape}')\n",
    "print(f'Формат валидационных выборок: {features_valid.shape}, {target_valid.shape}')\n",
    "print(f'Формат тестовых выборок: {features_test.shape}, {target_test.shape}')"
   ]
  },
  {
   "cell_type": "code",
   "execution_count": 13,
   "metadata": {},
   "outputs": [
    {
     "data": {
      "text/html": [
       "<div>\n",
       "<style scoped>\n",
       "    .dataframe tbody tr th:only-of-type {\n",
       "        vertical-align: middle;\n",
       "    }\n",
       "\n",
       "    .dataframe tbody tr th {\n",
       "        vertical-align: top;\n",
       "    }\n",
       "\n",
       "    .dataframe thead th {\n",
       "        text-align: right;\n",
       "    }\n",
       "</style>\n",
       "<table border=\"1\" class=\"dataframe\">\n",
       "  <thead>\n",
       "    <tr style=\"text-align: right;\">\n",
       "      <th></th>\n",
       "      <th>CreditScore</th>\n",
       "      <th>Age</th>\n",
       "      <th>Tenure</th>\n",
       "      <th>Balance</th>\n",
       "      <th>NumOfProducts</th>\n",
       "      <th>HasCrCard</th>\n",
       "      <th>IsActiveMember</th>\n",
       "      <th>EstimatedSalary</th>\n",
       "      <th>Geography_Germany</th>\n",
       "      <th>Geography_Spain</th>\n",
       "      <th>Gender_Male</th>\n",
       "    </tr>\n",
       "    <tr>\n",
       "      <th>CustomerId</th>\n",
       "      <th></th>\n",
       "      <th></th>\n",
       "      <th></th>\n",
       "      <th></th>\n",
       "      <th></th>\n",
       "      <th></th>\n",
       "      <th></th>\n",
       "      <th></th>\n",
       "      <th></th>\n",
       "      <th></th>\n",
       "      <th></th>\n",
       "    </tr>\n",
       "  </thead>\n",
       "  <tbody>\n",
       "    <tr>\n",
       "      <th>15660768</th>\n",
       "      <td>-0.484203</td>\n",
       "      <td>0.113919</td>\n",
       "      <td>-1.442161</td>\n",
       "      <td>0.110878</td>\n",
       "      <td>1</td>\n",
       "      <td>0</td>\n",
       "      <td>0</td>\n",
       "      <td>-1.099484</td>\n",
       "      <td>0</td>\n",
       "      <td>0</td>\n",
       "      <td>1</td>\n",
       "    </tr>\n",
       "    <tr>\n",
       "      <th>15660980</th>\n",
       "      <td>-0.557295</td>\n",
       "      <td>-0.078620</td>\n",
       "      <td>0.368727</td>\n",
       "      <td>0.612687</td>\n",
       "      <td>2</td>\n",
       "      <td>1</td>\n",
       "      <td>1</td>\n",
       "      <td>-1.293613</td>\n",
       "      <td>0</td>\n",
       "      <td>1</td>\n",
       "      <td>1</td>\n",
       "    </tr>\n",
       "    <tr>\n",
       "      <th>15574584</th>\n",
       "      <td>0.204950</td>\n",
       "      <td>-0.559969</td>\n",
       "      <td>1.093082</td>\n",
       "      <td>0.788182</td>\n",
       "      <td>1</td>\n",
       "      <td>1</td>\n",
       "      <td>1</td>\n",
       "      <td>-1.043039</td>\n",
       "      <td>0</td>\n",
       "      <td>0</td>\n",
       "      <td>1</td>\n",
       "    </tr>\n",
       "    <tr>\n",
       "      <th>15777033</th>\n",
       "      <td>-1.319541</td>\n",
       "      <td>-0.945048</td>\n",
       "      <td>0.730904</td>\n",
       "      <td>-1.237106</td>\n",
       "      <td>2</td>\n",
       "      <td>1</td>\n",
       "      <td>1</td>\n",
       "      <td>0.106018</td>\n",
       "      <td>0</td>\n",
       "      <td>0</td>\n",
       "      <td>1</td>\n",
       "    </tr>\n",
       "    <tr>\n",
       "      <th>15751549</th>\n",
       "      <td>0.079649</td>\n",
       "      <td>-0.752509</td>\n",
       "      <td>-1.079983</td>\n",
       "      <td>-0.004749</td>\n",
       "      <td>2</td>\n",
       "      <td>0</td>\n",
       "      <td>0</td>\n",
       "      <td>-1.495172</td>\n",
       "      <td>1</td>\n",
       "      <td>0</td>\n",
       "      <td>1</td>\n",
       "    </tr>\n",
       "  </tbody>\n",
       "</table>\n",
       "</div>"
      ],
      "text/plain": [
       "            CreditScore       Age    Tenure   Balance  NumOfProducts  \\\n",
       "CustomerId                                                             \n",
       "15660768      -0.484203  0.113919 -1.442161  0.110878              1   \n",
       "15660980      -0.557295 -0.078620  0.368727  0.612687              2   \n",
       "15574584       0.204950 -0.559969  1.093082  0.788182              1   \n",
       "15777033      -1.319541 -0.945048  0.730904 -1.237106              2   \n",
       "15751549       0.079649 -0.752509 -1.079983 -0.004749              2   \n",
       "\n",
       "            HasCrCard  IsActiveMember  EstimatedSalary  Geography_Germany  \\\n",
       "CustomerId                                                                  \n",
       "15660768            0               0        -1.099484                  0   \n",
       "15660980            1               1        -1.293613                  0   \n",
       "15574584            1               1        -1.043039                  0   \n",
       "15777033            1               1         0.106018                  0   \n",
       "15751549            0               0        -1.495172                  1   \n",
       "\n",
       "            Geography_Spain  Gender_Male  \n",
       "CustomerId                                \n",
       "15660768                  0            1  \n",
       "15660980                  1            1  \n",
       "15574584                  0            1  \n",
       "15777033                  0            1  \n",
       "15751549                  0            1  "
      ]
     },
     "execution_count": 13,
     "metadata": {},
     "output_type": "execute_result"
    }
   ],
   "source": [
    "features_train.head()"
   ]
  },
  {
   "cell_type": "code",
   "execution_count": 14,
   "metadata": {},
   "outputs": [
    {
     "name": "stdout",
     "output_type": "stream",
     "text": [
      "Количество строк в target_train по классам: [4778 1222]\n",
      "Количество строк в target_valid по классам: [1592  408]\n",
      "Количество строк в target_test по классам: [1593  407]\n"
     ]
    }
   ],
   "source": [
    "print(f\"Количество строк в target_train по классам: {np.bincount(target_train)}\")\n",
    "print(f\"Количество строк в target_valid по классам: {np.bincount(target_valid)}\")\n",
    "print(f\"Количество строк в target_test по классам: {np.bincount(target_test)}\")"
   ]
  },
  {
   "cell_type": "markdown",
   "metadata": {},
   "source": [
    "## Исследование задачи"
   ]
  },
  {
   "cell_type": "code",
   "execution_count": 15,
   "metadata": {},
   "outputs": [],
   "source": [
    "# Создадим функцию для построения графика ROC кривой и визуализации Confusion Matrix, а также расчёта ROC-AUC score\n",
    "\n",
    "def r_con_mat_display(features, target, predicted, model_name):\n",
    "    probabilities_valid = model.predict_proba(features)\n",
    "    probabilities_one_valid = probabilities_valid[:, 1]\n",
    "    \n",
    "    sns.set(rc={'figure.figsize':(10, 6)})\n",
    "    \n",
    "    fpr, tpr, thresholds = roc_curve(target, probabilities_one_valid) \n",
    "    plt.figure()\n",
    "\n",
    "    # < построим график >\n",
    "    plt.plot(fpr, tpr)\n",
    "\n",
    "    # ROC-кривая случайной модели (выглядит как прямая)\n",
    "    plt.plot([0, 1], [0, 1], linestyle='--')\n",
    "\n",
    "    plt.xlim([-0.05, 1.0])\n",
    "    plt.ylim([0.0, 1.05])\n",
    "\n",
    "    plt.xlabel('False Positive Rate')\n",
    "    plt.ylabel('True Positive Rate')\n",
    "\n",
    "    plt.title('ROC-кривая модели ' + model_name)\n",
    "\n",
    "    plt.show()\n",
    "    \n",
    "    print(f'ROC-AUC score модели {model_name} = {roc_auc_score(target, probabilities_one_valid):.3f}')\n",
    "\n",
    "    cm = confusion_matrix(target, predicted)\n",
    "    disp = ConfusionMatrixDisplay(confusion_matrix=cm)\n",
    "    disp.plot()\n",
    "   \n",
    "    plt.grid(False)\n",
    "\n",
    "    plt.title('Confusion matrix модели ' + model_name)\n",
    "    plt.show()"
   ]
  },
  {
   "cell_type": "code",
   "execution_count": 16,
   "metadata": {},
   "outputs": [
    {
     "data": {
      "text/plain": [
       "0    0.7963\n",
       "1    0.2037\n",
       "Name: Exited, dtype: float64"
      ]
     },
     "execution_count": 16,
     "metadata": {},
     "output_type": "execute_result"
    }
   ],
   "source": [
    "# Изучим баланс классов\n",
    "\n",
    "df_ohe['Exited'].value_counts(normalize=True)"
   ]
  },
  {
   "cell_type": "markdown",
   "metadata": {},
   "source": [
    "Баланс смещён в пользу отрицательных классов"
   ]
  },
  {
   "cell_type": "code",
   "execution_count": 17,
   "metadata": {},
   "outputs": [
    {
     "name": "stdout",
     "output_type": "stream",
     "text": [
      "F1-мера =  0.2961608775137112\n"
     ]
    }
   ],
   "source": [
    "# Обучим модель линейной регрессии без учёта дисбаланса\n",
    "\n",
    "model = LogisticRegression(random_state=11363, solver='liblinear')\n",
    "model.fit(features_train, target_train)\n",
    "predicted_valid = model.predict(features_valid)\n",
    "print('F1-мера = ', f1_score(target_valid, predicted_valid))"
   ]
  },
  {
   "cell_type": "code",
   "execution_count": 18,
   "metadata": {},
   "outputs": [
    {
     "data": {
      "image/png": "[encoded data removed]",
      "text/plain": [
       "<Figure size 720x432 with 1 Axes>"
      ]
     },
     "metadata": {},
     "output_type": "display_data"
    },
    {
     "name": "stdout",
     "output_type": "stream",
     "text": [
      "ROC-AUC score модели логистической регрессии = 0.740\n"
     ]
    },
    {
     "data": {
      "image/png": "[encoded data removed]",
      "text/plain": [
       "<Figure size 720x432 with 2 Axes>"
      ]
     },
     "metadata": {},
     "output_type": "display_data"
    }
   ],
   "source": [
    "r_con_mat_display(features_valid, target_valid, predicted_valid, 'логистической регрессии')"
   ]
  },
  {
   "cell_type": "code",
   "execution_count": 19,
   "metadata": {},
   "outputs": [
    {
     "name": "stdout",
     "output_type": "stream",
     "text": [
      "Модель случайного леса с количеством деревьев = 20:\n",
      "Глубина =  1 | f1-мера = 0.000\n",
      "Глубина =  2 | f1-мера = 0.115\n",
      "Глубина =  3 | f1-мера = 0.221\n",
      "Глубина =  4 | f1-мера = 0.359\n",
      "Глубина =  5 | f1-мера = 0.482\n",
      "Глубина =  6 | f1-мера = 0.486\n",
      "Глубина =  7 | f1-мера = 0.499\n",
      "Глубина =  8 | f1-мера = 0.523\n",
      "Глубина =  9 | f1-мера = 0.525\n",
      "Глубина = 10 | f1-мера = 0.535\n",
      "Глубина = 11 | f1-мера = 0.532\n",
      "Глубина = 12 | f1-мера = 0.545\n",
      "Глубина = 13 | f1-мера = 0.534\n",
      "Глубина = 14 | f1-мера = 0.544\n",
      "Глубина = 15 | f1-мера = 0.553\n",
      "Глубина = 16 | f1-мера = 0.516\n",
      "Глубина = 17 | f1-мера = 0.541\n",
      "Глубина = 18 | f1-мера = 0.546\n",
      "Глубина = 19 | f1-мера = 0.519\n",
      "Глубина = 20 | f1-мера = 0.544\n",
      "Лучший показатель f1-меры равный 0.553 достигается при глубине 15\n"
     ]
    }
   ],
   "source": [
    "# Воспользуемся моделью случайного леса, выполним поиск лучшей глубины с количеством деревьев 20\n",
    "best_result = 0\n",
    "best_depth = 0\n",
    "print('Модель случайного леса с количеством деревьев = 20:')\n",
    "for depth in range(1, 21):\n",
    "    model = RandomForestClassifier(random_state=11363, n_estimators=20, max_depth=depth)\n",
    "    model.fit(features_train, target_train)\n",
    "    predicted_valid = model.predict(features_valid)\n",
    "    result = f1_score(target_valid, predicted_valid)\n",
    "    print('Глубина = {:2.0f} | f1-мера = {:.3f}'.format(depth, result))\n",
    "    if result > best_result:\n",
    "        best_result = result\n",
    "        best_depth = depth\n",
    "print(f'Лучший показатель f1-меры равный {best_result:.3f} достигается при глубине {best_depth}')"
   ]
  },
  {
   "cell_type": "code",
   "execution_count": 20,
   "metadata": {},
   "outputs": [
    {
     "name": "stdout",
     "output_type": "stream",
     "text": [
      "Модель случайного леса с глубиной 15:\n",
      "Количество деревьев =  20 | f1-мера = 0.553\n",
      "Количество деревьев =  40 | f1-мера = 0.557\n",
      "Количество деревьев =  60 | f1-мера = 0.557\n",
      "Количество деревьев =  80 | f1-мера = 0.560\n",
      "Количество деревьев = 100 | f1-мера = 0.552\n",
      "Количество деревьев = 120 | f1-мера = 0.562\n",
      "Количество деревьев = 140 | f1-мера = 0.557\n",
      "Количество деревьев = 160 | f1-мера = 0.553\n",
      "Количество деревьев = 180 | f1-мера = 0.564\n",
      "Количество деревьев = 200 | f1-мера = 0.558\n",
      "Лучший показатель f1-меры равный 0.564 достигается при количестве деревьев 180\n"
     ]
    }
   ],
   "source": [
    "# Выполним поиск наилучшего количества решающих деревьев c наилучшей глубиной 15\n",
    "\n",
    "best_model = None\n",
    "best_result = 0\n",
    "best_est = 0\n",
    "print(f'Модель случайного леса с глубиной {best_depth}:')\n",
    "for est in range(20, 201, 20):\n",
    "    model = RandomForestClassifier(random_state=11363, n_estimators=est, max_depth=best_depth)\n",
    "    model.fit(features_train, target_train)\n",
    "    predicted_valid = model.predict(features_valid)\n",
    "    result = f1_score(target_valid, predicted_valid)\n",
    "    print('Количество деревьев = {:3.0f} | f1-мера = {:.3f}'.format(est, result))\n",
    "    if result > best_result:\n",
    "        best_result = result\n",
    "        best_est = est\n",
    "        best_model = model\n",
    "print(f'Лучший показатель f1-меры равный {best_result:.3f} достигается при количестве деревьев {best_est}')"
   ]
  },
  {
   "cell_type": "code",
   "execution_count": 21,
   "metadata": {},
   "outputs": [
    {
     "data": {
      "image/png": "[encoded data removed]",
      "text/plain": [
       "<Figure size 720x432 with 1 Axes>"
      ]
     },
     "metadata": {},
     "output_type": "display_data"
    },
    {
     "name": "stdout",
     "output_type": "stream",
     "text": [
      "ROC-AUC score модели случайного леса = 0.824\n"
     ]
    },
    {
     "data": {
      "image/png": "[encoded data removed]",
      "text/plain": [
       "<Figure size 720x432 with 2 Axes>"
      ]
     },
     "metadata": {},
     "output_type": "display_data"
    }
   ],
   "source": [
    "r_con_mat_display(features_valid, target_valid, predicted_valid, 'случайного леса')"
   ]
  },
  {
   "cell_type": "markdown",
   "metadata": {},
   "source": [
    "**Баланс смещён в пользу отрицательных классов, без учёта дибсаланса лучше всего себя показывает модель случайного леса, F1 = 0.56.**"
   ]
  },
  {
   "cell_type": "markdown",
   "metadata": {},
   "source": [
    "## Борьба с дисбалансом"
   ]
  },
  {
   "cell_type": "markdown",
   "metadata": {},
   "source": [
    "Сконцентрируемся на модели случайного леса с использованием различных техник борьбы с дисбалансом"
   ]
  },
  {
   "cell_type": "code",
   "execution_count": 22,
   "metadata": {},
   "outputs": [
    {
     "name": "stdout",
     "output_type": "stream",
     "text": [
      "Модель случайного леса с количеством деревьев = 20:\n",
      "Глубина =  1 | f1-мера = 0.480\n",
      "Глубина =  2 | f1-мера = 0.509\n",
      "Глубина =  3 | f1-мера = 0.520\n",
      "Глубина =  4 | f1-мера = 0.539\n",
      "Глубина =  5 | f1-мера = 0.551\n",
      "Глубина =  6 | f1-мера = 0.561\n",
      "Глубина =  7 | f1-мера = 0.585\n",
      "Глубина =  8 | f1-мера = 0.571\n",
      "Глубина =  9 | f1-мера = 0.584\n",
      "Глубина = 10 | f1-мера = 0.580\n",
      "Глубина = 11 | f1-мера = 0.581\n",
      "Глубина = 12 | f1-мера = 0.575\n",
      "Глубина = 13 | f1-мера = 0.568\n",
      "Глубина = 14 | f1-мера = 0.557\n",
      "Глубина = 15 | f1-мера = 0.551\n",
      "Глубина = 16 | f1-мера = 0.560\n",
      "Глубина = 17 | f1-мера = 0.520\n",
      "Глубина = 18 | f1-мера = 0.519\n",
      "Глубина = 19 | f1-мера = 0.507\n",
      "Глубина = 20 | f1-мера = 0.519\n",
      "Лучший показатель f1-меры равный 0.585 достигается при глубине 7\n"
     ]
    }
   ],
   "source": [
    "# Воспользуемся моделью случайного леса, выполним поиск лучшей глубины с количеством деревьев 20 и техникой взвешивания классов\n",
    "\n",
    "best_result = 0\n",
    "best_depth = 0\n",
    "\n",
    "print('Модель случайного леса с количеством деревьев = 20:')\n",
    "for depth in range(1, 21):\n",
    "    model = RandomForestClassifier(random_state=11363, n_estimators=20, max_depth=depth, class_weight='balanced')\n",
    "    model.fit(features_train, target_train)\n",
    "    predicted_valid = model.predict(features_valid)\n",
    "    result = f1_score(target_valid, predicted_valid)\n",
    "    print('Глубина = {:2.0f} | f1-мера = {:.3f}'.format(depth, result))\n",
    "    if result > best_result:\n",
    "        best_result = result\n",
    "        best_depth = depth\n",
    "        \n",
    "print(f'Лучший показатель f1-меры равный {best_result:.3f} достигается при глубине {best_depth}')"
   ]
  },
  {
   "cell_type": "code",
   "execution_count": 23,
   "metadata": {},
   "outputs": [
    {
     "name": "stdout",
     "output_type": "stream",
     "text": [
      "Модель случайного леса с глубиной 7:\n",
      "Количество деревьев =  20 | f1-мера = 0.585\n",
      "Количество деревьев =  40 | f1-мера = 0.593\n",
      "Количество деревьев =  60 | f1-мера = 0.587\n",
      "Количество деревьев =  80 | f1-мера = 0.587\n",
      "Количество деревьев = 100 | f1-мера = 0.590\n",
      "Количество деревьев = 120 | f1-мера = 0.586\n",
      "Количество деревьев = 140 | f1-мера = 0.591\n",
      "Количество деревьев = 160 | f1-мера = 0.588\n",
      "Количество деревьев = 180 | f1-мера = 0.589\n",
      "Количество деревьев = 200 | f1-мера = 0.588\n",
      "Лучший показатель f1-меры равный 0.593 достигается при количестве деревьев 40\n"
     ]
    }
   ],
   "source": [
    "# Выполним поиск наилучшего количества решающих деревьев c наилучшей глубиной с примененим взвешивания классов\n",
    "\n",
    "best_model = None\n",
    "best_result = 0\n",
    "best_est = 0\n",
    "\n",
    "print(f'Модель случайного леса с глубиной {best_depth}:')\n",
    "for est in range(20, 201, 20):\n",
    "    model = RandomForestClassifier(random_state=11363, n_estimators=est, max_depth=best_depth, class_weight='balanced')\n",
    "    model.fit(features_train, target_train)\n",
    "    predicted_valid = model.predict(features_valid)\n",
    "    result = f1_score(target_valid, predicted_valid)\n",
    "    print('Количество деревьев = {:3.0f} | f1-мера = {:.3f}'.format(est, result))\n",
    "    if result > best_result:\n",
    "        best_result = result\n",
    "        best_est = est\n",
    "        best_model = model\n",
    "\n",
    "model = best_model\n",
    "print(f'Лучший показатель f1-меры равный {best_result:.3f} достигается при количестве деревьев {best_est}')"
   ]
  },
  {
   "cell_type": "code",
   "execution_count": 24,
   "metadata": {},
   "outputs": [
    {
     "data": {
      "image/png": "[encoded data removed]",
      "text/plain": [
       "<Figure size 720x432 with 1 Axes>"
      ]
     },
     "metadata": {},
     "output_type": "display_data"
    },
    {
     "name": "stdout",
     "output_type": "stream",
     "text": [
      "ROC-AUC score модели случайного веса с применением взвешивания классов = 0.834\n"
     ]
    },
    {
     "data": {
      "image/png": "[encoded data removed]",
      "text/plain": [
       "<Figure size 720x432 with 2 Axes>"
      ]
     },
     "metadata": {},
     "output_type": "display_data"
    }
   ],
   "source": [
    "r_con_mat_display(features_valid, target_valid, predicted_valid, 'случайного веса с применением взвешивания классов')"
   ]
  },
  {
   "cell_type": "code",
   "execution_count": 25,
   "metadata": {},
   "outputs": [],
   "source": [
    "# Воспользуемся техникой upsample\n",
    "\n",
    "def upsample(features, target, repeat):\n",
    "    features_zeros = features[target == 0]\n",
    "    features_ones = features[target == 1]\n",
    "    target_zeros = target[target == 0]\n",
    "    target_ones = target[target == 1]\n",
    "\n",
    "    features_upsampled = pd.concat([features_zeros] + [features_ones] * repeat)\n",
    "    target_upsampled = pd.concat([target_zeros] + [target_ones] * repeat)\n",
    "    \n",
    "    features_upsampled, target_upsampled = shuffle(features_upsampled, target_upsampled, random_state=11363)\n",
    "    \n",
    "    return features_upsampled, target_upsampled\n",
    "\n",
    "features_upsampled, target_upsampled = upsample(features_train, target_train, 4)"
   ]
  },
  {
   "cell_type": "code",
   "execution_count": 26,
   "metadata": {},
   "outputs": [],
   "source": [
    "# Применим технику downsample\n",
    "\n",
    "def downsample(features, target, fraction):\n",
    "    features_zeros = features[target == 0]\n",
    "    features_ones = features[target == 1]\n",
    "    target_zeros = target[target == 0]\n",
    "    target_ones = target[target == 1]\n",
    "\n",
    "    features_downsampled = pd.concat(\n",
    "        [features_zeros.sample(frac=fraction, random_state=11363)] + [features_ones])\n",
    "    target_downsampled = pd.concat(\n",
    "        [target_zeros.sample(frac=fraction, random_state=11363)] + [target_ones])\n",
    "    \n",
    "    features_downsampled, target_downsampled = shuffle(\n",
    "        features_downsampled, target_downsampled, random_state=11363)\n",
    "    \n",
    "    return features_downsampled, target_downsampled\n",
    "\n",
    "features_downsampled, target_downsampled = downsample(features_train, target_train, 0.25)"
   ]
  },
  {
   "cell_type": "code",
   "execution_count": 27,
   "metadata": {},
   "outputs": [
    {
     "name": "stdout",
     "output_type": "stream",
     "text": [
      "`Upsampled` Модель случайного леса с количеством деревьев = 20:\n",
      "Глубина =  1 | f1-мера = 0.476\n",
      "Глубина =  2 | f1-мера = 0.507\n",
      "Глубина =  3 | f1-мера = 0.531\n",
      "Глубина =  4 | f1-мера = 0.545\n",
      "Глубина =  5 | f1-мера = 0.547\n",
      "Глубина =  6 | f1-мера = 0.569\n",
      "Глубина =  7 | f1-мера = 0.572\n",
      "Глубина =  8 | f1-мера = 0.572\n",
      "Глубина =  9 | f1-мера = 0.582\n",
      "Глубина = 10 | f1-мера = 0.585\n",
      "Глубина = 11 | f1-мера = 0.579\n",
      "Глубина = 12 | f1-мера = 0.571\n",
      "Глубина = 13 | f1-мера = 0.592\n",
      "Глубина = 14 | f1-мера = 0.591\n",
      "Глубина = 15 | f1-мера = 0.578\n",
      "Глубина = 16 | f1-мера = 0.548\n",
      "Глубина = 17 | f1-мера = 0.555\n",
      "Глубина = 18 | f1-мера = 0.557\n",
      "Глубина = 19 | f1-мера = 0.558\n",
      "Глубина = 20 | f1-мера = 0.560\n",
      "`Upsampled` Лучший показатель f1-меры равный 0.592 достигается при глубине 13\n"
     ]
    }
   ],
   "source": [
    "# Воспользуемся моделью случайного леса, выполним поиск лучшей глубины с количеством деревьев 20 + upsampled\n",
    "\n",
    "best_result = 0\n",
    "best_depth = 0\n",
    "\n",
    "print('`Upsampled` Модель случайного леса с количеством деревьев = 20:')\n",
    "for depth in range(1, 21):\n",
    "    model = RandomForestClassifier(random_state=11363, n_estimators=20, max_depth=depth)\n",
    "    model.fit(features_upsampled, target_upsampled)\n",
    "    predicted_valid = model.predict(features_valid)\n",
    "    result = f1_score(target_valid, predicted_valid)\n",
    "    print('Глубина = {:2.0f} | f1-мера = {:.3f}'.format(depth, result))\n",
    "    if result > best_result:\n",
    "        best_result = result\n",
    "        best_depth = depth\n",
    "        \n",
    "print(f'`Upsampled` Лучший показатель f1-меры равный {best_result:.3f} достигается при глубине {best_depth}')"
   ]
  },
  {
   "cell_type": "code",
   "execution_count": 28,
   "metadata": {},
   "outputs": [
    {
     "name": "stdout",
     "output_type": "stream",
     "text": [
      "`Upsampled` Модель случайного леса с глубиной 13:\n",
      "Количество деревьев =  20 | f1-мера = 0.592\n",
      "Количество деревьев =  40 | f1-мера = 0.607\n",
      "Количество деревьев =  60 | f1-мера = 0.592\n",
      "Количество деревьев =  80 | f1-мера = 0.591\n",
      "Количество деревьев = 100 | f1-мера = 0.602\n",
      "Количество деревьев = 120 | f1-мера = 0.592\n",
      "Количество деревьев = 140 | f1-мера = 0.591\n",
      "Количество деревьев = 160 | f1-мера = 0.596\n",
      "Количество деревьев = 180 | f1-мера = 0.595\n",
      "Количество деревьев = 200 | f1-мера = 0.598\n",
      "`Upsampled` Лучший показатель f1-меры равный 0.607 достигается при количестве деревьев 40\n"
     ]
    }
   ],
   "source": [
    "# Выполним поиск наилучшего количества решающих деревьев c наилучшей глубиной + upsampled\n",
    "\n",
    "best_model_rf_up = None\n",
    "best_result = 0\n",
    "best_est = 0\n",
    "\n",
    "print(f'`Upsampled` Модель случайного леса с глубиной {best_depth}:')\n",
    "for est in range(20, 201, 20):\n",
    "    model = RandomForestClassifier(random_state=11363, n_estimators=est, max_depth=best_depth)\n",
    "    model.fit(features_upsampled, target_upsampled)\n",
    "    predicted_valid = model.predict(features_valid)\n",
    "    result = f1_score(target_valid, predicted_valid)\n",
    "    print('Количество деревьев = {:3.0f} | f1-мера = {:.3f}'.format(est, result))\n",
    "    if result > best_result:\n",
    "        best_result = result\n",
    "        best_est = est\n",
    "        best_model_rf_up = model\n",
    "        \n",
    "print(f'`Upsampled` Лучший показатель f1-меры равный {best_result:.3f} достигается при количестве деревьев {best_est}')\n",
    "\n",
    "model = best_model_rf_up"
   ]
  },
  {
   "cell_type": "code",
   "execution_count": 29,
   "metadata": {},
   "outputs": [
    {
     "data": {
      "image/png": "[encoded data removed]",
      "text/plain": [
       "<Figure size 720x432 with 1 Axes>"
      ]
     },
     "metadata": {},
     "output_type": "display_data"
    },
    {
     "name": "stdout",
     "output_type": "stream",
     "text": [
      "ROC-AUC score модели случайного леса с применением upsampled = 0.822\n"
     ]
    },
    {
     "data": {
      "image/png": "[encoded data removed]",
      "text/plain": [
       "<Figure size 720x432 with 2 Axes>"
      ]
     },
     "metadata": {},
     "output_type": "display_data"
    }
   ],
   "source": [
    "r_con_mat_display(features_valid, target_valid, predicted_valid, 'случайного леса с применением upsampled')"
   ]
  },
  {
   "cell_type": "code",
   "execution_count": 30,
   "metadata": {},
   "outputs": [
    {
     "name": "stdout",
     "output_type": "stream",
     "text": [
      "`Downsampled` Модель случайного леса с количеством деревьев = 20:\n",
      "Глубина =  1 | f1-мера = 0.476\n",
      "Глубина =  2 | f1-мера = 0.507\n",
      "Глубина =  3 | f1-мера = 0.531\n",
      "Глубина =  4 | f1-мера = 0.545\n",
      "Глубина =  5 | f1-мера = 0.547\n",
      "Глубина =  6 | f1-мера = 0.569\n",
      "Глубина =  7 | f1-мера = 0.572\n",
      "Глубина =  8 | f1-мера = 0.572\n",
      "Глубина =  9 | f1-мера = 0.582\n",
      "Глубина = 10 | f1-мера = 0.585\n",
      "Глубина = 11 | f1-мера = 0.579\n",
      "Глубина = 12 | f1-мера = 0.571\n",
      "Глубина = 13 | f1-мера = 0.592\n",
      "Глубина = 14 | f1-мера = 0.591\n",
      "Глубина = 15 | f1-мера = 0.578\n",
      "Глубина = 16 | f1-мера = 0.548\n",
      "Глубина = 17 | f1-мера = 0.555\n",
      "Глубина = 18 | f1-мера = 0.557\n",
      "Глубина = 19 | f1-мера = 0.558\n",
      "Глубина = 20 | f1-мера = 0.560\n",
      "`Downsampled` Лучший показатель f1-меры равный 0.592 достигается при глубине 13\n"
     ]
    }
   ],
   "source": [
    "# Воспользуемся моделью случайного леса, выполним поиск лучшей глубины с количеством деревьев 20 + downsampled\n",
    "\n",
    "best_result = 0\n",
    "best_depth = 0\n",
    "\n",
    "print('`Downsampled` Модель случайного леса с количеством деревьев = 20:')\n",
    "for depth in range(1, 21):\n",
    "    model = RandomForestClassifier(random_state=11363, n_estimators=20, max_depth=depth)\n",
    "    model.fit(features_upsampled, target_upsampled)\n",
    "    predicted_valid = model.predict(features_valid)\n",
    "    result = f1_score(target_valid, predicted_valid)\n",
    "    print('Глубина = {:2.0f} | f1-мера = {:.3f}'.format(depth, result))\n",
    "    if result > best_result:\n",
    "        best_result = result\n",
    "        best_depth = depth\n",
    "        \n",
    "print(f'`Downsampled` Лучший показатель f1-меры равный {best_result:.3f} достигается при глубине {best_depth}')"
   ]
  },
  {
   "cell_type": "code",
   "execution_count": 31,
   "metadata": {},
   "outputs": [
    {
     "name": "stdout",
     "output_type": "stream",
     "text": [
      "`Downsampled` Модель случайного леса с глубиной 13:\n",
      "Количество деревьев =  20 | f1-мера = 0.592\n",
      "Количество деревьев =  40 | f1-мера = 0.607\n",
      "Количество деревьев =  60 | f1-мера = 0.592\n",
      "Количество деревьев =  80 | f1-мера = 0.591\n",
      "Количество деревьев = 100 | f1-мера = 0.602\n",
      "Количество деревьев = 120 | f1-мера = 0.592\n",
      "Количество деревьев = 140 | f1-мера = 0.591\n",
      "Количество деревьев = 160 | f1-мера = 0.596\n",
      "Количество деревьев = 180 | f1-мера = 0.595\n",
      "Количество деревьев = 200 | f1-мера = 0.598\n",
      "`Downsampled` Лучший показатель f1-меры равный 0.607 достигается при количестве деревьев 40\n"
     ]
    }
   ],
   "source": [
    "## Выполним поиск наилучшего количества решающих деревьев c наилучшей глубиной + downsampled\n",
    "\n",
    "best_model_rf_down = None\n",
    "best_result = 0\n",
    "best_est = 0\n",
    "\n",
    "print(f'`Downsampled` Модель случайного леса с глубиной {best_depth}:')\n",
    "for est in range(20, 201, 20):\n",
    "    model = RandomForestClassifier(random_state=11363, n_estimators=est, max_depth=best_depth)\n",
    "    model.fit(features_upsampled, target_upsampled)\n",
    "    predicted_valid = model.predict(features_valid)\n",
    "    result = f1_score(target_valid, predicted_valid)\n",
    "    print('Количество деревьев = {:3.0f} | f1-мера = {:.3f}'.format(est, result))\n",
    "    if result > best_result:\n",
    "        best_result = result\n",
    "        best_est = est\n",
    "        best_model_rf_down = model\n",
    "print(f'`Downsampled` Лучший показатель f1-меры равный {best_result:.3f} достигается при количестве деревьев {best_est}')\n",
    "\n",
    "model = best_model_rf_down"
   ]
  },
  {
   "cell_type": "code",
   "execution_count": 32,
   "metadata": {},
   "outputs": [
    {
     "data": {
      "image/png": "[encoded data removed]",
      "text/plain": [
       "<Figure size 720x432 with 1 Axes>"
      ]
     },
     "metadata": {},
     "output_type": "display_data"
    },
    {
     "name": "stdout",
     "output_type": "stream",
     "text": [
      "ROC-AUC score модели случайного леса с применением downsampled = 0.822\n"
     ]
    },
    {
     "data": {
      "image/png": "[encoded data removed]",
      "text/plain": [
       "<Figure size 720x432 with 2 Axes>"
      ]
     },
     "metadata": {},
     "output_type": "display_data"
    }
   ],
   "source": [
    "r_con_mat_display(features_valid, target_valid, predicted_valid, 'случайного леса с применением downsampled')"
   ]
  },
  {
   "cell_type": "code",
   "execution_count": 33,
   "metadata": {},
   "outputs": [],
   "source": [
    "smote = SMOTE(random_state=11363)\n",
    "features_sm, target_sm = smote.fit_resample(features_train, target_train)"
   ]
  },
  {
   "cell_type": "code",
   "execution_count": 34,
   "metadata": {},
   "outputs": [
    {
     "data": {
      "text/plain": [
       "((6000, 11), (9556, 11))"
      ]
     },
     "execution_count": 34,
     "metadata": {},
     "output_type": "execute_result"
    }
   ],
   "source": [
    "features_train.shape, features_sm.shape"
   ]
  },
  {
   "cell_type": "code",
   "execution_count": 35,
   "metadata": {},
   "outputs": [
    {
     "data": {
      "text/plain": [
       "0    0.796333\n",
       "1    0.203667\n",
       "Name: Exited, dtype: float64"
      ]
     },
     "execution_count": 35,
     "metadata": {},
     "output_type": "execute_result"
    }
   ],
   "source": [
    "target_train.value_counts(normalize=True)"
   ]
  },
  {
   "cell_type": "code",
   "execution_count": 36,
   "metadata": {},
   "outputs": [
    {
     "data": {
      "text/plain": [
       "0    0.5\n",
       "1    0.5\n",
       "Name: Exited, dtype: float64"
      ]
     },
     "execution_count": 36,
     "metadata": {},
     "output_type": "execute_result"
    }
   ],
   "source": [
    "target_sm.value_counts(normalize=True)"
   ]
  },
  {
   "cell_type": "code",
   "execution_count": 37,
   "metadata": {},
   "outputs": [
    {
     "name": "stdout",
     "output_type": "stream",
     "text": [
      "`SMOTE` Модель случайного леса с количеством деревьев = 20:\n",
      "Глубина =  1 | f1-мера = 0.460\n",
      "Глубина =  2 | f1-мера = 0.516\n",
      "Глубина =  3 | f1-мера = 0.521\n",
      "Глубина =  4 | f1-мера = 0.559\n",
      "Глубина =  5 | f1-мера = 0.557\n",
      "Глубина =  6 | f1-мера = 0.565\n",
      "Глубина =  7 | f1-мера = 0.568\n",
      "Глубина =  8 | f1-мера = 0.572\n",
      "Глубина =  9 | f1-мера = 0.581\n",
      "Глубина = 10 | f1-мера = 0.590\n",
      "Глубина = 11 | f1-мера = 0.583\n",
      "Глубина = 12 | f1-мера = 0.583\n",
      "Глубина = 13 | f1-мера = 0.580\n",
      "Глубина = 14 | f1-мера = 0.585\n",
      "Глубина = 15 | f1-мера = 0.580\n",
      "Глубина = 16 | f1-мера = 0.571\n",
      "Глубина = 17 | f1-мера = 0.585\n",
      "Глубина = 18 | f1-мера = 0.555\n",
      "Глубина = 19 | f1-мера = 0.567\n",
      "Глубина = 20 | f1-мера = 0.562\n",
      "`SMOTE` Лучший показатель f1-меры равный 0.590 достигается при глубине 10\n"
     ]
    }
   ],
   "source": [
    "# Воспользуемся моделью случайного леса, выполним поиск лучшей глубины с количеством деревьев 20 + SMOTE\n",
    "\n",
    "best_result = 0\n",
    "best_depth = 0\n",
    "\n",
    "print('`SMOTE` Модель случайного леса с количеством деревьев = 20:')\n",
    "for depth in range(1, 21):\n",
    "    model = RandomForestClassifier(random_state=11363, n_estimators=20, max_depth=depth)\n",
    "    model.fit(features_sm, target_sm)\n",
    "    predicted_valid = model.predict(features_valid)\n",
    "    result = f1_score(target_valid, predicted_valid)\n",
    "    print('Глубина = {:2.0f} | f1-мера = {:.3f}'.format(depth, result))\n",
    "    if result > best_result:\n",
    "        best_result = result\n",
    "        best_depth = depth\n",
    "        \n",
    "print(f'`SMOTE` Лучший показатель f1-меры равный {best_result:.3f} достигается при глубине {best_depth}')"
   ]
  },
  {
   "cell_type": "code",
   "execution_count": 38,
   "metadata": {},
   "outputs": [
    {
     "name": "stdout",
     "output_type": "stream",
     "text": [
      "`SMOTE` Модель случайного леса с глубиной 10:\n",
      "Количество деревьев =  20 | f1-мера = 0.590\n",
      "Количество деревьев =  40 | f1-мера = 0.582\n",
      "Количество деревьев =  60 | f1-мера = 0.588\n",
      "Количество деревьев =  80 | f1-мера = 0.591\n",
      "Количество деревьев = 100 | f1-мера = 0.585\n",
      "Количество деревьев = 120 | f1-мера = 0.584\n",
      "Количество деревьев = 140 | f1-мера = 0.592\n",
      "Количество деревьев = 160 | f1-мера = 0.587\n",
      "Количество деревьев = 180 | f1-мера = 0.596\n",
      "Количество деревьев = 200 | f1-мера = 0.593\n",
      "`SMOTE` Лучший показатель f1-меры равный 0.596 достигается при количестве деревьев 180\n"
     ]
    }
   ],
   "source": [
    "## Выполним поиск наилучшего количества решающих деревьев c наилучшей глубиной + SMOTE\n",
    "\n",
    "best_model_rf_smote = None\n",
    "best_result = 0\n",
    "best_est = 0\n",
    "\n",
    "print(f'`SMOTE` Модель случайного леса с глубиной {best_depth}:')\n",
    "for est in range(20, 201, 20):\n",
    "    model = RandomForestClassifier(random_state=11363, n_estimators=est, max_depth=best_depth)\n",
    "    model.fit(features_sm, target_sm)\n",
    "    predicted_valid = model.predict(features_valid)\n",
    "    result = f1_score(target_valid, predicted_valid)\n",
    "    print('Количество деревьев = {:3.0f} | f1-мера = {:.3f}'.format(est, result))\n",
    "    if result > best_result:\n",
    "        best_result = result\n",
    "        best_est = est\n",
    "        best_model_rf_smote = model\n",
    "print(f'`SMOTE` Лучший показатель f1-меры равный {best_result:.3f} достигается при количестве деревьев {best_est}')\n",
    "\n",
    "model = best_model_rf_smote"
   ]
  },
  {
   "cell_type": "code",
   "execution_count": 39,
   "metadata": {},
   "outputs": [
    {
     "data": {
      "image/png": "[encoded data removed]",
      "text/plain": [
       "<Figure size 720x432 with 1 Axes>"
      ]
     },
     "metadata": {},
     "output_type": "display_data"
    },
    {
     "name": "stdout",
     "output_type": "stream",
     "text": [
      "ROC-AUC score модели случайного леса с применением SMOTE = 0.832\n"
     ]
    },
    {
     "data": {
      "image/png": "[encoded data removed]",
      "text/plain": [
       "<Figure size 720x432 with 2 Axes>"
      ]
     },
     "metadata": {},
     "output_type": "display_data"
    }
   ],
   "source": [
    "r_con_mat_display(features_valid, target_valid, predicted_valid, 'случайного леса с применением SMOTE')"
   ]
  },
  {
   "cell_type": "markdown",
   "metadata": {},
   "source": [
    "**Наилучшим образом показала себя модель случайного леса с применением техники upsample/downsample с максимальной глубиной 13 и количеством деревьев 40.  \n",
    "F1-мера ~ 0.607  \n",
    "ROC-AUC = 0.822**"
   ]
  },
  {
   "cell_type": "markdown",
   "metadata": {},
   "source": [
    "## Тестирование модели"
   ]
  },
  {
   "cell_type": "code",
   "execution_count": 40,
   "metadata": {},
   "outputs": [],
   "source": [
    "# Проведём обучение модели на совмещённой выборке (тренировочная + валидационная)\n",
    "features_tv = pd.concat([features_train] + [features_valid])\n",
    "target_tv = pd.concat([target_train] + [target_valid])"
   ]
  },
  {
   "cell_type": "code",
   "execution_count": 41,
   "metadata": {},
   "outputs": [],
   "source": [
    "features_tv_upsampled, target_tv_upsampled = upsample(features_tv, target_tv, 4)"
   ]
  },
  {
   "cell_type": "code",
   "execution_count": 42,
   "metadata": {},
   "outputs": [
    {
     "name": "stdout",
     "output_type": "stream",
     "text": [
      "Модель случайного леса на тестовой выборке показывает F1-меру = 0.637\n"
     ]
    }
   ],
   "source": [
    "model = best_model_rf_up\n",
    "model.fit(features_tv_upsampled, target_tv_upsampled)\n",
    "predicted_test = model.predict(features_test)\n",
    "result = f1_score(target_test, predicted_test)\n",
    "probabilities_test = model.predict_proba(features_test)\n",
    "probabilities_one_test = probabilities_test[:, 1]\n",
    "\n",
    "print(f'Модель случайного леса на тестовой выборке показывает F1-меру = {result:.3f}')"
   ]
  },
  {
   "cell_type": "code",
   "execution_count": 43,
   "metadata": {},
   "outputs": [
    {
     "data": {
      "image/png": "[encoded data removed]",
      "text/plain": [
       "<Figure size 720x432 with 1 Axes>"
      ]
     },
     "metadata": {},
     "output_type": "display_data"
    },
    {
     "name": "stdout",
     "output_type": "stream",
     "text": [
      "ROC-AUC score модели случайного леса с применением upsample для тестовой выборки = 0.863\n"
     ]
    },
    {
     "data": {
      "image/png": "[encoded data removed]",
      "text/plain": [
       "<Figure size 720x432 with 2 Axes>"
      ]
     },
     "metadata": {},
     "output_type": "display_data"
    }
   ],
   "source": [
    "r_con_mat_display(features_test, target_test, predicted_test,'случайного леса с применением upsample для тестовой выборки')"
   ]
  },
  {
   "cell_type": "code",
   "execution_count": 44,
   "metadata": {},
   "outputs": [],
   "source": [
    "features_tv_sm, target_tv_sm = smote.fit_resample(features_tv, target_tv)"
   ]
  },
  {
   "cell_type": "code",
   "execution_count": 45,
   "metadata": {},
   "outputs": [
    {
     "name": "stdout",
     "output_type": "stream",
     "text": [
      "Модель случайного леса + SMOTE на тестовой выборке показывает F1-меру = 0.645\n"
     ]
    }
   ],
   "source": [
    "model = best_model_rf_smote\n",
    "model.fit(features_tv_sm, target_tv_sm)\n",
    "predicted_test = model.predict(features_test)\n",
    "result = f1_score(target_test, predicted_test)\n",
    "\n",
    "print(f'Модель случайного леса + SMOTE на тестовой выборке показывает F1-меру = {result:.3f}')"
   ]
  },
  {
   "cell_type": "code",
   "execution_count": 46,
   "metadata": {},
   "outputs": [
    {
     "data": {
      "image/png": "[encoded data removed]",
      "text/plain": [
       "<Figure size 720x432 with 1 Axes>"
      ]
     },
     "metadata": {},
     "output_type": "display_data"
    },
    {
     "name": "stdout",
     "output_type": "stream",
     "text": [
      "ROC-AUC score модели случайного леса с применением SMOTE для тестовой выборки = 0.876\n"
     ]
    },
    {
     "data": {
      "image/png": "[encoded data removed]",
      "text/plain": [
       "<Figure size 720x432 with 2 Axes>"
      ]
     },
     "metadata": {},
     "output_type": "display_data"
    }
   ],
   "source": [
    "r_con_mat_display(features_test, target_test, predicted_test, 'случайного леса с применением SMOTE для тестовой выборки')"
   ]
  },
  {
   "cell_type": "code",
   "execution_count": 47,
   "metadata": {},
   "outputs": [
    {
     "name": "stdout",
     "output_type": "stream",
     "text": [
      "F1-мера =  0.244\n"
     ]
    }
   ],
   "source": [
    "# Обучим модель логистической регрессии + smote\n",
    "\n",
    "model = LogisticRegression(random_state=11363, solver='liblinear')\n",
    "model.fit(features_tv_sm, target_tv_sm)\n",
    "predicted_test = model.predict(features_test)\n",
    "print(f'F1-мера =  {f1_score(target_test, predicted_valid):.3f}')"
   ]
  },
  {
   "cell_type": "code",
   "execution_count": 48,
   "metadata": {},
   "outputs": [
    {
     "data": {
      "image/png": "[encoded data removed]",
      "text/plain": [
       "<Figure size 720x432 with 1 Axes>"
      ]
     },
     "metadata": {},
     "output_type": "display_data"
    },
    {
     "name": "stdout",
     "output_type": "stream",
     "text": [
      "ROC-AUC score модели логистической регресиии + SMOTE = 0.789\n"
     ]
    },
    {
     "data": {
      "image/png": "[encoded data removed]",
      "text/plain": [
       "<Figure size 720x432 with 2 Axes>"
      ]
     },
     "metadata": {},
     "output_type": "display_data"
    }
   ],
   "source": [
    "r_con_mat_display(features_test, target_test, predicted_test, 'логистической регресиии + SMOTE' )"
   ]
  },
  {
   "cell_type": "code",
   "execution_count": 50,
   "metadata": {},
   "outputs": [
    {
     "name": "stdout",
     "output_type": "stream",
     "text": [
      "Константная модель имеет Accuracy: 0.7965\n",
      "Лучшая модель имеет Accuracy: 0.8235\n"
     ]
    }
   ],
   "source": [
    "# Проверим модель на адекватность\n",
    "dummy_clsf = DummyClassifier(strategy='most_frequent')\n",
    "dummy_clsf.fit(features_test, target_test)\n",
    "dummy_clsf.predict(features_test)\n",
    "result_dummy = dummy_clsf.score(features_test, target_test)\n",
    "result_best = best_model.score(features_test, target_test)\n",
    "print(f'Константная модель имеет Accuracy: {result_dummy}')\n",
    "print(f'Лучшая модель имеет Accuracy: {result_best}')"
   ]
  },
  {
   "cell_type": "markdown",
   "metadata": {},
   "source": [
    "## Вывод  \n",
    "В нашем распоряжении данные банковских клиентов, часть из которых расторлга отношения с банком.\n",
    "Задача - спрогнозировать, уйдёт клиент из банка в ближайшее время или нет.\n",
    "\n",
    "С учётом необходимости построения модели классификации для предсказания оттока, данные были разделены на три выборки (train, validation, test) с учётом стратификации. Было протестировано модели логистической регрессии и случайного леса, лучшие результаты продемонстрировала модель случайного леса.\n",
    "\n",
    "Эффективнее всего с дисбалансом удалось бороться методом **SMOTE**.  \n",
    "На валидационных данных наилучший уровень f1-меры 0.596 показала модель RF с количеством деревьев 180 и максимальной глубиной 10.  \n",
    "После чего мы обучили модель на выборке train+validation, показатель f1-меры для тестовой выборки составил 0.645.\n",
    "ROC-AUC score =  0.876\n",
    "Точность модели составила 0.824, что превышает точность dummy модели 0.797.\n",
    "\n",
    "**Построенную модель рекомендуется использовать для превентивного противодействия оттоку клиентов путём маркетинговых инструментов.**"
   ]
  }
 ],
 "metadata": {
  "ExecuteTimeLog": [
   {
    "duration": 1174,
    "start_time": "2023-03-30T15:04:57.230Z"
   },
   {
    "duration": 2,
    "start_time": "2023-03-30T15:04:58.406Z"
   },
   {
    "duration": 221,
    "start_time": "2023-03-30T15:04:58.409Z"
   },
   {
    "duration": 13,
    "start_time": "2023-03-30T15:04:58.631Z"
   },
   {
    "duration": 581,
    "start_time": "2023-03-30T15:04:58.646Z"
   },
   {
    "duration": 16,
    "start_time": "2023-03-30T15:04:59.229Z"
   },
   {
    "duration": 32,
    "start_time": "2023-03-30T15:04:59.247Z"
   },
   {
    "duration": 4,
    "start_time": "2023-03-30T15:04:59.281Z"
   },
   {
    "duration": 67,
    "start_time": "2023-03-30T15:04:59.287Z"
   },
   {
    "duration": 9,
    "start_time": "2023-03-30T15:04:59.356Z"
   },
   {
    "duration": 41,
    "start_time": "2023-03-30T15:04:59.366Z"
   },
   {
    "duration": 49,
    "start_time": "2023-03-30T15:04:59.409Z"
   },
   {
    "duration": 188,
    "start_time": "2023-03-30T15:04:59.463Z"
   },
   {
    "duration": 3,
    "start_time": "2023-03-30T15:05:24.724Z"
   },
   {
    "duration": 39,
    "start_time": "2023-03-30T15:06:44.146Z"
   },
   {
    "duration": 39,
    "start_time": "2023-03-30T15:08:26.938Z"
   },
   {
    "duration": 388,
    "start_time": "2023-03-30T15:10:12.718Z"
   },
   {
    "duration": 282,
    "start_time": "2023-03-30T15:11:00.864Z"
   },
   {
    "duration": 99,
    "start_time": "2023-03-30T15:13:27.666Z"
   },
   {
    "duration": 3,
    "start_time": "2023-03-30T15:13:32.745Z"
   },
   {
    "duration": 6,
    "start_time": "2023-03-30T15:13:36.586Z"
   },
   {
    "duration": 3,
    "start_time": "2023-03-30T15:14:58.049Z"
   },
   {
    "duration": 5,
    "start_time": "2023-03-30T15:15:11.542Z"
   },
   {
    "duration": 5,
    "start_time": "2023-03-30T15:15:28.843Z"
   },
   {
    "duration": 18,
    "start_time": "2023-03-30T15:16:03.124Z"
   },
   {
    "duration": 17,
    "start_time": "2023-03-30T15:16:55.655Z"
   },
   {
    "duration": 7,
    "start_time": "2023-03-30T15:17:04.627Z"
   },
   {
    "duration": 3,
    "start_time": "2023-03-30T15:17:43.355Z"
   },
   {
    "duration": 11,
    "start_time": "2023-03-30T15:17:49.290Z"
   },
   {
    "duration": 9,
    "start_time": "2023-03-30T15:17:53.195Z"
   },
   {
    "duration": 77,
    "start_time": "2023-03-30T15:17:58.140Z"
   },
   {
    "duration": 4,
    "start_time": "2023-03-30T15:18:00.850Z"
   },
   {
    "duration": 23,
    "start_time": "2023-03-30T15:21:35.501Z"
   },
   {
    "duration": 4,
    "start_time": "2023-03-30T15:21:36.222Z"
   },
   {
    "duration": 6,
    "start_time": "2023-03-30T15:21:36.987Z"
   },
   {
    "duration": 5,
    "start_time": "2023-03-30T15:21:37.824Z"
   },
   {
    "duration": 5,
    "start_time": "2023-03-30T15:21:46.662Z"
   },
   {
    "duration": 5,
    "start_time": "2023-03-30T15:21:47.468Z"
   },
   {
    "duration": 290,
    "start_time": "2023-03-30T15:21:50.211Z"
   },
   {
    "duration": 51,
    "start_time": "2023-03-30T15:22:04.083Z"
   },
   {
    "duration": 4,
    "start_time": "2023-03-30T15:22:08.227Z"
   },
   {
    "duration": 8,
    "start_time": "2023-03-30T15:22:09.740Z"
   },
   {
    "duration": 5,
    "start_time": "2023-03-30T15:22:11.408Z"
   },
   {
    "duration": 8,
    "start_time": "2023-03-30T15:22:16.624Z"
   },
   {
    "duration": 17,
    "start_time": "2023-03-30T15:22:18.684Z"
   },
   {
    "duration": 6,
    "start_time": "2023-03-30T15:22:19.361Z"
   },
   {
    "duration": 5,
    "start_time": "2023-03-30T15:22:22.367Z"
   },
   {
    "duration": 41,
    "start_time": "2023-03-30T15:23:38.143Z"
   },
   {
    "duration": 263,
    "start_time": "2023-03-30T15:25:03.049Z"
   },
   {
    "duration": 230,
    "start_time": "2023-03-30T15:25:15.987Z"
   },
   {
    "duration": 7,
    "start_time": "2023-03-30T18:25:04.412Z"
   },
   {
    "duration": 49,
    "start_time": "2023-03-30T18:27:09.645Z"
   },
   {
    "duration": 19,
    "start_time": "2023-03-30T18:27:16.475Z"
   },
   {
    "duration": 4,
    "start_time": "2023-03-30T18:27:40.212Z"
   },
   {
    "duration": 14,
    "start_time": "2023-03-30T18:27:44.506Z"
   },
   {
    "duration": 78,
    "start_time": "2023-03-30T18:29:10.856Z"
   },
   {
    "duration": 55,
    "start_time": "2023-03-30T18:29:36.182Z"
   },
   {
    "duration": 48,
    "start_time": "2023-03-30T18:29:55.114Z"
   },
   {
    "duration": 18,
    "start_time": "2023-03-30T18:30:01.823Z"
   },
   {
    "duration": 258,
    "start_time": "2023-03-30T18:30:25.962Z"
   },
   {
    "duration": 299,
    "start_time": "2023-03-30T18:30:51.026Z"
   },
   {
    "duration": 15,
    "start_time": "2023-03-30T18:33:22.293Z"
   },
   {
    "duration": 11,
    "start_time": "2023-03-30T18:34:39.575Z"
   },
   {
    "duration": 11,
    "start_time": "2023-03-30T18:34:45.237Z"
   },
   {
    "duration": 158,
    "start_time": "2023-03-30T18:34:46.676Z"
   },
   {
    "duration": 4,
    "start_time": "2023-03-30T18:35:13.479Z"
   },
   {
    "duration": 3,
    "start_time": "2023-03-30T18:35:19.625Z"
   },
   {
    "duration": 3,
    "start_time": "2023-03-30T18:35:28.865Z"
   },
   {
    "duration": 10,
    "start_time": "2023-03-30T18:36:36.804Z"
   },
   {
    "duration": 4,
    "start_time": "2023-03-30T18:36:39.617Z"
   },
   {
    "duration": 4,
    "start_time": "2023-03-30T18:37:14.670Z"
   },
   {
    "duration": 8,
    "start_time": "2023-03-30T18:37:25.449Z"
   },
   {
    "duration": 9,
    "start_time": "2023-03-30T18:37:46.044Z"
   },
   {
    "duration": 12,
    "start_time": "2023-03-30T18:38:06.529Z"
   },
   {
    "duration": 18,
    "start_time": "2023-03-30T18:38:14.465Z"
   },
   {
    "duration": 308,
    "start_time": "2023-03-30T18:40:06.247Z"
   },
   {
    "duration": 4,
    "start_time": "2023-03-30T18:41:10.719Z"
   },
   {
    "duration": 274,
    "start_time": "2023-03-30T18:41:28.511Z"
   },
   {
    "duration": 3,
    "start_time": "2023-03-30T18:42:21.815Z"
   },
   {
    "duration": 3,
    "start_time": "2023-03-30T18:42:25.534Z"
   },
   {
    "duration": 4,
    "start_time": "2023-03-30T18:42:27.156Z"
   },
   {
    "duration": 3,
    "start_time": "2023-03-30T18:42:27.757Z"
   },
   {
    "duration": 199,
    "start_time": "2023-03-30T18:42:33.592Z"
   },
   {
    "duration": 9,
    "start_time": "2023-03-30T18:43:43.323Z"
   },
   {
    "duration": 27,
    "start_time": "2023-03-30T18:43:54.514Z"
   },
   {
    "duration": 40,
    "start_time": "2023-03-30T18:47:23.091Z"
   },
   {
    "duration": 36,
    "start_time": "2023-03-30T18:47:41.157Z"
   },
   {
    "duration": 4,
    "start_time": "2023-03-30T18:47:54.689Z"
   },
   {
    "duration": 14,
    "start_time": "2023-03-30T18:47:54.695Z"
   },
   {
    "duration": 12,
    "start_time": "2023-03-30T18:47:54.711Z"
   },
   {
    "duration": 76,
    "start_time": "2023-03-30T18:47:54.725Z"
   },
   {
    "duration": 15,
    "start_time": "2023-03-30T18:47:54.804Z"
   },
   {
    "duration": 699,
    "start_time": "2023-03-30T18:47:54.821Z"
   },
   {
    "duration": 15,
    "start_time": "2023-03-30T18:47:55.522Z"
   },
   {
    "duration": 18,
    "start_time": "2023-03-30T18:47:55.539Z"
   },
   {
    "duration": 4,
    "start_time": "2023-03-30T18:47:55.559Z"
   },
   {
    "duration": 41,
    "start_time": "2023-03-30T18:48:00.091Z"
   },
   {
    "duration": 36,
    "start_time": "2023-03-30T18:48:26.881Z"
   },
   {
    "duration": 4,
    "start_time": "2023-03-30T18:48:42.323Z"
   },
   {
    "duration": 6,
    "start_time": "2023-03-30T18:48:49.530Z"
   },
   {
    "duration": 24,
    "start_time": "2023-03-30T18:48:52.330Z"
   },
   {
    "duration": 5,
    "start_time": "2023-03-30T18:48:54.107Z"
   },
   {
    "duration": 220,
    "start_time": "2023-03-30T18:48:55.591Z"
   },
   {
    "duration": 37,
    "start_time": "2023-03-30T18:49:00.211Z"
   },
   {
    "duration": 260,
    "start_time": "2023-03-30T18:49:01.955Z"
   },
   {
    "duration": 12,
    "start_time": "2023-03-30T18:49:04.057Z"
   },
   {
    "duration": 19,
    "start_time": "2023-03-30T18:49:10.468Z"
   },
   {
    "duration": 14,
    "start_time": "2023-03-30T18:49:13.099Z"
   },
   {
    "duration": 16,
    "start_time": "2023-03-30T18:49:49.113Z"
   },
   {
    "duration": 232,
    "start_time": "2023-03-30T18:50:05.272Z"
   },
   {
    "duration": 14,
    "start_time": "2023-03-30T18:57:06.372Z"
   },
   {
    "duration": 4,
    "start_time": "2023-03-30T18:57:14.503Z"
   },
   {
    "duration": 11,
    "start_time": "2023-03-30T18:57:20.916Z"
   },
   {
    "duration": 11,
    "start_time": "2023-03-30T18:57:47.773Z"
   },
   {
    "duration": 6,
    "start_time": "2023-03-30T18:58:05.828Z"
   },
   {
    "duration": 5,
    "start_time": "2023-03-30T18:58:16.399Z"
   },
   {
    "duration": 5,
    "start_time": "2023-03-30T18:58:19.011Z"
   },
   {
    "duration": 60,
    "start_time": "2023-03-30T18:58:23.377Z"
   },
   {
    "duration": 82,
    "start_time": "2023-03-30T18:58:47.345Z"
   },
   {
    "duration": 2377,
    "start_time": "2023-03-30T18:58:52.705Z"
   },
   {
    "duration": 2553,
    "start_time": "2023-03-30T18:59:09.019Z"
   },
   {
    "duration": 2384,
    "start_time": "2023-03-30T18:59:29.813Z"
   },
   {
    "duration": 1219,
    "start_time": "2023-03-30T18:59:41.408Z"
   },
   {
    "duration": 2441,
    "start_time": "2023-03-30T18:59:49.541Z"
   },
   {
    "duration": 59,
    "start_time": "2023-03-30T19:02:16.406Z"
   },
   {
    "duration": 2386,
    "start_time": "2023-03-30T19:02:22.255Z"
   },
   {
    "duration": 2463,
    "start_time": "2023-03-30T19:02:35.108Z"
   },
   {
    "duration": 2349,
    "start_time": "2023-03-30T19:02:41.323Z"
   },
   {
    "duration": 59,
    "start_time": "2023-03-30T19:02:44.489Z"
   },
   {
    "duration": 2303,
    "start_time": "2023-03-30T19:02:46.494Z"
   },
   {
    "duration": 2345,
    "start_time": "2023-03-30T19:02:51.130Z"
   },
   {
    "duration": 2447,
    "start_time": "2023-03-30T19:03:07.619Z"
   },
   {
    "duration": 59,
    "start_time": "2023-03-30T19:03:26.686Z"
   },
   {
    "duration": 2637,
    "start_time": "2023-03-30T19:03:30.232Z"
   },
   {
    "duration": 7967,
    "start_time": "2023-03-30T19:04:06.720Z"
   },
   {
    "duration": 7899,
    "start_time": "2023-03-30T19:05:21.101Z"
   },
   {
    "duration": 7420,
    "start_time": "2023-03-30T19:05:55.389Z"
   },
   {
    "duration": 122122,
    "start_time": "2023-03-30T19:08:01.344Z"
   },
   {
    "duration": 6,
    "start_time": "2023-03-30T19:11:42.513Z"
   },
   {
    "duration": 6,
    "start_time": "2023-03-30T19:11:49.986Z"
   },
   {
    "duration": 13,
    "start_time": "2023-03-30T19:13:08.127Z"
   },
   {
    "duration": 11,
    "start_time": "2023-03-30T19:13:31.300Z"
   },
   {
    "duration": 3,
    "start_time": "2023-03-30T19:14:07.827Z"
   },
   {
    "duration": 9,
    "start_time": "2023-03-30T19:14:07.832Z"
   },
   {
    "duration": 19,
    "start_time": "2023-03-30T19:14:07.843Z"
   },
   {
    "duration": 66,
    "start_time": "2023-03-30T19:14:07.863Z"
   },
   {
    "duration": 11,
    "start_time": "2023-03-30T19:14:07.931Z"
   },
   {
    "duration": 591,
    "start_time": "2023-03-30T19:14:07.944Z"
   },
   {
    "duration": 12,
    "start_time": "2023-03-30T19:14:08.537Z"
   },
   {
    "duration": 19,
    "start_time": "2023-03-30T19:14:08.551Z"
   },
   {
    "duration": 4,
    "start_time": "2023-03-30T19:14:08.572Z"
   },
   {
    "duration": 5,
    "start_time": "2023-03-30T19:14:13.285Z"
   },
   {
    "duration": 38,
    "start_time": "2023-03-30T19:14:16.405Z"
   },
   {
    "duration": 4,
    "start_time": "2023-03-30T19:14:18.560Z"
   },
   {
    "duration": 6,
    "start_time": "2023-03-30T19:14:22.137Z"
   },
   {
    "duration": 89,
    "start_time": "2023-03-30T19:14:22.145Z"
   },
   {
    "duration": 105,
    "start_time": "2023-03-30T19:14:22.236Z"
   },
   {
    "duration": 277,
    "start_time": "2023-03-30T19:14:22.343Z"
   },
   {
    "duration": 29,
    "start_time": "2023-03-30T19:14:22.622Z"
   },
   {
    "duration": 381,
    "start_time": "2023-03-30T19:14:22.653Z"
   },
   {
    "duration": 10,
    "start_time": "2023-03-30T19:14:23.036Z"
   },
   {
    "duration": 87,
    "start_time": "2023-03-30T19:14:23.048Z"
   },
   {
    "duration": 101,
    "start_time": "2023-03-30T19:14:23.137Z"
   },
   {
    "duration": 49,
    "start_time": "2023-03-30T19:14:23.239Z"
   },
   {
    "duration": 396,
    "start_time": "2023-03-30T19:14:23.289Z"
   },
   {
    "duration": 2114,
    "start_time": "2023-03-30T19:14:23.687Z"
   },
   {
    "duration": 6950,
    "start_time": "2023-03-30T19:14:25.802Z"
   },
   {
    "duration": 110249,
    "start_time": "2023-03-30T19:14:32.754Z"
   },
   {
    "duration": 277,
    "start_time": "2023-03-30T19:18:48.642Z"
   },
   {
    "duration": 150274,
    "start_time": "2023-03-30T19:20:00.743Z"
   },
   {
    "duration": 68290,
    "start_time": "2023-03-30T19:44:36.814Z"
   },
   {
    "duration": 44239,
    "start_time": "2023-03-30T19:48:05.159Z"
   },
   {
    "duration": 18370,
    "start_time": "2023-03-30T19:48:49.400Z"
   },
   {
    "duration": 4,
    "start_time": "2023-03-30T19:50:13.592Z"
   },
   {
    "duration": 4,
    "start_time": "2023-03-30T19:50:17.682Z"
   },
   {
    "duration": 72077,
    "start_time": "2023-03-30T19:50:47.928Z"
   },
   {
    "duration": 7,
    "start_time": "2023-03-30T19:52:23.305Z"
   },
   {
    "duration": 7,
    "start_time": "2023-03-30T19:52:28.700Z"
   },
   {
    "duration": 9,
    "start_time": "2023-03-30T19:52:33.596Z"
   },
   {
    "duration": 7,
    "start_time": "2023-03-30T19:52:37.141Z"
   },
   {
    "duration": 6,
    "start_time": "2023-03-30T19:52:40.410Z"
   },
   {
    "duration": 297057,
    "start_time": "2023-03-30T19:52:45.429Z"
   },
   {
    "duration": 56327,
    "start_time": "2023-03-30T19:58:01.561Z"
   },
   {
    "duration": 8,
    "start_time": "2023-03-30T19:59:12.878Z"
   },
   {
    "duration": 61225,
    "start_time": "2023-03-30T19:59:18.801Z"
   },
   {
    "duration": 10,
    "start_time": "2023-03-30T20:00:20.035Z"
   },
   {
    "duration": 5,
    "start_time": "2023-03-30T20:00:50.227Z"
   },
   {
    "duration": 6,
    "start_time": "2023-03-30T20:01:04.798Z"
   },
   {
    "duration": 121,
    "start_time": "2023-03-30T20:01:12.315Z"
   },
   {
    "duration": 8,
    "start_time": "2023-03-30T20:01:17.717Z"
   },
   {
    "duration": 309,
    "start_time": "2023-03-30T20:01:22.329Z"
   },
   {
    "duration": 34,
    "start_time": "2023-03-30T20:01:25.782Z"
   },
   {
    "duration": 7,
    "start_time": "2023-03-30T20:01:27.006Z"
   },
   {
    "duration": 337,
    "start_time": "2023-03-30T20:01:28.332Z"
   },
   {
    "duration": 6,
    "start_time": "2023-03-30T20:01:41.254Z"
   },
   {
    "duration": 27,
    "start_time": "2023-03-30T20:02:07.922Z"
   },
   {
    "duration": 6,
    "start_time": "2023-03-30T20:02:09.079Z"
   },
   {
    "duration": 301,
    "start_time": "2023-03-30T20:02:09.936Z"
   },
   {
    "duration": 7,
    "start_time": "2023-03-30T20:02:12.478Z"
   },
   {
    "duration": 39,
    "start_time": "2023-03-30T20:02:14.544Z"
   },
   {
    "duration": 249,
    "start_time": "2023-03-30T20:02:16.171Z"
   },
   {
    "duration": 11,
    "start_time": "2023-03-30T20:02:19.936Z"
   },
   {
    "duration": 14,
    "start_time": "2023-03-30T20:02:36.969Z"
   },
   {
    "duration": 36,
    "start_time": "2023-03-30T20:02:38.009Z"
   },
   {
    "duration": 11,
    "start_time": "2023-03-30T20:02:48.538Z"
   },
   {
    "duration": 23,
    "start_time": "2023-03-30T20:02:49.578Z"
   },
   {
    "duration": 27978,
    "start_time": "2023-03-30T20:03:19.907Z"
   },
   {
    "duration": 43508,
    "start_time": "2023-03-30T20:04:25.210Z"
   },
   {
    "duration": 2320,
    "start_time": "2023-03-30T20:05:36.743Z"
   },
   {
    "duration": 7347,
    "start_time": "2023-03-30T20:05:41.141Z"
   },
   {
    "duration": 7357,
    "start_time": "2023-03-30T20:05:49.659Z"
   },
   {
    "duration": 2354,
    "start_time": "2023-03-30T20:06:09.068Z"
   },
   {
    "duration": 7209,
    "start_time": "2023-03-30T20:06:13.047Z"
   },
   {
    "duration": 79943,
    "start_time": "2023-03-30T20:07:07.154Z"
   },
   {
    "duration": 4127,
    "start_time": "2023-03-30T20:09:31.766Z"
   },
   {
    "duration": 2139,
    "start_time": "2023-03-30T20:09:42.317Z"
   },
   {
    "duration": 7439,
    "start_time": "2023-03-30T20:09:59.724Z"
   },
   {
    "duration": 16,
    "start_time": "2023-03-30T20:11:22.124Z"
   },
   {
    "duration": 123,
    "start_time": "2023-03-30T20:11:23.925Z"
   },
   {
    "duration": 3071,
    "start_time": "2023-03-30T20:12:14.679Z"
   },
   {
    "duration": 9632,
    "start_time": "2023-03-30T20:12:43.003Z"
   },
   {
    "duration": 2154,
    "start_time": "2023-03-30T20:13:24.887Z"
   },
   {
    "duration": 7246,
    "start_time": "2023-03-30T20:14:13.131Z"
   },
   {
    "duration": 7,
    "start_time": "2023-03-30T20:15:16.620Z"
   },
   {
    "duration": 7425,
    "start_time": "2023-03-30T20:16:49.633Z"
   },
   {
    "duration": 256,
    "start_time": "2023-03-30T20:18:06.350Z"
   },
   {
    "duration": 116,
    "start_time": "2023-03-30T20:18:13.571Z"
   },
   {
    "duration": 186,
    "start_time": "2023-03-30T20:18:23.738Z"
   },
   {
    "duration": 13,
    "start_time": "2023-03-30T20:19:11.520Z"
   },
   {
    "duration": 235,
    "start_time": "2023-03-30T20:19:12.700Z"
   },
   {
    "duration": 9,
    "start_time": "2023-03-30T20:19:29.793Z"
   },
   {
    "duration": 14,
    "start_time": "2023-03-30T20:20:58.408Z"
   },
   {
    "duration": 2246,
    "start_time": "2023-03-30T20:21:08.525Z"
   },
   {
    "duration": 2081,
    "start_time": "2023-03-30T20:22:35.439Z"
   },
   {
    "duration": 5765,
    "start_time": "2023-03-30T20:23:11.073Z"
   },
   {
    "duration": 11,
    "start_time": "2023-03-30T20:24:06.372Z"
   },
   {
    "duration": 13,
    "start_time": "2023-03-30T20:24:07.870Z"
   },
   {
    "duration": 2911,
    "start_time": "2023-03-30T20:24:27.085Z"
   },
   {
    "duration": 2818,
    "start_time": "2023-03-30T20:24:50.997Z"
   },
   {
    "duration": 9415,
    "start_time": "2023-03-30T20:25:00.814Z"
   },
   {
    "duration": 26833,
    "start_time": "2023-03-30T20:25:29.775Z"
   },
   {
    "duration": 2782,
    "start_time": "2023-03-30T20:27:12.338Z"
   },
   {
    "duration": 9134,
    "start_time": "2023-03-30T20:27:16.705Z"
   },
   {
    "duration": 9232,
    "start_time": "2023-03-30T20:27:40.226Z"
   },
   {
    "duration": 9152,
    "start_time": "2023-03-30T20:28:15.369Z"
   },
   {
    "duration": 9877,
    "start_time": "2023-03-30T20:29:29.246Z"
   },
   {
    "duration": 9073,
    "start_time": "2023-03-30T20:30:15.195Z"
   },
   {
    "duration": 9000,
    "start_time": "2023-03-30T20:30:42.695Z"
   },
   {
    "duration": 9320,
    "start_time": "2023-03-30T20:32:11.803Z"
   },
   {
    "duration": 9067,
    "start_time": "2023-03-30T20:32:33.953Z"
   },
   {
    "duration": 2791,
    "start_time": "2023-03-30T20:32:50.462Z"
   },
   {
    "duration": 2822,
    "start_time": "2023-03-30T20:33:52.938Z"
   },
   {
    "duration": 9020,
    "start_time": "2023-03-30T20:33:57.423Z"
   },
   {
    "duration": 50,
    "start_time": "2023-03-30T20:36:07.770Z"
   },
   {
    "duration": 5,
    "start_time": "2023-03-30T20:43:21.474Z"
   },
   {
    "duration": 6,
    "start_time": "2023-03-30T20:45:08.000Z"
   },
   {
    "duration": 10,
    "start_time": "2023-03-30T20:45:09.868Z"
   },
   {
    "duration": 519,
    "start_time": "2023-03-30T20:48:32.495Z"
   },
   {
    "duration": 127,
    "start_time": "2023-03-30T20:48:52.737Z"
   },
   {
    "duration": 192,
    "start_time": "2023-03-30T20:48:59.818Z"
   },
   {
    "duration": 12,
    "start_time": "2023-03-30T20:50:50.404Z"
   },
   {
    "duration": 640,
    "start_time": "2023-03-30T20:50:52.149Z"
   },
   {
    "duration": 9,
    "start_time": "2023-03-30T20:50:55.964Z"
   },
   {
    "duration": 374,
    "start_time": "2023-03-30T20:50:57.663Z"
   },
   {
    "duration": 17,
    "start_time": "2023-03-30T20:51:07.789Z"
   },
   {
    "duration": 12,
    "start_time": "2023-03-30T20:51:10.969Z"
   },
   {
    "duration": 379,
    "start_time": "2023-03-30T20:51:13.205Z"
   },
   {
    "duration": 10,
    "start_time": "2023-03-30T20:51:31.928Z"
   },
   {
    "duration": 13,
    "start_time": "2023-03-30T20:51:35.834Z"
   },
   {
    "duration": 550,
    "start_time": "2023-03-30T20:51:36.623Z"
   },
   {
    "duration": 10,
    "start_time": "2023-03-30T20:51:41.199Z"
   },
   {
    "duration": 476,
    "start_time": "2023-03-30T20:51:43.091Z"
   },
   {
    "duration": 110,
    "start_time": "2023-03-30T20:51:49.409Z"
   },
   {
    "duration": 46,
    "start_time": "2023-03-30T20:51:53.182Z"
   },
   {
    "duration": 10,
    "start_time": "2023-03-30T20:51:54.704Z"
   },
   {
    "duration": 385,
    "start_time": "2023-03-30T20:51:59.820Z"
   },
   {
    "duration": 113,
    "start_time": "2023-03-30T20:52:01.696Z"
   },
   {
    "duration": 7,
    "start_time": "2023-03-30T21:15:54.489Z"
   },
   {
    "duration": 11,
    "start_time": "2023-03-30T21:15:59.236Z"
   },
   {
    "duration": 463,
    "start_time": "2023-03-30T21:16:00.679Z"
   },
   {
    "duration": 184,
    "start_time": "2023-03-30T21:16:05.416Z"
   },
   {
    "duration": 1366,
    "start_time": "2023-03-30T21:16:30.916Z"
   },
   {
    "duration": 3,
    "start_time": "2023-03-30T21:16:32.284Z"
   },
   {
    "duration": 34,
    "start_time": "2023-03-30T21:16:32.288Z"
   },
   {
    "duration": 90,
    "start_time": "2023-03-30T21:16:32.324Z"
   },
   {
    "duration": 13,
    "start_time": "2023-03-30T21:16:32.417Z"
   },
   {
    "duration": 629,
    "start_time": "2023-03-30T21:16:32.432Z"
   },
   {
    "duration": 12,
    "start_time": "2023-03-30T21:16:33.063Z"
   },
   {
    "duration": 26,
    "start_time": "2023-03-30T21:16:33.077Z"
   },
   {
    "duration": 5,
    "start_time": "2023-03-30T21:16:33.104Z"
   },
   {
    "duration": 10,
    "start_time": "2023-03-30T21:16:33.110Z"
   },
   {
    "duration": 48,
    "start_time": "2023-03-30T21:16:33.135Z"
   },
   {
    "duration": 4,
    "start_time": "2023-03-30T21:16:33.185Z"
   },
   {
    "duration": 14,
    "start_time": "2023-03-30T21:16:33.190Z"
   },
   {
    "duration": 128,
    "start_time": "2023-03-30T21:16:33.207Z"
   },
   {
    "duration": 106,
    "start_time": "2023-03-30T21:16:33.338Z"
   },
   {
    "duration": 301,
    "start_time": "2023-03-30T21:16:33.445Z"
   },
   {
    "duration": 6,
    "start_time": "2023-03-30T21:16:33.748Z"
   },
   {
    "duration": 2278,
    "start_time": "2023-03-30T21:16:33.756Z"
   },
   {
    "duration": 7266,
    "start_time": "2023-03-30T21:16:36.036Z"
   },
   {
    "duration": 116,
    "start_time": "2023-03-30T21:16:43.304Z"
   },
   {
    "duration": 2170,
    "start_time": "2023-03-30T21:16:43.421Z"
   },
   {
    "duration": 5571,
    "start_time": "2023-03-30T21:16:45.594Z"
   },
   {
    "duration": 11,
    "start_time": "2023-03-30T21:16:51.167Z"
   },
   {
    "duration": 10,
    "start_time": "2023-03-30T21:16:51.179Z"
   },
   {
    "duration": 2764,
    "start_time": "2023-03-30T21:16:51.191Z"
   },
   {
    "duration": 9221,
    "start_time": "2023-03-30T21:16:53.957Z"
   },
   {
    "duration": 2861,
    "start_time": "2023-03-30T21:17:03.180Z"
   },
   {
    "duration": 9352,
    "start_time": "2023-03-30T21:17:06.043Z"
   },
   {
    "duration": 5,
    "start_time": "2023-03-30T21:17:15.397Z"
   },
   {
    "duration": 14,
    "start_time": "2023-03-30T21:17:15.403Z"
   },
   {
    "duration": 450,
    "start_time": "2023-03-30T21:17:15.419Z"
   },
   {
    "duration": 113,
    "start_time": "2023-03-30T21:17:15.870Z"
   },
   {
    "duration": 4,
    "start_time": "2023-03-30T21:20:15.685Z"
   },
   {
    "duration": 29,
    "start_time": "2023-03-30T21:21:33.142Z"
   },
   {
    "duration": 25,
    "start_time": "2023-03-30T21:22:42.860Z"
   },
   {
    "duration": 27,
    "start_time": "2023-03-30T21:22:51.094Z"
   },
   {
    "duration": 4,
    "start_time": "2023-03-30T21:26:33.684Z"
   },
   {
    "duration": 20,
    "start_time": "2023-03-30T21:26:33.691Z"
   },
   {
    "duration": 36,
    "start_time": "2023-03-30T21:26:33.713Z"
   },
   {
    "duration": 69,
    "start_time": "2023-03-30T21:26:33.750Z"
   },
   {
    "duration": 12,
    "start_time": "2023-03-30T21:26:33.822Z"
   },
   {
    "duration": 644,
    "start_time": "2023-03-30T21:26:33.835Z"
   },
   {
    "duration": 10,
    "start_time": "2023-03-30T21:26:34.481Z"
   },
   {
    "duration": 27,
    "start_time": "2023-03-30T21:26:34.493Z"
   },
   {
    "duration": 13,
    "start_time": "2023-03-30T21:26:34.522Z"
   },
   {
    "duration": 111,
    "start_time": "2023-03-30T21:26:37.808Z"
   },
   {
    "duration": 8,
    "start_time": "2023-03-30T21:26:40.992Z"
   },
   {
    "duration": 10,
    "start_time": "2023-03-30T21:27:32.600Z"
   },
   {
    "duration": 1217,
    "start_time": "2023-03-30T21:28:15.479Z"
   },
   {
    "duration": 2,
    "start_time": "2023-03-30T21:28:16.698Z"
   },
   {
    "duration": 9,
    "start_time": "2023-03-30T21:28:16.702Z"
   },
   {
    "duration": 57,
    "start_time": "2023-03-30T21:28:16.712Z"
   },
   {
    "duration": 11,
    "start_time": "2023-03-30T21:28:16.771Z"
   },
   {
    "duration": 564,
    "start_time": "2023-03-30T21:28:16.783Z"
   },
   {
    "duration": 12,
    "start_time": "2023-03-30T21:28:17.348Z"
   },
   {
    "duration": 17,
    "start_time": "2023-03-30T21:28:17.362Z"
   },
   {
    "duration": 4,
    "start_time": "2023-03-30T21:28:17.381Z"
   },
   {
    "duration": 15,
    "start_time": "2023-03-30T21:28:17.386Z"
   },
   {
    "duration": 63,
    "start_time": "2023-03-30T21:28:17.403Z"
   },
   {
    "duration": 5,
    "start_time": "2023-03-30T21:28:17.467Z"
   },
   {
    "duration": 11,
    "start_time": "2023-03-30T21:28:17.473Z"
   },
   {
    "duration": 48,
    "start_time": "2023-03-30T21:28:17.488Z"
   },
   {
    "duration": 99,
    "start_time": "2023-03-30T21:28:17.537Z"
   },
   {
    "duration": 300,
    "start_time": "2023-03-30T21:28:17.637Z"
   },
   {
    "duration": 7,
    "start_time": "2023-03-30T21:28:17.939Z"
   },
   {
    "duration": 2024,
    "start_time": "2023-03-30T21:28:17.947Z"
   },
   {
    "duration": 6928,
    "start_time": "2023-03-30T21:28:19.973Z"
   },
   {
    "duration": 110,
    "start_time": "2023-03-30T21:28:26.902Z"
   },
   {
    "duration": 2963,
    "start_time": "2023-03-30T21:28:27.013Z"
   },
   {
    "duration": 5698,
    "start_time": "2023-03-30T21:28:29.978Z"
   },
   {
    "duration": 10,
    "start_time": "2023-03-30T21:28:35.678Z"
   },
   {
    "duration": 10,
    "start_time": "2023-03-30T21:28:35.689Z"
   },
   {
    "duration": 2794,
    "start_time": "2023-03-30T21:28:35.702Z"
   },
   {
    "duration": 8878,
    "start_time": "2023-03-30T21:28:38.497Z"
   },
   {
    "duration": 2716,
    "start_time": "2023-03-30T21:28:47.377Z"
   },
   {
    "duration": 8831,
    "start_time": "2023-03-30T21:28:50.094Z"
   },
   {
    "duration": 10,
    "start_time": "2023-03-30T21:28:58.926Z"
   },
   {
    "duration": 13,
    "start_time": "2023-03-30T21:28:58.937Z"
   },
   {
    "duration": 440,
    "start_time": "2023-03-30T21:28:58.951Z"
   },
   {
    "duration": 108,
    "start_time": "2023-03-30T21:28:59.393Z"
   },
   {
    "duration": 37,
    "start_time": "2023-03-30T21:28:59.503Z"
   },
   {
    "duration": 6,
    "start_time": "2023-03-30T21:32:47.273Z"
   },
   {
    "duration": 103,
    "start_time": "2023-03-30T21:33:30.345Z"
   },
   {
    "duration": 4,
    "start_time": "2023-03-30T21:33:36.231Z"
   },
   {
    "duration": 33,
    "start_time": "2023-03-30T22:03:14.625Z"
   },
   {
    "duration": 5,
    "start_time": "2023-03-30T22:03:51.680Z"
   },
   {
    "duration": 5,
    "start_time": "2023-03-30T22:04:26.311Z"
   },
   {
    "duration": 6,
    "start_time": "2023-03-30T22:04:32.167Z"
   },
   {
    "duration": 548,
    "start_time": "2023-03-30T22:27:54.375Z"
   },
   {
    "duration": 111,
    "start_time": "2023-03-30T22:27:57.740Z"
   },
   {
    "duration": 206,
    "start_time": "2023-03-30T22:28:05.433Z"
   },
   {
    "duration": 7,
    "start_time": "2023-03-30T22:28:20.396Z"
   },
   {
    "duration": 8,
    "start_time": "2023-03-30T22:28:37.354Z"
   },
   {
    "duration": 9,
    "start_time": "2023-03-30T22:28:46.920Z"
   },
   {
    "duration": 9,
    "start_time": "2023-03-30T22:28:55.420Z"
   },
   {
    "duration": 3,
    "start_time": "2023-03-30T22:31:44.470Z"
   },
   {
    "duration": 16,
    "start_time": "2023-03-30T22:31:44.475Z"
   },
   {
    "duration": 7,
    "start_time": "2023-03-30T22:31:44.494Z"
   },
   {
    "duration": 72,
    "start_time": "2023-03-30T22:31:44.504Z"
   },
   {
    "duration": 16,
    "start_time": "2023-03-30T22:31:44.578Z"
   },
   {
    "duration": 667,
    "start_time": "2023-03-30T22:31:44.596Z"
   },
   {
    "duration": 13,
    "start_time": "2023-03-30T22:31:45.265Z"
   },
   {
    "duration": 27,
    "start_time": "2023-03-30T22:31:45.280Z"
   },
   {
    "duration": 27,
    "start_time": "2023-03-30T22:31:45.310Z"
   },
   {
    "duration": 11,
    "start_time": "2023-03-30T22:31:45.338Z"
   },
   {
    "duration": 47,
    "start_time": "2023-03-30T22:31:45.351Z"
   },
   {
    "duration": 4,
    "start_time": "2023-03-30T22:31:45.399Z"
   },
   {
    "duration": 31,
    "start_time": "2023-03-30T22:31:45.405Z"
   },
   {
    "duration": 30,
    "start_time": "2023-03-30T22:31:45.438Z"
   },
   {
    "duration": 65,
    "start_time": "2023-03-30T22:31:45.474Z"
   },
   {
    "duration": 384,
    "start_time": "2023-03-30T22:31:45.541Z"
   },
   {
    "duration": 12,
    "start_time": "2023-03-30T22:31:45.926Z"
   },
   {
    "duration": 2129,
    "start_time": "2023-03-30T22:31:45.939Z"
   },
   {
    "duration": 7146,
    "start_time": "2023-03-30T22:31:48.069Z"
   },
   {
    "duration": 134,
    "start_time": "2023-03-30T22:31:55.217Z"
   },
   {
    "duration": 2116,
    "start_time": "2023-03-30T22:31:55.353Z"
   },
   {
    "duration": 5625,
    "start_time": "2023-03-30T22:31:57.471Z"
   },
   {
    "duration": 11,
    "start_time": "2023-03-30T22:32:03.097Z"
   },
   {
    "duration": 35,
    "start_time": "2023-03-30T22:32:03.111Z"
   },
   {
    "duration": 3057,
    "start_time": "2023-03-30T22:32:03.148Z"
   },
   {
    "duration": 10779,
    "start_time": "2023-03-30T22:32:06.207Z"
   },
   {
    "duration": 3047,
    "start_time": "2023-03-30T22:32:16.988Z"
   },
   {
    "duration": 9439,
    "start_time": "2023-03-30T22:32:20.040Z"
   },
   {
    "duration": 7,
    "start_time": "2023-03-30T22:32:29.481Z"
   },
   {
    "duration": 22,
    "start_time": "2023-03-30T22:32:29.489Z"
   },
   {
    "duration": 497,
    "start_time": "2023-03-30T22:32:29.513Z"
   },
   {
    "duration": 130,
    "start_time": "2023-03-30T22:32:30.012Z"
   },
   {
    "duration": 29,
    "start_time": "2023-03-30T22:32:30.145Z"
   },
   {
    "duration": 537,
    "start_time": "2023-03-30T22:33:06.405Z"
   },
   {
    "duration": 138,
    "start_time": "2023-03-30T22:33:08.944Z"
   },
   {
    "duration": 1372,
    "start_time": "2023-03-30T22:33:23.142Z"
   },
   {
    "duration": 4,
    "start_time": "2023-03-30T22:33:24.516Z"
   },
   {
    "duration": 59,
    "start_time": "2023-03-30T22:33:24.523Z"
   },
   {
    "duration": 90,
    "start_time": "2023-03-30T22:33:24.584Z"
   },
   {
    "duration": 19,
    "start_time": "2023-03-30T22:33:24.677Z"
   },
   {
    "duration": 1280,
    "start_time": "2023-03-30T22:33:24.698Z"
   },
   {
    "duration": 74,
    "start_time": "2023-03-30T22:33:25.980Z"
   },
   {
    "duration": 79,
    "start_time": "2023-03-30T22:33:26.056Z"
   },
   {
    "duration": 6,
    "start_time": "2023-03-30T22:33:26.137Z"
   },
   {
    "duration": 31,
    "start_time": "2023-03-30T22:33:26.145Z"
   },
   {
    "duration": 163,
    "start_time": "2023-03-30T22:33:26.179Z"
   },
   {
    "duration": 5,
    "start_time": "2023-03-30T22:33:26.344Z"
   },
   {
    "duration": 17,
    "start_time": "2023-03-30T22:33:26.358Z"
   },
   {
    "duration": 164,
    "start_time": "2023-03-30T22:33:26.380Z"
   },
   {
    "duration": 15,
    "start_time": "2023-03-30T22:33:26.546Z"
   },
   {
    "duration": 581,
    "start_time": "2023-03-30T22:33:26.563Z"
   },
   {
    "duration": 10,
    "start_time": "2023-03-30T22:33:27.145Z"
   },
   {
    "duration": 2763,
    "start_time": "2023-03-30T22:33:27.165Z"
   },
   {
    "duration": 8294,
    "start_time": "2023-03-30T22:33:29.935Z"
   },
   {
    "duration": 138,
    "start_time": "2023-03-30T22:33:38.231Z"
   },
   {
    "duration": 2426,
    "start_time": "2023-03-30T22:33:38.371Z"
   },
   {
    "duration": 6044,
    "start_time": "2023-03-30T22:33:40.799Z"
   },
   {
    "duration": 17,
    "start_time": "2023-03-30T22:33:46.846Z"
   },
   {
    "duration": 25,
    "start_time": "2023-03-30T22:33:46.868Z"
   },
   {
    "duration": 3014,
    "start_time": "2023-03-30T22:33:46.895Z"
   },
   {
    "duration": 9661,
    "start_time": "2023-03-30T22:33:49.910Z"
   },
   {
    "duration": 3095,
    "start_time": "2023-03-30T22:33:59.573Z"
   },
   {
    "duration": 10326,
    "start_time": "2023-03-30T22:34:02.670Z"
   },
   {
    "duration": 7,
    "start_time": "2023-03-30T22:34:12.998Z"
   },
   {
    "duration": 26,
    "start_time": "2023-03-30T22:34:13.006Z"
   },
   {
    "duration": 525,
    "start_time": "2023-03-30T22:34:13.034Z"
   },
   {
    "duration": 139,
    "start_time": "2023-03-30T22:34:13.561Z"
   },
   {
    "duration": 37,
    "start_time": "2023-03-30T22:34:13.702Z"
   },
   {
    "duration": 154,
    "start_time": "2023-03-30T22:35:01.441Z"
   },
   {
    "duration": 800,
    "start_time": "2023-03-30T22:35:11.989Z"
   },
   {
    "duration": 255,
    "start_time": "2023-03-30T22:35:25.004Z"
   },
   {
    "duration": 10,
    "start_time": "2023-03-30T22:36:18.066Z"
   },
   {
    "duration": 4,
    "start_time": "2023-03-30T22:36:22.720Z"
   },
   {
    "duration": 189,
    "start_time": "2023-03-30T22:36:24.573Z"
   },
   {
    "duration": 806,
    "start_time": "2023-03-30T22:36:35.557Z"
   },
   {
    "duration": 3,
    "start_time": "2023-03-30T22:37:04.149Z"
   },
   {
    "duration": 8,
    "start_time": "2023-03-30T22:37:32.703Z"
   },
   {
    "duration": 1500,
    "start_time": "2023-03-30T22:37:43.858Z"
   },
   {
    "duration": 4,
    "start_time": "2023-03-30T22:37:45.361Z"
   },
   {
    "duration": 6,
    "start_time": "2023-03-30T22:37:45.367Z"
   },
   {
    "duration": 58,
    "start_time": "2023-03-30T22:37:45.374Z"
   },
   {
    "duration": 17,
    "start_time": "2023-03-30T22:37:45.435Z"
   },
   {
    "duration": 622,
    "start_time": "2023-03-30T22:37:45.454Z"
   },
   {
    "duration": 11,
    "start_time": "2023-03-30T22:37:46.077Z"
   },
   {
    "duration": 3,
    "start_time": "2023-03-30T22:37:46.090Z"
   },
   {
    "duration": 1058,
    "start_time": "2023-03-30T22:37:46.094Z"
   },
   {
    "duration": 4,
    "start_time": "2023-03-30T22:37:47.156Z"
   },
   {
    "duration": 11,
    "start_time": "2023-03-30T22:37:47.161Z"
   },
   {
    "duration": 39,
    "start_time": "2023-03-30T22:37:47.174Z"
   },
   {
    "duration": 22,
    "start_time": "2023-03-30T22:37:47.215Z"
   },
   {
    "duration": 13,
    "start_time": "2023-03-30T22:37:47.240Z"
   },
   {
    "duration": 88,
    "start_time": "2023-03-30T22:37:47.255Z"
   },
   {
    "duration": 10,
    "start_time": "2023-03-30T22:37:47.345Z"
   },
   {
    "duration": 356,
    "start_time": "2023-03-30T22:37:47.434Z"
   },
   {
    "duration": 7,
    "start_time": "2023-03-30T22:37:47.792Z"
   },
   {
    "duration": 3151,
    "start_time": "2023-03-30T22:37:47.801Z"
   },
   {
    "duration": 7310,
    "start_time": "2023-03-30T22:37:50.954Z"
   },
   {
    "duration": 191,
    "start_time": "2023-03-30T22:37:58.266Z"
   },
   {
    "duration": 2234,
    "start_time": "2023-03-30T22:37:58.458Z"
   },
   {
    "duration": 6135,
    "start_time": "2023-03-30T22:38:00.694Z"
   },
   {
    "duration": 23,
    "start_time": "2023-03-30T22:38:06.835Z"
   },
   {
    "duration": 13,
    "start_time": "2023-03-30T22:38:06.863Z"
   },
   {
    "duration": 3275,
    "start_time": "2023-03-30T22:38:06.878Z"
   },
   {
    "duration": 10070,
    "start_time": "2023-03-30T22:38:10.155Z"
   },
   {
    "duration": 3014,
    "start_time": "2023-03-30T22:38:20.227Z"
   },
   {
    "duration": 10262,
    "start_time": "2023-03-30T22:38:23.243Z"
   },
   {
    "duration": 5,
    "start_time": "2023-03-30T22:38:33.507Z"
   },
   {
    "duration": 25,
    "start_time": "2023-03-30T22:38:33.514Z"
   },
   {
    "duration": 536,
    "start_time": "2023-03-30T22:38:33.540Z"
   },
   {
    "duration": 220,
    "start_time": "2023-03-30T22:38:34.078Z"
   },
   {
    "duration": 43,
    "start_time": "2023-03-30T22:38:34.300Z"
   },
   {
    "duration": 193,
    "start_time": "2023-03-30T22:39:08.792Z"
   },
   {
    "duration": 207,
    "start_time": "2023-03-30T22:39:20.863Z"
   },
   {
    "duration": 1474,
    "start_time": "2023-03-30T22:39:37.618Z"
   },
   {
    "duration": 3,
    "start_time": "2023-03-30T22:39:39.094Z"
   },
   {
    "duration": 9,
    "start_time": "2023-03-30T22:39:39.098Z"
   },
   {
    "duration": 80,
    "start_time": "2023-03-30T22:39:39.108Z"
   },
   {
    "duration": 12,
    "start_time": "2023-03-30T22:39:39.190Z"
   },
   {
    "duration": 664,
    "start_time": "2023-03-30T22:39:39.204Z"
   },
   {
    "duration": 10,
    "start_time": "2023-03-30T22:39:39.871Z"
   },
   {
    "duration": 3,
    "start_time": "2023-03-30T22:39:39.883Z"
   },
   {
    "duration": 1121,
    "start_time": "2023-03-30T22:39:39.888Z"
   },
   {
    "duration": 5,
    "start_time": "2023-03-30T22:39:41.011Z"
   },
   {
    "duration": 19,
    "start_time": "2023-03-30T22:39:41.018Z"
   },
   {
    "duration": 77,
    "start_time": "2023-03-30T22:39:41.044Z"
   },
   {
    "duration": 4,
    "start_time": "2023-03-30T22:39:41.122Z"
   },
   {
    "duration": 40,
    "start_time": "2023-03-30T22:39:41.129Z"
   },
   {
    "duration": 35,
    "start_time": "2023-03-30T22:39:41.171Z"
   },
   {
    "duration": 27,
    "start_time": "2023-03-30T22:39:41.208Z"
   },
   {
    "duration": 473,
    "start_time": "2023-03-30T22:39:41.236Z"
   },
   {
    "duration": 5,
    "start_time": "2023-03-30T22:39:41.711Z"
   },
   {
    "duration": 2276,
    "start_time": "2023-03-30T22:39:41.717Z"
   },
   {
    "duration": 7780,
    "start_time": "2023-03-30T22:39:43.994Z"
   },
   {
    "duration": 195,
    "start_time": "2023-03-30T22:39:51.776Z"
   },
   {
    "duration": 2346,
    "start_time": "2023-03-30T22:39:51.973Z"
   },
   {
    "duration": 6244,
    "start_time": "2023-03-30T22:39:54.320Z"
   },
   {
    "duration": 11,
    "start_time": "2023-03-30T22:40:00.566Z"
   },
   {
    "duration": 31,
    "start_time": "2023-03-30T22:40:00.578Z"
   },
   {
    "duration": 3100,
    "start_time": "2023-03-30T22:40:00.610Z"
   },
   {
    "duration": 10327,
    "start_time": "2023-03-30T22:40:03.712Z"
   },
   {
    "duration": 3069,
    "start_time": "2023-03-30T22:40:14.050Z"
   },
   {
    "duration": 9780,
    "start_time": "2023-03-30T22:40:17.120Z"
   },
   {
    "duration": 5,
    "start_time": "2023-03-30T22:40:26.902Z"
   },
   {
    "duration": 13,
    "start_time": "2023-03-30T22:40:26.908Z"
   },
   {
    "duration": 542,
    "start_time": "2023-03-30T22:40:26.922Z"
   },
   {
    "duration": 206,
    "start_time": "2023-03-30T22:40:27.466Z"
   },
   {
    "duration": 25,
    "start_time": "2023-03-30T22:40:27.674Z"
   },
   {
    "duration": 8,
    "start_time": "2023-04-01T01:48:35.878Z"
   },
   {
    "duration": 1677,
    "start_time": "2023-04-01T01:48:41.833Z"
   },
   {
    "duration": 2,
    "start_time": "2023-04-01T01:48:43.513Z"
   },
   {
    "duration": 4,
    "start_time": "2023-04-01T01:48:43.517Z"
   },
   {
    "duration": 99,
    "start_time": "2023-04-01T01:48:43.523Z"
   },
   {
    "duration": 12,
    "start_time": "2023-04-01T01:48:43.625Z"
   },
   {
    "duration": 606,
    "start_time": "2023-04-01T01:48:43.639Z"
   },
   {
    "duration": 20,
    "start_time": "2023-04-01T01:48:44.247Z"
   },
   {
    "duration": 4,
    "start_time": "2023-04-01T01:48:44.269Z"
   },
   {
    "duration": 13,
    "start_time": "2023-04-01T01:48:44.275Z"
   },
   {
    "duration": 519,
    "start_time": "2023-04-01T01:48:54.833Z"
   },
   {
    "duration": 88,
    "start_time": "2023-04-01T01:49:33.927Z"
   },
   {
    "duration": 3145,
    "start_time": "2023-04-01T01:49:38.227Z"
   },
   {
    "duration": 1381,
    "start_time": "2023-04-01T01:50:17.862Z"
   },
   {
    "duration": 4,
    "start_time": "2023-04-01T01:50:27.936Z"
   },
   {
    "duration": 7,
    "start_time": "2023-04-01T01:50:27.942Z"
   },
   {
    "duration": 6,
    "start_time": "2023-04-01T01:50:27.950Z"
   },
   {
    "duration": 58,
    "start_time": "2023-04-01T01:50:27.958Z"
   },
   {
    "duration": 14,
    "start_time": "2023-04-01T01:50:28.017Z"
   },
   {
    "duration": 651,
    "start_time": "2023-04-01T01:50:28.033Z"
   },
   {
    "duration": 13,
    "start_time": "2023-04-01T01:50:28.685Z"
   },
   {
    "duration": 5,
    "start_time": "2023-04-01T01:50:28.700Z"
   },
   {
    "duration": 4,
    "start_time": "2023-04-01T01:50:28.706Z"
   },
   {
    "duration": 554,
    "start_time": "2023-04-01T01:50:28.712Z"
   },
   {
    "duration": 9898,
    "start_time": "2023-04-01T01:50:50.377Z"
   },
   {
    "duration": 9923,
    "start_time": "2023-04-01T01:51:39.444Z"
   },
   {
    "duration": 116,
    "start_time": "2023-04-01T01:53:48.743Z"
   },
   {
    "duration": 3,
    "start_time": "2023-04-01T01:58:51.890Z"
   },
   {
    "duration": 5,
    "start_time": "2023-04-01T01:59:04.678Z"
   },
   {
    "duration": 11,
    "start_time": "2023-04-01T01:59:04.684Z"
   },
   {
    "duration": 6,
    "start_time": "2023-04-01T01:59:04.697Z"
   },
   {
    "duration": 51,
    "start_time": "2023-04-01T01:59:04.704Z"
   },
   {
    "duration": 11,
    "start_time": "2023-04-01T01:59:04.757Z"
   },
   {
    "duration": 591,
    "start_time": "2023-04-01T01:59:04.963Z"
   },
   {
    "duration": 15,
    "start_time": "2023-04-01T01:59:05.557Z"
   },
   {
    "duration": 3,
    "start_time": "2023-04-01T01:59:05.574Z"
   },
   {
    "duration": 6,
    "start_time": "2023-04-01T01:59:05.578Z"
   },
   {
    "duration": 471,
    "start_time": "2023-04-01T01:59:05.586Z"
   },
   {
    "duration": 4,
    "start_time": "2023-04-01T01:59:06.061Z"
   },
   {
    "duration": 20,
    "start_time": "2023-04-01T01:59:06.067Z"
   },
   {
    "duration": 48,
    "start_time": "2023-04-01T02:02:21.626Z"
   },
   {
    "duration": 39,
    "start_time": "2023-04-01T02:02:46.632Z"
   },
   {
    "duration": 14,
    "start_time": "2023-04-01T02:02:56.317Z"
   },
   {
    "duration": 4,
    "start_time": "2023-04-01T02:03:08.819Z"
   },
   {
    "duration": 4,
    "start_time": "2023-04-01T02:03:30.270Z"
   },
   {
    "duration": 32,
    "start_time": "2023-04-01T02:04:54.487Z"
   },
   {
    "duration": 251,
    "start_time": "2023-04-01T02:05:04.608Z"
   },
   {
    "duration": 11,
    "start_time": "2023-04-01T02:05:07.209Z"
   },
   {
    "duration": 50,
    "start_time": "2023-04-01T02:05:28.896Z"
   },
   {
    "duration": 40,
    "start_time": "2023-04-01T02:06:16.632Z"
   },
   {
    "duration": 13,
    "start_time": "2023-04-01T02:06:32.650Z"
   },
   {
    "duration": 8,
    "start_time": "2023-04-02T02:36:04.302Z"
   },
   {
    "duration": 4,
    "start_time": "2023-04-02T02:36:40.653Z"
   },
   {
    "duration": 9,
    "start_time": "2023-04-02T02:47:15.999Z"
   },
   {
    "duration": 40,
    "start_time": "2023-04-02T02:47:29.405Z"
   },
   {
    "duration": 6,
    "start_time": "2023-04-02T02:47:58.965Z"
   },
   {
    "duration": 5,
    "start_time": "2023-04-02T02:48:02.523Z"
   },
   {
    "duration": 4,
    "start_time": "2023-04-02T02:52:53.842Z"
   },
   {
    "duration": 4,
    "start_time": "2023-04-02T02:53:01.856Z"
   },
   {
    "duration": 3,
    "start_time": "2023-04-02T02:53:09.246Z"
   },
   {
    "duration": 4,
    "start_time": "2023-04-02T02:53:14.875Z"
   },
   {
    "duration": 4,
    "start_time": "2023-04-02T02:54:17.334Z"
   },
   {
    "duration": 3,
    "start_time": "2023-04-02T02:54:18.982Z"
   },
   {
    "duration": 3,
    "start_time": "2023-04-02T02:54:24.914Z"
   },
   {
    "duration": 4,
    "start_time": "2023-04-02T02:54:26.234Z"
   },
   {
    "duration": 7,
    "start_time": "2023-04-02T02:54:35.400Z"
   },
   {
    "duration": 3,
    "start_time": "2023-04-02T02:54:39.962Z"
   },
   {
    "duration": 3,
    "start_time": "2023-04-02T02:55:45.808Z"
   },
   {
    "duration": 2,
    "start_time": "2023-04-02T02:55:53.717Z"
   },
   {
    "duration": 3,
    "start_time": "2023-04-02T02:55:56.254Z"
   },
   {
    "duration": 4,
    "start_time": "2023-04-02T02:55:59.424Z"
   },
   {
    "duration": 4,
    "start_time": "2023-04-02T02:56:01.290Z"
   },
   {
    "duration": 1695,
    "start_time": "2023-04-02T21:29:29.045Z"
   },
   {
    "duration": 0,
    "start_time": "2023-04-02T21:29:30.742Z"
   },
   {
    "duration": 0,
    "start_time": "2023-04-02T21:29:30.743Z"
   },
   {
    "duration": 0,
    "start_time": "2023-04-02T21:29:30.745Z"
   },
   {
    "duration": 0,
    "start_time": "2023-04-02T21:29:30.746Z"
   },
   {
    "duration": 0,
    "start_time": "2023-04-02T21:29:30.747Z"
   },
   {
    "duration": 0,
    "start_time": "2023-04-02T21:29:30.748Z"
   },
   {
    "duration": 0,
    "start_time": "2023-04-02T21:29:30.750Z"
   },
   {
    "duration": 0,
    "start_time": "2023-04-02T21:29:30.751Z"
   },
   {
    "duration": 0,
    "start_time": "2023-04-02T21:29:30.752Z"
   },
   {
    "duration": 0,
    "start_time": "2023-04-02T21:29:30.753Z"
   },
   {
    "duration": 0,
    "start_time": "2023-04-02T21:29:30.754Z"
   },
   {
    "duration": 0,
    "start_time": "2023-04-02T21:29:30.755Z"
   },
   {
    "duration": 0,
    "start_time": "2023-04-02T21:29:30.756Z"
   },
   {
    "duration": 0,
    "start_time": "2023-04-02T21:29:30.757Z"
   },
   {
    "duration": 0,
    "start_time": "2023-04-02T21:29:30.758Z"
   },
   {
    "duration": 0,
    "start_time": "2023-04-02T21:29:30.759Z"
   },
   {
    "duration": 0,
    "start_time": "2023-04-02T21:29:30.761Z"
   },
   {
    "duration": 0,
    "start_time": "2023-04-02T21:29:30.762Z"
   },
   {
    "duration": 15,
    "start_time": "2023-04-02T21:29:46.959Z"
   },
   {
    "duration": 0,
    "start_time": "2023-04-02T21:29:46.976Z"
   },
   {
    "duration": 0,
    "start_time": "2023-04-02T21:29:46.978Z"
   },
   {
    "duration": 0,
    "start_time": "2023-04-02T21:29:46.980Z"
   },
   {
    "duration": 0,
    "start_time": "2023-04-02T21:29:46.981Z"
   },
   {
    "duration": 0,
    "start_time": "2023-04-02T21:29:46.982Z"
   },
   {
    "duration": 0,
    "start_time": "2023-04-02T21:29:46.983Z"
   },
   {
    "duration": 0,
    "start_time": "2023-04-02T21:29:46.985Z"
   },
   {
    "duration": 0,
    "start_time": "2023-04-02T21:29:46.986Z"
   },
   {
    "duration": 0,
    "start_time": "2023-04-02T21:29:46.987Z"
   },
   {
    "duration": 0,
    "start_time": "2023-04-02T21:29:46.988Z"
   },
   {
    "duration": 9,
    "start_time": "2023-04-02T21:29:46.991Z"
   },
   {
    "duration": 0,
    "start_time": "2023-04-02T21:29:47.003Z"
   },
   {
    "duration": 0,
    "start_time": "2023-04-02T21:29:47.005Z"
   },
   {
    "duration": 0,
    "start_time": "2023-04-02T21:29:47.007Z"
   },
   {
    "duration": 0,
    "start_time": "2023-04-02T21:29:47.008Z"
   },
   {
    "duration": 0,
    "start_time": "2023-04-02T21:29:47.009Z"
   },
   {
    "duration": 0,
    "start_time": "2023-04-02T21:29:47.011Z"
   },
   {
    "duration": 0,
    "start_time": "2023-04-02T21:29:47.012Z"
   },
   {
    "duration": 3,
    "start_time": "2023-04-02T21:30:16.893Z"
   },
   {
    "duration": 5,
    "start_time": "2023-04-02T21:30:16.898Z"
   },
   {
    "duration": 3,
    "start_time": "2023-04-02T21:30:16.910Z"
   },
   {
    "duration": 94,
    "start_time": "2023-04-02T21:30:16.915Z"
   },
   {
    "duration": 15,
    "start_time": "2023-04-02T21:30:17.012Z"
   },
   {
    "duration": 626,
    "start_time": "2023-04-02T21:30:17.031Z"
   },
   {
    "duration": 12,
    "start_time": "2023-04-02T21:30:17.660Z"
   },
   {
    "duration": 4,
    "start_time": "2023-04-02T21:30:17.674Z"
   },
   {
    "duration": 4,
    "start_time": "2023-04-02T21:30:17.680Z"
   },
   {
    "duration": 544,
    "start_time": "2023-04-02T21:30:17.703Z"
   },
   {
    "duration": 5,
    "start_time": "2023-04-02T21:30:18.249Z"
   },
   {
    "duration": 18,
    "start_time": "2023-04-02T21:30:18.256Z"
   },
   {
    "duration": 50,
    "start_time": "2023-04-02T21:30:18.275Z"
   },
   {
    "duration": 11,
    "start_time": "2023-04-02T21:30:18.326Z"
   },
   {
    "duration": 16,
    "start_time": "2023-04-02T21:30:18.339Z"
   },
   {
    "duration": 13,
    "start_time": "2023-04-02T21:30:18.357Z"
   },
   {
    "duration": 41,
    "start_time": "2023-04-02T21:30:18.371Z"
   },
   {
    "duration": 90,
    "start_time": "2023-04-02T21:30:18.414Z"
   },
   {
    "duration": 450,
    "start_time": "2023-04-02T21:30:18.505Z"
   },
   {
    "duration": 10,
    "start_time": "2023-04-02T21:30:24.893Z"
   },
   {
    "duration": 10,
    "start_time": "2023-04-02T21:30:51.087Z"
   },
   {
    "duration": 4,
    "start_time": "2023-04-02T21:31:18.382Z"
   },
   {
    "duration": 12,
    "start_time": "2023-04-02T21:32:01.425Z"
   },
   {
    "duration": 5,
    "start_time": "2023-04-02T21:32:22.412Z"
   },
   {
    "duration": 206,
    "start_time": "2023-04-02T21:32:27.028Z"
   },
   {
    "duration": 4,
    "start_time": "2023-04-02T21:33:21.591Z"
   },
   {
    "duration": 402,
    "start_time": "2023-04-02T21:33:23.075Z"
   },
   {
    "duration": 4,
    "start_time": "2023-04-02T21:33:27.612Z"
   },
   {
    "duration": 541,
    "start_time": "2023-04-02T21:33:31.754Z"
   },
   {
    "duration": 3,
    "start_time": "2023-04-02T21:33:44.852Z"
   },
   {
    "duration": 2,
    "start_time": "2023-04-02T21:33:46.208Z"
   },
   {
    "duration": 500,
    "start_time": "2023-04-02T21:33:46.850Z"
   },
   {
    "duration": 172,
    "start_time": "2023-04-02T21:34:09.632Z"
   },
   {
    "duration": 391,
    "start_time": "2023-04-02T21:35:40.712Z"
   },
   {
    "duration": 10,
    "start_time": "2023-04-02T21:37:20.656Z"
   },
   {
    "duration": 11,
    "start_time": "2023-04-02T21:37:23.164Z"
   },
   {
    "duration": 5,
    "start_time": "2023-04-02T21:38:07.782Z"
   },
   {
    "duration": 3,
    "start_time": "2023-04-02T21:38:54.808Z"
   },
   {
    "duration": 206,
    "start_time": "2023-04-02T21:38:57.014Z"
   },
   {
    "duration": 10,
    "start_time": "2023-04-02T21:39:04.032Z"
   },
   {
    "duration": 12,
    "start_time": "2023-04-02T21:39:11.929Z"
   },
   {
    "duration": 8,
    "start_time": "2023-04-02T21:39:20.283Z"
   },
   {
    "duration": 9,
    "start_time": "2023-04-02T21:39:37.513Z"
   },
   {
    "duration": 1444,
    "start_time": "2023-04-02T21:39:57.808Z"
   },
   {
    "duration": 3,
    "start_time": "2023-04-02T21:39:59.254Z"
   },
   {
    "duration": 11,
    "start_time": "2023-04-02T21:39:59.258Z"
   },
   {
    "duration": 53,
    "start_time": "2023-04-02T21:39:59.270Z"
   },
   {
    "duration": 15,
    "start_time": "2023-04-02T21:39:59.325Z"
   },
   {
    "duration": 616,
    "start_time": "2023-04-02T21:39:59.342Z"
   },
   {
    "duration": 11,
    "start_time": "2023-04-02T21:39:59.960Z"
   },
   {
    "duration": 4,
    "start_time": "2023-04-02T21:39:59.972Z"
   },
   {
    "duration": 16,
    "start_time": "2023-04-02T21:39:59.977Z"
   },
   {
    "duration": 528,
    "start_time": "2023-04-02T21:39:59.995Z"
   },
   {
    "duration": 5,
    "start_time": "2023-04-02T21:40:00.525Z"
   },
   {
    "duration": 25,
    "start_time": "2023-04-02T21:40:00.532Z"
   },
   {
    "duration": 76,
    "start_time": "2023-04-02T21:40:00.560Z"
   },
   {
    "duration": 26,
    "start_time": "2023-04-02T21:40:00.639Z"
   },
   {
    "duration": 35,
    "start_time": "2023-04-02T21:40:00.667Z"
   },
   {
    "duration": 41,
    "start_time": "2023-04-02T21:40:00.704Z"
   },
   {
    "duration": 62,
    "start_time": "2023-04-02T21:40:00.746Z"
   },
   {
    "duration": 95,
    "start_time": "2023-04-02T21:40:00.813Z"
   },
   {
    "duration": 454,
    "start_time": "2023-04-02T21:40:00.910Z"
   },
   {
    "duration": 5,
    "start_time": "2023-04-02T21:40:01.366Z"
   },
   {
    "duration": 160,
    "start_time": "2023-04-02T21:41:16.026Z"
   },
   {
    "duration": 3942,
    "start_time": "2023-04-02T21:41:29.780Z"
   },
   {
    "duration": 3908,
    "start_time": "2023-04-02T21:41:52.366Z"
   },
   {
    "duration": 255,
    "start_time": "2023-04-02T21:42:22.532Z"
   },
   {
    "duration": 3954,
    "start_time": "2023-04-02T21:42:58.267Z"
   },
   {
    "duration": 4068,
    "start_time": "2023-04-02T21:43:10.289Z"
   },
   {
    "duration": 177,
    "start_time": "2023-04-02T21:44:11.140Z"
   },
   {
    "duration": 286,
    "start_time": "2023-04-02T21:44:24.146Z"
   },
   {
    "duration": 14,
    "start_time": "2023-04-02T21:44:40.154Z"
   },
   {
    "duration": 1433,
    "start_time": "2023-04-02T21:45:45.480Z"
   },
   {
    "duration": 3,
    "start_time": "2023-04-02T21:45:46.915Z"
   },
   {
    "duration": 11,
    "start_time": "2023-04-02T21:45:46.919Z"
   },
   {
    "duration": 70,
    "start_time": "2023-04-02T21:45:46.931Z"
   },
   {
    "duration": 14,
    "start_time": "2023-04-02T21:45:47.004Z"
   },
   {
    "duration": 619,
    "start_time": "2023-04-02T21:45:47.019Z"
   },
   {
    "duration": 13,
    "start_time": "2023-04-02T21:45:47.640Z"
   },
   {
    "duration": 6,
    "start_time": "2023-04-02T21:45:47.655Z"
   },
   {
    "duration": 3,
    "start_time": "2023-04-02T21:45:47.663Z"
   },
   {
    "duration": 549,
    "start_time": "2023-04-02T21:45:47.668Z"
   },
   {
    "duration": 4,
    "start_time": "2023-04-02T21:45:48.219Z"
   },
   {
    "duration": 10,
    "start_time": "2023-04-02T21:45:48.225Z"
   },
   {
    "duration": 41,
    "start_time": "2023-04-02T21:45:48.236Z"
   },
   {
    "duration": 32,
    "start_time": "2023-04-02T21:45:48.280Z"
   },
   {
    "duration": 6,
    "start_time": "2023-04-02T21:45:48.314Z"
   },
   {
    "duration": 6,
    "start_time": "2023-04-02T21:45:48.321Z"
   },
   {
    "duration": 77,
    "start_time": "2023-04-02T21:45:48.329Z"
   },
   {
    "duration": 97,
    "start_time": "2023-04-02T21:45:48.408Z"
   },
   {
    "duration": 312,
    "start_time": "2023-04-02T21:45:48.507Z"
   },
   {
    "duration": 5,
    "start_time": "2023-04-02T21:45:48.820Z"
   },
   {
    "duration": 3788,
    "start_time": "2023-04-02T21:45:48.827Z"
   },
   {
    "duration": 3748,
    "start_time": "2023-04-02T21:50:50.553Z"
   },
   {
    "duration": 132,
    "start_time": "2023-04-02T21:51:27.138Z"
   },
   {
    "duration": 223,
    "start_time": "2023-04-02T21:51:36.314Z"
   },
   {
    "duration": 12,
    "start_time": "2023-04-02T21:56:34.253Z"
   },
   {
    "duration": 10,
    "start_time": "2023-04-02T21:56:41.793Z"
   },
   {
    "duration": 9,
    "start_time": "2023-04-02T21:57:07.204Z"
   },
   {
    "duration": 131,
    "start_time": "2023-04-02T21:57:52.953Z"
   },
   {
    "duration": 134,
    "start_time": "2023-04-02T21:57:59.506Z"
   },
   {
    "duration": 13,
    "start_time": "2023-04-02T21:58:03.130Z"
   },
   {
    "duration": 12,
    "start_time": "2023-04-02T21:58:07.580Z"
   },
   {
    "duration": 134,
    "start_time": "2023-04-02T21:58:09.549Z"
   },
   {
    "duration": 144,
    "start_time": "2023-04-02T21:58:21.255Z"
   },
   {
    "duration": 73,
    "start_time": "2023-04-02T21:59:32.638Z"
   },
   {
    "duration": 17,
    "start_time": "2023-04-02T21:59:35.093Z"
   },
   {
    "duration": 190,
    "start_time": "2023-04-02T21:59:50.342Z"
   },
   {
    "duration": 97,
    "start_time": "2023-04-02T21:59:56.584Z"
   },
   {
    "duration": 137,
    "start_time": "2023-04-02T22:00:04.836Z"
   },
   {
    "duration": 137,
    "start_time": "2023-04-02T22:00:07.683Z"
   },
   {
    "duration": 104,
    "start_time": "2023-04-02T22:00:16.637Z"
   },
   {
    "duration": 1369,
    "start_time": "2023-04-02T22:00:40.237Z"
   },
   {
    "duration": 3,
    "start_time": "2023-04-02T22:00:41.608Z"
   },
   {
    "duration": 8,
    "start_time": "2023-04-02T22:00:41.612Z"
   },
   {
    "duration": 50,
    "start_time": "2023-04-02T22:00:41.621Z"
   },
   {
    "duration": 16,
    "start_time": "2023-04-02T22:00:41.673Z"
   },
   {
    "duration": 657,
    "start_time": "2023-04-02T22:00:41.692Z"
   },
   {
    "duration": 12,
    "start_time": "2023-04-02T22:00:42.351Z"
   },
   {
    "duration": 2,
    "start_time": "2023-04-02T22:00:42.365Z"
   },
   {
    "duration": 4,
    "start_time": "2023-04-02T22:00:42.369Z"
   },
   {
    "duration": 535,
    "start_time": "2023-04-02T22:00:42.375Z"
   },
   {
    "duration": 5,
    "start_time": "2023-04-02T22:00:42.912Z"
   },
   {
    "duration": 18,
    "start_time": "2023-04-02T22:00:42.919Z"
   },
   {
    "duration": 41,
    "start_time": "2023-04-02T22:00:42.939Z"
   },
   {
    "duration": 29,
    "start_time": "2023-04-02T22:00:42.984Z"
   },
   {
    "duration": 5,
    "start_time": "2023-04-02T22:00:43.014Z"
   },
   {
    "duration": 7,
    "start_time": "2023-04-02T22:00:43.020Z"
   },
   {
    "duration": 77,
    "start_time": "2023-04-02T22:00:43.028Z"
   },
   {
    "duration": 99,
    "start_time": "2023-04-02T22:00:43.107Z"
   },
   {
    "duration": 282,
    "start_time": "2023-04-02T22:00:43.209Z"
   },
   {
    "duration": 118,
    "start_time": "2023-04-02T22:00:46.265Z"
   },
   {
    "duration": 127,
    "start_time": "2023-04-02T22:00:51.294Z"
   },
   {
    "duration": 220,
    "start_time": "2023-04-02T22:01:22.753Z"
   },
   {
    "duration": 130,
    "start_time": "2023-04-02T22:01:26.839Z"
   },
   {
    "duration": 159,
    "start_time": "2023-04-02T22:01:33.398Z"
   },
   {
    "duration": 152,
    "start_time": "2023-04-02T22:01:37.728Z"
   },
   {
    "duration": 163,
    "start_time": "2023-04-02T22:01:42.033Z"
   },
   {
    "duration": 5,
    "start_time": "2023-04-02T22:05:32.694Z"
   },
   {
    "duration": 7,
    "start_time": "2023-04-02T22:05:55.035Z"
   },
   {
    "duration": 433,
    "start_time": "2023-04-02T22:06:23.459Z"
   },
   {
    "duration": 6,
    "start_time": "2023-04-02T22:06:45.500Z"
   },
   {
    "duration": 499,
    "start_time": "2023-04-02T22:06:48.487Z"
   },
   {
    "duration": 6,
    "start_time": "2023-04-02T22:07:04.394Z"
   },
   {
    "duration": 494,
    "start_time": "2023-04-02T22:07:06.431Z"
   },
   {
    "duration": 5,
    "start_time": "2023-04-02T22:07:26.293Z"
   },
   {
    "duration": 590,
    "start_time": "2023-04-02T22:07:28.004Z"
   },
   {
    "duration": 5,
    "start_time": "2023-04-02T22:08:50.993Z"
   },
   {
    "duration": 513,
    "start_time": "2023-04-02T22:08:53.724Z"
   },
   {
    "duration": 9,
    "start_time": "2023-04-02T22:09:58.027Z"
   },
   {
    "duration": 559,
    "start_time": "2023-04-02T22:09:59.793Z"
   },
   {
    "duration": 6,
    "start_time": "2023-04-02T22:11:16.651Z"
   },
   {
    "duration": 542,
    "start_time": "2023-04-02T22:11:18.523Z"
   },
   {
    "duration": 17,
    "start_time": "2023-04-02T22:11:48.556Z"
   },
   {
    "duration": 5,
    "start_time": "2023-04-02T22:12:19.449Z"
   },
   {
    "duration": 6,
    "start_time": "2023-04-02T22:12:20.351Z"
   },
   {
    "duration": 17,
    "start_time": "2023-04-02T22:12:21.691Z"
   },
   {
    "duration": 551,
    "start_time": "2023-04-02T22:12:23.493Z"
   },
   {
    "duration": 6,
    "start_time": "2023-04-02T22:12:37.892Z"
   },
   {
    "duration": 6,
    "start_time": "2023-04-02T22:13:05.948Z"
   },
   {
    "duration": 25,
    "start_time": "2023-04-02T22:13:08.263Z"
   },
   {
    "duration": 489,
    "start_time": "2023-04-02T22:13:10.953Z"
   },
   {
    "duration": 2336,
    "start_time": "2023-04-02T22:13:16.928Z"
   },
   {
    "duration": 7932,
    "start_time": "2023-04-02T22:13:21.429Z"
   },
   {
    "duration": 7781,
    "start_time": "2023-04-02T22:13:42.933Z"
   },
   {
    "duration": 429,
    "start_time": "2023-04-02T22:15:12.467Z"
   },
   {
    "duration": 2302,
    "start_time": "2023-04-02T22:15:32.884Z"
   },
   {
    "duration": 6203,
    "start_time": "2023-04-02T22:15:37.102Z"
   },
   {
    "duration": 5999,
    "start_time": "2023-04-02T22:16:07.795Z"
   },
   {
    "duration": 454,
    "start_time": "2023-04-02T22:16:49.659Z"
   },
   {
    "duration": 11,
    "start_time": "2023-04-02T22:17:04.438Z"
   },
   {
    "duration": 13,
    "start_time": "2023-04-02T22:17:06.923Z"
   },
   {
    "duration": 3107,
    "start_time": "2023-04-02T22:17:16.157Z"
   },
   {
    "duration": 9849,
    "start_time": "2023-04-02T22:17:57.720Z"
   },
   {
    "duration": 10,
    "start_time": "2023-04-02T22:19:00.498Z"
   },
   {
    "duration": 497,
    "start_time": "2023-04-02T22:19:06.207Z"
   },
   {
    "duration": 9957,
    "start_time": "2023-04-02T22:19:41.403Z"
   },
   {
    "duration": 9963,
    "start_time": "2023-04-02T22:20:01.833Z"
   },
   {
    "duration": 374,
    "start_time": "2023-04-02T22:21:00.266Z"
   },
   {
    "duration": 7125,
    "start_time": "2023-04-02T22:22:05.880Z"
   },
   {
    "duration": 430,
    "start_time": "2023-04-02T22:22:17.483Z"
   },
   {
    "duration": 449,
    "start_time": "2023-04-02T22:22:34.907Z"
   },
   {
    "duration": 10028,
    "start_time": "2023-04-02T22:22:41.410Z"
   },
   {
    "duration": 388,
    "start_time": "2023-04-02T22:22:51.440Z"
   },
   {
    "duration": 367,
    "start_time": "2023-04-02T22:23:01.328Z"
   },
   {
    "duration": 14,
    "start_time": "2023-04-02T22:23:49.840Z"
   },
   {
    "duration": 9858,
    "start_time": "2023-04-02T22:23:51.280Z"
   },
   {
    "duration": 381,
    "start_time": "2023-04-02T22:24:01.139Z"
   },
   {
    "duration": 3066,
    "start_time": "2023-04-02T22:24:07.425Z"
   },
   {
    "duration": 9732,
    "start_time": "2023-04-02T22:24:12.598Z"
   },
   {
    "duration": 374,
    "start_time": "2023-04-02T22:24:22.332Z"
   },
   {
    "duration": 6,
    "start_time": "2023-04-02T22:25:06.280Z"
   },
   {
    "duration": 21,
    "start_time": "2023-04-02T22:25:06.289Z"
   },
   {
    "duration": 497,
    "start_time": "2023-04-02T22:25:06.312Z"
   },
   {
    "duration": 166,
    "start_time": "2023-04-02T22:25:06.811Z"
   },
   {
    "duration": 39,
    "start_time": "2023-04-02T22:25:06.979Z"
   },
   {
    "duration": 3,
    "start_time": "2023-04-02T22:25:07.019Z"
   },
   {
    "duration": 6,
    "start_time": "2023-04-02T22:25:07.024Z"
   },
   {
    "duration": 8,
    "start_time": "2023-04-02T22:25:07.032Z"
   },
   {
    "duration": 350,
    "start_time": "2023-04-02T22:25:49.949Z"
   },
   {
    "duration": 272,
    "start_time": "2023-04-02T22:26:56.887Z"
   },
   {
    "duration": 230,
    "start_time": "2023-04-02T22:27:33.808Z"
   },
   {
    "duration": 9,
    "start_time": "2023-04-02T22:27:58.105Z"
   },
   {
    "duration": 9,
    "start_time": "2023-04-02T22:28:01.151Z"
   },
   {
    "duration": 256,
    "start_time": "2023-04-02T22:28:04.053Z"
   },
   {
    "duration": 489,
    "start_time": "2023-04-02T22:28:20.926Z"
   },
   {
    "duration": 375,
    "start_time": "2023-04-02T22:28:36.759Z"
   },
   {
    "duration": 4,
    "start_time": "2023-04-02T22:28:51.543Z"
   },
   {
    "duration": 419,
    "start_time": "2023-04-02T22:28:53.566Z"
   },
   {
    "duration": 396,
    "start_time": "2023-04-02T22:30:07.729Z"
   },
   {
    "duration": 6,
    "start_time": "2023-04-02T22:30:28.698Z"
   },
   {
    "duration": 403,
    "start_time": "2023-04-02T22:30:32.400Z"
   },
   {
    "duration": 367,
    "start_time": "2023-04-02T22:31:12.766Z"
   },
   {
    "duration": 478,
    "start_time": "2023-04-02T22:32:27.137Z"
   },
   {
    "duration": 5,
    "start_time": "2023-04-02T23:08:41.033Z"
   },
   {
    "duration": 200,
    "start_time": "2023-04-02T23:08:44.480Z"
   },
   {
    "duration": 24,
    "start_time": "2023-04-02T23:08:50.012Z"
   },
   {
    "duration": 346,
    "start_time": "2023-04-02T23:08:52.312Z"
   },
   {
    "duration": 5,
    "start_time": "2023-04-02T23:09:13.921Z"
   },
   {
    "duration": 361,
    "start_time": "2023-04-02T23:09:16.107Z"
   },
   {
    "duration": 7,
    "start_time": "2023-04-02T23:09:27.458Z"
   },
   {
    "duration": 373,
    "start_time": "2023-04-02T23:09:30.184Z"
   },
   {
    "duration": 6,
    "start_time": "2023-04-02T23:09:55.880Z"
   },
   {
    "duration": 456,
    "start_time": "2023-04-02T23:09:58.890Z"
   },
   {
    "duration": 6,
    "start_time": "2023-04-02T23:10:11.399Z"
   },
   {
    "duration": 296,
    "start_time": "2023-04-02T23:10:13.867Z"
   },
   {
    "duration": 6,
    "start_time": "2023-04-02T23:10:18.825Z"
   },
   {
    "duration": 354,
    "start_time": "2023-04-02T23:10:21.315Z"
   },
   {
    "duration": 5,
    "start_time": "2023-04-02T23:10:29.890Z"
   },
   {
    "duration": 415,
    "start_time": "2023-04-02T23:10:31.606Z"
   },
   {
    "duration": 6,
    "start_time": "2023-04-02T23:10:40.325Z"
   },
   {
    "duration": 375,
    "start_time": "2023-04-02T23:10:42.097Z"
   },
   {
    "duration": 70,
    "start_time": "2023-04-02T23:11:55.478Z"
   },
   {
    "duration": 6,
    "start_time": "2023-04-02T23:12:07.390Z"
   },
   {
    "duration": 353,
    "start_time": "2023-04-02T23:12:10.378Z"
   },
   {
    "duration": 5,
    "start_time": "2023-04-02T23:12:15.778Z"
   },
   {
    "duration": 345,
    "start_time": "2023-04-02T23:12:17.830Z"
   },
   {
    "duration": 6,
    "start_time": "2023-04-02T23:12:27.977Z"
   },
   {
    "duration": 377,
    "start_time": "2023-04-02T23:12:30.384Z"
   },
   {
    "duration": 8,
    "start_time": "2023-04-02T23:13:51.872Z"
   },
   {
    "duration": 365,
    "start_time": "2023-04-02T23:13:54.610Z"
   },
   {
    "duration": 6,
    "start_time": "2023-04-02T23:16:24.637Z"
   },
   {
    "duration": 362,
    "start_time": "2023-04-02T23:16:26.882Z"
   },
   {
    "duration": 6,
    "start_time": "2023-04-02T23:17:07.741Z"
   },
   {
    "duration": 368,
    "start_time": "2023-04-02T23:17:09.582Z"
   },
   {
    "duration": 6,
    "start_time": "2023-04-02T23:19:02.294Z"
   },
   {
    "duration": 5,
    "start_time": "2023-04-02T23:19:13.230Z"
   },
   {
    "duration": 340,
    "start_time": "2023-04-02T23:19:15.078Z"
   },
   {
    "duration": 5,
    "start_time": "2023-04-02T23:20:00.639Z"
   },
   {
    "duration": 356,
    "start_time": "2023-04-02T23:20:03.008Z"
   },
   {
    "duration": 6,
    "start_time": "2023-04-02T23:22:42.182Z"
   },
   {
    "duration": 369,
    "start_time": "2023-04-02T23:22:43.986Z"
   },
   {
    "duration": 6,
    "start_time": "2023-04-02T23:23:08.547Z"
   },
   {
    "duration": 311,
    "start_time": "2023-04-02T23:23:11.157Z"
   },
   {
    "duration": 9,
    "start_time": "2023-04-02T23:24:34.290Z"
   },
   {
    "duration": 3556,
    "start_time": "2023-04-02T23:24:45.980Z"
   },
   {
    "duration": 2019,
    "start_time": "2023-04-02T23:25:22.756Z"
   },
   {
    "duration": 1366,
    "start_time": "2023-04-02T23:25:27.849Z"
   },
   {
    "duration": 4,
    "start_time": "2023-04-02T23:25:34.537Z"
   },
   {
    "duration": 5,
    "start_time": "2023-04-02T23:25:34.543Z"
   },
   {
    "duration": 7,
    "start_time": "2023-04-02T23:25:34.549Z"
   },
   {
    "duration": 53,
    "start_time": "2023-04-02T23:25:34.558Z"
   },
   {
    "duration": 15,
    "start_time": "2023-04-02T23:25:34.612Z"
   },
   {
    "duration": 626,
    "start_time": "2023-04-02T23:25:34.628Z"
   },
   {
    "duration": 12,
    "start_time": "2023-04-02T23:25:35.256Z"
   },
   {
    "duration": 3,
    "start_time": "2023-04-02T23:25:35.270Z"
   },
   {
    "duration": 9,
    "start_time": "2023-04-02T23:25:35.275Z"
   },
   {
    "duration": 506,
    "start_time": "2023-04-02T23:25:35.286Z"
   },
   {
    "duration": 5,
    "start_time": "2023-04-02T23:25:35.793Z"
   },
   {
    "duration": 21,
    "start_time": "2023-04-02T23:25:35.803Z"
   },
   {
    "duration": 43,
    "start_time": "2023-04-02T23:25:35.826Z"
   },
   {
    "duration": 12,
    "start_time": "2023-04-02T23:25:35.871Z"
   },
   {
    "duration": 19,
    "start_time": "2023-04-02T23:25:35.884Z"
   },
   {
    "duration": 6,
    "start_time": "2023-04-02T23:25:35.904Z"
   },
   {
    "duration": 23,
    "start_time": "2023-04-02T23:25:35.912Z"
   },
   {
    "duration": 39,
    "start_time": "2023-04-02T23:25:35.937Z"
   },
   {
    "duration": 412,
    "start_time": "2023-04-02T23:25:40.063Z"
   },
   {
    "duration": 9,
    "start_time": "2023-04-02T23:26:12.693Z"
   },
   {
    "duration": 4,
    "start_time": "2023-04-02T23:26:23.574Z"
   },
   {
    "duration": 5,
    "start_time": "2023-04-02T23:26:29.867Z"
   },
   {
    "duration": 5,
    "start_time": "2023-04-02T23:26:52.210Z"
   },
   {
    "duration": 475,
    "start_time": "2023-04-02T23:26:54.566Z"
   },
   {
    "duration": 31,
    "start_time": "2023-04-03T00:04:46.651Z"
   },
   {
    "duration": 11,
    "start_time": "2023-04-03T00:04:58.243Z"
   },
   {
    "duration": 6707,
    "start_time": "2023-04-03T00:05:07.683Z"
   },
   {
    "duration": 36,
    "start_time": "2023-04-03T00:05:17.343Z"
   },
   {
    "duration": 2049,
    "start_time": "2023-04-03T00:05:29.242Z"
   },
   {
    "duration": 1287,
    "start_time": "2023-04-03T00:05:31.882Z"
   },
   {
    "duration": 2050,
    "start_time": "2023-04-03T00:05:36.401Z"
   },
   {
    "duration": 5,
    "start_time": "2023-04-03T00:05:38.453Z"
   },
   {
    "duration": 6,
    "start_time": "2023-04-03T00:05:38.459Z"
   },
   {
    "duration": 3,
    "start_time": "2023-04-03T00:05:38.467Z"
   },
   {
    "duration": 55,
    "start_time": "2023-04-03T00:05:38.472Z"
   },
   {
    "duration": 13,
    "start_time": "2023-04-03T00:05:38.528Z"
   },
   {
    "duration": 596,
    "start_time": "2023-04-03T00:05:38.542Z"
   },
   {
    "duration": 10,
    "start_time": "2023-04-03T00:05:39.140Z"
   },
   {
    "duration": 8,
    "start_time": "2023-04-03T00:05:39.152Z"
   },
   {
    "duration": 3,
    "start_time": "2023-04-03T00:05:39.163Z"
   },
   {
    "duration": 557,
    "start_time": "2023-04-03T00:05:39.168Z"
   },
   {
    "duration": 5,
    "start_time": "2023-04-03T00:05:39.727Z"
   },
   {
    "duration": 11,
    "start_time": "2023-04-03T00:05:39.734Z"
   },
   {
    "duration": 63,
    "start_time": "2023-04-03T00:05:39.747Z"
   },
   {
    "duration": 11,
    "start_time": "2023-04-03T00:05:39.812Z"
   },
   {
    "duration": 6,
    "start_time": "2023-04-03T00:05:39.825Z"
   },
   {
    "duration": 6,
    "start_time": "2023-04-03T00:05:39.832Z"
   },
   {
    "duration": 9,
    "start_time": "2023-04-03T00:05:39.840Z"
   },
   {
    "duration": 57,
    "start_time": "2023-04-03T00:05:39.851Z"
   },
   {
    "duration": 628,
    "start_time": "2023-04-03T00:05:39.909Z"
   },
   {
    "duration": 2456,
    "start_time": "2023-04-03T00:05:40.539Z"
   },
   {
    "duration": 8195,
    "start_time": "2023-04-03T00:05:42.997Z"
   },
   {
    "duration": 516,
    "start_time": "2023-04-03T00:05:51.194Z"
   },
   {
    "duration": 2453,
    "start_time": "2023-04-03T00:05:51.712Z"
   },
   {
    "duration": 5539,
    "start_time": "2023-04-03T00:05:54.167Z"
   },
   {
    "duration": 384,
    "start_time": "2023-04-03T00:05:59.708Z"
   },
   {
    "duration": 16,
    "start_time": "2023-04-03T00:06:00.094Z"
   },
   {
    "duration": 25,
    "start_time": "2023-04-03T00:06:00.113Z"
   },
   {
    "duration": 3289,
    "start_time": "2023-04-03T00:06:00.140Z"
   },
   {
    "duration": 10233,
    "start_time": "2023-04-03T00:06:03.431Z"
   },
   {
    "duration": 373,
    "start_time": "2023-04-03T00:06:13.666Z"
   },
   {
    "duration": 3262,
    "start_time": "2023-04-03T00:06:14.041Z"
   },
   {
    "duration": 10513,
    "start_time": "2023-04-03T00:06:17.304Z"
   },
   {
    "duration": 395,
    "start_time": "2023-04-03T00:06:27.819Z"
   },
   {
    "duration": 5,
    "start_time": "2023-04-03T00:06:28.216Z"
   },
   {
    "duration": 12,
    "start_time": "2023-04-03T00:06:28.223Z"
   },
   {
    "duration": 524,
    "start_time": "2023-04-03T00:06:28.236Z"
   },
   {
    "duration": 382,
    "start_time": "2023-04-03T00:06:28.762Z"
   },
   {
    "duration": 30,
    "start_time": "2023-04-03T00:06:29.146Z"
   },
   {
    "duration": 5,
    "start_time": "2023-04-03T00:06:29.177Z"
   },
   {
    "duration": 21,
    "start_time": "2023-04-03T00:06:29.183Z"
   },
   {
    "duration": 4,
    "start_time": "2023-04-03T00:06:29.206Z"
   },
   {
    "duration": 142,
    "start_time": "2023-04-03T00:07:11.838Z"
   },
   {
    "duration": 10,
    "start_time": "2023-04-03T00:07:24.827Z"
   },
   {
    "duration": 10,
    "start_time": "2023-04-03T00:07:32.266Z"
   },
   {
    "duration": 70,
    "start_time": "2023-04-03T00:07:55.935Z"
   },
   {
    "duration": 13,
    "start_time": "2023-04-03T00:18:16.080Z"
   },
   {
    "duration": 39,
    "start_time": "2023-04-03T03:30:57.319Z"
   },
   {
    "duration": 9,
    "start_time": "2023-04-03T03:31:13.549Z"
   },
   {
    "duration": 5,
    "start_time": "2023-04-03T03:31:21.106Z"
   },
   {
    "duration": 4,
    "start_time": "2023-04-03T03:31:28.170Z"
   },
   {
    "duration": 3,
    "start_time": "2023-04-03T03:31:44.065Z"
   },
   {
    "duration": 4178,
    "start_time": "2023-04-03T03:33:16.764Z"
   },
   {
    "duration": 4118,
    "start_time": "2023-04-03T03:33:55.320Z"
   },
   {
    "duration": 11873,
    "start_time": "2023-04-03T03:34:08.921Z"
   },
   {
    "duration": 10,
    "start_time": "2023-04-03T03:34:26.459Z"
   },
   {
    "duration": 435,
    "start_time": "2023-04-03T03:34:49.230Z"
   },
   {
    "duration": 57,
    "start_time": "2023-04-03T03:39:17.145Z"
   },
   {
    "duration": 12,
    "start_time": "2023-04-03T03:39:20.005Z"
   },
   {
    "duration": 2463,
    "start_time": "2023-04-03T03:39:26.132Z"
   },
   {
    "duration": 447,
    "start_time": "2023-04-03T03:39:34.968Z"
   },
   {
    "duration": 88,
    "start_time": "2023-04-03T03:41:10.337Z"
   },
   {
    "duration": 78,
    "start_time": "2023-04-03T03:45:44.541Z"
   },
   {
    "duration": 477,
    "start_time": "2023-04-03T03:49:12.489Z"
   },
   {
    "duration": 2295,
    "start_time": "2023-04-03T03:49:33.264Z"
   },
   {
    "duration": 8,
    "start_time": "2023-04-03T03:49:35.562Z"
   },
   {
    "duration": 21,
    "start_time": "2023-04-03T03:49:35.571Z"
   },
   {
    "duration": 6,
    "start_time": "2023-04-03T03:49:35.594Z"
   },
   {
    "duration": 57,
    "start_time": "2023-04-03T03:49:35.602Z"
   },
   {
    "duration": 13,
    "start_time": "2023-04-03T03:49:35.661Z"
   },
   {
    "duration": 654,
    "start_time": "2023-04-03T03:49:35.677Z"
   },
   {
    "duration": 12,
    "start_time": "2023-04-03T03:49:36.333Z"
   },
   {
    "duration": 4,
    "start_time": "2023-04-03T03:49:36.347Z"
   },
   {
    "duration": 5,
    "start_time": "2023-04-03T03:49:36.352Z"
   },
   {
    "duration": 709,
    "start_time": "2023-04-03T03:49:36.358Z"
   },
   {
    "duration": 5,
    "start_time": "2023-04-03T03:49:37.069Z"
   },
   {
    "duration": 11,
    "start_time": "2023-04-03T03:49:37.076Z"
   },
   {
    "duration": 50,
    "start_time": "2023-04-03T03:49:37.106Z"
   },
   {
    "duration": 11,
    "start_time": "2023-04-03T03:49:37.158Z"
   },
   {
    "duration": 5,
    "start_time": "2023-04-03T03:49:37.172Z"
   },
   {
    "duration": 14,
    "start_time": "2023-04-03T03:49:37.202Z"
   },
   {
    "duration": 12,
    "start_time": "2023-04-03T03:49:37.218Z"
   },
   {
    "duration": 73,
    "start_time": "2023-04-03T03:49:37.232Z"
   },
   {
    "duration": 546,
    "start_time": "2023-04-03T03:49:37.307Z"
   },
   {
    "duration": 2667,
    "start_time": "2023-04-03T03:49:37.855Z"
   },
   {
    "duration": 9112,
    "start_time": "2023-04-03T03:49:40.524Z"
   },
   {
    "duration": 504,
    "start_time": "2023-04-03T03:49:49.638Z"
   },
   {
    "duration": 2891,
    "start_time": "2023-04-03T03:49:50.144Z"
   },
   {
    "duration": 6160,
    "start_time": "2023-04-03T03:49:53.037Z"
   },
   {
    "duration": 395,
    "start_time": "2023-04-03T03:49:59.198Z"
   },
   {
    "duration": 26,
    "start_time": "2023-04-03T03:49:59.595Z"
   },
   {
    "duration": 12,
    "start_time": "2023-04-03T03:49:59.623Z"
   },
   {
    "duration": 4575,
    "start_time": "2023-04-03T03:49:59.637Z"
   },
   {
    "duration": 11720,
    "start_time": "2023-04-03T03:50:04.219Z"
   },
   {
    "duration": 398,
    "start_time": "2023-04-03T03:50:15.941Z"
   },
   {
    "duration": 3495,
    "start_time": "2023-04-03T03:50:16.340Z"
   },
   {
    "duration": 11404,
    "start_time": "2023-04-03T03:50:19.837Z"
   },
   {
    "duration": 428,
    "start_time": "2023-04-03T03:50:31.243Z"
   },
   {
    "duration": 55,
    "start_time": "2023-04-03T03:50:31.673Z"
   },
   {
    "duration": 4339,
    "start_time": "2023-04-03T03:50:31.730Z"
   },
   {
    "duration": 12293,
    "start_time": "2023-04-03T03:50:36.072Z"
   },
   {
    "duration": 456,
    "start_time": "2023-04-03T03:50:48.367Z"
   },
   {
    "duration": 6,
    "start_time": "2023-04-03T03:50:48.825Z"
   },
   {
    "duration": 35,
    "start_time": "2023-04-03T03:50:48.833Z"
   },
   {
    "duration": 2406,
    "start_time": "2023-04-03T03:50:48.872Z"
   },
   {
    "duration": 504,
    "start_time": "2023-04-03T03:50:51.280Z"
   },
   {
    "duration": 79,
    "start_time": "2023-04-03T03:50:51.787Z"
   },
   {
    "duration": 2573,
    "start_time": "2023-04-03T03:50:51.868Z"
   },
   {
    "duration": 475,
    "start_time": "2023-04-03T03:50:54.443Z"
   },
   {
    "duration": 92,
    "start_time": "2023-04-03T03:50:54.920Z"
   },
   {
    "duration": 4,
    "start_time": "2023-04-03T03:50:55.016Z"
   },
   {
    "duration": 5,
    "start_time": "2023-04-03T03:50:55.022Z"
   },
   {
    "duration": 9,
    "start_time": "2023-04-03T03:50:55.028Z"
   },
   {
    "duration": 452,
    "start_time": "2023-04-03T03:51:09.039Z"
   },
   {
    "duration": 43,
    "start_time": "2023-04-03T03:51:15.595Z"
   },
   {
    "duration": 4210,
    "start_time": "2023-04-03T03:51:15.640Z"
   },
   {
    "duration": 12152,
    "start_time": "2023-04-03T03:51:19.852Z"
   },
   {
    "duration": 517,
    "start_time": "2023-04-03T03:51:32.006Z"
   },
   {
    "duration": 6,
    "start_time": "2023-04-03T03:51:32.526Z"
   },
   {
    "duration": 11,
    "start_time": "2023-04-03T03:51:32.534Z"
   },
   {
    "duration": 2139,
    "start_time": "2023-04-03T03:51:32.547Z"
   },
   {
    "duration": 479,
    "start_time": "2023-04-03T03:51:34.688Z"
   },
   {
    "duration": 72,
    "start_time": "2023-04-03T03:51:35.169Z"
   },
   {
    "duration": 2544,
    "start_time": "2023-04-03T03:51:35.243Z"
   },
   {
    "duration": 480,
    "start_time": "2023-04-03T03:51:37.789Z"
   },
   {
    "duration": 93,
    "start_time": "2023-04-03T03:51:38.271Z"
   },
   {
    "duration": 3,
    "start_time": "2023-04-03T03:51:38.365Z"
   },
   {
    "duration": 7,
    "start_time": "2023-04-03T03:51:38.371Z"
   },
   {
    "duration": 5,
    "start_time": "2023-04-03T03:51:38.380Z"
   },
   {
    "duration": 14,
    "start_time": "2023-04-03T03:55:41.512Z"
   },
   {
    "duration": 4750,
    "start_time": "2023-04-03T03:55:41.528Z"
   },
   {
    "duration": 11590,
    "start_time": "2023-04-03T03:55:46.279Z"
   },
   {
    "duration": 548,
    "start_time": "2023-04-03T03:55:57.872Z"
   },
   {
    "duration": 3649,
    "start_time": "2023-04-03T03:55:58.423Z"
   },
   {
    "duration": 11507,
    "start_time": "2023-04-03T03:56:02.074Z"
   },
   {
    "duration": 412,
    "start_time": "2023-04-03T03:56:13.584Z"
   },
   {
    "duration": 62,
    "start_time": "2023-04-03T03:56:14.002Z"
   },
   {
    "duration": 4248,
    "start_time": "2023-04-03T03:56:14.065Z"
   },
   {
    "duration": 12380,
    "start_time": "2023-04-03T03:56:18.315Z"
   },
   {
    "duration": 503,
    "start_time": "2023-04-03T03:56:30.697Z"
   },
   {
    "duration": 8,
    "start_time": "2023-04-03T03:56:31.201Z"
   },
   {
    "duration": 14,
    "start_time": "2023-04-03T03:56:31.217Z"
   },
   {
    "duration": 593,
    "start_time": "2023-04-03T03:56:31.234Z"
   },
   {
    "duration": 510,
    "start_time": "2023-04-03T03:56:31.829Z"
   },
   {
    "duration": 63,
    "start_time": "2023-04-03T03:56:32.340Z"
   },
   {
    "duration": 2589,
    "start_time": "2023-04-03T03:56:32.408Z"
   },
   {
    "duration": 503,
    "start_time": "2023-04-03T03:56:35.004Z"
   },
   {
    "duration": 96,
    "start_time": "2023-04-03T03:56:35.511Z"
   },
   {
    "duration": 2,
    "start_time": "2023-04-03T03:56:35.609Z"
   },
   {
    "duration": 6,
    "start_time": "2023-04-03T03:56:35.617Z"
   },
   {
    "duration": 8,
    "start_time": "2023-04-03T03:56:35.625Z"
   },
   {
    "duration": 16,
    "start_time": "2023-04-03T03:57:36.051Z"
   },
   {
    "duration": 5,
    "start_time": "2023-04-03T03:57:40.965Z"
   },
   {
    "duration": 4,
    "start_time": "2023-04-03T03:59:09.483Z"
   },
   {
    "duration": 3,
    "start_time": "2023-04-03T03:59:26.530Z"
   },
   {
    "duration": 4,
    "start_time": "2023-04-03T03:59:27.610Z"
   },
   {
    "duration": 4,
    "start_time": "2023-04-03T03:59:29.779Z"
   },
   {
    "duration": 5,
    "start_time": "2023-04-03T03:59:33.972Z"
   },
   {
    "duration": 74,
    "start_time": "2023-04-03T03:59:44.263Z"
   },
   {
    "duration": 5,
    "start_time": "2023-04-03T03:59:47.169Z"
   },
   {
    "duration": 11,
    "start_time": "2023-04-03T04:04:19.621Z"
   },
   {
    "duration": 73,
    "start_time": "2023-04-03T04:04:30.433Z"
   },
   {
    "duration": 527,
    "start_time": "2023-04-03T04:04:34.387Z"
   },
   {
    "duration": 3,
    "start_time": "2023-04-03T04:18:25.387Z"
   },
   {
    "duration": 12,
    "start_time": "2023-04-03T04:20:24.987Z"
   },
   {
    "duration": 53,
    "start_time": "2023-04-03T04:23:27.437Z"
   },
   {
    "duration": 56,
    "start_time": "2023-04-03T04:23:54.026Z"
   },
   {
    "duration": 48,
    "start_time": "2023-04-03T04:24:06.864Z"
   },
   {
    "duration": 2961,
    "start_time": "2023-04-03T04:58:37.912Z"
   },
   {
    "duration": 5,
    "start_time": "2023-04-03T04:58:44.251Z"
   },
   {
    "duration": 27,
    "start_time": "2023-04-03T04:58:47.317Z"
   },
   {
    "duration": 13,
    "start_time": "2023-04-03T04:59:11.520Z"
   },
   {
    "duration": 4858,
    "start_time": "2023-04-03T04:59:36.425Z"
   },
   {
    "duration": 496,
    "start_time": "2023-04-03T05:00:21.467Z"
   },
   {
    "duration": 5,
    "start_time": "2023-04-03T05:00:24.467Z"
   },
   {
    "duration": 4,
    "start_time": "2023-04-03T05:00:25.632Z"
   },
   {
    "duration": 516,
    "start_time": "2023-04-03T05:00:26.325Z"
   },
   {
    "duration": 4627,
    "start_time": "2023-04-03T05:00:30.124Z"
   },
   {
    "duration": 571,
    "start_time": "2023-04-03T05:01:13.302Z"
   },
   {
    "duration": 5,
    "start_time": "2023-04-03T05:02:02.753Z"
   },
   {
    "duration": 27,
    "start_time": "2023-04-03T05:04:54.693Z"
   },
   {
    "duration": 15,
    "start_time": "2023-04-03T05:05:08.532Z"
   },
   {
    "duration": 6,
    "start_time": "2023-04-03T05:05:26.487Z"
   },
   {
    "duration": 4674,
    "start_time": "2023-04-03T05:05:33.329Z"
   },
   {
    "duration": 11,
    "start_time": "2023-04-03T05:05:48.236Z"
   },
   {
    "duration": 13,
    "start_time": "2023-04-03T05:05:57.362Z"
   },
   {
    "duration": 5140,
    "start_time": "2023-04-03T05:06:28.407Z"
   },
   {
    "duration": 14,
    "start_time": "2023-04-03T05:07:00.805Z"
   },
   {
    "duration": 634,
    "start_time": "2023-04-03T05:07:32.580Z"
   },
   {
    "duration": 12,
    "start_time": "2023-04-03T05:08:19.350Z"
   },
   {
    "duration": 6,
    "start_time": "2023-04-03T05:09:05.654Z"
   },
   {
    "duration": 17,
    "start_time": "2023-04-03T05:09:10.030Z"
   },
   {
    "duration": 13,
    "start_time": "2023-04-03T05:09:15.028Z"
   },
   {
    "duration": 442,
    "start_time": "2023-04-03T05:09:19.714Z"
   },
   {
    "duration": 1680,
    "start_time": "2023-04-03T05:09:21.558Z"
   },
   {
    "duration": 1906,
    "start_time": "2023-04-03T05:09:30.281Z"
   },
   {
    "duration": 13,
    "start_time": "2023-04-03T05:11:08.465Z"
   },
   {
    "duration": 506,
    "start_time": "2023-04-03T05:11:13.670Z"
   },
   {
    "duration": 875,
    "start_time": "2023-04-03T05:11:29.983Z"
   },
   {
    "duration": 17,
    "start_time": "2023-04-03T05:12:35.351Z"
   },
   {
    "duration": 5588,
    "start_time": "2023-04-03T05:12:42.681Z"
   },
   {
    "duration": 10,
    "start_time": "2023-04-03T05:15:41.166Z"
   },
   {
    "duration": 549,
    "start_time": "2023-04-03T05:15:47.227Z"
   },
   {
    "duration": 1953,
    "start_time": "2023-04-03T05:15:48.029Z"
   },
   {
    "duration": 110,
    "start_time": "2023-04-03T05:16:38.359Z"
   },
   {
    "duration": 11,
    "start_time": "2023-04-03T05:17:28.878Z"
   },
   {
    "duration": 11,
    "start_time": "2023-04-03T05:17:33.855Z"
   },
   {
    "duration": 35946,
    "start_time": "2023-04-03T05:17:36.525Z"
   },
   {
    "duration": 1716,
    "start_time": "2023-04-03T05:18:12.474Z"
   },
   {
    "duration": 40822,
    "start_time": "2023-04-03T05:20:37.522Z"
   },
   {
    "duration": 2387,
    "start_time": "2023-04-03T05:22:25.622Z"
   },
   {
    "duration": 787,
    "start_time": "2023-04-03T05:22:37.078Z"
   },
   {
    "duration": 2371,
    "start_time": "2023-04-03T05:22:42.321Z"
   },
   {
    "duration": 1351,
    "start_time": "2023-04-03T05:22:49.837Z"
   },
   {
    "duration": 2567,
    "start_time": "2023-04-03T05:26:33.229Z"
   },
   {
    "duration": 2979,
    "start_time": "2023-04-03T05:26:41.879Z"
   },
   {
    "duration": 6,
    "start_time": "2023-04-03T05:26:44.861Z"
   },
   {
    "duration": 7,
    "start_time": "2023-04-03T05:26:44.869Z"
   },
   {
    "duration": 33,
    "start_time": "2023-04-03T05:26:44.879Z"
   },
   {
    "duration": 111,
    "start_time": "2023-04-03T05:26:44.922Z"
   },
   {
    "duration": 77,
    "start_time": "2023-04-03T05:26:45.036Z"
   },
   {
    "duration": 1556,
    "start_time": "2023-04-03T05:26:45.115Z"
   },
   {
    "duration": 13,
    "start_time": "2023-04-03T05:26:46.673Z"
   },
   {
    "duration": 4,
    "start_time": "2023-04-03T05:26:46.688Z"
   },
   {
    "duration": 5,
    "start_time": "2023-04-03T05:26:46.695Z"
   },
   {
    "duration": 637,
    "start_time": "2023-04-03T05:26:46.701Z"
   },
   {
    "duration": 5,
    "start_time": "2023-04-03T05:26:47.341Z"
   },
   {
    "duration": 2609,
    "start_time": "2023-04-03T05:28:56.539Z"
   },
   {
    "duration": 3101,
    "start_time": "2023-04-03T05:28:59.151Z"
   },
   {
    "duration": 4,
    "start_time": "2023-04-03T05:29:02.254Z"
   },
   {
    "duration": 23,
    "start_time": "2023-04-03T05:29:02.259Z"
   },
   {
    "duration": 140,
    "start_time": "2023-04-03T05:29:02.285Z"
   },
   {
    "duration": 13,
    "start_time": "2023-04-03T05:29:02.428Z"
   },
   {
    "duration": 746,
    "start_time": "2023-04-03T05:29:02.443Z"
   },
   {
    "duration": 22,
    "start_time": "2023-04-03T05:29:03.192Z"
   },
   {
    "duration": 4,
    "start_time": "2023-04-03T05:29:03.216Z"
   },
   {
    "duration": 9,
    "start_time": "2023-04-03T05:29:03.222Z"
   },
   {
    "duration": 637,
    "start_time": "2023-04-03T05:29:03.233Z"
   },
   {
    "duration": 5,
    "start_time": "2023-04-03T05:29:03.872Z"
   },
   {
    "duration": 2696,
    "start_time": "2023-04-03T05:29:46.660Z"
   },
   {
    "duration": 2606,
    "start_time": "2023-04-03T05:29:49.359Z"
   },
   {
    "duration": 3,
    "start_time": "2023-04-03T05:29:51.968Z"
   },
   {
    "duration": 5,
    "start_time": "2023-04-03T05:29:51.973Z"
   },
   {
    "duration": 178,
    "start_time": "2023-04-03T05:29:51.981Z"
   },
   {
    "duration": 15,
    "start_time": "2023-04-03T05:29:52.161Z"
   },
   {
    "duration": 793,
    "start_time": "2023-04-03T05:29:52.179Z"
   },
   {
    "duration": 15,
    "start_time": "2023-04-03T05:29:52.974Z"
   },
   {
    "duration": 11,
    "start_time": "2023-04-03T05:29:52.990Z"
   },
   {
    "duration": 11,
    "start_time": "2023-04-03T05:29:53.009Z"
   },
   {
    "duration": 561,
    "start_time": "2023-04-03T05:29:53.022Z"
   },
   {
    "duration": 4,
    "start_time": "2023-04-03T05:29:53.584Z"
   },
   {
    "duration": 55,
    "start_time": "2023-04-03T05:30:45.439Z"
   },
   {
    "duration": 2667,
    "start_time": "2023-04-03T05:30:50.758Z"
   },
   {
    "duration": 2552,
    "start_time": "2023-04-03T05:30:53.428Z"
   },
   {
    "duration": 3,
    "start_time": "2023-04-03T05:30:55.982Z"
   },
   {
    "duration": 9,
    "start_time": "2023-04-03T05:30:55.987Z"
   },
   {
    "duration": 127,
    "start_time": "2023-04-03T05:30:55.998Z"
   },
   {
    "duration": 19,
    "start_time": "2023-04-03T05:30:56.128Z"
   },
   {
    "duration": 739,
    "start_time": "2023-04-03T05:30:56.149Z"
   },
   {
    "duration": 19,
    "start_time": "2023-04-03T05:30:56.890Z"
   },
   {
    "duration": 5,
    "start_time": "2023-04-03T05:30:56.911Z"
   },
   {
    "duration": 4,
    "start_time": "2023-04-03T05:30:56.918Z"
   },
   {
    "duration": 568,
    "start_time": "2023-04-03T05:30:56.924Z"
   },
   {
    "duration": 5,
    "start_time": "2023-04-03T05:30:57.494Z"
   },
   {
    "duration": 2257,
    "start_time": "2023-04-03T05:32:12.458Z"
   },
   {
    "duration": 3,
    "start_time": "2023-04-03T05:32:14.717Z"
   },
   {
    "duration": 11,
    "start_time": "2023-04-03T05:32:14.723Z"
   },
   {
    "duration": 113,
    "start_time": "2023-04-03T05:32:14.738Z"
   },
   {
    "duration": 17,
    "start_time": "2023-04-03T05:32:14.853Z"
   },
   {
    "duration": 707,
    "start_time": "2023-04-03T05:32:14.872Z"
   },
   {
    "duration": 13,
    "start_time": "2023-04-03T05:32:15.580Z"
   },
   {
    "duration": 12,
    "start_time": "2023-04-03T05:32:15.603Z"
   },
   {
    "duration": 11,
    "start_time": "2023-04-03T05:32:15.617Z"
   },
   {
    "duration": 545,
    "start_time": "2023-04-03T05:32:15.630Z"
   },
   {
    "duration": 4,
    "start_time": "2023-04-03T05:32:16.177Z"
   },
   {
    "duration": 2270,
    "start_time": "2023-04-03T05:33:49.523Z"
   },
   {
    "duration": 4,
    "start_time": "2023-04-03T05:33:51.795Z"
   },
   {
    "duration": 21,
    "start_time": "2023-04-03T05:33:51.801Z"
   },
   {
    "duration": 151,
    "start_time": "2023-04-03T05:33:51.824Z"
   },
   {
    "duration": 16,
    "start_time": "2023-04-03T05:33:51.978Z"
   },
   {
    "duration": 783,
    "start_time": "2023-04-03T05:33:51.996Z"
   },
   {
    "duration": 11,
    "start_time": "2023-04-03T05:33:52.781Z"
   },
   {
    "duration": 30,
    "start_time": "2023-04-03T05:33:52.794Z"
   },
   {
    "duration": 4,
    "start_time": "2023-04-03T05:33:52.831Z"
   },
   {
    "duration": 595,
    "start_time": "2023-04-03T05:33:52.837Z"
   },
   {
    "duration": 7,
    "start_time": "2023-04-03T05:33:53.434Z"
   },
   {
    "duration": 2729,
    "start_time": "2023-04-03T05:34:59.571Z"
   },
   {
    "duration": 7,
    "start_time": "2023-04-03T05:35:02.302Z"
   },
   {
    "duration": 22,
    "start_time": "2023-04-03T05:35:02.314Z"
   },
   {
    "duration": 127,
    "start_time": "2023-04-03T05:35:02.338Z"
   },
   {
    "duration": 14,
    "start_time": "2023-04-03T05:35:02.466Z"
   },
   {
    "duration": 670,
    "start_time": "2023-04-03T05:35:02.482Z"
   },
   {
    "duration": 14,
    "start_time": "2023-04-03T05:35:03.154Z"
   },
   {
    "duration": 47,
    "start_time": "2023-04-03T05:35:03.171Z"
   },
   {
    "duration": 18,
    "start_time": "2023-04-03T05:35:03.220Z"
   },
   {
    "duration": 529,
    "start_time": "2023-04-03T05:35:03.240Z"
   },
   {
    "duration": 5,
    "start_time": "2023-04-03T05:35:03.771Z"
   },
   {
    "duration": 5,
    "start_time": "2023-04-03T05:35:09.229Z"
   },
   {
    "duration": 11,
    "start_time": "2023-04-03T05:35:09.236Z"
   },
   {
    "duration": 46,
    "start_time": "2023-04-03T05:35:09.249Z"
   },
   {
    "duration": 22,
    "start_time": "2023-04-03T05:35:09.297Z"
   },
   {
    "duration": 5,
    "start_time": "2023-04-03T05:35:09.322Z"
   },
   {
    "duration": 6,
    "start_time": "2023-04-03T05:35:09.329Z"
   },
   {
    "duration": 14,
    "start_time": "2023-04-03T05:35:09.336Z"
   },
   {
    "duration": 79,
    "start_time": "2023-04-03T05:35:09.351Z"
   },
   {
    "duration": 585,
    "start_time": "2023-04-03T05:35:09.511Z"
   },
   {
    "duration": 2742,
    "start_time": "2023-04-03T05:35:10.105Z"
   },
   {
    "duration": 9011,
    "start_time": "2023-04-03T05:35:12.849Z"
   },
   {
    "duration": 618,
    "start_time": "2023-04-03T05:35:21.862Z"
   },
   {
    "duration": 2711,
    "start_time": "2023-04-03T05:35:22.485Z"
   },
   {
    "duration": 6180,
    "start_time": "2023-04-03T05:35:25.198Z"
   },
   {
    "duration": 406,
    "start_time": "2023-04-03T05:35:31.379Z"
   },
   {
    "duration": 26,
    "start_time": "2023-04-03T05:35:31.787Z"
   },
   {
    "duration": 22,
    "start_time": "2023-04-03T05:35:31.818Z"
   },
   {
    "duration": 3597,
    "start_time": "2023-04-03T05:35:31.842Z"
   },
   {
    "duration": 12624,
    "start_time": "2023-04-03T05:35:35.441Z"
   },
   {
    "duration": 428,
    "start_time": "2023-04-03T05:35:48.067Z"
   },
   {
    "duration": 4022,
    "start_time": "2023-04-03T05:35:48.503Z"
   },
   {
    "duration": 11649,
    "start_time": "2023-04-03T05:35:52.528Z"
   },
   {
    "duration": 430,
    "start_time": "2023-04-03T05:36:04.179Z"
   },
   {
    "duration": 50,
    "start_time": "2023-04-03T05:36:04.611Z"
   },
   {
    "duration": 4283,
    "start_time": "2023-04-03T05:36:04.663Z"
   },
   {
    "duration": 12179,
    "start_time": "2023-04-03T05:36:08.948Z"
   },
   {
    "duration": 466,
    "start_time": "2023-04-03T05:36:21.129Z"
   },
   {
    "duration": 12,
    "start_time": "2023-04-03T05:36:21.597Z"
   },
   {
    "duration": 17,
    "start_time": "2023-04-03T05:36:21.611Z"
   },
   {
    "duration": 620,
    "start_time": "2023-04-03T05:36:21.630Z"
   },
   {
    "duration": 437,
    "start_time": "2023-04-03T05:36:22.253Z"
   },
   {
    "duration": 73,
    "start_time": "2023-04-03T05:36:22.692Z"
   },
   {
    "duration": 2665,
    "start_time": "2023-04-03T05:36:22.767Z"
   },
   {
    "duration": 479,
    "start_time": "2023-04-03T05:36:25.434Z"
   },
   {
    "duration": 38,
    "start_time": "2023-04-03T05:36:25.915Z"
   },
   {
    "duration": 557,
    "start_time": "2023-04-03T05:36:26.013Z"
   },
   {
    "duration": 39,
    "start_time": "2023-04-03T05:36:26.574Z"
   },
   {
    "duration": 2058,
    "start_time": "2023-04-03T05:37:23.869Z"
   },
   {
    "duration": 35069,
    "start_time": "2023-04-03T05:37:29.964Z"
   },
   {
    "duration": 36513,
    "start_time": "2023-04-03T05:38:13.278Z"
   },
   {
    "duration": 1650,
    "start_time": "2023-04-03T05:40:14.327Z"
   },
   {
    "duration": 3,
    "start_time": "2023-04-03T05:40:15.979Z"
   },
   {
    "duration": 10,
    "start_time": "2023-04-03T05:40:15.984Z"
   },
   {
    "duration": 80,
    "start_time": "2023-04-03T05:40:15.997Z"
   },
   {
    "duration": 13,
    "start_time": "2023-04-03T05:40:16.079Z"
   },
   {
    "duration": 735,
    "start_time": "2023-04-03T05:40:16.094Z"
   },
   {
    "duration": 12,
    "start_time": "2023-04-03T05:40:16.831Z"
   },
   {
    "duration": 358,
    "start_time": "2023-04-03T05:40:16.845Z"
   },
   {
    "duration": 16,
    "start_time": "2023-04-03T05:40:17.205Z"
   },
   {
    "duration": 574,
    "start_time": "2023-04-03T05:40:17.223Z"
   },
   {
    "duration": 13,
    "start_time": "2023-04-03T05:40:17.803Z"
   },
   {
    "duration": 58,
    "start_time": "2023-04-03T05:41:07.772Z"
   },
   {
    "duration": 2193,
    "start_time": "2023-04-03T05:41:15.056Z"
   },
   {
    "duration": 4,
    "start_time": "2023-04-03T05:41:17.251Z"
   },
   {
    "duration": 6,
    "start_time": "2023-04-03T05:41:17.256Z"
   },
   {
    "duration": 112,
    "start_time": "2023-04-03T05:41:17.264Z"
   },
   {
    "duration": 17,
    "start_time": "2023-04-03T05:41:17.379Z"
   },
   {
    "duration": 685,
    "start_time": "2023-04-03T05:41:17.398Z"
   },
   {
    "duration": 23,
    "start_time": "2023-04-03T05:41:18.085Z"
   },
   {
    "duration": 9,
    "start_time": "2023-04-03T05:41:18.113Z"
   },
   {
    "duration": 7,
    "start_time": "2023-04-03T05:41:18.124Z"
   },
   {
    "duration": 536,
    "start_time": "2023-04-03T05:41:18.132Z"
   },
   {
    "duration": 6,
    "start_time": "2023-04-03T05:41:18.671Z"
   },
   {
    "duration": 2296,
    "start_time": "2023-04-03T05:43:03.926Z"
   },
   {
    "duration": 3,
    "start_time": "2023-04-03T05:43:06.224Z"
   },
   {
    "duration": 8,
    "start_time": "2023-04-03T05:43:06.229Z"
   },
   {
    "duration": 117,
    "start_time": "2023-04-03T05:43:06.239Z"
   },
   {
    "duration": 15,
    "start_time": "2023-04-03T05:43:06.357Z"
   },
   {
    "duration": 698,
    "start_time": "2023-04-03T05:43:06.374Z"
   },
   {
    "duration": 15,
    "start_time": "2023-04-03T05:43:07.074Z"
   },
   {
    "duration": 3,
    "start_time": "2023-04-03T05:43:07.104Z"
   },
   {
    "duration": 24,
    "start_time": "2023-04-03T05:43:07.109Z"
   },
   {
    "duration": 565,
    "start_time": "2023-04-03T05:43:07.135Z"
   },
   {
    "duration": 12,
    "start_time": "2023-04-03T05:43:07.703Z"
   },
   {
    "duration": 2466,
    "start_time": "2023-04-03T05:44:19.724Z"
   },
   {
    "duration": 4,
    "start_time": "2023-04-03T05:44:22.194Z"
   },
   {
    "duration": 6,
    "start_time": "2023-04-03T05:44:22.199Z"
   },
   {
    "duration": 101,
    "start_time": "2023-04-03T05:44:22.210Z"
   },
   {
    "duration": 15,
    "start_time": "2023-04-03T05:44:22.313Z"
   },
   {
    "duration": 697,
    "start_time": "2023-04-03T05:44:22.330Z"
   },
   {
    "duration": 14,
    "start_time": "2023-04-03T05:44:23.028Z"
   },
   {
    "duration": 10,
    "start_time": "2023-04-03T05:44:23.044Z"
   },
   {
    "duration": 4,
    "start_time": "2023-04-03T05:44:23.056Z"
   },
   {
    "duration": 585,
    "start_time": "2023-04-03T05:44:23.063Z"
   },
   {
    "duration": 6,
    "start_time": "2023-04-03T05:44:23.650Z"
   },
   {
    "duration": 1422,
    "start_time": "2023-04-03T05:44:52.725Z"
   },
   {
    "duration": 4,
    "start_time": "2023-04-03T05:44:54.149Z"
   },
   {
    "duration": 9,
    "start_time": "2023-04-03T05:44:54.154Z"
   },
   {
    "duration": 59,
    "start_time": "2023-04-03T05:44:54.165Z"
   },
   {
    "duration": 15,
    "start_time": "2023-04-03T05:44:54.226Z"
   },
   {
    "duration": 684,
    "start_time": "2023-04-03T05:44:54.243Z"
   },
   {
    "duration": 15,
    "start_time": "2023-04-03T05:44:54.929Z"
   },
   {
    "duration": 9,
    "start_time": "2023-04-03T05:44:54.947Z"
   },
   {
    "duration": 12,
    "start_time": "2023-04-03T05:44:54.958Z"
   },
   {
    "duration": 568,
    "start_time": "2023-04-03T05:44:54.972Z"
   },
   {
    "duration": 6,
    "start_time": "2023-04-03T05:44:55.542Z"
   },
   {
    "duration": 6,
    "start_time": "2023-04-03T05:45:00.521Z"
   },
   {
    "duration": 42,
    "start_time": "2023-04-03T05:45:00.530Z"
   },
   {
    "duration": 79,
    "start_time": "2023-04-03T05:45:00.574Z"
   },
   {
    "duration": 18,
    "start_time": "2023-04-03T05:45:00.655Z"
   },
   {
    "duration": 18,
    "start_time": "2023-04-03T05:45:00.675Z"
   },
   {
    "duration": 40,
    "start_time": "2023-04-03T05:45:00.695Z"
   },
   {
    "duration": 77,
    "start_time": "2023-04-03T05:45:00.737Z"
   },
   {
    "duration": 53,
    "start_time": "2023-04-03T05:45:00.815Z"
   },
   {
    "duration": 651,
    "start_time": "2023-04-03T05:45:00.870Z"
   },
   {
    "duration": 4549,
    "start_time": "2023-04-03T05:45:01.523Z"
   },
   {
    "duration": 9140,
    "start_time": "2023-04-03T05:45:06.075Z"
   },
   {
    "duration": 563,
    "start_time": "2023-04-03T05:45:15.218Z"
   },
   {
    "duration": 2833,
    "start_time": "2023-04-03T05:45:15.783Z"
   },
   {
    "duration": 6326,
    "start_time": "2023-04-03T05:45:18.620Z"
   },
   {
    "duration": 431,
    "start_time": "2023-04-03T05:45:24.948Z"
   },
   {
    "duration": 30,
    "start_time": "2023-04-03T05:45:25.381Z"
   },
   {
    "duration": 16,
    "start_time": "2023-04-03T05:45:25.413Z"
   },
   {
    "duration": 3706,
    "start_time": "2023-04-03T05:45:25.431Z"
   },
   {
    "duration": 11835,
    "start_time": "2023-04-03T05:45:29.139Z"
   },
   {
    "duration": 446,
    "start_time": "2023-04-03T05:45:40.976Z"
   },
   {
    "duration": 3687,
    "start_time": "2023-04-03T05:45:41.425Z"
   },
   {
    "duration": 11677,
    "start_time": "2023-04-03T05:45:45.116Z"
   },
   {
    "duration": 439,
    "start_time": "2023-04-03T05:45:56.795Z"
   },
   {
    "duration": 40,
    "start_time": "2023-04-03T05:45:57.235Z"
   },
   {
    "duration": 4425,
    "start_time": "2023-04-03T05:45:57.277Z"
   },
   {
    "duration": 12551,
    "start_time": "2023-04-03T05:46:01.706Z"
   },
   {
    "duration": 482,
    "start_time": "2023-04-03T05:46:14.259Z"
   },
   {
    "duration": 7,
    "start_time": "2023-04-03T05:46:14.742Z"
   },
   {
    "duration": 13,
    "start_time": "2023-04-03T05:46:14.750Z"
   },
   {
    "duration": 596,
    "start_time": "2023-04-03T05:46:14.765Z"
   },
   {
    "duration": 436,
    "start_time": "2023-04-03T05:46:15.362Z"
   },
   {
    "duration": 66,
    "start_time": "2023-04-03T05:46:15.803Z"
   },
   {
    "duration": 2708,
    "start_time": "2023-04-03T05:46:15.871Z"
   },
   {
    "duration": 484,
    "start_time": "2023-04-03T05:46:18.582Z"
   },
   {
    "duration": 65,
    "start_time": "2023-04-03T05:46:19.068Z"
   },
   {
    "duration": 621,
    "start_time": "2023-04-03T05:46:19.135Z"
   },
   {
    "duration": 24,
    "start_time": "2023-04-03T05:46:19.757Z"
   },
   {
    "duration": 2079,
    "start_time": "2023-04-03T05:46:35.184Z"
   },
   {
    "duration": 34929,
    "start_time": "2023-04-03T05:46:40.128Z"
   },
   {
    "duration": 5,
    "start_time": "2023-04-03T05:50:15.825Z"
   },
   {
    "duration": 1874,
    "start_time": "2023-04-04T07:49:40.334Z"
   },
   {
    "duration": 392,
    "start_time": "2023-04-04T07:49:55.764Z"
   },
   {
    "duration": 94,
    "start_time": "2023-04-04T07:50:07.181Z"
   },
   {
    "duration": 6,
    "start_time": "2023-04-04T07:50:19.714Z"
   },
   {
    "duration": 394,
    "start_time": "2023-04-04T07:50:50.511Z"
   },
   {
    "duration": 126,
    "start_time": "2023-04-04T07:51:27.191Z"
   },
   {
    "duration": 117,
    "start_time": "2023-04-04T07:51:44.347Z"
   },
   {
    "duration": 114,
    "start_time": "2023-04-04T07:54:31.030Z"
   },
   {
    "duration": 1311,
    "start_time": "2023-04-04T07:55:28.853Z"
   },
   {
    "duration": 6606,
    "start_time": "2023-04-04T07:55:42.654Z"
   },
   {
    "duration": 590,
    "start_time": "2023-04-04T07:56:44.947Z"
   },
   {
    "duration": 8,
    "start_time": "2023-04-04T07:56:47.973Z"
   },
   {
    "duration": 3,
    "start_time": "2023-04-04T07:57:00.645Z"
   },
   {
    "duration": 129,
    "start_time": "2023-04-04T08:20:26.435Z"
   },
   {
    "duration": 15807,
    "start_time": "2023-04-04T08:20:35.437Z"
   },
   {
    "duration": 3473,
    "start_time": "2023-04-04T08:20:59.812Z"
   },
   {
    "duration": 228,
    "start_time": "2023-04-04T08:21:13.889Z"
   },
   {
    "duration": 11,
    "start_time": "2023-04-04T08:21:17.917Z"
   },
   {
    "duration": 1298,
    "start_time": "2023-04-04T08:21:53.588Z"
   },
   {
    "duration": 3,
    "start_time": "2023-04-04T08:22:00.980Z"
   },
   {
    "duration": 2399,
    "start_time": "2023-04-04T08:22:06.764Z"
   },
   {
    "duration": 646,
    "start_time": "2023-04-04T08:22:09.166Z"
   },
   {
    "duration": 73,
    "start_time": "2023-04-04T08:22:10.120Z"
   },
   {
    "duration": 12,
    "start_time": "2023-04-04T08:22:10.522Z"
   },
   {
    "duration": 53,
    "start_time": "2023-04-04T08:22:18.038Z"
   },
   {
    "duration": 10,
    "start_time": "2023-04-04T08:22:21.118Z"
   },
   {
    "duration": 16324,
    "start_time": "2023-04-04T08:22:21.543Z"
   },
   {
    "duration": 2333,
    "start_time": "2023-04-07T21:07:58.823Z"
   },
   {
    "duration": 1774,
    "start_time": "2023-04-07T21:08:20.577Z"
   },
   {
    "duration": 10481,
    "start_time": "2023-04-07T21:08:38.965Z"
   },
   {
    "duration": 31,
    "start_time": "2023-04-07T21:08:49.448Z"
   },
   {
    "duration": 14,
    "start_time": "2023-04-07T21:09:03.708Z"
   },
   {
    "duration": 3862,
    "start_time": "2023-04-07T21:09:29.104Z"
   },
   {
    "duration": 28,
    "start_time": "2023-04-07T21:09:36.975Z"
   },
   {
    "duration": 14,
    "start_time": "2023-04-07T21:09:59.337Z"
   },
   {
    "duration": 17,
    "start_time": "2023-04-07T21:10:02.465Z"
   },
   {
    "duration": 4272,
    "start_time": "2023-04-07T21:10:26.139Z"
   },
   {
    "duration": 1417,
    "start_time": "2023-04-07T21:10:31.235Z"
   },
   {
    "duration": 6949,
    "start_time": "2023-04-07T21:10:40.238Z"
   },
   {
    "duration": 39,
    "start_time": "2023-04-07T21:10:49.544Z"
   },
   {
    "duration": 5,
    "start_time": "2023-04-07T21:10:53.332Z"
   },
   {
    "duration": 32,
    "start_time": "2023-04-07T21:10:57.988Z"
   },
   {
    "duration": 3,
    "start_time": "2023-04-07T21:11:05.545Z"
   },
   {
    "duration": 5,
    "start_time": "2023-04-07T21:11:05.551Z"
   },
   {
    "duration": 105,
    "start_time": "2023-04-07T21:11:05.558Z"
   },
   {
    "duration": 18,
    "start_time": "2023-04-07T21:11:05.665Z"
   },
   {
    "duration": 621,
    "start_time": "2023-04-07T21:11:05.686Z"
   },
   {
    "duration": 11,
    "start_time": "2023-04-07T21:11:06.309Z"
   },
   {
    "duration": 4,
    "start_time": "2023-04-07T21:11:06.322Z"
   },
   {
    "duration": 17,
    "start_time": "2023-04-07T21:11:06.327Z"
   },
   {
    "duration": 494,
    "start_time": "2023-04-07T21:11:06.345Z"
   },
   {
    "duration": 3,
    "start_time": "2023-04-07T21:11:06.841Z"
   },
   {
    "duration": 187,
    "start_time": "2023-04-07T21:11:06.846Z"
   },
   {
    "duration": 45,
    "start_time": "2023-04-07T21:11:57.303Z"
   },
   {
    "duration": 0,
    "start_time": "2023-04-07T21:11:57.351Z"
   },
   {
    "duration": 0,
    "start_time": "2023-04-07T21:11:57.353Z"
   },
   {
    "duration": 0,
    "start_time": "2023-04-07T21:11:57.355Z"
   },
   {
    "duration": 0,
    "start_time": "2023-04-07T21:11:57.356Z"
   },
   {
    "duration": 0,
    "start_time": "2023-04-07T21:11:57.358Z"
   },
   {
    "duration": 0,
    "start_time": "2023-04-07T21:11:57.359Z"
   },
   {
    "duration": 0,
    "start_time": "2023-04-07T21:11:57.361Z"
   },
   {
    "duration": 0,
    "start_time": "2023-04-07T21:11:57.362Z"
   },
   {
    "duration": 0,
    "start_time": "2023-04-07T21:11:57.363Z"
   },
   {
    "duration": 0,
    "start_time": "2023-04-07T21:11:57.364Z"
   },
   {
    "duration": 0,
    "start_time": "2023-04-07T21:11:57.368Z"
   },
   {
    "duration": 0,
    "start_time": "2023-04-07T21:11:57.369Z"
   },
   {
    "duration": 0,
    "start_time": "2023-04-07T21:11:57.371Z"
   },
   {
    "duration": 0,
    "start_time": "2023-04-07T21:11:57.372Z"
   },
   {
    "duration": 0,
    "start_time": "2023-04-07T21:11:57.373Z"
   },
   {
    "duration": 0,
    "start_time": "2023-04-07T21:11:57.374Z"
   },
   {
    "duration": 0,
    "start_time": "2023-04-07T21:11:57.376Z"
   },
   {
    "duration": 0,
    "start_time": "2023-04-07T21:11:57.377Z"
   },
   {
    "duration": 0,
    "start_time": "2023-04-07T21:11:57.378Z"
   },
   {
    "duration": 0,
    "start_time": "2023-04-07T21:11:57.379Z"
   },
   {
    "duration": 0,
    "start_time": "2023-04-07T21:11:57.382Z"
   },
   {
    "duration": 0,
    "start_time": "2023-04-07T21:11:57.383Z"
   },
   {
    "duration": 0,
    "start_time": "2023-04-07T21:11:57.385Z"
   },
   {
    "duration": 0,
    "start_time": "2023-04-07T21:11:57.386Z"
   },
   {
    "duration": 11,
    "start_time": "2023-04-07T21:11:57.390Z"
   },
   {
    "duration": 0,
    "start_time": "2023-04-07T21:11:57.403Z"
   },
   {
    "duration": 0,
    "start_time": "2023-04-07T21:11:57.404Z"
   },
   {
    "duration": 0,
    "start_time": "2023-04-07T21:11:57.406Z"
   },
   {
    "duration": 0,
    "start_time": "2023-04-07T21:11:57.407Z"
   },
   {
    "duration": 0,
    "start_time": "2023-04-07T21:11:57.409Z"
   },
   {
    "duration": 0,
    "start_time": "2023-04-07T21:11:57.468Z"
   },
   {
    "duration": 0,
    "start_time": "2023-04-07T21:11:57.470Z"
   },
   {
    "duration": 0,
    "start_time": "2023-04-07T21:11:57.471Z"
   },
   {
    "duration": 0,
    "start_time": "2023-04-07T21:11:57.472Z"
   },
   {
    "duration": 0,
    "start_time": "2023-04-07T21:11:57.474Z"
   },
   {
    "duration": 0,
    "start_time": "2023-04-07T21:11:57.475Z"
   },
   {
    "duration": 6231,
    "start_time": "2023-04-07T21:12:10.630Z"
   },
   {
    "duration": 2697,
    "start_time": "2023-04-07T21:12:16.864Z"
   },
   {
    "duration": 4,
    "start_time": "2023-04-07T21:12:19.563Z"
   },
   {
    "duration": 8,
    "start_time": "2023-04-07T21:12:19.568Z"
   },
   {
    "duration": 136,
    "start_time": "2023-04-07T21:12:19.578Z"
   },
   {
    "duration": 18,
    "start_time": "2023-04-07T21:12:19.716Z"
   },
   {
    "duration": 600,
    "start_time": "2023-04-07T21:12:19.737Z"
   },
   {
    "duration": 12,
    "start_time": "2023-04-07T21:12:20.339Z"
   },
   {
    "duration": 15,
    "start_time": "2023-04-07T21:12:20.353Z"
   },
   {
    "duration": 3,
    "start_time": "2023-04-07T21:12:20.370Z"
   },
   {
    "duration": 500,
    "start_time": "2023-04-07T21:12:20.375Z"
   },
   {
    "duration": 4,
    "start_time": "2023-04-07T21:12:20.877Z"
   },
   {
    "duration": 189,
    "start_time": "2023-04-07T21:12:20.883Z"
   },
   {
    "duration": 6745,
    "start_time": "2023-04-07T21:12:43.946Z"
   },
   {
    "duration": 3509,
    "start_time": "2023-04-07T21:12:50.695Z"
   },
   {
    "duration": 5,
    "start_time": "2023-04-07T21:12:54.207Z"
   },
   {
    "duration": 6,
    "start_time": "2023-04-07T21:12:54.214Z"
   },
   {
    "duration": 115,
    "start_time": "2023-04-07T21:12:54.222Z"
   },
   {
    "duration": 18,
    "start_time": "2023-04-07T21:12:54.340Z"
   },
   {
    "duration": 634,
    "start_time": "2023-04-07T21:12:54.360Z"
   },
   {
    "duration": 13,
    "start_time": "2023-04-07T21:12:54.996Z"
   },
   {
    "duration": 3,
    "start_time": "2023-04-07T21:12:55.011Z"
   },
   {
    "duration": 6,
    "start_time": "2023-04-07T21:12:55.017Z"
   },
   {
    "duration": 525,
    "start_time": "2023-04-07T21:12:55.025Z"
   },
   {
    "duration": 4,
    "start_time": "2023-04-07T21:12:55.552Z"
   },
   {
    "duration": 251,
    "start_time": "2023-04-07T21:12:55.568Z"
   },
   {
    "duration": 6,
    "start_time": "2023-04-07T21:12:55.822Z"
   },
   {
    "duration": 17,
    "start_time": "2023-04-07T21:12:55.837Z"
   },
   {
    "duration": 73,
    "start_time": "2023-04-07T21:12:55.855Z"
   },
   {
    "duration": 14,
    "start_time": "2023-04-07T21:12:55.930Z"
   },
   {
    "duration": 7,
    "start_time": "2023-04-07T21:12:55.945Z"
   },
   {
    "duration": 30,
    "start_time": "2023-04-07T21:12:55.953Z"
   },
   {
    "duration": 9,
    "start_time": "2023-04-07T21:12:55.985Z"
   },
   {
    "duration": 177,
    "start_time": "2023-04-07T21:12:55.996Z"
   },
   {
    "duration": 599,
    "start_time": "2023-04-07T21:12:56.175Z"
   },
   {
    "duration": 2701,
    "start_time": "2023-04-07T21:12:56.776Z"
   },
   {
    "duration": 8118,
    "start_time": "2023-04-07T21:12:59.481Z"
   },
   {
    "duration": 428,
    "start_time": "2023-04-07T21:13:07.601Z"
   },
   {
    "duration": 2429,
    "start_time": "2023-04-07T21:13:08.031Z"
   },
   {
    "duration": 5717,
    "start_time": "2023-04-07T21:13:10.462Z"
   },
   {
    "duration": 405,
    "start_time": "2023-04-07T21:13:16.187Z"
   },
   {
    "duration": 11,
    "start_time": "2023-04-07T21:13:16.598Z"
   },
   {
    "duration": 12,
    "start_time": "2023-04-07T21:13:16.611Z"
   },
   {
    "duration": 3275,
    "start_time": "2023-04-07T21:13:16.625Z"
   },
   {
    "duration": 10158,
    "start_time": "2023-04-07T21:13:19.902Z"
   },
   {
    "duration": 386,
    "start_time": "2023-04-07T21:13:30.062Z"
   },
   {
    "duration": 3229,
    "start_time": "2023-04-07T21:13:30.450Z"
   },
   {
    "duration": 9798,
    "start_time": "2023-04-07T21:13:33.682Z"
   },
   {
    "duration": 376,
    "start_time": "2023-04-07T21:13:43.482Z"
   },
   {
    "duration": 43,
    "start_time": "2023-04-07T21:13:43.859Z"
   },
   {
    "duration": 3795,
    "start_time": "2023-04-07T21:13:43.904Z"
   },
   {
    "duration": 10905,
    "start_time": "2023-04-07T21:13:47.701Z"
   },
   {
    "duration": 420,
    "start_time": "2023-04-07T21:13:58.608Z"
   },
   {
    "duration": 8,
    "start_time": "2023-04-07T21:13:59.031Z"
   },
   {
    "duration": 27,
    "start_time": "2023-04-07T21:13:59.041Z"
   },
   {
    "duration": 530,
    "start_time": "2023-04-07T21:13:59.071Z"
   },
   {
    "duration": 491,
    "start_time": "2023-04-07T21:13:59.603Z"
   },
   {
    "duration": 45,
    "start_time": "2023-04-07T21:14:00.096Z"
   },
   {
    "duration": 2111,
    "start_time": "2023-04-07T21:14:00.143Z"
   },
   {
    "duration": 464,
    "start_time": "2023-04-07T21:14:02.255Z"
   },
   {
    "duration": 55,
    "start_time": "2023-04-07T21:14:02.721Z"
   },
   {
    "duration": 586,
    "start_time": "2023-04-07T21:14:02.777Z"
   },
   {
    "duration": 27,
    "start_time": "2023-04-07T21:14:03.365Z"
   },
   {
    "duration": 2479,
    "start_time": "2023-04-07T21:14:18.060Z"
   },
   {
    "duration": 33803,
    "start_time": "2023-04-07T21:14:20.542Z"
   },
   {
    "duration": 163,
    "start_time": "2023-04-07T21:15:01.449Z"
   },
   {
    "duration": 5,
    "start_time": "2023-04-07T21:15:07.084Z"
   },
   {
    "duration": 5,
    "start_time": "2023-04-07T21:16:05.628Z"
   },
   {
    "duration": 654,
    "start_time": "2023-04-07T21:16:32.855Z"
   },
   {
    "duration": 2694,
    "start_time": "2023-04-07T21:17:58.919Z"
   },
   {
    "duration": 1249,
    "start_time": "2023-04-07T21:18:43.348Z"
   },
   {
    "duration": 1287,
    "start_time": "2023-04-07T21:18:49.221Z"
   },
   {
    "duration": 2936,
    "start_time": "2023-04-07T21:18:56.439Z"
   },
   {
    "duration": 9,
    "start_time": "2023-04-07T21:20:19.150Z"
   },
   {
    "duration": 472,
    "start_time": "2023-04-07T21:20:19.961Z"
   },
   {
    "duration": 1945,
    "start_time": "2023-04-07T21:20:38.609Z"
   },
   {
    "duration": 4425,
    "start_time": "2023-04-07T21:20:44.652Z"
   },
   {
    "duration": 4149,
    "start_time": "2023-04-07T21:20:52.790Z"
   },
   {
    "duration": 4748,
    "start_time": "2023-04-07T21:21:00.755Z"
   },
   {
    "duration": 4102,
    "start_time": "2023-04-07T21:21:09.135Z"
   },
   {
    "duration": 10,
    "start_time": "2023-04-07T21:21:16.738Z"
   },
   {
    "duration": 376,
    "start_time": "2023-04-07T21:21:20.144Z"
   },
   {
    "duration": 500,
    "start_time": "2023-04-07T21:21:32.501Z"
   },
   {
    "duration": 6417,
    "start_time": "2023-04-07T21:22:14.344Z"
   },
   {
    "duration": 5705,
    "start_time": "2023-04-07T21:22:32.624Z"
   },
   {
    "duration": 4040,
    "start_time": "2023-04-07T21:22:38.331Z"
   },
   {
    "duration": 6822,
    "start_time": "2023-04-07T21:22:46.796Z"
   },
   {
    "duration": 5523,
    "start_time": "2023-04-07T21:23:07.005Z"
   },
   {
    "duration": 5981,
    "start_time": "2023-04-07T21:23:15.230Z"
   },
   {
    "duration": 5812,
    "start_time": "2023-04-07T21:23:24.441Z"
   },
   {
    "duration": 25,
    "start_time": "2023-04-07T21:23:30.255Z"
   },
   {
    "duration": 375,
    "start_time": "2023-04-07T21:23:30.289Z"
   },
   {
    "duration": 3,
    "start_time": "2023-04-07T21:25:19.696Z"
   },
   {
    "duration": 3284,
    "start_time": "2023-04-07T21:25:20.527Z"
   },
   {
    "duration": 8,
    "start_time": "2023-04-07T21:25:29.713Z"
   },
   {
    "duration": 345,
    "start_time": "2023-04-07T21:25:30.910Z"
   },
   {
    "duration": 5252,
    "start_time": "2023-04-07T21:25:46.340Z"
   },
   {
    "duration": 5274,
    "start_time": "2023-04-07T21:25:56.219Z"
   },
   {
    "duration": 5529,
    "start_time": "2023-04-07T21:26:09.994Z"
   },
   {
    "duration": 4477,
    "start_time": "2023-04-07T21:26:30.578Z"
   },
   {
    "duration": 3,
    "start_time": "2023-04-07T21:26:37.339Z"
   },
   {
    "duration": 15,
    "start_time": "2023-04-07T21:27:22.688Z"
   },
   {
    "duration": 12,
    "start_time": "2023-04-07T21:27:35.744Z"
   },
   {
    "duration": 9,
    "start_time": "2023-04-07T21:27:41.351Z"
   },
   {
    "duration": 4473,
    "start_time": "2023-04-07T21:27:44.018Z"
   },
   {
    "duration": 4,
    "start_time": "2023-04-07T21:27:52.550Z"
   },
   {
    "duration": 4535,
    "start_time": "2023-04-07T21:27:55.245Z"
   },
   {
    "duration": 9,
    "start_time": "2023-04-07T21:27:59.782Z"
   },
   {
    "duration": 509,
    "start_time": "2023-04-07T21:27:59.793Z"
   },
   {
    "duration": 3568,
    "start_time": "2023-04-07T21:28:15.057Z"
   },
   {
    "duration": 3,
    "start_time": "2023-04-07T21:28:18.627Z"
   },
   {
    "duration": 2859,
    "start_time": "2023-04-07T21:28:18.631Z"
   },
   {
    "duration": 7,
    "start_time": "2023-04-07T21:28:24.588Z"
   },
   {
    "duration": 306,
    "start_time": "2023-04-07T21:28:25.447Z"
   },
   {
    "duration": 3220,
    "start_time": "2023-04-07T21:28:33.787Z"
   },
   {
    "duration": 2,
    "start_time": "2023-04-07T21:28:37.009Z"
   },
   {
    "duration": 2862,
    "start_time": "2023-04-07T21:28:37.013Z"
   },
   {
    "duration": 7,
    "start_time": "2023-04-07T21:28:39.878Z"
   },
   {
    "duration": 361,
    "start_time": "2023-04-07T21:28:39.887Z"
   },
   {
    "duration": 3761,
    "start_time": "2023-04-07T21:28:50.023Z"
   },
   {
    "duration": 8,
    "start_time": "2023-04-07T21:28:53.787Z"
   },
   {
    "duration": 353,
    "start_time": "2023-04-07T21:28:54.135Z"
   },
   {
    "duration": 3,
    "start_time": "2023-04-07T21:29:02.562Z"
   },
   {
    "duration": 2809,
    "start_time": "2023-04-07T21:29:03.124Z"
   },
   {
    "duration": 7,
    "start_time": "2023-04-07T21:29:05.935Z"
   },
   {
    "duration": 309,
    "start_time": "2023-04-07T21:29:05.943Z"
   },
   {
    "duration": 4792,
    "start_time": "2023-04-07T21:29:58.715Z"
   },
   {
    "duration": 4,
    "start_time": "2023-04-07T21:30:09.649Z"
   },
   {
    "duration": 9,
    "start_time": "2023-04-07T21:31:36.439Z"
   },
   {
    "duration": 4091,
    "start_time": "2023-04-07T21:31:44.096Z"
   },
   {
    "duration": 95,
    "start_time": "2023-04-07T21:34:42.765Z"
   },
   {
    "duration": 24,
    "start_time": "2023-04-07T21:34:49.006Z"
   },
   {
    "duration": 3613,
    "start_time": "2023-04-07T22:13:28.564Z"
   },
   {
    "duration": 6,
    "start_time": "2023-04-07T22:13:38.984Z"
   },
   {
    "duration": 47,
    "start_time": "2023-04-09T01:37:20.543Z"
   },
   {
    "duration": 12672,
    "start_time": "2023-04-09T01:37:45.474Z"
   },
   {
    "duration": 1512,
    "start_time": "2023-04-09T01:37:58.149Z"
   },
   {
    "duration": 2,
    "start_time": "2023-04-09T01:37:59.664Z"
   },
   {
    "duration": 13,
    "start_time": "2023-04-09T01:37:59.672Z"
   },
   {
    "duration": 181,
    "start_time": "2023-04-09T01:37:59.687Z"
   },
   {
    "duration": 13,
    "start_time": "2023-04-09T01:37:59.874Z"
   },
   {
    "duration": 526,
    "start_time": "2023-04-09T01:37:59.889Z"
   },
   {
    "duration": 10,
    "start_time": "2023-04-09T01:38:00.417Z"
   },
   {
    "duration": 24,
    "start_time": "2023-04-09T01:38:00.428Z"
   },
   {
    "duration": 15,
    "start_time": "2023-04-09T01:38:00.453Z"
   },
   {
    "duration": 487,
    "start_time": "2023-04-09T01:38:00.469Z"
   },
   {
    "duration": 4,
    "start_time": "2023-04-09T01:38:00.957Z"
   },
   {
    "duration": 198,
    "start_time": "2023-04-09T01:38:00.962Z"
   },
   {
    "duration": 11,
    "start_time": "2023-04-09T01:38:01.162Z"
   },
   {
    "duration": 53,
    "start_time": "2023-04-09T01:38:01.174Z"
   },
   {
    "duration": 53,
    "start_time": "2023-04-09T01:38:01.229Z"
   },
   {
    "duration": 12,
    "start_time": "2023-04-09T01:38:01.283Z"
   },
   {
    "duration": 27,
    "start_time": "2023-04-09T01:38:01.296Z"
   },
   {
    "duration": 33,
    "start_time": "2023-04-09T01:38:01.324Z"
   },
   {
    "duration": 45,
    "start_time": "2023-04-09T01:38:01.358Z"
   },
   {
    "duration": 49,
    "start_time": "2023-04-09T01:38:01.404Z"
   },
   {
    "duration": 636,
    "start_time": "2023-04-09T01:38:01.454Z"
   },
   {
    "duration": 2505,
    "start_time": "2023-04-09T01:38:02.092Z"
   },
   {
    "duration": 8046,
    "start_time": "2023-04-09T01:38:04.599Z"
   },
   {
    "duration": 383,
    "start_time": "2023-04-09T01:38:12.646Z"
   },
   {
    "duration": 2643,
    "start_time": "2023-04-09T01:38:13.030Z"
   },
   {
    "duration": 6336,
    "start_time": "2023-04-09T01:38:15.674Z"
   },
   {
    "duration": 330,
    "start_time": "2023-04-09T01:38:22.011Z"
   },
   {
    "duration": 10,
    "start_time": "2023-04-09T01:38:22.342Z"
   },
   {
    "duration": 19,
    "start_time": "2023-04-09T01:38:22.353Z"
   },
   {
    "duration": 3176,
    "start_time": "2023-04-09T01:38:22.374Z"
   },
   {
    "duration": 10615,
    "start_time": "2023-04-09T01:38:25.551Z"
   },
   {
    "duration": 359,
    "start_time": "2023-04-09T01:38:36.167Z"
   },
   {
    "duration": 3216,
    "start_time": "2023-04-09T01:38:36.528Z"
   },
   {
    "duration": 10358,
    "start_time": "2023-04-09T01:38:39.745Z"
   },
   {
    "duration": 331,
    "start_time": "2023-04-09T01:38:50.105Z"
   },
   {
    "duration": 41,
    "start_time": "2023-04-09T01:38:50.437Z"
   },
   {
    "duration": 3786,
    "start_time": "2023-04-09T01:38:50.480Z"
   },
   {
    "duration": 11223,
    "start_time": "2023-04-09T01:38:54.272Z"
   },
   {
    "duration": 365,
    "start_time": "2023-04-09T01:39:05.497Z"
   },
   {
    "duration": 8,
    "start_time": "2023-04-09T01:39:05.865Z"
   },
   {
    "duration": 18,
    "start_time": "2023-04-09T01:39:05.875Z"
   },
   {
    "duration": 2927,
    "start_time": "2023-04-09T01:39:05.897Z"
   },
   {
    "duration": 3,
    "start_time": "2023-04-09T01:39:08.825Z"
   },
   {
    "duration": 2553,
    "start_time": "2023-04-09T01:39:08.830Z"
   },
   {
    "duration": 13,
    "start_time": "2023-04-09T01:39:11.386Z"
   },
   {
    "duration": 367,
    "start_time": "2023-04-09T01:39:11.400Z"
   },
   {
    "duration": 4162,
    "start_time": "2023-04-09T01:39:11.771Z"
   },
   {
    "duration": 3,
    "start_time": "2023-04-09T01:39:15.934Z"
   },
   {
    "duration": 3670,
    "start_time": "2023-04-09T01:39:15.939Z"
   },
   {
    "duration": 6,
    "start_time": "2023-04-09T01:39:19.611Z"
   },
   {
    "duration": 292,
    "start_time": "2023-04-09T01:39:19.618Z"
   },
   {
    "duration": 7,
    "start_time": "2023-04-09T01:39:19.911Z"
   },
   {
    "duration": 18,
    "start_time": "2023-04-09T01:39:19.920Z"
   },
   {
    "duration": 570,
    "start_time": "2023-04-09T01:39:19.940Z"
   },
   {
    "duration": 336,
    "start_time": "2023-04-09T01:39:20.512Z"
   },
   {
    "duration": 60,
    "start_time": "2023-04-09T01:39:20.849Z"
   },
   {
    "duration": 2378,
    "start_time": "2023-04-09T01:39:20.910Z"
   },
   {
    "duration": 385,
    "start_time": "2023-04-09T01:39:23.290Z"
   },
   {
    "duration": 99,
    "start_time": "2023-04-09T01:39:23.677Z"
   },
   {
    "duration": 502,
    "start_time": "2023-04-09T01:39:23.778Z"
   },
   {
    "duration": 499,
    "start_time": "2023-04-09T01:39:24.285Z"
   },
   {
    "duration": 7,
    "start_time": "2023-04-09T01:39:24.789Z"
   },
   {
    "duration": 6,
    "start_time": "2023-04-09T01:39:24.798Z"
   },
   {
    "duration": 68,
    "start_time": "2023-04-09T01:39:24.806Z"
   },
   {
    "duration": 3974,
    "start_time": "2023-04-09T01:42:18.957Z"
   },
   {
    "duration": 90,
    "start_time": "2023-04-09T01:42:22.933Z"
   },
   {
    "duration": 13,
    "start_time": "2023-04-09T01:42:29.285Z"
   },
   {
    "duration": 2,
    "start_time": "2023-04-09T01:42:38.061Z"
   },
   {
    "duration": 3765,
    "start_time": "2023-04-09T01:42:48.635Z"
   },
   {
    "duration": 7,
    "start_time": "2023-04-09T01:43:03.355Z"
   },
   {
    "duration": 533,
    "start_time": "2023-04-09T01:43:10.100Z"
   },
   {
    "duration": 428,
    "start_time": "2023-04-09T01:44:14.515Z"
   },
   {
    "duration": 4077,
    "start_time": "2023-04-09T01:44:17.638Z"
   },
   {
    "duration": 3,
    "start_time": "2023-04-09T01:44:39.427Z"
   },
   {
    "duration": 3380,
    "start_time": "2023-04-09T01:44:41.535Z"
   },
   {
    "duration": 13,
    "start_time": "2023-04-09T01:44:46.545Z"
   },
   {
    "duration": 3611,
    "start_time": "2023-04-09T01:45:00.910Z"
   },
   {
    "duration": 7,
    "start_time": "2023-04-09T01:45:05.150Z"
   },
   {
    "duration": 299,
    "start_time": "2023-04-09T01:45:09.376Z"
   },
   {
    "duration": 3267,
    "start_time": "2023-04-09T01:45:31.635Z"
   },
   {
    "duration": 5,
    "start_time": "2023-04-09T01:45:39.694Z"
   },
   {
    "duration": 11225,
    "start_time": "2023-04-22T01:15:54.305Z"
   },
   {
    "duration": 1438,
    "start_time": "2023-04-22T01:16:05.532Z"
   },
   {
    "duration": 3,
    "start_time": "2023-04-22T01:16:06.972Z"
   },
   {
    "duration": 8,
    "start_time": "2023-04-22T01:16:06.977Z"
   },
   {
    "duration": 93,
    "start_time": "2023-04-22T01:16:06.986Z"
   },
   {
    "duration": 13,
    "start_time": "2023-04-22T01:16:07.080Z"
   },
   {
    "duration": 570,
    "start_time": "2023-04-22T01:16:07.095Z"
   },
   {
    "duration": 12,
    "start_time": "2023-04-22T01:16:07.666Z"
   },
   {
    "duration": 6,
    "start_time": "2023-04-22T01:16:07.680Z"
   },
   {
    "duration": 5,
    "start_time": "2023-04-22T01:16:07.689Z"
   },
   {
    "duration": 536,
    "start_time": "2023-04-22T01:16:07.696Z"
   },
   {
    "duration": 5,
    "start_time": "2023-04-22T01:16:08.234Z"
   },
   {
    "duration": 183,
    "start_time": "2023-04-22T01:16:08.241Z"
   },
   {
    "duration": 6373,
    "start_time": "2023-04-22T01:16:37.387Z"
   },
   {
    "duration": 2529,
    "start_time": "2023-04-22T01:16:43.764Z"
   },
   {
    "duration": 3,
    "start_time": "2023-04-22T01:16:46.295Z"
   },
   {
    "duration": 14,
    "start_time": "2023-04-22T01:16:46.299Z"
   },
   {
    "duration": 112,
    "start_time": "2023-04-22T01:16:46.315Z"
   },
   {
    "duration": 13,
    "start_time": "2023-04-22T01:16:46.429Z"
   },
   {
    "duration": 591,
    "start_time": "2023-04-22T01:16:46.443Z"
   },
   {
    "duration": 11,
    "start_time": "2023-04-22T01:16:47.036Z"
   },
   {
    "duration": 40,
    "start_time": "2023-04-22T01:16:47.049Z"
   },
   {
    "duration": 24,
    "start_time": "2023-04-22T01:16:47.092Z"
   },
   {
    "duration": 494,
    "start_time": "2023-04-22T01:16:47.119Z"
   },
   {
    "duration": 3,
    "start_time": "2023-04-22T01:16:47.614Z"
   },
   {
    "duration": 183,
    "start_time": "2023-04-22T01:16:47.619Z"
   },
   {
    "duration": 2,
    "start_time": "2023-04-22T01:16:47.804Z"
   },
   {
    "duration": 9,
    "start_time": "2023-04-22T01:16:47.807Z"
   },
   {
    "duration": 9,
    "start_time": "2023-04-22T01:16:47.818Z"
   },
   {
    "duration": 9,
    "start_time": "2023-04-22T01:16:47.834Z"
   },
   {
    "duration": 39,
    "start_time": "2023-04-22T01:16:47.845Z"
   },
   {
    "duration": 11,
    "start_time": "2023-04-22T01:16:47.885Z"
   },
   {
    "duration": 8,
    "start_time": "2023-04-22T01:16:47.898Z"
   },
   {
    "duration": 27,
    "start_time": "2023-04-22T01:16:47.908Z"
   },
   {
    "duration": 7,
    "start_time": "2023-04-22T01:16:47.936Z"
   },
   {
    "duration": 91,
    "start_time": "2023-04-22T01:16:47.945Z"
   },
   {
    "duration": 542,
    "start_time": "2023-04-22T01:16:48.038Z"
   },
   {
    "duration": 2561,
    "start_time": "2023-04-22T01:16:48.582Z"
   },
   {
    "duration": 7566,
    "start_time": "2023-04-22T01:16:51.144Z"
   },
   {
    "duration": 410,
    "start_time": "2023-04-22T01:16:58.711Z"
   },
   {
    "duration": 2361,
    "start_time": "2023-04-22T01:16:59.134Z"
   },
   {
    "duration": 5364,
    "start_time": "2023-04-22T01:17:01.496Z"
   },
   {
    "duration": 335,
    "start_time": "2023-04-22T01:17:06.861Z"
   },
   {
    "duration": 10,
    "start_time": "2023-04-22T01:17:07.198Z"
   },
   {
    "duration": 10,
    "start_time": "2023-04-22T01:17:07.209Z"
   },
   {
    "duration": 3011,
    "start_time": "2023-04-22T01:17:07.220Z"
   },
   {
    "duration": 10524,
    "start_time": "2023-04-22T01:17:10.232Z"
   },
   {
    "duration": 362,
    "start_time": "2023-04-22T01:17:20.758Z"
   },
   {
    "duration": 2985,
    "start_time": "2023-04-22T01:17:21.122Z"
   },
   {
    "duration": 9710,
    "start_time": "2023-04-22T01:17:24.108Z"
   },
   {
    "duration": 355,
    "start_time": "2023-04-22T01:17:33.819Z"
   },
   {
    "duration": 38,
    "start_time": "2023-04-22T01:17:34.176Z"
   },
   {
    "duration": 3631,
    "start_time": "2023-04-22T01:17:34.215Z"
   },
   {
    "duration": 10668,
    "start_time": "2023-04-22T01:17:37.848Z"
   },
   {
    "duration": 393,
    "start_time": "2023-04-22T01:17:48.519Z"
   },
   {
    "duration": 4,
    "start_time": "2023-04-22T01:17:48.914Z"
   },
   {
    "duration": 15,
    "start_time": "2023-04-22T01:17:48.919Z"
   },
   {
    "duration": 3129,
    "start_time": "2023-04-22T01:17:48.936Z"
   },
   {
    "duration": 4,
    "start_time": "2023-04-22T01:17:52.067Z"
   },
   {
    "duration": 2624,
    "start_time": "2023-04-22T01:17:52.072Z"
   },
   {
    "duration": 9,
    "start_time": "2023-04-22T01:17:54.698Z"
   },
   {
    "duration": 410,
    "start_time": "2023-04-22T01:17:54.710Z"
   },
   {
    "duration": 3943,
    "start_time": "2023-04-22T01:17:55.122Z"
   },
   {
    "duration": 3,
    "start_time": "2023-04-22T01:17:59.067Z"
   },
   {
    "duration": 3825,
    "start_time": "2023-04-22T01:17:59.072Z"
   },
   {
    "duration": 6,
    "start_time": "2023-04-22T01:18:02.898Z"
   },
   {
    "duration": 318,
    "start_time": "2023-04-22T01:18:02.905Z"
   },
   {
    "duration": 12,
    "start_time": "2023-04-22T01:18:03.225Z"
   },
   {
    "duration": 16,
    "start_time": "2023-04-22T01:18:03.239Z"
   },
   {
    "duration": 479,
    "start_time": "2023-04-22T01:18:03.257Z"
   },
   {
    "duration": 344,
    "start_time": "2023-04-22T01:18:03.737Z"
   },
   {
    "duration": 52,
    "start_time": "2023-04-22T01:18:04.083Z"
   },
   {
    "duration": 2193,
    "start_time": "2023-04-22T01:18:04.136Z"
   },
   {
    "duration": 395,
    "start_time": "2023-04-22T01:18:06.331Z"
   },
   {
    "duration": 38,
    "start_time": "2023-04-22T01:18:06.734Z"
   },
   {
    "duration": 492,
    "start_time": "2023-04-22T01:18:06.836Z"
   },
   {
    "duration": 487,
    "start_time": "2023-04-22T01:18:07.335Z"
   },
   {
    "duration": 14,
    "start_time": "2023-04-22T01:18:07.823Z"
   },
   {
    "duration": 29,
    "start_time": "2023-04-22T01:18:07.839Z"
   },
   {
    "duration": 112,
    "start_time": "2023-04-22T01:21:04.817Z"
   },
   {
    "duration": 9,
    "start_time": "2023-04-22T01:21:47.656Z"
   },
   {
    "duration": 4489,
    "start_time": "2023-04-22T01:21:51.517Z"
   },
   {
    "duration": 3,
    "start_time": "2023-04-22T01:21:56.007Z"
   },
   {
    "duration": 3,
    "start_time": "2023-04-22T01:22:06.478Z"
   },
   {
    "duration": 3941,
    "start_time": "2023-04-22T01:22:09.001Z"
   },
   {
    "duration": 7,
    "start_time": "2023-04-22T01:22:12.944Z"
   },
   {
    "duration": 493,
    "start_time": "2023-04-22T01:22:13.293Z"
   },
   {
    "duration": 4,
    "start_time": "2023-04-22T01:22:42.809Z"
   },
   {
    "duration": 3561,
    "start_time": "2023-04-22T01:22:46.086Z"
   },
   {
    "duration": 7,
    "start_time": "2023-04-22T01:23:20.098Z"
   },
   {
    "duration": 7,
    "start_time": "2023-04-22T01:26:19.425Z"
   },
   {
    "duration": 5633,
    "start_time": "2023-04-22T01:26:21.053Z"
   },
   {
    "duration": 7,
    "start_time": "2023-04-22T01:26:26.689Z"
   },
   {
    "duration": 5214,
    "start_time": "2023-04-22T01:26:52.724Z"
   },
   {
    "duration": 6,
    "start_time": "2023-04-22T01:26:57.940Z"
   },
   {
    "duration": 4,
    "start_time": "2023-04-22T01:49:17.608Z"
   },
   {
    "duration": 13,
    "start_time": "2023-04-22T01:53:13.780Z"
   },
   {
    "duration": 11,
    "start_time": "2023-04-22T01:53:40.965Z"
   },
   {
    "duration": 5266,
    "start_time": "2023-04-22T01:53:49.359Z"
   },
   {
    "duration": 418,
    "start_time": "2023-04-22T01:54:08.718Z"
   },
   {
    "duration": 6239,
    "start_time": "2023-04-22T01:54:51.900Z"
   },
   {
    "duration": 5,
    "start_time": "2023-04-22T01:54:58.141Z"
   },
   {
    "duration": 10,
    "start_time": "2023-04-22T01:54:58.147Z"
   },
   {
    "duration": 7,
    "start_time": "2023-04-22T01:54:58.159Z"
   },
   {
    "duration": 57,
    "start_time": "2023-04-22T01:54:58.167Z"
   },
   {
    "duration": 13,
    "start_time": "2023-04-22T01:54:58.226Z"
   },
   {
    "duration": 574,
    "start_time": "2023-04-22T01:54:58.240Z"
   },
   {
    "duration": 22,
    "start_time": "2023-04-22T01:54:58.816Z"
   },
   {
    "duration": 11,
    "start_time": "2023-04-22T01:54:58.840Z"
   },
   {
    "duration": 10,
    "start_time": "2023-04-22T01:54:58.853Z"
   },
   {
    "duration": 538,
    "start_time": "2023-04-22T01:54:58.865Z"
   },
   {
    "duration": 3,
    "start_time": "2023-04-22T01:54:59.405Z"
   },
   {
    "duration": 191,
    "start_time": "2023-04-22T01:54:59.410Z"
   },
   {
    "duration": 3,
    "start_time": "2023-04-22T01:54:59.603Z"
   },
   {
    "duration": 31,
    "start_time": "2023-04-22T01:54:59.607Z"
   },
   {
    "duration": 22,
    "start_time": "2023-04-22T01:54:59.640Z"
   },
   {
    "duration": 11,
    "start_time": "2023-04-22T01:54:59.664Z"
   },
   {
    "duration": 40,
    "start_time": "2023-04-22T01:54:59.677Z"
   },
   {
    "duration": 44,
    "start_time": "2023-04-22T01:55:13.009Z"
   },
   {
    "duration": 10681,
    "start_time": "2023-04-22T01:56:05.132Z"
   },
   {
    "duration": 5,
    "start_time": "2023-04-22T01:57:25.030Z"
   },
   {
    "duration": 8,
    "start_time": "2023-04-22T01:57:33.409Z"
   },
   {
    "duration": 6,
    "start_time": "2023-04-22T01:57:54.645Z"
   },
   {
    "duration": 7,
    "start_time": "2023-04-22T01:57:55.824Z"
   },
   {
    "duration": 4,
    "start_time": "2023-04-22T01:58:05.865Z"
   },
   {
    "duration": 5,
    "start_time": "2023-04-22T01:58:09.638Z"
   },
   {
    "duration": 18,
    "start_time": "2023-04-22T01:58:49.469Z"
   },
   {
    "duration": 14,
    "start_time": "2023-04-22T01:59:10.157Z"
   },
   {
    "duration": 5,
    "start_time": "2023-04-22T01:59:30.589Z"
   },
   {
    "duration": 7,
    "start_time": "2023-04-22T01:59:31.614Z"
   },
   {
    "duration": 5,
    "start_time": "2023-04-22T02:00:02.301Z"
   },
   {
    "duration": 8,
    "start_time": "2023-04-22T02:00:02.855Z"
   },
   {
    "duration": 556,
    "start_time": "2023-04-22T02:00:04.961Z"
   },
   {
    "duration": 6038,
    "start_time": "2023-04-22T02:00:17.391Z"
   },
   {
    "duration": 5,
    "start_time": "2023-04-22T02:00:23.432Z"
   },
   {
    "duration": 22,
    "start_time": "2023-04-22T02:00:23.439Z"
   },
   {
    "duration": 17,
    "start_time": "2023-04-22T02:00:23.463Z"
   },
   {
    "duration": 59,
    "start_time": "2023-04-22T02:00:23.481Z"
   },
   {
    "duration": 12,
    "start_time": "2023-04-22T02:00:23.541Z"
   },
   {
    "duration": 559,
    "start_time": "2023-04-22T02:00:23.555Z"
   },
   {
    "duration": 18,
    "start_time": "2023-04-22T02:00:24.116Z"
   },
   {
    "duration": 3,
    "start_time": "2023-04-22T02:00:24.136Z"
   },
   {
    "duration": 6,
    "start_time": "2023-04-22T02:00:24.141Z"
   },
   {
    "duration": 628,
    "start_time": "2023-04-22T02:00:24.148Z"
   },
   {
    "duration": 3,
    "start_time": "2023-04-22T02:00:24.777Z"
   },
   {
    "duration": 179,
    "start_time": "2023-04-22T02:00:24.781Z"
   },
   {
    "duration": 2,
    "start_time": "2023-04-22T02:00:24.961Z"
   },
   {
    "duration": 6,
    "start_time": "2023-04-22T02:00:24.965Z"
   },
   {
    "duration": 13,
    "start_time": "2023-04-22T02:00:24.972Z"
   },
   {
    "duration": 11,
    "start_time": "2023-04-22T02:00:24.987Z"
   },
   {
    "duration": 46,
    "start_time": "2023-04-22T02:00:25.000Z"
   },
   {
    "duration": 9802,
    "start_time": "2023-04-22T02:00:28.071Z"
   },
   {
    "duration": 7,
    "start_time": "2023-04-22T02:00:56.230Z"
   },
   {
    "duration": 10,
    "start_time": "2023-04-22T02:01:10.453Z"
   },
   {
    "duration": 4,
    "start_time": "2023-04-22T02:01:37.602Z"
   },
   {
    "duration": 7,
    "start_time": "2023-04-22T02:01:38.939Z"
   },
   {
    "duration": 4,
    "start_time": "2023-04-22T02:01:44.425Z"
   },
   {
    "duration": 8,
    "start_time": "2023-04-22T02:01:45.335Z"
   },
   {
    "duration": 5,
    "start_time": "2023-04-22T02:01:53.819Z"
   },
   {
    "duration": 4,
    "start_time": "2023-04-22T02:02:01.163Z"
   },
   {
    "duration": 8,
    "start_time": "2023-04-22T02:02:02.130Z"
   },
   {
    "duration": 4,
    "start_time": "2023-04-22T02:02:05.378Z"
   },
   {
    "duration": 7,
    "start_time": "2023-04-22T02:02:06.278Z"
   },
   {
    "duration": 5,
    "start_time": "2023-04-22T02:03:00.516Z"
   },
   {
    "duration": 7,
    "start_time": "2023-04-22T02:03:01.251Z"
   },
   {
    "duration": 4,
    "start_time": "2023-04-22T02:03:17.875Z"
   },
   {
    "duration": 8,
    "start_time": "2023-04-22T02:03:18.447Z"
   },
   {
    "duration": 4,
    "start_time": "2023-04-22T02:03:26.393Z"
   },
   {
    "duration": 7,
    "start_time": "2023-04-22T02:03:26.962Z"
   },
   {
    "duration": 4,
    "start_time": "2023-04-22T02:03:33.279Z"
   },
   {
    "duration": 8,
    "start_time": "2023-04-22T02:03:35.047Z"
   },
   {
    "duration": 4,
    "start_time": "2023-04-22T02:04:49.099Z"
   },
   {
    "duration": 8,
    "start_time": "2023-04-22T02:04:50.259Z"
   },
   {
    "duration": 6559,
    "start_time": "2023-04-22T02:05:33.353Z"
   },
   {
    "duration": 4,
    "start_time": "2023-04-22T02:05:39.914Z"
   },
   {
    "duration": 6,
    "start_time": "2023-04-22T02:05:39.920Z"
   },
   {
    "duration": 5,
    "start_time": "2023-04-22T02:05:39.928Z"
   },
   {
    "duration": 71,
    "start_time": "2023-04-22T02:05:39.934Z"
   },
   {
    "duration": 12,
    "start_time": "2023-04-22T02:05:40.006Z"
   },
   {
    "duration": 598,
    "start_time": "2023-04-22T02:05:40.019Z"
   },
   {
    "duration": 20,
    "start_time": "2023-04-22T02:05:40.619Z"
   },
   {
    "duration": 5,
    "start_time": "2023-04-22T02:05:40.642Z"
   },
   {
    "duration": 6,
    "start_time": "2023-04-22T02:05:40.650Z"
   },
   {
    "duration": 529,
    "start_time": "2023-04-22T02:05:40.657Z"
   },
   {
    "duration": 4,
    "start_time": "2023-04-22T02:05:41.188Z"
   },
   {
    "duration": 214,
    "start_time": "2023-04-22T02:05:41.194Z"
   },
   {
    "duration": 3,
    "start_time": "2023-04-22T02:05:41.409Z"
   },
   {
    "duration": 6,
    "start_time": "2023-04-22T02:05:41.414Z"
   },
   {
    "duration": 14,
    "start_time": "2023-04-22T02:05:41.422Z"
   },
   {
    "duration": 22,
    "start_time": "2023-04-22T02:05:41.438Z"
   },
   {
    "duration": 39,
    "start_time": "2023-04-22T02:05:41.461Z"
   },
   {
    "duration": 18,
    "start_time": "2023-04-22T02:10:23.554Z"
   },
   {
    "duration": 1623,
    "start_time": "2023-04-22T02:10:44.292Z"
   },
   {
    "duration": 11579,
    "start_time": "2023-04-22T02:10:53.835Z"
   },
   {
    "duration": 40,
    "start_time": "2023-04-22T02:11:05.416Z"
   },
   {
    "duration": 11,
    "start_time": "2023-04-22T02:11:19.505Z"
   },
   {
    "duration": 4,
    "start_time": "2023-04-22T02:11:48.971Z"
   },
   {
    "duration": 3,
    "start_time": "2023-04-22T02:11:54.514Z"
   },
   {
    "duration": 6,
    "start_time": "2023-04-22T02:11:58.758Z"
   },
   {
    "duration": 6,
    "start_time": "2023-04-22T02:12:01.712Z"
   },
   {
    "duration": 7381,
    "start_time": "2023-04-22T02:16:32.240Z"
   },
   {
    "duration": 4,
    "start_time": "2023-04-22T02:16:43.492Z"
   },
   {
    "duration": 14,
    "start_time": "2023-04-22T02:16:45.044Z"
   },
   {
    "duration": 4,
    "start_time": "2023-04-22T02:17:27.767Z"
   },
   {
    "duration": 7,
    "start_time": "2023-04-22T02:17:28.584Z"
   },
   {
    "duration": 10784,
    "start_time": "2023-04-22T02:17:41.970Z"
   },
   {
    "duration": 4,
    "start_time": "2023-04-22T02:18:17.820Z"
   },
   {
    "duration": 14,
    "start_time": "2023-04-22T02:18:18.770Z"
   },
   {
    "duration": 4,
    "start_time": "2023-04-22T02:18:24.567Z"
   },
   {
    "duration": 7,
    "start_time": "2023-04-22T02:18:27.032Z"
   },
   {
    "duration": 8108,
    "start_time": "2023-04-22T02:18:36.728Z"
   },
   {
    "duration": 6,
    "start_time": "2023-04-22T02:18:54.141Z"
   },
   {
    "duration": 9,
    "start_time": "2023-04-22T02:18:54.877Z"
   },
   {
    "duration": 4,
    "start_time": "2023-04-22T02:19:01.323Z"
   },
   {
    "duration": 7,
    "start_time": "2023-04-22T02:19:02.053Z"
   },
   {
    "duration": 8788,
    "start_time": "2023-04-22T02:19:38.504Z"
   },
   {
    "duration": 5,
    "start_time": "2023-04-22T02:19:49.651Z"
   },
   {
    "duration": 10,
    "start_time": "2023-04-22T02:19:50.358Z"
   },
   {
    "duration": 4,
    "start_time": "2023-04-22T02:19:54.902Z"
   },
   {
    "duration": 6,
    "start_time": "2023-04-22T02:19:55.488Z"
   },
   {
    "duration": 11041,
    "start_time": "2023-04-22T02:20:00.879Z"
   },
   {
    "duration": 13,
    "start_time": "2023-04-22T02:20:11.923Z"
   },
   {
    "duration": 12,
    "start_time": "2023-04-22T02:20:11.943Z"
   },
   {
    "duration": 4,
    "start_time": "2023-04-22T02:20:19.508Z"
   },
   {
    "duration": 7,
    "start_time": "2023-04-22T02:20:19.993Z"
   },
   {
    "duration": 8230,
    "start_time": "2023-04-22T02:20:47.806Z"
   },
   {
    "duration": 4,
    "start_time": "2023-04-22T02:20:57.874Z"
   },
   {
    "duration": 10,
    "start_time": "2023-04-22T02:20:58.722Z"
   },
   {
    "duration": 4,
    "start_time": "2023-04-22T02:21:10.246Z"
   },
   {
    "duration": 6,
    "start_time": "2023-04-22T02:21:13.593Z"
   },
   {
    "duration": 13902,
    "start_time": "2023-06-14T19:49:06.459Z"
   },
   {
    "duration": 1452,
    "start_time": "2023-06-14T19:49:20.363Z"
   },
   {
    "duration": 3,
    "start_time": "2023-06-14T19:49:21.817Z"
   },
   {
    "duration": 12,
    "start_time": "2023-06-14T19:49:21.823Z"
   },
   {
    "duration": 189,
    "start_time": "2023-06-14T19:49:21.836Z"
   },
   {
    "duration": 12,
    "start_time": "2023-06-14T19:49:22.026Z"
   },
   {
    "duration": 589,
    "start_time": "2023-06-14T19:49:22.039Z"
   },
   {
    "duration": 11,
    "start_time": "2023-06-14T19:49:22.631Z"
   },
   {
    "duration": 11,
    "start_time": "2023-06-14T19:49:22.643Z"
   },
   {
    "duration": 11,
    "start_time": "2023-06-14T19:49:22.656Z"
   },
   {
    "duration": 518,
    "start_time": "2023-06-14T19:49:22.669Z"
   },
   {
    "duration": 4,
    "start_time": "2023-06-14T19:49:23.189Z"
   },
   {
    "duration": 182,
    "start_time": "2023-06-14T19:49:23.195Z"
   },
   {
    "duration": 3,
    "start_time": "2023-06-14T19:49:23.378Z"
   },
   {
    "duration": 22,
    "start_time": "2023-06-14T19:49:23.382Z"
   },
   {
    "duration": 23,
    "start_time": "2023-06-14T19:49:23.408Z"
   },
   {
    "duration": 21,
    "start_time": "2023-06-14T19:49:23.432Z"
   },
   {
    "duration": 38,
    "start_time": "2023-06-14T19:49:23.455Z"
   },
   {
    "duration": 16,
    "start_time": "2023-06-14T19:49:23.495Z"
   },
   {
    "duration": 4,
    "start_time": "2023-06-14T19:49:23.517Z"
   },
   {
    "duration": 7,
    "start_time": "2023-06-14T19:49:23.522Z"
   },
   {
    "duration": 8,
    "start_time": "2023-06-14T19:49:23.531Z"
   },
   {
    "duration": 70,
    "start_time": "2023-06-14T19:49:23.540Z"
   },
   {
    "duration": 494,
    "start_time": "2023-06-14T19:49:23.612Z"
   },
   {
    "duration": 2238,
    "start_time": "2023-06-14T19:49:24.111Z"
   },
   {
    "duration": 7232,
    "start_time": "2023-06-14T19:49:26.351Z"
   },
   {
    "duration": 388,
    "start_time": "2023-06-14T19:49:33.585Z"
   },
   {
    "duration": 2223,
    "start_time": "2023-06-14T19:49:33.977Z"
   },
   {
    "duration": 4994,
    "start_time": "2023-06-14T19:49:36.201Z"
   },
   {
    "duration": 324,
    "start_time": "2023-06-14T19:49:41.197Z"
   },
   {
    "duration": 11,
    "start_time": "2023-06-14T19:49:41.523Z"
   },
   {
    "duration": 11,
    "start_time": "2023-06-14T19:49:41.535Z"
   },
   {
    "duration": 2906,
    "start_time": "2023-06-14T19:49:41.547Z"
   },
   {
    "duration": 9516,
    "start_time": "2023-06-14T19:49:44.455Z"
   },
   {
    "duration": 383,
    "start_time": "2023-06-14T19:49:53.973Z"
   },
   {
    "duration": 3086,
    "start_time": "2023-06-14T19:49:54.357Z"
   },
   {
    "duration": 9627,
    "start_time": "2023-06-14T19:49:57.445Z"
   },
   {
    "duration": 349,
    "start_time": "2023-06-14T19:50:07.074Z"
   },
   {
    "duration": 38,
    "start_time": "2023-06-14T19:50:07.424Z"
   },
   {
    "duration": 3430,
    "start_time": "2023-06-14T19:50:07.464Z"
   },
   {
    "duration": 9872,
    "start_time": "2023-06-14T19:50:10.895Z"
   },
   {
    "duration": 403,
    "start_time": "2023-06-14T19:50:20.769Z"
   },
   {
    "duration": 4,
    "start_time": "2023-06-14T19:50:21.173Z"
   },
   {
    "duration": 22,
    "start_time": "2023-06-14T19:50:21.179Z"
   },
   {
    "duration": 4318,
    "start_time": "2023-06-14T19:50:21.203Z"
   },
   {
    "duration": 3,
    "start_time": "2023-06-14T19:50:25.522Z"
   },
   {
    "duration": 2838,
    "start_time": "2023-06-14T19:50:25.527Z"
   },
   {
    "duration": 6,
    "start_time": "2023-06-14T19:50:28.366Z"
   },
   {
    "duration": 402,
    "start_time": "2023-06-14T19:50:28.373Z"
   },
   {
    "duration": 5001,
    "start_time": "2023-06-14T19:50:28.777Z"
   },
   {
    "duration": 2,
    "start_time": "2023-06-14T19:50:33.780Z"
   },
   {
    "duration": 14,
    "start_time": "2023-06-14T19:50:33.784Z"
   },
   {
    "duration": 3982,
    "start_time": "2023-06-14T19:50:33.800Z"
   },
   {
    "duration": 5,
    "start_time": "2023-06-14T19:50:37.784Z"
   },
   {
    "duration": 337,
    "start_time": "2023-06-14T19:50:37.791Z"
   },
   {
    "duration": 5,
    "start_time": "2023-06-14T19:50:38.130Z"
   },
   {
    "duration": 15,
    "start_time": "2023-06-14T19:50:38.137Z"
   },
   {
    "duration": 449,
    "start_time": "2023-06-14T19:50:38.153Z"
   },
   {
    "duration": 363,
    "start_time": "2023-06-14T19:50:38.606Z"
   },
   {
    "duration": 50,
    "start_time": "2023-06-14T19:50:38.970Z"
   },
   {
    "duration": 2058,
    "start_time": "2023-06-14T19:50:39.022Z"
   },
   {
    "duration": 414,
    "start_time": "2023-06-14T19:50:41.082Z"
   },
   {
    "duration": 43,
    "start_time": "2023-06-14T19:50:41.498Z"
   },
   {
    "duration": 540,
    "start_time": "2023-06-14T19:50:41.544Z"
   },
   {
    "duration": 3,
    "start_time": "2023-06-14T19:50:42.086Z"
   },
   {
    "duration": 3759,
    "start_time": "2023-06-14T19:50:42.091Z"
   },
   {
    "duration": 6,
    "start_time": "2023-06-14T19:50:45.852Z"
   },
   {
    "duration": 5771,
    "start_time": "2023-06-14T19:50:45.859Z"
   },
   {
    "duration": 6,
    "start_time": "2023-06-14T19:50:51.632Z"
   },
   {
    "duration": 23,
    "start_time": "2023-06-14T19:50:51.639Z"
   },
   {
    "duration": 8436,
    "start_time": "2023-06-14T19:50:51.664Z"
   },
   {
    "duration": 19,
    "start_time": "2023-06-14T19:51:00.101Z"
   },
   {
    "duration": 18,
    "start_time": "2023-06-14T19:51:00.122Z"
   },
   {
    "duration": 38,
    "start_time": "2023-06-14T19:51:00.142Z"
   },
   {
    "duration": 43,
    "start_time": "2023-06-14T19:51:00.182Z"
   },
   {
    "duration": 42,
    "start_time": "2023-06-14T19:51:00.227Z"
   },
   {
    "duration": 151,
    "start_time": "2023-06-14T19:51:00.271Z"
   },
   {
    "duration": 0,
    "start_time": "2023-06-14T19:51:00.424Z"
   },
   {
    "duration": 0,
    "start_time": "2023-06-14T19:51:00.424Z"
   },
   {
    "duration": 4,
    "start_time": "2023-06-14T19:51:36.223Z"
   },
   {
    "duration": 5,
    "start_time": "2023-06-14T19:51:57.840Z"
   },
   {
    "duration": 7,
    "start_time": "2023-06-14T19:52:09.921Z"
   },
   {
    "duration": 16242,
    "start_time": "2023-09-22T13:58:46.424Z"
   },
   {
    "duration": 1629,
    "start_time": "2023-09-22T13:59:02.669Z"
   },
   {
    "duration": 4,
    "start_time": "2023-09-22T13:59:04.300Z"
   },
   {
    "duration": 52,
    "start_time": "2023-09-22T13:59:04.306Z"
   },
   {
    "duration": 257,
    "start_time": "2023-09-22T13:59:04.361Z"
   },
   {
    "duration": 20,
    "start_time": "2023-09-22T13:59:04.620Z"
   },
   {
    "duration": 695,
    "start_time": "2023-09-22T13:59:04.642Z"
   },
   {
    "duration": 23,
    "start_time": "2023-09-22T13:59:05.339Z"
   },
   {
    "duration": 629,
    "start_time": "2023-09-22T13:59:05.365Z"
   },
   {
    "duration": 4,
    "start_time": "2023-09-22T13:59:05.996Z"
   },
   {
    "duration": 8713,
    "start_time": "2023-09-22T13:59:41.856Z"
   },
   {
    "duration": 4174,
    "start_time": "2023-09-22T13:59:50.571Z"
   },
   {
    "duration": 3,
    "start_time": "2023-09-22T13:59:54.747Z"
   },
   {
    "duration": 22,
    "start_time": "2023-09-22T13:59:54.752Z"
   },
   {
    "duration": 269,
    "start_time": "2023-09-22T13:59:54.777Z"
   },
   {
    "duration": 22,
    "start_time": "2023-09-22T13:59:55.049Z"
   },
   {
    "duration": 755,
    "start_time": "2023-09-22T13:59:55.073Z"
   },
   {
    "duration": 30,
    "start_time": "2023-09-22T13:59:55.830Z"
   },
   {
    "duration": 588,
    "start_time": "2023-09-22T13:59:55.862Z"
   },
   {
    "duration": 5,
    "start_time": "2023-09-22T13:59:56.452Z"
   },
   {
    "duration": 65,
    "start_time": "2023-09-22T14:00:21.855Z"
   },
   {
    "duration": 60,
    "start_time": "2023-09-22T14:00:36.352Z"
   },
   {
    "duration": 5577,
    "start_time": "2023-09-22T14:00:58.550Z"
   },
   {
    "duration": 3524,
    "start_time": "2023-09-22T14:01:04.131Z"
   },
   {
    "duration": 4,
    "start_time": "2023-09-22T14:01:07.659Z"
   },
   {
    "duration": 13,
    "start_time": "2023-09-22T14:01:07.666Z"
   },
   {
    "duration": 225,
    "start_time": "2023-09-22T14:01:07.682Z"
   },
   {
    "duration": 17,
    "start_time": "2023-09-22T14:01:07.908Z"
   },
   {
    "duration": 711,
    "start_time": "2023-09-22T14:01:07.928Z"
   },
   {
    "duration": 21,
    "start_time": "2023-09-22T14:01:08.641Z"
   },
   {
    "duration": 591,
    "start_time": "2023-09-22T14:01:08.664Z"
   },
   {
    "duration": 5,
    "start_time": "2023-09-22T14:01:09.257Z"
   },
   {
    "duration": 42,
    "start_time": "2023-09-22T14:01:09.264Z"
   },
   {
    "duration": 68,
    "start_time": "2023-09-22T14:01:09.309Z"
   },
   {
    "duration": 15,
    "start_time": "2023-09-22T14:01:09.380Z"
   },
   {
    "duration": 18,
    "start_time": "2023-09-22T14:01:09.398Z"
   },
   {
    "duration": 9,
    "start_time": "2023-09-22T14:01:09.418Z"
   },
   {
    "duration": 31,
    "start_time": "2023-09-22T14:01:09.430Z"
   },
   {
    "duration": 92,
    "start_time": "2023-09-22T14:01:09.464Z"
   },
   {
    "duration": 599,
    "start_time": "2023-09-22T14:01:09.559Z"
   },
   {
    "duration": 3220,
    "start_time": "2023-09-22T14:01:10.161Z"
   },
   {
    "duration": 10658,
    "start_time": "2023-09-22T14:01:13.383Z"
   },
   {
    "duration": 523,
    "start_time": "2023-09-22T14:01:24.044Z"
   },
   {
    "duration": 3220,
    "start_time": "2023-09-22T14:01:24.569Z"
   },
   {
    "duration": 7206,
    "start_time": "2023-09-22T14:01:27.791Z"
   },
   {
    "duration": 442,
    "start_time": "2023-09-22T14:01:35.000Z"
   },
   {
    "duration": 22,
    "start_time": "2023-09-22T14:01:35.445Z"
   },
   {
    "duration": 15,
    "start_time": "2023-09-22T14:01:35.469Z"
   },
   {
    "duration": 4137,
    "start_time": "2023-09-22T14:01:35.486Z"
   },
   {
    "duration": 13493,
    "start_time": "2023-09-22T14:01:39.625Z"
   },
   {
    "duration": 465,
    "start_time": "2023-09-22T14:01:53.121Z"
   },
   {
    "duration": 4133,
    "start_time": "2023-09-22T14:01:53.589Z"
   },
   {
    "duration": 13788,
    "start_time": "2023-09-22T14:01:57.724Z"
   },
   {
    "duration": 431,
    "start_time": "2023-09-22T14:02:11.514Z"
   },
   {
    "duration": 47,
    "start_time": "2023-09-22T14:02:11.956Z"
   },
   {
    "duration": 10,
    "start_time": "2023-09-22T14:02:12.005Z"
   },
   {
    "duration": 19,
    "start_time": "2023-09-22T14:02:12.017Z"
   },
   {
    "duration": 23,
    "start_time": "2023-09-22T14:02:12.039Z"
   },
   {
    "duration": 5182,
    "start_time": "2023-09-22T14:02:12.065Z"
   },
   {
    "duration": 14460,
    "start_time": "2023-09-22T14:02:17.257Z"
   },
   {
    "duration": 450,
    "start_time": "2023-09-22T14:02:31.719Z"
   },
   {
    "duration": 5,
    "start_time": "2023-09-22T14:02:32.171Z"
   },
   {
    "duration": 8,
    "start_time": "2023-09-22T14:02:32.181Z"
   },
   {
    "duration": 4125,
    "start_time": "2023-09-22T14:02:32.191Z"
   },
   {
    "duration": 3,
    "start_time": "2023-09-22T14:02:36.318Z"
   },
   {
    "duration": 3444,
    "start_time": "2023-09-22T14:02:36.322Z"
   },
   {
    "duration": 8,
    "start_time": "2023-09-22T14:02:39.768Z"
   },
   {
    "duration": 531,
    "start_time": "2023-09-22T14:02:39.778Z"
   },
   {
    "duration": 5602,
    "start_time": "2023-09-22T14:02:40.311Z"
   },
   {
    "duration": 3,
    "start_time": "2023-09-22T14:02:45.916Z"
   },
   {
    "duration": 38,
    "start_time": "2023-09-22T14:02:45.920Z"
   },
   {
    "duration": 5048,
    "start_time": "2023-09-22T14:02:45.960Z"
   },
   {
    "duration": 9,
    "start_time": "2023-09-22T14:02:51.010Z"
   },
   {
    "duration": 471,
    "start_time": "2023-09-22T14:02:51.021Z"
   },
   {
    "duration": 8,
    "start_time": "2023-09-22T14:02:51.495Z"
   },
   {
    "duration": 33,
    "start_time": "2023-09-22T14:02:51.505Z"
   },
   {
    "duration": 656,
    "start_time": "2023-09-22T14:02:51.541Z"
   },
   {
    "duration": 426,
    "start_time": "2023-09-22T14:02:52.199Z"
   },
   {
    "duration": 61,
    "start_time": "2023-09-22T14:02:52.627Z"
   },
   {
    "duration": 3043,
    "start_time": "2023-09-22T14:02:52.691Z"
   },
   {
    "duration": 459,
    "start_time": "2023-09-22T14:02:55.736Z"
   },
   {
    "duration": 63,
    "start_time": "2023-09-22T14:02:56.196Z"
   },
   {
    "duration": 662,
    "start_time": "2023-09-22T14:02:56.263Z"
   },
   {
    "duration": 4,
    "start_time": "2023-09-22T14:02:56.927Z"
   },
   {
    "duration": 4523,
    "start_time": "2023-09-22T14:02:56.933Z"
   },
   {
    "duration": 9,
    "start_time": "2023-09-22T14:03:01.458Z"
   },
   {
    "duration": 6353,
    "start_time": "2023-09-22T14:03:01.468Z"
   },
   {
    "duration": 7,
    "start_time": "2023-09-22T14:03:07.823Z"
   },
   {
    "duration": 12,
    "start_time": "2023-09-22T14:03:07.832Z"
   },
   {
    "duration": 29,
    "start_time": "2023-09-22T14:03:07.856Z"
   },
   {
    "duration": 58,
    "start_time": "2023-09-22T14:04:59.500Z"
   },
   {
    "duration": 2639,
    "start_time": "2023-09-22T14:07:49.055Z"
   },
   {
    "duration": 1518,
    "start_time": "2023-09-22T14:07:51.697Z"
   },
   {
    "duration": 3,
    "start_time": "2023-09-22T14:07:53.217Z"
   },
   {
    "duration": 32,
    "start_time": "2023-09-22T14:07:53.223Z"
   },
   {
    "duration": 70,
    "start_time": "2023-09-22T14:07:53.269Z"
   },
   {
    "duration": 18,
    "start_time": "2023-09-22T14:07:53.341Z"
   },
   {
    "duration": 738,
    "start_time": "2023-09-22T14:07:53.369Z"
   },
   {
    "duration": 13,
    "start_time": "2023-09-22T14:07:54.109Z"
   },
   {
    "duration": 566,
    "start_time": "2023-09-22T14:07:54.123Z"
   },
   {
    "duration": 6,
    "start_time": "2023-09-22T14:07:54.692Z"
   },
   {
    "duration": 31,
    "start_time": "2023-09-22T14:07:54.700Z"
   },
   {
    "duration": 80,
    "start_time": "2023-09-22T14:07:54.734Z"
   },
   {
    "duration": 17,
    "start_time": "2023-09-22T14:07:54.816Z"
   },
   {
    "duration": 37,
    "start_time": "2023-09-22T14:07:54.835Z"
   },
   {
    "duration": 28,
    "start_time": "2023-09-22T14:07:54.875Z"
   },
   {
    "duration": 50,
    "start_time": "2023-09-22T14:07:54.905Z"
   },
   {
    "duration": 106,
    "start_time": "2023-09-22T14:07:54.956Z"
   },
   {
    "duration": 666,
    "start_time": "2023-09-22T14:07:55.070Z"
   },
   {
    "duration": 3308,
    "start_time": "2023-09-22T14:07:55.738Z"
   },
   {
    "duration": 11069,
    "start_time": "2023-09-22T14:07:59.049Z"
   },
   {
    "duration": 504,
    "start_time": "2023-09-22T14:08:10.120Z"
   },
   {
    "duration": 3145,
    "start_time": "2023-09-22T14:08:10.626Z"
   },
   {
    "duration": 7055,
    "start_time": "2023-09-22T14:08:13.774Z"
   },
   {
    "duration": 437,
    "start_time": "2023-09-22T14:08:20.831Z"
   },
   {
    "duration": 21,
    "start_time": "2023-09-22T14:08:21.271Z"
   },
   {
    "duration": 18,
    "start_time": "2023-09-22T14:08:21.294Z"
   },
   {
    "duration": 3990,
    "start_time": "2023-09-22T14:08:21.314Z"
   },
   {
    "duration": 13352,
    "start_time": "2023-09-22T14:08:25.307Z"
   },
   {
    "duration": 504,
    "start_time": "2023-09-22T14:08:38.661Z"
   },
   {
    "duration": 4225,
    "start_time": "2023-09-22T14:08:39.167Z"
   },
   {
    "duration": 13328,
    "start_time": "2023-09-22T14:08:43.394Z"
   },
   {
    "duration": 448,
    "start_time": "2023-09-22T14:08:56.724Z"
   },
   {
    "duration": 41,
    "start_time": "2023-09-22T14:08:57.175Z"
   },
   {
    "duration": 5,
    "start_time": "2023-09-22T14:08:57.218Z"
   },
   {
    "duration": 25,
    "start_time": "2023-09-22T14:08:57.224Z"
   },
   {
    "duration": 16,
    "start_time": "2023-09-22T14:08:57.269Z"
   },
   {
    "duration": 5186,
    "start_time": "2023-09-22T14:08:57.286Z"
   },
   {
    "duration": 14389,
    "start_time": "2023-09-22T14:09:02.474Z"
   },
   {
    "duration": 476,
    "start_time": "2023-09-22T14:09:16.870Z"
   },
   {
    "duration": 12,
    "start_time": "2023-09-22T14:09:17.358Z"
   },
   {
    "duration": 20,
    "start_time": "2023-09-22T14:09:17.372Z"
   },
   {
    "duration": 679,
    "start_time": "2023-09-22T14:09:17.395Z"
   },
   {
    "duration": 604,
    "start_time": "2023-09-22T14:09:18.076Z"
   },
   {
    "duration": 85,
    "start_time": "2023-09-22T14:09:18.682Z"
   },
   {
    "duration": 3189,
    "start_time": "2023-09-22T14:09:18.770Z"
   },
   {
    "duration": 467,
    "start_time": "2023-09-22T14:09:21.961Z"
   },
   {
    "duration": 126,
    "start_time": "2023-09-22T14:09:22.429Z"
   },
   {
    "duration": 568,
    "start_time": "2023-09-22T14:09:22.557Z"
   },
   {
    "duration": 41,
    "start_time": "2023-09-22T14:09:23.128Z"
   },
   {
    "duration": 27,
    "start_time": "2023-09-22T14:10:12.737Z"
   }
  ],
  "kernelspec": {
   "display_name": "Python 3 (ipykernel)",
   "language": "python",
   "name": "python3"
  },
  "language_info": {
   "codemirror_mode": {
    "name": "ipython",
    "version": 3
   },
   "file_extension": ".py",
   "mimetype": "text/x-python",
   "name": "python",
   "nbconvert_exporter": "python",
   "pygments_lexer": "ipython3",
   "version": "3.9.13"
  },
  "toc": {
   "base_numbering": 1,
   "nav_menu": {},
   "number_sections": true,
   "sideBar": true,
   "skip_h1_title": true,
   "title_cell": "Содержание",
   "title_sidebar": "Contents",
   "toc_cell": true,
   "toc_position": {
    "height": "calc(100% - 180px)",
    "left": "10px",
    "top": "150px",
    "width": "331.25px"
   },
   "toc_section_display": true,
   "toc_window_display": true
  }
 },
 "nbformat": 4,
 "nbformat_minor": 2
}
